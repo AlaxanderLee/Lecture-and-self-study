{
  "nbformat": 4,
  "nbformat_minor": 0,
  "metadata": {
    "colab": {
      "name": "CHAPTER5 모델 평가와 성능 향상.ipynb",
      "provenance": [],
      "collapsed_sections": [],
      "toc_visible": true,
      "authorship_tag": "ABX9TyNbSa0pFyPowwhN4jJ9K/y3",
      "include_colab_link": true
    },
    "kernelspec": {
      "name": "python3",
      "display_name": "Python 3"
    },
    "language_info": {
      "name": "python"
    }
  },
  "cells": [
    {
      "cell_type": "markdown",
      "metadata": {
        "id": "view-in-github",
        "colab_type": "text"
      },
      "source": [
        "<a href=\"https://colab.research.google.com/github/LeeSeungwon89/Machine-learning_Theory/blob/master/CHAPTER5%20%EB%AA%A8%EB%8D%B8%20%ED%8F%89%EA%B0%80%EC%99%80%20%EC%84%B1%EB%8A%A5%20%ED%96%A5%EC%83%81.ipynb\" target=\"_parent\"><img src=\"https://colab.research.google.com/assets/colab-badge.svg\" alt=\"Open In Colab\"/></a>"
      ]
    },
    {
      "cell_type": "markdown",
      "metadata": {
        "id": "8jyIst5u5lpF"
      },
      "source": [
        "# 들어가며\n",
        "\n",
        "지도 학습 모델을 평가하고자 `train_test_split` 함수를 사용해서 두 세트로 나눴습니다. 그리고 모델을 만들기 위해 훈련 세트에 `fit` 메서드를 적용했습니다. 모델을 평가하기 위해 테스트 세트에 `score` 메서드를 사용했습니다. 분류 문제의 경우에 `score` 메서드는 정확하게 분류된 샘플의 비율을 계산합니다."
      ]
    },
    {
      "cell_type": "code",
      "metadata": {
        "colab": {
          "base_uri": "https://localhost:8080/"
        },
        "id": "9uX4XV97BSXA",
        "outputId": "c17bdf6d-d5d9-47af-b991-80216bd91fbc"
      },
      "source": [
        "pip install mglearn"
      ],
      "execution_count": 1,
      "outputs": [
        {
          "output_type": "stream",
          "text": [
            "Collecting mglearn\n",
            "  Downloading mglearn-0.1.9.tar.gz (540 kB)\n",
            "\u001b[?25l\r\u001b[K     |▋                               | 10 kB 20.0 MB/s eta 0:00:01\r\u001b[K     |█▏                              | 20 kB 26.2 MB/s eta 0:00:01\r\u001b[K     |█▉                              | 30 kB 13.1 MB/s eta 0:00:01\r\u001b[K     |██▍                             | 40 kB 9.8 MB/s eta 0:00:01\r\u001b[K     |███                             | 51 kB 5.5 MB/s eta 0:00:01\r\u001b[K     |███▋                            | 61 kB 6.0 MB/s eta 0:00:01\r\u001b[K     |████▎                           | 71 kB 5.8 MB/s eta 0:00:01\r\u001b[K     |████▉                           | 81 kB 6.5 MB/s eta 0:00:01\r\u001b[K     |█████▌                          | 92 kB 4.9 MB/s eta 0:00:01\r\u001b[K     |██████                          | 102 kB 5.3 MB/s eta 0:00:01\r\u001b[K     |██████▊                         | 112 kB 5.3 MB/s eta 0:00:01\r\u001b[K     |███████▎                        | 122 kB 5.3 MB/s eta 0:00:01\r\u001b[K     |███████▉                        | 133 kB 5.3 MB/s eta 0:00:01\r\u001b[K     |████████▌                       | 143 kB 5.3 MB/s eta 0:00:01\r\u001b[K     |█████████                       | 153 kB 5.3 MB/s eta 0:00:01\r\u001b[K     |█████████▊                      | 163 kB 5.3 MB/s eta 0:00:01\r\u001b[K     |██████████▎                     | 174 kB 5.3 MB/s eta 0:00:01\r\u001b[K     |███████████                     | 184 kB 5.3 MB/s eta 0:00:01\r\u001b[K     |███████████▌                    | 194 kB 5.3 MB/s eta 0:00:01\r\u001b[K     |████████████▏                   | 204 kB 5.3 MB/s eta 0:00:01\r\u001b[K     |████████████▊                   | 215 kB 5.3 MB/s eta 0:00:01\r\u001b[K     |█████████████▍                  | 225 kB 5.3 MB/s eta 0:00:01\r\u001b[K     |██████████████                  | 235 kB 5.3 MB/s eta 0:00:01\r\u001b[K     |██████████████▋                 | 245 kB 5.3 MB/s eta 0:00:01\r\u001b[K     |███████████████▏                | 256 kB 5.3 MB/s eta 0:00:01\r\u001b[K     |███████████████▊                | 266 kB 5.3 MB/s eta 0:00:01\r\u001b[K     |████████████████▍               | 276 kB 5.3 MB/s eta 0:00:01\r\u001b[K     |█████████████████               | 286 kB 5.3 MB/s eta 0:00:01\r\u001b[K     |█████████████████▋              | 296 kB 5.3 MB/s eta 0:00:01\r\u001b[K     |██████████████████▏             | 307 kB 5.3 MB/s eta 0:00:01\r\u001b[K     |██████████████████▉             | 317 kB 5.3 MB/s eta 0:00:01\r\u001b[K     |███████████████████▍            | 327 kB 5.3 MB/s eta 0:00:01\r\u001b[K     |████████████████████            | 337 kB 5.3 MB/s eta 0:00:01\r\u001b[K     |████████████████████▋           | 348 kB 5.3 MB/s eta 0:00:01\r\u001b[K     |█████████████████████▎          | 358 kB 5.3 MB/s eta 0:00:01\r\u001b[K     |█████████████████████▉          | 368 kB 5.3 MB/s eta 0:00:01\r\u001b[K     |██████████████████████▌         | 378 kB 5.3 MB/s eta 0:00:01\r\u001b[K     |███████████████████████         | 389 kB 5.3 MB/s eta 0:00:01\r\u001b[K     |███████████████████████▋        | 399 kB 5.3 MB/s eta 0:00:01\r\u001b[K     |████████████████████████▎       | 409 kB 5.3 MB/s eta 0:00:01\r\u001b[K     |████████████████████████▉       | 419 kB 5.3 MB/s eta 0:00:01\r\u001b[K     |█████████████████████████▌      | 430 kB 5.3 MB/s eta 0:00:01\r\u001b[K     |██████████████████████████      | 440 kB 5.3 MB/s eta 0:00:01\r\u001b[K     |██████████████████████████▊     | 450 kB 5.3 MB/s eta 0:00:01\r\u001b[K     |███████████████████████████▎    | 460 kB 5.3 MB/s eta 0:00:01\r\u001b[K     |████████████████████████████    | 471 kB 5.3 MB/s eta 0:00:01\r\u001b[K     |████████████████████████████▌   | 481 kB 5.3 MB/s eta 0:00:01\r\u001b[K     |█████████████████████████████▏  | 491 kB 5.3 MB/s eta 0:00:01\r\u001b[K     |█████████████████████████████▊  | 501 kB 5.3 MB/s eta 0:00:01\r\u001b[K     |██████████████████████████████▍ | 512 kB 5.3 MB/s eta 0:00:01\r\u001b[K     |███████████████████████████████ | 522 kB 5.3 MB/s eta 0:00:01\r\u001b[K     |███████████████████████████████▌| 532 kB 5.3 MB/s eta 0:00:01\r\u001b[K     |████████████████████████████████| 540 kB 5.3 MB/s \n",
            "\u001b[?25hRequirement already satisfied: numpy in /usr/local/lib/python3.7/dist-packages (from mglearn) (1.19.5)\n",
            "Requirement already satisfied: matplotlib in /usr/local/lib/python3.7/dist-packages (from mglearn) (3.2.2)\n",
            "Requirement already satisfied: scikit-learn in /usr/local/lib/python3.7/dist-packages (from mglearn) (0.22.2.post1)\n",
            "Requirement already satisfied: pandas in /usr/local/lib/python3.7/dist-packages (from mglearn) (1.1.5)\n",
            "Requirement already satisfied: pillow in /usr/local/lib/python3.7/dist-packages (from mglearn) (7.1.2)\n",
            "Requirement already satisfied: cycler in /usr/local/lib/python3.7/dist-packages (from mglearn) (0.10.0)\n",
            "Requirement already satisfied: imageio in /usr/local/lib/python3.7/dist-packages (from mglearn) (2.4.1)\n",
            "Requirement already satisfied: joblib in /usr/local/lib/python3.7/dist-packages (from mglearn) (1.0.1)\n",
            "Requirement already satisfied: six in /usr/local/lib/python3.7/dist-packages (from cycler->mglearn) (1.15.0)\n",
            "Requirement already satisfied: python-dateutil>=2.1 in /usr/local/lib/python3.7/dist-packages (from matplotlib->mglearn) (2.8.2)\n",
            "Requirement already satisfied: kiwisolver>=1.0.1 in /usr/local/lib/python3.7/dist-packages (from matplotlib->mglearn) (1.3.1)\n",
            "Requirement already satisfied: pyparsing!=2.0.4,!=2.1.2,!=2.1.6,>=2.0.1 in /usr/local/lib/python3.7/dist-packages (from matplotlib->mglearn) (2.4.7)\n",
            "Requirement already satisfied: pytz>=2017.2 in /usr/local/lib/python3.7/dist-packages (from pandas->mglearn) (2018.9)\n",
            "Requirement already satisfied: scipy>=0.17.0 in /usr/local/lib/python3.7/dist-packages (from scikit-learn->mglearn) (1.4.1)\n",
            "Building wheels for collected packages: mglearn\n",
            "  Building wheel for mglearn (setup.py) ... \u001b[?25l\u001b[?25hdone\n",
            "  Created wheel for mglearn: filename=mglearn-0.1.9-py2.py3-none-any.whl size=582637 sha256=74d4d67fb189f489d67d9ff3e4b1762ae63b6582e054fd4426251d4ef3b398ee\n",
            "  Stored in directory: /root/.cache/pip/wheels/f1/17/e1/1720d6dcd70187b6b6c3750cb3508798f2b1d57c9d3214b08b\n",
            "Successfully built mglearn\n",
            "Installing collected packages: mglearn\n",
            "Successfully installed mglearn-0.1.9\n"
          ],
          "name": "stdout"
        }
      ]
    },
    {
      "cell_type": "code",
      "metadata": {
        "id": "PrEQktLxBGUo"
      },
      "source": [
        "from IPython.display import display\n",
        "import numpy as np\n",
        "import matplotlib.pyplot as plt\n",
        "import pandas as pd\n",
        "import mglearn\n",
        "%matplotlib inline"
      ],
      "execution_count": 2,
      "outputs": []
    },
    {
      "cell_type": "code",
      "metadata": {
        "colab": {
          "base_uri": "https://localhost:8080/"
        },
        "id": "Jx-Sm6zdBcJA",
        "outputId": "7bb97b15-456b-4a6c-cea7-9abb46d143da"
      },
      "source": [
        "from sklearn.datasets import make_blobs\n",
        "from sklearn.linear_model import LogisticRegression\n",
        "from sklearn.model_selection import train_test_split\n",
        "\n",
        "X, y = make_blobs(random_state=0)\n",
        "X_train, X_test, y_train, y_test = train_test_split(X, y, random_state=0)\n",
        "logreg = LogisticRegression().fit(X_train, y_train)\n",
        "print('테스트 세트 점수: {:.2f}'.format(logreg.score(X_test, y_test)))"
      ],
      "execution_count": 3,
      "outputs": [
        {
          "output_type": "stream",
          "text": [
            "테스트 세트 점수: 0.88\n"
          ],
          "name": "stdout"
        }
      ]
    },
    {
      "cell_type": "markdown",
      "metadata": {
        "id": "A_13OKNzCGWC"
      },
      "source": [
        "익숙한 코드 형식입니다. 새로운 데이터에 모델이 얼마나 잘 일반화되는지 측정할 목적으로 데이터를 훈련 세트와 테스트 세트로 나눕니다. 모델이 훈련 세트에 잘 맞는 것보다 학습 과정에 없던 데이터에 대해 예측을 얼마나 잘 하느냐가 중요합니다. 무엇보다도 과대적합과 과소적합을 방지하면서 균형점을 지진 최적의 모델을 형성해야 합니다.\n",
        "\n",
        "이번 챕터에서는 두 가지 관점에서 이 평가 방법을 확장합니다. 먼저 안정적인 일반화 성능 측정 방법인 '교차 검증'에 대해 설명합니다. `score` 메서도가 제공하는 정확도와 $R^2$ 값 이외에 분류와 회귀 성능을 측정하는 다른 방법도 설명합니다. 아울러 최적의 일반화 성능을 얻을 목적으로 매개변수를 조정하는 데 유용한 '그리드 서치'에 대해서도 설명합니다."
      ]
    },
    {
      "cell_type": "markdown",
      "metadata": {
        "id": "lIQUqDO_Q7UV"
      },
      "source": [
        "# 5.1 교차 검증"
      ]
    },
    {
      "cell_type": "markdown",
      "metadata": {
        "id": "ZfxMPAB9Q7XZ"
      },
      "source": [
        "## 5.1.1 scikit-learn의 교차 검증"
      ]
    },
    {
      "cell_type": "markdown",
      "metadata": {
        "id": "ZOb3hxT2Q7bJ"
      },
      "source": [
        "## 5.1.2 교차 검증의 장점"
      ]
    },
    {
      "cell_type": "markdown",
      "metadata": {
        "id": "BMPwLP1SQ7fG"
      },
      "source": [
        "## 5.1.3 계층별 k-겹 교차 검증과 그외 전략들"
      ]
    },
    {
      "cell_type": "markdown",
      "metadata": {
        "id": "jj9MijeWQ7he"
      },
      "source": [
        "### 교차 검증 상세 옵션"
      ]
    },
    {
      "cell_type": "markdown",
      "metadata": {
        "id": "wADK5jefQ7jP"
      },
      "source": [
        "### LOOCV"
      ]
    },
    {
      "cell_type": "markdown",
      "metadata": {
        "id": "vUEjAEKrQ7lG"
      },
      "source": [
        "### 임의 분할 교차 검증"
      ]
    },
    {
      "cell_type": "markdown",
      "metadata": {
        "id": "mYvxzAosQ7m1"
      },
      "source": [
        "### 그룹별 교차 검증"
      ]
    },
    {
      "cell_type": "markdown",
      "metadata": {
        "id": "q4SaJ2LBQ7pM"
      },
      "source": [
        "## 5.1.4 반복 교차 검증"
      ]
    },
    {
      "cell_type": "markdown",
      "metadata": {
        "id": "gQ-i8Z_6Q7rH"
      },
      "source": [
        "# 5.2 그리드 서치"
      ]
    },
    {
      "cell_type": "markdown",
      "metadata": {
        "id": "eT6NTEYqQ7sm"
      },
      "source": [
        "## 5.2.1 간단한 그리드 서치"
      ]
    },
    {
      "cell_type": "markdown",
      "metadata": {
        "id": "dKQrwzNMR3uM"
      },
      "source": [
        "## 5.2.2 매개변수 과대적합과 검증 세트"
      ]
    },
    {
      "cell_type": "markdown",
      "metadata": {
        "id": "OHetYav6R3ru"
      },
      "source": [
        "## 5.2.3 교차 검증을 사용한 그리드 서치"
      ]
    },
    {
      "cell_type": "markdown",
      "metadata": {
        "id": "kz-iN1evR3pG"
      },
      "source": [
        "### 교차 검증 결과 분석"
      ]
    },
    {
      "cell_type": "markdown",
      "metadata": {
        "id": "mPTcVaafR3a_"
      },
      "source": [
        "### 비대칭 매개변수 그리드 탐색"
      ]
    },
    {
      "cell_type": "markdown",
      "metadata": {
        "id": "KFoqWswmR3Xb"
      },
      "source": [
        "### 그리드 서치에 다양한 교차 검증 적용"
      ]
    },
    {
      "cell_type": "markdown",
      "metadata": {
        "id": "xSLAGi8WR3Vm"
      },
      "source": [
        "### 중첩 교차 검증"
      ]
    },
    {
      "cell_type": "markdown",
      "metadata": {
        "id": "bWPsZeUYR3Tf"
      },
      "source": [
        "### 교차 검증과 그리드 서치 병렬화"
      ]
    },
    {
      "cell_type": "markdown",
      "metadata": {
        "id": "70nCqrxSR3Q-"
      },
      "source": [
        "# 5.2 평가 지표와 측정"
      ]
    },
    {
      "cell_type": "markdown",
      "metadata": {
        "id": "JcfbKxKWR3Nn"
      },
      "source": [
        "## 5.3.1 최종 목표를 기억하라"
      ]
    },
    {
      "cell_type": "markdown",
      "metadata": {
        "id": "2d2QYubZR3KR"
      },
      "source": [
        "## 5.3.2 이진 분류의 평가 지표"
      ]
    },
    {
      "cell_type": "markdown",
      "metadata": {
        "id": "L4Aa4WhVR3HR"
      },
      "source": [
        "### 에러의 종류"
      ]
    },
    {
      "cell_type": "markdown",
      "metadata": {
        "id": "O-NRDEPsR3Ea"
      },
      "source": [
        "### 불균형 데이터셋"
      ]
    },
    {
      "cell_type": "markdown",
      "metadata": {
        "id": "qVPv_mbmR3Bl"
      },
      "source": [
        "### 오차 행렬"
      ]
    },
    {
      "cell_type": "markdown",
      "metadata": {
        "id": "a2eIEc33R2hu"
      },
      "source": [
        "#### 정확도와의 관계"
      ]
    },
    {
      "cell_type": "markdown",
      "metadata": {
        "id": "eIQLlhQDSmiV"
      },
      "source": [
        "#### 정밀도, 재현율, f-점수"
      ]
    },
    {
      "cell_type": "markdown",
      "metadata": {
        "id": "Mcm-wH7MSmfm"
      },
      "source": [
        "### 불확실성 고려"
      ]
    },
    {
      "cell_type": "markdown",
      "metadata": {
        "id": "BWPkC9Q6Smcu"
      },
      "source": [
        "### 정밀도-재현율 곡선과 ROC 곡선"
      ]
    },
    {
      "cell_type": "markdown",
      "metadata": {
        "id": "5sZTEKtUSmag"
      },
      "source": [
        "### ROC와 AUC"
      ]
    },
    {
      "cell_type": "markdown",
      "metadata": {
        "id": "Vs67qtVCSmYY"
      },
      "source": [
        "## 5.3.3 다중 분류의 평가 지표"
      ]
    },
    {
      "cell_type": "markdown",
      "metadata": {
        "id": "Mt8NNyQZSmVC"
      },
      "source": [
        "## 5.3.4 회귀의 평가 지표"
      ]
    },
    {
      "cell_type": "markdown",
      "metadata": {
        "id": "_RKed4sQSmSJ"
      },
      "source": [
        "## 5.3.5 모델 선택에서 평가 지표 사용하기"
      ]
    },
    {
      "cell_type": "markdown",
      "metadata": {
        "id": "6jIg56OESmPx"
      },
      "source": [
        "# 5.4 요약 및 정리"
      ]
    }
  ]
}