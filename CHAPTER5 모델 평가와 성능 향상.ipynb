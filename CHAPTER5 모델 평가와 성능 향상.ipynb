{
  "nbformat": 4,
  "nbformat_minor": 0,
  "metadata": {
    "colab": {
      "name": "CHAPTER5 모델 평가와 성능 향상.ipynb",
      "provenance": [],
      "collapsed_sections": [],
      "toc_visible": true,
      "authorship_tag": "ABX9TyO/hDdhrtGp5awdIV4kSklj",
      "include_colab_link": true
    },
    "kernelspec": {
      "name": "python3",
      "display_name": "Python 3"
    },
    "language_info": {
      "name": "python"
    }
  },
  "cells": [
    {
      "cell_type": "markdown",
      "metadata": {
        "id": "view-in-github",
        "colab_type": "text"
      },
      "source": [
        "<a href=\"https://colab.research.google.com/github/LeeSeungwon89/Machine-learning_Theory/blob/master/CHAPTER5%20%EB%AA%A8%EB%8D%B8%20%ED%8F%89%EA%B0%80%EC%99%80%20%EC%84%B1%EB%8A%A5%20%ED%96%A5%EC%83%81.ipynb\" target=\"_parent\"><img src=\"https://colab.research.google.com/assets/colab-badge.svg\" alt=\"Open In Colab\"/></a>"
      ]
    },
    {
      "cell_type": "markdown",
      "metadata": {
        "id": "8jyIst5u5lpF"
      },
      "source": [
        "# 들어가며\n",
        "\n",
        "잠시 휴식"
      ]
    },
    {
      "cell_type": "markdown",
      "metadata": {
        "id": "lIQUqDO_Q7UV"
      },
      "source": [
        "# 5.1 교차 검증"
      ]
    },
    {
      "cell_type": "markdown",
      "metadata": {
        "id": "ZfxMPAB9Q7XZ"
      },
      "source": [
        "## 5.1.1 scikit-learn의 교차 검증"
      ]
    },
    {
      "cell_type": "markdown",
      "metadata": {
        "id": "ZOb3hxT2Q7bJ"
      },
      "source": [
        "## 5.1.2 교차 검증의 장점"
      ]
    },
    {
      "cell_type": "markdown",
      "metadata": {
        "id": "BMPwLP1SQ7fG"
      },
      "source": [
        "## 5.1.3 계층별 k-겹 교차 검증과 그외 전략들"
      ]
    },
    {
      "cell_type": "markdown",
      "metadata": {
        "id": "jj9MijeWQ7he"
      },
      "source": [
        "### 교차 검증 상세 옵션"
      ]
    },
    {
      "cell_type": "markdown",
      "metadata": {
        "id": "wADK5jefQ7jP"
      },
      "source": [
        "### LOOCV"
      ]
    },
    {
      "cell_type": "markdown",
      "metadata": {
        "id": "vUEjAEKrQ7lG"
      },
      "source": [
        "### 임의 분할 교차 검증"
      ]
    },
    {
      "cell_type": "markdown",
      "metadata": {
        "id": "mYvxzAosQ7m1"
      },
      "source": [
        "### 그룹별 교차 검증"
      ]
    },
    {
      "cell_type": "markdown",
      "metadata": {
        "id": "q4SaJ2LBQ7pM"
      },
      "source": [
        "## 5.1.4 반복 교차 검증"
      ]
    },
    {
      "cell_type": "markdown",
      "metadata": {
        "id": "gQ-i8Z_6Q7rH"
      },
      "source": [
        "# 5.2 그리드 서치"
      ]
    },
    {
      "cell_type": "markdown",
      "metadata": {
        "id": "eT6NTEYqQ7sm"
      },
      "source": [
        "## 5.2.1 간단한 그리드 서치"
      ]
    },
    {
      "cell_type": "markdown",
      "metadata": {
        "id": "dKQrwzNMR3uM"
      },
      "source": [
        "## 5.2.2 매개변수 과대적합과 검증 세트"
      ]
    },
    {
      "cell_type": "markdown",
      "metadata": {
        "id": "OHetYav6R3ru"
      },
      "source": [
        "## 5.2.3 교차 검증을 사용한 그리드 서치"
      ]
    },
    {
      "cell_type": "markdown",
      "metadata": {
        "id": "kz-iN1evR3pG"
      },
      "source": [
        "### 교차 검증 결과 분석"
      ]
    },
    {
      "cell_type": "markdown",
      "metadata": {
        "id": "mPTcVaafR3a_"
      },
      "source": [
        "### 비대칭 매개변수 그리드 탐색"
      ]
    },
    {
      "cell_type": "markdown",
      "metadata": {
        "id": "KFoqWswmR3Xb"
      },
      "source": [
        "### 그리드 서치에 다양한 교차 검증 적용"
      ]
    },
    {
      "cell_type": "markdown",
      "metadata": {
        "id": "xSLAGi8WR3Vm"
      },
      "source": [
        "### 중첩 교차 검증"
      ]
    },
    {
      "cell_type": "markdown",
      "metadata": {
        "id": "bWPsZeUYR3Tf"
      },
      "source": [
        "### 교차 검증과 그리드 서치 병렬화"
      ]
    },
    {
      "cell_type": "markdown",
      "metadata": {
        "id": "70nCqrxSR3Q-"
      },
      "source": [
        "# 5.2 평가 지표와 측정"
      ]
    },
    {
      "cell_type": "markdown",
      "metadata": {
        "id": "JcfbKxKWR3Nn"
      },
      "source": [
        "## 5.3.1 최종 목표를 기억하라"
      ]
    },
    {
      "cell_type": "markdown",
      "metadata": {
        "id": "2d2QYubZR3KR"
      },
      "source": [
        "## 5.3.2 이진 분류의 평가 지표"
      ]
    },
    {
      "cell_type": "markdown",
      "metadata": {
        "id": "L4Aa4WhVR3HR"
      },
      "source": [
        "### 에러의 종류"
      ]
    },
    {
      "cell_type": "markdown",
      "metadata": {
        "id": "O-NRDEPsR3Ea"
      },
      "source": [
        "### 불균형 데이터셋"
      ]
    },
    {
      "cell_type": "markdown",
      "metadata": {
        "id": "qVPv_mbmR3Bl"
      },
      "source": [
        "### 오차 행렬"
      ]
    },
    {
      "cell_type": "markdown",
      "metadata": {
        "id": "a2eIEc33R2hu"
      },
      "source": [
        "#### 정확도와의 관계"
      ]
    },
    {
      "cell_type": "markdown",
      "metadata": {
        "id": "eIQLlhQDSmiV"
      },
      "source": [
        "#### 정밀도, 재현율, f-점수"
      ]
    },
    {
      "cell_type": "markdown",
      "metadata": {
        "id": "Mcm-wH7MSmfm"
      },
      "source": [
        "### 불확실성 고려"
      ]
    },
    {
      "cell_type": "markdown",
      "metadata": {
        "id": "BWPkC9Q6Smcu"
      },
      "source": [
        "### 정밀도-재현율 곡선과 ROC 곡선"
      ]
    },
    {
      "cell_type": "markdown",
      "metadata": {
        "id": "5sZTEKtUSmag"
      },
      "source": [
        "### ROC와 AUC"
      ]
    },
    {
      "cell_type": "markdown",
      "metadata": {
        "id": "Vs67qtVCSmYY"
      },
      "source": [
        "## 5.3.3 다중 분류의 평가 지표"
      ]
    },
    {
      "cell_type": "markdown",
      "metadata": {
        "id": "Mt8NNyQZSmVC"
      },
      "source": [
        "## 5.3.4 회귀의 평가 지표"
      ]
    },
    {
      "cell_type": "markdown",
      "metadata": {
        "id": "_RKed4sQSmSJ"
      },
      "source": [
        "## 5.3.5 모델 선택에서 평가 지표 사용하기"
      ]
    },
    {
      "cell_type": "markdown",
      "metadata": {
        "id": "6jIg56OESmPx"
      },
      "source": [
        "# 5.4 요약 및 정리"
      ]
    }
  ]
}