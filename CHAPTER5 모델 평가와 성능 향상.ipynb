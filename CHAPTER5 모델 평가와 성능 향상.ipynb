{
  "nbformat": 4,
  "nbformat_minor": 0,
  "metadata": {
    "colab": {
      "name": "CHAPTER5 모델 평가와 성능 향상.ipynb",
      "provenance": [],
      "collapsed_sections": [],
      "toc_visible": true,
      "authorship_tag": "ABX9TyNn+WcqIWvfjsOH1yXYscrc",
      "include_colab_link": true
    },
    "kernelspec": {
      "name": "python3",
      "display_name": "Python 3"
    },
    "language_info": {
      "name": "python"
    }
  },
  "cells": [
    {
      "cell_type": "markdown",
      "metadata": {
        "id": "view-in-github",
        "colab_type": "text"
      },
      "source": [
        "<a href=\"https://colab.research.google.com/github/LeeSeungwon89/Machine-learning_Theory/blob/master/CHAPTER5%20%EB%AA%A8%EB%8D%B8%20%ED%8F%89%EA%B0%80%EC%99%80%20%EC%84%B1%EB%8A%A5%20%ED%96%A5%EC%83%81.ipynb\" target=\"_parent\"><img src=\"https://colab.research.google.com/assets/colab-badge.svg\" alt=\"Open In Colab\"/></a>"
      ]
    },
    {
      "cell_type": "markdown",
      "metadata": {
        "id": "8jyIst5u5lpF"
      },
      "source": [
        "# 들어가며\n",
        "\n",
        "지도 학습 모델을 평가하고자 `train_test_split` 함수를 사용해서 두 세트로 나눴습니다. 그리고 모델을 만들기 위해 훈련 세트에 `fit` 메서드를 적용했습니다. 모델을 평가하기 위해 테스트 세트에 `score` 메서드를 사용했습니다. 분류 문제의 경우에 `score` 메서드는 정확하게 분류된 샘플의 비율을 계산합니다."
      ]
    },
    {
      "cell_type": "code",
      "metadata": {
        "colab": {
          "base_uri": "https://localhost:8080/"
        },
        "id": "9uX4XV97BSXA",
        "outputId": "c17bdf6d-d5d9-47af-b991-80216bd91fbc"
      },
      "source": [
        "pip install mglearn"
      ],
      "execution_count": 1,
      "outputs": [
        {
          "output_type": "stream",
          "text": [
            "Collecting mglearn\n",
            "  Downloading mglearn-0.1.9.tar.gz (540 kB)\n",
            "\u001b[?25l\r\u001b[K     |▋                               | 10 kB 20.0 MB/s eta 0:00:01\r\u001b[K     |█▏                              | 20 kB 26.2 MB/s eta 0:00:01\r\u001b[K     |█▉                              | 30 kB 13.1 MB/s eta 0:00:01\r\u001b[K     |██▍                             | 40 kB 9.8 MB/s eta 0:00:01\r\u001b[K     |███                             | 51 kB 5.5 MB/s eta 0:00:01\r\u001b[K     |███▋                            | 61 kB 6.0 MB/s eta 0:00:01\r\u001b[K     |████▎                           | 71 kB 5.8 MB/s eta 0:00:01\r\u001b[K     |████▉                           | 81 kB 6.5 MB/s eta 0:00:01\r\u001b[K     |█████▌                          | 92 kB 4.9 MB/s eta 0:00:01\r\u001b[K     |██████                          | 102 kB 5.3 MB/s eta 0:00:01\r\u001b[K     |██████▊                         | 112 kB 5.3 MB/s eta 0:00:01\r\u001b[K     |███████▎                        | 122 kB 5.3 MB/s eta 0:00:01\r\u001b[K     |███████▉                        | 133 kB 5.3 MB/s eta 0:00:01\r\u001b[K     |████████▌                       | 143 kB 5.3 MB/s eta 0:00:01\r\u001b[K     |█████████                       | 153 kB 5.3 MB/s eta 0:00:01\r\u001b[K     |█████████▊                      | 163 kB 5.3 MB/s eta 0:00:01\r\u001b[K     |██████████▎                     | 174 kB 5.3 MB/s eta 0:00:01\r\u001b[K     |███████████                     | 184 kB 5.3 MB/s eta 0:00:01\r\u001b[K     |███████████▌                    | 194 kB 5.3 MB/s eta 0:00:01\r\u001b[K     |████████████▏                   | 204 kB 5.3 MB/s eta 0:00:01\r\u001b[K     |████████████▊                   | 215 kB 5.3 MB/s eta 0:00:01\r\u001b[K     |█████████████▍                  | 225 kB 5.3 MB/s eta 0:00:01\r\u001b[K     |██████████████                  | 235 kB 5.3 MB/s eta 0:00:01\r\u001b[K     |██████████████▋                 | 245 kB 5.3 MB/s eta 0:00:01\r\u001b[K     |███████████████▏                | 256 kB 5.3 MB/s eta 0:00:01\r\u001b[K     |███████████████▊                | 266 kB 5.3 MB/s eta 0:00:01\r\u001b[K     |████████████████▍               | 276 kB 5.3 MB/s eta 0:00:01\r\u001b[K     |█████████████████               | 286 kB 5.3 MB/s eta 0:00:01\r\u001b[K     |█████████████████▋              | 296 kB 5.3 MB/s eta 0:00:01\r\u001b[K     |██████████████████▏             | 307 kB 5.3 MB/s eta 0:00:01\r\u001b[K     |██████████████████▉             | 317 kB 5.3 MB/s eta 0:00:01\r\u001b[K     |███████████████████▍            | 327 kB 5.3 MB/s eta 0:00:01\r\u001b[K     |████████████████████            | 337 kB 5.3 MB/s eta 0:00:01\r\u001b[K     |████████████████████▋           | 348 kB 5.3 MB/s eta 0:00:01\r\u001b[K     |█████████████████████▎          | 358 kB 5.3 MB/s eta 0:00:01\r\u001b[K     |█████████████████████▉          | 368 kB 5.3 MB/s eta 0:00:01\r\u001b[K     |██████████████████████▌         | 378 kB 5.3 MB/s eta 0:00:01\r\u001b[K     |███████████████████████         | 389 kB 5.3 MB/s eta 0:00:01\r\u001b[K     |███████████████████████▋        | 399 kB 5.3 MB/s eta 0:00:01\r\u001b[K     |████████████████████████▎       | 409 kB 5.3 MB/s eta 0:00:01\r\u001b[K     |████████████████████████▉       | 419 kB 5.3 MB/s eta 0:00:01\r\u001b[K     |█████████████████████████▌      | 430 kB 5.3 MB/s eta 0:00:01\r\u001b[K     |██████████████████████████      | 440 kB 5.3 MB/s eta 0:00:01\r\u001b[K     |██████████████████████████▊     | 450 kB 5.3 MB/s eta 0:00:01\r\u001b[K     |███████████████████████████▎    | 460 kB 5.3 MB/s eta 0:00:01\r\u001b[K     |████████████████████████████    | 471 kB 5.3 MB/s eta 0:00:01\r\u001b[K     |████████████████████████████▌   | 481 kB 5.3 MB/s eta 0:00:01\r\u001b[K     |█████████████████████████████▏  | 491 kB 5.3 MB/s eta 0:00:01\r\u001b[K     |█████████████████████████████▊  | 501 kB 5.3 MB/s eta 0:00:01\r\u001b[K     |██████████████████████████████▍ | 512 kB 5.3 MB/s eta 0:00:01\r\u001b[K     |███████████████████████████████ | 522 kB 5.3 MB/s eta 0:00:01\r\u001b[K     |███████████████████████████████▌| 532 kB 5.3 MB/s eta 0:00:01\r\u001b[K     |████████████████████████████████| 540 kB 5.3 MB/s \n",
            "\u001b[?25hRequirement already satisfied: numpy in /usr/local/lib/python3.7/dist-packages (from mglearn) (1.19.5)\n",
            "Requirement already satisfied: matplotlib in /usr/local/lib/python3.7/dist-packages (from mglearn) (3.2.2)\n",
            "Requirement already satisfied: scikit-learn in /usr/local/lib/python3.7/dist-packages (from mglearn) (0.22.2.post1)\n",
            "Requirement already satisfied: pandas in /usr/local/lib/python3.7/dist-packages (from mglearn) (1.1.5)\n",
            "Requirement already satisfied: pillow in /usr/local/lib/python3.7/dist-packages (from mglearn) (7.1.2)\n",
            "Requirement already satisfied: cycler in /usr/local/lib/python3.7/dist-packages (from mglearn) (0.10.0)\n",
            "Requirement already satisfied: imageio in /usr/local/lib/python3.7/dist-packages (from mglearn) (2.4.1)\n",
            "Requirement already satisfied: joblib in /usr/local/lib/python3.7/dist-packages (from mglearn) (1.0.1)\n",
            "Requirement already satisfied: six in /usr/local/lib/python3.7/dist-packages (from cycler->mglearn) (1.15.0)\n",
            "Requirement already satisfied: python-dateutil>=2.1 in /usr/local/lib/python3.7/dist-packages (from matplotlib->mglearn) (2.8.2)\n",
            "Requirement already satisfied: kiwisolver>=1.0.1 in /usr/local/lib/python3.7/dist-packages (from matplotlib->mglearn) (1.3.1)\n",
            "Requirement already satisfied: pyparsing!=2.0.4,!=2.1.2,!=2.1.6,>=2.0.1 in /usr/local/lib/python3.7/dist-packages (from matplotlib->mglearn) (2.4.7)\n",
            "Requirement already satisfied: pytz>=2017.2 in /usr/local/lib/python3.7/dist-packages (from pandas->mglearn) (2018.9)\n",
            "Requirement already satisfied: scipy>=0.17.0 in /usr/local/lib/python3.7/dist-packages (from scikit-learn->mglearn) (1.4.1)\n",
            "Building wheels for collected packages: mglearn\n",
            "  Building wheel for mglearn (setup.py) ... \u001b[?25l\u001b[?25hdone\n",
            "  Created wheel for mglearn: filename=mglearn-0.1.9-py2.py3-none-any.whl size=582637 sha256=74d4d67fb189f489d67d9ff3e4b1762ae63b6582e054fd4426251d4ef3b398ee\n",
            "  Stored in directory: /root/.cache/pip/wheels/f1/17/e1/1720d6dcd70187b6b6c3750cb3508798f2b1d57c9d3214b08b\n",
            "Successfully built mglearn\n",
            "Installing collected packages: mglearn\n",
            "Successfully installed mglearn-0.1.9\n"
          ],
          "name": "stdout"
        }
      ]
    },
    {
      "cell_type": "code",
      "metadata": {
        "id": "PrEQktLxBGUo"
      },
      "source": [
        "from IPython.display import display\n",
        "import numpy as np\n",
        "import matplotlib.pyplot as plt\n",
        "import pandas as pd\n",
        "import mglearn\n",
        "%matplotlib inline"
      ],
      "execution_count": 2,
      "outputs": []
    },
    {
      "cell_type": "code",
      "metadata": {
        "colab": {
          "base_uri": "https://localhost:8080/"
        },
        "id": "Jx-Sm6zdBcJA",
        "outputId": "7bb97b15-456b-4a6c-cea7-9abb46d143da"
      },
      "source": [
        "from sklearn.datasets import make_blobs\n",
        "from sklearn.linear_model import LogisticRegression\n",
        "from sklearn.model_selection import train_test_split\n",
        "\n",
        "X, y = make_blobs(random_state=0)\n",
        "X_train, X_test, y_train, y_test = train_test_split(X, y, random_state=0)\n",
        "logreg = LogisticRegression().fit(X_train, y_train)\n",
        "print('테스트 세트 점수: {:.2f}'.format(logreg.score(X_test, y_test)))"
      ],
      "execution_count": 3,
      "outputs": [
        {
          "output_type": "stream",
          "text": [
            "테스트 세트 점수: 0.88\n"
          ],
          "name": "stdout"
        }
      ]
    },
    {
      "cell_type": "markdown",
      "metadata": {
        "id": "A_13OKNzCGWC"
      },
      "source": [
        "익숙한 코드 형식입니다. 새로운 데이터에 모델이 얼마나 잘 일반화되는지 측정할 목적으로 데이터를 훈련 세트와 테스트 세트로 나눕니다. 모델이 훈련 세트에 잘 맞는 것보다 학습 과정에 없던 데이터에 대해 예측을 얼마나 잘 하느냐가 중요합니다. 무엇보다도 과대적합과 과소적합을 방지하면서 균형점을 지진 최적의 모델을 형성해야 합니다.\n",
        "\n",
        "이번 챕터에서는 두 가지 관점에서 이 평가 방법을 확장합니다. 먼저 안정적인 일반화 성능 측정 방법인 '교차 검증'에 대해 설명합니다. `score` 메서도가 제공하는 정확도와 $R^2$ 값 이외에 분류와 회귀 성능을 측정하는 다른 방법도 설명합니다. 아울러 최적의 일반화 성능을 얻을 목적으로 매개변수를 조정하는 데 유용한 '그리드 서치'에 대해서도 설명합니다."
      ]
    },
    {
      "cell_type": "markdown",
      "metadata": {
        "id": "lIQUqDO_Q7UV"
      },
      "source": [
        "# 5.1 교차 검증\n",
        "\n",
        "'교차 검증(cross-validation)'은 훈련 세트와 테스트 세트로 한 번 나눈 것보다 더 안정적이고 뛰어난 통계적 방법입니다. 교차 검증에서는 데이터를 여러 번 반복해서 나누고 여러 모델을 학습합니다.\n",
        "\n",
        "가장 많이 사용되는 방법은 'k-겹 교차 검증(k-fold cross-validation)'입니다. k는 특정 숫자이며, 일반적으로 5나 10입니다. 5-겹 교차 검증을 하려면 데이터를 먼저 폴드(fold)라고 하는 거의 비슷한 크기의 부분 집합 다섯 개로 나눕니다. 그리고나서 일련의 모델을 생성합니다.\n",
        "\n",
        "첫 번째 모델은 첫 번째 폴드를 테스트 세트로 사용하고, 나머지 폴드를 훈련 세트로 사용해서 학습합니다. 즉 폴드 2~5까지의 데이터로 모델을 만들고, 폴드 1을 사용해서 정확도를 평가합니다. \n",
        "\n",
        "두 번째 모델은 두 번째 폴드를 테스트 세트로 사용하고, 나머지 폴드를 훈련 세트로 사용해서 학습합니다. 즉 폴드 1과 3~5까지의 데이터로 모델을 만들고, 폴드 2를 사용해서 정확도를 평가합니다.\n",
        "\n",
        "이 방식으로 5까지 반복합니다. 분할을 다섯 번만큼 시도하면서 정확도를 측정하면 정확도 다섯 개를 얻습니다."
      ]
    },
    {
      "cell_type": "markdown",
      "metadata": {
        "id": "AHYDIGiVFpLL"
      },
      "source": [
        "위 설명을 그림으로 나타냅니다."
      ]
    },
    {
      "cell_type": "code",
      "metadata": {
        "colab": {
          "base_uri": "https://localhost:8080/",
          "height": 187
        },
        "id": "Heuu9yITFvPg",
        "outputId": "9d96e146-dc84-40a5-86db-3650de094801"
      },
      "source": [
        "mglearn.plots.plot_cross_validation()"
      ],
      "execution_count": 4,
      "outputs": [
        {
          "output_type": "display_data",
          "data": {
            "image/png": "[encoded data removed]",
            "text/plain": [
              "<Figure size 864x144 with 1 Axes>"
            ]
          },
          "metadata": {
            "needs_background": "light"
          }
        }
      ]
    },
    {
      "cell_type": "markdown",
      "metadata": {
        "id": "ZfxMPAB9Q7XZ"
      },
      "source": [
        "## 5.1.1 scikit-learn의 교차 검증\n",
        "\n",
        "교차 검증은 `model_selection` 모듈의 `cross_val_score` 함수로 구현되어 있습니다. `cross_val_score` 함수가 가진 매개변수는 평가하려는 모델과 훈련 데이터, 타깃 레이블입니다."
      ]
    },
    {
      "cell_type": "markdown",
      "metadata": {
        "id": "Vo1iMtlKGN7_"
      },
      "source": [
        "iris 데이터셋에 적용한 `LogisticRegression`을 평가합니다."
      ]
    },
    {
      "cell_type": "code",
      "metadata": {
        "colab": {
          "base_uri": "https://localhost:8080/"
        },
        "id": "U-Qxgd1oGVE5",
        "outputId": "c6dbb6f4-021c-4fc8-ebc6-9452263cf551"
      },
      "source": [
        "from sklearn.model_selection import cross_val_score\n",
        "from sklearn.datasets import load_iris\n",
        "from sklearn.linear_model import LogisticRegression\n",
        "\n",
        "iris = load_iris()\n",
        "logreg = LogisticRegression(max_iter=1000)\n",
        "scores = cross_val_score(logreg, iris.data, iris.target)\n",
        "print('5-겹 교차 검증 점수:', scores)"
      ],
      "execution_count": 8,
      "outputs": [
        {
          "output_type": "stream",
          "text": [
            "5-겹 교차 검증 점수: [0.96666667 1.         0.93333333 0.96666667 1.        ]\n"
          ],
          "name": "stdout"
        }
      ]
    },
    {
      "cell_type": "markdown",
      "metadata": {
        "id": "mNsqzztoG4bZ"
      },
      "source": [
        "5-겹(기본값) 교차 검증을 수행했으므로 점수 5개가 반환됐습니다."
      ]
    },
    {
      "cell_type": "markdown",
      "metadata": {
        "id": "h2yJvk67HJAn"
      },
      "source": [
        "폴드 수는 `cv` 매개변수로 지정할 수 있습니다. 10-겹 교차 검증을 수행합니다."
      ]
    },
    {
      "cell_type": "code",
      "metadata": {
        "colab": {
          "base_uri": "https://localhost:8080/"
        },
        "id": "JcN9bIwoHNmj",
        "outputId": "64c0ae8e-cf47-4e9b-95f8-2a295be350fd"
      },
      "source": [
        "scores = cross_val_score(logreg, iris.data, iris.target, cv=10)\n",
        "print('10-겹 교차 검증 점수:', scores)"
      ],
      "execution_count": 9,
      "outputs": [
        {
          "output_type": "stream",
          "text": [
            "10-겹 교차 검증 점수: [1.         0.93333333 1.         1.         0.93333333 0.93333333\n",
            " 0.93333333 1.         1.         1.        ]\n"
          ],
          "name": "stdout"
        }
      ]
    },
    {
      "cell_type": "markdown",
      "metadata": {
        "id": "tt03-J-0IB4E"
      },
      "source": [
        "최소한 5-겹 교차 검증 정도를 사용하는 편이 좋습니다. 일반적으로 교차 검증의 정확도를 간단하게 나타내려면 평균을 이용합니다."
      ]
    },
    {
      "cell_type": "code",
      "metadata": {
        "colab": {
          "base_uri": "https://localhost:8080/"
        },
        "id": "ndQBersCINN0",
        "outputId": "5b04d4e8-8a1a-4ec7-90dd-af0d375b729d"
      },
      "source": [
        "print('10- 겹 교차 검증 평균 점수: {:.2f}'.format(scores.mean()))"
      ],
      "execution_count": 10,
      "outputs": [
        {
          "output_type": "stream",
          "text": [
            "10- 겹 교차 검증 평균 점수: 0.97\n"
          ],
          "name": "stdout"
        }
      ]
    },
    {
      "cell_type": "markdown",
      "metadata": {
        "id": "QHzvVDe9IYtQ"
      },
      "source": [
        "모델 정확도를 97%로 판단할 수 있습니다. 10-겹 교차 검증이 만든 값 열 개를 보면 93~100%까지 각각 다른 값을 가집니다. 이는 모델이 훈련에 사용한 폴드에 매우 의존적이거나 데이터셋이 작기 때문입니다. "
      ]
    },
    {
      "cell_type": "markdown",
      "metadata": {
        "id": "5Fu7UmI8KAtC"
      },
      "source": [
        "교차 검증에 `cross_validate` 함수도 사용할 수 있습니다. 이 함수는 분할마다 훈련과 테스트에 걸린 시간을 담은 딕셔너리를 반환합니다. 훈련 점수와 테스트 점수 모두 반환하도록 매개변수를 지정할 수도 있습니다. 기실 `cross_validate_score` 함수는 `cross_validate` 함수를 사용해서 `test_score` 키만 반환하는 것입니다."
      ]
    },
    {
      "cell_type": "code",
      "metadata": {
        "colab": {
          "base_uri": "https://localhost:8080/",
          "height": 90
        },
        "id": "YD4Mq_FgKfas",
        "outputId": "5d4e93b6-2016-40f8-be78-1a8a0dc75085"
      },
      "source": [
        "from sklearn.model_selection import cross_validate\n",
        "\n",
        "res = cross_validate(logreg, iris.data, iris.target, cv=5, return_train_score=True)\n",
        "display(res)"
      ],
      "execution_count": 14,
      "outputs": [
        {
          "output_type": "display_data",
          "data": {
            "text/plain": [
              "{'fit_time': array([0.03326583, 0.03757858, 0.02874756, 0.02997684, 0.03095603]),\n",
              " 'score_time': array([0.0004518 , 0.00043011, 0.00047112, 0.00042772, 0.00041413]),\n",
              " 'test_score': array([0.96666667, 1.        , 0.93333333, 0.96666667, 1.        ]),\n",
              " 'train_score': array([0.96666667, 0.96666667, 0.98333333, 0.98333333, 0.975     ])}"
            ]
          },
          "metadata": {}
        }
      ]
    },
    {
      "cell_type": "markdown",
      "metadata": {
        "id": "YlVZ69x4LMhd"
      },
      "source": [
        "판다스를 사용해서 결괏값을 출력하고 평균을 계산합니다."
      ]
    },
    {
      "cell_type": "code",
      "metadata": {
        "colab": {
          "base_uri": "https://localhost:8080/",
          "height": 315
        },
        "id": "T78F2qWSLaYR",
        "outputId": "a36e08b1-6d57-4dee-888c-68556dec4f0f"
      },
      "source": [
        "res_df = pd.DataFrame(res)\n",
        "display(res_df)\n",
        "print('평균 시간과 점수:\\n', res_df.mean())"
      ],
      "execution_count": 17,
      "outputs": [
        {
          "output_type": "display_data",
          "data": {
            "text/html": [
              "<div>\n",
              "<style scoped>\n",
              "    .dataframe tbody tr th:only-of-type {\n",
              "        vertical-align: middle;\n",
              "    }\n",
              "\n",
              "    .dataframe tbody tr th {\n",
              "        vertical-align: top;\n",
              "    }\n",
              "\n",
              "    .dataframe thead th {\n",
              "        text-align: right;\n",
              "    }\n",
              "</style>\n",
              "<table border=\"1\" class=\"dataframe\">\n",
              "  <thead>\n",
              "    <tr style=\"text-align: right;\">\n",
              "      <th></th>\n",
              "      <th>fit_time</th>\n",
              "      <th>score_time</th>\n",
              "      <th>test_score</th>\n",
              "      <th>train_score</th>\n",
              "    </tr>\n",
              "  </thead>\n",
              "  <tbody>\n",
              "    <tr>\n",
              "      <th>0</th>\n",
              "      <td>0.033266</td>\n",
              "      <td>0.000452</td>\n",
              "      <td>0.966667</td>\n",
              "      <td>0.966667</td>\n",
              "    </tr>\n",
              "    <tr>\n",
              "      <th>1</th>\n",
              "      <td>0.037579</td>\n",
              "      <td>0.000430</td>\n",
              "      <td>1.000000</td>\n",
              "      <td>0.966667</td>\n",
              "    </tr>\n",
              "    <tr>\n",
              "      <th>2</th>\n",
              "      <td>0.028748</td>\n",
              "      <td>0.000471</td>\n",
              "      <td>0.933333</td>\n",
              "      <td>0.983333</td>\n",
              "    </tr>\n",
              "    <tr>\n",
              "      <th>3</th>\n",
              "      <td>0.029977</td>\n",
              "      <td>0.000428</td>\n",
              "      <td>0.966667</td>\n",
              "      <td>0.983333</td>\n",
              "    </tr>\n",
              "    <tr>\n",
              "      <th>4</th>\n",
              "      <td>0.030956</td>\n",
              "      <td>0.000414</td>\n",
              "      <td>1.000000</td>\n",
              "      <td>0.975000</td>\n",
              "    </tr>\n",
              "  </tbody>\n",
              "</table>\n",
              "</div>"
            ],
            "text/plain": [
              "   fit_time  score_time  test_score  train_score\n",
              "0  0.033266    0.000452    0.966667     0.966667\n",
              "1  0.037579    0.000430    1.000000     0.966667\n",
              "2  0.028748    0.000471    0.933333     0.983333\n",
              "3  0.029977    0.000428    0.966667     0.983333\n",
              "4  0.030956    0.000414    1.000000     0.975000"
            ]
          },
          "metadata": {}
        },
        {
          "output_type": "stream",
          "text": [
            "평균 시간과 점수:\n",
            " fit_time       0.032105\n",
            "score_time     0.000439\n",
            "test_score     0.973333\n",
            "train_score    0.975000\n",
            "dtype: float64\n"
          ],
          "name": "stdout"
        }
      ]
    },
    {
      "cell_type": "markdown",
      "metadata": {
        "id": "YSxWhoY_Vjls"
      },
      "source": [
        "### NOTE\n",
        "\n",
        "교차 검증은 새로운 데이터에 적용할 모델을 만드는 방법이 아닙니다. 교차 검증 함수는 결코 모델을 반환하지 않습니다. `cross_val_score` 함수를 호출하면 내부적으로 여러 모델이 만들어질 뿐입니다. 교차 검증의 목적은 주어진 데이터셋에 학습된 알고리즘이 얼마나 잘 일반화될지 가늠하는 것입니다.\n",
        "\n",
        "교차 검증으로 모델을 만들 수는 없지만 `cross_val_predict` 함수를 사용해서 예측값을 구할 수 있습니다. `cross_val_predict(logreg, iris.data, iris.target, cv=5)` 형식을 취하면 각 폴드가 테스트 세트일 때 예측된 값을 반환합니다."
      ]
    },
    {
      "cell_type": "markdown",
      "metadata": {
        "id": "ZOb3hxT2Q7bJ"
      },
      "source": [
        "## 5.1.2 교차 검증의 장점과 단점\n",
        "\n",
        "교차 검증에는 몇 가지 장점이 있습니다.\n",
        "\n",
        "먼저 `train_test_split` 함수로 데이터를 나눌 때, 훈련 세트에 분류하기 어려운 샘플만 담기게 되었다고 가정하겠습니다. 이 경우에 테스트 세트에는 분류하기 쉬운 샘플만 들어 있어서 테스트 세트에 대한 정확도는 비정상적으로 높게 나올 것입니다. 반대로 분류하기 어려운 샘플들이 모두 테스트 세트에 들어간다면 정확도는 매우 낮게 나올 것입니다.\n",
        "\n",
        "그러나 교차 검증을 사용하면 테스트 세트에 각 샘플이 정확하게 한 번씩 들어갑니다. 각 샘플은 폴드 중 하나에 속하며, 각 폴드는 한 번씩 테스트 세트가 됩니다. 따라서 교차 검증의 점수와 평균값을 높이기 위해서는 데이터셋에 있는 모든 샘플에 대해 모델이 잘 일반화되어야 합니다.\n",
        "\n",
        "또 데이터를 여러 개로 나누면 모델이 훈련 데이터에 얼마나 민감한지 확인할 수 있습니다. iris 데이터셋에서 얻은 90~100% 정확도 범위는 꽤 넓으며, 새로운 데이터를 적용했을 때 최악의 경우와 최선의 경우를 짐작할 수 있습니다.\n",
        "\n",
        "아울러 교차 검증은 분할을 한 번 했을 경우보다 데이터를 효과적으로 사용할 수 있다는 것입니다. `train_test_split` 함수를 사용하면 일반적으로 데이터 중에 75%를 학습에 사용하고, 25%를 평가에 사용합니다. 예컨대 5-겹 교차 검증의 경우는 매 반복에서 4/5(80%)의 데이터를 학습에 사용합니다. 10겹 교차 검증의 경우는 매 반복에서 9/10(90%)의 데이터를 학습에 사용합니다. 많은 데이터는 더 좋은 모델을 만듭니다.\n",
        "\n",
        "다만 교차 검증에는 단점이 한 가지 존재합니다.\n",
        "\n",
        "모델을 k개만큼 생성하므로 연산 비용이 크게 늘어납니다. k배만큼 느려진다고 볼 수 있습니다."
      ]
    },
    {
      "cell_type": "markdown",
      "metadata": {
        "id": "BMPwLP1SQ7fG"
      },
      "source": [
        "## 5.1.3 계층별 k-겹 교차 검증과 그외 전략들\n",
        "\n",
        "데이터셋을 나열 순서대로 k개의 폴드로 나누는 것은 항상 좋지만은 않습니다. iris 데이터셋으로 예를 듭니다."
      ]
    },
    {
      "cell_type": "code",
      "metadata": {
        "colab": {
          "base_uri": "https://localhost:8080/"
        },
        "id": "BVhLU6crVycO",
        "outputId": "8f51f6af-d392-43f5-b188-a555bd5c3f71"
      },
      "source": [
        "from sklearn.datasets import load_iris\n",
        "iris = load_iris()\n",
        "print('Iris 레이블:\\n', iris.target)"
      ],
      "execution_count": 18,
      "outputs": [
        {
          "output_type": "stream",
          "text": [
            "Iris 레이블:\n",
            " [0 0 0 0 0 0 0 0 0 0 0 0 0 0 0 0 0 0 0 0 0 0 0 0 0 0 0 0 0 0 0 0 0 0 0 0 0\n",
            " 0 0 0 0 0 0 0 0 0 0 0 0 0 1 1 1 1 1 1 1 1 1 1 1 1 1 1 1 1 1 1 1 1 1 1 1 1\n",
            " 1 1 1 1 1 1 1 1 1 1 1 1 1 1 1 1 1 1 1 1 1 1 1 1 1 1 2 2 2 2 2 2 2 2 2 2 2\n",
            " 2 2 2 2 2 2 2 2 2 2 2 2 2 2 2 2 2 2 2 2 2 2 2 2 2 2 2 2 2 2 2 2 2 2 2 2 2\n",
            " 2 2]\n"
          ],
          "name": "stdout"
        }
      ]
    },
    {
      "cell_type": "markdown",
      "metadata": {
        "id": "jj9MijeWQ7he"
      },
      "source": [
        "### 교차 검증 상세 옵션"
      ]
    },
    {
      "cell_type": "markdown",
      "metadata": {
        "id": "wADK5jefQ7jP"
      },
      "source": [
        "### LOOCV"
      ]
    },
    {
      "cell_type": "markdown",
      "metadata": {
        "id": "vUEjAEKrQ7lG"
      },
      "source": [
        "### 임의 분할 교차 검증"
      ]
    },
    {
      "cell_type": "markdown",
      "metadata": {
        "id": "mYvxzAosQ7m1"
      },
      "source": [
        "### 그룹별 교차 검증"
      ]
    },
    {
      "cell_type": "markdown",
      "metadata": {
        "id": "q4SaJ2LBQ7pM"
      },
      "source": [
        "## 5.1.4 반복 교차 검증"
      ]
    },
    {
      "cell_type": "markdown",
      "metadata": {
        "id": "gQ-i8Z_6Q7rH"
      },
      "source": [
        "# 5.2 그리드 서치"
      ]
    },
    {
      "cell_type": "markdown",
      "metadata": {
        "id": "eT6NTEYqQ7sm"
      },
      "source": [
        "## 5.2.1 간단한 그리드 서치"
      ]
    },
    {
      "cell_type": "markdown",
      "metadata": {
        "id": "dKQrwzNMR3uM"
      },
      "source": [
        "## 5.2.2 매개변수 과대적합과 검증 세트"
      ]
    },
    {
      "cell_type": "markdown",
      "metadata": {
        "id": "OHetYav6R3ru"
      },
      "source": [
        "## 5.2.3 교차 검증을 사용한 그리드 서치"
      ]
    },
    {
      "cell_type": "markdown",
      "metadata": {
        "id": "kz-iN1evR3pG"
      },
      "source": [
        "### 교차 검증 결과 분석"
      ]
    },
    {
      "cell_type": "markdown",
      "metadata": {
        "id": "mPTcVaafR3a_"
      },
      "source": [
        "### 비대칭 매개변수 그리드 탐색"
      ]
    },
    {
      "cell_type": "markdown",
      "metadata": {
        "id": "KFoqWswmR3Xb"
      },
      "source": [
        "### 그리드 서치에 다양한 교차 검증 적용"
      ]
    },
    {
      "cell_type": "markdown",
      "metadata": {
        "id": "xSLAGi8WR3Vm"
      },
      "source": [
        "### 중첩 교차 검증"
      ]
    },
    {
      "cell_type": "markdown",
      "metadata": {
        "id": "bWPsZeUYR3Tf"
      },
      "source": [
        "### 교차 검증과 그리드 서치 병렬화"
      ]
    },
    {
      "cell_type": "markdown",
      "metadata": {
        "id": "70nCqrxSR3Q-"
      },
      "source": [
        "# 5.2 평가 지표와 측정"
      ]
    },
    {
      "cell_type": "markdown",
      "metadata": {
        "id": "JcfbKxKWR3Nn"
      },
      "source": [
        "## 5.3.1 최종 목표를 기억하라"
      ]
    },
    {
      "cell_type": "markdown",
      "metadata": {
        "id": "2d2QYubZR3KR"
      },
      "source": [
        "## 5.3.2 이진 분류의 평가 지표"
      ]
    },
    {
      "cell_type": "markdown",
      "metadata": {
        "id": "L4Aa4WhVR3HR"
      },
      "source": [
        "### 에러의 종류"
      ]
    },
    {
      "cell_type": "markdown",
      "metadata": {
        "id": "O-NRDEPsR3Ea"
      },
      "source": [
        "### 불균형 데이터셋"
      ]
    },
    {
      "cell_type": "markdown",
      "metadata": {
        "id": "qVPv_mbmR3Bl"
      },
      "source": [
        "### 오차 행렬"
      ]
    },
    {
      "cell_type": "markdown",
      "metadata": {
        "id": "a2eIEc33R2hu"
      },
      "source": [
        "#### 정확도와의 관계"
      ]
    },
    {
      "cell_type": "markdown",
      "metadata": {
        "id": "eIQLlhQDSmiV"
      },
      "source": [
        "#### 정밀도, 재현율, f-점수"
      ]
    },
    {
      "cell_type": "markdown",
      "metadata": {
        "id": "Mcm-wH7MSmfm"
      },
      "source": [
        "### 불확실성 고려"
      ]
    },
    {
      "cell_type": "markdown",
      "metadata": {
        "id": "BWPkC9Q6Smcu"
      },
      "source": [
        "### 정밀도-재현율 곡선과 ROC 곡선"
      ]
    },
    {
      "cell_type": "markdown",
      "metadata": {
        "id": "5sZTEKtUSmag"
      },
      "source": [
        "### ROC와 AUC"
      ]
    },
    {
      "cell_type": "markdown",
      "metadata": {
        "id": "Vs67qtVCSmYY"
      },
      "source": [
        "## 5.3.3 다중 분류의 평가 지표"
      ]
    },
    {
      "cell_type": "markdown",
      "metadata": {
        "id": "Mt8NNyQZSmVC"
      },
      "source": [
        "## 5.3.4 회귀의 평가 지표"
      ]
    },
    {
      "cell_type": "markdown",
      "metadata": {
        "id": "_RKed4sQSmSJ"
      },
      "source": [
        "## 5.3.5 모델 선택에서 평가 지표 사용하기"
      ]
    },
    {
      "cell_type": "markdown",
      "metadata": {
        "id": "6jIg56OESmPx"
      },
      "source": [
        "# 5.4 요약 및 정리"
      ]
    }
  ]
}