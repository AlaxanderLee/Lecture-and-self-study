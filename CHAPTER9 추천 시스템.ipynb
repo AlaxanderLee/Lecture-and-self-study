{
  "nbformat": 4,
  "nbformat_minor": 0,
  "metadata": {
    "colab": {
      "name": "CHAPTER9 추천 시스템.ipynb",
      "provenance": [],
      "toc_visible": true,
      "collapsed_sections": [],
      "authorship_tag": "ABX9TyP9SGx+AdhoqhD2kC/Iqfpq",
      "include_colab_link": true
    },
    "kernelspec": {
      "name": "python3",
      "display_name": "Python 3"
    },
    "language_info": {
      "name": "python"
    }
  },
  "cells": [
    {
      "cell_type": "markdown",
      "metadata": {
        "id": "view-in-github",
        "colab_type": "text"
      },
      "source": [
        "<a href=\"https://colab.research.google.com/github/LeeSeungwon89/Machine-learning_Theory/blob/master/CHAPTER9%20%EC%B6%94%EC%B2%9C%20%EC%8B%9C%EC%8A%A4%ED%85%9C.ipynb\" target=\"_parent\"><img src=\"https://colab.research.google.com/assets/colab-badge.svg\" alt=\"Open In Colab\"/></a>"
      ]
    },
    {
      "cell_type": "markdown",
      "source": [
        "# **1. 추천 시스템의 개요와 배경**"
      ],
      "metadata": {
        "id": "32PpwIs4qG4G"
      }
    },
    {
      "cell_type": "markdown",
      "source": [
        "## **1.1. 추천 시스템의 개요**"
      ],
      "metadata": {
        "id": "Pcmm-USmqG1T"
      }
    },
    {
      "cell_type": "markdown",
      "source": [
        "본서를 참고하시기 바랍니다."
      ],
      "metadata": {
        "id": "UrZKHaVTEyH2"
      }
    },
    {
      "cell_type": "markdown",
      "source": [
        "## **1.2. 온라인 스토어의 필수 요소, 추천 시스템**"
      ],
      "metadata": {
        "id": "lKL6qVt4qGyp"
      }
    },
    {
      "cell_type": "markdown",
      "source": [
        "추천 시스템은 온라인에서 매우 필수적인 기술입니다. 전자상거래, 콘텐츠 제공 등 다양한 온라인 업종에서 사용됩니다. \n",
        "\n",
        "아래 데이터는 추천 시스템을 구성하는 데 사용될 수 있습니다.\n",
        "\n",
        "- 사용자가 무엇을 클릭했습니까?\n",
        "\n",
        "- 사용자가 어떤 상품을 확인하거나 장바구니에 넣었습니까?\n",
        "\n",
        "- 사용자가 어떤 상품을 구매했습니까?\n",
        "\n",
        "- 사용자가 제품과 영화를 어떻게 평가했습니까?\n",
        "\n",
        "- 사용자가 본인의 취향을 어떻게 정의했습니까?\n",
        "\n",
        "이 외에도 여러 데이터가 사용될 수 있습니다."
      ],
      "metadata": {
        "id": "WKrllrJiAnQZ"
      }
    },
    {
      "cell_type": "markdown",
      "source": [
        "## **1.3. 추천 시스템의 유형**"
      ],
      "metadata": {
        "id": "3wMF_WtKqGwX"
      }
    },
    {
      "cell_type": "markdown",
      "source": [
        "추천 시스템의 유형은 바로 아래 파트에서 다룹니다. **콘텐츠 기반 필터링**, **협업 필터링**(**최근접 이웃 협업 필터링**, **잠재 요인 협업 필터링**)이 있습니다. 대부분의 온라인 스토어에서는 잠재 요인 협업 필터링을 사용하지만 최근에는 개인화 특성을 더 강화할 목적으로 하이브리드 형식(콘텐츠 기반 필터링 + 협업 기반 필터링)을 사용하는 경우도 많아지는 추세입니다.\n",
        "\n",
        "기실 **4.3. 확률적 경사 하강법을 이용한 행렬 분해** 파트까지는 아래 정리본보다 본서와 [링크1](https://hipster4020.tistory.com/109), [링크2](https://big-dream-world.tistory.com/61?category=470634)에 더 상세하게 설명되어 있습니다. 공부 흔적을 남길 목적이므로 핵심 내용만 정리하겠습니다."
      ],
      "metadata": {
        "id": "HNitXVmRCrFf"
      }
    },
    {
      "cell_type": "markdown",
      "source": [
        "# **2. 콘텐츠 기반 필터링 추천 시스템**"
      ],
      "metadata": {
        "id": "V27NBTMwqGuH"
      }
    },
    {
      "cell_type": "markdown",
      "source": [
        "**콘텐츠 기반 필터링(Content Based Filtering)**은 사용자가 특정 아이템을 선호하는 경우에 비슷한 콘텐츠를 가진 다른 아이템을 추천하는 방식입니다. 예컨대 사용자가 특정 영화에 높은 평점을 줬다면 그 영화의 장르, 배우, 감독, 영화 키워드 등 콘텐츠와 유사한 영화를 추천합니다. \n",
        "\n",
        "추천 시스템의 초창기에 주로 사용된 방식이지만 아이템 특성에 따라 여전히 많이 사용됩니다. "
      ],
      "metadata": {
        "id": "_ndRqNMLCf2d"
      }
    },
    {
      "cell_type": "markdown",
      "source": [
        "# **3. 최근접 이웃 협업 필터링**"
      ],
      "metadata": {
        "id": "-6QByvwzqGsX"
      }
    },
    {
      "cell_type": "markdown",
      "source": [
        "먼저 **협업 필터링(Collaborative Filtering)**에 대해 살펴볼 필요가 있습니다. 이 방식은 사용자 행동 양식(User Behavior)만을 토대로 추천합니다. 사용자 행동 양식이란 사용자가 아이템에 부여한 평점이나 상품 구매 이력 등을 예로 들 수 있습니다.\n",
        "\n",
        "협업 필터링은 **사용자-아이템 평점 매트릭스(행렬)**처럼 축적된 사용자 행동 데이터를 토대로 사용자가 아직 평가하지 않은 아이템을 예측 평가(Predicted Rating) 하는 것이 주목표입니다. 사용자-아이템 평점 행렬은 많은 아이템을 열로 가진 다차원 행렬이며, 사용자가 평점을 매기는 경우가 많지 않으므로 희소 행렬입니다. 예컨대 사용자(행, Row)가 아이템 1 ~ 4(열, Column) 중에 아이템 1과 아이템 3만 평점을 부여했다면 이 평점들을 토대로 아이템 4의 평점을 예측 평가 합니다.\n",
        "\n",
        "**최근접 이웃 협업 필터링(Nearest Neighbor Collaborative Filtering)**은 **메모리(Memory) 협업 필터링**으로도 불립니다. 여기서 아래 두 기반으로 나뉩니다.\n",
        "\n",
        "- **사용자 기반(User-User)**: 당신과 비슷한 고객들이 다음 상품도 선택했습니다.\n",
        "\n",
        "- **아이템 기반(Item-Item)**: 이 상품을 선택한 다른 고객들은 다음 상품도 선택했습니다.\n",
        "\n",
        "첫 번째로, 사용자 기반 방식은 특정 사용자와 비슷한 다른 사용자를 TOP-N으로 선정하고, 이 TOP-N 사용자가 좋아하는 아이템을 추천합니다. 특정 사용자와 다른 사용자 간 유사도(Similarity)를 측정하여 가장 높은 유사도를 가진 TOP-N 사용자를 추출하고 선호하는 아이템을 추천하는 것입니다. 예컨대 사용자 1 ~ 3 중에 사용자 1에게 아이템을 추천하는 경우 사용자 3보다 사용자 2가 사용자 1과 비슷하게 평점을 부여했다면, 사용자 2가 사용한 아이템을 사용자 1에게 추천합니다.\n",
        "\n",
        "참고로 유사도 측정에는 텍스트 분석에 사용되는 코사인 유사도가 가장 많이 사용됩니다. 추천 시스템에 사용되는 데이터 또한 텍스트 데이터처럼 희소 행렬이기 때문입니다.\n",
        "\n",
        "두 번째로, 아이템 기반 방식은 아이템이 가지는 속성과는 무관하게 사용자가 특정 아이템을 선호하는지 여부(평점을 어떻게 부여했는지)가 추천 기준입니다. 사용자 기반 방식과 다르게 사용자-아이템 평점 행렬의 행과 열이 반대 형태입니다. 행이 아이템이고 열이 사용자인 것입니다. 예컨대 여러 사용자가 부여한 아이템 1 ~ 3의 평점 중에 아이템 1과 2의 평점이 아이템 3의 평점보다 유사하다면 사용자에게 아이템 2를 추천합니다.\n",
        "\n",
        "대개 두 방식 중에 아이템 기반 방식이 더 높은 정확도를 보이며 대부분 활용됩니다. 사용자 기반 방식은 거의 사용되지 않습니다. 비슷한 아이템을 선호하거나 선택한다고 모든 사용자의 취향이 비슷하다고 단정하기엔 근거가 미약합니다. 유행을 타거나 유명한 아이템의 경우 취향과 무관하게 많은 사용자가 선택하기도 합니다. 더욱이 사용자들이 평점을 부여한 아이템의 경우 대체적으로 평점을 부여한 빈도가 많지 않은데 이를 토대로 유사도를 비교하는 것은 다소 무리가 있습니다.\n",
        "\n",
        "최근접 이웃 협업 필터링은 콘텐츠 기반 필터링처럼 추천 시스템의 초창기에 주로 사용된 방식이지만 아이템 특성에 따라 여전히 많이 사용됩니다. 특히 아마존은 아이템 기반의 최근접 이웃 협업 필터링을 추천 엔진으로 사용합니다."
      ],
      "metadata": {
        "id": "d8h-R7KBE0xb"
      }
    },
    {
      "cell_type": "markdown",
      "source": [
        "# **4. 잠재 요인 협업 필터링**"
      ],
      "metadata": {
        "id": "sRSqI-AEqGpR"
      }
    },
    {
      "cell_type": "markdown",
      "source": [
        "## **4.1. 잠재 요인 협업 필터링의 이해**"
      ],
      "metadata": {
        "id": "50Da_Cc6qGm-"
      }
    },
    {
      "cell_type": "markdown",
      "source": [
        "**잠재 요인 협업 필터링(Latent Factor Collaborative Filtering)**은 사용자-아이템 평점 행렬에 있는 잠재 요인을 추출하여 추천 예측을 수행하는 기법입니다. 잠재 요인은 **행렬 분해(Matrix Factorization)** 기법을 활용하여 대규모 다차원 행렬을 **SVD(Singular Value Decomposition, 특이값 분해)** 같은 차원 감소 기법으로 분해하는 과정에서 추출합니다. 즉 잠재 요인 협업 필터링은 행렬 분해 기법을 기반으로 합니다.\n",
        "\n",
        "잠재 요인을 명확하게 정의내릴 순 없지만 이 잠재 요인을 기반으로 사용자-아이템 평점 행렬을 저차원 밀집 행렬인 **사용자-잠재 요인 행렬**과 아이템-잠재 요인 매트릭스의 전치 행렬인 **잠재 요인-아이템 행렬**로 분해할 수 있습니다. 두 행렬을 내적하여 새로운 예측 사용자-아이템 평점 행렬 데이터를 생성하고 사용자가 평점을 부여하지 않은 아이템에 예측 평점을 부여하는 것이 잠재 요인 협력 필터링의 핵심입니다.\n",
        "\n",
        "행렬 분해를 거쳐 추출되는 잠재 요인이 무엇을 의미하는지는 알 수 없습니다. 다만 영화 평점 기반의 사용자-아이템 평점 행렬이라면 장르별 특성 선호도 정도로 가정할 수 있습니다. 사용자-잠재 요인 행렬은 영화 장르 선호도, 아이템-잠재 요인 행렬은 장르별 특성값으로 정의할 수 있습니다. 본서와 [링크](https://ariz1623.tistory.com/228)에서 이 가정에 대하여 그림과 함께 메커니즘을 설명합니다."
      ],
      "metadata": {
        "id": "fQov4tQBFRDF"
      }
    },
    {
      "cell_type": "markdown",
      "source": [
        "## **4.2. 행렬 분해의 이해**"
      ],
      "metadata": {
        "id": "v-f3j2AfqGky"
      }
    },
    {
      "cell_type": "markdown",
      "source": [
        "행렬 분해와 예측 평점 도출에 대한 원리는 본서와 [링크](https://big-dream-world.tistory.com/69)를 참고하시기 바랍니다.\n",
        "\n",
        "참고로 행렬 분해는 주로 SVD를 이용하지만 Null 값이 존재하는 행렬에는 적용할 수 없습니다. 이런 경우 **SGD(Stochastic Gradient Descent, 확률적 경사 하강법)**나 **ALS(Alternating Least Squares, 교대 최소 제곱법)**를 사용하여 SVD를 수행합니다."
      ],
      "metadata": {
        "id": "hIdZ7t9Vc0kf"
      }
    },
    {
      "cell_type": "markdown",
      "source": [
        "## **4.3. 확률적 경사 하강법을 이용한 행렬 분해**"
      ],
      "metadata": {
        "id": "wDVccNrcqGiP"
      }
    },
    {
      "cell_type": "markdown",
      "source": [
        "확률적 경사 하강법을 이용한 행렬 분해의 원리는 본서와 [링크](https://big-dream-world.tistory.com/69)를 참고하시기 바랍니다.\n",
        "\n",
        "일반적으로 사용자-아이템 평점 행렬은 행렬 분해를 위해 단순히 예측 오류값의 최소화와 학습 시 과적합을 피하기 위해 규제를 반영한 비용 함수를 적용합니다. L2 규제를 반영하여 실제 R 행렬 값과 예측 R 행렬 값의 차이를 최소화하는 방향성을 가지고 P 행렬과 Q 행렬에 적절한 값을 반복적으로 업데이트하면서 최적화된 예측 R 행렬을 구하는 방식이 SGD 기반 행렬 분해입니다.만족할 만한 오류값을 가질 때까지 작업을 반복하면서 P와 Q 값을 근사화합니다.\n",
        "\n",
        "SGD를 토대로 행렬 분해를 수행해 보겠습니다. 분해할 원본 행렬 R을 행렬 P와 행렬 R로 분해하고 다시 $P \\times Q.T$로 예측 행렬을 생성하겠습니다. 수행 과정이 다소 복잡해 보일 수 있으므로 가볍게 살피고 넘어가도 좋습니다. "
      ],
      "metadata": {
        "id": "KVeGBa_wt-k_"
      }
    },
    {
      "cell_type": "code",
      "source": [
        "import numpy as np\n",
        "\n",
        "# 원본 행렬 R을 생성합니다. \n",
        "R = np.array([[4, np.NaN, np.NaN, 2, np.NaN ],\n",
        "              [np.NaN, 5, np.NaN, 3, 1 ],\n",
        "              [np.NaN, np.NaN, 3, 4, 4 ],\n",
        "              [5, 2, 1, 2, np.NaN ]])\n",
        "# 행은 사용자, 열은 아이템으로 지정합니다.\n",
        "num_users, num_items = R.shape\n",
        "# 잠재 요인의 차원 K는 3으로 설정합니다. \n",
        "K=3\n",
        "# 분해 행렬인 P와 Q의 크기를 지정하고 정규분포를 가진 무작위 값으로 부여합니다. \n",
        "np.random.seed(1)\n",
        "P = np.random.normal(scale=1./K, size=(num_users, K))\n",
        "Q = np.random.normal(scale=1./K, size=(num_items, K))"
      ],
      "metadata": {
        "id": "tfn7QzYlWj43"
      },
      "execution_count": 1,
      "outputs": []
    },
    {
      "cell_type": "markdown",
      "source": [
        "원본 행렬 R과 예측 행렬간 오차를 도출하는 새 함수를 선언하겠습니다. 이 함수는 원본 행렬 R에서 Null 값이 아닌 행렬 값의 인덱스를 추출하여 이 인덱스에 있는 행렬 R의 값과 분해된 행렬 P와 Q를 이용하여 다시 조합된 예측 행렬 값의 RMSE 값을 반환합니다."
      ],
      "metadata": {
        "id": "2qe4rSDi6t9i"
      }
    },
    {
      "cell_type": "code",
      "source": [
        "from sklearn.metrics import mean_squared_error\n",
        "\n",
        "def get_rmse(R, P, Q, non_zeros):\n",
        "    error = 0\n",
        "    # 분해된 행렬 P와 Q.T를 내적하여 예측 행렬 R을 도출합니다.\n",
        "    full_pred_matrix = np.dot(P, Q.T)\n",
        "    \n",
        "    # 원본 행렬 R에서 Null 값이 아닌 값의 인덱스를 추출하여\n",
        "    # 원본 행렬 R과 예측 행렬의 RMSE를 추출합니다.\n",
        "    x_non_zero_index = [non_zero[0] for non_zero in non_zeros]\n",
        "    y_non_zero_index = [non_zero[1] for non_zero in non_zeros]\n",
        "    R_non_zeros = R[x_non_zero_index, y_non_zero_index]\n",
        "    full_pred_matrix_non_zeros = full_pred_matrix[x_non_zero_index, y_non_zero_index]\n",
        "      \n",
        "    mse = mean_squared_error(R_non_zeros, full_pred_matrix_non_zeros)\n",
        "    rmse = np.sqrt(mse)\n",
        "    \n",
        "    return rmse"
      ],
      "metadata": {
        "id": "kV674O8K7WH3"
      },
      "execution_count": 6,
      "outputs": []
    },
    {
      "cell_type": "markdown",
      "source": [
        "SGD 기법을 기반으로 행렬 분해를 수행하겠습니다. 먼저 행렬 R에서 Null 값을 제외한 데이터의 행렬 인덱스를 추출합니다."
      ],
      "metadata": {
        "id": "Y5boL-4ukMnX"
      }
    },
    {
      "cell_type": "code",
      "source": [
        "# R > 0인 행 인덱스, 열 인덱스, 값을 `non_zeros` 리스트에 저장합니다. \n",
        "non_zeros = [(i, j, R[i, j]) for i in range(num_users) for j in range(num_items) if R[i, j] > 0]\n",
        "\n",
        "# SGD를 반복해서 업데이트할 횟수를 지정합니다.\n",
        "steps = 1000\n",
        "# SGD의 학습률을 지정합니다.\n",
        "learning_rate = 0.01\n",
        "# L2 규제 계수를 지정합니다.\n",
        "r_lambda = 0.01\n",
        "\n",
        "# SGD 방식을 토대로 행렬 P와 행렬 Q를 계속 업데이트합니다. \n",
        "for step in range(steps):\n",
        "    for i, j, r in non_zeros:\n",
        "        # 실제 값과 예측 값의 차이인 오류 값을 구합니다.\n",
        "        eij = r - np.dot(P[i, :], Q[j, :].T)\n",
        "        # 규제를 반영한 SGD 업데이트를 적용합니다.\n",
        "        P[i, :] = P[i, :] + learning_rate * (eij * Q[j, :] - r_lambda * P[i,:])\n",
        "        Q[j, :] = Q[j, :] + learning_rate * (eij * P[i, :] - r_lambda * Q[j,:])\n",
        "\n",
        "    rmse = get_rmse(R, P, Q, non_zeros)\n",
        "    # 50회 반복할 때마다 오류 값을 출력합니다.\n",
        "    if (step % 50) == 0:\n",
        "        print(\"# iteration step:\", step, \"| rmse:\", rmse)"
      ],
      "metadata": {
        "colab": {
          "base_uri": "https://localhost:8080/"
        },
        "id": "r9UOClbjBodt",
        "outputId": "cb9b4ade-bc50-4e9c-822f-bbf1d218b9c3"
      },
      "execution_count": 7,
      "outputs": [
        {
          "output_type": "stream",
          "name": "stdout",
          "text": [
            "# iteration step: 0 | rmse: 0.016410959588961445\n",
            "# iteration step: 50 | rmse: 0.01637308966218993\n",
            "# iteration step: 100 | rmse: 0.016333882336881784\n",
            "# iteration step: 150 | rmse: 0.016293661274599174\n",
            "# iteration step: 200 | rmse: 0.01625272572302336\n",
            "# iteration step: 250 | rmse: 0.016211338984681307\n",
            "# iteration step: 300 | rmse: 0.016169725523756753\n",
            "# iteration step: 350 | rmse: 0.016128072491623933\n",
            "# iteration step: 400 | rmse: 0.016086533303745463\n",
            "# iteration step: 450 | rmse: 0.016045231961723017\n",
            "# iteration step: 500 | rmse: 0.016004267423347165\n",
            "# iteration step: 550 | rmse: 0.015963717671935662\n",
            "# iteration step: 600 | rmse: 0.01592364333325902\n",
            "# iteration step: 650 | rmse: 0.015884090797210332\n",
            "# iteration step: 700 | rmse: 0.01584509485896164\n",
            "# iteration step: 750 | rmse: 0.015806680922219037\n",
            "# iteration step: 800 | rmse: 0.01576886681829548\n",
            "# iteration step: 850 | rmse: 0.015731664296432853\n",
            "# iteration step: 900 | rmse: 0.0156950802377121\n",
            "# iteration step: 950 | rmse: 0.015659117639502156\n"
          ]
        }
      ]
    },
    {
      "cell_type": "markdown",
      "source": [
        "예측 행렬을 생성해 보겠습니다."
      ],
      "metadata": {
        "id": "ysMCgzxC1utp"
      }
    },
    {
      "cell_type": "code",
      "source": [
        "pred_matrix = np.dot(P, Q.T)\n",
        "print('원본 행렬:\\n', R)\n",
        "print()\n",
        "print('예측 행렬:\\n', np.round(pred_matrix, 3))"
      ],
      "metadata": {
        "colab": {
          "base_uri": "https://localhost:8080/"
        },
        "id": "BUcVSfBUBqw3",
        "outputId": "0b53fba2-7592-46d2-c7f3-525bea02fb46"
      },
      "execution_count": 10,
      "outputs": [
        {
          "output_type": "stream",
          "name": "stdout",
          "text": [
            "원본 행렬:\n",
            " [[ 4. nan nan  2. nan]\n",
            " [nan  5. nan  3.  1.]\n",
            " [nan nan  3.  4.  4.]\n",
            " [ 5.  2.  1.  2. nan]]\n",
            "\n",
            "예측 행렬:\n",
            " [[3.991 1.171 1.266 2.    1.649]\n",
            " [6.288 4.978 0.896 2.983 1.003]\n",
            " [6.401 0.866 2.987 3.978 3.986]\n",
            " [4.969 2.005 1.006 2.013 1.258]]\n"
          ]
        }
      ]
    },
    {
      "cell_type": "markdown",
      "source": [
        "두 행렬의 값은 큰 차이가 없습니다. Null 값은 예측값으로 채워졌습니다."
      ],
      "metadata": {
        "id": "CoQlXZHT2HkD"
      }
    },
    {
      "cell_type": "markdown",
      "source": [
        "# **5. 콘텐츠 기반 필터링 실습 - TMDB 5000 영화 데이터 세트**"
      ],
      "metadata": {
        "id": "hXxApJdDqGgF"
      }
    },
    {
      "cell_type": "markdown",
      "source": [
        "캐글의 [TMDB 5000 영화 데이터 세트](https://www.kaggle.com/tmdb/tmdb-movie-metadata)에서 파일을 다운로드하여 콘텐츠 기반 필터링을 실습해 보겠습니다. "
      ],
      "metadata": {
        "id": "91vR_cey1yeh"
      }
    },
    {
      "cell_type": "markdown",
      "source": [
        "## **5.1. 장르 속성을 이용한 영화 콘텐츠 기반 필터링**"
      ],
      "metadata": {
        "id": "vB9YlA9MqGdc"
      }
    },
    {
      "cell_type": "markdown",
      "source": [
        "콘텐츠 기반 필터링은 사용자가 특정 영화를 감상하고 그 영화를 좋아했다면 비슷한 특성이나 속성, 구성 요소 등을 가진 다른 영화를 추천하는 방식입니다. 예컨대 액션 장르인 영화 A를 재미있게 봤다면 해당하는 장르 중에 높은 평점을 받은 다른 영화를 추천하거나 영화 A를 제작한 감독의 다른 영화를 추천합니다. 다양한 콘텐츠(장르, 감독, 배우, 평점, 키워드, 영화 설명)는 영화(아이템, 상품, 서비스 등) 간 유사성을 판단하는 기준입니다.\n",
        "\n",
        "콘텐츠 기반 필터링 추천 시스템을 영화 장르 속성을 기반으로 생성해 보겠습니다. 장르 피처 값의 유사도를 비교하여 높은 평점을 가진 영화를 추천하는 시스템입니다."
      ],
      "metadata": {
        "id": "Hkycl3nV5_eF"
      }
    },
    {
      "cell_type": "markdown",
      "source": [
        "## **5.2. 데이터 로딩 및 가공**"
      ],
      "metadata": {
        "id": "QvIKyV07qGbK"
      }
    },
    {
      "cell_type": "code",
      "source": [
        "from google.colab import drive\n",
        "drive.mount('/content/gdrive/')"
      ],
      "metadata": {
        "colab": {
          "base_uri": "https://localhost:8080/"
        },
        "id": "zT4t3YO84AZa",
        "outputId": "44f88f4b-95e5-48bb-ee49-7a5bd86cee2f"
      },
      "execution_count": 11,
      "outputs": [
        {
          "output_type": "stream",
          "name": "stdout",
          "text": [
            "Mounted at /content/gdrive/\n"
          ]
        }
      ]
    },
    {
      "cell_type": "code",
      "source": [
        "import pandas as pd\n",
        "import numpy as np\n",
        "import warnings\n",
        "warnings.filterwarnings('ignore')\n",
        "\n",
        "movies = pd.read_csv('/content/gdrive/MyDrive/tmdb_5000/tmdb_5000_movies.csv')\n",
        "display(movies.head(3))\n",
        "print(movies.shape)"
      ],
      "metadata": {
        "colab": {
          "base_uri": "https://localhost:8080/",
          "height": 521
        },
        "id": "43lBM4Zf46vD",
        "outputId": "034bbefe-7fc5-4da1-95b7-bae8e58ab72c"
      },
      "execution_count": 18,
      "outputs": [
        {
          "output_type": "display_data",
          "data": {
            "text/plain": [
              "      budget                                             genres  \\\n",
              "0  237000000  [{\"id\": 28, \"name\": \"Action\"}, {\"id\": 12, \"nam...   \n",
              "1  300000000  [{\"id\": 12, \"name\": \"Adventure\"}, {\"id\": 14, \"...   \n",
              "2  245000000  [{\"id\": 28, \"name\": \"Action\"}, {\"id\": 12, \"nam...   \n",
              "\n",
              "                                       homepage      id  \\\n",
              "0                   http://www.avatarmovie.com/   19995   \n",
              "1  http://disney.go.com/disneypictures/pirates/     285   \n",
              "2   http://www.sonypictures.com/movies/spectre/  206647   \n",
              "\n",
              "                                            keywords original_language  \\\n",
              "0  [{\"id\": 1463, \"name\": \"culture clash\"}, {\"id\":...                en   \n",
              "1  [{\"id\": 270, \"name\": \"ocean\"}, {\"id\": 726, \"na...                en   \n",
              "2  [{\"id\": 470, \"name\": \"spy\"}, {\"id\": 818, \"name...                en   \n",
              "\n",
              "                             original_title  \\\n",
              "0                                    Avatar   \n",
              "1  Pirates of the Caribbean: At World's End   \n",
              "2                                   Spectre   \n",
              "\n",
              "                                            overview  popularity  \\\n",
              "0  In the 22nd century, a paraplegic Marine is di...  150.437577   \n",
              "1  Captain Barbossa, long believed to be dead, ha...  139.082615   \n",
              "2  A cryptic message from Bond’s past sends him o...  107.376788   \n",
              "\n",
              "                                production_companies  \\\n",
              "0  [{\"name\": \"Ingenious Film Partners\", \"id\": 289...   \n",
              "1  [{\"name\": \"Walt Disney Pictures\", \"id\": 2}, {\"...   \n",
              "2  [{\"name\": \"Columbia Pictures\", \"id\": 5}, {\"nam...   \n",
              "\n",
              "                                production_countries release_date     revenue  \\\n",
              "0  [{\"iso_3166_1\": \"US\", \"name\": \"United States o...   2009-12-10  2787965087   \n",
              "1  [{\"iso_3166_1\": \"US\", \"name\": \"United States o...   2007-05-19   961000000   \n",
              "2  [{\"iso_3166_1\": \"GB\", \"name\": \"United Kingdom\"...   2015-10-26   880674609   \n",
              "\n",
              "   runtime                                   spoken_languages    status  \\\n",
              "0    162.0  [{\"iso_639_1\": \"en\", \"name\": \"English\"}, {\"iso...  Released   \n",
              "1    169.0           [{\"iso_639_1\": \"en\", \"name\": \"English\"}]  Released   \n",
              "2    148.0  [{\"iso_639_1\": \"fr\", \"name\": \"Fran\\u00e7ais\"},...  Released   \n",
              "\n",
              "                                          tagline  \\\n",
              "0                     Enter the World of Pandora.   \n",
              "1  At the end of the world, the adventure begins.   \n",
              "2                           A Plan No One Escapes   \n",
              "\n",
              "                                      title  vote_average  vote_count  \n",
              "0                                    Avatar           7.2       11800  \n",
              "1  Pirates of the Caribbean: At World's End           6.9        4500  \n",
              "2                                   Spectre           6.3        4466  "
            ],
            "text/html": [
              "\n",
              "  <div id=\"df-8e7fbe1b-8559-42bf-8d2c-e44807757f37\">\n",
              "    <div class=\"colab-df-container\">\n",
              "      <div>\n",
              "<style scoped>\n",
              "    .dataframe tbody tr th:only-of-type {\n",
              "        vertical-align: middle;\n",
              "    }\n",
              "\n",
              "    .dataframe tbody tr th {\n",
              "        vertical-align: top;\n",
              "    }\n",
              "\n",
              "    .dataframe thead th {\n",
              "        text-align: right;\n",
              "    }\n",
              "</style>\n",
              "<table border=\"1\" class=\"dataframe\">\n",
              "  <thead>\n",
              "    <tr style=\"text-align: right;\">\n",
              "      <th></th>\n",
              "      <th>budget</th>\n",
              "      <th>genres</th>\n",
              "      <th>homepage</th>\n",
              "      <th>id</th>\n",
              "      <th>keywords</th>\n",
              "      <th>original_language</th>\n",
              "      <th>original_title</th>\n",
              "      <th>overview</th>\n",
              "      <th>popularity</th>\n",
              "      <th>production_companies</th>\n",
              "      <th>production_countries</th>\n",
              "      <th>release_date</th>\n",
              "      <th>revenue</th>\n",
              "      <th>runtime</th>\n",
              "      <th>spoken_languages</th>\n",
              "      <th>status</th>\n",
              "      <th>tagline</th>\n",
              "      <th>title</th>\n",
              "      <th>vote_average</th>\n",
              "      <th>vote_count</th>\n",
              "    </tr>\n",
              "  </thead>\n",
              "  <tbody>\n",
              "    <tr>\n",
              "      <th>0</th>\n",
              "      <td>237000000</td>\n",
              "      <td>[{\"id\": 28, \"name\": \"Action\"}, {\"id\": 12, \"nam...</td>\n",
              "      <td>http://www.avatarmovie.com/</td>\n",
              "      <td>19995</td>\n",
              "      <td>[{\"id\": 1463, \"name\": \"culture clash\"}, {\"id\":...</td>\n",
              "      <td>en</td>\n",
              "      <td>Avatar</td>\n",
              "      <td>In the 22nd century, a paraplegic Marine is di...</td>\n",
              "      <td>150.437577</td>\n",
              "      <td>[{\"name\": \"Ingenious Film Partners\", \"id\": 289...</td>\n",
              "      <td>[{\"iso_3166_1\": \"US\", \"name\": \"United States o...</td>\n",
              "      <td>2009-12-10</td>\n",
              "      <td>2787965087</td>\n",
              "      <td>162.0</td>\n",
              "      <td>[{\"iso_639_1\": \"en\", \"name\": \"English\"}, {\"iso...</td>\n",
              "      <td>Released</td>\n",
              "      <td>Enter the World of Pandora.</td>\n",
              "      <td>Avatar</td>\n",
              "      <td>7.2</td>\n",
              "      <td>11800</td>\n",
              "    </tr>\n",
              "    <tr>\n",
              "      <th>1</th>\n",
              "      <td>300000000</td>\n",
              "      <td>[{\"id\": 12, \"name\": \"Adventure\"}, {\"id\": 14, \"...</td>\n",
              "      <td>http://disney.go.com/disneypictures/pirates/</td>\n",
              "      <td>285</td>\n",
              "      <td>[{\"id\": 270, \"name\": \"ocean\"}, {\"id\": 726, \"na...</td>\n",
              "      <td>en</td>\n",
              "      <td>Pirates of the Caribbean: At World's End</td>\n",
              "      <td>Captain Barbossa, long believed to be dead, ha...</td>\n",
              "      <td>139.082615</td>\n",
              "      <td>[{\"name\": \"Walt Disney Pictures\", \"id\": 2}, {\"...</td>\n",
              "      <td>[{\"iso_3166_1\": \"US\", \"name\": \"United States o...</td>\n",
              "      <td>2007-05-19</td>\n",
              "      <td>961000000</td>\n",
              "      <td>169.0</td>\n",
              "      <td>[{\"iso_639_1\": \"en\", \"name\": \"English\"}]</td>\n",
              "      <td>Released</td>\n",
              "      <td>At the end of the world, the adventure begins.</td>\n",
              "      <td>Pirates of the Caribbean: At World's End</td>\n",
              "      <td>6.9</td>\n",
              "      <td>4500</td>\n",
              "    </tr>\n",
              "    <tr>\n",
              "      <th>2</th>\n",
              "      <td>245000000</td>\n",
              "      <td>[{\"id\": 28, \"name\": \"Action\"}, {\"id\": 12, \"nam...</td>\n",
              "      <td>http://www.sonypictures.com/movies/spectre/</td>\n",
              "      <td>206647</td>\n",
              "      <td>[{\"id\": 470, \"name\": \"spy\"}, {\"id\": 818, \"name...</td>\n",
              "      <td>en</td>\n",
              "      <td>Spectre</td>\n",
              "      <td>A cryptic message from Bond’s past sends him o...</td>\n",
              "      <td>107.376788</td>\n",
              "      <td>[{\"name\": \"Columbia Pictures\", \"id\": 5}, {\"nam...</td>\n",
              "      <td>[{\"iso_3166_1\": \"GB\", \"name\": \"United Kingdom\"...</td>\n",
              "      <td>2015-10-26</td>\n",
              "      <td>880674609</td>\n",
              "      <td>148.0</td>\n",
              "      <td>[{\"iso_639_1\": \"fr\", \"name\": \"Fran\\u00e7ais\"},...</td>\n",
              "      <td>Released</td>\n",
              "      <td>A Plan No One Escapes</td>\n",
              "      <td>Spectre</td>\n",
              "      <td>6.3</td>\n",
              "      <td>4466</td>\n",
              "    </tr>\n",
              "  </tbody>\n",
              "</table>\n",
              "</div>\n",
              "      <button class=\"colab-df-convert\" onclick=\"convertToInteractive('df-8e7fbe1b-8559-42bf-8d2c-e44807757f37')\"\n",
              "              title=\"Convert this dataframe to an interactive table.\"\n",
              "              style=\"display:none;\">\n",
              "        \n",
              "  <svg xmlns=\"http://www.w3.org/2000/svg\" height=\"24px\"viewBox=\"0 0 24 24\"\n",
              "       width=\"24px\">\n",
              "    <path d=\"M0 0h24v24H0V0z\" fill=\"none\"/>\n",
              "    <path d=\"M18.56 5.44l.94 2.06.94-2.06 2.06-.94-2.06-.94-.94-2.06-.94 2.06-2.06.94zm-11 1L8.5 8.5l.94-2.06 2.06-.94-2.06-.94L8.5 2.5l-.94 2.06-2.06.94zm10 10l.94 2.06.94-2.06 2.06-.94-2.06-.94-.94-2.06-.94 2.06-2.06.94z\"/><path d=\"M17.41 7.96l-1.37-1.37c-.4-.4-.92-.59-1.43-.59-.52 0-1.04.2-1.43.59L10.3 9.45l-7.72 7.72c-.78.78-.78 2.05 0 2.83L4 21.41c.39.39.9.59 1.41.59.51 0 1.02-.2 1.41-.59l7.78-7.78 2.81-2.81c.8-.78.8-2.07 0-2.86zM5.41 20L4 18.59l7.72-7.72 1.47 1.35L5.41 20z\"/>\n",
              "  </svg>\n",
              "      </button>\n",
              "      \n",
              "  <style>\n",
              "    .colab-df-container {\n",
              "      display:flex;\n",
              "      flex-wrap:wrap;\n",
              "      gap: 12px;\n",
              "    }\n",
              "\n",
              "    .colab-df-convert {\n",
              "      background-color: #E8F0FE;\n",
              "      border: none;\n",
              "      border-radius: 50%;\n",
              "      cursor: pointer;\n",
              "      display: none;\n",
              "      fill: #1967D2;\n",
              "      height: 32px;\n",
              "      padding: 0 0 0 0;\n",
              "      width: 32px;\n",
              "    }\n",
              "\n",
              "    .colab-df-convert:hover {\n",
              "      background-color: #E2EBFA;\n",
              "      box-shadow: 0px 1px 2px rgba(60, 64, 67, 0.3), 0px 1px 3px 1px rgba(60, 64, 67, 0.15);\n",
              "      fill: #174EA6;\n",
              "    }\n",
              "\n",
              "    [theme=dark] .colab-df-convert {\n",
              "      background-color: #3B4455;\n",
              "      fill: #D2E3FC;\n",
              "    }\n",
              "\n",
              "    [theme=dark] .colab-df-convert:hover {\n",
              "      background-color: #434B5C;\n",
              "      box-shadow: 0px 1px 3px 1px rgba(0, 0, 0, 0.15);\n",
              "      filter: drop-shadow(0px 1px 2px rgba(0, 0, 0, 0.3));\n",
              "      fill: #FFFFFF;\n",
              "    }\n",
              "  </style>\n",
              "\n",
              "      <script>\n",
              "        const buttonEl =\n",
              "          document.querySelector('#df-8e7fbe1b-8559-42bf-8d2c-e44807757f37 button.colab-df-convert');\n",
              "        buttonEl.style.display =\n",
              "          google.colab.kernel.accessAllowed ? 'block' : 'none';\n",
              "\n",
              "        async function convertToInteractive(key) {\n",
              "          const element = document.querySelector('#df-8e7fbe1b-8559-42bf-8d2c-e44807757f37');\n",
              "          const dataTable =\n",
              "            await google.colab.kernel.invokeFunction('convertToInteractive',\n",
              "                                                     [key], {});\n",
              "          if (!dataTable) return;\n",
              "\n",
              "          const docLinkHtml = 'Like what you see? Visit the ' +\n",
              "            '<a target=\"_blank\" href=https://colab.research.google.com/notebooks/data_table.ipynb>data table notebook</a>'\n",
              "            + ' to learn more about interactive tables.';\n",
              "          element.innerHTML = '';\n",
              "          dataTable['output_type'] = 'display_data';\n",
              "          await google.colab.output.renderOutput(dataTable, element);\n",
              "          const docLink = document.createElement('div');\n",
              "          docLink.innerHTML = docLinkHtml;\n",
              "          element.appendChild(docLink);\n",
              "        }\n",
              "      </script>\n",
              "    </div>\n",
              "  </div>\n",
              "  "
            ]
          },
          "metadata": {}
        },
        {
          "output_type": "stream",
          "name": "stdout",
          "text": [
            "(4803, 20)\n"
          ]
        }
      ]
    },
    {
      "cell_type": "markdown",
      "source": [
        "콘텐츠 기반 필터링 추천 분석에 적합한 피처만 추출하여 새 데이터프레임으로 정리하겠습니다."
      ],
      "metadata": {
        "id": "bUL1JnYj8ZA5"
      }
    },
    {
      "cell_type": "code",
      "source": [
        "movies_df = movies[['id', 'title', 'genres', 'vote_average', 'vote_count', 'popularity', 'keywords', 'overview']]\n",
        "movies_df.head(3)"
      ],
      "metadata": {
        "colab": {
          "base_uri": "https://localhost:8080/",
          "height": 239
        },
        "id": "-mR9khpr8lHD",
        "outputId": "fa2ec409-63ac-46ec-f7ac-5dda0982c849"
      },
      "execution_count": 19,
      "outputs": [
        {
          "output_type": "execute_result",
          "data": {
            "text/plain": [
              "       id                                     title  \\\n",
              "0   19995                                    Avatar   \n",
              "1     285  Pirates of the Caribbean: At World's End   \n",
              "2  206647                                   Spectre   \n",
              "\n",
              "                                              genres  vote_average  \\\n",
              "0  [{\"id\": 28, \"name\": \"Action\"}, {\"id\": 12, \"nam...           7.2   \n",
              "1  [{\"id\": 12, \"name\": \"Adventure\"}, {\"id\": 14, \"...           6.9   \n",
              "2  [{\"id\": 28, \"name\": \"Action\"}, {\"id\": 12, \"nam...           6.3   \n",
              "\n",
              "   vote_count  popularity                                           keywords  \\\n",
              "0       11800  150.437577  [{\"id\": 1463, \"name\": \"culture clash\"}, {\"id\":...   \n",
              "1        4500  139.082615  [{\"id\": 270, \"name\": \"ocean\"}, {\"id\": 726, \"na...   \n",
              "2        4466  107.376788  [{\"id\": 470, \"name\": \"spy\"}, {\"id\": 818, \"name...   \n",
              "\n",
              "                                            overview  \n",
              "0  In the 22nd century, a paraplegic Marine is di...  \n",
              "1  Captain Barbossa, long believed to be dead, ha...  \n",
              "2  A cryptic message from Bond’s past sends him o...  "
            ],
            "text/html": [
              "\n",
              "  <div id=\"df-b8ea6758-46f7-4fae-bced-eb6ad220c1da\">\n",
              "    <div class=\"colab-df-container\">\n",
              "      <div>\n",
              "<style scoped>\n",
              "    .dataframe tbody tr th:only-of-type {\n",
              "        vertical-align: middle;\n",
              "    }\n",
              "\n",
              "    .dataframe tbody tr th {\n",
              "        vertical-align: top;\n",
              "    }\n",
              "\n",
              "    .dataframe thead th {\n",
              "        text-align: right;\n",
              "    }\n",
              "</style>\n",
              "<table border=\"1\" class=\"dataframe\">\n",
              "  <thead>\n",
              "    <tr style=\"text-align: right;\">\n",
              "      <th></th>\n",
              "      <th>id</th>\n",
              "      <th>title</th>\n",
              "      <th>genres</th>\n",
              "      <th>vote_average</th>\n",
              "      <th>vote_count</th>\n",
              "      <th>popularity</th>\n",
              "      <th>keywords</th>\n",
              "      <th>overview</th>\n",
              "    </tr>\n",
              "  </thead>\n",
              "  <tbody>\n",
              "    <tr>\n",
              "      <th>0</th>\n",
              "      <td>19995</td>\n",
              "      <td>Avatar</td>\n",
              "      <td>[{\"id\": 28, \"name\": \"Action\"}, {\"id\": 12, \"nam...</td>\n",
              "      <td>7.2</td>\n",
              "      <td>11800</td>\n",
              "      <td>150.437577</td>\n",
              "      <td>[{\"id\": 1463, \"name\": \"culture clash\"}, {\"id\":...</td>\n",
              "      <td>In the 22nd century, a paraplegic Marine is di...</td>\n",
              "    </tr>\n",
              "    <tr>\n",
              "      <th>1</th>\n",
              "      <td>285</td>\n",
              "      <td>Pirates of the Caribbean: At World's End</td>\n",
              "      <td>[{\"id\": 12, \"name\": \"Adventure\"}, {\"id\": 14, \"...</td>\n",
              "      <td>6.9</td>\n",
              "      <td>4500</td>\n",
              "      <td>139.082615</td>\n",
              "      <td>[{\"id\": 270, \"name\": \"ocean\"}, {\"id\": 726, \"na...</td>\n",
              "      <td>Captain Barbossa, long believed to be dead, ha...</td>\n",
              "    </tr>\n",
              "    <tr>\n",
              "      <th>2</th>\n",
              "      <td>206647</td>\n",
              "      <td>Spectre</td>\n",
              "      <td>[{\"id\": 28, \"name\": \"Action\"}, {\"id\": 12, \"nam...</td>\n",
              "      <td>6.3</td>\n",
              "      <td>4466</td>\n",
              "      <td>107.376788</td>\n",
              "      <td>[{\"id\": 470, \"name\": \"spy\"}, {\"id\": 818, \"name...</td>\n",
              "      <td>A cryptic message from Bond’s past sends him o...</td>\n",
              "    </tr>\n",
              "  </tbody>\n",
              "</table>\n",
              "</div>\n",
              "      <button class=\"colab-df-convert\" onclick=\"convertToInteractive('df-b8ea6758-46f7-4fae-bced-eb6ad220c1da')\"\n",
              "              title=\"Convert this dataframe to an interactive table.\"\n",
              "              style=\"display:none;\">\n",
              "        \n",
              "  <svg xmlns=\"http://www.w3.org/2000/svg\" height=\"24px\"viewBox=\"0 0 24 24\"\n",
              "       width=\"24px\">\n",
              "    <path d=\"M0 0h24v24H0V0z\" fill=\"none\"/>\n",
              "    <path d=\"M18.56 5.44l.94 2.06.94-2.06 2.06-.94-2.06-.94-.94-2.06-.94 2.06-2.06.94zm-11 1L8.5 8.5l.94-2.06 2.06-.94-2.06-.94L8.5 2.5l-.94 2.06-2.06.94zm10 10l.94 2.06.94-2.06 2.06-.94-2.06-.94-.94-2.06-.94 2.06-2.06.94z\"/><path d=\"M17.41 7.96l-1.37-1.37c-.4-.4-.92-.59-1.43-.59-.52 0-1.04.2-1.43.59L10.3 9.45l-7.72 7.72c-.78.78-.78 2.05 0 2.83L4 21.41c.39.39.9.59 1.41.59.51 0 1.02-.2 1.41-.59l7.78-7.78 2.81-2.81c.8-.78.8-2.07 0-2.86zM5.41 20L4 18.59l7.72-7.72 1.47 1.35L5.41 20z\"/>\n",
              "  </svg>\n",
              "      </button>\n",
              "      \n",
              "  <style>\n",
              "    .colab-df-container {\n",
              "      display:flex;\n",
              "      flex-wrap:wrap;\n",
              "      gap: 12px;\n",
              "    }\n",
              "\n",
              "    .colab-df-convert {\n",
              "      background-color: #E8F0FE;\n",
              "      border: none;\n",
              "      border-radius: 50%;\n",
              "      cursor: pointer;\n",
              "      display: none;\n",
              "      fill: #1967D2;\n",
              "      height: 32px;\n",
              "      padding: 0 0 0 0;\n",
              "      width: 32px;\n",
              "    }\n",
              "\n",
              "    .colab-df-convert:hover {\n",
              "      background-color: #E2EBFA;\n",
              "      box-shadow: 0px 1px 2px rgba(60, 64, 67, 0.3), 0px 1px 3px 1px rgba(60, 64, 67, 0.15);\n",
              "      fill: #174EA6;\n",
              "    }\n",
              "\n",
              "    [theme=dark] .colab-df-convert {\n",
              "      background-color: #3B4455;\n",
              "      fill: #D2E3FC;\n",
              "    }\n",
              "\n",
              "    [theme=dark] .colab-df-convert:hover {\n",
              "      background-color: #434B5C;\n",
              "      box-shadow: 0px 1px 3px 1px rgba(0, 0, 0, 0.15);\n",
              "      filter: drop-shadow(0px 1px 2px rgba(0, 0, 0, 0.3));\n",
              "      fill: #FFFFFF;\n",
              "    }\n",
              "  </style>\n",
              "\n",
              "      <script>\n",
              "        const buttonEl =\n",
              "          document.querySelector('#df-b8ea6758-46f7-4fae-bced-eb6ad220c1da button.colab-df-convert');\n",
              "        buttonEl.style.display =\n",
              "          google.colab.kernel.accessAllowed ? 'block' : 'none';\n",
              "\n",
              "        async function convertToInteractive(key) {\n",
              "          const element = document.querySelector('#df-b8ea6758-46f7-4fae-bced-eb6ad220c1da');\n",
              "          const dataTable =\n",
              "            await google.colab.kernel.invokeFunction('convertToInteractive',\n",
              "                                                     [key], {});\n",
              "          if (!dataTable) return;\n",
              "\n",
              "          const docLinkHtml = 'Like what you see? Visit the ' +\n",
              "            '<a target=\"_blank\" href=https://colab.research.google.com/notebooks/data_table.ipynb>data table notebook</a>'\n",
              "            + ' to learn more about interactive tables.';\n",
              "          element.innerHTML = '';\n",
              "          dataTable['output_type'] = 'display_data';\n",
              "          await google.colab.output.renderOutput(dataTable, element);\n",
              "          const docLink = document.createElement('div');\n",
              "          docLink.innerHTML = docLinkHtml;\n",
              "          element.appendChild(docLink);\n",
              "        }\n",
              "      </script>\n",
              "    </div>\n",
              "  </div>\n",
              "  "
            ]
          },
          "metadata": {},
          "execution_count": 19
        }
      ]
    },
    {
      "cell_type": "markdown",
      "source": [
        "결측치를 확인해 보겠습니다."
      ],
      "metadata": {
        "id": "4HFOZcOx9L36"
      }
    },
    {
      "cell_type": "code",
      "source": [
        "movies_df.info()"
      ],
      "metadata": {
        "colab": {
          "base_uri": "https://localhost:8080/"
        },
        "id": "pgDgEhlt9G_T",
        "outputId": "9ec12c29-b184-4839-e8e6-ff9429c6fa40"
      },
      "execution_count": 20,
      "outputs": [
        {
          "output_type": "stream",
          "name": "stdout",
          "text": [
            "<class 'pandas.core.frame.DataFrame'>\n",
            "RangeIndex: 4803 entries, 0 to 4802\n",
            "Data columns (total 8 columns):\n",
            " #   Column        Non-Null Count  Dtype  \n",
            "---  ------        --------------  -----  \n",
            " 0   id            4803 non-null   int64  \n",
            " 1   title         4803 non-null   object \n",
            " 2   genres        4803 non-null   object \n",
            " 3   vote_average  4803 non-null   float64\n",
            " 4   vote_count    4803 non-null   int64  \n",
            " 5   popularity    4803 non-null   float64\n",
            " 6   keywords      4803 non-null   object \n",
            " 7   overview      4800 non-null   object \n",
            "dtypes: float64(2), int64(2), object(4)\n",
            "memory usage: 300.3+ KB\n"
          ]
        }
      ]
    },
    {
      "cell_type": "markdown",
      "source": [
        "\n",
        "\n",
        "---\n",
        "\n",
        "고민 중\n",
        "\n",
        "---\n",
        "\n"
      ],
      "metadata": {
        "id": "jrQfqxI39Pb_"
      }
    },
    {
      "cell_type": "markdown",
      "source": [
        "## **5.3. 장르 콘텐츠 유사도 측정**"
      ],
      "metadata": {
        "id": "mLyLWC7pqGY5"
      }
    },
    {
      "cell_type": "markdown",
      "source": [
        "## **5.4. 장르 콘텐츠 필터링을 이용한 영화 추천**"
      ],
      "metadata": {
        "id": "3jhEuY0TqGWp"
      }
    },
    {
      "cell_type": "markdown",
      "source": [
        "# **6. 아이템 기반 최근접 이웃 협업 필터링 실습**"
      ],
      "metadata": {
        "id": "PgkhlKewqGUY"
      }
    },
    {
      "cell_type": "markdown",
      "source": [
        "## **6.1. 데이터 가공 및 변환**"
      ],
      "metadata": {
        "id": "DZkEUXS-qGR-"
      }
    },
    {
      "cell_type": "markdown",
      "source": [
        "## **6.2. 영화 간 유사도 산출**"
      ],
      "metadata": {
        "id": "HpDsVSRjqGPw"
      }
    },
    {
      "cell_type": "markdown",
      "source": [
        "## **6.3. 아이템 기반 최근접 이웃 협업 필터링으로 개인화된 영화 추천**"
      ],
      "metadata": {
        "id": "MttaFPEqqGNl"
      }
    },
    {
      "cell_type": "markdown",
      "source": [
        "# **7. 행렬 분해를 이용한 잠재 요인 협업 필터링 실습**"
      ],
      "metadata": {
        "id": "vaMvULF2qGLR"
      }
    },
    {
      "cell_type": "markdown",
      "source": [
        "# **8. 파이썬 추천 시스템 패키지 - Surprise**"
      ],
      "metadata": {
        "id": "X-f0zRiWqGI1"
      }
    },
    {
      "cell_type": "markdown",
      "source": [
        "## **8.1. Surprise 패키지 소개**"
      ],
      "metadata": {
        "id": "JDWhh4FzqGGY"
      }
    },
    {
      "cell_type": "markdown",
      "source": [
        "## **8.2. Surprise를 이용한 추천 시스템 구축**"
      ],
      "metadata": {
        "id": "OXxiZKzXrvax"
      }
    },
    {
      "cell_type": "markdown",
      "source": [
        "## **8.3. Surprise 주요 모듈 소개**"
      ],
      "metadata": {
        "id": "ElGj6K6QrvW6"
      }
    },
    {
      "cell_type": "markdown",
      "source": [
        "### **8.3.1. Dataset**"
      ],
      "metadata": {
        "id": "dqPfRDkFrvT_"
      }
    },
    {
      "cell_type": "markdown",
      "source": [
        "### **8.3.2. OS 파일 데이터를 Surprise 데이터 세트로 로딩**"
      ],
      "metadata": {
        "id": "-IOE_8r1rvQM"
      }
    },
    {
      "cell_type": "markdown",
      "source": [
        "### **8.3.3. 판다스 DataFrame에서 Surprise 데이터 세트로 로딩**"
      ],
      "metadata": {
        "id": "5Dz1AmHervMc"
      }
    },
    {
      "cell_type": "markdown",
      "source": [
        "## **8.4. Surprise 추천 알고리즘 클래스**"
      ],
      "metadata": {
        "id": "ELFOrEk0ruzE"
      }
    },
    {
      "cell_type": "markdown",
      "source": [
        "## **8.5. 베이스라인 평점**"
      ],
      "metadata": {
        "id": "8Huwd2VTr_i2"
      }
    },
    {
      "cell_type": "markdown",
      "source": [
        "## **8.6. 교차 검증과 하이퍼 파라미터 튜닝**"
      ],
      "metadata": {
        "id": "aGeQHnjLr_gA"
      }
    },
    {
      "cell_type": "markdown",
      "source": [
        "## **8.7. Surprise를 이용한 개인화 영화 추천 시스템 구축**"
      ],
      "metadata": {
        "id": "48dOiM1_r_dq"
      }
    },
    {
      "cell_type": "markdown",
      "source": [
        "# **9. 정리**"
      ],
      "metadata": {
        "id": "RBWPpUQqr_bT"
      }
    }
  ]
}