{
  "nbformat": 4,
  "nbformat_minor": 0,
  "metadata": {
    "colab": {
      "name": "CHAPTER9 추천 시스템.ipynb",
      "provenance": [],
      "toc_visible": true,
      "authorship_tag": "ABX9TyMOKd1rQK35teppWR+LjTlj",
      "include_colab_link": true
    },
    "kernelspec": {
      "name": "python3",
      "display_name": "Python 3"
    },
    "language_info": {
      "name": "python"
    }
  },
  "cells": [
    {
      "cell_type": "markdown",
      "metadata": {
        "id": "view-in-github",
        "colab_type": "text"
      },
      "source": [
        "<a href=\"https://colab.research.google.com/github/LeeSeungwon89/Machine-learning_Theory/blob/master/CHAPTER9%20%EC%B6%94%EC%B2%9C%20%EC%8B%9C%EC%8A%A4%ED%85%9C.ipynb\" target=\"_parent\"><img src=\"https://colab.research.google.com/assets/colab-badge.svg\" alt=\"Open In Colab\"/></a>"
      ]
    },
    {
      "cell_type": "markdown",
      "source": [
        "# **1. 추천 시스템의 개요와 배경**"
      ],
      "metadata": {
        "id": "32PpwIs4qG4G"
      }
    },
    {
      "cell_type": "markdown",
      "source": [
        "## **1.1. 추천 시스템의 개요**"
      ],
      "metadata": {
        "id": "Pcmm-USmqG1T"
      }
    },
    {
      "cell_type": "markdown",
      "source": [
        "## **1.2. 온라인 스토어의 필수 요소, 추천 시스템**"
      ],
      "metadata": {
        "id": "lKL6qVt4qGyp"
      }
    },
    {
      "cell_type": "markdown",
      "source": [
        "## **1.3. 추천 시스템의 유형**"
      ],
      "metadata": {
        "id": "3wMF_WtKqGwX"
      }
    },
    {
      "cell_type": "markdown",
      "source": [
        "# **2. 콘텐츠 기반 필터링 추천 시스템**"
      ],
      "metadata": {
        "id": "V27NBTMwqGuH"
      }
    },
    {
      "cell_type": "markdown",
      "source": [
        "# **3. 최근접 이웃 협업 필터링**"
      ],
      "metadata": {
        "id": "-6QByvwzqGsX"
      }
    },
    {
      "cell_type": "markdown",
      "source": [
        "# **4. 잠재 요인 협업 필터링**"
      ],
      "metadata": {
        "id": "sRSqI-AEqGpR"
      }
    },
    {
      "cell_type": "markdown",
      "source": [
        "## **4.1. 잠재 요인 협업 필터링의 이해**"
      ],
      "metadata": {
        "id": "50Da_Cc6qGm-"
      }
    },
    {
      "cell_type": "markdown",
      "source": [
        "## **4.2. 행렬 분해의 이해**"
      ],
      "metadata": {
        "id": "v-f3j2AfqGky"
      }
    },
    {
      "cell_type": "markdown",
      "source": [
        "## **4.3. 확률적 경사 하강법을 이용한 행렬 분해**"
      ],
      "metadata": {
        "id": "wDVccNrcqGiP"
      }
    },
    {
      "cell_type": "markdown",
      "source": [
        "# **5. 콘텐츠 기반 필터링 실습 - TMDB 5000 영화 데이터 세트**"
      ],
      "metadata": {
        "id": "hXxApJdDqGgF"
      }
    },
    {
      "cell_type": "markdown",
      "source": [
        "## **5.1. 장르 속성을 이용한 영화 콘텐츠 기반 필터링**"
      ],
      "metadata": {
        "id": "vB9YlA9MqGdc"
      }
    },
    {
      "cell_type": "markdown",
      "source": [
        "## **5.2. 데이터 로딩 및 가공**"
      ],
      "metadata": {
        "id": "QvIKyV07qGbK"
      }
    },
    {
      "cell_type": "markdown",
      "source": [
        "## **5.3. 장르 콘텐츠 유사도 측정**"
      ],
      "metadata": {
        "id": "mLyLWC7pqGY5"
      }
    },
    {
      "cell_type": "markdown",
      "source": [
        "## **5.4. 장르 콘텐츠 필터링을 이용한 영화 추천**"
      ],
      "metadata": {
        "id": "3jhEuY0TqGWp"
      }
    },
    {
      "cell_type": "markdown",
      "source": [
        "# **6. 아이템 기반 최근접 이웃 협업 필터링 실습**"
      ],
      "metadata": {
        "id": "PgkhlKewqGUY"
      }
    },
    {
      "cell_type": "markdown",
      "source": [
        "## **6.1. 데이터 가공 및 변환**"
      ],
      "metadata": {
        "id": "DZkEUXS-qGR-"
      }
    },
    {
      "cell_type": "markdown",
      "source": [
        "## **6.2. 영화 간 유사도 산출**"
      ],
      "metadata": {
        "id": "HpDsVSRjqGPw"
      }
    },
    {
      "cell_type": "markdown",
      "source": [
        "## **6.3. 아이템 기반 최근접 이웃 협업 필터링으로 개인화된 영화 추천**"
      ],
      "metadata": {
        "id": "MttaFPEqqGNl"
      }
    },
    {
      "cell_type": "markdown",
      "source": [
        "# **7. 행렬 분해를 이용한 잠재 요인 협업 필터링 실습**"
      ],
      "metadata": {
        "id": "vaMvULF2qGLR"
      }
    },
    {
      "cell_type": "markdown",
      "source": [
        "# **8. 파이썬 추천 시스템 패키지 - Surprise**"
      ],
      "metadata": {
        "id": "X-f0zRiWqGI1"
      }
    },
    {
      "cell_type": "markdown",
      "source": [
        "## **8.1. Surprise 패키지 소개**"
      ],
      "metadata": {
        "id": "JDWhh4FzqGGY"
      }
    },
    {
      "cell_type": "markdown",
      "source": [
        "## **8.2. Surprise를 이용한 추천 시스템 구축**"
      ],
      "metadata": {
        "id": "OXxiZKzXrvax"
      }
    },
    {
      "cell_type": "markdown",
      "source": [
        "## **8.3. Surprise 주요 모듈 소개**"
      ],
      "metadata": {
        "id": "ElGj6K6QrvW6"
      }
    },
    {
      "cell_type": "markdown",
      "source": [
        "### **8.3.1. Dataset**"
      ],
      "metadata": {
        "id": "dqPfRDkFrvT_"
      }
    },
    {
      "cell_type": "markdown",
      "source": [
        "### **8.3.2. OS 파일 데이터를 Surprise 데이터 세트로 로딩**"
      ],
      "metadata": {
        "id": "-IOE_8r1rvQM"
      }
    },
    {
      "cell_type": "markdown",
      "source": [
        "### **8.3.3. 판다스 DataFrame에서 Surprise 데이터 세트로 로딩**"
      ],
      "metadata": {
        "id": "5Dz1AmHervMc"
      }
    },
    {
      "cell_type": "markdown",
      "source": [
        "## **8.4. Surprise 추천 알고리즘 클래스**"
      ],
      "metadata": {
        "id": "ELFOrEk0ruzE"
      }
    },
    {
      "cell_type": "markdown",
      "source": [
        "## **8.5. 베이스라인 평점**"
      ],
      "metadata": {
        "id": "8Huwd2VTr_i2"
      }
    },
    {
      "cell_type": "markdown",
      "source": [
        "## **8.6. 교차 검증과 하이퍼 파라미터 튜닝**"
      ],
      "metadata": {
        "id": "aGeQHnjLr_gA"
      }
    },
    {
      "cell_type": "markdown",
      "source": [
        "## **8.7. Surprise를 이용한 개인화 영화 추천 시스템 구축**"
      ],
      "metadata": {
        "id": "48dOiM1_r_dq"
      }
    },
    {
      "cell_type": "markdown",
      "source": [
        "# **9. 정리**"
      ],
      "metadata": {
        "id": "RBWPpUQqr_bT"
      }
    }
  ]
}