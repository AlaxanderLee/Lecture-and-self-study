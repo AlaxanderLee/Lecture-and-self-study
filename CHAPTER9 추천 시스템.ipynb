{
  "nbformat": 4,
  "nbformat_minor": 0,
  "metadata": {
    "colab": {
      "name": "CHAPTER9 추천 시스템.ipynb",
      "provenance": [],
      "toc_visible": true,
      "collapsed_sections": [],
      "authorship_tag": "ABX9TyOYbZDdRAQfFeep+kJiQPJu",
      "include_colab_link": true
    },
    "kernelspec": {
      "name": "python3",
      "display_name": "Python 3"
    },
    "language_info": {
      "name": "python"
    }
  },
  "cells": [
    {
      "cell_type": "markdown",
      "metadata": {
        "id": "view-in-github",
        "colab_type": "text"
      },
      "source": [
        "<a href=\"https://colab.research.google.com/github/LeeSeungwon89/Machine-learning_Theory/blob/master/CHAPTER9%20%EC%B6%94%EC%B2%9C%20%EC%8B%9C%EC%8A%A4%ED%85%9C.ipynb\" target=\"_parent\"><img src=\"https://colab.research.google.com/assets/colab-badge.svg\" alt=\"Open In Colab\"/></a>"
      ]
    },
    {
      "cell_type": "markdown",
      "source": [
        "# **1. 추천 시스템의 개요와 배경**"
      ],
      "metadata": {
        "id": "32PpwIs4qG4G"
      }
    },
    {
      "cell_type": "markdown",
      "source": [
        "## **1.1. 추천 시스템의 개요**"
      ],
      "metadata": {
        "id": "Pcmm-USmqG1T"
      }
    },
    {
      "cell_type": "markdown",
      "source": [
        "본서를 참고하시기 바랍니다."
      ],
      "metadata": {
        "id": "UrZKHaVTEyH2"
      }
    },
    {
      "cell_type": "markdown",
      "source": [
        "## **1.2. 온라인 스토어의 필수 요소, 추천 시스템**"
      ],
      "metadata": {
        "id": "lKL6qVt4qGyp"
      }
    },
    {
      "cell_type": "markdown",
      "source": [
        "추천 시스템은 온라인에서 매우 필수적인 기술입니다. 전자상거래, 콘텐츠 제공 등 다양한 온라인 업종에서 사용됩니다. \n",
        "\n",
        "아래 데이터는 추천 시스템을 구성하는 데 사용될 수 있습니다.\n",
        "\n",
        "- 사용자가 무엇을 클릭했습니까?\n",
        "\n",
        "- 사용자가 어떤 상품을 확인하거나 장바구니에 넣었습니까?\n",
        "\n",
        "- 사용자가 어떤 상품을 구매했습니까?\n",
        "\n",
        "- 사용자가 제품과 영화를 어떻게 평가했습니까?\n",
        "\n",
        "- 사용자가 본인의 취향을 어떻게 정의했습니까?\n",
        "\n",
        "이 외에도 여러 데이터가 사용될 수 있습니다."
      ],
      "metadata": {
        "id": "WKrllrJiAnQZ"
      }
    },
    {
      "cell_type": "markdown",
      "source": [
        "## **1.3. 추천 시스템의 유형**"
      ],
      "metadata": {
        "id": "3wMF_WtKqGwX"
      }
    },
    {
      "cell_type": "markdown",
      "source": [
        "추천 시스템의 유형은 바로 아래 파트에서 다룹니다. **콘텐츠 기반 필터링**, **협업 필터링**(**최근접 이웃 협업 필터링**, **잠재 요인 협업 필터링**)이 있습니다. 대부분의 온라인 스토어에서는 잠재 요인 협업 필터링을 사용하지만 최근에는 개인화 특성을 더 강화할 목적으로 하이브리드 형식(콘텐츠 기반 필터링 + 협업 기반 필터링)을 사용하는 경우도 많아지는 추세입니다.\n",
        "\n",
        "기실 **4.3. 확률적 경사 하강법을 이용한 행렬 분해** 파트까지는 아래 정리본보다 본서와 [링크1](https://hipster4020.tistory.com/109), [링크2](https://big-dream-world.tistory.com/61?category=470634)에 더 상세하게 설명되어 있습니다. 공부 흔적을 남길 목적이므로 핵심 내용만 정리하겠습니다."
      ],
      "metadata": {
        "id": "HNitXVmRCrFf"
      }
    },
    {
      "cell_type": "markdown",
      "source": [
        "# **2. 콘텐츠 기반 필터링 추천 시스템**"
      ],
      "metadata": {
        "id": "V27NBTMwqGuH"
      }
    },
    {
      "cell_type": "markdown",
      "source": [
        "**콘텐츠 기반 필터링(Content Based Filtering)**은 사용자가 특정 아이템을 선호하는 경우에 비슷한 콘텐츠를 가진 다른 아이템을 추천하는 방식입니다. 예컨대 사용자가 특정 영화에 높은 평점을 줬다면 그 영화의 장르, 배우, 감독, 영화 키워드 등 콘텐츠와 유사한 영화를 추천합니다. \n",
        "\n",
        "추천 시스템의 초창기에 주로 사용된 방식이지만 아이템 특성에 따라 여전히 많이 사용됩니다. "
      ],
      "metadata": {
        "id": "_ndRqNMLCf2d"
      }
    },
    {
      "cell_type": "markdown",
      "source": [
        "# **3. 최근접 이웃 협업 필터링**"
      ],
      "metadata": {
        "id": "-6QByvwzqGsX"
      }
    },
    {
      "cell_type": "markdown",
      "source": [
        "먼저 **협업 필터링(Collaborative Filtering)**에 대해 살펴볼 필요가 있습니다. 이 방식은 사용자 행동 양식(User Behavior)만을 토대로 추천합니다. 사용자 행동 양식이란 사용자가 아이템에 부여한 평점이나 상품 구매 이력 등을 예로 들 수 있습니다.\n",
        "\n",
        "협업 필터링은 **사용자-아이템 평점 매트릭스(행렬)**처럼 축적된 사용자 행동 데이터를 토대로 사용자가 아직 평가하지 않은 아이템을 예측 평가(Predicted Rating) 하는 것이 주목표입니다. 사용자-아이템 평점 행렬은 많은 아이템을 열로 가진 다차원 행렬이며, 사용자가 평점을 매기는 경우가 많지 않으므로 희소 행렬입니다. 예컨대 사용자(행, Row)가 아이템 1 ~ 4(열, Column) 중에 아이템 1과 아이템 3만 평점을 부여했다면 이 평점들을 토대로 아이템 4의 평점을 예측 평가 합니다.\n",
        "\n",
        "**최근접 이웃 협업 필터링(Nearest Neighbor Collaborative Filtering)**은 **메모리(Memory) 협업 필터링**으로도 불립니다. 여기서 아래 두 기반으로 나뉩니다.\n",
        "\n",
        "- **사용자 기반(User-User)**: 당신과 비슷한 고객들이 다음 상품도 선택했습니다.\n",
        "\n",
        "- **아이템 기반(Item-Item)**: 이 상품을 선택한 다른 고객들은 다음 상품도 선택했습니다.\n",
        "\n",
        "첫 번째로, 사용자 기반 방식은 특정 사용자와 비슷한 다른 사용자를 TOP-N으로 선정하고, 이 TOP-N 사용자가 좋아하는 아이템을 추천합니다. 특정 사용자와 다른 사용자 간 유사도(Similarity)를 측정하여 가장 높은 유사도를 가진 TOP-N 사용자를 추출하고 선호하는 아이템을 추천하는 것입니다. 예컨대 사용자 1 ~ 3 중에 사용자 1에게 아이템을 추천하는 경우 사용자 3보다 사용자 2가 사용자 1과 비슷하게 평점을 부여했다면, 사용자 2가 사용한 아이템을 사용자 1에게 추천합니다.\n",
        "\n",
        "참고로 유사도 측정에는 텍스트 분석에 사용되는 코사인 유사도가 가장 많이 사용됩니다. 추천 시스템에 사용되는 데이터 또한 텍스트 데이터처럼 희소 행렬이기 때문입니다.\n",
        "\n",
        "두 번째로, 아이템 기반 방식은 아이템이 가지는 속성과는 무관하게 사용자가 특정 아이템을 선호하는지 여부(평점을 어떻게 부여했는지)가 추천 기준입니다. 사용자 기반 방식과 다르게 사용자-아이템 평점 행렬의 행과 열이 반대 형태입니다. 행이 아이템이고 열이 사용자인 것입니다. 예컨대 여러 사용자가 부여한 아이템 1 ~ 3의 평점 중에 아이템 1과 2의 평점이 아이템 3의 평점보다 유사하다면 사용자에게 아이템 2를 추천합니다.\n",
        "\n",
        "대개 두 방식 중에 아이템 기반 방식이 더 높은 정확도를 보이며 대부분 활용됩니다. 사용자 기반 방식은 거의 사용되지 않습니다. 비슷한 아이템을 선호하거나 선택한다고 모든 사용자의 취향이 비슷하다고 단정하기엔 근거가 미약합니다. 유행을 타거나 유명한 아이템의 경우 취향과 무관하게 많은 사용자가 선택하기도 합니다. 더욱이 사용자들이 평점을 부여한 아이템의 경우 대체적으로 평점을 부여한 빈도가 많지 않은데 이를 토대로 유사도를 비교하는 것은 다소 무리가 있습니다.\n",
        "\n",
        "최근접 이웃 협업 필터링은 콘텐츠 기반 필터링처럼 추천 시스템의 초창기에 주로 사용된 방식이지만 아이템 특성에 따라 여전히 많이 사용됩니다. 특히 아마존은 아이템 기반의 최근접 이웃 협업 필터링을 추천 엔진으로 사용합니다."
      ],
      "metadata": {
        "id": "d8h-R7KBE0xb"
      }
    },
    {
      "cell_type": "markdown",
      "source": [
        "# **4. 잠재 요인 협업 필터링**"
      ],
      "metadata": {
        "id": "sRSqI-AEqGpR"
      }
    },
    {
      "cell_type": "markdown",
      "source": [
        "## **4.1. 잠재 요인 협업 필터링의 이해**"
      ],
      "metadata": {
        "id": "50Da_Cc6qGm-"
      }
    },
    {
      "cell_type": "markdown",
      "source": [
        "**잠재 요인 협업 필터링(Latent Factor Collaborative Filtering)**은 사용자-아이템 평점 행렬에 있는 잠재 요인을 추출하여 추천 예측을 수행하는 기법입니다. 잠재 요인은 **행렬 분해(Matrix Factorization)** 기법을 활용하여 대규모 다차원 행렬을 **SVD(Singular Value Decomposition, 특이값 분해)** 같은 차원 감소 기법으로 분해하는 과정에서 추출합니다. 즉 잠재 요인 협업 필터링은 행렬 분해 기법을 기반으로 합니다.\n",
        "\n",
        "잠재 요인을 명확하게 정의내릴 순 없지만 이 잠재 요인을 기반으로 사용자-아이템 평점 행렬을 저차원 밀집 행렬인 **사용자-잠재 요인 행렬**과 아이템-잠재 요인 매트릭스의 전치 행렬인 **잠재 요인-아이템 행렬**로 분해할 수 있습니다. 두 행렬을 내적하여 새로운 예측 사용자-아이템 평점 행렬 데이터를 생성하고 사용자가 평점을 부여하지 않은 아이템에 예측 평점을 부여하는 것이 잠재 요인 협력 필터링의 핵심입니다.\n",
        "\n",
        "행렬 분해를 거쳐 추출되는 잠재 요인이 무엇을 의미하는지는 알 수 없습니다. 다만 영화 평점 기반의 사용자-아이템 평점 행렬이라면 장르별 특성 선호도 정도로 가정할 수 있습니다. 사용자-잠재 요인 행렬은 영화 장르 선호도, 아이템-잠재 요인 행렬은 장르별 특성값으로 정의할 수 있습니다. 본서와 [링크](https://ariz1623.tistory.com/228)에서 이 가정에 대하여 그림과 함께 메커니즘을 설명합니다."
      ],
      "metadata": {
        "id": "fQov4tQBFRDF"
      }
    },
    {
      "cell_type": "markdown",
      "source": [
        "## **4.2. 행렬 분해의 이해**"
      ],
      "metadata": {
        "id": "v-f3j2AfqGky"
      }
    },
    {
      "cell_type": "markdown",
      "source": [
        "행렬 분해와 예측 평점 도출에 대한 원리는 본서와 [링크](https://big-dream-world.tistory.com/69)를 참고하시기 바랍니다.\n",
        "\n",
        "참고로 행렬 분해는 주로 SVD를 이용하지만 Null 값이 존재하는 행렬에는 적용할 수 없습니다. 이런 경우 **SGD(Stochastic Gradient Descent, 확률적 경사 하강법)**나 **ALS(Alternating Least Squares, 교대 최소 제곱법)**를 사용하여 SVD를 수행합니다."
      ],
      "metadata": {
        "id": "hIdZ7t9Vc0kf"
      }
    },
    {
      "cell_type": "markdown",
      "source": [
        "## **4.3. 확률적 경사 하강법을 이용한 행렬 분해**"
      ],
      "metadata": {
        "id": "wDVccNrcqGiP"
      }
    },
    {
      "cell_type": "markdown",
      "source": [
        "확률적 경사 하강법을 이용한 행렬 분해의 원리는 본서와 [링크](https://big-dream-world.tistory.com/69)를 참고하시기 바랍니다.\n",
        "\n",
        "일반적으로 사용자-아이템 평점 행렬은 행렬 분해를 위해 단순히 예측 오류값의 최소화와 학습 시 과적합을 피하기 위해 규제를 반영한 비용 함수를 적용합니다. L2 규제를 반영하여 실제 R 행렬 값과 예측 R 행렬 값의 차이를 최소화하는 방향성을 가지고 P 행렬과 Q 행렬에 적절한 값을 반복적으로 업데이트하면서 최적화된 예측 R 행렬을 구하는 방식이 SGD 기반 행렬 분해입니다.만족할 만한 오류값을 가질 때까지 작업을 반복하면서 P와 Q 값을 근사화합니다.\n",
        "\n",
        "SGD를 토대로 행렬 분해를 수행해 보겠습니다. 분해할 원본 행렬 R을 행렬 P와 행렬 R로 분해하고 다시 $P \\times Q.T$로 예측 행렬을 생성하겠습니다. "
      ],
      "metadata": {
        "id": "KVeGBa_wt-k_"
      }
    },
    {
      "cell_type": "markdown",
      "source": [
        "\n",
        "\n",
        "---\n",
        "\n",
        "고민 중\n",
        "\n",
        "---\n",
        "\n"
      ],
      "metadata": {
        "id": "DOlwriqXzy7C"
      }
    },
    {
      "cell_type": "markdown",
      "source": [
        "# **5. 콘텐츠 기반 필터링 실습 - TMDB 5000 영화 데이터 세트**"
      ],
      "metadata": {
        "id": "hXxApJdDqGgF"
      }
    },
    {
      "cell_type": "markdown",
      "source": [
        "## **5.1. 장르 속성을 이용한 영화 콘텐츠 기반 필터링**"
      ],
      "metadata": {
        "id": "vB9YlA9MqGdc"
      }
    },
    {
      "cell_type": "markdown",
      "source": [
        "## **5.2. 데이터 로딩 및 가공**"
      ],
      "metadata": {
        "id": "QvIKyV07qGbK"
      }
    },
    {
      "cell_type": "markdown",
      "source": [
        "## **5.3. 장르 콘텐츠 유사도 측정**"
      ],
      "metadata": {
        "id": "mLyLWC7pqGY5"
      }
    },
    {
      "cell_type": "markdown",
      "source": [
        "## **5.4. 장르 콘텐츠 필터링을 이용한 영화 추천**"
      ],
      "metadata": {
        "id": "3jhEuY0TqGWp"
      }
    },
    {
      "cell_type": "markdown",
      "source": [
        "# **6. 아이템 기반 최근접 이웃 협업 필터링 실습**"
      ],
      "metadata": {
        "id": "PgkhlKewqGUY"
      }
    },
    {
      "cell_type": "markdown",
      "source": [
        "## **6.1. 데이터 가공 및 변환**"
      ],
      "metadata": {
        "id": "DZkEUXS-qGR-"
      }
    },
    {
      "cell_type": "markdown",
      "source": [
        "## **6.2. 영화 간 유사도 산출**"
      ],
      "metadata": {
        "id": "HpDsVSRjqGPw"
      }
    },
    {
      "cell_type": "markdown",
      "source": [
        "## **6.3. 아이템 기반 최근접 이웃 협업 필터링으로 개인화된 영화 추천**"
      ],
      "metadata": {
        "id": "MttaFPEqqGNl"
      }
    },
    {
      "cell_type": "markdown",
      "source": [
        "# **7. 행렬 분해를 이용한 잠재 요인 협업 필터링 실습**"
      ],
      "metadata": {
        "id": "vaMvULF2qGLR"
      }
    },
    {
      "cell_type": "markdown",
      "source": [
        "# **8. 파이썬 추천 시스템 패키지 - Surprise**"
      ],
      "metadata": {
        "id": "X-f0zRiWqGI1"
      }
    },
    {
      "cell_type": "markdown",
      "source": [
        "## **8.1. Surprise 패키지 소개**"
      ],
      "metadata": {
        "id": "JDWhh4FzqGGY"
      }
    },
    {
      "cell_type": "markdown",
      "source": [
        "## **8.2. Surprise를 이용한 추천 시스템 구축**"
      ],
      "metadata": {
        "id": "OXxiZKzXrvax"
      }
    },
    {
      "cell_type": "markdown",
      "source": [
        "## **8.3. Surprise 주요 모듈 소개**"
      ],
      "metadata": {
        "id": "ElGj6K6QrvW6"
      }
    },
    {
      "cell_type": "markdown",
      "source": [
        "### **8.3.1. Dataset**"
      ],
      "metadata": {
        "id": "dqPfRDkFrvT_"
      }
    },
    {
      "cell_type": "markdown",
      "source": [
        "### **8.3.2. OS 파일 데이터를 Surprise 데이터 세트로 로딩**"
      ],
      "metadata": {
        "id": "-IOE_8r1rvQM"
      }
    },
    {
      "cell_type": "markdown",
      "source": [
        "### **8.3.3. 판다스 DataFrame에서 Surprise 데이터 세트로 로딩**"
      ],
      "metadata": {
        "id": "5Dz1AmHervMc"
      }
    },
    {
      "cell_type": "markdown",
      "source": [
        "## **8.4. Surprise 추천 알고리즘 클래스**"
      ],
      "metadata": {
        "id": "ELFOrEk0ruzE"
      }
    },
    {
      "cell_type": "markdown",
      "source": [
        "## **8.5. 베이스라인 평점**"
      ],
      "metadata": {
        "id": "8Huwd2VTr_i2"
      }
    },
    {
      "cell_type": "markdown",
      "source": [
        "## **8.6. 교차 검증과 하이퍼 파라미터 튜닝**"
      ],
      "metadata": {
        "id": "aGeQHnjLr_gA"
      }
    },
    {
      "cell_type": "markdown",
      "source": [
        "## **8.7. Surprise를 이용한 개인화 영화 추천 시스템 구축**"
      ],
      "metadata": {
        "id": "48dOiM1_r_dq"
      }
    },
    {
      "cell_type": "markdown",
      "source": [
        "# **9. 정리**"
      ],
      "metadata": {
        "id": "RBWPpUQqr_bT"
      }
    }
  ]
}