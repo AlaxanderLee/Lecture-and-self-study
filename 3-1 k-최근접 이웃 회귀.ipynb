{
  "nbformat": 4,
  "nbformat_minor": 0,
  "metadata": {
    "colab": {
      "name": "3-1 k-최근접 이웃 회귀.ipynb",
      "provenance": [],
      "collapsed_sections": [],
      "toc_visible": true,
      "authorship_tag": "ABX9TyNZ1JMky+sqV5ijLsDW7N3T",
      "include_colab_link": true
    },
    "kernelspec": {
      "name": "python3",
      "display_name": "Python 3"
    },
    "language_info": {
      "name": "python"
    }
  },
  "cells": [
    {
      "cell_type": "markdown",
      "metadata": {
        "id": "view-in-github",
        "colab_type": "text"
      },
      "source": [
        "<a href=\"https://colab.research.google.com/github/LeeSeungwon89/Lecture-and-self-study/blob/master/3-1%20k-%EC%B5%9C%EA%B7%BC%EC%A0%91%20%EC%9D%B4%EC%9B%83%20%ED%9A%8C%EA%B7%80.ipynb\" target=\"_parent\"><img src=\"https://colab.research.google.com/assets/colab-badge.svg\" alt=\"Open In Colab\"/></a>"
      ]
    },
    {
      "cell_type": "markdown",
      "metadata": {
        "id": "pZjN7aWgd8cJ"
      },
      "source": [
        "# k-최근접 이웃 회귀"
      ]
    },
    {
      "cell_type": "markdown",
      "metadata": {
        "id": "EvCuK1CNeM2V"
      },
      "source": [
        "## 데이터 준비"
      ]
    },
    {
      "cell_type": "code",
      "metadata": {
        "id": "D6_z2NLJeWzF"
      },
      "source": [
        "import numpy as np"
      ],
      "execution_count": null,
      "outputs": []
    },
    {
      "cell_type": "code",
      "metadata": {
        "id": "YA79EusWd48O"
      },
      "source": [
        "perch_length = np.array(\n",
        "    [8.4, 13.7, 15.0, 16.2, 17.4, 18.0, 18.7, 19.0, 19.6, 20.0, \n",
        "     21.0, 21.0, 21.0, 21.3, 22.0, 22.0, 22.0, 22.0, 22.0, 22.5, \n",
        "     22.5, 22.7, 23.0, 23.5, 24.0, 24.0, 24.6, 25.0, 25.6, 26.5, \n",
        "     27.3, 27.5, 27.5, 27.5, 28.0, 28.7, 30.0, 32.8, 34.5, 35.0, \n",
        "     36.5, 36.0, 37.0, 37.0, 39.0, 39.0, 39.0, 40.0, 40.0, 40.0, \n",
        "     40.0, 42.0, 43.0, 43.0, 43.5, 44.0]\n",
        "     )\n",
        "\n",
        "perch_weight = np.array(\n",
        "    [5.9, 32.0, 40.0, 51.5, 70.0, 100.0, 78.0, 80.0, 85.0, 85.0, \n",
        "     110.0, 115.0, 125.0, 130.0, 120.0, 120.0, 130.0, 135.0, 110.0, \n",
        "     130.0, 150.0, 145.0, 150.0, 170.0, 225.0, 145.0, 188.0, 180.0, \n",
        "     197.0, 218.0, 300.0, 260.0, 265.0, 250.0, 250.0, 300.0, 320.0, \n",
        "     514.0, 556.0, 840.0, 685.0, 700.0, 700.0, 690.0, 900.0, 650.0, \n",
        "     820.0, 850.0, 900.0, 1015.0, 820.0, 1100.0, 1000.0, 1100.0, \n",
        "     1000.0, 1000.0]\n",
        "     )"
      ],
      "execution_count": null,
      "outputs": []
    },
    {
      "cell_type": "code",
      "metadata": {
        "colab": {
          "base_uri": "https://localhost:8080/",
          "height": 279
        },
        "id": "8wKxrzVlee_2",
        "outputId": "0a1031e9-7129-4dd2-fed3-039c212c2590"
      },
      "source": [
        "import matplotlib.pyplot as plt\n",
        "\n",
        "plt.scatter(perch_length, perch_weight)\n",
        "\n",
        "plt.xlabel('length')\n",
        "plt.ylabel('weight')\n",
        "\n",
        "plt.show() # 산점도가 고르게 분포함."
      ],
      "execution_count": null,
      "outputs": [
        {
          "output_type": "display_data",
          "data": {
            "image/png": "[encoded data removed]",
            "text/plain": [
              "<Figure size 432x288 with 1 Axes>"
            ]
          },
          "metadata": {
            "tags": [],
            "needs_background": "light"
          }
        }
      ]
    },
    {
      "cell_type": "code",
      "metadata": {
        "id": "7NHpvBywgrtl",
        "colab": {
          "base_uri": "https://localhost:8080/"
        },
        "outputId": "206e60fc-90dc-40f0-a2f1-d50cfbd989f0"
      },
      "source": [
        "from sklearn.model_selection import train_test_split\n",
        "\n",
        "train_input, test_input, train_target, test_target = train_test_split(perch_length, perch_weight, random_state=42)\n",
        "\n",
        "print(train_input)\n",
        "print(train_target)\n",
        "\n",
        "print(test_input)\n",
        "print(test_target) "
      ],
      "execution_count": null,
      "outputs": [
        {
          "output_type": "stream",
          "text": [
            "[19.6 22.  18.7 17.4 36.  25.  40.  39.  43.  22.  20.  22.  24.  27.5\n",
            " 43.  40.  24.  21.  27.5 40.  32.8 26.5 36.5 13.7 22.7 15.  37.  35.\n",
            " 28.7 23.5 39.  21.  23.  22.  44.  22.5 19.  37.  22.  25.6 42.  34.5]\n",
            "[  85.  135.   78.   70.  700.  180.  850.  820. 1000.  120.   85.  130.\n",
            "  225.  260. 1100.  900.  145.  115.  265. 1015.  514.  218.  685.   32.\n",
            "  145.   40.  690.  840.  300.  170.  650.  110.  150.  110. 1000.  150.\n",
            "   80.  700.  120.  197. 1100.  556.]\n",
            "[ 8.4 18.  27.5 21.3 22.5 40.  30.  24.6 39.  21.  43.5 16.2 28.  27.3]\n",
            "[   5.9  100.   250.   130.   130.   820.   320.   188.   900.   125.\n",
            " 1000.    51.5  250.   300. ]\n"
          ],
          "name": "stdout"
        }
      ]
    },
    {
      "cell_type": "code",
      "metadata": {
        "id": "uEYM09QoX5uH",
        "colab": {
          "base_uri": "https://localhost:8080/"
        },
        "outputId": "84aa50c2-0b86-4733-edf7-cf336197fb6a"
      },
      "source": [
        "test_array = np.array([1, 2, 3, 4])\n",
        "\n",
        "print(test_array)\n",
        "print(test_array.shape)\n",
        "\n",
        "test_array_reshape = test_array.reshape(2, 2) # 'np.reshape(test_array, (2, 2))' 와 같음.\n",
        "\n",
        "print(test_array_reshape)\n",
        "print(test_array_reshape.shape)"
      ],
      "execution_count": null,
      "outputs": [
        {
          "output_type": "stream",
          "text": [
            "[1 2 3 4]\n",
            "(4,)\n",
            "[[1 2]\n",
            " [3 4]]\n",
            "(2, 2)\n"
          ],
          "name": "stdout"
        }
      ]
    },
    {
      "cell_type": "code",
      "metadata": {
        "colab": {
          "base_uri": "https://localhost:8080/"
        },
        "id": "HHOfBwqtnySB",
        "outputId": "436f075d-6201-4f5f-b1ae-642f798be236"
      },
      "source": [
        "# 사이킷런에 사용할 배열은 꼭 2차원이어야 함.\n",
        "# 2차원으로 바꿔주는 'reshape()' 함수를 이용하여 1차원 배열을 2차원 배열로 변환함.\n",
        "train_input = train_input.reshape(-1, 1)\n",
        "test_input = test_input.reshape(-1, 1)\n",
        "\n",
        "print(train_input, test_input)"
      ],
      "execution_count": null,
      "outputs": [
        {
          "output_type": "stream",
          "text": [
            "[[19.6]\n",
            " [22. ]\n",
            " [18.7]\n",
            " [17.4]\n",
            " [36. ]\n",
            " [25. ]\n",
            " [40. ]\n",
            " [39. ]\n",
            " [43. ]\n",
            " [22. ]\n",
            " [20. ]\n",
            " [22. ]\n",
            " [24. ]\n",
            " [27.5]\n",
            " [43. ]\n",
            " [40. ]\n",
            " [24. ]\n",
            " [21. ]\n",
            " [27.5]\n",
            " [40. ]\n",
            " [32.8]\n",
            " [26.5]\n",
            " [36.5]\n",
            " [13.7]\n",
            " [22.7]\n",
            " [15. ]\n",
            " [37. ]\n",
            " [35. ]\n",
            " [28.7]\n",
            " [23.5]\n",
            " [39. ]\n",
            " [21. ]\n",
            " [23. ]\n",
            " [22. ]\n",
            " [44. ]\n",
            " [22.5]\n",
            " [19. ]\n",
            " [37. ]\n",
            " [22. ]\n",
            " [25.6]\n",
            " [42. ]\n",
            " [34.5]] [[ 8.4]\n",
            " [18. ]\n",
            " [27.5]\n",
            " [21.3]\n",
            " [22.5]\n",
            " [40. ]\n",
            " [30. ]\n",
            " [24.6]\n",
            " [39. ]\n",
            " [21. ]\n",
            " [43.5]\n",
            " [16.2]\n",
            " [28. ]\n",
            " [27.3]]\n"
          ],
          "name": "stdout"
        }
      ]
    },
    {
      "cell_type": "markdown",
      "metadata": {
        "id": "NtmNJ7OqrKy_"
      },
      "source": [
        "## 결정 계수($R^2$)\n",
        "$R^2$ = 1 - (타깃 - 예측$)^2$ / (타깃 - 평균$)^2$\n",
        "\n",
        "- 예측이 타깃에 가까울수록 1에 가까움.\n",
        "\n",
        "- 평균 정도를 예측한다면 0에 가까움."
      ]
    },
    {
      "cell_type": "code",
      "metadata": {
        "colab": {
          "base_uri": "https://localhost:8080/"
        },
        "id": "erXBQE6zpF-o",
        "outputId": "321ee655-7571-4edb-a5c7-a2e272c29947"
      },
      "source": [
        "from sklearn.neighbors import KNeighborsRegressor # K-최근접 이웃 회귀 알고리즘을 부름.\n",
        "\n",
        "knr = KNeighborsRegressor()\n",
        "\n",
        "knr.fit(train_input, train_target)\n",
        "\n",
        "print(knr.score(train_input, train_target)) # 훈련 세트의 결정계수를 출력함.\n",
        "print(knr.score(test_input, test_target)) # 테스트 세트의 결정계수를 출력함."
      ],
      "execution_count": null,
      "outputs": [
        {
          "output_type": "stream",
          "text": [
            "0.9698823289099255\n",
            "0.9928094061010639\n"
          ],
          "name": "stdout"
        }
      ]
    },
    {
      "cell_type": "markdown",
      "metadata": {
        "id": "hmyMTydGJCYE"
      },
      "source": [
        "## 예측값과 타깃값 오차\n",
        "\n",
        "- mean_absolute_error(): 평균 절댓값 오차.\n",
        "\n",
        "  타깃값에서 예측값을 뺀 절댓값을 평균한 값."
      ]
    },
    {
      "cell_type": "code",
      "metadata": {
        "colab": {
          "base_uri": "https://localhost:8080/"
        },
        "id": "u6UwIf3wGSqp",
        "outputId": "478aa80c-8978-4983-a976-ffa0b559011c"
      },
      "source": [
        "# 예측한 값과 타깃 사이의 차이를 구하여 어느 정도 빗나가게 예측했는지 확인함.\n",
        "from sklearn.metrics import mean_absolute_error # 평균 절댓값 오차 계산 도구를 가져옴.\n",
        "\n",
        "test_prediction = knr.predict(test_input) # 테스트 세트에 대한 예측값을 만듦.\n",
        "\n",
        "print(test_prediction)\n",
        "\n",
        "mae = mean_absolute_error(test_target, test_prediction) # 타깃값에서 예측값을 뺀 절댓값을 평균함.\n",
        "\n",
        "print(mae) # 약 19 정도의 오차가 발생함."
      ],
      "execution_count": null,
      "outputs": [
        {
          "output_type": "stream",
          "text": [
            "[  60.    79.6  248.   122.   136.   847.   311.4  183.4  847.   113.\n",
            " 1010.    60.   248.   248. ]\n",
            "19.157142857142862\n"
          ],
          "name": "stdout"
        }
      ]
    },
    {
      "cell_type": "markdown",
      "metadata": {
        "id": "h4D3wqhBaLhJ"
      },
      "source": [
        "## 과대적합과 과소적합\n",
        "\n",
        "- 과대적합: 훈련 세트에만 잘 맞는 모델. 데이터에 내재된 거시적인 패턴을 감지하지 못함.\n",
        "\n",
        "  훈련 세트 점수 > 테스트 세트 점수\n",
        "\n",
        "- 과소적합: 테스트 세트에만 잘 맞는 모델. 데이터가 적을 때 발생 가능성 높음.\n",
        "  \n",
        "  훈련 세트 점수 < 테스트 세트 점수 or 훈련 세트 점수와 테스트 세트 점수 모두 낮은 점수"
      ]
    },
    {
      "cell_type": "code",
      "metadata": {
        "colab": {
          "base_uri": "https://localhost:8080/"
        },
        "id": "NuZo_4qFaTtk",
        "outputId": "0a74a91a-4c5e-4a0b-b96d-2709e7ddd941"
      },
      "source": [
        "print(knr.score(train_input, train_target))\n",
        "print(knr.score(test_input, test_target))\n",
        "# 테스트 세트 점수가 훈련 세트 점수보다 높으므로 과소적합임."
      ],
      "execution_count": null,
      "outputs": [
        {
          "output_type": "stream",
          "text": [
            "0.9698823289099255\n",
            "0.9928094061010639\n"
          ],
          "name": "stdout"
        }
      ]
    },
    {
      "cell_type": "markdown",
      "metadata": {
        "id": "fNEK_ks8lO2E"
      },
      "source": [
        "## 과소적합 해결하기"
      ]
    },
    {
      "cell_type": "code",
      "metadata": {
        "colab": {
          "base_uri": "https://localhost:8080/"
        },
        "id": "hunF0IIplLUE",
        "outputId": "a1901ed6-8e78-40d9-aae8-125bf33509d6"
      },
      "source": [
        "# 이웃의 개수 k를 늘리면 데이터 전반에 있는 일반적인 패턴에 따름.\n",
        "# 이웃의 개수 k를 줄이면 훈련 세트에 있는 국지적인 패턴에 민감해짐.(과소적합 해결 방법)\n",
        "knr.n_neighbors = 3 # 이웃의 개수를 기본값 5에서 3으로 줄임.\n",
        "\n",
        "knr.fit(train_input, train_target) # 모델을 다시 훈련함.\n",
        "\n",
        "print(knr.score(train_input, train_target))\n",
        "print(knr.score(test_input, test_target))\n",
        "# 과소적합이 해결되었으며 점수 차이도 크지 않음."
      ],
      "execution_count": null,
      "outputs": [
        {
          "output_type": "stream",
          "text": [
            "0.9804899950518966\n",
            "0.974645996398761\n"
          ],
          "name": "stdout"
        }
      ]
    },
    {
      "cell_type": "markdown",
      "metadata": {
        "id": "YucNnDp2aP3e"
      },
      "source": [
        "## 마무리"
      ]
    },
    {
      "cell_type": "markdown",
      "metadata": {
        "id": "K3CKQ1Tkrmvx"
      },
      "source": [
        "### 핵심 패키지와 함수\n",
        "\n",
        "- mean_squared_error(): 평균 제곱 오차.\n",
        "\n",
        "  타깃값에서 예측값을 뺀 값을 제곱하여 평균한 값."
      ]
    },
    {
      "cell_type": "markdown",
      "metadata": {
        "id": "2rOhJzA2rtZN"
      },
      "source": [
        "### 확인문제 2\n",
        "\n",
        "1. k-최근접 이웃 회귀 모델의 k값을 1, 5, 10으로 바꿔가며 훈련하라.\n",
        "\n",
        "1. 농어의 길이를 5에서 45까지 바꿔가며 예측을 만들어 그래프로 나타내라."
      ]
    },
    {
      "cell_type": "code",
      "metadata": {
        "id": "gkz4PcpVaUIz",
        "colab": {
          "base_uri": "https://localhost:8080/",
          "height": 1000
        },
        "outputId": "d0b142cb-cff1-4e95-ca3d-0df83d59b22b"
      },
      "source": [
        "knr = KNeighborsRegressor()\n",
        "\n",
        "# 5에서 45까지 농어의 길이인 x좌표를 만듦.\n",
        "x = np.arange(5, 46).reshape(-1, 1)\n",
        "\n",
        "print(x)\n",
        "\n",
        "# n = 1, 5, 10일 때 예측 결과를 그래프로 그림.\n",
        "for n in [1, 5, 10] :\n",
        "\n",
        "    knr.n_neighbors = n\n",
        "\n",
        "    knr.fit(train_input, train_target)\n",
        "\n",
        "    prediction = knr.predict(x)\n",
        "\n",
        "    print(prediction)\n",
        "    \n",
        "    print(knr.score(train_input, train_target))\n",
        "\n",
        "    print(knr.score(test_input, test_target))\n",
        "\n",
        "    plt.scatter(train_input, train_target)\n",
        "\n",
        "    plt.plot(x, prediction)\n",
        "\n",
        "    plt.title('n_neighbors = {}'.format(n))\n",
        "    plt.xlabel('length')\n",
        "    plt.ylabel('weight')\n",
        "\n",
        "    plt.show()\n",
        "# n이 커지면 모델이 단순해짐."
      ],
      "execution_count": null,
      "outputs": [
        {
          "output_type": "stream",
          "text": [
            "[[ 5]\n",
            " [ 6]\n",
            " [ 7]\n",
            " [ 8]\n",
            " [ 9]\n",
            " [10]\n",
            " [11]\n",
            " [12]\n",
            " [13]\n",
            " [14]\n",
            " [15]\n",
            " [16]\n",
            " [17]\n",
            " [18]\n",
            " [19]\n",
            " [20]\n",
            " [21]\n",
            " [22]\n",
            " [23]\n",
            " [24]\n",
            " [25]\n",
            " [26]\n",
            " [27]\n",
            " [28]\n",
            " [29]\n",
            " [30]\n",
            " [31]\n",
            " [32]\n",
            " [33]\n",
            " [34]\n",
            " [35]\n",
            " [36]\n",
            " [37]\n",
            " [38]\n",
            " [39]\n",
            " [40]\n",
            " [41]\n",
            " [42]\n",
            " [43]\n",
            " [44]\n",
            " [45]]\n",
            "[  32.   32.   32.   32.   32.   32.   32.   32.   32.   32.   40.   40.\n",
            "   70.   70.   80.   85.  115.  135.  150.  225.  180.  197.  260.  260.\n",
            "  300.  300.  514.  514.  514.  556.  840.  700.  690.  820.  820.  850.\n",
            "  850. 1100. 1000. 1000. 1000.]\n",
            "0.9852830341215901\n",
            "0.991309195814175\n"
          ],
          "name": "stdout"
        },
        {
          "output_type": "display_data",
          "data": {
            "image/png": "[encoded data removed]",
            "text/plain": [
              "<Figure size 432x288 with 1 Axes>"
            ]
          },
          "metadata": {
            "tags": [],
            "needs_background": "light"
          }
        },
        {
          "output_type": "stream",
          "text": [
            "[  60.    60.    60.    60.    60.    60.    60.    60.    60.    60.\n",
            "   60.    60.    70.6   79.6   79.6   95.   113.   123.   168.   174.\n",
            "  193.   224.   248.   248.   248.   311.4  379.   582.   659.   659.\n",
            "  694.2  723.   719.   709.   847.   847.   993.   990.  1010.  1010.\n",
            " 1010. ]\n",
            "0.9698823289099255\n",
            "0.9928094061010639\n"
          ],
          "name": "stdout"
        },
        {
          "output_type": "display_data",
          "data": {
            "image/png": "[encoded data removed]",
            "text/plain": [
              "<Figure size 432x288 with 1 Axes>"
            ]
          },
          "metadata": {
            "tags": [],
            "needs_background": "light"
          }
        },
        {
          "output_type": "stream",
          "text": [
            "[ 81.5  81.5  81.5  81.5  81.5  81.5  81.5  81.5  81.5  81.5  81.5  81.5\n",
            "  81.5  91.3 100.8 104.8 116.  128.5 148.  161.2 195.5 211.  211.  247.4\n",
            " 247.4 347.5 453.5 551.  551.  645.5 700.5 700.5 739.1 785.  811.  882.5\n",
            " 912.5 912.5 912.5 912.5 912.5]\n",
            "0.9616456902604301\n",
            "0.9737908255822255\n"
          ],
          "name": "stdout"
        },
        {
          "output_type": "display_data",
          "data": {
            "image/png": "[encoded data removed]",
            "text/plain": [
              "<Figure size 432x288 with 1 Axes>"
            ]
          },
          "metadata": {
            "tags": [],
            "needs_background": "light"
          }
        }
      ]
    }
  ]
}