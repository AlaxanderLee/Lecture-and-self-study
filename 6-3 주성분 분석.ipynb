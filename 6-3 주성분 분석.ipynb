{
  "nbformat": 4,
  "nbformat_minor": 0,
  "metadata": {
    "colab": {
      "name": "6-3 주성분 분석(정리 중).ipynb",
      "provenance": [],
      "collapsed_sections": [],
      "toc_visible": true,
      "authorship_tag": "ABX9TyPosYNuF3Iu7UsLQ3MPRogW",
      "include_colab_link": true
    },
    "kernelspec": {
      "name": "python3",
      "display_name": "Python 3"
    },
    "language_info": {
      "name": "python"
    }
  },
  "cells": [
    {
      "cell_type": "markdown",
      "metadata": {
        "id": "view-in-github",
        "colab_type": "text"
      },
      "source": [
        "<a href=\"https://colab.research.google.com/github/LeeSeungwon89/Lecture-and-self-study/blob/master/6-3%20%EC%A3%BC%EC%84%B1%EB%B6%84%20%EB%B6%84%EC%84%9D(%EC%A0%95%EB%A6%AC%20%EC%A4%91).ipynb\" target=\"_parent\"><img src=\"https://colab.research.google.com/assets/colab-badge.svg\" alt=\"Open In Colab\"/></a>"
      ]
    },
    {
      "cell_type": "markdown",
      "metadata": {
        "id": "F4FhfxKM8Ejx"
      },
      "source": [
        "# 주성분 분석"
      ]
    },
    {
      "cell_type": "markdown",
      "metadata": {
        "id": "Jy_2Fye58UUf"
      },
      "source": [
        "## 차원과 차원 축소\n",
        "\n",
        "- 들어가기 전에 먼저 차원(Dimension)에 대하여 설명함.\n",
        "\n",
        "- 다차원 배열의 차원과 1차원 배열의 차원은 다른가?\n",
        "\n",
        " - 다차원 배열과 1차원 배열(벡터)에서 차원이라는 용어는 조금 다르게 사용함.\n",
        " \n",
        " - 다차원 배열의 경우 차원은 배열의 축 개수를 의미함. 가령 2차원 배열일 때는 행과 열이 차원임. 첫 번째 축인 행과 두 번째 축인 열이 있으므로 2차원임.\n",
        "\n",
        " - 1차원 배열(벡터)의 경우 차원은 원소 개수를 의미함. 원소 5개가 있다면 5차원 벡터라고 함.\n",
        "\n",
        " 아래 그림(출처: 혼자 공부하는 머신러닝 + 딥러닝)을 참고하면 이해하기 쉬움.\n",
        "<img src='https://drive.google.com/uc?export=view&id=1VSOObccPOgnAglYZMcRU_cpCsUwKkhnA'>\n",
        "이 서적을 정리하면서 가능하면 차원 대신 특성을 사용함. 물론 차원이라는 단어를 완전히 배제할 수는 없으므로 다른 정리를 진행할 때는 두 단어를 혼용해서 사용할 예정임.\n",
        "\n",
        "- 이전 챕터에서 과일 사진은 픽셀 10,000개를 가졌었고, 이는 특성 10,000개를 가진 셈임. 머신러닝에서는 이런 특성을 '차원(Dimension)' 이라고도 부름. 차원 10,000개를 가졌다고도 표현할 수 있는데, 이런 차원이 많을수록 저장 공간을 많이 차지하게 됨. 비지도 학습 작업 중 하나인 '차원 축소(Dimensionality Reduction)' 알고리즘을 통해 차원을 줄이면 저장 공간을 크게 절약할 수 있음. 대표적인 차원 축소 알고리즘은 '주성분 분석(Principal component analysis)' 이고, 줄여서 'PCA'라고 부름.\n",
        "\n",
        "- 차원 축소는 데이터를 가장 잘 나타내는 일부 특성을 선택하여 데이터 크기를 줄이고 지도 학습 모델의 성능을 향상시킬 수 있는 방법임. 줄어든 차원에서 다시 원본 차원으로 손실을 최대한 줄이면서 복원할 수도 있음."
      ]
    },
    {
      "cell_type": "markdown",
      "metadata": {
        "id": "xg8rPU5I8URe"
      },
      "source": [
        "## PCA 클래스"
      ]
    },
    {
      "cell_type": "markdown",
      "metadata": {
        "id": "IwGCxpqx8d3b"
      },
      "source": [
        "## 원본 데이터 재구성"
      ]
    },
    {
      "cell_type": "markdown",
      "metadata": {
        "id": "Be-w0SVu8fmT"
      },
      "source": [
        "## 설명된 분산"
      ]
    },
    {
      "cell_type": "markdown",
      "metadata": {
        "id": "CwRO32fo8hUL"
      },
      "source": [
        "## 다른 알고리즘과 함께 사용하기"
      ]
    }
  ]
}
