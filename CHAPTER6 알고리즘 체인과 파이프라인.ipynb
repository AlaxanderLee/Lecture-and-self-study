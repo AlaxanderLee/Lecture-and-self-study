{
  "nbformat": 4,
  "nbformat_minor": 0,
  "metadata": {
    "colab": {
      "name": "CHAPTER6 알고리즘 체인과 파이프라인.ipynb",
      "provenance": [],
      "collapsed_sections": [],
      "toc_visible": true,
      "authorship_tag": "ABX9TyN8y4L0JPL0DJanegZrSUQm",
      "include_colab_link": true
    },
    "kernelspec": {
      "name": "python3",
      "display_name": "Python 3"
    },
    "language_info": {
      "name": "python"
    }
  },
  "cells": [
    {
      "cell_type": "markdown",
      "metadata": {
        "id": "view-in-github",
        "colab_type": "text"
      },
      "source": [
        "<a href=\"https://colab.research.google.com/github/LeeSeungwon89/Machine-learning_Theory/blob/master/CHAPTER6%20%EC%95%8C%EA%B3%A0%EB%A6%AC%EC%A6%98%20%EC%B2%B4%EC%9D%B8%EA%B3%BC%20%ED%8C%8C%EC%9D%B4%ED%94%84%EB%9D%BC%EC%9D%B8.ipynb\" target=\"_parent\"><img src=\"https://colab.research.google.com/assets/colab-badge.svg\" alt=\"Open In Colab\"/></a>"
      ]
    },
    {
      "cell_type": "markdown",
      "metadata": {
        "id": "wbZSuoOalUrJ"
      },
      "source": [
        "# 들어가며\n",
        "\n",
        "4장에서 살폈듯이 입력 데이터의 표현 형태에 민감한 머신러닝 알고리즘이 많습니다. 직접 데이터의 스케일을 조정하고 특성을 연결하는 것부터 시작해서 3장에서처럼 비지도 학습으로 특성을 만들기도 합니다. 따라서 대부분의 머신러닝 애플리케이션은 알고리즘 하나로 구성되지 않습니다. 여러 단계의 처리 과정과 머신러닝 모델이 연결되어 있습니다.\n",
        "\n",
        "이번 장에서는 데이터 변환 과정과 머신러닝 모델을 쉽게 연결해주는 `Pipeline` 클래스를 설명합니다. 특히 `Pipeline`과 `GridSearchCV`를 함께 사용해서 각 처리 단계에서 필요한 매개변수 탐색을 동시에 수행하겠습니다.\n",
        "\n",
        "모델 체인의 좋은 예로 3장에서 cancer 데이터셋을 `MinMaxScaler`로 전처리를 해서 커널 SVM의 성능을 향상시켰었습니다. cancer 데이터셋의 스케일을 조정하고 `SVC(C=100)` 모델을 사용해서 테스트 세트 정확도를 63% -> 97%만큼 개선했습니다."
      ]
    },
    {
      "cell_type": "markdown",
      "metadata": {
        "id": "bzjwBPjHmaUO"
      },
      "source": [
        "다음은 데이터를 분할하고 최솟값, 최댓값을 찾아서 데이터의 스케일을 바꾸고 SVM을 훈련시키는 코드입니다."
      ]
    },
    {
      "cell_type": "code",
      "metadata": {
        "colab": {
          "base_uri": "https://localhost:8080/"
        },
        "id": "ymQ94utwmWqn",
        "outputId": "09cb154f-5f4a-4a92-e8c8-c5295173db81"
      },
      "source": [
        "from sklearn.svm import SVC\n",
        "from sklearn.datasets import load_breast_cancer\n",
        "from sklearn.model_selection import train_test_split\n",
        "from sklearn.preprocessing import MinMaxScaler\n",
        "\n",
        "# 데이터를 적재하고 분할합니다.\n",
        "cancer = load_breast_cancer()\n",
        "X_train, X_test, y_train, y_test = train_test_split(\n",
        "    cancer.data, cancer.target, random_state=0)\n",
        "# 훈련 데이터의 최솟값, 최댓값을 계산합니다.\n",
        "scaler = MinMaxScaler().fit(X_train)\n",
        "# 훈련 데이터의 스케일을 조정합니다.\n",
        "X_train_scaled = scaler.transform(X_train)\n",
        "# 스케일이 조정된 훈련 데이터에 SVM을 학습시킵니다.\n",
        "svm = SVC()\n",
        "svm.fit(X_train_scaled, y_train)\n",
        "# 테스트 데이터의 스케일을 조정하고 점수를 계산합니다.\n",
        "X_test_scaled = scaler.transform(X_test)\n",
        "print('테스트 점수: {:.2f}'.format(svm.score(X_test_scaled, y_test)))"
      ],
      "execution_count": 1,
      "outputs": [
        {
          "output_type": "stream",
          "name": "stdout",
          "text": [
            "테스트 점수: 0.97\n"
          ]
        }
      ]
    },
    {
      "cell_type": "markdown",
      "metadata": {
        "id": "8NNtqqF0TZOK"
      },
      "source": [
        "# **6.1 데이터 전처리와 매개변수 선택**"
      ]
    },
    {
      "cell_type": "markdown",
      "metadata": {
        "id": "Ey0pHbjvTZLk"
      },
      "source": [
        "# **6.2 파이프라인 구축하기**"
      ]
    },
    {
      "cell_type": "markdown",
      "metadata": {
        "id": "eVaJJ9PhTZI7"
      },
      "source": [
        "# **6.3 그리드 서치에 파이프라인 적용하기**"
      ]
    },
    {
      "cell_type": "markdown",
      "metadata": {
        "id": "Z7UhOiItTZGR"
      },
      "source": [
        "# **6.4 파이프라인 인터페이스**"
      ]
    },
    {
      "cell_type": "markdown",
      "metadata": {
        "id": "S03lLX5STZD5"
      },
      "source": [
        "## **6.4.1 make_pipeline을 사용한 파이프라인 생성**"
      ]
    },
    {
      "cell_type": "markdown",
      "metadata": {
        "id": "rydBCRFUTZBT"
      },
      "source": [
        "## **6.4.2 단계 속성에 접근하기**"
      ]
    },
    {
      "cell_type": "markdown",
      "metadata": {
        "id": "j-dYgeNQTY-z"
      },
      "source": [
        "## **6.4.3 그리드 서치 안의 파이프라인 속성에 접근하기**"
      ]
    },
    {
      "cell_type": "markdown",
      "metadata": {
        "id": "YvtCGXHJTY8U"
      },
      "source": [
        "# **6.5 전처리와 모델의 매개변수를 위한 그리드 서치**"
      ]
    },
    {
      "cell_type": "markdown",
      "metadata": {
        "id": "eE5rqfPRTY5y"
      },
      "source": [
        "# **6.6 모델 선택을 위한 그리드 서치**"
      ]
    },
    {
      "cell_type": "markdown",
      "metadata": {
        "id": "G-5snoE4TY3D"
      },
      "source": [
        "## **6.6.1 중복 계산 피하기**"
      ]
    },
    {
      "cell_type": "markdown",
      "metadata": {
        "id": "s5rPHdvwTY0n"
      },
      "source": [
        "# **6.7 요약 및 정리**"
      ]
    }
  ]
}