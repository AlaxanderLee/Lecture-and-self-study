{
  "nbformat": 4,
  "nbformat_minor": 0,
  "metadata": {
    "colab": {
      "name": "CHAPTER3  비지도 학습과 데이터 전처리.ipynb",
      "provenance": [],
      "collapsed_sections": [],
      "toc_visible": true,
      "authorship_tag": "ABX9TyMMUzPNgHEtW93+c0LLsFyS",
      "include_colab_link": true
    },
    "kernelspec": {
      "name": "python3",
      "display_name": "Python 3"
    },
    "language_info": {
      "name": "python"
    }
  },
  "cells": [
    {
      "cell_type": "markdown",
      "metadata": {
        "id": "view-in-github",
        "colab_type": "text"
      },
      "source": [
        "<a href=\"https://colab.research.google.com/github/LeeSeungwon89/Machine-learning_Theory/blob/master/CHAPTER3%20%EB%B9%84%EC%A7%80%EB%8F%84%20%ED%95%99%EC%8A%B5%EA%B3%BC%20%EB%8D%B0%EC%9D%B4%ED%84%B0%20%EC%A0%84%EC%B2%98%EB%A6%AC.ipynb\" target=\"_parent\"><img src=\"https://colab.research.google.com/assets/colab-badge.svg\" alt=\"Open In Colab\"/></a>"
      ]
    },
    {
      "cell_type": "markdown",
      "metadata": {
        "id": "8KYZTRKxXvav"
      },
      "source": [
        "비지도 학습(unsupervised learning)이란 알고 있는 출력값이나 정보 없이 학습 알고리즘을 가르쳐야 하는 모든 종류의 머신러닝을 의미함. 입력 데이터만으로 데이터에서 지식을 추출해야 함."
      ]
    },
    {
      "cell_type": "markdown",
      "metadata": {
        "id": "jJv_kqSBjQ-R"
      },
      "source": [
        "# 3.1 비지도 학습의 종류\n",
        "\n",
        "- '비지도 변환(unsupervised transformation)'은 데이터를 새롭게 표현하여 사람이나 다른 머신러닝 알고리즘이 원래 데이터보다 쉽게 해석할 수 있도록 만드는 알고리즘임. 가장 널리 사용되는 분야는 특성이 많은 고차원 데이터의 특성 수를 줄이면서 꼭 필요한 특징을 포함한 데이터로 표현하는 '차원 축소(dimensionality reduction)'이며, 대표적인 예는 시각화를 위해 데이터셋을 2차원으로 변경하는 것임.   \n",
        "\n",
        " 데이터를 구성하는 단위나 성분을 찾기도 함. 많은 텍스트 문서에서 주제를 추출하는데, 이때 처리할 작업은 문서에서 다루는 주제가 무엇인지 찾고 학습하는 것임. 소셜 미디어에서 여러 특정 주제로 이뤄지는 토론을 찾아내는 수단으로 사용될 수 있음.\n",
        "\n",
        "- '군집(clustering)'은 데이터를 비슷한 것끼리 묶는 것임. 사진에 있는 얼굴들을 추출해서 비슷한 얼굴로 그룹화하고, 같은 사람의 얼굴이라면 이미지들을 그룹으로 묶음."
      ]
    },
    {
      "cell_type": "markdown",
      "metadata": {
        "id": "0ItwhAPKjRA_"
      },
      "source": [
        "# 3.2 비지도 학습의 도전 과제\n",
        "\n",
        "비지도 학습에서 가장 어려운 일은 알고리즘이 어떤 유용한 것을 학습했는지 평가하는 것임. 이 학습 방식에서는 보통 레이블이 없는 데이터에 적용하기 때문에 무엇이 올바른 출력인지 알 수 없으므로 어떤 모델이 유용한지 설명하기가 난해함. 예를 들면 가상의 군집 알고리즘이 사람 얼굴을 분류하는 방법으로서 옆모습 사진과 앞모습 사진으로 그룹을 나눌 수 있지만 정작 이는 우리가 원하는 방법은 아님. 비지도 학습의 결과를 평가하려면 결국 직접 확인하는 것이 유일한 방법일 경우가 많음.\n",
        "\n",
        "따라서 비지도 학습 알고리즘은 데이터를 더 잘 파악하고 싶을 때 탐색적분석 단계에서 많이 사용하거나, 지도 학습의 전처리 단계에서도 사용함. 비지도 학습의 결과로 새롭게 표현된 데이터를 사용해서 학습하면 지도 학습의 정확도가 좋아지기도 하고 자원(시간, 메모리 등)을 절약할 수 있음."
      ]
    },
    {
      "cell_type": "markdown",
      "metadata": {
        "id": "fHh5jCGwjRDq"
      },
      "source": [
        "# 3.3 데이터 전처리와 스케일 조정\n",
        "\n",
        "지도 학습 알고리즘에서 전처리와 스케일 조정을 자주 사용하지만, 기실 스케일 조정 메서드는 '지도 정보(supervised information)'를 사용하지 않으므로 비지도 방식이라고 할 수 있음.\n",
        "\n",
        "신경망과 SVM 같은 알고리즘은 데이터의 스케일에 매우 민감하므로 특성마다 스케일을 조정해서 데이터를 변경해야 함."
      ]
    },
    {
      "cell_type": "code",
      "metadata": {
        "colab": {
          "base_uri": "https://localhost:8080/"
        },
        "id": "elgCAbrO4xip",
        "outputId": "97d71b66-ed22-4e5c-ebdf-2bf298f5ab98"
      },
      "source": [
        "pip install mglearn"
      ],
      "execution_count": 84,
      "outputs": [
        {
          "output_type": "stream",
          "text": [
            "Requirement already satisfied: mglearn in /usr/local/lib/python3.7/dist-packages (0.1.9)\n",
            "Requirement already satisfied: cycler in /usr/local/lib/python3.7/dist-packages (from mglearn) (0.10.0)\n",
            "Requirement already satisfied: imageio in /usr/local/lib/python3.7/dist-packages (from mglearn) (2.4.1)\n",
            "Requirement already satisfied: numpy in /usr/local/lib/python3.7/dist-packages (from mglearn) (1.19.5)\n",
            "Requirement already satisfied: joblib in /usr/local/lib/python3.7/dist-packages (from mglearn) (1.0.1)\n",
            "Requirement already satisfied: matplotlib in /usr/local/lib/python3.7/dist-packages (from mglearn) (3.2.2)\n",
            "Requirement already satisfied: pandas in /usr/local/lib/python3.7/dist-packages (from mglearn) (1.1.5)\n",
            "Requirement already satisfied: scikit-learn in /usr/local/lib/python3.7/dist-packages (from mglearn) (0.22.2.post1)\n",
            "Requirement already satisfied: pillow in /usr/local/lib/python3.7/dist-packages (from mglearn) (7.1.2)\n",
            "Requirement already satisfied: six in /usr/local/lib/python3.7/dist-packages (from cycler->mglearn) (1.15.0)\n",
            "Requirement already satisfied: kiwisolver>=1.0.1 in /usr/local/lib/python3.7/dist-packages (from matplotlib->mglearn) (1.3.1)\n",
            "Requirement already satisfied: pyparsing!=2.0.4,!=2.1.2,!=2.1.6,>=2.0.1 in /usr/local/lib/python3.7/dist-packages (from matplotlib->mglearn) (2.4.7)\n",
            "Requirement already satisfied: python-dateutil>=2.1 in /usr/local/lib/python3.7/dist-packages (from matplotlib->mglearn) (2.8.1)\n",
            "Requirement already satisfied: pytz>=2017.2 in /usr/local/lib/python3.7/dist-packages (from pandas->mglearn) (2018.9)\n",
            "Requirement already satisfied: scipy>=0.17.0 in /usr/local/lib/python3.7/dist-packages (from scikit-learn->mglearn) (1.4.1)\n"
          ],
          "name": "stdout"
        }
      ]
    },
    {
      "cell_type": "code",
      "metadata": {
        "id": "aH1LKDbX4xZi"
      },
      "source": [
        "from IPython.display import display\n",
        "import numpy as np\n",
        "import matplotlib.pyplot as plt\n",
        "import pandas as pd\n",
        "import mglearn\n",
        "%matplotlib inline"
      ],
      "execution_count": 85,
      "outputs": []
    },
    {
      "cell_type": "markdown",
      "metadata": {
        "id": "WQepVvq45azc"
      },
      "source": [
        "특성 두 개를 인위적으로 만든 이진 분류 데이터셋을 사용해서 그래프를 그림."
      ]
    },
    {
      "cell_type": "code",
      "metadata": {
        "id": "9XhBKSah4dYX",
        "colab": {
          "base_uri": "https://localhost:8080/",
          "height": 488
        },
        "outputId": "f2882a31-21ef-420c-8db2-f3e7e82ac165"
      },
      "source": [
        "mglearn.plots.plot_scaling()"
      ],
      "execution_count": 86,
      "outputs": [
        {
          "output_type": "display_data",
          "data": {
            "image/png": "[encoded data removed]",
            "text/plain": [
              "<Figure size 1080x576 with 5 Axes>"
            ]
          },
          "metadata": {
            "tags": [],
            "needs_background": "light"
          }
        }
      ]
    },
    {
      "cell_type": "markdown",
      "metadata": {
        "id": "VPCvu0NejRGP"
      },
      "source": [
        "## 3.3.1 여러 가지 전처리 방법\n",
        "\n",
        "위 그래프에 대해 간략하게 설명함. 먼저 첫 번째 그래프의 경우 첫 번째 특성(x축의 값)은 10과 15 사이에 있고, 두 번째 특성(y축의 값)은 1과 9 사이에 있음. 이 그래프를 토대로 오른쪽에 위치한 그래프 네 개로 전처리를 한 것임.\n",
        "\n",
        "- `StandardScaler`: 각 특성의 평균을 0, 분산을 1로 변경하여 모든 특성이 같은 크기를 갖게 됨. 다만 이 방법은 특성의 최솟값과 최댓값 크기를 제한하지는 않음. 공식은 $\\frac{x-\\overline{x}}{\\sigma}$이며 $\\overline{x}$는 평균, $\\sigma$는 표준편차임. 이 값을 표준 점수(표준값, z-점수)라고 함.\n",
        "\n",
        "- `RobustScaler`: 특성들이 같은 스케일을 갖게 된다는 통계적 측면에서는 `StandardScaler`와 비슷하지만, 평균과 분산 대신 중간 값(median)과 사분위 값(quartile)을 사용함. 중간 값은 $x$보다 작은 수가 절반이고 $x$보다 큰 수가 절반인 $x$임. 1사분위 값은 $x$보다 작은 수가 전체 개수의 1/4인 $x$이고, 3사분위는 $x$보다 큰 수가 전체 개수의 1/4인 $x$를 의미함. 공식은 $\\frac{x-q_2}{q_3-q_1}$이며, $q_2$는 중간 값, $q_1$은 1사분위 값, $q_3$은 3사분위 값임.   \n",
        "이런 방식 때문에 전체 데이터와 멀리 떨어진 샘플(e.g.측정 에러)에 영향을 받지 않음. 이런 이상 데이터를 '이상치(outlier)'라고 하며, 다른 스케일 조정 기법에서는 문제가 될 수 있음.\n",
        "\n",
        "- `MinMaxScaler`: 모든 특성이 정확하게 0과 1 사이에 위치하도록 데이터를 바꿈. $\\frac{x-x_{min}}{x_{max}-x_{min}}$이며, 데이터에서 최솟값을 빼고 전체 범위로 나눔. 2차원 데이터셋일 경우에는 모든 데이터가 x축의 0과 1, y축의 0과 1 사이의 사각 영역에 담김.\n",
        "\n",
        "- `Normalizer`: 특성 벡터의 유클리디안 길이가 1이 되도록 샘플을 조정함. 매개변수 `norm`은 `l1`, `l2`, `max` 값을 제공하고, 기본값은 유클리디안 거리를 의미하는 `l2`임. 위 세 가지 전처리 방법은 각 특성(열)의 통계치를 사용하지만, `Normalizer`는 샘플(행)마다 정규화됨.   \n",
        "여하튼 지름이 1인 원(3차원일 경우에는 구)에 샘플을 투영함. 다시 말하면 각 샘플이 다른 비율로 길이에 반비례하여 스케일이 조정되는 것을 의미함. 이런 정규화(normalization)는 특성 벡터의 길이와는 무관하며 데이터의 방향이나 각도만이 중요할 때 많이 사용함."
      ]
    },
    {
      "cell_type": "markdown",
      "metadata": {
        "id": "mjAm-za8jRJA"
      },
      "source": [
        "## 3.3.2 데이터 변환 적용하기\n",
        "\n",
        "일반적으로 지도 학습 알고리즘을 적용하기 전에 스케일을 조정하는 전처리 메서드를 사용함. 먼저 데이터를 적재하고 훈련 세트와 테스트 세트로 나눔(전처리 후에 생성된 지도 학습 모델을 평가하기 위해 훈련 세트와 테스트 세트로 나눠야 함)."
      ]
    },
    {
      "cell_type": "markdown",
      "metadata": {
        "id": "DlUmHglRrFYo"
      },
      "source": [
        "cancer 데이터셋을 사용하여 데이터를 변환함. 커널 SVM(`SVC`)을 적용하고 전처리에 `MinMaxScaler`를 사용할 예정임. 먼저 데이터를 훈련 세트와 데이터 세트로 나누고 데이터셋의 형태를 살핌."
      ]
    },
    {
      "cell_type": "code",
      "metadata": {
        "colab": {
          "base_uri": "https://localhost:8080/"
        },
        "id": "_Sgo8KfwrzL5",
        "outputId": "7bc41500-d8b8-4184-f59c-b9ef658aa4cb"
      },
      "source": [
        "from sklearn.datasets import load_breast_cancer\n",
        "from sklearn.model_selection import train_test_split\n",
        "\n",
        "cancer = load_breast_cancer()\n",
        "\n",
        "X_train, X_test, y_train, y_test = train_test_split(\n",
        "    cancer.data, cancer.target, random_state=1)\n",
        "\n",
        "print(X_train.shape)\n",
        "print(X_test.shape)"
      ],
      "execution_count": 87,
      "outputs": [
        {
          "output_type": "stream",
          "text": [
            "(426, 30)\n",
            "(143, 30)\n"
          ],
          "name": "stdout"
        }
      ]
    },
    {
      "cell_type": "markdown",
      "metadata": {
        "id": "NzuUy11us8D2"
      },
      "source": [
        "샘플 569개와 특성 30개로 구성된 데이터셋이고, 샘플 426개를 훈련 세트, 143개를 테스트 세트로 나눔."
      ]
    },
    {
      "cell_type": "markdown",
      "metadata": {
        "id": "7NPNhZ0Jtk4k"
      },
      "source": [
        "전처리가 구현된 '파이썬 클래스'를 임포트 하고 객체를 생성함(지금까지 책과 정리본에서 사용해 온 클래스라는 용어는 분류형 문제에서 출력값과 범주형 특성을 의미했으므로, 프로그램 언어의 클래스를 의미할 땐 '파이썬 클래스'로 지칭할 예정이나, 의미를 혼동하지 않을 만한 위치에 해당 내용을 서술한다면 단순하게 클래스라고 지칭할 예정임)."
      ]
    },
    {
      "cell_type": "code",
      "metadata": {
        "id": "t5OlRrzfwECi"
      },
      "source": [
        "from sklearn.preprocessing import MinMaxScaler\n",
        "\n",
        "scaler = MinMaxScaler()"
      ],
      "execution_count": 88,
      "outputs": []
    },
    {
      "cell_type": "markdown",
      "metadata": {
        "id": "GeyH8H3NwMFa"
      },
      "source": [
        "`fit` 메서드에 훈련 데이터를 적용함. `MinMaxScaler`의 `fit` 메서드는 훈련 세트에 있는 특성마다 최솟값과 최댓값을 계산함. 분류 모델과 회귀 모델과 달리 스케일 객체는 `fit` 메서드를 호출할 때 'X_train'만 넘겨주고 'y_train'은 사용하지 않음."
      ]
    },
    {
      "cell_type": "code",
      "metadata": {
        "colab": {
          "base_uri": "https://localhost:8080/"
        },
        "id": "ZDKR04Io18Bi",
        "outputId": "03dc1357-86b3-49de-971d-c5e660bae0f1"
      },
      "source": [
        "scaler.fit(X_train)"
      ],
      "execution_count": 89,
      "outputs": [
        {
          "output_type": "execute_result",
          "data": {
            "text/plain": [
              "MinMaxScaler(copy=True, feature_range=(0, 1))"
            ]
          },
          "metadata": {
            "tags": []
          },
          "execution_count": 89
        }
      ]
    },
    {
      "cell_type": "markdown",
      "metadata": {
        "id": "rHTLv65S2L35"
      },
      "source": [
        "`fit` 메서드로 학습한 변환을 적용하려면(훈련 데이터의 스케일을 조정하려면) 스케일 객체의 `transform` 메서드를 사용함. `transform` 메서드는 새로운 데이터 표현(representation)을 만들 때 사용함."
      ]
    },
    {
      "cell_type": "code",
      "metadata": {
        "colab": {
          "base_uri": "https://localhost:8080/"
        },
        "id": "51u-wWHB3Xpi",
        "outputId": "5244d647-720d-4307-f9a1-c810c0790074"
      },
      "source": [
        "# 훈련 데이터를 변환함.\n",
        "X_train_scaled = scaler.transform(X_train)\n",
        "# 스케일이 조정된 데이터셋의 속성을 출력함.\n",
        "print('변환된 후 크기:', X_train_scaled.shape)\n",
        "print('스케일 조정 전 특성별 최솟값:\\n', X_train.min(axis=0))\n",
        "print('스케일 조정 전 특성별 최댓값:\\n', X_train.max(axis=0))\n",
        "print('스케일 조정 후 특성별 최솟값:\\n', X_train_scaled.min(axis=0))\n",
        "print('스케일 조정 후 특성별 최댓값:\\n', X_train_scaled.max(axis=0))"
      ],
      "execution_count": 90,
      "outputs": [
        {
          "output_type": "stream",
          "text": [
            "변환된 후 크기: (426, 30)\n",
            "스케일 조정 전 특성별 최솟값:\n",
            " [6.981e+00 9.710e+00 4.379e+01 1.435e+02 5.263e-02 1.938e-02 0.000e+00\n",
            " 0.000e+00 1.060e-01 5.024e-02 1.153e-01 3.602e-01 7.570e-01 6.802e+00\n",
            " 1.713e-03 2.252e-03 0.000e+00 0.000e+00 9.539e-03 8.948e-04 7.930e+00\n",
            " 1.202e+01 5.041e+01 1.852e+02 7.117e-02 2.729e-02 0.000e+00 0.000e+00\n",
            " 1.566e-01 5.521e-02]\n",
            "스케일 조정 전 특성별 최댓값:\n",
            " [2.811e+01 3.928e+01 1.885e+02 2.501e+03 1.634e-01 2.867e-01 4.268e-01\n",
            " 2.012e-01 3.040e-01 9.575e-02 2.873e+00 4.885e+00 2.198e+01 5.422e+02\n",
            " 3.113e-02 1.354e-01 3.960e-01 5.279e-02 6.146e-02 2.984e-02 3.604e+01\n",
            " 4.954e+01 2.512e+02 4.254e+03 2.226e-01 9.379e-01 1.170e+00 2.910e-01\n",
            " 5.774e-01 1.486e-01]\n",
            "스케일 조정 후 특성별 최솟값:\n",
            " [0. 0. 0. 0. 0. 0. 0. 0. 0. 0. 0. 0. 0. 0. 0. 0. 0. 0. 0. 0. 0. 0. 0. 0.\n",
            " 0. 0. 0. 0. 0. 0.]\n",
            "스케일 조정 후 특성별 최댓값:\n",
            " [1. 1. 1. 1. 1. 1. 1. 1. 1. 1. 1. 1. 1. 1. 1. 1. 1. 1. 1. 1. 1. 1. 1. 1.\n",
            " 1. 1. 1. 1. 1. 1.]\n"
          ],
          "name": "stdout"
        }
      ]
    },
    {
      "cell_type": "markdown",
      "metadata": {
        "id": "NLJMqmPT4IG2"
      },
      "source": [
        "특성 값이 이동되거나 크기가 조정되었을 뿐이므로 변환된 데이터의 배열 크기는 원래 데이터와 동일함. 그러나 모든 특성 값은 0과 1 사이로 조정됨."
      ]
    },
    {
      "cell_type": "markdown",
      "metadata": {
        "id": "8QE3p-g84eFc"
      },
      "source": [
        "SVM을 적용하려면 테스트 세트도 함께 전처리해야 함. 방식은 위와 같음."
      ]
    },
    {
      "cell_type": "code",
      "metadata": {
        "colab": {
          "base_uri": "https://localhost:8080/"
        },
        "id": "811yz5Bk4rNq",
        "outputId": "01e70a87-e4f2-46bb-e161-6f7ef18c1038"
      },
      "source": [
        "# 테스트 데이터를 변환함.\n",
        "X_test_scaled = scaler.transform(X_test)\n",
        "# 스케일이 조정된 데이터셋의 속성을 출력함.\n",
        "print('스케일 조정 후 특성별 최솟값:\\n', X_test_scaled.min(axis=0))\n",
        "print('스케일 조정 후 특성별 최댓값:\\n', X_test_scaled.max(axis=0))"
      ],
      "execution_count": 91,
      "outputs": [
        {
          "output_type": "stream",
          "text": [
            "스케일 조정 후 특성별 최솟값:\n",
            " [ 0.0336031   0.0226581   0.03144219  0.01141039  0.14128374  0.04406704\n",
            "  0.          0.          0.1540404  -0.00615249 -0.00137796  0.00594501\n",
            "  0.00430665  0.00079567  0.03919502  0.0112206   0.          0.\n",
            " -0.03191387  0.00664013  0.02660975  0.05810235  0.02031974  0.00943767\n",
            "  0.1094235   0.02637792  0.          0.         -0.00023764 -0.00182032]\n",
            "스케일 조정 후 특성별 최댓값:\n",
            " [0.9578778  0.81501522 0.95577362 0.89353128 0.81132075 1.21958701\n",
            " 0.87956888 0.9333996  0.93232323 1.0371347  0.42669616 0.49765736\n",
            " 0.44117231 0.28371044 0.48703131 0.73863671 0.76717172 0.62928585\n",
            " 1.33685792 0.39057253 0.89612238 0.79317697 0.84859804 0.74488793\n",
            " 0.9154725  1.13188961 1.07008547 0.92371134 1.20532319 1.63068851]\n"
          ],
          "name": "stdout"
        }
      ]
    },
    {
      "cell_type": "markdown",
      "metadata": {
        "id": "NLkw4Tjf5GSG"
      },
      "source": [
        "0과 1 사이의 값이 아님. 일부는 음수거나 1을 넘어가버림. `MinMaxScaler`를 포함한 모든 스케일 모델은 항상 훈련 세트와 테스트 세트에 같은 변환을 적용해야 함. `transform` 메서드는 테스트 세트의 최솟값과 범위를 사용하지 않고 항상 훈련 세트의 최솟값을 빼고 훈련 세트의 범위로 나눔. 항상 훈련 세트의 통계치를 사용하기 때문에 테스트 세트에 대한 스케일 조정 공식은 $\\frac{X_{test}-X_{train_min}}{X_{train_max}-{X_{train_min}}}$이 되며, LaTex 문법의 한계로 인해 명확하게 표현하지 못했음. 분모는 X_train_max - X_train_min이고, 분자는 X_test - X_train_min임."
      ]
    },
    {
      "cell_type": "markdown",
      "metadata": {
        "id": "0WSmcM8vjRLv"
      },
      "source": [
        "## 3.3.3 QuantileTransformer와 PowerTransformer\n",
        "\n",
        "`QuantitleTransformer`: 분위(quantile) 1,000개를 사용해서 데이터를 균등하게 분포하도록 함. `RobustScaler`와 비슷하게 이상치에 민감하지 않고 데이터 전체를 0과 1 사이로 압축함."
      ]
    },
    {
      "cell_type": "markdown",
      "metadata": {
        "id": "otHwGAiW9G1z"
      },
      "source": [
        "뒤에서 사용했던 데이터셋에 `QuantileTransformer`를 적용함. 먼저 예제 데이터를 생성하고 산점도를 그림."
      ]
    },
    {
      "cell_type": "code",
      "metadata": {
        "colab": {
          "base_uri": "https://localhost:8080/",
          "height": 295
        },
        "id": "vI-3OPMx9S9B",
        "outputId": "daa5f75a-98be-4481-fae1-8544e117acd9"
      },
      "source": [
        "from sklearn.datasets import make_blobs\n",
        "from sklearn.preprocessing import QuantileTransformer, StandardScaler, PowerTransformer\n",
        "\n",
        "X, y = make_blobs(n_samples=100, centers=2, random_state=4, cluster_std=1)\n",
        "X += 3\n",
        "\n",
        "plt.scatter(X[:, 0], X[:, 1], c=y, s=30, edgecolors='black')\n",
        "plt.xlim(0, 16)\n",
        "plt.ylim(0,10)\n",
        "plt.xlabel('x0')\n",
        "plt.ylabel('x1')\n",
        "plt.title('Original Data')\n",
        "plt.show()"
      ],
      "execution_count": 92,
      "outputs": [
        {
          "output_type": "display_data",
          "data": {
            "image/png": "[encoded data removed]",
            "text/plain": [
              "<Figure size 432x288 with 1 Axes>"
            ]
          },
          "metadata": {
            "tags": [],
            "needs_background": "light"
          }
        }
      ]
    },
    {
      "cell_type": "markdown",
      "metadata": {
        "id": "QfxArWQO-evI"
      },
      "source": [
        "각 샘플이 흩어진 형태로 분포함. `QuantileTransformer`를 적용해서 변화된 스케일을 확인함."
      ]
    },
    {
      "cell_type": "code",
      "metadata": {
        "colab": {
          "base_uri": "https://localhost:8080/",
          "height": 351
        },
        "id": "PuKpTntK-sjI",
        "outputId": "1e8dc33b-5a66-4337-d7f0-621eb746bbed"
      },
      "source": [
        "scaler = QuantileTransformer()\n",
        "X_trans = scaler.fit_transform(X)\n",
        "\n",
        "plt.scatter(X_trans[:, 0], X_trans[:, 1], c=y, s=30, edgecolors='black')\n",
        "plt.xlim(0, 5)\n",
        "plt.ylim(0, 5)\n",
        "plt.xlabel('x0')\n",
        "plt.ylabel('x1')\n",
        "plt.title(type(scaler).__name__)\n",
        "plt.show()"
      ],
      "execution_count": 93,
      "outputs": [
        {
          "output_type": "stream",
          "text": [
            "/usr/local/lib/python3.7/dist-packages/sklearn/preprocessing/_data.py:2357: UserWarning: n_quantiles (1000) is greater than the total number of samples (100). n_quantiles is set to n_samples.\n",
            "  % (self.n_quantiles, n_samples))\n"
          ],
          "name": "stderr"
        },
        {
          "output_type": "display_data",
          "data": {
            "image/png": "[encoded data removed]",
            "text/plain": [
              "<Figure size 432x288 with 1 Axes>"
            ]
          },
          "metadata": {
            "tags": [],
            "needs_background": "light"
          }
        }
      ]
    },
    {
      "cell_type": "markdown",
      "metadata": {
        "id": "p7Jim32C_Ysl"
      },
      "source": [
        "샘플이 0과 1 사이에 고르게 모여있음. 히스토그램을 그려서 확인함."
      ]
    },
    {
      "cell_type": "code",
      "metadata": {
        "colab": {
          "base_uri": "https://localhost:8080/",
          "height": 265
        },
        "id": "RIv_PSP5_ghp",
        "outputId": "6055185c-2c16-4e66-a089-e0b88a8480f5"
      },
      "source": [
        "plt.hist(X_trans)\n",
        "plt.show()"
      ],
      "execution_count": 94,
      "outputs": [
        {
          "output_type": "display_data",
          "data": {
            "image/png": "[encoded data removed]",
            "text/plain": [
              "<Figure size 432x288 with 1 Axes>"
            ]
          },
          "metadata": {
            "tags": [],
            "needs_background": "light"
          }
        }
      ]
    },
    {
      "cell_type": "markdown",
      "metadata": {
        "id": "hG1z0KeY_mjJ"
      },
      "source": [
        "`QuantileTransformer`의 분위 수는 `n_quantiles`(기본값 `1,000`) 매개변수에 설정할 수 있음. 'scaler' 객체의 `quantiles_` 속성에 특성별로 계산된 분위 값을 가지므로 이 속성의 크기는 `(n_quantiles, n_features)`임."
      ]
    },
    {
      "cell_type": "code",
      "metadata": {
        "colab": {
          "base_uri": "https://localhost:8080/"
        },
        "id": "jO5IQocRAmwi",
        "outputId": "70932378-baf2-4414-88de-232d7e08216b"
      },
      "source": [
        "print(scaler.quantiles_.shape)"
      ],
      "execution_count": 95,
      "outputs": [
        {
          "output_type": "stream",
          "text": [
            "(100, 2)\n"
          ],
          "name": "stdout"
        }
      ]
    },
    {
      "cell_type": "markdown",
      "metadata": {
        "id": "ZuC2hx2hDTk-"
      },
      "source": [
        "`QuantileTransformer`의 동작을 좀 더 살펴보기 위해 간단한 샘플 데이터를 변환한 결과를 비교함. `np.percentile()` 함수는 두 번째 매개변수에서 지정한 분위에 해당하는 샘플을 추출하여 반환함."
      ]
    },
    {
      "cell_type": "code",
      "metadata": {
        "colab": {
          "base_uri": "https://localhost:8080/"
        },
        "id": "Zwli7T9mFlm7",
        "outputId": "519b51c0-a3f3-4800-9c0f-b4e6b485273d"
      },
      "source": [
        "# 첫 번째, 1사분위, 중간값, 3사분위, 마지막 값을 지정함.\n",
        "x = np.array([[0], [5], [8], [9], [10]])\n",
        "print(np.percentile(x[:, 0], [0, 25, 50, 75, 100]))"
      ],
      "execution_count": 96,
      "outputs": [
        {
          "output_type": "stream",
          "text": [
            "[ 0.  5.  8.  9. 10.]\n"
          ],
          "name": "stdout"
        }
      ]
    },
    {
      "cell_type": "markdown",
      "metadata": {
        "id": "w_ve9SJCF584"
      },
      "source": [
        "훈련 샘플이 다섯 개이므로 지정한 분위가 훈련 샘플과 일치함."
      ]
    },
    {
      "cell_type": "markdown",
      "metadata": {
        "id": "pDmHhk1HGOSq"
      },
      "source": [
        "`QuantileTransformer`로 변환하여 확인함."
      ]
    },
    {
      "cell_type": "code",
      "metadata": {
        "colab": {
          "base_uri": "https://localhost:8080/"
        },
        "id": "nmmS_ySjGUa6",
        "outputId": "25ab7098-5d15-47f4-e806-a3c81fb61b4c"
      },
      "source": [
        "x_trans = QuantileTransformer().fit_transform(x)\n",
        "print(x_trans)\n",
        "print(np.percentile(x_trans[:, 0], [0, 25, 50, 75, 100]))"
      ],
      "execution_count": 97,
      "outputs": [
        {
          "output_type": "stream",
          "text": [
            "[[0.  ]\n",
            " [0.25]\n",
            " [0.5 ]\n",
            " [0.75]\n",
            " [1.  ]]\n",
            "[0.   0.25 0.5  0.75 1.  ]\n"
          ],
          "name": "stdout"
        },
        {
          "output_type": "stream",
          "text": [
            "/usr/local/lib/python3.7/dist-packages/sklearn/preprocessing/_data.py:2357: UserWarning: n_quantiles (1000) is greater than the total number of samples (5). n_quantiles is set to n_samples.\n",
            "  % (self.n_quantiles, n_samples))\n"
          ],
          "name": "stderr"
        }
      ]
    },
    {
      "cell_type": "markdown",
      "metadata": {
        "id": "KtGpFh7NG6dl"
      },
      "source": [
        "데이터가 분위와 같은 값으로 변환됨."
      ]
    },
    {
      "cell_type": "markdown",
      "metadata": {
        "id": "ABGPYUTVHYxR"
      },
      "source": [
        "`QuantileTransformer`는 `out_distribution` 매개변수의 값을 `normal`로 지정하여 균등분포를 정규분포로 바꿀 수 있음."
      ]
    },
    {
      "cell_type": "code",
      "metadata": {
        "colab": {
          "base_uri": "https://localhost:8080/",
          "height": 351
        },
        "id": "sqcrCs6UHF0j",
        "outputId": "7e269982-7d03-41ef-c6c5-f170546f7949"
      },
      "source": [
        "scaler = QuantileTransformer(output_distribution='normal')\n",
        "X_trans = scaler.fit_transform(X)\n",
        "\n",
        "plt.scatter(X_trans[:, 0], X_trans[:, 1], c=y, s=30, edgecolors='black')\n",
        "plt.xlim(-5, 5)\n",
        "plt.ylim(-5, 5)\n",
        "plt.xlabel('x0')\n",
        "plt.ylabel('x1')\n",
        "plt.title(type(scaler).__name__)\n",
        "plt.show()"
      ],
      "execution_count": 98,
      "outputs": [
        {
          "output_type": "stream",
          "text": [
            "/usr/local/lib/python3.7/dist-packages/sklearn/preprocessing/_data.py:2357: UserWarning: n_quantiles (1000) is greater than the total number of samples (100). n_quantiles is set to n_samples.\n",
            "  % (self.n_quantiles, n_samples))\n"
          ],
          "name": "stderr"
        },
        {
          "output_type": "display_data",
          "data": {
            "image/png": "[encoded data removed]",
            "text/plain": [
              "<Figure size 432x288 with 1 Axes>"
            ]
          },
          "metadata": {
            "tags": [],
            "needs_background": "light"
          }
        }
      ]
    },
    {
      "cell_type": "markdown",
      "metadata": {
        "id": "u06EDRtwMqc_"
      },
      "source": [
        "`PowerTransformer` 클래스는 `method` 매개변수에 `yeo-johnson`(기본값)과 `box-cox` 알고리즘을 지정할 수 있음. "
      ]
    },
    {
      "cell_type": "markdown",
      "metadata": {
        "id": "FA2tCNq_NDhH"
      },
      "source": [
        "`QuantileTransformer` 클래스와 `StandardScaler`, `PowerTransformer` 클래스가 데이터셋을 정규분포로 변환하는 형태를 히스토그램으로 그림."
      ]
    },
    {
      "cell_type": "code",
      "metadata": {
        "colab": {
          "base_uri": "https://localhost:8080/",
          "height": 1000
        },
        "id": "ECNV9jUNNb1W",
        "outputId": "42252990-6d0b-4217-eb42-a62c97f5c1b7"
      },
      "source": [
        "plt.hist(X)\n",
        "plt.title('Original Data')\n",
        "plt.show()\n",
        "\n",
        "X_trans = QuantileTransformer(output_distribution='normal').fit_transform(X)\n",
        "plt.hist(X_trans)\n",
        "plt.title('QuantileTransformer')\n",
        "plt.show()\n",
        "print()\n",
        "\n",
        "X_trans = StandardScaler().fit_transform(X)\n",
        "plt.hist(X_trans)\n",
        "plt.title('StandardScaler')\n",
        "plt.show()\n",
        "print()\n",
        "\n",
        "X_trans = PowerTransformer(method='box-cox').fit_transform(X)\n",
        "plt.hist(X_trans)\n",
        "plt.title('PowerTransformer box-cox')\n",
        "plt.show()\n",
        "print()\n",
        "\n",
        "X_trans = PowerTransformer(method='yeo-johnson').fit_transform(X)\n",
        "plt.hist(X_trans)\n",
        "plt.title('PowerTransformer yeo-johnson')\n",
        "plt.show()"
      ],
      "execution_count": 106,
      "outputs": [
        {
          "output_type": "display_data",
          "data": {
            "image/png": "[encoded data removed]",
            "text/plain": [
              "<Figure size 432x288 with 1 Axes>"
            ]
          },
          "metadata": {
            "tags": [],
            "needs_background": "light"
          }
        },
        {
          "output_type": "stream",
          "text": [
            "/usr/local/lib/python3.7/dist-packages/sklearn/preprocessing/_data.py:2357: UserWarning: n_quantiles (1000) is greater than the total number of samples (100). n_quantiles is set to n_samples.\n",
            "  % (self.n_quantiles, n_samples))\n"
          ],
          "name": "stderr"
        },
        {
          "output_type": "display_data",
          "data": {
            "image/png": "[encoded data removed]",
            "text/plain": [
              "<Figure size 432x288 with 1 Axes>"
            ]
          },
          "metadata": {
            "tags": [],
            "needs_background": "light"
          }
        },
        {
          "output_type": "stream",
          "text": [
            "\n"
          ],
          "name": "stdout"
        },
        {
          "output_type": "display_data",
          "data": {
            "image/png": "[encoded data removed]",
            "text/plain": [
              "<Figure size 432x288 with 1 Axes>"
            ]
          },
          "metadata": {
            "tags": [],
            "needs_background": "light"
          }
        },
        {
          "output_type": "stream",
          "text": [
            "\n"
          ],
          "name": "stdout"
        },
        {
          "output_type": "display_data",
          "data": {
            "image/png": "[encoded data removed]",
            "text/plain": [
              "<Figure size 432x288 with 1 Axes>"
            ]
          },
          "metadata": {
            "tags": [],
            "needs_background": "light"
          }
        },
        {
          "output_type": "stream",
          "text": [
            "\n"
          ],
          "name": "stdout"
        },
        {
          "output_type": "display_data",
          "data": {
            "image/png": "[encoded data removed]",
            "text/plain": [
              "<Figure size 432x288 with 1 Axes>"
            ]
          },
          "metadata": {
            "tags": [],
            "needs_background": "light"
          }
        }
      ]
    },
    {
      "cell_type": "markdown",
      "metadata": {
        "id": "w0U2AnCqO3F7"
      },
      "source": [
        "`PowerTransformer` 클래스에 매개변수를 다르게 지정했지만 같은 결과를 출력함. 실전에서는 데이터셋마다 어떤 변환이 정규분포에 가깝게 변환할지 예측하기 어려우므로 히스토그램을 그려서 확인하는 과정을 밟는 것이 좋음."
      ]
    },
    {
      "cell_type": "markdown",
      "metadata": {
        "id": "LI0RLe4ojROR"
      },
      "source": [
        "## 3.3.4 훈련 데이터와 테스트 데이터의 스케일을 같은 방법으로 조정하기"
      ]
    },
    {
      "cell_type": "markdown",
      "metadata": {
        "id": "CG2vcvhtjRQ5"
      },
      "source": [
        "## 3.3.5 지도 학습에서 데이터 전처리 효과"
      ]
    },
    {
      "cell_type": "markdown",
      "metadata": {
        "id": "qnyywRb9jRTv"
      },
      "source": [
        "# 3.4 차원 축소, 특성 추출, 매니폴드 학습"
      ]
    },
    {
      "cell_type": "markdown",
      "metadata": {
        "id": "qquRxK-tjRWn"
      },
      "source": [
        "## 3.4.1 주성분 분석(PCA)"
      ]
    },
    {
      "cell_type": "markdown",
      "metadata": {
        "id": "0ZzpKMP7Z_xA"
      },
      "source": [
        "### PCA를 적용해 유방암 데이터셋 시각화하기"
      ]
    },
    {
      "cell_type": "markdown",
      "metadata": {
        "id": "NzK8gPjJaIdx"
      },
      "source": [
        "### 고유얼굴(eigenface) 특성 추출"
      ]
    },
    {
      "cell_type": "markdown",
      "metadata": {
        "id": "pb4H5z-7jRZN"
      },
      "source": [
        "## 3.4.2 비음수 행렬 분해(NMF)"
      ]
    },
    {
      "cell_type": "markdown",
      "metadata": {
        "id": "Nh4y7CKFaQKF"
      },
      "source": [
        "### 인위적 데이터에 NMF 적용하기"
      ]
    },
    {
      "cell_type": "markdown",
      "metadata": {
        "id": "i2SnEhIPaTtU"
      },
      "source": [
        "### 얼굴 이미지에 NMF 적용하기"
      ]
    },
    {
      "cell_type": "markdown",
      "metadata": {
        "id": "OloSiwTSjRbv"
      },
      "source": [
        "## 3.4.3 t-SNE를 이용한 매니폴드 학습"
      ]
    },
    {
      "cell_type": "markdown",
      "metadata": {
        "id": "675X4VgGjRer"
      },
      "source": [
        "# 3.5 군집"
      ]
    },
    {
      "cell_type": "markdown",
      "metadata": {
        "id": "5Q831FbVjRhB"
      },
      "source": [
        "## 3.5.1 k-평균 군집"
      ]
    },
    {
      "cell_type": "markdown",
      "metadata": {
        "id": "StaUnQn5afsH"
      },
      "source": [
        "### k-평균 알고리즘이 실패하는 경우"
      ]
    },
    {
      "cell_type": "markdown",
      "metadata": {
        "id": "h1sXaYyXajiM"
      },
      "source": [
        "### 벡터 양자화 또는 분해 메서드로서의 k-평균"
      ]
    },
    {
      "cell_type": "markdown",
      "metadata": {
        "id": "1UcSuvtQjRj6"
      },
      "source": [
        "## 3.5.2 병합 군집"
      ]
    },
    {
      "cell_type": "markdown",
      "metadata": {
        "id": "rlZabD-4ap_b"
      },
      "source": [
        "### 계층적 군집과 덴드로그램"
      ]
    },
    {
      "cell_type": "markdown",
      "metadata": {
        "id": "boqGZoiLjRmh"
      },
      "source": [
        "## 3.5.3 DBSCAN"
      ]
    },
    {
      "cell_type": "markdown",
      "metadata": {
        "id": "_J6YYo23kHYI"
      },
      "source": [
        "## 3.5.4 군집 알고리즘의 비교와 평가"
      ]
    },
    {
      "cell_type": "markdown",
      "metadata": {
        "id": "vFdE0Cf2awib"
      },
      "source": [
        "### 타깃값으로 군집 평가하기"
      ]
    },
    {
      "cell_type": "markdown",
      "metadata": {
        "id": "Eaxbl5Rpazs_"
      },
      "source": [
        "### 타깃값 없이 군집 평가하기"
      ]
    },
    {
      "cell_type": "markdown",
      "metadata": {
        "id": "DaEbAqb0a3L2"
      },
      "source": [
        "### 얼굴 데이터셋으로 군집 알고리즘 비교"
      ]
    },
    {
      "cell_type": "markdown",
      "metadata": {
        "id": "0PKBRq_3a7Py"
      },
      "source": [
        "#### DBSCAN으로 얼굴 데이터셋 분석하기"
      ]
    },
    {
      "cell_type": "markdown",
      "metadata": {
        "id": "TVFrRgUWbBhN"
      },
      "source": [
        "#### k-평균으로 얼굴 데이터셋 분석하기"
      ]
    },
    {
      "cell_type": "markdown",
      "metadata": {
        "id": "tcltt0j2bFLU"
      },
      "source": [
        "#### 병합 군집으로 얼굴 데이터셋 분석하기"
      ]
    },
    {
      "cell_type": "markdown",
      "metadata": {
        "id": "RerYY-9MkHPR"
      },
      "source": [
        "## 3.5.5 군집 알고리즘 요약"
      ]
    },
    {
      "cell_type": "markdown",
      "metadata": {
        "id": "y_85h-u0kHMQ"
      },
      "source": [
        "# 3.6 요약 및 정리"
      ]
    }
  ]
}