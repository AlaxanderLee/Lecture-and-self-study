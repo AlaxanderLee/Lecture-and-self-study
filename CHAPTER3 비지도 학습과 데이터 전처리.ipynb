{
  "nbformat": 4,
  "nbformat_minor": 0,
  "metadata": {
    "colab": {
      "name": "CHAPTER3  비지도 학습과 데이터 전처리.ipynb",
      "provenance": [],
      "collapsed_sections": [],
      "toc_visible": true,
      "authorship_tag": "ABX9TyO4cTwszRUdvJSx7f0eppeR",
      "include_colab_link": true
    },
    "kernelspec": {
      "name": "python3",
      "display_name": "Python 3"
    },
    "language_info": {
      "name": "python"
    }
  },
  "cells": [
    {
      "cell_type": "markdown",
      "metadata": {
        "id": "view-in-github",
        "colab_type": "text"
      },
      "source": [
        "<a href=\"https://colab.research.google.com/github/LeeSeungwon89/Machine-learning_Theory/blob/master/CHAPTER3%20%EB%B9%84%EC%A7%80%EB%8F%84%20%ED%95%99%EC%8A%B5%EA%B3%BC%20%EB%8D%B0%EC%9D%B4%ED%84%B0%20%EC%A0%84%EC%B2%98%EB%A6%AC.ipynb\" target=\"_parent\"><img src=\"https://colab.research.google.com/assets/colab-badge.svg\" alt=\"Open In Colab\"/></a>"
      ]
    },
    {
      "cell_type": "markdown",
      "metadata": {
        "id": "8KYZTRKxXvav"
      },
      "source": [
        "비지도 학습(unsupervised learning)이란 알고 있는 출력값이나 정보 없이 학습 알고리즘을 가르쳐야 하는 모든 종류의 머신러닝을 의미함. 입력 데이터만으로 데이터에서 지식을 추출해야 함."
      ]
    },
    {
      "cell_type": "markdown",
      "metadata": {
        "id": "jJv_kqSBjQ-R"
      },
      "source": [
        "# 3.1 비지도 학습의 종류\n",
        "\n",
        "- '비지도 변환(unsupervised transformation)'은 데이터를 새롭게 표현하여 사람이나 다른 머신러닝 알고리즘이 원래 데이터보다 쉽게 해석할 수 있도록 만드는 알고리즘임. 가장 널리 사용되는 분야는 특성이 많은 고차원 데이터의 특성 수를 줄이면서 꼭 필요한 특징을 포함한 데이터로 표현하는 '차원 축소(dimensionality reduction)'이며, 대표적인 예는 시각화를 위해 데이터셋을 2차원으로 변경하는 것임.   \n",
        "\n",
        " 데이터를 구성하는 단위나 성분을 찾기도 함. 많은 텍스트 문서에서 주제를 추출하는데, 이때 처리할 작업은 문서에서 다루는 주제가 무엇인지 찾고 학습하는 것임. 소셜 미디어에서 여러 특정 주제로 이뤄지는 토론을 찾아내는 수단으로 사용될 수 있음.\n",
        "\n",
        "- '군집(clustering)'은 데이터를 비슷한 것끼리 묶는 것임. 사진에 있는 얼굴들을 추출해서 비슷한 얼굴로 그룹화하고, 같은 사람의 얼굴이라면 이미지들을 그룹으로 묶음."
      ]
    },
    {
      "cell_type": "markdown",
      "metadata": {
        "id": "0ItwhAPKjRA_"
      },
      "source": [
        "# 3.2 비지도 학습의 도전 과제"
      ]
    },
    {
      "cell_type": "markdown",
      "metadata": {
        "id": "fHh5jCGwjRDq"
      },
      "source": [
        "# 3.3 데이터 전처리와 스케일 조정"
      ]
    },
    {
      "cell_type": "markdown",
      "metadata": {
        "id": "VPCvu0NejRGP"
      },
      "source": [
        "## 3.3.1 여러 가지 전처리 방법"
      ]
    },
    {
      "cell_type": "markdown",
      "metadata": {
        "id": "mjAm-za8jRJA"
      },
      "source": [
        "## 3.3.2 데이터 변환 적용하기"
      ]
    },
    {
      "cell_type": "markdown",
      "metadata": {
        "id": "0WSmcM8vjRLv"
      },
      "source": [
        "## 3.3.3 Quantile Transformer와 PowerTransformer"
      ]
    },
    {
      "cell_type": "markdown",
      "metadata": {
        "id": "LI0RLe4ojROR"
      },
      "source": [
        "## 3.3.4 훈련 데이터와 테스트 데이터의 스케일을 같은 방법으로 조정하기"
      ]
    },
    {
      "cell_type": "markdown",
      "metadata": {
        "id": "CG2vcvhtjRQ5"
      },
      "source": [
        "## 3.3.5 지도 학습에서 데이터 전처리 효과"
      ]
    },
    {
      "cell_type": "markdown",
      "metadata": {
        "id": "qnyywRb9jRTv"
      },
      "source": [
        "# 3.4 차원 축소, 특성 추출, 매니폴드 학습"
      ]
    },
    {
      "cell_type": "markdown",
      "metadata": {
        "id": "qquRxK-tjRWn"
      },
      "source": [
        "## 3.4.1 주성분 분석(PCA)"
      ]
    },
    {
      "cell_type": "markdown",
      "metadata": {
        "id": "0ZzpKMP7Z_xA"
      },
      "source": [
        "### PCA를 적용해 유방암 데이터셋 시각화하기"
      ]
    },
    {
      "cell_type": "markdown",
      "metadata": {
        "id": "NzK8gPjJaIdx"
      },
      "source": [
        "### 고유얼굴(eigenface) 특성 추출"
      ]
    },
    {
      "cell_type": "markdown",
      "metadata": {
        "id": "pb4H5z-7jRZN"
      },
      "source": [
        "## 3.4.2 비음수 행렬 분해(NMF)"
      ]
    },
    {
      "cell_type": "markdown",
      "metadata": {
        "id": "Nh4y7CKFaQKF"
      },
      "source": [
        "### 인위적 데이터에 NMF 적용하기"
      ]
    },
    {
      "cell_type": "markdown",
      "metadata": {
        "id": "i2SnEhIPaTtU"
      },
      "source": [
        "### 얼굴 이미지에 NMF 적용하기"
      ]
    },
    {
      "cell_type": "markdown",
      "metadata": {
        "id": "OloSiwTSjRbv"
      },
      "source": [
        "## 3.4.3 t-SNE를 이용한 매니폴드 학습"
      ]
    },
    {
      "cell_type": "markdown",
      "metadata": {
        "id": "675X4VgGjRer"
      },
      "source": [
        "# 3.5 군집"
      ]
    },
    {
      "cell_type": "markdown",
      "metadata": {
        "id": "5Q831FbVjRhB"
      },
      "source": [
        "## 3.5.1 k-평균 군집"
      ]
    },
    {
      "cell_type": "markdown",
      "metadata": {
        "id": "StaUnQn5afsH"
      },
      "source": [
        "### k-평균 알고리즘이 실패하는 경우"
      ]
    },
    {
      "cell_type": "markdown",
      "metadata": {
        "id": "h1sXaYyXajiM"
      },
      "source": [
        "### 벡터 양자화 또는 분해 메서드로서의 k-평균"
      ]
    },
    {
      "cell_type": "markdown",
      "metadata": {
        "id": "1UcSuvtQjRj6"
      },
      "source": [
        "## 3.5.2 병합 군집"
      ]
    },
    {
      "cell_type": "markdown",
      "metadata": {
        "id": "rlZabD-4ap_b"
      },
      "source": [
        "### 계층적 군집과 덴드로그램"
      ]
    },
    {
      "cell_type": "markdown",
      "metadata": {
        "id": "boqGZoiLjRmh"
      },
      "source": [
        "## 3.5.3 DBSCAN"
      ]
    },
    {
      "cell_type": "markdown",
      "metadata": {
        "id": "_J6YYo23kHYI"
      },
      "source": [
        "## 3.5.4 군집 알고리즘의 비교와 평가"
      ]
    },
    {
      "cell_type": "markdown",
      "metadata": {
        "id": "vFdE0Cf2awib"
      },
      "source": [
        "### 타깃값으로 군집 평가하기"
      ]
    },
    {
      "cell_type": "markdown",
      "metadata": {
        "id": "Eaxbl5Rpazs_"
      },
      "source": [
        "### 타깃값 없이 군집 평가하기"
      ]
    },
    {
      "cell_type": "markdown",
      "metadata": {
        "id": "DaEbAqb0a3L2"
      },
      "source": [
        "### 얼굴 데이터셋으로 군집 알고리즘 비교"
      ]
    },
    {
      "cell_type": "markdown",
      "metadata": {
        "id": "0PKBRq_3a7Py"
      },
      "source": [
        "#### DBSCAN으로 얼굴 데이터셋 분석하기"
      ]
    },
    {
      "cell_type": "markdown",
      "metadata": {
        "id": "TVFrRgUWbBhN"
      },
      "source": [
        "#### k-평균으로 얼굴 데이터셋 분석하기"
      ]
    },
    {
      "cell_type": "markdown",
      "metadata": {
        "id": "tcltt0j2bFLU"
      },
      "source": [
        "#### 병합 군집으로 얼굴 데이터셋 분석하기"
      ]
    },
    {
      "cell_type": "markdown",
      "metadata": {
        "id": "RerYY-9MkHPR"
      },
      "source": [
        "## 3.5.5 군집 알고리즘 요약"
      ]
    },
    {
      "cell_type": "markdown",
      "metadata": {
        "id": "y_85h-u0kHMQ"
      },
      "source": [
        "# 3.6 요약 및 정리"
      ]
    }
  ]
}