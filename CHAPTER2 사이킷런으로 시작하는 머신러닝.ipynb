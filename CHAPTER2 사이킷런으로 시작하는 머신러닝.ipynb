{
  "nbformat": 4,
  "nbformat_minor": 0,
  "metadata": {
    "colab": {
      "name": "CHAPTER2 사이킷런으로 시작하는 머신러닝.ipynb",
      "provenance": [],
      "collapsed_sections": [],
      "toc_visible": true,
      "authorship_tag": "ABX9TyOnAGnox3v1oaJC6dDFYAJ1",
      "include_colab_link": true
    },
    "kernelspec": {
      "name": "python3",
      "display_name": "Python 3"
    },
    "language_info": {
      "name": "python"
    }
  },
  "cells": [
    {
      "cell_type": "markdown",
      "metadata": {
        "id": "view-in-github",
        "colab_type": "text"
      },
      "source": [
        "<a href=\"https://colab.research.google.com/github/LeeSeungwon89/Machine-learning_Theory/blob/master/CHAPTER2%20%EC%82%AC%EC%9D%B4%ED%82%B7%EB%9F%B0%EC%9C%BC%EB%A1%9C%20%EC%8B%9C%EC%9E%91%ED%95%98%EB%8A%94%20%EB%A8%B8%EC%8B%A0%EB%9F%AC%EB%8B%9D.ipynb\" target=\"_parent\"><img src=\"https://colab.research.google.com/assets/colab-badge.svg\" alt=\"Open In Colab\"/></a>"
      ]
    },
    {
      "cell_type": "markdown",
      "source": [
        "개인 학습용으로 정리합니다. 생략한 내용이 많으므로 서적을 직접 참고하시기 바랍니다."
      ],
      "metadata": {
        "id": "03awLw1sc1WF"
      }
    },
    {
      "cell_type": "markdown",
      "source": [
        "# **2. 붓꽃 품종 예측하기**"
      ],
      "metadata": {
        "id": "3p71O5ff6Wvz"
      }
    },
    {
      "cell_type": "markdown",
      "source": [
        "먼저 간단하게 머신러닝을 만들어 보겠습니다. 붓꽃 데이터를 확인하겠습니다."
      ],
      "metadata": {
        "id": "Vizyg9IxAZrF"
      }
    },
    {
      "cell_type": "code",
      "execution_count": 1,
      "metadata": {
        "colab": {
          "base_uri": "https://localhost:8080/",
          "height": 272
        },
        "id": "8olxPaCU6LdP",
        "outputId": "1198de0d-b61a-41b2-b385-241d504f2a66"
      },
      "outputs": [
        {
          "output_type": "stream",
          "name": "stdout",
          "text": [
            "iris target값:\n",
            " [0 0 0 0 0 0 0 0 0 0 0 0 0 0 0 0 0 0 0 0 0 0 0 0 0 0 0 0 0 0 0 0 0 0 0 0 0\n",
            " 0 0 0 0 0 0 0 0 0 0 0 0 0 1 1 1 1 1 1 1 1 1 1 1 1 1 1 1 1 1 1 1 1 1 1 1 1\n",
            " 1 1 1 1 1 1 1 1 1 1 1 1 1 1 1 1 1 1 1 1 1 1 1 1 1 1 2 2 2 2 2 2 2 2 2 2 2\n",
            " 2 2 2 2 2 2 2 2 2 2 2 2 2 2 2 2 2 2 2 2 2 2 2 2 2 2 2 2 2 2 2 2 2 2 2 2 2\n",
            " 2 2]\n",
            "iris target명: ['setosa' 'versicolor' 'virginica']\n"
          ]
        },
        {
          "output_type": "execute_result",
          "data": {
            "text/html": [
              "\n",
              "  <div id=\"df-d30c6870-74ca-485a-9581-77223cc339cb\">\n",
              "    <div class=\"colab-df-container\">\n",
              "      <div>\n",
              "<style scoped>\n",
              "    .dataframe tbody tr th:only-of-type {\n",
              "        vertical-align: middle;\n",
              "    }\n",
              "\n",
              "    .dataframe tbody tr th {\n",
              "        vertical-align: top;\n",
              "    }\n",
              "\n",
              "    .dataframe thead th {\n",
              "        text-align: right;\n",
              "    }\n",
              "</style>\n",
              "<table border=\"1\" class=\"dataframe\">\n",
              "  <thead>\n",
              "    <tr style=\"text-align: right;\">\n",
              "      <th></th>\n",
              "      <th>sepal length (cm)</th>\n",
              "      <th>sepal width (cm)</th>\n",
              "      <th>petal length (cm)</th>\n",
              "      <th>petal width (cm)</th>\n",
              "      <th>label</th>\n",
              "    </tr>\n",
              "  </thead>\n",
              "  <tbody>\n",
              "    <tr>\n",
              "      <th>0</th>\n",
              "      <td>5.1</td>\n",
              "      <td>3.5</td>\n",
              "      <td>1.4</td>\n",
              "      <td>0.2</td>\n",
              "      <td>0</td>\n",
              "    </tr>\n",
              "    <tr>\n",
              "      <th>1</th>\n",
              "      <td>4.9</td>\n",
              "      <td>3.0</td>\n",
              "      <td>1.4</td>\n",
              "      <td>0.2</td>\n",
              "      <td>0</td>\n",
              "    </tr>\n",
              "    <tr>\n",
              "      <th>2</th>\n",
              "      <td>4.7</td>\n",
              "      <td>3.2</td>\n",
              "      <td>1.3</td>\n",
              "      <td>0.2</td>\n",
              "      <td>0</td>\n",
              "    </tr>\n",
              "  </tbody>\n",
              "</table>\n",
              "</div>\n",
              "      <button class=\"colab-df-convert\" onclick=\"convertToInteractive('df-d30c6870-74ca-485a-9581-77223cc339cb')\"\n",
              "              title=\"Convert this dataframe to an interactive table.\"\n",
              "              style=\"display:none;\">\n",
              "        \n",
              "  <svg xmlns=\"http://www.w3.org/2000/svg\" height=\"24px\"viewBox=\"0 0 24 24\"\n",
              "       width=\"24px\">\n",
              "    <path d=\"M0 0h24v24H0V0z\" fill=\"none\"/>\n",
              "    <path d=\"M18.56 5.44l.94 2.06.94-2.06 2.06-.94-2.06-.94-.94-2.06-.94 2.06-2.06.94zm-11 1L8.5 8.5l.94-2.06 2.06-.94-2.06-.94L8.5 2.5l-.94 2.06-2.06.94zm10 10l.94 2.06.94-2.06 2.06-.94-2.06-.94-.94-2.06-.94 2.06-2.06.94z\"/><path d=\"M17.41 7.96l-1.37-1.37c-.4-.4-.92-.59-1.43-.59-.52 0-1.04.2-1.43.59L10.3 9.45l-7.72 7.72c-.78.78-.78 2.05 0 2.83L4 21.41c.39.39.9.59 1.41.59.51 0 1.02-.2 1.41-.59l7.78-7.78 2.81-2.81c.8-.78.8-2.07 0-2.86zM5.41 20L4 18.59l7.72-7.72 1.47 1.35L5.41 20z\"/>\n",
              "  </svg>\n",
              "      </button>\n",
              "      \n",
              "  <style>\n",
              "    .colab-df-container {\n",
              "      display:flex;\n",
              "      flex-wrap:wrap;\n",
              "      gap: 12px;\n",
              "    }\n",
              "\n",
              "    .colab-df-convert {\n",
              "      background-color: #E8F0FE;\n",
              "      border: none;\n",
              "      border-radius: 50%;\n",
              "      cursor: pointer;\n",
              "      display: none;\n",
              "      fill: #1967D2;\n",
              "      height: 32px;\n",
              "      padding: 0 0 0 0;\n",
              "      width: 32px;\n",
              "    }\n",
              "\n",
              "    .colab-df-convert:hover {\n",
              "      background-color: #E2EBFA;\n",
              "      box-shadow: 0px 1px 2px rgba(60, 64, 67, 0.3), 0px 1px 3px 1px rgba(60, 64, 67, 0.15);\n",
              "      fill: #174EA6;\n",
              "    }\n",
              "\n",
              "    [theme=dark] .colab-df-convert {\n",
              "      background-color: #3B4455;\n",
              "      fill: #D2E3FC;\n",
              "    }\n",
              "\n",
              "    [theme=dark] .colab-df-convert:hover {\n",
              "      background-color: #434B5C;\n",
              "      box-shadow: 0px 1px 3px 1px rgba(0, 0, 0, 0.15);\n",
              "      filter: drop-shadow(0px 1px 2px rgba(0, 0, 0, 0.3));\n",
              "      fill: #FFFFFF;\n",
              "    }\n",
              "  </style>\n",
              "\n",
              "      <script>\n",
              "        const buttonEl =\n",
              "          document.querySelector('#df-d30c6870-74ca-485a-9581-77223cc339cb button.colab-df-convert');\n",
              "        buttonEl.style.display =\n",
              "          google.colab.kernel.accessAllowed ? 'block' : 'none';\n",
              "\n",
              "        async function convertToInteractive(key) {\n",
              "          const element = document.querySelector('#df-d30c6870-74ca-485a-9581-77223cc339cb');\n",
              "          const dataTable =\n",
              "            await google.colab.kernel.invokeFunction('convertToInteractive',\n",
              "                                                     [key], {});\n",
              "          if (!dataTable) return;\n",
              "\n",
              "          const docLinkHtml = 'Like what you see? Visit the ' +\n",
              "            '<a target=\"_blank\" href=https://colab.research.google.com/notebooks/data_table.ipynb>data table notebook</a>'\n",
              "            + ' to learn more about interactive tables.';\n",
              "          element.innerHTML = '';\n",
              "          dataTable['output_type'] = 'display_data';\n",
              "          await google.colab.output.renderOutput(dataTable, element);\n",
              "          const docLink = document.createElement('div');\n",
              "          docLink.innerHTML = docLinkHtml;\n",
              "          element.appendChild(docLink);\n",
              "        }\n",
              "      </script>\n",
              "    </div>\n",
              "  </div>\n",
              "  "
            ],
            "text/plain": [
              "   sepal length (cm)  sepal width (cm)  ...  petal width (cm)  label\n",
              "0                5.1               3.5  ...               0.2      0\n",
              "1                4.9               3.0  ...               0.2      0\n",
              "2                4.7               3.2  ...               0.2      0\n",
              "\n",
              "[3 rows x 5 columns]"
            ]
          },
          "metadata": {},
          "execution_count": 1
        }
      ],
      "source": [
        "from sklearn.datasets import load_iris\n",
        "from sklearn.tree import DecisionTreeClassifier\n",
        "from sklearn.model_selection import train_test_split\n",
        "from sklearn.metrics import accuracy_score\n",
        "import pandas as pd\n",
        "\n",
        "iris = load_iris()\n",
        "iris_data = iris.data\n",
        "iris_label = iris.target\n",
        "print('iris target값:\\n', iris_label)\n",
        "print('iris target명:', iris.target_names)\n",
        "\n",
        "iris_df = pd.DataFrame(data=iris_data, columns=iris.feature_names)\n",
        "iris_df['label'] = iris.target\n",
        "iris_df.head(3)"
      ]
    },
    {
      "cell_type": "markdown",
      "source": [
        "훈련 세트와 테스트 세트로 나누겠습니다."
      ],
      "metadata": {
        "id": "4lv6b5giA58G"
      }
    },
    {
      "cell_type": "code",
      "source": [
        "X_train, X_test, y_train, y_test = train_test_split(\n",
        "    iris_data, iris_label, test_size=0.2, random_state=11)"
      ],
      "metadata": {
        "id": "N1B1eJnOAqSS"
      },
      "execution_count": 2,
      "outputs": []
    },
    {
      "cell_type": "markdown",
      "source": [
        "`DecisionTreeClassifier` 클래스의 인스턴스를 선언하고 데이터를 학습시키겠습니다."
      ],
      "metadata": {
        "id": "RAgM05CDDhmi"
      }
    },
    {
      "cell_type": "code",
      "source": [
        "dt_clf = DecisionTreeClassifier(random_state=11)\n",
        "dt_clf.fit(X_train, y_train)"
      ],
      "metadata": {
        "colab": {
          "base_uri": "https://localhost:8080/"
        },
        "id": "ZlrDXkttCm2v",
        "outputId": "fd692a9b-a5ac-4aaf-b918-d2a893929650"
      },
      "execution_count": 3,
      "outputs": [
        {
          "output_type": "execute_result",
          "data": {
            "text/plain": [
              "DecisionTreeClassifier(random_state=11)"
            ]
          },
          "metadata": {},
          "execution_count": 3
        }
      ]
    },
    {
      "cell_type": "markdown",
      "source": [
        "예측값과 예측 정확도를 확인하겠습니다."
      ],
      "metadata": {
        "id": "W2lsezrbEb4u"
      }
    },
    {
      "cell_type": "code",
      "source": [
        "pred = dt_clf.predict(X_test)\n",
        "print('예측값: {}'.format(pred))\n",
        "print('예측 정확도: {0:.4f}'.format(accuracy_score(y_test, pred)))"
      ],
      "metadata": {
        "colab": {
          "base_uri": "https://localhost:8080/"
        },
        "id": "3ND64fneDg76",
        "outputId": "28a6e55f-2ad0-4106-9291-5cec3171d992"
      },
      "execution_count": 4,
      "outputs": [
        {
          "output_type": "stream",
          "name": "stdout",
          "text": [
            "예측값: [2 2 1 1 2 0 1 0 0 1 1 1 1 2 2 0 2 1 2 2 1 0 0 1 0 0 2 1 0 1]\n",
            "예측 정확도: 0.9333\n"
          ]
        }
      ]
    },
    {
      "cell_type": "markdown",
      "source": [
        "# **3. 사이킷런 기반 프레임워크 익히기**"
      ],
      "metadata": {
        "id": "7_pAWn_zEyKs"
      }
    },
    {
      "cell_type": "markdown",
      "source": [
        "`iris` 데이터셋은 파이썬 딕셔너리 자료형과 유사한 `Bunch` 클래스입니다. 사이킷런이 가진 다른 예제 데이터셋들도 `Bunch` 클래스입니다. "
      ],
      "metadata": {
        "id": "uhXrHDomZx1D"
      }
    },
    {
      "cell_type": "code",
      "source": [
        "iris_data = load_iris()\n",
        "print(type(iris_data))"
      ],
      "metadata": {
        "colab": {
          "base_uri": "https://localhost:8080/"
        },
        "id": "8kfC35BiZdww",
        "outputId": "d6f234c4-f05f-4501-c948-a1f493385944"
      },
      "execution_count": 5,
      "outputs": [
        {
          "output_type": "stream",
          "name": "stdout",
          "text": [
            "<class 'sklearn.utils.Bunch'>\n"
          ]
        }
      ]
    },
    {
      "cell_type": "markdown",
      "source": [
        "딕셔너리 형태처럼 `key`가 존재합니다. `key` 값을 확인해보겠습니다."
      ],
      "metadata": {
        "id": "uBaeZ5NCZ_pA"
      }
    },
    {
      "cell_type": "code",
      "source": [
        "keys = iris_data.keys()\n",
        "print('붓꽃 데이터 세트의 키:', keys)"
      ],
      "metadata": {
        "colab": {
          "base_uri": "https://localhost:8080/"
        },
        "id": "00bFJfDgaGYg",
        "outputId": "3bb6da6c-cd04-4af7-914f-a98219ceb082"
      },
      "execution_count": 6,
      "outputs": [
        {
          "output_type": "stream",
          "name": "stdout",
          "text": [
            "붓꽃 데이터 세트의 키: dict_keys(['data', 'target', 'frame', 'target_names', 'DESCR', 'feature_names', 'filename', 'data_module'])\n"
          ]
        }
      ]
    },
    {
      "cell_type": "markdown",
      "source": [
        "`key`가 가진 내용을 확인하겠습니다."
      ],
      "metadata": {
        "id": "RXz_fMR5ahzZ"
      }
    },
    {
      "cell_type": "code",
      "source": [
        "print('feature_names의 type:', type(iris_data.feature_names))\n",
        "print('feature_names의 shape:', len(iris_data.feature_names))\n",
        "print(iris_data.feature_names)\n",
        "print()\n",
        "\n",
        "print('target_names의 type:', type(iris_data.target_names))\n",
        "print('target_names의 shape:', iris_data.target_names.shape)\n",
        "print(iris_data.target_names)\n",
        "print()\n",
        "\n",
        "print('data의 type:', type(iris_data.data))\n",
        "print('data의 shape:', iris_data.data.shape)\n",
        "print(iris_data.data[:5])\n",
        "print()\n",
        "\n",
        "print('target의 type:', type(iris_data.target))\n",
        "print('target의 shape:', iris_data.target.shape)\n",
        "print(iris_data.target)"
      ],
      "metadata": {
        "colab": {
          "base_uri": "https://localhost:8080/"
        },
        "id": "lBip99Ova1MJ",
        "outputId": "1811a90f-660e-472f-9057-15108f33494c"
      },
      "execution_count": 7,
      "outputs": [
        {
          "output_type": "stream",
          "name": "stdout",
          "text": [
            "feature_names의 type: <class 'list'>\n",
            "feature_names의 shape: 4\n",
            "['sepal length (cm)', 'sepal width (cm)', 'petal length (cm)', 'petal width (cm)']\n",
            "\n",
            "target_names의 type: <class 'numpy.ndarray'>\n",
            "target_names의 shape: (3,)\n",
            "['setosa' 'versicolor' 'virginica']\n",
            "\n",
            "data의 type: <class 'numpy.ndarray'>\n",
            "data의 shape: (150, 4)\n",
            "[[5.1 3.5 1.4 0.2]\n",
            " [4.9 3.  1.4 0.2]\n",
            " [4.7 3.2 1.3 0.2]\n",
            " [4.6 3.1 1.5 0.2]\n",
            " [5.  3.6 1.4 0.2]]\n",
            "\n",
            "target의 type: <class 'numpy.ndarray'>\n",
            "target의 shape: (150,)\n",
            "[0 0 0 0 0 0 0 0 0 0 0 0 0 0 0 0 0 0 0 0 0 0 0 0 0 0 0 0 0 0 0 0 0 0 0 0 0\n",
            " 0 0 0 0 0 0 0 0 0 0 0 0 0 1 1 1 1 1 1 1 1 1 1 1 1 1 1 1 1 1 1 1 1 1 1 1 1\n",
            " 1 1 1 1 1 1 1 1 1 1 1 1 1 1 1 1 1 1 1 1 1 1 1 1 1 1 2 2 2 2 2 2 2 2 2 2 2\n",
            " 2 2 2 2 2 2 2 2 2 2 2 2 2 2 2 2 2 2 2 2 2 2 2 2 2 2 2 2 2 2 2 2 2 2 2 2 2\n",
            " 2 2]\n"
          ]
        }
      ]
    },
    {
      "cell_type": "markdown",
      "source": [
        "이처럼 사이킷런이 가진 모든 예제 데이터셋은 보통 위와 같은 `key`로 구성되어 있습니다."
      ],
      "metadata": {
        "id": "CZHtein0dVoh"
      }
    },
    {
      "cell_type": "markdown",
      "source": [
        "# **4. Model Selection 모듈 소개**"
      ],
      "metadata": {
        "id": "25DRsgIFdowA"
      }
    },
    {
      "cell_type": "markdown",
      "source": [
        "## **4.1. train_test_split() - 학습/테스트 데이터 세트 분리**"
      ],
      "metadata": {
        "id": "knLuv4Re7TP7"
      }
    },
    {
      "cell_type": "markdown",
      "source": [
        "붓꽃 데이터를 토대로 붓꽃 품종을 예측하는 모델을 만들어보겠습니다. 위 파트에서는 테스트 세트를 20%로 지정했습니다. 이번에는 30%로 지정하겠습니다. "
      ],
      "metadata": {
        "id": "oPEPo_7q9B0m"
      }
    },
    {
      "cell_type": "code",
      "source": [
        "from sklearn.tree import DecisionTreeClassifier\n",
        "from sklearn.metrics import accuracy_score\n",
        "from sklearn.datasets import load_iris\n",
        "from sklearn.model_selection import train_test_split\n",
        "\n",
        "dt_clf = DecisionTreeClassifier()\n",
        "iris_data = load_iris()\n",
        "\n",
        "X_train, X_test, y_train, y_test = train_test_split(\n",
        "    iris_data.data, iris_data.target, test_size=0.3, random_state=121)"
      ],
      "metadata": {
        "id": "f6RcASzC7mmq"
      },
      "execution_count": 8,
      "outputs": []
    },
    {
      "cell_type": "code",
      "source": [
        "dt_clf.fit(X_train, y_train)\n",
        "pred = dt_clf.predict(X_test)\n",
        "print('예측 정확도: {0:.4f}'.format(accuracy_score(y_test, pred)))"
      ],
      "metadata": {
        "colab": {
          "base_uri": "https://localhost:8080/"
        },
        "id": "mOg8VdBs8mYq",
        "outputId": "fec90c99-4b81-4733-ab4e-3f1bc5dfd88f"
      },
      "execution_count": 9,
      "outputs": [
        {
          "output_type": "stream",
          "name": "stdout",
          "text": [
            "예측 정확도: 0.9556\n"
          ]
        }
      ]
    },
    {
      "cell_type": "markdown",
      "source": [
        "## **4.2. 교차 검증**"
      ],
      "metadata": {
        "id": "Xuqzs1Ze9sjo"
      }
    },
    {
      "cell_type": "markdown",
      "source": [
        "머신러닝은 데이터에 기반합니다. 데이터는 이상치, 분포도, 다양한 속성값, 피처 중요도 등 머신러닝에 영향을 주는 요소를 가집니다. 머신러닝 알고리즘이 최적으로 작동할 수 있도록 데이터를 선별하여 학습하면 실제 데이터 양식과는 많은 차이가 발생하고 성능 저하로 이어집니다. 고정된 학습 데이터와 테스트 데이터로 평가하면 모델이 테스트 데이터에 편향되어 다른 데이터에 대해 성능이 떨어질 수 있습니다. 이를 극복하기 위한 솔루션은 교차 검증입니다. 학습 세트를 학습 세트와 검증 세트로 나눠서 학습과 검증 평가를 반복하여 수행하고 마지막에 딱 한 번 테스트 세트로 최종 평가를 수행하는 것입니다."
      ],
      "metadata": {
        "id": "Z0NwC6J_9_1U"
      }
    },
    {
      "cell_type": "markdown",
      "source": [
        "### **4.2.1. K 폴드 교차 검증**"
      ],
      "metadata": {
        "id": "RCxgtnpSDMNP"
      }
    },
    {
      "cell_type": "markdown",
      "source": [
        "K 폴드 교차 검증은 가장 보편적으로 사용됩니다. K개의 데이터 폴드 세트를 만들고, 각 폴드 세트를 사용하여 K번만큼 학습과 검증 평가를 반복적으로 수행합니다. 각 폴드에 속해있는 학습 세트와 검증 세트는 구성된 데이터가 모두 다릅니다. 이렇게 각자 다른 데이터로 구성된 폴드 세트를 사용하여 학습과 검증을 반복하면 K개만큼 각각 다른 평가 점수가 도출됩니다. 이렇게 도출된 평가 점수 K개를 평균하면 최종 평가 점수가 도출됩니다.\n",
        "\n",
        "먼저 붓꽃 데이터를 준비하겠습니다."
      ],
      "metadata": {
        "id": "zrjlMsdKDRHH"
      }
    },
    {
      "cell_type": "code",
      "source": [
        "from sklearn.tree import DecisionTreeClassifier\n",
        "from sklearn.metrics import accuracy_score\n",
        "from sklearn.model_selection import KFold\n",
        "import numpy as np\n",
        "\n",
        "iris = load_iris()\n",
        "features = iris.data\n",
        "label = iris.target\n",
        "dt_clf = DecisionTreeClassifier(random_state=156)\n",
        "\n",
        "print('붓꽃 데이터 세트 크기:', features.shape)"
      ],
      "metadata": {
        "colab": {
          "base_uri": "https://localhost:8080/"
        },
        "id": "hgMgQKbhFUO4",
        "outputId": "8c041900-5c56-41fc-84e6-c9fc05405ae3"
      },
      "execution_count": 10,
      "outputs": [
        {
          "output_type": "stream",
          "name": "stdout",
          "text": [
            "붓꽃 데이터 세트 크기: (150, 4)\n"
          ]
        }
      ]
    },
    {
      "cell_type": "markdown",
      "source": [
        "`KFold` 클래스로 인스턴스를 생성하고 `split()` 메서드를 호출하여 붓꽃 데이터를 나누겠습니다. 참고로 `split()` 메서드를 호출하면 폴드별 학습용, 검증용 데이터로 나눌 수 있는 행 인덱스를 반환합니다. 코드로써 전체 내용을 구현하겠습니다."
      ],
      "metadata": {
        "id": "r6u4ebmfSYoC"
      }
    },
    {
      "cell_type": "code",
      "source": [
        "# 폴드 세트 5개로 분리하는 KFold 인스턴스를 생성합니다.\n",
        "kfold = KFold(n_splits=5)\n",
        "# 폴드 세트별 정확도를 담을 리스트 객체를 생성합니다.\n",
        "cv_accuracy = []\n",
        "# 반복 횟수는 0으로 지정합니다.\n",
        "n_iter = 0\n",
        "\n",
        "for train_index, test_index in kfold.split(features):\n",
        "    X_train, X_test = features[train_index], features[test_index]\n",
        "    y_train, y_test = label[train_index], label[test_index]\n",
        "    dt_clf.fit(X_train, y_train)\n",
        "    pred = dt_clf.predict(X_test)\n",
        "    n_iter += 1\n",
        "    accuracy = np.round(accuracy_score(y_test, pred), 4)\n",
        "    train_size = X_train.shape[0]\n",
        "    test_size = X_test.shape[0]\n",
        "    print('* {}번째 교차 검증 정확도: {}, 학습 데이터 크기: {}, 검증 데이터 크기: {}'.\n",
        "          format(n_iter, accuracy, train_size, test_size))\n",
        "    print('* {}번째 검증 세트 인덱스: {}'.\n",
        "          format(n_iter, test_index))\n",
        "    print()\n",
        "    cv_accuracy.append(accuracy)\n",
        "\n",
        "print('-> 평균 검증 정확도:', np.mean(cv_accuracy))"
      ],
      "metadata": {
        "colab": {
          "base_uri": "https://localhost:8080/"
        },
        "id": "Eyg7IRi6G9OQ",
        "outputId": "bb50c087-79db-41ba-f7d8-2bc8645f77d6"
      },
      "execution_count": 11,
      "outputs": [
        {
          "output_type": "stream",
          "name": "stdout",
          "text": [
            "* 1번째 교차 검증 정확도: 1.0, 학습 데이터 크기: 120, 검증 데이터 크기: 30\n",
            "* 1번째 검증 세트 인덱스: [ 0  1  2  3  4  5  6  7  8  9 10 11 12 13 14 15 16 17 18 19 20 21 22 23\n",
            " 24 25 26 27 28 29]\n",
            "\n",
            "* 2번째 교차 검증 정확도: 0.9667, 학습 데이터 크기: 120, 검증 데이터 크기: 30\n",
            "* 2번째 검증 세트 인덱스: [30 31 32 33 34 35 36 37 38 39 40 41 42 43 44 45 46 47 48 49 50 51 52 53\n",
            " 54 55 56 57 58 59]\n",
            "\n",
            "* 3번째 교차 검증 정확도: 0.8667, 학습 데이터 크기: 120, 검증 데이터 크기: 30\n",
            "* 3번째 검증 세트 인덱스: [60 61 62 63 64 65 66 67 68 69 70 71 72 73 74 75 76 77 78 79 80 81 82 83\n",
            " 84 85 86 87 88 89]\n",
            "\n",
            "* 4번째 교차 검증 정확도: 0.9333, 학습 데이터 크기: 120, 검증 데이터 크기: 30\n",
            "* 4번째 검증 세트 인덱스: [ 90  91  92  93  94  95  96  97  98  99 100 101 102 103 104 105 106 107\n",
            " 108 109 110 111 112 113 114 115 116 117 118 119]\n",
            "\n",
            "* 5번째 교차 검증 정확도: 0.7333, 학습 데이터 크기: 120, 검증 데이터 크기: 30\n",
            "* 5번째 검증 세트 인덱스: [120 121 122 123 124 125 126 127 128 129 130 131 132 133 134 135 136 137\n",
            " 138 139 140 141 142 143 144 145 146 147 148 149]\n",
            "\n",
            "-> 평균 검증 정확도: 0.9\n"
          ]
        }
      ]
    },
    {
      "cell_type": "markdown",
      "source": [
        "### **4.2.2. Stratified K 폴드**"
      ],
      "metadata": {
        "id": "tE2JKMUsTG1n"
      }
    },
    {
      "cell_type": "markdown",
      "source": [
        "Stratified K 폴드는 불균형한 분포도를 가진 레이블 데이터 집합을 위한 기법입니다. 불균형한 분포도를 가진 레이블 데이터 집합은 특정 레이블 값이 특이할 정도로 많거나 적어서 값 분포가 한쪽으로 치우친 것을 의미합니다.\n",
        "\n",
        "Stratified K 폴드는 K 폴드가 레이블 데이터 집합이 원본 데이터 집합의 레이블 분포를 학습 세트와 테스트 세트에 제대로 분배하도록 합니다. 원본 데이터의 레이블 분포를 먼저 고려하고, 이 분포와 동일하게 학습 데이터와 검증 데이터 세트를 분배합니다.\n",
        "\n",
        "K 폴드에 어떤 문제가 있는지 확인하고 `StratifiedKFlod` 클래스로 문제를 개선해보겠습니다. 일단 붓꽃 데이터를 데이터프레임으로 생성하고 레이블 값의 분포도를 확인하겠습니다."
      ],
      "metadata": {
        "id": "0ylNuEYUTLRr"
      }
    },
    {
      "cell_type": "code",
      "source": [
        "import pandas as pd\n",
        "\n",
        "iris = load_iris()\n",
        "iris_df = pd.DataFrame(data=iris.data, columns=iris.feature_names)\n",
        "iris_df['label'] = iris.target\n",
        "\n",
        "iris_df['label'].value_counts()"
      ],
      "metadata": {
        "colab": {
          "base_uri": "https://localhost:8080/"
        },
        "id": "g2H0aQOrbIGp",
        "outputId": "fd425f3f-9da9-427d-f5b3-a2ab34aa0633"
      },
      "execution_count": 12,
      "outputs": [
        {
          "output_type": "execute_result",
          "data": {
            "text/plain": [
              "0    50\n",
              "1    50\n",
              "2    50\n",
              "Name: label, dtype: int64"
            ]
          },
          "metadata": {},
          "execution_count": 12
        }
      ]
    },
    {
      "cell_type": "markdown",
      "source": [
        "각 레이블마다 동일하게 50개씩입니다. 이슈를 발생시키기 위해 폴드 세트 3개를 `KFold` 클래스로 생성하고 각 교차 검증마다 생성되는 학습/검증 레이블 데이터 값의 분포도를 확인하겠습니다."
      ],
      "metadata": {
        "id": "SbUGLi9yb6wq"
      }
    },
    {
      "cell_type": "code",
      "source": [
        "kfold = KFold(n_splits=3)\n",
        "n_iter=0\n",
        "\n",
        "for train_index, test_index in kfold.split(iris_df):\n",
        "    n_iter += 1\n",
        "    label_train = iris_df['label'].iloc[train_index]\n",
        "    label_test = iris_df['label'].iloc[test_index]\n",
        "    print('* 교차 검증 {}번째'.format(n_iter))\n",
        "    print('학습 레이블 데이터 분포:\\n', label_train.value_counts())\n",
        "    print('검증 레이블 데이터 분포:\\n', label_test.value_counts())\n",
        "    print()"
      ],
      "metadata": {
        "colab": {
          "base_uri": "https://localhost:8080/"
        },
        "id": "Cc2O9kSmcK8q",
        "outputId": "1db3de2b-3b86-41e2-9f73-72e3f3fff09e"
      },
      "execution_count": 13,
      "outputs": [
        {
          "output_type": "stream",
          "name": "stdout",
          "text": [
            "* 교차 검증 1번째\n",
            "학습 레이블 데이터 분포:\n",
            " 1    50\n",
            "2    50\n",
            "Name: label, dtype: int64\n",
            "검증 레이블 데이터 분포:\n",
            " 0    50\n",
            "Name: label, dtype: int64\n",
            "\n",
            "* 교차 검증 2번째\n",
            "학습 레이블 데이터 분포:\n",
            " 0    50\n",
            "2    50\n",
            "Name: label, dtype: int64\n",
            "검증 레이블 데이터 분포:\n",
            " 1    50\n",
            "Name: label, dtype: int64\n",
            "\n",
            "* 교차 검증 3번째\n",
            "학습 레이블 데이터 분포:\n",
            " 0    50\n",
            "1    50\n",
            "Name: label, dtype: int64\n",
            "검증 레이블 데이터 분포:\n",
            " 2    50\n",
            "Name: label, dtype: int64\n",
            "\n"
          ]
        }
      ]
    },
    {
      "cell_type": "markdown",
      "source": [
        "각 레이블마다 50개씩 포함되어 있으므로 특정 레이블은 학습하지 못하는 교차 검증이 발생합니다. \n",
        "\n",
        "이제 `StratifiedKFlod` 클래스를 사용해보겠습니다. `KFold` 클래스와 사용법은 비슷하지만 차이가 하나 있습니다. `split()` 메서드에 피처 데이터 세트뿐만 아니라 레이블 데이터 세트도 함께 지정해야 합니다. 레이블 데이터 분포도에 따라 학습/검증 데이터를 나누기 때문입니다."
      ],
      "metadata": {
        "id": "ACmEcnhDfxnM"
      }
    },
    {
      "cell_type": "code",
      "source": [
        "from sklearn.model_selection import StratifiedKFold\n",
        "\n",
        "skf = StratifiedKFold(n_splits=3)\n",
        "n_iter=0\n",
        "\n",
        "# 레이블 데이터 세트도 함께 지정합니다.\n",
        "for train_index, test_index in skf.split(iris_df, iris_df['label']):\n",
        "    n_iter += 1\n",
        "    label_train = iris_df['label'].iloc[train_index]\n",
        "    label_test = iris_df['label'].iloc[test_index]\n",
        "    print('* 교차 검증 {}번째'.format(n_iter))\n",
        "    print('학습 레이블 데이터 분포:\\n', label_train.value_counts())\n",
        "    print('검증 레이블 데이터 분포:\\n', label_test.value_counts())\n",
        "    print()"
      ],
      "metadata": {
        "colab": {
          "base_uri": "https://localhost:8080/"
        },
        "id": "Zt1mvieugUcH",
        "outputId": "6ad4a431-c104-4c4c-b33b-3d5a1f0bc99f"
      },
      "execution_count": 14,
      "outputs": [
        {
          "output_type": "stream",
          "name": "stdout",
          "text": [
            "* 교차 검증 1번째\n",
            "학습 레이블 데이터 분포:\n",
            " 2    34\n",
            "0    33\n",
            "1    33\n",
            "Name: label, dtype: int64\n",
            "검증 레이블 데이터 분포:\n",
            " 0    17\n",
            "1    17\n",
            "2    16\n",
            "Name: label, dtype: int64\n",
            "\n",
            "* 교차 검증 2번째\n",
            "학습 레이블 데이터 분포:\n",
            " 1    34\n",
            "0    33\n",
            "2    33\n",
            "Name: label, dtype: int64\n",
            "검증 레이블 데이터 분포:\n",
            " 0    17\n",
            "2    17\n",
            "1    16\n",
            "Name: label, dtype: int64\n",
            "\n",
            "* 교차 검증 3번째\n",
            "학습 레이블 데이터 분포:\n",
            " 0    34\n",
            "1    33\n",
            "2    33\n",
            "Name: label, dtype: int64\n",
            "검증 레이블 데이터 분포:\n",
            " 1    17\n",
            "2    17\n",
            "0    16\n",
            "Name: label, dtype: int64\n",
            "\n"
          ]
        }
      ]
    },
    {
      "cell_type": "markdown",
      "source": [
        "`StratifiedKFlod` 클래스를 사용하여 데이터를 분리하고 교차 검증별 정확도와 평균 검증 정확도를 도출해보겠습니다."
      ],
      "metadata": {
        "id": "S1MyzQDbhkdl"
      }
    },
    {
      "cell_type": "code",
      "source": [
        "dt_clf = DecisionTreeClassifier(random_state=156)\n",
        "skf = StratifiedKFold(n_splits=3)\n",
        "n_iter = 0\n",
        "cv_accuracy = []\n",
        "\n",
        "for train_index, test_index in skf.split(features, label):\n",
        "    X_train, X_test = features[train_index], features[test_index]\n",
        "    y_train, y_test = label[train_index], label[test_index]\n",
        "    dt_clf.fit(X_train, y_train)\n",
        "    pred = dt_clf.predict(X_test)\n",
        "    n_iter += 1\n",
        "    accuracy = np.round(accuracy_score(y_test, pred), 4)\n",
        "    train_size = X_train.shape[0]\n",
        "    test_size = X_test.shape[0]\n",
        "    print('* {}번째 교차 검증 정확도: {}, 학습 데이터 크기: {}, 검증 데이터 크기: {}'.\n",
        "          format(n_iter, accuracy, train_size, test_size))\n",
        "    print('* {}번째 검증 세트 인덱스: {}'.\n",
        "          format(n_iter, test_index))\n",
        "    print()\n",
        "    cv_accuracy.append(accuracy)\n",
        "\n",
        "print('-> 교차 검증별 정확도:', np.round(cv_accuracy, 4))\n",
        "print('-> 평균 검증 정확도:', np.mean(cv_accuracy))"
      ],
      "metadata": {
        "colab": {
          "base_uri": "https://localhost:8080/"
        },
        "id": "LDSVAHCPiIXE",
        "outputId": "99a165e9-c422-4bef-88e6-ab3aea74afff"
      },
      "execution_count": 15,
      "outputs": [
        {
          "output_type": "stream",
          "name": "stdout",
          "text": [
            "* 1번째 교차 검증 정확도: 0.98, 학습 데이터 크기: 100, 검증 데이터 크기: 50\n",
            "* 1번째 검증 세트 인덱스: [  0   1   2   3   4   5   6   7   8   9  10  11  12  13  14  15  16  50\n",
            "  51  52  53  54  55  56  57  58  59  60  61  62  63  64  65  66 100 101\n",
            " 102 103 104 105 106 107 108 109 110 111 112 113 114 115]\n",
            "\n",
            "* 2번째 교차 검증 정확도: 0.94, 학습 데이터 크기: 100, 검증 데이터 크기: 50\n",
            "* 2번째 검증 세트 인덱스: [ 17  18  19  20  21  22  23  24  25  26  27  28  29  30  31  32  33  67\n",
            "  68  69  70  71  72  73  74  75  76  77  78  79  80  81  82 116 117 118\n",
            " 119 120 121 122 123 124 125 126 127 128 129 130 131 132]\n",
            "\n",
            "* 3번째 교차 검증 정확도: 0.98, 학습 데이터 크기: 100, 검증 데이터 크기: 50\n",
            "* 3번째 검증 세트 인덱스: [ 34  35  36  37  38  39  40  41  42  43  44  45  46  47  48  49  83  84\n",
            "  85  86  87  88  89  90  91  92  93  94  95  96  97  98  99 133 134 135\n",
            " 136 137 138 139 140 141 142 143 144 145 146 147 148 149]\n",
            "\n",
            "-> 교차 검증별 정확도: [0.98 0.94 0.98]\n",
            "-> 평균 검증 정확도: 0.9666666666666667\n"
          ]
        }
      ]
    },
    {
      "cell_type": "markdown",
      "source": [
        "일반적으로 분류 문제에서 교차 검증은 Stratified K 폴드로 분할되어야 합니다. 회귀에서는 Stratified K 폴드가 지원되지 않습니다. 회귀의 결정값은 이산값 형태의 레이블이 아니라 연속된 숫자값이므로 결정값별로 분포를 정할 필요가 없습니다. "
      ],
      "metadata": {
        "id": "kyBxONDROiC-"
      }
    },
    {
      "cell_type": "markdown",
      "source": [
        "### **4.2.3. cross_val_score() - 교차 검증을 보다 간편하게**"
      ],
      "metadata": {
        "id": "lZS4kRAPPDrt"
      }
    },
    {
      "cell_type": "markdown",
      "source": [
        "`cross_val_score()` 메서드를 사용하여 교차 검증을 더욱 편리하게 수행할 수 있습니다. 위에서는 폴드 세트를 만들고 for 문으로 인덱스를 추출해서 학습과 예측을 반복적으로 수행하고 예측 성능을 확인했습니다. 이 작업을 `cross_val_score()` 메서드를 통해 한꺼번에 수행할 수 있습니다."
      ],
      "metadata": {
        "id": "q2Ye5QWhPOq7"
      }
    },
    {
      "cell_type": "code",
      "source": [
        "from sklearn.model_selection import cross_val_score, cross_validate\n",
        "\n",
        "help(cross_val_score)"
      ],
      "metadata": {
        "colab": {
          "base_uri": "https://localhost:8080/"
        },
        "id": "l5JQ8ITnR6Dr",
        "outputId": "d740ef0e-3a23-4f21-b6ee-3eb02b770cee"
      },
      "execution_count": 17,
      "outputs": [
        {
          "output_type": "stream",
          "name": "stdout",
          "text": [
            "Help on function cross_val_score in module sklearn.model_selection._validation:\n",
            "\n",
            "cross_val_score(estimator, X, y=None, *, groups=None, scoring=None, cv=None, n_jobs=None, verbose=0, fit_params=None, pre_dispatch='2*n_jobs', error_score=nan)\n",
            "    Evaluate a score by cross-validation.\n",
            "    \n",
            "    Read more in the :ref:`User Guide <cross_validation>`.\n",
            "    \n",
            "    Parameters\n",
            "    ----------\n",
            "    estimator : estimator object implementing 'fit'\n",
            "        The object to use to fit the data.\n",
            "    \n",
            "    X : array-like of shape (n_samples, n_features)\n",
            "        The data to fit. Can be for example a list, or an array.\n",
            "    \n",
            "    y : array-like of shape (n_samples,) or (n_samples, n_outputs),             default=None\n",
            "        The target variable to try to predict in the case of\n",
            "        supervised learning.\n",
            "    \n",
            "    groups : array-like of shape (n_samples,), default=None\n",
            "        Group labels for the samples used while splitting the dataset into\n",
            "        train/test set. Only used in conjunction with a \"Group\" :term:`cv`\n",
            "        instance (e.g., :class:`GroupKFold`).\n",
            "    \n",
            "    scoring : str or callable, default=None\n",
            "        A str (see model evaluation documentation) or\n",
            "        a scorer callable object / function with signature\n",
            "        ``scorer(estimator, X, y)`` which should return only\n",
            "        a single value.\n",
            "    \n",
            "        Similar to :func:`cross_validate`\n",
            "        but only a single metric is permitted.\n",
            "    \n",
            "        If `None`, the estimator's default scorer (if available) is used.\n",
            "    \n",
            "    cv : int, cross-validation generator or an iterable, default=None\n",
            "        Determines the cross-validation splitting strategy.\n",
            "        Possible inputs for cv are:\n",
            "    \n",
            "        - `None`, to use the default 5-fold cross validation,\n",
            "        - int, to specify the number of folds in a `(Stratified)KFold`,\n",
            "        - :term:`CV splitter`,\n",
            "        - An iterable that generates (train, test) splits as arrays of indices.\n",
            "    \n",
            "        For `int`/`None` inputs, if the estimator is a classifier and `y` is\n",
            "        either binary or multiclass, :class:`StratifiedKFold` is used. In all\n",
            "        other cases, :class:`KFold` is used. These splitters are instantiated\n",
            "        with `shuffle=False` so the splits will be the same across calls.\n",
            "    \n",
            "        Refer :ref:`User Guide <cross_validation>` for the various\n",
            "        cross-validation strategies that can be used here.\n",
            "    \n",
            "        .. versionchanged:: 0.22\n",
            "            `cv` default value if `None` changed from 3-fold to 5-fold.\n",
            "    \n",
            "    n_jobs : int, default=None\n",
            "        Number of jobs to run in parallel. Training the estimator and computing\n",
            "        the score are parallelized over the cross-validation splits.\n",
            "        ``None`` means 1 unless in a :obj:`joblib.parallel_backend` context.\n",
            "        ``-1`` means using all processors. See :term:`Glossary <n_jobs>`\n",
            "        for more details.\n",
            "    \n",
            "    verbose : int, default=0\n",
            "        The verbosity level.\n",
            "    \n",
            "    fit_params : dict, default=None\n",
            "        Parameters to pass to the fit method of the estimator.\n",
            "    \n",
            "    pre_dispatch : int or str, default='2*n_jobs'\n",
            "        Controls the number of jobs that get dispatched during parallel\n",
            "        execution. Reducing this number can be useful to avoid an\n",
            "        explosion of memory consumption when more jobs get dispatched\n",
            "        than CPUs can process. This parameter can be:\n",
            "    \n",
            "            - ``None``, in which case all the jobs are immediately\n",
            "              created and spawned. Use this for lightweight and\n",
            "              fast-running jobs, to avoid delays due to on-demand\n",
            "              spawning of the jobs\n",
            "    \n",
            "            - An int, giving the exact number of total jobs that are\n",
            "              spawned\n",
            "    \n",
            "            - A str, giving an expression as a function of n_jobs,\n",
            "              as in '2*n_jobs'\n",
            "    \n",
            "    error_score : 'raise' or numeric, default=np.nan\n",
            "        Value to assign to the score if an error occurs in estimator fitting.\n",
            "        If set to 'raise', the error is raised.\n",
            "        If a numeric value is given, FitFailedWarning is raised.\n",
            "    \n",
            "        .. versionadded:: 0.20\n",
            "    \n",
            "    Returns\n",
            "    -------\n",
            "    scores : ndarray of float of shape=(len(list(cv)),)\n",
            "        Array of scores of the estimator for each run of the cross validation.\n",
            "    \n",
            "    Examples\n",
            "    --------\n",
            "    >>> from sklearn import datasets, linear_model\n",
            "    >>> from sklearn.model_selection import cross_val_score\n",
            "    >>> diabetes = datasets.load_diabetes()\n",
            "    >>> X = diabetes.data[:150]\n",
            "    >>> y = diabetes.target[:150]\n",
            "    >>> lasso = linear_model.Lasso()\n",
            "    >>> print(cross_val_score(lasso, X, y, cv=3))\n",
            "    [0.33150734 0.08022311 0.03531764]\n",
            "    \n",
            "    See Also\n",
            "    ---------\n",
            "    cross_validate : To run cross-validation on multiple metrics and also to\n",
            "        return train scores, fit times and score times.\n",
            "    \n",
            "    cross_val_predict : Get predictions from each split of cross-validation for\n",
            "        diagnostic purposes.\n",
            "    \n",
            "    sklearn.metrics.make_scorer : Make a scorer from a performance metric or\n",
            "        loss function.\n",
            "\n"
          ]
        }
      ]
    },
    {
      "cell_type": "markdown",
      "source": [
        "주요 매개변수는 `estimator`, `X`, `y`, `scoring`, `cv`입니다. `estimator` 매개변수에는 분류 클래스나 회귀 클래스를 지정합니다. `scoring` 매개변수에는 예측 성능 평가 지표를 지정합니다. `cv` 매개변수에는 교차 검증 폴드 수를 지정합니다. \n",
        "\n",
        "코드로 구현하면서 살펴보겠습니다."
      ],
      "metadata": {
        "id": "rcQFqoPISISi"
      }
    },
    {
      "cell_type": "code",
      "source": [
        "from sklearn.tree import DecisionTreeClassifier\n",
        "from sklearn.datasets import load_iris\n",
        "\n",
        "iris_data = load_iris()\n",
        "dt_clf = DecisionTreeClassifier(random_state=156)\n",
        "data = iris_data.data\n",
        "label = iris_data.target\n",
        "\n",
        "scores = cross_val_score(dt_clf, data, label, scoring='accuracy', cv=3)\n",
        "print('교차 검증별 정확도:', np.round(scores, 4))\n",
        "print('평균 검증 정확도:', np.round(np.mean(scores), 4))"
      ],
      "metadata": {
        "colab": {
          "base_uri": "https://localhost:8080/"
        },
        "id": "xBCpBxktP0oh",
        "outputId": "7eea2bcf-6e8f-428c-cf1c-62fe2b591d60"
      },
      "execution_count": 19,
      "outputs": [
        {
          "output_type": "stream",
          "name": "stdout",
          "text": [
            "교차 검증별 정확도: [0.98 0.94 0.98]\n",
            "평균 검증 정확도: 0.9667\n"
          ]
        }
      ]
    },
    {
      "cell_type": "markdown",
      "source": [
        "### **4.2.4. GridSearchCV - 교차 검증과 최적 하이퍼 파라미터 튜닝을 한 번에**"
      ],
      "metadata": {
        "id": "h310Kx0Ej31A"
      }
    },
    {
      "cell_type": "markdown",
      "source": [
        "\n",
        "\n",
        "---\n",
        "\n",
        "휴식 중입니다.\n",
        "\n",
        "---\n",
        "\n"
      ],
      "metadata": {
        "id": "ptMxZPS_kJB5"
      }
    }
  ]
}