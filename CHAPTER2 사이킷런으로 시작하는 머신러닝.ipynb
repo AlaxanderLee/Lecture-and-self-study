{
  "nbformat": 4,
  "nbformat_minor": 0,
  "metadata": {
    "colab": {
      "name": "CHAPTER2 사이킷런으로 시작하는 머신러닝.ipynb",
      "provenance": [],
      "collapsed_sections": [],
      "toc_visible": true,
      "authorship_tag": "ABX9TyO0fjuD4vrem+77DFTLQZLT",
      "include_colab_link": true
    },
    "kernelspec": {
      "name": "python3",
      "display_name": "Python 3"
    },
    "language_info": {
      "name": "python"
    }
  },
  "cells": [
    {
      "cell_type": "markdown",
      "metadata": {
        "id": "view-in-github",
        "colab_type": "text"
      },
      "source": [
        "<a href=\"https://colab.research.google.com/github/LeeSeungwon89/Machine-learning_Theory/blob/master/CHAPTER2%20%EC%82%AC%EC%9D%B4%ED%82%B7%EB%9F%B0%EC%9C%BC%EB%A1%9C%20%EC%8B%9C%EC%9E%91%ED%95%98%EB%8A%94%20%EB%A8%B8%EC%8B%A0%EB%9F%AC%EB%8B%9D.ipynb\" target=\"_parent\"><img src=\"https://colab.research.google.com/assets/colab-badge.svg\" alt=\"Open In Colab\"/></a>"
      ]
    },
    {
      "cell_type": "markdown",
      "source": [
        "개인 학습용으로 정리합니다. 생략한 내용이 많으므로 서적을 직접 참고하시기 바랍니다."
      ],
      "metadata": {
        "id": "03awLw1sc1WF"
      }
    },
    {
      "cell_type": "markdown",
      "source": [
        "# **2. 붓꽃 품종 예측**"
      ],
      "metadata": {
        "id": "3p71O5ff6Wvz"
      }
    },
    {
      "cell_type": "markdown",
      "source": [
        "먼저 간단하게 머신러닝을 만들어 보겠습니다. 붓꽃 데이터를 확인하겠습니다."
      ],
      "metadata": {
        "id": "Vizyg9IxAZrF"
      }
    },
    {
      "cell_type": "code",
      "execution_count": 255,
      "metadata": {
        "colab": {
          "base_uri": "https://localhost:8080/",
          "height": 272
        },
        "id": "8olxPaCU6LdP",
        "outputId": "71194e5d-5539-4a28-999f-e1f707cbdefa"
      },
      "outputs": [
        {
          "output_type": "stream",
          "name": "stdout",
          "text": [
            "iris target값:\n",
            " [0 0 0 0 0 0 0 0 0 0 0 0 0 0 0 0 0 0 0 0 0 0 0 0 0 0 0 0 0 0 0 0 0 0 0 0 0\n",
            " 0 0 0 0 0 0 0 0 0 0 0 0 0 1 1 1 1 1 1 1 1 1 1 1 1 1 1 1 1 1 1 1 1 1 1 1 1\n",
            " 1 1 1 1 1 1 1 1 1 1 1 1 1 1 1 1 1 1 1 1 1 1 1 1 1 1 2 2 2 2 2 2 2 2 2 2 2\n",
            " 2 2 2 2 2 2 2 2 2 2 2 2 2 2 2 2 2 2 2 2 2 2 2 2 2 2 2 2 2 2 2 2 2 2 2 2 2\n",
            " 2 2]\n",
            "iris target명: ['setosa' 'versicolor' 'virginica']\n"
          ]
        },
        {
          "output_type": "execute_result",
          "data": {
            "text/html": [
              "\n",
              "  <div id=\"df-d893c747-6adb-4a57-9cae-48af2f0489c6\">\n",
              "    <div class=\"colab-df-container\">\n",
              "      <div>\n",
              "<style scoped>\n",
              "    .dataframe tbody tr th:only-of-type {\n",
              "        vertical-align: middle;\n",
              "    }\n",
              "\n",
              "    .dataframe tbody tr th {\n",
              "        vertical-align: top;\n",
              "    }\n",
              "\n",
              "    .dataframe thead th {\n",
              "        text-align: right;\n",
              "    }\n",
              "</style>\n",
              "<table border=\"1\" class=\"dataframe\">\n",
              "  <thead>\n",
              "    <tr style=\"text-align: right;\">\n",
              "      <th></th>\n",
              "      <th>sepal length (cm)</th>\n",
              "      <th>sepal width (cm)</th>\n",
              "      <th>petal length (cm)</th>\n",
              "      <th>petal width (cm)</th>\n",
              "      <th>label</th>\n",
              "    </tr>\n",
              "  </thead>\n",
              "  <tbody>\n",
              "    <tr>\n",
              "      <th>0</th>\n",
              "      <td>5.1</td>\n",
              "      <td>3.5</td>\n",
              "      <td>1.4</td>\n",
              "      <td>0.2</td>\n",
              "      <td>0</td>\n",
              "    </tr>\n",
              "    <tr>\n",
              "      <th>1</th>\n",
              "      <td>4.9</td>\n",
              "      <td>3.0</td>\n",
              "      <td>1.4</td>\n",
              "      <td>0.2</td>\n",
              "      <td>0</td>\n",
              "    </tr>\n",
              "    <tr>\n",
              "      <th>2</th>\n",
              "      <td>4.7</td>\n",
              "      <td>3.2</td>\n",
              "      <td>1.3</td>\n",
              "      <td>0.2</td>\n",
              "      <td>0</td>\n",
              "    </tr>\n",
              "  </tbody>\n",
              "</table>\n",
              "</div>\n",
              "      <button class=\"colab-df-convert\" onclick=\"convertToInteractive('df-d893c747-6adb-4a57-9cae-48af2f0489c6')\"\n",
              "              title=\"Convert this dataframe to an interactive table.\"\n",
              "              style=\"display:none;\">\n",
              "        \n",
              "  <svg xmlns=\"http://www.w3.org/2000/svg\" height=\"24px\"viewBox=\"0 0 24 24\"\n",
              "       width=\"24px\">\n",
              "    <path d=\"M0 0h24v24H0V0z\" fill=\"none\"/>\n",
              "    <path d=\"M18.56 5.44l.94 2.06.94-2.06 2.06-.94-2.06-.94-.94-2.06-.94 2.06-2.06.94zm-11 1L8.5 8.5l.94-2.06 2.06-.94-2.06-.94L8.5 2.5l-.94 2.06-2.06.94zm10 10l.94 2.06.94-2.06 2.06-.94-2.06-.94-.94-2.06-.94 2.06-2.06.94z\"/><path d=\"M17.41 7.96l-1.37-1.37c-.4-.4-.92-.59-1.43-.59-.52 0-1.04.2-1.43.59L10.3 9.45l-7.72 7.72c-.78.78-.78 2.05 0 2.83L4 21.41c.39.39.9.59 1.41.59.51 0 1.02-.2 1.41-.59l7.78-7.78 2.81-2.81c.8-.78.8-2.07 0-2.86zM5.41 20L4 18.59l7.72-7.72 1.47 1.35L5.41 20z\"/>\n",
              "  </svg>\n",
              "      </button>\n",
              "      \n",
              "  <style>\n",
              "    .colab-df-container {\n",
              "      display:flex;\n",
              "      flex-wrap:wrap;\n",
              "      gap: 12px;\n",
              "    }\n",
              "\n",
              "    .colab-df-convert {\n",
              "      background-color: #E8F0FE;\n",
              "      border: none;\n",
              "      border-radius: 50%;\n",
              "      cursor: pointer;\n",
              "      display: none;\n",
              "      fill: #1967D2;\n",
              "      height: 32px;\n",
              "      padding: 0 0 0 0;\n",
              "      width: 32px;\n",
              "    }\n",
              "\n",
              "    .colab-df-convert:hover {\n",
              "      background-color: #E2EBFA;\n",
              "      box-shadow: 0px 1px 2px rgba(60, 64, 67, 0.3), 0px 1px 3px 1px rgba(60, 64, 67, 0.15);\n",
              "      fill: #174EA6;\n",
              "    }\n",
              "\n",
              "    [theme=dark] .colab-df-convert {\n",
              "      background-color: #3B4455;\n",
              "      fill: #D2E3FC;\n",
              "    }\n",
              "\n",
              "    [theme=dark] .colab-df-convert:hover {\n",
              "      background-color: #434B5C;\n",
              "      box-shadow: 0px 1px 3px 1px rgba(0, 0, 0, 0.15);\n",
              "      filter: drop-shadow(0px 1px 2px rgba(0, 0, 0, 0.3));\n",
              "      fill: #FFFFFF;\n",
              "    }\n",
              "  </style>\n",
              "\n",
              "      <script>\n",
              "        const buttonEl =\n",
              "          document.querySelector('#df-d893c747-6adb-4a57-9cae-48af2f0489c6 button.colab-df-convert');\n",
              "        buttonEl.style.display =\n",
              "          google.colab.kernel.accessAllowed ? 'block' : 'none';\n",
              "\n",
              "        async function convertToInteractive(key) {\n",
              "          const element = document.querySelector('#df-d893c747-6adb-4a57-9cae-48af2f0489c6');\n",
              "          const dataTable =\n",
              "            await google.colab.kernel.invokeFunction('convertToInteractive',\n",
              "                                                     [key], {});\n",
              "          if (!dataTable) return;\n",
              "\n",
              "          const docLinkHtml = 'Like what you see? Visit the ' +\n",
              "            '<a target=\"_blank\" href=https://colab.research.google.com/notebooks/data_table.ipynb>data table notebook</a>'\n",
              "            + ' to learn more about interactive tables.';\n",
              "          element.innerHTML = '';\n",
              "          dataTable['output_type'] = 'display_data';\n",
              "          await google.colab.output.renderOutput(dataTable, element);\n",
              "          const docLink = document.createElement('div');\n",
              "          docLink.innerHTML = docLinkHtml;\n",
              "          element.appendChild(docLink);\n",
              "        }\n",
              "      </script>\n",
              "    </div>\n",
              "  </div>\n",
              "  "
            ],
            "text/plain": [
              "   sepal length (cm)  sepal width (cm)  ...  petal width (cm)  label\n",
              "0                5.1               3.5  ...               0.2      0\n",
              "1                4.9               3.0  ...               0.2      0\n",
              "2                4.7               3.2  ...               0.2      0\n",
              "\n",
              "[3 rows x 5 columns]"
            ]
          },
          "metadata": {},
          "execution_count": 255
        }
      ],
      "source": [
        "from sklearn.datasets import load_iris\n",
        "from sklearn.tree import DecisionTreeClassifier\n",
        "from sklearn.model_selection import train_test_split\n",
        "from sklearn.metrics import accuracy_score\n",
        "import pandas as pd\n",
        "\n",
        "iris = load_iris()\n",
        "iris_data = iris.data\n",
        "iris_label = iris.target\n",
        "print('iris target값:\\n', iris_label)\n",
        "print('iris target명:', iris.target_names)\n",
        "\n",
        "iris_df = pd.DataFrame(data=iris_data, columns=iris.feature_names)\n",
        "iris_df['label'] = iris.target\n",
        "iris_df.head(3)"
      ]
    },
    {
      "cell_type": "markdown",
      "source": [
        "훈련 세트와 테스트 세트로 나누겠습니다."
      ],
      "metadata": {
        "id": "4lv6b5giA58G"
      }
    },
    {
      "cell_type": "code",
      "source": [
        "X_train, X_test, y_train, y_test = train_test_split(\n",
        "    iris_data, iris_label, test_size=0.2, random_state=11)"
      ],
      "metadata": {
        "id": "N1B1eJnOAqSS"
      },
      "execution_count": 256,
      "outputs": []
    },
    {
      "cell_type": "markdown",
      "source": [
        "`DecisionTreeClassifier` 클래스의 인스턴스를 선언하고 데이터를 학습시키겠습니다."
      ],
      "metadata": {
        "id": "RAgM05CDDhmi"
      }
    },
    {
      "cell_type": "code",
      "source": [
        "dt_clf = DecisionTreeClassifier(random_state=11)\n",
        "dt_clf.fit(X_train, y_train)"
      ],
      "metadata": {
        "colab": {
          "base_uri": "https://localhost:8080/"
        },
        "id": "ZlrDXkttCm2v",
        "outputId": "fa7b6148-9242-4454-e939-9bf56e0a71b9"
      },
      "execution_count": 257,
      "outputs": [
        {
          "output_type": "execute_result",
          "data": {
            "text/plain": [
              "DecisionTreeClassifier(random_state=11)"
            ]
          },
          "metadata": {},
          "execution_count": 257
        }
      ]
    },
    {
      "cell_type": "markdown",
      "source": [
        "예측값과 예측 정확도를 확인하겠습니다."
      ],
      "metadata": {
        "id": "W2lsezrbEb4u"
      }
    },
    {
      "cell_type": "code",
      "source": [
        "pred = dt_clf.predict(X_test)\n",
        "print('예측값: {}'.format(pred))\n",
        "print('예측 정확도: {0:.4f}'.format(accuracy_score(y_test, pred)))"
      ],
      "metadata": {
        "colab": {
          "base_uri": "https://localhost:8080/"
        },
        "id": "3ND64fneDg76",
        "outputId": "ccfc3d26-9fdb-4bc6-c7db-a2c67055b2f3"
      },
      "execution_count": 258,
      "outputs": [
        {
          "output_type": "stream",
          "name": "stdout",
          "text": [
            "예측값: [2 2 1 1 2 0 1 0 0 1 1 1 1 2 2 0 2 1 2 2 1 0 0 1 0 0 2 1 0 1]\n",
            "예측 정확도: 0.9333\n"
          ]
        }
      ]
    },
    {
      "cell_type": "markdown",
      "source": [
        "# **3. 사이킷런 기반 프레임워크**"
      ],
      "metadata": {
        "id": "7_pAWn_zEyKs"
      }
    },
    {
      "cell_type": "markdown",
      "source": [
        "`iris` 데이터셋은 파이썬 딕셔너리 자료형과 유사한 `Bunch` 클래스입니다. 사이킷런이 가진 다른 예제 데이터셋들도 `Bunch` 클래스입니다. "
      ],
      "metadata": {
        "id": "uhXrHDomZx1D"
      }
    },
    {
      "cell_type": "code",
      "source": [
        "iris_data = load_iris()\n",
        "print(type(iris_data))"
      ],
      "metadata": {
        "colab": {
          "base_uri": "https://localhost:8080/"
        },
        "id": "8kfC35BiZdww",
        "outputId": "5dafe56a-6d7f-4c37-f424-d846a24de8a8"
      },
      "execution_count": 259,
      "outputs": [
        {
          "output_type": "stream",
          "name": "stdout",
          "text": [
            "<class 'sklearn.utils.Bunch'>\n"
          ]
        }
      ]
    },
    {
      "cell_type": "markdown",
      "source": [
        "딕셔너리 형태처럼 `key`가 존재합니다. `key` 값을 확인해보겠습니다."
      ],
      "metadata": {
        "id": "uBaeZ5NCZ_pA"
      }
    },
    {
      "cell_type": "code",
      "source": [
        "keys = iris_data.keys()\n",
        "print('붓꽃 데이터 세트의 키:', keys)"
      ],
      "metadata": {
        "colab": {
          "base_uri": "https://localhost:8080/"
        },
        "id": "00bFJfDgaGYg",
        "outputId": "9f73c142-0a9f-45e6-cf45-231b1a79e38e"
      },
      "execution_count": 260,
      "outputs": [
        {
          "output_type": "stream",
          "name": "stdout",
          "text": [
            "붓꽃 데이터 세트의 키: dict_keys(['data', 'target', 'frame', 'target_names', 'DESCR', 'feature_names', 'filename', 'data_module'])\n"
          ]
        }
      ]
    },
    {
      "cell_type": "markdown",
      "source": [
        "`key`가 가진 내용을 확인하겠습니다."
      ],
      "metadata": {
        "id": "RXz_fMR5ahzZ"
      }
    },
    {
      "cell_type": "code",
      "source": [
        "print('feature_names의 type:', type(iris_data.feature_names))\n",
        "print('feature_names의 shape:', len(iris_data.feature_names))\n",
        "print(iris_data.feature_names)\n",
        "print()\n",
        "\n",
        "print('target_names의 type:', type(iris_data.target_names))\n",
        "print('target_names의 shape:', iris_data.target_names.shape)\n",
        "print(iris_data.target_names)\n",
        "print()\n",
        "\n",
        "print('data의 type:', type(iris_data.data))\n",
        "print('data의 shape:', iris_data.data.shape)\n",
        "print(iris_data.data[:5])\n",
        "print()\n",
        "\n",
        "print('target의 type:', type(iris_data.target))\n",
        "print('target의 shape:', iris_data.target.shape)\n",
        "print(iris_data.target)"
      ],
      "metadata": {
        "colab": {
          "base_uri": "https://localhost:8080/"
        },
        "id": "lBip99Ova1MJ",
        "outputId": "b847816e-6738-4b5c-e603-99d11a546300"
      },
      "execution_count": 261,
      "outputs": [
        {
          "output_type": "stream",
          "name": "stdout",
          "text": [
            "feature_names의 type: <class 'list'>\n",
            "feature_names의 shape: 4\n",
            "['sepal length (cm)', 'sepal width (cm)', 'petal length (cm)', 'petal width (cm)']\n",
            "\n",
            "target_names의 type: <class 'numpy.ndarray'>\n",
            "target_names의 shape: (3,)\n",
            "['setosa' 'versicolor' 'virginica']\n",
            "\n",
            "data의 type: <class 'numpy.ndarray'>\n",
            "data의 shape: (150, 4)\n",
            "[[5.1 3.5 1.4 0.2]\n",
            " [4.9 3.  1.4 0.2]\n",
            " [4.7 3.2 1.3 0.2]\n",
            " [4.6 3.1 1.5 0.2]\n",
            " [5.  3.6 1.4 0.2]]\n",
            "\n",
            "target의 type: <class 'numpy.ndarray'>\n",
            "target의 shape: (150,)\n",
            "[0 0 0 0 0 0 0 0 0 0 0 0 0 0 0 0 0 0 0 0 0 0 0 0 0 0 0 0 0 0 0 0 0 0 0 0 0\n",
            " 0 0 0 0 0 0 0 0 0 0 0 0 0 1 1 1 1 1 1 1 1 1 1 1 1 1 1 1 1 1 1 1 1 1 1 1 1\n",
            " 1 1 1 1 1 1 1 1 1 1 1 1 1 1 1 1 1 1 1 1 1 1 1 1 1 1 2 2 2 2 2 2 2 2 2 2 2\n",
            " 2 2 2 2 2 2 2 2 2 2 2 2 2 2 2 2 2 2 2 2 2 2 2 2 2 2 2 2 2 2 2 2 2 2 2 2 2\n",
            " 2 2]\n"
          ]
        }
      ]
    },
    {
      "cell_type": "markdown",
      "source": [
        "이처럼 사이킷런이 가진 모든 예제 데이터셋은 보통 위와 같은 `key`로 구성되어 있습니다."
      ],
      "metadata": {
        "id": "CZHtein0dVoh"
      }
    },
    {
      "cell_type": "markdown",
      "source": [
        "# **4. Model Selection 모듈 소개**"
      ],
      "metadata": {
        "id": "25DRsgIFdowA"
      }
    },
    {
      "cell_type": "markdown",
      "source": [
        "## **4.1. train_test_split() - 학습/테스트 데이터 세트 분리**"
      ],
      "metadata": {
        "id": "knLuv4Re7TP7"
      }
    },
    {
      "cell_type": "markdown",
      "source": [
        "붓꽃 데이터를 토대로 붓꽃 품종을 예측하는 모델을 만들어보겠습니다. 위 파트에서는 테스트 세트를 20%로 지정했습니다. 이번에는 30%로 지정하겠습니다. "
      ],
      "metadata": {
        "id": "oPEPo_7q9B0m"
      }
    },
    {
      "cell_type": "code",
      "source": [
        "from sklearn.tree import DecisionTreeClassifier\n",
        "from sklearn.metrics import accuracy_score\n",
        "from sklearn.datasets import load_iris\n",
        "from sklearn.model_selection import train_test_split\n",
        "\n",
        "dt_clf = DecisionTreeClassifier()\n",
        "iris_data = load_iris()\n",
        "\n",
        "X_train, X_test, y_train, y_test = train_test_split(\n",
        "    iris_data.data, iris_data.target, test_size=0.3, random_state=121)"
      ],
      "metadata": {
        "id": "f6RcASzC7mmq"
      },
      "execution_count": 262,
      "outputs": []
    },
    {
      "cell_type": "code",
      "source": [
        "dt_clf.fit(X_train, y_train)\n",
        "pred = dt_clf.predict(X_test)\n",
        "print('예측 정확도: {0:.4f}'.format(accuracy_score(y_test, pred)))"
      ],
      "metadata": {
        "colab": {
          "base_uri": "https://localhost:8080/"
        },
        "id": "mOg8VdBs8mYq",
        "outputId": "0d53fbdc-aea2-4c51-bb62-5b7eb9feb2b2"
      },
      "execution_count": 263,
      "outputs": [
        {
          "output_type": "stream",
          "name": "stdout",
          "text": [
            "예측 정확도: 0.9556\n"
          ]
        }
      ]
    },
    {
      "cell_type": "markdown",
      "source": [
        "## **4.2. 교차 검증**"
      ],
      "metadata": {
        "id": "Xuqzs1Ze9sjo"
      }
    },
    {
      "cell_type": "markdown",
      "source": [
        "머신러닝은 데이터에 기반합니다. 데이터는 이상치, 분포도, 다양한 속성값, 피처 중요도 등 머신러닝에 영향을 주는 요소를 가집니다. 머신러닝 알고리즘이 최적으로 작동할 수 있도록 데이터를 선별하여 학습하면 실제 데이터 양식과는 많은 차이가 발생하고 성능 저하로 이어집니다. 고정된 학습 데이터와 테스트 데이터로 평가하면 모델이 테스트 데이터에 편향되어 다른 데이터에 대해 성능이 떨어질 수 있습니다. 이를 극복하기 위한 솔루션은 교차 검증입니다. 학습 세트를 학습 세트와 검증 세트로 나눠서 학습과 검증 평가를 반복하여 수행하고 마지막에 딱 한 번 테스트 세트로 최종 평가를 수행하는 것입니다."
      ],
      "metadata": {
        "id": "Z0NwC6J_9_1U"
      }
    },
    {
      "cell_type": "markdown",
      "source": [
        "### **4.2.1. K 폴드 교차 검증**"
      ],
      "metadata": {
        "id": "RCxgtnpSDMNP"
      }
    },
    {
      "cell_type": "markdown",
      "source": [
        "K 폴드 교차 검증은 가장 보편적으로 사용됩니다. K개의 데이터 폴드 세트를 만들고, 각 폴드 세트를 사용하여 K번만큼 학습과 검증 평가를 반복적으로 수행합니다. 각 폴드에 속해있는 학습 세트와 검증 세트는 구성된 데이터가 모두 다릅니다. 이렇게 각자 다른 데이터로 구성된 폴드 세트를 사용하여 학습과 검증을 반복하면 K개만큼 각각 다른 평가 점수가 도출됩니다. 이렇게 도출된 평가 점수 K개를 평균하면 최종 평가 점수가 도출됩니다.\n",
        "\n",
        "먼저 붓꽃 데이터를 준비하겠습니다."
      ],
      "metadata": {
        "id": "zrjlMsdKDRHH"
      }
    },
    {
      "cell_type": "code",
      "source": [
        "from sklearn.tree import DecisionTreeClassifier\n",
        "from sklearn.metrics import accuracy_score\n",
        "from sklearn.model_selection import KFold\n",
        "import numpy as np\n",
        "\n",
        "iris = load_iris()\n",
        "features = iris.data\n",
        "label = iris.target\n",
        "dt_clf = DecisionTreeClassifier(random_state=156)\n",
        "\n",
        "print('붓꽃 데이터 세트 크기:', features.shape)"
      ],
      "metadata": {
        "colab": {
          "base_uri": "https://localhost:8080/"
        },
        "id": "hgMgQKbhFUO4",
        "outputId": "48a57cec-2672-4c81-9b22-2744e8b53e32"
      },
      "execution_count": 264,
      "outputs": [
        {
          "output_type": "stream",
          "name": "stdout",
          "text": [
            "붓꽃 데이터 세트 크기: (150, 4)\n"
          ]
        }
      ]
    },
    {
      "cell_type": "markdown",
      "source": [
        "`KFold` 클래스로 인스턴스를 생성하고 `split()` 메서드를 호출하여 붓꽃 데이터를 나누겠습니다. 참고로 `split()` 메서드를 호출하면 폴드별 학습용, 검증용 데이터로 나눌 수 있는 행 인덱스를 반환합니다. 코드로써 전체 내용을 구현하겠습니다."
      ],
      "metadata": {
        "id": "r6u4ebmfSYoC"
      }
    },
    {
      "cell_type": "code",
      "source": [
        "# 폴드 세트 5개로 분리하는 KFold 인스턴스를 생성합니다.\n",
        "kfold = KFold(n_splits=5)\n",
        "# 폴드 세트별 정확도를 담을 리스트 객체를 생성합니다.\n",
        "cv_accuracy = []\n",
        "# 반복 횟수는 0으로 지정합니다.\n",
        "n_iter = 0\n",
        "\n",
        "for train_index, test_index in kfold.split(features):\n",
        "    X_train, X_test = features[train_index], features[test_index]\n",
        "    y_train, y_test = label[train_index], label[test_index]\n",
        "    dt_clf.fit(X_train, y_train)\n",
        "    pred = dt_clf.predict(X_test)\n",
        "    n_iter += 1\n",
        "    accuracy = np.round(accuracy_score(y_test, pred), 4)\n",
        "    train_size = X_train.shape[0]\n",
        "    test_size = X_test.shape[0]\n",
        "    print('* {}번째 교차 검증 정확도: {}, 학습 데이터 크기: {}, 검증 데이터 크기: {}'.\n",
        "          format(n_iter, accuracy, train_size, test_size))\n",
        "    print('* {}번째 검증 세트 인덱스: {}'.\n",
        "          format(n_iter, test_index))\n",
        "    print()\n",
        "    cv_accuracy.append(accuracy)\n",
        "\n",
        "print('-> 평균 검증 정확도:', np.mean(cv_accuracy))"
      ],
      "metadata": {
        "colab": {
          "base_uri": "https://localhost:8080/"
        },
        "id": "Eyg7IRi6G9OQ",
        "outputId": "300673b6-a87a-423b-bca6-41cb0993fb7f"
      },
      "execution_count": 265,
      "outputs": [
        {
          "output_type": "stream",
          "name": "stdout",
          "text": [
            "* 1번째 교차 검증 정확도: 1.0, 학습 데이터 크기: 120, 검증 데이터 크기: 30\n",
            "* 1번째 검증 세트 인덱스: [ 0  1  2  3  4  5  6  7  8  9 10 11 12 13 14 15 16 17 18 19 20 21 22 23\n",
            " 24 25 26 27 28 29]\n",
            "\n",
            "* 2번째 교차 검증 정확도: 0.9667, 학습 데이터 크기: 120, 검증 데이터 크기: 30\n",
            "* 2번째 검증 세트 인덱스: [30 31 32 33 34 35 36 37 38 39 40 41 42 43 44 45 46 47 48 49 50 51 52 53\n",
            " 54 55 56 57 58 59]\n",
            "\n",
            "* 3번째 교차 검증 정확도: 0.8667, 학습 데이터 크기: 120, 검증 데이터 크기: 30\n",
            "* 3번째 검증 세트 인덱스: [60 61 62 63 64 65 66 67 68 69 70 71 72 73 74 75 76 77 78 79 80 81 82 83\n",
            " 84 85 86 87 88 89]\n",
            "\n",
            "* 4번째 교차 검증 정확도: 0.9333, 학습 데이터 크기: 120, 검증 데이터 크기: 30\n",
            "* 4번째 검증 세트 인덱스: [ 90  91  92  93  94  95  96  97  98  99 100 101 102 103 104 105 106 107\n",
            " 108 109 110 111 112 113 114 115 116 117 118 119]\n",
            "\n",
            "* 5번째 교차 검증 정확도: 0.7333, 학습 데이터 크기: 120, 검증 데이터 크기: 30\n",
            "* 5번째 검증 세트 인덱스: [120 121 122 123 124 125 126 127 128 129 130 131 132 133 134 135 136 137\n",
            " 138 139 140 141 142 143 144 145 146 147 148 149]\n",
            "\n",
            "-> 평균 검증 정확도: 0.9\n"
          ]
        }
      ]
    },
    {
      "cell_type": "markdown",
      "source": [
        "### **4.2.2. Stratified K 폴드**"
      ],
      "metadata": {
        "id": "tE2JKMUsTG1n"
      }
    },
    {
      "cell_type": "markdown",
      "source": [
        "Stratified K 폴드는 불균형한 분포도를 가진 레이블 데이터 집합을 위한 기법입니다. 불균형한 분포도를 가진 레이블 데이터 집합은 특정 레이블 값이 특이할 정도로 많거나 적어서 값 분포가 한쪽으로 치우친 것을 의미합니다.\n",
        "\n",
        "Stratified K 폴드는 K 폴드가 레이블 데이터 집합이 원본 데이터 집합의 레이블 분포를 학습 세트와 테스트 세트에 제대로 분배하도록 합니다. 원본 데이터의 레이블 분포를 먼저 고려하고, 이 분포와 동일하게 학습 데이터와 검증 데이터 세트를 분배합니다.\n",
        "\n",
        "K 폴드에 어떤 문제가 있는지 확인하고 `StratifiedKFlod` 클래스로 문제를 개선해보겠습니다. 일단 붓꽃 데이터를 데이터프레임으로 생성하고 레이블 값의 분포도를 확인하겠습니다."
      ],
      "metadata": {
        "id": "0ylNuEYUTLRr"
      }
    },
    {
      "cell_type": "code",
      "source": [
        "import pandas as pd\n",
        "\n",
        "iris = load_iris()\n",
        "iris_df = pd.DataFrame(data=iris.data, columns=iris.feature_names)\n",
        "iris_df['label'] = iris.target\n",
        "\n",
        "iris_df['label'].value_counts()"
      ],
      "metadata": {
        "colab": {
          "base_uri": "https://localhost:8080/"
        },
        "id": "g2H0aQOrbIGp",
        "outputId": "73684a84-dfdc-470d-fdc4-03da0a3db9f2"
      },
      "execution_count": 266,
      "outputs": [
        {
          "output_type": "execute_result",
          "data": {
            "text/plain": [
              "0    50\n",
              "1    50\n",
              "2    50\n",
              "Name: label, dtype: int64"
            ]
          },
          "metadata": {},
          "execution_count": 266
        }
      ]
    },
    {
      "cell_type": "markdown",
      "source": [
        "각 레이블마다 동일하게 50개씩입니다. 이슈를 발생시키기 위해 폴드 세트 3개를 `KFold` 클래스로 생성하고 각 교차 검증마다 생성되는 학습/검증 레이블 데이터 값의 분포도를 확인하겠습니다."
      ],
      "metadata": {
        "id": "SbUGLi9yb6wq"
      }
    },
    {
      "cell_type": "code",
      "source": [
        "kfold = KFold(n_splits=3)\n",
        "n_iter=0\n",
        "\n",
        "for train_index, test_index in kfold.split(iris_df):\n",
        "    n_iter += 1\n",
        "    label_train = iris_df['label'].iloc[train_index]\n",
        "    label_test = iris_df['label'].iloc[test_index]\n",
        "    print('* 교차 검증 {}번째'.format(n_iter))\n",
        "    print('학습 레이블 데이터 분포:\\n', label_train.value_counts())\n",
        "    print('검증 레이블 데이터 분포:\\n', label_test.value_counts())\n",
        "    print()"
      ],
      "metadata": {
        "colab": {
          "base_uri": "https://localhost:8080/"
        },
        "id": "Cc2O9kSmcK8q",
        "outputId": "01f30dc4-bcc6-40cb-ef7d-2d7a842c2134"
      },
      "execution_count": 267,
      "outputs": [
        {
          "output_type": "stream",
          "name": "stdout",
          "text": [
            "* 교차 검증 1번째\n",
            "학습 레이블 데이터 분포:\n",
            " 1    50\n",
            "2    50\n",
            "Name: label, dtype: int64\n",
            "검증 레이블 데이터 분포:\n",
            " 0    50\n",
            "Name: label, dtype: int64\n",
            "\n",
            "* 교차 검증 2번째\n",
            "학습 레이블 데이터 분포:\n",
            " 0    50\n",
            "2    50\n",
            "Name: label, dtype: int64\n",
            "검증 레이블 데이터 분포:\n",
            " 1    50\n",
            "Name: label, dtype: int64\n",
            "\n",
            "* 교차 검증 3번째\n",
            "학습 레이블 데이터 분포:\n",
            " 0    50\n",
            "1    50\n",
            "Name: label, dtype: int64\n",
            "검증 레이블 데이터 분포:\n",
            " 2    50\n",
            "Name: label, dtype: int64\n",
            "\n"
          ]
        }
      ]
    },
    {
      "cell_type": "markdown",
      "source": [
        "각 레이블마다 50개씩 포함되어 있으므로 특정 레이블은 학습하지 못하는 교차 검증이 발생합니다. \n",
        "\n",
        "이제 `StratifiedKFlod` 클래스를 사용해보겠습니다. `KFold` 클래스와 사용법은 비슷하지만 차이가 하나 있습니다. `split()` 메서드에 피처 데이터 세트뿐만 아니라 레이블 데이터 세트도 함께 지정해야 합니다. 레이블 데이터 분포도에 따라 학습/검증 데이터를 나누기 때문입니다."
      ],
      "metadata": {
        "id": "ACmEcnhDfxnM"
      }
    },
    {
      "cell_type": "code",
      "source": [
        "from sklearn.model_selection import StratifiedKFold\n",
        "\n",
        "skf = StratifiedKFold(n_splits=3)\n",
        "n_iter=0\n",
        "\n",
        "# 레이블 데이터 세트도 함께 지정합니다.\n",
        "for train_index, test_index in skf.split(iris_df, iris_df['label']):\n",
        "    n_iter += 1\n",
        "    label_train = iris_df['label'].iloc[train_index]\n",
        "    label_test = iris_df['label'].iloc[test_index]\n",
        "    print('* 교차 검증 {}번째'.format(n_iter))\n",
        "    print('학습 레이블 데이터 분포:\\n', label_train.value_counts())\n",
        "    print('검증 레이블 데이터 분포:\\n', label_test.value_counts())\n",
        "    print()"
      ],
      "metadata": {
        "colab": {
          "base_uri": "https://localhost:8080/"
        },
        "id": "Zt1mvieugUcH",
        "outputId": "9bcece04-a187-471b-d1e1-b3865594fa17"
      },
      "execution_count": 268,
      "outputs": [
        {
          "output_type": "stream",
          "name": "stdout",
          "text": [
            "* 교차 검증 1번째\n",
            "학습 레이블 데이터 분포:\n",
            " 2    34\n",
            "0    33\n",
            "1    33\n",
            "Name: label, dtype: int64\n",
            "검증 레이블 데이터 분포:\n",
            " 0    17\n",
            "1    17\n",
            "2    16\n",
            "Name: label, dtype: int64\n",
            "\n",
            "* 교차 검증 2번째\n",
            "학습 레이블 데이터 분포:\n",
            " 1    34\n",
            "0    33\n",
            "2    33\n",
            "Name: label, dtype: int64\n",
            "검증 레이블 데이터 분포:\n",
            " 0    17\n",
            "2    17\n",
            "1    16\n",
            "Name: label, dtype: int64\n",
            "\n",
            "* 교차 검증 3번째\n",
            "학습 레이블 데이터 분포:\n",
            " 0    34\n",
            "1    33\n",
            "2    33\n",
            "Name: label, dtype: int64\n",
            "검증 레이블 데이터 분포:\n",
            " 1    17\n",
            "2    17\n",
            "0    16\n",
            "Name: label, dtype: int64\n",
            "\n"
          ]
        }
      ]
    },
    {
      "cell_type": "markdown",
      "source": [
        "`StratifiedKFlod` 클래스를 사용하여 데이터를 분리하고 교차 검증별 정확도와 평균 검증 정확도를 도출해보겠습니다."
      ],
      "metadata": {
        "id": "S1MyzQDbhkdl"
      }
    },
    {
      "cell_type": "code",
      "source": [
        "dt_clf = DecisionTreeClassifier(random_state=156)\n",
        "skf = StratifiedKFold(n_splits=3)\n",
        "n_iter = 0\n",
        "cv_accuracy = []\n",
        "\n",
        "for train_index, test_index in skf.split(features, label):\n",
        "    X_train, X_test = features[train_index], features[test_index]\n",
        "    y_train, y_test = label[train_index], label[test_index]\n",
        "    dt_clf.fit(X_train, y_train)\n",
        "    pred = dt_clf.predict(X_test)\n",
        "    n_iter += 1\n",
        "    accuracy = np.round(accuracy_score(y_test, pred), 4)\n",
        "    train_size = X_train.shape[0]\n",
        "    test_size = X_test.shape[0]\n",
        "    print('* {}번째 교차 검증 정확도: {}, 학습 데이터 크기: {}, 검증 데이터 크기: {}'.\n",
        "          format(n_iter, accuracy, train_size, test_size))\n",
        "    print('* {}번째 검증 세트 인덱스: {}'.\n",
        "          format(n_iter, test_index))\n",
        "    print()\n",
        "    cv_accuracy.append(accuracy)\n",
        "\n",
        "print('-> 교차 검증별 정확도:', np.round(cv_accuracy, 4))\n",
        "print('-> 평균 검증 정확도:', np.mean(cv_accuracy))"
      ],
      "metadata": {
        "colab": {
          "base_uri": "https://localhost:8080/"
        },
        "id": "LDSVAHCPiIXE",
        "outputId": "210f32ac-99c1-4218-d4f1-804c803df21c"
      },
      "execution_count": 269,
      "outputs": [
        {
          "output_type": "stream",
          "name": "stdout",
          "text": [
            "* 1번째 교차 검증 정확도: 0.98, 학습 데이터 크기: 100, 검증 데이터 크기: 50\n",
            "* 1번째 검증 세트 인덱스: [  0   1   2   3   4   5   6   7   8   9  10  11  12  13  14  15  16  50\n",
            "  51  52  53  54  55  56  57  58  59  60  61  62  63  64  65  66 100 101\n",
            " 102 103 104 105 106 107 108 109 110 111 112 113 114 115]\n",
            "\n",
            "* 2번째 교차 검증 정확도: 0.94, 학습 데이터 크기: 100, 검증 데이터 크기: 50\n",
            "* 2번째 검증 세트 인덱스: [ 17  18  19  20  21  22  23  24  25  26  27  28  29  30  31  32  33  67\n",
            "  68  69  70  71  72  73  74  75  76  77  78  79  80  81  82 116 117 118\n",
            " 119 120 121 122 123 124 125 126 127 128 129 130 131 132]\n",
            "\n",
            "* 3번째 교차 검증 정확도: 0.98, 학습 데이터 크기: 100, 검증 데이터 크기: 50\n",
            "* 3번째 검증 세트 인덱스: [ 34  35  36  37  38  39  40  41  42  43  44  45  46  47  48  49  83  84\n",
            "  85  86  87  88  89  90  91  92  93  94  95  96  97  98  99 133 134 135\n",
            " 136 137 138 139 140 141 142 143 144 145 146 147 148 149]\n",
            "\n",
            "-> 교차 검증별 정확도: [0.98 0.94 0.98]\n",
            "-> 평균 검증 정확도: 0.9666666666666667\n"
          ]
        }
      ]
    },
    {
      "cell_type": "markdown",
      "source": [
        "일반적으로 분류 문제에서 교차 검증은 Stratified K 폴드로 분할되어야 합니다. 회귀에서는 Stratified K 폴드가 지원되지 않습니다. 회귀의 결정값은 이산값 형태의 레이블이 아니라 연속된 숫자값이므로 결정값별로 분포를 정할 필요가 없습니다. "
      ],
      "metadata": {
        "id": "kyBxONDROiC-"
      }
    },
    {
      "cell_type": "markdown",
      "source": [
        "### **4.2.3. cross_val_score() - 교차 검증을 보다 간편하게**"
      ],
      "metadata": {
        "id": "lZS4kRAPPDrt"
      }
    },
    {
      "cell_type": "markdown",
      "source": [
        "`cross_val_score()` 메서드를 사용하여 교차 검증을 더욱 편리하게 수행할 수 있습니다. 위에서는 폴드 세트를 만들고 for 문으로 인덱스를 추출해서 학습과 예측을 반복적으로 수행하고 예측 성능을 확인했습니다. 이 작업을 `cross_val_score()` 메서드를 통해 한꺼번에 수행할 수 있습니다."
      ],
      "metadata": {
        "id": "q2Ye5QWhPOq7"
      }
    },
    {
      "cell_type": "code",
      "source": [
        "from sklearn.model_selection import cross_val_score, cross_validate\n",
        "\n",
        "# help(cross_val_score)"
      ],
      "metadata": {
        "id": "l5JQ8ITnR6Dr"
      },
      "execution_count": 270,
      "outputs": []
    },
    {
      "cell_type": "markdown",
      "source": [
        "주요 매개변수는 `estimator`, `X`, `y`, `scoring`, `cv`입니다. `estimator` 매개변수에는 분류 클래스나 회귀 클래스를 지정합니다. `scoring` 매개변수에는 예측 성능 평가 지표를 지정합니다. `cv` 매개변수에는 교차 검증 폴드 수를 지정합니다. \n",
        "\n",
        "코드로 구현하면서 살펴보겠습니다."
      ],
      "metadata": {
        "id": "rcQFqoPISISi"
      }
    },
    {
      "cell_type": "code",
      "source": [
        "from sklearn.tree import DecisionTreeClassifier\n",
        "from sklearn.datasets import load_iris\n",
        "\n",
        "iris_data = load_iris()\n",
        "dt_clf = DecisionTreeClassifier(random_state=156)\n",
        "data = iris_data.data\n",
        "label = iris_data.target\n",
        "\n",
        "scores = cross_val_score(dt_clf, data, label, scoring='accuracy', cv=3)\n",
        "print('교차 검증별 정확도:', np.round(scores, 4))\n",
        "print('평균 검증 정확도:', np.round(np.mean(scores), 4))"
      ],
      "metadata": {
        "colab": {
          "base_uri": "https://localhost:8080/"
        },
        "id": "xBCpBxktP0oh",
        "outputId": "427e0186-9184-4290-f8ec-a4223731d914"
      },
      "execution_count": 271,
      "outputs": [
        {
          "output_type": "stream",
          "name": "stdout",
          "text": [
            "교차 검증별 정확도: [0.98 0.94 0.98]\n",
            "평균 검증 정확도: 0.9667\n"
          ]
        }
      ]
    },
    {
      "cell_type": "markdown",
      "source": [
        "### **4.2.4. GridSearchCV - 교차 검증과 최적 하이퍼 파라미터 튜닝을 한 번에**"
      ],
      "metadata": {
        "id": "h310Kx0Ej31A"
      }
    },
    {
      "cell_type": "markdown",
      "source": [
        "그리드 서치를 구현한 `GridSearchCV` 클래스를 사용하여 최적 파라미터를 탐색할 수 있습니다."
      ],
      "metadata": {
        "id": "g4J5_vCTl4Hs"
      }
    },
    {
      "cell_type": "code",
      "source": [
        "from sklearn.model_selection import GridSearchCV\n",
        "\n",
        "# help(GridSearchCV)"
      ],
      "metadata": {
        "id": "YnnDaT-JHU6j"
      },
      "execution_count": 272,
      "outputs": []
    },
    {
      "cell_type": "markdown",
      "source": [
        "`GridSearchCV` 클래스 생성자에 지정할 수 있는 주요 파라미터는 아래와 같습니다.\n",
        "\n",
        "- `estimator`: classifier, regressor, pipeline을 지정할 수 있습니다.\n",
        "\n",
        "- `param_grid`: 튜닝에 사용할 파라미터를 지정합니다.\n",
        "\n",
        "- `scoring`: 예측 성능을 측정할 평가 방법을 지정합니다.\n",
        "\n",
        "- `cv`: 교차 검증을 위해 분할되는 학습/테스트 세트 개수를 지정합니다.\n",
        "\n",
        "- `refit`: 최적 하이퍼 파라미터를 찾고 입력된 estimator 객체를 해당 하이퍼 파라미터로 다시 학습할지 여부를 지정합니다. 기본값은 `True`입니다.\n",
        "\n",
        "`GridSearchCV` 클래스를 사용해보겠습니다. 먼저 학습 세트와 테스트 세트를 나누고 파라미터 탐색에 사용할 파라미터를 딕셔너리로 지정하겠습니다."
      ],
      "metadata": {
        "id": "oXPVGsMkHKD9"
      }
    },
    {
      "cell_type": "code",
      "source": [
        "from sklearn.datasets import load_iris\n",
        "from sklearn.tree import DecisionTreeClassifier\n",
        "\n",
        "iris_data = load_iris()\n",
        "X_train, X_test, y_train, y_test = train_test_split(iris_data.data, iris_data.target,\n",
        "                                                    test_size=0.2, random_state=121)\n",
        "dtree = DecisionTreeClassifier()\n",
        "param_grid = {'max_depth': [1, 2, 3],\n",
        "              'min_samples_split': [2, 3]\n",
        "              }"
      ],
      "metadata": {
        "id": "AVhN4rv8wqEt"
      },
      "execution_count": 273,
      "outputs": []
    },
    {
      "cell_type": "markdown",
      "source": [
        "`GridSearchCV` 클래스의 인스턴스로 `grid_dtree`를 정의하고, `fit()` 메서드에 학습 세트를 인자로 지정하여 호출하겠습니다. `cv_results_` 속성에 학습과 평가를 수행한 결과가 기록됩니다."
      ],
      "metadata": {
        "id": "NiNuM35ROMA_"
      }
    },
    {
      "cell_type": "code",
      "source": [
        "grid_dtree = GridSearchCV(dtree, param_grid=param_grid, cv=3, refit=True)\n",
        "grid_dtree.fit(X_train, y_train)"
      ],
      "metadata": {
        "colab": {
          "base_uri": "https://localhost:8080/"
        },
        "id": "3p4iMrOP5SSq",
        "outputId": "6dd1c7c6-80af-4a19-d019-eaa8ff57d5d0"
      },
      "execution_count": 274,
      "outputs": [
        {
          "output_type": "execute_result",
          "data": {
            "text/plain": [
              "GridSearchCV(cv=3, estimator=DecisionTreeClassifier(),\n",
              "             param_grid={'max_depth': [1, 2, 3], 'min_samples_split': [2, 3]})"
            ]
          },
          "metadata": {},
          "execution_count": 274
        }
      ]
    },
    {
      "cell_type": "markdown",
      "source": [
        "`cv_results_` 속성을 데이터프레임으로 출력해보겠습니다."
      ],
      "metadata": {
        "id": "SVSrvYipPFZ9"
      }
    },
    {
      "cell_type": "code",
      "source": [
        "scores_df = pd.DataFrame(grid_dtree.cv_results_)\n",
        "scores_df[['params', 'mean_test_score', 'rank_test_score',\n",
        "           'split0_test_score', 'split1_test_score', 'split2_test_score']]"
      ],
      "metadata": {
        "colab": {
          "base_uri": "https://localhost:8080/",
          "height": 238
        },
        "id": "gFBH2iJH-nhk",
        "outputId": "54fb605f-7fb2-40f7-998a-e883afe9a483"
      },
      "execution_count": 275,
      "outputs": [
        {
          "output_type": "execute_result",
          "data": {
            "text/html": [
              "\n",
              "  <div id=\"df-e5b3ec90-0f9e-4713-a0a5-122c0a880744\">\n",
              "    <div class=\"colab-df-container\">\n",
              "      <div>\n",
              "<style scoped>\n",
              "    .dataframe tbody tr th:only-of-type {\n",
              "        vertical-align: middle;\n",
              "    }\n",
              "\n",
              "    .dataframe tbody tr th {\n",
              "        vertical-align: top;\n",
              "    }\n",
              "\n",
              "    .dataframe thead th {\n",
              "        text-align: right;\n",
              "    }\n",
              "</style>\n",
              "<table border=\"1\" class=\"dataframe\">\n",
              "  <thead>\n",
              "    <tr style=\"text-align: right;\">\n",
              "      <th></th>\n",
              "      <th>params</th>\n",
              "      <th>mean_test_score</th>\n",
              "      <th>rank_test_score</th>\n",
              "      <th>split0_test_score</th>\n",
              "      <th>split1_test_score</th>\n",
              "      <th>split2_test_score</th>\n",
              "    </tr>\n",
              "  </thead>\n",
              "  <tbody>\n",
              "    <tr>\n",
              "      <th>0</th>\n",
              "      <td>{'max_depth': 1, 'min_samples_split': 2}</td>\n",
              "      <td>0.700000</td>\n",
              "      <td>5</td>\n",
              "      <td>0.700</td>\n",
              "      <td>0.7</td>\n",
              "      <td>0.70</td>\n",
              "    </tr>\n",
              "    <tr>\n",
              "      <th>1</th>\n",
              "      <td>{'max_depth': 1, 'min_samples_split': 3}</td>\n",
              "      <td>0.700000</td>\n",
              "      <td>5</td>\n",
              "      <td>0.700</td>\n",
              "      <td>0.7</td>\n",
              "      <td>0.70</td>\n",
              "    </tr>\n",
              "    <tr>\n",
              "      <th>2</th>\n",
              "      <td>{'max_depth': 2, 'min_samples_split': 2}</td>\n",
              "      <td>0.958333</td>\n",
              "      <td>3</td>\n",
              "      <td>0.925</td>\n",
              "      <td>1.0</td>\n",
              "      <td>0.95</td>\n",
              "    </tr>\n",
              "    <tr>\n",
              "      <th>3</th>\n",
              "      <td>{'max_depth': 2, 'min_samples_split': 3}</td>\n",
              "      <td>0.958333</td>\n",
              "      <td>3</td>\n",
              "      <td>0.925</td>\n",
              "      <td>1.0</td>\n",
              "      <td>0.95</td>\n",
              "    </tr>\n",
              "    <tr>\n",
              "      <th>4</th>\n",
              "      <td>{'max_depth': 3, 'min_samples_split': 2}</td>\n",
              "      <td>0.975000</td>\n",
              "      <td>1</td>\n",
              "      <td>0.975</td>\n",
              "      <td>1.0</td>\n",
              "      <td>0.95</td>\n",
              "    </tr>\n",
              "    <tr>\n",
              "      <th>5</th>\n",
              "      <td>{'max_depth': 3, 'min_samples_split': 3}</td>\n",
              "      <td>0.975000</td>\n",
              "      <td>1</td>\n",
              "      <td>0.975</td>\n",
              "      <td>1.0</td>\n",
              "      <td>0.95</td>\n",
              "    </tr>\n",
              "  </tbody>\n",
              "</table>\n",
              "</div>\n",
              "      <button class=\"colab-df-convert\" onclick=\"convertToInteractive('df-e5b3ec90-0f9e-4713-a0a5-122c0a880744')\"\n",
              "              title=\"Convert this dataframe to an interactive table.\"\n",
              "              style=\"display:none;\">\n",
              "        \n",
              "  <svg xmlns=\"http://www.w3.org/2000/svg\" height=\"24px\"viewBox=\"0 0 24 24\"\n",
              "       width=\"24px\">\n",
              "    <path d=\"M0 0h24v24H0V0z\" fill=\"none\"/>\n",
              "    <path d=\"M18.56 5.44l.94 2.06.94-2.06 2.06-.94-2.06-.94-.94-2.06-.94 2.06-2.06.94zm-11 1L8.5 8.5l.94-2.06 2.06-.94-2.06-.94L8.5 2.5l-.94 2.06-2.06.94zm10 10l.94 2.06.94-2.06 2.06-.94-2.06-.94-.94-2.06-.94 2.06-2.06.94z\"/><path d=\"M17.41 7.96l-1.37-1.37c-.4-.4-.92-.59-1.43-.59-.52 0-1.04.2-1.43.59L10.3 9.45l-7.72 7.72c-.78.78-.78 2.05 0 2.83L4 21.41c.39.39.9.59 1.41.59.51 0 1.02-.2 1.41-.59l7.78-7.78 2.81-2.81c.8-.78.8-2.07 0-2.86zM5.41 20L4 18.59l7.72-7.72 1.47 1.35L5.41 20z\"/>\n",
              "  </svg>\n",
              "      </button>\n",
              "      \n",
              "  <style>\n",
              "    .colab-df-container {\n",
              "      display:flex;\n",
              "      flex-wrap:wrap;\n",
              "      gap: 12px;\n",
              "    }\n",
              "\n",
              "    .colab-df-convert {\n",
              "      background-color: #E8F0FE;\n",
              "      border: none;\n",
              "      border-radius: 50%;\n",
              "      cursor: pointer;\n",
              "      display: none;\n",
              "      fill: #1967D2;\n",
              "      height: 32px;\n",
              "      padding: 0 0 0 0;\n",
              "      width: 32px;\n",
              "    }\n",
              "\n",
              "    .colab-df-convert:hover {\n",
              "      background-color: #E2EBFA;\n",
              "      box-shadow: 0px 1px 2px rgba(60, 64, 67, 0.3), 0px 1px 3px 1px rgba(60, 64, 67, 0.15);\n",
              "      fill: #174EA6;\n",
              "    }\n",
              "\n",
              "    [theme=dark] .colab-df-convert {\n",
              "      background-color: #3B4455;\n",
              "      fill: #D2E3FC;\n",
              "    }\n",
              "\n",
              "    [theme=dark] .colab-df-convert:hover {\n",
              "      background-color: #434B5C;\n",
              "      box-shadow: 0px 1px 3px 1px rgba(0, 0, 0, 0.15);\n",
              "      filter: drop-shadow(0px 1px 2px rgba(0, 0, 0, 0.3));\n",
              "      fill: #FFFFFF;\n",
              "    }\n",
              "  </style>\n",
              "\n",
              "      <script>\n",
              "        const buttonEl =\n",
              "          document.querySelector('#df-e5b3ec90-0f9e-4713-a0a5-122c0a880744 button.colab-df-convert');\n",
              "        buttonEl.style.display =\n",
              "          google.colab.kernel.accessAllowed ? 'block' : 'none';\n",
              "\n",
              "        async function convertToInteractive(key) {\n",
              "          const element = document.querySelector('#df-e5b3ec90-0f9e-4713-a0a5-122c0a880744');\n",
              "          const dataTable =\n",
              "            await google.colab.kernel.invokeFunction('convertToInteractive',\n",
              "                                                     [key], {});\n",
              "          if (!dataTable) return;\n",
              "\n",
              "          const docLinkHtml = 'Like what you see? Visit the ' +\n",
              "            '<a target=\"_blank\" href=https://colab.research.google.com/notebooks/data_table.ipynb>data table notebook</a>'\n",
              "            + ' to learn more about interactive tables.';\n",
              "          element.innerHTML = '';\n",
              "          dataTable['output_type'] = 'display_data';\n",
              "          await google.colab.output.renderOutput(dataTable, element);\n",
              "          const docLink = document.createElement('div');\n",
              "          docLink.innerHTML = docLinkHtml;\n",
              "          element.appendChild(docLink);\n",
              "        }\n",
              "      </script>\n",
              "    </div>\n",
              "  </div>\n",
              "  "
            ],
            "text/plain": [
              "                                     params  ...  split2_test_score\n",
              "0  {'max_depth': 1, 'min_samples_split': 2}  ...               0.70\n",
              "1  {'max_depth': 1, 'min_samples_split': 3}  ...               0.70\n",
              "2  {'max_depth': 2, 'min_samples_split': 2}  ...               0.95\n",
              "3  {'max_depth': 2, 'min_samples_split': 3}  ...               0.95\n",
              "4  {'max_depth': 3, 'min_samples_split': 2}  ...               0.95\n",
              "5  {'max_depth': 3, 'min_samples_split': 3}  ...               0.95\n",
              "\n",
              "[6 rows x 6 columns]"
            ]
          },
          "metadata": {},
          "execution_count": 275
        }
      ]
    },
    {
      "cell_type": "markdown",
      "source": [
        "최적 파라미터와 최고 정확도를 확인하겠습니다."
      ],
      "metadata": {
        "id": "Smi8fN7NdB1B"
      }
    },
    {
      "cell_type": "code",
      "source": [
        "print('GridSearchCV 최적 파라미터:', grid_dtree.best_params_)\n",
        "print('GridSearchCV 최고 정확도: {0:.4f}'.format(grid_dtree.best_score_))"
      ],
      "metadata": {
        "colab": {
          "base_uri": "https://localhost:8080/"
        },
        "id": "yG2FmsGX_VHf",
        "outputId": "07ba31f8-e6f1-4563-dce5-5faa66100957"
      },
      "execution_count": 276,
      "outputs": [
        {
          "output_type": "stream",
          "name": "stdout",
          "text": [
            "GridSearchCV 최적 파라미터: {'max_depth': 3, 'min_samples_split': 2}\n",
            "GridSearchCV 최고 정확도: 0.9750\n"
          ]
        }
      ]
    },
    {
      "cell_type": "markdown",
      "source": [
        "`GridSearchCV` 클래스에 `refit=True`(기본값)으로 매개변수를 지정했으므로 최적 성능을 내는 하이퍼 파라미터로 Estimator를 학습하여 `best_estimator_` 속성에 저장합니다. 이 속성을 객체로 만들어서 `predict()` 메서드를 호출하면 테스트 세트에 대한 성능을 확인할 수 있습니다."
      ],
      "metadata": {
        "id": "ex7kCR1zeOEi"
      }
    },
    {
      "cell_type": "code",
      "source": [
        "estimator = grid_dtree.best_estimator_\n",
        "pred = estimator.predict(X_test)\n",
        "print('테스트 세트 정확도: {0:.4f}'.format(accuracy_score(y_test, pred)))"
      ],
      "metadata": {
        "colab": {
          "base_uri": "https://localhost:8080/"
        },
        "id": "aYfQc62G_96w",
        "outputId": "8a3fc67b-c197-4e59-e2eb-033c3842bb11"
      },
      "execution_count": 277,
      "outputs": [
        {
          "output_type": "stream",
          "name": "stdout",
          "text": [
            "테스트 세트 정확도: 0.9667\n"
          ]
        }
      ]
    },
    {
      "cell_type": "markdown",
      "source": [
        "# **5. 데이터 전처리**"
      ],
      "metadata": {
        "id": "tn0WV63Jf6R6"
      }
    },
    {
      "cell_type": "markdown",
      "source": [
        "결측치가 대부분인 피처는 다른 값으로 대체하지 않고 통으로 제거하는 편이 좋습니다. 다만 결측치가 일정 수준 이상인지 판단할 수 있는 명확한 기준은 존재하지 않기 때문에 예측 왜곡이 심해지지 않도록 합리적인 방안을 모색해야 할 것입니다.\n",
        "\n",
        "문자열 피처는 카테고리형과 텍스트형으로 나뉩니다. 카테고리형 피처는 코드 값으로 표현하는 게 좋습니다. 텍스트형 피처는 피처 벡터화 등의 기법으로 벡터화하거나 불필요한 피처(예컨대 주민번호, 문자열 아이디 등)라면 삭제하는 게 좋습니다. 이런 식별자 피처는 행을 식별하는 용도이므로 알고리즘을 복잡하게 만들고 예측 성능을 떨어뜨리기 때문입니다."
      ],
      "metadata": {
        "id": "xILfc81Ac7u8"
      }
    },
    {
      "cell_type": "markdown",
      "source": [
        "## **5.1. 데이터 인코딩**"
      ],
      "metadata": {
        "id": "Ryffd9Wi0P-w"
      }
    },
    {
      "cell_type": "markdown",
      "source": [
        "대표적인 인코딩 방법은 레이블 인코딩(label encoding)과 원-핫 인코딩(one-hot encoding)입니다."
      ],
      "metadata": {
        "id": "xLBvgJeo5QPd"
      }
    },
    {
      "cell_type": "markdown",
      "source": [
        "### **5.1.1. 레이블 인코딩**"
      ],
      "metadata": {
        "id": "8Xadn3d656Iw"
      }
    },
    {
      "cell_type": "markdown",
      "source": [
        "레이블 인코딩은 카테고리 피처를 코드형 숫자로 변환하는 방법입니다. `LabelEncoder` 클래스에 구현되어 있습니다.\n",
        "\n",
        "레이블 인코딩을 수행해보겠습니다."
      ],
      "metadata": {
        "id": "l2LHA68058sR"
      }
    },
    {
      "cell_type": "code",
      "source": [
        "from sklearn.preprocessing import LabelEncoder\n",
        "\n",
        "items = ['TV', '냉장고', '전자레인지', '컴퓨터', '선풍기', '선풍기', '믹서', '믹서']\n",
        "\n",
        "encoder = LabelEncoder()\n",
        "encoder.fit(items)\n",
        "labels = encoder.transform(items)\n",
        "\n",
        "print('인코딩 변환값:', labels)\n",
        "print('인코딩 클래스:', encoder.classes_)"
      ],
      "metadata": {
        "colab": {
          "base_uri": "https://localhost:8080/"
        },
        "id": "GzUk4CQv6Jep",
        "outputId": "0feea64a-29f3-4ebc-8e21-86e4b9c102df"
      },
      "execution_count": 278,
      "outputs": [
        {
          "output_type": "stream",
          "name": "stdout",
          "text": [
            "인코딩 변환값: [0 1 4 5 3 3 2 2]\n",
            "인코딩 클래스: ['TV' '냉장고' '믹서' '선풍기' '전자레인지' '컴퓨터']\n"
          ]
        }
      ]
    },
    {
      "cell_type": "markdown",
      "source": [
        "해당하는 클래스로 디코딩해보겠습니다."
      ],
      "metadata": {
        "id": "WB60uM6-lhKT"
      }
    },
    {
      "cell_type": "code",
      "source": [
        "print('디코딩 원본값:', encoder.inverse_transform([4, 5, 2, 0, 1, 1, 3, 3]))"
      ],
      "metadata": {
        "colab": {
          "base_uri": "https://localhost:8080/"
        },
        "id": "MkHZUwy8BKNb",
        "outputId": "6c44b4c5-6a41-4513-e112-3e7afc38579d"
      },
      "execution_count": 279,
      "outputs": [
        {
          "output_type": "stream",
          "name": "stdout",
          "text": [
            "디코딩 원본값: ['전자레인지' '컴퓨터' '믹서' 'TV' '냉장고' '냉장고' '선풍기' '선풍기']\n"
          ]
        }
      ]
    },
    {
      "cell_type": "markdown",
      "source": [
        "레이블이 숫자로 변환되었으므로 머신러닝 알고리즘의 종류에 따라서는 예측 성능이 떨어질 수 있습니다. 숫자는 크고 작은 특성을 가집니다. 1과 2의 경우 값이 큰 2에 가중치가 더 부여될 수도 있습니다. 때문에 레이블 인코딩은 선형 회귀 같은 알고리즘에는 적합하지 않습니다. 숫자 특성을 반영하지 않는 트리 알고리즘에는 적합합니다.\n",
        "\n",
        "이러한 레이블 인코딩의 문제점을 해결하는 인코딩 방식은 원-핫 인코딩입니다. "
      ],
      "metadata": {
        "id": "HiJExXWhlnYe"
      }
    },
    {
      "cell_type": "markdown",
      "source": [
        "### **5.1.2. 원-핫 인코딩**"
      ],
      "metadata": {
        "id": "57kEuFzJnUHE"
      }
    },
    {
      "cell_type": "markdown",
      "source": [
        "원-핫 인코딩은 피처 값의 유형에 따라 새로운 피처를 추가하여 고윳값에 해당하는 열에만 1을 표시하고 나머지 칼럼에는 0을 표시합니다. `OneHotEncoder` 클래스에 원-핫 인코딩이 구현되어 있습니다. 이 클래스로 변환하기 전에 먼저 모든 문자열 값을 숫자형으로 변환해야 합니다. 아울러 입력 값으로는 2차원 데이터가 필요합니다.\n",
        "\n",
        "코드로 구현해보겠습니다."
      ],
      "metadata": {
        "id": "Da-BX9m0nXD1"
      }
    },
    {
      "cell_type": "code",
      "source": [
        "from sklearn.preprocessing import OneHotEncoder\n",
        "import numpy as np\n",
        "\n",
        "items = ['TV', '냉장고', '전자레인지', '컴퓨터', '선풍기', '선풍기', '믹서', '믹서']\n",
        "\n",
        "# 숫자형으로 변환합니다.\n",
        "encoder = LabelEncoder()\n",
        "encoder.fit(items)\n",
        "labels = encoder.transform(items)\n",
        "\n",
        "# 2차원 데이터로 변환합니다.\n",
        "labels = labels.reshape(-1, 1)\n",
        "\n",
        "# 원-핫 인코딩을 적용합니다.\n",
        "oh_encoder = OneHotEncoder()\n",
        "oh_encoder.fit(labels)\n",
        "oh_labels = oh_encoder.transform(labels)\n",
        "\n",
        "print('원-핫 인코딩 데이터')\n",
        "print(oh_labels.toarray())\n",
        "print('원-핫 인코딩 데이터 차원')\n",
        "print(oh_labels.shape)"
      ],
      "metadata": {
        "colab": {
          "base_uri": "https://localhost:8080/"
        },
        "id": "mgDLdDzA2CwZ",
        "outputId": "a72924fd-2e59-4d18-b0e5-86fc52f3b33c"
      },
      "execution_count": 280,
      "outputs": [
        {
          "output_type": "stream",
          "name": "stdout",
          "text": [
            "원-핫 인코딩 데이터\n",
            "[[1. 0. 0. 0. 0. 0.]\n",
            " [0. 1. 0. 0. 0. 0.]\n",
            " [0. 0. 0. 0. 1. 0.]\n",
            " [0. 0. 0. 0. 0. 1.]\n",
            " [0. 0. 0. 1. 0. 0.]\n",
            " [0. 0. 0. 1. 0. 0.]\n",
            " [0. 0. 1. 0. 0. 0.]\n",
            " [0. 0. 1. 0. 0. 0.]]\n",
            "원-핫 인코딩 데이터 차원\n",
            "(8, 6)\n"
          ]
        }
      ]
    },
    {
      "cell_type": "markdown",
      "source": [
        "판다스의 `get_dummies()` 메서드를 사용하여 원-핫 인코딩을 더 쉽게 수행할 수 있습니다."
      ],
      "metadata": {
        "id": "d9Dgg4DZB18R"
      }
    },
    {
      "cell_type": "code",
      "source": [
        "import pandas as pd\n",
        "\n",
        "df = pd.DataFrame({'item': ['TV', '냉장고', '전자레인지', '컴퓨터', '선풍기', '선풍기', '믹서', '믹서']})\n",
        "pd.get_dummies(df)"
      ],
      "metadata": {
        "colab": {
          "base_uri": "https://localhost:8080/",
          "height": 300
        },
        "id": "95J5o33bBhLh",
        "outputId": "2cdc39ec-22a1-4caa-d7e5-4b1f63ff6217"
      },
      "execution_count": 281,
      "outputs": [
        {
          "output_type": "execute_result",
          "data": {
            "text/html": [
              "\n",
              "  <div id=\"df-e7800f18-aeb4-4118-bff1-0513414e7251\">\n",
              "    <div class=\"colab-df-container\">\n",
              "      <div>\n",
              "<style scoped>\n",
              "    .dataframe tbody tr th:only-of-type {\n",
              "        vertical-align: middle;\n",
              "    }\n",
              "\n",
              "    .dataframe tbody tr th {\n",
              "        vertical-align: top;\n",
              "    }\n",
              "\n",
              "    .dataframe thead th {\n",
              "        text-align: right;\n",
              "    }\n",
              "</style>\n",
              "<table border=\"1\" class=\"dataframe\">\n",
              "  <thead>\n",
              "    <tr style=\"text-align: right;\">\n",
              "      <th></th>\n",
              "      <th>item_TV</th>\n",
              "      <th>item_냉장고</th>\n",
              "      <th>item_믹서</th>\n",
              "      <th>item_선풍기</th>\n",
              "      <th>item_전자레인지</th>\n",
              "      <th>item_컴퓨터</th>\n",
              "    </tr>\n",
              "  </thead>\n",
              "  <tbody>\n",
              "    <tr>\n",
              "      <th>0</th>\n",
              "      <td>1</td>\n",
              "      <td>0</td>\n",
              "      <td>0</td>\n",
              "      <td>0</td>\n",
              "      <td>0</td>\n",
              "      <td>0</td>\n",
              "    </tr>\n",
              "    <tr>\n",
              "      <th>1</th>\n",
              "      <td>0</td>\n",
              "      <td>1</td>\n",
              "      <td>0</td>\n",
              "      <td>0</td>\n",
              "      <td>0</td>\n",
              "      <td>0</td>\n",
              "    </tr>\n",
              "    <tr>\n",
              "      <th>2</th>\n",
              "      <td>0</td>\n",
              "      <td>0</td>\n",
              "      <td>0</td>\n",
              "      <td>0</td>\n",
              "      <td>1</td>\n",
              "      <td>0</td>\n",
              "    </tr>\n",
              "    <tr>\n",
              "      <th>3</th>\n",
              "      <td>0</td>\n",
              "      <td>0</td>\n",
              "      <td>0</td>\n",
              "      <td>0</td>\n",
              "      <td>0</td>\n",
              "      <td>1</td>\n",
              "    </tr>\n",
              "    <tr>\n",
              "      <th>4</th>\n",
              "      <td>0</td>\n",
              "      <td>0</td>\n",
              "      <td>0</td>\n",
              "      <td>1</td>\n",
              "      <td>0</td>\n",
              "      <td>0</td>\n",
              "    </tr>\n",
              "    <tr>\n",
              "      <th>5</th>\n",
              "      <td>0</td>\n",
              "      <td>0</td>\n",
              "      <td>0</td>\n",
              "      <td>1</td>\n",
              "      <td>0</td>\n",
              "      <td>0</td>\n",
              "    </tr>\n",
              "    <tr>\n",
              "      <th>6</th>\n",
              "      <td>0</td>\n",
              "      <td>0</td>\n",
              "      <td>1</td>\n",
              "      <td>0</td>\n",
              "      <td>0</td>\n",
              "      <td>0</td>\n",
              "    </tr>\n",
              "    <tr>\n",
              "      <th>7</th>\n",
              "      <td>0</td>\n",
              "      <td>0</td>\n",
              "      <td>1</td>\n",
              "      <td>0</td>\n",
              "      <td>0</td>\n",
              "      <td>0</td>\n",
              "    </tr>\n",
              "  </tbody>\n",
              "</table>\n",
              "</div>\n",
              "      <button class=\"colab-df-convert\" onclick=\"convertToInteractive('df-e7800f18-aeb4-4118-bff1-0513414e7251')\"\n",
              "              title=\"Convert this dataframe to an interactive table.\"\n",
              "              style=\"display:none;\">\n",
              "        \n",
              "  <svg xmlns=\"http://www.w3.org/2000/svg\" height=\"24px\"viewBox=\"0 0 24 24\"\n",
              "       width=\"24px\">\n",
              "    <path d=\"M0 0h24v24H0V0z\" fill=\"none\"/>\n",
              "    <path d=\"M18.56 5.44l.94 2.06.94-2.06 2.06-.94-2.06-.94-.94-2.06-.94 2.06-2.06.94zm-11 1L8.5 8.5l.94-2.06 2.06-.94-2.06-.94L8.5 2.5l-.94 2.06-2.06.94zm10 10l.94 2.06.94-2.06 2.06-.94-2.06-.94-.94-2.06-.94 2.06-2.06.94z\"/><path d=\"M17.41 7.96l-1.37-1.37c-.4-.4-.92-.59-1.43-.59-.52 0-1.04.2-1.43.59L10.3 9.45l-7.72 7.72c-.78.78-.78 2.05 0 2.83L4 21.41c.39.39.9.59 1.41.59.51 0 1.02-.2 1.41-.59l7.78-7.78 2.81-2.81c.8-.78.8-2.07 0-2.86zM5.41 20L4 18.59l7.72-7.72 1.47 1.35L5.41 20z\"/>\n",
              "  </svg>\n",
              "      </button>\n",
              "      \n",
              "  <style>\n",
              "    .colab-df-container {\n",
              "      display:flex;\n",
              "      flex-wrap:wrap;\n",
              "      gap: 12px;\n",
              "    }\n",
              "\n",
              "    .colab-df-convert {\n",
              "      background-color: #E8F0FE;\n",
              "      border: none;\n",
              "      border-radius: 50%;\n",
              "      cursor: pointer;\n",
              "      display: none;\n",
              "      fill: #1967D2;\n",
              "      height: 32px;\n",
              "      padding: 0 0 0 0;\n",
              "      width: 32px;\n",
              "    }\n",
              "\n",
              "    .colab-df-convert:hover {\n",
              "      background-color: #E2EBFA;\n",
              "      box-shadow: 0px 1px 2px rgba(60, 64, 67, 0.3), 0px 1px 3px 1px rgba(60, 64, 67, 0.15);\n",
              "      fill: #174EA6;\n",
              "    }\n",
              "\n",
              "    [theme=dark] .colab-df-convert {\n",
              "      background-color: #3B4455;\n",
              "      fill: #D2E3FC;\n",
              "    }\n",
              "\n",
              "    [theme=dark] .colab-df-convert:hover {\n",
              "      background-color: #434B5C;\n",
              "      box-shadow: 0px 1px 3px 1px rgba(0, 0, 0, 0.15);\n",
              "      filter: drop-shadow(0px 1px 2px rgba(0, 0, 0, 0.3));\n",
              "      fill: #FFFFFF;\n",
              "    }\n",
              "  </style>\n",
              "\n",
              "      <script>\n",
              "        const buttonEl =\n",
              "          document.querySelector('#df-e7800f18-aeb4-4118-bff1-0513414e7251 button.colab-df-convert');\n",
              "        buttonEl.style.display =\n",
              "          google.colab.kernel.accessAllowed ? 'block' : 'none';\n",
              "\n",
              "        async function convertToInteractive(key) {\n",
              "          const element = document.querySelector('#df-e7800f18-aeb4-4118-bff1-0513414e7251');\n",
              "          const dataTable =\n",
              "            await google.colab.kernel.invokeFunction('convertToInteractive',\n",
              "                                                     [key], {});\n",
              "          if (!dataTable) return;\n",
              "\n",
              "          const docLinkHtml = 'Like what you see? Visit the ' +\n",
              "            '<a target=\"_blank\" href=https://colab.research.google.com/notebooks/data_table.ipynb>data table notebook</a>'\n",
              "            + ' to learn more about interactive tables.';\n",
              "          element.innerHTML = '';\n",
              "          dataTable['output_type'] = 'display_data';\n",
              "          await google.colab.output.renderOutput(dataTable, element);\n",
              "          const docLink = document.createElement('div');\n",
              "          docLink.innerHTML = docLinkHtml;\n",
              "          element.appendChild(docLink);\n",
              "        }\n",
              "      </script>\n",
              "    </div>\n",
              "  </div>\n",
              "  "
            ],
            "text/plain": [
              "   item_TV  item_냉장고  item_믹서  item_선풍기  item_전자레인지  item_컴퓨터\n",
              "0        1         0        0         0           0         0\n",
              "1        0         1        0         0           0         0\n",
              "2        0         0        0         0           1         0\n",
              "3        0         0        0         0           0         1\n",
              "4        0         0        0         1           0         0\n",
              "5        0         0        0         1           0         0\n",
              "6        0         0        1         0           0         0\n",
              "7        0         0        1         0           0         0"
            ]
          },
          "metadata": {},
          "execution_count": 281
        }
      ]
    },
    {
      "cell_type": "markdown",
      "source": [
        "## **5.2. 피처 스케일링과 정규화**"
      ],
      "metadata": {
        "id": "1QO-kD9FCAnj"
      }
    },
    {
      "cell_type": "markdown",
      "source": [
        "피처 스케일링(feature scaling)은 서로 다른 변수의 값 범위를 일정 수준으로 맞추는 작업입니다. 피처 스케일링에는 표준화(standardization)와 정규화(normalization)가 있습니다.\n",
        "\n",
        "표준화는 데이터의 각 피처가 평균이 0이고 분산이 1인 가우시안 정규 분포를 가진 값으로 변환하는 것입니다. 공식은 아래와 같습니다.\n",
        "\n",
        "$$x_i\\_new = \\frac{x_i-mean(x)}{stdev(x)}$$\n",
        "\n",
        "표준화를 통해 변환될 피처 $x$의 새로운 $i$번째 데이터를 $x_i\\_new$라고 한다면 이 값은 원래 값에서 피처 $x$의 평균을 뺀 값을 피처 $x$의 표준편차로 나눈 값입니다.\n",
        "\n",
        "정규화는 서로 다른 피처의 크기를 통일하기 위해 크기를 변환하는 것입니다. 0 ~ 100인 피처 A와 0 ~ 100,000인 피처 B를 모두 동일한 크기인 0 ~ 1로 변환할 수 있습니다. 개별 데이터 크기를 같은 단위로 바꾸는 것입니다. 공식은 아래와 같습니다.\n",
        "\n",
        "$$x_i\\_new = \\frac{x_i-min(x)}{max(x)-min(x)}$$\n",
        "\n",
        "원래 값에서 피처 $x$의 최솟값을 뺀 값을 피처 $x$의 최댓값과 최솟값의 차이로 나눈 값입니다.\n",
        "\n",
        "다만 사이킷런의 전처리에서 제공하는 `Normalizer` 모듈과 일반적인 정규화는 차이가 있습니다. `Normalizer` 모듈은 선형대수에서의 정규화 개념이 적용되었으며, 개별 벡터의 크기를 맞추기 위해 변환하는 것을 의미합니다. 개별 벡터를 모든 피처 벡터의 크기로 나누는 것입니다. 피처 3개인 $x$, $y$, $z$가 있다면 새 데이터 $x_i\\_new$는 원래 값에서 피처 3개의 $i$번째 피처 값에 해당하는 크기를 합한 값으로 나눕니다. 공식은 아래와 같습니다.\n",
        "\n",
        "$$x_i\\_new = \\frac{x_i}{\\sqrt{x^2_i + y^2_i + z^2_i}}$$"
      ],
      "metadata": {
        "id": "uUiXmJESEgzX"
      }
    },
    {
      "cell_type": "markdown",
      "source": [
        "### **5.2.1. StandardScaler**\n"
      ],
      "metadata": {
        "id": "agNJvSqFCElm"
      }
    },
    {
      "cell_type": "markdown",
      "source": [
        "`StandardScaler` 클래스에는 표준화가 구현되어 있습니다. 개별 피처를 평균이 0이고 분산이 1인 값으로 변환시킵니다. 가우시안 정규 분포를 갖도록 하는 것입니다. `RBF` 커널을 이용하는 서포트 벡터 머신(support vector machine), 선형 회귀(linear regression), 로지스틱 회귀(logistic regression)는 데이터가 가우시안 분포를 가지고 있다고 가정하고 구현되어 있으므로 표준화 작업을 선행하면 예측 성능을 향상시키는 데 큰 도움이 됩니다.\n",
        "\n",
        "`StandardScaler` 클래스가 어떻게 데이터 값을 변환하는 것을 확인하겠습니다. 먼저 기존 데이터 값의 평균값과 분산값을 확인하겠습니다."
      ],
      "metadata": {
        "id": "9QqfBm--IkEH"
      }
    },
    {
      "cell_type": "code",
      "source": [
        "from sklearn.datasets import load_iris\n",
        "import pandas as pd\n",
        "\n",
        "iris = load_iris()\n",
        "iris_data = iris.data\n",
        "iris_df = pd.DataFrame(data=iris.data, columns=iris.feature_names)\n",
        "\n",
        "print('feature들의 평균값')\n",
        "print(iris_df.mean())\n",
        "print()\n",
        "print('feaure들의 분산값')\n",
        "print(iris_df.var())"
      ],
      "metadata": {
        "colab": {
          "base_uri": "https://localhost:8080/"
        },
        "id": "IuDOimUiJbOe",
        "outputId": "55f08a4e-8f51-469c-822c-f69c122531f5"
      },
      "execution_count": 282,
      "outputs": [
        {
          "output_type": "stream",
          "name": "stdout",
          "text": [
            "feature들의 평균값\n",
            "sepal length (cm)    5.843333\n",
            "sepal width (cm)     3.057333\n",
            "petal length (cm)    3.758000\n",
            "petal width (cm)     1.199333\n",
            "dtype: float64\n",
            "\n",
            "feaure들의 분산값\n",
            "sepal length (cm)    0.685694\n",
            "sepal width (cm)     0.189979\n",
            "petal length (cm)    3.116278\n",
            "petal width (cm)     0.581006\n",
            "dtype: float64\n"
          ]
        }
      ]
    },
    {
      "cell_type": "markdown",
      "source": [
        "이제 각 피처를 표준화하고 난 후의 평균값과 분산값을 확인하겠습니다. "
      ],
      "metadata": {
        "id": "sZ8HEMwjM-1m"
      }
    },
    {
      "cell_type": "code",
      "source": [
        "from sklearn.preprocessing import StandardScaler\n",
        "\n",
        "scaler = StandardScaler()\n",
        "scaler.fit(iris_df)\n",
        "iris_scaled = scaler.transform(iris_df)\n",
        "iris_df_scaled = pd.DataFrame(data=iris_scaled, columns=iris.feature_names)\n",
        "\n",
        "print('feature들의 평균값')\n",
        "print(iris_df_scaled.mean())\n",
        "print()\n",
        "print('feaure들의 분산값')\n",
        "print(iris_df_scaled.var())"
      ],
      "metadata": {
        "colab": {
          "base_uri": "https://localhost:8080/"
        },
        "id": "S7xAzw3gMHBY",
        "outputId": "cdf86313-52a4-44e6-e3dd-2bbefc322295"
      },
      "execution_count": 283,
      "outputs": [
        {
          "output_type": "stream",
          "name": "stdout",
          "text": [
            "feature들의 평균값\n",
            "sepal length (cm)   -1.690315e-15\n",
            "sepal width (cm)    -1.842970e-15\n",
            "petal length (cm)   -1.698641e-15\n",
            "petal width (cm)    -1.409243e-15\n",
            "dtype: float64\n",
            "\n",
            "feaure들의 분산값\n",
            "sepal length (cm)    1.006711\n",
            "sepal width (cm)     1.006711\n",
            "petal length (cm)    1.006711\n",
            "petal width (cm)     1.006711\n",
            "dtype: float64\n"
          ]
        }
      ]
    },
    {
      "cell_type": "markdown",
      "source": [
        "평균은 0에 가까운 값, 분산은 1에 가까운 값으로 변환되었습니다."
      ],
      "metadata": {
        "id": "7nqvJQNHNMEF"
      }
    },
    {
      "cell_type": "markdown",
      "source": [
        "### **5.2.2. MinMaxScaler**"
      ],
      "metadata": {
        "id": "KjjEAkgyC6Ld"
      }
    },
    {
      "cell_type": "markdown",
      "source": [
        "`MinMaxScaler` 클래스는 데이터값을 0 ~ 1 사이로 변환합니다. 만약 음수값이라면 -1 ~ 1로 변환합니다. 데이터 분포가 가우시안 분포가 아닐 때 시도해볼 만합니다.\n",
        "\n",
        "`MinMaxScaler` 클래스를 코드로 구현해보겠습니다."
      ],
      "metadata": {
        "id": "iXQTAGYKNTDT"
      }
    },
    {
      "cell_type": "code",
      "source": [
        "from sklearn.preprocessing import MinMaxScaler\n",
        "\n",
        "scaler = MinMaxScaler()\n",
        "scaler.fit(iris_df)\n",
        "iris_scaled = scaler.transform(iris_df)\n",
        "iris_df_scaled = pd.DataFrame(data=iris_scaled, columns=iris.feature_names)\n",
        "\n",
        "print('feature들의 최솟값')\n",
        "print(iris_df_scaled.min())\n",
        "print()\n",
        "print('feaure들의 최댓값')\n",
        "print(iris_df_scaled.max())"
      ],
      "metadata": {
        "colab": {
          "base_uri": "https://localhost:8080/"
        },
        "id": "nIGLb34DWtmp",
        "outputId": "8e4b7f3b-5bf6-4932-d50d-03b31f3809d7"
      },
      "execution_count": 284,
      "outputs": [
        {
          "output_type": "stream",
          "name": "stdout",
          "text": [
            "feature들의 최솟값\n",
            "sepal length (cm)    0.0\n",
            "sepal width (cm)     0.0\n",
            "petal length (cm)    0.0\n",
            "petal width (cm)     0.0\n",
            "dtype: float64\n",
            "\n",
            "feaure들의 최댓값\n",
            "sepal length (cm)    1.0\n",
            "sepal width (cm)     1.0\n",
            "petal length (cm)    1.0\n",
            "petal width (cm)     1.0\n",
            "dtype: float64\n"
          ]
        }
      ]
    },
    {
      "cell_type": "markdown",
      "source": [
        "### **5.2.3. 학습 데이터와 테스트 데이터의 스케일링 변환 시 유의점**"
      ],
      "metadata": {
        "id": "ytMEkQroC-mE"
      }
    },
    {
      "cell_type": "markdown",
      "source": [
        "데이터 스케일링 변환 시 `fit()` 메서드로는 데이터 변환을 위한 기준 정보를 설정하고, `transform()` 메서드로는 기준 정보를 토대로 데이터를 변환합니다. `fit_transform()` 메서드는 두 메서드를 하나로 통합한 것입니다.\n",
        "\n",
        "다만 주의해야 할 점이 있습니다. 학습 데이터로 `fit()` 메서드를 적용한 스케일링 기준 정보를 토대로 테스트 세트에 적용해야 한다는 것입니다. 코드로 구현하면서 설명을 이어가겠습니다. 먼저 임의의 학습 세트와 테스트 세트를 생성합니다."
      ],
      "metadata": {
        "id": "LnOryqj52pwZ"
      }
    },
    {
      "cell_type": "code",
      "source": [
        "from sklearn.preprocessing import MinMaxScaler\n",
        "import numpy as np\n",
        "\n",
        "train_array = np.arange(0, 11).reshape(-1, 1)\n",
        "test_array = np.arange(0, 6).reshape(-1, 1)"
      ],
      "metadata": {
        "id": "f4hT3sVI6Kjr"
      },
      "execution_count": 285,
      "outputs": []
    },
    {
      "cell_type": "markdown",
      "source": [
        "학습 세트인 `train_array` 객체를 변환하겠습니다. 0 ~ 10까지 값을 가지는데 `MinMaxScaler` 클래스의 `fit()` 메서드를 적용하면 최솟값은 0, 최댓값은 10이 되며 1/10 scale이 적용됩니다. 여기에 `transform()` 메서드를 적용하면 1/10 scale로 학습 데이터를 변환하게 되어 원본 데이터 1은 0.1, 2는 0.2, 10은 1이 됩니다."
      ],
      "metadata": {
        "id": "hUYvEs8i6u8-"
      }
    },
    {
      "cell_type": "code",
      "source": [
        "scaler = MinMaxScaler()\n",
        "scaler.fit(train_array)\n",
        "train_scaled = scaler.transform(train_array)\n",
        "\n",
        "print('원본 train_array 데이터:', np.round(train_array.reshape(-1), 2))\n",
        "print('Scale된 train_array 데이터:', np.round(train_scaled.reshape(-1), 2))"
      ],
      "metadata": {
        "colab": {
          "base_uri": "https://localhost:8080/"
        },
        "id": "cf1GNIhb7Zks",
        "outputId": "1287b194-941a-4602-8bfc-9f4d6fbefdd9"
      },
      "execution_count": 286,
      "outputs": [
        {
          "output_type": "stream",
          "name": "stdout",
          "text": [
            "원본 train_array 데이터: [ 0  1  2  3  4  5  6  7  8  9 10]\n",
            "Scale된 train_array 데이터: [0.  0.1 0.2 0.3 0.4 0.5 0.6 0.7 0.8 0.9 1. ]\n"
          ]
        }
      ]
    },
    {
      "cell_type": "markdown",
      "source": [
        "이제 테스트 세트인 `test_array`를 변환하겠습니다. 0 ~ 5까지 값을 가지는데 `MinMaxScaler` 클래스의 `fit()` 메서드를 적용하면 최솟값은 0, 최댓값은 5이 되며 1/5 scale이 적용됩니다. 여기에 `transform()` 메서드를 적용하면 1/5 scale로 학습 데이터를 변환하게 되어 원본 데이터 1은 0.2, 2는 0.4, 5는 1이 됩니다."
      ],
      "metadata": {
        "id": "LHCdyVwM74zW"
      }
    },
    {
      "cell_type": "code",
      "source": [
        "scaler.fit(test_array)\n",
        "test_scaled = scaler.transform(test_array)\n",
        "\n",
        "print('원본 test_array 데이터:', np.round(test_array.reshape(-1), 2))\n",
        "print('Scale된 test_array 데이터:', np.round(test_scaled.reshape(-1), 2))"
      ],
      "metadata": {
        "colab": {
          "base_uri": "https://localhost:8080/"
        },
        "id": "6qlj8pKp8Cv_",
        "outputId": "fe5ec58f-b9c4-4fdc-94ee-73e20cebcc24"
      },
      "execution_count": 287,
      "outputs": [
        {
          "output_type": "stream",
          "name": "stdout",
          "text": [
            "원본 test_array 데이터: [0 1 2 3 4 5]\n",
            "Scale된 test_array 데이터: [0.  0.2 0.4 0.6 0.8 1. ]\n"
          ]
        }
      ]
    },
    {
      "cell_type": "markdown",
      "source": [
        "학습 데이터와 테스트 데이터의 스케일링이 맞지 않습니다. 테스트 데이터에 다시 `fit()` 메서드를 적용해서 발생한 결과입니다. 따라서 학습 데이터로 `fit()` 메서드를 적용하여 생성된 `scaler` 객체만을 사용하여 `transform()` 메서드로 변환해야 합니다. 같은 논리로 `fit_transform()` 메서드는 학습 데이터에만 사용하고 테스트 데이터에는 사용하지 않아야 합니다. 이를 코드로 구현해보겠습니다."
      ],
      "metadata": {
        "id": "NNnN5pmWDH6J"
      }
    },
    {
      "cell_type": "code",
      "source": [
        "scaler = MinMaxScaler()\n",
        "scaler.fit(train_array)\n",
        "train_scaled = scaler.transform(train_array)\n",
        "print('원본 train_array 데이터:', np.round(train_array.reshape(-1), 2))\n",
        "print('Scale된 train_array 데이터:', np.round(train_scaled.reshape(-1), 2))\n",
        "print()\n",
        "\n",
        "test_scaled = scaler.transform(test_array)\n",
        "print('원본 test_array 데이터:', np.round(test_array.reshape(-1), 2))\n",
        "print('Scale된 test_array 데이터:', np.round(test_scaled.reshape(-1), 2))"
      ],
      "metadata": {
        "colab": {
          "base_uri": "https://localhost:8080/"
        },
        "id": "vJ3Z7jc7Htdh",
        "outputId": "870bf64b-178d-46b7-e7fc-7309dd355244"
      },
      "execution_count": 288,
      "outputs": [
        {
          "output_type": "stream",
          "name": "stdout",
          "text": [
            "원본 train_array 데이터: [ 0  1  2  3  4  5  6  7  8  9 10]\n",
            "Scale된 train_array 데이터: [0.  0.1 0.2 0.3 0.4 0.5 0.6 0.7 0.8 0.9 1. ]\n",
            "\n",
            "원본 test_array 데이터: [0 1 2 3 4 5]\n",
            "Scale된 test_array 데이터: [0.  0.1 0.2 0.3 0.4 0.5]\n"
          ]
        }
      ]
    },
    {
      "cell_type": "code",
      "source": [
        "scaler = MinMaxScaler()\n",
        "train_scaled = scaler.fit_transform(train_array)\n",
        "print('원본 train_array 데이터:', np.round(train_array.reshape(-1), 2))\n",
        "print('Scale된 train_array 데이터:', np.round(train_scaled.reshape(-1), 2))\n",
        "print()\n",
        "\n",
        "test_scaled = scaler.transform(test_array)\n",
        "print('원본 test_array 데이터:', np.round(test_array.reshape(-1), 2))\n",
        "print('Scale된 test_array 데이터:', np.round(test_scaled.reshape(-1), 2))"
      ],
      "metadata": {
        "colab": {
          "base_uri": "https://localhost:8080/"
        },
        "id": "7rSUoeuTMz0x",
        "outputId": "ae6fdea9-0f46-494b-a044-fbcbdd0e7ee7"
      },
      "execution_count": 289,
      "outputs": [
        {
          "output_type": "stream",
          "name": "stdout",
          "text": [
            "원본 train_array 데이터: [ 0  1  2  3  4  5  6  7  8  9 10]\n",
            "Scale된 train_array 데이터: [0.  0.1 0.2 0.3 0.4 0.5 0.6 0.7 0.8 0.9 1. ]\n",
            "\n",
            "원본 test_array 데이터: [0 1 2 3 4 5]\n",
            "Scale된 test_array 데이터: [0.  0.1 0.2 0.3 0.4 0.5]\n"
          ]
        }
      ]
    },
    {
      "cell_type": "markdown",
      "source": [
        "# **6. 타이타닉 생존자 예측**"
      ],
      "metadata": {
        "id": "dMCFReRjDMlx"
      }
    },
    {
      "cell_type": "markdown",
      "source": [
        "타이타닉 탑승자 데이터를 기반으로 생존자를 예측해보겠습니다."
      ],
      "metadata": {
        "id": "OtBKUABHNFQL"
      }
    },
    {
      "cell_type": "code",
      "source": [
        "import numpy as np\n",
        "import pandas as pd\n",
        "import matplotlib.pyplot as plt\n",
        "import seaborn as sns\n",
        "%matplotlib inline\n",
        "from google.colab import drive\n",
        "drive.mount('/content/gdrive/')"
      ],
      "metadata": {
        "colab": {
          "base_uri": "https://localhost:8080/"
        },
        "id": "V1sEoXx3NZEC",
        "outputId": "e4fe5177-7694-430e-f990-4f9c6a4e0958"
      },
      "execution_count": 290,
      "outputs": [
        {
          "output_type": "stream",
          "name": "stdout",
          "text": [
            "Drive already mounted at /content/gdrive/; to attempt to forcibly remount, call drive.mount(\"/content/gdrive/\", force_remount=True).\n"
          ]
        }
      ]
    },
    {
      "cell_type": "markdown",
      "source": [
        "데이터를 데이터프레임으로 가져오겠습니다."
      ],
      "metadata": {
        "id": "uu8Jg0Q3GI8x"
      }
    },
    {
      "cell_type": "code",
      "source": [
        "titanic_df = pd.read_csv('/content/gdrive/MyDrive/titanic/titanic_train.csv')\n",
        "titanic_df.head()"
      ],
      "metadata": {
        "colab": {
          "base_uri": "https://localhost:8080/",
          "height": 206
        },
        "id": "CkHYzp8dOrzV",
        "outputId": "f0a60b36-c868-45a3-e7c9-9372369dba3d"
      },
      "execution_count": 291,
      "outputs": [
        {
          "output_type": "execute_result",
          "data": {
            "text/html": [
              "\n",
              "  <div id=\"df-cb197b0d-6fa3-4fa2-9b35-f514fdff5f05\">\n",
              "    <div class=\"colab-df-container\">\n",
              "      <div>\n",
              "<style scoped>\n",
              "    .dataframe tbody tr th:only-of-type {\n",
              "        vertical-align: middle;\n",
              "    }\n",
              "\n",
              "    .dataframe tbody tr th {\n",
              "        vertical-align: top;\n",
              "    }\n",
              "\n",
              "    .dataframe thead th {\n",
              "        text-align: right;\n",
              "    }\n",
              "</style>\n",
              "<table border=\"1\" class=\"dataframe\">\n",
              "  <thead>\n",
              "    <tr style=\"text-align: right;\">\n",
              "      <th></th>\n",
              "      <th>PassengerId</th>\n",
              "      <th>Survived</th>\n",
              "      <th>Pclass</th>\n",
              "      <th>Name</th>\n",
              "      <th>Sex</th>\n",
              "      <th>Age</th>\n",
              "      <th>SibSp</th>\n",
              "      <th>Parch</th>\n",
              "      <th>Ticket</th>\n",
              "      <th>Fare</th>\n",
              "      <th>Cabin</th>\n",
              "      <th>Embarked</th>\n",
              "    </tr>\n",
              "  </thead>\n",
              "  <tbody>\n",
              "    <tr>\n",
              "      <th>0</th>\n",
              "      <td>1</td>\n",
              "      <td>0</td>\n",
              "      <td>3</td>\n",
              "      <td>Braund, Mr. Owen Harris</td>\n",
              "      <td>male</td>\n",
              "      <td>22.0</td>\n",
              "      <td>1</td>\n",
              "      <td>0</td>\n",
              "      <td>A/5 21171</td>\n",
              "      <td>7.2500</td>\n",
              "      <td>NaN</td>\n",
              "      <td>S</td>\n",
              "    </tr>\n",
              "    <tr>\n",
              "      <th>1</th>\n",
              "      <td>2</td>\n",
              "      <td>1</td>\n",
              "      <td>1</td>\n",
              "      <td>Cumings, Mrs. John Bradley (Florence Briggs Th...</td>\n",
              "      <td>female</td>\n",
              "      <td>38.0</td>\n",
              "      <td>1</td>\n",
              "      <td>0</td>\n",
              "      <td>PC 17599</td>\n",
              "      <td>71.2833</td>\n",
              "      <td>C85</td>\n",
              "      <td>C</td>\n",
              "    </tr>\n",
              "    <tr>\n",
              "      <th>2</th>\n",
              "      <td>3</td>\n",
              "      <td>1</td>\n",
              "      <td>3</td>\n",
              "      <td>Heikkinen, Miss. Laina</td>\n",
              "      <td>female</td>\n",
              "      <td>26.0</td>\n",
              "      <td>0</td>\n",
              "      <td>0</td>\n",
              "      <td>STON/O2. 3101282</td>\n",
              "      <td>7.9250</td>\n",
              "      <td>NaN</td>\n",
              "      <td>S</td>\n",
              "    </tr>\n",
              "    <tr>\n",
              "      <th>3</th>\n",
              "      <td>4</td>\n",
              "      <td>1</td>\n",
              "      <td>1</td>\n",
              "      <td>Futrelle, Mrs. Jacques Heath (Lily May Peel)</td>\n",
              "      <td>female</td>\n",
              "      <td>35.0</td>\n",
              "      <td>1</td>\n",
              "      <td>0</td>\n",
              "      <td>113803</td>\n",
              "      <td>53.1000</td>\n",
              "      <td>C123</td>\n",
              "      <td>S</td>\n",
              "    </tr>\n",
              "    <tr>\n",
              "      <th>4</th>\n",
              "      <td>5</td>\n",
              "      <td>0</td>\n",
              "      <td>3</td>\n",
              "      <td>Allen, Mr. William Henry</td>\n",
              "      <td>male</td>\n",
              "      <td>35.0</td>\n",
              "      <td>0</td>\n",
              "      <td>0</td>\n",
              "      <td>373450</td>\n",
              "      <td>8.0500</td>\n",
              "      <td>NaN</td>\n",
              "      <td>S</td>\n",
              "    </tr>\n",
              "  </tbody>\n",
              "</table>\n",
              "</div>\n",
              "      <button class=\"colab-df-convert\" onclick=\"convertToInteractive('df-cb197b0d-6fa3-4fa2-9b35-f514fdff5f05')\"\n",
              "              title=\"Convert this dataframe to an interactive table.\"\n",
              "              style=\"display:none;\">\n",
              "        \n",
              "  <svg xmlns=\"http://www.w3.org/2000/svg\" height=\"24px\"viewBox=\"0 0 24 24\"\n",
              "       width=\"24px\">\n",
              "    <path d=\"M0 0h24v24H0V0z\" fill=\"none\"/>\n",
              "    <path d=\"M18.56 5.44l.94 2.06.94-2.06 2.06-.94-2.06-.94-.94-2.06-.94 2.06-2.06.94zm-11 1L8.5 8.5l.94-2.06 2.06-.94-2.06-.94L8.5 2.5l-.94 2.06-2.06.94zm10 10l.94 2.06.94-2.06 2.06-.94-2.06-.94-.94-2.06-.94 2.06-2.06.94z\"/><path d=\"M17.41 7.96l-1.37-1.37c-.4-.4-.92-.59-1.43-.59-.52 0-1.04.2-1.43.59L10.3 9.45l-7.72 7.72c-.78.78-.78 2.05 0 2.83L4 21.41c.39.39.9.59 1.41.59.51 0 1.02-.2 1.41-.59l7.78-7.78 2.81-2.81c.8-.78.8-2.07 0-2.86zM5.41 20L4 18.59l7.72-7.72 1.47 1.35L5.41 20z\"/>\n",
              "  </svg>\n",
              "      </button>\n",
              "      \n",
              "  <style>\n",
              "    .colab-df-container {\n",
              "      display:flex;\n",
              "      flex-wrap:wrap;\n",
              "      gap: 12px;\n",
              "    }\n",
              "\n",
              "    .colab-df-convert {\n",
              "      background-color: #E8F0FE;\n",
              "      border: none;\n",
              "      border-radius: 50%;\n",
              "      cursor: pointer;\n",
              "      display: none;\n",
              "      fill: #1967D2;\n",
              "      height: 32px;\n",
              "      padding: 0 0 0 0;\n",
              "      width: 32px;\n",
              "    }\n",
              "\n",
              "    .colab-df-convert:hover {\n",
              "      background-color: #E2EBFA;\n",
              "      box-shadow: 0px 1px 2px rgba(60, 64, 67, 0.3), 0px 1px 3px 1px rgba(60, 64, 67, 0.15);\n",
              "      fill: #174EA6;\n",
              "    }\n",
              "\n",
              "    [theme=dark] .colab-df-convert {\n",
              "      background-color: #3B4455;\n",
              "      fill: #D2E3FC;\n",
              "    }\n",
              "\n",
              "    [theme=dark] .colab-df-convert:hover {\n",
              "      background-color: #434B5C;\n",
              "      box-shadow: 0px 1px 3px 1px rgba(0, 0, 0, 0.15);\n",
              "      filter: drop-shadow(0px 1px 2px rgba(0, 0, 0, 0.3));\n",
              "      fill: #FFFFFF;\n",
              "    }\n",
              "  </style>\n",
              "\n",
              "      <script>\n",
              "        const buttonEl =\n",
              "          document.querySelector('#df-cb197b0d-6fa3-4fa2-9b35-f514fdff5f05 button.colab-df-convert');\n",
              "        buttonEl.style.display =\n",
              "          google.colab.kernel.accessAllowed ? 'block' : 'none';\n",
              "\n",
              "        async function convertToInteractive(key) {\n",
              "          const element = document.querySelector('#df-cb197b0d-6fa3-4fa2-9b35-f514fdff5f05');\n",
              "          const dataTable =\n",
              "            await google.colab.kernel.invokeFunction('convertToInteractive',\n",
              "                                                     [key], {});\n",
              "          if (!dataTable) return;\n",
              "\n",
              "          const docLinkHtml = 'Like what you see? Visit the ' +\n",
              "            '<a target=\"_blank\" href=https://colab.research.google.com/notebooks/data_table.ipynb>data table notebook</a>'\n",
              "            + ' to learn more about interactive tables.';\n",
              "          element.innerHTML = '';\n",
              "          dataTable['output_type'] = 'display_data';\n",
              "          await google.colab.output.renderOutput(dataTable, element);\n",
              "          const docLink = document.createElement('div');\n",
              "          docLink.innerHTML = docLinkHtml;\n",
              "          element.appendChild(docLink);\n",
              "        }\n",
              "      </script>\n",
              "    </div>\n",
              "  </div>\n",
              "  "
            ],
            "text/plain": [
              "   PassengerId  Survived  Pclass  ...     Fare Cabin  Embarked\n",
              "0            1         0       3  ...   7.2500   NaN         S\n",
              "1            2         1       1  ...  71.2833   C85         C\n",
              "2            3         1       3  ...   7.9250   NaN         S\n",
              "3            4         1       1  ...  53.1000  C123         S\n",
              "4            5         0       3  ...   8.0500   NaN         S\n",
              "\n",
              "[5 rows x 12 columns]"
            ]
          },
          "metadata": {},
          "execution_count": 291
        }
      ]
    },
    {
      "cell_type": "markdown",
      "source": [
        "데이터 정보를 확인하겠습니다."
      ],
      "metadata": {
        "id": "fE8kDdTpGOPF"
      }
    },
    {
      "cell_type": "code",
      "source": [
        "titanic_df.info()"
      ],
      "metadata": {
        "colab": {
          "base_uri": "https://localhost:8080/"
        },
        "id": "OCPIWZYdfv6d",
        "outputId": "9f692217-6fdf-43fb-871b-7db3c5514110"
      },
      "execution_count": 292,
      "outputs": [
        {
          "output_type": "stream",
          "name": "stdout",
          "text": [
            "<class 'pandas.core.frame.DataFrame'>\n",
            "RangeIndex: 891 entries, 0 to 890\n",
            "Data columns (total 12 columns):\n",
            " #   Column       Non-Null Count  Dtype  \n",
            "---  ------       --------------  -----  \n",
            " 0   PassengerId  891 non-null    int64  \n",
            " 1   Survived     891 non-null    int64  \n",
            " 2   Pclass       891 non-null    int64  \n",
            " 3   Name         891 non-null    object \n",
            " 4   Sex          891 non-null    object \n",
            " 5   Age          714 non-null    float64\n",
            " 6   SibSp        891 non-null    int64  \n",
            " 7   Parch        891 non-null    int64  \n",
            " 8   Ticket       891 non-null    object \n",
            " 9   Fare         891 non-null    float64\n",
            " 10  Cabin        204 non-null    object \n",
            " 11  Embarked     889 non-null    object \n",
            "dtypes: float64(2), int64(5), object(5)\n",
            "memory usage: 83.7+ KB\n"
          ]
        }
      ]
    },
    {
      "cell_type": "markdown",
      "source": [
        "결측치를 채우겠습니다."
      ],
      "metadata": {
        "id": "NpU-vAHZGQSB"
      }
    },
    {
      "cell_type": "code",
      "source": [
        "titanic_df['Age'].fillna(titanic_df['Age'].mean(), inplace=True)\n",
        "titanic_df['Cabin'].fillna('N', inplace=True)\n",
        "titanic_df['Embarked'].fillna('N', inplace=True)"
      ],
      "metadata": {
        "id": "Uvv5kvKsf3zC"
      },
      "execution_count": 293,
      "outputs": []
    },
    {
      "cell_type": "markdown",
      "source": [
        "결측치 개수를 확인해보겠습니다."
      ],
      "metadata": {
        "id": "Y436roiII6xn"
      }
    },
    {
      "cell_type": "code",
      "source": [
        "print('데이터 세트 Null 값 여부:\\n', titanic_df.isnull())\n",
        "print()\n",
        "print('데이터 세트 열별 Null 값 개수:')\n",
        "print(titanic_df.isnull().sum())\n",
        "print()\n",
        "print('데이터 세트 Null 값 총 개수:', titanic_df.isnull().sum().sum())"
      ],
      "metadata": {
        "colab": {
          "base_uri": "https://localhost:8080/"
        },
        "id": "9dFTOaZfFgA4",
        "outputId": "f749b610-79fc-4504-86cc-694059ea3495"
      },
      "execution_count": 294,
      "outputs": [
        {
          "output_type": "stream",
          "name": "stdout",
          "text": [
            "데이터 세트 Null 값 여부:\n",
            "      PassengerId  Survived  Pclass   Name  ...  Ticket   Fare  Cabin  Embarked\n",
            "0          False     False   False  False  ...   False  False  False     False\n",
            "1          False     False   False  False  ...   False  False  False     False\n",
            "2          False     False   False  False  ...   False  False  False     False\n",
            "3          False     False   False  False  ...   False  False  False     False\n",
            "4          False     False   False  False  ...   False  False  False     False\n",
            "..           ...       ...     ...    ...  ...     ...    ...    ...       ...\n",
            "886        False     False   False  False  ...   False  False  False     False\n",
            "887        False     False   False  False  ...   False  False  False     False\n",
            "888        False     False   False  False  ...   False  False  False     False\n",
            "889        False     False   False  False  ...   False  False  False     False\n",
            "890        False     False   False  False  ...   False  False  False     False\n",
            "\n",
            "[891 rows x 12 columns]\n",
            "\n",
            "데이터 세트 열별 Null 값 개수:\n",
            "PassengerId    0\n",
            "Survived       0\n",
            "Pclass         0\n",
            "Name           0\n",
            "Sex            0\n",
            "Age            0\n",
            "SibSp          0\n",
            "Parch          0\n",
            "Ticket         0\n",
            "Fare           0\n",
            "Cabin          0\n",
            "Embarked       0\n",
            "dtype: int64\n",
            "\n",
            "데이터 세트 Null 값 총 개수: 0\n"
          ]
        }
      ]
    },
    {
      "cell_type": "markdown",
      "source": [
        "문자열 피처 3개가 가진 값 분류를 확인해보겠습니다."
      ],
      "metadata": {
        "id": "zC8tse5DJ_DH"
      }
    },
    {
      "cell_type": "code",
      "source": [
        "print('Sex 값 분포:\\n', titanic_df['Sex'].value_counts())\n",
        "print()\n",
        "print('Cabin 값 분포:\\n', titanic_df['Cabin'].value_counts())\n",
        "print()\n",
        "print('Embarked 값 분포:\\n', titanic_df['Embarked'].value_counts())"
      ],
      "metadata": {
        "colab": {
          "base_uri": "https://localhost:8080/"
        },
        "id": "QxUhkpJjJOHl",
        "outputId": "577467a2-f603-43b9-a1f0-59874810c236"
      },
      "execution_count": 295,
      "outputs": [
        {
          "output_type": "stream",
          "name": "stdout",
          "text": [
            "Sex 값 분포:\n",
            " male      577\n",
            "female    314\n",
            "Name: Sex, dtype: int64\n",
            "\n",
            "Cabin 값 분포:\n",
            " N              687\n",
            "C23 C25 C27      4\n",
            "G6               4\n",
            "B96 B98          4\n",
            "C22 C26          3\n",
            "              ... \n",
            "E34              1\n",
            "C7               1\n",
            "C54              1\n",
            "E36              1\n",
            "C148             1\n",
            "Name: Cabin, Length: 148, dtype: int64\n",
            "\n",
            "Embarked 값 분포:\n",
            " S    644\n",
            "C    168\n",
            "Q     77\n",
            "N      2\n",
            "Name: Embarked, dtype: int64\n"
          ]
        }
      ]
    },
    {
      "cell_type": "markdown",
      "source": [
        "다른 피처들은 문제가 없으나 'Cabin' 피처는 'N'만 687개이고 나머지도 숫자가 붙어서 종류가 많습니다. 선실 번호의 첫 글자 알파벳이 선실 등급을 나타내므로 앞에 붙은 숫자는 큰 의미가 없습니다. 숫자를 지우고 첫 글자 알파벳만 남기겠습니다."
      ],
      "metadata": {
        "id": "MuvN72m2KHux"
      }
    },
    {
      "cell_type": "code",
      "source": [
        "titanic_df['Cabin'] = titanic_df['Cabin'].str[:1]\n",
        "print(titanic_df['Cabin'].head())\n",
        "print()\n",
        "print(titanic_df['Cabin'].value_counts())"
      ],
      "metadata": {
        "colab": {
          "base_uri": "https://localhost:8080/"
        },
        "id": "XmswetR9LwnP",
        "outputId": "47e5e52b-f5da-45c3-db0b-cff9f987ff20"
      },
      "execution_count": 296,
      "outputs": [
        {
          "output_type": "stream",
          "name": "stdout",
          "text": [
            "0    N\n",
            "1    C\n",
            "2    N\n",
            "3    C\n",
            "4    N\n",
            "Name: Cabin, dtype: object\n",
            "\n",
            "N    687\n",
            "C     59\n",
            "B     47\n",
            "D     33\n",
            "E     32\n",
            "A     15\n",
            "F     13\n",
            "G      4\n",
            "T      1\n",
            "Name: Cabin, dtype: int64\n"
          ]
        }
      ]
    },
    {
      "cell_type": "markdown",
      "source": [
        "성별과 생존의 연관성을 확인해보겠습니다. 'Sex' 열과 'Survived' 열을 그룹화하고, 'Survived' 열의 값 개수를 출력하겠습니다."
      ],
      "metadata": {
        "id": "3ShaWxZtGbd3"
      }
    },
    {
      "cell_type": "code",
      "source": [
        "titanic_df.groupby(['Sex', 'Survived'])['Survived'].count()"
      ],
      "metadata": {
        "colab": {
          "base_uri": "https://localhost:8080/"
        },
        "id": "APKZrWqnMKyV",
        "outputId": "8b7c9d72-9a39-4223-89c5-6fa4bd9bf949"
      },
      "execution_count": 297,
      "outputs": [
        {
          "output_type": "execute_result",
          "data": {
            "text/plain": [
              "Sex     Survived\n",
              "female  0            81\n",
              "        1           233\n",
              "male    0           468\n",
              "        1           109\n",
              "Name: Survived, dtype: int64"
            ]
          },
          "metadata": {},
          "execution_count": 297
        }
      ]
    },
    {
      "cell_type": "markdown",
      "source": [
        "가로 막대 차트로 시각화해보겠습니다."
      ],
      "metadata": {
        "id": "ulVoHSLpGtgp"
      }
    },
    {
      "cell_type": "code",
      "source": [
        "sns.barplot(x='Sex', y='Survived', data=titanic_df)\n",
        "plt.show()"
      ],
      "metadata": {
        "colab": {
          "base_uri": "https://localhost:8080/",
          "height": 279
        },
        "id": "J43NY6kxHQsb",
        "outputId": "07f69c05-82b4-48ab-dce7-2e145e34b2a8"
      },
      "execution_count": 298,
      "outputs": [
        {
          "output_type": "display_data",
          "data": {
            "image/png": "[encoded data removed]",
            "text/plain": [
              "<Figure size 432x288 with 1 Axes>"
            ]
          },
          "metadata": {
            "needs_background": "light"
          }
        }
      ]
    },
    {
      "cell_type": "markdown",
      "source": [
        "여성의 생존 비율(확률)이 더 높습니다. \n",
        "\n",
        "객실 등급과 성별을 함께 가로 막대 차트로 시각화해보겠습니다."
      ],
      "metadata": {
        "id": "bJDiUWDIH1g8"
      }
    },
    {
      "cell_type": "code",
      "source": [
        "sns.barplot(x='Pclass', y='Survived', hue='Sex', data=titanic_df)\n",
        "plt.show()"
      ],
      "metadata": {
        "colab": {
          "base_uri": "https://localhost:8080/",
          "height": 279
        },
        "id": "6ThDA5QjAsFP",
        "outputId": "ccdc8aa7-9536-43dd-c3b5-8243b01549e2"
      },
      "execution_count": 299,
      "outputs": [
        {
          "output_type": "display_data",
          "data": {
            "image/png": "[encoded data removed]",
            "text/plain": [
              "<Figure size 432x288 with 1 Axes>"
            ]
          },
          "metadata": {
            "needs_background": "light"
          }
        }
      ]
    },
    {
      "cell_type": "markdown",
      "source": [
        "객실 등급이 높을수록 생존 비율이 더 높습니다.\n",
        "\n",
        "이번에는 나이에 따른 생존 비율을 확인하겠습니다. 'Age' 열의 값 종류가 많으므로 범위에 따라 분류하는 함수를 선언하겠습니다."
      ],
      "metadata": {
        "id": "O34Wuy1PIJG4"
      }
    },
    {
      "cell_type": "code",
      "source": [
        "def get_category(age):\n",
        "    cat = ''\n",
        "    if age <= -1: cat = 'Unknown'\n",
        "    elif age <= 5: cat = 'Baby'\n",
        "    elif age <= 12: cat = 'Child'\n",
        "    elif age <= 18: cat = 'Teenager'\n",
        "    elif age <= 25: cat = 'Student'\n",
        "    elif age <= 35: cat = 'Young Adult'\n",
        "    elif age <= 60: cat = 'Adult'\n",
        "    else: cat = 'Elderly'\n",
        "    return cat"
      ],
      "metadata": {
        "id": "xCV2rIX_BAOL"
      },
      "execution_count": 300,
      "outputs": []
    },
    {
      "cell_type": "markdown",
      "source": [
        "나이에 따른 생존 비율을 가로 막대 차트로 시각화하겠습니다. "
      ],
      "metadata": {
        "id": "dcyrdCLCK7qa"
      }
    },
    {
      "cell_type": "code",
      "source": [
        "plt.figure(figsize=(10, 6))\n",
        "# 위에서 생성한 `get_category()` 함수를 'Age' 열에 적용하여 새로운 열을 만듭니다.\n",
        "titanic_df['Age_cat'] = titanic_df['Age'].apply(lambda x: get_category(x))\n",
        "\n",
        "# 시각화할 순서를 지정하기 위한 객체를 생성합니다.\n",
        "group_names = ['Unknown', 'Baby', 'Child', 'Teenager', 'Student', 'Young Adult',\n",
        "               'Adult', 'Elderly']\n",
        "sns.barplot(x='Age_cat', y='Survived', hue='Sex', data=titanic_df, order=group_names)\n",
        "\n",
        "titanic_df.drop('Age_cat', axis=1, inplace=True)"
      ],
      "metadata": {
        "colab": {
          "base_uri": "https://localhost:8080/",
          "height": 389
        },
        "id": "N8ffP8uGBmV9",
        "outputId": "cd239bce-cfcc-48fa-e82b-4cf06a9ac20c"
      },
      "execution_count": 301,
      "outputs": [
        {
          "output_type": "display_data",
          "data": {
            "image/png": "[encoded data removed]",
            "text/plain": [
              "<Figure size 720x432 with 1 Axes>"
            ]
          },
          "metadata": {
            "needs_background": "light"
          }
        }
      ]
    },
    {
      "cell_type": "markdown",
      "source": [
        "여자 Baby와 여자 Elderly의 생존 비율은 높고, 여자 Child의 오히려 남자 Child의 생존 비율보다 낮습니다. 남자의 경우 전반적으로 여자보다 생존 비율이 낮습니다. 결론적으로 이 세 열('Sex', 'Age', 'PClass')은 생존을 좌우하는 피처라고 볼 수 있습니다.\n",
        "\n",
        "이제 남아있는 문자열 카테고리 피처를 숫자형 카테고리 피처로 변환하겠습니다. 레이블 인코딩은 `LabelEncoder` 클래스로 수행하고, `LabelEncoder` 클래스의 인스턴스는 카테고리 값의 유형 수에 따라 0 ~ (카테고리 유형 수-1)까지의 숫자 값으로 변환합니다. 함수를 새롭게 선언하여 모든 열이 한 번에 변환되도록 하겠습니다."
      ],
      "metadata": {
        "id": "NYZhMpxKMdhl"
      }
    },
    {
      "cell_type": "code",
      "source": [
        "from sklearn import preprocessing\n",
        "\n",
        "def encode_features(dataDF):\n",
        "    features = ['Sex', 'Cabin', 'Embarked']\n",
        "    for feature in features:\n",
        "        le = preprocessing.LabelEncoder()\n",
        "        le = le.fit(dataDF[feature])\n",
        "        dataDF[feature] = le.transform(dataDF[feature])\n",
        "    return dataDF"
      ],
      "metadata": {
        "id": "Nr31A3yREXdJ"
      },
      "execution_count": 302,
      "outputs": []
    },
    {
      "cell_type": "code",
      "source": [
        "titanic_df = encode_features(titanic_df)\n",
        "titanic_df.head()"
      ],
      "metadata": {
        "colab": {
          "base_uri": "https://localhost:8080/",
          "height": 206
        },
        "id": "s6xPix6bE_6r",
        "outputId": "5bb1ba62-e82e-43b3-a018-a2b5021d2e53"
      },
      "execution_count": 303,
      "outputs": [
        {
          "output_type": "execute_result",
          "data": {
            "text/html": [
              "\n",
              "  <div id=\"df-a8a2a01e-2e9e-433a-bdce-5f52c419c3df\">\n",
              "    <div class=\"colab-df-container\">\n",
              "      <div>\n",
              "<style scoped>\n",
              "    .dataframe tbody tr th:only-of-type {\n",
              "        vertical-align: middle;\n",
              "    }\n",
              "\n",
              "    .dataframe tbody tr th {\n",
              "        vertical-align: top;\n",
              "    }\n",
              "\n",
              "    .dataframe thead th {\n",
              "        text-align: right;\n",
              "    }\n",
              "</style>\n",
              "<table border=\"1\" class=\"dataframe\">\n",
              "  <thead>\n",
              "    <tr style=\"text-align: right;\">\n",
              "      <th></th>\n",
              "      <th>PassengerId</th>\n",
              "      <th>Survived</th>\n",
              "      <th>Pclass</th>\n",
              "      <th>Name</th>\n",
              "      <th>Sex</th>\n",
              "      <th>Age</th>\n",
              "      <th>SibSp</th>\n",
              "      <th>Parch</th>\n",
              "      <th>Ticket</th>\n",
              "      <th>Fare</th>\n",
              "      <th>Cabin</th>\n",
              "      <th>Embarked</th>\n",
              "    </tr>\n",
              "  </thead>\n",
              "  <tbody>\n",
              "    <tr>\n",
              "      <th>0</th>\n",
              "      <td>1</td>\n",
              "      <td>0</td>\n",
              "      <td>3</td>\n",
              "      <td>Braund, Mr. Owen Harris</td>\n",
              "      <td>1</td>\n",
              "      <td>22.0</td>\n",
              "      <td>1</td>\n",
              "      <td>0</td>\n",
              "      <td>A/5 21171</td>\n",
              "      <td>7.2500</td>\n",
              "      <td>7</td>\n",
              "      <td>3</td>\n",
              "    </tr>\n",
              "    <tr>\n",
              "      <th>1</th>\n",
              "      <td>2</td>\n",
              "      <td>1</td>\n",
              "      <td>1</td>\n",
              "      <td>Cumings, Mrs. John Bradley (Florence Briggs Th...</td>\n",
              "      <td>0</td>\n",
              "      <td>38.0</td>\n",
              "      <td>1</td>\n",
              "      <td>0</td>\n",
              "      <td>PC 17599</td>\n",
              "      <td>71.2833</td>\n",
              "      <td>2</td>\n",
              "      <td>0</td>\n",
              "    </tr>\n",
              "    <tr>\n",
              "      <th>2</th>\n",
              "      <td>3</td>\n",
              "      <td>1</td>\n",
              "      <td>3</td>\n",
              "      <td>Heikkinen, Miss. Laina</td>\n",
              "      <td>0</td>\n",
              "      <td>26.0</td>\n",
              "      <td>0</td>\n",
              "      <td>0</td>\n",
              "      <td>STON/O2. 3101282</td>\n",
              "      <td>7.9250</td>\n",
              "      <td>7</td>\n",
              "      <td>3</td>\n",
              "    </tr>\n",
              "    <tr>\n",
              "      <th>3</th>\n",
              "      <td>4</td>\n",
              "      <td>1</td>\n",
              "      <td>1</td>\n",
              "      <td>Futrelle, Mrs. Jacques Heath (Lily May Peel)</td>\n",
              "      <td>0</td>\n",
              "      <td>35.0</td>\n",
              "      <td>1</td>\n",
              "      <td>0</td>\n",
              "      <td>113803</td>\n",
              "      <td>53.1000</td>\n",
              "      <td>2</td>\n",
              "      <td>3</td>\n",
              "    </tr>\n",
              "    <tr>\n",
              "      <th>4</th>\n",
              "      <td>5</td>\n",
              "      <td>0</td>\n",
              "      <td>3</td>\n",
              "      <td>Allen, Mr. William Henry</td>\n",
              "      <td>1</td>\n",
              "      <td>35.0</td>\n",
              "      <td>0</td>\n",
              "      <td>0</td>\n",
              "      <td>373450</td>\n",
              "      <td>8.0500</td>\n",
              "      <td>7</td>\n",
              "      <td>3</td>\n",
              "    </tr>\n",
              "  </tbody>\n",
              "</table>\n",
              "</div>\n",
              "      <button class=\"colab-df-convert\" onclick=\"convertToInteractive('df-a8a2a01e-2e9e-433a-bdce-5f52c419c3df')\"\n",
              "              title=\"Convert this dataframe to an interactive table.\"\n",
              "              style=\"display:none;\">\n",
              "        \n",
              "  <svg xmlns=\"http://www.w3.org/2000/svg\" height=\"24px\"viewBox=\"0 0 24 24\"\n",
              "       width=\"24px\">\n",
              "    <path d=\"M0 0h24v24H0V0z\" fill=\"none\"/>\n",
              "    <path d=\"M18.56 5.44l.94 2.06.94-2.06 2.06-.94-2.06-.94-.94-2.06-.94 2.06-2.06.94zm-11 1L8.5 8.5l.94-2.06 2.06-.94-2.06-.94L8.5 2.5l-.94 2.06-2.06.94zm10 10l.94 2.06.94-2.06 2.06-.94-2.06-.94-.94-2.06-.94 2.06-2.06.94z\"/><path d=\"M17.41 7.96l-1.37-1.37c-.4-.4-.92-.59-1.43-.59-.52 0-1.04.2-1.43.59L10.3 9.45l-7.72 7.72c-.78.78-.78 2.05 0 2.83L4 21.41c.39.39.9.59 1.41.59.51 0 1.02-.2 1.41-.59l7.78-7.78 2.81-2.81c.8-.78.8-2.07 0-2.86zM5.41 20L4 18.59l7.72-7.72 1.47 1.35L5.41 20z\"/>\n",
              "  </svg>\n",
              "      </button>\n",
              "      \n",
              "  <style>\n",
              "    .colab-df-container {\n",
              "      display:flex;\n",
              "      flex-wrap:wrap;\n",
              "      gap: 12px;\n",
              "    }\n",
              "\n",
              "    .colab-df-convert {\n",
              "      background-color: #E8F0FE;\n",
              "      border: none;\n",
              "      border-radius: 50%;\n",
              "      cursor: pointer;\n",
              "      display: none;\n",
              "      fill: #1967D2;\n",
              "      height: 32px;\n",
              "      padding: 0 0 0 0;\n",
              "      width: 32px;\n",
              "    }\n",
              "\n",
              "    .colab-df-convert:hover {\n",
              "      background-color: #E2EBFA;\n",
              "      box-shadow: 0px 1px 2px rgba(60, 64, 67, 0.3), 0px 1px 3px 1px rgba(60, 64, 67, 0.15);\n",
              "      fill: #174EA6;\n",
              "    }\n",
              "\n",
              "    [theme=dark] .colab-df-convert {\n",
              "      background-color: #3B4455;\n",
              "      fill: #D2E3FC;\n",
              "    }\n",
              "\n",
              "    [theme=dark] .colab-df-convert:hover {\n",
              "      background-color: #434B5C;\n",
              "      box-shadow: 0px 1px 3px 1px rgba(0, 0, 0, 0.15);\n",
              "      filter: drop-shadow(0px 1px 2px rgba(0, 0, 0, 0.3));\n",
              "      fill: #FFFFFF;\n",
              "    }\n",
              "  </style>\n",
              "\n",
              "      <script>\n",
              "        const buttonEl =\n",
              "          document.querySelector('#df-a8a2a01e-2e9e-433a-bdce-5f52c419c3df button.colab-df-convert');\n",
              "        buttonEl.style.display =\n",
              "          google.colab.kernel.accessAllowed ? 'block' : 'none';\n",
              "\n",
              "        async function convertToInteractive(key) {\n",
              "          const element = document.querySelector('#df-a8a2a01e-2e9e-433a-bdce-5f52c419c3df');\n",
              "          const dataTable =\n",
              "            await google.colab.kernel.invokeFunction('convertToInteractive',\n",
              "                                                     [key], {});\n",
              "          if (!dataTable) return;\n",
              "\n",
              "          const docLinkHtml = 'Like what you see? Visit the ' +\n",
              "            '<a target=\"_blank\" href=https://colab.research.google.com/notebooks/data_table.ipynb>data table notebook</a>'\n",
              "            + ' to learn more about interactive tables.';\n",
              "          element.innerHTML = '';\n",
              "          dataTable['output_type'] = 'display_data';\n",
              "          await google.colab.output.renderOutput(dataTable, element);\n",
              "          const docLink = document.createElement('div');\n",
              "          docLink.innerHTML = docLinkHtml;\n",
              "          element.appendChild(docLink);\n",
              "        }\n",
              "      </script>\n",
              "    </div>\n",
              "  </div>\n",
              "  "
            ],
            "text/plain": [
              "   PassengerId  Survived  Pclass  ...     Fare  Cabin  Embarked\n",
              "0            1         0       3  ...   7.2500      7         3\n",
              "1            2         1       1  ...  71.2833      2         0\n",
              "2            3         1       3  ...   7.9250      7         3\n",
              "3            4         1       1  ...  53.1000      2         3\n",
              "4            5         0       3  ...   8.0500      7         3\n",
              "\n",
              "[5 rows x 12 columns]"
            ]
          },
          "metadata": {},
          "execution_count": 303
        }
      ]
    },
    {
      "cell_type": "code",
      "source": [
        "print(titanic_df['Sex'].value_counts())\n",
        "print()\n",
        "print(titanic_df['Cabin'].value_counts())\n",
        "print()\n",
        "print(titanic_df['Embarked'].value_counts())"
      ],
      "metadata": {
        "colab": {
          "base_uri": "https://localhost:8080/"
        },
        "id": "veLrTGi2bkwY",
        "outputId": "efb33a15-022a-4d7c-a49b-445411289a54"
      },
      "execution_count": 304,
      "outputs": [
        {
          "output_type": "stream",
          "name": "stdout",
          "text": [
            "1    577\n",
            "0    314\n",
            "Name: Sex, dtype: int64\n",
            "\n",
            "7    687\n",
            "2     59\n",
            "1     47\n",
            "3     33\n",
            "4     32\n",
            "0     15\n",
            "5     13\n",
            "6      4\n",
            "8      1\n",
            "Name: Cabin, dtype: int64\n",
            "\n",
            "3    644\n",
            "0    168\n",
            "2     77\n",
            "1      2\n",
            "Name: Embarked, dtype: int64\n"
          ]
        }
      ]
    },
    {
      "cell_type": "markdown",
      "source": [
        "지금까지의 내용을 함수로 생성하여 전처리 과정을 재수행하기 쉽도록 하겠습니다."
      ],
      "metadata": {
        "id": "qKAwVTOxfywR"
      }
    },
    {
      "cell_type": "code",
      "source": [
        "# 결측치를 처리하는 함수를 선언합니다.\n",
        "def fillna(df):\n",
        "    df['Age'].fillna(df['Age'].mean(), inplace=True)\n",
        "    df['Cabin'].fillna('N', inplace=True)\n",
        "    df['Embarked'].fillna('N', inplace=True)\n",
        "    df['Fare'].fillna(0, inplace=True)\n",
        "    return df\n",
        "\n",
        "# 데이터 분석에 불필요한 피처를 제거하는 함수를 선언합니다.\n",
        "def drop_features(df):\n",
        "    df.drop(['PassengerId', 'Name', 'Ticket'], axis=1, inplace=True)\n",
        "    return df\n",
        "\n",
        "# 레이블 인코딩을 수행하는 함수를 선언합니다.\n",
        "def format_features(df):\n",
        "    df['Cabin'] = df['Cabin'].str[:1]\n",
        "    features = ['Sex', 'Cabin', 'Embarked']\n",
        "    for feature in features:\n",
        "        le = LabelEncoder()\n",
        "        le = le.fit(df[feature])\n",
        "        df[feature] = le.transform(df[feature])\n",
        "    return df\n",
        "\n",
        "# 전처리를 위해 생성한 모든 함수를 호출하는 함수를 선언합니다.\n",
        "def transform_features(df):\n",
        "    df = fillna(df)\n",
        "    df = drop_features(df)\n",
        "    df = format_features(df)\n",
        "    return df"
      ],
      "metadata": {
        "id": "gSU8zuiHdrQa"
      },
      "execution_count": 310,
      "outputs": []
    },
    {
      "cell_type": "markdown",
      "source": [
        "타이타닉 데이터를 다시 로드하고 'Survived' 피처만 분리하여 클래스 결정값데이터 세트로 생성하겠습니다. 아울러 'Survived' 피처를 드롭하고 새로운 피처 데이터 세트를 생성하겠습니다. 이렇게 생성한 새로운 데이터 세트에 직접 선언한 전처리 함수인 `transform_features()`를 호출하겠습니다."
      ],
      "metadata": {
        "id": "p06xRYSlhkEp"
      }
    },
    {
      "cell_type": "code",
      "source": [
        "titanic_df = pd.read_csv('/content/gdrive/MyDrive/titanic/titanic_train.csv')\n",
        "y_titanic_df = titanic_df['Survived']\n",
        "X_titanic_df = titanic_df.drop('Survived', axis=1)\n",
        "\n",
        "X_titanic_df = transform_features(X_titanic_df)"
      ],
      "metadata": {
        "id": "woSGIVwzgvXC"
      },
      "execution_count": 311,
      "outputs": []
    },
    {
      "cell_type": "markdown",
      "source": [
        "\n",
        "\n",
        "---\n",
        "\n",
        "휴식 중입니다.\n",
        "\n",
        "---\n",
        "\n"
      ],
      "metadata": {
        "id": "w9eap6v4iJKd"
      }
    }
  ]
}