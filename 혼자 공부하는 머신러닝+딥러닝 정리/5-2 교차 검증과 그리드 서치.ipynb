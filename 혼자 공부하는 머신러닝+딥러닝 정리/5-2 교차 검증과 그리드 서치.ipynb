{
  "nbformat": 4,
  "nbformat_minor": 0,
  "metadata": {
    "colab": {
      "name": "5-2 교차 검증과 그리드 서치.ipynb",
      "provenance": [],
      "collapsed_sections": [],
      "toc_visible": true,
      "authorship_tag": "ABX9TyM7mvrhIABk8G61w1oxbosW",
      "include_colab_link": true
    },
    "kernelspec": {
      "name": "python3",
      "display_name": "Python 3"
    },
    "language_info": {
      "name": "python"
    }
  },
  "cells": [
    {
      "cell_type": "markdown",
      "metadata": {
        "id": "view-in-github",
        "colab_type": "text"
      },
      "source": [
        "<a href=\"https://colab.research.google.com/github/LeeSeungwon89/Machine-learning_Theory/blob/master/5-2%20%EA%B5%90%EC%B0%A8%20%EA%B2%80%EC%A6%9D%EA%B3%BC%20%EA%B7%B8%EB%A6%AC%EB%93%9C%20%EC%84%9C%EC%B9%98.ipynb\" target=\"_parent\"><img src=\"https://colab.research.google.com/assets/colab-badge.svg\" alt=\"Open In Colab\"/></a>"
      ]
    },
    {
      "cell_type": "markdown",
      "metadata": {
        "id": "3sMkg63Prk6n"
      },
      "source": [
        "# **교차 검증과 그리드 서치**"
      ]
    },
    {
      "cell_type": "markdown",
      "metadata": {
        "id": "6sp6tBFUYPFt"
      },
      "source": [
        "## **데이터 준비**"
      ]
    },
    {
      "cell_type": "markdown",
      "source": [
        "데이터를 준비하겠습니다. 전 챕터에서 사용했던 와인 데이터셋을 사용하겠습니다."
      ],
      "metadata": {
        "id": "S0e5A9DlPfNA"
      }
    },
    {
      "cell_type": "code",
      "metadata": {
        "colab": {
          "base_uri": "https://localhost:8080/"
        },
        "id": "V78plGUlYQ54",
        "outputId": "d819c7b0-8e4e-4ce7-b4eb-c933a44c3c43"
      },
      "source": [
        "import pandas as pd\n",
        "\n",
        "wine = pd.read_csv('https://bit.ly/wine_csv_data')\n",
        "print(wine)\n",
        "print()\n",
        "print(wine.info())\n",
        "\n",
        "data = wine[['alcohol', 'sugar', 'pH']].to_numpy()\n",
        "target = wine['class'].to_numpy()"
      ],
      "execution_count": 1,
      "outputs": [
        {
          "output_type": "stream",
          "name": "stdout",
          "text": [
            "      alcohol  sugar    pH  class\n",
            "0         9.4    1.9  3.51    0.0\n",
            "1         9.8    2.6  3.20    0.0\n",
            "2         9.8    2.3  3.26    0.0\n",
            "3         9.8    1.9  3.16    0.0\n",
            "4         9.4    1.9  3.51    0.0\n",
            "...       ...    ...   ...    ...\n",
            "6492     11.2    1.6  3.27    1.0\n",
            "6493      9.6    8.0  3.15    1.0\n",
            "6494      9.4    1.2  2.99    1.0\n",
            "6495     12.8    1.1  3.34    1.0\n",
            "6496     11.8    0.8  3.26    1.0\n",
            "\n",
            "[6497 rows x 4 columns]\n",
            "\n",
            "<class 'pandas.core.frame.DataFrame'>\n",
            "RangeIndex: 6497 entries, 0 to 6496\n",
            "Data columns (total 4 columns):\n",
            " #   Column   Non-Null Count  Dtype  \n",
            "---  ------   --------------  -----  \n",
            " 0   alcohol  6497 non-null   float64\n",
            " 1   sugar    6497 non-null   float64\n",
            " 2   pH       6497 non-null   float64\n",
            " 3   class    6497 non-null   float64\n",
            "dtypes: float64(4)\n",
            "memory usage: 203.2 KB\n",
            "None\n"
          ]
        }
      ]
    },
    {
      "cell_type": "code",
      "metadata": {
        "colab": {
          "base_uri": "https://localhost:8080/"
        },
        "id": "q7gi5n2AYVpC",
        "outputId": "b7065a3d-559e-4b0f-92ee-4dc2070d0862"
      },
      "source": [
        "from sklearn.model_selection import train_test_split\n",
        "\n",
        "train_input, test_input, train_target, test_target = train_test_split(\n",
        "    data, target, test_size=0.2, random_state=42)\n",
        "print(train_input.shape, test_input.shape)"
      ],
      "execution_count": 2,
      "outputs": [
        {
          "output_type": "stream",
          "name": "stdout",
          "text": [
            "(5197, 3) (1300, 3)\n"
          ]
        }
      ]
    },
    {
      "cell_type": "markdown",
      "metadata": {
        "id": "F_3IOcZaroDX"
      },
      "source": [
        "## **검증 세트**"
      ]
    },
    {
      "cell_type": "markdown",
      "source": [
        "현재까지는 훈련 세트로 모델을 훈련하고 테스트 세트로 모델을 평가했습니다. 그러나 테스트 세트만으로 계속 성능을 확인하다 보면 테스트 세트에 일반화 성능을 점점 맞추게 되는 셈입니다. 테스트 세트로 일반화 성능을 올바르게 예측하려면 모델을 만들고 나서 마지막에 딱 한 번만 사용하는 것이 좋습니다.\n",
        "\n",
        "테스트 세트를 사용하지 않고 측정하는 방법은 훈련 세트를 다시 나누는 것입니다. 훈련 세트에서 다시 나눈 데이터를 **검증 세트(validation set)** 혹은 **개발 세트(dev set)**라고 부릅니다. 검증 세트를 활용하는 과정을 요약하면 아래와 같습니다.\n",
        "\n",
        "1. 훈련 세트를 80%, 테스트 세트 20%로 나눕니다. 그리고 훈련 세트에서 다시 20%를 떼서 검증 세트로 만듭니다. 보통 테스트 세트와 검증 세트를 20 ~ 30%만큼 떼지만 훈련 세트가 아주 많다면 몇 %만 떼어 놓아도 전체 데이터를 대표하는 데 문제없습니다.\n",
        "\n",
        "1. 훈련 세트로 모델을 훈련하고, 검증 세트로 모델을 평가합니다. 테스트하고 싶은 매개변수를 바꾸면서 가장 좋은 모델을 고르고, 최종적으로 결정한 매개변수를 사용하여 훈련 세트와 검증 세트를 합친 전체 훈련 데이터로 다시 모델을 훈련합니다.\n",
        "\n",
        "1. 마지막에 테스트 세트로 최종 점수를 평가합니다.\n",
        "\n",
        "위 방법은 실무에서 많이 사용하는 방법입니다."
      ],
      "metadata": {
        "id": "VGXYiisHN-b-"
      }
    },
    {
      "cell_type": "markdown",
      "metadata": {
        "id": "tVL1S_zhRpRX"
      },
      "source": [
        "### **검증 세트 만들기**"
      ]
    },
    {
      "cell_type": "markdown",
      "source": [
        "훈련 세트 샘플 5197개를 나눠서 훈련 세트 80%, 검증 세트 20%를 만들겠습니다. `train_test_split()` 메서드에 훈련 세트인 `train_input`과 `train_target`을 넣어서 훈련 세트를 `sub_input`과 `sub_target`으로 만들고, 검증 세트를 `val_input`, `val_target`으로 만듭니다."
      ],
      "metadata": {
        "id": "e1FU4h0YQ7Tq"
      }
    },
    {
      "cell_type": "code",
      "metadata": {
        "colab": {
          "base_uri": "https://localhost:8080/"
        },
        "id": "sPqeSIIYQ8CX",
        "outputId": "be3d75d9-b4bf-460e-9427-67194e9dba2a"
      },
      "source": [
        "sub_input, val_input, sub_target, val_target = train_test_split(\n",
        "    train_input, train_target, test_size=0.2, random_state=42)\n",
        "print(f'훈련 세트 크기: {sub_input.shape}')\n",
        "print(f'검증 세트 크기: {val_input.shape}')"
      ],
      "execution_count": 5,
      "outputs": [
        {
          "output_type": "stream",
          "name": "stdout",
          "text": [
            "훈련 세트 크기: (4157, 3)\n",
            "검증 세트 크기: (1040, 3)\n"
          ]
        }
      ]
    },
    {
      "cell_type": "markdown",
      "metadata": {
        "id": "t5yEYx0ySNvv"
      },
      "source": [
        "### **결정 트리 모델 만들기**"
      ]
    },
    {
      "cell_type": "markdown",
      "source": [
        "훈련 세트와 검증 세트로 결정 트리 모델을 훈련하겠습니다."
      ],
      "metadata": {
        "id": "yNUEC9BAR8HS"
      }
    },
    {
      "cell_type": "code",
      "metadata": {
        "colab": {
          "base_uri": "https://localhost:8080/"
        },
        "id": "Tyft5M_hSNEX",
        "outputId": "7e1e545e-6217-48f0-f498-4aa606adfb65"
      },
      "source": [
        "from sklearn.tree import DecisionTreeClassifier\n",
        "\n",
        "dt = DecisionTreeClassifier(random_state=42)\n",
        "dt.fit(sub_input, sub_target)\n",
        "print(f'훈련 세트 점수: {dt.score(sub_input, sub_target)}')\n",
        "print(f'검증 세트 점수: {dt.score(val_input, val_target)}')"
      ],
      "execution_count": 6,
      "outputs": [
        {
          "output_type": "stream",
          "name": "stdout",
          "text": [
            "훈련 세트 점수: 0.9971133028626413\n",
            "검증 세트 점수: 0.864423076923077\n"
          ]
        }
      ]
    },
    {
      "cell_type": "markdown",
      "source": [
        "과대적합이므로 매개변수를 바꿔서 더 좋은 모델을 찾아야 합니다."
      ],
      "metadata": {
        "id": "jkqONeSVSHEn"
      }
    },
    {
      "cell_type": "markdown",
      "metadata": {
        "id": "Aq-dr1g2S6xh"
      },
      "source": [
        "## **교차 검증**"
      ]
    },
    {
      "cell_type": "markdown",
      "source": [
        "검증 세트를 만드느라 훈련 세트의 총량이 줄었습니다. 보통 많은 데이터를 훈련에 사용할수록 좋은 모델이 만들어지지만 그렇다고 검증 세트를 너무 조금 떼면 검증 점수가 불안정할 것입니다. 이 경우에 **교차 검증(cross validation)**을 활용하면 안정적인 검증 점수도 얻고 훈련에 더 많은 데이터도 사용할 수 있습니다.\n",
        "\n",
        "교차 검증은 검증 세트를 떼어 평가하는 과정을 여러 번 반복합니다. 이렇게 얻은 점수들을 평균하여 최종 검증 점수를 얻습니다. **k-폴드(겹) 교차 검증(k-fold cross validation)**으로 이 방법을 실현할 수 있습니다. \n",
        "\n",
        "k-폴드(겹) 교차 검증(k-fold cross validation)은 훈련 세트를 k만큼 부분으로 나눠서 교차 검증을 수행하는 방법입니다. 보통 5나 10으로 나누는 5-폴드 교차 검증과 10-폴드 교차 검증을 많이 사용합니다. 이렇게 k만큼 부분으로 나눠서 교차 검증을 수행하면 총 데이터의 80 ~ 90%까지 훈련에 사용할 수 있습니다. 물론 검증 세트 자체는 줄지만 각 폴드에서 계산한 검증 점수를 평균하므로 최종 도출한 검증 점수는 안정적이라고 볼 수 있습니다.\n",
        "\n",
        "3-폴드 교차 검증을 예로 들어 설명하겠습니다. 아래처럼 훈련 세트를 세 부분으로 나누고, 훈련 세트로는 모델을 훈련하며, 검증 세트로는 모델을 평가합니다.\n",
        "\n",
        "* 훈련 세트, 훈련 세트, 검증 세트\n",
        " \n",
        "* 훈련 세트, 검증 세트, 훈련 세트\n",
        " \n",
        "* 검증 세트, 훈련 세트, 훈련 세트\n",
        "\n",
        "총 3번만큼 모델을 평가하여 검증 점수를 도출하는 것입니다. `sklearn.model_selection` 패키지의 `cross_validate()` 메서드를 사용하여 교차 검증을 수행하겠습니다. 아래는 `cross_validate()` 메서드가 가진 매개변수 목록입니다.\n",
        "\n",
        "- `scoring`: 검증에 사용할 평가 지표를 지정하는 매개변수입니다. 기본값은 분류 모델의 경우 정확도를 의미하는 `accuracy`, 회귀 모델의 경우 결정계수를 의미하는 `r2`입니다.\n",
        "\n",
        "- `cv`: 교차 검증 폴드 수나 스플리터 객체를 지정하는 매개변수입니다. 기본값은 `5`입니다. 자세한 설명은 아래에서 이어가겠습니다.\n",
        "\n",
        "- `n_jobs`: 교차 검증을 수행할 때 사용할 CPU 코어 수를 지정하는 매개변수입니다. 기본값은 `1`이며, `-1`로 지정하면 모든 시스템 코어를 사용합니다.\n",
        "\n",
        "- `return_train_score`: 훈련 세트의 점수도 반환할지 정하는 매개변수입니다. 기본값은 `False`이며, `True`로 지정하면 훈련 세트 점수도 반환합니다.\n",
        "\n",
        "`cross_validate()` 메서드를 사용하여 교차 검증을 수행하겠습니다. 이 메서드에 평가할 모델 객체를 첫 번째 매개변수에 전달하고, 직접 검증 세트를 떼지 않고 전체 훈련 세트를 두 세 번째 매개변수에 전달합니다. `cv` 매개변수는 따로 지정하지 않으므로 5-폴드 교차 검증입니다."
      ],
      "metadata": {
        "id": "FxlbxjtmSP_u"
      }
    },
    {
      "cell_type": "code",
      "metadata": {
        "colab": {
          "base_uri": "https://localhost:8080/"
        },
        "id": "v2Y7W6zyS55v",
        "outputId": "0fa14b71-3227-42af-caf5-cf5109cf8763"
      },
      "source": [
        "from sklearn.model_selection import cross_validate\n",
        "\n",
        "scores = cross_validate(dt, train_input, train_target)\n",
        "print(scores)"
      ],
      "execution_count": 7,
      "outputs": [
        {
          "output_type": "stream",
          "name": "stdout",
          "text": [
            "{'fit_time': array([0.00806403, 0.00719404, 0.00753808, 0.00733423, 0.00743771]), 'score_time': array([0.0008769 , 0.00072694, 0.00074053, 0.00075293, 0.00076175]), 'test_score': array([0.86923077, 0.84615385, 0.87680462, 0.84889317, 0.83541867])}\n"
          ]
        }
      ]
    },
    {
      "cell_type": "markdown",
      "source": [
        "`fit_time`, `score_time`, `test_score` 키를 가진 딕셔너리를 반환했습니다. `fit_time`은 훈련하는 시간, `score_time`은 검증하는 시간, `test_score`는 검증 폴드의 점수입니다."
      ],
      "metadata": {
        "id": "iZ5BMF5SV4Qh"
      }
    },
    {
      "cell_type": "markdown",
      "metadata": {
        "id": "N313XVCqb_y9"
      },
      "source": [
        "### **최상의 검증 점수 확인하기**"
      ]
    },
    {
      "cell_type": "markdown",
      "source": [
        "`test_score`의 점수 5개를 평균하여 교차 검증의 최종 점수를 얻을 수 있습니다."
      ],
      "metadata": {
        "id": "AOqcOu0aWv0H"
      }
    },
    {
      "cell_type": "code",
      "metadata": {
        "colab": {
          "base_uri": "https://localhost:8080/"
        },
        "id": "Ds6Ba7yTa5l9",
        "outputId": "f92eecad-cd2f-4d54-944b-bf79457e5e4c"
      },
      "source": [
        "import numpy as np\n",
        "\n",
        "print(np.mean(scores['test_score']))"
      ],
      "execution_count": 8,
      "outputs": [
        {
          "output_type": "stream",
          "name": "stdout",
          "text": [
            "0.855300214703487\n"
          ]
        }
      ]
    },
    {
      "cell_type": "markdown",
      "metadata": {
        "id": "bgx7ByWTIz9l"
      },
      "source": [
        "### **분할기로 폴드 나누기**"
      ]
    },
    {
      "cell_type": "markdown",
      "source": [
        "교차 검증을 수행하기 전에 위에서 `train_test_split()` 메서드로 전체 데이터를 섞었지만, 본래 `cross_validate()` 메서드는 훈련 세트를 섞어서 폴드를 나누지 않습니다. 교차 검증을 수행할 때 훈련 세트를 섞으려면 `cv` 매개변수에 **분할기(splitter)**를 지정해야 합니다. 분할기는 교차 검증에서 폴드를 어떻게 나눌지 결정합니다. 분류 모델일 경우 `StratifiedKFold()` 클래스를 지정하고, 회귀 모델일 경우 `KFold()` 클래스를 지정합니다.\n",
        "\n",
        "바로 위에서 수행한 교차 검증은 아래처럼 표현할 수 있습니다."
      ],
      "metadata": {
        "id": "MESZeA0OaRW2"
      }
    },
    {
      "cell_type": "code",
      "metadata": {
        "id": "7lBQRtZGcsgL",
        "colab": {
          "base_uri": "https://localhost:8080/"
        },
        "outputId": "7c776fba-d2bd-4a24-f15a-aa36cd61ed89"
      },
      "source": [
        "from sklearn.model_selection import StratifiedKFold\n",
        "\n",
        "scores = cross_validate(dt, train_input, train_target, cv=StratifiedKFold())\n",
        "print(np.mean(scores['test_score']))"
      ],
      "execution_count": null,
      "outputs": [
        {
          "output_type": "stream",
          "text": [
            "0.855300214703487\n"
          ],
          "name": "stdout"
        }
      ]
    },
    {
      "cell_type": "markdown",
      "source": [
        "훈련 세트를 섞은 후 10-폴드 교차 검증을 수행해보겠습니다. 먼저 `StratifiedKfold()` 클래스 생성기로 인스턴스를 생성하고, 생성한 인스턴스를 `cross_validate()` 메서드의 `cv` 매개변수에 지정하겠습니다. 참고로 `KFold` 클래스도 동일한 방식으로 사용합니다.\n",
        "\n",
        "`StratifiedKfold()` 클래스가 가진 매개변수는 아래와 같습니다.\n",
        "\n",
        "- `n_splits`: 훈련 세트를 몇 부분으로 나눌지 결정하는 매개변수입니다. 몇(k) 폴드 교차 검증을 할지 결정합니다. 기본값은 `5`입니다.\n",
        "\n",
        "- `shuffle`: 세트의 샘플을 섞을지 결정하는 매개변수입니다. 기본값은 `False`입니다. `True`로 지정하면 세트의 샘플을 섞습니다."
      ],
      "metadata": {
        "id": "_Y1-mpeXbC-S"
      }
    },
    {
      "cell_type": "code",
      "metadata": {
        "colab": {
          "base_uri": "https://localhost:8080/"
        },
        "id": "aWaHSF-BGFfk",
        "outputId": "cf841736-7710-4199-fb7e-31d76fe171af"
      },
      "source": [
        "splitter = StratifiedKFold(n_splits=10, shuffle=True, random_state=42)\n",
        "\n",
        "scores = cross_validate(dt, train_input, train_target, cv=splitter)\n",
        "print(np.mean(scores['test_score']))"
      ],
      "execution_count": null,
      "outputs": [
        {
          "output_type": "stream",
          "text": [
            "0.8574181117533719\n"
          ],
          "name": "stdout"
        }
      ]
    },
    {
      "cell_type": "markdown",
      "source": [
        "5-폴드와 10-폴드의 점수 차이가 크지 않습니다."
      ],
      "metadata": {
        "id": "-m7B2xsKco14"
      }
    },
    {
      "cell_type": "markdown",
      "metadata": {
        "id": "o98cO-09LILX"
      },
      "source": [
        "## **하이퍼파라미터 튜닝**"
      ]
    },
    {
      "cell_type": "markdown",
      "source": [
        "모델이 학습하는 파라미터는 **모델 파라미터(Model parameter)**라고 부릅니다. 반면에 **하이퍼파라미터(Hyper parameter)**는 모델이 학습할 수 없어서 사용자가 직접 지정해야 하는 파라미터입니다. 다시 말하면 사용자가 직접 지정하는 클래스나 메서드의 매개변수를 의미합니다.\n",
        "\n",
        "하이퍼파라미터 튜닝은 먼저 라이브러리가 제공하는 기본값으로 훈련하고, 매개변수를 조금씩 바꿔가며 모델을 훈련하면서 교차 검증을 수행하는 방식을 취합니다. 참고로 **AutoML**는 사용자의 개입 없이 하이퍼파라미터 튜닝을 자동으로 수행하는 기술입니다.\n",
        "\n",
        "결정 트리 모델에서 `max_depth` 매개변수의 최적값을 찾았다고 가정하겠습니다. 이 상황에서 `max_depth` 값을 고정한 상태로 `min_samples_split` 매개변수의 최적값을 찾아가는 과정은 옳지 않습니다. `max_depth` 매개변수의 최적값은 `min_samples_split` 매개변수의 값이 바뀌면 함께 달라집니다. 두 매개변수의 값을 동시에 바꾸면서 최적값을 찾아야 합니다. 다만 매개변수가 많을수록 최적값을 일일이 찾기는 어렵습니다. 이런 상황에서는 **그리드 서치(Grid Search)**를 수행하는 `GridSearchCV` 클래스를 활용할 수 있습니다."
      ],
      "metadata": {
        "id": "P85XrKGbdSki"
      }
    },
    {
      "cell_type": "markdown",
      "metadata": {
        "id": "jkyTOLOxQW8T"
      },
      "source": [
        "### **그리드 서치**"
      ]
    },
    {
      "cell_type": "markdown",
      "source": [
        "`GridSearchCV` 클래스는 하이퍼파라미터 탐색과 교차 검증을 한 번에 수행하는 클래스입니다. 별도로 `cross_validate()` 함수를 호출할 필요가 없습니다. \n",
        "\n",
        "아래는 `GridSearchCV` 클래스가 가진 매개변수 목록입니다. 교차 검증을 수행하는 `cross_validate()` 메서드와 동일한 매개변수를 가지고 있습니다.\n",
        "\n",
        "- `scoring`: 검증에 사용할 평가 지표를 지정하는 매개변수입니다. 기본값은 분류 모델의 경우 정확도를 의미하는 `accuracy`, 회귀 모델의 경우 결정계수를 의미하는 `r2`입니다.\n",
        "\n",
        "- `cv`: 교차 검증 폴드 수나 스플리터 객체를 지정하는 매개변수입니다. 기본값은 `5`입니다. 자세한 설명은 아래에서 이어가겠습니다.\n",
        "\n",
        "- `n_jobs`: 교차 검증을 수행할 때 사용할 CPU 코어 수를 지정하는 매개변수입니다. 기본값은 `1`이며, `-1`로 지정하면 모든 시스템 코어를 사용합니다.\n",
        "\n",
        "- `return_train_score`: 훈련 세트의 점수도 반환할지 정하는 매개변수입니다. 기본값은 `False`이며, `True`로 지정하면 훈련 세트 점수도 반환합니다."
      ],
      "metadata": {
        "id": "C1dMI_VkdRe2"
      }
    },
    {
      "cell_type": "markdown",
      "metadata": {
        "id": "YLnFNduGvyKl"
      },
      "source": [
        "#### **그리드 서치로 매개변수 최적값 찾기**"
      ]
    },
    {
      "cell_type": "markdown",
      "source": [
        "`GridSearchCV` 클래스로 `DecisionTreeClassifier` 클래스의 매개변수인 `min_impurity_decrease`의 최적값을 찾겠습니다. 참고로 `min_impurity_decrease` 매개변수는 노드를 분할하기 위한 불순도 감소 최소량을 지정하는 매개변수로 트리 가지치기에 사용합니다. 지정한 값보다 작으면 더이상 분할하지 않습니다.\n",
        "\n",
        "먼저 `min_impurity_decrease` 매개변수를 0.0001 ~ 0.0005까지 리스트로 값을 부여하여 딕셔너리로 묶고 `params`라는 변수로 선언하겠습니다. 하이퍼파라미터 객체를 만드는 작업입니다."
      ],
      "metadata": {
        "id": "AOrwNS_AgMAo"
      }
    },
    {
      "cell_type": "code",
      "metadata": {
        "id": "grZ3i6l0JC3p"
      },
      "source": [
        "from sklearn.model_selection import GridSearchCV\n",
        "\n",
        "params = {'min_impurity_decrease' : [0.0001, 0.0002, 0.0003, 0.0004, 0.0005]}"
      ],
      "execution_count": 14,
      "outputs": []
    },
    {
      "cell_type": "markdown",
      "source": [
        "`GridSearchCV` 클래스 생성기에 탐색 대상 모델과 변수를 전달하고, `gs` 인스턴스를 선언하겠습니다. \n",
        "\n",
        "참고로 `GridSearchCV` 클래스의 `cv` 매개변수는 폴드 수를 지정하는 매개변수입니다. 기본값은 5이므로 지정한 매개변수 `min_impurity_decrease`의 값마다 5-폴드 교차 검증을 수행합니다. 즉 $5 \\times 5 = 25$개만큼 모델을 훈련합니다. `n_job` 매개변수는 병렬 실행에 사용할 CPU 코어 수를 지정하는 매개변수입니다. 기본값은 `1`입니다. `-1`로 지정하면 모든 코어를 사용합니다."
      ],
      "metadata": {
        "id": "FbaqtabhhbAd"
      }
    },
    {
      "cell_type": "code",
      "source": [
        "gs = GridSearchCV(DecisionTreeClassifier(random_state=42), params, n_jobs=-1)"
      ],
      "metadata": {
        "id": "euW79R11hZlX"
      },
      "execution_count": 15,
      "outputs": []
    },
    {
      "cell_type": "markdown",
      "source": [
        "`gs` 인스턴스를 훈련하기 위해 `fit()` 메서드를 호출하면 `min_impurity_decrease` 값을 바꿔가며 5번 실행합니다. 훈련을 수행하겠습니다.\n",
        "\n",
        "참고로 교차 검증에서 최적의 하이퍼파라미터를 찾으면 전체 훈련 세트로 모델을 다시 만들어야 하지만, 그리드 서치는 훈련이 끝나면 모델 25개 중에 검증 점수가 가장 높은 모델의 매개변수 조합을 활용하여 전체 훈련 세트에서 자동으로 다시 모델을 훈련합니다. 이 모델은 `best_estimator_` 속성에 저장되고, 매개변수 최적값은 `best_params_` 속성에 저장됩니다. 모두 확인해보겠습니다."
      ],
      "metadata": {
        "id": "2xUSVDyvikTH"
      }
    },
    {
      "cell_type": "code",
      "metadata": {
        "colab": {
          "base_uri": "https://localhost:8080/"
        },
        "id": "lBgRmsTvc-mL",
        "outputId": "4c449f91-c46c-4764-a836-d2e40ac43705"
      },
      "source": [
        "gs.fit(train_input, train_target)\n",
        "\n",
        "print(gs.best_estimator_)\n",
        "print(gs.best_params_)"
      ],
      "execution_count": 16,
      "outputs": [
        {
          "output_type": "stream",
          "name": "stdout",
          "text": [
            "DecisionTreeClassifier(min_impurity_decrease=0.0001, random_state=42)\n",
            "{'min_impurity_decrease': 0.0001}\n"
          ]
        }
      ]
    },
    {
      "cell_type": "markdown",
      "source": [
        "`DecisionTreeClassifier` 클래스에 매개변수의 최적값이 자동으로 입력됐습니다. `min_impurity_decrease` 매개변수의 최적값은 0.0001을 도출했습니다.\n",
        "\n",
        "점수를 출력하려면 `gs` 인스턴스의 `best_estimator_` 속성을 `dt` 객체로 선언하고, 선언한 `dt` 객체에 `score()` 메서드를 적용합니다."
      ],
      "metadata": {
        "id": "WdibXotQjvDs"
      }
    },
    {
      "cell_type": "code",
      "source": [
        "dt = gs.best_estimator_\n",
        "print(dt.score(train_input, train_target))"
      ],
      "metadata": {
        "colab": {
          "base_uri": "https://localhost:8080/"
        },
        "id": "L8Yj9kV9joSg",
        "outputId": "dc83c39b-6a86-45ab-fc66-1d221dbc3475"
      },
      "execution_count": 17,
      "outputs": [
        {
          "output_type": "stream",
          "name": "stdout",
          "text": [
            "0.9615162593804117\n"
          ]
        }
      ]
    },
    {
      "cell_type": "markdown",
      "source": [
        "각 매개변수에서 수행한 교차 검증의 평균 점수는 `cv_results_` 속성의 `mean_test_score` 키에 저장됩니다. 아울러 교차 검증의 평균 점수 순위는 `cv_results_` 속성의 `rank_test_score` 키에 저장됩니다."
      ],
      "metadata": {
        "id": "dvpEeJoekzen"
      }
    },
    {
      "cell_type": "code",
      "metadata": {
        "colab": {
          "base_uri": "https://localhost:8080/"
        },
        "id": "W7elSWephuKD",
        "outputId": "751c6663-a03e-4f60-daf1-5812a4ea8835"
      },
      "source": [
        "print(gs.cv_results_)\n",
        "print()\n",
        "print(f\"교차 검증의 평균 점수: {gs.cv_results_['mean_test_score']}\")\n",
        "print(f\"교차 검증의 평균 점수 순위: {gs.cv_results_['rank_test_score']}\")"
      ],
      "execution_count": 22,
      "outputs": [
        {
          "output_type": "stream",
          "name": "stdout",
          "text": [
            "{'mean_fit_time': array([0.01200886, 0.00915728, 0.01068292, 0.00739532, 0.00710158]), 'std_fit_time': array([0.00303647, 0.00134618, 0.00156988, 0.0007407 , 0.00105177]), 'mean_score_time': array([0.00119801, 0.00107613, 0.00108914, 0.00095897, 0.00081038]), 'std_score_time': array([1.48006552e-04, 1.76647645e-04, 2.58710082e-04, 6.14107022e-05,\n",
            "       9.18756443e-05]), 'param_min_impurity_decrease': masked_array(data=[0.0001, 0.0002, 0.0003, 0.0004, 0.0005],\n",
            "             mask=[False, False, False, False, False],\n",
            "       fill_value='?',\n",
            "            dtype=object), 'params': [{'min_impurity_decrease': 0.0001}, {'min_impurity_decrease': 0.0002}, {'min_impurity_decrease': 0.0003}, {'min_impurity_decrease': 0.0004}, {'min_impurity_decrease': 0.0005}], 'split0_test_score': array([0.86923077, 0.87115385, 0.86923077, 0.86923077, 0.86538462]), 'split1_test_score': array([0.86826923, 0.86346154, 0.85961538, 0.86346154, 0.86923077]), 'split2_test_score': array([0.8825794 , 0.87680462, 0.87584216, 0.88161694, 0.8825794 ]), 'split3_test_score': array([0.86717998, 0.85466795, 0.85081809, 0.84889317, 0.84985563]), 'split4_test_score': array([0.85370549, 0.85659288, 0.86910491, 0.87584216, 0.87102984]), 'mean_test_score': array([0.86819297, 0.86453617, 0.86492226, 0.86780891, 0.86761605]), 'std_test_score': array([0.00915386, 0.00843731, 0.0087452 , 0.01125985, 0.01056953]), 'rank_test_score': array([1, 5, 4, 2, 3], dtype=int32)}\n",
            "\n",
            "교차 검증의 평균 점수: [0.86819297 0.86453617 0.86492226 0.86780891 0.86761605]\n",
            "교차 검증의 평균 점수 순위: [1 5 4 2 3]\n"
          ]
        }
      ]
    },
    {
      "cell_type": "markdown",
      "source": [
        "첫 번째 점수가 가장 큽니다. 넘파이의 `argmax()` 메서드를 사용하면 가장 큰 값의 인덱스를 추출할 수 있습니다. 이 인덱스를 사용하여 매개변수 최적값인 `gs.best_params_` 속성을 동일하게 출력할 수 있습니다."
      ],
      "metadata": {
        "id": "jpXq93OIl5GQ"
      }
    },
    {
      "cell_type": "code",
      "source": [
        "best_index = np.argmax(gs.cv_results_['mean_test_score'])\n",
        "print(f'교차 검증의 평균 점수 중 가장 높은 점수의 위치: {best_index}')\n",
        "print(f\"사용한 모든 파라미터: {gs.cv_results_['params']}\")\n",
        "print(f\"매개변수 최적값: {gs.cv_results_['params'][best_index]}\")"
      ],
      "metadata": {
        "colab": {
          "base_uri": "https://localhost:8080/"
        },
        "id": "Rte8MNZilcnZ",
        "outputId": "b30c47ac-cde9-400d-f00e-33afe11cf7bc"
      },
      "execution_count": 25,
      "outputs": [
        {
          "output_type": "stream",
          "name": "stdout",
          "text": [
            "교차 검증의 평균 점수 중 가장 높은 점수의 위치: 0\n",
            "사용한 모든 파라미터: [{'min_impurity_decrease': 0.0001}, {'min_impurity_decrease': 0.0002}, {'min_impurity_decrease': 0.0003}, {'min_impurity_decrease': 0.0004}, {'min_impurity_decrease': 0.0005}]\n",
            "매개변수 최적값: {'min_impurity_decrease': 0.0001}\n"
          ]
        }
      ]
    },
    {
      "cell_type": "markdown",
      "metadata": {
        "id": "tnBeI0RMoe_d"
      },
      "source": [
        "#### **더 복잡한 매개변수 조합의 최적값 찾기**"
      ]
    },
    {
      "cell_type": "markdown",
      "source": [
        "그리드 서치로 `min_impurity_decrease`, `max_depth`, `min_samples_split` 매개변수 조합을 찾아보겠습니다. 매개변수의 최적값을 찾기 위해 `params` 변수에 딕셔너리로 된 조합을 전달하겠습니다. 매개변수 값의 간격은 임의로 지정하겠습니다.\n",
        "\n",
        "참고로 `min_impurity_decrease` 매개변수는 노드를 분할하기 위한 불순도 감소 최소량을 지정하는 매개변수, `max_depth` 매개변수는 트리 깊이를 지정하는 매개변수, `min_samples_split` 매개변수는 노드를 나누기 위한 최소 샘플 수를 지정하는 매개변수입니다. "
      ],
      "metadata": {
        "id": "5OVnhMAsnWrP"
      }
    },
    {
      "cell_type": "code",
      "metadata": {
        "id": "jZg7sNAqiq8D"
      },
      "source": [
        "params = {'min_impurity_decrease' : np.arange(0.0001, 0.001, 0.0001),\n",
        "          'max_depth' : range(5, 20, 1),\n",
        "          'min_samples_split' : range(2, 100, 10)\n",
        "        }"
      ],
      "execution_count": 26,
      "outputs": []
    },
    {
      "cell_type": "markdown",
      "source": [
        "첫 번째 매개변수에 지정한 배열은 9개, 두 번째 매개변수에 지정한 배열은 15개, 세 번째 매개변수에 지정한 배열은 10개입니다. 이 매개변수로 수행할 교차 검증 횟수는 $9 \\times 15 \\times 10 = 1,350$회이며, `cv` 매개변수의 기본값인 `5`로 5-폴드 교차 검증을 수행하므로 모델은 $1,350 \\times 5 = 6,750$개가 만들어집니다.\n",
        "\n",
        "그리드 서치를 수행하겠습니다."
      ],
      "metadata": {
        "id": "RSajM-JjnoOM"
      }
    },
    {
      "cell_type": "code",
      "metadata": {
        "colab": {
          "base_uri": "https://localhost:8080/"
        },
        "id": "Uil7mn95v4xX",
        "outputId": "2375df5e-f7b5-4956-a1da-d482e22ebbfd"
      },
      "source": [
        "gs = GridSearchCV(DecisionTreeClassifier(random_state=42), params, n_jobs=-1)\n",
        "gs.fit(train_input, train_target)\n",
        "print(gs)"
      ],
      "execution_count": 27,
      "outputs": [
        {
          "output_type": "stream",
          "name": "stdout",
          "text": [
            "GridSearchCV(estimator=DecisionTreeClassifier(random_state=42), n_jobs=-1,\n",
            "             param_grid={'max_depth': range(5, 20),\n",
            "                         'min_impurity_decrease': array([0.0001, 0.0002, 0.0003, 0.0004, 0.0005, 0.0006, 0.0007, 0.0008,\n",
            "       0.0009]),\n",
            "                         'min_samples_split': range(2, 100, 10)})\n"
          ]
        }
      ]
    },
    {
      "cell_type": "markdown",
      "source": [
        "최상의 매개변수 조합을 확인하겠습니다."
      ],
      "metadata": {
        "id": "N0eiegP1qYo3"
      }
    },
    {
      "cell_type": "code",
      "source": [
        "print(gs.best_params_)"
      ],
      "metadata": {
        "colab": {
          "base_uri": "https://localhost:8080/"
        },
        "id": "xgNndXeKqbzM",
        "outputId": "5adf0471-74ba-4581-9bd0-f369c8402c61"
      },
      "execution_count": 28,
      "outputs": [
        {
          "output_type": "stream",
          "name": "stdout",
          "text": [
            "{'max_depth': 14, 'min_impurity_decrease': 0.0004, 'min_samples_split': 12}\n"
          ]
        }
      ]
    },
    {
      "cell_type": "markdown",
      "source": [
        "최상의 교차 검증 점수를 확인하겠습니다."
      ],
      "metadata": {
        "id": "ypJtDF8eqfHI"
      }
    },
    {
      "cell_type": "code",
      "source": [
        "print(np.max(gs.cv_results_['mean_test_score']))"
      ],
      "metadata": {
        "colab": {
          "base_uri": "https://localhost:8080/"
        },
        "id": "RfdhxIVxqkDV",
        "outputId": "588d2d57-09f6-4d64-bb0e-b56faf3f5480"
      },
      "execution_count": 29,
      "outputs": [
        {
          "output_type": "stream",
          "name": "stdout",
          "text": [
            "0.8683865773302731\n"
          ]
        }
      ]
    },
    {
      "cell_type": "markdown",
      "metadata": {
        "id": "lbfjwlsrxYDw"
      },
      "source": [
        "### **랜덤 서치**"
      ]
    },
    {
      "cell_type": "markdown",
      "source": [
        "**랜덤 서치(Random Search)**는 그리드 서치의 대안으로 사용할 수 있는 방법입니다. 기실 그리드 서치를 사용할 때 매개변수의 간격을 더 좁거나 넓은 간격으로 시도할 수도 있습니다. 그러나 매개변수 값이 수치일 때는 값의 범위나 간격을 미리 정하기 어려울 수도 있고, 너무 많은 매개변수 조합이 있으면 그리드 서치를 수행하는 시간이 오래 소요될 수도 있습니다. 이런 상황에서 랜덤 서치는 훌륭한 대안이 될 수 있습니다. 그리드 서치보다 교차 검증 수를 줄이면서 넓은 영역을 효과적으로 탐색할 수 있습니다.\n",
        "\n",
        "랜덤 서치를 구현한 클래스는 `RandomizedSearchCV`입니다. 교차 검증으로 랜덤한 하이퍼파라미터를 탐색하는 클래스입니다. 최상의 모델을 찾은 후 훈련 세트 전체를 사용하여 최종 모델을 훈련합니다. 아래는 `RandomizedSearchCV` 클래스가 가진 매개변수입입니다. 교차 검증을 수행하는 `cross_validate()` 메서드와 동일한 매개변수를 가지고 있습니다.\n",
        "\n",
        "- `scoring`: 검증에 사용할 평가 지표를 지정하는 매개변수입니다. 기본값은 분류 모델의 경우 정확도를 의미하는 `accuracy`, 회귀 모델의 경우 결정계수를 의미하는 `r2`입니다.\n",
        "\n",
        "- `cv`: 교차 검증 폴드 수나 스플리터 객체를 지정하는 매개변수입니다. 기본값은 `5`입니다. 자세한 설명은 아래에서 이어가겠습니다.\n",
        "\n",
        "- `n_jobs`: 교차 검증을 수행할 때 사용할 CPU 코어 수를 지정하는 매개변수입니다. 기본값은 `1`이며, `-1`로 지정하면 모든 시스템 코어를 사용합니다.\n",
        "\n",
        "- `return_train_score`: 훈련 세트의 점수도 반환할지 정하는 매개변수입니다. 기본값은 `False`이며, `True`로 지정하면 훈련 세트 점수도 반환합니다.\n",
        "\n",
        "랜덤 서치에는 매개변수 값의 목록을 전달하지 않고 매개변수를 샘플링 할 수 있는 확률 분포 객체를 전달합니다. 이 객체를 만들려면 **싸이파이(Scipy)**라는 수치 계산 전용 라이브러리가 가진 확률 분포 클래스를 사용해야 합니다.\n",
        "\n",
        "예시를 들고자 주어진 범위에서 고르게 값을 뽑는 확률 분포 클래스 2개를 호출하겠습니다."
      ],
      "metadata": {
        "id": "k2A_CrHprq_F"
      }
    },
    {
      "cell_type": "code",
      "metadata": {
        "id": "g3JiSgfq_Nh_"
      },
      "source": [
        "from scipy.stats import randint, uniform"
      ],
      "execution_count": 43,
      "outputs": []
    },
    {
      "cell_type": "markdown",
      "source": [
        "`randint` 클래스와 `uniform` 클래스는 주어진 범위에서 고르게 값을 뽑는(균등 분포에서 샘플링하는) 클래스입니다. 난수 발생기와 유사합니다. `randint`는 정수값을 뽑고, `uniform` 클래스는 실수값을 뽑습니다. 랜덤 서치에 사용할 때 샘플링 횟수는 시스템 자원이 허락하는 범위 내에서 최대한 크게 하는 것이 좋습니다.\n",
        "\n",
        "먼저 `randint` 클래스를 호출해보겠습니다. 클래스 생성기로 인스턴스를 생성하고, 생성한 인스턴스로 `rvs()` 메서드를 호출하겠습니다. `rvs()` 메서드는 랜덤 표본 생성(random variable sampling) 횟수를 지정하는 메서드입니다."
      ],
      "metadata": {
        "id": "6IRHx-wBwotc"
      }
    },
    {
      "cell_type": "code",
      "source": [
        "rgen = randint(0, 10)\n",
        "print(rgen.rvs(10))"
      ],
      "metadata": {
        "colab": {
          "base_uri": "https://localhost:8080/"
        },
        "id": "Q67Tubyzwm5k",
        "outputId": "f6d09220-e4e5-4cf2-d505-672a1d705815"
      },
      "execution_count": 47,
      "outputs": [
        {
          "output_type": "stream",
          "name": "stdout",
          "text": [
            "[1 4 4 1 8 2 1 7 1 9]\n"
          ]
        }
      ]
    },
    {
      "cell_type": "markdown",
      "source": [
        "0~9 범위의 정수를 10개만큼 랜덤으로 샘플링했습니다.\n",
        "\n",
        "정수를 1000개만큼 랜덤으로 샘플링하고 각 정수의 개수를 세겠습니다. 넘파이의 `unique()` 메서드가 가진 `return_counts` 매개변수를 `True`로 지정하면 개수도 출력합니다."
      ],
      "metadata": {
        "id": "mQW7LaLhtmQc"
      }
    },
    {
      "cell_type": "code",
      "metadata": {
        "colab": {
          "base_uri": "https://localhost:8080/"
        },
        "id": "Wa0k6XoDJHkp",
        "outputId": "42ba4522-2340-4595-d2a9-b37a390b2963"
      },
      "source": [
        "np.unique(rgen.rvs(1000), return_counts=True)"
      ],
      "execution_count": 50,
      "outputs": [
        {
          "output_type": "execute_result",
          "data": {
            "text/plain": [
              "(array([0, 1, 2, 3, 4, 5, 6, 7, 8, 9]),\n",
              " array([107,  91,  90,  96, 106,  91, 101,  93, 114, 111]))"
            ]
          },
          "metadata": {},
          "execution_count": 50
        }
      ]
    },
    {
      "cell_type": "markdown",
      "source": [
        "두 배열은 같은 인덱스에 대응하여 각각 정수와 개수를 나타냅니다.\n",
        "\n",
        "이번에는 `uniform` 클래스를 호출하겠습니다."
      ],
      "metadata": {
        "id": "xXSBhvdXzPQS"
      }
    },
    {
      "cell_type": "code",
      "source": [
        "ugen = uniform(0, 1)\n",
        "print(ugen.rvs(10))"
      ],
      "metadata": {
        "colab": {
          "base_uri": "https://localhost:8080/"
        },
        "id": "s0G6uqBUzlig",
        "outputId": "b3e42d28-2fd3-4f7a-c248-4c05849ff599"
      },
      "execution_count": 51,
      "outputs": [
        {
          "output_type": "stream",
          "name": "stdout",
          "text": [
            "[0.32075534 0.75082697 0.25328334 0.02869636 0.89800716 0.21841607\n",
            " 0.92427481 0.83603033 0.61224837 0.89789375]\n"
          ]
        }
      ]
    },
    {
      "cell_type": "code",
      "source": [
        "np.unique(ugen.rvs(10), return_counts=True)"
      ],
      "metadata": {
        "colab": {
          "base_uri": "https://localhost:8080/"
        },
        "id": "ToyA-0Pfz_Z1",
        "outputId": "3af830d1-f984-4cd3-93a5-cd90cad9d044"
      },
      "execution_count": 53,
      "outputs": [
        {
          "output_type": "execute_result",
          "data": {
            "text/plain": [
              "(array([0.06739276, 0.14129709, 0.22440564, 0.25096548, 0.34052595,\n",
              "        0.34367711, 0.53395619, 0.54055495, 0.75406934, 0.77824267]),\n",
              " array([1, 1, 1, 1, 1, 1, 1, 1, 1, 1]))"
            ]
          },
          "metadata": {},
          "execution_count": 53
        }
      ]
    },
    {
      "cell_type": "markdown",
      "source": [
        "실수는 여러 값이 샘플링되므로 개수도 1개씩입니다."
      ],
      "metadata": {
        "id": "mDH2hJ2Y0EQ7"
      }
    },
    {
      "cell_type": "markdown",
      "metadata": {
        "id": "1bkmD4ah5MGG"
      },
      "source": [
        "#### **탐색할 매개변수의 딕셔너리 만들기**"
      ]
    },
    {
      "cell_type": "markdown",
      "source": [
        "탐색할 매개변수 값의 범위를 `randint` 클래스와 `uniform` 클래스를 사용하여 딕셔너리로 만들겠습니다. 매개변수 값의 범위는 임의로 지정하겠습니다. 아울러 `min_samples_leaf` 매개변수를 탐색 대상에 추가하겠습니다. `min_samples_leaf` 매개변수는 리프 노드가 되기 위한 최소 샘플의 개수를 지정하는 매개변수입니다. 어떤 노드가 분할하여 만들어질 자식 노드의 샘플 수가 이 값보다 작을 경우 분할하지 않습니다. "
      ],
      "metadata": {
        "id": "EtJ5vfre1biq"
      }
    },
    {
      "cell_type": "code",
      "metadata": {
        "id": "jSpD8sGA4_rr"
      },
      "source": [
        "params = {'min_impurity_decrease' : uniform(0.0001, 0.001),\n",
        "          'max_depth' : randint(20, 50),\n",
        "          'min_samples_split' : randint(2, 25),\n",
        "          'min_samples_leaf' : randint(1, 25)\n",
        "        }"
      ],
      "execution_count": 54,
      "outputs": []
    },
    {
      "cell_type": "markdown",
      "metadata": {
        "id": "v-oQx0VHEtCR"
      },
      "source": [
        "#### **샘플링 횟수 지정하기**"
      ]
    },
    {
      "cell_type": "markdown",
      "source": [
        "샘플링 횟수를 지정하겠습니다. 샘플링 횟수는 `RandomizedSearchCV` 클래스의 `n_iter` 매개변수에 지정합니다. 기본값은 `10`입니다."
      ],
      "metadata": {
        "id": "6bAhNJ9p2KZs"
      }
    },
    {
      "cell_type": "code",
      "metadata": {
        "id": "se1mmKxBDSEC"
      },
      "source": [
        "from sklearn.model_selection import RandomizedSearchCV\n",
        "\n",
        "gs = RandomizedSearchCV(DecisionTreeClassifier(random_state=42), params,\n",
        "                        n_iter=100, n_jobs=-1, random_state=42)"
      ],
      "execution_count": 57,
      "outputs": []
    },
    {
      "cell_type": "markdown",
      "metadata": {
        "id": "3JsyxaNKq1zl"
      },
      "source": [
        "#### **랜덤 서치로 훈련하기**"
      ]
    },
    {
      "cell_type": "markdown",
      "source": [
        "`RandomizedSearchCV` 클래스로 훈련하고, 최상의 매개변수 조합과 교차 검증 점수를 확인하겠습니다. "
      ],
      "metadata": {
        "id": "91rM7Vss3En1"
      }
    },
    {
      "cell_type": "code",
      "metadata": {
        "colab": {
          "base_uri": "https://localhost:8080/"
        },
        "id": "FjTo81w9Kfml",
        "outputId": "3289f5e7-cf8b-412f-cffa-a38efd7e8048"
      },
      "source": [
        "gs.fit(train_input, train_target)\n",
        "\n",
        "print(gs.best_params_)\n",
        "print(np.max(gs.cv_results_['mean_test_score']))"
      ],
      "execution_count": 58,
      "outputs": [
        {
          "output_type": "stream",
          "name": "stdout",
          "text": [
            "{'max_depth': 39, 'min_impurity_decrease': 0.00034102546602601173, 'min_samples_leaf': 7, 'min_samples_split': 13}\n",
            "0.8695428296438884\n"
          ]
        }
      ]
    },
    {
      "cell_type": "markdown",
      "source": [
        "최적의 모델을 확인하고 테스트 세트의 점수를 확인하겠습니다."
      ],
      "metadata": {
        "id": "vfZuClV_35RU"
      }
    },
    {
      "cell_type": "code",
      "source": [
        "dt = gs.best_estimator_\n",
        "print(dt)\n",
        "print(dt.score(test_input, test_target))"
      ],
      "metadata": {
        "colab": {
          "base_uri": "https://localhost:8080/"
        },
        "id": "eYSuv2LN323K",
        "outputId": "4bb9f738-4410-44cb-f41d-bf6cde1102c4"
      },
      "execution_count": 59,
      "outputs": [
        {
          "output_type": "stream",
          "name": "stdout",
          "text": [
            "DecisionTreeClassifier(max_depth=39,\n",
            "                       min_impurity_decrease=0.00034102546602601173,\n",
            "                       min_samples_leaf=7, min_samples_split=13,\n",
            "                       random_state=42)\n",
            "0.86\n"
          ]
        }
      ]
    },
    {
      "cell_type": "markdown",
      "source": [
        "테스트 세트에 대한 점수는 검증 세트에 대한 점수보다 일반적으로 조금 작습니다."
      ],
      "metadata": {
        "id": "lGyDXJ4B4Hyo"
      }
    },
    {
      "cell_type": "markdown",
      "metadata": {
        "id": "n75l45PCzluw"
      },
      "source": [
        "## **마무리**"
      ]
    },
    {
      "cell_type": "markdown",
      "source": [
        "`RandomizedSearchCV` 클래스를 사용할 때 `DecisionTreeClassifier` 클래스에 `splitter = random` 매개변수를 추가하고 다시 훈련해보겠습니다. `splitter` 매개변수의 기본값은 `best` 로 각 노드에서 최선의 분할을 찾습니다. `random`이면 무작위로 분할한 후 가장 좋은 것을 고릅니다. 다음 절에서 자세한 설명을 이어가겠습니다."
      ],
      "metadata": {
        "id": "nd7Gx4jf4aDl"
      }
    },
    {
      "cell_type": "code",
      "metadata": {
        "id": "CDFCsRZDzkig",
        "colab": {
          "base_uri": "https://localhost:8080/"
        },
        "outputId": "f4c191e6-266a-45b0-b120-088219149b7a"
      },
      "source": [
        "gs1 = RandomizedSearchCV(DecisionTreeClassifier(splitter='random', random_state=42),\n",
        "                         params, n_iter=100, n_jobs=-1, random_state=42)\n",
        "gs1.fit(train_input, train_target)\n",
        "\n",
        "print(gs1.best_params_)\n",
        "print(np.max(gs1.cv_results_['mean_test_score']))\n",
        "\n",
        "dt = gs1.best_estimator_\n",
        "print(dt.score(test_input, test_target))"
      ],
      "execution_count": 63,
      "outputs": [
        {
          "output_type": "stream",
          "name": "stdout",
          "text": [
            "{'max_depth': 43, 'min_impurity_decrease': 0.00011407982271508446, 'min_samples_leaf': 19, 'min_samples_split': 18}\n",
            "0.8458726956392981\n",
            "0.786923076923077\n"
          ]
        }
      ]
    },
    {
      "cell_type": "markdown",
      "source": [
        "검증 세트와 테스트 세트에서 성능이 둘 다 하락하여 과소적합이 되었습니다. 결정 트리 노드를 무작위로 분할했기 때문에 최적의 매개변수 조합을 찾지 못했습니다. 다만 샘플링 횟수를 늘리면 점수를 향상시킬 수 있습니다."
      ],
      "metadata": {
        "id": "bbGgZass4xx4"
      }
    },
    {
      "cell_type": "code",
      "source": [
        "gs1 = RandomizedSearchCV(DecisionTreeClassifier(splitter='random', random_state=42),\n",
        "                         params, n_iter=1000, n_jobs=-1, random_state=42)\n",
        "gs1.fit(train_input, train_target)\n",
        "\n",
        "print(gs1.best_params_)\n",
        "print(np.max(gs1.cv_results_['mean_test_score']))\n",
        "\n",
        "dt = gs1.best_estimator_\n",
        "print(dt.score(test_input, test_target))"
      ],
      "metadata": {
        "colab": {
          "base_uri": "https://localhost:8080/"
        },
        "id": "p1oyjqwf56ah",
        "outputId": "ea7b5b5d-4827-4161-ca8a-2b744b742ad1"
      },
      "execution_count": 64,
      "outputs": [
        {
          "output_type": "stream",
          "name": "stdout",
          "text": [
            "{'max_depth': 46, 'min_impurity_decrease': 0.0001001883995565819, 'min_samples_leaf': 2, 'min_samples_split': 15}\n",
            "0.8562636040571556\n",
            "0.8415384615384616\n"
          ]
        }
      ]
    },
    {
      "cell_type": "markdown",
      "source": [
        "점수가 향상됐습니다."
      ],
      "metadata": {
        "id": "u-hqh2qD6Dnw"
      }
    }
  ]
}
