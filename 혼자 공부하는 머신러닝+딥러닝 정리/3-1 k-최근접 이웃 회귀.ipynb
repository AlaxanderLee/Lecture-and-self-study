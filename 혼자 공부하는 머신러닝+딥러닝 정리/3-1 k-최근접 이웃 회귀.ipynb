{
  "nbformat": 4,
  "nbformat_minor": 0,
  "metadata": {
    "colab": {
      "name": "3-1 k-최근접 이웃 회귀.ipynb",
      "provenance": [],
      "collapsed_sections": [],
      "toc_visible": true,
      "authorship_tag": "ABX9TyMAyeR1f/vKyYYsDT2cIFuM",
      "include_colab_link": true
    },
    "kernelspec": {
      "name": "python3",
      "display_name": "Python 3"
    },
    "language_info": {
      "name": "python"
    }
  },
  "cells": [
    {
      "cell_type": "markdown",
      "metadata": {
        "id": "view-in-github",
        "colab_type": "text"
      },
      "source": [
        "<a href=\"https://colab.research.google.com/github/LeeSeungwon89/Machine-learning_Theory/blob/master/3-1%20k-%EC%B5%9C%EA%B7%BC%EC%A0%91%20%EC%9D%B4%EC%9B%83%20%ED%9A%8C%EA%B7%80.ipynb\" target=\"_parent\"><img src=\"https://colab.research.google.com/assets/colab-badge.svg\" alt=\"Open In Colab\"/></a>"
      ]
    },
    {
      "cell_type": "markdown",
      "source": [
        "# **3-1 k-최근접 이웃 회귀**"
      ],
      "metadata": {
        "id": "RV5fQv8IUkz9"
      }
    },
    {
      "cell_type": "markdown",
      "source": [
        "지도 학습 알고리즘은 분류(classification)와 회귀(regression)로 나뉩니다. 회귀는 임의의 숫자를 예측하는 문제입니다."
      ],
      "metadata": {
        "id": "IUKIvAHQVJJG"
      }
    },
    {
      "cell_type": "markdown",
      "metadata": {
        "id": "EvCuK1CNeM2V"
      },
      "source": [
        "## **데이터 준비**"
      ]
    },
    {
      "cell_type": "code",
      "metadata": {
        "id": "D6_z2NLJeWzF"
      },
      "source": [
        "import numpy as np"
      ],
      "execution_count": null,
      "outputs": []
    },
    {
      "cell_type": "code",
      "metadata": {
        "id": "YA79EusWd48O"
      },
      "source": [
        "# 'perch'는 '농어'입니다.\n",
        "perch_length = np.array(\n",
        "    [8.4, 13.7, 15.0, 16.2, 17.4, 18.0, 18.7, 19.0, 19.6, 20.0, \n",
        "     21.0, 21.0, 21.0, 21.3, 22.0, 22.0, 22.0, 22.0, 22.0, 22.5, \n",
        "     22.5, 22.7, 23.0, 23.5, 24.0, 24.0, 24.6, 25.0, 25.6, 26.5, \n",
        "     27.3, 27.5, 27.5, 27.5, 28.0, 28.7, 30.0, 32.8, 34.5, 35.0, \n",
        "     36.5, 36.0, 37.0, 37.0, 39.0, 39.0, 39.0, 40.0, 40.0, 40.0, \n",
        "     40.0, 42.0, 43.0, 43.0, 43.5, 44.0]\n",
        "     )\n",
        "perch_weight = np.array(\n",
        "    [5.9, 32.0, 40.0, 51.5, 70.0, 100.0, 78.0, 80.0, 85.0, 85.0, \n",
        "     110.0, 115.0, 125.0, 130.0, 120.0, 120.0, 130.0, 135.0, 110.0, \n",
        "     130.0, 150.0, 145.0, 150.0, 170.0, 225.0, 145.0, 188.0, 180.0, \n",
        "     197.0, 218.0, 300.0, 260.0, 265.0, 250.0, 250.0, 300.0, 320.0, \n",
        "     514.0, 556.0, 840.0, 685.0, 700.0, 700.0, 690.0, 900.0, 650.0, \n",
        "     820.0, 850.0, 900.0, 1015.0, 820.0, 1100.0, 1000.0, 1100.0, \n",
        "     1000.0, 1000.0]\n",
        "     )"
      ],
      "execution_count": null,
      "outputs": []
    },
    {
      "cell_type": "markdown",
      "source": [
        "농어 데이터를 산점도에 그리겠습니다."
      ],
      "metadata": {
        "id": "RuGorPESVGcU"
      }
    },
    {
      "cell_type": "code",
      "metadata": {
        "colab": {
          "base_uri": "https://localhost:8080/",
          "height": 279
        },
        "id": "8wKxrzVlee_2",
        "outputId": "dca50f5e-192b-4b2c-d8c9-88ace5454eb3"
      },
      "source": [
        "import matplotlib.pyplot as plt\n",
        "\n",
        "plt.scatter(perch_length, perch_weight)\n",
        "plt.xlabel('length')\n",
        "plt.ylabel('weight')\n",
        "plt.show()"
      ],
      "execution_count": null,
      "outputs": [
        {
          "output_type": "display_data",
          "data": {
            "image/png": "[encoded data removed]",
            "text/plain": [
              "<Figure size 432x288 with 1 Axes>"
            ]
          },
          "metadata": {
            "needs_background": "light"
          }
        }
      ]
    },
    {
      "cell_type": "markdown",
      "source": [
        "훈련 세트와 테스트 세트로 나누겠습니다. 회귀는 분류와 달리 x축을 input 데이터로 삼고, y축을 target 데이터로 삼습니다."
      ],
      "metadata": {
        "id": "splNypjeVm4G"
      }
    },
    {
      "cell_type": "code",
      "metadata": {
        "id": "7NHpvBywgrtl",
        "colab": {
          "base_uri": "https://localhost:8080/"
        },
        "outputId": "56e3f6b2-a739-46d0-ab34-3e244fa52165"
      },
      "source": [
        "from sklearn.model_selection import train_test_split\n",
        "\n",
        "train_input, test_input, train_target, test_target = train_test_split(perch_length, perch_weight, random_state=42)\n",
        "print(f'train_input:\\n{train_input}')\n",
        "print()\n",
        "print(f'train_target:\\n{train_target}')\n",
        "print()\n",
        "print(f'test_input:\\n{test_input}')\n",
        "print()\n",
        "print(f'test_target:\\n{test_target}')"
      ],
      "execution_count": null,
      "outputs": [
        {
          "output_type": "stream",
          "name": "stdout",
          "text": [
            "train_input:\n",
            "[19.6 22.  18.7 17.4 36.  25.  40.  39.  43.  22.  20.  22.  24.  27.5\n",
            " 43.  40.  24.  21.  27.5 40.  32.8 26.5 36.5 13.7 22.7 15.  37.  35.\n",
            " 28.7 23.5 39.  21.  23.  22.  44.  22.5 19.  37.  22.  25.6 42.  34.5]\n",
            "\n",
            "train_target:\n",
            "[  85.  135.   78.   70.  700.  180.  850.  820. 1000.  120.   85.  130.\n",
            "  225.  260. 1100.  900.  145.  115.  265. 1015.  514.  218.  685.   32.\n",
            "  145.   40.  690.  840.  300.  170.  650.  110.  150.  110. 1000.  150.\n",
            "   80.  700.  120.  197. 1100.  556.]\n",
            "\n",
            "test_input:\n",
            "[ 8.4 18.  27.5 21.3 22.5 40.  30.  24.6 39.  21.  43.5 16.2 28.  27.3]\n",
            "\n",
            "test_target:\n",
            "[   5.9  100.   250.   130.   130.   820.   320.   188.   900.   125.\n",
            " 1000.    51.5  250.   300. ]\n"
          ]
        }
      ]
    },
    {
      "cell_type": "markdown",
      "source": [
        "사이킷런에 사용할 훈련 세트와 테스트 세트는 언제나 2차원 배열이어야 합니다. 2차원 배열로 바꾸려면 `reshape()` 메서드를 사용합니다."
      ],
      "metadata": {
        "id": "8VeP_Cs2YdPV"
      }
    },
    {
      "cell_type": "code",
      "metadata": {
        "colab": {
          "base_uri": "https://localhost:8080/"
        },
        "id": "HHOfBwqtnySB",
        "outputId": "99a6399a-1c68-49d6-ec9c-5f310f339b49"
      },
      "source": [
        "train_input = train_input.reshape(-1, 1)    # `np.reshape(train_input, (-1, 1))`과 같습니다.\n",
        "test_input = test_input.reshape(-1, 1)\n",
        "print(train_input[:5], train_input.shape)\n",
        "print()\n",
        "print(test_input[:5], test_input.shape)"
      ],
      "execution_count": null,
      "outputs": [
        {
          "output_type": "stream",
          "name": "stdout",
          "text": [
            "[[19.6]\n",
            " [22. ]\n",
            " [18.7]\n",
            " [17.4]\n",
            " [36. ]] (42, 1)\n",
            "\n",
            "[[ 8.4]\n",
            " [18. ]\n",
            " [27.5]\n",
            " [21.3]\n",
            " [22.5]] (14, 1)\n"
          ]
        }
      ]
    },
    {
      "cell_type": "markdown",
      "metadata": {
        "id": "NtmNJ7OqrKy_"
      },
      "source": [
        "## **결정계수($R^2$)**"
      ]
    },
    {
      "cell_type": "markdown",
      "source": [
        "k-최근접 이웃 회귀 알고리즘을 구현한 클래스는 `KNeighborsRegressor`입니다. 사용법은 `KNeighborsClassifier` 클래스와 비슷합니다."
      ],
      "metadata": {
        "id": "hODFaGBQSTfo"
      }
    },
    {
      "cell_type": "code",
      "metadata": {
        "colab": {
          "base_uri": "https://localhost:8080/"
        },
        "id": "erXBQE6zpF-o",
        "outputId": "0a66a983-02c5-40fd-cae0-65beeb13df89"
      },
      "source": [
        "from sklearn.neighbors import KNeighborsRegressor \n",
        "\n",
        "knr = KNeighborsRegressor()\n",
        "knr.fit(train_input, train_target)"
      ],
      "execution_count": null,
      "outputs": [
        {
          "output_type": "execute_result",
          "data": {
            "text/plain": [
              "KNeighborsRegressor()"
            ]
          },
          "metadata": {},
          "execution_count": 7
        }
      ]
    },
    {
      "cell_type": "markdown",
      "source": [
        "테스트 세트로 모델을 평가하겠습니다."
      ],
      "metadata": {
        "id": "S3BIMA-3CUQC"
      }
    },
    {
      "cell_type": "code",
      "source": [
        "print(knr.score(test_input, test_target))"
      ],
      "metadata": {
        "colab": {
          "base_uri": "https://localhost:8080/"
        },
        "id": "EdwD8JH5BvFY",
        "outputId": "b0481c0b-83a2-441e-9f86-6ddc1ca918b0"
      },
      "execution_count": null,
      "outputs": [
        {
          "output_type": "stream",
          "name": "stdout",
          "text": [
            "0.992809406101064\n"
          ]
        }
      ]
    },
    {
      "cell_type": "markdown",
      "source": [
        "1에 근접한 결괏값입니다. 타깃에 가까울수록 1에 가깝고, 평균 정도를 예측한다면 0에 가깝습니다. 회귀에서는 이 값을 **결정계수(coefficient of determination)**라고 부릅니다. 기실 정확한 수치를 맞힌다는 것은 거의 불가능하지만 결정계수를 통해 얼마큼 근접한 수치를 맞히는지 짐작할 수 있습니다. 결정계수를 구하는 공식은 아래와 같습니다.\n",
        "\n",
        "$R^2 = 1 - \\frac{(타깃 - 예측)^2의 합}{(타깃 - 평균)^2의 합}$ "
      ],
      "metadata": {
        "id": "hS4Tg77mB7Lk"
      }
    },
    {
      "cell_type": "markdown",
      "metadata": {
        "id": "hmyMTydGJCYE"
      },
      "source": [
        "## **예측값과 타깃값 오차**"
      ]
    },
    {
      "cell_type": "markdown",
      "source": [
        "예측값과 타깃값의 오차를 확인하려면 `sklearn.metrics` 패키지의 `mean_absolute_error()` 메서드를 사용합니다. 타깃값에서 예측값을 뺀 절댓값을 평균한 값을 도출합니다."
      ],
      "metadata": {
        "id": "zhOK5UOqSdPE"
      }
    },
    {
      "cell_type": "code",
      "metadata": {
        "colab": {
          "base_uri": "https://localhost:8080/"
        },
        "id": "u6UwIf3wGSqp",
        "outputId": "659c9902-999d-4923-d179-cba091873c50"
      },
      "source": [
        "from sklearn.metrics import mean_absolute_error\n",
        "\n",
        " # 테스트 세트에 대한 예측값을 만듭니다.\n",
        "test_prediction = knr.predict(test_input)\n",
        "print(test_prediction)\n",
        "print()\n",
        "\n",
        "mae = mean_absolute_error(test_target, test_prediction)\n",
        "print(f'예측값과 타깃값의 오차 평균: {mae}')"
      ],
      "execution_count": null,
      "outputs": [
        {
          "output_type": "stream",
          "name": "stdout",
          "text": [
            "[  60.    79.6  248.   122.   136.   847.   311.4  183.4  847.   113.\n",
            " 1010.    60.   248.   248. ]\n",
            "\n",
            "예측값과 타깃값의 오차 평균: 19.157142857142862\n"
          ]
        }
      ]
    },
    {
      "cell_type": "markdown",
      "metadata": {
        "id": "h4D3wqhBaLhJ"
      },
      "source": [
        "## **과대적합과 과소적합**"
      ]
    },
    {
      "cell_type": "markdown",
      "source": [
        "훈련 세트의 결정계수를 확인하겠습니다."
      ],
      "metadata": {
        "id": "juGANxDQJ2XF"
      }
    },
    {
      "cell_type": "code",
      "source": [
        "print(knr.score(train_input, train_target))"
      ],
      "metadata": {
        "colab": {
          "base_uri": "https://localhost:8080/"
        },
        "id": "diZEBFuNJ6iq",
        "outputId": "ff35053d-8a9e-4163-da6a-c77010cad562"
      },
      "execution_count": null,
      "outputs": [
        {
          "output_type": "stream",
          "name": "stdout",
          "text": [
            "0.9698823289099254\n"
          ]
        }
      ]
    },
    {
      "cell_type": "markdown",
      "source": [
        "보통 모델을 훈련 세트에 훈련하면 훈련 세트에 적합한 모델이 생성됩니다. 훈련 세트의 점수가 테스트 세트의 점수보다 높게 나오는 것입니다. 그러나 이 모델은 테스트 세트의 결정계수인 0.992809406101064보다 작습니다. 두 결정계수간 균형을 잡는 일은 매우 중요합니다. 아래 두 개념을 주목하시기 바랍니다.\n",
        "\n",
        "- **과대적합(overfitting)**: 훈련 세트에만 잘 맞습니다. 데이터에 내재된 거시적인 패턴을 감지하지 못합니다. 아래 경우에 속하면 과대적합입니다. \n",
        "\n",
        " - 훈련 세트 점수 > 테스트 세트 점수\n",
        "\n",
        "- **과소적합(underfitting)**: 테스트 세트에만 잘 맞습니다. 원인은 두 가지입니다. 데이터가 적거나, 모델이 단순해서 훈련 세트에 적절하게 훈련되지 않은 경우입니다. 아래 둘 중 한 가지 케이스에 속하면 과소적합입니다.\n",
        "\n",
        " - 훈련 세트 점수 < 테스트 세트 점수\n",
        " \n",
        " - 훈련 세트 점수와 테스트 세트 점수 모두 낮은 점수\n",
        "\n",
        "현재 모델은 훈련 세트 점수보다 테스트 세트 점수가 높으므로 과소적합 되었습니다."
      ],
      "metadata": {
        "id": "XtLCq9MuJ_8E"
      }
    },
    {
      "cell_type": "markdown",
      "metadata": {
        "id": "fNEK_ks8lO2E"
      },
      "source": [
        "## **과소적합 해결하기**"
      ]
    },
    {
      "cell_type": "markdown",
      "source": [
        "과소적합을 해결하려면 모델을 좀 더 복잡하게 생성하는 방법을 고려해 볼 수 있습니다. 훈련 세트에 더 적합하게 모델을 생성하면 테스트 세트의 점수는 낮아집니다. 이를 실현할 방안은 이웃 개수 k를 현재보다 줄이는 것입니다. 이웃 개수 k를 늘리면 데이터 전반에 있는 일반적인 패턴에 따르고, 이웃 개수 k를 줄이면 훈련 세트에 있는 국지적인 패턴에 민감해집니다.\n",
        "\n",
        " 이웃의 개수를 기본값 5에서 3으로 줄이겠습니다."
      ],
      "metadata": {
        "id": "Nfam3UFYNE-J"
      }
    },
    {
      "cell_type": "code",
      "metadata": {
        "colab": {
          "base_uri": "https://localhost:8080/"
        },
        "id": "hunF0IIplLUE",
        "outputId": "a1901ed6-8e78-40d9-aae8-125bf33509d6"
      },
      "source": [
        "knr.n_neighbors = 3\n",
        "\n",
        "knr.fit(train_input, train_target)\n",
        "\n",
        "print(knr.score(train_input, train_target))\n",
        "print(knr.score(test_input, test_target))"
      ],
      "execution_count": null,
      "outputs": [
        {
          "output_type": "stream",
          "text": [
            "0.9804899950518966\n",
            "0.974645996398761\n"
          ],
          "name": "stdout"
        }
      ]
    },
    {
      "cell_type": "markdown",
      "source": [
        "점수 차이가 크지 않습니다. 기본적으로 훈련 세트의 점수가 테스트 세트 점수보다 약간 높은 정도가 가장 이상적입니다. 차이가 최대한 적을수록 좋은 모델입니다."
      ],
      "metadata": {
        "id": "x_H7W7EwPGBn"
      }
    },
    {
      "cell_type": "markdown",
      "metadata": {
        "id": "YucNnDp2aP3e"
      },
      "source": [
        "## **마무리**"
      ]
    },
    {
      "cell_type": "markdown",
      "metadata": {
        "id": "K3CKQ1Tkrmvx"
      },
      "source": [
        "### **핵심 패키지와 함수**"
      ]
    },
    {
      "cell_type": "markdown",
      "source": [
        "- `mean_squared_error()`: 평균 제곱 오차를 구하는 메서드입니다. 타깃값에서 예측값을 뺀 값을 제곱하여 평균한 값을 도출합니다. 평균 절댓값 오차를 구하는 `mean_absolute_error()` 메서드와 비슷합니다."
      ],
      "metadata": {
        "id": "L7DaKZfUSlon"
      }
    },
    {
      "cell_type": "markdown",
      "metadata": {
        "id": "2rOhJzA2rtZN"
      },
      "source": [
        "* 확인문제\n",
        "\n",
        "k-최근접 이웃 회귀 모델의 k값을 1, 3, 5, 7, 10으로 바꿔가며 훈련하고, 농어의 길이를 5에서 45까지 바꿔가며 예측을 만들어 그래프로 나타내세요."
      ]
    },
    {
      "cell_type": "code",
      "metadata": {
        "id": "gkz4PcpVaUIz",
        "colab": {
          "base_uri": "https://localhost:8080/",
          "height": 1000
        },
        "outputId": "bf352f82-920d-4655-8168-012d158a03ef"
      },
      "source": [
        "knr = KNeighborsRegressor()\n",
        "\n",
        "# 5에서 45까지 농어의 길이인 x좌표를 만듭니다.\n",
        "x = np.arange(5, 46).reshape(-1, 1)\n",
        "\n",
        "# `n = 1, 5, 10`일 때 예측 결과를 그래프로 그립니다.\n",
        "n_list = [1, 3, 5, 7, 10]\n",
        "\n",
        "for n in n_list:\n",
        "    knr.n_neighbors = n\n",
        "    knr.fit(train_input, train_target)\n",
        "    prediction = knr.predict(x)    # x에 대한 예측을 구합니다.\n",
        "    print(f'*예측값:\\n{prediction}')\n",
        "    print(f'*훈련 세트 점수: {knr.score(train_input, train_target)}')\n",
        "    print(f'*테스트 세트 점수: {knr.score(test_input, test_target)}')\n",
        "\n",
        "    plt.scatter(train_input, train_target)\n",
        "    plt.plot(x, prediction)\n",
        "    plt.title(f'n_neighbors = {n}')\n",
        "    plt.xlabel('length')\n",
        "    plt.ylabel('weight')\n",
        "\n",
        "    plt.show()\n",
        "    print('--------------------------------------------------------------')"
      ],
      "execution_count": 33,
      "outputs": [
        {
          "output_type": "stream",
          "name": "stdout",
          "text": [
            "*예측값:\n",
            "[  32.   32.   32.   32.   32.   32.   32.   32.   32.   32.   40.   40.\n",
            "   70.   70.   80.   85.  115.  135.  150.  225.  180.  197.  260.  260.\n",
            "  300.  300.  514.  514.  514.  556.  840.  700.  690.  820.  820.  850.\n",
            "  850. 1100. 1000. 1000. 1000.]\n",
            "*훈련 세트 점수: 0.9852830341215901\n",
            "*테스트 세트 점수: 0.991309195814175\n"
          ]
        },
        {
          "output_type": "display_data",
          "data": {
            "image/png": "[encoded data removed]",
            "text/plain": [
              "<Figure size 432x288 with 1 Axes>"
            ]
          },
          "metadata": {
            "needs_background": "light"
          }
        },
        {
          "output_type": "stream",
          "name": "stdout",
          "text": [
            "--------------------------------------------------------------\n",
            "*예측값:\n",
            "[  47.33333333   47.33333333   47.33333333   47.33333333   47.33333333\n",
            "   47.33333333   47.33333333   47.33333333   47.33333333   47.33333333\n",
            "   47.33333333   47.33333333   62.66666667   76.           81.\n",
            "   95.          120.          128.33333333  155.          180.\n",
            "  200.66666667  198.33333333  247.66666667  275.          275.\n",
            "  275.          358.          636.66666667  636.66666667  636.66666667\n",
            "  698.66666667  691.66666667  691.66666667  720.          773.33333333\n",
            "  921.66666667  921.66666667 1066.66666667 1033.33333333 1033.33333333\n",
            " 1033.33333333]\n",
            "*훈련 세트 점수: 0.9804899950518966\n",
            "*테스트 세트 점수: 0.9746459963987609\n"
          ]
        },
        {
          "output_type": "display_data",
          "data": {
            "image/png": "[encoded data removed]",
            "text/plain": [
              "<Figure size 432x288 with 1 Axes>"
            ]
          },
          "metadata": {
            "needs_background": "light"
          }
        },
        {
          "output_type": "stream",
          "name": "stdout",
          "text": [
            "--------------------------------------------------------------\n",
            "*예측값:\n",
            "[  60.    60.    60.    60.    60.    60.    60.    60.    60.    60.\n",
            "   60.    60.    70.6   79.6   79.6   95.   113.   123.   168.   174.\n",
            "  193.   224.   248.   248.   248.   311.4  379.   582.   659.   659.\n",
            "  694.2  723.   719.   709.   847.   847.   993.   990.  1010.  1010.\n",
            " 1010. ]\n",
            "*훈련 세트 점수: 0.9698823289099254\n",
            "*테스트 세트 점수: 0.992809406101064\n"
          ]
        },
        {
          "output_type": "display_data",
          "data": {
            "image/png": "[encoded data removed]",
            "text/plain": [
              "<Figure size 432x288 with 1 Axes>"
            ]
          },
          "metadata": {
            "needs_background": "light"
          }
        },
        {
          "output_type": "stream",
          "name": "stdout",
          "text": [
            "--------------------------------------------------------------\n",
            "*예측값:\n",
            "[ 67.14285714  67.14285714  67.14285714  67.14285714  67.14285714\n",
            "  67.14285714  67.14285714  67.14285714  67.14285714  67.14285714\n",
            "  67.14285714  67.14285714  67.14285714  79.          89.\n",
            "  96.14285714 115.         130.         145.         166.42857143\n",
            " 183.57142857 212.85714286 223.57142857 223.57142857 276.28571429\n",
            " 330.         421.85714286 550.71428571 669.28571429 669.28571429\n",
            " 669.28571429 688.71428571 726.42857143 727.85714286 803.57142857\n",
            " 919.28571429 969.28571429 995.         995.         995.\n",
            " 995.        ]\n",
            "*훈련 세트 점수: 0.9761170732051527\n",
            "*테스트 세트 점수: 0.9781383949643516\n"
          ]
        },
        {
          "output_type": "display_data",
          "data": {
            "image/png": "[encoded data removed]",
            "text/plain": [
              "<Figure size 432x288 with 1 Axes>"
            ]
          },
          "metadata": {
            "needs_background": "light"
          }
        },
        {
          "output_type": "stream",
          "name": "stdout",
          "text": [
            "--------------------------------------------------------------\n",
            "*예측값:\n",
            "[ 81.5  81.5  81.5  81.5  81.5  81.5  81.5  81.5  81.5  81.5  81.5  81.5\n",
            "  81.5  91.3 100.8 104.8 116.  128.5 148.  161.2 195.5 211.  211.  247.4\n",
            " 247.4 347.5 453.5 551.  551.  645.5 700.5 700.5 739.1 785.  811.  882.5\n",
            " 912.5 912.5 912.5 912.5 912.5]\n",
            "*훈련 세트 점수: 0.96164569026043\n",
            "*테스트 세트 점수: 0.9737908255822255\n"
          ]
        },
        {
          "output_type": "display_data",
          "data": {
            "image/png": "[encoded data removed]",
            "text/plain": [
              "<Figure size 432x288 with 1 Axes>"
            ]
          },
          "metadata": {
            "needs_background": "light"
          }
        },
        {
          "output_type": "stream",
          "name": "stdout",
          "text": [
            "--------------------------------------------------------------\n"
          ]
        }
      ]
    }
  ]
}
