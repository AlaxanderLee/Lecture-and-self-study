{
  "nbformat": 4,
  "nbformat_minor": 0,
  "metadata": {
    "colab": {
      "name": "6-3 주성분 분석(정리 중).ipynb",
      "provenance": [],
      "collapsed_sections": [],
      "toc_visible": true,
      "authorship_tag": "ABX9TyMpVyh4lwuiW5dhKJtej98L",
      "include_colab_link": true
    },
    "kernelspec": {
      "name": "python3",
      "display_name": "Python 3"
    },
    "language_info": {
      "name": "python"
    }
  },
  "cells": [
    {
      "cell_type": "markdown",
      "metadata": {
        "id": "view-in-github",
        "colab_type": "text"
      },
      "source": [
        "<a href=\"https://colab.research.google.com/github/LeeSeungwon89/Lecture-and-self-study/blob/master/6-3%20%EC%A3%BC%EC%84%B1%EB%B6%84%20%EB%B6%84%EC%84%9D(%EC%A0%95%EB%A6%AC%20%EC%A4%91).ipynb\" target=\"_parent\"><img src=\"https://colab.research.google.com/assets/colab-badge.svg\" alt=\"Open In Colab\"/></a>"
      ]
    },
    {
      "cell_type": "markdown",
      "metadata": {
        "id": "F4FhfxKM8Ejx"
      },
      "source": [
        "# 주성분 분석"
      ]
    },
    {
      "cell_type": "markdown",
      "metadata": {
        "id": "Jy_2Fye58UUf"
      },
      "source": [
        "## 차원과 차원 축소"
      ]
    },
    {
      "cell_type": "markdown",
      "metadata": {
        "id": "xg8rPU5I8URe"
      },
      "source": [
        "## PCA 클래스"
      ]
    },
    {
      "cell_type": "markdown",
      "metadata": {
        "id": "IwGCxpqx8d3b"
      },
      "source": [
        "## 원본 데이터 재구성"
      ]
    },
    {
      "cell_type": "markdown",
      "metadata": {
        "id": "Be-w0SVu8fmT"
      },
      "source": [
        "## 설명된 분산"
      ]
    },
    {
      "cell_type": "markdown",
      "metadata": {
        "id": "CwRO32fo8hUL"
      },
      "source": [
        "## 다른 알고리즘과 함께 사용하기"
      ]
    }
  ]
}