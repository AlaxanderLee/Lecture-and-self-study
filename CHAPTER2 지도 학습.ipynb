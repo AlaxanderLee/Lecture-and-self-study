{
  "nbformat": 4,
  "nbformat_minor": 0,
  "metadata": {
    "colab": {
      "name": "CHAPTER2 지도 학습.ipynb",
      "provenance": [],
      "toc_visible": true,
      "authorship_tag": "ABX9TyN+5wyj5reirVw0CWHd8Ebu",
      "include_colab_link": true
    },
    "kernelspec": {
      "name": "python3",
      "display_name": "Python 3"
    },
    "language_info": {
      "name": "python"
    }
  },
  "cells": [
    {
      "cell_type": "markdown",
      "metadata": {
        "id": "view-in-github",
        "colab_type": "text"
      },
      "source": [
        "<a href=\"https://colab.research.google.com/github/LeeSeungwon89/Lecture-and-self-study/blob/master/CHAPTER2%20%EC%A7%80%EB%8F%84%20%ED%95%99%EC%8A%B5.ipynb\" target=\"_parent\"><img src=\"https://colab.research.google.com/assets/colab-badge.svg\" alt=\"Open In Colab\"/></a>"
      ]
    },
    {
      "cell_type": "markdown",
      "metadata": {
        "id": "stVUJCxvVCwG"
      },
      "source": [
        "# 2.1 분류와 회귀"
      ]
    },
    {
      "cell_type": "markdown",
      "metadata": {
        "id": "b02JIwdUVCtV"
      },
      "source": [
        "# 2.2 일반화, 과대적합, 과소적합"
      ]
    },
    {
      "cell_type": "markdown",
      "metadata": {
        "id": "DAF_x_ncVCq1"
      },
      "source": [
        "## 2.2.1 모델 복잡도와 데이터셋 크기의 관계"
      ]
    },
    {
      "cell_type": "markdown",
      "metadata": {
        "id": "Y0GJjejYVCod"
      },
      "source": [
        "# 2.3 지도 학습 알고리즘"
      ]
    },
    {
      "cell_type": "markdown",
      "metadata": {
        "id": "G9O8TNvIVCl1"
      },
      "source": [
        "## 2.3.1 예제에 사용할 데이터셋"
      ]
    },
    {
      "cell_type": "markdown",
      "metadata": {
        "id": "6fEWYEvtVCjd"
      },
      "source": [
        "## 2.3.2 k-최근접 이웃"
      ]
    },
    {
      "cell_type": "markdown",
      "metadata": {
        "id": "YKR8Kh0bVCg1"
      },
      "source": [
        "## 2.3.3 선형 모델"
      ]
    },
    {
      "cell_type": "markdown",
      "metadata": {
        "id": "72nDssihVCef"
      },
      "source": [
        "## 2.3.4 나이브 베이즈 분류기"
      ]
    },
    {
      "cell_type": "markdown",
      "metadata": {
        "id": "Tl4ccTLQVCb8"
      },
      "source": [
        "## 2.3.5 결정 트리"
      ]
    },
    {
      "cell_type": "markdown",
      "metadata": {
        "id": "NB3pu9cFVCZd"
      },
      "source": [
        "## 2.3.6 결정 트리의 앙상블"
      ]
    },
    {
      "cell_type": "markdown",
      "metadata": {
        "id": "yzLGCinVVCW3"
      },
      "source": [
        "## 2.3.7 배깅, 엑스트라 트리, 에이다부스트"
      ]
    },
    {
      "cell_type": "markdown",
      "metadata": {
        "id": "gYsIzmhrVCUF"
      },
      "source": [
        "## 2.3.8 커널 서포트 벡터 머신"
      ]
    },
    {
      "cell_type": "markdown",
      "metadata": {
        "id": "ruFuOPTOVw9E"
      },
      "source": [
        "## 2.3.9 신경망(딥러닝)\n",
        "\n",
        "생략 예정."
      ]
    },
    {
      "cell_type": "markdown",
      "metadata": {
        "id": "s9rsHZxjVx9s"
      },
      "source": [
        "# 2.4 분류 예측의 불확실성 추정"
      ]
    },
    {
      "cell_type": "markdown",
      "metadata": {
        "id": "Fbz79kcLVx6-"
      },
      "source": [
        "## 2.4.1 결정 함수"
      ]
    },
    {
      "cell_type": "markdown",
      "metadata": {
        "id": "j0w_6VKxVx38"
      },
      "source": [
        "## 2.4.2 예측 확률"
      ]
    },
    {
      "cell_type": "markdown",
      "metadata": {
        "id": "mab0rNl1VxkU"
      },
      "source": [
        "##2.4.3 다중 분류에서의 불확실성"
      ]
    },
    {
      "cell_type": "markdown",
      "metadata": {
        "id": "l5Iecg_SWCQO"
      },
      "source": [
        "# 2.5 요약 및 정리"
      ]
    }
  ]
}