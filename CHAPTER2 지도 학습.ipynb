{
  "nbformat": 4,
  "nbformat_minor": 0,
  "metadata": {
    "colab": {
      "name": "CHAPTER2 지도 학습.ipynb",
      "provenance": [],
      "collapsed_sections": [],
      "toc_visible": true,
      "authorship_tag": "ABX9TyOaNfiWLTS5Bgil0I3uuI49",
      "include_colab_link": true
    },
    "kernelspec": {
      "name": "python3",
      "display_name": "Python 3"
    },
    "language_info": {
      "name": "python"
    }
  },
  "cells": [
    {
      "cell_type": "markdown",
      "metadata": {
        "id": "view-in-github",
        "colab_type": "text"
      },
      "source": [
        "<a href=\"https://colab.research.google.com/github/LeeSeungwon89/Lecture-and-self-study/blob/master/CHAPTER2%20%EC%A7%80%EB%8F%84%20%ED%95%99%EC%8A%B5.ipynb\" target=\"_parent\"><img src=\"https://colab.research.google.com/assets/colab-badge.svg\" alt=\"Open In Colab\"/></a>"
      ]
    },
    {
      "cell_type": "markdown",
      "metadata": {
        "id": "e2pCvBv_iYnr"
      },
      "source": [
        "지도 학습은 입력과 출력 샘플 데이터가 있고, 주어진 입력으로부터 출력을 예측하고자 할 때 사용함. 즉 훈련 세트로부터 머신러닝 모델을 만듦. 우리의 목표는 이전에 본 적 없는 새로운 데이터에 대해 정확한 출력을 예측하는 것임. 지도 학습은 종종 데이터를 만드는 데 사람의 노력이 필요하지만 자동화 하면 힘들고 어려운 작업의 처리 속도를 제고할 수 있음."
      ]
    },
    {
      "cell_type": "markdown",
      "metadata": {
        "id": "stVUJCxvVCwG"
      },
      "source": [
        "# 2.1 분류와 회귀\n",
        "\n",
        " 지도 학습에는 '분류(classification)'와 '회귀(regression)'이 있음.\n",
        " \n",
        " 분류는 미리 정의된, 가능성 있는 여러 '클래스 레이블(class label)' 중에 하나를 예측하는 것임. 딱 두 개의 클래스로 분류하는 '이진 분류(binary classification)'와 셋 이상의 클래스로 분류하는 '다중 분류(multiclass classification)'로 나뉨. 1장에서 붓꽃을 세 품종 중 하나로 분류하는 문제는 붓꽃 품종이 3개이므로 다중 분류 문제임. \n",
        "\n",
        " 이진 분류는 질문의 답이 예와 아니오만 나올 수 있게 하는 것임. 이메일에서 스팸을 분류하는 것이 대표적인 예이며 예/아니오 대답에 대한 질문은 \"이 이메일은 스팸인가요?\" 가 됨. 한 클래스를 양성(positive) 클래스, 다른 하나를 음성(negative) 클래스라고 하는데, 양성 클래스는 학습하고자 하는 대상을 의미하므로 스팸 메일이 양성 클래스가 되는 것임. 다만 두 클래스 중에 어떤 것을 양성으로 정할지는 주관적인 문제이므로 분야에 따라 다름. 다른 예로는 웹사이트의 글을 사용하여 어떤 언어의 웹사이트인지 예측하는 문제가 있는데, 이 문제에서 클래스는 미리 만들어놓은 언어 목록임.\n",
        "\n",
        " 회귀는 연속적인 숫자, 또는 프로그래밍 용어로 말하면 '부동소수점수(수학 용어로는 실수)'를 예측하는 것임. 어떤 사람의 교육 수준, 나이, 주거지를 바탕으로 연간 소득을 예측하는 것이 회귀 문제의 한 예임. 소득을 예측할 때 예측된 값은 어떤 양으로서, 일정 범위 안의 어떤 숫자도 될 수 있음. 옥수수 농장에서 전년도 수확량과 날씨, 고용 인원수 등로 올해 수확량을 예측하는 예도 회귀 문제이며 수확양 또한 어떤 숫자든 가능함.\n",
        "\n",
        " 출력 값에 연속성이 있는지 질문하면 회귀와 분류 문제를 쉽게 구분할 수 있음. 예상 출력 값 사이에 연속성이 있다면 회귀 문제임. 연소득을 예측하는 경우 출력에 확연한 연속성이 존재하는데, 어떤 사람이 1년에 40,000,000원 또는 40,000,001원을 벌 수 있다면  그 양은 분명 다르지만 큰 차이는 아님. 즉 우리 알고리즘이 40,000,000원을 예측해야 하는데 39,999,999원이나 40,000,001원을 예측했다고 해도 큰 문제가 되지 않음.\n",
        "\n",
        " 반대로 분류 문제로서 웹사이트가 어떤 언어로 구성되어 있는지 인식하는 작업에는 정도란 것이 존재할 수가 없음. 한 언어가 아니면 다른 언어임. 언어 사이에는 연속성이 없고 영어와 프랑스어 사이에 다른 언어는 없음."
      ]
    },
    {
      "cell_type": "markdown",
      "metadata": {
        "id": "b02JIwdUVCtV"
      },
      "source": [
        "# 2.2 일반화, 과대적합, 과소적합"
      ]
    },
    {
      "cell_type": "markdown",
      "metadata": {
        "id": "DAF_x_ncVCq1"
      },
      "source": [
        "## 2.2.1 모델 복잡도와 데이터셋 크기의 관계"
      ]
    },
    {
      "cell_type": "markdown",
      "metadata": {
        "id": "Y0GJjejYVCod"
      },
      "source": [
        "# 2.3 지도 학습 알고리즘"
      ]
    },
    {
      "cell_type": "markdown",
      "metadata": {
        "id": "G9O8TNvIVCl1"
      },
      "source": [
        "## 2.3.1 예제에 사용할 데이터셋"
      ]
    },
    {
      "cell_type": "markdown",
      "metadata": {
        "id": "6fEWYEvtVCjd"
      },
      "source": [
        "## 2.3.2 k-최근접 이웃"
      ]
    },
    {
      "cell_type": "markdown",
      "metadata": {
        "id": "YKR8Kh0bVCg1"
      },
      "source": [
        "## 2.3.3 선형 모델"
      ]
    },
    {
      "cell_type": "markdown",
      "metadata": {
        "id": "72nDssihVCef"
      },
      "source": [
        "## 2.3.4 나이브 베이즈 분류기"
      ]
    },
    {
      "cell_type": "markdown",
      "metadata": {
        "id": "Tl4ccTLQVCb8"
      },
      "source": [
        "## 2.3.5 결정 트리"
      ]
    },
    {
      "cell_type": "markdown",
      "metadata": {
        "id": "NB3pu9cFVCZd"
      },
      "source": [
        "## 2.3.6 결정 트리의 앙상블"
      ]
    },
    {
      "cell_type": "markdown",
      "metadata": {
        "id": "yzLGCinVVCW3"
      },
      "source": [
        "## 2.3.7 배깅, 엑스트라 트리, 에이다부스트"
      ]
    },
    {
      "cell_type": "markdown",
      "metadata": {
        "id": "gYsIzmhrVCUF"
      },
      "source": [
        "## 2.3.8 커널 서포트 벡터 머신"
      ]
    },
    {
      "cell_type": "markdown",
      "metadata": {
        "id": "ruFuOPTOVw9E"
      },
      "source": [
        "## 2.3.9 신경망(딥러닝)\n",
        "\n",
        "생략 예정."
      ]
    },
    {
      "cell_type": "markdown",
      "metadata": {
        "id": "s9rsHZxjVx9s"
      },
      "source": [
        "# 2.4 분류 예측의 불확실성 추정"
      ]
    },
    {
      "cell_type": "markdown",
      "metadata": {
        "id": "Fbz79kcLVx6-"
      },
      "source": [
        "## 2.4.1 결정 함수"
      ]
    },
    {
      "cell_type": "markdown",
      "metadata": {
        "id": "j0w_6VKxVx38"
      },
      "source": [
        "## 2.4.2 예측 확률"
      ]
    },
    {
      "cell_type": "markdown",
      "metadata": {
        "id": "mab0rNl1VxkU"
      },
      "source": [
        "##2.4.3 다중 분류에서의 불확실성"
      ]
    },
    {
      "cell_type": "markdown",
      "metadata": {
        "id": "l5Iecg_SWCQO"
      },
      "source": [
        "# 2.5 요약 및 정리"
      ]
    }
  ]
}