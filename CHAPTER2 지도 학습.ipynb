{
  "nbformat": 4,
  "nbformat_minor": 0,
  "metadata": {
    "colab": {
      "name": "CHAPTER2 지도 학습.ipynb",
      "provenance": [],
      "collapsed_sections": [],
      "toc_visible": true,
      "authorship_tag": "ABX9TyOBpNmHASx3I4ObVInAm3/o",
      "include_colab_link": true
    },
    "kernelspec": {
      "name": "python3",
      "display_name": "Python 3"
    },
    "language_info": {
      "name": "python"
    }
  },
  "cells": [
    {
      "cell_type": "markdown",
      "metadata": {
        "id": "view-in-github",
        "colab_type": "text"
      },
      "source": [
        "<a href=\"https://colab.research.google.com/github/LeeSeungwon89/Lecture-and-Self-study/blob/master/CHAPTER2%20%EC%A7%80%EB%8F%84%20%ED%95%99%EC%8A%B5.ipynb\" target=\"_parent\"><img src=\"https://colab.research.google.com/assets/colab-badge.svg\" alt=\"Open In Colab\"/></a>"
      ]
    },
    {
      "cell_type": "markdown",
      "metadata": {
        "id": "e2pCvBv_iYnr"
      },
      "source": [
        "# 들어가며\n",
        "\n",
        "지도 학습은 입력과 출력 샘플 데이터가 있고, 주어진 입력으로부터 출력을 예측하고자 할 때 사용함. 즉 훈련 세트로부터 머신러닝 모델을 만듦. 우리의 목표는 이전에 본 적 없는 새로운 데이터에 대해 정확한 출력을 예측하는 것임. 지도 학습은 종종 데이터를 만드는 데 사람의 노력이 필요하지만 일단 자동화를 도모하면 힘들고 어려운 작업의 처리 속도를 제고할 수 있음."
      ]
    },
    {
      "cell_type": "markdown",
      "metadata": {
        "id": "stVUJCxvVCwG"
      },
      "source": [
        "# 2.1 분류와 회귀\n",
        "\n",
        "지도 학습에는 '분류(classification)'와 '회귀(regression)'가 있음.\n",
        "\n",
        "분류는 미리 정의된, 가능성 있는 여러 '클래스 레이블(class label)' 중에 하나를 예측하는 것임. 딱 두 개의 클래스로 분류하는 '이진 분류(binary classification)'와 셋 이상의 클래스로 분류하는 '다중 분류(multiclass classification)'로 나뉨. 1장에서 붓꽃을 세 품종 중 하나로 분류하는 문제는 붓꽃 품종이 3개이므로 다중 분류 문제임. \n",
        "\n",
        "이진 분류는 질문의 답이 예와 아니오만 나올 수 있게 하는 것임. 이메일에서 스팸을 분류하는 것이 대표적인 예이며 예/아니오 대답에 대한 질문은 \"이 이메일은 스팸인가요?\" 가 됨. 한 클래스를 양성(positive) 클래스, 다른 하나를 음성(negative) 클래스라고 하는데, 양성 클래스는 학습하고자 하는 대상을 의미하므로 스팸 메일이 양성 클래스가 되는 것임. 다만 두 클래스 중에 어떤 것을 양성으로 정할지는 주관적인 문제이므로 분야에 따라 다름. 다른 예로는 웹사이트의 글을 사용하여 어떤 언어의 웹사이트인지 예측하는 문제가 있는데, 이 문제에서 클래스는 미리 만들어놓은 언어 목록임.\n",
        "\n",
        "회귀는 연속적인 숫자, 또는 프로그래밍 용어로 말하면 '부동소수점수(수학 용어로는 실수)'를 예측하는 것임. 어떤 사람의 교육 수준, 나이, 주거지를 바탕으로 연간 소득을 예측하는 것이 회귀 문제의 한 예임. 소득을 예측할 때 예측된 값은 어떤 양으로서, 일정 범위 안의 어떤 숫자도 될 수 있음. 옥수수 농장에서 전년도 수확량과 날씨, 고용 인원수 등로 올해 수확량을 예측하는 예도 회귀 문제이며 수확양 또한 어떤 숫자든 가능함.\n",
        "\n",
        "출력 값에 연속성이 있는지 질문하면 회귀와 분류 문제를 쉽게 구분할 수 있음. 예상 출력 값 사이에 연속성이 있다면 회귀 문제임. 연소득을 예측하는 경우 출력에 확연한 연속성이 존재하는데, 어떤 사람이 1년에 40,000,000원 또는 40,000,001원을 벌 수 있다면  그 양은 분명 다르지만 큰 차이는 아님. 즉 우리 알고리즘이 40,000,000원을 예측해야 하는데 39,999,999원이나 40,000,001원을 예측했다고 해도 큰 문제가 되지 않음.\n",
        "\n",
        "반대로 분류 문제로서 웹사이트가 어떤 언어로 구성되어 있는지 인식하는 작업에는 정도란 것이 존재할 수가 없음. 한 언어가 아니면 다른 언어임. 언어 사이에는 연속성이 없고 영어와 프랑스어 사이에 다른 언어는 없음. 물론 언어를 독립적이고 고정된 것으로 표현하는 것은 무리가 있음. "
      ]
    },
    {
      "cell_type": "markdown",
      "metadata": {
        "id": "b02JIwdUVCtV"
      },
      "source": [
        "# 2.2 일반화, 과대적합, 과소적합\n",
        "\n",
        "지도 학습에서는 훈련 데이터로 학습한 모델이 훈련 데이터와 특성이 같다면 처음 보는 새로운 데이터가 주어져도 정확히 예측할 것으로 기대함. 모델이 처음 보는 데이터에 대해 정확하게 예측할 수 있으면 이를 훈련 세트에서 테스트 세트로 '일반화(generalization)'되었다고 함. 그래서 모델을 만들 때는 가능한 한 정확하게 일반화되도록 해야 함.\n",
        "\n",
        "보통 훈련 세트에 대해 정확하게 예측하도록 모델을 구축함. 훈련 세트와 테스트 세트가 매우 비슷하면 그 모델이 테스트 세트에서도 정확하게 예측할 것으로 기대할 수 있음. 하지만 항상 그런 것도 아닌데, 예를 들어 아주 복잡한 모델을 만들면 훈련 세트에만 정확한 모델이 될 가능성도 있음.\n",
        "\n",
        "가상의 예를 만들어 봄. 요트를 구매한 고객과 구매 의사가 없는 고객의 데이터를 활용하여 누가 요트를 살지 예측하려고 함. 무관심한 고객들이 아닌 실제로 구매할 것 같은 고객들에게만 홍보 메일을 보내는 것이 목표임. 다만 이게 좀 까다로운 문제인 이유는 아직 요트를 사지 않았다고 알고 있던 고객이 사실 다른 곳에서 요트를 샀을지도 모르고, 나중에 요트를 사려고 저축하거나 계획해뒀을 수도 있다는 것임.\n",
        "\n",
        "아래는 고객 샘플 데이터임. 출처는 파이썬 라이브러리를 활용한 머신러닝(번역개정판).\n",
        " <img src='https://drive.google.com/uc?export=view&id=1TMAwRvCh9gsF2kiUOpl35nyhA5nA0o5X' width = 50% >\n",
        "\n",
        "이 데이터를 활용하여 새로운 고객이 요트를 구매할 것인가에 대한 질문에 만족할 만한 답을 줄 수 있는 모델을 만들어야 함. 새로운 고객에도 잘 작동하는 규칙을 찾아야 하므로 훈련 세트에서 100% 정확도를 달성하는 것은 크게 도움이 되지 않음. 테스트 세트를 따로 활용하여 훈련 세트와 테스트 세트의 정확도를 가장 근접한 지점까지 맞춰야 함. 우리가 예측하려는 대상은 이 데이터셋이 아니라 새로운 고객이기 때문임. 알고리즘이 새로운 데이터도 잘 처리하는지 측정하는 방법은 테스트 세트로 모델을 평가하는 수밖에 없음.\n",
        "\n",
        "직관적으로 이 데이터를 보면 간단한 모델이 새로운 데이터에 더 잘 일반화될 것이라고 예상할 수 있음. 예를 들면 \"50세 이상인 사람은 보트를 사려고 한다.\" 라는 규칙을 만들었다면 이 규칙은 모든 고객 데이터를 만족시킬 뿐만 아니라, 나이 외에 자녀 수나 혼인 상태를 추가한 규칙보다 더 신뢰할 수 있음. 그러므로 항상 간단한 모델만 찾으려는 늪에 스스로 빠지는 것임.\n",
        "\n",
        "주목해야 할 점은 '과대적합(overfitting)'과 '과소적합(underfitting)'이 일어나지 않도록 일반화 성능이 최대가 되는 최적점에 있는 모델을 만들어야 한다는 것임.\n",
        "\n",
        "'과대적합'은 가진 정보를 모두 사용해서 너무 복잡한 모델을 만드는 것을 의미하며 모델이 훈련 세트의 각 샘플에 너무 가깝게 맞춰져서 새로운 데이터에 일반화되기 어려울 때 일어나는 현상임. 즉 훈련 세트 점수가 지나치게 높고 테스트 세트 점수가 지나치게 낮은 것을 의미함. \n",
        "\n",
        "'과소적합'은 너무 간단한 모델을 만드는 것을 의미하며 \"주택을 보유한 사람은 모두 요트를 사려고 한다.\" 와 같은 규칙만을 적용하면 데이터의 면면과 다양성을 잡아내지 못하고 훈련 세트에도 잘 맞지 않을 것임. 즉 훈련 세트 점수가 낮고 테스트 세트 점수가 높거나, 훈련 세트 점수와 테스트 세트 점수 모두 낮은 것을 의미함.\n",
        "\n",
        "정리하자면 모델을 복잡하게 할수록 훈련 데이터에 대해서는 더 정확하게 예측할 수 있으나 너무 복잡해지면 훈련 세트의 각 데이터 포인트에 너무 민감해져서 새로운 데이터에 잘 일반화되지 않음. 우리가 찾으려는 모델은 일반화 성능이 최대가 되는 최적점에 있는 모델임.\n",
        "\n",
        "과대적합과 과소적합의 절충점을 아래 그림에서 나타냄. 출처는 파이썬 라이브러리를 활용한 머신러닝(번역개정판).\n",
        " <img src='https://drive.google.com/uc?export=view&id=1G_gq95m6NAtmuVcs90CKCBBwozynDMys' width = 50% >\n",
        "\n"
      ]
    },
    {
      "cell_type": "markdown",
      "metadata": {
        "id": "DAF_x_ncVCq1"
      },
      "source": [
        "## 2.2.1 모델 복잡도와 데이터셋 크기의 관계\n",
        "\n",
        "모델 복잡도는 훈련 데이터셋에 담긴 입력 데이터의 다양성과 관련이 깊음. 데이터셋에 다양한 데이터 포인트가 많을수록 과대적합 없이 더 복잡한 모델을 만들 수 있음. 보통 데이터 포인트를 더 많이 모으는 것이 다양성을 키워주므로 큰 데이터셋은 더 복잡한 모델을 만들 수 있게 함. 그러나 같은 데이터 포인트를 중복하거나 매우 비슷한 데이터를 모으는 것은 도움이 되지 않음.\n",
        "\n",
        "위 요트 판매 예로 돌아가면, 고객 데이터를 10,000개 모았더니 전부 \"45세 이상이고 자녀가 셋 미만이며 이혼하지 않는 고객은 요트를 사려고 한다.\" 라는 규칙을 만족한다면 위 [표 2-1]의 12개만 사용할 때보다 훨씬 좋은 규칙이라고 할 수 있음.\n",
        "\n",
        "데이터를 더 많이 수집하고 적절하게 더 복잡한 모델을 만들면 지도 학습 문제에서 종종 놀라운 결과를 얻을 수 있음. 이 책에서는 고정 크기의 데이터셋을 사용하는 데 집중함. 모델을 변경하거나 조정하는 것보다 이득일 수 있으므로 실제 환경에서는 데이터를 얼마나 많이 모을지 정해야 함. "
      ]
    },
    {
      "cell_type": "markdown",
      "metadata": {
        "id": "Y0GJjejYVCod"
      },
      "source": [
        "# 2.3 지도 학습 알고리즘\n",
        "\n",
        "각 알고리즘을 자세히 설명하는 내용을 모두 읽을 필요는 없지만 모델을 이해하면 여러 머신러닝 알고리즘의 작동 방식을 더 잘 알 수 있음. "
      ]
    },
    {
      "cell_type": "markdown",
      "metadata": {
        "id": "G9O8TNvIVCl1"
      },
      "source": [
        "## 2.3.1 예제에 사용할 데이터셋\n",
        "\n",
        "여러 알고리즘을 설명하기 위해 데이터셋도 여러 개를 사용함. 어떤 데이터셋은 작고 인위적으로 만든 것이며, 알고리즘의 특징을 부각하기 위해 만든 것도 있음. 실제 샘플로 만든 큰 데이터셋도 있음.\n",
        "\n",
        "두 개의 특성을 가진 forge 데이터셋은 인위적으로 만든 이진 분류 데이터셋임. 다음 코드는 이 데이터셋의 모든 데이터 포인트를 산점도로 그림. x축은 첫 번째 특성, y축은 두 번째 특성임. 모든 산점도가 그렇듯이 점 하나가 각 데이터 포인트를 나타냄. 점의 색과 모양은 데이터 포인트가 속한 클래스를 나타냄."
      ]
    },
    {
      "cell_type": "code",
      "metadata": {
        "colab": {
          "base_uri": "https://localhost:8080/"
        },
        "id": "8oqqIJm8bZPH",
        "outputId": "44503b45-030e-49fe-e236-18b08630c16f"
      },
      "source": [
        "pip install mglearn"
      ],
      "execution_count": null,
      "outputs": [
        {
          "output_type": "stream",
          "text": [
            "Collecting mglearn\n",
            "  Downloading mglearn-0.1.9.tar.gz (540 kB)\n",
            "\u001b[K     |████████████████████████████████| 540 kB 5.0 MB/s \n",
            "\u001b[?25hRequirement already satisfied: numpy in /usr/local/lib/python3.7/dist-packages (from mglearn) (1.19.5)\n",
            "Requirement already satisfied: matplotlib in /usr/local/lib/python3.7/dist-packages (from mglearn) (3.2.2)\n",
            "Requirement already satisfied: scikit-learn in /usr/local/lib/python3.7/dist-packages (from mglearn) (0.22.2.post1)\n",
            "Requirement already satisfied: pandas in /usr/local/lib/python3.7/dist-packages (from mglearn) (1.1.5)\n",
            "Requirement already satisfied: pillow in /usr/local/lib/python3.7/dist-packages (from mglearn) (7.1.2)\n",
            "Requirement already satisfied: cycler in /usr/local/lib/python3.7/dist-packages (from mglearn) (0.10.0)\n",
            "Requirement already satisfied: imageio in /usr/local/lib/python3.7/dist-packages (from mglearn) (2.4.1)\n",
            "Requirement already satisfied: joblib in /usr/local/lib/python3.7/dist-packages (from mglearn) (1.0.1)\n",
            "Requirement already satisfied: six in /usr/local/lib/python3.7/dist-packages (from cycler->mglearn) (1.15.0)\n",
            "Requirement already satisfied: kiwisolver>=1.0.1 in /usr/local/lib/python3.7/dist-packages (from matplotlib->mglearn) (1.3.1)\n",
            "Requirement already satisfied: pyparsing!=2.0.4,!=2.1.2,!=2.1.6,>=2.0.1 in /usr/local/lib/python3.7/dist-packages (from matplotlib->mglearn) (2.4.7)\n",
            "Requirement already satisfied: python-dateutil>=2.1 in /usr/local/lib/python3.7/dist-packages (from matplotlib->mglearn) (2.8.1)\n",
            "Requirement already satisfied: pytz>=2017.2 in /usr/local/lib/python3.7/dist-packages (from pandas->mglearn) (2018.9)\n",
            "Requirement already satisfied: scipy>=0.17.0 in /usr/local/lib/python3.7/dist-packages (from scikit-learn->mglearn) (1.4.1)\n",
            "Building wheels for collected packages: mglearn\n",
            "  Building wheel for mglearn (setup.py) ... \u001b[?25l\u001b[?25hdone\n",
            "  Created wheel for mglearn: filename=mglearn-0.1.9-py2.py3-none-any.whl size=582638 sha256=6dbe7ee3011ad731084aed843e0baee8f4fd384af2a6fd1ef68300fdb8d7174b\n",
            "  Stored in directory: /root/.cache/pip/wheels/f1/17/e1/1720d6dcd70187b6b6c3750cb3508798f2b1d57c9d3214b08b\n",
            "Successfully built mglearn\n",
            "Installing collected packages: mglearn\n",
            "Successfully installed mglearn-0.1.9\n"
          ],
          "name": "stdout"
        }
      ]
    },
    {
      "cell_type": "code",
      "metadata": {
        "id": "84MO4cWSa6Hv"
      },
      "source": [
        "# 라이브러리를 임포트 함.\n",
        "from IPython.display import display\n",
        "import numpy as np\n",
        "import matplotlib.pyplot as plt\n",
        "import pandas as pd\n",
        "import mglearn\n",
        "%matplotlib inline"
      ],
      "execution_count": null,
      "outputs": []
    },
    {
      "cell_type": "code",
      "metadata": {
        "colab": {
          "base_uri": "https://localhost:8080/",
          "height": 795
        },
        "id": "Hm3aq90ZaRVS",
        "outputId": "b1aac855-dc0c-495a-e3ad-6dad785047cc"
      },
      "source": [
        "# 데이터셋을 만듦.\n",
        "X, y = mglearn.datasets.make_forge()\n",
        "print(X, y)\n",
        "\n",
        "# 산점도를 그림.\n",
        "mglearn.discrete_scatter(X[:, 0], X[:, 1], y)\n",
        "plt.legend(['class 0', 'class 1'], loc=4)\n",
        "plt.xlabel('first feature')\n",
        "plt.ylabel('second feature')\n",
        "\n",
        "print('X.shape:', X.shape)\n",
        "# 데이터 포인트 26개, 특성 2개를 가짐."
      ],
      "execution_count": null,
      "outputs": [
        {
          "output_type": "stream",
          "text": [
            "/usr/local/lib/python3.7/dist-packages/sklearn/utils/deprecation.py:87: FutureWarning: Function make_blobs is deprecated; Please import make_blobs directly from scikit-learn\n",
            "  warnings.warn(msg, category=FutureWarning)\n"
          ],
          "name": "stderr"
        },
        {
          "output_type": "stream",
          "text": [
            "[[ 9.96346605  4.59676542]\n",
            " [11.0329545  -0.16816717]\n",
            " [11.54155807  5.21116083]\n",
            " [ 8.69289001  1.54322016]\n",
            " [ 8.1062269   4.28695977]\n",
            " [ 8.30988863  4.80623966]\n",
            " [11.93027136  4.64866327]\n",
            " [ 9.67284681 -0.20283165]\n",
            " [ 8.34810316  5.13415623]\n",
            " [ 8.67494727  4.47573059]\n",
            " [ 9.17748385  5.09283177]\n",
            " [10.24028948  2.45544401]\n",
            " [ 8.68937095  1.48709629]\n",
            " [ 8.92229526 -0.63993225]\n",
            " [ 9.49123469  4.33224792]\n",
            " [ 9.25694192  5.13284858]\n",
            " [ 7.99815287  4.8525051 ]\n",
            " [ 8.18378052  1.29564214]\n",
            " [ 8.7337095   2.49162431]\n",
            " [ 9.32298256  5.09840649]\n",
            " [10.06393839  0.99078055]\n",
            " [ 9.50048972 -0.26430318]\n",
            " [ 8.34468785  1.63824349]\n",
            " [ 9.50169345  1.93824624]\n",
            " [ 9.15072323  5.49832246]\n",
            " [11.563957    1.3389402 ]] [1 0 1 0 0 1 1 0 1 1 1 1 0 0 1 1 1 0 0 1 0 0 0 0 1 0]\n",
            "X.shape: (26, 2)\n"
          ],
          "name": "stdout"
        },
        {
          "output_type": "display_data",
          "data": {
            "image/png": "[encoded data removed]",
            "text/plain": [
              "<Figure size 432x288 with 1 Axes>"
            ]
          },
          "metadata": {
            "tags": [],
            "needs_background": "light"
          }
        }
      ]
    },
    {
      "cell_type": "markdown",
      "metadata": {
        "id": "_9rtE8nFiR6N"
      },
      "source": [
        "회귀 알고리즘 설명에는 인위적으로 만든 wave 데이터셋을 사용함. wave 데이터셋은 입력 특성 하나와 모델링 할 타깃 변수(또는 응답)를 가짐. 종이는 2차원이므로 특성 2개가 넘으면 표현하기 어려우니 손쉽게 시각화하기 위해 간단한 저차원 데이터셋을 사용함. 특성이 적은 데이터셋(저차원 데이터셋)에서 얻은 직관이 특성이 많은 데이터셋(고차원 데이터셋)에서 유지되지 않을 수 있지만 알고리즘을 익힐 때는 저차원 데이터셋을 사용하는 것이 매우 좋음."
      ]
    },
    {
      "cell_type": "code",
      "metadata": {
        "colab": {
          "base_uri": "https://localhost:8080/",
          "height": 1000
        },
        "id": "ee5OB2QVjFIH",
        "outputId": "2349d9f8-ef04-4e8d-e394-6dc53903e2f2"
      },
      "source": [
        "X, y = mglearn.datasets.make_wave(n_samples=40)\n",
        "print(X, y)\n",
        "\n",
        "plt.plot(X, y, 'o')\n",
        "plt.ylim(-3, 3)\n",
        "plt.xlabel('feature')\n",
        "plt.ylabel('target')\n",
        "\n",
        "print('X.shape:', X.shape)"
      ],
      "execution_count": null,
      "outputs": [
        {
          "output_type": "stream",
          "text": [
            "[[-0.75275929]\n",
            " [ 2.70428584]\n",
            " [ 1.39196365]\n",
            " [ 0.59195091]\n",
            " [-2.06388816]\n",
            " [-2.06403288]\n",
            " [-2.65149833]\n",
            " [ 2.19705687]\n",
            " [ 0.60669007]\n",
            " [ 1.24843547]\n",
            " [-2.87649303]\n",
            " [ 2.81945911]\n",
            " [ 1.99465584]\n",
            " [-1.72596534]\n",
            " [-1.9090502 ]\n",
            " [-1.89957294]\n",
            " [-1.17454654]\n",
            " [ 0.14853859]\n",
            " [-0.40832989]\n",
            " [-1.25262516]\n",
            " [ 0.67111737]\n",
            " [-2.16303684]\n",
            " [-1.24713211]\n",
            " [-0.80182894]\n",
            " [-0.26358009]\n",
            " [ 1.71105577]\n",
            " [-1.80195731]\n",
            " [ 0.08540663]\n",
            " [ 0.55448741]\n",
            " [-2.72129752]\n",
            " [ 0.64526911]\n",
            " [-1.97685526]\n",
            " [-2.60969044]\n",
            " [ 2.69331322]\n",
            " [ 2.7937922 ]\n",
            " [ 1.85038409]\n",
            " [-1.17231738]\n",
            " [-2.41396732]\n",
            " [ 1.10539816]\n",
            " [-0.35908504]] [-0.44822073  0.33122576  0.77932073  0.03497884 -1.38773632 -2.47196233\n",
            " -1.52730805  1.49417157  1.00032374  0.22956153 -1.05979555  0.7789638\n",
            "  0.75418806 -1.51369739 -1.67303415 -0.90496988  0.08448544 -0.52734666\n",
            " -0.54114599 -0.3409073   0.21778193 -1.12469096  0.37299129  0.09756349\n",
            " -0.98618122  0.96695428 -1.13455014  0.69798591  0.43655826 -0.95652133\n",
            "  0.03527881 -2.08581717 -0.47411033  1.53708251  0.86893293  1.87664889\n",
            "  0.0945257  -1.41502356  0.25438895  0.09398858]\n",
            "X.shape: (40, 1)\n"
          ],
          "name": "stdout"
        },
        {
          "output_type": "display_data",
          "data": {
            "image/png": "[encoded data removed]",
            "text/plain": [
              "<Figure size 432x288 with 1 Axes>"
            ]
          },
          "metadata": {
            "tags": [],
            "needs_background": "light"
          }
        }
      ]
    },
    {
      "cell_type": "markdown",
      "metadata": {
        "id": "fR-HU4-GrSy2"
      },
      "source": [
        "인위적인 소규모 데이터셋 외에 사이킷런에 들어 있는 실제 데이터셋 두 개도 사용함. 하나는 유방암 종양의 임상 데이터를 기록해놓은 위스콘신 유방암(Wisconsin Breast Cancer) 데이터셋이며 줄여서 cancer라고 함. 각 종양은 양성(benign)과 악성(malignant)으로 레이블 되어 있고, 조직 데이터를 기반으로 종양이 악성인지 여부를 예측할 수 있도록 학습하는 것이 과제임. 이 데이터는 사이킷런에 있는 `load_breast_cancer` 함수를 사용하여 가져올 수 있음.\n",
        "\n",
        "사이킷런에 포함된 데이터셋은 실제 데이터와 데이터셋 관련 정보를 담고 있는 Bunch 객체에 저장되어 있음. Bunch 객체는 파이썬 딕셔너리(dictionary)와 비슷하지만 점 표기법을 사용할 수 있음. 즉 `bunch['key']` 대신 `bunch.key`를 사용할 수 있음."
      ]
    },
    {
      "cell_type": "code",
      "metadata": {
        "id": "6UpCVjTrXXyP"
      },
      "source": [
        "from sklearn.datasets import load_breast_cancer\n",
        "cancer = load_breast_cancer()"
      ],
      "execution_count": null,
      "outputs": []
    },
    {
      "cell_type": "code",
      "metadata": {
        "colab": {
          "base_uri": "https://localhost:8080/"
        },
        "id": "ZxBlv1L7azZd",
        "outputId": "7d4ba3d6-948a-40e3-ee4f-9cbe21ec56ff"
      },
      "source": [
        "print('cancer.keys():', cancer.keys())\n",
        "print('유방암 데이터의 형태:', cancer.data.shape)\n",
        "print('특성 이름:\\n', cancer.feature_names)"
      ],
      "execution_count": null,
      "outputs": [
        {
          "output_type": "stream",
          "text": [
            "cancer.keys(): dict_keys(['data', 'target', 'target_names', 'DESCR', 'feature_names', 'filename'])\n",
            "유방암 데이터의 형태: (569, 30)\n",
            "특성 이름:\n",
            " ['mean radius' 'mean texture' 'mean perimeter' 'mean area'\n",
            " 'mean smoothness' 'mean compactness' 'mean concavity'\n",
            " 'mean concave points' 'mean symmetry' 'mean fractal dimension'\n",
            " 'radius error' 'texture error' 'perimeter error' 'area error'\n",
            " 'smoothness error' 'compactness error' 'concavity error'\n",
            " 'concave points error' 'symmetry error' 'fractal dimension error'\n",
            " 'worst radius' 'worst texture' 'worst perimeter' 'worst area'\n",
            " 'worst smoothness' 'worst compactness' 'worst concavity'\n",
            " 'worst concave points' 'worst symmetry' 'worst fractal dimension']\n"
          ],
          "name": "stdout"
        }
      ]
    },
    {
      "cell_type": "code",
      "metadata": {
        "colab": {
          "base_uri": "https://localhost:8080/"
        },
        "id": "_PByofslazPM",
        "outputId": "87230846-7979-426b-8ffa-bf518c0510a3"
      },
      "source": [
        "print(cancer.target_names)\n",
        "print(cancer.target)\n",
        "print(np.bincount(cancer.target))\n",
        "# malignant가 0, benign이 1임.\n",
        "\n",
        "print('클래스별 샘플 개수:', {n : v for n, v in zip(cancer.target_names, np.bincount(cancer.target))})\n",
        "# `target_names` 에는 malignant와 benign이 들어있는데, 여기에서 하나씩 꺼내서 'n'에 넣고,\n",
        "# 'target'에는 0과 1이 들어있는데, 각 숫자 개수를 세서 'v'에 넣으면 딕셔너리가 만들어짐.\n",
        "# `np.bincount` 함수에 대한 'https://runebook.dev/ko/docs/numpy/reference/generated/numpy.bincount' 를 참고 바람.\n",
        "# 위 링크로 접속하려면 ctrl키를 누르고 링크를 클릭하면 됨."
      ],
      "execution_count": null,
      "outputs": [
        {
          "output_type": "stream",
          "text": [
            "['malignant' 'benign']\n",
            "[0 0 0 0 0 0 0 0 0 0 0 0 0 0 0 0 0 0 0 1 1 1 0 0 0 0 0 0 0 0 0 0 0 0 0 0 0\n",
            " 1 0 0 0 0 0 0 0 0 1 0 1 1 1 1 1 0 0 1 0 0 1 1 1 1 0 1 0 0 1 1 1 1 0 1 0 0\n",
            " 1 0 1 0 0 1 1 1 0 0 1 0 0 0 1 1 1 0 1 1 0 0 1 1 1 0 0 1 1 1 1 0 1 1 0 1 1\n",
            " 1 1 1 1 1 1 0 0 0 1 0 0 1 1 1 0 0 1 0 1 0 0 1 0 0 1 1 0 1 1 0 1 1 1 1 0 1\n",
            " 1 1 1 1 1 1 1 1 0 1 1 1 1 0 0 1 0 1 1 0 0 1 1 0 0 1 1 1 1 0 1 1 0 0 0 1 0\n",
            " 1 0 1 1 1 0 1 1 0 0 1 0 0 0 0 1 0 0 0 1 0 1 0 1 1 0 1 0 0 0 0 1 1 0 0 1 1\n",
            " 1 0 1 1 1 1 1 0 0 1 1 0 1 1 0 0 1 0 1 1 1 1 0 1 1 1 1 1 0 1 0 0 0 0 0 0 0\n",
            " 0 0 0 0 0 0 0 1 1 1 1 1 1 0 1 0 1 1 0 1 1 0 1 0 0 1 1 1 1 1 1 1 1 1 1 1 1\n",
            " 1 0 1 1 0 1 0 1 1 1 1 1 1 1 1 1 1 1 1 1 1 0 1 1 1 0 1 0 1 1 1 1 0 0 0 1 1\n",
            " 1 1 0 1 0 1 0 1 1 1 0 1 1 1 1 1 1 1 0 0 0 1 1 1 1 1 1 1 1 1 1 1 0 0 1 0 0\n",
            " 0 1 0 0 1 1 1 1 1 0 1 1 1 1 1 0 1 1 1 0 1 1 0 0 1 1 1 1 1 1 0 1 1 1 1 1 1\n",
            " 1 0 1 1 1 1 1 0 1 1 0 1 1 1 1 1 1 1 1 1 1 1 1 0 1 0 0 1 0 1 1 1 1 1 0 1 1\n",
            " 0 1 0 1 1 0 1 0 1 1 1 1 1 1 1 1 0 0 1 1 1 1 1 1 0 1 1 1 1 1 1 1 1 1 1 0 1\n",
            " 1 1 1 1 1 1 0 1 0 1 1 0 1 1 1 1 1 0 0 1 0 1 0 1 1 1 1 1 0 1 1 0 1 0 1 0 0\n",
            " 1 1 1 0 1 1 1 1 1 1 1 1 1 1 1 0 1 0 0 1 1 1 1 1 1 1 1 1 1 1 1 1 1 1 1 1 1\n",
            " 1 1 1 1 1 1 1 0 0 0 0 0 0 1]\n",
            "[212 357]\n",
            "클래스별 샘플 개수: {'malignant': 212, 'benign': 357}\n"
          ],
          "name": "stdout"
        }
      ]
    },
    {
      "cell_type": "code",
      "metadata": {
        "colab": {
          "base_uri": "https://localhost:8080/"
        },
        "id": "Lw8GldpZr0Wi",
        "outputId": "a06eaaa3-2d2f-4af8-ff5f-474b9b712c8e"
      },
      "source": [
        "print('자세한 정보:\\n', cancer.DESCR)"
      ],
      "execution_count": null,
      "outputs": [
        {
          "output_type": "stream",
          "text": [
            "자세한 정보:\n",
            " .. _breast_cancer_dataset:\n",
            "\n",
            "Breast cancer wisconsin (diagnostic) dataset\n",
            "--------------------------------------------\n",
            "\n",
            "**Data Set Characteristics:**\n",
            "\n",
            "    :Number of Instances: 569\n",
            "\n",
            "    :Number of Attributes: 30 numeric, predictive attributes and the class\n",
            "\n",
            "    :Attribute Information:\n",
            "        - radius (mean of distances from center to points on the perimeter)\n",
            "        - texture (standard deviation of gray-scale values)\n",
            "        - perimeter\n",
            "        - area\n",
            "        - smoothness (local variation in radius lengths)\n",
            "        - compactness (perimeter^2 / area - 1.0)\n",
            "        - concavity (severity of concave portions of the contour)\n",
            "        - concave points (number of concave portions of the contour)\n",
            "        - symmetry \n",
            "        - fractal dimension (\"coastline approximation\" - 1)\n",
            "\n",
            "        The mean, standard error, and \"worst\" or largest (mean of the three\n",
            "        largest values) of these features were computed for each image,\n",
            "        resulting in 30 features.  For instance, field 3 is Mean Radius, field\n",
            "        13 is Radius SE, field 23 is Worst Radius.\n",
            "\n",
            "        - class:\n",
            "                - WDBC-Malignant\n",
            "                - WDBC-Benign\n",
            "\n",
            "    :Summary Statistics:\n",
            "\n",
            "    ===================================== ====== ======\n",
            "                                           Min    Max\n",
            "    ===================================== ====== ======\n",
            "    radius (mean):                        6.981  28.11\n",
            "    texture (mean):                       9.71   39.28\n",
            "    perimeter (mean):                     43.79  188.5\n",
            "    area (mean):                          143.5  2501.0\n",
            "    smoothness (mean):                    0.053  0.163\n",
            "    compactness (mean):                   0.019  0.345\n",
            "    concavity (mean):                     0.0    0.427\n",
            "    concave points (mean):                0.0    0.201\n",
            "    symmetry (mean):                      0.106  0.304\n",
            "    fractal dimension (mean):             0.05   0.097\n",
            "    radius (standard error):              0.112  2.873\n",
            "    texture (standard error):             0.36   4.885\n",
            "    perimeter (standard error):           0.757  21.98\n",
            "    area (standard error):                6.802  542.2\n",
            "    smoothness (standard error):          0.002  0.031\n",
            "    compactness (standard error):         0.002  0.135\n",
            "    concavity (standard error):           0.0    0.396\n",
            "    concave points (standard error):      0.0    0.053\n",
            "    symmetry (standard error):            0.008  0.079\n",
            "    fractal dimension (standard error):   0.001  0.03\n",
            "    radius (worst):                       7.93   36.04\n",
            "    texture (worst):                      12.02  49.54\n",
            "    perimeter (worst):                    50.41  251.2\n",
            "    area (worst):                         185.2  4254.0\n",
            "    smoothness (worst):                   0.071  0.223\n",
            "    compactness (worst):                  0.027  1.058\n",
            "    concavity (worst):                    0.0    1.252\n",
            "    concave points (worst):               0.0    0.291\n",
            "    symmetry (worst):                     0.156  0.664\n",
            "    fractal dimension (worst):            0.055  0.208\n",
            "    ===================================== ====== ======\n",
            "\n",
            "    :Missing Attribute Values: None\n",
            "\n",
            "    :Class Distribution: 212 - Malignant, 357 - Benign\n",
            "\n",
            "    :Creator:  Dr. William H. Wolberg, W. Nick Street, Olvi L. Mangasarian\n",
            "\n",
            "    :Donor: Nick Street\n",
            "\n",
            "    :Date: November, 1995\n",
            "\n",
            "This is a copy of UCI ML Breast Cancer Wisconsin (Diagnostic) datasets.\n",
            "https://goo.gl/U2Uwz2\n",
            "\n",
            "Features are computed from a digitized image of a fine needle\n",
            "aspirate (FNA) of a breast mass.  They describe\n",
            "characteristics of the cell nuclei present in the image.\n",
            "\n",
            "Separating plane described above was obtained using\n",
            "Multisurface Method-Tree (MSM-T) [K. P. Bennett, \"Decision Tree\n",
            "Construction Via Linear Programming.\" Proceedings of the 4th\n",
            "Midwest Artificial Intelligence and Cognitive Science Society,\n",
            "pp. 97-101, 1992], a classification method which uses linear\n",
            "programming to construct a decision tree.  Relevant features\n",
            "were selected using an exhaustive search in the space of 1-4\n",
            "features and 1-3 separating planes.\n",
            "\n",
            "The actual linear program used to obtain the separating plane\n",
            "in the 3-dimensional space is that described in:\n",
            "[K. P. Bennett and O. L. Mangasarian: \"Robust Linear\n",
            "Programming Discrimination of Two Linearly Inseparable Sets\",\n",
            "Optimization Methods and Software 1, 1992, 23-34].\n",
            "\n",
            "This database is also available through the UW CS ftp server:\n",
            "\n",
            "ftp ftp.cs.wisc.edu\n",
            "cd math-prog/cpo-dataset/machine-learn/WDBC/\n",
            "\n",
            ".. topic:: References\n",
            "\n",
            "   - W.N. Street, W.H. Wolberg and O.L. Mangasarian. Nuclear feature extraction \n",
            "     for breast tumor diagnosis. IS&T/SPIE 1993 International Symposium on \n",
            "     Electronic Imaging: Science and Technology, volume 1905, pages 861-870,\n",
            "     San Jose, CA, 1993.\n",
            "   - O.L. Mangasarian, W.N. Street and W.H. Wolberg. Breast cancer diagnosis and \n",
            "     prognosis via linear programming. Operations Research, 43(4), pages 570-577, \n",
            "     July-August 1995.\n",
            "   - W.H. Wolberg, W.N. Street, and O.L. Mangasarian. Machine learning techniques\n",
            "     to diagnose breast cancer from fine-needle aspirates. Cancer Letters 77 (1994) \n",
            "     163-171.\n"
          ],
          "name": "stdout"
        }
      ]
    },
    {
      "cell_type": "markdown",
      "metadata": {
        "id": "9KZp1gDgdY7V"
      },
      "source": [
        "아울러 회귀 분석용 실제 데이터셋으로 보스턴 주택가격(Boston Housing) 데이터셋을 사용함. 이 데이터셋으로 할 작업은 범죄율, 찰스강 인접도, 고속도로 접근성 등의 정보를 이용하여 1970년대 보스턴 주변의 주택 평균 가격을 예측하는 것임. 이 데이터셋에는 데이터 포인트 506개, 특성 13개가 있음."
      ]
    },
    {
      "cell_type": "code",
      "metadata": {
        "colab": {
          "base_uri": "https://localhost:8080/"
        },
        "id": "8Nz8L_ActfXM",
        "outputId": "22a10e0a-cedb-43c7-a7d4-01bd2d68a621"
      },
      "source": [
        "from sklearn.datasets import load_boston\n",
        "boston = load_boston()\n",
        "print('데이터의 형태:', boston.data.shape)"
      ],
      "execution_count": null,
      "outputs": [
        {
          "output_type": "stream",
          "text": [
            "데이터의 형태: (506, 13)\n"
          ],
          "name": "stdout"
        }
      ]
    },
    {
      "cell_type": "code",
      "metadata": {
        "colab": {
          "base_uri": "https://localhost:8080/"
        },
        "id": "aDnzG4Y1esbJ",
        "outputId": "58343be4-d3d8-43b2-f819-8c38e6b69ce7"
      },
      "source": [
        "print('자세한 정보:\\n', boston.DESCR)"
      ],
      "execution_count": null,
      "outputs": [
        {
          "output_type": "stream",
          "text": [
            "자세한 정보:\n",
            " .. _boston_dataset:\n",
            "\n",
            "Boston house prices dataset\n",
            "---------------------------\n",
            "\n",
            "**Data Set Characteristics:**  \n",
            "\n",
            "    :Number of Instances: 506 \n",
            "\n",
            "    :Number of Attributes: 13 numeric/categorical predictive. Median Value (attribute 14) is usually the target.\n",
            "\n",
            "    :Attribute Information (in order):\n",
            "        - CRIM     per capita crime rate by town\n",
            "        - ZN       proportion of residential land zoned for lots over 25,000 sq.ft.\n",
            "        - INDUS    proportion of non-retail business acres per town\n",
            "        - CHAS     Charles River dummy variable (= 1 if tract bounds river; 0 otherwise)\n",
            "        - NOX      nitric oxides concentration (parts per 10 million)\n",
            "        - RM       average number of rooms per dwelling\n",
            "        - AGE      proportion of owner-occupied units built prior to 1940\n",
            "        - DIS      weighted distances to five Boston employment centres\n",
            "        - RAD      index of accessibility to radial highways\n",
            "        - TAX      full-value property-tax rate per $10,000\n",
            "        - PTRATIO  pupil-teacher ratio by town\n",
            "        - B        1000(Bk - 0.63)^2 where Bk is the proportion of blacks by town\n",
            "        - LSTAT    % lower status of the population\n",
            "        - MEDV     Median value of owner-occupied homes in $1000's\n",
            "\n",
            "    :Missing Attribute Values: None\n",
            "\n",
            "    :Creator: Harrison, D. and Rubinfeld, D.L.\n",
            "\n",
            "This is a copy of UCI ML housing dataset.\n",
            "https://archive.ics.uci.edu/ml/machine-learning-databases/housing/\n",
            "\n",
            "\n",
            "This dataset was taken from the StatLib library which is maintained at Carnegie Mellon University.\n",
            "\n",
            "The Boston house-price data of Harrison, D. and Rubinfeld, D.L. 'Hedonic\n",
            "prices and the demand for clean air', J. Environ. Economics & Management,\n",
            "vol.5, 81-102, 1978.   Used in Belsley, Kuh & Welsch, 'Regression diagnostics\n",
            "...', Wiley, 1980.   N.B. Various transformations are used in the table on\n",
            "pages 244-261 of the latter.\n",
            "\n",
            "The Boston house-price data has been used in many machine learning papers that address regression\n",
            "problems.   \n",
            "     \n",
            ".. topic:: References\n",
            "\n",
            "   - Belsley, Kuh & Welsch, 'Regression diagnostics: Identifying Influential Data and Sources of Collinearity', Wiley, 1980. 244-261.\n",
            "   - Quinlan,R. (1993). Combining Instance-Based and Model-Based Learning. In Proceedings on the Tenth International Conference of Machine Learning, 236-243, University of Massachusetts, Amherst. Morgan Kaufmann.\n",
            "\n"
          ],
          "name": "stdout"
        }
      ]
    },
    {
      "cell_type": "markdown",
      "metadata": {
        "id": "XmOcRj_DeNof"
      },
      "source": [
        "이 데이터셋에서는 입력 특성 13개뿐만 아니라 특성끼리 곱하여(또는 상호작용이라 일컬음) 의도적으로 확장함. 다시 말하면 범죄율과 고속도로 접근성의 개별 특성은 물론 범죄율과 고속도로 접근성의 곱도 특성으로 여긴다는 뜻임. 이렇게 특성을 유도하는 것을 '특성 공학(feature engineering)'이라고 함. 4장에서 자세하게 다룸. 유도된 데이터셋은 `load_extended_boston` 함수를 사용하여 부를 수 있음."
      ]
    },
    {
      "cell_type": "code",
      "metadata": {
        "colab": {
          "base_uri": "https://localhost:8080/"
        },
        "id": "MPNSdGt8f0Eq",
        "outputId": "a4a4cc30-f16c-43b5-d798-1f75ef6350ff"
      },
      "source": [
        "X, y = mglearn.datasets.load_extended_boston()\n",
        "print('X.shape:', X.shape)\n",
        "# 특성 13개에서 중복을 포함하여 2개씩 짝지은 특성 91개를 더해서 104개가 됨.\n",
        "# 첫 번째 특성으로 교차항 13개가 만들어지고,\n",
        "# 두 번째 특성으로 교차항 12개가 만들어짐.\n",
        "# 세 번째 특성으로 교차항 11개가 만들어짐.\n",
        "# 13 + 12 + 11 + ... + 1 = 91개"
      ],
      "execution_count": null,
      "outputs": [
        {
          "output_type": "stream",
          "text": [
            "X.shape: (506, 104)\n"
          ],
          "name": "stdout"
        }
      ]
    },
    {
      "cell_type": "markdown",
      "metadata": {
        "id": "_Q5NAWeci-VE"
      },
      "source": [
        "위 특성 공학에 대한 설명으로 이항 계수 공식을 추가함.   \n",
        "중복을 고려하지 않은 이항 계수의 공식은 $\\begin{pmatrix} n\\\\ k\\\\ \\end{pmatrix} = \\frac{n!}{k!(n-k)!}$이므로 $\\frac{13!}{2!(13-2)!}=78$이 됨.   \n",
        "\n",
        "`load_extend_boston` 함수는 사이킷런의 `PolynomialFeatures` 함수를 사용하여 중복을 포함한 조합을 만듦.   \n",
        "중복을 포함한 조합의 수를 구하는 공식은 $\\begin{pmatrix} \\begin{pmatrix} n\\\\ k\\\\ \\end{pmatrix} \\end{pmatrix} = \\begin{pmatrix} n+k-1\\\\ k\\\\ \\end{pmatrix}$이므로 $\\frac{14!}{2!(14-2)!}=91$이 됨."
      ]
    },
    {
      "cell_type": "markdown",
      "metadata": {
        "id": "6fEWYEvtVCjd"
      },
      "source": [
        "## 2.3.2 k-최근접 이웃\n",
        "'k-NN(k-Nearest Neighbors)' 알고리즘은 머신러닝 알고리즘 중에 가장 간단함. 훈련 데이터셋을 그냥 저장하는 것이 모델을 만드는 전체 과정임. 새로운 데이터에 대해 예측할 땐 알고리즘이 훈련 데이터셋에서 가장 가까운 데이터 포인트, 즉 '최근접 이웃'을 찾음. 최근접 이웃의 개수는 k이며 `n_neighbors` 매개변수에 지정함."
      ]
    },
    {
      "cell_type": "markdown",
      "metadata": {
        "id": "P2gCdhsggfp_"
      },
      "source": [
        "### k-최근접 이웃 분류\n",
        "\n",
        "가장 가까운 훈련 데이터 포인트 하나를 최근접 이웃으로 찾아서 예측에 사용함. 단순하게 이 훈련 데이터 포인트의 출력이 예측됨."
      ]
    },
    {
      "cell_type": "markdown",
      "metadata": {
        "id": "WltyT0nTyz23"
      },
      "source": [
        "forge 데이터셋에 대한 1-최근접 이웃 모델의 예측 그래프를 그림. 데이터 포인트(별 모양) 3개를 추가함. 그리고 추가한 각 데이터 포인트에서 가장 가까운 훈련 데이터 포인트를 연결함. 1-최근접 이웃 알고리즘의 예측은 이 데이터 포인트의 레이블이 되며 같은 색으로 연결하여 표시함."
      ]
    },
    {
      "cell_type": "code",
      "metadata": {
        "colab": {
          "base_uri": "https://localhost:8080/",
          "height": 300
        },
        "id": "WgvJVcZrhBs-",
        "outputId": "15ef5052-88ac-4759-c5b2-d56735cb8321"
      },
      "source": [
        "mglearn.plots.plot_knn_classification(n_neighbors=1)"
      ],
      "execution_count": null,
      "outputs": [
        {
          "output_type": "stream",
          "text": [
            "/usr/local/lib/python3.7/dist-packages/sklearn/utils/deprecation.py:87: FutureWarning: Function make_blobs is deprecated; Please import make_blobs directly from scikit-learn\n",
            "  warnings.warn(msg, category=FutureWarning)\n"
          ],
          "name": "stderr"
        },
        {
          "output_type": "display_data",
          "data": {
            "image/png": "[encoded data removed]",
            "text/plain": [
              "<Figure size 432x288 with 1 Axes>"
            ]
          },
          "metadata": {
            "tags": [],
            "needs_background": "light"
          }
        }
      ]
    },
    {
      "cell_type": "markdown",
      "metadata": {
        "id": "6AMTA3xBy2wp"
      },
      "source": [
        "둘 이상의 이웃(k)을 선택할 경우에는 레이블을 정하기 위해 테스트 포인트 하나에 대해 클래스0에 속한 이웃이 몇 개인지, 클래스1에 속한 이웃이 몇 개인지 셈. 그리고 이웃이 더 많은 클래스를 레이블로 지정함. 다시 말하면 k-최근접 이웃 중에 다수의 클래스가 레이블이 됨. 최근접 이웃 3개를 사용하는 그림을 그림."
      ]
    },
    {
      "cell_type": "code",
      "metadata": {
        "colab": {
          "base_uri": "https://localhost:8080/",
          "height": 300
        },
        "id": "iXOZaSiw0Hmb",
        "outputId": "d303dfb4-74cf-4057-d346-6239545b8447"
      },
      "source": [
        "mglearn.plots.plot_knn_classification(n_neighbors=3)"
      ],
      "execution_count": null,
      "outputs": [
        {
          "output_type": "stream",
          "text": [
            "/usr/local/lib/python3.7/dist-packages/sklearn/utils/deprecation.py:87: FutureWarning: Function make_blobs is deprecated; Please import make_blobs directly from scikit-learn\n",
            "  warnings.warn(msg, category=FutureWarning)\n"
          ],
          "name": "stderr"
        },
        {
          "output_type": "display_data",
          "data": {
            "image/png": "[encoded data removed]",
            "text/plain": [
              "<Figure size 432x288 with 1 Axes>"
            ]
          },
          "metadata": {
            "tags": [],
            "needs_background": "light"
          }
        }
      ]
    },
    {
      "cell_type": "markdown",
      "metadata": {
        "id": "IfFxcv9m01Ct"
      },
      "source": [
        "여기에서도 예측은 연결된 데이터 포인트의 색으로 나타냄. 새 데이터 포인트 중에 왼쪽 위의 것은 클래스 3개 중에 클래스1이 2개이면서 다수이므로 이웃을 하나만 사용했을 때와 예측이 달라짐.   \n",
        "이 그림은 이진 분류 문제지만 클래스가 다수인 데이터셋에도 같은 방법을 적용할 수 있음. 클래스가 여러 개일 때도 각 클래스에 속한 이웃이 몇 개인지 헤아려서 가장 많은 클래스를 예측값으로 사용함."
      ]
    },
    {
      "cell_type": "markdown",
      "metadata": {
        "id": "zdr-tx9T1xZI"
      },
      "source": [
        "사이킷런을 사용해서 k-최근접 이웃 알고리즘을 어떻게 적용하는지 살핌. 먼저 일반화 성능을 평가할 수 있도록 데이터를 훈련 세트와 테스트 세트로 나눔."
      ]
    },
    {
      "cell_type": "code",
      "metadata": {
        "colab": {
          "base_uri": "https://localhost:8080/"
        },
        "id": "rFMQ9wDk17gc",
        "outputId": "4e9baaae-35ed-42a5-dcfc-e052c6122f28"
      },
      "source": [
        "from sklearn.model_selection import train_test_split\n",
        "X, y = mglearn.datasets.make_forge()\n",
        "\n",
        "X_train, X_test, y_train, y_test = train_test_split(X, y, random_state=0)"
      ],
      "execution_count": null,
      "outputs": [
        {
          "output_type": "stream",
          "text": [
            "/usr/local/lib/python3.7/dist-packages/sklearn/utils/deprecation.py:87: FutureWarning: Function make_blobs is deprecated; Please import make_blobs directly from scikit-learn\n",
            "  warnings.warn(msg, category=FutureWarning)\n"
          ],
          "name": "stderr"
        }
      ]
    },
    {
      "cell_type": "markdown",
      "metadata": {
        "id": "OCQu8loI2NLb"
      },
      "source": [
        "`KNeighborsClassifier`를 임포트 하고 객체를 만들고 이웃의 수를 지정하는 `n_neighbors` 매개변수를 **3**으로 지정함."
      ]
    },
    {
      "cell_type": "code",
      "metadata": {
        "id": "wRbRJwoj2ie8"
      },
      "source": [
        "from sklearn.neighbors import KNeighborsClassifier\n",
        "clf = KNeighborsClassifier(n_neighbors=3)"
      ],
      "execution_count": null,
      "outputs": []
    },
    {
      "cell_type": "markdown",
      "metadata": {
        "id": "dgZusvBq2s8w"
      },
      "source": [
        "훈련 세트를 사용하여 분류 모델을 학습시킴. `KNeighborsClassifier`의 학습은 예측할 때 이웃을 찾을 수 있도록 데이터를 저장하는 것임."
      ]
    },
    {
      "cell_type": "code",
      "metadata": {
        "colab": {
          "base_uri": "https://localhost:8080/"
        },
        "id": "DE1X-wJS244m",
        "outputId": "7ea99c51-13c0-46d6-8a36-73352e9a8253"
      },
      "source": [
        "clf.fit(X_train, y_train)"
      ],
      "execution_count": null,
      "outputs": [
        {
          "output_type": "execute_result",
          "data": {
            "text/plain": [
              "KNeighborsClassifier(algorithm='auto', leaf_size=30, metric='minkowski',\n",
              "                     metric_params=None, n_jobs=None, n_neighbors=3, p=2,\n",
              "                     weights='uniform')"
            ]
          },
          "metadata": {
            "tags": []
          },
          "execution_count": 17
        }
      ]
    },
    {
      "cell_type": "markdown",
      "metadata": {
        "id": "PkhwDLoD2-HI"
      },
      "source": [
        "테스트 데이터에 대해 `predict` 메서드를 호출하여 예측함. 테스트 세트의 각 데이터 포인트에 대해 훈련 세트에서 가장 가까운 이웃을 계산한 후에 가장 많은 클래스를 찾음."
      ]
    },
    {
      "cell_type": "code",
      "metadata": {
        "colab": {
          "base_uri": "https://localhost:8080/"
        },
        "id": "HtKnBr-E3J_f",
        "outputId": "af000225-1b6c-435a-8510-cd2e933d62e0"
      },
      "source": [
        "print('테스트 세트 예측:', clf.predict(X_test))"
      ],
      "execution_count": null,
      "outputs": [
        {
          "output_type": "stream",
          "text": [
            "테스트 세트 예측: [1 0 1 0 1 0 0]\n"
          ],
          "name": "stdout"
        }
      ]
    },
    {
      "cell_type": "markdown",
      "metadata": {
        "id": "WKCT-hxi3TrF"
      },
      "source": [
        "모델이 잘 일반화되었는지 평가하기 위해 `score` 메서드에 테스트 데이터와 테스트 레이블을 넣고 호출함."
      ]
    },
    {
      "cell_type": "code",
      "metadata": {
        "colab": {
          "base_uri": "https://localhost:8080/"
        },
        "id": "VmW9cOUJ3cd8",
        "outputId": "4a95608b-4911-47c0-94c8-3e8dbe93a2a6"
      },
      "source": [
        "print('테스트 세트 정확도: {:.2f}'.format(clf.score(X_test, y_test)))"
      ],
      "execution_count": null,
      "outputs": [
        {
          "output_type": "stream",
          "text": [
            "테스트 세트 정확도: 0.86\n"
          ],
          "name": "stdout"
        }
      ]
    },
    {
      "cell_type": "markdown",
      "metadata": {
        "id": "iXBEQvAq3pWm"
      },
      "source": [
        "이 모델의 정확도는 86%로 측정됨. 모델이 테스트 데이터셋에 있는 샘플 중에 86%를 정확하게 예측한 것을 의미함."
      ]
    },
    {
      "cell_type": "markdown",
      "metadata": {
        "id": "yh1TLlWb31Pq"
      },
      "source": [
        "### KNeighborsClassifier 분석\n",
        "\n",
        "2차원 데이터셋이므로 가능한 모든 테스트 포인트의 예측을 xy평면에 그릴 수 있음. 더불어 각 데이터 포인트가 속한 클래스에 따라 평면에 색을 칠함. 이 과정을 통해 알고리즘이 클래스 0과 클래스 1로 지정한 영역으로 나뉘는 '결정 경계(decision boundary)'를 확인할 수 있음."
      ]
    },
    {
      "cell_type": "markdown",
      "metadata": {
        "id": "dE7IveuT4d4z"
      },
      "source": [
        "다음 코드는 이웃이 1, 3, 9개일 경우 결정 경계를 보여줌."
      ]
    },
    {
      "cell_type": "code",
      "metadata": {
        "colab": {
          "base_uri": "https://localhost:8080/",
          "height": 242
        },
        "id": "XvQELDeS4kwE",
        "outputId": "b8af2c3e-e9d9-41b6-ac25-1bf8e5d6733e"
      },
      "source": [
        "fig, axes = plt.subplots(1, 3, figsize=(10, 3))\n",
        "\n",
        "for n_neighbors, ax in zip([1, 3, 9], axes):    \n",
        "    clf = KNeighborsClassifier(n_neighbors=n_neighbors).fit(X, y)\n",
        "    # 'fit' 메서드는 self 오브젝트를 리턴 하므로 객체 생성과 'fit' 메서드를 한 줄에 쓸 수 있음.\n",
        "    mglearn.plots.plot_2d_separator(clf, X, fill=True, eps=0.5, ax=ax, alpha=.4)\n",
        "    mglearn.discrete_scatter(X[:, 0], X[:, 1], y, ax=ax)\n",
        "    ax.set_title('{} neighbors'.format(n_neighbors))\n",
        "    ax.set_xlabel('feature 0')\n",
        "    ax.set_ylabel('feature 1')\n",
        "axes[0].legend(loc=3)"
      ],
      "execution_count": null,
      "outputs": [
        {
          "output_type": "execute_result",
          "data": {
            "text/plain": [
              "<matplotlib.legend.Legend at 0x7ff28e116d10>"
            ]
          },
          "metadata": {
            "tags": []
          },
          "execution_count": 20
        },
        {
          "output_type": "display_data",
          "data": {
            "image/png": "[encoded data removed]",
            "text/plain": [
              "<Figure size 720x216 with 3 Axes>"
            ]
          },
          "metadata": {
            "tags": []
          }
        }
      ]
    },
    {
      "cell_type": "markdown",
      "metadata": {
        "id": "Xxj7iTanbxY7"
      },
      "source": [
        "위 그림을 보면 이웃을 하나 선택했을 때는 결정 경계가 훈련 데이터에 가깝게 따라가고 있으나, 이웃의 수를 늘릴수록 결정 경계가 점점 부드러워짐. 부드러운 경계는 더 단순한 모델을 의미함. 이웃을 적게 사용하면 모델 복잡도가 높아지고 많이 사용하면 복잡도는 낮아짐. 훈련 데이터 전체 개수를 이웃의 수로 지정하는 극단적인 경우에는 모든 테스트 포인트가 같은 이웃(모든 훈련 데이터)을 가지게 되므로 테스트 포인트에 대한 예측은 모두 같은 값이 됨. 즉 훈련 세트에서 가장 많은 데이터 포인트를 가진 클래스가 예측값이 됨."
      ]
    },
    {
      "cell_type": "markdown",
      "metadata": {
        "id": "YxWxTtTJfofl"
      },
      "source": [
        "앞서 살펴봤던 모델 복잡도와 일반화 사이의 관계를 입증할 수 있는지 살펴봄. 이를 위해 실제 데이터인 유방암 데이터셋을 사용함. 먼저 훈련 세트와 테스트 세트로 나누고 이웃의 수를 다르게 해서 훈련 세트와 테스트 세트의 성능을 평가함."
      ]
    },
    {
      "cell_type": "code",
      "metadata": {
        "colab": {
          "base_uri": "https://localhost:8080/",
          "height": 298
        },
        "id": "xDoCeuCogEyz",
        "outputId": "dac96bd5-fac8-43e4-bf05-c5796e5c9cb1"
      },
      "source": [
        "from sklearn.datasets import load_breast_cancer\n",
        "\n",
        "cancer = load_breast_cancer()\n",
        "X_train, X_test, y_train, y_test = train_test_split(\n",
        "    cancer.data, cancer.target, stratify=cancer.target, random_state=66)\n",
        "\n",
        "training_accuracy = []\n",
        "test_accuracy = []\n",
        "# 1 ~ 10까지 `n_neighbors`를 적용함.\n",
        "neighbors_settings = range(1, 11)\n",
        "\n",
        "for n_neighbors in neighbors_settings:\n",
        "    # 모델을 생성함.\n",
        "    clf = KNeighborsClassifier(n_neighbors=n_neighbors)\n",
        "    clf.fit(X_train, y_train)\n",
        "    # 훈련 세트 정확도를 저장함.\n",
        "    training_accuracy.append(clf.score(X_train, y_train))\n",
        "    # 일반화 정확도를 저장함.\n",
        "    test_accuracy.append(clf.score(X_test, y_test))\n",
        "\n",
        "plt.plot(neighbors_settings, training_accuracy, label='traing accuracy')\n",
        "plt.plot(neighbors_settings, test_accuracy, label='test accuracy')\n",
        "plt.xlabel('n_neighbors')\n",
        "plt.ylabel('accuracy')\n",
        "plt.legend()"
      ],
      "execution_count": null,
      "outputs": [
        {
          "output_type": "execute_result",
          "data": {
            "text/plain": [
              "<matplotlib.legend.Legend at 0x7ff28de908d0>"
            ]
          },
          "metadata": {
            "tags": []
          },
          "execution_count": 21
        },
        {
          "output_type": "display_data",
          "data": {
            "image/png": "[encoded data removed]",
            "text/plain": [
              "<Figure size 432x288 with 1 Axes>"
            ]
          },
          "metadata": {
            "tags": [],
            "needs_background": "light"
          }
        }
      ]
    },
    {
      "cell_type": "markdown",
      "metadata": {
        "id": "jB-ZmR4yBoHg"
      },
      "source": [
        "이 그림은 `n_neighbors` 수(x축)에 따른 훈련 세트와 테스트 세트 정확도(y축)를 보여줌. 실제 이런 그래프는 매끈하게 나오지 않지만 여기서도 과대적합과 과소적합 현상을 볼 수 있음. 이웃의 수가 적을수록 모델이 복잡해지므로 그래프가 수평으로 뒤집힌 형태임. 최근접 이웃인 k의 수가 하나일 경우에는 훈련 데이터에 대한 예측이 완벽함. 그러나 이웃의 수가 늘어날수록 모델은 단순해지고 훈련 데이터의 정확도는 줄어듦. 이웃을 많이 사용했을 경우보다 이웃을 하나 사용한 테스트 세트의 정확도는 낮은데 이는 모델을 너무 복잡하게 만든 것을 의미함. 반대로 이웃을 10개 사용했을 경우에는 모델이 너무 단순해서 정확도는 더 나빠짐. 정확도가 가장 좋을 때는 중간 정도인 6개를 사용한 경우임. 그래프의 범위를 눈여겨보면 가장 나쁜 정확도도 88%여서 인정할 만함."
      ]
    },
    {
      "cell_type": "markdown",
      "metadata": {
        "id": "URoUxSJEDQ7v"
      },
      "source": [
        "### k-최근접 이웃 회귀\n",
        "\n",
        "k-최근접 이웃 알고리즘은 회귀 분석에도 쓰임. 이번에는 wave 데이터셋을 이용해서 이웃이 하나인 최근접 이웃을 사용함. x축에 테스트 데이터 3개를 흐린 별 모양으로 표시함. 최근접 이웃을 1개만 이용할 때 예측은 그저 가장 가까운 이웃의 타깃값이며 진한 별 모양으로 표시함."
      ]
    },
    {
      "cell_type": "code",
      "metadata": {
        "colab": {
          "base_uri": "https://localhost:8080/",
          "height": 414
        },
        "id": "LpbjsdcQDp1A",
        "outputId": "6d510021-3960-4f02-9776-68e284c80024"
      },
      "source": [
        "mglearn.plots.plot_knn_regression(n_neighbors=1)"
      ],
      "execution_count": null,
      "outputs": [
        {
          "output_type": "display_data",
          "data": {
            "image/png": "[encoded data removed]",
            "text/plain": [
              "<Figure size 720x432 with 1 Axes>"
            ]
          },
          "metadata": {
            "tags": [],
            "needs_background": "light"
          }
        }
      ]
    },
    {
      "cell_type": "markdown",
      "metadata": {
        "id": "tW-z597WD7e8"
      },
      "source": [
        "여기에서도 이웃을 둘 이상 사용할 수 있음. 최근접 이웃 여러 개를 사용하면 이웃 간 평균을 예측으로 삼음."
      ]
    },
    {
      "cell_type": "code",
      "metadata": {
        "colab": {
          "base_uri": "https://localhost:8080/",
          "height": 414
        },
        "id": "UEXHdTsgEFxX",
        "outputId": "808b3b58-41c1-4567-a1ec-b7ebe57d52e6"
      },
      "source": [
        "mglearn.plots.plot_knn_regression(n_neighbors=3)"
      ],
      "execution_count": null,
      "outputs": [
        {
          "output_type": "display_data",
          "data": {
            "image/png": "[encoded data removed]",
            "text/plain": [
              "<Figure size 720x432 with 1 Axes>"
            ]
          },
          "metadata": {
            "tags": [],
            "needs_background": "light"
          }
        }
      ]
    },
    {
      "cell_type": "markdown",
      "metadata": {
        "id": "OYV1nbgeENhO"
      },
      "source": [
        "사이킷런에 회귀를 위한 k-최근접 이웃 알고리즘은 `KNeighborsRegressor` 클래스에 구현되어 있으며 사용법은 `KNeighborsClassifier` 클래스와 비슷함."
      ]
    },
    {
      "cell_type": "code",
      "metadata": {
        "colab": {
          "base_uri": "https://localhost:8080/"
        },
        "id": "sj9taAz5Eb-R",
        "outputId": "c69b5784-c198-4c80-8588-e6746c518e61"
      },
      "source": [
        "from sklearn.neighbors import KNeighborsRegressor\n",
        "\n",
        "X, y = mglearn.datasets.make_wave(n_samples=40)\n",
        "\n",
        "# wave 데이터셋을 훈련 세트와 테스트 세트로 나눔.\n",
        "X_train, X_test, y_train, y_test = train_test_split(X, y, random_state=0)\n",
        "\n",
        "# 이웃의 수를 3으로 지정하여 모델의 객체를 만듦.\n",
        "reg = KNeighborsRegressor(n_neighbors=3)\n",
        "# 훈련 데이터와 타깃을 사용하여 모델을 학습시킴.\n",
        "reg.fit(X_train, y_train)"
      ],
      "execution_count": null,
      "outputs": [
        {
          "output_type": "execute_result",
          "data": {
            "text/plain": [
              "KNeighborsRegressor(algorithm='auto', leaf_size=30, metric='minkowski',\n",
              "                    metric_params=None, n_jobs=None, n_neighbors=3, p=2,\n",
              "                    weights='uniform')"
            ]
          },
          "metadata": {
            "tags": []
          },
          "execution_count": 24
        }
      ]
    },
    {
      "cell_type": "markdown",
      "metadata": {
        "id": "bA55cg7cFPBw"
      },
      "source": [
        "테스트 세트에 대해 예측함."
      ]
    },
    {
      "cell_type": "code",
      "metadata": {
        "colab": {
          "base_uri": "https://localhost:8080/"
        },
        "id": "zSqAiDauFDFo",
        "outputId": "01df0d37-d9f3-4d76-f875-58469f276c1c"
      },
      "source": [
        "print('테스트 세트 예측:\\n', reg.predict(X_test))"
      ],
      "execution_count": null,
      "outputs": [
        {
          "output_type": "stream",
          "text": [
            "테스트 세트 예측:\n",
            " [-0.05396539  0.35686046  1.13671923 -1.89415682 -1.13881398 -1.63113382\n",
            "  0.35686046  0.91241374 -0.44680446 -1.13881398]\n"
          ],
          "name": "stdout"
        }
      ]
    },
    {
      "cell_type": "markdown",
      "metadata": {
        "id": "7JdwF15HFUVU"
      },
      "source": [
        "`score` 메서드를 사용하여 모델을 평가함. 이 메서드는 회귀일 땐 '결정 계수'를 뜻하는 $R^2$ 값을 반환함. 이 값은 회귀 모델에서 예측의 적합도를 측정한 것으로 보통 0~1 사이 값임. 1은 완벽하게 예측한 경우이고, 0은 훈련 세트의 출력값인 'y_train'의 평균으로만 예측하는 모델의 경우임. 물론 음수가 될 수도 있는데 이 경우는 예측과 타깃이 상반된 경향을 가지는 것을 의미함.\n",
        "\n",
        "$R^2 = 1-\\frac{\\sum_(y-\\hat{y})^2}{\\sum_(y-\\overline{y})^2}$   \n",
        "\n",
        "$y$는 타깃값, $\\overline{y}$는 타깃값의 평균, $\\hat{y}$는 모델의 예측값임.   \n",
        "참고로 무조건 'y_train'의 평균값을 예측으로 사용하면 $R^2$의 공식에서 $\\hat{y}$이 $\\overline{y}$와 같게 되고 분자와 분모가 같아져서 최종 계산값은 0이 됨."
      ]
    },
    {
      "cell_type": "code",
      "metadata": {
        "colab": {
          "base_uri": "https://localhost:8080/"
        },
        "id": "WsR2HInJF52V",
        "outputId": "6916a5b1-f62d-46dc-e051-375ffa18ce39"
      },
      "source": [
        "print('테스트 세트 R^2: {:.2f}'.format(reg.score(X_test, y_test)))"
      ],
      "execution_count": null,
      "outputs": [
        {
          "output_type": "stream",
          "text": [
            "테스트 세트 R^2: 0.83\n"
          ],
          "name": "stdout"
        }
      ]
    },
    {
      "cell_type": "markdown",
      "metadata": {
        "id": "8ODkTv7LGKOJ"
      },
      "source": [
        "점수가 0.83이므로 나름 잘 맞은 편임."
      ]
    },
    {
      "cell_type": "markdown",
      "metadata": {
        "id": "vsWHfd7pf8Y_"
      },
      "source": [
        "### KNeighborsRegressor 분석\n",
        "\n",
        "이 1차원 데이터셋에 대해 가능한 모든 특성 값을 만들어서 예측할 수 있음. 이를 위해 x축을 따라 많은 포인트를 생성하여 테스트 데이터셋을 만듦."
      ]
    },
    {
      "cell_type": "code",
      "metadata": {
        "colab": {
          "base_uri": "https://localhost:8080/",
          "height": 313
        },
        "id": "hX1bhnPXgX7A",
        "outputId": "65f3323d-cacb-416b-9c40-972955af0af7"
      },
      "source": [
        "fig, axes = plt.subplots(1, 3, figsize=(15, 4))\n",
        "# -3~3 사이에 데이터 포인트 1,000개를 만들고 2차원 배열로 바꿈.\n",
        "line = np.linspace(-3, 3, 1000).reshape(-1, 1)\n",
        "\n",
        "for n_neighbors, ax in zip([1, 3, 9], axes):\n",
        "    # 1, 3, 9 이웃을 사용한 예측을 함.\n",
        "    reg = KNeighborsRegressor(n_neighbors=n_neighbors)\n",
        "    reg.fit(X_train, y_train)\n",
        "    ax.plot(line, reg.predict(line))\n",
        "    ax.plot(X_train, y_train, '^', c=mglearn.cm2(0), markersize=8)\n",
        "    ax.plot(X_test, y_test, 'v', c=mglearn.cm2(1), markersize=8)\n",
        "\n",
        "    ax.set_title(\n",
        "        \"{} neighbor's training score: {:.2f} test score: {:.2f}\".format(\n",
        "            n_neighbors, reg.score(X_train, y_train), reg.score(X_test, y_test)))\n",
        "    ax.set_xlabel('feature')\n",
        "    ax.set_ylabel('target')\n",
        "axes[0].legend(['model prediction', 'training data/target', 'test data/target'], loc='best')"
      ],
      "execution_count": null,
      "outputs": [
        {
          "output_type": "execute_result",
          "data": {
            "text/plain": [
              "<matplotlib.legend.Legend at 0x7ff28dc45550>"
            ]
          },
          "metadata": {
            "tags": []
          },
          "execution_count": 27
        },
        {
          "output_type": "display_data",
          "data": {
            "image/png": "[encoded data removed]",
            "text/plain": [
              "<Figure size 1080x288 with 3 Axes>"
            ]
          },
          "metadata": {
            "tags": [],
            "needs_background": "light"
          }
        }
      ]
    },
    {
      "cell_type": "markdown",
      "metadata": {
        "id": "sU5Zt4q8i4Nd"
      },
      "source": [
        "이웃을 하나만 사용할 때는 훈련 세트의 각 데이터 포인트가 예측에 주는 영향이 커서 예측값이 훈련 데이터 포인트를 모두 지나가므로 매우 불안정하게 예측함. 이웃을 많이 사용하면 훈련 데이터에는 잘 안 맞을 수 있으나 더 안정된 예측을 얻게 됨."
      ]
    },
    {
      "cell_type": "markdown",
      "metadata": {
        "id": "Vg7_O9TIjNHm"
      },
      "source": [
        "### 장단점과 매개변수\n",
        "\n",
        "일반적으로 `KNeighbors` 분류기에 중요한 매개변수는 데이터 포인트 사이의 거리를 재는 방법, 이웃의 수임. 실제로 이웃의 수는 3개나 5개 정도로 적을 때 잘 작동하지만 신경 써서 조정해야 함. 거리 재는 방식은 더 다루지 않지만 기본적으로 여러 환경에서 잘 작동하는 방식은 '유클리디안 거리' 방식임.\n",
        "\n",
        "'k-NN'의 장점은 이해하기 매우 쉬운 모델이라는 점, 많이 조정하지 않아도 자주 좋은 성능을 발휘한다는 점임. 더 복잡한 알고리즘을 적용하지 전에 시도해볼 수 있음.\n",
        "\n",
        "보통 최근접 이웃 모델은 매우 빠르게 만들 수는 있지만 훈련 세트가 매우 크면(특성의 수나 샘플의 수가 크면) 예측이 느림. k-NN 알고리즘을 사용할 땐 데이터를 전처리 하는 과정(3장에서 다룸)이 중요함. 아울러 수백 개 이상의 많은 특성을 가진 데이터셋에는 잘 동작하지 않고 특성 값 대부분이 0인 희소한 데이터셋과는 특히 잘 작동하지 않음.\n",
        "\n",
        "결론적으로 k-최근접 이웃 알고리즘은 이해하기 쉽지만 예측이 느리고 많은 특성을 처리하는 능력이 부족해서 현업에서 거의 쓰지 않음."
      ]
    },
    {
      "cell_type": "markdown",
      "metadata": {
        "id": "YKR8Kh0bVCg1"
      },
      "source": [
        "## 2.3.3 선형 모델\n",
        "\n",
        "'선형 모델(linear model)'은 100여 년 전에 개발되었고 지난 몇십 년간 폭넓게 연구되며 현재도 널리 쓰임. 입력 특성에 대한 '선형 함수'를 만들어 예측을 수행함."
      ]
    },
    {
      "cell_type": "markdown",
      "metadata": {
        "id": "nV5plBGZKZ0y"
      },
      "source": [
        "### 회귀의 선형 모델\n",
        "\n",
        "회귀의 경우 선형 모델을 위한 일반화된 예측 함수는 다음과 같음.\n",
        "\n",
        "$\\hat{y} = w[0] \\times x[0] + w[1] \\times x[1] + \\cdots + w[p] \\times x[p] + b$\n",
        "\n",
        "이 식에서 $x[0]$부터 $x[p]$까지는 데이터 포인트 하나에 대한 특성을 나타내며(특성 개수는 p + 1),   \n",
        "$w$와 $b$는 모델이 학습할 파라미터임. $\\hat{y}$은 모델이 만들어낸 예측값임. 특성이 하나인 데이터셋이라면 이 식은 다음과 같아짐.\n",
        "\n",
        "$\\hat{y} = w[0] \\times x[0] + b$\n",
        "\n",
        "$w[0]$은 기울기, $b$는 y축과 만나는 절편임. 특성이 많아지면 $w$는 각 특성에 해당하는 기울기를 모두 가짐. 다르게 생각하면 예측값은 입력 특성에 $w$의 각 가중치(음수일 수도 있음)를 곱해서 더한 가중치 합으로 볼 수 있음."
      ]
    },
    {
      "cell_type": "markdown",
      "metadata": {
        "id": "HHiXlNqpVGYT"
      },
      "source": [
        "1차원 wave 데이터셋으로 파라미터 $w[0]$와 $b$를 직선처럼 되도록 학습시킴."
      ]
    },
    {
      "cell_type": "code",
      "metadata": {
        "colab": {
          "base_uri": "https://localhost:8080/",
          "height": 465
        },
        "id": "d9cXGOvTVOqQ",
        "outputId": "0138d0a2-505c-4f9c-9947-420d98816226"
      },
      "source": [
        "mglearn.plots.plot_linear_regression_wave()"
      ],
      "execution_count": null,
      "outputs": [
        {
          "output_type": "stream",
          "text": [
            "w[0]: 0.393906  b: -0.031804\n"
          ],
          "name": "stdout"
        },
        {
          "output_type": "display_data",
          "data": {
            "image/png": "[encoded data removed]",
            "text/plain": [
              "<Figure size 576x576 with 1 Axes>"
            ]
          },
          "metadata": {
            "tags": [],
            "needs_background": "light"
          }
        }
      ]
    },
    {
      "cell_type": "markdown",
      "metadata": {
        "id": "2mo5ztDZVyix"
      },
      "source": [
        "직선 방정식을 이해하기 쉽도록 그래프의 중앙을 가로질러서 x, y축을 그림. $w[0]$ 값을 보면 기울기는 대략 0.4 정도여야 하며, 그래프에서 확인할 수 있음.\n",
        "\n",
        "회귀를 위한 선형 모델은 특성이 하나일 땐 직선, 두 개일 땐 평면이 되며, 더 높은 차원(특성이 더 많음)에서는 '초평면(hyperplane)'이 되는 회귀 모델의 특징을 가짐.\n",
        "\n",
        "이 직선과 `KNeighborsRegressor`를 사용해서 만든 위 그래프의 선과 비교하면 직선을 사용한 예측이 제약이 더 많아 보임. 데이터의 상세 정보를 모두 잃어버린 것처럼 보임. 타깃 y가 특성들의 선형 조합이라는 건 매우 과하고 때론 비현실적인 가정임. 다만 1차원 데이터만 놓고 봐서 생긴 편견일 수 있는데, 특성이 많은 데이터셋이면 선형 모델은 매우 훌륭한 성능을 낼 수 있음. 특히 훈련 데이터보다 특성이 더 많은 경우엔 어떤 타깃 y도 완벽하게 훈련 세트에 대해서 선형 함수로 모델링 할 수 있음(선형 대수에서 방정식(훈련 데이터)보다 미지수(모델 파라미터)가 많은 경우를 '불충분한 시스템(underdetermined system)'이라고 하며 일반적으로 무수하게 많은 해가 존재함).\n",
        "\n",
        "회귀를 위한 선형 모델은 다양함. 이 모델들은 훈련 데이터로부터 모델 파라미터 $w$와 $b$를 학습하는 방법과 모델의 복잡도를 제어하는 방법에서 차이가 남. 아래부터는 회귀에서 가장 인기 있는 선형 모델들을 살핌."
      ]
    },
    {
      "cell_type": "markdown",
      "metadata": {
        "id": "ikul8tEjKcP_"
      },
      "source": [
        "### 선형 회귀(최소제곱법)\n",
        "\n",
        "'선형 회귀(linear regression)' 또는 '최소제곱법(OLS, ordinary least squares)'은 가장 간단하고 오래된 회귀용 선형 알고리즘임. 예측과 훈련 세트에 있는 타깃 y 사이의 '평균제곱오차(mean squared error)'를 최소화하는 파라미터 $w$와 $b$를 찾음. 평균제곱오차는 예측값과 타깃값의 차이를 제곱하여 더한 후에 샘플 개수로 나눈 것임. 선형 회귀는 매개변수가 없는 것이 장점이지만 모델의 복잡도를 제어할 방법도 없음.\n",
        "\n",
        "평균제곱오차의 공식은 MSE = $\\frac{1}{n} \\displaystyle\\sum_{i=1}^{n}(y_i-\\hat{y}_i)^2$이고 n은 샘플 개수를 의미함."
      ]
    },
    {
      "cell_type": "markdown",
      "metadata": {
        "id": "H6S87acTngdk"
      },
      "source": [
        "선형 모델을 만듦."
      ]
    },
    {
      "cell_type": "code",
      "metadata": {
        "id": "sGKumvEgniNN"
      },
      "source": [
        "from sklearn.linear_model import LinearRegression\n",
        "\n",
        "X, y = mglearn.datasets.make_wave(n_samples=60)\n",
        "X_train, X_test, y_train, y_test = train_test_split(X, y, random_state=42)\n",
        "\n",
        "lr = LinearRegression().fit(X_train, y_train)\n",
        "# 2.3.3 선형 모델에 속한 장단점과 매개변수에서 `fit` 메서드를 연결하는 방식을 설명할 예정임."
      ],
      "execution_count": null,
      "outputs": []
    },
    {
      "cell_type": "markdown",
      "metadata": {
        "id": "N9L_aNqGsZVs"
      },
      "source": [
        "기울기 파라미터($w$)는 '가중치(weight)' 또는 '계수(coefficient)'라고 하며 lr 객체의 `coef_` 속성에 저장됨. '편향(intercept)' 파라미터($b$)는 `intercept_` 속성에 저장됨."
      ]
    },
    {
      "cell_type": "code",
      "metadata": {
        "colab": {
          "base_uri": "https://localhost:8080/"
        },
        "id": "I497YLWJsycB",
        "outputId": "a0c4c806-37d8-4baf-b94a-c9f5fda20217"
      },
      "source": [
        "print('lr.coef_:', lr.coef_)\n",
        "print('lr.intercept_:', lr.intercept_)\n",
        "# 사용자가 지정한 매개변수와 구분하고자 속성 뒤에 '_'를 붙임. \n",
        "# 즉 사이킷런의 경우는 훈련 데이터에서 유도된 속성은 항상 끝에 '_'를 붙임. "
      ],
      "execution_count": null,
      "outputs": [
        {
          "output_type": "stream",
          "text": [
            "lr.coef_: [0.39390555]\n",
            "lr.intercept_: -0.031804343026759746\n"
          ],
          "name": "stdout"
        }
      ]
    },
    {
      "cell_type": "markdown",
      "metadata": {
        "id": "-wQzvKDAvI8X"
      },
      "source": [
        "`coef_` 속성은 각 입력 특성에 하나씩 대응되는 넘파이 배열임. wave 데이터셋에는 입력 특성이 하나뿐이므로 `lr.coef_`는 원소를 하나만 갖고 있음. `intercept_` 속성은 항상 실수값 하나임."
      ]
    },
    {
      "cell_type": "markdown",
      "metadata": {
        "id": "B_6GW4uCvpta"
      },
      "source": [
        "훈련 세트와 테스트 세트의 성능을 확인함."
      ]
    },
    {
      "cell_type": "code",
      "metadata": {
        "colab": {
          "base_uri": "https://localhost:8080/"
        },
        "id": "2h7FOERLvsoU",
        "outputId": "f974b0b8-8124-451e-fccb-50eb83e8d79e"
      },
      "source": [
        "print('훈련 세트 점수: {:.2f}'.format(lr.score(X_train, y_train)))\n",
        "print('테스트 세트 점수: {:.2f}'.format(lr.score(X_test, y_test)))"
      ],
      "execution_count": null,
      "outputs": [
        {
          "output_type": "stream",
          "text": [
            "훈련 세트 점수: 0.67\n",
            "테스트 세트 점수: 0.66\n"
          ],
          "name": "stdout"
        }
      ]
    },
    {
      "cell_type": "markdown",
      "metadata": {
        "id": "UhmKTDtcwDnV"
      },
      "source": [
        "$R^2$ 값이 0.66인 건 그리 좋은 결과라고 할 수 없음. 아울러 훈련 세트와 테스트 세트의 점수가 매우 비슷하면서 낮음. 이는 과소적합 상태를 의미함. 1차원 데이터셋에서는 모델이 매우 단순하거나 제한적이므로 과대적합이 일어날 가능성이 낮으나, 특성이 많은 고차원 데이터셋에서는 선형 모델의 성능이 매우 높아져서 과대적합이 일어날 가능성이 높음."
      ]
    },
    {
      "cell_type": "markdown",
      "metadata": {
        "id": "jruD6NAaxwF8"
      },
      "source": [
        "`LinearRegression` 모델이 보스턴 주택가격 데이터셋 같은 복잡한 데이터셋에서 어떻게 작동하는지 살핌. 이 데이터셋에는 샘플 506개, 특성은 위에서 특성공학으로 유도한 것까지 합쳐서 104개임. 먼저 데이터셋을 읽고 훈련 세트와 테스트 세트로 나눈 후에 선형 모델을 만듦."
      ]
    },
    {
      "cell_type": "code",
      "metadata": {
        "id": "ModNaDNRyGQQ"
      },
      "source": [
        "X, y = mglearn.datasets.load_extended_boston()\n",
        "\n",
        "X_train, X_test, y_train, y_test = train_test_split(X, y, random_state=0)\n",
        "lr = LinearRegression().fit(X_train, y_train)"
      ],
      "execution_count": null,
      "outputs": []
    },
    {
      "cell_type": "markdown",
      "metadata": {
        "id": "7OT1JdtFyZaJ"
      },
      "source": [
        "훈련 세트와 테스트 세트의 점수를 비교함."
      ]
    },
    {
      "cell_type": "code",
      "metadata": {
        "colab": {
          "base_uri": "https://localhost:8080/"
        },
        "id": "Nq_HOjepydeF",
        "outputId": "b5ee498e-1b91-4ebb-896f-a3798e9f575e"
      },
      "source": [
        "print('훈련 세트 점수: {:.2f}'.format(lr.score(X_train, y_train)))\n",
        "print('테스트 세트 점수: {:.2f}'.format(lr.score(X_test, y_test)))"
      ],
      "execution_count": null,
      "outputs": [
        {
          "output_type": "stream",
          "text": [
            "훈련 세트 점수: 0.95\n",
            "테스트 세트 점수: 0.61\n"
          ],
          "name": "stdout"
        }
      ]
    },
    {
      "cell_type": "markdown",
      "metadata": {
        "id": "npTiAHXVyjfY"
      },
      "source": [
        "훈련 세트에서는 예측이 매우 정확한데 테스트 세트에서는 $R^2$ 값이 매우 낮음. 이러한 성능 차이는 모델이 과대적합 된 것을 나타내므로 복잡도를 제어할 수 있는 모델을 사용해야 함. 아래에서 설명하는 '리지(Ridge)'와 '라소(Lasso)'를 토대로 설명함."
      ]
    },
    {
      "cell_type": "markdown",
      "metadata": {
        "id": "B7TBoVt5KcEk"
      },
      "source": [
        "### 리지 회귀\n",
        "\n",
        "'리지(Ridge)'도 회귀를 위한 선형 모델이므로 최소적합법에서 사용한 것과 같은 예측 함수를 사용함. 다만 리지 회귀에서의 가중치($w$) 선택은 훈련 데이터를 잘 예측하기 위한 목적뿐만 아니라 추가 제약 조건을 만족시키기 위한 목적도 있음. 가중치의 절댓값을 가능한 한 작게 만드는 것임. 다시 말하면 $w$의 모든 원소가 0에 가깝게 되길 원함. 모든 특성이 출력에 주는 영향을 최소한으로 만든다(기울기를 작게 만든다)고 생각할 수 있음. 이런 제약을 '규제(regularization)'라고 하며 과대적합이 되지 않도록 모델을 강제로 제한한다는 의미임. 리지 회귀에 사용하는 규제 방식을 'L2 규제'라고 함."
      ]
    },
    {
      "cell_type": "markdown",
      "metadata": {
        "id": "zoTMK7Ku1fdR"
      },
      "source": [
        "리지 회귀가 확장된 보스턴 주택가격 데이터셋에 어떻게 적용되는지 살핌."
      ]
    },
    {
      "cell_type": "code",
      "metadata": {
        "colab": {
          "base_uri": "https://localhost:8080/"
        },
        "id": "131XpI7E1pWM",
        "outputId": "db281d75-598e-43a2-c0c2-e702f1b169d0"
      },
      "source": [
        "from sklearn.linear_model import Ridge\n",
        "\n",
        "ridge = Ridge().fit(X_train, y_train)\n",
        "print('훈련 세트 점수: {:.2f}'.format(ridge.score(X_train, y_train)))\n",
        "print('테스트 세트 점수: {:.2f}'.format(ridge.score(X_test, y_test)))"
      ],
      "execution_count": null,
      "outputs": [
        {
          "output_type": "stream",
          "text": [
            "훈련 세트 점수: 0.89\n",
            "테스트 세트 점수: 0.75\n"
          ],
          "name": "stdout"
        }
      ]
    },
    {
      "cell_type": "markdown",
      "metadata": {
        "id": "6bWUJFWh2C_w"
      },
      "source": [
        "결과를 보면 훈련 세트 점수는 `LinearRegression`보다 낮지만 테스트 세트에 대한 점수는 더 높음. 리지는 선형 회귀보다 덜 자유로운 모델이기 때문에 과대적합이 적어짐. 모델 복잡도가 낮아지면 훈련 세트에서 성능은 나빠지지만 더 일반화된 모델이 됨. 테스트 세트에 대한 성능을 제고해야 하므로 리지 모델을 선택해야 함."
      ]
    },
    {
      "cell_type": "markdown",
      "metadata": {
        "id": "hxbE5Mnu2nby"
      },
      "source": [
        "리지는 모델을 단순하게(계수를 0에 가깝게) 하고 훈련 세트에 대한 성능 사이를 절충할 수 있는 방법을 제공함. 사용자는 `alpha` 매개변수로 훈련 세트 성능 대비 모델을 얼마나 단순화할지 지정할 수 있음. 앞의 예제에서는 `alpha` 매개변수의 기본값인 `1.0`을 사용했으나 이 값이 최적이라고 생각할 근거는 없음. 최적의 `alpha` 값은 사용하는 데이터셋마다 달라지며, `alpha` 값을 높이면 계수를 0에 더 가깝게 만들기 때문에 훈련 세트 성능은 나빠지지만 일반화하는 데 도움이 됨."
      ]
    },
    {
      "cell_type": "code",
      "metadata": {
        "colab": {
          "base_uri": "https://localhost:8080/"
        },
        "id": "yLaDgPhS3dkj",
        "outputId": "91cf4398-5885-4381-b553-e3161d7e10d1"
      },
      "source": [
        "ridge10 = Ridge(alpha=10).fit(X_train, y_train)\n",
        "print('훈련 세트 점수: {:2f}'.format(ridge10.score(X_train, y_train)))\n",
        "print('테스트 세트 점수: {:2f}'.format(ridge10.score(X_test, y_test)))"
      ],
      "execution_count": null,
      "outputs": [
        {
          "output_type": "stream",
          "text": [
            "훈련 세트 점수: 0.788279\n",
            "테스트 세트 점수: 0.635941\n"
          ],
          "name": "stdout"
        }
      ]
    },
    {
      "cell_type": "markdown",
      "metadata": {
        "id": "OgwDBAeF4McJ"
      },
      "source": [
        "<img src='https://drive.google.com/uc?export=view&id=1G_gq95m6NAtmuVcs90CKCBBwozynDMys' width = 50% >   \n",
        "`alpha` 값을 높이면 계수에 대한 제약이 강해지면서 그림의 왼쪽으로 이동함.   \n",
        "반면에 `alpha` 값을 줄이면 계수에 대한 제약이 약해지면서 그림의 오른쪽으로 이동함. 아주 작은 `alpha` 값은 계수를 거의 제한하지 않으므로 `LinearRegression`으로 만든 모델과 거의 같아짐. (실험한 바에 의하면 `alpha` 값을 `0.00001`로 지정하면 `LinearRegression`에서 얻은 훈련 세트 점수 0.95, 테스트 세트 점수 0.61과 완전 동일해짐.)"
      ]
    },
    {
      "cell_type": "code",
      "metadata": {
        "colab": {
          "base_uri": "https://localhost:8080/"
        },
        "id": "HmIyvMSp5NpM",
        "outputId": "41771c8f-b743-4840-8980-ceb6f5d6712d"
      },
      "source": [
        "ridge01 = Ridge(alpha=0.1).fit(X_train, y_train)\n",
        "print('훈련 세트 점수: {:2f}'.format(ridge01.score(X_train, y_train)))\n",
        "print('테스트 세트 점수: {:2f}'.format(ridge01.score(X_test, y_test)))"
      ],
      "execution_count": null,
      "outputs": [
        {
          "output_type": "stream",
          "text": [
            "훈련 세트 점수: 0.928227\n",
            "테스트 세트 점수: 0.772207\n"
          ],
          "name": "stdout"
        }
      ]
    },
    {
      "cell_type": "markdown",
      "metadata": {
        "id": "wJtBSiPW6Lc1"
      },
      "source": [
        "`alpha` 값을 `0.1`로 지정했을 때 꽤 좋은 성능을 낸 것 같지만 여전히 과대적합 됨. 테스트 세트에 대한 성능이 높아질 때까지 값을 조정해야 함. 좋은 매개변수를 지정하는 방법은 5장에서 자세하게 다룰 예정임."
      ]
    },
    {
      "cell_type": "markdown",
      "metadata": {
        "id": "R583ohSd6fdI"
      },
      "source": [
        "`alpha` 값에 따라 모델의 `coef_` 속성이 어떻게 달라지는지 조사하면 `alpha` 매개변수가 모델을 어떻게 변경시키는지 자세하게 이해할 수 있음. 작은 `alpha` 값일 때보다 높은 `alpha` 값일 때 제약이 더 많은 모델이므로 `coef_` 속성의 절댓값 크기는 더 작을 것으로 예상할 수 있음."
      ]
    },
    {
      "cell_type": "code",
      "metadata": {
        "colab": {
          "base_uri": "https://localhost:8080/",
          "height": 297
        },
        "id": "Cmcd8YaS7Up0",
        "outputId": "6a1fd5fc-4fac-4778-92d2-2c77bc087ab4"
      },
      "source": [
        "plt.plot(ridge10.coef_, '^', label='Ridge alpha=10')\n",
        "plt.plot(ridge.coef_, 's', label='Ridge alpha=1')\n",
        "plt.plot(ridge01.coef_, 'v', label='Ridge alpha=0.1')\n",
        "\n",
        "plt.plot(lr.coef_, 'o', label='LinearRegression')\n",
        "\n",
        "plt.xlabel('coefficient list')\n",
        "plt.ylabel('coefficient size')\n",
        "\n",
        "# 축의 범위를 제한하는 객체를 만듦.\n",
        "xlims = plt.xlim()\n",
        "\n",
        "# 수평선을 그림.\n",
        "plt.hlines(0, xlims[0], xlims[1])\n",
        "\n",
        "plt.xlim(xlims)\n",
        "plt.ylim(-25, 25)\n",
        "\n",
        "# 범례를 띄움.\n",
        "plt.legend()"
      ],
      "execution_count": null,
      "outputs": [
        {
          "output_type": "execute_result",
          "data": {
            "text/plain": [
              "<matplotlib.legend.Legend at 0x7ff28db72f50>"
            ]
          },
          "metadata": {
            "tags": []
          },
          "execution_count": 37
        },
        {
          "output_type": "display_data",
          "data": {
            "image/png": "[encoded data removed]",
            "text/plain": [
              "<Figure size 432x288 with 1 Axes>"
            ]
          },
          "metadata": {
            "tags": [],
            "needs_background": "light"
          }
        }
      ]
    },
    {
      "cell_type": "code",
      "metadata": {
        "colab": {
          "base_uri": "https://localhost:8080/"
        },
        "id": "fMkai16Kp_cH",
        "outputId": "615c88b4-c85c-4396-c4cd-441e2a21d7d5"
      },
      "source": [
        "print(xlims[0])"
      ],
      "execution_count": null,
      "outputs": [
        {
          "output_type": "stream",
          "text": [
            "-5.15\n"
          ],
          "name": "stdout"
        }
      ]
    },
    {
      "cell_type": "markdown",
      "metadata": {
        "id": "D2PVHxdw8Ssd"
      },
      "source": [
        "x축은 `coef_` 속성의 원소를 위치대로 나열한 것임. x=0은 첫 번째 특성에 연관된 계수이고 x=1은 두 번째 특성에 연관된 계수임. 이렇게 x=100까지 계속됨.\n",
        "\n",
        "y축은 각 계수의 수치를 나타냄. `alpha=10`일 때 계수 대부분은 -3~3 사이에 위치하며, `alpha=1`일 때 계수는 좀 더 커졌음. `alpha=0.1`일 때 계수는 더 커지며 규제가 전혀 없는(`alpha=0`) 선형 회귀의 계수는 값이 더 커져서 그림 밖으로 넘어감."
      ]
    },
    {
      "cell_type": "markdown",
      "metadata": {
        "id": "46MqP9UD9AQF"
      },
      "source": [
        "규제의 효과를 이해하는 다른 방법은 `alpha` 값을 고정하고 훈련 데이터의 크기를 변화시키는 것임. 아래 그림은 보스턴 주택가격 데이터셋에서 여러 크기로 샘플링 해서 `LinearRegression`과 `Ridge(alpha=1)`을 적용한 것임. 이렇게 데이터셋의 크기에 따른 모델의 성능 변화를 나타낸 그래프를 '학습 곡선(learning curve)'이라고 함(훈련 과정을 여러 번 반복하면서 학습하는 알고리즘에서는 반복 횟수에 따른 성능 변화를 나타내는 그래프를 학습 곡선이라고 함)."
      ]
    },
    {
      "cell_type": "code",
      "metadata": {
        "colab": {
          "base_uri": "https://localhost:8080/",
          "height": 325
        },
        "id": "JbdxOaDU9dZM",
        "outputId": "d9ae4379-250a-47cf-b2de-334d1e78190e"
      },
      "source": [
        "mglearn.plots.plot_ridge_n_samples()"
      ],
      "execution_count": null,
      "outputs": [
        {
          "output_type": "display_data",
          "data": {
            "image/png": "[encoded data removed]",
            "text/plain": [
              "<Figure size 432x288 with 1 Axes>"
            ]
          },
          "metadata": {
            "tags": [],
            "needs_background": "light"
          }
        }
      ]
    },
    {
      "cell_type": "markdown",
      "metadata": {
        "id": "JjsVe_dr-Jya"
      },
      "source": [
        "모든 데이터셋에 대해 선형 회귀와 리지 모두 훈련 세트의 점수가 테스트 세트의 점수보다 높음. 리지에는 규제가 적용되므로 리지의 훈련 데이터 점수가 전반적으로 선형 회귀의 훈련 데이터 점수보다 낮지만, 테스트 데이터에서는 리지의 점수가 더 높고 작은 데이터셋에서도 더 높음. 데이터셋 크기가 400 미만인 지점에서는 선형 회귀는 어떤 것도 학습하지 못하고 있음. 두 모델의 성능은 데이터가 많아질수록 좋아지고 마지막에는 선형 회귀가 리지 회귀를 따라잡음.\n",
        "\n",
        "주목할 점은 데이터를 충분히 사용하면 규제 항은 덜 중요해지므로 리지 회귀와 선형 회귀의 성능이 같아진다는 것임. 그리고 데이터를 충분히 사용하면 선형 회귀의 훈련 데이터 성능이 점차 감소하는 것을 알 수 있는데, 이러한 이유는 데이터가 많아질수록 모델이 데이터를 기억하거나 과대적합 되기 어려워지기 때문임."
      ]
    },
    {
      "cell_type": "markdown",
      "metadata": {
        "id": "FP2x13-KKb_X"
      },
      "source": [
        "### 라소\n",
        "\n",
        "선형 회귀에 규제를 적용하는 데 `Ridge`의 대안으로 `Lasso`가 있음. 라소 또한 리지처럼 계수를 0에 가깝게 만들려고 하지만 방식이 조금 다름. 'L1 규제' 라고 함. L1 규제의 결과로 어떤 계수는 0이 되기도 하는데 이 말은 모델에서 완전히 제외되는 특성이 생긴다는 의미임. '특성 선택(feature selection)'이 자동으로 이뤄진다고 할 수 있음. 일부 계수를 0으로 만들면 이해하기 쉬워지고 모델에서 가장 중요한 특성이 무엇인지 알 수 있게 함.\n",
        "\n",
        "참고로 라소는 계수 벡터의 L1 노름을 페널티로 사용하며 다른 말로는 계수의 절댓값의 합임.   \n",
        "평균제곱오차 식에 $\\alpha\\displaystyle\\sum_{j=1}^{m}\\begin{vmatrix} w_j\\end{vmatrix}$항이 추가됨.   \n",
        "리지와 마찬가지로 $\\alpha$를 크게 하면 페널티의 효과가 커지고(가중치 감소), $\\alpha$를 작게 하면 그 반대가 됨.\n",
        "\n",
        "라소는 L1, L2 규제를 함께 쓰는 엘라스틱넷(Elastic-Net) 방식에서 L2 규제가 빠진 것임. 라소의 `alpha` 매개변수는 R의 엘라스틱넷 패키지인 `glmnet`의 `lambda` 매개변수와 같은 의미임. 이들은 한 특성씩 좌표축을 따라 최적화하는 '좌표 하강법(coordinate descent)' 방식을 사용하며 학습 과정이 반복적으로 여러 번 진행되면서 최적의 값을 찾아가게 됨."
      ]
    },
    {
      "cell_type": "markdown",
      "metadata": {
        "id": "etbURrFOeT6f"
      },
      "source": [
        "확장된 보스턴 주택가격 데이터셋에 라소를 적용함."
      ]
    },
    {
      "cell_type": "code",
      "metadata": {
        "colab": {
          "base_uri": "https://localhost:8080/"
        },
        "id": "Ni7ppqa9eTkH",
        "outputId": "383df194-cbb2-4190-86c1-ed54ff27fed7"
      },
      "source": [
        "from sklearn.linear_model import Lasso\n",
        "\n",
        "lasso = Lasso().fit(X_train, y_train)\n",
        "print('훈련 세트 점수: {:.2f}'.format(lasso.score(X_train, y_train)))\n",
        "print('테스트 세트 점수: {:.2f}'.format(lasso.score(X_test, y_test)))\n",
        "print('사용한 특성의 개수:', np.sum(lasso.coef_ != 0))"
      ],
      "execution_count": null,
      "outputs": [
        {
          "output_type": "stream",
          "text": [
            "훈련 세트 점수: 0.29\n",
            "테스트 세트 점수: 0.21\n",
            "사용한 특성의 개수: 4\n"
          ],
          "name": "stdout"
        }
      ]
    },
    {
      "cell_type": "markdown",
      "metadata": {
        "id": "hBCbAop5j5xd"
      },
      "source": [
        "훈련 세트와 테스트 세트 모두 결과가 안 좋음. 과소적합임. 특성 104개 중 4개만 사용했음. 라소도 리지처럼 계수를 조정하는 `alpha` 매개변수를 지원함. 위에서는 기본값 **1.0**을 사용했으나 이번엔 과소적합을 줄이고자 `alpha` 값을 줄임. 여기서 `max_iter` 매개변수 값을 늘려야 하는데, 이 매개변수는 반복 실행하는 최대 횟수를 의미함. 이 값을 늘리지 않으면 값을 늘리라는 경고가 발생함."
      ]
    },
    {
      "cell_type": "code",
      "metadata": {
        "colab": {
          "base_uri": "https://localhost:8080/"
        },
        "id": "2lpBy1Unkp5v",
        "outputId": "a293c1e4-56c7-4ac7-c2b3-b88b3234aa80"
      },
      "source": [
        "lasso001 = Lasso(alpha=0.01, max_iter=100000).fit(X_train, y_train)\n",
        "print('훈련 세트 점수: {:.2f}'.format(lasso001.score(X_train, y_train)))\n",
        "print('테스트 세트 점수: {:.2f}'.format(lasso001.score(X_test, y_test)))\n",
        "print('사용한 특성의 개수:', np.sum(lasso001.coef_ != 0))"
      ],
      "execution_count": null,
      "outputs": [
        {
          "output_type": "stream",
          "text": [
            "훈련 세트 점수: 0.90\n",
            "테스트 세트 점수: 0.77\n",
            "사용한 특성의 개수: 33\n"
          ],
          "name": "stdout"
        }
      ]
    },
    {
      "cell_type": "markdown",
      "metadata": {
        "id": "tr51oAnfoLXw"
      },
      "source": [
        "`alpha` 값을 낮추면 모델 복잡도는 커지고 훈련 세트와 테스트 세트에서의 성능이 좋아짐. 성능은 리지보다 조금 나은데 사용된 특성은 33개뿐이라서 모델을 분석하기 좀 더 쉬움."
      ]
    },
    {
      "cell_type": "markdown",
      "metadata": {
        "id": "oVnHLxTCoawR"
      },
      "source": [
        "그러나 `alpha` 값을 너무 낮추면 규제 효과가 없어져서 과대적합이 되므로 `LinearRegression`의 결과와 비슷해짐."
      ]
    },
    {
      "cell_type": "code",
      "metadata": {
        "colab": {
          "base_uri": "https://localhost:8080/"
        },
        "id": "RF5gwos-okm6",
        "outputId": "226c83fb-8b6e-48c3-db35-d74adc3f1172"
      },
      "source": [
        "lasso00001 = Lasso(alpha=0.0001, max_iter=100000).fit(X_train, y_train)\n",
        "print('훈련 세트 점수: {:.2f}'.format(lasso00001.score(X_train, y_train)))\n",
        "print('테스트 세트 점수: {:.2f}'.format(lasso00001.score(X_test, y_test)))\n",
        "print('사용한 특성의 개수:', np.sum(lasso00001.coef_ != 0))"
      ],
      "execution_count": null,
      "outputs": [
        {
          "output_type": "stream",
          "text": [
            "훈련 세트 점수: 0.95\n",
            "테스트 세트 점수: 0.64\n",
            "사용한 특성의 개수: 96\n"
          ],
          "name": "stdout"
        }
      ]
    },
    {
      "cell_type": "markdown",
      "metadata": {
        "id": "hbs6X0gVo4Bh"
      },
      "source": [
        "`alpha` 값이 다른 모델들의 계수를 그래프로 그림. 비교를 쉽게 하고자 리지 회귀를 원 모양으로 나타냄. "
      ]
    },
    {
      "cell_type": "code",
      "metadata": {
        "colab": {
          "base_uri": "https://localhost:8080/",
          "height": 340
        },
        "id": "vIKlyypypCfT",
        "outputId": "b2d1d689-1b59-404b-a81b-7d0a9e6cf0e2"
      },
      "source": [
        "plt.plot(lasso.coef_, 's', label='Lasso alpha=1')\n",
        "plt.plot(lasso001.coef_, '^', label='Lasso alpha=0.01')\n",
        "plt.plot(lasso00001.coef_, 'v', label='Lasso alpha=0.0001')\n",
        "\n",
        "plt.plot(ridge01.coef_, 'o', label='Ridge alpha=0.1')\n",
        "plt.legend(ncol=2, loc=(0, 1.05))\n",
        "plt.ylim(-25, 25)\n",
        "plt.xlabel('coefficient list')\n",
        "plt.ylabel('coefficient size')"
      ],
      "execution_count": null,
      "outputs": [
        {
          "output_type": "execute_result",
          "data": {
            "text/plain": [
              "Text(0, 0.5, 'coefficient size')"
            ]
          },
          "metadata": {
            "tags": []
          },
          "execution_count": 43
        },
        {
          "output_type": "display_data",
          "data": {
            "image/png": "[encoded data removed]",
            "text/plain": [
              "<Figure size 432x288 with 1 Axes>"
            ]
          },
          "metadata": {
            "tags": [],
            "needs_background": "light"
          }
        }
      ]
    },
    {
      "cell_type": "markdown",
      "metadata": {
        "id": "rVOKrNAIqI2C"
      },
      "source": [
        "`alpha=1`일 때 계수 대부분이 0일 뿐만 아니라 나머지 계수들도 크기가 작은 걸 알 수 있음. `alpha=0.01`일 때 특성 대부분이 0이 되는 분포를 얻음. `alpha=0.0001`일 때 계수 대부분이 0이 아니고 값도 커져서 상당히 규제받지 않은 모델을 얻음. `alpha=0.1`인 리지 모델은 `alpha=0.01`인 라소 모델과 성능이 비슷하지만 리지를 사용하면 어떤 계수도 0이 되지 않음."
      ]
    },
    {
      "cell_type": "markdown",
      "metadata": {
        "id": "805gm6DTrEmU"
      },
      "source": [
        "실제로 리지와 라소 중에 더 선호하는 모델은 리지임. 다만 특성이 많고 그중에 일부분만 중요하거나 분석하기 쉬운 모델을 원한다면 입력 특성 중 일부만 사용하는 라소가 더 좋은 선택일 수 있음.\n",
        "\n",
        "사이킷런은 라소와 리지의 페널티를 결합한 `ElasticNet`도 제공하는데, 실제로 이 조합은 최상의 성능 내지만 L1 규제와 L2 규제를 위한 매개변수 2개를 조정해야 함. `ElasticNet`에 있는 `l1_ratio` 매개변수는 `R`의 `glimnet` 패키지의 `alpha` 매개변수와 동일한 것이며, L1 규제와 L2 규제의 비율을 조정함. `l1_ratio`는 **0**과 **1** 사이의 값을 지정하며 L2 비율은 1-`l1_ratio`가 됨. `ElasticNet`의 규제 식은 `alpha` $\\times$ `l1_ratio` $\\times \\displaystyle\\sum_{j=1}^{m}\\begin{vmatrix} w_j\\end{vmatrix} + \\frac{1}{2} \\times$ `alpha` $ \\times $ (1-`l1_ratio`) $\\times \\displaystyle\\sum_{j=1}^{m} w^2_j$ 이며, 이 식의 L1 규제와 L2 규제를 `l1`, `l2`라는 매개변수로 표현하면 $l_1 \\times \\displaystyle\\sum_{j=1}^{m}\\begin{vmatrix} w_j\\end{vmatrix} + \\frac{1}{2} \\times l_2 \\times \\displaystyle\\sum_{j=1}^{m} w^2_j$이 됨. 이때 `alpha` = `l1` + `l2`가 되고 `l1_ratio` = $\\frac{l_1}{l_1+l_2}$가 되므로 필요한 규제의 정도인 `l1`, `l2`에 맞추어 `alpha`와 `l1_ratio`를 지정할 수 있음."
      ]
    },
    {
      "cell_type": "markdown",
      "metadata": {
        "id": "mdBbrvE3Kb8i"
      },
      "source": [
        "### 분류용 선형 모델\n",
        "\n",
        "선형 모델은 분류에도 널리 사용함. 먼저 이진 분류(binary classification)의 경우 예측을 위한 방정식은 아래와 같음.\n",
        "\n",
        "$\\hat{y} = w[0] \\times x[0] + w[1] \\times x[1] + \\cdots + w[p] \\times x[p] + b > 0$\n",
        "\n",
        "선형 회귀와 아주 비슷한 방정식이지만 특성들의 가중치 합을 그냥 사용하는 대신 예측한 값을 임계치 0과 비교함. 0보다 작으면 클래스를 -1로 예측하고, 0보다 크면 +1로 예측함. 이 규칙은 분류에 쓰이는 모든 선형모델과 동일하며, 계수($w$)와 절편($b$)를 찾기 위한 방법이 많이 존재함.\n",
        "\n",
        "회귀용 선형 모델에서는 출력 $\\hat{y}$이 특성의 선형 함수였음. 직선, 평면, 초평면(차원이 3 이상)을 의미함. 반면에 분류용 선형 모델에서는 '결정 경계'가 입력의 선형 함수임. 다른 말로 (이진) 선형 분류기는 선, 평면, 초평면을 사용해서 두 개의 클래스를 구분하는 분류기임.\n",
        "\n",
        "선형 모델을 학습시키는 알고리즘은 다양한데 다음 두 방법으로 구분할 수 있음.\n",
        "- 특정 계수와 절편의 조합이 훈련 데이터에 얼마나 잘 맞는지 측정하는 방법.\n",
        "- 사용할 수 있는 규제가 있는지, 있다면 어떤 방식을 택하여 적용하는 방법.\n",
        "\n",
        "알고리즘들은 훈련 세트를 잘 학습하는지 측정하는 방법이 각기 다름. 다만 수학적, 기술적 이유로 알고리즘들이 만드는 잘못된 분류의 수를 최소화하도록 $w$와 $b$를 조정하는 것은 불가능함. 물론 많은 애플리케이션에서 앞 목록의 첫 번째 항목(손실 함수(loss function))에 대한 차이는 크게 중요하지 않음.\n",
        "\n",
        "유명한 선형 분류 알고리즘은 '로지스틱 회귀(logistic regression)'와 선형 '서포트 벡터 머신(support vector machine)'임. 이 중에 로지스틱 회귀라는 명칭에 회귀가 들어가지만 회귀 알고리즘과 전혀 관련이 없는 분류 알고리즘임.\n",
        "\n",
        "- 참고\n",
        " - 로지스틱 회귀는 선형 함수에 시그모이드 함수가 적용된 것으로 종종 표현되며, 분류의 기준이 되는 시그모이드 함수의 결괏값은 0.5로 선형 함수가 0일 때이므로 선형 함수를 기준으로도 나타낼 수 있음. 사이킷런에서 로지스틱 회귀의 `predict` 메서드는 선형 함수 값을 계산하는 `decision_function` 메서드를 사용하여 0을 기준으로 예측을 만들며, 시그모이드 함수를 적용한 확률값은 `predict_proba` 메서드에서 제공함.\n",
        " - 분류에서 잘못 분류된 결과를 직접 나타내는 0-1 손실 함수는 완전한 계단 함수이므로 대리할 수 있는 다른 함수(surrogate loss function)를 사용하여 최적화를 수행함.\n",
        " - `LogisticRegression` 클래스는 이진 분류에서 '로지스틱(logistict)' 손실 함수를 사용하고, 다중 분류에서는 '크로스 엔트로피(cross entrophy)' 손실 함수를 사용함. `solver` 매개변수를 지정하지 않으면 사이킷런 0.22 버전부터 기본값이 `lbfgs`로 변경된다는 경고 메시지가 출력됨.\n",
        " - `LinearSVC` 클래스는 기본값으로 '제곱 힌지(squared hinge)' 손실 함수를 사용함. `liblinear`를 사용하는 `LogisticRegression` 클래스와 `LinearSVC` 클래스는 사이킷런 0.20 버전부터 `verbose` 매개변수와 상관없이 알고리즘이 `max_iter` 반복 안에 수렴하지 않으면 반복 횟수를 증가하라는 경고를 출력함. `LogisticRegression` 클래스의 `max_iter` 매개변수의 기본값은 `100`, `LInearSVC`의 `max_iter` 매개변수의 기본값은 `1,000`임."
      ]
    },
    {
      "cell_type": "markdown",
      "metadata": {
        "id": "PspdFyIFFX2x"
      },
      "source": [
        "forge 데이터셋을 사용하여 `LogisticRegression` 모델과 `LinearSVM` 모델을 만들고 이 선형 모델들이 만든 결정 경계를 그림으로 나타냄. 기본 매개변수를 사용함."
      ]
    },
    {
      "cell_type": "code",
      "metadata": {
        "colab": {
          "base_uri": "https://localhost:8080/",
          "height": 313
        },
        "id": "SbMVOgksFZnV",
        "outputId": "96100b7c-2122-4dae-9684-6bd41b1f1db8"
      },
      "source": [
        "from sklearn.linear_model import LogisticRegression\n",
        "from sklearn.svm import LinearSVC # 'SVC'는 'support vector classifier'의 약자임.\n",
        "\n",
        "X, y = mglearn.datasets.make_forge()\n",
        "\n",
        "fig, axes = plt.subplots(1, 2, figsize=(10, 3))\n",
        "\n",
        "for model, ax in zip([LinearSVC(), LogisticRegression()], axes):\n",
        "    clf = model.fit(X, y)\n",
        "    mglearn.plots.plot_2d_separator(clf, X, fill=False, eps=0.5, ax=ax, alpha=.7)\n",
        "    mglearn.discrete_scatter(X[:, 0], X[:, 1], y, ax=ax)\n",
        "    ax.set_title(clf.__class__.__name__)\n",
        "    ax.set_xlabel('feature 0')\n",
        "    ax.set_ylabel('feature 1')\n",
        "axes[0].legend()"
      ],
      "execution_count": null,
      "outputs": [
        {
          "output_type": "stream",
          "text": [
            "/usr/local/lib/python3.7/dist-packages/sklearn/utils/deprecation.py:87: FutureWarning: Function make_blobs is deprecated; Please import make_blobs directly from scikit-learn\n",
            "  warnings.warn(msg, category=FutureWarning)\n",
            "/usr/local/lib/python3.7/dist-packages/sklearn/svm/_base.py:947: ConvergenceWarning: Liblinear failed to converge, increase the number of iterations.\n",
            "  \"the number of iterations.\", ConvergenceWarning)\n"
          ],
          "name": "stderr"
        },
        {
          "output_type": "execute_result",
          "data": {
            "text/plain": [
              "<matplotlib.legend.Legend at 0x7ff28dcfa510>"
            ]
          },
          "metadata": {
            "tags": []
          },
          "execution_count": 44
        },
        {
          "output_type": "display_data",
          "data": {
            "image/png": "[encoded data removed]",
            "text/plain": [
              "<Figure size 720x216 with 2 Axes>"
            ]
          },
          "metadata": {
            "tags": []
          }
        }
      ]
    },
    {
      "cell_type": "markdown",
      "metadata": {
        "id": "07mNmArdJ5Dj"
      },
      "source": [
        "forge 데이터셋의 첫 번째 특성을 x축에, 두 번째 특성을 y축에 놓았음. 결정 경계를 직선으로 표시했고 위쪽은 클래스1, 아래쪽은 클래스0으로 분류됨. 두 모델 모두 데이터 포인트를 각 2개씩 잘못 분류함. 여하튼 두 모델 모두 L2 규제를 기본으로 사용함."
      ]
    },
    {
      "cell_type": "markdown",
      "metadata": {
        "id": "EdiJz5S2Y4Mv"
      },
      "source": [
        "두 모델에서 규제 강도를 결정하는 매개변수는 `C`이며 기본값은 **1.0**임. 이 값이 높아지면 규제 강도가 감소하여 훈련 세트에 최대로 맞추고(각각 데이터 포인트를 정확하게 분류하고), 값이 낮아지면 규제 강도가 증가하여 계수 벡터($w$)가 0에 가까워지도록 만듦(데이터 포인트 중 다수에 맞춤). 참고로 매개변수 `C` 는 소문자가 아닌 대문자임."
      ]
    },
    {
      "cell_type": "markdown",
      "metadata": {
        "id": "xZ4GPxzSa5Lg"
      },
      "source": [
        "`LinearSVC` 클래스에 다른 `C` 값을 지정하여 만든 `LinearSVM` 모델의 결정 경계를 그림."
      ]
    },
    {
      "cell_type": "code",
      "metadata": {
        "colab": {
          "base_uri": "https://localhost:8080/",
          "height": 268
        },
        "id": "vX6JKEOnag9d",
        "outputId": "4c2667fc-7460-48ea-f451-65017c887fd3"
      },
      "source": [
        "mglearn.plots.plot_linear_svc_regularization()"
      ],
      "execution_count": null,
      "outputs": [
        {
          "output_type": "display_data",
          "data": {
            "image/png": "[encoded data removed]",
            "text/plain": [
              "<Figure size 864x288 with 3 Axes>"
            ]
          },
          "metadata": {
            "tags": []
          }
        }
      ]
    },
    {
      "cell_type": "markdown",
      "metadata": {
        "id": "MKTuEBBCaOpa"
      },
      "source": [
        "첫 번째 그림의 경우 매우 작은 값을 지정했기 때문에 규제가 많이 적용되었고, 클래스0 대부분은 아래에 있고 클래스1 대부분은 위에 있음. 규제가 강해지면서 비교적으로 수평에 가까운 결정 경계를 형성함. 잘못 분류한 데이터 포인트는 2개임.   \n",
        "\n",
        "중간 그림의 경우 값을 높여서 지정했기 때문에 잘못 분류한 두 샘플에 민감해지면서 결정 경계가 기울었음.\n",
        "\n",
        "세 번째 그림의 경우 값을 매우 높여서 지정했기 때문에 결정 경계는 더 기울었고 클래스0의 모든 데이터 포인트를 올바로 분류했음. 다만 이 데이터셋은 직선만으로는 모든 데이터 포인트를 분류할 수 없으므로 클래스1의 데이터 포인트 1개는 분류해낼 수 없었음. 과대적합된 모델임.\n",
        "\n",
        "회귀와 비슷하게 분류에서의 선형 모델은 낮은 차원의 데이터에서는 결정 경계가 직선이거나 평면이므로 매우 제한적임. 그러나 고차원에서는 분류에 대한 선형 모델이 매우 강력해지며 특성이 많아지면 과대적합 되지 않도록 주의해야 함."
      ]
    },
    {
      "cell_type": "markdown",
      "metadata": {
        "id": "AoADL9NmeCbO"
      },
      "source": [
        "유방암 데이터셋을 사용하여 `LogisticRegression`을 분석함. 책에 나온 점수와 다르게 출력됨. 이유는 잘 모르겠지만 추측하건대 사이킷런 버전이 업데이트 되면서 알고리즘이 변화했을 가능성이 높음."
      ]
    },
    {
      "cell_type": "code",
      "metadata": {
        "colab": {
          "base_uri": "https://localhost:8080/"
        },
        "id": "g24df0YHepB2",
        "outputId": "f2084646-85b6-4925-d916-2f5acc211fff"
      },
      "source": [
        "from sklearn.datasets import load_breast_cancer\n",
        "cancer = load_breast_cancer()\n",
        "X_train, X_test, y_train, y_test = train_test_split(cancer.data, cancer.target,\n",
        "                                                    stratify=cancer.target, random_state=42)\n",
        "\n",
        "logreg = LogisticRegression().fit(X_train, y_train)\n",
        "print('훈련 세트 점수: {:.3f}'.format(logreg.score(X_train, y_train)))\n",
        "print('테스트 세트 점수: {:3f}'.format(logreg.score(X_test, y_test)))"
      ],
      "execution_count": null,
      "outputs": [
        {
          "output_type": "stream",
          "text": [
            "훈련 세트 점수: 0.953\n",
            "테스트 세트 점수: 0.958042\n"
          ],
          "name": "stdout"
        },
        {
          "output_type": "stream",
          "text": [
            "/usr/local/lib/python3.7/dist-packages/sklearn/linear_model/_logistic.py:940: ConvergenceWarning: lbfgs failed to converge (status=1):\n",
            "STOP: TOTAL NO. of ITERATIONS REACHED LIMIT.\n",
            "\n",
            "Increase the number of iterations (max_iter) or scale the data as shown in:\n",
            "    https://scikit-learn.org/stable/modules/preprocessing.html\n",
            "Please also refer to the documentation for alternative solver options:\n",
            "    https://scikit-learn.org/stable/modules/linear_model.html#logistic-regression\n",
            "  extra_warning_msg=_LOGISTIC_SOLVER_CONVERGENCE_MSG)\n"
          ],
          "name": "stderr"
        }
      ]
    },
    {
      "cell_type": "markdown",
      "metadata": {
        "id": "lsNBhn5edqkR"
      },
      "source": [
        "`C`의 기본값 `1`이 각 세트 점수에 꽤 좋은 성능을 내고 있지만 테스트 세트 점수가 훈련 세트 점수보다 높으므로 과소적합임.\n"
      ]
    },
    {
      "cell_type": "markdown",
      "metadata": {
        "id": "pO0X90MvQ2Nq"
      },
      "source": [
        "모델 제약을 풀어보기 위해 `C` 값을 증가시킴."
      ]
    },
    {
      "cell_type": "code",
      "metadata": {
        "colab": {
          "base_uri": "https://localhost:8080/"
        },
        "id": "l_j4mSrCQ7HR",
        "outputId": "87317fbc-48ff-4a00-fbe0-3f66c8e09f84"
      },
      "source": [
        "logreg100 = LogisticRegression(C=100).fit(X_train, y_train)\n",
        "print('훈련 세트 점수: {:.3f}'.format(logreg100.score(X_train, y_train)))\n",
        "print('테스트 세트 점수: {:3f}'.format(logreg100.score(X_test, y_test)))"
      ],
      "execution_count": null,
      "outputs": [
        {
          "output_type": "stream",
          "text": [
            "훈련 세트 점수: 0.955\n",
            "테스트 세트 점수: 0.944056\n"
          ],
          "name": "stdout"
        },
        {
          "output_type": "stream",
          "text": [
            "/usr/local/lib/python3.7/dist-packages/sklearn/linear_model/_logistic.py:940: ConvergenceWarning: lbfgs failed to converge (status=1):\n",
            "STOP: TOTAL NO. of ITERATIONS REACHED LIMIT.\n",
            "\n",
            "Increase the number of iterations (max_iter) or scale the data as shown in:\n",
            "    https://scikit-learn.org/stable/modules/preprocessing.html\n",
            "Please also refer to the documentation for alternative solver options:\n",
            "    https://scikit-learn.org/stable/modules/linear_model.html#logistic-regression\n",
            "  extra_warning_msg=_LOGISTIC_SOLVER_CONVERGENCE_MSG)\n"
          ],
          "name": "stderr"
        }
      ]
    },
    {
      "cell_type": "markdown",
      "metadata": {
        "id": "qfDXLxNdRWyF"
      },
      "source": [
        "`C` 값을 `100`으로 지정하였더니 훈련 세트 정확도가 증가하고 테스트 세트 정확도도 약간 증가함. 복잡도가 높은 모델일수록 성능이 좋다는 점을 의미함. 책에 나온 점수와 다르게 출력됨. 이유는 위에서 얘기했던 바와 같이 사이킷런 업데이트로 추측함.\n",
        "\n",
        "\n",
        "\n"
      ]
    },
    {
      "cell_type": "markdown",
      "metadata": {
        "id": "6_2POooaUP1x"
      },
      "source": [
        "규제를 더 강하게 하기 위해 `C` 값을 `0.001`로 내림.\n",
        "\n"
      ]
    },
    {
      "cell_type": "code",
      "metadata": {
        "colab": {
          "base_uri": "https://localhost:8080/"
        },
        "id": "LyhvN2jhVZCK",
        "outputId": "842811d3-3901-478f-81c3-c56df86f2f81"
      },
      "source": [
        "logreg001 = LogisticRegression(C=0.001).fit(X_train, y_train)\n",
        "print('훈련 세트 점수: {:.3f}'.format(logreg001.score(X_train, y_train)))\n",
        "print('테스트 세트 점수: {:3f}'.format(logreg001.score(X_test, y_test)))"
      ],
      "execution_count": null,
      "outputs": [
        {
          "output_type": "stream",
          "text": [
            "훈련 세트 점수: 0.951\n",
            "테스트 세트 점수: 0.944056\n"
          ],
          "name": "stdout"
        },
        {
          "output_type": "stream",
          "text": [
            "/usr/local/lib/python3.7/dist-packages/sklearn/linear_model/_logistic.py:940: ConvergenceWarning: lbfgs failed to converge (status=1):\n",
            "STOP: TOTAL NO. of ITERATIONS REACHED LIMIT.\n",
            "\n",
            "Increase the number of iterations (max_iter) or scale the data as shown in:\n",
            "    https://scikit-learn.org/stable/modules/preprocessing.html\n",
            "Please also refer to the documentation for alternative solver options:\n",
            "    https://scikit-learn.org/stable/modules/linear_model.html#logistic-regression\n",
            "  extra_warning_msg=_LOGISTIC_SOLVER_CONVERGENCE_MSG)\n"
          ],
          "name": "stderr"
        }
      ]
    },
    {
      "cell_type": "markdown",
      "metadata": {
        "id": "zPMNx-jyVk9b"
      },
      "source": [
        " <img src='https://drive.google.com/uc?export=view&id=1G_gq95m6NAtmuVcs90CKCBBwozynDMys' width = 50% >\n",
        "\n",
        "그림을 기준으로 설명하자면 이미 과소적합 된 모델에서 왼쪽으로 더 이동하므로 `C` 값이 기본값일 때보다 두 세트의 정확도는 더 낮아짐. 책에 나온 점수와 다르게 출력됨. 이유는 알아내지 못했음."
      ]
    },
    {
      "cell_type": "markdown",
      "metadata": {
        "id": "mUAGqXmFWXvB"
      },
      "source": [
        "`C` 값을 다르게 하여 학습시킨 모델의 계수를 확인함."
      ]
    },
    {
      "cell_type": "code",
      "metadata": {
        "colab": {
          "base_uri": "https://localhost:8080/",
          "height": 406
        },
        "id": "RA76gzScWfl1",
        "outputId": "44292056-55aa-4ad7-8786-25e523c2a276"
      },
      "source": [
        "plt.plot(logreg100.coef_.T, '^', label='C=100')\n",
        "plt.plot(logreg.coef_.T, 'o', label='C=1')\n",
        "plt.plot(logreg001.coef_.T, 'v', label='C=0.001')\n",
        "plt.xticks(range(cancer.data.shape[1]), cancer.feature_names, rotation=90)\n",
        "xlims = plt.xlim()\n",
        "plt.hlines(0, xlims[0], xlims[1])\n",
        "plt.xlim(xlims)\n",
        "plt.ylim(-5, 5)\n",
        "plt.xlabel('feature')\n",
        "plt.ylabel('coefficient size')\n",
        "plt.legend()"
      ],
      "execution_count": null,
      "outputs": [
        {
          "output_type": "execute_result",
          "data": {
            "text/plain": [
              "<matplotlib.legend.Legend at 0x7ff28e2ab990>"
            ]
          },
          "metadata": {
            "tags": []
          },
          "execution_count": 49
        },
        {
          "output_type": "display_data",
          "data": {
            "image/png": "[encoded data removed]",
            "text/plain": [
              "<Figure size 432x288 with 1 Axes>"
            ]
          },
          "metadata": {
            "tags": [],
            "needs_background": "light"
          }
        }
      ]
    },
    {
      "cell_type": "markdown",
      "metadata": {
        "id": "bffKtoIhV-k_"
      },
      "source": [
        "책에 나온 그래프와 다르게 출력됨. 이유는 알아내지 못했음. 아울러 출력된 그래프에 대한 설명 또한 적합하지 않은 부분이 많음. 아래 설명은 책에 있는 내용을 그대로 옮겼을 뿐이며 실제 그래프와는 맞지 않는 내용이 있다는 점을 참고 바람.\n",
        "\n",
        "여하튼 `LogisticRegression`은 기본으로 L2 규제를 적용하므로 `Ridge`로 만든 모습과 유사함. 규제를 강하게 할수록 계수들을 0에 더 가깝게 만들지만 완전히 0이 되지는 않음.\n",
        "\n",
        "세 번째 계수(mean perimeter)의 경우, `C=100`, `C=1`일 때 계수가 음수지만 , `C=0.001`일 때 양수가 되며 `C=1`일 때보다도 절댓값이 더 큼. 이런 모델을 해석하면 계수가 클래스와 특성의 연관성을 알려줄 수 있음. 예를 들면 'texture error' 특성 악성인 샘플과 관련이 깊으나 'mean perimeter' 계수의 부호가 바뀌는 것으로 보면 높은 'mean perimeter' 값은 양성이나 악성의 신호 모두가 될 수 있음. 따라서 선형 모델의 계수는 항상 의심하고 조심하면서 해석해야 함."
      ]
    },
    {
      "cell_type": "markdown",
      "metadata": {
        "id": "4Gc6Czq3V-gi"
      },
      "source": [
        "더 이해하기 쉬운 모델이라면 특성 몇 개만 사용하겠지만 L1 규제를 사용하는 것이 좋음. L1 규제를 사용할 경우 분류 정확도와 계수 그래프를 그림. 사이킷런 0.22 버전부터 `LogisticRegression` 클래스의 `solver` 매개변수 기본값이 `lbfgs`로 바뀜. 이 알고리즘은 L1 규제를 지원하지 않으므로 L1 규제를 사용하려면 `solver` 매개변수에 `liblinear`로 지정해야 함."
      ]
    },
    {
      "cell_type": "code",
      "metadata": {
        "colab": {
          "base_uri": "https://localhost:8080/",
          "height": 495
        },
        "id": "rlA4-lzJhCNb",
        "outputId": "fc64cbe1-2de0-45f2-b6af-d85c0092cb84"
      },
      "source": [
        "for C, marker in zip([0.001, 1, 100], ['o', '^', 'v']):\n",
        "    lr_l1 = LogisticRegression(C=C, solver='liblinear').fit(X_train, y_train)\n",
        "    print('C={:.3f} 인 로지스틱 회귀의 훈련 정확도: {:.2f}'.format\n",
        "          (C, lr_l1.score(X_train, y_train)))\n",
        "    print('C={:.3f} 인 로지스틱 회귀의 테스트 정확도: {:.2f}'.format\n",
        "          (C, lr_l1.score(X_test, y_test)))\n",
        "    plt.plot(lr_l1.coef_.T, marker, label='C={:.3f}'.format(C))\n",
        "\n",
        "plt.xticks(range(cancer.data.shape[1]), cancer.feature_names, rotation=90)\n",
        "xlims = plt.xlim()\n",
        "plt.hlines(0, xlims[0], xlims[1])\n",
        "plt.xlim(xlims)\n",
        "plt.xlabel('feature')\n",
        "plt.ylabel('coefficient size')\n",
        "plt.ylim(-5, 5)\n",
        "plt.legend(loc=3)\n",
        "plt.show()"
      ],
      "execution_count": null,
      "outputs": [
        {
          "output_type": "stream",
          "text": [
            "C=0.001 인 로지스틱 회귀의 훈련 정확도: 0.92\n",
            "C=0.001 인 로지스틱 회귀의 테스트 정확도: 0.94\n",
            "C=1.000 인 로지스틱 회귀의 훈련 정확도: 0.95\n",
            "C=1.000 인 로지스틱 회귀의 테스트 정확도: 0.96\n",
            "C=100.000 인 로지스틱 회귀의 훈련 정확도: 0.97\n",
            "C=100.000 인 로지스틱 회귀의 테스트 정확도: 0.97\n"
          ],
          "name": "stdout"
        },
        {
          "output_type": "display_data",
          "data": {
            "image/png": "[encoded data removed]",
            "text/plain": [
              "<Figure size 432x288 with 1 Axes>"
            ]
          },
          "metadata": {
            "tags": [],
            "needs_background": "light"
          }
        }
      ]
    },
    {
      "cell_type": "markdown",
      "metadata": {
        "id": "51qk1GNSjw6M"
      },
      "source": [
        "이 그래프 역시 책에서 출력된 모습과 다름. 이유는 알 수 없으나 아마도 사이킷런 버전이 업데이트 되면서 알고리즘에 변화가 생긴 것으로 추측함.\n",
        "\n",
        "아무튼 책에서 설명하는 내용은, 이진 분류에서 선형 모델과 회귀에서 선형 모델 사이에는 유사점이 많음. 회귀에서처럼 모델들의 주요 차이는 규제에서 모든 특성을 이용할지 일부 특성만을 사용할지 결정하는 `penalty` 매개변수임(사이킷런 0.22 버전부터는 `solver` 매개변수로 바뀜)."
      ]
    },
    {
      "cell_type": "markdown",
      "metadata": {
        "id": "Lvbr-ghpKb5b"
      },
      "source": [
        "### 다중 클래스 분류용 선형 모델\n",
        "\n",
        "로지스틱 회귀의 경우 소프트맥스(softmax) 함수를 사용한 다중 클래스 분류 알고리즘을 지원하고, 많은 선형 분류 모델은 이진 분류만 지원함. 이진 분류 알고리즘을 다중 클래스 분류 알고리즘으로 확장하는 보편적인 기법은 '일대다(one-vs.-rest, one-vs.-all)' 방법임. 일대다 방식은 각 클래스를 다른 모든 클래스와 구분하도록 이진 분류 모델을 학습시키므로 클래스의 수만큼 이진 분류 모델이 만들어지며, 모든 이진 분류기가 작동하면서 가장 높은 점수를 가지는 분류기의 클래스를 예측값으로 선택함.\n",
        "\n",
        "클래스별 이진 분류기를 만들면 각 클래스가 계수 벡터($w$)와 절편($b$)을 갖게 되며, 분류 신뢰도를 나타내는 다음 공식의 결괏값이 가장 높은 클래스가 해당 데이터의 클래스 레이블로 할당됨. 절편($b$)는 무조건 하나만 가짐.\n",
        "\n",
        "$w[0] \\times x[0] + w[1] \\times x[1] + \\cdots + w[p] \\times x[p] + b$\n",
        "\n",
        "다중 클래스 로지스틱 회귀 이면의 수학은 일대다 방식과 다르지만 클래스마다 계수 벡터와 절편을 만드는 것은 같으며 예측 방법도 같음.\n",
        "\n",
        "- 참고\n",
        "\n",
        " - `LogisticRegression`과 `LinearSVC`에 있는 `multi_class` 매개변수의 기본값은 일대다를 의미하는 `ovr`임. 사이킷런 0.20 버전에서 이 매개변수 옵션에 `auto`가 추가되었는데 이 `auto`로 지정하면 이진 분류이거나 `solver` 매개변수 값이 `liblinear`이면 `ovr`을 선택하고 그 외에는 `multinomial`을 선택함. `multi_class` 매개변수를 지정하지 않으면 기본값이 `ovr`에서 `auto`로 변경된다는 경고가 출력됨.\n",
        "\n",
        " - 다중 클래스 로지스틱 회귀 공식은 $Pr(Y_i=c)=\\frac{e^{w_c \\cdot X_i}}{\\displaystyle\\sum_{k=1}^K e^{w_k \\cdot X_i}}$이며 i번째 데이터 포인트 $X_i$의 출력 $Y_i$가 클래스 $c$일 확률 $Pr(Y_i=c)$는 K개의 클래스에 대한 각각의 계수 $W$를 데이터 포인트에 곱해서 지수함수를 적용한 합으로 클래스 $c$에 대한 값을 나누어 계산함. 보통 소프트맥스 함수의 표현에서 수식을 간소화하기 위해 절편($b$)는 계수 벡터($W$)에 포함된 것으로 나타냄. 즉 다중 클래스 로지스틱 회귀에도 클래스마다 계수 벡터와 절편이 있음."
      ]
    },
    {
      "cell_type": "markdown",
      "metadata": {
        "id": "ZWLbuPLpp-JL"
      },
      "source": [
        "클래스 3개를 가진 2차원 데이터셋에 일대다 방식을 적용함. 각 클래스의 데이터는 '정규분포(가우스안 분포)'를 따름."
      ]
    },
    {
      "cell_type": "code",
      "metadata": {
        "colab": {
          "base_uri": "https://localhost:8080/",
          "height": 297
        },
        "id": "Jr9F1F1CqLZ5",
        "outputId": "9154bfc0-fe00-462b-a02b-02b863399dda"
      },
      "source": [
        "from sklearn.datasets import make_blobs\n",
        "\n",
        "X, y = make_blobs(random_state=42)\n",
        "mglearn.discrete_scatter(X[:, 0], X[:, 1], y)\n",
        "plt.xlabel('feature 0')\n",
        "plt.ylabel('feature 1')\n",
        "plt.legend(['class 0', 'class 1', 'class 2'])"
      ],
      "execution_count": null,
      "outputs": [
        {
          "output_type": "execute_result",
          "data": {
            "text/plain": [
              "<matplotlib.legend.Legend at 0x7ff28e71d350>"
            ]
          },
          "metadata": {
            "tags": []
          },
          "execution_count": 51
        },
        {
          "output_type": "display_data",
          "data": {
            "image/png": "[encoded data removed]",
            "text/plain": [
              "<Figure size 432x288 with 1 Axes>"
            ]
          },
          "metadata": {
            "tags": [],
            "needs_background": "light"
          }
        }
      ]
    },
    {
      "cell_type": "markdown",
      "metadata": {
        "id": "ZzH18Sc_0mtG"
      },
      "source": [
        "클래스 별로 잘 모여있음."
      ]
    },
    {
      "cell_type": "markdown",
      "metadata": {
        "id": "P2RmoDQo0wld"
      },
      "source": [
        "이 데이터셋으로 `LinearSVC` 분류기를 훈련함."
      ]
    },
    {
      "cell_type": "code",
      "metadata": {
        "colab": {
          "base_uri": "https://localhost:8080/"
        },
        "id": "48QHq1V403As",
        "outputId": "fd3d4771-ac92-462a-d045-6ab154f3ad38"
      },
      "source": [
        "linear_svm = LinearSVC().fit(X, y)\n",
        "print('계수 배열 크기: ', linear_svm.coef_.shape)\n",
        "print('절편 배열 크기: ', linear_svm.intercept_.shape)"
      ],
      "execution_count": null,
      "outputs": [
        {
          "output_type": "stream",
          "text": [
            "계수 배열 크기:  (3, 2)\n",
            "절편 배열 크기:  (3,)\n"
          ],
          "name": "stdout"
        }
      ]
    },
    {
      "cell_type": "markdown",
      "metadata": {
        "id": "YAQ4zpqI1Mq7"
      },
      "source": [
        "계수의 경우 행은 클래스 3개에 각각 대응하는 계수 벡터를 의미하며, 열은 각 특성에 따른 계수 값(이 데이터셋은 특성이 2개)을 의미함. 절편의 경우 1차원 벡터임."
      ]
    },
    {
      "cell_type": "markdown",
      "metadata": {
        "id": "3ZFWmUIm1qs7"
      },
      "source": [
        "이진 분류기 3개가 만드는 경계를 시각화함."
      ]
    },
    {
      "cell_type": "code",
      "metadata": {
        "colab": {
          "base_uri": "https://localhost:8080/",
          "height": 300
        },
        "id": "q4b0PKBD1uCc",
        "outputId": "9909cb8e-591e-4ae6-a4e8-1b43240fd06d"
      },
      "source": [
        "mglearn.discrete_scatter(X[:, 0], X[:, 1], y)\n",
        "line = np.linspace(-15, 15)\n",
        "for coef, intercept, color in zip(linear_svm.coef_, linear_svm.intercept_, mglearn.cm3.colors):\n",
        "    plt.plot(line, -(line * coef[0] + intercept) / coef[1], c=color)\n",
        "plt.ylim(-10, 15)\n",
        "plt.xlim(-10, 8)\n",
        "plt.xlabel('feature 0')\n",
        "plt.ylabel('feature 1')\n",
        "plt.legend(['class 0', 'class 1', 'class 2', 'boundary of class 0', 'boundary of class 1', 'boundary of class 2'], loc=(1.01, 0.3))"
      ],
      "execution_count": null,
      "outputs": [
        {
          "output_type": "execute_result",
          "data": {
            "text/plain": [
              "<matplotlib.legend.Legend at 0x7ff2838c1110>"
            ]
          },
          "metadata": {
            "tags": []
          },
          "execution_count": 53
        },
        {
          "output_type": "display_data",
          "data": {
            "image/png": "[encoded data removed]",
            "text/plain": [
              "<Figure size 432x288 with 1 Axes>"
            ]
          },
          "metadata": {
            "tags": [],
            "needs_background": "light"
          }
        }
      ]
    },
    {
      "cell_type": "markdown",
      "metadata": {
        "id": "ZJlSlKJX6vY-"
      },
      "source": [
        "클래스 0에 속한 데이터 포인트는 클래스 0의 구분선 위에 위치하며 이는 이진 분류기가 만든 클래스 0 공간에 위치하는 것임. 그러나 클래스 0에 속한 데이터 포인트는 클래스 2의 구분선의 위에 위치하며 이는 이진 분류기에 의해 나머지로 분류됨. 아울러 클래스 0에 속한 데이터 포인트는 클래스 1의 구분선의 좌측에 위치하며 이 또한 이진 분류기에 의해 나머지로 분류됨. 따라서 이 공간의 어떤 데이터 포인트든 클래스 0으로 분류할 것으로 예상함(클래스 0 분류 신뢰도는 0보다 크고, 다른 두 클래스는 0보다 작을 것임).\n",
        "\n",
        "그러나 중앙에 위치한 삼각형 공간의 경우 모두 나머지로 분류했으므로 이곳에 위치한 데이터 포인트는 분류 공식의 결과가 가장 높은 클래스로 예측될 것임. 직선에 가장 근접한 클래스로 예측한다는 의미임."
      ]
    },
    {
      "cell_type": "markdown",
      "metadata": {
        "id": "7Cw_EgqH8w9H"
      },
      "source": [
        "2차원 평면의 모든 데이터 포인트에 대한 예측 결과를 그림. 일대다 분류기 3개가 만든 다중 클래스 결정 경계를 나타냄."
      ]
    },
    {
      "cell_type": "code",
      "metadata": {
        "colab": {
          "base_uri": "https://localhost:8080/",
          "height": 280
        },
        "id": "BwzKsZEj82J6",
        "outputId": "14c1d056-af50-4536-e5ab-5b0d2b7a47c5"
      },
      "source": [
        "mglearn.plots.plot_2d_classification(linear_svm, X, fill=True, alpha=.7)\n",
        "mglearn.discrete_scatter(X[:, 0], X[:, 1], y)\n",
        "line = np.linspace(-15, 15)\n",
        "for coef, intercept, color in zip(linear_svm.coef_, linear_svm.intercept_, mglearn.cm3.colors):\n",
        "    plt.plot(line, -(line * coef[0] + intercept) / coef[1], c=color)\n",
        "plt.xlabel('feature 0')\n",
        "plt.ylabel('feature 1')\n",
        "plt.legend(['class 0', 'class 1', 'class 2', 'boundary of class 0', 'boundary of class 1', 'boundary of class 2'], loc=(1.01, 0.3))"
      ],
      "execution_count": null,
      "outputs": [
        {
          "output_type": "execute_result",
          "data": {
            "text/plain": [
              "<matplotlib.legend.Legend at 0x7ff283837f50>"
            ]
          },
          "metadata": {
            "tags": []
          },
          "execution_count": 54
        },
        {
          "output_type": "display_data",
          "data": {
            "image/png": "[encoded data removed]",
            "text/plain": [
              "<Figure size 432x288 with 1 Axes>"
            ]
          },
          "metadata": {
            "tags": []
          }
        }
      ]
    },
    {
      "cell_type": "markdown",
      "metadata": {
        "id": "wU3k0TvgKb2v"
      },
      "source": [
        "### 장단점과 매개변수\n",
        "\n",
        "선형 모델의 주요 매개변수는 회귀 모델의 경우 `alpha`이고, 분류의 경우 `C`임. `alpha` 값은 클수록, `C` 값은 작을수록 모델이 단순해짐. 보통 두 매개변수는 로그 스케일(자릿수가 바뀌도록 10배씩 변경하는데 0.001, 0.01, 0.1, 1, 10, 100...)로 최적치를 정함.\n",
        "\n",
        "그리고 L1 또는 L2 규제를 사용할지 정함. 중요한 특성이 많지 않거나 특성을 줄이려면  L1 규제, 중요한 특성이 많으면 L2 규제를 사용함. L1을 사용하면 특성을 조금만 사용하므로 모델을 분석하기 용이함. 중요한 특성이 무엇인지, 그 영향은 어느 정도인지 파악하기 쉬움.\n",
        "\n",
        "선형 모델은 학습 속도가 빠르고 예측도 빠름. 매우 큰 데이터셋과 희소한 데이터셋에도 잘 작동함. 대용량 데이터셋이라면 기본 설정보다 빨리 처리하도록 `LogisticRegression`과 `Ridge`의 `solver` 매개변수에 `'sag'`(사이킷런 0.19 버전으로 업데이트 하면서 성능을 개선한 `saga`가 추가됨.)를 지정함. `sag`는 'Stochastic Average Gradient descent(확률적 평균 경사 하강법)'의 약자로 일반적인 경사 하강법과 비슷하지만 반복이 진행될 때 이전에 구한 모든 경사의 평균을 사용해서 계수를 갱신함. \n",
        "\n",
        "다른 방법으로는 선형 모델의 대용량 처리 버전으로 구현된 `SGDClassifier`, `SGDRegressor`를 사용함. 'SGD'는 'Stochastic Gradient Descent(확률적 경사 하강법)'의 약자임.\n",
        "\n",
        "선형 모델이 가진 다른 장점은 회귀와 분류에서 공식을 토대로 만들어진 예측에 대해 비교적 쉽게 이해할 수 있다는 점임. 다만 데이터 특성들이 서로 깊게 연관될수록 계수 값에 대해 설명하기 어렵고 분석하기도 매우 어려움.\n",
        "\n",
        "선형 모델은 샘플보다 특성이 더 많을 때 잘 작동하고, 다른 모델로 학습하기 어려운 큰 데이터셋에 선형 모델을 많이 사용함. 저차원의 데이터셋에서는 다른 모델들의 일반화 성능이 더 좋으므로 선형 모델을 우선 시도하지 않음. SVM에서 선형 모델이 실패하는 예를 살펴볼 예정임."
      ]
    },
    {
      "cell_type": "markdown",
      "metadata": {
        "id": "s_W9oBUKNTI1"
      },
      "source": [
        "선형 모델 파트를 마무리하기 전에 '메서드 연결(method chaining)'에 대해 설명함. 메서드 호출을 잇는 것(여기서는 `__init__`와 `self`)을 의미함. `__init__`은 객체가 생성될 때 자동으로 호출되는 특수한 메서드(생성자)이며, `self`는 호출된 메서드를 정의한 객체 자신을 의미함.\n",
        "\n",
        "모든 사이킷런의 `fit` 메서드는 학습된 모델인 `self`를 반환하고 이를 변수 'logreg'에 할당함.\n",
        "\n",
        "`logreg = LogisticRegression().fit(X_train, y_train)`\n",
        "\n",
        "`fit` 메서드와 `predict` 메서드를 한 줄에 쓰는 메서드 연결도 자주 사용함. 모델의 객체를 만들고 훈련하고 예측하는 일을 한 줄에 씀.\n",
        "\n",
        "`logreg = LogisticRegression()`\n",
        "\n",
        "`y_pred = logreg(X_train, y_train).predict(X_test)`\n",
        "\n",
        "`y_pred = LogisticRegression().fit(X_train, y_train).predict(X_test)`\n",
        "\n",
        "물론 이런 방식은 코드를 읽기 어려워지므로 바람직하지 않음. 아울러 학습된 로지스틱 회귀 모델은 변수에 할당되지 않으므로(예측값을 가진 변수만 남으므로) 다른 데이터에 대해 예측하거나 만들어진 모델을 분석할 수 없음. \n",
        "\n",
        "\n",
        "\n"
      ]
    },
    {
      "cell_type": "markdown",
      "metadata": {
        "id": "72nDssihVCef"
      },
      "source": [
        "## 2.3.4 나이브 베이즈 분류기\n",
        "\n",
        "'나이브 베이즈(naive bayes)' 분류기는 선형 모델과 매우 유사함. `LogisticRegression`과 `LinearSVC`보다 훈련 속도가 빠르지만 일반화 성능이 약간 떨어짐.\n",
        "\n",
        "나이브 베이즈 분류기가 효과적인 이유는 각 특성을 개별로 취급해서 파라미터를 학습하고 각 특성에서 클래스별 통계를 단순하게 취합하기 때문임. 나이브 베이즈 분류기의 종류는 아래 3가지임.\n",
        "\n",
        "- `GaussianNB` : 연속적 데이터에 적용할 수 있음.\n",
        "- `BernoulliNB` : 이진(이산적) 데이터에 적용할 수 있음.\n",
        "- `MultinomialNB` : 이진(이산적) 데이터이면서 카운트 데이터(특성이 어떤 것을 헤아린 정수 카운트로, 예를 들면 문장에 나타난 단어의 횟수임)에 적용할 수 있음.\n",
        "\n",
        "`BernoulliNB`과 `MultinomialNB`는 주로 텍스트 데이터를 분류할 때 사용함."
      ]
    },
    {
      "cell_type": "markdown",
      "metadata": {
        "id": "AWGMqHLrYIjo"
      },
      "source": [
        "`BernoulliNB` 분류기는 각 클래스의 특성 중에 0이 아닌 것이 몇 개인지 셈."
      ]
    },
    {
      "cell_type": "code",
      "metadata": {
        "id": "rJzBBQEBYPnV"
      },
      "source": [
        "X = np.array([[0, 1, 0, 1],\n",
        "              [1, 0, 1, 1],\n",
        "              [0, 0, 0, 1],\n",
        "              [1, 0, 1, 0]])\n",
        "y = np.array([0, 1, 0, 1])"
      ],
      "execution_count": null,
      "outputs": []
    },
    {
      "cell_type": "markdown",
      "metadata": {
        "id": "t1zka3ylYnTz"
      },
      "source": [
        "이진 특성을 가진 데이터 포인트 4개가 있고 클래스는 0, 1임. 출력 y의 첫 번째, 세 번째 클래스는 0임. 첫 번째 특성은 0이 두 번이고 0이 아닌 것은 한 번도 없음. 두 번째 특성은 0이 한 번이고 1도 한 번임. 같은 방식으로 두 번째 클래스에 해당하는 데이터 포인트도 계산함. 이해하기 어려우면 아래 코드를 참고할 것."
      ]
    },
    {
      "cell_type": "markdown",
      "metadata": {
        "id": "Aw2E4YP8adCc"
      },
      "source": [
        "클래스별로 0이 아닌 원소를 세는 과정을 요약함. 클래스 값이 0이나 1이므로 1이 나타난 횟수를 세면 특성의 값을 모두 더한 게 됨. 프린트를 추가로 달아서 이해하기 쉽도록 출력함."
      ]
    },
    {
      "cell_type": "code",
      "metadata": {
        "id": "zeIzIbZlaelr",
        "colab": {
          "base_uri": "https://localhost:8080/"
        },
        "outputId": "b2431ef2-10cd-4659-b32a-1dcf13a73f61"
      },
      "source": [
        "# 각 클래스마다 리스트를 저장하기 위해 딕셔너리를 공백으로 둠.\n",
        "counts = {}\n",
        "# 각 클래스를 하나씩만 출력하기 위해 넘파이 `unique()` 함수를 사용함.\n",
        "for label in np.unique(y):\n",
        "    print(label)\n",
        "    # 각 클래스에 대해 반복함. 특성마다 1이 나타난 횟수를 더함.\n",
        "    # `axis`를 0로 지정하면 행을 기준으로 더함. 특성마다 아래로 더한다는 의미임.\n",
        "    # `axis`를 1로 지정하면 열을 기준으로 더함. 데이터 포인트 전체 값을 (오른쪽으로) 더한다는 의미임.\n",
        "    counts[label] = X[y == label].sum(axis=0)\n",
        "    print(y == label)\n",
        "    # True에 속한 행을 추출함.\n",
        "    print(X[y == label])\n",
        "    print(counts[label])\n",
        "    print()\n",
        "print('특성 카운트: ', counts)"
      ],
      "execution_count": null,
      "outputs": [
        {
          "output_type": "stream",
          "text": [
            "0\n",
            "[ True False  True False]\n",
            "[[0 1 0 1]\n",
            " [0 0 0 1]]\n",
            "[0 1 0 2]\n",
            "\n",
            "1\n",
            "[False  True False  True]\n",
            "[[1 0 1 1]\n",
            " [1 0 1 0]]\n",
            "[2 0 2 1]\n",
            "\n",
            "특성 카운트:  {0: array([0, 1, 0, 2]), 1: array([2, 0, 2, 1])}\n"
          ],
          "name": "stdout"
        }
      ]
    },
    {
      "cell_type": "markdown",
      "metadata": {
        "id": "qZ_KoZKpgqeI"
      },
      "source": [
        "클래스 0인 경우, 즉 첫 번째, 세 번째 행에서 1이 나타난 횟수를 행(`axis=0`)을 따라 더하면 [0, 1, 0, 2]이 되며, 클래스 1인 경우 두 번째, 네 번째 행에서 1이 나타난 횟수를 행을 따라 더하면 [2, 0, 2, 1]이 됨."
      ]
    },
    {
      "cell_type": "markdown",
      "metadata": {
        "id": "wLk8QDNFtuSZ"
      },
      "source": [
        "`multinomialNB`는 클래스별로 특성의 평균을 계산하고, `GaussianNB`는 특성의 표준편차와 평균을 계산함. 예측할 땐 데이터 포인트를 클래스의 통계 값과 비교해서 가장 잘 맞는 클래스를 예측값으로 정함.\n",
        "\n",
        "`multinomialNB`와 `BernoulliNB`의 예측 공식은 선형 함수처럼 데이터 포인트에 `coef_`를 곱하고 `intercept_`를 더하는 방식과 같음. 다만 나이브 베이즈 모델의 `coef_`는 특성 카운트 수를 로그 변환한 형태이고(기울기 $w$가 아니고), `intercept_`는 클래스 카운트 수를 로그 변환한 것임."
      ]
    },
    {
      "cell_type": "markdown",
      "metadata": {
        "id": "T9BR0gOqKwsy"
      },
      "source": [
        "### 장단점과 매개변수\n",
        "\n",
        "`GaussianNB`는 매우 고차원인 데이터셋에 사용함.\n",
        "\n",
        "`MultinomialNB`와 `BernoulliNB`는 모델 복잡도를 조절하는 `alpha` 매개변수를 가짐. `alpha`가 주어지면 알고리즘이 양의 값을 가진 가상의 데이터 포인트를 모든 특성에 `alpha` 개수만큼 추가하여 통계 데이터를 완만하게 함. `alpha` 값이 클수록 더 완만해지고 모델 복잡도는 낮아짐. `alpha`에 따른 알고리즘 성능 변화는 크지 않아서 이 값 자체가 성능 향상에 크게 좌우하진 않지만 어느 정도 정확도는 제고할 수 있음. 이 두 베이즈 모델은 텍스트 같은 희소한 데이터를 세는 데 사용하며, 보통 0이 아닌 특성이 많은 데이터셋(큰 문서 같은 것들)에서 `MultinomialNB`가 `BernoulliNB`보다 성능이 좋음.\n",
        "\n",
        "나이브 베이즈 모델과 선형 모델의 장단점은 비슷함. 훈련과 예측 속도가 빠르고 훈련 과정을 이해하기 쉬움. 희소하고 고차원인 데이터셋에서 잘 작동하며 매개변수에 비교적 민감하지 않음. 선형 모델을 사용해서 학습 시간이 오래 걸리는 큰 데이터셋에는 나이브 베이즈 모델이 적합할 수 있고 실제로도 자주 사용함."
      ]
    },
    {
      "cell_type": "markdown",
      "metadata": {
        "id": "Tl4ccTLQVCb8"
      },
      "source": [
        "## 2.3.5 결정 트리\n",
        "\n",
        "'결정 트리(decision tree)'는 분류, 회귀 모두 널리 사용하는 모델이며 예/아니오로 된 연속적인 질문을 던지면서 결정을 향해 다다르는 학습 방식을 가짐. 스무고개 같다고 볼 수 있음."
      ]
    },
    {
      "cell_type": "code",
      "metadata": {
        "colab": {
          "base_uri": "https://localhost:8080/",
          "height": 248
        },
        "id": "8o7FD__9vhoD",
        "outputId": "bc5f06cc-a89d-4df1-cd5b-4676125d4445"
      },
      "source": [
        "mglearn.plots.plot_animal_tree()"
      ],
      "execution_count": null,
      "outputs": [
        {
          "output_type": "display_data",
          "data": {
            "image/png": "[encoded data removed]",
            "text/plain": [
              "<Figure size 432x288 with 1 Axes>"
            ]
          },
          "metadata": {
            "tags": [],
            "needs_background": "light"
          }
        }
      ]
    },
    {
      "cell_type": "markdown",
      "metadata": {
        "id": "ah9u-yyPvn9n"
      },
      "source": [
        "'노드(node)'는 질문이나 정답을 가진 네모이며, 마지막 노드는 '리프 노드(leaf node)'라고 함. '에지(edge)'는 질문의 답과 다음 질문을 연결하는 화살표선 임."
      ]
    },
    {
      "cell_type": "markdown",
      "metadata": {
        "id": "MFF4KzPGKzm_"
      },
      "source": [
        "### 결정 트리 만들기\n",
        "\n",
        "각 데이터포인트가 50개씩 있는 2차원 데이터셋을 분류하는 결정트리를 만듦. 정답에 가장 빨리 도달하는 예/아니오로 이뤄진 질문 목록을 학습하는 과정이 결정 트리를 학습하는 것을 의미함. 이런 질문들을 테스트(테스트 세트와 다른 의미)라고 함. 보통 데이터는 예/아니오로 구분되지 않고 연속된 특성으로 구분되므로 어떤 특성이 어떤 특성의 값보다 (같거나)큰지 작은지와 같은 형식으로 테스트 함.\n",
        "<img src='https://drive.google.com/uc?export=view&id=1BMSrD9BcAjMrVZW4N6GVY0yr7KStXSq0' width = 50% >\n",
        "\n",
        "가능한 한 모든 테스트에서 타깃값에 대해 가장 많은 정보를 가진 것을 고름. 데이터셋을 x[1]=0.06에서 수평적으로 나누는 것이 가장 많은 정보를 포함함. 이 직선이 클래스0과 클래스1에 각각 속한 데이터 포인트를 가장 잘 나눔.\n",
        "\n",
        "맨 위에 위치한 루트노드는 클래스0과 클래스1에 각각 속한 데이터 포인트 50개를 나타냄([클래스0의 개수, 클래스1의 개수]). 테스트 X[1]<=0.06를 통과하면 왼쪽 노드, 통과하지 못하면 오른쪽 노드로 감. 그림에서 아랫부분이 왼쪽 노드, 윗부분이 오른쪽 노드를 나타냄. 첫 번째 분류 시도가 두 클래스를 완벽하게 구분하지 못했으므로 각각 클래스가 양쪽 노드에 포함됨.\n",
        "<img src='https://drive.google.com/uc?export=view&id=1BG88SYxELbjWOs7JdiTal0OIX6_0abVs' width = 70% >\n",
        "\n",
        "테스트를 반복하면 그림처럼 구간을 더 나눔.\n",
        "<img src='https://drive.google.com/uc?export=view&id=1q2U9Dv4ICIK1rxi5bRbs94xc475pVQAr' width = 70% >\n",
        "\n",
        "테스트를 반복하면 각 노드가 테스트를 하나씩 가진 이진 결정 트리를 계속 만듦. 그림으로 설명하면 각 테스트는 축을 따라 데이터를 둘로 나눠감. 이를 계층적으로 영역을 분할하는 알고리즘으로 할 수 있음. 각 테스트는 특성 하나로만 진행되므로 나뉜 영역은 항상 축에 평행한 형태를 취함.\n",
        "\n",
        "이런 식으로 진행하면서 각 분할된 영역에 타깃값이 하나만 남을 때까지 반복함. 즉 결정 트리의 리프 노드에 클래스나 회귀 분석 결과가 하나만 남을 때까지 반복함. 타깃이 하나만 남은 리프 노드를 '순수 노드(pure node)'라고 함. 순수 노드로 이루어진 트리는 훈련 세트에 100% 정확하게 맞는다는 것을 의미함.\n",
        "<img src='https://drive.google.com/uc?export=view&id=1Hsywnh2gmyVIhiP5auyZoNawL3642MBK' width = 70% >\n",
        "\n",
        "결론적으로 특성을 분할한 영역들 중 어느 곳에 위치하는지 확인하고 그 영역의 타깃값 중에 다수이거나 하나인 것을 예측 결과가 됨. 회귀의 경우는 리프 노드의 훈련 데이터 평균값이 예측 결과가 됨."
      ]
    },
    {
      "cell_type": "markdown",
      "metadata": {
        "id": "q0tbh5QfKzj3"
      },
      "source": [
        "### 결정 트리의 복잡도 제어하기\n",
        "\n",
        "모든 리프 노드가 순수 노드가 될 때까지 진행하면 모델이 매우 복잡해지고 훈련 데이터에 과대적합 됨. 위 그래프가 클래스0이 클래스0 영역에 모두 속하며 과대적합 된 것을 보여주며 결코 바람직한 결정 경계가 아님. 결정 경계가 클래스의 데이터 포인트들에서 멀리 떨어진 '이상치(coulier)' 하나에 너무 민감하기 때문임.\n",
        "\n",
        "과대적합을 막는 방법은 두 가지임. \n",
        "\n",
        "- '사전 가지치기(pre-pruning)'로 트리 생성을 일찍 중단함. 트리의 최대 깊이나 리프의 최대 개수를 제한하거나, 노드가 분할하기 위한 데이터 포인트의 최소 개수를 정함. 사이킷런은 사전 가지치기만 지원함.\n",
        "\n",
        "- '사후 가지치기(post-pruning)' 또는 '가지치기(pruning)'로 트리 생성을 마친 후에 데이터 포인트가 적은 노드를 삭제, 병합하는 방법임. 사이킷런은 지원하지 않음.\n",
        "\n",
        "결정 트리는 `DecisionTreeRegression`, `DecisionTreeClassifier`에 구현됨. "
      ]
    },
    {
      "cell_type": "markdown",
      "metadata": {
        "id": "pTG7GF2YLLE_"
      },
      "source": [
        "유방암 데이터셋을 사용하여 사전 가지치기 효과를 확인함."
      ]
    },
    {
      "cell_type": "code",
      "metadata": {
        "colab": {
          "base_uri": "https://localhost:8080/"
        },
        "id": "6UMKvk0RLT9-",
        "outputId": "3098dd57-6728-4853-a2c8-8f6cc4473fa3"
      },
      "source": [
        "from sklearn.tree import DecisionTreeClassifier\n",
        "\n",
        "cancer = load_breast_cancer()\n",
        "X_train, X_test, y_train, y_test = train_test_split(cancer.data, cancer.target,\n",
        "                                                    stratify=cancer.target, random_state=42)\n",
        "tree = DecisionTreeClassifier(random_state=0)\n",
        "tree.fit(X_train, y_train)\n",
        "print('훈련 세트 정확도: {:.3f}'.format(tree.score(X_train, y_train)))\n",
        "print('테스트 세트 정확도: {:.3f}'.format(tree.score(X_test, y_test)))"
      ],
      "execution_count": null,
      "outputs": [
        {
          "output_type": "stream",
          "text": [
            "훈련 세트 정확도: 1.000\n",
            "테스트 세트 정확도: 0.937\n"
          ],
          "name": "stdout"
        }
      ]
    },
    {
      "cell_type": "markdown",
      "metadata": {
        "id": "2GxViiptMU39"
      },
      "source": [
        "가지치기를 통해 트리 깊이를 제한하지 않으면 트리는 무한대로 깊어지고 복잡해짐. 과대적합 되기 쉽고 새로운 데이터에 일반화되기 어려움. "
      ]
    },
    {
      "cell_type": "markdown",
      "metadata": {
        "id": "09Dar6YHNHEZ"
      },
      "source": [
        "사전 가지치기를 적용하기 위해 매개변수 `max_depth`에 값을 지정해서 트리 깊이를 제한함. 일정 깊이까지만 트리가 자라도록 사전에 조치하는 것임. "
      ]
    },
    {
      "cell_type": "code",
      "metadata": {
        "colab": {
          "base_uri": "https://localhost:8080/"
        },
        "id": "dnqjQVCSNjtC",
        "outputId": "59be2428-69a7-4228-927f-09302bfc3524"
      },
      "source": [
        "tree = DecisionTreeClassifier(max_depth=4, random_state=0)\n",
        "tree.fit(X_train, y_train)\n",
        "print('훈련 세트 정확도: {:.3f}'.format(tree.score(X_train, y_train)))\n",
        "print('테스트 세트 정확도: {:.3f}'.format(tree.score(X_test, y_test)))"
      ],
      "execution_count": null,
      "outputs": [
        {
          "output_type": "stream",
          "text": [
            "훈련 세트 정확도: 0.988\n",
            "테스트 세트 정확도: 0.951\n"
          ],
          "name": "stdout"
        }
      ]
    },
    {
      "cell_type": "markdown",
      "metadata": {
        "id": "lsOY9MVrKzg6"
      },
      "source": [
        "### 결정 트리 분석\n",
        "\n",
        "트리 모듈의 `export_graphviz` 함수를 사용해서 트리를 시각화함. 이 함수는 그래프 저장용 텍스트 파일 포맷인 `.dot` 파일을 만듦. 각 노드에서 다수인 클래스를 색으로 나타내기 위해 옵션을 주고 적절히 레이블 되도록 클래스 이름과 특성 이름을 매개변수로 전달함."
      ]
    },
    {
      "cell_type": "code",
      "metadata": {
        "id": "Ud2ommlFOwMO"
      },
      "source": [
        "from sklearn.tree import export_graphviz\n",
        "export_graphviz(tree, out_file='tree.dot', class_names=['benign', 'malignant'],\n",
        "                 feature_names=cancer.feature_names, impurity=False, filled=True)"
      ],
      "execution_count": null,
      "outputs": []
    },
    {
      "cell_type": "markdown",
      "metadata": {
        "id": "UxJyht9CQDxo"
      },
      "source": [
        "`tree.dot`로 생성한 파일을 `graphviz` 모듈을 사용해서 시각화함. 다른 프로그램을 사용해도 됨."
      ]
    },
    {
      "cell_type": "code",
      "metadata": {
        "colab": {
          "base_uri": "https://localhost:8080/",
          "height": 676
        },
        "id": "XTaXZmpmQV_B",
        "outputId": "d34a538c-17a3-4b48-ba08-424d6a20ca24"
      },
      "source": [
        "import graphviz\n",
        "\n",
        "with open('tree.dot') as f:\n",
        "    dot_graph = f.read()\n",
        "display(graphviz.Source(dot_graph))"
      ],
      "execution_count": null,
      "outputs": [
        {
          "output_type": "display_data",
          "data": {
            "text/plain": [
              "<graphviz.files.Source at 0x7ff2836aa250>"
            ],
            "image/svg+xml": "<?xml version=\"1.0\" encoding=\"UTF-8\" standalone=\"no\"?>\n<!DOCTYPE svg PUBLIC \"-//W3C//DTD SVG 1.1//EN\"\n \"http://www.w3.org/Graphics/SVG/1.1/DTD/svg11.dtd\">\n<!-- Generated by graphviz version 2.40.1 (20161225.0304)\n -->\n<!-- Title: Tree Pages: 1 -->\n<svg width=\"1068pt\" height=\"477pt\"\n viewBox=\"0.00 0.00 1068.00 477.00\" xmlns=\"http://www.w3.org/2000/svg\" xmlns:xlink=\"http://www.w3.org/1999/xlink\">\n<g id=\"graph0\" class=\"graph\" transform=\"scale(1 1) rotate(0) translate(4 473)\">\n<title>Tree</title>\n<polygon fill=\"#ffffff\" stroke=\"transparent\" points=\"-4,4 -4,-473 1064,-473 1064,4 -4,4\"/>\n<!-- 0 -->\n<g id=\"node1\" class=\"node\">\n<title>0</title>\n<polygon fill=\"#afd7f4\" stroke=\"#000000\" points=\"677,-469 525,-469 525,-401 677,-401 677,-469\"/>\n<text text-anchor=\"middle\" x=\"601\" y=\"-453.8\" font-family=\"Times,serif\" font-size=\"14.00\" fill=\"#000000\">worst radius &lt;= 16.795</text>\n<text text-anchor=\"middle\" x=\"601\" y=\"-438.8\" font-family=\"Times,serif\" font-size=\"14.00\" fill=\"#000000\">samples = 426</text>\n<text text-anchor=\"middle\" x=\"601\" y=\"-423.8\" font-family=\"Times,serif\" font-size=\"14.00\" fill=\"#000000\">value = [159, 267]</text>\n<text text-anchor=\"middle\" x=\"601\" y=\"-408.8\" font-family=\"Times,serif\" font-size=\"14.00\" fill=\"#000000\">class = malignant</text>\n</g>\n<!-- 1 -->\n<g id=\"node2\" class=\"node\">\n<title>1</title>\n<polygon fill=\"#4ca6e8\" stroke=\"#000000\" points=\"592.5,-365 397.5,-365 397.5,-297 592.5,-297 592.5,-365\"/>\n<text text-anchor=\"middle\" x=\"495\" y=\"-349.8\" font-family=\"Times,serif\" font-size=\"14.00\" fill=\"#000000\">worst concave points &lt;= 0.136</text>\n<text text-anchor=\"middle\" x=\"495\" y=\"-334.8\" font-family=\"Times,serif\" font-size=\"14.00\" fill=\"#000000\">samples = 284</text>\n<text text-anchor=\"middle\" x=\"495\" y=\"-319.8\" font-family=\"Times,serif\" font-size=\"14.00\" fill=\"#000000\">value = [25, 259]</text>\n<text text-anchor=\"middle\" x=\"495\" y=\"-304.8\" font-family=\"Times,serif\" font-size=\"14.00\" fill=\"#000000\">class = malignant</text>\n</g>\n<!-- 0&#45;&gt;1 -->\n<g id=\"edge1\" class=\"edge\">\n<title>0&#45;&gt;1</title>\n<path fill=\"none\" stroke=\"#000000\" d=\"M566.2916,-400.9465C556.9574,-391.7884 546.7604,-381.7838 537.0727,-372.2788\"/>\n<polygon fill=\"#000000\" stroke=\"#000000\" points=\"539.3757,-369.6351 529.7863,-365.13 534.4733,-374.6318 539.3757,-369.6351\"/>\n<text text-anchor=\"middle\" x=\"530.0244\" y=\"-386.4289\" font-family=\"Times,serif\" font-size=\"14.00\" fill=\"#000000\">True</text>\n</g>\n<!-- 14 -->\n<g id=\"node15\" class=\"node\">\n<title>14</title>\n<polygon fill=\"#e78945\" stroke=\"#000000\" points=\"761,-365 617,-365 617,-297 761,-297 761,-365\"/>\n<text text-anchor=\"middle\" x=\"689\" y=\"-349.8\" font-family=\"Times,serif\" font-size=\"14.00\" fill=\"#000000\">texture error &lt;= 0.473</text>\n<text text-anchor=\"middle\" x=\"689\" y=\"-334.8\" font-family=\"Times,serif\" font-size=\"14.00\" fill=\"#000000\">samples = 142</text>\n<text text-anchor=\"middle\" x=\"689\" y=\"-319.8\" font-family=\"Times,serif\" font-size=\"14.00\" fill=\"#000000\">value = [134, 8]</text>\n<text text-anchor=\"middle\" x=\"689\" y=\"-304.8\" font-family=\"Times,serif\" font-size=\"14.00\" fill=\"#000000\">class = benign</text>\n</g>\n<!-- 0&#45;&gt;14 -->\n<g id=\"edge14\" class=\"edge\">\n<title>0&#45;&gt;14</title>\n<path fill=\"none\" stroke=\"#000000\" d=\"M629.8145,-400.9465C637.4117,-391.968 645.6974,-382.1758 653.5982,-372.8385\"/>\n<polygon fill=\"#000000\" stroke=\"#000000\" points=\"656.3332,-375.0247 660.1208,-365.13 650.9895,-370.5031 656.3332,-375.0247\"/>\n<text text-anchor=\"middle\" x=\"662.1969\" y=\"-386.3436\" font-family=\"Times,serif\" font-size=\"14.00\" fill=\"#000000\">False</text>\n</g>\n<!-- 2 -->\n<g id=\"node3\" class=\"node\">\n<title>2</title>\n<polygon fill=\"#3c9fe5\" stroke=\"#000000\" points=\"390,-261 250,-261 250,-193 390,-193 390,-261\"/>\n<text text-anchor=\"middle\" x=\"320\" y=\"-245.8\" font-family=\"Times,serif\" font-size=\"14.00\" fill=\"#000000\">radius error &lt;= 1.048</text>\n<text text-anchor=\"middle\" x=\"320\" y=\"-230.8\" font-family=\"Times,serif\" font-size=\"14.00\" fill=\"#000000\">samples = 252</text>\n<text text-anchor=\"middle\" x=\"320\" y=\"-215.8\" font-family=\"Times,serif\" font-size=\"14.00\" fill=\"#000000\">value = [4, 248]</text>\n<text text-anchor=\"middle\" x=\"320\" y=\"-200.8\" font-family=\"Times,serif\" font-size=\"14.00\" fill=\"#000000\">class = malignant</text>\n</g>\n<!-- 1&#45;&gt;2 -->\n<g id=\"edge2\" class=\"edge\">\n<title>1&#45;&gt;2</title>\n<path fill=\"none\" stroke=\"#000000\" d=\"M437.6985,-296.9465C421.2306,-287.1599 403.1362,-276.4066 386.1793,-266.3294\"/>\n<polygon fill=\"#000000\" stroke=\"#000000\" points=\"387.8149,-263.23 377.4303,-261.13 384.2387,-269.2476 387.8149,-263.23\"/>\n</g>\n<!-- 7 -->\n<g id=\"node8\" class=\"node\">\n<title>7</title>\n<polygon fill=\"#f3c3a1\" stroke=\"#000000\" points=\"569.5,-261 420.5,-261 420.5,-193 569.5,-193 569.5,-261\"/>\n<text text-anchor=\"middle\" x=\"495\" y=\"-245.8\" font-family=\"Times,serif\" font-size=\"14.00\" fill=\"#000000\">worst texture &lt;= 25.62</text>\n<text text-anchor=\"middle\" x=\"495\" y=\"-230.8\" font-family=\"Times,serif\" font-size=\"14.00\" fill=\"#000000\">samples = 32</text>\n<text text-anchor=\"middle\" x=\"495\" y=\"-215.8\" font-family=\"Times,serif\" font-size=\"14.00\" fill=\"#000000\">value = [21, 11]</text>\n<text text-anchor=\"middle\" x=\"495\" y=\"-200.8\" font-family=\"Times,serif\" font-size=\"14.00\" fill=\"#000000\">class = benign</text>\n</g>\n<!-- 1&#45;&gt;7 -->\n<g id=\"edge7\" class=\"edge\">\n<title>1&#45;&gt;7</title>\n<path fill=\"none\" stroke=\"#000000\" d=\"M495,-296.9465C495,-288.776 495,-279.9318 495,-271.3697\"/>\n<polygon fill=\"#000000\" stroke=\"#000000\" points=\"498.5001,-271.13 495,-261.13 491.5001,-271.13 498.5001,-271.13\"/>\n</g>\n<!-- 3 -->\n<g id=\"node4\" class=\"node\">\n<title>3</title>\n<polygon fill=\"#3b9ee5\" stroke=\"#000000\" points=\"253,-157 81,-157 81,-89 253,-89 253,-157\"/>\n<text text-anchor=\"middle\" x=\"167\" y=\"-141.8\" font-family=\"Times,serif\" font-size=\"14.00\" fill=\"#000000\">smoothness error &lt;= 0.003</text>\n<text text-anchor=\"middle\" x=\"167\" y=\"-126.8\" font-family=\"Times,serif\" font-size=\"14.00\" fill=\"#000000\">samples = 251</text>\n<text text-anchor=\"middle\" x=\"167\" y=\"-111.8\" font-family=\"Times,serif\" font-size=\"14.00\" fill=\"#000000\">value = [3, 248]</text>\n<text text-anchor=\"middle\" x=\"167\" y=\"-96.8\" font-family=\"Times,serif\" font-size=\"14.00\" fill=\"#000000\">class = malignant</text>\n</g>\n<!-- 2&#45;&gt;3 -->\n<g id=\"edge3\" class=\"edge\">\n<title>2&#45;&gt;3</title>\n<path fill=\"none\" stroke=\"#000000\" d=\"M269.9021,-192.9465C255.7687,-183.3395 240.2648,-172.8009 225.6767,-162.8848\"/>\n<polygon fill=\"#000000\" stroke=\"#000000\" points=\"227.4483,-159.8571 217.2105,-157.13 223.5132,-165.6463 227.4483,-159.8571\"/>\n</g>\n<!-- 6 -->\n<g id=\"node7\" class=\"node\">\n<title>6</title>\n<polygon fill=\"#e58139\" stroke=\"#000000\" points=\"369,-149.5 271,-149.5 271,-96.5 369,-96.5 369,-149.5\"/>\n<text text-anchor=\"middle\" x=\"320\" y=\"-134.3\" font-family=\"Times,serif\" font-size=\"14.00\" fill=\"#000000\">samples = 1</text>\n<text text-anchor=\"middle\" x=\"320\" y=\"-119.3\" font-family=\"Times,serif\" font-size=\"14.00\" fill=\"#000000\">value = [1, 0]</text>\n<text text-anchor=\"middle\" x=\"320\" y=\"-104.3\" font-family=\"Times,serif\" font-size=\"14.00\" fill=\"#000000\">class = benign</text>\n</g>\n<!-- 2&#45;&gt;6 -->\n<g id=\"edge6\" class=\"edge\">\n<title>2&#45;&gt;6</title>\n<path fill=\"none\" stroke=\"#000000\" d=\"M320,-192.9465C320,-182.2621 320,-170.4254 320,-159.5742\"/>\n<polygon fill=\"#000000\" stroke=\"#000000\" points=\"323.5001,-159.5421 320,-149.5422 316.5001,-159.5422 323.5001,-159.5421\"/>\n</g>\n<!-- 4 -->\n<g id=\"node5\" class=\"node\">\n<title>4</title>\n<polygon fill=\"#7bbeee\" stroke=\"#000000\" points=\"116,-53 0,-53 0,0 116,0 116,-53\"/>\n<text text-anchor=\"middle\" x=\"58\" y=\"-37.8\" font-family=\"Times,serif\" font-size=\"14.00\" fill=\"#000000\">samples = 4</text>\n<text text-anchor=\"middle\" x=\"58\" y=\"-22.8\" font-family=\"Times,serif\" font-size=\"14.00\" fill=\"#000000\">value = [1, 3]</text>\n<text text-anchor=\"middle\" x=\"58\" y=\"-7.8\" font-family=\"Times,serif\" font-size=\"14.00\" fill=\"#000000\">class = malignant</text>\n</g>\n<!-- 3&#45;&gt;4 -->\n<g id=\"edge4\" class=\"edge\">\n<title>3&#45;&gt;4</title>\n<path fill=\"none\" stroke=\"#000000\" d=\"M128.5707,-88.9777C117.9173,-79.546 106.3641,-69.3178 95.7499,-59.9208\"/>\n<polygon fill=\"#000000\" stroke=\"#000000\" points=\"98.0207,-57.2566 88.2133,-53.2485 93.3806,-62.4978 98.0207,-57.2566\"/>\n</g>\n<!-- 5 -->\n<g id=\"node6\" class=\"node\">\n<title>5</title>\n<polygon fill=\"#3b9ee5\" stroke=\"#000000\" points=\"250,-53 134,-53 134,0 250,0 250,-53\"/>\n<text text-anchor=\"middle\" x=\"192\" y=\"-37.8\" font-family=\"Times,serif\" font-size=\"14.00\" fill=\"#000000\">samples = 247</text>\n<text text-anchor=\"middle\" x=\"192\" y=\"-22.8\" font-family=\"Times,serif\" font-size=\"14.00\" fill=\"#000000\">value = [2, 245]</text>\n<text text-anchor=\"middle\" x=\"192\" y=\"-7.8\" font-family=\"Times,serif\" font-size=\"14.00\" fill=\"#000000\">class = malignant</text>\n</g>\n<!-- 3&#45;&gt;5 -->\n<g id=\"edge5\" class=\"edge\">\n<title>3&#45;&gt;5</title>\n<path fill=\"none\" stroke=\"#000000\" d=\"M175.8141,-88.9777C177.9966,-80.5533 180.3437,-71.4934 182.5549,-62.9579\"/>\n<polygon fill=\"#000000\" stroke=\"#000000\" points=\"185.9505,-63.8067 185.0703,-53.2485 179.1742,-62.0511 185.9505,-63.8067\"/>\n</g>\n<!-- 8 -->\n<g id=\"node9\" class=\"node\">\n<title>8</title>\n<polygon fill=\"#7bbeee\" stroke=\"#000000\" points=\"563,-157 387,-157 387,-89 563,-89 563,-157\"/>\n<text text-anchor=\"middle\" x=\"475\" y=\"-141.8\" font-family=\"Times,serif\" font-size=\"14.00\" fill=\"#000000\">worst smoothness &lt;= 0.179</text>\n<text text-anchor=\"middle\" x=\"475\" y=\"-126.8\" font-family=\"Times,serif\" font-size=\"14.00\" fill=\"#000000\">samples = 12</text>\n<text text-anchor=\"middle\" x=\"475\" y=\"-111.8\" font-family=\"Times,serif\" font-size=\"14.00\" fill=\"#000000\">value = [3, 9]</text>\n<text text-anchor=\"middle\" x=\"475\" y=\"-96.8\" font-family=\"Times,serif\" font-size=\"14.00\" fill=\"#000000\">class = malignant</text>\n</g>\n<!-- 7&#45;&gt;8 -->\n<g id=\"edge8\" class=\"edge\">\n<title>7&#45;&gt;8</title>\n<path fill=\"none\" stroke=\"#000000\" d=\"M488.4513,-192.9465C486.8627,-184.6863 485.1418,-175.7374 483.4784,-167.0875\"/>\n<polygon fill=\"#000000\" stroke=\"#000000\" points=\"486.889,-166.2891 481.5635,-157.13 480.015,-167.6111 486.889,-166.2891\"/>\n</g>\n<!-- 11 -->\n<g id=\"node12\" class=\"node\">\n<title>11</title>\n<polygon fill=\"#e88f4f\" stroke=\"#000000\" points=\"747.5,-157 580.5,-157 580.5,-89 747.5,-89 747.5,-157\"/>\n<text text-anchor=\"middle\" x=\"664\" y=\"-141.8\" font-family=\"Times,serif\" font-size=\"14.00\" fill=\"#000000\">worst symmetry &lt;= 0.268</text>\n<text text-anchor=\"middle\" x=\"664\" y=\"-126.8\" font-family=\"Times,serif\" font-size=\"14.00\" fill=\"#000000\">samples = 20</text>\n<text text-anchor=\"middle\" x=\"664\" y=\"-111.8\" font-family=\"Times,serif\" font-size=\"14.00\" fill=\"#000000\">value = [18, 2]</text>\n<text text-anchor=\"middle\" x=\"664\" y=\"-96.8\" font-family=\"Times,serif\" font-size=\"14.00\" fill=\"#000000\">class = benign</text>\n</g>\n<!-- 7&#45;&gt;11 -->\n<g id=\"edge11\" class=\"edge\">\n<title>7&#45;&gt;11</title>\n<path fill=\"none\" stroke=\"#000000\" d=\"M550.3369,-192.9465C566.0942,-183.2497 583.3937,-172.6039 599.6387,-162.6069\"/>\n<polygon fill=\"#000000\" stroke=\"#000000\" points=\"601.8565,-165.3518 608.5388,-157.13 598.1878,-159.3902 601.8565,-165.3518\"/>\n</g>\n<!-- 9 -->\n<g id=\"node10\" class=\"node\">\n<title>9</title>\n<polygon fill=\"#4fa8e8\" stroke=\"#000000\" points=\"408,-53 292,-53 292,0 408,0 408,-53\"/>\n<text text-anchor=\"middle\" x=\"350\" y=\"-37.8\" font-family=\"Times,serif\" font-size=\"14.00\" fill=\"#000000\">samples = 10</text>\n<text text-anchor=\"middle\" x=\"350\" y=\"-22.8\" font-family=\"Times,serif\" font-size=\"14.00\" fill=\"#000000\">value = [1, 9]</text>\n<text text-anchor=\"middle\" x=\"350\" y=\"-7.8\" font-family=\"Times,serif\" font-size=\"14.00\" fill=\"#000000\">class = malignant</text>\n</g>\n<!-- 8&#45;&gt;9 -->\n<g id=\"edge9\" class=\"edge\">\n<title>8&#45;&gt;9</title>\n<path fill=\"none\" stroke=\"#000000\" d=\"M430.9297,-88.9777C418.4752,-79.3629 404.9485,-68.9203 392.5833,-59.3743\"/>\n<polygon fill=\"#000000\" stroke=\"#000000\" points=\"394.7028,-56.5889 384.6483,-53.2485 390.4251,-62.1299 394.7028,-56.5889\"/>\n</g>\n<!-- 10 -->\n<g id=\"node11\" class=\"node\">\n<title>10</title>\n<polygon fill=\"#e58139\" stroke=\"#000000\" points=\"524,-53 426,-53 426,0 524,0 524,-53\"/>\n<text text-anchor=\"middle\" x=\"475\" y=\"-37.8\" font-family=\"Times,serif\" font-size=\"14.00\" fill=\"#000000\">samples = 2</text>\n<text text-anchor=\"middle\" x=\"475\" y=\"-22.8\" font-family=\"Times,serif\" font-size=\"14.00\" fill=\"#000000\">value = [2, 0]</text>\n<text text-anchor=\"middle\" x=\"475\" y=\"-7.8\" font-family=\"Times,serif\" font-size=\"14.00\" fill=\"#000000\">class = benign</text>\n</g>\n<!-- 8&#45;&gt;10 -->\n<g id=\"edge10\" class=\"edge\">\n<title>8&#45;&gt;10</title>\n<path fill=\"none\" stroke=\"#000000\" d=\"M475,-88.9777C475,-80.7364 475,-71.887 475,-63.5153\"/>\n<polygon fill=\"#000000\" stroke=\"#000000\" points=\"478.5001,-63.2484 475,-53.2485 471.5001,-63.2485 478.5001,-63.2484\"/>\n</g>\n<!-- 12 -->\n<g id=\"node13\" class=\"node\">\n<title>12</title>\n<polygon fill=\"#9ccef2\" stroke=\"#000000\" points=\"658,-53 542,-53 542,0 658,0 658,-53\"/>\n<text text-anchor=\"middle\" x=\"600\" y=\"-37.8\" font-family=\"Times,serif\" font-size=\"14.00\" fill=\"#000000\">samples = 3</text>\n<text text-anchor=\"middle\" x=\"600\" y=\"-22.8\" font-family=\"Times,serif\" font-size=\"14.00\" fill=\"#000000\">value = [1, 2]</text>\n<text text-anchor=\"middle\" x=\"600\" y=\"-7.8\" font-family=\"Times,serif\" font-size=\"14.00\" fill=\"#000000\">class = malignant</text>\n</g>\n<!-- 11&#45;&gt;12 -->\n<g id=\"edge12\" class=\"edge\">\n<title>11&#45;&gt;12</title>\n<path fill=\"none\" stroke=\"#000000\" d=\"M641.436,-88.9777C635.6059,-80.187 629.3169,-70.7044 623.443,-61.8477\"/>\n<polygon fill=\"#000000\" stroke=\"#000000\" points=\"626.1838,-59.6478 617.7399,-53.2485 620.3502,-63.5167 626.1838,-59.6478\"/>\n</g>\n<!-- 13 -->\n<g id=\"node14\" class=\"node\">\n<title>13</title>\n<polygon fill=\"#e58139\" stroke=\"#000000\" points=\"778,-53 676,-53 676,0 778,0 778,-53\"/>\n<text text-anchor=\"middle\" x=\"727\" y=\"-37.8\" font-family=\"Times,serif\" font-size=\"14.00\" fill=\"#000000\">samples = 17</text>\n<text text-anchor=\"middle\" x=\"727\" y=\"-22.8\" font-family=\"Times,serif\" font-size=\"14.00\" fill=\"#000000\">value = [17, 0]</text>\n<text text-anchor=\"middle\" x=\"727\" y=\"-7.8\" font-family=\"Times,serif\" font-size=\"14.00\" fill=\"#000000\">class = benign</text>\n</g>\n<!-- 11&#45;&gt;13 -->\n<g id=\"edge13\" class=\"edge\">\n<title>11&#45;&gt;13</title>\n<path fill=\"none\" stroke=\"#000000\" d=\"M686.2114,-88.9777C691.9504,-80.187 698.1412,-70.7044 703.9233,-61.8477\"/>\n<polygon fill=\"#000000\" stroke=\"#000000\" points=\"707.0013,-63.5354 709.5373,-53.2485 701.1398,-59.7087 707.0013,-63.5354\"/>\n</g>\n<!-- 15 -->\n<g id=\"node16\" class=\"node\">\n<title>15</title>\n<polygon fill=\"#399de5\" stroke=\"#000000\" points=\"747,-253.5 631,-253.5 631,-200.5 747,-200.5 747,-253.5\"/>\n<text text-anchor=\"middle\" x=\"689\" y=\"-238.3\" font-family=\"Times,serif\" font-size=\"14.00\" fill=\"#000000\">samples = 5</text>\n<text text-anchor=\"middle\" x=\"689\" y=\"-223.3\" font-family=\"Times,serif\" font-size=\"14.00\" fill=\"#000000\">value = [0, 5]</text>\n<text text-anchor=\"middle\" x=\"689\" y=\"-208.3\" font-family=\"Times,serif\" font-size=\"14.00\" fill=\"#000000\">class = malignant</text>\n</g>\n<!-- 14&#45;&gt;15 -->\n<g id=\"edge15\" class=\"edge\">\n<title>14&#45;&gt;15</title>\n<path fill=\"none\" stroke=\"#000000\" d=\"M689,-296.9465C689,-286.2621 689,-274.4254 689,-263.5742\"/>\n<polygon fill=\"#000000\" stroke=\"#000000\" points=\"692.5001,-263.5421 689,-253.5422 685.5001,-263.5422 692.5001,-263.5421\"/>\n</g>\n<!-- 16 -->\n<g id=\"node17\" class=\"node\">\n<title>16</title>\n<polygon fill=\"#e6843d\" stroke=\"#000000\" points=\"936.5,-261 771.5,-261 771.5,-193 936.5,-193 936.5,-261\"/>\n<text text-anchor=\"middle\" x=\"854\" y=\"-245.8\" font-family=\"Times,serif\" font-size=\"14.00\" fill=\"#000000\">worst concavity &lt;= 0.191</text>\n<text text-anchor=\"middle\" x=\"854\" y=\"-230.8\" font-family=\"Times,serif\" font-size=\"14.00\" fill=\"#000000\">samples = 137</text>\n<text text-anchor=\"middle\" x=\"854\" y=\"-215.8\" font-family=\"Times,serif\" font-size=\"14.00\" fill=\"#000000\">value = [134, 3]</text>\n<text text-anchor=\"middle\" x=\"854\" y=\"-200.8\" font-family=\"Times,serif\" font-size=\"14.00\" fill=\"#000000\">class = benign</text>\n</g>\n<!-- 14&#45;&gt;16 -->\n<g id=\"edge16\" class=\"edge\">\n<title>14&#45;&gt;16</title>\n<path fill=\"none\" stroke=\"#000000\" d=\"M743.0272,-296.9465C758.4115,-287.2497 775.3016,-276.6039 791.1621,-266.6069\"/>\n<polygon fill=\"#000000\" stroke=\"#000000\" points=\"793.258,-269.4232 799.8514,-261.13 789.5254,-263.5013 793.258,-269.4232\"/>\n</g>\n<!-- 17 -->\n<g id=\"node18\" class=\"node\">\n<title>17</title>\n<polygon fill=\"#bddef6\" stroke=\"#000000\" points=\"932,-157 776,-157 776,-89 932,-89 932,-157\"/>\n<text text-anchor=\"middle\" x=\"854\" y=\"-141.8\" font-family=\"Times,serif\" font-size=\"14.00\" fill=\"#000000\">worst texture &lt;= 30.975</text>\n<text text-anchor=\"middle\" x=\"854\" y=\"-126.8\" font-family=\"Times,serif\" font-size=\"14.00\" fill=\"#000000\">samples = 5</text>\n<text text-anchor=\"middle\" x=\"854\" y=\"-111.8\" font-family=\"Times,serif\" font-size=\"14.00\" fill=\"#000000\">value = [2, 3]</text>\n<text text-anchor=\"middle\" x=\"854\" y=\"-96.8\" font-family=\"Times,serif\" font-size=\"14.00\" fill=\"#000000\">class = malignant</text>\n</g>\n<!-- 16&#45;&gt;17 -->\n<g id=\"edge17\" class=\"edge\">\n<title>16&#45;&gt;17</title>\n<path fill=\"none\" stroke=\"#000000\" d=\"M854,-192.9465C854,-184.776 854,-175.9318 854,-167.3697\"/>\n<polygon fill=\"#000000\" stroke=\"#000000\" points=\"857.5001,-167.13 854,-157.13 850.5001,-167.13 857.5001,-167.13\"/>\n</g>\n<!-- 20 -->\n<g id=\"node21\" class=\"node\">\n<title>20</title>\n<polygon fill=\"#e58139\" stroke=\"#000000\" points=\"1060,-149.5 950,-149.5 950,-96.5 1060,-96.5 1060,-149.5\"/>\n<text text-anchor=\"middle\" x=\"1005\" y=\"-134.3\" font-family=\"Times,serif\" font-size=\"14.00\" fill=\"#000000\">samples = 132</text>\n<text text-anchor=\"middle\" x=\"1005\" y=\"-119.3\" font-family=\"Times,serif\" font-size=\"14.00\" fill=\"#000000\">value = [132, 0]</text>\n<text text-anchor=\"middle\" x=\"1005\" y=\"-104.3\" font-family=\"Times,serif\" font-size=\"14.00\" fill=\"#000000\">class = benign</text>\n</g>\n<!-- 16&#45;&gt;20 -->\n<g id=\"edge20\" class=\"edge\">\n<title>16&#45;&gt;20</title>\n<path fill=\"none\" stroke=\"#000000\" d=\"M903.443,-192.9465C921.0351,-180.8301 940.7785,-167.232 958.147,-155.2696\"/>\n<polygon fill=\"#000000\" stroke=\"#000000\" points=\"960.2125,-158.0969 966.4628,-149.5422 956.2419,-152.332 960.2125,-158.0969\"/>\n</g>\n<!-- 18 -->\n<g id=\"node19\" class=\"node\">\n<title>18</title>\n<polygon fill=\"#399de5\" stroke=\"#000000\" points=\"912,-53 796,-53 796,0 912,0 912,-53\"/>\n<text text-anchor=\"middle\" x=\"854\" y=\"-37.8\" font-family=\"Times,serif\" font-size=\"14.00\" fill=\"#000000\">samples = 3</text>\n<text text-anchor=\"middle\" x=\"854\" y=\"-22.8\" font-family=\"Times,serif\" font-size=\"14.00\" fill=\"#000000\">value = [0, 3]</text>\n<text text-anchor=\"middle\" x=\"854\" y=\"-7.8\" font-family=\"Times,serif\" font-size=\"14.00\" fill=\"#000000\">class = malignant</text>\n</g>\n<!-- 17&#45;&gt;18 -->\n<g id=\"edge18\" class=\"edge\">\n<title>17&#45;&gt;18</title>\n<path fill=\"none\" stroke=\"#000000\" d=\"M854,-88.9777C854,-80.7364 854,-71.887 854,-63.5153\"/>\n<polygon fill=\"#000000\" stroke=\"#000000\" points=\"857.5001,-63.2484 854,-53.2485 850.5001,-63.2485 857.5001,-63.2484\"/>\n</g>\n<!-- 19 -->\n<g id=\"node20\" class=\"node\">\n<title>19</title>\n<polygon fill=\"#e58139\" stroke=\"#000000\" points=\"1028,-53 930,-53 930,0 1028,0 1028,-53\"/>\n<text text-anchor=\"middle\" x=\"979\" y=\"-37.8\" font-family=\"Times,serif\" font-size=\"14.00\" fill=\"#000000\">samples = 2</text>\n<text text-anchor=\"middle\" x=\"979\" y=\"-22.8\" font-family=\"Times,serif\" font-size=\"14.00\" fill=\"#000000\">value = [2, 0]</text>\n<text text-anchor=\"middle\" x=\"979\" y=\"-7.8\" font-family=\"Times,serif\" font-size=\"14.00\" fill=\"#000000\">class = benign</text>\n</g>\n<!-- 17&#45;&gt;19 -->\n<g id=\"edge19\" class=\"edge\">\n<title>17&#45;&gt;19</title>\n<path fill=\"none\" stroke=\"#000000\" d=\"M898.0703,-88.9777C910.5248,-79.3629 924.0515,-68.9203 936.4167,-59.3743\"/>\n<polygon fill=\"#000000\" stroke=\"#000000\" points=\"938.5749,-62.1299 944.3517,-53.2485 934.2972,-56.5889 938.5749,-62.1299\"/>\n</g>\n</g>\n</svg>\n"
          },
          "metadata": {
            "tags": []
          }
        }
      ]
    },
    {
      "cell_type": "markdown",
      "metadata": {
        "id": "uh84IF4PQ5cv"
      },
      "source": [
        "이진 트리이므로 깊이가 1씩 증가하면 그래프 너비는 2배씩 커짐. 트리가 깊어질수록 시각화해도 분석하기 어려움. 각 노드가 가진 정보를 순서대로 나열하면 아래와 같음.\n",
        "\n",
        "- 조건문\n",
        "- 노드가 가진 샘플 개수\n",
        "- [malignant 개수, benign 개수]   \n",
        "여기서 malignant는 1(positive), benign은 0(negative)\n",
        "- 클래스"
      ]
    },
    {
      "cell_type": "markdown",
      "metadata": {
        "id": "OUpWtybAKzdX"
      },
      "source": [
        "### 트리의 특성 중요도\n",
        "\n",
        "전체 트리를 모두 살피는 일은 만만치 않으므로 트리의 작동 방식을 요약한 속성들을 참고할 수 있음. 가장 널리 쓰이는 속성인 '특성 중요도(feature importance)'는 트리 생성에 각 특성이 얼마나 중요한지 평가한 값임. 0~1 사이의 숫자로 이루어진 값이며 0은 특성이 전혀 사용되지 않았다는 것을 의미하고, 1은 타깃 클래스를 정확하게 예측했다는 의미임. 특성 중요도의 전체 합은 1임."
      ]
    },
    {
      "cell_type": "code",
      "metadata": {
        "colab": {
          "base_uri": "https://localhost:8080/"
        },
        "id": "CHim1k3MU0b_",
        "outputId": "8e8b09f0-5b41-497a-81f7-b3044239ffad"
      },
      "source": [
        "print('특성 중요도: ', tree.feature_importances_)"
      ],
      "execution_count": null,
      "outputs": [
        {
          "output_type": "stream",
          "text": [
            "특성 중요도:  [0.         0.         0.         0.         0.         0.\n",
            " 0.         0.         0.         0.         0.01019737 0.04839825\n",
            " 0.         0.         0.0024156  0.         0.         0.\n",
            " 0.         0.         0.72682851 0.0458159  0.         0.\n",
            " 0.0141577  0.         0.018188   0.1221132  0.01188548 0.        ]\n"
          ],
          "name": "stdout"
        }
      ]
    },
    {
      "cell_type": "markdown",
      "metadata": {
        "id": "OcUri1SqVBCv"
      },
      "source": [
        "특성 중요도를 시각화함."
      ]
    },
    {
      "cell_type": "code",
      "metadata": {
        "colab": {
          "base_uri": "https://localhost:8080/",
          "height": 297
        },
        "id": "t4-ZjfusVJBG",
        "outputId": "cce079a3-17be-42fe-ab0a-8b5c880e8ce0"
      },
      "source": [
        "print(cancer.data.shape[1])\n",
        "\n",
        "def plot_feature_importances_cancer(model):\n",
        "    n_features = cancer.data.shape[1]\n",
        "    plt.barh(np.arange(n_features), model.feature_importances_, align='center')\n",
        "    plt.yticks(np.arange(n_features), cancer.feature_names)\n",
        "    plt.xlabel('feature importances')\n",
        "    plt.ylabel('feature')\n",
        "    plt.ylim(-1, n_features)\n",
        "\n",
        "plot_feature_importances_cancer(tree)"
      ],
      "execution_count": null,
      "outputs": [
        {
          "output_type": "stream",
          "text": [
            "30\n"
          ],
          "name": "stdout"
        },
        {
          "output_type": "display_data",
          "data": {
            "image/png": "[encoded data removed]",
            "text/plain": [
              "<Figure size 432x288 with 1 Axes>"
            ]
          },
          "metadata": {
            "tags": [],
            "needs_background": "light"
          }
        }
      ]
    },
    {
      "cell_type": "markdown",
      "metadata": {
        "id": "rekWgS9iUd_-"
      },
      "source": [
        "첫 번째 노드에서 사용한 특성('worst radius')이 가장 중요한 특성으로 나타나는데, 이 특성이 첫 번째 노드에서 두 클래스를 매우 잘 나누고 있다는 점을 가리킴.\n",
        "\n",
        "그러나 특성 중요도가 낮은 특성이라고 하여 반드시 유용하지 않다고 할 수 없음. 트리가 그 특성을 선택하지 않았을 뿐이며 다른 특성이 동일한 정보를 가지고 있기 때문일지 모름."
      ]
    },
    {
      "cell_type": "markdown",
      "metadata": {
        "id": "oUFvoMFPVtA9"
      },
      "source": [
        "선형 모델의 계수와 달리 특성 중요도는 항상 양수이며 특성이 어떤 클래스를 지지하는지 알 수 없음. 다시 말하면 'worst radius'를 중요한 특성이라고 하지만 양성인지 악성인지는 알 수 없음. 특성과 클래스는 단순한 관계가 아닐 수 있다는 의미임. 아래에서 이 점을 확인함."
      ]
    },
    {
      "cell_type": "code",
      "metadata": {
        "colab": {
          "base_uri": "https://localhost:8080/",
          "height": 572
        },
        "id": "lBulM_YhV77T",
        "outputId": "e3a49530-8f71-4dfb-9379-f326b63297b1"
      },
      "source": [
        "tree = mglearn.plots.plot_tree_not_monotone()\n",
        "display(tree)"
      ],
      "execution_count": null,
      "outputs": [
        {
          "output_type": "stream",
          "text": [
            "Feature importances: [0. 1.]\n"
          ],
          "name": "stdout"
        },
        {
          "output_type": "display_data",
          "data": {
            "text/plain": [
              "<graphviz.files.Source at 0x7ff28db5b890>"
            ],
            "image/svg+xml": "<?xml version=\"1.0\" encoding=\"UTF-8\" standalone=\"no\"?>\n<!DOCTYPE svg PUBLIC \"-//W3C//DTD SVG 1.1//EN\"\n \"http://www.w3.org/Graphics/SVG/1.1/DTD/svg11.dtd\">\n<!-- Generated by graphviz version 2.40.1 (20161225.0304)\n -->\n<!-- Title: Tree Pages: 1 -->\n<svg width=\"294pt\" height=\"224pt\"\n viewBox=\"0.00 0.00 294.00 224.00\" xmlns=\"http://www.w3.org/2000/svg\" xmlns:xlink=\"http://www.w3.org/1999/xlink\">\n<g id=\"graph0\" class=\"graph\" transform=\"scale(1 1) rotate(0) translate(4 220)\">\n<title>Tree</title>\n<polygon fill=\"#ffffff\" stroke=\"transparent\" points=\"-4,4 -4,-220 290,-220 290,4 -4,4\"/>\n<!-- 0 -->\n<g id=\"node1\" class=\"node\">\n<title>0</title>\n<polygon fill=\"#ffffff\" stroke=\"#000000\" points=\"168,-216 58,-216 58,-163 168,-163 168,-216\"/>\n<text text-anchor=\"middle\" x=\"113\" y=\"-200.8\" font-family=\"Times,serif\" font-size=\"14.00\" fill=\"#000000\">X[1] &lt;= &#45;5.814</text>\n<text text-anchor=\"middle\" x=\"113\" y=\"-185.8\" font-family=\"Times,serif\" font-size=\"14.00\" fill=\"#000000\">samples = 100</text>\n<text text-anchor=\"middle\" x=\"113\" y=\"-170.8\" font-family=\"Times,serif\" font-size=\"14.00\" fill=\"#000000\">value = [50, 50]</text>\n</g>\n<!-- 1 -->\n<g id=\"node2\" class=\"node\">\n<title>1</title>\n<polygon fill=\"#e58139\" stroke=\"#000000\" points=\"102,-119.5 0,-119.5 0,-81.5 102,-81.5 102,-119.5\"/>\n<text text-anchor=\"middle\" x=\"51\" y=\"-104.3\" font-family=\"Times,serif\" font-size=\"14.00\" fill=\"#000000\">samples = 25</text>\n<text text-anchor=\"middle\" x=\"51\" y=\"-89.3\" font-family=\"Times,serif\" font-size=\"14.00\" fill=\"#000000\">value = [25, 0]</text>\n</g>\n<!-- 0&#45;&gt;1 -->\n<g id=\"edge1\" class=\"edge\">\n<title>0&#45;&gt;1</title>\n<path fill=\"none\" stroke=\"#000000\" d=\"M94.398,-162.7971C86.7425,-151.8078 77.8794,-139.0849 70.1662,-128.0128\"/>\n<polygon fill=\"#000000\" stroke=\"#000000\" points=\"72.86,-125.7565 64.272,-119.5518 67.1163,-129.7577 72.86,-125.7565\"/>\n<text text-anchor=\"middle\" x=\"59.8716\" y=\"-140.4615\" font-family=\"Times,serif\" font-size=\"14.00\" fill=\"#000000\">True</text>\n</g>\n<!-- 2 -->\n<g id=\"node3\" class=\"node\">\n<title>2</title>\n<polygon fill=\"#9ccef2\" stroke=\"#000000\" points=\"230,-127 120,-127 120,-74 230,-74 230,-127\"/>\n<text text-anchor=\"middle\" x=\"175\" y=\"-111.8\" font-family=\"Times,serif\" font-size=\"14.00\" fill=\"#000000\">X[1] &lt;= 5.348</text>\n<text text-anchor=\"middle\" x=\"175\" y=\"-96.8\" font-family=\"Times,serif\" font-size=\"14.00\" fill=\"#000000\">samples = 75</text>\n<text text-anchor=\"middle\" x=\"175\" y=\"-81.8\" font-family=\"Times,serif\" font-size=\"14.00\" fill=\"#000000\">value = [25, 50]</text>\n</g>\n<!-- 0&#45;&gt;2 -->\n<g id=\"edge2\" class=\"edge\">\n<title>0&#45;&gt;2</title>\n<path fill=\"none\" stroke=\"#000000\" d=\"M131.602,-162.7971C137.5487,-154.2607 144.2241,-144.6782 150.5232,-135.6361\"/>\n<polygon fill=\"#000000\" stroke=\"#000000\" points=\"153.5669,-137.39 156.4111,-127.1841 147.8231,-133.3888 153.5669,-137.39\"/>\n<text text-anchor=\"middle\" x=\"160.8115\" y=\"-148.0938\" font-family=\"Times,serif\" font-size=\"14.00\" fill=\"#000000\">False</text>\n</g>\n<!-- 3 -->\n<g id=\"node4\" class=\"node\">\n<title>3</title>\n<polygon fill=\"#399de5\" stroke=\"#000000\" points=\"166,-38 64,-38 64,0 166,0 166,-38\"/>\n<text text-anchor=\"middle\" x=\"115\" y=\"-22.8\" font-family=\"Times,serif\" font-size=\"14.00\" fill=\"#000000\">samples = 50</text>\n<text text-anchor=\"middle\" x=\"115\" y=\"-7.8\" font-family=\"Times,serif\" font-size=\"14.00\" fill=\"#000000\">value = [0, 50]</text>\n</g>\n<!-- 2&#45;&gt;3 -->\n<g id=\"edge3\" class=\"edge\">\n<title>2&#45;&gt;3</title>\n<path fill=\"none\" stroke=\"#000000\" d=\"M155.3538,-73.8139C148.8789,-65.0188 141.6705,-55.2274 135.1581,-46.3814\"/>\n<polygon fill=\"#000000\" stroke=\"#000000\" points=\"137.9213,-44.2311 129.174,-38.2531 132.2841,-48.3812 137.9213,-44.2311\"/>\n</g>\n<!-- 4 -->\n<g id=\"node5\" class=\"node\">\n<title>4</title>\n<polygon fill=\"#e58139\" stroke=\"#000000\" points=\"286,-38 184,-38 184,0 286,0 286,-38\"/>\n<text text-anchor=\"middle\" x=\"235\" y=\"-22.8\" font-family=\"Times,serif\" font-size=\"14.00\" fill=\"#000000\">samples = 25</text>\n<text text-anchor=\"middle\" x=\"235\" y=\"-7.8\" font-family=\"Times,serif\" font-size=\"14.00\" fill=\"#000000\">value = [25, 0]</text>\n</g>\n<!-- 2&#45;&gt;4 -->\n<g id=\"edge4\" class=\"edge\">\n<title>2&#45;&gt;4</title>\n<path fill=\"none\" stroke=\"#000000\" d=\"M194.6462,-73.8139C201.1211,-65.0188 208.3295,-55.2274 214.8419,-46.3814\"/>\n<polygon fill=\"#000000\" stroke=\"#000000\" points=\"217.7159,-48.3812 220.826,-38.2531 212.0787,-44.2311 217.7159,-48.3812\"/>\n</g>\n</g>\n</svg>\n"
          },
          "metadata": {
            "tags": []
          }
        },
        {
          "output_type": "display_data",
          "data": {
            "image/png": "[encoded data removed]",
            "text/plain": [
              "<Figure size 432x288 with 1 Axes>"
            ]
          },
          "metadata": {
            "tags": []
          }
        }
      ]
    },
    {
      "cell_type": "markdown",
      "metadata": {
        "id": "oTxF12JAX7jI"
      },
      "source": [
        "아래 그래프는 y축의 특성이 클래스 레이블과 복합적인 관계를 가지고 있는 2차원 데이터셋과 결정 트리가 만든 결정 경계를 나타냄. 그래프에 표시되지 않았으나 x축은 X[0]이고 y축은 X[1]임.\n",
        "\n",
        "여하튼 이 그림은 특성 2개와 클래스 2개를 가진 데이터셋으로 만들었음. X[1]에 있는 정보만 사용했고 X[0]은 전혀 사용하지 않음. 그러나 X[1]과 출력 클래스는 비례하거나 반비례하는 관계가 아님. X[1]의 값이 높으면 클래스0이고 낮으면 1이라고 말할 수 없음. 그 반대 값도 마찬가지임. 이는 회귀에 대한 결정 트리도 같은 설명임. 회귀에 대한 결정 트리도 분류에 대한 결정 트리처럼 사용법과 분석이 매우 비슷하기 때문임.\n",
        "\n",
        "그러나 모든 트리 기반 회귀 모델을 사용할 때 유의할 점은 '외삽(extrapolation')'이라는 속성, 즉 훈련 데이터 범위 밖의 데이터 포인트는 전혀 예측할 수 없음."
      ]
    },
    {
      "cell_type": "markdown",
      "metadata": {
        "id": "lSIkESZPavMr"
      },
      "source": [
        "컴퓨터 메모리 가격 동향 데이터셋을 사용하여 위 내용을 자세히 살핌. 먼저 데이터를 사용하여 그래프를 그림."
      ]
    },
    {
      "cell_type": "code",
      "metadata": {
        "colab": {
          "base_uri": "https://localhost:8080/",
          "height": 548
        },
        "id": "AngpUktYa4kI",
        "outputId": "629ba6e8-af60-4438-a504-1b38b3356158"
      },
      "source": [
        "import os\n",
        "ram_prices = pd.read_csv(os.path.join(mglearn.datasets.DATA_PATH, 'ram_price.csv'))\n",
        "print(ram_prices)\n",
        "\n",
        "plt.yticks(fontname='Arial')\n",
        "plt.semilogy(ram_prices.date, ram_prices.price)\n",
        "plt.xlabel('year')\n",
        "plt.ylabel('price ($/Mbyte)')"
      ],
      "execution_count": null,
      "outputs": [
        {
          "output_type": "stream",
          "text": [
            "     Unnamed: 0     date         price\n",
            "0             0  1957.00  4.110418e+08\n",
            "1             1  1959.00  6.794772e+07\n",
            "2             2  1960.00  5.242880e+06\n",
            "3             3  1965.00  2.642412e+06\n",
            "4             4  1970.00  7.340030e+05\n",
            "..          ...      ...           ...\n",
            "328         328  2015.58  4.500000e-03\n",
            "329         329  2015.67  4.300000e-03\n",
            "330         330  2015.75  4.200000e-03\n",
            "331         331  2015.83  3.800000e-03\n",
            "332         332  2015.92  3.700000e-03\n",
            "\n",
            "[333 rows x 3 columns]\n"
          ],
          "name": "stdout"
        },
        {
          "output_type": "execute_result",
          "data": {
            "text/plain": [
              "Text(0, 0.5, 'price ($/Mbyte)')"
            ]
          },
          "metadata": {
            "tags": []
          },
          "execution_count": 65
        },
        {
          "output_type": "stream",
          "text": [
            "findfont: Font family ['Arial'] not found. Falling back to DejaVu Sans.\n"
          ],
          "name": "stderr"
        },
        {
          "output_type": "display_data",
          "data": {
            "image/png": "[encoded data removed]",
            "text/plain": [
              "<Figure size 432x288 with 1 Axes>"
            ]
          },
          "metadata": {
            "tags": [],
            "needs_background": "light"
          }
        }
      ]
    },
    {
      "cell_type": "markdown",
      "metadata": {
        "id": "jFuP0glucAwc"
      },
      "source": [
        "y축을 로그 스케일로 그리면 약간 굴곡이 생기는 점 말고는 선형적으로 나타나서 예측하기가 비교적 쉬움."
      ]
    },
    {
      "cell_type": "markdown",
      "metadata": {
        "id": "uHy49Qj3chOL"
      },
      "source": [
        "날짜 특성만으로 2000년 전까지의 데이터를 사용하여 2000년 후 가격을 예측함. 모델을 훈련하고 예측을 수행한 뒤에 로그 스케일을 원래대로 되돌리기 위해 지수 함수를 사용함. 그래프를 표현하고자 전체 데이터셋에 예측을 수행했지만 테스트 데이터셋과의 비교를 중점으로 둠."
      ]
    },
    {
      "cell_type": "code",
      "metadata": {
        "colab": {
          "base_uri": "https://localhost:8080/"
        },
        "id": "AaHdJEIXdSDz",
        "outputId": "6ddea920-c771-4f88-fe43-b8fbb4c9e940"
      },
      "source": [
        "from sklearn.tree import DecisionTreeRegressor\n",
        "# 2000년 이전은 훈련 데이터, 2000년 이후는 테스트 데이터로 지정함.\n",
        "data_train = ram_prices[ram_prices.date < 2000]\n",
        "data_test = ram_prices[ram_prices.date >= 2000]\n",
        "\n",
        "# 가격 예측에 날짜 특성만 사용함.\n",
        "X_train = data_train.date[:, np.newaxis] # 넘파이 `newaxis` 함수는 배열에 축을 추가(차원을 늘리는)하는 함수임.\n",
        "# 데이터와 타깃 사이의 관계를 간단하게 만들기 위해 로그 스케일로 바꿈.\n",
        "y_train = np.log(data_train.price)\n",
        "\n",
        "tree = DecisionTreeRegressor().fit(X_train, y_train)\n",
        "linear_reg = LinearRegression().fit(X_train, y_train)\n",
        "\n",
        "# 예측은 전체 기간에 대해 수행함.\n",
        "X_all = ram_prices.date[:, np.newaxis]\n",
        "\n",
        "pred_tree = tree.predict(X_all)\n",
        "pred_lr = linear_reg.predict(X_all)\n",
        "\n",
        "# 예측한 값의 로그 스케일을 되돌림.\n",
        "price_tree = np.exp(pred_tree)\n",
        "price_lr = np.exp(pred_lr)"
      ],
      "execution_count": null,
      "outputs": [
        {
          "output_type": "stream",
          "text": [
            "/usr/local/lib/python3.7/dist-packages/ipykernel_launcher.py:7: FutureWarning: Support for multi-dimensional indexing (e.g. `obj[:, None]`) is deprecated and will be removed in a future version.  Convert to a numpy array before indexing instead.\n",
            "  import sys\n",
            "/usr/local/lib/python3.7/dist-packages/ipykernel_launcher.py:15: FutureWarning: Support for multi-dimensional indexing (e.g. `obj[:, None]`) is deprecated and will be removed in a future version.  Convert to a numpy array before indexing instead.\n",
            "  from ipykernel import kernelapp as app\n"
          ],
          "name": "stderr"
        }
      ]
    },
    {
      "cell_type": "markdown",
      "metadata": {
        "id": "l-kbA432hUlF"
      },
      "source": [
        "실제 값과 결정 트리, 선형 회귀의 예측값을 비교하는 그래프를 그림."
      ]
    },
    {
      "cell_type": "code",
      "metadata": {
        "colab": {
          "base_uri": "https://localhost:8080/",
          "height": 283
        },
        "id": "ylOuSqZdhRl6",
        "outputId": "8396518e-bc78-49b4-f7e7-b627e24190f8"
      },
      "source": [
        "plt.semilogy(data_train.date, data_train.price, label='training data')\n",
        "plt.semilogy(data_test.date, data_test.price, label='test data')\n",
        "plt.semilogy(ram_prices.date, price_tree, label='tree prediction')\n",
        "plt.semilogy(ram_prices.date, price_lr, label='lr prediction')\n",
        "plt.legend()"
      ],
      "execution_count": null,
      "outputs": [
        {
          "output_type": "execute_result",
          "data": {
            "text/plain": [
              "<matplotlib.legend.Legend at 0x7ff2837cba90>"
            ]
          },
          "metadata": {
            "tags": []
          },
          "execution_count": 67
        },
        {
          "output_type": "display_data",
          "data": {
            "image/png": "[encoded data removed]",
            "text/plain": [
              "<Figure size 432x288 with 1 Axes>"
            ]
          },
          "metadata": {
            "tags": [],
            "needs_background": "light"
          }
        }
      ]
    },
    {
      "cell_type": "markdown",
      "metadata": {
        "id": "1zYD83VWiW9k"
      },
      "source": [
        "선형 모델은 훈련 데이터와 테스트 데이터에 있는 미세한 굴곡을 직선 형태로 근사하여 2000년 이후인 테스트 데이터를 꽤 정확하게 예측함.\n",
        "\n",
        "트리 모델은 트리 복잡도에 제한을 두지 않았으므로 훈련 데이터를 완벽하게 예측함. 다만 모델이 가진 데이터 범위 밖으로 나가면 마지막 데이터 포인트를 이용해서 예측할 뿐임. 위에서 제시했듯이 트리 모델은 데이터를 벗어난 새로운 데이터를 예측할 능력이 없음. 모든 트리 모델의 단점임. 물론 트리 기반 모델로 좋은 예측을 할 수 있음. 가격이 오르거나 내릴지를 예측하는 것을 예로 들 수 있음.이 예제는 트리 기반 모델이 시계열 데이터에 적합하지 않다는 점과 트리가 어떻게 예측을 만드는지 그 특성을 보여주는 것을 목적으로 함."
      ]
    },
    {
      "cell_type": "markdown",
      "metadata": {
        "id": "p5vY47LGKzZN"
      },
      "source": [
        "### 장단점과 매개변수\n",
        "\n",
        "사전 가지치기와 관련된 매개변수는 아래와 같음. 이 매개변수 중에 하나만 적절하게 지정해도 과대적합을 방지하는 데 충분함.\n",
        "\n",
        "- `max_depth`: 최대 깊이를 지정하는 매개변수.\n",
        "\n",
        "- `max_leaf_nodes`: 리프 노드의 최대 개수를 지정하는 매개변수.\n",
        "\n",
        "- `min_smaples_leaf`: 리프 노드가 되기 위한 최소한의 샘플 개수를 지정하는 매개변수.\n",
        "\n",
        "- `min_samples_split`: 노드가 분기할 수 있는 최소 샘플 개수를 지정하는 매개변수.\n",
        "\n",
        "- `min_impurity_decrease`: 분할로 얻어질 불순도(impurity) 감소 최솟값을 지정하는 매개변수.\n",
        "\n",
        "결정 트리가 다른 알고리즘보다 나은 점은 2가지로 설명할 수 있음.\n",
        "\n",
        "- 시각화하기에 용이하여 비전문가를 이해시키기 수월함. 물론 트리 크기가 크지 않아야 함.\n",
        "\n",
        "- 어떤 데이터 스케일이든 괜찮음. 각 특성이 개별적으로 처리되어 데이터를 분할하는데 데이터 스케일의 영향을 전혀 받지 않으므로 특성의 정규화나 표준화 같은 전처리가 불필요함. 특성의 스케일이 서로 다르거나 이진 특성과 연속적 특성이 섞인 데이터에도 잘 작동함.\n",
        "\n",
        "단점도 존재함.\n",
        "\n",
        "- 사전 가지치기를 해도 과대적합이 되는 경향이 있어서 일반화 성능이 좋지 않음. 이 단점 때문에 다음 파트에서 제시하는 앙상블 방법을 대안으로 흔하게 사용함."
      ]
    },
    {
      "cell_type": "markdown",
      "metadata": {
        "id": "NB3pu9cFVCZd"
      },
      "source": [
        "## 2.3.6 결정 트리의 앙상블\n",
        "\n",
        "'앙상블(ensemble)'은 여러 머신러닝 모델을 연결하여 더 강력한 모델을 만드는 기법임. '랜덤 포레스트(random forest)'와 '그레이디언트 부스팅(gradient boosting)'이 매우 효과적인 모델이며 두 모델 모두 기본으로 결정 트리를 사용함."
      ]
    },
    {
      "cell_type": "markdown",
      "metadata": {
        "id": "MA20PihGLDxm"
      },
      "source": [
        "### 랜덤 포레스트\n",
        "\n",
        "랜덤 포레스트는 결정 트리의 주요 단점인 훈련 데이터에 대한 과대적합을 방지하는 방법임. 조금씩 다른 여러 결정 트리의 묶음인데, 각 트리는 비교적 에측을 잘할 수 있지만 데이터 일부에 과대적합하는 경향이 있다는 점에 기초하여 만들어짐. 예를 들면 작동은 잘 하지만 서로 다른 방향으로 과대적합 된 트리를 많이 만들면 그 결과를 평균냄으로써 과대적합 된 양을 줄일 수 있음. 이런 방식으로 트리 모델의 예측 성능이 유지되면서 과대적합이 줄어듦.\n",
        "\n",
        "이 방법이 유효하려면 결정 트리를 많이 만들어야 하는데, 각각의 트리는 타깃 예측을 잘하는 것은 기본이고 다른 트리와는 구별되어야 함. 따라서 트리를 생성할 때 각각의 트리들이 완전히 독립적이며 다른 형태를 취하도록 무작위성을 주입함. 방법은 두 가지임.\n",
        "\n",
        "- 데이터 포인트를 무작위로 선택함.\n",
        "\n",
        "- 분할 테스트에서 특성을 무작위로 선택함."
      ]
    },
    {
      "cell_type": "markdown",
      "metadata": {
        "id": "-AbO6zmxLDut"
      },
      "source": [
        "#### 랜덤 포레스트 구축\n",
        "\n",
        "먼저 `RandomForestRegressor`와 `RandomForestClassifier`의 `n_estimators`(기본값은 10이었지만 사이킷런 0.22 버전부터는 지정하지 않았을 때 `100`으로 지정된다는 경고가 출력됨.) 매개변수 값에 생성할 트리의 개수를 정해야 함. 그리고 '부트스트랩 샘플(bootstrap sample)'을 생성함. `n_samples`개의 데이터 포인트 중에서 데이터를 `n_samples` 횟수만큼 반복 추출함(한 샘플이 여러 번 중복 추출될 수 있음). 이 데이터셋은 원래 데이터셋 크기와 동일하지만 어떤 데이터 포인트는 누락될 수도 있고(대략 3/1) 어떤 데이터 포인트는 중복될 수 있음(샘플 100개 중에 어떤 샘플 하나가 선택되지 않을 확률은 $\\frac{99}{100}$이고, 뽑은 샘플을 제외하지 않고 100번 반복할 때 한 번도 선택되지 않을 확률은 $(\\frac{99}{100})^{100} = 0.366$임).\n",
        "\n",
        "그다음 이렇게 만든 데이터셋으로 결정 트리를 만듦. \n",
        "\n"
      ]
    },
    {
      "cell_type": "markdown",
      "metadata": {
        "id": "YsE1Gu-sLDrg"
      },
      "source": [
        "#### 랜덤 포레스트 분석\n",
        "\n",
        "two_moon 데이터셋으로 트리 5개로 구성된 랜덤 포레스트 모델을 만듦."
      ]
    },
    {
      "cell_type": "code",
      "metadata": {
        "colab": {
          "base_uri": "https://localhost:8080/"
        },
        "id": "XlqKThG6Emhd",
        "outputId": "a5e5cbba-20d3-43e7-f61c-c5bed5be895b"
      },
      "source": [
        "from sklearn.ensemble import RandomForestClassifier\n",
        "from sklearn.datasets import make_moons\n",
        "\n",
        "X, y = make_moons(n_samples=100, noise=0.25, random_state=3)\n",
        "X_train, X_test, y_train, y_test = train_test_split(X, y, stratify=y, random_state=42)\n",
        "forest = RandomForestClassifier(n_estimators=5, random_state=2)\n",
        "forest.fit(X_train, y_train)"
      ],
      "execution_count": null,
      "outputs": [
        {
          "output_type": "execute_result",
          "data": {
            "text/plain": [
              "RandomForestClassifier(bootstrap=True, ccp_alpha=0.0, class_weight=None,\n",
              "                       criterion='gini', max_depth=None, max_features='auto',\n",
              "                       max_leaf_nodes=None, max_samples=None,\n",
              "                       min_impurity_decrease=0.0, min_impurity_split=None,\n",
              "                       min_samples_leaf=1, min_samples_split=2,\n",
              "                       min_weight_fraction_leaf=0.0, n_estimators=5,\n",
              "                       n_jobs=None, oob_score=False, random_state=2, verbose=0,\n",
              "                       warm_start=False)"
            ]
          },
          "metadata": {
            "tags": []
          },
          "execution_count": 68
        }
      ]
    },
    {
      "cell_type": "markdown",
      "metadata": {
        "id": "b-6y7YEEG5ZL"
      },
      "source": [
        "랜덤 포레스트 안에 만들어진 트리는 `estimators_` 속성에 저장됨. 각 트리에서 학습된 결정 경계와 이를 취합해 만든 결정 경계를 함께 시각화함."
      ]
    },
    {
      "cell_type": "code",
      "metadata": {
        "colab": {
          "base_uri": "https://localhost:8080/",
          "height": 629
        },
        "id": "nNDcEi5jHIqo",
        "outputId": "b863744a-4bde-4e31-9b79-e0cced1158c8"
      },
      "source": [
        "fig, axes = plt.subplots(2, 3, figsize=(20, 10))\n",
        "for i, (ax, tree) in enumerate(zip(axes.ravel(), forest.estimators_)):\n",
        "    ax.set_title('tree {}'.format(i))\n",
        "    mglearn.plots.plot_tree_partition(X, y, tree, ax=ax)\n",
        "\n",
        "mglearn.plots.plot_2d_separator(forest, X, fill=True, ax=axes[-1, -1], alpha=.4)\n",
        "axes[-1, -1].set_title('random forest')\n",
        "mglearn.discrete_scatter(X[:, 0], X[:, 1], y)"
      ],
      "execution_count": null,
      "outputs": [
        {
          "output_type": "execute_result",
          "data": {
            "text/plain": [
              "[<matplotlib.lines.Line2D at 0x7ff282f54b10>,\n",
              " <matplotlib.lines.Line2D at 0x7ff282f5e0d0>]"
            ]
          },
          "metadata": {
            "tags": []
          },
          "execution_count": 69
        },
        {
          "output_type": "display_data",
          "data": {
            "image/png": "[encoded data removed]",
            "text/plain": [
              "<Figure size 1440x720 with 6 Axes>"
            ]
          },
          "metadata": {
            "tags": []
          }
        }
      ]
    },
    {
      "cell_type": "markdown",
      "metadata": {
        "id": "PAV0xG3sJq31"
      },
      "source": [
        "트리 다섯 개가 만든 결정 경계가 각각 다름. 부트스트랩 샘플링으로 인해 한쪽 트리에 나타나는 훈련 포인트가 다른 트리에는 포함되지 않을 수 있어서 각 트리는 불완전함."
      ]
    },
    {
      "cell_type": "markdown",
      "metadata": {
        "id": "2z1ULygi2uOs"
      },
      "source": [
        "랜덤 포레스트는 개개의 트리보다는 덜 과대적합 되고 훨씬 좋은 경계를 만듦. 실제 애플리케이션에서는 수백 수천개 트리를 사용하므로 더 부드러운 결정 경계가 만들어짐."
      ]
    },
    {
      "cell_type": "markdown",
      "metadata": {
        "id": "jcgOmiFg4VlL"
      },
      "source": [
        "유방암 데이터셋에 트리 100개로 이뤄진 랜덤 포레스트를 적용함."
      ]
    },
    {
      "cell_type": "code",
      "metadata": {
        "colab": {
          "base_uri": "https://localhost:8080/"
        },
        "id": "Wle9Pw7m4cjr",
        "outputId": "c1b78bf1-d588-42ae-f18c-e69deeb2fd06"
      },
      "source": [
        "X_train, X_test, y_train, y_test = train_test_split(cancer.data, cancer.target, random_state=0)\n",
        "forest = RandomForestClassifier(n_estimators=100, random_state=0)\n",
        "forest.fit(X_train, y_train)\n",
        "\n",
        "print('훈련 세트 정확도: {:.3f}'.format(forest.score(X_train, y_train)))\n",
        "print('테스트 세트 정확도: {:.3f}'.format(forest.score(X_test, y_test)))"
      ],
      "execution_count": null,
      "outputs": [
        {
          "output_type": "stream",
          "text": [
            "훈련 세트 정확도: 1.000\n",
            "테스트 세트 정확도: 0.972\n"
          ],
          "name": "stdout"
        }
      ]
    },
    {
      "cell_type": "markdown",
      "metadata": {
        "id": "DVQvwXD05Jeq"
      },
      "source": [
        "매개변수를 튜닝하지 않고도 다른 모델보다 정확도가 높은 건 랜덤 포레스트의 강점임. 물론 `max_features` 매개변수를 조정하거나 사전 가지치기를 시도할 수도 있음."
      ]
    },
    {
      "cell_type": "markdown",
      "metadata": {
        "id": "sUijQZkU6kEM"
      },
      "source": [
        "랜덤 포레스트도 특성 중요도를 제공함. 각 트리의 특성 중요도를 취합해서 계산함. 트리 하나보다 랜덤 포레스트에서 제공하는 특성 중요도가 더 신뢰할 만함."
      ]
    },
    {
      "cell_type": "code",
      "metadata": {
        "colab": {
          "base_uri": "https://localhost:8080/",
          "height": 279
        },
        "id": "cNqgYlex6_JZ",
        "outputId": "b60fc165-df45-448e-fce1-d0d352cdbf51"
      },
      "source": [
        "plot_feature_importances_cancer(forest)"
      ],
      "execution_count": null,
      "outputs": [
        {
          "output_type": "display_data",
          "data": {
            "image/png": "[encoded data removed]",
            "text/plain": [
              "<Figure size 432x288 with 1 Axes>"
            ]
          },
          "metadata": {
            "tags": [],
            "needs_background": "light"
          }
        }
      ]
    },
    {
      "cell_type": "markdown",
      "metadata": {
        "id": "UGIZRPxy7EG0"
      },
      "source": [
        "위에서 출력한 단일 결정 트리의 특성 중요도보다 0 이상의 중요도 값이 훨씬 많음. 단일 결정 트리처럼 랜덤 포레스트도 'worst radius' 특성의 중요성을 인정하지만 가장 많은 정보를 가진 특성으로 'worst perimeter'를 선택함. 랜덤 포레스트를 만드는 무작위성은 알고리즘이 가능성 있는 많은 경우를 고려하도록 하므로 단일 결정 트리보다 데이터를 더 넓게 볼 수 있음."
      ]
    },
    {
      "cell_type": "markdown",
      "metadata": {
        "id": "BR4AWAZcLDn5"
      },
      "source": [
        "#### 장단점과 매개변수\n",
        "\n",
        "랜덤 포레스트는 성능이 매우 좋고 매개변수 튜닝을 하지 않아도 잘 작동하며 데이터의 스케일을 맞출 필요도 없으므로 널리 사용되는 알고리즘임. \n",
        "\n",
        "단일 결정 트리의 단점을 보완하고 장점은 그대로 취했지만, 의사 결정 과정을 간소하게 표현하려면 단일 결정 트리를 사용할 수 있음. 랜덤 포레스트를 통해 생성된 수많은 트리는 단일 결정 트리에 비해 자세하게 분석하기 어렵고 더 많은 특성을 사용하므로 트리 깊이가 더 깊어지기 때문임.\n",
        "\n",
        "데이터셋이 크면 랜덤 포레스트로 모델을 만들 때 시간이 오래 걸리지만 CPU 코어가 많이 확보된 환경이라면 병렬 처리해서 시간을 단축할 수 있음. `n_jobs` 매개변수(기본값 `1`)는 사용할 코어 수를 지정할 수 있는데 수를 늘릴수록 속도가 빠름. 코어 2개를 사용하면 처리 속도가 2배가 됨. 값을 -1로 지정하면 확보된 모든 코어를 사용함.\n",
        "\n",
        "`random_state` 값에 따라 전혀 다른 모델이 만들어짐. 물론 트리 수가 많을수록 변화가 적지만 같은 결과를 원한다면 무조건 같은 값을 지정해야 함.\n",
        "\n",
        "텍스트 데이터처럼 고차원적이고 희소한 데이터에는 적합하지 않음. 이런 데이터에는 선형모델이 적합함. 랜덤 포레스트는 선형 모델보다 많은 메모리를 사용하며 훈련 속도와 예측 속도가 느림. 속도와 메모리 사용에 제약이 있는 애플리케이션은 선형 모델이 적합함.\n",
        "\n",
        "`max_depth`, `max_leaf_nodes`, `min_samples_leaf`, `min_samples_split` 매개변수로 사전 가지치기를 시도할 수 있음(단일 결정 트리와 동일함).\n",
        "\n",
        "`n_estimator` 매개변수 값은 클수록 더 많은 트리를 평균하게 되어 과대적합을 줄이면서 더욱 안정된 모델을 만듦. 다만 더 많은 훈련 시간과 메모리가 필요하므로 환경에 적당한 수준을 지정해야 함.\n",
        "\n",
        "`max_features` 매개변수는 각 트리를 얼마나 무작위로 생성할지를 결정하며 값이 작을수록 과대적합을 줄이며 기본값을 쓰는 것을 추천함. 분류의 경우 `max_features=sqrt(n_features)`이고, 회귀의 경우 `max_features=n_features`인데 이 두 값 모두 기본값이고 `auto`로 표시되어 있음. `max_features`나 `max_leaf_nodes` 매개변수를 추가하면 가끔 성능이 향상되기도 하고 메모리와 처리 시간을 줄일 수도 있음. \n",
        "\n"
      ]
    },
    {
      "cell_type": "markdown",
      "metadata": {
        "id": "tEerSUEALDkw"
      },
      "source": [
        "### 그레이디언트 부스팅 회귀 트리\n",
        "\n",
        "그레이디언트 부스팅 회귀 트리는 결정 트리 여러 개를 묶어서 강력한 모델을 만드는 앙상블 모델임. 이름에 회귀가 있지만 회귀와 분류 모두에 사용할 수 있음(`GradientBoostingClassifier`와 `GradientBoostingRegressor` 모두 `DecisionTreeRegressor`에 기반하여 알고리즘을 구현함). 그레이디언트 부스팅은 이전 트리의 오차를 보완하는 방식으로 순차적으로 트리를 생성함. 즉 무작위성이 없지만 강력한 사전 가지치기를 시전함. 보통 1~5개만큼 깊지 않은 트리를 사용하므로 필요한 메모리가 적고 속도도 빠름. 얕은 트리 같은 간단한 모델(약한 학습기(weak learner))을 많이 연결하는 메커니즘임. 각각의 트리는 데이터 일부에만 예측을 잘 수행하므로 많은 트리를 추가할수록 성능이 좋아짐. 다시 말하면 이전에 생성한 트리의 예측과 타깃값 사이의 오차를 줄이면서 새로운 트리를 추가함. 손실 함수를 정의하고 '경사 하강법(gradient descent)'을 사용해서 추가될 트리가 예측할 값을 보정해감.\n",
        "\n",
        "업계에서 널리 사용하고 대회에서도 강력한 모델 중 하나임. 랜덤 포레스트보다는 매개변수 지정에 민감한 편이지만 적절하게 조정하면 더 좋은 정확도를 보여줌.\n",
        "\n",
        "`learning_rate`는 이전 트리의 오차를 얼마나 강하게 보정할 것인지 학습률을 지정하는 매개변수임. 학습률이 클수록 보정을 강하게 하므로 더 복잡한 모델을 생성함.\n",
        "\n",
        "`n_estimators` 매개변수에 높은 값을 지정하면 앙상블에 더 많은 트리를 추가하여 모델 복잡도가 커지고 훈련 세트에서의 실수를 바로잡을 기회가 많아짐.\n"
      ]
    },
    {
      "cell_type": "markdown",
      "metadata": {
        "id": "PoW9mDz0Jdgg"
      },
      "source": [
        "유방암 데이터셋을 사용해서 `GradientBoostingClassifier` 클래스를 적용함. 기본값인 깊이(`max_depth`)가 3인 트리 100개, 학습률(`learning_rate`) 0.1을 적용함."
      ]
    },
    {
      "cell_type": "code",
      "metadata": {
        "colab": {
          "base_uri": "https://localhost:8080/"
        },
        "id": "7TT9GL__KFAb",
        "outputId": "e3872d5c-d4eb-4caa-f6f5-190e5a28801f"
      },
      "source": [
        "from sklearn.ensemble import GradientBoostingClassifier\n",
        "\n",
        "X_train, X_test, y_train, y_test = train_test_split(cancer.data, cancer.target, random_state=0)\n",
        "\n",
        "gbrt = GradientBoostingClassifier(random_state=0)\n",
        "gbrt.fit(X_train, y_train)\n",
        "\n",
        "print('훈련 세트 정확도: {:.3f}'.format(gbrt.score(X_train, y_train)))\n",
        "print('테스트 세트 정확도: {:.3f}'.format(gbrt.score(X_test, y_test)))"
      ],
      "execution_count": null,
      "outputs": [
        {
          "output_type": "stream",
          "text": [
            "훈련 세트 정확도: 1.000\n",
            "테스트 세트 정확도: 0.965\n"
          ],
          "name": "stdout"
        }
      ]
    },
    {
      "cell_type": "markdown",
      "metadata": {
        "id": "adCaPTh0MFzZ"
      },
      "source": [
        "훈련 세트 정확도가 100%인 것은 과대적합을 의미하므로 사전 가지치기를 통해 트리의 최대 깊이를 줄이거나 학습률을 낮추면 됨."
      ]
    },
    {
      "cell_type": "code",
      "metadata": {
        "id": "Z0vCxXmUMV5F",
        "colab": {
          "base_uri": "https://localhost:8080/"
        },
        "outputId": "a82b7e66-f24c-4d92-b596-9b8dd9de4437"
      },
      "source": [
        "gbrt = GradientBoostingClassifier(random_state=0, max_depth=1)\n",
        "gbrt.fit(X_train, y_train)\n",
        "print('훈련 세트 정확도: {:.3f}'.format(gbrt.score(X_train, y_train)))\n",
        "print('테스트 세트 정확도: {:.3f}'.format(gbrt.score(X_test, y_test)))\n",
        "\n",
        "gbrt = GradientBoostingClassifier(random_state=0, learning_rate=0.01)\n",
        "gbrt.fit(X_train, y_train)\n",
        "print('훈련 세트 정확도: {:.3f}'.format(gbrt.score(X_train, y_train)))\n",
        "print('테스트 세트 정확도: {:.3f}'.format(gbrt.score(X_test, y_test)))"
      ],
      "execution_count": null,
      "outputs": [
        {
          "output_type": "stream",
          "text": [
            "훈련 세트 정확도: 0.991\n",
            "테스트 세트 정확도: 0.972\n",
            "훈련 세트 정확도: 0.988\n",
            "테스트 세트 정확도: 0.965\n"
          ],
          "name": "stdout"
        }
      ]
    },
    {
      "cell_type": "markdown",
      "metadata": {
        "id": "FOzM6VLTk7qJ"
      },
      "source": [
        "두 방식을 사용하여 모델 복잡도를 감소시키면서 훈련 세트 정확도를 낮췄고, 트리 깊이를 제한하면서 테스트 세트 정확도가 향상됨."
      ]
    },
    {
      "cell_type": "markdown",
      "metadata": {
        "id": "XUCWs_xh_AkQ"
      },
      "source": [
        "특성 중요도를 시각화함."
      ]
    },
    {
      "cell_type": "code",
      "metadata": {
        "colab": {
          "base_uri": "https://localhost:8080/",
          "height": 279
        },
        "id": "fcU_UfKK-9i-",
        "outputId": "20c0c2df-61ce-4ccb-e599-c3e199cfb9b6"
      },
      "source": [
        "gbrt = GradientBoostingClassifier(random_state=0, max_depth=1)\n",
        "gbrt.fit(X_train, y_train)\n",
        "\n",
        "plot_feature_importances_cancer(gbrt)"
      ],
      "execution_count": null,
      "outputs": [
        {
          "output_type": "display_data",
          "data": {
            "image/png": "[encoded data removed]",
            "text/plain": [
              "<Figure size 432x288 with 1 Axes>"
            ]
          },
          "metadata": {
            "tags": [],
            "needs_background": "light"
          }
        }
      ]
    },
    {
      "cell_type": "markdown",
      "metadata": {
        "id": "J669HUew_e6b"
      },
      "source": [
        "랜덤 포레스트와 비슷한 특성을 강조하지만 그레이디언트 부스팅은 일부 특성을 완전하게 무시하는 경향을 보임.\n",
        "\n",
        "보통 더 안정적인 랜덤 포레스트를 추구하지만 예측 시간이 중요하거나 마지막 성능까지 내야 하는 상황에서는 그레이디언트 부스팅을 사용하면 도움이 될 수 있음.\n",
        "\n",
        "대규모 머신러닝 문제에 그레이디언트 부스팅을 적용하려면 `xgboost`(https://xgboost.readthedocs.io/) 패키지와 파이썬 인터페이스를 검토하는 것을 권장함. 그레이디언트 부스팅을 구현하는 것보다 빠르고 튜닝하기도 쉬움. 참고로 `xgboost`는 널리 쓰이는 매우 강력한 모델임."
      ]
    },
    {
      "cell_type": "markdown",
      "metadata": {
        "id": "Vt_c7a3mLDha"
      },
      "source": [
        "#### 장단점과 매개변수\n",
        "\n",
        "그레이디언트 부스팅 결정 트리는 지도 학습에서 매우 강력하고 널리 사용하는 모델 중 하나임. 다른 트리 기반 모델처럼 특성 스케일을 조정하지 않아도 되고, 이진 특성이나 연속적 특성에서도 잘 동작함. \n",
        "\n",
        "다만 매개변수를 적절하게 조정해야 하고, 훈련 시간이 길며, 희소한 고차원 데이터에는 잘 작동하지 않는다는 단점이 있음.\n",
        "\n",
        "중요한 매개변수는 아래 두 가지가 있음.\n",
        "\n",
        "- `n_estimators`는 트리 개수를 지정하는 매개변수임. 이 매개변수의 값이 크면 모델이 복잡해지고 과대적합 될 가능성이 높아짐.\n",
        "\n",
        "- `learning_rate`는 이전 트리의 오차 보정의 정도를 조절하는 매개변수임. 이 매개변수의 값을 낮추면 비슷한 복잡도를 가진 모델을 만들기 위해 더 많은 트리를 추가해야 함. \n",
        "\n",
        "- 일반적으로는 가용 시간과 메모리 한도를 토대로 `n_estimators`를 조정한 후에 적절한 `learning_rate`를 찾음. 훈련 데이터에서 `validation_fraction`(기본값 `0.1`) 비율만큼 검증 데이터로 사용하여 `n_iter_no_change`(기본값 `None`)에 지정한 반복 값만큼 검증 점수가 향상되지 않으면 훈련을 종료함. 기본값 `None`이면 조기 종료를 사용하지 않음.\n",
        "\n",
        "또 다른 중요한 매개변수는 아래 두 가지가 있음.\n",
        "\n",
        "- `max_depth`는 트리 깊이를 지정하는 매개변수임. 일반적으로 값을 매우 작게 지정하여 트리 깊이를 5보다 깊어지지 않도록 함.\n",
        "\n",
        "- `max_leaf_nodes`는 리프 노드에 있어야 할 최소 샘플 수를 지정하는 매개변수임.\n",
        "\n"
      ]
    },
    {
      "cell_type": "markdown",
      "metadata": {
        "id": "yzLGCinVVCW3"
      },
      "source": [
        "## 2.3.7 배깅, 엑스트라 트리, 에이다부스트\n",
        "\n",
        "'two_moons' 데이터셋과 'cancer' 데이터셋을 사용하여 또 다른 앙상블 알고리즘인 '배깅', '엑스트라 트리', '에이다부스트'를 설명함. 모듈을 임포트하고 예제 데이터셋을 만듦."
      ]
    },
    {
      "cell_type": "code",
      "metadata": {
        "id": "0Hdu49msgXEg"
      },
      "source": [
        "from sklearn.model_selection import train_test_split\n",
        "from sklearn.datasets import make_moons\n",
        "from sklearn.datasets import load_breast_cancer\n",
        "\n",
        "Xm, ym = make_moons(n_samples=100, noise=0.25, random_state=3)\n",
        "Xm_train, Xm_test, ym_train, ym_test = train_test_split(\n",
        "    Xm, ym, stratify=ym, random_state=42)\n",
        "\n",
        "cancer = load_breast_cancer()\n",
        "Xc_train, Xc_test, yc_train, yc_test = train_test_split(\n",
        "    cancer.data, cancer.target, random_state=0)"
      ],
      "execution_count": null,
      "outputs": []
    },
    {
      "cell_type": "markdown",
      "metadata": {
        "id": "x_jQvGsfLjPC"
      },
      "source": [
        "### 배깅\n",
        "\n",
        "'배깅(Bagging)'은 'Bootstrap aggregating'의 줄임말임. 중복을 허용한 랜덤 샘플링으로 생성한 훈련 세트를 사용하여 분류기를 각각 다르게 학습시킴. 부트스트랩 샘플을 만드는 방식은 랜덤 포레스트의 특징과 같음. 분류기가 `predict_proba()` 메서드를 지원하면 확률값을 평균해서 예측을 수행하고, 지원하지 않는 분류기를 사용하면 빈도가 높은 클래스 레이블을 예측 결과로 출력함."
      ]
    },
    {
      "cell_type": "markdown",
      "metadata": {
        "id": "_bHxY8g_t8qn"
      },
      "source": [
        "배깅을 사용하여 cancer 데이터셋에 로지스틱 회귀 모델을 100개만큼 훈련하여 앙상블을 함."
      ]
    },
    {
      "cell_type": "code",
      "metadata": {
        "id": "XbCn-xREuEoH"
      },
      "source": [
        "휴식 중.."
      ],
      "execution_count": null,
      "outputs": []
    },
    {
      "cell_type": "markdown",
      "metadata": {
        "id": "ZNLcYzFZLk4m"
      },
      "source": [
        "### 엑스트라 트리"
      ]
    },
    {
      "cell_type": "markdown",
      "metadata": {
        "id": "zMMdj5yCLk1e"
      },
      "source": [
        "### 에이다부스트"
      ]
    },
    {
      "cell_type": "markdown",
      "metadata": {
        "id": "gYsIzmhrVCUF"
      },
      "source": [
        "## 2.3.8 커널 서포트 벡터 머신"
      ]
    },
    {
      "cell_type": "markdown",
      "metadata": {
        "id": "942HupjmLtY2"
      },
      "source": [
        "### 선형 모델과 비선형 특성"
      ]
    },
    {
      "cell_type": "markdown",
      "metadata": {
        "id": "FGH3lMojLtVk"
      },
      "source": [
        "### 커널 기법"
      ]
    },
    {
      "cell_type": "markdown",
      "metadata": {
        "id": "Ui5bOwpILtSf"
      },
      "source": [
        "### SVM 이해하기"
      ]
    },
    {
      "cell_type": "markdown",
      "metadata": {
        "id": "bTCKBHrzLtPX"
      },
      "source": [
        "### SVM 매개변수 튜닝"
      ]
    },
    {
      "cell_type": "markdown",
      "metadata": {
        "id": "o2SdUaTVLtMQ"
      },
      "source": [
        "### SVM을 위한 데이터 전처리"
      ]
    },
    {
      "cell_type": "markdown",
      "metadata": {
        "id": "3EYzUWO1LtIl"
      },
      "source": [
        "### 장단점과 매개변수"
      ]
    },
    {
      "cell_type": "markdown",
      "metadata": {
        "id": "ruFuOPTOVw9E"
      },
      "source": [
        "## 2.3.9 신경망(딥러닝)\n",
        "\n",
        "생략 예정."
      ]
    },
    {
      "cell_type": "markdown",
      "metadata": {
        "id": "T53K3erWbteE"
      },
      "source": [
        "### 신경망 모델"
      ]
    },
    {
      "cell_type": "markdown",
      "metadata": {
        "id": "bVRHw1fGbtZM"
      },
      "source": [
        "### 신경망 튜닝"
      ]
    },
    {
      "cell_type": "markdown",
      "metadata": {
        "id": "pY2SX-E6btTe"
      },
      "source": [
        "### 장단점과 매개변수"
      ]
    },
    {
      "cell_type": "markdown",
      "metadata": {
        "id": "Q3iRR-3Vb8Rc"
      },
      "source": [
        "### 신경망의 복잡도 추정"
      ]
    },
    {
      "cell_type": "markdown",
      "metadata": {
        "id": "s9rsHZxjVx9s"
      },
      "source": [
        "# 2.4 분류 예측의 불확실성 추정"
      ]
    },
    {
      "cell_type": "markdown",
      "metadata": {
        "id": "Fbz79kcLVx6-"
      },
      "source": [
        "## 2.4.1 결정 함수"
      ]
    },
    {
      "cell_type": "markdown",
      "metadata": {
        "id": "j0w_6VKxVx38"
      },
      "source": [
        "## 2.4.2 예측 확률"
      ]
    },
    {
      "cell_type": "markdown",
      "metadata": {
        "id": "mab0rNl1VxkU"
      },
      "source": [
        "##2.4.3 다중 분류에서의 불확실성"
      ]
    },
    {
      "cell_type": "markdown",
      "metadata": {
        "id": "l5Iecg_SWCQO"
      },
      "source": [
        "# 2.5 요약 및 정리"
      ]
    }
  ]
}