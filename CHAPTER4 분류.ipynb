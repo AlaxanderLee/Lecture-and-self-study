{
  "nbformat": 4,
  "nbformat_minor": 0,
  "metadata": {
    "colab": {
      "name": "CHAPTER4 분류.ipynb",
      "provenance": [],
      "toc_visible": true,
      "collapsed_sections": [],
      "authorship_tag": "ABX9TyObD3MXAQOYmPaj/d507HSl",
      "include_colab_link": true
    },
    "kernelspec": {
      "name": "python3",
      "display_name": "Python 3"
    },
    "language_info": {
      "name": "python"
    }
  },
  "cells": [
    {
      "cell_type": "markdown",
      "metadata": {
        "id": "view-in-github",
        "colab_type": "text"
      },
      "source": [
        "<a href=\"https://colab.research.google.com/github/LeeSeungwon89/Machine-learning_Theory/blob/master/CHAPTER4%20%EB%B6%84%EB%A5%98.ipynb\" target=\"_parent\"><img src=\"https://colab.research.google.com/assets/colab-badge.svg\" alt=\"Open In Colab\"/></a>"
      ]
    },
    {
      "cell_type": "markdown",
      "source": [
        "# **1. 분류(classification)의 개요**"
      ],
      "metadata": {
        "id": "L6blTcamZ7UE"
      }
    },
    {
      "cell_type": "markdown",
      "source": [
        "앙상블을 주로 다루는 챕터입니다. 앙상블은 정형 데이터의 예측 분석 영역에서 매우 좋은 예측 성능을 발휘합니다. 대부분 동일한 알고리즘을 결합하며, 기본 알고리즘으로 사용하는 것은 결정 트리입니다."
      ],
      "metadata": {
        "id": "jl5ih4rHGMpE"
      }
    },
    {
      "cell_type": "markdown",
      "source": [
        "# **2. 결정 트리**"
      ],
      "metadata": {
        "id": "8LuLY558Z7Rp"
      }
    },
    {
      "cell_type": "markdown",
      "source": [
        "결정 노드는 정보 균일도가 높은 데이터 세트를 먼저 선택할 수 있도록 규칙 조건을 만듭니다. 정보 균일도가 데이터 세트로 쪼개질 수 있도록 조건을 찾아 서브 데이터 세트를 만들고, 다시 이 서브 데이터 세트에서 균일도가 높은 자식 데이터 세트를 쪼개는 방식을 자식 트리로 내려가면서 반복하는 방식으로 데이터 값을 예측합니다. 쉽게 예측할 수 있는 조건을 찾아서 분류하는 것이 가장 효율적이기 때문입니다.\n",
        "\n",
        "이러한 정보 균일도를 측정하는 대표적 방법은 엔트로피를 이용한 **정보 이득(Information Gain)**과 지니계수입니다.\n",
        "\n",
        "정보 이득은 **엔트로피(주어진 데이터 집합의 혼잡도)**를 기반으로 합니다. 정보 이득 지수는 1에서 엔트로피 지수를 뺀 값입니다. 서로 다른 값이 섞여 있으면 엔트로피가 높고, 같은 값이 섞여 있으면 엔트로피가 낮습니다. \n",
        "\n",
        "지니 계수는 경제학에서 불평등 지수를 나타내는 데 쓰이는 지수입니다. 머신러닝에서는 지니 계수가 낮을수록 데이터 균일도가 높은 것으로 해석하고, 지니 계수가 낮은 속성을 기준으로 분할합니다. 다시 말하면, 데이터 세트를 분할하는 데 가장 좋은 조건은 정보 이득이 높거나 지니 계수가 낮은 조건입니다. `DecisionTreeClassifier` 클래스는 기본적으로 지니 계수를 이용하여 데이터를 분할합니다. "
      ],
      "metadata": {
        "id": "EJxq6ZeiMImi"
      }
    },
    {
      "cell_type": "markdown",
      "source": [
        "## **2.1. 결정 트리 모델의 특징**"
      ],
      "metadata": {
        "id": "Mo5lQ-k_Z7PA"
      }
    },
    {
      "cell_type": "markdown",
      "source": [
        "결정 트리는 정보 균일도가 기반이므로 쉽고 직관적입니다. 대부분의 경우 피처 스케일링과 정규화 같은 전처리 작업도 불필요합니다. 다만 과적합되기 쉬우므로 트리 크기를 제한하면서 성능을 튜닝하는 편이 좋습니다."
      ],
      "metadata": {
        "id": "6Pwczlw8XXyb"
      }
    },
    {
      "cell_type": "markdown",
      "source": [
        "## **2.2. 결정 트리 파라미터**"
      ],
      "metadata": {
        "id": "aPgGOGUBZ7Mh"
      }
    },
    {
      "cell_type": "markdown",
      "source": [
        "- `min_samples_split`: 노드를 분할하기 위한 최소한의 샘플 데이터 수를 지정합니다. 과적합 제어에 사용하며, 디폴트는 `2`이고, 작게 지정할수록 분할되는 노드가 많아져서 과적합되기 쉽습니다. \n",
        "\n",
        "- `min_samples_leaf`: 리프 노드가 되기 위한 최소한의 샘플 데이터 수를 지정합니다. 과적합 제어에 사용하며, 비대칭적인 데이터의 경우 특정 클래스의 데이터가 작을 수 있으므로 숫자를 작게 지정할 필요가 있습니다. \n",
        "\n",
        "- `max_features`: 최적 분할을 위해 고려할 최대 피처 개수를 지정합니다. 디폴트는 `None`이며 모든 피처를 사용하여 분할합니다. `int`는 대상 피처의 개수, `float`는 전체 피처 중 대상 피처의 퍼센트, `sqrt`는 $\\sqrt{전체 피처 개수}$, `auto`는 `sqrt`와 동일하고, `log`는 전체 피처 중 $log2(전체 피처 개수)$입니다.\n",
        "\n",
        "- `max_depth`: 트리의 최대 깊이를 지정합니다. 디폴트는 `None`이며 클래스 결정값이 될 때까지 깊이를 키워서 분할하거나 노드가 가지는 데이터 수가 `min_samples_leaf`보다 작아질 때까지 깊이를 키웁니다.\n",
        "\n",
        "- `max_leaf_nodes`: 리프 노드의 최대 개수를 지정합니다."
      ],
      "metadata": {
        "id": "PjBUsNZ7b8XJ"
      }
    },
    {
      "cell_type": "markdown",
      "source": [
        "## **2.3. 결정 트리 모델의 시각화**"
      ],
      "metadata": {
        "id": "wUWCJxQlZ7J6"
      }
    },
    {
      "cell_type": "markdown",
      "source": [
        "붓꽃 데이터 세트를 시각화해보겠습니다. 먼저 학습을 수행합니다."
      ],
      "metadata": {
        "id": "bae7OLw4m7xK"
      }
    },
    {
      "cell_type": "code",
      "source": [
        "from sklearn.tree import DecisionTreeClassifier\n",
        "from sklearn.datasets import load_iris\n",
        "from sklearn.model_selection import train_test_split\n",
        "import warnings\n",
        "warnings.filterwarnings('ignore')\n",
        "\n",
        "dt_clf = DecisionTreeClassifier(random_state=156)\n",
        "iris_data = load_iris()\n",
        "X_train, X_test, y_train, y_test = train_test_split(\n",
        "    iris_data.data, iris_data.target, test_size=0.2, random_state=11)\n",
        "dt_clf.fit(X_train, y_train)"
      ],
      "metadata": {
        "colab": {
          "base_uri": "https://localhost:8080/"
        },
        "id": "fCelBg--fCo5",
        "outputId": "34baabdc-be9f-4a15-d936-95995d45802f"
      },
      "execution_count": 1,
      "outputs": [
        {
          "output_type": "execute_result",
          "data": {
            "text/plain": [
              "DecisionTreeClassifier(random_state=156)"
            ]
          },
          "metadata": {},
          "execution_count": 1
        }
      ]
    },
    {
      "cell_type": "markdown",
      "source": [
        "`export_graphviz()` 메서드를 호출하여 그래프로 시각화할 출력 파일을 생성하겠습니다."
      ],
      "metadata": {
        "id": "cD919lLfnFVM"
      }
    },
    {
      "cell_type": "code",
      "source": [
        "from sklearn.tree import export_graphviz\n",
        "\n",
        "export_graphviz(dt_clf, out_file='tree.dot', class_names=iris_data.target_names,\\\n",
        "                feature_names = iris_data.feature_names, impurity=True, filled=True)"
      ],
      "metadata": {
        "id": "PvSPYEw9f2PG"
      },
      "execution_count": 2,
      "outputs": []
    },
    {
      "cell_type": "markdown",
      "source": [
        "`graphviz` 패키지를 사용하여 결정 트리를 시각화하겠습니다."
      ],
      "metadata": {
        "id": "LRI94RMHnhef"
      }
    },
    {
      "cell_type": "code",
      "source": [
        "import graphviz\n",
        "\n",
        "with open('tree.dot') as f:\n",
        "    dot_graph = f.read()\n",
        "\n",
        "graphviz.Source(dot_graph)"
      ],
      "metadata": {
        "colab": {
          "base_uri": "https://localhost:8080/",
          "height": 937
        },
        "id": "T9bjoJwpgWQW",
        "outputId": "d2e0dbb1-6698-4003-9a1a-d313be731569"
      },
      "execution_count": 3,
      "outputs": [
        {
          "output_type": "execute_result",
          "data": {
            "text/plain": [
              "<graphviz.files.Source at 0x7f6f73e08310>"
            ],
            "image/svg+xml": "<?xml version=\"1.0\" encoding=\"UTF-8\" standalone=\"no\"?>\n<!DOCTYPE svg PUBLIC \"-//W3C//DTD SVG 1.1//EN\"\n \"http://www.w3.org/Graphics/SVG/1.1/DTD/svg11.dtd\">\n<!-- Generated by graphviz version 2.40.1 (20161225.0304)\n -->\n<!-- Title: Tree Pages: 1 -->\n<svg width=\"821pt\" height=\"671pt\"\n viewBox=\"0.00 0.00 820.50 671.00\" xmlns=\"http://www.w3.org/2000/svg\" xmlns:xlink=\"http://www.w3.org/1999/xlink\">\n<g id=\"graph0\" class=\"graph\" transform=\"scale(1 1) rotate(0) translate(4 667)\">\n<title>Tree</title>\n<polygon fill=\"#ffffff\" stroke=\"transparent\" points=\"-4,4 -4,-667 816.5,-667 816.5,4 -4,4\"/>\n<!-- 0 -->\n<g id=\"node1\" class=\"node\">\n<title>0</title>\n<polygon fill=\"#fffdfd\" stroke=\"#000000\" points=\"300,-663 124,-663 124,-580 300,-580 300,-663\"/>\n<text text-anchor=\"middle\" x=\"212\" y=\"-647.8\" font-family=\"Helvetica,sans-Serif\" font-size=\"14.00\" fill=\"#000000\">petal length (cm) &lt;= 2.45</text>\n<text text-anchor=\"middle\" x=\"212\" y=\"-632.8\" font-family=\"Helvetica,sans-Serif\" font-size=\"14.00\" fill=\"#000000\">gini = 0.667</text>\n<text text-anchor=\"middle\" x=\"212\" y=\"-617.8\" font-family=\"Helvetica,sans-Serif\" font-size=\"14.00\" fill=\"#000000\">samples = 120</text>\n<text text-anchor=\"middle\" x=\"212\" y=\"-602.8\" font-family=\"Helvetica,sans-Serif\" font-size=\"14.00\" fill=\"#000000\">value = [41, 40, 39]</text>\n<text text-anchor=\"middle\" x=\"212\" y=\"-587.8\" font-family=\"Helvetica,sans-Serif\" font-size=\"14.00\" fill=\"#000000\">class = setosa</text>\n</g>\n<!-- 1 -->\n<g id=\"node2\" class=\"node\">\n<title>1</title>\n<polygon fill=\"#e58139\" stroke=\"#000000\" points=\"191.5,-536.5 68.5,-536.5 68.5,-468.5 191.5,-468.5 191.5,-536.5\"/>\n<text text-anchor=\"middle\" x=\"130\" y=\"-521.3\" font-family=\"Helvetica,sans-Serif\" font-size=\"14.00\" fill=\"#000000\">gini = 0.0</text>\n<text text-anchor=\"middle\" x=\"130\" y=\"-506.3\" font-family=\"Helvetica,sans-Serif\" font-size=\"14.00\" fill=\"#000000\">samples = 41</text>\n<text text-anchor=\"middle\" x=\"130\" y=\"-491.3\" font-family=\"Helvetica,sans-Serif\" font-size=\"14.00\" fill=\"#000000\">value = [41, 0, 0]</text>\n<text text-anchor=\"middle\" x=\"130\" y=\"-476.3\" font-family=\"Helvetica,sans-Serif\" font-size=\"14.00\" fill=\"#000000\">class = setosa</text>\n</g>\n<!-- 0&#45;&gt;1 -->\n<g id=\"edge1\" class=\"edge\">\n<title>0&#45;&gt;1</title>\n<path fill=\"none\" stroke=\"#000000\" d=\"M183.3204,-579.8796C175.5917,-568.6636 167.2191,-556.5131 159.4492,-545.2372\"/>\n<polygon fill=\"#000000\" stroke=\"#000000\" points=\"162.2018,-543.0634 153.6456,-536.8149 156.4377,-547.0353 162.2018,-543.0634\"/>\n<text text-anchor=\"middle\" x=\"149.1196\" y=\"-557.7018\" font-family=\"Helvetica,sans-Serif\" font-size=\"14.00\" fill=\"#000000\">True</text>\n</g>\n<!-- 2 -->\n<g id=\"node3\" class=\"node\">\n<title>2</title>\n<polygon fill=\"#fafefc\" stroke=\"#000000\" points=\"380,-544 210,-544 210,-461 380,-461 380,-544\"/>\n<text text-anchor=\"middle\" x=\"295\" y=\"-528.8\" font-family=\"Helvetica,sans-Serif\" font-size=\"14.00\" fill=\"#000000\">petal width (cm) &lt;= 1.55</text>\n<text text-anchor=\"middle\" x=\"295\" y=\"-513.8\" font-family=\"Helvetica,sans-Serif\" font-size=\"14.00\" fill=\"#000000\">gini = 0.5</text>\n<text text-anchor=\"middle\" x=\"295\" y=\"-498.8\" font-family=\"Helvetica,sans-Serif\" font-size=\"14.00\" fill=\"#000000\">samples = 79</text>\n<text text-anchor=\"middle\" x=\"295\" y=\"-483.8\" font-family=\"Helvetica,sans-Serif\" font-size=\"14.00\" fill=\"#000000\">value = [0, 40, 39]</text>\n<text text-anchor=\"middle\" x=\"295\" y=\"-468.8\" font-family=\"Helvetica,sans-Serif\" font-size=\"14.00\" fill=\"#000000\">class = versicolor</text>\n</g>\n<!-- 0&#45;&gt;2 -->\n<g id=\"edge2\" class=\"edge\">\n<title>0&#45;&gt;2</title>\n<path fill=\"none\" stroke=\"#000000\" d=\"M241.0294,-579.8796C247.1855,-571.0534 253.7451,-561.6485 260.0936,-552.5466\"/>\n<polygon fill=\"#000000\" stroke=\"#000000\" points=\"262.9967,-554.5024 265.8467,-544.2981 257.2552,-550.4978 262.9967,-554.5024\"/>\n<text text-anchor=\"middle\" x=\"270.2331\" y=\"-565.2103\" font-family=\"Helvetica,sans-Serif\" font-size=\"14.00\" fill=\"#000000\">False</text>\n</g>\n<!-- 3 -->\n<g id=\"node4\" class=\"node\">\n<title>3</title>\n<polygon fill=\"#3ee684\" stroke=\"#000000\" points=\"288,-425 112,-425 112,-342 288,-342 288,-425\"/>\n<text text-anchor=\"middle\" x=\"200\" y=\"-409.8\" font-family=\"Helvetica,sans-Serif\" font-size=\"14.00\" fill=\"#000000\">petal length (cm) &lt;= 5.25</text>\n<text text-anchor=\"middle\" x=\"200\" y=\"-394.8\" font-family=\"Helvetica,sans-Serif\" font-size=\"14.00\" fill=\"#000000\">gini = 0.051</text>\n<text text-anchor=\"middle\" x=\"200\" y=\"-379.8\" font-family=\"Helvetica,sans-Serif\" font-size=\"14.00\" fill=\"#000000\">samples = 38</text>\n<text text-anchor=\"middle\" x=\"200\" y=\"-364.8\" font-family=\"Helvetica,sans-Serif\" font-size=\"14.00\" fill=\"#000000\">value = [0, 37, 1]</text>\n<text text-anchor=\"middle\" x=\"200\" y=\"-349.8\" font-family=\"Helvetica,sans-Serif\" font-size=\"14.00\" fill=\"#000000\">class = versicolor</text>\n</g>\n<!-- 2&#45;&gt;3 -->\n<g id=\"edge3\" class=\"edge\">\n<title>2&#45;&gt;3</title>\n<path fill=\"none\" stroke=\"#000000\" d=\"M261.7736,-460.8796C254.6556,-451.9633 247.0661,-442.4565 239.7308,-433.268\"/>\n<polygon fill=\"#000000\" stroke=\"#000000\" points=\"242.3425,-430.9295 233.3682,-425.2981 236.8719,-435.2968 242.3425,-430.9295\"/>\n</g>\n<!-- 6 -->\n<g id=\"node7\" class=\"node\">\n<title>6</title>\n<polygon fill=\"#8b49e7\" stroke=\"#000000\" points=\"476,-425 306,-425 306,-342 476,-342 476,-425\"/>\n<text text-anchor=\"middle\" x=\"391\" y=\"-409.8\" font-family=\"Helvetica,sans-Serif\" font-size=\"14.00\" fill=\"#000000\">petal width (cm) &lt;= 1.75</text>\n<text text-anchor=\"middle\" x=\"391\" y=\"-394.8\" font-family=\"Helvetica,sans-Serif\" font-size=\"14.00\" fill=\"#000000\">gini = 0.136</text>\n<text text-anchor=\"middle\" x=\"391\" y=\"-379.8\" font-family=\"Helvetica,sans-Serif\" font-size=\"14.00\" fill=\"#000000\">samples = 41</text>\n<text text-anchor=\"middle\" x=\"391\" y=\"-364.8\" font-family=\"Helvetica,sans-Serif\" font-size=\"14.00\" fill=\"#000000\">value = [0, 3, 38]</text>\n<text text-anchor=\"middle\" x=\"391\" y=\"-349.8\" font-family=\"Helvetica,sans-Serif\" font-size=\"14.00\" fill=\"#000000\">class = virginica</text>\n</g>\n<!-- 2&#45;&gt;6 -->\n<g id=\"edge6\" class=\"edge\">\n<title>2&#45;&gt;6</title>\n<path fill=\"none\" stroke=\"#000000\" d=\"M328.5761,-460.8796C335.7691,-451.9633 343.4384,-442.4565 350.851,-433.268\"/>\n<polygon fill=\"#000000\" stroke=\"#000000\" points=\"353.7258,-435.2788 357.2805,-425.2981 348.2776,-430.8836 353.7258,-435.2788\"/>\n</g>\n<!-- 4 -->\n<g id=\"node5\" class=\"node\">\n<title>4</title>\n<polygon fill=\"#39e581\" stroke=\"#000000\" points=\"128,-298.5 0,-298.5 0,-230.5 128,-230.5 128,-298.5\"/>\n<text text-anchor=\"middle\" x=\"64\" y=\"-283.3\" font-family=\"Helvetica,sans-Serif\" font-size=\"14.00\" fill=\"#000000\">gini = 0.0</text>\n<text text-anchor=\"middle\" x=\"64\" y=\"-268.3\" font-family=\"Helvetica,sans-Serif\" font-size=\"14.00\" fill=\"#000000\">samples = 37</text>\n<text text-anchor=\"middle\" x=\"64\" y=\"-253.3\" font-family=\"Helvetica,sans-Serif\" font-size=\"14.00\" fill=\"#000000\">value = [0, 37, 0]</text>\n<text text-anchor=\"middle\" x=\"64\" y=\"-238.3\" font-family=\"Helvetica,sans-Serif\" font-size=\"14.00\" fill=\"#000000\">class = versicolor</text>\n</g>\n<!-- 3&#45;&gt;4 -->\n<g id=\"edge4\" class=\"edge\">\n<title>3&#45;&gt;4</title>\n<path fill=\"none\" stroke=\"#000000\" d=\"M152.4338,-341.8796C138.9872,-330.1138 124.3653,-317.3197 110.9549,-305.5855\"/>\n<polygon fill=\"#000000\" stroke=\"#000000\" points=\"113.0476,-302.766 103.2171,-298.8149 108.4381,-308.034 113.0476,-302.766\"/>\n</g>\n<!-- 5 -->\n<g id=\"node6\" class=\"node\">\n<title>5</title>\n<polygon fill=\"#8139e5\" stroke=\"#000000\" points=\"265.5,-298.5 146.5,-298.5 146.5,-230.5 265.5,-230.5 265.5,-298.5\"/>\n<text text-anchor=\"middle\" x=\"206\" y=\"-283.3\" font-family=\"Helvetica,sans-Serif\" font-size=\"14.00\" fill=\"#000000\">gini = 0.0</text>\n<text text-anchor=\"middle\" x=\"206\" y=\"-268.3\" font-family=\"Helvetica,sans-Serif\" font-size=\"14.00\" fill=\"#000000\">samples = 1</text>\n<text text-anchor=\"middle\" x=\"206\" y=\"-253.3\" font-family=\"Helvetica,sans-Serif\" font-size=\"14.00\" fill=\"#000000\">value = [0, 0, 1]</text>\n<text text-anchor=\"middle\" x=\"206\" y=\"-238.3\" font-family=\"Helvetica,sans-Serif\" font-size=\"14.00\" fill=\"#000000\">class = virginica</text>\n</g>\n<!-- 3&#45;&gt;5 -->\n<g id=\"edge5\" class=\"edge\">\n<title>3&#45;&gt;5</title>\n<path fill=\"none\" stroke=\"#000000\" d=\"M202.0985,-341.8796C202.6363,-331.2134 203.2167,-319.7021 203.7613,-308.9015\"/>\n<polygon fill=\"#000000\" stroke=\"#000000\" points=\"207.2617,-308.9785 204.2698,-298.8149 200.2706,-308.626 207.2617,-308.9785\"/>\n</g>\n<!-- 7 -->\n<g id=\"node8\" class=\"node\">\n<title>7</title>\n<polygon fill=\"#ffffff\" stroke=\"#000000\" points=\"475,-306 295,-306 295,-223 475,-223 475,-306\"/>\n<text text-anchor=\"middle\" x=\"385\" y=\"-290.8\" font-family=\"Helvetica,sans-Serif\" font-size=\"14.00\" fill=\"#000000\">sepal length (cm) &lt;= 5.45</text>\n<text text-anchor=\"middle\" x=\"385\" y=\"-275.8\" font-family=\"Helvetica,sans-Serif\" font-size=\"14.00\" fill=\"#000000\">gini = 0.5</text>\n<text text-anchor=\"middle\" x=\"385\" y=\"-260.8\" font-family=\"Helvetica,sans-Serif\" font-size=\"14.00\" fill=\"#000000\">samples = 4</text>\n<text text-anchor=\"middle\" x=\"385\" y=\"-245.8\" font-family=\"Helvetica,sans-Serif\" font-size=\"14.00\" fill=\"#000000\">value = [0, 2, 2]</text>\n<text text-anchor=\"middle\" x=\"385\" y=\"-230.8\" font-family=\"Helvetica,sans-Serif\" font-size=\"14.00\" fill=\"#000000\">class = versicolor</text>\n</g>\n<!-- 6&#45;&gt;7 -->\n<g id=\"edge7\" class=\"edge\">\n<title>6&#45;&gt;7</title>\n<path fill=\"none\" stroke=\"#000000\" d=\"M388.9015,-341.8796C388.4883,-333.6838 388.0499,-324.9891 387.6219,-316.5013\"/>\n<polygon fill=\"#000000\" stroke=\"#000000\" points=\"391.1067,-316.1091 387.1075,-306.2981 384.1156,-316.4617 391.1067,-316.1091\"/>\n</g>\n<!-- 12 -->\n<g id=\"node13\" class=\"node\">\n<title>12</title>\n<polygon fill=\"#843ee6\" stroke=\"#000000\" points=\"669,-306 493,-306 493,-223 669,-223 669,-306\"/>\n<text text-anchor=\"middle\" x=\"581\" y=\"-290.8\" font-family=\"Helvetica,sans-Serif\" font-size=\"14.00\" fill=\"#000000\">petal length (cm) &lt;= 4.85</text>\n<text text-anchor=\"middle\" x=\"581\" y=\"-275.8\" font-family=\"Helvetica,sans-Serif\" font-size=\"14.00\" fill=\"#000000\">gini = 0.053</text>\n<text text-anchor=\"middle\" x=\"581\" y=\"-260.8\" font-family=\"Helvetica,sans-Serif\" font-size=\"14.00\" fill=\"#000000\">samples = 37</text>\n<text text-anchor=\"middle\" x=\"581\" y=\"-245.8\" font-family=\"Helvetica,sans-Serif\" font-size=\"14.00\" fill=\"#000000\">value = [0, 1, 36]</text>\n<text text-anchor=\"middle\" x=\"581\" y=\"-230.8\" font-family=\"Helvetica,sans-Serif\" font-size=\"14.00\" fill=\"#000000\">class = virginica</text>\n</g>\n<!-- 6&#45;&gt;12 -->\n<g id=\"edge12\" class=\"edge\">\n<title>6&#45;&gt;12</title>\n<path fill=\"none\" stroke=\"#000000\" d=\"M457.4528,-341.8796C473.0733,-332.0962 489.829,-321.6019 505.8029,-311.5971\"/>\n<polygon fill=\"#000000\" stroke=\"#000000\" points=\"507.9676,-314.3712 514.5847,-306.0969 504.2519,-308.4387 507.9676,-314.3712\"/>\n</g>\n<!-- 8 -->\n<g id=\"node9\" class=\"node\">\n<title>8</title>\n<polygon fill=\"#8139e5\" stroke=\"#000000\" points=\"278.5,-179.5 159.5,-179.5 159.5,-111.5 278.5,-111.5 278.5,-179.5\"/>\n<text text-anchor=\"middle\" x=\"219\" y=\"-164.3\" font-family=\"Helvetica,sans-Serif\" font-size=\"14.00\" fill=\"#000000\">gini = 0.0</text>\n<text text-anchor=\"middle\" x=\"219\" y=\"-149.3\" font-family=\"Helvetica,sans-Serif\" font-size=\"14.00\" fill=\"#000000\">samples = 1</text>\n<text text-anchor=\"middle\" x=\"219\" y=\"-134.3\" font-family=\"Helvetica,sans-Serif\" font-size=\"14.00\" fill=\"#000000\">value = [0, 0, 1]</text>\n<text text-anchor=\"middle\" x=\"219\" y=\"-119.3\" font-family=\"Helvetica,sans-Serif\" font-size=\"14.00\" fill=\"#000000\">class = virginica</text>\n</g>\n<!-- 7&#45;&gt;8 -->\n<g id=\"edge8\" class=\"edge\">\n<title>7&#45;&gt;8</title>\n<path fill=\"none\" stroke=\"#000000\" d=\"M326.9413,-222.8796C310.142,-210.8368 291.8401,-197.7167 275.159,-185.7586\"/>\n<polygon fill=\"#000000\" stroke=\"#000000\" points=\"276.7668,-182.6047 266.6002,-179.623 272.6884,-188.2939 276.7668,-182.6047\"/>\n</g>\n<!-- 9 -->\n<g id=\"node10\" class=\"node\">\n<title>9</title>\n<polygon fill=\"#9cf2c0\" stroke=\"#000000\" points=\"473,-187 297,-187 297,-104 473,-104 473,-187\"/>\n<text text-anchor=\"middle\" x=\"385\" y=\"-171.8\" font-family=\"Helvetica,sans-Serif\" font-size=\"14.00\" fill=\"#000000\">petal length (cm) &lt;= 5.45</text>\n<text text-anchor=\"middle\" x=\"385\" y=\"-156.8\" font-family=\"Helvetica,sans-Serif\" font-size=\"14.00\" fill=\"#000000\">gini = 0.444</text>\n<text text-anchor=\"middle\" x=\"385\" y=\"-141.8\" font-family=\"Helvetica,sans-Serif\" font-size=\"14.00\" fill=\"#000000\">samples = 3</text>\n<text text-anchor=\"middle\" x=\"385\" y=\"-126.8\" font-family=\"Helvetica,sans-Serif\" font-size=\"14.00\" fill=\"#000000\">value = [0, 2, 1]</text>\n<text text-anchor=\"middle\" x=\"385\" y=\"-111.8\" font-family=\"Helvetica,sans-Serif\" font-size=\"14.00\" fill=\"#000000\">class = versicolor</text>\n</g>\n<!-- 7&#45;&gt;9 -->\n<g id=\"edge9\" class=\"edge\">\n<title>7&#45;&gt;9</title>\n<path fill=\"none\" stroke=\"#000000\" d=\"M385,-222.8796C385,-214.6838 385,-205.9891 385,-197.5013\"/>\n<polygon fill=\"#000000\" stroke=\"#000000\" points=\"388.5001,-197.298 385,-187.2981 381.5001,-197.2981 388.5001,-197.298\"/>\n</g>\n<!-- 10 -->\n<g id=\"node11\" class=\"node\">\n<title>10</title>\n<polygon fill=\"#39e581\" stroke=\"#000000\" points=\"320,-68 192,-68 192,0 320,0 320,-68\"/>\n<text text-anchor=\"middle\" x=\"256\" y=\"-52.8\" font-family=\"Helvetica,sans-Serif\" font-size=\"14.00\" fill=\"#000000\">gini = 0.0</text>\n<text text-anchor=\"middle\" x=\"256\" y=\"-37.8\" font-family=\"Helvetica,sans-Serif\" font-size=\"14.00\" fill=\"#000000\">samples = 2</text>\n<text text-anchor=\"middle\" x=\"256\" y=\"-22.8\" font-family=\"Helvetica,sans-Serif\" font-size=\"14.00\" fill=\"#000000\">value = [0, 2, 0]</text>\n<text text-anchor=\"middle\" x=\"256\" y=\"-7.8\" font-family=\"Helvetica,sans-Serif\" font-size=\"14.00\" fill=\"#000000\">class = versicolor</text>\n</g>\n<!-- 9&#45;&gt;10 -->\n<g id=\"edge10\" class=\"edge\">\n<title>9&#45;&gt;10</title>\n<path fill=\"none\" stroke=\"#000000\" d=\"M336.9652,-103.9815C326.013,-94.5151 314.3821,-84.462 303.4544,-75.0168\"/>\n<polygon fill=\"#000000\" stroke=\"#000000\" points=\"305.4957,-72.155 295.6414,-68.2637 300.9182,-77.4509 305.4957,-72.155\"/>\n</g>\n<!-- 11 -->\n<g id=\"node12\" class=\"node\">\n<title>11</title>\n<polygon fill=\"#8139e5\" stroke=\"#000000\" points=\"457.5,-68 338.5,-68 338.5,0 457.5,0 457.5,-68\"/>\n<text text-anchor=\"middle\" x=\"398\" y=\"-52.8\" font-family=\"Helvetica,sans-Serif\" font-size=\"14.00\" fill=\"#000000\">gini = 0.0</text>\n<text text-anchor=\"middle\" x=\"398\" y=\"-37.8\" font-family=\"Helvetica,sans-Serif\" font-size=\"14.00\" fill=\"#000000\">samples = 1</text>\n<text text-anchor=\"middle\" x=\"398\" y=\"-22.8\" font-family=\"Helvetica,sans-Serif\" font-size=\"14.00\" fill=\"#000000\">value = [0, 0, 1]</text>\n<text text-anchor=\"middle\" x=\"398\" y=\"-7.8\" font-family=\"Helvetica,sans-Serif\" font-size=\"14.00\" fill=\"#000000\">class = virginica</text>\n</g>\n<!-- 9&#45;&gt;11 -->\n<g id=\"edge11\" class=\"edge\">\n<title>9&#45;&gt;11</title>\n<path fill=\"none\" stroke=\"#000000\" d=\"M389.8407,-103.9815C390.8158,-95.618 391.8443,-86.7965 392.8302,-78.3409\"/>\n<polygon fill=\"#000000\" stroke=\"#000000\" points=\"396.3234,-78.6017 394.0051,-68.2637 389.3705,-77.791 396.3234,-78.6017\"/>\n</g>\n<!-- 13 -->\n<g id=\"node14\" class=\"node\">\n<title>13</title>\n<polygon fill=\"#c09cf2\" stroke=\"#000000\" points=\"671,-187 491,-187 491,-104 671,-104 671,-187\"/>\n<text text-anchor=\"middle\" x=\"581\" y=\"-171.8\" font-family=\"Helvetica,sans-Serif\" font-size=\"14.00\" fill=\"#000000\">sepal length (cm) &lt;= 5.95</text>\n<text text-anchor=\"middle\" x=\"581\" y=\"-156.8\" font-family=\"Helvetica,sans-Serif\" font-size=\"14.00\" fill=\"#000000\">gini = 0.444</text>\n<text text-anchor=\"middle\" x=\"581\" y=\"-141.8\" font-family=\"Helvetica,sans-Serif\" font-size=\"14.00\" fill=\"#000000\">samples = 3</text>\n<text text-anchor=\"middle\" x=\"581\" y=\"-126.8\" font-family=\"Helvetica,sans-Serif\" font-size=\"14.00\" fill=\"#000000\">value = [0, 1, 2]</text>\n<text text-anchor=\"middle\" x=\"581\" y=\"-111.8\" font-family=\"Helvetica,sans-Serif\" font-size=\"14.00\" fill=\"#000000\">class = virginica</text>\n</g>\n<!-- 12&#45;&gt;13 -->\n<g id=\"edge13\" class=\"edge\">\n<title>12&#45;&gt;13</title>\n<path fill=\"none\" stroke=\"#000000\" d=\"M581,-222.8796C581,-214.6838 581,-205.9891 581,-197.5013\"/>\n<polygon fill=\"#000000\" stroke=\"#000000\" points=\"584.5001,-197.298 581,-187.2981 577.5001,-197.2981 584.5001,-197.298\"/>\n</g>\n<!-- 16 -->\n<g id=\"node17\" class=\"node\">\n<title>16</title>\n<polygon fill=\"#8139e5\" stroke=\"#000000\" points=\"812.5,-179.5 689.5,-179.5 689.5,-111.5 812.5,-111.5 812.5,-179.5\"/>\n<text text-anchor=\"middle\" x=\"751\" y=\"-164.3\" font-family=\"Helvetica,sans-Serif\" font-size=\"14.00\" fill=\"#000000\">gini = 0.0</text>\n<text text-anchor=\"middle\" x=\"751\" y=\"-149.3\" font-family=\"Helvetica,sans-Serif\" font-size=\"14.00\" fill=\"#000000\">samples = 34</text>\n<text text-anchor=\"middle\" x=\"751\" y=\"-134.3\" font-family=\"Helvetica,sans-Serif\" font-size=\"14.00\" fill=\"#000000\">value = [0, 0, 34]</text>\n<text text-anchor=\"middle\" x=\"751\" y=\"-119.3\" font-family=\"Helvetica,sans-Serif\" font-size=\"14.00\" fill=\"#000000\">class = virginica</text>\n</g>\n<!-- 12&#45;&gt;16 -->\n<g id=\"edge16\" class=\"edge\">\n<title>12&#45;&gt;16</title>\n<path fill=\"none\" stroke=\"#000000\" d=\"M640.4578,-222.8796C657.8196,-210.7263 676.7488,-197.4759 693.9575,-185.4297\"/>\n<polygon fill=\"#000000\" stroke=\"#000000\" points=\"696.0676,-188.225 702.2528,-179.623 692.0533,-182.4904 696.0676,-188.225\"/>\n</g>\n<!-- 14 -->\n<g id=\"node15\" class=\"node\">\n<title>14</title>\n<polygon fill=\"#39e581\" stroke=\"#000000\" points=\"631,-68 503,-68 503,0 631,0 631,-68\"/>\n<text text-anchor=\"middle\" x=\"567\" y=\"-52.8\" font-family=\"Helvetica,sans-Serif\" font-size=\"14.00\" fill=\"#000000\">gini = 0.0</text>\n<text text-anchor=\"middle\" x=\"567\" y=\"-37.8\" font-family=\"Helvetica,sans-Serif\" font-size=\"14.00\" fill=\"#000000\">samples = 1</text>\n<text text-anchor=\"middle\" x=\"567\" y=\"-22.8\" font-family=\"Helvetica,sans-Serif\" font-size=\"14.00\" fill=\"#000000\">value = [0, 1, 0]</text>\n<text text-anchor=\"middle\" x=\"567\" y=\"-7.8\" font-family=\"Helvetica,sans-Serif\" font-size=\"14.00\" fill=\"#000000\">class = versicolor</text>\n</g>\n<!-- 13&#45;&gt;14 -->\n<g id=\"edge14\" class=\"edge\">\n<title>13&#45;&gt;14</title>\n<path fill=\"none\" stroke=\"#000000\" d=\"M575.7869,-103.9815C574.7368,-95.618 573.6292,-86.7965 572.5675,-78.3409\"/>\n<polygon fill=\"#000000\" stroke=\"#000000\" points=\"576.0208,-77.7497 571.3022,-68.2637 569.0753,-78.6218 576.0208,-77.7497\"/>\n</g>\n<!-- 15 -->\n<g id=\"node16\" class=\"node\">\n<title>15</title>\n<polygon fill=\"#8139e5\" stroke=\"#000000\" points=\"768.5,-68 649.5,-68 649.5,0 768.5,0 768.5,-68\"/>\n<text text-anchor=\"middle\" x=\"709\" y=\"-52.8\" font-family=\"Helvetica,sans-Serif\" font-size=\"14.00\" fill=\"#000000\">gini = 0.0</text>\n<text text-anchor=\"middle\" x=\"709\" y=\"-37.8\" font-family=\"Helvetica,sans-Serif\" font-size=\"14.00\" fill=\"#000000\">samples = 2</text>\n<text text-anchor=\"middle\" x=\"709\" y=\"-22.8\" font-family=\"Helvetica,sans-Serif\" font-size=\"14.00\" fill=\"#000000\">value = [0, 0, 2]</text>\n<text text-anchor=\"middle\" x=\"709\" y=\"-7.8\" font-family=\"Helvetica,sans-Serif\" font-size=\"14.00\" fill=\"#000000\">class = virginica</text>\n</g>\n<!-- 13&#45;&gt;15 -->\n<g id=\"edge15\" class=\"edge\">\n<title>13&#45;&gt;15</title>\n<path fill=\"none\" stroke=\"#000000\" d=\"M628.6625,-103.9815C639.5297,-94.5151 651.0705,-84.462 661.9135,-75.0168\"/>\n<polygon fill=\"#000000\" stroke=\"#000000\" points=\"664.4245,-77.4712 669.6659,-68.2637 659.8266,-72.1929 664.4245,-77.4712\"/>\n</g>\n</g>\n</svg>\n"
          },
          "metadata": {},
          "execution_count": 3
        }
      ]
    },
    {
      "cell_type": "markdown",
      "source": [
        "피처 중요도를 출력해보겠습니다."
      ],
      "metadata": {
        "id": "x0G8Xc_1netP"
      }
    },
    {
      "cell_type": "code",
      "source": [
        "import seaborn as sns\n",
        "import matplotlib.pyplot as plt\n",
        "import numpy as np\n",
        "%matplotlib inline\n",
        "\n",
        "print('Feature importances:\\n{}'.format(np.round(dt_clf.feature_importances_, 3)))\n",
        "\n",
        "for name, value in zip(iris_data.feature_names, dt_clf.feature_importances_):\n",
        "    print('{}: {:.3f}'.format(name, value))\n",
        "\n",
        "sns.barplot(x=dt_clf.feature_importances_, y=iris_data.feature_names)\n",
        "plt.show()"
      ],
      "metadata": {
        "colab": {
          "base_uri": "https://localhost:8080/",
          "height": 369
        },
        "id": "4rogs7IIlBdf",
        "outputId": "e6557997-e3ff-4cc6-8891-814799119b44"
      },
      "execution_count": 4,
      "outputs": [
        {
          "output_type": "stream",
          "name": "stdout",
          "text": [
            "Feature importances:\n",
            "[0.025 0.    0.555 0.42 ]\n",
            "sepal length (cm): 0.025\n",
            "sepal width (cm): 0.000\n",
            "petal length (cm): 0.555\n",
            "petal width (cm): 0.420\n"
          ]
        },
        {
          "output_type": "display_data",
          "data": {
            "text/plain": [
              "<Figure size 432x288 with 1 Axes>"
            ],
            "image/png": "[encoded data removed]"
          },
          "metadata": {
            "needs_background": "light"
          }
        }
      ]
    },
    {
      "cell_type": "markdown",
      "source": [
        "## **2.4. 결정 트리 과적합(overfitting)**"
      ],
      "metadata": {
        "id": "gABNBBDCZ7Hc"
      }
    },
    {
      "cell_type": "markdown",
      "source": [
        "`make_classification()` 함수를 사용하여 피처 2개가 클래스 값을 3개만큼 가진 임의의 데이터 세트를 만들고 그래프로 시각화하겠습니다."
      ],
      "metadata": {
        "id": "tD0HyV_CD3J7"
      }
    },
    {
      "cell_type": "code",
      "source": [
        "from sklearn.datasets import make_classification\n",
        "\n",
        "plt.title('3 Class values with 2 Featrues Sample data creation')\n",
        "X_features, y_labels = make_classification(n_features=2, n_redundant=0, n_informative=2,\n",
        "                                           n_classes=3, n_clusters_per_class=1, random_state=0)\n",
        "plt.scatter(X_features[:, 0], X_features[:, 1], marker='o', c=y_labels, s=25, edgecolor='k')\n",
        "plt.show()"
      ],
      "metadata": {
        "colab": {
          "base_uri": "https://localhost:8080/",
          "height": 281
        },
        "id": "ydbJeil-nrpk",
        "outputId": "2496cc57-0d62-4c6e-c353-edd5432b3319"
      },
      "execution_count": 5,
      "outputs": [
        {
          "output_type": "display_data",
          "data": {
            "text/plain": [
              "<Figure size 432x288 with 1 Axes>"
            ],
            "image/png": "[encoded data removed]"
          },
          "metadata": {
            "needs_background": "light"
          }
        }
      ]
    },
    {
      "cell_type": "markdown",
      "source": [
        "본서의 부록에서 가져온 시각화 함수를 사용하여 결정 기준 경계를 시각화해보겠습니다. 먼저 분류기의 하이퍼 파라미터를 기본값으로 학습시키고 구현하겠습니다."
      ],
      "metadata": {
        "id": "XmIo4st6FSuv"
      }
    },
    {
      "cell_type": "code",
      "source": [
        "# Classifier의 Decision Boundary를 시각화 하는 함수입니다.\n",
        "def visualize_boundary(model, X, y):\n",
        "    fig, ax = plt.subplots()\n",
        "    \n",
        "    # 학습 데이터를 scatter plot으로 나타냅니다.\n",
        "    ax.scatter(X[:, 0], X[:, 1], c=y, s=25, cmap='rainbow', edgecolor='k',\n",
        "               clim=(y.min(), y.max()), zorder=3)\n",
        "    ax.axis('tight')\n",
        "    ax.axis('off')\n",
        "    xlim_start, xlim_end = ax.get_xlim()\n",
        "    ylim_start, ylim_end = ax.get_ylim()\n",
        "    \n",
        "    # 호출 파라미터로 들어온 학습 데이터로 모델을 학습합니다.\n",
        "    model.fit(X, y)\n",
        "    # `meshgrid` 형태인 모든 좌표값으로 예측을 수행합니다. \n",
        "    xx, yy = np.meshgrid(np.linspace(xlim_start, xlim_end, num=200), np.linspace(ylim_start, ylim_end, num=200))\n",
        "    Z = model.predict(np.c_[xx.ravel(), yy.ravel()]).reshape(xx.shape)\n",
        "    \n",
        "    # `contourf()` 메서드를 이용하여 class boundary를 시각화합니다.\n",
        "    n_classes = len(np.unique(y))\n",
        "    contours = ax.contourf(xx, yy, Z, alpha=0.3,\n",
        "                           levels=np.arange(n_classes + 1) - 0.5,\n",
        "                           cmap='rainbow', clim=(y.min(), y.max()),\n",
        "                           zorder=1)"
      ],
      "metadata": {
        "id": "sumZzDDqC36T"
      },
      "execution_count": 6,
      "outputs": []
    },
    {
      "cell_type": "code",
      "source": [
        "dt_clf = DecisionTreeClassifier().fit(X_features, y_labels)\n",
        "visualize_boundary(dt_clf, X_features, y_labels)"
      ],
      "metadata": {
        "colab": {
          "base_uri": "https://localhost:8080/",
          "height": 248
        },
        "id": "Dig_BO15CO3o",
        "outputId": "373abbc2-5cae-4603-f3b4-319ac0c521b9"
      },
      "execution_count": 7,
      "outputs": [
        {
          "output_type": "display_data",
          "data": {
            "text/plain": [
              "<Figure size 432x288 with 1 Axes>"
            ],
            "image/png": "[encoded data removed]"
          },
          "metadata": {
            "needs_background": "light"
          }
        }
      ]
    },
    {
      "cell_type": "markdown",
      "source": [
        "이상치(Outlier)까지 분류하기 위해 분할이 자주 일어나서 결정 기준 경계가 많습니다. 하이퍼 파라미터를 기본값으로 학습한 모델은 리프 노드 안에 데이터가 모두 균일하거나 하나만 존재해야 하는 엄격한 기준을 가지고 있습니다. 과대적합을 의미합니다. \n",
        "\n",
        "하이퍼 파라미터를 조금 조정하여 시각화해보겠습니다."
      ],
      "metadata": {
        "id": "DgMYCdEQF2f3"
      }
    },
    {
      "cell_type": "code",
      "source": [
        "dt_clf = DecisionTreeClassifier(min_samples_leaf=6).fit(X_features, y_labels)\n",
        "visualize_boundary(dt_clf, X_features, y_labels)"
      ],
      "metadata": {
        "colab": {
          "base_uri": "https://localhost:8080/",
          "height": 248
        },
        "id": "seHT8km-DgiS",
        "outputId": "5c45926d-2759-4f05-e0c6-f2b75c276354"
      },
      "execution_count": 8,
      "outputs": [
        {
          "output_type": "display_data",
          "data": {
            "text/plain": [
              "<Figure size 432x288 with 1 Axes>"
            ],
            "image/png": "[encoded data removed]"
          },
          "metadata": {
            "needs_background": "light"
          }
        }
      ]
    },
    {
      "cell_type": "markdown",
      "source": [
        "이상치에 민감하지 않은 모델입니다. 이 모델이 과대적합된 위 모델보다 더 나은 예측 성능을 낼 것입니다. "
      ],
      "metadata": {
        "id": "9RoVdEGyGuUi"
      }
    },
    {
      "cell_type": "markdown",
      "source": [
        "## **2.5. 결정 트리 실습 - 사용자 행동 인식 데이터 세트**"
      ],
      "metadata": {
        "id": "T4Rf0i9zZ7Ez"
      }
    },
    {
      "cell_type": "markdown",
      "source": [
        "[UCI 머신러닝 리포지토리의 사용자 행동 인식 데이터 세트](https://archive.ics.uci.edu/ml/datasets/Human+Activity+Recognition+Using+Smartphones)에 대한 예측 분류를 수행하겠습니다. 이 데이터는 피실험자 30명에게 스마트폰 센서를 장착시키고 동작과 관련된 여러 피처를 수집한 것입니다.\n",
        "\n",
        "먼저 피처 종류를 확인해보겠습니다."
      ],
      "metadata": {
        "id": "kReb5vmqCxBv"
      }
    },
    {
      "cell_type": "code",
      "source": [
        "from google.colab import drive\n",
        "drive.mount('/content/gdrive/')\n",
        "import pandas as pd\n",
        "import matplotlib.pyplot as plt\n",
        "%matplotlib inline"
      ],
      "metadata": {
        "colab": {
          "base_uri": "https://localhost:8080/"
        },
        "id": "qlozzvYThyi1",
        "outputId": "938137ce-9f20-47a9-9364-59d2b653aad5"
      },
      "execution_count": 9,
      "outputs": [
        {
          "output_type": "stream",
          "name": "stdout",
          "text": [
            "Mounted at /content/gdrive/\n"
          ]
        }
      ]
    },
    {
      "cell_type": "code",
      "source": [
        "feature_name_df = pd.read_csv('/content/gdrive/MyDrive/UCI HAR Dataset/UCI HAR Dataset/features.txt',\n",
        "                              sep='\\s+', header=None, names=['column_index', 'column_name'])\n",
        "feature_name = feature_name_df.iloc[:, 1].values.tolist()\n",
        "print('전체 피처명에서 10개만 추출:', feature_name[:10])"
      ],
      "metadata": {
        "colab": {
          "base_uri": "https://localhost:8080/"
        },
        "id": "Ilx4LyuR-egb",
        "outputId": "5b1802d4-bbd2-425d-f3d9-10137e33bd6d"
      },
      "execution_count": 10,
      "outputs": [
        {
          "output_type": "stream",
          "name": "stdout",
          "text": [
            "전체 피처명에서 10개만 추출: ['tBodyAcc-mean()-X', 'tBodyAcc-mean()-Y', 'tBodyAcc-mean()-Z', 'tBodyAcc-std()-X', 'tBodyAcc-std()-Y', 'tBodyAcc-std()-Z', 'tBodyAcc-mad()-X', 'tBodyAcc-mad()-Y', 'tBodyAcc-mad()-Z', 'tBodyAcc-max()-X']\n"
          ]
        }
      ]
    },
    {
      "cell_type": "markdown",
      "source": [
        "인체 움직임과 관련된 속성의 평균/표준편차가 X축, Y축, Z축 값으로 되어있습니다. 중복된 피처가 있는지 확인해보겠습니다."
      ],
      "metadata": {
        "id": "-n5Si3QUDyaU"
      }
    },
    {
      "cell_type": "code",
      "source": [
        "feature_dup_df = feature_name_df.groupby('column_name').count()\n",
        "print(feature_dup_df[feature_dup_df['column_index'] > 1].count())\n",
        "feature_dup_df[feature_dup_df['column_index'] > 1].head()"
      ],
      "metadata": {
        "colab": {
          "base_uri": "https://localhost:8080/",
          "height": 272
        },
        "id": "fNoTFJejEDiU",
        "outputId": "fabd5ced-8c5a-4a89-de6f-f060633a1aa2"
      },
      "execution_count": 11,
      "outputs": [
        {
          "output_type": "stream",
          "name": "stdout",
          "text": [
            "column_index    42\n",
            "dtype: int64\n"
          ]
        },
        {
          "output_type": "execute_result",
          "data": {
            "text/plain": [
              "                              column_index\n",
              "column_name                               \n",
              "fBodyAcc-bandsEnergy()-1,16              3\n",
              "fBodyAcc-bandsEnergy()-1,24              3\n",
              "fBodyAcc-bandsEnergy()-1,8               3\n",
              "fBodyAcc-bandsEnergy()-17,24             3\n",
              "fBodyAcc-bandsEnergy()-17,32             3"
            ],
            "text/html": [
              "\n",
              "  <div id=\"df-1f6558e1-621d-454d-9197-6d8856b3bd82\">\n",
              "    <div class=\"colab-df-container\">\n",
              "      <div>\n",
              "<style scoped>\n",
              "    .dataframe tbody tr th:only-of-type {\n",
              "        vertical-align: middle;\n",
              "    }\n",
              "\n",
              "    .dataframe tbody tr th {\n",
              "        vertical-align: top;\n",
              "    }\n",
              "\n",
              "    .dataframe thead th {\n",
              "        text-align: right;\n",
              "    }\n",
              "</style>\n",
              "<table border=\"1\" class=\"dataframe\">\n",
              "  <thead>\n",
              "    <tr style=\"text-align: right;\">\n",
              "      <th></th>\n",
              "      <th>column_index</th>\n",
              "    </tr>\n",
              "    <tr>\n",
              "      <th>column_name</th>\n",
              "      <th></th>\n",
              "    </tr>\n",
              "  </thead>\n",
              "  <tbody>\n",
              "    <tr>\n",
              "      <th>fBodyAcc-bandsEnergy()-1,16</th>\n",
              "      <td>3</td>\n",
              "    </tr>\n",
              "    <tr>\n",
              "      <th>fBodyAcc-bandsEnergy()-1,24</th>\n",
              "      <td>3</td>\n",
              "    </tr>\n",
              "    <tr>\n",
              "      <th>fBodyAcc-bandsEnergy()-1,8</th>\n",
              "      <td>3</td>\n",
              "    </tr>\n",
              "    <tr>\n",
              "      <th>fBodyAcc-bandsEnergy()-17,24</th>\n",
              "      <td>3</td>\n",
              "    </tr>\n",
              "    <tr>\n",
              "      <th>fBodyAcc-bandsEnergy()-17,32</th>\n",
              "      <td>3</td>\n",
              "    </tr>\n",
              "  </tbody>\n",
              "</table>\n",
              "</div>\n",
              "      <button class=\"colab-df-convert\" onclick=\"convertToInteractive('df-1f6558e1-621d-454d-9197-6d8856b3bd82')\"\n",
              "              title=\"Convert this dataframe to an interactive table.\"\n",
              "              style=\"display:none;\">\n",
              "        \n",
              "  <svg xmlns=\"http://www.w3.org/2000/svg\" height=\"24px\"viewBox=\"0 0 24 24\"\n",
              "       width=\"24px\">\n",
              "    <path d=\"M0 0h24v24H0V0z\" fill=\"none\"/>\n",
              "    <path d=\"M18.56 5.44l.94 2.06.94-2.06 2.06-.94-2.06-.94-.94-2.06-.94 2.06-2.06.94zm-11 1L8.5 8.5l.94-2.06 2.06-.94-2.06-.94L8.5 2.5l-.94 2.06-2.06.94zm10 10l.94 2.06.94-2.06 2.06-.94-2.06-.94-.94-2.06-.94 2.06-2.06.94z\"/><path d=\"M17.41 7.96l-1.37-1.37c-.4-.4-.92-.59-1.43-.59-.52 0-1.04.2-1.43.59L10.3 9.45l-7.72 7.72c-.78.78-.78 2.05 0 2.83L4 21.41c.39.39.9.59 1.41.59.51 0 1.02-.2 1.41-.59l7.78-7.78 2.81-2.81c.8-.78.8-2.07 0-2.86zM5.41 20L4 18.59l7.72-7.72 1.47 1.35L5.41 20z\"/>\n",
              "  </svg>\n",
              "      </button>\n",
              "      \n",
              "  <style>\n",
              "    .colab-df-container {\n",
              "      display:flex;\n",
              "      flex-wrap:wrap;\n",
              "      gap: 12px;\n",
              "    }\n",
              "\n",
              "    .colab-df-convert {\n",
              "      background-color: #E8F0FE;\n",
              "      border: none;\n",
              "      border-radius: 50%;\n",
              "      cursor: pointer;\n",
              "      display: none;\n",
              "      fill: #1967D2;\n",
              "      height: 32px;\n",
              "      padding: 0 0 0 0;\n",
              "      width: 32px;\n",
              "    }\n",
              "\n",
              "    .colab-df-convert:hover {\n",
              "      background-color: #E2EBFA;\n",
              "      box-shadow: 0px 1px 2px rgba(60, 64, 67, 0.3), 0px 1px 3px 1px rgba(60, 64, 67, 0.15);\n",
              "      fill: #174EA6;\n",
              "    }\n",
              "\n",
              "    [theme=dark] .colab-df-convert {\n",
              "      background-color: #3B4455;\n",
              "      fill: #D2E3FC;\n",
              "    }\n",
              "\n",
              "    [theme=dark] .colab-df-convert:hover {\n",
              "      background-color: #434B5C;\n",
              "      box-shadow: 0px 1px 3px 1px rgba(0, 0, 0, 0.15);\n",
              "      filter: drop-shadow(0px 1px 2px rgba(0, 0, 0, 0.3));\n",
              "      fill: #FFFFFF;\n",
              "    }\n",
              "  </style>\n",
              "\n",
              "      <script>\n",
              "        const buttonEl =\n",
              "          document.querySelector('#df-1f6558e1-621d-454d-9197-6d8856b3bd82 button.colab-df-convert');\n",
              "        buttonEl.style.display =\n",
              "          google.colab.kernel.accessAllowed ? 'block' : 'none';\n",
              "\n",
              "        async function convertToInteractive(key) {\n",
              "          const element = document.querySelector('#df-1f6558e1-621d-454d-9197-6d8856b3bd82');\n",
              "          const dataTable =\n",
              "            await google.colab.kernel.invokeFunction('convertToInteractive',\n",
              "                                                     [key], {});\n",
              "          if (!dataTable) return;\n",
              "\n",
              "          const docLinkHtml = 'Like what you see? Visit the ' +\n",
              "            '<a target=\"_blank\" href=https://colab.research.google.com/notebooks/data_table.ipynb>data table notebook</a>'\n",
              "            + ' to learn more about interactive tables.';\n",
              "          element.innerHTML = '';\n",
              "          dataTable['output_type'] = 'display_data';\n",
              "          await google.colab.output.renderOutput(dataTable, element);\n",
              "          const docLink = document.createElement('div');\n",
              "          docLink.innerHTML = docLinkHtml;\n",
              "          element.appendChild(docLink);\n",
              "        }\n",
              "      </script>\n",
              "    </div>\n",
              "  </div>\n",
              "  "
            ]
          },
          "metadata": {},
          "execution_count": 11
        }
      ]
    },
    {
      "cell_type": "markdown",
      "source": [
        "피처 42개가 중복되어 있습니다. 이 중복된 피처에 _1이나 _2를 붙여서 새 피처를 갖도록 만드는 함수를 선언하겠습니다."
      ],
      "metadata": {
        "id": "Wk7VbPRXIrxm"
      }
    },
    {
      "cell_type": "code",
      "source": [
        "def get_new_feature_name_df(old_feature_name_df):\n",
        "    feature_dup_df = pd.DataFrame(data=old_feature_name_df.groupby('column_name').cumcount(),\n",
        "                                  columns=['dup_cnt'])\n",
        "    feature_dup_df = feature_dup_df.reset_index()\n",
        "    new_feature_name_df = pd.merge(old_feature_name_df.reset_index(), feature_dup_df, how='outer')\n",
        "    new_feature_name_df['column_name'] = new_feature_name_df[['column_name', 'dup_cnt']].apply(\n",
        "        lambda x: x[0] + '_' + str(x[1]) if x[1] > 0 else x[0], axis=1)\n",
        "    new_feature_name_df = new_feature_name_df.drop(['index'], axis=1)\n",
        "    return new_feature_name_df"
      ],
      "metadata": {
        "id": "SZD95I9fI8GV"
      },
      "execution_count": 12,
      "outputs": []
    },
    {
      "cell_type": "markdown",
      "source": [
        "데이터셋의 데이터프레임을 생성하는 함수를 선언하겠습니다."
      ],
      "metadata": {
        "id": "LlPrVftCNBqm"
      }
    },
    {
      "cell_type": "code",
      "source": [
        "def get_human_dataset():\n",
        "    feature_name_df = pd.read_csv('/content/gdrive/MyDrive/UCI HAR Dataset/UCI HAR Dataset/features.txt',\n",
        "                              sep='\\s+', header=None, names=['column_index', 'column_name'])\n",
        "    # 중복된 피처를 수정하는 `get_new_feature_name_df()` 함수를 호출하여\n",
        "    # 새 피처를 가진 데이터프레임을 생성합니다.\n",
        "    new_feature_name_df = get_new_feature_name_df(feature_name_df)\n",
        "    # 데이터프레임에 피처명을 칼럼으로 부여하기 위해 리스트 객체로 변환합니다.\n",
        "    feature_name = new_feature_name_df.iloc[:, 1].values.tolist()\n",
        "\n",
        "    X_train = pd.read_csv('/content/gdrive/MyDrive/UCI HAR Dataset/UCI HAR Dataset/train/X_train.txt',\n",
        "                          sep='\\s+', names=feature_name)\n",
        "    X_test = pd.read_csv('/content/gdrive/MyDrive/UCI HAR Dataset/UCI HAR Dataset/test/X_test.txt',\n",
        "                          sep='\\s+', names=feature_name)\n",
        "    y_train = pd.read_csv('/content/gdrive/MyDrive/UCI HAR Dataset/UCI HAR Dataset/train/y_train.txt',\n",
        "                          sep='\\s+', header=None, names=['action'])\n",
        "    y_test = pd.read_csv('/content/gdrive/MyDrive/UCI HAR Dataset/UCI HAR Dataset/test/y_test.txt',\n",
        "                          sep='\\s+', header=None, names=['action'])\n",
        "    return X_train, X_test, y_train, y_test"
      ],
      "metadata": {
        "id": "llMLPjJJKlkv"
      },
      "execution_count": 13,
      "outputs": []
    },
    {
      "cell_type": "markdown",
      "source": [
        "로드한 학습용 피처 데이터 세트를 확인해보겠습니다."
      ],
      "metadata": {
        "id": "3-JnU1iaOkMs"
      }
    },
    {
      "cell_type": "code",
      "source": [
        "X_train, X_test, y_train, y_test = get_human_dataset()\n",
        "print('학습 피처 데이터셋 info()')\n",
        "print(X_train.info())"
      ],
      "metadata": {
        "colab": {
          "base_uri": "https://localhost:8080/"
        },
        "id": "GmEmFkz4MMWv",
        "outputId": "a8e68e98-fc89-4fa4-9b5c-e713415384ca"
      },
      "execution_count": 14,
      "outputs": [
        {
          "output_type": "stream",
          "name": "stdout",
          "text": [
            "학습 피처 데이터셋 info()\n",
            "<class 'pandas.core.frame.DataFrame'>\n",
            "RangeIndex: 7352 entries, 0 to 7351\n",
            "Columns: 561 entries, tBodyAcc-mean()-X to angle(Z,gravityMean)\n",
            "dtypes: float64(561)\n",
            "memory usage: 31.5 MB\n",
            "None\n"
          ]
        }
      ]
    },
    {
      "cell_type": "markdown",
      "source": [
        "학습 데이터 세트는 레코드 7352개와 피처 561개로 구성되어 있습니다. 전체 피처가 float형이므로 카테고리 인코딩을 따로 수행하지 않아도 됩니다.\n",
        "\n",
        "학습 데이터 세트의 칼럼을 확인해보겠습니다."
      ],
      "metadata": {
        "id": "7qaX05KYOtZO"
      }
    },
    {
      "cell_type": "code",
      "source": [
        "X_train.head(3)"
      ],
      "metadata": {
        "colab": {
          "base_uri": "https://localhost:8080/",
          "height": 254
        },
        "id": "PXud2WrH188v",
        "outputId": "14879a96-a641-4731-b395-f54a4d504777"
      },
      "execution_count": 15,
      "outputs": [
        {
          "output_type": "execute_result",
          "data": {
            "text/plain": [
              "   tBodyAcc-mean()-X  tBodyAcc-mean()-Y  tBodyAcc-mean()-Z  tBodyAcc-std()-X  \\\n",
              "0           0.288585          -0.020294          -0.132905         -0.995279   \n",
              "1           0.278419          -0.016411          -0.123520         -0.998245   \n",
              "2           0.279653          -0.019467          -0.113462         -0.995380   \n",
              "\n",
              "   tBodyAcc-std()-Y  tBodyAcc-std()-Z  tBodyAcc-mad()-X  tBodyAcc-mad()-Y  \\\n",
              "0         -0.983111         -0.913526         -0.995112         -0.983185   \n",
              "1         -0.975300         -0.960322         -0.998807         -0.974914   \n",
              "2         -0.967187         -0.978944         -0.996520         -0.963668   \n",
              "\n",
              "   tBodyAcc-mad()-Z  tBodyAcc-max()-X  ...  fBodyBodyGyroJerkMag-meanFreq()  \\\n",
              "0         -0.923527         -0.934724  ...                        -0.074323   \n",
              "1         -0.957686         -0.943068  ...                         0.158075   \n",
              "2         -0.977469         -0.938692  ...                         0.414503   \n",
              "\n",
              "   fBodyBodyGyroJerkMag-skewness()  fBodyBodyGyroJerkMag-kurtosis()  \\\n",
              "0                        -0.298676                        -0.710304   \n",
              "1                        -0.595051                        -0.861499   \n",
              "2                        -0.390748                        -0.760104   \n",
              "\n",
              "   angle(tBodyAccMean,gravity)  angle(tBodyAccJerkMean),gravityMean)  \\\n",
              "0                    -0.112754                              0.030400   \n",
              "1                     0.053477                             -0.007435   \n",
              "2                    -0.118559                              0.177899   \n",
              "\n",
              "   angle(tBodyGyroMean,gravityMean)  angle(tBodyGyroJerkMean,gravityMean)  \\\n",
              "0                         -0.464761                             -0.018446   \n",
              "1                         -0.732626                              0.703511   \n",
              "2                          0.100699                              0.808529   \n",
              "\n",
              "   angle(X,gravityMean)  angle(Y,gravityMean)  angle(Z,gravityMean)  \n",
              "0             -0.841247              0.179941             -0.058627  \n",
              "1             -0.844788              0.180289             -0.054317  \n",
              "2             -0.848933              0.180637             -0.049118  \n",
              "\n",
              "[3 rows x 561 columns]"
            ],
            "text/html": [
              "\n",
              "  <div id=\"df-e4db510f-845c-456c-aa4d-9874e615c1ca\">\n",
              "    <div class=\"colab-df-container\">\n",
              "      <div>\n",
              "<style scoped>\n",
              "    .dataframe tbody tr th:only-of-type {\n",
              "        vertical-align: middle;\n",
              "    }\n",
              "\n",
              "    .dataframe tbody tr th {\n",
              "        vertical-align: top;\n",
              "    }\n",
              "\n",
              "    .dataframe thead th {\n",
              "        text-align: right;\n",
              "    }\n",
              "</style>\n",
              "<table border=\"1\" class=\"dataframe\">\n",
              "  <thead>\n",
              "    <tr style=\"text-align: right;\">\n",
              "      <th></th>\n",
              "      <th>tBodyAcc-mean()-X</th>\n",
              "      <th>tBodyAcc-mean()-Y</th>\n",
              "      <th>tBodyAcc-mean()-Z</th>\n",
              "      <th>tBodyAcc-std()-X</th>\n",
              "      <th>tBodyAcc-std()-Y</th>\n",
              "      <th>tBodyAcc-std()-Z</th>\n",
              "      <th>tBodyAcc-mad()-X</th>\n",
              "      <th>tBodyAcc-mad()-Y</th>\n",
              "      <th>tBodyAcc-mad()-Z</th>\n",
              "      <th>tBodyAcc-max()-X</th>\n",
              "      <th>...</th>\n",
              "      <th>fBodyBodyGyroJerkMag-meanFreq()</th>\n",
              "      <th>fBodyBodyGyroJerkMag-skewness()</th>\n",
              "      <th>fBodyBodyGyroJerkMag-kurtosis()</th>\n",
              "      <th>angle(tBodyAccMean,gravity)</th>\n",
              "      <th>angle(tBodyAccJerkMean),gravityMean)</th>\n",
              "      <th>angle(tBodyGyroMean,gravityMean)</th>\n",
              "      <th>angle(tBodyGyroJerkMean,gravityMean)</th>\n",
              "      <th>angle(X,gravityMean)</th>\n",
              "      <th>angle(Y,gravityMean)</th>\n",
              "      <th>angle(Z,gravityMean)</th>\n",
              "    </tr>\n",
              "  </thead>\n",
              "  <tbody>\n",
              "    <tr>\n",
              "      <th>0</th>\n",
              "      <td>0.288585</td>\n",
              "      <td>-0.020294</td>\n",
              "      <td>-0.132905</td>\n",
              "      <td>-0.995279</td>\n",
              "      <td>-0.983111</td>\n",
              "      <td>-0.913526</td>\n",
              "      <td>-0.995112</td>\n",
              "      <td>-0.983185</td>\n",
              "      <td>-0.923527</td>\n",
              "      <td>-0.934724</td>\n",
              "      <td>...</td>\n",
              "      <td>-0.074323</td>\n",
              "      <td>-0.298676</td>\n",
              "      <td>-0.710304</td>\n",
              "      <td>-0.112754</td>\n",
              "      <td>0.030400</td>\n",
              "      <td>-0.464761</td>\n",
              "      <td>-0.018446</td>\n",
              "      <td>-0.841247</td>\n",
              "      <td>0.179941</td>\n",
              "      <td>-0.058627</td>\n",
              "    </tr>\n",
              "    <tr>\n",
              "      <th>1</th>\n",
              "      <td>0.278419</td>\n",
              "      <td>-0.016411</td>\n",
              "      <td>-0.123520</td>\n",
              "      <td>-0.998245</td>\n",
              "      <td>-0.975300</td>\n",
              "      <td>-0.960322</td>\n",
              "      <td>-0.998807</td>\n",
              "      <td>-0.974914</td>\n",
              "      <td>-0.957686</td>\n",
              "      <td>-0.943068</td>\n",
              "      <td>...</td>\n",
              "      <td>0.158075</td>\n",
              "      <td>-0.595051</td>\n",
              "      <td>-0.861499</td>\n",
              "      <td>0.053477</td>\n",
              "      <td>-0.007435</td>\n",
              "      <td>-0.732626</td>\n",
              "      <td>0.703511</td>\n",
              "      <td>-0.844788</td>\n",
              "      <td>0.180289</td>\n",
              "      <td>-0.054317</td>\n",
              "    </tr>\n",
              "    <tr>\n",
              "      <th>2</th>\n",
              "      <td>0.279653</td>\n",
              "      <td>-0.019467</td>\n",
              "      <td>-0.113462</td>\n",
              "      <td>-0.995380</td>\n",
              "      <td>-0.967187</td>\n",
              "      <td>-0.978944</td>\n",
              "      <td>-0.996520</td>\n",
              "      <td>-0.963668</td>\n",
              "      <td>-0.977469</td>\n",
              "      <td>-0.938692</td>\n",
              "      <td>...</td>\n",
              "      <td>0.414503</td>\n",
              "      <td>-0.390748</td>\n",
              "      <td>-0.760104</td>\n",
              "      <td>-0.118559</td>\n",
              "      <td>0.177899</td>\n",
              "      <td>0.100699</td>\n",
              "      <td>0.808529</td>\n",
              "      <td>-0.848933</td>\n",
              "      <td>0.180637</td>\n",
              "      <td>-0.049118</td>\n",
              "    </tr>\n",
              "  </tbody>\n",
              "</table>\n",
              "<p>3 rows × 561 columns</p>\n",
              "</div>\n",
              "      <button class=\"colab-df-convert\" onclick=\"convertToInteractive('df-e4db510f-845c-456c-aa4d-9874e615c1ca')\"\n",
              "              title=\"Convert this dataframe to an interactive table.\"\n",
              "              style=\"display:none;\">\n",
              "        \n",
              "  <svg xmlns=\"http://www.w3.org/2000/svg\" height=\"24px\"viewBox=\"0 0 24 24\"\n",
              "       width=\"24px\">\n",
              "    <path d=\"M0 0h24v24H0V0z\" fill=\"none\"/>\n",
              "    <path d=\"M18.56 5.44l.94 2.06.94-2.06 2.06-.94-2.06-.94-.94-2.06-.94 2.06-2.06.94zm-11 1L8.5 8.5l.94-2.06 2.06-.94-2.06-.94L8.5 2.5l-.94 2.06-2.06.94zm10 10l.94 2.06.94-2.06 2.06-.94-2.06-.94-.94-2.06-.94 2.06-2.06.94z\"/><path d=\"M17.41 7.96l-1.37-1.37c-.4-.4-.92-.59-1.43-.59-.52 0-1.04.2-1.43.59L10.3 9.45l-7.72 7.72c-.78.78-.78 2.05 0 2.83L4 21.41c.39.39.9.59 1.41.59.51 0 1.02-.2 1.41-.59l7.78-7.78 2.81-2.81c.8-.78.8-2.07 0-2.86zM5.41 20L4 18.59l7.72-7.72 1.47 1.35L5.41 20z\"/>\n",
              "  </svg>\n",
              "      </button>\n",
              "      \n",
              "  <style>\n",
              "    .colab-df-container {\n",
              "      display:flex;\n",
              "      flex-wrap:wrap;\n",
              "      gap: 12px;\n",
              "    }\n",
              "\n",
              "    .colab-df-convert {\n",
              "      background-color: #E8F0FE;\n",
              "      border: none;\n",
              "      border-radius: 50%;\n",
              "      cursor: pointer;\n",
              "      display: none;\n",
              "      fill: #1967D2;\n",
              "      height: 32px;\n",
              "      padding: 0 0 0 0;\n",
              "      width: 32px;\n",
              "    }\n",
              "\n",
              "    .colab-df-convert:hover {\n",
              "      background-color: #E2EBFA;\n",
              "      box-shadow: 0px 1px 2px rgba(60, 64, 67, 0.3), 0px 1px 3px 1px rgba(60, 64, 67, 0.15);\n",
              "      fill: #174EA6;\n",
              "    }\n",
              "\n",
              "    [theme=dark] .colab-df-convert {\n",
              "      background-color: #3B4455;\n",
              "      fill: #D2E3FC;\n",
              "    }\n",
              "\n",
              "    [theme=dark] .colab-df-convert:hover {\n",
              "      background-color: #434B5C;\n",
              "      box-shadow: 0px 1px 3px 1px rgba(0, 0, 0, 0.15);\n",
              "      filter: drop-shadow(0px 1px 2px rgba(0, 0, 0, 0.3));\n",
              "      fill: #FFFFFF;\n",
              "    }\n",
              "  </style>\n",
              "\n",
              "      <script>\n",
              "        const buttonEl =\n",
              "          document.querySelector('#df-e4db510f-845c-456c-aa4d-9874e615c1ca button.colab-df-convert');\n",
              "        buttonEl.style.display =\n",
              "          google.colab.kernel.accessAllowed ? 'block' : 'none';\n",
              "\n",
              "        async function convertToInteractive(key) {\n",
              "          const element = document.querySelector('#df-e4db510f-845c-456c-aa4d-9874e615c1ca');\n",
              "          const dataTable =\n",
              "            await google.colab.kernel.invokeFunction('convertToInteractive',\n",
              "                                                     [key], {});\n",
              "          if (!dataTable) return;\n",
              "\n",
              "          const docLinkHtml = 'Like what you see? Visit the ' +\n",
              "            '<a target=\"_blank\" href=https://colab.research.google.com/notebooks/data_table.ipynb>data table notebook</a>'\n",
              "            + ' to learn more about interactive tables.';\n",
              "          element.innerHTML = '';\n",
              "          dataTable['output_type'] = 'display_data';\n",
              "          await google.colab.output.renderOutput(dataTable, element);\n",
              "          const docLink = document.createElement('div');\n",
              "          docLink.innerHTML = docLinkHtml;\n",
              "          element.appendChild(docLink);\n",
              "        }\n",
              "      </script>\n",
              "    </div>\n",
              "  </div>\n",
              "  "
            ]
          },
          "metadata": {},
          "execution_count": 15
        }
      ]
    },
    {
      "cell_type": "markdown",
      "source": [
        "칼럼 대부분은 움직임 위치와 관련된 속성입니다.\n",
        "\n",
        "레이블 값과 분포도를 확인해보겠습니다."
      ],
      "metadata": {
        "id": "6lK02rSW8xX7"
      }
    },
    {
      "cell_type": "code",
      "source": [
        "print(y_train['action'].value_counts())"
      ],
      "metadata": {
        "colab": {
          "base_uri": "https://localhost:8080/"
        },
        "id": "EakoSh2h-LKT",
        "outputId": "4b8dad0f-3038-4dbd-a3c5-d3cf0ad17fbe"
      },
      "execution_count": 16,
      "outputs": [
        {
          "output_type": "stream",
          "name": "stdout",
          "text": [
            "6    1407\n",
            "5    1374\n",
            "4    1286\n",
            "1    1226\n",
            "2    1073\n",
            "3     986\n",
            "Name: action, dtype: int64\n"
          ]
        }
      ]
    },
    {
      "cell_type": "markdown",
      "source": [
        "먼저 디폴트 설정으로 결정 트리 모델을 생성해보겠습니다."
      ],
      "metadata": {
        "id": "nCvMETL1_Utu"
      }
    },
    {
      "cell_type": "code",
      "source": [
        "from sklearn.tree import DecisionTreeClassifier\n",
        "from sklearn.metrics import accuracy_score\n",
        "\n",
        "dt_clf = DecisionTreeClassifier(random_state=156)\n",
        "dt_clf.fit(X_train, y_train)\n",
        "pred = dt_clf.predict(X_test)\n",
        "accuracy = accuracy_score(y_test, pred)\n",
        "\n",
        "print('결정 트리 예측 정확도: {:.4f}'.format(accuracy))\n",
        "print('DecisionTreeClassifier 기본 하이퍼 파라미터:\\n', dt_clf.get_params())"
      ],
      "metadata": {
        "colab": {
          "base_uri": "https://localhost:8080/"
        },
        "id": "eE7NaIQn-a3j",
        "outputId": "4bf85b55-4d22-4317-fe32-bbfee5828a3a"
      },
      "execution_count": 17,
      "outputs": [
        {
          "output_type": "stream",
          "name": "stdout",
          "text": [
            "결정 트리 예측 정확도: 0.8548\n",
            "DecisionTreeClassifier 기본 하이퍼 파라미터:\n",
            " {'ccp_alpha': 0.0, 'class_weight': None, 'criterion': 'gini', 'max_depth': None, 'max_features': None, 'max_leaf_nodes': None, 'min_impurity_decrease': 0.0, 'min_samples_leaf': 1, 'min_samples_split': 2, 'min_weight_fraction_leaf': 0.0, 'random_state': 156, 'splitter': 'best'}\n"
          ]
        }
      ]
    },
    {
      "cell_type": "markdown",
      "source": [
        "트리 깊이를 조정하여 정확도가 어떻게 변하는지 살펴보겠습니다. "
      ],
      "metadata": {
        "id": "a1cLu-AvA-rm"
      }
    },
    {
      "cell_type": "code",
      "source": [
        "from sklearn.model_selection import GridSearchCV\n",
        "\n",
        "# `min_samples_split`는 16으로 고정합니다.\n",
        "params = {'max_depth': [6, 8, 10, 12, 16, 20, 24],\n",
        "          'min_samples_split':[16]}\n",
        "\n",
        "grid_cv = GridSearchCV(dt_clf, param_grid=params, scoring='accuracy', cv=5, verbose=1)\n",
        "grid_cv.fit(X_train, y_train)\n",
        "print('GridSearchCV 최고 평균 정확도 수치: {:.4f}'.format(grid_cv.best_score_))\n",
        "print('GridSearchCV 최적 하이퍼 파라미터:', grid_cv.best_params_)"
      ],
      "metadata": {
        "colab": {
          "base_uri": "https://localhost:8080/"
        },
        "id": "1OArNySK_xva",
        "outputId": "16c6b226-d6d7-480e-f7ca-af01efe7ea85"
      },
      "execution_count": 18,
      "outputs": [
        {
          "output_type": "stream",
          "name": "stdout",
          "text": [
            "Fitting 5 folds for each of 7 candidates, totalling 35 fits\n",
            "GridSearchCV 최고 평균 정확도 수치: 0.8549\n",
            "GridSearchCV 최적 하이퍼 파라미터: {'max_depth': 8, 'min_samples_split': 16}\n"
          ]
        }
      ]
    },
    {
      "cell_type": "markdown",
      "source": [
        "8일 때 최고 정확도를 도출합니다.\n",
        "\n",
        "예측 성능이 어떻게 변했는지 확인해보겠습니다. 'mean_test_score'는 CV 세트 5개에서 검증용 데이터 세트의 정확도 평균 수치입니다. "
      ],
      "metadata": {
        "id": "elB3K2zqBPab"
      }
    },
    {
      "cell_type": "code",
      "source": [
        "cv_results_df = pd.DataFrame(grid_cv.cv_results_)\n",
        "cv_results_df[['param_max_depth', 'mean_test_score']]"
      ],
      "metadata": {
        "colab": {
          "base_uri": "https://localhost:8080/",
          "height": 269
        },
        "id": "_kxsfULnBeBN",
        "outputId": "2a3c3a57-8573-4aa4-906d-6168e185a0ca"
      },
      "execution_count": 19,
      "outputs": [
        {
          "output_type": "execute_result",
          "data": {
            "text/plain": [
              "  param_max_depth  mean_test_score\n",
              "0               6         0.847662\n",
              "1               8         0.854879\n",
              "2              10         0.852705\n",
              "3              12         0.845768\n",
              "4              16         0.847127\n",
              "5              20         0.848624\n",
              "6              24         0.848624"
            ],
            "text/html": [
              "\n",
              "  <div id=\"df-c7351e92-11ad-478b-83cb-e2826fe8db88\">\n",
              "    <div class=\"colab-df-container\">\n",
              "      <div>\n",
              "<style scoped>\n",
              "    .dataframe tbody tr th:only-of-type {\n",
              "        vertical-align: middle;\n",
              "    }\n",
              "\n",
              "    .dataframe tbody tr th {\n",
              "        vertical-align: top;\n",
              "    }\n",
              "\n",
              "    .dataframe thead th {\n",
              "        text-align: right;\n",
              "    }\n",
              "</style>\n",
              "<table border=\"1\" class=\"dataframe\">\n",
              "  <thead>\n",
              "    <tr style=\"text-align: right;\">\n",
              "      <th></th>\n",
              "      <th>param_max_depth</th>\n",
              "      <th>mean_test_score</th>\n",
              "    </tr>\n",
              "  </thead>\n",
              "  <tbody>\n",
              "    <tr>\n",
              "      <th>0</th>\n",
              "      <td>6</td>\n",
              "      <td>0.847662</td>\n",
              "    </tr>\n",
              "    <tr>\n",
              "      <th>1</th>\n",
              "      <td>8</td>\n",
              "      <td>0.854879</td>\n",
              "    </tr>\n",
              "    <tr>\n",
              "      <th>2</th>\n",
              "      <td>10</td>\n",
              "      <td>0.852705</td>\n",
              "    </tr>\n",
              "    <tr>\n",
              "      <th>3</th>\n",
              "      <td>12</td>\n",
              "      <td>0.845768</td>\n",
              "    </tr>\n",
              "    <tr>\n",
              "      <th>4</th>\n",
              "      <td>16</td>\n",
              "      <td>0.847127</td>\n",
              "    </tr>\n",
              "    <tr>\n",
              "      <th>5</th>\n",
              "      <td>20</td>\n",
              "      <td>0.848624</td>\n",
              "    </tr>\n",
              "    <tr>\n",
              "      <th>6</th>\n",
              "      <td>24</td>\n",
              "      <td>0.848624</td>\n",
              "    </tr>\n",
              "  </tbody>\n",
              "</table>\n",
              "</div>\n",
              "      <button class=\"colab-df-convert\" onclick=\"convertToInteractive('df-c7351e92-11ad-478b-83cb-e2826fe8db88')\"\n",
              "              title=\"Convert this dataframe to an interactive table.\"\n",
              "              style=\"display:none;\">\n",
              "        \n",
              "  <svg xmlns=\"http://www.w3.org/2000/svg\" height=\"24px\"viewBox=\"0 0 24 24\"\n",
              "       width=\"24px\">\n",
              "    <path d=\"M0 0h24v24H0V0z\" fill=\"none\"/>\n",
              "    <path d=\"M18.56 5.44l.94 2.06.94-2.06 2.06-.94-2.06-.94-.94-2.06-.94 2.06-2.06.94zm-11 1L8.5 8.5l.94-2.06 2.06-.94-2.06-.94L8.5 2.5l-.94 2.06-2.06.94zm10 10l.94 2.06.94-2.06 2.06-.94-2.06-.94-.94-2.06-.94 2.06-2.06.94z\"/><path d=\"M17.41 7.96l-1.37-1.37c-.4-.4-.92-.59-1.43-.59-.52 0-1.04.2-1.43.59L10.3 9.45l-7.72 7.72c-.78.78-.78 2.05 0 2.83L4 21.41c.39.39.9.59 1.41.59.51 0 1.02-.2 1.41-.59l7.78-7.78 2.81-2.81c.8-.78.8-2.07 0-2.86zM5.41 20L4 18.59l7.72-7.72 1.47 1.35L5.41 20z\"/>\n",
              "  </svg>\n",
              "      </button>\n",
              "      \n",
              "  <style>\n",
              "    .colab-df-container {\n",
              "      display:flex;\n",
              "      flex-wrap:wrap;\n",
              "      gap: 12px;\n",
              "    }\n",
              "\n",
              "    .colab-df-convert {\n",
              "      background-color: #E8F0FE;\n",
              "      border: none;\n",
              "      border-radius: 50%;\n",
              "      cursor: pointer;\n",
              "      display: none;\n",
              "      fill: #1967D2;\n",
              "      height: 32px;\n",
              "      padding: 0 0 0 0;\n",
              "      width: 32px;\n",
              "    }\n",
              "\n",
              "    .colab-df-convert:hover {\n",
              "      background-color: #E2EBFA;\n",
              "      box-shadow: 0px 1px 2px rgba(60, 64, 67, 0.3), 0px 1px 3px 1px rgba(60, 64, 67, 0.15);\n",
              "      fill: #174EA6;\n",
              "    }\n",
              "\n",
              "    [theme=dark] .colab-df-convert {\n",
              "      background-color: #3B4455;\n",
              "      fill: #D2E3FC;\n",
              "    }\n",
              "\n",
              "    [theme=dark] .colab-df-convert:hover {\n",
              "      background-color: #434B5C;\n",
              "      box-shadow: 0px 1px 3px 1px rgba(0, 0, 0, 0.15);\n",
              "      filter: drop-shadow(0px 1px 2px rgba(0, 0, 0, 0.3));\n",
              "      fill: #FFFFFF;\n",
              "    }\n",
              "  </style>\n",
              "\n",
              "      <script>\n",
              "        const buttonEl =\n",
              "          document.querySelector('#df-c7351e92-11ad-478b-83cb-e2826fe8db88 button.colab-df-convert');\n",
              "        buttonEl.style.display =\n",
              "          google.colab.kernel.accessAllowed ? 'block' : 'none';\n",
              "\n",
              "        async function convertToInteractive(key) {\n",
              "          const element = document.querySelector('#df-c7351e92-11ad-478b-83cb-e2826fe8db88');\n",
              "          const dataTable =\n",
              "            await google.colab.kernel.invokeFunction('convertToInteractive',\n",
              "                                                     [key], {});\n",
              "          if (!dataTable) return;\n",
              "\n",
              "          const docLinkHtml = 'Like what you see? Visit the ' +\n",
              "            '<a target=\"_blank\" href=https://colab.research.google.com/notebooks/data_table.ipynb>data table notebook</a>'\n",
              "            + ' to learn more about interactive tables.';\n",
              "          element.innerHTML = '';\n",
              "          dataTable['output_type'] = 'display_data';\n",
              "          await google.colab.output.renderOutput(dataTable, element);\n",
              "          const docLink = document.createElement('div');\n",
              "          docLink.innerHTML = docLinkHtml;\n",
              "          element.appendChild(docLink);\n",
              "        }\n",
              "      </script>\n",
              "    </div>\n",
              "  </div>\n",
              "  "
            ]
          },
          "metadata": {},
          "execution_count": 19
        }
      ]
    },
    {
      "cell_type": "markdown",
      "source": [
        "별도의 테스트 데이터 세트에서 결정 트리의 정확도를 측정해보겠습니다."
      ],
      "metadata": {
        "id": "1mdOl4NUDhyf"
      }
    },
    {
      "cell_type": "code",
      "source": [
        "max_depths = [6, 8, 10, 12, 16, 20]\n",
        "\n",
        "for depth in max_depths:\n",
        "    dt_clf = DecisionTreeClassifier(max_depth=depth, min_samples_split=16, random_state=156)\n",
        "    dt_clf.fit(X_train, y_train)\n",
        "    pred = dt_clf.predict(X_test)\n",
        "    accuracy = accuracy_score(y_test, pred)\n",
        "    print('max_depth = {}, 정확도: {:.4f}'.format(depth, accuracy))"
      ],
      "metadata": {
        "colab": {
          "base_uri": "https://localhost:8080/"
        },
        "id": "Tg8z2tZ_C1QJ",
        "outputId": "2aa56cf0-e01d-4e94-c979-e695acb82c48"
      },
      "execution_count": 20,
      "outputs": [
        {
          "output_type": "stream",
          "name": "stdout",
          "text": [
            "max_depth = 6, 정확도: 0.8551\n",
            "max_depth = 8, 정확도: 0.8717\n",
            "max_depth = 10, 정확도: 0.8599\n",
            "max_depth = 12, 정확도: 0.8571\n",
            "max_depth = 16, 정확도: 0.8599\n",
            "max_depth = 20, 정확도: 0.8565\n"
          ]
        }
      ]
    },
    {
      "cell_type": "markdown",
      "source": [
        "8일 때 정확도가 가장 높습니다. 10부터는 테스트 데이터 세트의 정확도가 감소하고 과적합 될 가능성이 커집니다.\n",
        "\n",
        "두 파라미터를 바꾸면서 성능을 튜닝해 보겠습니다."
      ],
      "metadata": {
        "id": "NC6m5V2fD33X"
      }
    },
    {
      "cell_type": "code",
      "source": [
        "params = {\n",
        "    'max_depth': [8, 12, 16, 20],\n",
        "    'min_samples_split': [16, 24]\n",
        "}\n",
        "\n",
        "grid_cv = GridSearchCV(dt_clf, param_grid=params, scoring='accuracy', cv=5, verbose=1)\n",
        "grid_cv.fit(X_train, y_train)\n",
        "print('GridSearchCV 최고 평균 정확도 수치: {:.4f}'.format(grid_cv.best_score_))\n",
        "print('GridSearchCV 최적 하이퍼 파라미터:', grid_cv.best_params_)"
      ],
      "metadata": {
        "colab": {
          "base_uri": "https://localhost:8080/"
        },
        "id": "ebzb3IjbFCMf",
        "outputId": "62c28d85-8c3b-4afc-fb18-9cf536b37cc0"
      },
      "execution_count": 21,
      "outputs": [
        {
          "output_type": "stream",
          "name": "stdout",
          "text": [
            "Fitting 5 folds for each of 8 candidates, totalling 40 fits\n",
            "GridSearchCV 최고 평균 정확도 수치: 0.8549\n",
            "GridSearchCV 최적 하이퍼 파라미터: {'max_depth': 8, 'min_samples_split': 16}\n"
          ]
        }
      ]
    },
    {
      "cell_type": "markdown",
      "source": [
        "최적 하이퍼 파라미터 모델로 테스트 데이터 세트에 대한 예측을 수행하겠습니다."
      ],
      "metadata": {
        "id": "QbLZ_ibpI5jy"
      }
    },
    {
      "cell_type": "code",
      "source": [
        "best_df_clf = grid_cv.best_estimator_\n",
        "pred1 = best_df_clf.predict(X_test)\n",
        "accuracy = accuracy_score(y_test, pred1)\n",
        "print('결정 트리 예측 정확도: {:.4f}'.format(accuracy))"
      ],
      "metadata": {
        "colab": {
          "base_uri": "https://localhost:8080/"
        },
        "id": "HBZXuImrIUhB",
        "outputId": "7be02537-4681-4549-a2a7-17d2f6113726"
      },
      "execution_count": 22,
      "outputs": [
        {
          "output_type": "stream",
          "name": "stdout",
          "text": [
            "결정 트리 예측 정확도: 0.8717\n"
          ]
        }
      ]
    },
    {
      "cell_type": "markdown",
      "source": [
        "피처 중요도를 20개까지만 막대그래프로 시각화해보겠습니다."
      ],
      "metadata": {
        "id": "ta-FvHecKa7B"
      }
    },
    {
      "cell_type": "code",
      "source": [
        "import seaborn as sns\n",
        "\n",
        "ftr_importances_values = best_df_clf.feature_importances_\n",
        "# 정렬을 쉽게 하고 시본의 막대그래프로 쉽게 표현하기 위해 시리즈로 변환합니다.\n",
        "ftr_importances = pd.Series(ftr_importances_values, index=X_train.columns)\n",
        "ftr_top20 = ftr_importances.sort_values(ascending=False)[:20]\n",
        "\n",
        "plt.figure(figsize=(8, 6))\n",
        "plt.title('Feature importances Top 20')\n",
        "sns.barplot(x=ftr_top20, y=ftr_top20.index)\n",
        "plt.show()"
      ],
      "metadata": {
        "colab": {
          "base_uri": "https://localhost:8080/",
          "height": 390
        },
        "id": "ZDoJ6ElmJKTQ",
        "outputId": "bc4d30c4-8891-48c6-c992-732115c0e95a"
      },
      "execution_count": 23,
      "outputs": [
        {
          "output_type": "display_data",
          "data": {
            "text/plain": [
              "<Figure size 576x432 with 1 Axes>"
            ],
            "image/png": "[encoded data removed]"
          },
          "metadata": {
            "needs_background": "light"
          }
        }
      ]
    },
    {
      "cell_type": "markdown",
      "source": [
        "# **3. 앙상블 학습**"
      ],
      "metadata": {
        "id": "lctk2pssZ7CR"
      }
    },
    {
      "cell_type": "markdown",
      "source": [
        "## **3.1. 앙상블 학습 개요**"
      ],
      "metadata": {
        "id": "66bGobX0Z6_z"
      }
    },
    {
      "cell_type": "markdown",
      "source": [
        "**앙상블 학습(Ensemble Learning)**을 통한 분류는 여러 개의 분류기를 생성하고 그 예측 결과들을 결합하여 더 정확한 최종 예측을 도출하는 기법입니다. 정형 데이터 분류에 앙상블이 매우 뛰어난 성능을 보입니다. 대표적인 앙상블 알고리즘은 랜덤 포레스트와 그레이디언트 부스팅입니다. 특히 **XGBoost**와 **LightGBM**, **스태킹(Stacking)**은 대중적으로 널리 쓰입니다.\n",
        "\n",
        "앙상블 학습의 방법은 **보팅(Voting)**, **배깅(Bagging)**, **부스팅(Boosting)**, 스태킹(Stacking)입니다.\n",
        "\n",
        "보팅과 배깅은 여러 분류기가 투표를 통해 최종 예측 결과를 결정하는 방법입니다. 다른 점이라면 보팅은 다른 알고리즘을 가진 분류기를 결합하고, 배깅은 같은 알고리즘을 가진 분류기를 결합하지만 데이터 샘플링만 서로 다르게 하면서 학습을 수행하여 보팅을 수행합니다. 대표적인 배깅 방식은 랜덤 포레스트입니다. 배깅에 대하여 첨언하자면, 개별 분류기에 할당된 학습 데이터는 원본 학습 데이터를 샘플링하여 추출하는데, 이렇게 개별 분류기에게 데이터를 샘플링해서 추출하는 방식을 **부트스트래핑(Bootstrapping)** 분할 방식이라고 부릅니다. 개별 분류기가 부트스트래핑 방식으로 샘플링된 데이터 세트에 대하여 학습하고 개별적인 예측을 수행한 결과를 보팅을 통해서 최종 예측 결과를 선정하는 방식이 배깅 방식입니다. 교차 검증이 데이터 세트 간에 중첩을 허용하지 않는 것과 달리 배깅은 중첩을 허용합니다. 예컨대 데이터 10,000개를 분류기 10개가 배깅으로 나누더라도 각 1000개의 데이터 내에는 중복된 데이터가 있습니다.\n",
        "\n",
        "부스팅은 여러 분류기가 순차적으로 학습하지만 앞에서 학습한 분류기가 예측이 틀린 데이터에 대하여는 올바르게 예측하도록 다음 분류기에게 가중치(weight)를 부여하면서 학습과 예측을 진행합니다. 가중치를 지속적으로 부스팅하면서 학습합니다.\n",
        "\n",
        "스태킹은 여러 모델의 예측 결괏값을 다시 학습 데이터로 만들고 다른 모델(메타 모델)로 재학습시켜서 결과를 예측합니다. "
      ],
      "metadata": {
        "id": "cwzZBF1wLMHN"
      }
    },
    {
      "cell_type": "markdown",
      "source": [
        "## **3.2. 보팅 유형 - 하드 보팅(Hard Voting)과 소프트 보팅(Soft Voting)**"
      ],
      "metadata": {
        "id": "jE8SnQLEZ69Z"
      }
    },
    {
      "cell_type": "markdown",
      "source": [
        "**하드 보팅(Hard Voting)**을 이용한 분류는 다수결 원칙과 유사합니다. 예측한 결괏값들 중에 다수의 분류기가 결정한 예측값을 최종 보팅 결괏값으로 선정합니다.\n",
        "\n",
        "**소프트 보팅(Soft Voting)**을 이용한 분류는 분류기들의 레이블 값 결정 확률을 모두 더하고 평균하여 가장 확률이 높은 레이블 값을 최종 보팅 결괏값으로 선정합니다. 하드 보팅보다 성능이 좋아서 하드 보팅보다 더 많이 사용됩니다."
      ],
      "metadata": {
        "id": "ZWPeCP145fGf"
      }
    },
    {
      "cell_type": "markdown",
      "source": [
        "## **3.3. 보팅 분류기(voting classifier)**"
      ],
      "metadata": {
        "id": "kq1gaDodZ668"
      }
    },
    {
      "cell_type": "markdown",
      "source": [
        "`VotingClassifier` 클래스에 보팅 방식의 앙상블이 구현되어 있습니다. 이 클래스로 위스콘신 유방암 데이터 세트를 분석해 보겠습니다. 로지스틱 회귀와 KNN을 기반으로 보팅 분류기를 만들겠습니다. `VotingClassifier` 클래스는 주요 생성 인자인 `estimators`는 리스트 값으로 보팅에 사용될 여러 분류기 인스턴스를 튜플 형태로 입력 받습니다."
      ],
      "metadata": {
        "id": "YcPI2fp-67yF"
      }
    },
    {
      "cell_type": "code",
      "source": [
        "import pandas as pd\n",
        "\n",
        "from sklearn.ensemble import VotingClassifier\n",
        "from sklearn.linear_model import LogisticRegression\n",
        "from sklearn.neighbors import KNeighborsClassifier\n",
        "from sklearn.datasets import load_breast_cancer\n",
        "from sklearn.model_selection import train_test_split\n",
        "from sklearn.metrics import accuracy_score\n",
        "\n",
        "cancer = load_breast_cancer()\n",
        "data_df = pd.DataFrame(cancer.data, columns=cancer.feature_names)\n",
        "data_df.head(3)"
      ],
      "metadata": {
        "colab": {
          "base_uri": "https://localhost:8080/",
          "height": 272
        },
        "id": "HPMEJ6SJ7P19",
        "outputId": "eddff194-0371-427d-c54a-5a4d26fc4841"
      },
      "execution_count": 24,
      "outputs": [
        {
          "output_type": "execute_result",
          "data": {
            "text/plain": [
              "   mean radius  mean texture  mean perimeter  mean area  mean smoothness  \\\n",
              "0        17.99         10.38           122.8     1001.0          0.11840   \n",
              "1        20.57         17.77           132.9     1326.0          0.08474   \n",
              "2        19.69         21.25           130.0     1203.0          0.10960   \n",
              "\n",
              "   mean compactness  mean concavity  mean concave points  mean symmetry  \\\n",
              "0           0.27760          0.3001              0.14710         0.2419   \n",
              "1           0.07864          0.0869              0.07017         0.1812   \n",
              "2           0.15990          0.1974              0.12790         0.2069   \n",
              "\n",
              "   mean fractal dimension  ...  worst radius  worst texture  worst perimeter  \\\n",
              "0                 0.07871  ...         25.38          17.33            184.6   \n",
              "1                 0.05667  ...         24.99          23.41            158.8   \n",
              "2                 0.05999  ...         23.57          25.53            152.5   \n",
              "\n",
              "   worst area  worst smoothness  worst compactness  worst concavity  \\\n",
              "0      2019.0            0.1622             0.6656           0.7119   \n",
              "1      1956.0            0.1238             0.1866           0.2416   \n",
              "2      1709.0            0.1444             0.4245           0.4504   \n",
              "\n",
              "   worst concave points  worst symmetry  worst fractal dimension  \n",
              "0                0.2654          0.4601                  0.11890  \n",
              "1                0.1860          0.2750                  0.08902  \n",
              "2                0.2430          0.3613                  0.08758  \n",
              "\n",
              "[3 rows x 30 columns]"
            ],
            "text/html": [
              "\n",
              "  <div id=\"df-316a8647-68b9-40a1-994d-a33c133305a2\">\n",
              "    <div class=\"colab-df-container\">\n",
              "      <div>\n",
              "<style scoped>\n",
              "    .dataframe tbody tr th:only-of-type {\n",
              "        vertical-align: middle;\n",
              "    }\n",
              "\n",
              "    .dataframe tbody tr th {\n",
              "        vertical-align: top;\n",
              "    }\n",
              "\n",
              "    .dataframe thead th {\n",
              "        text-align: right;\n",
              "    }\n",
              "</style>\n",
              "<table border=\"1\" class=\"dataframe\">\n",
              "  <thead>\n",
              "    <tr style=\"text-align: right;\">\n",
              "      <th></th>\n",
              "      <th>mean radius</th>\n",
              "      <th>mean texture</th>\n",
              "      <th>mean perimeter</th>\n",
              "      <th>mean area</th>\n",
              "      <th>mean smoothness</th>\n",
              "      <th>mean compactness</th>\n",
              "      <th>mean concavity</th>\n",
              "      <th>mean concave points</th>\n",
              "      <th>mean symmetry</th>\n",
              "      <th>mean fractal dimension</th>\n",
              "      <th>...</th>\n",
              "      <th>worst radius</th>\n",
              "      <th>worst texture</th>\n",
              "      <th>worst perimeter</th>\n",
              "      <th>worst area</th>\n",
              "      <th>worst smoothness</th>\n",
              "      <th>worst compactness</th>\n",
              "      <th>worst concavity</th>\n",
              "      <th>worst concave points</th>\n",
              "      <th>worst symmetry</th>\n",
              "      <th>worst fractal dimension</th>\n",
              "    </tr>\n",
              "  </thead>\n",
              "  <tbody>\n",
              "    <tr>\n",
              "      <th>0</th>\n",
              "      <td>17.99</td>\n",
              "      <td>10.38</td>\n",
              "      <td>122.8</td>\n",
              "      <td>1001.0</td>\n",
              "      <td>0.11840</td>\n",
              "      <td>0.27760</td>\n",
              "      <td>0.3001</td>\n",
              "      <td>0.14710</td>\n",
              "      <td>0.2419</td>\n",
              "      <td>0.07871</td>\n",
              "      <td>...</td>\n",
              "      <td>25.38</td>\n",
              "      <td>17.33</td>\n",
              "      <td>184.6</td>\n",
              "      <td>2019.0</td>\n",
              "      <td>0.1622</td>\n",
              "      <td>0.6656</td>\n",
              "      <td>0.7119</td>\n",
              "      <td>0.2654</td>\n",
              "      <td>0.4601</td>\n",
              "      <td>0.11890</td>\n",
              "    </tr>\n",
              "    <tr>\n",
              "      <th>1</th>\n",
              "      <td>20.57</td>\n",
              "      <td>17.77</td>\n",
              "      <td>132.9</td>\n",
              "      <td>1326.0</td>\n",
              "      <td>0.08474</td>\n",
              "      <td>0.07864</td>\n",
              "      <td>0.0869</td>\n",
              "      <td>0.07017</td>\n",
              "      <td>0.1812</td>\n",
              "      <td>0.05667</td>\n",
              "      <td>...</td>\n",
              "      <td>24.99</td>\n",
              "      <td>23.41</td>\n",
              "      <td>158.8</td>\n",
              "      <td>1956.0</td>\n",
              "      <td>0.1238</td>\n",
              "      <td>0.1866</td>\n",
              "      <td>0.2416</td>\n",
              "      <td>0.1860</td>\n",
              "      <td>0.2750</td>\n",
              "      <td>0.08902</td>\n",
              "    </tr>\n",
              "    <tr>\n",
              "      <th>2</th>\n",
              "      <td>19.69</td>\n",
              "      <td>21.25</td>\n",
              "      <td>130.0</td>\n",
              "      <td>1203.0</td>\n",
              "      <td>0.10960</td>\n",
              "      <td>0.15990</td>\n",
              "      <td>0.1974</td>\n",
              "      <td>0.12790</td>\n",
              "      <td>0.2069</td>\n",
              "      <td>0.05999</td>\n",
              "      <td>...</td>\n",
              "      <td>23.57</td>\n",
              "      <td>25.53</td>\n",
              "      <td>152.5</td>\n",
              "      <td>1709.0</td>\n",
              "      <td>0.1444</td>\n",
              "      <td>0.4245</td>\n",
              "      <td>0.4504</td>\n",
              "      <td>0.2430</td>\n",
              "      <td>0.3613</td>\n",
              "      <td>0.08758</td>\n",
              "    </tr>\n",
              "  </tbody>\n",
              "</table>\n",
              "<p>3 rows × 30 columns</p>\n",
              "</div>\n",
              "      <button class=\"colab-df-convert\" onclick=\"convertToInteractive('df-316a8647-68b9-40a1-994d-a33c133305a2')\"\n",
              "              title=\"Convert this dataframe to an interactive table.\"\n",
              "              style=\"display:none;\">\n",
              "        \n",
              "  <svg xmlns=\"http://www.w3.org/2000/svg\" height=\"24px\"viewBox=\"0 0 24 24\"\n",
              "       width=\"24px\">\n",
              "    <path d=\"M0 0h24v24H0V0z\" fill=\"none\"/>\n",
              "    <path d=\"M18.56 5.44l.94 2.06.94-2.06 2.06-.94-2.06-.94-.94-2.06-.94 2.06-2.06.94zm-11 1L8.5 8.5l.94-2.06 2.06-.94-2.06-.94L8.5 2.5l-.94 2.06-2.06.94zm10 10l.94 2.06.94-2.06 2.06-.94-2.06-.94-.94-2.06-.94 2.06-2.06.94z\"/><path d=\"M17.41 7.96l-1.37-1.37c-.4-.4-.92-.59-1.43-.59-.52 0-1.04.2-1.43.59L10.3 9.45l-7.72 7.72c-.78.78-.78 2.05 0 2.83L4 21.41c.39.39.9.59 1.41.59.51 0 1.02-.2 1.41-.59l7.78-7.78 2.81-2.81c.8-.78.8-2.07 0-2.86zM5.41 20L4 18.59l7.72-7.72 1.47 1.35L5.41 20z\"/>\n",
              "  </svg>\n",
              "      </button>\n",
              "      \n",
              "  <style>\n",
              "    .colab-df-container {\n",
              "      display:flex;\n",
              "      flex-wrap:wrap;\n",
              "      gap: 12px;\n",
              "    }\n",
              "\n",
              "    .colab-df-convert {\n",
              "      background-color: #E8F0FE;\n",
              "      border: none;\n",
              "      border-radius: 50%;\n",
              "      cursor: pointer;\n",
              "      display: none;\n",
              "      fill: #1967D2;\n",
              "      height: 32px;\n",
              "      padding: 0 0 0 0;\n",
              "      width: 32px;\n",
              "    }\n",
              "\n",
              "    .colab-df-convert:hover {\n",
              "      background-color: #E2EBFA;\n",
              "      box-shadow: 0px 1px 2px rgba(60, 64, 67, 0.3), 0px 1px 3px 1px rgba(60, 64, 67, 0.15);\n",
              "      fill: #174EA6;\n",
              "    }\n",
              "\n",
              "    [theme=dark] .colab-df-convert {\n",
              "      background-color: #3B4455;\n",
              "      fill: #D2E3FC;\n",
              "    }\n",
              "\n",
              "    [theme=dark] .colab-df-convert:hover {\n",
              "      background-color: #434B5C;\n",
              "      box-shadow: 0px 1px 3px 1px rgba(0, 0, 0, 0.15);\n",
              "      filter: drop-shadow(0px 1px 2px rgba(0, 0, 0, 0.3));\n",
              "      fill: #FFFFFF;\n",
              "    }\n",
              "  </style>\n",
              "\n",
              "      <script>\n",
              "        const buttonEl =\n",
              "          document.querySelector('#df-316a8647-68b9-40a1-994d-a33c133305a2 button.colab-df-convert');\n",
              "        buttonEl.style.display =\n",
              "          google.colab.kernel.accessAllowed ? 'block' : 'none';\n",
              "\n",
              "        async function convertToInteractive(key) {\n",
              "          const element = document.querySelector('#df-316a8647-68b9-40a1-994d-a33c133305a2');\n",
              "          const dataTable =\n",
              "            await google.colab.kernel.invokeFunction('convertToInteractive',\n",
              "                                                     [key], {});\n",
              "          if (!dataTable) return;\n",
              "\n",
              "          const docLinkHtml = 'Like what you see? Visit the ' +\n",
              "            '<a target=\"_blank\" href=https://colab.research.google.com/notebooks/data_table.ipynb>data table notebook</a>'\n",
              "            + ' to learn more about interactive tables.';\n",
              "          element.innerHTML = '';\n",
              "          dataTable['output_type'] = 'display_data';\n",
              "          await google.colab.output.renderOutput(dataTable, element);\n",
              "          const docLink = document.createElement('div');\n",
              "          docLink.innerHTML = docLinkHtml;\n",
              "          element.appendChild(docLink);\n",
              "        }\n",
              "      </script>\n",
              "    </div>\n",
              "  </div>\n",
              "  "
            ]
          },
          "metadata": {},
          "execution_count": 24
        }
      ]
    },
    {
      "cell_type": "code",
      "source": [
        "# 개별 모델을 생성합니다.\n",
        "lr_clf = LogisticRegression()\n",
        "knn_clf = KNeighborsClassifier(n_neighbors=8)\n",
        "\n",
        "# 개별 모델을 소프트 보팅 기반의 앙상블 모델로 구현한 분류기를 생성합니다.\n",
        "vo_clf = VotingClassifier(estimators=[('LR', lr_clf), ('KNN', knn_clf)], voting='soft')\n",
        "\n",
        "X_train, X_test, y_train, y_test = train_test_split(cancer.data, cancer.target,\n",
        "                                                    test_size=0.2, random_state=156)\n",
        "\n",
        "# 분류기를 학습시키고 예측하여 평가합니다.\n",
        "vo_clf.fit(X_train, y_train)\n",
        "pred = vo_clf.predict(X_test)\n",
        "print('Voting 분류기 정확도: {:.4f}'.format(accuracy_score(y_test, pred)))\n",
        "\n",
        "# 개별 모델을 학습시키고 예측하여 평가합니다. \n",
        "classifiers = [lr_clf, knn_clf]\n",
        "for classifier in classifiers:\n",
        "    classifier.fit(X_train, y_train)\n",
        "    pred = classifier.predict(X_test)\n",
        "    class_name = classifier.__class__.__name__\n",
        "    print('{} 정확도: {:.4f}'.format(class_name, accuracy_score(y_test, pred)))"
      ],
      "metadata": {
        "colab": {
          "base_uri": "https://localhost:8080/"
        },
        "id": "N_JCDWjw8JyX",
        "outputId": "5d3cc238-0683-4e9b-909a-91f8000f9773"
      },
      "execution_count": 25,
      "outputs": [
        {
          "output_type": "stream",
          "name": "stdout",
          "text": [
            "Voting 분류기 정확도: 0.9474\n",
            "LogisticRegression 정확도: 0.9386\n",
            "KNeighborsClassifier 정확도: 0.9386\n"
          ]
        }
      ]
    },
    {
      "cell_type": "markdown",
      "source": [
        "보팅 분류기의 정확도가 더 높습니다. 물론 보팅으로 여러 분류기를 결합해도 성능이 무조건 향상되는 것은 아닙니다. 데이터 특성과 분포 등 같은 다양한 요건에 따라 오히려 기반 분류기 중 가장 좋은 분류기의 성능이 보팅했을 때보다 더 좋을 수도 있습니다. 그러나 앙상블 방법은 대개 단일 알고리즘보다 더 나은 예측 성능을 가지는 경우가 많습니다.\n",
        "\n",
        "머신러닝 모델의 성능은 다양한 테스트 데이터에 의해 검증되므로 어떻게 높은 유연성을 가지고 현실에 대처할 수 있는가가 모델의 중요한 평가요소입니다. 이 관점에서 **편향-분산 트레이드오프**는 머신러닝 모델이 극복해야 할 중요한 과제입니다. 회귀 챕터에서 해당 개념을 다시 설명합니다."
      ],
      "metadata": {
        "id": "m2LSpZCW_KRT"
      }
    },
    {
      "cell_type": "markdown",
      "source": [
        "# **4. 랜덤 포레스트**"
      ],
      "metadata": {
        "id": "pA56rMJMZ64k"
      }
    },
    {
      "cell_type": "markdown",
      "source": [
        "## **4.1. 랜덤 포레스트 개요 및 실습**"
      ],
      "metadata": {
        "id": "uzxfpXTjZ62A"
      }
    },
    {
      "cell_type": "markdown",
      "source": [
        "랜덤 포레스트는 배깅의 대표적 알고리즘입니다. 비교적 빠른 수행 속도와 높은 예측 성능을 가집니다. 부트스트래핑 분할 방식으로 여러 개의 데이터 세트를 중첩되게 분리하여 각 분류기에 적용합니다.\n",
        "\n",
        "위에서 사용한 사용자 행동 인식 데이터 세트를 랜덤 포레스트로 예측해 보겠습니다."
      ],
      "metadata": {
        "id": "YFog2t4oIPP8"
      }
    },
    {
      "cell_type": "code",
      "source": [
        "from sklearn.ensemble import RandomForestClassifier\n",
        "from sklearn.metrics import accuracy_score\n",
        "import pandas as pd\n",
        "import warnings\n",
        "warnings.filterwarnings('ignore')\n",
        "\n",
        "X_train, X_test, y_train, y_test = get_human_dataset()\n",
        "rf_clf = RandomForestClassifier(max_depth=8, random_state=0)\n",
        "rf_clf.fit(X_train, y_train)\n",
        "pred = rf_clf.predict(X_test)\n",
        "accuracy = accuracy_score(y_test, pred)\n",
        "print('랜덤 포레스트 정확도: {:.4f}'.format(accuracy))"
      ],
      "metadata": {
        "colab": {
          "base_uri": "https://localhost:8080/"
        },
        "id": "hCZ4m6OphKpb",
        "outputId": "44d6c437-6bb9-4174-abc8-2522fc8200a6"
      },
      "execution_count": 28,
      "outputs": [
        {
          "output_type": "stream",
          "name": "stdout",
          "text": [
            "랜덤 포레스트 정확도: 0.9196\n"
          ]
        }
      ]
    },
    {
      "cell_type": "markdown",
      "source": [
        "## **4.2. 랜덤 포레스트 하이퍼 파라미터 및 튜닝**"
      ],
      "metadata": {
        "id": "CHvQJZJIZ6zd"
      }
    },
    {
      "cell_type": "markdown",
      "source": [
        "랜덤 포레스트의 하이퍼 파라미터는 결정 트리와 비슷합니다. 아래는 랜덤 포레스트의 하이퍼 파라미터 목록입니다.\n",
        "\n",
        "- `n_estimators`: 결정 트리 개수를 지정합니다. 디폴트는 `10`입니다. 높은 수를 지정할수록 성능이 좋아지지만 무조건 좋아지는 것은 아니며 학습 시간이 오래 걸립니다.\n",
        "\n",
        "- `max_features`: 결정 트리와 같습니다. 디폴트는 `auto`이며 `sqrt`입니다. 전체 피처가 16개이면 분할을 위해 4개만 참조합니다.\n",
        "\n",
        "- `max_depth`, `min_samples_leaf`처럼 과적합을 개선하기 위해 조정하는 하이퍼 파라미터는 결정 트리와 동일합니다.\n",
        "\n",
        "`GridSearchCV` 클래스를 사용하여 하이퍼 파라미터를 튜닝해 보겠습니다."
      ],
      "metadata": {
        "id": "hXZxR-8XkmYK"
      }
    },
    {
      "cell_type": "code",
      "source": [
        "from sklearn.model_selection import GridSearchCV\n",
        "\n",
        "params = {\n",
        "    'max_depth': [8, 16, 24],\n",
        "    'min_samples_leaf': [1, 6, 12],\n",
        "    'min_samples_split': [2, 8, 16]\n",
        "}\n",
        "\n",
        "rf_clf = RandomForestClassifier(n_estimators=100, random_state=0, n_jobs=-1)\n",
        "grid_cv = GridSearchCV(rf_clf, param_grid=params, cv=2, n_jobs=-1)\n",
        "grid_cv.fit(X_train, y_train)\n",
        "\n",
        "print('최적 하이퍼 파라미터:\\n', grid_cv.best_params_)\n",
        "print('최고 예측 정확도: {:.4f}'.format(grid_cv.best_score_))"
      ],
      "metadata": {
        "colab": {
          "base_uri": "https://localhost:8080/"
        },
        "id": "4xx3nbD_mukm",
        "outputId": "4fc1db66-ab47-4057-f4ea-07046b6f0de8"
      },
      "execution_count": 32,
      "outputs": [
        {
          "output_type": "stream",
          "name": "stdout",
          "text": [
            "최적 하이퍼 파라미터:\n",
            " {'max_depth': 16, 'min_samples_leaf': 6, 'min_samples_split': 2}\n",
            "최고 예측 정확도: 0.9165\n"
          ]
        }
      ]
    },
    {
      "cell_type": "markdown",
      "source": [
        "최적 하이퍼 파라미터로 `RandomForestClassifier`를 학습시키고 예측 성능을 측정해보겠습니다."
      ],
      "metadata": {
        "id": "imQLk-g-qeX1"
      }
    },
    {
      "cell_type": "code",
      "source": [
        "rf_clf1 = RandomForestClassifier(n_estimators=100, max_depth=16, min_samples_leaf=6,\n",
        "                                min_samples_split=2, random_state=0)\n",
        "rf_clf1.fit(X_train, y_train)\n",
        "pred = rf_clf1.predict(X_test)\n",
        "print('예측 정확도: {:.4f}'. format(accuracy_score(y_test, pred)))"
      ],
      "metadata": {
        "colab": {
          "base_uri": "https://localhost:8080/"
        },
        "id": "zjYvUIMRn356",
        "outputId": "479473f5-3c8c-412f-f34e-da15c78c9acc"
      },
      "execution_count": 33,
      "outputs": [
        {
          "output_type": "stream",
          "name": "stdout",
          "text": [
            "예측 정확도: 0.9260\n"
          ]
        }
      ]
    },
    {
      "cell_type": "markdown",
      "source": [
        "피처의 중요도를 시각화해보겠습니다."
      ],
      "metadata": {
        "id": "cFar7jNoq0nH"
      }
    },
    {
      "cell_type": "code",
      "source": [
        "import matplotlib.pyplot as plt\n",
        "import seaborn as sns\n",
        "%matplotlib inline\n",
        "\n",
        "ftr_importances_values = rf_clf1.feature_importances_\n",
        "ftr_importances = pd.Series(ftr_importances_values, index=X_train.columns)\n",
        "ftr_top20 = ftr_importances.sort_values(ascending=False)[:20]\n",
        "\n",
        "plt.figure(figsize=(8, 6))\n",
        "plt.title('Feature importances Top 20')\n",
        "sns.barplot(x=ftr_top20, y=ftr_top20.index)\n",
        "plt.show()"
      ],
      "metadata": {
        "colab": {
          "base_uri": "https://localhost:8080/",
          "height": 390
        },
        "id": "qlg2f-huohdL",
        "outputId": "6fcd44f6-80e8-4ce3-a1f3-6e571a47e7a3"
      },
      "execution_count": 34,
      "outputs": [
        {
          "output_type": "display_data",
          "data": {
            "text/plain": [
              "<Figure size 576x432 with 1 Axes>"
            ],
            "image/png": "[encoded data removed]"
          },
          "metadata": {
            "needs_background": "light"
          }
        }
      ]
    },
    {
      "cell_type": "markdown",
      "source": [
        "# **5. GBM(Gradient Boosting Machine)**"
      ],
      "metadata": {
        "id": "RGNrcwAKZ6xA"
      }
    },
    {
      "cell_type": "markdown",
      "source": [
        "## **5.1. GBM의 개요 및 실습**"
      ],
      "metadata": {
        "id": "GVWOuYxWbI6V"
      }
    },
    {
      "cell_type": "markdown",
      "source": [
        "부스팅 알고리즘은 여러 약한 학습기(weak learner)를 순차적으로 학습하고 예측하면서 잘못 예측한 데이터에 가중치를 부여하고 오류를 개선해 나가면서 학습하는 방식입니다. 대표적인 부스팅 방법은 **에이다부스트(Adaboost, Adaptive boosting)**와 **그레이디언트 부스트**입니다. 에이다 부스트는 오류 데이터에 가중치를 부여하면서 부스팅을 수행합니다. 아래는 에이다부스트가 학습하는 방법을 도식화한 그림입니다.\n",
        "\n",
        "![AdaBoost.png](data:image/png;base64,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)\n",
        "\n",
        "+와 -로 된 피처 데이터 세트입니다. 여러 약한 학습기가 잘못 분류된 피처에 가중치를 부여하면서(그림상 기호 크기가 커짐) 약한 학습기를 결합한 최종 결과 예측을 도출합니다. 예컨대 첫 번째 학습기에 가중치를 0.3, 두 번째 학습기에 가중치를 0.5, 세 번째 학습기에 가중치를 0.8만큼 부여하고 모두 결합하여 예측을 수행합니다.\n",
        "\n",
        "**GBM(Gradient Boosting Machine)**은 가중치 업데이트를 **경사 하강법(Gradient Descent)**으로 적용합니다. 오류 값은 실젯값 - 예측값입니다. 반복 수행을 통해 오류를 최소화할 수 있도록 가중치의 업데이트 값을 도출하는 기법입니다. GBM을 기반으로 수많은 알고리즘이 새로 만들어지고 있습니다.\n",
        "\n",
        "GBM을 사용하여 사용자 행동 데이터 세트를 예측 분류해 보겠습니다. "
      ],
      "metadata": {
        "id": "ET_aOqkxAmyx"
      }
    },
    {
      "cell_type": "code",
      "source": [
        "from sklearn.ensemble import GradientBoostingClassifier\n",
        "from sklearn.metrics import accuracy_score\n",
        "import time\n",
        "import warnings\n",
        "warnings.filterwarnings('ignore')\n",
        "\n",
        "X_train, X_test, y_train, y_test = get_human_dataset()\n",
        "\n",
        "start_time = time.time()\n",
        "\n",
        "gb_clf = GradientBoostingClassifier(random_state=0)\n",
        "gb_clf.fit(X_train, y_train)\n",
        "gb_pred = gb_clf.predict(X_test)\n",
        "gb_accuracy = accuracy_score(y_test, gb_pred)\n",
        "\n",
        "print('GBM 정확도: {:.4f}'.format(gb_accuracy))\n",
        "print('GBM 수행 시간: {:.1f}'.format(time.time() - start_time))"
      ],
      "metadata": {
        "colab": {
          "base_uri": "https://localhost:8080/"
        },
        "id": "HqfiB52IzQIK",
        "outputId": "44875139-3beb-4e08-bbb5-06797c0e19f6"
      },
      "execution_count": 35,
      "outputs": [
        {
          "output_type": "stream",
          "name": "stdout",
          "text": [
            "GBM 정확도: 0.9386\n",
            "GBM 수행 시간: 827.6\n"
          ]
        }
      ]
    },
    {
      "cell_type": "markdown",
      "source": [
        "랜덤 포레스트의 예측 성능보다 좋습니다. 대개 GBM이 랜덤 포레스트보다 예측 성능이 좋습니다. 다만 수행 시간이 오래 걸리고 하이퍼 파라미터 튜닝에도 더 공을 들여야 합니다."
      ],
      "metadata": {
        "id": "8vy7Ayt20Qrt"
      }
    },
    {
      "cell_type": "markdown",
      "source": [
        "## **5.2. GBM 하이퍼 파라미터 소개**"
      ],
      "metadata": {
        "id": "AMi4mGtKbI3T"
      }
    },
    {
      "cell_type": "markdown",
      "source": [
        "GBM의 하이퍼 파라미터는 아래와 같습니다. `max_depth`, `max_features`에 대한 설명은 생략합니다.\n",
        "\n",
        "- `n_estimators`: 약한 학습기 개수를 지정합니다. 디폴트는 `100`입니다. 개수가 많을수록 예측 성능이 일정 수준까지는 좋아지지만 시간이 오래 걸립니다.\n",
        "\n",
        "- `loss`: 경사 하강법에서 사용할 비용 함수를 지정합니다.\n",
        "\n",
        "- `learning_rate`: GBM이 학습을 수행할 때마다 적용하는 학습률입니다. 약한 학습기가 순차적으로 오류 값을 보정해 나가는 데 적용하는 계수입니다. 디폴트는 `0.1`이며 0 ~ 1 사잇값을 지정할 수 있습니다. 꽤 작은 값을 적용하면 업데이트되는 값이 작아져서 최소 오류 값을 찾아내므로 예측 성능이 높아질 가능성이 높습니다. 다만 많은 약한 학습기는 순차적인 반복이 필요하기 때문에 수행 시간이 오래 걸리고 반복이 완료되어도 최소 오류 값을 찾지 못할 수도 있습니다. 반대로 큰 값을 적용하면 최소 오류 값을 찾지 못하고 그냥 지나쳐 버려서 예측 성능이 떨어질 가능성이 높지만 빠른 수행이 가능합니다. 이런 특성 때문에 `n_estimators`와 상호 보완적으로 조합하여 사용합니다. `learning_late`를 작게 하고 `n_estimators`를 크게 하면 성능이 좋아지지 않는 한계점까지는 약간씩이나 예측 성능을 제고할 수 있습니다. \n",
        "\n",
        "- `subsample`: 약한 학습기가 학습에 사용하는 데이터 샘플링의 비율입니다. 디폴트는 `1`이며 전체 학습 데이터를 기반으로 학습합니다. 과적합을 낮추려면 작은 값으로 지정합니다.\n",
        "\n",
        "그리드 서치로 하이퍼 파라미터 최적화를 수행해 보겠습니다. 오랜 시간이 소요되므로 하이퍼 파라미터를 낮은 수치만으로 제약하겠습니다."
      ],
      "metadata": {
        "id": "MtZ-Kzud0mlB"
      }
    },
    {
      "cell_type": "code",
      "source": [
        "from sklearn.model_selection import GridSearchCV\n",
        "\n",
        "params = {\n",
        "    'n_estimators': [100, 500],\n",
        "    'learning_rate': [0.05, 0.1]\n",
        "}\n",
        "grid_cv = GridSearchCV(gb_clf, param_grid=params, cv=2, verbose=1)\n",
        "grid_cv.fit(X_train, y_train)\n",
        "print('최적 하이퍼 파라미터:\\n', grid_cv.best_params_)\n",
        "print('최고 예측 정확도: {:.4f}'.format(grid_cv.best_score_))"
      ],
      "metadata": {
        "colab": {
          "base_uri": "https://localhost:8080/"
        },
        "id": "bbxWjt-hLLqe",
        "outputId": "917c3954-9121-4c36-91c6-7e28648b4872"
      },
      "execution_count": 36,
      "outputs": [
        {
          "output_type": "stream",
          "name": "stdout",
          "text": [
            "Fitting 2 folds for each of 4 candidates, totalling 8 fits\n",
            "최적 하이퍼 파라미터:\n",
            " {'learning_rate': 0.05, 'n_estimators': 500}\n",
            "최고 예측 정확도: 0.9002\n"
          ]
        }
      ]
    },
    {
      "cell_type": "markdown",
      "source": [
        "테스트 세트에 적용하여 예측 정확도를 확인하겠습니다."
      ],
      "metadata": {
        "id": "OHnqY0XH9bYD"
      }
    },
    {
      "cell_type": "code",
      "source": [
        "gb_pred = grid_cv.best_estimator_.predict(X_test)\n",
        "gb_accuracy = accuracy_score(y_test, gb_pred)\n",
        "print('GBM 정확도: {:.4f}'.format(gb_accuracy))"
      ],
      "metadata": {
        "colab": {
          "base_uri": "https://localhost:8080/"
        },
        "id": "sFO5IwbaME0E",
        "outputId": "6790711b-d4d6-4798-f0b6-b8632ba4bc1f"
      },
      "execution_count": 37,
      "outputs": [
        {
          "output_type": "stream",
          "name": "stdout",
          "text": [
            "GBM 정확도: 0.9393\n"
          ]
        }
      ]
    },
    {
      "cell_type": "markdown",
      "source": [
        "GBM은 과적합도 잘 제어하는 편입니다."
      ],
      "metadata": {
        "id": "p3gD_tf0P6EW"
      }
    },
    {
      "cell_type": "markdown",
      "source": [
        "# **6. XGBoost(eXtra Gradient Boost)**"
      ],
      "metadata": {
        "id": "IEL0NYcMbI00"
      }
    },
    {
      "cell_type": "markdown",
      "source": [
        "## **6.1. XGBoost 개요**"
      ],
      "metadata": {
        "id": "XSA5gdUrbIyi"
      }
    },
    {
      "cell_type": "markdown",
      "source": [
        "**XGBoost**는 대중적으로 널리 쓰이는 알고리즘 중 하나입니다. GBM에 기반하면서도 느린 수행 시간과 과적합 규제(Regularization) 부재 등의 문제를 해결한 알고리즘입니다. 병렬 CPU 환경에서 병렬 학습이 가능하여 GBM보다 더 빠릅니다.\n",
        "\n",
        "일반적으로 GBM은 분할 시 부정 손실이 발생하면 분할을 더이상 수행하지 않지만 자칫 지나치게 많은 분할이 발생할 수 있습니다. 마찬가지로 XGBoost도 `max_depth` 파라미터로 분할 깊이를 조정하기도 하지만 나무 가지치기(Tree pruning)로 긍정 이득이 없는 분할을 가지치기하여 분할 수를 더 줄입니다.\n",
        "\n",
        "아울러 XGBoost는 반복 수행 시마다 학습 데이터 세트와 평가 데이터 세트에 대한 교차 검증을 수행하여 최적화된 반복 수행 횟수를 가질 수 있습니다. 교차 검증을 통해 평가 데이터 세트의 평가 값이 최적화되면 반복을 중간에 멈출 수 있도록 조기 중단(early stopping) 합니다. 결측치를 자체적으로 처리할 수도 있습니다."
      ],
      "metadata": {
        "id": "26sgHfFvQDn1"
      }
    },
    {
      "cell_type": "markdown",
      "source": [
        "## **6.2. XGBoost 설치하기**"
      ],
      "metadata": {
        "id": "wqsldGkVbIwF"
      }
    },
    {
      "cell_type": "markdown",
      "source": [
        "생략합니다."
      ],
      "metadata": {
        "id": "F5mIDde4x0mU"
      }
    },
    {
      "cell_type": "markdown",
      "source": [
        "## **6.3. 파이썬 래퍼 XGBoost 하이퍼 파라미터**"
      ],
      "metadata": {
        "id": "k3abK_kwbItr"
      }
    },
    {
      "cell_type": "markdown",
      "source": [
        "본래 XGBoost는 C/C++로 개발되었고 파이썬과 사이킷런으로도 구동할 수 있도록 두 가지 래퍼 클래스(Wrapper Class)를 추가로 제공합니다. 파이썬 전용 래퍼 클래스와 사이킷런 전용 래퍼 클래스입니다. 파이썬 래퍼 클래스는 잘 쓰이지 않으므로 생략하고 넘어가겠습니다. 자세한 내용은 서적을 참고하시기 바랍니다."
      ],
      "metadata": {
        "id": "RsUha5Kzydh3"
      }
    },
    {
      "cell_type": "markdown",
      "source": [
        "## **6.4. 파이썬 래퍼 XGBoost 적용 - 위스콘신 유방암 예측**"
      ],
      "metadata": {
        "id": "VrSE_QX9cCBV"
      }
    },
    {
      "cell_type": "markdown",
      "source": [
        "생략합니다."
      ],
      "metadata": {
        "id": "s6k-rlCTz-AI"
      }
    },
    {
      "cell_type": "markdown",
      "source": [
        "## **6.5. 사이킷런 래퍼 XGBoost의 개요 및 적용**"
      ],
      "metadata": {
        "id": "JFM0-kQvcB-d"
      }
    },
    {
      "cell_type": "code",
      "source": [
        "import xgboost\n",
        "from xgboost import XGBClassifier\n",
        "\n",
        "print(xgboost.__version__)"
      ],
      "metadata": {
        "colab": {
          "base_uri": "https://localhost:8080/"
        },
        "id": "vsV3Q8fd4vgj",
        "outputId": "b46555ec-ddae-4ba8-e6d0-716ffd0469cf"
      },
      "execution_count": 52,
      "outputs": [
        {
          "output_type": "stream",
          "name": "stdout",
          "text": [
            "0.90\n"
          ]
        }
      ]
    },
    {
      "cell_type": "markdown",
      "source": [
        "위스콘신 유방암 데이터 세트를 활용하여 XGBoost를 적용해보겠습니다. 먼저 데이터를 준비하겠습니다."
      ],
      "metadata": {
        "id": "u__KhbsTIAyE"
      }
    },
    {
      "cell_type": "code",
      "source": [
        "import pandas as pd\n",
        "import numpy as np\n",
        "from sklearn.datasets import load_breast_cancer\n",
        "from sklearn.model_selection import train_test_split\n",
        "import warnings\n",
        "warnings.filterwarnings('ignore')\n",
        "\n",
        "dataset = load_breast_cancer()\n",
        "X_features = dataset.data\n",
        "y_label = dataset.target\n",
        "cancer_df = pd.DataFrame(data=X_features, columns=dataset.feature_names)\n",
        "cancer_df['target'] = y_label\n",
        "\n",
        "cancer_df.head()"
      ],
      "metadata": {
        "colab": {
          "base_uri": "https://localhost:8080/",
          "height": 334
        },
        "id": "ras0SHFm0rnH",
        "outputId": "05380754-d49e-4b4c-8f94-dc33334a6b5a"
      },
      "execution_count": 53,
      "outputs": [
        {
          "output_type": "execute_result",
          "data": {
            "text/plain": [
              "   mean radius  mean texture  mean perimeter  mean area  mean smoothness  \\\n",
              "0        17.99         10.38          122.80     1001.0          0.11840   \n",
              "1        20.57         17.77          132.90     1326.0          0.08474   \n",
              "2        19.69         21.25          130.00     1203.0          0.10960   \n",
              "3        11.42         20.38           77.58      386.1          0.14250   \n",
              "4        20.29         14.34          135.10     1297.0          0.10030   \n",
              "\n",
              "   mean compactness  mean concavity  mean concave points  mean symmetry  \\\n",
              "0           0.27760          0.3001              0.14710         0.2419   \n",
              "1           0.07864          0.0869              0.07017         0.1812   \n",
              "2           0.15990          0.1974              0.12790         0.2069   \n",
              "3           0.28390          0.2414              0.10520         0.2597   \n",
              "4           0.13280          0.1980              0.10430         0.1809   \n",
              "\n",
              "   mean fractal dimension  ...  worst texture  worst perimeter  worst area  \\\n",
              "0                 0.07871  ...          17.33           184.60      2019.0   \n",
              "1                 0.05667  ...          23.41           158.80      1956.0   \n",
              "2                 0.05999  ...          25.53           152.50      1709.0   \n",
              "3                 0.09744  ...          26.50            98.87       567.7   \n",
              "4                 0.05883  ...          16.67           152.20      1575.0   \n",
              "\n",
              "   worst smoothness  worst compactness  worst concavity  worst concave points  \\\n",
              "0            0.1622             0.6656           0.7119                0.2654   \n",
              "1            0.1238             0.1866           0.2416                0.1860   \n",
              "2            0.1444             0.4245           0.4504                0.2430   \n",
              "3            0.2098             0.8663           0.6869                0.2575   \n",
              "4            0.1374             0.2050           0.4000                0.1625   \n",
              "\n",
              "   worst symmetry  worst fractal dimension  target  \n",
              "0          0.4601                  0.11890       0  \n",
              "1          0.2750                  0.08902       0  \n",
              "2          0.3613                  0.08758       0  \n",
              "3          0.6638                  0.17300       0  \n",
              "4          0.2364                  0.07678       0  \n",
              "\n",
              "[5 rows x 31 columns]"
            ],
            "text/html": [
              "\n",
              "  <div id=\"df-8d984264-0866-44b8-ba4a-066782ca1493\">\n",
              "    <div class=\"colab-df-container\">\n",
              "      <div>\n",
              "<style scoped>\n",
              "    .dataframe tbody tr th:only-of-type {\n",
              "        vertical-align: middle;\n",
              "    }\n",
              "\n",
              "    .dataframe tbody tr th {\n",
              "        vertical-align: top;\n",
              "    }\n",
              "\n",
              "    .dataframe thead th {\n",
              "        text-align: right;\n",
              "    }\n",
              "</style>\n",
              "<table border=\"1\" class=\"dataframe\">\n",
              "  <thead>\n",
              "    <tr style=\"text-align: right;\">\n",
              "      <th></th>\n",
              "      <th>mean radius</th>\n",
              "      <th>mean texture</th>\n",
              "      <th>mean perimeter</th>\n",
              "      <th>mean area</th>\n",
              "      <th>mean smoothness</th>\n",
              "      <th>mean compactness</th>\n",
              "      <th>mean concavity</th>\n",
              "      <th>mean concave points</th>\n",
              "      <th>mean symmetry</th>\n",
              "      <th>mean fractal dimension</th>\n",
              "      <th>...</th>\n",
              "      <th>worst texture</th>\n",
              "      <th>worst perimeter</th>\n",
              "      <th>worst area</th>\n",
              "      <th>worst smoothness</th>\n",
              "      <th>worst compactness</th>\n",
              "      <th>worst concavity</th>\n",
              "      <th>worst concave points</th>\n",
              "      <th>worst symmetry</th>\n",
              "      <th>worst fractal dimension</th>\n",
              "      <th>target</th>\n",
              "    </tr>\n",
              "  </thead>\n",
              "  <tbody>\n",
              "    <tr>\n",
              "      <th>0</th>\n",
              "      <td>17.99</td>\n",
              "      <td>10.38</td>\n",
              "      <td>122.80</td>\n",
              "      <td>1001.0</td>\n",
              "      <td>0.11840</td>\n",
              "      <td>0.27760</td>\n",
              "      <td>0.3001</td>\n",
              "      <td>0.14710</td>\n",
              "      <td>0.2419</td>\n",
              "      <td>0.07871</td>\n",
              "      <td>...</td>\n",
              "      <td>17.33</td>\n",
              "      <td>184.60</td>\n",
              "      <td>2019.0</td>\n",
              "      <td>0.1622</td>\n",
              "      <td>0.6656</td>\n",
              "      <td>0.7119</td>\n",
              "      <td>0.2654</td>\n",
              "      <td>0.4601</td>\n",
              "      <td>0.11890</td>\n",
              "      <td>0</td>\n",
              "    </tr>\n",
              "    <tr>\n",
              "      <th>1</th>\n",
              "      <td>20.57</td>\n",
              "      <td>17.77</td>\n",
              "      <td>132.90</td>\n",
              "      <td>1326.0</td>\n",
              "      <td>0.08474</td>\n",
              "      <td>0.07864</td>\n",
              "      <td>0.0869</td>\n",
              "      <td>0.07017</td>\n",
              "      <td>0.1812</td>\n",
              "      <td>0.05667</td>\n",
              "      <td>...</td>\n",
              "      <td>23.41</td>\n",
              "      <td>158.80</td>\n",
              "      <td>1956.0</td>\n",
              "      <td>0.1238</td>\n",
              "      <td>0.1866</td>\n",
              "      <td>0.2416</td>\n",
              "      <td>0.1860</td>\n",
              "      <td>0.2750</td>\n",
              "      <td>0.08902</td>\n",
              "      <td>0</td>\n",
              "    </tr>\n",
              "    <tr>\n",
              "      <th>2</th>\n",
              "      <td>19.69</td>\n",
              "      <td>21.25</td>\n",
              "      <td>130.00</td>\n",
              "      <td>1203.0</td>\n",
              "      <td>0.10960</td>\n",
              "      <td>0.15990</td>\n",
              "      <td>0.1974</td>\n",
              "      <td>0.12790</td>\n",
              "      <td>0.2069</td>\n",
              "      <td>0.05999</td>\n",
              "      <td>...</td>\n",
              "      <td>25.53</td>\n",
              "      <td>152.50</td>\n",
              "      <td>1709.0</td>\n",
              "      <td>0.1444</td>\n",
              "      <td>0.4245</td>\n",
              "      <td>0.4504</td>\n",
              "      <td>0.2430</td>\n",
              "      <td>0.3613</td>\n",
              "      <td>0.08758</td>\n",
              "      <td>0</td>\n",
              "    </tr>\n",
              "    <tr>\n",
              "      <th>3</th>\n",
              "      <td>11.42</td>\n",
              "      <td>20.38</td>\n",
              "      <td>77.58</td>\n",
              "      <td>386.1</td>\n",
              "      <td>0.14250</td>\n",
              "      <td>0.28390</td>\n",
              "      <td>0.2414</td>\n",
              "      <td>0.10520</td>\n",
              "      <td>0.2597</td>\n",
              "      <td>0.09744</td>\n",
              "      <td>...</td>\n",
              "      <td>26.50</td>\n",
              "      <td>98.87</td>\n",
              "      <td>567.7</td>\n",
              "      <td>0.2098</td>\n",
              "      <td>0.8663</td>\n",
              "      <td>0.6869</td>\n",
              "      <td>0.2575</td>\n",
              "      <td>0.6638</td>\n",
              "      <td>0.17300</td>\n",
              "      <td>0</td>\n",
              "    </tr>\n",
              "    <tr>\n",
              "      <th>4</th>\n",
              "      <td>20.29</td>\n",
              "      <td>14.34</td>\n",
              "      <td>135.10</td>\n",
              "      <td>1297.0</td>\n",
              "      <td>0.10030</td>\n",
              "      <td>0.13280</td>\n",
              "      <td>0.1980</td>\n",
              "      <td>0.10430</td>\n",
              "      <td>0.1809</td>\n",
              "      <td>0.05883</td>\n",
              "      <td>...</td>\n",
              "      <td>16.67</td>\n",
              "      <td>152.20</td>\n",
              "      <td>1575.0</td>\n",
              "      <td>0.1374</td>\n",
              "      <td>0.2050</td>\n",
              "      <td>0.4000</td>\n",
              "      <td>0.1625</td>\n",
              "      <td>0.2364</td>\n",
              "      <td>0.07678</td>\n",
              "      <td>0</td>\n",
              "    </tr>\n",
              "  </tbody>\n",
              "</table>\n",
              "<p>5 rows × 31 columns</p>\n",
              "</div>\n",
              "      <button class=\"colab-df-convert\" onclick=\"convertToInteractive('df-8d984264-0866-44b8-ba4a-066782ca1493')\"\n",
              "              title=\"Convert this dataframe to an interactive table.\"\n",
              "              style=\"display:none;\">\n",
              "        \n",
              "  <svg xmlns=\"http://www.w3.org/2000/svg\" height=\"24px\"viewBox=\"0 0 24 24\"\n",
              "       width=\"24px\">\n",
              "    <path d=\"M0 0h24v24H0V0z\" fill=\"none\"/>\n",
              "    <path d=\"M18.56 5.44l.94 2.06.94-2.06 2.06-.94-2.06-.94-.94-2.06-.94 2.06-2.06.94zm-11 1L8.5 8.5l.94-2.06 2.06-.94-2.06-.94L8.5 2.5l-.94 2.06-2.06.94zm10 10l.94 2.06.94-2.06 2.06-.94-2.06-.94-.94-2.06-.94 2.06-2.06.94z\"/><path d=\"M17.41 7.96l-1.37-1.37c-.4-.4-.92-.59-1.43-.59-.52 0-1.04.2-1.43.59L10.3 9.45l-7.72 7.72c-.78.78-.78 2.05 0 2.83L4 21.41c.39.39.9.59 1.41.59.51 0 1.02-.2 1.41-.59l7.78-7.78 2.81-2.81c.8-.78.8-2.07 0-2.86zM5.41 20L4 18.59l7.72-7.72 1.47 1.35L5.41 20z\"/>\n",
              "  </svg>\n",
              "      </button>\n",
              "      \n",
              "  <style>\n",
              "    .colab-df-container {\n",
              "      display:flex;\n",
              "      flex-wrap:wrap;\n",
              "      gap: 12px;\n",
              "    }\n",
              "\n",
              "    .colab-df-convert {\n",
              "      background-color: #E8F0FE;\n",
              "      border: none;\n",
              "      border-radius: 50%;\n",
              "      cursor: pointer;\n",
              "      display: none;\n",
              "      fill: #1967D2;\n",
              "      height: 32px;\n",
              "      padding: 0 0 0 0;\n",
              "      width: 32px;\n",
              "    }\n",
              "\n",
              "    .colab-df-convert:hover {\n",
              "      background-color: #E2EBFA;\n",
              "      box-shadow: 0px 1px 2px rgba(60, 64, 67, 0.3), 0px 1px 3px 1px rgba(60, 64, 67, 0.15);\n",
              "      fill: #174EA6;\n",
              "    }\n",
              "\n",
              "    [theme=dark] .colab-df-convert {\n",
              "      background-color: #3B4455;\n",
              "      fill: #D2E3FC;\n",
              "    }\n",
              "\n",
              "    [theme=dark] .colab-df-convert:hover {\n",
              "      background-color: #434B5C;\n",
              "      box-shadow: 0px 1px 3px 1px rgba(0, 0, 0, 0.15);\n",
              "      filter: drop-shadow(0px 1px 2px rgba(0, 0, 0, 0.3));\n",
              "      fill: #FFFFFF;\n",
              "    }\n",
              "  </style>\n",
              "\n",
              "      <script>\n",
              "        const buttonEl =\n",
              "          document.querySelector('#df-8d984264-0866-44b8-ba4a-066782ca1493 button.colab-df-convert');\n",
              "        buttonEl.style.display =\n",
              "          google.colab.kernel.accessAllowed ? 'block' : 'none';\n",
              "\n",
              "        async function convertToInteractive(key) {\n",
              "          const element = document.querySelector('#df-8d984264-0866-44b8-ba4a-066782ca1493');\n",
              "          const dataTable =\n",
              "            await google.colab.kernel.invokeFunction('convertToInteractive',\n",
              "                                                     [key], {});\n",
              "          if (!dataTable) return;\n",
              "\n",
              "          const docLinkHtml = 'Like what you see? Visit the ' +\n",
              "            '<a target=\"_blank\" href=https://colab.research.google.com/notebooks/data_table.ipynb>data table notebook</a>'\n",
              "            + ' to learn more about interactive tables.';\n",
              "          element.innerHTML = '';\n",
              "          dataTable['output_type'] = 'display_data';\n",
              "          await google.colab.output.renderOutput(dataTable, element);\n",
              "          const docLink = document.createElement('div');\n",
              "          docLink.innerHTML = docLinkHtml;\n",
              "          element.appendChild(docLink);\n",
              "        }\n",
              "      </script>\n",
              "    </div>\n",
              "  </div>\n",
              "  "
            ]
          },
          "metadata": {},
          "execution_count": 53
        }
      ]
    },
    {
      "cell_type": "code",
      "source": [
        "print(cancer_df.info())"
      ],
      "metadata": {
        "colab": {
          "base_uri": "https://localhost:8080/"
        },
        "id": "2QwQA0SBIX8Z",
        "outputId": "c7b2c6e5-1d78-48db-f14c-ac47854e55c6"
      },
      "execution_count": 54,
      "outputs": [
        {
          "output_type": "stream",
          "name": "stdout",
          "text": [
            "<class 'pandas.core.frame.DataFrame'>\n",
            "RangeIndex: 569 entries, 0 to 568\n",
            "Data columns (total 31 columns):\n",
            " #   Column                   Non-Null Count  Dtype  \n",
            "---  ------                   --------------  -----  \n",
            " 0   mean radius              569 non-null    float64\n",
            " 1   mean texture             569 non-null    float64\n",
            " 2   mean perimeter           569 non-null    float64\n",
            " 3   mean area                569 non-null    float64\n",
            " 4   mean smoothness          569 non-null    float64\n",
            " 5   mean compactness         569 non-null    float64\n",
            " 6   mean concavity           569 non-null    float64\n",
            " 7   mean concave points      569 non-null    float64\n",
            " 8   mean symmetry            569 non-null    float64\n",
            " 9   mean fractal dimension   569 non-null    float64\n",
            " 10  radius error             569 non-null    float64\n",
            " 11  texture error            569 non-null    float64\n",
            " 12  perimeter error          569 non-null    float64\n",
            " 13  area error               569 non-null    float64\n",
            " 14  smoothness error         569 non-null    float64\n",
            " 15  compactness error        569 non-null    float64\n",
            " 16  concavity error          569 non-null    float64\n",
            " 17  concave points error     569 non-null    float64\n",
            " 18  symmetry error           569 non-null    float64\n",
            " 19  fractal dimension error  569 non-null    float64\n",
            " 20  worst radius             569 non-null    float64\n",
            " 21  worst texture            569 non-null    float64\n",
            " 22  worst perimeter          569 non-null    float64\n",
            " 23  worst area               569 non-null    float64\n",
            " 24  worst smoothness         569 non-null    float64\n",
            " 25  worst compactness        569 non-null    float64\n",
            " 26  worst concavity          569 non-null    float64\n",
            " 27  worst concave points     569 non-null    float64\n",
            " 28  worst symmetry           569 non-null    float64\n",
            " 29  worst fractal dimension  569 non-null    float64\n",
            " 30  target                   569 non-null    int64  \n",
            "dtypes: float64(30), int64(1)\n",
            "memory usage: 137.9 KB\n",
            "None\n"
          ]
        }
      ]
    },
    {
      "cell_type": "code",
      "source": [
        "print(dataset.target_names)\n",
        "print(cancer_df['target'].value_counts())"
      ],
      "metadata": {
        "colab": {
          "base_uri": "https://localhost:8080/"
        },
        "id": "_0TO05t1315O",
        "outputId": "08afe952-caa5-4d4b-eca1-e05ca61b13f5"
      },
      "execution_count": 55,
      "outputs": [
        {
          "output_type": "stream",
          "name": "stdout",
          "text": [
            "['malignant' 'benign']\n",
            "1    357\n",
            "0    212\n",
            "Name: target, dtype: int64\n"
          ]
        }
      ]
    },
    {
      "cell_type": "markdown",
      "source": [
        "악성은 0, 양성은 1입니다.\n",
        "\n",
        "데이터 세트의 80%를 학습 데이터 세트로 나누고, 20%를 테스트 데이터 세트로 나누겠습니다. 그리고 이 학습 데이터 세트에서 90%를 최종 학습 데이터 세트로 나누고, 10%를 검증 데이터 세트로 나누겠습니다. 검증 데이터 세트로 나누는 이유는 XGBoost의 기능인 검증 성능 평과와 조기 중단을 수행하기 위해서입니다. `cancer_df`의 맨 마지막 칼럼이 레이블이므로 피처용 데이터프레임은 `cancer_df`의 첫번째 칼럼에서 맨 마지막 두번째 칼럼까지를 `:-1` 슬라이싱을 사용해 추출하겠습니다."
      ],
      "metadata": {
        "id": "wKaLRUrNIpa-"
      }
    },
    {
      "cell_type": "code",
      "source": [
        "# `cancer_df`에서 피처용 데이터프레임과 레이블용 시리즈 객체를 추출합니다.\n",
        "X_features = cancer_df.iloc[:, :-1]\n",
        "y_label = cancer_df.iloc[:, -1]\n",
        "\n",
        "# 80%는 학습 데이터, 20%는 테스트 데이터로 나눕니다.\n",
        "X_train, X_test, y_train, y_test = train_test_split(X_features, y_label,\n",
        "                                                    test_size=0.2, random_state=156)\n",
        "\n",
        "# `X_train`과 `y_train`을 90%는 학습 데이터, 10%는 검증 데이터로 나눕니다.\n",
        "X_tr, X_val, y_tr, y_val = train_test_split(X_train, y_train, test_size=0.1, random_state=156)\n",
        "\n",
        "print(X_train.shape, X_test.shape)\n",
        "print(X_tr.shape, X_val.shape)"
      ],
      "metadata": {
        "colab": {
          "base_uri": "https://localhost:8080/"
        },
        "id": "8oDrLfQm4K3n",
        "outputId": "3fc86eef-b17f-4558-bf0f-0ff66b1c05a6"
      },
      "execution_count": 56,
      "outputs": [
        {
          "output_type": "stream",
          "name": "stdout",
          "text": [
            "(455, 30) (114, 30)\n",
            "(409, 30) (46, 30)\n"
          ]
        }
      ]
    },
    {
      "cell_type": "code",
      "source": [
        "help(XGBClassifier)"
      ],
      "metadata": {
        "colab": {
          "base_uri": "https://localhost:8080/"
        },
        "id": "kS-L1HHDVNXd",
        "outputId": "ce5dabb3-f2f8-4201-a1d6-ade849e9274e"
      },
      "execution_count": 43,
      "outputs": [
        {
          "output_type": "stream",
          "name": "stdout",
          "text": [
            "Help on class XGBClassifier in module xgboost.sklearn:\n",
            "\n",
            "class XGBClassifier(XGBModel, sklearn.base.ClassifierMixin)\n",
            " |  XGBClassifier(max_depth=3, learning_rate=0.1, n_estimators=100, verbosity=1, silent=None, objective='binary:logistic', booster='gbtree', n_jobs=1, nthread=None, gamma=0, min_child_weight=1, max_delta_step=0, subsample=1, colsample_bytree=1, colsample_bylevel=1, colsample_bynode=1, reg_alpha=0, reg_lambda=1, scale_pos_weight=1, base_score=0.5, random_state=0, seed=None, missing=None, **kwargs)\n",
            " |  \n",
            " |  Implementation of the scikit-learn API for XGBoost classification.\n",
            " |  \n",
            " |  Parameters\n",
            " |  ----------\n",
            " |  max_depth : int\n",
            " |      Maximum tree depth for base learners.\n",
            " |  learning_rate : float\n",
            " |      Boosting learning rate (xgb's \"eta\")\n",
            " |  n_estimators : int\n",
            " |      Number of trees to fit.\n",
            " |  verbosity : int\n",
            " |      The degree of verbosity. Valid values are 0 (silent) - 3 (debug).\n",
            " |  silent : boolean\n",
            " |      Whether to print messages while running boosting. Deprecated. Use verbosity instead.\n",
            " |  objective : string or callable\n",
            " |      Specify the learning task and the corresponding learning objective or\n",
            " |      a custom objective function to be used (see note below).\n",
            " |  booster: string\n",
            " |      Specify which booster to use: gbtree, gblinear or dart.\n",
            " |  nthread : int\n",
            " |      Number of parallel threads used to run xgboost.  (Deprecated, please use ``n_jobs``)\n",
            " |  n_jobs : int\n",
            " |      Number of parallel threads used to run xgboost.  (replaces ``nthread``)\n",
            " |  gamma : float\n",
            " |      Minimum loss reduction required to make a further partition on a leaf node of the tree.\n",
            " |  min_child_weight : int\n",
            " |      Minimum sum of instance weight(hessian) needed in a child.\n",
            " |  max_delta_step : int\n",
            " |      Maximum delta step we allow each tree's weight estimation to be.\n",
            " |  subsample : float\n",
            " |      Subsample ratio of the training instance.\n",
            " |  colsample_bytree : float\n",
            " |      Subsample ratio of columns when constructing each tree.\n",
            " |  colsample_bylevel : float\n",
            " |      Subsample ratio of columns for each level.\n",
            " |  colsample_bynode : float\n",
            " |      Subsample ratio of columns for each split.\n",
            " |  reg_alpha : float (xgb's alpha)\n",
            " |      L1 regularization term on weights\n",
            " |  reg_lambda : float (xgb's lambda)\n",
            " |      L2 regularization term on weights\n",
            " |  scale_pos_weight : float\n",
            " |      Balancing of positive and negative weights.\n",
            " |  base_score:\n",
            " |      The initial prediction score of all instances, global bias.\n",
            " |  seed : int\n",
            " |      Random number seed.  (Deprecated, please use random_state)\n",
            " |  random_state : int\n",
            " |      Random number seed.  (replaces seed)\n",
            " |  missing : float, optional\n",
            " |      Value in the data which needs to be present as a missing value. If\n",
            " |      None, defaults to np.nan.\n",
            " |  importance_type: string, default \"gain\"\n",
            " |      The feature importance type for the feature_importances_ property: either \"gain\",\n",
            " |      \"weight\", \"cover\", \"total_gain\" or \"total_cover\".\n",
            " |  \\*\\*kwargs : dict, optional\n",
            " |      Keyword arguments for XGBoost Booster object.  Full documentation of parameters can\n",
            " |      be found here: https://github.com/dmlc/xgboost/blob/master/doc/parameter.rst.\n",
            " |      Attempting to set a parameter via the constructor args and \\*\\*kwargs dict simultaneously\n",
            " |      will result in a TypeError.\n",
            " |  \n",
            " |      .. note:: \\*\\*kwargs unsupported by scikit-learn\n",
            " |  \n",
            " |          \\*\\*kwargs is unsupported by scikit-learn.  We do not guarantee that parameters\n",
            " |          passed via this argument will interact properly with scikit-learn.\n",
            " |  \n",
            " |  Note\n",
            " |  ----\n",
            " |  A custom objective function can be provided for the ``objective``\n",
            " |  parameter. In this case, it should have the signature\n",
            " |  ``objective(y_true, y_pred) -> grad, hess``:\n",
            " |  \n",
            " |  y_true: array_like of shape [n_samples]\n",
            " |      The target values\n",
            " |  y_pred: array_like of shape [n_samples]\n",
            " |      The predicted values\n",
            " |  \n",
            " |  grad: array_like of shape [n_samples]\n",
            " |      The value of the gradient for each sample point.\n",
            " |  hess: array_like of shape [n_samples]\n",
            " |      The value of the second derivative for each sample point\n",
            " |  \n",
            " |  Method resolution order:\n",
            " |      XGBClassifier\n",
            " |      XGBModel\n",
            " |      sklearn.base.BaseEstimator\n",
            " |      sklearn.base.ClassifierMixin\n",
            " |      builtins.object\n",
            " |  \n",
            " |  Methods defined here:\n",
            " |  \n",
            " |  __init__(self, max_depth=3, learning_rate=0.1, n_estimators=100, verbosity=1, silent=None, objective='binary:logistic', booster='gbtree', n_jobs=1, nthread=None, gamma=0, min_child_weight=1, max_delta_step=0, subsample=1, colsample_bytree=1, colsample_bylevel=1, colsample_bynode=1, reg_alpha=0, reg_lambda=1, scale_pos_weight=1, base_score=0.5, random_state=0, seed=None, missing=None, **kwargs)\n",
            " |      Initialize self.  See help(type(self)) for accurate signature.\n",
            " |  \n",
            " |  evals_result(self)\n",
            " |      Return the evaluation results.\n",
            " |      \n",
            " |      If **eval_set** is passed to the `fit` function, you can call\n",
            " |      ``evals_result()`` to get evaluation results for all passed **eval_sets**.\n",
            " |      When **eval_metric** is also passed to the `fit` function, the\n",
            " |      **evals_result** will contain the **eval_metrics** passed to the `fit` function.\n",
            " |      \n",
            " |      Returns\n",
            " |      -------\n",
            " |      evals_result : dictionary\n",
            " |      \n",
            " |      Example\n",
            " |      -------\n",
            " |      \n",
            " |      .. code-block:: python\n",
            " |      \n",
            " |          param_dist = {'objective':'binary:logistic', 'n_estimators':2}\n",
            " |      \n",
            " |          clf = xgb.XGBClassifier(**param_dist)\n",
            " |      \n",
            " |          clf.fit(X_train, y_train,\n",
            " |                  eval_set=[(X_train, y_train), (X_test, y_test)],\n",
            " |                  eval_metric='logloss',\n",
            " |                  verbose=True)\n",
            " |      \n",
            " |          evals_result = clf.evals_result()\n",
            " |      \n",
            " |      The variable **evals_result** will contain\n",
            " |      \n",
            " |      .. code-block:: python\n",
            " |      \n",
            " |          {'validation_0': {'logloss': ['0.604835', '0.531479']},\n",
            " |          'validation_1': {'logloss': ['0.41965', '0.17686']}}\n",
            " |  \n",
            " |  fit(self, X, y, sample_weight=None, eval_set=None, eval_metric=None, early_stopping_rounds=None, verbose=True, xgb_model=None, sample_weight_eval_set=None, callbacks=None)\n",
            " |      Fit gradient boosting classifier\n",
            " |      \n",
            " |      Parameters\n",
            " |      ----------\n",
            " |      X : array_like\n",
            " |          Feature matrix\n",
            " |      y : array_like\n",
            " |          Labels\n",
            " |      sample_weight : array_like\n",
            " |          Weight for each instance\n",
            " |      eval_set : list, optional\n",
            " |          A list of (X, y) pairs to use as a validation set for\n",
            " |          early-stopping\n",
            " |      sample_weight_eval_set : list, optional\n",
            " |          A list of the form [L_1, L_2, ..., L_n], where each L_i is a list of\n",
            " |          instance weights on the i-th validation set.\n",
            " |      eval_metric : str, callable, optional\n",
            " |          If a str, should be a built-in evaluation metric to use. See\n",
            " |          doc/parameter.rst. If callable, a custom evaluation metric. The call\n",
            " |          signature is func(y_predicted, y_true) where y_true will be a\n",
            " |          DMatrix object such that you may need to call the get_label\n",
            " |          method. It must return a str, value pair where the str is a name\n",
            " |          for the evaluation and value is the value of the evaluation\n",
            " |          function. This objective is always minimized.\n",
            " |      early_stopping_rounds : int, optional\n",
            " |          Activates early stopping. Validation error needs to decrease at\n",
            " |          least every <early_stopping_rounds> round(s) to continue training.\n",
            " |          Requires at least one item in evals. If there's more than one,\n",
            " |          will use the last. If early stopping occurs, the model will have\n",
            " |          three additional fields: bst.best_score, bst.best_iteration and\n",
            " |          bst.best_ntree_limit (bst.best_ntree_limit is the ntree_limit parameter\n",
            " |          default value in predict method if not any other value is specified).\n",
            " |          (Use bst.best_ntree_limit to get the correct value if num_parallel_tree\n",
            " |          and/or num_class appears in the parameters)\n",
            " |      verbose : bool\n",
            " |          If `verbose` and an evaluation set is used, writes the evaluation\n",
            " |          metric measured on the validation set to stderr.\n",
            " |      xgb_model : str\n",
            " |          file name of stored xgb model or 'Booster' instance Xgb model to be\n",
            " |          loaded before training (allows training continuation).\n",
            " |      callbacks : list of callback functions\n",
            " |          List of callback functions that are applied at end of each iteration.\n",
            " |          It is possible to use predefined callbacks by using :ref:`callback_api`.\n",
            " |          Example:\n",
            " |      \n",
            " |          .. code-block:: python\n",
            " |      \n",
            " |              [xgb.callback.reset_learning_rate(custom_rates)]\n",
            " |  \n",
            " |  predict(self, data, output_margin=False, ntree_limit=None, validate_features=True)\n",
            " |      Predict with `data`.\n",
            " |      \n",
            " |      .. note:: This function is not thread safe.\n",
            " |      \n",
            " |        For each booster object, predict can only be called from one thread.\n",
            " |        If you want to run prediction using multiple thread, call ``xgb.copy()`` to make copies\n",
            " |        of model object and then call ``predict()``.\n",
            " |      \n",
            " |      .. note:: Using ``predict()`` with DART booster\n",
            " |      \n",
            " |        If the booster object is DART type, ``predict()`` will perform dropouts, i.e. only\n",
            " |        some of the trees will be evaluated. This will produce incorrect results if ``data`` is\n",
            " |        not the training data. To obtain correct results on test sets, set ``ntree_limit`` to\n",
            " |        a nonzero value, e.g.\n",
            " |      \n",
            " |        .. code-block:: python\n",
            " |      \n",
            " |          preds = bst.predict(dtest, ntree_limit=num_round)\n",
            " |      \n",
            " |      Parameters\n",
            " |      ----------\n",
            " |      data : DMatrix\n",
            " |          The dmatrix storing the input.\n",
            " |      output_margin : bool\n",
            " |          Whether to output the raw untransformed margin value.\n",
            " |      ntree_limit : int\n",
            " |          Limit number of trees in the prediction; defaults to best_ntree_limit if defined\n",
            " |          (i.e. it has been trained with early stopping), otherwise 0 (use all trees).\n",
            " |      validate_features : bool\n",
            " |          When this is True, validate that the Booster's and data's feature_names are identical.\n",
            " |          Otherwise, it is assumed that the feature_names are the same.\n",
            " |      Returns\n",
            " |      -------\n",
            " |      prediction : numpy array\n",
            " |  \n",
            " |  predict_proba(self, data, ntree_limit=None, validate_features=True)\n",
            " |      Predict the probability of each `data` example being of a given class.\n",
            " |      \n",
            " |      .. note:: This function is not thread safe\n",
            " |      \n",
            " |          For each booster object, predict can only be called from one thread.\n",
            " |          If you want to run prediction using multiple thread, call ``xgb.copy()`` to make copies\n",
            " |          of model object and then call predict\n",
            " |      \n",
            " |      Parameters\n",
            " |      ----------\n",
            " |      data : DMatrix\n",
            " |          The dmatrix storing the input.\n",
            " |      ntree_limit : int\n",
            " |          Limit number of trees in the prediction; defaults to best_ntree_limit if defined\n",
            " |          (i.e. it has been trained with early stopping), otherwise 0 (use all trees).\n",
            " |      validate_features : bool\n",
            " |          When this is True, validate that the Booster's and data's feature_names are identical.\n",
            " |          Otherwise, it is assumed that the feature_names are the same.\n",
            " |      \n",
            " |      Returns\n",
            " |      -------\n",
            " |      prediction : numpy array\n",
            " |          a numpy array with the probability of each data example being of a given class.\n",
            " |  \n",
            " |  ----------------------------------------------------------------------\n",
            " |  Methods inherited from XGBModel:\n",
            " |  \n",
            " |  __setstate__(self, state)\n",
            " |  \n",
            " |  apply(self, X, ntree_limit=0)\n",
            " |      Return the predicted leaf every tree for each sample.\n",
            " |      \n",
            " |      Parameters\n",
            " |      ----------\n",
            " |      X : array_like, shape=[n_samples, n_features]\n",
            " |          Input features matrix.\n",
            " |      \n",
            " |      ntree_limit : int\n",
            " |          Limit number of trees in the prediction; defaults to 0 (use all trees).\n",
            " |      \n",
            " |      Returns\n",
            " |      -------\n",
            " |      X_leaves : array_like, shape=[n_samples, n_trees]\n",
            " |          For each datapoint x in X and for each tree, return the index of the\n",
            " |          leaf x ends up in. Leaves are numbered within\n",
            " |          ``[0; 2**(self.max_depth+1))``, possibly with gaps in the numbering.\n",
            " |  \n",
            " |  get_booster(self)\n",
            " |      Get the underlying xgboost Booster of this model.\n",
            " |      \n",
            " |      This will raise an exception when fit was not called\n",
            " |      \n",
            " |      Returns\n",
            " |      -------\n",
            " |      booster : a xgboost booster of underlying model\n",
            " |  \n",
            " |  get_num_boosting_rounds(self)\n",
            " |      Gets the number of xgboost boosting rounds.\n",
            " |  \n",
            " |  get_params(self, deep=False)\n",
            " |      Get parameters.\n",
            " |  \n",
            " |  get_xgb_params(self)\n",
            " |      Get xgboost type parameters.\n",
            " |  \n",
            " |  load_model(self, fname)\n",
            " |      Load the model from a file.\n",
            " |      \n",
            " |      The model is loaded from an XGBoost internal binary format which is\n",
            " |      universal among the various XGBoost interfaces. Auxiliary attributes of\n",
            " |      the Python Booster object (such as feature names) will not be loaded.\n",
            " |      Label encodings (text labels to numeric labels) will be also lost.\n",
            " |      **If you are using only the Python interface, we recommend pickling the\n",
            " |      model object for best results.**\n",
            " |      \n",
            " |      Parameters\n",
            " |      ----------\n",
            " |      fname : string or a memory buffer\n",
            " |          Input file name or memory buffer(see also save_raw)\n",
            " |  \n",
            " |  save_model(self, fname)\n",
            " |      Save the model to a file.\n",
            " |      \n",
            " |      The model is saved in an XGBoost internal binary format which is\n",
            " |      universal among the various XGBoost interfaces. Auxiliary attributes of\n",
            " |      the Python Booster object (such as feature names) will not be loaded.\n",
            " |      Label encodings (text labels to numeric labels) will be also lost.\n",
            " |      **If you are using only the Python interface, we recommend pickling the\n",
            " |      model object for best results.**\n",
            " |      \n",
            " |      Parameters\n",
            " |      ----------\n",
            " |      fname : string\n",
            " |          Output file name\n",
            " |  \n",
            " |  set_params(self, **params)\n",
            " |      Set the parameters of this estimator.\n",
            " |      Modification of the sklearn method to allow unknown kwargs. This allows using\n",
            " |      the full range of xgboost parameters that are not defined as member variables\n",
            " |      in sklearn grid search.\n",
            " |      Returns\n",
            " |      -------\n",
            " |      self\n",
            " |  \n",
            " |  ----------------------------------------------------------------------\n",
            " |  Data descriptors inherited from XGBModel:\n",
            " |  \n",
            " |  coef_\n",
            " |      Coefficients property\n",
            " |      \n",
            " |      .. note:: Coefficients are defined only for linear learners\n",
            " |      \n",
            " |          Coefficients are only defined when the linear model is chosen as base\n",
            " |          learner (`booster=gblinear`). It is not defined for other base learner types, such\n",
            " |          as tree learners (`booster=gbtree`).\n",
            " |      \n",
            " |      Returns\n",
            " |      -------\n",
            " |      coef_ : array of shape ``[n_features]`` or ``[n_classes, n_features]``\n",
            " |  \n",
            " |  feature_importances_\n",
            " |      Feature importances property\n",
            " |      \n",
            " |      .. note:: Feature importance is defined only for tree boosters\n",
            " |      \n",
            " |          Feature importance is only defined when the decision tree model is chosen as base\n",
            " |          learner (`booster=gbtree`). It is not defined for other base learner types, such\n",
            " |          as linear learners (`booster=gblinear`).\n",
            " |      \n",
            " |      Returns\n",
            " |      -------\n",
            " |      feature_importances_ : array of shape ``[n_features]``\n",
            " |  \n",
            " |  intercept_\n",
            " |      Intercept (bias) property\n",
            " |      \n",
            " |      .. note:: Intercept is defined only for linear learners\n",
            " |      \n",
            " |          Intercept (bias) is only defined when the linear model is chosen as base\n",
            " |          learner (`booster=gblinear`). It is not defined for other base learner types, such\n",
            " |          as tree learners (`booster=gbtree`).\n",
            " |      \n",
            " |      Returns\n",
            " |      -------\n",
            " |      intercept_ : array of shape ``(1,)`` or ``[n_classes]``\n",
            " |  \n",
            " |  ----------------------------------------------------------------------\n",
            " |  Methods inherited from sklearn.base.BaseEstimator:\n",
            " |  \n",
            " |  __getstate__(self)\n",
            " |  \n",
            " |  __repr__(self, N_CHAR_MAX=700)\n",
            " |      Return repr(self).\n",
            " |  \n",
            " |  ----------------------------------------------------------------------\n",
            " |  Data descriptors inherited from sklearn.base.BaseEstimator:\n",
            " |  \n",
            " |  __dict__\n",
            " |      dictionary for instance variables (if defined)\n",
            " |  \n",
            " |  __weakref__\n",
            " |      list of weak references to the object (if defined)\n",
            " |  \n",
            " |  ----------------------------------------------------------------------\n",
            " |  Methods inherited from sklearn.base.ClassifierMixin:\n",
            " |  \n",
            " |  score(self, X, y, sample_weight=None)\n",
            " |      Return the mean accuracy on the given test data and labels.\n",
            " |      \n",
            " |      In multi-label classification, this is the subset accuracy\n",
            " |      which is a harsh metric since you require for each sample that\n",
            " |      each label set be correctly predicted.\n",
            " |      \n",
            " |      Parameters\n",
            " |      ----------\n",
            " |      X : array-like of shape (n_samples, n_features)\n",
            " |          Test samples.\n",
            " |      \n",
            " |      y : array-like of shape (n_samples,) or (n_samples, n_outputs)\n",
            " |          True labels for `X`.\n",
            " |      \n",
            " |      sample_weight : array-like of shape (n_samples,), default=None\n",
            " |          Sample weights.\n",
            " |      \n",
            " |      Returns\n",
            " |      -------\n",
            " |      score : float\n",
            " |          Mean accuracy of ``self.predict(X)`` wrt. `y`.\n",
            "\n"
          ]
        }
      ]
    },
    {
      "cell_type": "markdown",
      "source": [
        "`XGBClassifier`, `XGBRegressor` 클래스의 주요 파라미터는 아래와 같습니다.\n",
        "\n",
        "- 일반 파라미터(디폴트 값을 거의 바꾸지 않음)\n",
        "\n",
        " - `booster`: 트리 기반 모델(`gbtree`) 또는 선형 모델(`gblinear`)입니다. 디폴트는 `gbtree`입니다.\n",
        "\n",
        " - `silent`: 출력 메시지를 나타낼지 여부입니다. 디폴트는 `None`이며 출력 메시지를 나타냅니다.\n",
        "\n",
        " - `n_jobs` CPU의 실행 스레드 개수를 조정합니다. 디폴트는 `1`이며 전체 스레드를 사용합니다. \n",
        "\n",
        "- 부스터 파라미터(트리 최적화, 부스팅, 규제 등)\n",
        "\n",
        " - `learning_rate`: GBM과 같은 학습률입니다. 부스팅 스텝을 반복적으로 수행할 때 업데이트되는 학습률 값입니다. 0 ~ 1 사잇값이며 디폴트는 `0.1`입니다. 선호되는 값은 0.01 ~ 0.2입니다.\n",
        "\n",
        " - `n_estimators`: GBM과 같습니다.\n",
        "\n",
        " - `min_child_weight`: 트리에서 추가적으로 가지를 나눌지 결정하기 위해 필요한 데이터들의 weight 총합입니다. 값이 클수록 분할을 자제하며, 과적합을 조절하는 데 사용합니다. 디폴트는 `1`입니다. \n",
        "\n",
        " - `gamma`: 트리의 리프 노드를 추가적으로 나눌지 결정할 최소 손실 감소 값입니다. 해당 값보다 큰 손실이 감소된 경우 리프 노드를 분리하며, 값이 클수록 과적합이 감소합니다. 디폴트는 `0`입니다.\n",
        "\n",
        " - `max_depth`: 트리 기반 알고리즘과 같습니다. 디폴트는 `6`입니다. 값이 높으면 특정 피처 조건에 특화되어 룰 조건이 만들어지므로 과적합 가능성이 높아지며 보통 3 ~ 10 사잇값을 적용합니다. \n",
        "\n",
        " - `subsample`: GBM과 같습니다. 디폴트는 `1`입니다.\n",
        "\n",
        " - `colsample_bytree`: GBM의 `max_features`와 유사합니다. 트리 생성에 필요한 피처를 임의로 샘플링 하는 데 사용됩니다. 피처가 매우 많은 경우 과적합을 조정하는 용도입니다. 디폴트는 `1`입니다.\n",
        "\n",
        " - `reg_lambda`: L2 규제 적용 값입니다. 피처 개수가 많을 경우 적용을 검토하며 값이 클수록 과적합을 감소시킬 수 있습니다. 디폴트는 `1`로 우선 적용되는 것을 의미합니다.\n",
        "\n",
        " - `reg_alpha`: L1 규제 적용 값입니다. 피처 개수가 많을 경우 적용을 검토하며 값이 클수록 과적합을 감소시킬 수 있습니다. 디폴트는 `0`으로 우선 적용되지 않는 것을 의미합니다.\n",
        "\n",
        " - `scale_pos_weight`: 특정 값으로 치우친 비대칭한 클래스로 구성된 데이터 세트의 균형을 유지하기 위한 파라미터입니다. 디폴트는 `1`입니다.\n",
        "\n",
        "- 학습 태스크 파라미터(학습 수행 시의 객체 함수, 평가를 위한 지표 등)\n",
        "\n",
        " - `objective`: 최솟값을 가져야할 손실 함수입니다. 이진 분류와 다중 분류에 따라 달라집니다. `'binary:logistic'`은 이진 분류, `multi:softmax`는 다중 분류일 때 적용합니다. `multi:softmax`의 경우 레이블 클래스 개수인 `num_class` 파라미터를 지정해야 합니다. `'multi:softprob'`는 `multi:softmax`와 유사하지만 개별 레이블 클래스의 해당되는 예측 확률을 반환합니다.\n",
        "\n",
        " - `eval_metric`: 검증에 사용할 함수입니다. 디폴트는 회귀는 `rmse`, 분류는 `error`입니다.\n",
        "\n",
        "   - `rmse`: Root Mean Squeare Error\n",
        "\n",
        "   - `mae`: Mean Absolute Error\n",
        " \n",
        "   - `logloss`: Negative log-likelihood\n",
        "\n",
        "   - `error`: Binary classification error rate (0.5 threshold)\n",
        "\n",
        "   - `merror`: Multiclass classification error rate\n",
        "\n",
        "   - `mlogloss`: Multiclass logloss\n",
        "\n",
        "   - `auc`: Area under the curve\n",
        "\n",
        "뛰어난 알고리즘일수록 파라미터를 튜닝할 필요가 적습니다. 아울러 튜닝을 하더라도 효과가 적은 것이 대부분입니다. 튜닝하는 경우는 피처 수가 매우 많거나 피처 간 상관되는 정도가 많거나 데이터 세트에 따라 여러 가지 특성이 있을 수 있습니다.\n",
        "\n",
        "과적합을 제어하려면 아래 방법을 적용할 수 있습니다.\n",
        "\n",
        "- `learning_rate` 값을 0.01 ~ 0.1로 낮추고 `n_estimators` 값을 높입니다.\n",
        "\n",
        "- `max_depth` 값을 낮춥니다.\n",
        "\n",
        "- `min_child_weight` 값을 높입니다.\n",
        "\n",
        "- `gamma` 값을 높입니다.\n",
        "\n",
        "- `subsample` 값과 `colsample_bytree` 값을 조정합니다.\n",
        "\n",
        "학습과 예측을 수행하겠습니다. 아울러 이전 챕터에서 선언했던 `get_clf_eval()` 함수를 호출하여 모델의 예측 성능을 평가하겠습니다."
      ],
      "metadata": {
        "id": "A7nv2xNcNVIh"
      }
    },
    {
      "cell_type": "code",
      "source": [
        "# Warning 메시지가 뜨지 않도록 `eval_matric` 파라미터에 XGBClassifier 생성 인자를 전달합니다.\n",
        "xgb_wrapper = XGBClassifier(n_estimators=400, learning_rate=0.05, max_depth=3,\n",
        "                            eval_metric='logloss')\n",
        "xgb_wrapper.fit(X_train, y_train, verbose=True)\n",
        "w_preds = xgb_wrapper.predict(X_test)\n",
        "w_pred_proba = xgb_wrapper.predict_proba(X_test)[:, 1]"
      ],
      "metadata": {
        "id": "DYZjaHAKKDSL"
      },
      "execution_count": 69,
      "outputs": []
    },
    {
      "cell_type": "code",
      "source": [
        "from sklearn.metrics import accuracy_score, precision_score, recall_score, roc_auc_score\n",
        "from sklearn.metrics import f1_score, confusion_matrix, precision_recall_curve, roc_curve\n",
        "\n",
        "def get_clf_eval(y_test, pred, pred_proba=None):\n",
        "    confusion = confusion_matrix(y_test, pred)\n",
        "    accuracy = accuracy_score(y_test, pred)\n",
        "    precision = precision_score(y_test, pred)\n",
        "    recall = recall_score(y_test, pred)\n",
        "    f1 = f1_score(y_test, pred)\n",
        "    roc_auc = roc_auc_score(y_test, pred_proba)\n",
        "    print('오차 행렬')\n",
        "    print(confusion)\n",
        "    print('정확도: {:.4f}, 정밀도: {:.4f}, 재현율: {:.4f}, F1: {:.4f},\\\n",
        "    AUC: {:.4f}'.format(accuracy, precision, recall, f1, roc_auc))"
      ],
      "metadata": {
        "id": "4f6W_BjvK9mH"
      },
      "execution_count": 62,
      "outputs": []
    },
    {
      "cell_type": "code",
      "source": [
        "get_clf_eval(y_test, w_preds, w_pred_proba)"
      ],
      "metadata": {
        "colab": {
          "base_uri": "https://localhost:8080/"
        },
        "id": "HGxLHjY7KwBI",
        "outputId": "45a07419-ba65-420c-eba0-06522a52bdc5"
      },
      "execution_count": 70,
      "outputs": [
        {
          "output_type": "stream",
          "name": "stdout",
          "text": [
            "오차 행렬\n",
            "[[34  3]\n",
            " [ 1 76]]\n",
            "정확도: 0.9649, 정밀도: 0.9620, 재현율: 0.9870, F1: 0.9744,    AUC: 0.9954\n"
          ]
        }
      ]
    },
    {
      "cell_type": "markdown",
      "source": [
        "위스콘신 데이터 세트 크기가 작기 때문에 전반적으로 검증 데이터를 나누거나 교차 검증 등을 적용하면 성능 수치가 불안정해집니다. 반면 데이터 세트 크기가 크면 원본 학습 데이터를 다시 학습 데이터와 검증 데이터로 분리하고 조기 중단 회수를 적절하게 부여했을 때 일반적으로 과적합이 개선되고 모델 성능을 조금 향상시킬 수 있습니다.\n",
        "\n",
        "조기 중단을 수행하려면 `fit()` 메서드가 가진 파라미터에 인자를 지정해야 합니다. 아래는 조기 중단 관련 파라미터 목록입니다.\n",
        "\n",
        "- `early_stopping_rounds`: 평가 지표가 향상될 수 있는 반복 횟수입니다.\n",
        "\n",
        "- `eval_metric`: 조기 중단을 위한 평가 지표입니다.\n",
        "\n",
        "- `eval_set`: 성능 평가를 수행할 데이터 세트입니다.\n",
        "\n",
        "이번엔 조기 중단을 수행해 보겠습니다. 최초 학습 데이터에서 나눈 최종 학습 데이터 세트와 검증 데이터 세트를 이용하여 학습과 조기 중단을 적용해 보겠습니다. "
      ],
      "metadata": {
        "id": "Yjq2Ln0AN2FJ"
      }
    },
    {
      "cell_type": "code",
      "source": [
        "xgb_wrapper = XGBClassifier(n_estimators=400, learning_rate=0.05, max_depth=3)\n",
        "evals = [(X_tr, y_tr), (X_val, y_val)]\n",
        "xgb_wrapper.fit(X_tr, y_tr, early_stopping_rounds=50, eval_metric='logloss',\n",
        "                eval_set=evals, verbose=True)\n",
        "ws50_preds = xgb_wrapper.predict(X_test)\n",
        "ws50_pred_proba = xgb_wrapper.predict_proba(X_test)[:, 1]"
      ],
      "metadata": {
        "colab": {
          "base_uri": "https://localhost:8080/"
        },
        "id": "LIoWyQqRLh8g",
        "outputId": "c1cc9833-03a9-4a59-9a93-22c7e619cba4"
      },
      "execution_count": 71,
      "outputs": [
        {
          "output_type": "stream",
          "name": "stdout",
          "text": [
            "[0]\tvalidation_0-logloss:0.650162\tvalidation_1-logloss:0.661831\n",
            "Multiple eval metrics have been passed: 'validation_1-logloss' will be used for early stopping.\n",
            "\n",
            "Will train until validation_1-logloss hasn't improved in 50 rounds.\n",
            "[1]\tvalidation_0-logloss:0.611314\tvalidation_1-logloss:0.636086\n",
            "[2]\tvalidation_0-logloss:0.57563\tvalidation_1-logloss:0.611436\n",
            "[3]\tvalidation_0-logloss:0.543099\tvalidation_1-logloss:0.592036\n",
            "[4]\tvalidation_0-logloss:0.513234\tvalidation_1-logloss:0.573291\n",
            "[5]\tvalidation_0-logloss:0.484475\tvalidation_1-logloss:0.550371\n",
            "[6]\tvalidation_0-logloss:0.457959\tvalidation_1-logloss:0.529295\n",
            "[7]\tvalidation_0-logloss:0.434357\tvalidation_1-logloss:0.51534\n",
            "[8]\tvalidation_0-logloss:0.411503\tvalidation_1-logloss:0.497179\n",
            "[9]\tvalidation_0-logloss:0.390274\tvalidation_1-logloss:0.481542\n",
            "[10]\tvalidation_0-logloss:0.371284\tvalidation_1-logloss:0.469904\n",
            "[11]\tvalidation_0-logloss:0.352541\tvalidation_1-logloss:0.45474\n",
            "[12]\tvalidation_0-logloss:0.335278\tvalidation_1-logloss:0.442294\n",
            "[13]\tvalidation_0-logloss:0.318925\tvalidation_1-logloss:0.429608\n",
            "[14]\tvalidation_0-logloss:0.304393\tvalidation_1-logloss:0.420649\n",
            "[15]\tvalidation_0-logloss:0.289996\tvalidation_1-logloss:0.409577\n",
            "[16]\tvalidation_0-logloss:0.276513\tvalidation_1-logloss:0.398867\n",
            "[17]\tvalidation_0-logloss:0.263894\tvalidation_1-logloss:0.390504\n",
            "[18]\tvalidation_0-logloss:0.252102\tvalidation_1-logloss:0.382539\n",
            "[19]\tvalidation_0-logloss:0.241231\tvalidation_1-logloss:0.373933\n",
            "[20]\tvalidation_0-logloss:0.230763\tvalidation_1-logloss:0.367887\n",
            "[21]\tvalidation_0-logloss:0.220913\tvalidation_1-logloss:0.360174\n",
            "[22]\tvalidation_0-logloss:0.211555\tvalidation_1-logloss:0.354212\n",
            "[23]\tvalidation_0-logloss:0.20263\tvalidation_1-logloss:0.346828\n",
            "[24]\tvalidation_0-logloss:0.194341\tvalidation_1-logloss:0.341107\n",
            "[25]\tvalidation_0-logloss:0.186369\tvalidation_1-logloss:0.336341\n",
            "[26]\tvalidation_0-logloss:0.178748\tvalidation_1-logloss:0.330823\n",
            "[27]\tvalidation_0-logloss:0.171671\tvalidation_1-logloss:0.326746\n",
            "[28]\tvalidation_0-logloss:0.164814\tvalidation_1-logloss:0.32099\n",
            "[29]\tvalidation_0-logloss:0.158347\tvalidation_1-logloss:0.316706\n",
            "[30]\tvalidation_0-logloss:0.152249\tvalidation_1-logloss:0.312766\n",
            "[31]\tvalidation_0-logloss:0.146498\tvalidation_1-logloss:0.308823\n",
            "[32]\tvalidation_0-logloss:0.141021\tvalidation_1-logloss:0.304373\n",
            "[33]\tvalidation_0-logloss:0.135903\tvalidation_1-logloss:0.301034\n",
            "[34]\tvalidation_0-logloss:0.131089\tvalidation_1-logloss:0.297937\n",
            "[35]\tvalidation_0-logloss:0.126469\tvalidation_1-logloss:0.294994\n",
            "[36]\tvalidation_0-logloss:0.121972\tvalidation_1-logloss:0.292951\n",
            "[37]\tvalidation_0-logloss:0.117844\tvalidation_1-logloss:0.290434\n",
            "[38]\tvalidation_0-logloss:0.113793\tvalidation_1-logloss:0.289272\n",
            "[39]\tvalidation_0-logloss:0.109943\tvalidation_1-logloss:0.285777\n",
            "[40]\tvalidation_0-logloss:0.106376\tvalidation_1-logloss:0.283644\n",
            "[41]\tvalidation_0-logloss:0.103022\tvalidation_1-logloss:0.281831\n",
            "[42]\tvalidation_0-logloss:0.099625\tvalidation_1-logloss:0.280047\n",
            "[43]\tvalidation_0-logloss:0.096486\tvalidation_1-logloss:0.279718\n",
            "[44]\tvalidation_0-logloss:0.093594\tvalidation_1-logloss:0.277438\n",
            "[45]\tvalidation_0-logloss:0.090803\tvalidation_1-logloss:0.275416\n",
            "[46]\tvalidation_0-logloss:0.088072\tvalidation_1-logloss:0.275037\n",
            "[47]\tvalidation_0-logloss:0.085411\tvalidation_1-logloss:0.274579\n",
            "[48]\tvalidation_0-logloss:0.082988\tvalidation_1-logloss:0.273483\n",
            "[49]\tvalidation_0-logloss:0.080349\tvalidation_1-logloss:0.272474\n",
            "[50]\tvalidation_0-logloss:0.077857\tvalidation_1-logloss:0.271628\n",
            "[51]\tvalidation_0-logloss:0.075504\tvalidation_1-logloss:0.270936\n",
            "[52]\tvalidation_0-logloss:0.073438\tvalidation_1-logloss:0.26967\n",
            "[53]\tvalidation_0-logloss:0.071468\tvalidation_1-logloss:0.270078\n",
            "[54]\tvalidation_0-logloss:0.069642\tvalidation_1-logloss:0.268902\n",
            "[55]\tvalidation_0-logloss:0.067661\tvalidation_1-logloss:0.268544\n",
            "[56]\tvalidation_0-logloss:0.065915\tvalidation_1-logloss:0.268998\n",
            "[57]\tvalidation_0-logloss:0.064327\tvalidation_1-logloss:0.267897\n",
            "[58]\tvalidation_0-logloss:0.062588\tvalidation_1-logloss:0.266632\n",
            "[59]\tvalidation_0-logloss:0.061074\tvalidation_1-logloss:0.267428\n",
            "[60]\tvalidation_0-logloss:0.05957\tvalidation_1-logloss:0.266097\n",
            "[61]\tvalidation_0-logloss:0.058166\tvalidation_1-logloss:0.266438\n",
            "[62]\tvalidation_0-logloss:0.056912\tvalidation_1-logloss:0.26673\n",
            "[63]\tvalidation_0-logloss:0.055498\tvalidation_1-logloss:0.265499\n",
            "[64]\tvalidation_0-logloss:0.054219\tvalidation_1-logloss:0.26443\n",
            "[65]\tvalidation_0-logloss:0.053109\tvalidation_1-logloss:0.265004\n",
            "[66]\tvalidation_0-logloss:0.05207\tvalidation_1-logloss:0.265905\n",
            "[67]\tvalidation_0-logloss:0.050929\tvalidation_1-logloss:0.265012\n",
            "[68]\tvalidation_0-logloss:0.04976\tvalidation_1-logloss:0.264348\n",
            "[69]\tvalidation_0-logloss:0.048717\tvalidation_1-logloss:0.263599\n",
            "[70]\tvalidation_0-logloss:0.047764\tvalidation_1-logloss:0.263186\n",
            "[71]\tvalidation_0-logloss:0.046802\tvalidation_1-logloss:0.262547\n",
            "[72]\tvalidation_0-logloss:0.0458\tvalidation_1-logloss:0.26204\n",
            "[73]\tvalidation_0-logloss:0.044838\tvalidation_1-logloss:0.262537\n",
            "[74]\tvalidation_0-logloss:0.043883\tvalidation_1-logloss:0.262887\n",
            "[75]\tvalidation_0-logloss:0.043086\tvalidation_1-logloss:0.262487\n",
            "[76]\tvalidation_0-logloss:0.042236\tvalidation_1-logloss:0.262175\n",
            "[77]\tvalidation_0-logloss:0.04133\tvalidation_1-logloss:0.261664\n",
            "[78]\tvalidation_0-logloss:0.0405\tvalidation_1-logloss:0.26179\n",
            "[79]\tvalidation_0-logloss:0.039667\tvalidation_1-logloss:0.261034\n",
            "[80]\tvalidation_0-logloss:0.038765\tvalidation_1-logloss:0.260937\n",
            "[81]\tvalidation_0-logloss:0.038064\tvalidation_1-logloss:0.261483\n",
            "[82]\tvalidation_0-logloss:0.037396\tvalidation_1-logloss:0.260539\n",
            "[83]\tvalidation_0-logloss:0.036763\tvalidation_1-logloss:0.259672\n",
            "[84]\tvalidation_0-logloss:0.036052\tvalidation_1-logloss:0.259053\n",
            "[85]\tvalidation_0-logloss:0.035453\tvalidation_1-logloss:0.260073\n",
            "[86]\tvalidation_0-logloss:0.034885\tvalidation_1-logloss:0.259836\n",
            "[87]\tvalidation_0-logloss:0.03425\tvalidation_1-logloss:0.259332\n",
            "[88]\tvalidation_0-logloss:0.033608\tvalidation_1-logloss:0.259319\n",
            "[89]\tvalidation_0-logloss:0.033107\tvalidation_1-logloss:0.260023\n",
            "[90]\tvalidation_0-logloss:0.0326\tvalidation_1-logloss:0.25936\n",
            "[91]\tvalidation_0-logloss:0.032016\tvalidation_1-logloss:0.258861\n",
            "[92]\tvalidation_0-logloss:0.031522\tvalidation_1-logloss:0.259177\n",
            "[93]\tvalidation_0-logloss:0.031067\tvalidation_1-logloss:0.258645\n",
            "[94]\tvalidation_0-logloss:0.030485\tvalidation_1-logloss:0.259511\n",
            "[95]\tvalidation_0-logloss:0.030072\tvalidation_1-logloss:0.260911\n",
            "[96]\tvalidation_0-logloss:0.029626\tvalidation_1-logloss:0.260142\n",
            "[97]\tvalidation_0-logloss:0.029131\tvalidation_1-logloss:0.25974\n",
            "[98]\tvalidation_0-logloss:0.02866\tvalidation_1-logloss:0.259371\n",
            "[99]\tvalidation_0-logloss:0.028285\tvalidation_1-logloss:0.258932\n",
            "[100]\tvalidation_0-logloss:0.027886\tvalidation_1-logloss:0.259282\n",
            "[101]\tvalidation_0-logloss:0.027512\tvalidation_1-logloss:0.259552\n",
            "[102]\tvalidation_0-logloss:0.027137\tvalidation_1-logloss:0.259006\n",
            "[103]\tvalidation_0-logloss:0.026676\tvalidation_1-logloss:0.259906\n",
            "[104]\tvalidation_0-logloss:0.026343\tvalidation_1-logloss:0.259499\n",
            "[105]\tvalidation_0-logloss:0.025943\tvalidation_1-logloss:0.25924\n",
            "[106]\tvalidation_0-logloss:0.025561\tvalidation_1-logloss:0.259006\n",
            "[107]\tvalidation_0-logloss:0.025219\tvalidation_1-logloss:0.257375\n",
            "[108]\tvalidation_0-logloss:0.024916\tvalidation_1-logloss:0.257017\n",
            "[109]\tvalidation_0-logloss:0.024525\tvalidation_1-logloss:0.257891\n",
            "[110]\tvalidation_0-logloss:0.02418\tvalidation_1-logloss:0.257703\n",
            "[111]\tvalidation_0-logloss:0.023838\tvalidation_1-logloss:0.25842\n",
            "[112]\tvalidation_0-logloss:0.023563\tvalidation_1-logloss:0.2581\n",
            "[113]\tvalidation_0-logloss:0.023219\tvalidation_1-logloss:0.258476\n",
            "[114]\tvalidation_0-logloss:0.022903\tvalidation_1-logloss:0.258327\n",
            "[115]\tvalidation_0-logloss:0.022602\tvalidation_1-logloss:0.258196\n",
            "[116]\tvalidation_0-logloss:0.022286\tvalidation_1-logloss:0.259054\n",
            "[117]\tvalidation_0-logloss:0.022039\tvalidation_1-logloss:0.258778\n",
            "[118]\tvalidation_0-logloss:0.021756\tvalidation_1-logloss:0.25728\n",
            "[119]\tvalidation_0-logloss:0.021492\tvalidation_1-logloss:0.257225\n",
            "[120]\tvalidation_0-logloss:0.021194\tvalidation_1-logloss:0.257639\n",
            "[121]\tvalidation_0-logloss:0.020948\tvalidation_1-logloss:0.25761\n",
            "[122]\tvalidation_0-logloss:0.020666\tvalidation_1-logloss:0.258319\n",
            "[123]\tvalidation_0-logloss:0.020448\tvalidation_1-logloss:0.25808\n",
            "[124]\tvalidation_0-logloss:0.020231\tvalidation_1-logloss:0.25855\n",
            "[125]\tvalidation_0-logloss:0.019979\tvalidation_1-logloss:0.257135\n",
            "[126]\tvalidation_0-logloss:0.019728\tvalidation_1-logloss:0.255869\n",
            "[127]\tvalidation_0-logloss:0.019465\tvalidation_1-logloss:0.256403\n",
            "[128]\tvalidation_0-logloss:0.019271\tvalidation_1-logloss:0.256846\n",
            "[129]\tvalidation_0-logloss:0.019079\tvalidation_1-logloss:0.256648\n",
            "[130]\tvalidation_0-logloss:0.018855\tvalidation_1-logloss:0.257117\n",
            "[131]\tvalidation_0-logloss:0.018634\tvalidation_1-logloss:0.256086\n",
            "[132]\tvalidation_0-logloss:0.018388\tvalidation_1-logloss:0.256486\n",
            "[133]\tvalidation_0-logloss:0.018156\tvalidation_1-logloss:0.257893\n",
            "[134]\tvalidation_0-logloss:0.018016\tvalidation_1-logloss:0.258114\n",
            "[135]\tvalidation_0-logloss:0.017846\tvalidation_1-logloss:0.257936\n",
            "[136]\tvalidation_0-logloss:0.017628\tvalidation_1-logloss:0.258756\n",
            "[137]\tvalidation_0-logloss:0.01748\tvalidation_1-logloss:0.258839\n",
            "[138]\tvalidation_0-logloss:0.017322\tvalidation_1-logloss:0.258673\n",
            "[139]\tvalidation_0-logloss:0.017188\tvalidation_1-logloss:0.258756\n",
            "[140]\tvalidation_0-logloss:0.016962\tvalidation_1-logloss:0.259871\n",
            "[141]\tvalidation_0-logloss:0.016808\tvalidation_1-logloss:0.259601\n",
            "[142]\tvalidation_0-logloss:0.016689\tvalidation_1-logloss:0.259824\n",
            "[143]\tvalidation_0-logloss:0.016565\tvalidation_1-logloss:0.259922\n",
            "[144]\tvalidation_0-logloss:0.016383\tvalidation_1-logloss:0.260348\n",
            "[145]\tvalidation_0-logloss:0.016227\tvalidation_1-logloss:0.260546\n",
            "[146]\tvalidation_0-logloss:0.016061\tvalidation_1-logloss:0.260917\n",
            "[147]\tvalidation_0-logloss:0.015892\tvalidation_1-logloss:0.26137\n",
            "[148]\tvalidation_0-logloss:0.015719\tvalidation_1-logloss:0.259991\n",
            "[149]\tvalidation_0-logloss:0.015565\tvalidation_1-logloss:0.260284\n",
            "[150]\tvalidation_0-logloss:0.015457\tvalidation_1-logloss:0.260479\n",
            "[151]\tvalidation_0-logloss:0.015307\tvalidation_1-logloss:0.261421\n",
            "[152]\tvalidation_0-logloss:0.015151\tvalidation_1-logloss:0.261877\n",
            "[153]\tvalidation_0-logloss:0.015006\tvalidation_1-logloss:0.262274\n",
            "[154]\tvalidation_0-logloss:0.01486\tvalidation_1-logloss:0.262866\n",
            "[155]\tvalidation_0-logloss:0.014759\tvalidation_1-logloss:0.262988\n",
            "[156]\tvalidation_0-logloss:0.014615\tvalidation_1-logloss:0.263459\n",
            "[157]\tvalidation_0-logloss:0.014481\tvalidation_1-logloss:0.263786\n",
            "[158]\tvalidation_0-logloss:0.014336\tvalidation_1-logloss:0.263057\n",
            "[159]\tvalidation_0-logloss:0.014243\tvalidation_1-logloss:0.262369\n",
            "[160]\tvalidation_0-logloss:0.014103\tvalidation_1-logloss:0.262511\n",
            "[161]\tvalidation_0-logloss:0.014009\tvalidation_1-logloss:0.262647\n",
            "[162]\tvalidation_0-logloss:0.013918\tvalidation_1-logloss:0.262639\n",
            "[163]\tvalidation_0-logloss:0.013805\tvalidation_1-logloss:0.262501\n",
            "[164]\tvalidation_0-logloss:0.013717\tvalidation_1-logloss:0.262639\n",
            "[165]\tvalidation_0-logloss:0.013587\tvalidation_1-logloss:0.262551\n",
            "[166]\tvalidation_0-logloss:0.013503\tvalidation_1-logloss:0.261884\n",
            "[167]\tvalidation_0-logloss:0.013417\tvalidation_1-logloss:0.262026\n",
            "[168]\tvalidation_0-logloss:0.013312\tvalidation_1-logloss:0.261898\n",
            "[169]\tvalidation_0-logloss:0.013192\tvalidation_1-logloss:0.26184\n",
            "[170]\tvalidation_0-logloss:0.013124\tvalidation_1-logloss:0.261331\n",
            "[171]\tvalidation_0-logloss:0.013044\tvalidation_1-logloss:0.261479\n",
            "[172]\tvalidation_0-logloss:0.01297\tvalidation_1-logloss:0.26157\n",
            "[173]\tvalidation_0-logloss:0.012846\tvalidation_1-logloss:0.262534\n",
            "[174]\tvalidation_0-logloss:0.012777\tvalidation_1-logloss:0.26229\n",
            "[175]\tvalidation_0-logloss:0.012668\tvalidation_1-logloss:0.260863\n",
            "[176]\tvalidation_0-logloss:0.012581\tvalidation_1-logloss:0.261032\n",
            "Stopping. Best iteration:\n",
            "[126]\tvalidation_0-logloss:0.019728\tvalidation_1-logloss:0.255869\n",
            "\n"
          ]
        }
      ]
    },
    {
      "cell_type": "markdown",
      "source": [
        "`n_estimators`를 `400`으로 지정하여 400번 반복하게 했지만 176번만 반복하고 학습을 완료했습니다. 126번 반복 시 logloss가 0.255869이고 176번 반복 시 0.261032인데, 126번에서 176번까지 `early_stopping_rounds=50`으로 지정된 5번의 반복 학습을 수행하는 동안 성능 평가 지수가 향상되지 않았기 때문에 반복을 멈춘 것입니다.\n",
        "\n",
        "조기 중단으로 학습된 모델의 예측 성능을 확인하겠습니다."
      ],
      "metadata": {
        "id": "_GWxVrWnPMyQ"
      }
    },
    {
      "cell_type": "code",
      "source": [
        "get_clf_eval(y_test, ws50_preds, ws50_pred_proba)"
      ],
      "metadata": {
        "colab": {
          "base_uri": "https://localhost:8080/"
        },
        "id": "WGHoANCxMRhw",
        "outputId": "65c17461-ece4-4f21-a60a-4daa8f069200"
      },
      "execution_count": 72,
      "outputs": [
        {
          "output_type": "stream",
          "name": "stdout",
          "text": [
            "오차 행렬\n",
            "[[34  3]\n",
            " [ 2 75]]\n",
            "정확도: 0.9561, 정밀도: 0.9615, 재현율: 0.9740, F1: 0.9677,    AUC: 0.9933\n"
          ]
        }
      ]
    },
    {
      "cell_type": "markdown",
      "source": [
        "성능이 약간 떨어졌습니다.\n",
        "\n",
        "`early_stopping_rounds` 파라미터의 값을 `10`으로 내려보겠습니다."
      ],
      "metadata": {
        "id": "Xe1kbaabQU4s"
      }
    },
    {
      "cell_type": "code",
      "source": [
        "xgb_wrapper.fit(X_tr, y_tr, early_stopping_rounds=10, eval_metric='logloss',\n",
        "                eval_set=evals, verbose=True)\n",
        "ws10_preds = xgb_wrapper.predict(X_test)\n",
        "ws10_pred_proba = xgb_wrapper.predict_proba(X_test)[:, 1]"
      ],
      "metadata": {
        "colab": {
          "base_uri": "https://localhost:8080/"
        },
        "id": "cPg-RzPYMZ-X",
        "outputId": "003d742f-6e2c-4413-bff8-347153b03c45"
      },
      "execution_count": 73,
      "outputs": [
        {
          "output_type": "stream",
          "name": "stdout",
          "text": [
            "[0]\tvalidation_0-logloss:0.650162\tvalidation_1-logloss:0.661831\n",
            "Multiple eval metrics have been passed: 'validation_1-logloss' will be used for early stopping.\n",
            "\n",
            "Will train until validation_1-logloss hasn't improved in 10 rounds.\n",
            "[1]\tvalidation_0-logloss:0.611314\tvalidation_1-logloss:0.636086\n",
            "[2]\tvalidation_0-logloss:0.57563\tvalidation_1-logloss:0.611436\n",
            "[3]\tvalidation_0-logloss:0.543099\tvalidation_1-logloss:0.592036\n",
            "[4]\tvalidation_0-logloss:0.513234\tvalidation_1-logloss:0.573291\n",
            "[5]\tvalidation_0-logloss:0.484475\tvalidation_1-logloss:0.550371\n",
            "[6]\tvalidation_0-logloss:0.457959\tvalidation_1-logloss:0.529295\n",
            "[7]\tvalidation_0-logloss:0.434357\tvalidation_1-logloss:0.51534\n",
            "[8]\tvalidation_0-logloss:0.411503\tvalidation_1-logloss:0.497179\n",
            "[9]\tvalidation_0-logloss:0.390274\tvalidation_1-logloss:0.481542\n",
            "[10]\tvalidation_0-logloss:0.371284\tvalidation_1-logloss:0.469904\n",
            "[11]\tvalidation_0-logloss:0.352541\tvalidation_1-logloss:0.45474\n",
            "[12]\tvalidation_0-logloss:0.335278\tvalidation_1-logloss:0.442294\n",
            "[13]\tvalidation_0-logloss:0.318925\tvalidation_1-logloss:0.429608\n",
            "[14]\tvalidation_0-logloss:0.304393\tvalidation_1-logloss:0.420649\n",
            "[15]\tvalidation_0-logloss:0.289996\tvalidation_1-logloss:0.409577\n",
            "[16]\tvalidation_0-logloss:0.276513\tvalidation_1-logloss:0.398867\n",
            "[17]\tvalidation_0-logloss:0.263894\tvalidation_1-logloss:0.390504\n",
            "[18]\tvalidation_0-logloss:0.252102\tvalidation_1-logloss:0.382539\n",
            "[19]\tvalidation_0-logloss:0.241231\tvalidation_1-logloss:0.373933\n",
            "[20]\tvalidation_0-logloss:0.230763\tvalidation_1-logloss:0.367887\n",
            "[21]\tvalidation_0-logloss:0.220913\tvalidation_1-logloss:0.360174\n",
            "[22]\tvalidation_0-logloss:0.211555\tvalidation_1-logloss:0.354212\n",
            "[23]\tvalidation_0-logloss:0.20263\tvalidation_1-logloss:0.346828\n",
            "[24]\tvalidation_0-logloss:0.194341\tvalidation_1-logloss:0.341107\n",
            "[25]\tvalidation_0-logloss:0.186369\tvalidation_1-logloss:0.336341\n",
            "[26]\tvalidation_0-logloss:0.178748\tvalidation_1-logloss:0.330823\n",
            "[27]\tvalidation_0-logloss:0.171671\tvalidation_1-logloss:0.326746\n",
            "[28]\tvalidation_0-logloss:0.164814\tvalidation_1-logloss:0.32099\n",
            "[29]\tvalidation_0-logloss:0.158347\tvalidation_1-logloss:0.316706\n",
            "[30]\tvalidation_0-logloss:0.152249\tvalidation_1-logloss:0.312766\n",
            "[31]\tvalidation_0-logloss:0.146498\tvalidation_1-logloss:0.308823\n",
            "[32]\tvalidation_0-logloss:0.141021\tvalidation_1-logloss:0.304373\n",
            "[33]\tvalidation_0-logloss:0.135903\tvalidation_1-logloss:0.301034\n",
            "[34]\tvalidation_0-logloss:0.131089\tvalidation_1-logloss:0.297937\n",
            "[35]\tvalidation_0-logloss:0.126469\tvalidation_1-logloss:0.294994\n",
            "[36]\tvalidation_0-logloss:0.121972\tvalidation_1-logloss:0.292951\n",
            "[37]\tvalidation_0-logloss:0.117844\tvalidation_1-logloss:0.290434\n",
            "[38]\tvalidation_0-logloss:0.113793\tvalidation_1-logloss:0.289272\n",
            "[39]\tvalidation_0-logloss:0.109943\tvalidation_1-logloss:0.285777\n",
            "[40]\tvalidation_0-logloss:0.106376\tvalidation_1-logloss:0.283644\n",
            "[41]\tvalidation_0-logloss:0.103022\tvalidation_1-logloss:0.281831\n",
            "[42]\tvalidation_0-logloss:0.099625\tvalidation_1-logloss:0.280047\n",
            "[43]\tvalidation_0-logloss:0.096486\tvalidation_1-logloss:0.279718\n",
            "[44]\tvalidation_0-logloss:0.093594\tvalidation_1-logloss:0.277438\n",
            "[45]\tvalidation_0-logloss:0.090803\tvalidation_1-logloss:0.275416\n",
            "[46]\tvalidation_0-logloss:0.088072\tvalidation_1-logloss:0.275037\n",
            "[47]\tvalidation_0-logloss:0.085411\tvalidation_1-logloss:0.274579\n",
            "[48]\tvalidation_0-logloss:0.082988\tvalidation_1-logloss:0.273483\n",
            "[49]\tvalidation_0-logloss:0.080349\tvalidation_1-logloss:0.272474\n",
            "[50]\tvalidation_0-logloss:0.077857\tvalidation_1-logloss:0.271628\n",
            "[51]\tvalidation_0-logloss:0.075504\tvalidation_1-logloss:0.270936\n",
            "[52]\tvalidation_0-logloss:0.073438\tvalidation_1-logloss:0.26967\n",
            "[53]\tvalidation_0-logloss:0.071468\tvalidation_1-logloss:0.270078\n",
            "[54]\tvalidation_0-logloss:0.069642\tvalidation_1-logloss:0.268902\n",
            "[55]\tvalidation_0-logloss:0.067661\tvalidation_1-logloss:0.268544\n",
            "[56]\tvalidation_0-logloss:0.065915\tvalidation_1-logloss:0.268998\n",
            "[57]\tvalidation_0-logloss:0.064327\tvalidation_1-logloss:0.267897\n",
            "[58]\tvalidation_0-logloss:0.062588\tvalidation_1-logloss:0.266632\n",
            "[59]\tvalidation_0-logloss:0.061074\tvalidation_1-logloss:0.267428\n",
            "[60]\tvalidation_0-logloss:0.05957\tvalidation_1-logloss:0.266097\n",
            "[61]\tvalidation_0-logloss:0.058166\tvalidation_1-logloss:0.266438\n",
            "[62]\tvalidation_0-logloss:0.056912\tvalidation_1-logloss:0.26673\n",
            "[63]\tvalidation_0-logloss:0.055498\tvalidation_1-logloss:0.265499\n",
            "[64]\tvalidation_0-logloss:0.054219\tvalidation_1-logloss:0.26443\n",
            "[65]\tvalidation_0-logloss:0.053109\tvalidation_1-logloss:0.265004\n",
            "[66]\tvalidation_0-logloss:0.05207\tvalidation_1-logloss:0.265905\n",
            "[67]\tvalidation_0-logloss:0.050929\tvalidation_1-logloss:0.265012\n",
            "[68]\tvalidation_0-logloss:0.04976\tvalidation_1-logloss:0.264348\n",
            "[69]\tvalidation_0-logloss:0.048717\tvalidation_1-logloss:0.263599\n",
            "[70]\tvalidation_0-logloss:0.047764\tvalidation_1-logloss:0.263186\n",
            "[71]\tvalidation_0-logloss:0.046802\tvalidation_1-logloss:0.262547\n",
            "[72]\tvalidation_0-logloss:0.0458\tvalidation_1-logloss:0.26204\n",
            "[73]\tvalidation_0-logloss:0.044838\tvalidation_1-logloss:0.262537\n",
            "[74]\tvalidation_0-logloss:0.043883\tvalidation_1-logloss:0.262887\n",
            "[75]\tvalidation_0-logloss:0.043086\tvalidation_1-logloss:0.262487\n",
            "[76]\tvalidation_0-logloss:0.042236\tvalidation_1-logloss:0.262175\n",
            "[77]\tvalidation_0-logloss:0.04133\tvalidation_1-logloss:0.261664\n",
            "[78]\tvalidation_0-logloss:0.0405\tvalidation_1-logloss:0.26179\n",
            "[79]\tvalidation_0-logloss:0.039667\tvalidation_1-logloss:0.261034\n",
            "[80]\tvalidation_0-logloss:0.038765\tvalidation_1-logloss:0.260937\n",
            "[81]\tvalidation_0-logloss:0.038064\tvalidation_1-logloss:0.261483\n",
            "[82]\tvalidation_0-logloss:0.037396\tvalidation_1-logloss:0.260539\n",
            "[83]\tvalidation_0-logloss:0.036763\tvalidation_1-logloss:0.259672\n",
            "[84]\tvalidation_0-logloss:0.036052\tvalidation_1-logloss:0.259053\n",
            "[85]\tvalidation_0-logloss:0.035453\tvalidation_1-logloss:0.260073\n",
            "[86]\tvalidation_0-logloss:0.034885\tvalidation_1-logloss:0.259836\n",
            "[87]\tvalidation_0-logloss:0.03425\tvalidation_1-logloss:0.259332\n",
            "[88]\tvalidation_0-logloss:0.033608\tvalidation_1-logloss:0.259319\n",
            "[89]\tvalidation_0-logloss:0.033107\tvalidation_1-logloss:0.260023\n",
            "[90]\tvalidation_0-logloss:0.0326\tvalidation_1-logloss:0.25936\n",
            "[91]\tvalidation_0-logloss:0.032016\tvalidation_1-logloss:0.258861\n",
            "[92]\tvalidation_0-logloss:0.031522\tvalidation_1-logloss:0.259177\n",
            "[93]\tvalidation_0-logloss:0.031067\tvalidation_1-logloss:0.258645\n",
            "[94]\tvalidation_0-logloss:0.030485\tvalidation_1-logloss:0.259511\n",
            "[95]\tvalidation_0-logloss:0.030072\tvalidation_1-logloss:0.260911\n",
            "[96]\tvalidation_0-logloss:0.029626\tvalidation_1-logloss:0.260142\n",
            "[97]\tvalidation_0-logloss:0.029131\tvalidation_1-logloss:0.25974\n",
            "[98]\tvalidation_0-logloss:0.02866\tvalidation_1-logloss:0.259371\n",
            "[99]\tvalidation_0-logloss:0.028285\tvalidation_1-logloss:0.258932\n",
            "[100]\tvalidation_0-logloss:0.027886\tvalidation_1-logloss:0.259282\n",
            "[101]\tvalidation_0-logloss:0.027512\tvalidation_1-logloss:0.259552\n",
            "[102]\tvalidation_0-logloss:0.027137\tvalidation_1-logloss:0.259006\n",
            "[103]\tvalidation_0-logloss:0.026676\tvalidation_1-logloss:0.259906\n",
            "Stopping. Best iteration:\n",
            "[93]\tvalidation_0-logloss:0.031067\tvalidation_1-logloss:0.258645\n",
            "\n"
          ]
        }
      ]
    },
    {
      "cell_type": "markdown",
      "source": [
        "조기 중단으로 학습된 모델의 예측 성능을 확인하겠습니다."
      ],
      "metadata": {
        "id": "6tkBGIl7Q6oI"
      }
    },
    {
      "cell_type": "code",
      "source": [
        "get_clf_eval(y_test, ws10_preds, ws10_pred_proba)"
      ],
      "metadata": {
        "colab": {
          "base_uri": "https://localhost:8080/"
        },
        "id": "GH9IZ4JyMoxk",
        "outputId": "04c2050a-1843-48a4-b9c3-299de03b73b5"
      },
      "execution_count": 74,
      "outputs": [
        {
          "output_type": "stream",
          "name": "stdout",
          "text": [
            "오차 행렬\n",
            "[[34  3]\n",
            " [ 3 74]]\n",
            "정확도: 0.9474, 정밀도: 0.9610, 재현율: 0.9610, F1: 0.9610,    AUC: 0.9933\n"
          ]
        }
      ]
    },
    {
      "cell_type": "markdown",
      "source": [
        "성능이 더 떨어졌습니다. 이처럼 조기 중단값을 급격하게 줄이면 예측 성능이 저하될 수 있습니다. 성능이 향상될 여지가 있지만 10번 반복하는 동안 성능 평가 지표가 향상되지 않아서 반복을 멈추고 학습을 충분하게 수행하지 못하여 예측 성능이 저하되는 것입니다.\n",
        "\n",
        "`plot_importance()` 메서드를 사용하여 피처 중요도를 시각화해보겠습니다."
      ],
      "metadata": {
        "id": "HZID0Ke2Q2ax"
      }
    },
    {
      "cell_type": "code",
      "source": [
        "from xgboost import plot_importance\n",
        "import matplotlib.pyplot as plt\n",
        "%matplotlib inline\n",
        "\n",
        "fig, ax = plt.subplots(figsize=(10, 12))\n",
        "plot_importance(xgb_wrapper, ax=ax)\n",
        "plt.show()"
      ],
      "metadata": {
        "colab": {
          "base_uri": "https://localhost:8080/",
          "height": 730
        },
        "id": "UvjeWe3bMsLL",
        "outputId": "a04f3121-ae9f-4491-b6c4-3c5bee7da47b"
      },
      "execution_count": 75,
      "outputs": [
        {
          "output_type": "display_data",
          "data": {
            "text/plain": [
              "<Figure size 720x864 with 1 Axes>"
            ],
            "image/png": "[encoded data removed]"
          },
          "metadata": {
            "needs_background": "light"
          }
        }
      ]
    },
    {
      "cell_type": "markdown",
      "source": [
        "기본 평가 지표는 f1 스코어가 기반입니다."
      ],
      "metadata": {
        "id": "5S9exANYWWoL"
      }
    },
    {
      "cell_type": "markdown",
      "source": [
        "# **7. LightGBM**"
      ],
      "metadata": {
        "id": "bPG8c5fDcB73"
      }
    },
    {
      "cell_type": "markdown",
      "source": [
        "**LightGBM**은 각광을 받고 있는 부스팅 계열 알고리즘입니다. XGBoost보다 학습 시간과 예측 시간이 빠르고 더 작은 메모리를 사용합니다. 아울러 원-핫 인코딩 등을 사용하지 않고도 카테고리형 피처를 최적으로 변환하고 노드를 분할합니다. 대용량 데이터에 대한 뛰어난 예측 성능을 발휘하고 병렬 컴퓨팅 기능과 GPU를 제공합니다. 다만 일반적으로 10,000건 이하의 적은 데이터 세트에 적용하면 과적합이 발생하기 쉽습니다.\n",
        "\n",
        "LightGBM은 일반 GBM 계열의 트리 분할 방법인 **균형 트리 분할(Level Wise)**과 달리 **리프 중심 트리 분할(Leaf Wise)** 방식을 사용합니다. 균형 트리 분할은 최대한 균형 잡힌 트리를 유지하면서 분할하므로 트리 깊이를 최소화할 수 있습니다. 균형 잡힌 트리는 오버피팅에 더 강하지만 시간이 오래 걸립니다. 반면 LightGBM이 사용하는 리프 중심 트리 분할은 트리 균형을 맞추지 않고 **최대 손실 값(max delta loss)**을 가지는 리프 노드를 지속적으로 분할하면서 비대칭하고 깊이가 깊은 트리를 만듭니다. 학습을 반복할수록 균형 트리 분할 방식보다 예측 오류 손실을 최소화할 수 있습니다."
      ],
      "metadata": {
        "id": "9Ty1cR2OoouI"
      }
    },
    {
      "cell_type": "markdown",
      "source": [
        "## **7.1. LightGBM 설치**"
      ],
      "metadata": {
        "id": "nEaRwjM5cB4z"
      }
    },
    {
      "cell_type": "markdown",
      "source": [
        "생략합니다."
      ],
      "metadata": {
        "id": "wZC41CHTok_D"
      }
    },
    {
      "cell_type": "markdown",
      "source": [
        "## **7.2. LightGBM 하이퍼 파라미터**"
      ],
      "metadata": {
        "id": "3FNuWZ-5cB2T"
      }
    },
    {
      "cell_type": "code",
      "source": [
        "import lightgbm\n",
        "\n",
        "print(lightgbm.__version__)"
      ],
      "metadata": {
        "colab": {
          "base_uri": "https://localhost:8080/"
        },
        "id": "izOXIzbojJrx",
        "outputId": "b0babd31-630f-4df9-c36d-6daa3549de5d"
      },
      "execution_count": 81,
      "outputs": [
        {
          "output_type": "stream",
          "name": "stdout",
          "text": [
            "2.2.3\n"
          ]
        }
      ]
    },
    {
      "cell_type": "code",
      "source": [
        "from lightgbm import LGBMClassifier\n",
        "\n",
        "help(LGBMClassifier)"
      ],
      "metadata": {
        "colab": {
          "base_uri": "https://localhost:8080/"
        },
        "id": "4EIB9iRby9mr",
        "outputId": "9c8fb4c2-b8e2-4566-fd4a-144011a881e3"
      },
      "execution_count": 76,
      "outputs": [
        {
          "output_type": "stream",
          "name": "stdout",
          "text": [
            "Help on class LGBMClassifier in module lightgbm.sklearn:\n",
            "\n",
            "class LGBMClassifier(LGBMModel, sklearn.base.ClassifierMixin)\n",
            " |  LGBMClassifier(boosting_type='gbdt', num_leaves=31, max_depth=-1, learning_rate=0.1, n_estimators=100, subsample_for_bin=200000, objective=None, class_weight=None, min_split_gain=0.0, min_child_weight=0.001, min_child_samples=20, subsample=1.0, subsample_freq=0, colsample_bytree=1.0, reg_alpha=0.0, reg_lambda=0.0, random_state=None, n_jobs=-1, silent=True, importance_type='split', **kwargs)\n",
            " |  \n",
            " |  LightGBM classifier.\n",
            " |  \n",
            " |  Method resolution order:\n",
            " |      LGBMClassifier\n",
            " |      LGBMModel\n",
            " |      sklearn.base.BaseEstimator\n",
            " |      sklearn.base.ClassifierMixin\n",
            " |      builtins.object\n",
            " |  \n",
            " |  Methods defined here:\n",
            " |  \n",
            " |  fit(self, X, y, sample_weight=None, init_score=None, eval_set=None, eval_names=None, eval_sample_weight=None, eval_class_weight=None, eval_init_score=None, eval_metric=None, early_stopping_rounds=None, verbose=True, feature_name='auto', categorical_feature='auto', callbacks=None)\n",
            " |      Build a gradient boosting model from the training set (X, y).\n",
            " |      \n",
            " |      Parameters\n",
            " |      ----------\n",
            " |      X : array-like or sparse matrix of shape = [n_samples, n_features]\n",
            " |          Input feature matrix.\n",
            " |      y : array-like of shape = [n_samples]\n",
            " |          The target values (class labels in classification, real numbers in regression).\n",
            " |      sample_weight : array-like of shape = [n_samples] or None, optional (default=None)\n",
            " |          Weights of training data.\n",
            " |      init_score : array-like of shape = [n_samples] or None, optional (default=None)\n",
            " |          Init score of training data.\n",
            " |      group : array-like or None, optional (default=None)\n",
            " |          Group data of training data.\n",
            " |      eval_set : list or None, optional (default=None)\n",
            " |          A list of (X, y) tuple pairs to use as validation sets.\n",
            " |      eval_names : list of strings or None, optional (default=None)\n",
            " |          Names of eval_set.\n",
            " |      eval_sample_weight : list of arrays or None, optional (default=None)\n",
            " |          Weights of eval data.\n",
            " |      eval_class_weight : list or None, optional (default=None)\n",
            " |          Class weights of eval data.\n",
            " |      eval_init_score : list of arrays or None, optional (default=None)\n",
            " |          Init score of eval data.\n",
            " |      eval_group : list of arrays or None, optional (default=None)\n",
            " |          Group data of eval data.\n",
            " |      eval_metric : string, list of strings, callable or None, optional (default=None)\n",
            " |          If string, it should be a built-in evaluation metric to use.\n",
            " |          If callable, it should be a custom evaluation metric, see note below for more details.\n",
            " |          In either case, the ``metric`` from the model parameters will be evaluated and used as well.\n",
            " |          Default: 'l2' for LGBMRegressor, 'logloss' for LGBMClassifier, 'ndcg' for LGBMRanker.\n",
            " |      early_stopping_rounds : int or None, optional (default=None)\n",
            " |          Activates early stopping. The model will train until the validation score stops improving.\n",
            " |          Validation score needs to improve at least every ``early_stopping_rounds`` round(s)\n",
            " |          to continue training.\n",
            " |          Requires at least one validation data and one metric.\n",
            " |          If there's more than one, will check all of them. But the training data is ignored anyway.\n",
            " |      verbose : bool or int, optional (default=True)\n",
            " |          Requires at least one evaluation data.\n",
            " |          If True, the eval metric on the eval set is printed at each boosting stage.\n",
            " |          If int, the eval metric on the eval set is printed at every ``verbose`` boosting stage.\n",
            " |          The last boosting stage or the boosting stage found by using ``early_stopping_rounds`` is also printed.\n",
            " |      \n",
            " |          Example\n",
            " |          -------\n",
            " |          With ``verbose`` = 4 and at least one item in ``eval_set``,\n",
            " |          an evaluation metric is printed every 4 (instead of 1) boosting stages.\n",
            " |      \n",
            " |      feature_name : list of strings or 'auto', optional (default='auto')\n",
            " |          Feature names.\n",
            " |          If 'auto' and data is pandas DataFrame, data columns names are used.\n",
            " |      categorical_feature : list of strings or int, or 'auto', optional (default='auto')\n",
            " |          Categorical features.\n",
            " |          If list of int, interpreted as indices.\n",
            " |          If list of strings, interpreted as feature names (need to specify ``feature_name`` as well).\n",
            " |          If 'auto' and data is pandas DataFrame, pandas categorical columns are used.\n",
            " |          All values in categorical features should be less than int32 max value (2147483647).\n",
            " |          Large values could be memory consuming. Consider using consecutive integers starting from zero.\n",
            " |          All negative values in categorical features will be treated as missing values.\n",
            " |      callbacks : list of callback functions or None, optional (default=None)\n",
            " |          List of callback functions that are applied at each iteration.\n",
            " |          See Callbacks in Python API for more information.\n",
            " |      \n",
            " |      Returns\n",
            " |      -------\n",
            " |      self : object\n",
            " |          Returns self.\n",
            " |      \n",
            " |      Note\n",
            " |      ----\n",
            " |      Custom eval function expects a callable with following signatures:\n",
            " |      ``func(y_true, y_pred)``, ``func(y_true, y_pred, weight)`` or\n",
            " |      ``func(y_true, y_pred, weight, group)``\n",
            " |      and returns (eval_name, eval_result, is_bigger_better) or\n",
            " |      list of (eval_name, eval_result, is_bigger_better):\n",
            " |      \n",
            " |          y_true : array-like of shape = [n_samples]\n",
            " |              The target values.\n",
            " |          y_pred : array-like of shape = [n_samples] or shape = [n_samples * n_classes] (for multi-class task)\n",
            " |              The predicted values.\n",
            " |          weight : array-like of shape = [n_samples]\n",
            " |              The weight of samples.\n",
            " |          group : array-like\n",
            " |              Group/query data, used for ranking task.\n",
            " |          eval_name : string\n",
            " |              The name of evaluation.\n",
            " |          eval_result : float\n",
            " |              The eval result.\n",
            " |          is_bigger_better : bool\n",
            " |              Is eval result bigger better, e.g. AUC is bigger_better.\n",
            " |      \n",
            " |      For multi-class task, the y_pred is group by class_id first, then group by row_id.\n",
            " |      If you want to get i-th row y_pred in j-th class, the access way is y_pred[j * num_data + i].\n",
            " |  \n",
            " |  predict(self, X, raw_score=False, num_iteration=None, pred_leaf=False, pred_contrib=False, **kwargs)\n",
            " |      Return the predicted value for each sample.\n",
            " |      \n",
            " |      Parameters\n",
            " |      ----------\n",
            " |      X : array-like or sparse matrix of shape = [n_samples, n_features]\n",
            " |          Input features matrix.\n",
            " |      raw_score : bool, optional (default=False)\n",
            " |          Whether to predict raw scores.\n",
            " |      num_iteration : int or None, optional (default=None)\n",
            " |          Limit number of iterations in the prediction.\n",
            " |          If None, if the best iteration exists, it is used; otherwise, all trees are used.\n",
            " |          If <= 0, all trees are used (no limits).\n",
            " |      pred_leaf : bool, optional (default=False)\n",
            " |          Whether to predict leaf index.\n",
            " |      pred_contrib : bool, optional (default=False)\n",
            " |          Whether to predict feature contributions.\n",
            " |      \n",
            " |          Note\n",
            " |          ----\n",
            " |          If you want to get more explanation for your model's predictions using SHAP values\n",
            " |          like SHAP interaction values,\n",
            " |          you can install shap package (https://github.com/slundberg/shap).\n",
            " |      \n",
            " |      **kwargs\n",
            " |          Other parameters for the prediction.\n",
            " |      \n",
            " |      Returns\n",
            " |      -------\n",
            " |      predicted_result : array-like of shape = [n_samples] or shape = [n_samples, n_classes]\n",
            " |          The predicted values.\n",
            " |      X_leaves : array-like of shape = [n_samples, n_trees] or shape [n_samples, n_trees * n_classes]\n",
            " |          If ``pred_leaf=True``, the predicted leaf every tree for each sample.\n",
            " |      X_SHAP_values : array-like of shape = [n_samples, n_features + 1] or shape [n_samples, (n_features + 1) * n_classes]\n",
            " |          If ``pred_contrib=True``, the each feature contributions for each sample.\n",
            " |  \n",
            " |  predict_proba(self, X, raw_score=False, num_iteration=None, pred_leaf=False, pred_contrib=False, **kwargs)\n",
            " |      Return the predicted probability for each class for each sample.\n",
            " |      \n",
            " |      Parameters\n",
            " |      ----------\n",
            " |      X : array-like or sparse matrix of shape = [n_samples, n_features]\n",
            " |          Input features matrix.\n",
            " |      raw_score : bool, optional (default=False)\n",
            " |          Whether to predict raw scores.\n",
            " |      num_iteration : int or None, optional (default=None)\n",
            " |          Limit number of iterations in the prediction.\n",
            " |          If None, if the best iteration exists, it is used; otherwise, all trees are used.\n",
            " |          If <= 0, all trees are used (no limits).\n",
            " |      pred_leaf : bool, optional (default=False)\n",
            " |          Whether to predict leaf index.\n",
            " |      pred_contrib : bool, optional (default=False)\n",
            " |          Whether to predict feature contributions.\n",
            " |      \n",
            " |          Note\n",
            " |          ----\n",
            " |          If you want to get more explanation for your model's predictions using SHAP values\n",
            " |          like SHAP interaction values,\n",
            " |          you can install shap package (https://github.com/slundberg/shap).\n",
            " |      \n",
            " |      **kwargs\n",
            " |          Other parameters for the prediction.\n",
            " |      \n",
            " |      Returns\n",
            " |      -------\n",
            " |      predicted_probability : array-like of shape = [n_samples, n_classes]\n",
            " |          The predicted probability for each class for each sample.\n",
            " |      X_leaves : array-like of shape = [n_samples, n_trees * n_classes]\n",
            " |          If ``pred_leaf=True``, the predicted leaf every tree for each sample.\n",
            " |      X_SHAP_values : array-like of shape = [n_samples, (n_features + 1) * n_classes]\n",
            " |          If ``pred_contrib=True``, the each feature contributions for each sample.\n",
            " |  \n",
            " |  ----------------------------------------------------------------------\n",
            " |  Data descriptors defined here:\n",
            " |  \n",
            " |  classes_\n",
            " |      Get the class label array.\n",
            " |  \n",
            " |  n_classes_\n",
            " |      Get the number of classes.\n",
            " |  \n",
            " |  ----------------------------------------------------------------------\n",
            " |  Methods inherited from LGBMModel:\n",
            " |  \n",
            " |  __init__(self, boosting_type='gbdt', num_leaves=31, max_depth=-1, learning_rate=0.1, n_estimators=100, subsample_for_bin=200000, objective=None, class_weight=None, min_split_gain=0.0, min_child_weight=0.001, min_child_samples=20, subsample=1.0, subsample_freq=0, colsample_bytree=1.0, reg_alpha=0.0, reg_lambda=0.0, random_state=None, n_jobs=-1, silent=True, importance_type='split', **kwargs)\n",
            " |      Construct a gradient boosting model.\n",
            " |      \n",
            " |      Parameters\n",
            " |      ----------\n",
            " |      boosting_type : string, optional (default='gbdt')\n",
            " |          'gbdt', traditional Gradient Boosting Decision Tree.\n",
            " |          'dart', Dropouts meet Multiple Additive Regression Trees.\n",
            " |          'goss', Gradient-based One-Side Sampling.\n",
            " |          'rf', Random Forest.\n",
            " |      num_leaves : int, optional (default=31)\n",
            " |          Maximum tree leaves for base learners.\n",
            " |      max_depth : int, optional (default=-1)\n",
            " |          Maximum tree depth for base learners, -1 means no limit.\n",
            " |      learning_rate : float, optional (default=0.1)\n",
            " |          Boosting learning rate.\n",
            " |          You can use ``callbacks`` parameter of ``fit`` method to shrink/adapt learning rate\n",
            " |          in training using ``reset_parameter`` callback.\n",
            " |          Note, that this will ignore the ``learning_rate`` argument in training.\n",
            " |      n_estimators : int, optional (default=100)\n",
            " |          Number of boosted trees to fit.\n",
            " |      subsample_for_bin : int, optional (default=200000)\n",
            " |          Number of samples for constructing bins.\n",
            " |      objective : string, callable or None, optional (default=None)\n",
            " |          Specify the learning task and the corresponding learning objective or\n",
            " |          a custom objective function to be used (see note below).\n",
            " |          Default: 'regression' for LGBMRegressor, 'binary' or 'multiclass' for LGBMClassifier, 'lambdarank' for LGBMRanker.\n",
            " |      class_weight : dict, 'balanced' or None, optional (default=None)\n",
            " |          Weights associated with classes in the form ``{class_label: weight}``.\n",
            " |          Use this parameter only for multi-class classification task;\n",
            " |          for binary classification task you may use ``is_unbalance`` or ``scale_pos_weight`` parameters.\n",
            " |          The 'balanced' mode uses the values of y to automatically adjust weights\n",
            " |          inversely proportional to class frequencies in the input data as ``n_samples / (n_classes * np.bincount(y))``.\n",
            " |          If None, all classes are supposed to have weight one.\n",
            " |          Note, that these weights will be multiplied with ``sample_weight`` (passed through the ``fit`` method)\n",
            " |          if ``sample_weight`` is specified.\n",
            " |      min_split_gain : float, optional (default=0.)\n",
            " |          Minimum loss reduction required to make a further partition on a leaf node of the tree.\n",
            " |      min_child_weight : float, optional (default=1e-3)\n",
            " |          Minimum sum of instance weight (hessian) needed in a child (leaf).\n",
            " |      min_child_samples : int, optional (default=20)\n",
            " |          Minimum number of data needed in a child (leaf).\n",
            " |      subsample : float, optional (default=1.)\n",
            " |          Subsample ratio of the training instance.\n",
            " |      subsample_freq : int, optional (default=0)\n",
            " |          Frequence of subsample, <=0 means no enable.\n",
            " |      colsample_bytree : float, optional (default=1.)\n",
            " |          Subsample ratio of columns when constructing each tree.\n",
            " |      reg_alpha : float, optional (default=0.)\n",
            " |          L1 regularization term on weights.\n",
            " |      reg_lambda : float, optional (default=0.)\n",
            " |          L2 regularization term on weights.\n",
            " |      random_state : int or None, optional (default=None)\n",
            " |          Random number seed.\n",
            " |          If None, default seeds in C++ code will be used.\n",
            " |      n_jobs : int, optional (default=-1)\n",
            " |          Number of parallel threads.\n",
            " |      silent : bool, optional (default=True)\n",
            " |          Whether to print messages while running boosting.\n",
            " |      importance_type : string, optional (default='split')\n",
            " |          The type of feature importance to be filled into ``feature_importances_``.\n",
            " |          If 'split', result contains numbers of times the feature is used in a model.\n",
            " |          If 'gain', result contains total gains of splits which use the feature.\n",
            " |      **kwargs\n",
            " |          Other parameters for the model.\n",
            " |          Check http://lightgbm.readthedocs.io/en/latest/Parameters.html for more parameters.\n",
            " |      \n",
            " |          Note\n",
            " |          ----\n",
            " |          \\*\\*kwargs is not supported in sklearn, it may cause unexpected issues.\n",
            " |      \n",
            " |      Attributes\n",
            " |      ----------\n",
            " |      n_features_ : int\n",
            " |          The number of features of fitted model.\n",
            " |      classes_ : array of shape = [n_classes]\n",
            " |          The class label array (only for classification problem).\n",
            " |      n_classes_ : int\n",
            " |          The number of classes (only for classification problem).\n",
            " |      best_score_ : dict or None\n",
            " |          The best score of fitted model.\n",
            " |      best_iteration_ : int or None\n",
            " |          The best iteration of fitted model if ``early_stopping_rounds`` has been specified.\n",
            " |      objective_ : string or callable\n",
            " |          The concrete objective used while fitting this model.\n",
            " |      booster_ : Booster\n",
            " |          The underlying Booster of this model.\n",
            " |      evals_result_ : dict or None\n",
            " |          The evaluation results if ``early_stopping_rounds`` has been specified.\n",
            " |      feature_importances_ : array of shape = [n_features]\n",
            " |          The feature importances (the higher, the more important the feature).\n",
            " |      \n",
            " |      Note\n",
            " |      ----\n",
            " |      A custom objective function can be provided for the ``objective`` parameter.\n",
            " |      In this case, it should have the signature\n",
            " |      ``objective(y_true, y_pred) -> grad, hess`` or\n",
            " |      ``objective(y_true, y_pred, group) -> grad, hess``:\n",
            " |      \n",
            " |          y_true : array-like of shape = [n_samples]\n",
            " |              The target values.\n",
            " |          y_pred : array-like of shape = [n_samples] or shape = [n_samples * n_classes] (for multi-class task)\n",
            " |              The predicted values.\n",
            " |          group : array-like\n",
            " |              Group/query data, used for ranking task.\n",
            " |          grad : array-like of shape = [n_samples] or shape = [n_samples * n_classes] (for multi-class task)\n",
            " |              The value of the gradient for each sample point.\n",
            " |          hess : array-like of shape = [n_samples] or shape = [n_samples * n_classes] (for multi-class task)\n",
            " |              The value of the second derivative for each sample point.\n",
            " |      \n",
            " |      For multi-class task, the y_pred is group by class_id first, then group by row_id.\n",
            " |      If you want to get i-th row y_pred in j-th class, the access way is y_pred[j * num_data + i]\n",
            " |      and you should group grad and hess in this way as well.\n",
            " |  \n",
            " |  get_params(self, deep=True)\n",
            " |      Get parameters for this estimator.\n",
            " |      \n",
            " |      Parameters\n",
            " |      ----------\n",
            " |      deep : bool, optional (default=True)\n",
            " |          If True, will return the parameters for this estimator and\n",
            " |          contained subobjects that are estimators.\n",
            " |      \n",
            " |      Returns\n",
            " |      -------\n",
            " |      params : dict\n",
            " |          Parameter names mapped to their values.\n",
            " |  \n",
            " |  set_params(self, **params)\n",
            " |      Set the parameters of this estimator.\n",
            " |      \n",
            " |      Parameters\n",
            " |      ----------\n",
            " |      **params\n",
            " |          Parameter names with their new values.\n",
            " |      \n",
            " |      Returns\n",
            " |      -------\n",
            " |      self : object\n",
            " |          Returns self.\n",
            " |  \n",
            " |  ----------------------------------------------------------------------\n",
            " |  Data descriptors inherited from LGBMModel:\n",
            " |  \n",
            " |  best_iteration_\n",
            " |      Get the best iteration of fitted model.\n",
            " |  \n",
            " |  best_score_\n",
            " |      Get the best score of fitted model.\n",
            " |  \n",
            " |  booster_\n",
            " |      Get the underlying lightgbm Booster of this model.\n",
            " |  \n",
            " |  evals_result_\n",
            " |      Get the evaluation results.\n",
            " |  \n",
            " |  feature_importances_\n",
            " |      Get feature importances.\n",
            " |      \n",
            " |      Note\n",
            " |      ----\n",
            " |      Feature importance in sklearn interface used to normalize to 1,\n",
            " |      it's deprecated after 2.0.4 and is the same as Booster.feature_importance() now.\n",
            " |      ``importance_type`` attribute is passed to the function\n",
            " |      to configure the type of importance values to be extracted.\n",
            " |  \n",
            " |  n_features_\n",
            " |      Get the number of features of fitted model.\n",
            " |  \n",
            " |  objective_\n",
            " |      Get the concrete objective used while fitting this model.\n",
            " |  \n",
            " |  ----------------------------------------------------------------------\n",
            " |  Methods inherited from sklearn.base.BaseEstimator:\n",
            " |  \n",
            " |  __getstate__(self)\n",
            " |  \n",
            " |  __repr__(self, N_CHAR_MAX=700)\n",
            " |      Return repr(self).\n",
            " |  \n",
            " |  __setstate__(self, state)\n",
            " |  \n",
            " |  ----------------------------------------------------------------------\n",
            " |  Data descriptors inherited from sklearn.base.BaseEstimator:\n",
            " |  \n",
            " |  __dict__\n",
            " |      dictionary for instance variables (if defined)\n",
            " |  \n",
            " |  __weakref__\n",
            " |      list of weak references to the object (if defined)\n",
            " |  \n",
            " |  ----------------------------------------------------------------------\n",
            " |  Methods inherited from sklearn.base.ClassifierMixin:\n",
            " |  \n",
            " |  score(self, X, y, sample_weight=None)\n",
            " |      Return the mean accuracy on the given test data and labels.\n",
            " |      \n",
            " |      In multi-label classification, this is the subset accuracy\n",
            " |      which is a harsh metric since you require for each sample that\n",
            " |      each label set be correctly predicted.\n",
            " |      \n",
            " |      Parameters\n",
            " |      ----------\n",
            " |      X : array-like of shape (n_samples, n_features)\n",
            " |          Test samples.\n",
            " |      \n",
            " |      y : array-like of shape (n_samples,) or (n_samples, n_outputs)\n",
            " |          True labels for `X`.\n",
            " |      \n",
            " |      sample_weight : array-like of shape (n_samples,), default=None\n",
            " |          Sample weights.\n",
            " |      \n",
            " |      Returns\n",
            " |      -------\n",
            " |      score : float\n",
            " |          Mean accuracy of ``self.predict(X)`` wrt. `y`.\n",
            "\n"
          ]
        }
      ]
    },
    {
      "cell_type": "markdown",
      "source": [
        "LightGBM의 하이퍼 파라미터는 XGBoost와 비슷합니다. 다만 LightGBM은 리프 노드가 계속 분할되면서 트리가 깊어지므로 하이퍼 파라미터를 조금 다르게 지정해야 합니다. 에컨대 `max_depth` 값이 매우 큽니다. 파라미터 목록은 아래와 같습니다.\n",
        "\n",
        "- 주요 파라미터\n",
        "\n",
        " - `n_estimators`: 반복 수행하려는 트리 개수입니다. 크게 지정하면 예측 성능이 높을 수 있지만 지나치면 과적합이 발생합니다. 디폴트는 `100`입니다.\n",
        "\n",
        " - `learning rate`: 부스팅 스텝을 반복적으로 수행할 때 업데이트되는 학습률이며 0 ~ 1 사잇값입니다. 일반적으로 `n_estimators`를 크게 하고 `learning rate`를 작게 하면 예측 성능이 향상되지만 과적합 되거나 학습 시간이 오래 걸립니다. XGBoost과 동일한 파라미터입니다. 디폴트는 `0.1`입니다.\n",
        "\n",
        " - `max_depth`: 트리 기반 알고리즘과 같습니다. 0보다 작은 값을 지정하면 깊이에 제한이 없습니다. 디폴트는 `-1`입니다.\n",
        "\n",
        " - `min_child_samples`: 최종 결정 클래스인 리프 노드가 되기 위해 최소한으로 필요한 레코드 수이며 결정 트리의 `min_samples_leaf`와 같습니다. 과적합을 제어하는 데 쓰입니다. 디폴트는 `20`입니다.\n",
        "\n",
        " - `num_leaves`: 트리 하나가 가질 수 있는 최대 리프 개수입니다. 디폴트는 `31`입니다.\n",
        "\n",
        " - `boosting`: 부스팅 트리를 생성하는 알고리즘을 기술합니다. 지정할 수 있는 값은 아래 2가지입니다.\n",
        "\n",
        "   - `gbdt`: 일반적인 그레이디언트 부스팅 결정 트리이며 디폴트입니다.\n",
        "\n",
        "   - `rf`: 랜덤 포레스트입니다.\n",
        "\n",
        " - `subsample`: 트리가 커져서 과적합되는 것을 제어하기 위해 데이터를 샘플링하는 비율입니다. XGBoost와 동일합니다.\n",
        "\n",
        " - `colsample_bytree`: 개별 트리를 학습할 때마다 무작위로 선택하는 피처의 비율입니다. 과적합 방지에 사용됩니다. GBM의 `max_features`와 유사하고 XGBoost의 `colsample_bytree`와 동일합니다. 디폴트는 `\n",
        "\n",
        " - `reg_lambda`: L2 규제 제어를 위한 값입니다. XGBoost와 동일합니다. 디폴트는 `0.0`입니다.\n",
        "\n",
        " - `reg_alpha`: L1 규제 제어를 위한 값입니다. XGBoost와 동일합니다. 디폴트는 `0.0`입니다.\n",
        "\n",
        "- 학습 태스크 파라미터\n",
        "\n",
        " - `objective`: 최솟값을 가져야 할 손실함수입니다. XGBoost와 같습니다."
      ],
      "metadata": {
        "id": "g18BW_s4r4tv"
      }
    },
    {
      "cell_type": "markdown",
      "source": [
        "## **7.3. 하이퍼 파라미터 튜닝 방안**"
      ],
      "metadata": {
        "id": "q2R78lTXcBzl"
      }
    },
    {
      "cell_type": "markdown",
      "source": [
        "기본 튜닝 방안은 `num_leaves` 개수를 중심으로 `min_child_samples`와 `max_depth`를 함께 조정하면서 모델 복잡도를 줄여갑니다.\n",
        "\n",
        "- `num_leaves`는 개별 트리가 가질 수 있는 최대 리프 개수이고 모델 복잡도를 제어하는 주요 파라미터입니다. 일반적으로 개수를 높이면 정확도가 높아지지만 트리가 깊어지고 모델 복잡도가 커져서 과적합 영향도도 커집니다. \n",
        "\n",
        "- `min_child_samples`: 과적합을 개선하는 데 중요한 역할을 합니다. `num_leaves`와 학습 데이터에 따라 달라지지만 보통 큰 값일수록 트리가 깊어지지 않게 합니다.\n",
        "\n",
        "- `max_depth`: 트리 깊이를 제한합니다.\n",
        "\n",
        "일반적인 부스팅 계열 튜닝인 `learning_rate`를 작게 하면서 `n_estimators`를 크게 하는 방법도 적용 가능합니다. 다만 `n_estimators`가 너무 크면 과적합이 발생합니다.\n",
        "\n",
        "`reg_lambda`, `reg_alpha`로 규제를 바꾸거나, 학습 데이터에 사용할 피처 개수나 데이터 샘플링 레코드 수를 줄이기 위해 `colsample_bytree`, `subsample`을 조정할 수도 있습니다."
      ],
      "metadata": {
        "id": "H60Jpozn0etr"
      }
    },
    {
      "cell_type": "markdown",
      "source": [
        "## **7.4. 파이썬 래퍼 LightGBM과 사이킷런 래퍼 XGBoost, LightGBM 하이퍼 파라미터 비교**"
      ],
      "metadata": {
        "id": "QcNDmQHycBw5"
      }
    },
    {
      "cell_type": "markdown",
      "source": [
        "생략합니다."
      ],
      "metadata": {
        "id": "4w-6O0rnohRD"
      }
    },
    {
      "cell_type": "markdown",
      "source": [
        "## **7.5. LightGBM 적용 - 위스콘신 유방암 예측**"
      ],
      "metadata": {
        "id": "Ro7xeqcCbIrM"
      }
    },
    {
      "cell_type": "markdown",
      "source": [
        "데이터를 준비하고 위 파트의 모든 과정을 LightGBM으로 수행하겠습니다."
      ],
      "metadata": {
        "id": "O0GHX8g4fd0R"
      }
    },
    {
      "cell_type": "code",
      "source": [
        "import pandas as pd\n",
        "import numpy as np\n",
        "from sklearn.datasets import load_breast_cancer\n",
        "from sklearn.model_selection import train_test_split\n",
        "\n",
        "dataset = load_breast_cancer()\n",
        "\n",
        "cancer_df = pd.DataFrame(data=dataset.data, columns=dataset.feature_names)\n",
        "cancer_df['target'] = dataset.target\n",
        "X_features = cancer_df.iloc[:, :-1]\n",
        "y_label = cancer_df.iloc[:, -1]\n",
        "\n",
        "# 전체 데이터 중에 80%는 학습 데이터, 20%는 테스트용 데이터로 나눕니다.\n",
        "X_train, X_test, y_train, y_test = train_test_split(X_features, y_label, test_size=0.2, random_state=156)\n",
        "\n",
        "# 학습 데이터를 90% 학습 데이터, 10% 검증 데이터로 나눕니다.\n",
        "X_tr, X_val, y_tr, y_val = train_test_split(X_train, y_train, test_size=0.1, random_state=156)\n",
        "\n",
        "lgbm_wrapper = LGBMClassifier(n_estimators=400, learning_rate=0.05)\n",
        "evals = [(X_tr, y_tr), (X_val, y_val)]\n",
        "lgbm_wrapper.fit(X_tr, y_tr, early_stopping_rounds=50, eval_metric='logloss',\n",
        "                 eval_set=evals, verbose=True)\n",
        "preds = lgbm_wrapper.predict(X_test)\n",
        "pred_proba = lgbm_wrapper.predict_proba(X_test)[:, 1]"
      ],
      "metadata": {
        "colab": {
          "base_uri": "https://localhost:8080/"
        },
        "id": "n4BHntg_6Efm",
        "outputId": "ca63309d-51f1-4b10-b52e-9ed8398dddf0"
      },
      "execution_count": 79,
      "outputs": [
        {
          "output_type": "stream",
          "name": "stdout",
          "text": [
            "[1]\ttraining's binary_logloss: 0.625671\ttraining's binary_logloss: 0.625671\tvalid_1's binary_logloss: 0.628248\tvalid_1's binary_logloss: 0.628248\n",
            "Training until validation scores don't improve for 50 rounds.\n",
            "[2]\ttraining's binary_logloss: 0.588173\ttraining's binary_logloss: 0.588173\tvalid_1's binary_logloss: 0.601106\tvalid_1's binary_logloss: 0.601106\n",
            "[3]\ttraining's binary_logloss: 0.554518\ttraining's binary_logloss: 0.554518\tvalid_1's binary_logloss: 0.577587\tvalid_1's binary_logloss: 0.577587\n",
            "[4]\ttraining's binary_logloss: 0.523972\ttraining's binary_logloss: 0.523972\tvalid_1's binary_logloss: 0.556324\tvalid_1's binary_logloss: 0.556324\n",
            "[5]\ttraining's binary_logloss: 0.49615\ttraining's binary_logloss: 0.49615\tvalid_1's binary_logloss: 0.537407\tvalid_1's binary_logloss: 0.537407\n",
            "[6]\ttraining's binary_logloss: 0.470108\ttraining's binary_logloss: 0.470108\tvalid_1's binary_logloss: 0.519401\tvalid_1's binary_logloss: 0.519401\n",
            "[7]\ttraining's binary_logloss: 0.446647\ttraining's binary_logloss: 0.446647\tvalid_1's binary_logloss: 0.502637\tvalid_1's binary_logloss: 0.502637\n",
            "[8]\ttraining's binary_logloss: 0.425055\ttraining's binary_logloss: 0.425055\tvalid_1's binary_logloss: 0.488311\tvalid_1's binary_logloss: 0.488311\n",
            "[9]\ttraining's binary_logloss: 0.405125\ttraining's binary_logloss: 0.405125\tvalid_1's binary_logloss: 0.474664\tvalid_1's binary_logloss: 0.474664\n",
            "[10]\ttraining's binary_logloss: 0.386692\ttraining's binary_logloss: 0.386692\tvalid_1's binary_logloss: 0.462832\tvalid_1's binary_logloss: 0.462832\n",
            "[11]\ttraining's binary_logloss: 0.368104\ttraining's binary_logloss: 0.368104\tvalid_1's binary_logloss: 0.449734\tvalid_1's binary_logloss: 0.449734\n",
            "[12]\ttraining's binary_logloss: 0.351335\ttraining's binary_logloss: 0.351335\tvalid_1's binary_logloss: 0.439108\tvalid_1's binary_logloss: 0.439108\n",
            "[13]\ttraining's binary_logloss: 0.336106\ttraining's binary_logloss: 0.336106\tvalid_1's binary_logloss: 0.428432\tvalid_1's binary_logloss: 0.428432\n",
            "[14]\ttraining's binary_logloss: 0.320995\ttraining's binary_logloss: 0.320995\tvalid_1's binary_logloss: 0.417674\tvalid_1's binary_logloss: 0.417674\n",
            "[15]\ttraining's binary_logloss: 0.30764\ttraining's binary_logloss: 0.30764\tvalid_1's binary_logloss: 0.408427\tvalid_1's binary_logloss: 0.408427\n",
            "[16]\ttraining's binary_logloss: 0.29427\ttraining's binary_logloss: 0.29427\tvalid_1's binary_logloss: 0.399502\tvalid_1's binary_logloss: 0.399502\n",
            "[17]\ttraining's binary_logloss: 0.282032\ttraining's binary_logloss: 0.282032\tvalid_1's binary_logloss: 0.390328\tvalid_1's binary_logloss: 0.390328\n",
            "[18]\ttraining's binary_logloss: 0.270264\ttraining's binary_logloss: 0.270264\tvalid_1's binary_logloss: 0.382869\tvalid_1's binary_logloss: 0.382869\n",
            "[19]\ttraining's binary_logloss: 0.259865\ttraining's binary_logloss: 0.259865\tvalid_1's binary_logloss: 0.376094\tvalid_1's binary_logloss: 0.376094\n",
            "[20]\ttraining's binary_logloss: 0.249393\ttraining's binary_logloss: 0.249393\tvalid_1's binary_logloss: 0.368958\tvalid_1's binary_logloss: 0.368958\n",
            "[21]\ttraining's binary_logloss: 0.239551\ttraining's binary_logloss: 0.239551\tvalid_1's binary_logloss: 0.362996\tvalid_1's binary_logloss: 0.362996\n",
            "[22]\ttraining's binary_logloss: 0.230561\ttraining's binary_logloss: 0.230561\tvalid_1's binary_logloss: 0.356303\tvalid_1's binary_logloss: 0.356303\n",
            "[23]\ttraining's binary_logloss: 0.221717\ttraining's binary_logloss: 0.221717\tvalid_1's binary_logloss: 0.350425\tvalid_1's binary_logloss: 0.350425\n",
            "[24]\ttraining's binary_logloss: 0.212816\ttraining's binary_logloss: 0.212816\tvalid_1's binary_logloss: 0.344838\tvalid_1's binary_logloss: 0.344838\n",
            "[25]\ttraining's binary_logloss: 0.204907\ttraining's binary_logloss: 0.204907\tvalid_1's binary_logloss: 0.339484\tvalid_1's binary_logloss: 0.339484\n",
            "[26]\ttraining's binary_logloss: 0.197838\ttraining's binary_logloss: 0.197838\tvalid_1's binary_logloss: 0.334541\tvalid_1's binary_logloss: 0.334541\n",
            "[27]\ttraining's binary_logloss: 0.190576\ttraining's binary_logloss: 0.190576\tvalid_1's binary_logloss: 0.330859\tvalid_1's binary_logloss: 0.330859\n",
            "[28]\ttraining's binary_logloss: 0.183529\ttraining's binary_logloss: 0.183529\tvalid_1's binary_logloss: 0.326574\tvalid_1's binary_logloss: 0.326574\n",
            "[29]\ttraining's binary_logloss: 0.177072\ttraining's binary_logloss: 0.177072\tvalid_1's binary_logloss: 0.323247\tvalid_1's binary_logloss: 0.323247\n",
            "[30]\ttraining's binary_logloss: 0.170475\ttraining's binary_logloss: 0.170475\tvalid_1's binary_logloss: 0.318499\tvalid_1's binary_logloss: 0.318499\n",
            "[31]\ttraining's binary_logloss: 0.164027\ttraining's binary_logloss: 0.164027\tvalid_1's binary_logloss: 0.314283\tvalid_1's binary_logloss: 0.314283\n",
            "[32]\ttraining's binary_logloss: 0.157348\ttraining's binary_logloss: 0.157348\tvalid_1's binary_logloss: 0.308474\tvalid_1's binary_logloss: 0.308474\n",
            "[33]\ttraining's binary_logloss: 0.151619\ttraining's binary_logloss: 0.151619\tvalid_1's binary_logloss: 0.305302\tvalid_1's binary_logloss: 0.305302\n",
            "[34]\ttraining's binary_logloss: 0.146629\ttraining's binary_logloss: 0.146629\tvalid_1's binary_logloss: 0.300947\tvalid_1's binary_logloss: 0.300947\n",
            "[35]\ttraining's binary_logloss: 0.140405\ttraining's binary_logloss: 0.140405\tvalid_1's binary_logloss: 0.295637\tvalid_1's binary_logloss: 0.295637\n",
            "[36]\ttraining's binary_logloss: 0.135479\ttraining's binary_logloss: 0.135479\tvalid_1's binary_logloss: 0.292359\tvalid_1's binary_logloss: 0.292359\n",
            "[37]\ttraining's binary_logloss: 0.130699\ttraining's binary_logloss: 0.130699\tvalid_1's binary_logloss: 0.290556\tvalid_1's binary_logloss: 0.290556\n",
            "[38]\ttraining's binary_logloss: 0.125331\ttraining's binary_logloss: 0.125331\tvalid_1's binary_logloss: 0.286204\tvalid_1's binary_logloss: 0.286204\n",
            "[39]\ttraining's binary_logloss: 0.120528\ttraining's binary_logloss: 0.120528\tvalid_1's binary_logloss: 0.283481\tvalid_1's binary_logloss: 0.283481\n",
            "[40]\ttraining's binary_logloss: 0.116025\ttraining's binary_logloss: 0.116025\tvalid_1's binary_logloss: 0.28006\tvalid_1's binary_logloss: 0.28006\n",
            "[41]\ttraining's binary_logloss: 0.111562\ttraining's binary_logloss: 0.111562\tvalid_1's binary_logloss: 0.277637\tvalid_1's binary_logloss: 0.277637\n",
            "[42]\ttraining's binary_logloss: 0.1079\ttraining's binary_logloss: 0.1079\tvalid_1's binary_logloss: 0.274847\tvalid_1's binary_logloss: 0.274847\n",
            "[43]\ttraining's binary_logloss: 0.103859\ttraining's binary_logloss: 0.103859\tvalid_1's binary_logloss: 0.272859\tvalid_1's binary_logloss: 0.272859\n",
            "[44]\ttraining's binary_logloss: 0.100138\ttraining's binary_logloss: 0.100138\tvalid_1's binary_logloss: 0.270262\tvalid_1's binary_logloss: 0.270262\n",
            "[45]\ttraining's binary_logloss: 0.0963746\ttraining's binary_logloss: 0.0963746\tvalid_1's binary_logloss: 0.268073\tvalid_1's binary_logloss: 0.268073\n",
            "[46]\ttraining's binary_logloss: 0.0929572\ttraining's binary_logloss: 0.0929572\tvalid_1's binary_logloss: 0.26671\tvalid_1's binary_logloss: 0.26671\n",
            "[47]\ttraining's binary_logloss: 0.0899324\ttraining's binary_logloss: 0.0899324\tvalid_1's binary_logloss: 0.263785\tvalid_1's binary_logloss: 0.263785\n",
            "[48]\ttraining's binary_logloss: 0.0873289\ttraining's binary_logloss: 0.0873289\tvalid_1's binary_logloss: 0.263664\tvalid_1's binary_logloss: 0.263664\n",
            "[49]\ttraining's binary_logloss: 0.0840183\ttraining's binary_logloss: 0.0840183\tvalid_1's binary_logloss: 0.262173\tvalid_1's binary_logloss: 0.262173\n",
            "[50]\ttraining's binary_logloss: 0.080903\ttraining's binary_logloss: 0.080903\tvalid_1's binary_logloss: 0.260928\tvalid_1's binary_logloss: 0.260928\n",
            "[51]\ttraining's binary_logloss: 0.0783652\ttraining's binary_logloss: 0.0783652\tvalid_1's binary_logloss: 0.258393\tvalid_1's binary_logloss: 0.258393\n",
            "[52]\ttraining's binary_logloss: 0.075536\ttraining's binary_logloss: 0.075536\tvalid_1's binary_logloss: 0.257425\tvalid_1's binary_logloss: 0.257425\n",
            "[53]\ttraining's binary_logloss: 0.0728163\ttraining's binary_logloss: 0.0728163\tvalid_1's binary_logloss: 0.259037\tvalid_1's binary_logloss: 0.259037\n",
            "[54]\ttraining's binary_logloss: 0.0702634\ttraining's binary_logloss: 0.0702634\tvalid_1's binary_logloss: 0.258369\tvalid_1's binary_logloss: 0.258369\n",
            "[55]\ttraining's binary_logloss: 0.0676698\ttraining's binary_logloss: 0.0676698\tvalid_1's binary_logloss: 0.258996\tvalid_1's binary_logloss: 0.258996\n",
            "[56]\ttraining's binary_logloss: 0.0654293\ttraining's binary_logloss: 0.0654293\tvalid_1's binary_logloss: 0.259331\tvalid_1's binary_logloss: 0.259331\n",
            "[57]\ttraining's binary_logloss: 0.0632096\ttraining's binary_logloss: 0.0632096\tvalid_1's binary_logloss: 0.259006\tvalid_1's binary_logloss: 0.259006\n",
            "[58]\ttraining's binary_logloss: 0.0612077\ttraining's binary_logloss: 0.0612077\tvalid_1's binary_logloss: 0.259286\tvalid_1's binary_logloss: 0.259286\n",
            "[59]\ttraining's binary_logloss: 0.0591513\ttraining's binary_logloss: 0.0591513\tvalid_1's binary_logloss: 0.257202\tvalid_1's binary_logloss: 0.257202\n",
            "[60]\ttraining's binary_logloss: 0.0572088\ttraining's binary_logloss: 0.0572088\tvalid_1's binary_logloss: 0.257168\tvalid_1's binary_logloss: 0.257168\n",
            "[61]\ttraining's binary_logloss: 0.0551987\ttraining's binary_logloss: 0.0551987\tvalid_1's binary_logloss: 0.258305\tvalid_1's binary_logloss: 0.258305\n",
            "[62]\ttraining's binary_logloss: 0.0534423\ttraining's binary_logloss: 0.0534423\tvalid_1's binary_logloss: 0.258397\tvalid_1's binary_logloss: 0.258397\n",
            "[63]\ttraining's binary_logloss: 0.0516793\ttraining's binary_logloss: 0.0516793\tvalid_1's binary_logloss: 0.2596\tvalid_1's binary_logloss: 0.2596\n",
            "[64]\ttraining's binary_logloss: 0.0500622\ttraining's binary_logloss: 0.0500622\tvalid_1's binary_logloss: 0.26049\tvalid_1's binary_logloss: 0.26049\n",
            "[65]\ttraining's binary_logloss: 0.0485234\ttraining's binary_logloss: 0.0485234\tvalid_1's binary_logloss: 0.260826\tvalid_1's binary_logloss: 0.260826\n",
            "[66]\ttraining's binary_logloss: 0.0470319\ttraining's binary_logloss: 0.0470319\tvalid_1's binary_logloss: 0.260881\tvalid_1's binary_logloss: 0.260881\n",
            "[67]\ttraining's binary_logloss: 0.0456247\ttraining's binary_logloss: 0.0456247\tvalid_1's binary_logloss: 0.260966\tvalid_1's binary_logloss: 0.260966\n",
            "[68]\ttraining's binary_logloss: 0.0441293\ttraining's binary_logloss: 0.0441293\tvalid_1's binary_logloss: 0.262592\tvalid_1's binary_logloss: 0.262592\n",
            "[69]\ttraining's binary_logloss: 0.0428474\ttraining's binary_logloss: 0.0428474\tvalid_1's binary_logloss: 0.262805\tvalid_1's binary_logloss: 0.262805\n",
            "[70]\ttraining's binary_logloss: 0.0413116\ttraining's binary_logloss: 0.0413116\tvalid_1's binary_logloss: 0.265159\tvalid_1's binary_logloss: 0.265159\n",
            "[71]\ttraining's binary_logloss: 0.0398938\ttraining's binary_logloss: 0.0398938\tvalid_1's binary_logloss: 0.263591\tvalid_1's binary_logloss: 0.263591\n",
            "[72]\ttraining's binary_logloss: 0.0385006\ttraining's binary_logloss: 0.0385006\tvalid_1's binary_logloss: 0.266054\tvalid_1's binary_logloss: 0.266054\n",
            "[73]\ttraining's binary_logloss: 0.0373165\ttraining's binary_logloss: 0.0373165\tvalid_1's binary_logloss: 0.264878\tvalid_1's binary_logloss: 0.264878\n",
            "[74]\ttraining's binary_logloss: 0.0360691\ttraining's binary_logloss: 0.0360691\tvalid_1's binary_logloss: 0.263518\tvalid_1's binary_logloss: 0.263518\n",
            "[75]\ttraining's binary_logloss: 0.0347598\ttraining's binary_logloss: 0.0347598\tvalid_1's binary_logloss: 0.263714\tvalid_1's binary_logloss: 0.263714\n",
            "[76]\ttraining's binary_logloss: 0.0334923\ttraining's binary_logloss: 0.0334923\tvalid_1's binary_logloss: 0.261344\tvalid_1's binary_logloss: 0.261344\n",
            "[77]\ttraining's binary_logloss: 0.0323656\ttraining's binary_logloss: 0.0323656\tvalid_1's binary_logloss: 0.263967\tvalid_1's binary_logloss: 0.263967\n",
            "[78]\ttraining's binary_logloss: 0.0312561\ttraining's binary_logloss: 0.0312561\tvalid_1's binary_logloss: 0.26418\tvalid_1's binary_logloss: 0.26418\n",
            "[79]\ttraining's binary_logloss: 0.0302011\ttraining's binary_logloss: 0.0302011\tvalid_1's binary_logloss: 0.266129\tvalid_1's binary_logloss: 0.266129\n",
            "[80]\ttraining's binary_logloss: 0.0291182\ttraining's binary_logloss: 0.0291182\tvalid_1's binary_logloss: 0.263931\tvalid_1's binary_logloss: 0.263931\n",
            "[81]\ttraining's binary_logloss: 0.0281474\ttraining's binary_logloss: 0.0281474\tvalid_1's binary_logloss: 0.264391\tvalid_1's binary_logloss: 0.264391\n",
            "[82]\ttraining's binary_logloss: 0.0272388\ttraining's binary_logloss: 0.0272388\tvalid_1's binary_logloss: 0.267166\tvalid_1's binary_logloss: 0.267166\n",
            "[83]\ttraining's binary_logloss: 0.0262836\ttraining's binary_logloss: 0.0262836\tvalid_1's binary_logloss: 0.265115\tvalid_1's binary_logloss: 0.265115\n",
            "[84]\ttraining's binary_logloss: 0.0254321\ttraining's binary_logloss: 0.0254321\tvalid_1's binary_logloss: 0.267202\tvalid_1's binary_logloss: 0.267202\n",
            "[85]\ttraining's binary_logloss: 0.0245613\ttraining's binary_logloss: 0.0245613\tvalid_1's binary_logloss: 0.265271\tvalid_1's binary_logloss: 0.265271\n",
            "[86]\ttraining's binary_logloss: 0.0237611\ttraining's binary_logloss: 0.0237611\tvalid_1's binary_logloss: 0.265977\tvalid_1's binary_logloss: 0.265977\n",
            "[87]\ttraining's binary_logloss: 0.0230229\ttraining's binary_logloss: 0.0230229\tvalid_1's binary_logloss: 0.268838\tvalid_1's binary_logloss: 0.268838\n",
            "[88]\ttraining's binary_logloss: 0.022253\ttraining's binary_logloss: 0.022253\tvalid_1's binary_logloss: 0.267025\tvalid_1's binary_logloss: 0.267025\n",
            "[89]\ttraining's binary_logloss: 0.0215231\ttraining's binary_logloss: 0.0215231\tvalid_1's binary_logloss: 0.265913\tvalid_1's binary_logloss: 0.265913\n",
            "[90]\ttraining's binary_logloss: 0.0208833\ttraining's binary_logloss: 0.0208833\tvalid_1's binary_logloss: 0.265612\tvalid_1's binary_logloss: 0.265612\n",
            "[91]\ttraining's binary_logloss: 0.0202353\ttraining's binary_logloss: 0.0202353\tvalid_1's binary_logloss: 0.267831\tvalid_1's binary_logloss: 0.267831\n",
            "[92]\ttraining's binary_logloss: 0.0195726\ttraining's binary_logloss: 0.0195726\tvalid_1's binary_logloss: 0.266689\tvalid_1's binary_logloss: 0.266689\n",
            "[93]\ttraining's binary_logloss: 0.0189295\ttraining's binary_logloss: 0.0189295\tvalid_1's binary_logloss: 0.267654\tvalid_1's binary_logloss: 0.267654\n",
            "[94]\ttraining's binary_logloss: 0.0182642\ttraining's binary_logloss: 0.0182642\tvalid_1's binary_logloss: 0.268718\tvalid_1's binary_logloss: 0.268718\n",
            "[95]\ttraining's binary_logloss: 0.0176871\ttraining's binary_logloss: 0.0176871\tvalid_1's binary_logloss: 0.270958\tvalid_1's binary_logloss: 0.270958\n",
            "[96]\ttraining's binary_logloss: 0.0171794\ttraining's binary_logloss: 0.0171794\tvalid_1's binary_logloss: 0.27016\tvalid_1's binary_logloss: 0.27016\n",
            "[97]\ttraining's binary_logloss: 0.016589\ttraining's binary_logloss: 0.016589\tvalid_1's binary_logloss: 0.271488\tvalid_1's binary_logloss: 0.271488\n",
            "[98]\ttraining's binary_logloss: 0.0160635\ttraining's binary_logloss: 0.0160635\tvalid_1's binary_logloss: 0.269985\tvalid_1's binary_logloss: 0.269985\n",
            "[99]\ttraining's binary_logloss: 0.0155631\ttraining's binary_logloss: 0.0155631\tvalid_1's binary_logloss: 0.271251\tvalid_1's binary_logloss: 0.271251\n",
            "[100]\ttraining's binary_logloss: 0.0150636\ttraining's binary_logloss: 0.0150636\tvalid_1's binary_logloss: 0.271782\tvalid_1's binary_logloss: 0.271782\n",
            "[101]\ttraining's binary_logloss: 0.0145839\ttraining's binary_logloss: 0.0145839\tvalid_1's binary_logloss: 0.271016\tvalid_1's binary_logloss: 0.271016\n",
            "[102]\ttraining's binary_logloss: 0.0141803\ttraining's binary_logloss: 0.0141803\tvalid_1's binary_logloss: 0.271182\tvalid_1's binary_logloss: 0.271182\n",
            "[103]\ttraining's binary_logloss: 0.0136586\ttraining's binary_logloss: 0.0136586\tvalid_1's binary_logloss: 0.271901\tvalid_1's binary_logloss: 0.271901\n",
            "[104]\ttraining's binary_logloss: 0.0131463\ttraining's binary_logloss: 0.0131463\tvalid_1's binary_logloss: 0.271226\tvalid_1's binary_logloss: 0.271226\n",
            "[105]\ttraining's binary_logloss: 0.0127756\ttraining's binary_logloss: 0.0127756\tvalid_1's binary_logloss: 0.271724\tvalid_1's binary_logloss: 0.271724\n",
            "[106]\ttraining's binary_logloss: 0.0123527\ttraining's binary_logloss: 0.0123527\tvalid_1's binary_logloss: 0.272895\tvalid_1's binary_logloss: 0.272895\n",
            "[107]\ttraining's binary_logloss: 0.0119772\ttraining's binary_logloss: 0.0119772\tvalid_1's binary_logloss: 0.271722\tvalid_1's binary_logloss: 0.271722\n",
            "[108]\ttraining's binary_logloss: 0.0115223\ttraining's binary_logloss: 0.0115223\tvalid_1's binary_logloss: 0.272213\tvalid_1's binary_logloss: 0.272213\n",
            "[109]\ttraining's binary_logloss: 0.0111636\ttraining's binary_logloss: 0.0111636\tvalid_1's binary_logloss: 0.273245\tvalid_1's binary_logloss: 0.273245\n",
            "[110]\ttraining's binary_logloss: 0.0108692\ttraining's binary_logloss: 0.0108692\tvalid_1's binary_logloss: 0.273132\tvalid_1's binary_logloss: 0.273132\n",
            "Early stopping, best iteration is:\n",
            "[60]\ttraining's binary_logloss: 0.0572088\ttraining's binary_logloss: 0.0572088\tvalid_1's binary_logloss: 0.257168\tvalid_1's binary_logloss: 0.257168\n"
          ]
        }
      ]
    },
    {
      "cell_type": "markdown",
      "source": [
        "110번까지만 반복하고 조기 중단으로 멈췄습니다.\n",
        "\n",
        "예측 성능을 확인하겠습니다."
      ],
      "metadata": {
        "id": "vaJmQVgL_kl6"
      }
    },
    {
      "cell_type": "code",
      "source": [
        "from sklearn.metrics import accuracy_score, precision_score, recall_score, roc_auc_score\n",
        "from sklearn.metrics import f1_score, confusion_matrix, precision_recall_curve, roc_curve\n",
        "\n",
        "def get_clf_eval(y_test, pred, pred_proba=None):\n",
        "    confusion = confusion_matrix(y_test, pred)\n",
        "    accuracy = accuracy_score(y_test, pred)\n",
        "    precision = precision_score(y_test, pred)\n",
        "    recall = recall_score(y_test, pred)\n",
        "    f1 = f1_score(y_test, pred)\n",
        "    roc_auc = roc_auc_score(y_test, pred_proba)\n",
        "    print('오차 행렬')\n",
        "    print(confusion)\n",
        "    print('정확도: {:.4f}, 정밀도: {:.4f}, 재현율: {:.4f}, F1: {:.4f},\\\n",
        "    AUC: {:.4f}'.format(accuracy, precision, recall, f1, roc_auc))"
      ],
      "metadata": {
        "id": "OUX8zF4f_1xr"
      },
      "execution_count": 84,
      "outputs": []
    },
    {
      "cell_type": "code",
      "source": [
        "get_clf_eval(y_test, preds, pred_proba)"
      ],
      "metadata": {
        "colab": {
          "base_uri": "https://localhost:8080/"
        },
        "id": "eeEas2IV_vBZ",
        "outputId": "2b3f4902-e3ea-44b3-9b4f-72d11fb79af7"
      },
      "execution_count": 85,
      "outputs": [
        {
          "output_type": "stream",
          "name": "stdout",
          "text": [
            "오차 행렬\n",
            "[[34  3]\n",
            " [ 2 75]]\n",
            "정확도: 0.9561, 정밀도: 0.9615, 재현율: 0.9740, F1: 0.9677,    AUC: 0.9888\n"
          ]
        }
      ]
    },
    {
      "cell_type": "markdown",
      "source": [
        "XGBoost보다 약간 낮지만 학습 데이터 세트와 테스트 데이터 세트 크기가 작아서 성능 비교는 큰 의미가 없습니다.\n",
        "\n",
        "피처 중요도를 시각화해보겠습니다."
      ],
      "metadata": {
        "id": "6cRSqLyR_8LF"
      }
    },
    {
      "cell_type": "code",
      "source": [
        "from lightgbm import plot_importance\n",
        "import matplotlib.pyplot as plt\n",
        "%matplotlib inline\n",
        "\n",
        "fig, ax = plt.subplots(figsize=(10, 12))\n",
        "plot_importance(lgbm_wrapper, ax=ax)\n",
        "plt.show()"
      ],
      "metadata": {
        "colab": {
          "base_uri": "https://localhost:8080/",
          "height": 730
        },
        "id": "JSVJp0XPAJHv",
        "outputId": "e6932327-bb20-43bf-9601-0a9a8bfe7135"
      },
      "execution_count": 86,
      "outputs": [
        {
          "output_type": "display_data",
          "data": {
            "text/plain": [
              "<Figure size 720x864 with 1 Axes>"
            ],
            "image/png": "[encoded data removed]"
          },
          "metadata": {
            "needs_background": "light"
          }
        }
      ]
    },
    {
      "cell_type": "markdown",
      "source": [
        "# **8. 베이지안 최적화 기반의 HyperOpt를 이용한 하이퍼 파라미터 튜닝**"
      ],
      "metadata": {
        "id": "4xYeVmB6kH-G"
      }
    },
    {
      "cell_type": "markdown",
      "source": [
        "그리드서치(GridSearch)의 단점은 튜닝할 하이퍼 파라미터 개수가 많으면 최적화 수행 시간이 오래 걸리는 것입니다. 더욱이 하이퍼 파라미터 값 범위가 넓거나 학습 데이터 크기가 크면 최적화 수행 시간이 훨씬 더 오래 걸립니다."
      ],
      "metadata": {
        "id": "PfmRBh31CY53"
      }
    },
    {
      "cell_type": "markdown",
      "source": [
        "## **8.1. 베이지안 최적화 개요**"
      ],
      "metadata": {
        "id": "rnkibIo9ktDZ"
      }
    },
    {
      "cell_type": "markdown",
      "source": [
        "## **8.2. HyperOpt 사용하기**"
      ],
      "metadata": {
        "id": "uVo_R325kxu3"
      }
    },
    {
      "cell_type": "markdown",
      "source": [
        "## **8.3. HyperOpt를 이용한 XGBoost 하이퍼 파라미터 최적화**"
      ],
      "metadata": {
        "id": "Lv77dlrNk3q6"
      }
    },
    {
      "cell_type": "markdown",
      "source": [
        "# **9. 분류 실습 - 캐글 산탄데르 고객 만족 예측**"
      ],
      "metadata": {
        "id": "5w3bEDEobIoq"
      }
    },
    {
      "cell_type": "markdown",
      "source": [
        "[산탄데르 고객 만족 예측](https://www.kaggle.com/c/santander-customer-satisfaction/data) 데이터 세트를 활용하여 고객 만족 여부를 예측해보겠습니다. 이 데이터 분석은 피처 370개로 주어진 데이터 세트로 고객 만족 여부를 예측하는 문제입니다. 모델 성능 평가는 ROC-AUC로 평가하며 대부분 만족이고 일부는 불만족이므로 ROC-AUC가 더 적합합니다. "
      ],
      "metadata": {
        "id": "IKd0UCp8YRmj"
      }
    },
    {
      "cell_type": "markdown",
      "source": [
        "## **9.1. 데이터 전처리**"
      ],
      "metadata": {
        "id": "RDtLJeNhc6Yo"
      }
    },
    {
      "cell_type": "code",
      "source": [
        "from google.colab import drive\n",
        "drive.mount('/content/gdrive/')\n",
        "import pandas as pd\n",
        "import numpy as np\n",
        "import matplotlib.pyplot as plt\n",
        "import matplotlib\n",
        "\n",
        "cust_df = pd.read_csv('/content/gdrive/MyDrive/santander-customer-satisfaction/train.csv')\n",
        "print('dataset shape:', cust_df.shape)\n",
        "cust_df.head(3)"
      ],
      "metadata": {
        "id": "g0VrYv8QwYM0"
      },
      "execution_count": null,
      "outputs": []
    },
    {
      "cell_type": "code",
      "source": [
        "cust_df.info()"
      ],
      "metadata": {
        "id": "R93WZVg2w81F"
      },
      "execution_count": null,
      "outputs": []
    },
    {
      "cell_type": "markdown",
      "source": [
        "만족과 불만족 비율을 확인하겠습니다."
      ],
      "metadata": {
        "id": "2m-zQpuaUi7b"
      }
    },
    {
      "cell_type": "code",
      "source": [
        "print(cust_df['TARGET'].value_counts())\n",
        "unsatisfied_cnt = cust_df[cust_df['TARGET'] == 1].TARGET.count()\n",
        "total_cnt = cust_df.TARGET.count()\n",
        "print('불만족 비율은 {:.2f}'.format((unsatisfied_cnt / total_cnt)))"
      ],
      "metadata": {
        "id": "NjvZoPqpxHQB"
      },
      "execution_count": null,
      "outputs": []
    },
    {
      "cell_type": "code",
      "source": [
        "cust_df.describe()"
      ],
      "metadata": {
        "id": "a9SCrKTRUozn"
      },
      "execution_count": null,
      "outputs": []
    },
    {
      "cell_type": "markdown",
      "source": [
        "'var3' 특성은 최솟값이 -999999입니다. NaN이나 특정 예외 값을 -999999로 변환했을 것으로 추측됩니다. -999999인 값의 개수를 확인해보겠습니다."
      ],
      "metadata": {
        "id": "jSqPlEJNUyY3"
      }
    },
    {
      "cell_type": "code",
      "source": [
        "print(cust_df[cust_df['var3'] == -999999].var3.count())"
      ],
      "metadata": {
        "id": "FFClBD8zVH0L"
      },
      "execution_count": null,
      "outputs": []
    },
    {
      "cell_type": "markdown",
      "source": [
        "-999999를 대체할 값을 정해야 합니다. 'var3' 피처가 가진 가장 많은 값을 확인해보겠습니다."
      ],
      "metadata": {
        "id": "qeqKqSz-W6UF"
      }
    },
    {
      "cell_type": "code",
      "source": [
        "print(cust_df.var3.value_counts())"
      ],
      "metadata": {
        "id": "L-hvqu-xXAxl"
      },
      "execution_count": null,
      "outputs": []
    },
    {
      "cell_type": "markdown",
      "source": [
        "2가 압도적으로 많으므로 2로 대체하겠습니다. 아울러 'ID' 피처는 단순 식별자에 불과하므로 삭제하겠습니다."
      ],
      "metadata": {
        "id": "Mis3cd51XHZc"
      }
    },
    {
      "cell_type": "code",
      "source": [
        "cust_df['var3'].replace(-999999, 2, inplace=True)\n",
        "cust_df.drop('ID', axis=1, inplace=True)"
      ],
      "metadata": {
        "id": "vZHP5XkJXSNY"
      },
      "execution_count": null,
      "outputs": []
    },
    {
      "cell_type": "markdown",
      "source": [
        "피처 세트와 레이블 세트로 분리하겠습니다."
      ],
      "metadata": {
        "id": "crXcA0l-Xd5h"
      }
    },
    {
      "cell_type": "code",
      "source": [
        "X_features = cust_df.iloc[:, :-1]\n",
        "y_labels = cust_df.iloc[:, -1]\n",
        "print('피처 데이터 shape: {}'.format(X_features.shape))\n",
        "print('레이블 데이터 shape: {}'.format(y_labels.shape))"
      ],
      "metadata": {
        "id": "ZHojlmJrXhWn"
      },
      "execution_count": null,
      "outputs": []
    },
    {
      "cell_type": "markdown",
      "source": [
        "학습 데이터 세트와 테스트 데이터 세트를 분리하겠습니다. 아울러 레이블 값 분포가 학습 데이터 세트와 테스트 데이터 세트 모두 비슷하게 추출됐는지 확인하겠습니다."
      ],
      "metadata": {
        "id": "PuwDgW46ecUi"
      }
    },
    {
      "cell_type": "code",
      "source": [
        "from sklearn.model_selection import train_test_split\n",
        "\n",
        "X_train, X_test, y_train, y_test = train_test_split(X_features, y_labels,\n",
        "                                                    test_size=0.2, random_state=0)\n",
        "print('학습 세트 shape: {},\\n테스트 세트 shpae: {}'.format(X_train.shape, X_test.shape))\n",
        "print()\n",
        "\n",
        "train_cnt = y_train.count()\n",
        "test_cnt = y_test.count()\n",
        "print('학습 세트 레이블 값 분포 비율')\n",
        "print(y_train.value_counts() / train_cnt)\n",
        "print()\n",
        "print('테스트 세트 레이블 값 분포 비율')\n",
        "print(y_test.value_counts() / test_cnt)"
      ],
      "metadata": {
        "id": "3jLOXZFdcLSB"
      },
      "execution_count": null,
      "outputs": []
    },
    {
      "cell_type": "markdown",
      "source": [
        "불만족 비율이 4% 정도이므로 원본 데이터와 유사합니다. 적절합니다."
      ],
      "metadata": {
        "id": "83oYb_Xlf9x5"
      }
    },
    {
      "cell_type": "markdown",
      "source": [
        "## **9.2. XGBoost 모델 학습과 하이퍼 파라미터 튜닝**"
      ],
      "metadata": {
        "id": "6bSw6czbc6WJ"
      }
    },
    {
      "cell_type": "markdown",
      "source": [
        "XGBoost로 모델을 생성하고 예측해 보겠습니다. "
      ],
      "metadata": {
        "id": "nzyZW41yZLWK"
      }
    },
    {
      "cell_type": "code",
      "source": [
        "from xgboost import XGBClassifier\n",
        "from sklearn.metrics import roc_auc_score\n",
        "\n",
        "xgb_clf = XGBClassifier(n_estimators=500, random_state=156)\n",
        "# `verbose` 파라미터를 `False`로 지정하여 학습 시 메시지가 출력되지 않도록 합니다.\n",
        "# `eval_metric`은 `logloss`로 지정해도 큰 차이는 없습니다.\n",
        "# 예시를 위해 평가 데이터 세트로 테스트 데이터 세트를 함께 사용하겠습니다. 다만 과적합될 가능성이 높습니다.\n",
        "xgb_clf.fit(X_train, y_train, early_stopping_rounds=100, eval_metric='auc',\n",
        "        eval_set=[(X_train, y_train), (X_test, y_test)], verbose=False)\n",
        "\n",
        "xgb_roc_score = roc_auc_score(y_test, xgb_clf.predict_proba(X_test)[:, 1], average='macro')\n",
        "print('ROC AUC: {:.4f}'.format(xgb_roc_score))"
      ],
      "metadata": {
        "id": "dkAWLJQUWKLI"
      },
      "execution_count": null,
      "outputs": []
    },
    {
      "cell_type": "markdown",
      "source": [
        "최적 파라미터를 찾아보겠습니다. 학습 시간이 많이 필요한 모델의 최적 파라미터를 찾는 요령은 먼저 파라미터를 2 ~ 3개 정도 결합하여 최적 파라미터를 찾고 이 파라미터를 기반으로 다시 파라미터 1 ~ 2개를 결합하여 튜닝을 수행하는 것입니다. 수행 시간이 오래 걸리므로 `n_estimators` 파라미터를 `100`으로 낮게 지정하고 `early_stopping_rounds` 파라미터 또한 `30`으로 낮게 지정한 뒤에 파라미터 튜닝을 완료하면 다시 증가시키겠습니다."
      ],
      "metadata": {
        "id": "IdR5tp_cQP-p"
      }
    },
    {
      "cell_type": "code",
      "source": [
        "from sklearn.model_selection import GridSearchCV\n",
        "\n",
        "xgb_clf = XGBClassifier(n_estimators=100)\n",
        "\n",
        "params = {\n",
        "    'max_depth': [5, 7],\n",
        "    'min_child_weight': [1, 3],\n",
        "    'colsample_bytree': [0.5, 0.75]\n",
        "    }\n",
        "\n",
        "gridcv = GridSearchCV(xgb_clf, param_grid=params, cv=3)\n",
        "gridcv.fit(X_train, y_train, early_stopping_rounds=30, eval_metric='auc',\n",
        "           eval_set=[(X_train, y_train), (X_test, y_test)], verbose=False)\n",
        "\n",
        "print('GridSearchCV 최적 파라미터:', gridcv.best_params_)\n",
        "\n",
        "xgb_roc_score = roc_auc_score(y_test, gridcv.predict_proba(X_test)[:, 1], average='macro')\n",
        "print('ROC AUC: {:.4f}'.format(xgb_roc_score))"
      ],
      "metadata": {
        "id": "9BgF4eXbjFKM"
      },
      "execution_count": null,
      "outputs": []
    },
    {
      "cell_type": "markdown",
      "source": [
        "최적 파라미터를 토대로 다시 최적화를 수행하겠습니다. `learning_rate=0.02`와 `reg_alpha=0.03`를 추가하겠습니다."
      ],
      "metadata": {
        "id": "sfqVIOG7Rjja"
      }
    },
    {
      "cell_type": "code",
      "source": [
        "xgb_clf = XGBClassifier(n_estimators=1000, random_state=156, learning_rate=0.02,\n",
        "                        max_depth=5, min_child_weight=1, colsample_bytree=0.5, reg_alpha=0.03)\n",
        "xgb_clf.fit(X_train, y_train, early_stopping_rounds=200, eval_metric='auc',\n",
        "            eval_set=[(X_train, y_train), (X_test, y_test)], verbose=False)\n",
        "\n",
        "xgb_roc_score = roc_auc_score(y_test, xgb_clf.predict_proba(X_test)[:, 1], average='macro')\n",
        "print('ROC AUC: {:.4f}'.format(xgb_roc_score))"
      ],
      "metadata": {
        "id": "6bfeG1d9k1-q"
      },
      "execution_count": null,
      "outputs": []
    },
    {
      "cell_type": "markdown",
      "source": [
        "미미하지만 성능이 더 떨어졌습니다. 기실 앙상블 알고리즘에서 하이퍼 파라미터 튜닝으로 성능 수치 개선을 획기적으로 도모하기란 쉽지 않은 일입니다. 과적합과 잡음에 뛰어난 알고리즘이기 때문입니다. 물론 자원에 여유가 된다면 여러 하이퍼 파라미터를 시도해 볼 수 있습니다.\n",
        "\n",
        "피처 중요도를 시각화해 보겠습니다."
      ],
      "metadata": {
        "id": "WLyMnz6sSSRC"
      }
    },
    {
      "cell_type": "code",
      "source": [
        "from xgboost import plot_importance\n",
        "import matplotlib.pyplot as plt\n",
        "%matplotlib inline\n",
        "\n",
        "fig, ax = plt.subplots(1, 1, figsize=(10, 8))\n",
        "plot_importance(xgb_clf, ax=ax, max_num_features=20, height=0.4)\n",
        "plt.show()"
      ],
      "metadata": {
        "id": "f80nUvfyTXX-"
      },
      "execution_count": null,
      "outputs": []
    },
    {
      "cell_type": "markdown",
      "source": [
        "## **9.3. LightGBM 모델 학습과 하이퍼 파라미터 튜닝**"
      ],
      "metadata": {
        "id": "Pck-aYLkc6Tk"
      }
    },
    {
      "cell_type": "markdown",
      "source": [
        "LightGBM으로 모델을 생성하고 예측해 보겠습니다. 파라미터는 XGBoost와 동일하게 지정하겠습니다. "
      ],
      "metadata": {
        "id": "R2Qy3cnnWuh5"
      }
    },
    {
      "cell_type": "code",
      "source": [
        "from lightgbm import LGBMClassifier\n",
        "\n",
        "lgbm_clf = LGBMClassifier(n_estimators=500)\n",
        "evals = [(X_test, y_test)]\n",
        "lgbm_clf.fit(X_train, y_train, early_stopping_rounds=100, eval_metric='auc', eval_set=evals, verbose=False)\n",
        "\n",
        "lgbm_roc_score = roc_auc_score(y_test, lgbm_clf.predict_proba(X_test)[:, 1], average='macro')\n",
        "print('ROC AUC: {:.4f}'.format(lgbm_roc_score))"
      ],
      "metadata": {
        "id": "xGxQjVkBVgg6"
      },
      "execution_count": null,
      "outputs": []
    },
    {
      "cell_type": "markdown",
      "source": [
        "XGBoost보다 점수가 약간 낮지만 학습 시간은 더 빠릅니다. \n",
        "\n",
        "최적 파라미터를 탐색해 보겠습니다."
      ],
      "metadata": {
        "id": "pvY1Cm4_XHk9"
      }
    },
    {
      "cell_type": "code",
      "source": [
        "from sklearn.model_selection import GridSearchCV\n",
        "\n",
        "lgbm_cf = LGBMClassifier(n_estimators=200)\n",
        "\n",
        "params = {\n",
        "    'num_leaves': [32, 64],\n",
        "    'max_depth': [128, 160],\n",
        "    'min_child_samples': [60, 100],\n",
        "    'subsample': [0.8, 1]\n",
        "}\n",
        "\n",
        "gridcv = GridSearchCV(lgbm_cf, param_grid=params, cv=3)\n",
        "gridcv.fit(X_train, y_train, early_stopping_rounds=30, eval_metric='auc',\n",
        "           eval_set=[(X_train, y_train), (X_test, y_test)], verbose=False)\n",
        "\n",
        "print('GridSearchCV 최적 파라미터:', gridcv.best_params_)\n",
        "\n",
        "lgbm_roc_score = roc_auc_score(y_test, gridcv.predict_proba(X_test)[:, 1], average='macro')\n",
        "print('ROC AUC: {:.4f}'.format(lgbm_roc_score))"
      ],
      "metadata": {
        "id": "aCw1Z9tNXU2M"
      },
      "execution_count": null,
      "outputs": []
    },
    {
      "cell_type": "markdown",
      "source": [
        "최적 파라미터로 모델을 학습시키고 피처 중요도를 확인하겠습니다."
      ],
      "metadata": {
        "id": "i5Ov1Vl-acco"
      }
    },
    {
      "cell_type": "code",
      "source": [
        "lgbm_clf = LGBMClassifier(n_estimators=1000, num_leaves=32, subsample=0.8, min_child_samples=100,\n",
        "                          max_depth=128)\n",
        "lgbm_clf.fit(X_train, y_train, early_stopping_rounds=100, eval_metric='auc', eval_set=evals,\n",
        "             verbose=False)\n",
        "\n",
        "lgbm_roc_score = roc_auc_score(y_test, lgbm_clf.predict_proba(X_test)[:, 1], average='macro')\n",
        "print('ROC AUC: {:.4f}'.format(lgbm_roc_score))"
      ],
      "metadata": {
        "id": "9B7uNGB5ZNMu"
      },
      "execution_count": null,
      "outputs": []
    },
    {
      "cell_type": "code",
      "source": [
        "from lightgbm import plot_importance\n",
        "import matplotlib.pyplot as plt\n",
        "%matplotlib inline\n",
        "\n",
        "fig, ax = plt.subplots(1, 1, figsize=(10, 8))\n",
        "plot_importance(lgbm_clf, ax=ax, max_num_features=20, height=0.4)\n",
        "plt.show()"
      ],
      "metadata": {
        "id": "KYUNeOwwaA7C"
      },
      "execution_count": null,
      "outputs": []
    },
    {
      "cell_type": "markdown",
      "source": [
        "# **10. 분류 실습 - 캐글 신용카드 사기 검출**"
      ],
      "metadata": {
        "id": "HpyB_iU5c6Re"
      }
    },
    {
      "cell_type": "markdown",
      "source": [
        "캐글의 [신용카드 데이터 세트](https://www.kaggle.com/mlg-ulb/creditcardfraud)를 사용하여 신용카드 사기 검출 분류 문제를 다뤄보겠습니다. 약 0.172%만 사기 트랜잭션이며 양성이고 레이블은 1입니다. 이처럼 사기 검출(Fraud Detection) 또는 이상 검출(Anomaly Detection)을 위한 데이터 세트는 일반적으로 양성과 음성의 비율이 매우 불균형한 분포를 가지는 경우가 많습니다. \n"
      ],
      "metadata": {
        "id": "nAukkx5_akUE"
      }
    },
    {
      "cell_type": "markdown",
      "source": [
        "## **10.1. 언더 샘플링과 오버 샘플링의 이해**"
      ],
      "metadata": {
        "id": "vTrvsAhHc6Og"
      }
    },
    {
      "cell_type": "markdown",
      "source": [
        "레이블이 불균형한 분포를 가진 데이터 세트를 학습시킬 때 예측 성능 문제가 발생할 수 있습니다. 이상 레이블 수가 너무 적어서 다양한 유형을 학습하지 못하고 정상 레이블에 치우친 학습만 하기 때문입니다. 이런 문제점을 해결하려면 **오버 샘플링(Oversampling)**과 **언더 샘플링(Undersampling)** 방법을 적절히 사용해야 합니다. 비교적으로 언더 샘플링보다 오버 샘플링이 예측 성능상 더 유리합니다. \n",
        "\n",
        "언더 샘플링은 많은 데이터 세트를 적은 데이터 세트 수준으로 감소시키는 방법입니다. 에컨대 정상 레이블을 가진 데이터가 10,000건이고 이상 레이블을 가진 데이터가 100건이라면 정상 레이블 데이터를 이상 레이블 데이터 수준인 100건으로 줄입니다. 다만 이렇게 데이터 수를 줄이게 되면 학습에 필요한 충분한 데이터가 확보되지 않으므로 유용하지 않고 잘 사용하지 않는 방법입니다.\n",
        "\n",
        "오버 샘플링은 언더 샘플링과 반대로 적은 데이터 세트를 증식하여 충분한 데이터를 확보하는 방법입니다. 동일한 데이터만 증식하는 방법은 오버피팅을 발생시키기 쉬우므로 원본 데이터의 피처 값들을 조금만 변경하여 증식합니다. 대표적인 방법은 **SMOTE(Synthetic Minority over-sampling Technique)**입니다. 적은 데이터 세트에 있는 개별 데이터들의 K-최근접 이웃을 찾아서 이 데이터와 이웃 K개의 차이를 일정 값으로 만들고 기존 데이터와 약간 차이가 나는 새로운 데이터를 생성합니다. SMOTE는 `imbalanced-learn` 패키지에 구현되어 있습니다."
      ],
      "metadata": {
        "id": "PkQ9AXfravbm"
      }
    },
    {
      "cell_type": "markdown",
      "source": [
        "## **10.2. 데이터 일차 가공 및 모델 학습/예측/평가**"
      ],
      "metadata": {
        "id": "lkRMpXaOc6Lk"
      }
    },
    {
      "cell_type": "code",
      "source": [
        "from google.colab import drive\n",
        "drive.mount('/content/gdrive/')\n",
        "import pandas as pd\n",
        "import numpy as np\n",
        "import matplotlib.pyplot as plt\n",
        "%matplotlib inline\n",
        "import warnings\n",
        "warnings.filterwarnings('ignore')"
      ],
      "metadata": {
        "id": "Nxz8fcEk9uTC"
      },
      "execution_count": null,
      "outputs": []
    },
    {
      "cell_type": "code",
      "source": [
        "card_df = pd.read_csv('/content/gdrive/MyDrive/creditcard.csv/creditcard.csv')\n",
        "card_df.head()"
      ],
      "metadata": {
        "id": "PUmA48hO-KF5"
      },
      "execution_count": null,
      "outputs": []
    },
    {
      "cell_type": "markdown",
      "source": [
        "'Time' 피처는 데이터 생성 관련한 작업용 속성으로서 큰 의미가 없으므로 제거하겠습니다. 'Amount' 피처는 트랜잭션 금액이고, 'Class' 피처의 레이블은 0이면 정상이고 1이면 사기 트랜잭션입니다.\n",
        "\n",
        "결측치를 확인하겠습니다."
      ],
      "metadata": {
        "id": "JbwfElOQAs7L"
      }
    },
    {
      "cell_type": "code",
      "source": [
        "card_df.info()"
      ],
      "metadata": {
        "id": "2oPG7B9R-72h"
      },
      "execution_count": null,
      "outputs": []
    },
    {
      "cell_type": "code",
      "source": [
        "card_df.isnull().sum()"
      ],
      "metadata": {
        "id": "03kuJlyFBP9q"
      },
      "execution_count": null,
      "outputs": []
    },
    {
      "cell_type": "markdown",
      "source": [
        "결측치는 없습니다.\n",
        "\n",
        "'Time' 피처를 제거하는 함수를 선언하겠습니다."
      ],
      "metadata": {
        "id": "Cgwy69C8Bhs1"
      }
    },
    {
      "cell_type": "code",
      "source": [
        "from sklearn.model_selection import train_test_split\n",
        "\n",
        "def get_preprocessed_df(df=None):\n",
        "    df_copy = df.copy()\n",
        "    df_copy.drop('Time', axis=1, inplace=True)\n",
        "    return df_copy"
      ],
      "metadata": {
        "id": "OwaovLoR_NXm"
      },
      "execution_count": null,
      "outputs": []
    },
    {
      "cell_type": "markdown",
      "source": [
        "학습 피처/레이블 데이터 세트, 테스트 피처/레이블 데이터 세트를 반환하는 함수를 선언하겠습니다.\n"
      ],
      "metadata": {
        "id": "go8cDvJLAgrH"
      }
    },
    {
      "cell_type": "code",
      "source": [
        "def get_train_test_datasets(df=None):\n",
        "    df_copy = get_preprocessed_df(df)\n",
        "    X_features = df_copy.iloc[:, :-1]\n",
        "    y_target = df_copy.iloc[:, -1]\n",
        "    X_train, X_test, y_train, y_test = train_test_split(\n",
        "        X_features, y_target, test_size=0.3, random_state=0, stratify=y_target)\n",
        "    return X_train, X_test, y_train, y_test"
      ],
      "metadata": {
        "id": "m96FC9sVD38B"
      },
      "execution_count": null,
      "outputs": []
    },
    {
      "cell_type": "markdown",
      "source": [
        "학습 데이터 세트와 테스트 데이터 세트로 나누겠습니다."
      ],
      "metadata": {
        "id": "Gfa5DoRhJntS"
      }
    },
    {
      "cell_type": "code",
      "source": [
        "X_train, X_test, y_train, y_test = get_train_test_datasets(card_df)"
      ],
      "metadata": {
        "id": "-U6GvRACEn9M"
      },
      "execution_count": null,
      "outputs": []
    },
    {
      "cell_type": "markdown",
      "source": [
        "각 데이터 세트의 레이블 값 비율을 확인해보겠습니다."
      ],
      "metadata": {
        "id": "no2mWJM3J79z"
      }
    },
    {
      "cell_type": "code",
      "source": [
        "print('학습 데이터 레이블 값 비율')\n",
        "print(y_train.value_counts() / y_train.shape[0] * 100)\n",
        "print()\n",
        "print('테스트 데이터 레이블 값 비율')\n",
        "print(y_test.value_counts() / y_test.shape[0] * 100)"
      ],
      "metadata": {
        "id": "V6oTsrSYFA7M"
      },
      "execution_count": null,
      "outputs": []
    },
    {
      "cell_type": "markdown",
      "source": [
        "모델을 생성하겠습니다. 먼저 로지스틱 회귀를 사용합니다."
      ],
      "metadata": {
        "id": "BLXLivHS8SCF"
      }
    },
    {
      "cell_type": "code",
      "source": [
        "from sklearn.linear_model import LogisticRegression\n",
        "\n",
        "lr_clf = LogisticRegression()\n",
        "lr_clf.fit(X_train, y_train)\n",
        "lr_pred = lr_clf.predict(X_test)\n",
        "lr_pred_proba = lr_clf.predict_proba(X_test)[:, 1]\n",
        "\n",
        "from sklearn.metrics import accuracy_score, precision_score, recall_score, roc_auc_score\n",
        "from sklearn.metrics import f1_score, confusion_matrix, precision_recall_curve, roc_curve\n",
        "\n",
        "def get_clf_eval(y_test, pred, pred_proba=None):\n",
        "    confusion = confusion_matrix(y_test, pred)\n",
        "    accuracy = accuracy_score(y_test, pred)\n",
        "    precision = precision_score(y_test, pred)\n",
        "    recall = recall_score(y_test, pred)\n",
        "    f1 = f1_score(y_test, pred)\n",
        "    roc_auc = roc_auc_score(y_test, pred_proba)\n",
        "    print('오차 행렬')\n",
        "    print(confusion)\n",
        "    print('정확도: {:.4f}, 정밀도: {:.4f}, 재현율: {:.4f}, F1: {:.4f},\\\n",
        "    AUC: {:.4f}'.format(accuracy, precision, recall, f1, roc_auc))\n",
        "\n",
        "get_clf_eval(y_test, lr_pred, lr_pred_proba)"
      ],
      "metadata": {
        "id": "9W5lzzpc7LfM"
      },
      "execution_count": null,
      "outputs": []
    },
    {
      "cell_type": "markdown",
      "source": [
        "다음은 LightGBM을 사용하겠습니다. 우선 Estimator 객체와 학습 데이터 세트, 테스트 데이터 세트를 인자로 받는 학습, 예측, 평가 수행 함수를 선언하겠습니다."
      ],
      "metadata": {
        "id": "fO92ayB6-Q_T"
      }
    },
    {
      "cell_type": "code",
      "source": [
        "def get_model_train_eval(model, ftr_train=None, ftr_test=None, tgt_train=None, tgt_test=None):\n",
        "    model.fit(ftr_train, tgt_train)\n",
        "    pred = model.predict(ftr_test)\n",
        "    pred_proba = model.predict_proba(ftr_test)[:, 1]\n",
        "    get_clf_eval(tgt_test, pred, pred_proba)"
      ],
      "metadata": {
        "id": "foDOZhr98kVt"
      },
      "execution_count": null,
      "outputs": []
    },
    {
      "cell_type": "markdown",
      "source": [
        "불균형한 레이블 분포를 가진 데이터 세트이므로 LightGBM의 `boost_from_average=False`로 지정해야 합니다. `True`로 지정할 경우 ROC-AUC 성능이 크게 저하됩니다."
      ],
      "metadata": {
        "id": "C_1z8VYq_xmH"
      }
    },
    {
      "cell_type": "code",
      "source": [
        "from lightgbm import LGBMClassifier\n",
        "\n",
        "lgbm_clf = LGBMClassifier(n_estimators=1000, num_leaves=64, n_jobs=-1, boost_from_average=False)\n",
        "get_model_train_eval(lgbm_clf, X_train, X_test, y_train, y_test)"
      ],
      "metadata": {
        "id": "czgPX8v59T6f"
      },
      "execution_count": null,
      "outputs": []
    },
    {
      "cell_type": "markdown",
      "source": [
        "로지스틱 회귀 모델보다 성능이 좋습니다."
      ],
      "metadata": {
        "id": "lDomI2XjApaw"
      }
    },
    {
      "cell_type": "markdown",
      "source": [
        "## **10.3. 데이터 분포도 변환 후 모델 학습/예측 평가**"
      ],
      "metadata": {
        "id": "PQPUdzSZdwPJ"
      }
    },
    {
      "cell_type": "markdown",
      "source": [
        "'Amount' 피처는 신용카드 사용 금액입니다. 정상과 비정상 트랜잭션을 판단하는 주요 피처일 것입니다. 'Amount' 피처의 값 분포도를 살펴보겠습니다. 참고로 로지스틱 회귀는 선형 모델이므로 주요 피처들의 값이 정규 분포 형태를 유지하는 것을 선호합니다. "
      ],
      "metadata": {
        "id": "9kcba1N1CyVd"
      }
    },
    {
      "cell_type": "code",
      "source": [
        "import seaborn as sns\n",
        "\n",
        "plt.figure(figsize=(8, 4))\n",
        "plt.xticks(range(0, 30000, 1000), rotation=60)\n",
        "sns.distplot(card_df['Amount'])\n",
        "plt.show()"
      ],
      "metadata": {
        "id": "0goIgfBzB66R"
      },
      "execution_count": null,
      "outputs": []
    },
    {
      "cell_type": "markdown",
      "source": [
        "대부분 1,000 이하에 분포하고 27,000불까지 꼬리가 긴 분포 형태를 취합니다. 'Amount' 피처를 표준 정규 분포 형태로 변환하고 다시 성능을 측정해보겠습니다. 먼저 위에서 정의했던 `get_preprocessed_df()` 함수에 'Amount' 피처 값을 정규 분포 형태로 변환하는 코드를 추가하겠습니다."
      ],
      "metadata": {
        "id": "5_MNOt_ODgJP"
      }
    },
    {
      "cell_type": "code",
      "source": [
        "from sklearn.preprocessing import StandardScaler\n",
        "\n",
        "def get_preprocessed_df(df=None):\n",
        "    df_copy = df.copy()\n",
        "    scaler = StandardScaler()\n",
        "    amount_n = scaler.fit_transform(df_copy['Amount'].values.reshape(-1, 1))\n",
        "    df_copy.insert(0, 'Amount_Scaled', amount_n)\n",
        "    df_copy.drop(['Time', 'Amount'], axis=1, inplace=True)\n",
        "    return df_copy"
      ],
      "metadata": {
        "id": "-8rMd-K8D5QN"
      },
      "execution_count": null,
      "outputs": []
    },
    {
      "cell_type": "code",
      "source": [
        "X_train, X_test, y_train, y_test = get_train_test_datasets(card_df)\n",
        "\n",
        "print('로지스틱 회귀 예측 성능')\n",
        "lr_clf = LogisticRegression()\n",
        "get_model_train_eval(lr_clf, X_train, X_test, y_train, y_test)\n",
        "\n",
        "print()\n",
        "\n",
        "print('LightGBM 예측 성능')\n",
        "lgbm_clf = LGBMClassifier(n_estimators=1000, num_leaves=64, n_jobs=-1, boost_from_average=False)\n",
        "get_model_train_eval(lgbm_clf, X_train, X_test, y_train, y_test)"
      ],
      "metadata": {
        "id": "gJE9ch6oFXOe"
      },
      "execution_count": null,
      "outputs": []
    },
    {
      "cell_type": "markdown",
      "source": [
        "성능은 그다지 향상되지 않았습니다.\n",
        "\n",
        "이번엔 로그 변환을 수행해보겠습니다. 로그 변환은 데이터 분포도가 심한 왜곡 형태를 띌 경우 시도할 수 있습니다. `get_preprocessed_df()` 함수의 로직을 바꾸겠습니다."
      ],
      "metadata": {
        "id": "sDRTeaFvICC-"
      }
    },
    {
      "cell_type": "code",
      "source": [
        "def get_preprocessed_df(df=None):\n",
        "    df_copy = df.copy()\n",
        "    amount_n = np.log1p(df_copy['Amount'])\n",
        "    df_copy.insert(0, 'Amount_Scaled', amount_n)\n",
        "    df_copy.drop(['Time', 'Amount'], axis=1, inplace=True)\n",
        "    return df_copy"
      ],
      "metadata": {
        "id": "mJExvHqhI--O"
      },
      "execution_count": null,
      "outputs": []
    },
    {
      "cell_type": "code",
      "source": [
        "X_train, X_test, y_train, y_test = get_train_test_datasets(card_df)\n",
        "\n",
        "print('로지스틱 회귀 예측 성능')\n",
        "lr_clf = LogisticRegression()\n",
        "get_model_train_eval(lr_clf, X_train, X_test, y_train, y_test)\n",
        "\n",
        "print()\n",
        "\n",
        "print('LightGBM 예측 성능')\n",
        "lgbm_clf = LGBMClassifier(n_estimators=1000, num_leaves=64, n_jobs=-1, boost_from_average=False)\n",
        "get_model_train_eval(lgbm_clf, X_train, X_test, y_train, y_test)"
      ],
      "metadata": {
        "id": "qg5ty8zOJUTv"
      },
      "execution_count": null,
      "outputs": []
    },
    {
      "cell_type": "markdown",
      "source": [
        "성능이 전반적으로 조금씩 제고됐습니다."
      ],
      "metadata": {
        "id": "iDwejgkaJYct"
      }
    },
    {
      "cell_type": "markdown",
      "source": [
        "## **10.4. 이상치 데이터 제거 후 모델 학습/예측/평가**"
      ],
      "metadata": {
        "id": "1ItzaqZadwMD"
      }
    },
    {
      "cell_type": "markdown",
      "source": [
        "이상치를 찾는 방법 중에 **IQR(Inter Quantile Range)** 방식을 적용해 보겠습니다. IQR은 사분위(Quantile) 값의 편차를 이용하는 기법이며 박스 플롯으로 시각화할 수 있습니다. IQR은 25% 구간인 Q1부터 50% 구간인 Q2, 75% 구간인 Q3의 범위를 의미합니다.\n",
        "\n",
        "IQR을 이용해 이상치 데이터를 검출하는 방식은 보통 IQR에 1.5를 곱해서 생성된 범위를 이용해 최댓값과 최솟값을 결정한 뒤 최댓값을 초과하거나 최솟값에 미달하는 데이터를 이상치로 간주하는 것입니다. 75% 분위수(Q3)에 IQR\\*1.5를 더해서 일반적인 데이터가 가질 수 있는 최댓값으로 가정하고, 25% 분위수(Q1)에 IQR\\*1.5를 빼서 일반적인 데이터가 가질 수 있는 최솟값으로 가정합니다(1.5가 아닌 다른 값을 적용할 수도 있지만 보통 1.5를 적용합니다). 최댓값보다 크거나 최솟값보다 작으면 이상치로 판단합니다.\n",
        "\n",
        "아래에서 이상치를 제거해 보겠습니다. 우선 어떤 피처의 이상치를 검출할 것인지 선택해야 합니다. 피처가 많은 경우 결정값과 가장 상관성이 높은 피처들을 위주로 이상치를 검출하는 편이 좋습니다. 모든 피처들의 이상치를 검출하려면 오랜 시간이 소요되고, 결정값과 상관성이 높지 않은 피처들의 경우 이상치를 제거해도 성능이 크게 향상되지 않습니다. `DataFrame`의 `corr()` 메서드로 상관도를 구하고 히트맵으로 시각화하겠습니다.\n"
      ],
      "metadata": {
        "id": "3lJ3FNFTIX_5"
      }
    },
    {
      "cell_type": "code",
      "source": [
        "import seaborn as sns\n",
        "\n",
        "plt.figure(figsize=(9, 9))\n",
        "corr = card_df.corr()\n",
        "sns.heatmap(corr, cmap='RdBu')\n",
        "plt.show()"
      ],
      "metadata": {
        "id": "s-8oRMrDPP-_"
      },
      "execution_count": null,
      "outputs": []
    },
    {
      "cell_type": "markdown",
      "source": [
        "양의 상관관계가 높을수록 진한 파란색이고, 음의 상관관계가 높을수록 진한 빨간색입니다. 'Class' 피처와 음의 상관관계가 높은 피처는 'V14', 'V17'이며 이상치가 존재한다고 판단할 수 있습니다. 일단 'V14'만 이상치를 제거하겠습니다. IQR을 이용하여 이상치를 검출하는 함수를 선언하고 활용하겠습니다."
      ],
      "metadata": {
        "id": "x2W7XqMmP-xH"
      }
    },
    {
      "cell_type": "code",
      "source": [
        "import numpy as np\n",
        "\n",
        "def get_outlier(df=None, column=None, weight=1.5):\n",
        "    # 사기(fraud)에 해당하는 `column`만 추출합니다.\n",
        "    fraud = df[df['Class'] == 1][column]\n",
        "    # 1/4 분위와 3/4 분위를 구합니다.\n",
        "    quantile_25 = np.percentile(fraud.values, 25)\n",
        "    quantile_75 = np.percentile(fraud.values, 75)\n",
        "    # IQR을 구하고 최댓값과 최솟값을 구합니다.\n",
        "    iqr = quantile_75 - quantile_25\n",
        "    iqr_weight = iqr * weight\n",
        "    lowest_val = quantile_25 - iqr_weight\n",
        "    highest_val = quantile_75 + iqr_weight\n",
        "    # 최댓값보다 크거나 최솟값보다 작은 값을 이상치로 간주하고 인덱스를 반환합니다.\n",
        "    outlier_index = fraud[(fraud < lowest_val) | (fraud > highest_val)].index\n",
        "    return outlier_index"
      ],
      "metadata": {
        "id": "D4Z2I6CqIfXn"
      },
      "execution_count": null,
      "outputs": []
    },
    {
      "cell_type": "markdown",
      "source": [
        "이상치의 인덱스를 확인해보겠습니다."
      ],
      "metadata": {
        "id": "oi39ZRFvVigb"
      }
    },
    {
      "cell_type": "code",
      "source": [
        "outlier_index = get_outlier(df=card_df, column='V14', weight=1.5)\n",
        "print('이상치 인덱스:', outlier_index)"
      ],
      "metadata": {
        "id": "zU5hdNVVLGt2"
      },
      "execution_count": null,
      "outputs": []
    },
    {
      "cell_type": "markdown",
      "source": [
        "이상치를 제거하는 코드를 `get_preprocessed_df()` 함수에 추가하겠습니다."
      ],
      "metadata": {
        "id": "LCI_WuUIWGqn"
      }
    },
    {
      "cell_type": "code",
      "source": [
        "def get_preprocessed_df(df=None):\n",
        "    df_copy = df.copy()\n",
        "    amount_n = np.log1p(df_copy['Amount'])\n",
        "    df_copy.insert(0, 'Amount_Scaled', amount_n)\n",
        "    df_copy.drop(['Time', 'Amount'], axis=1, inplace=True)\n",
        "    # 이상치를 제거하는 로직입니다.\n",
        "    outlier_index = get_outlier(df=df_copy, column='V14', weight=1.5)\n",
        "    df_copy.drop(outlier_index, axis=0, inplace=True)\n",
        "    return df_copy"
      ],
      "metadata": {
        "id": "cMUJCiYcWCV2"
      },
      "execution_count": null,
      "outputs": []
    },
    {
      "cell_type": "markdown",
      "source": [
        "각 모델의 성능을 확인하겠습니다."
      ],
      "metadata": {
        "id": "dz2HxegmWTvi"
      }
    },
    {
      "cell_type": "code",
      "source": [
        "X_train, X_test, y_train, y_test = get_train_test_datasets(card_df)\n",
        "\n",
        "print('로지스틱 회귀 예측 성능')\n",
        "lr_clf = LogisticRegression()\n",
        "get_model_train_eval(lr_clf, X_train, X_test, y_train, y_test)\n",
        "\n",
        "print()\n",
        "\n",
        "print('LightGBM 예측 성능')\n",
        "lgbm_clf = LGBMClassifier(n_estimators=1000, num_leaves=64, n_jobs=-1, boost_from_average=False)\n",
        "get_model_train_eval(lgbm_clf, X_train, X_test, y_train, y_test)"
      ],
      "metadata": {
        "id": "3GBVW8BqWFeW"
      },
      "execution_count": null,
      "outputs": []
    },
    {
      "cell_type": "markdown",
      "source": [
        "전반적으로 성능이 크게 향상되었습니다. 특히 재현율의 향상이 눈에 띕니다."
      ],
      "metadata": {
        "id": "PVIozqiPXCF3"
      }
    },
    {
      "cell_type": "markdown",
      "source": [
        "## **10.5. SMOTE 오버 샘플링 적용 후 모델 학습/예측/평가**"
      ],
      "metadata": {
        "id": "J6n7HdmIdwJa"
      }
    },
    {
      "cell_type": "markdown",
      "source": [
        "SMOTE를 적용할 때는 반드시 학습 데이터 세트만 오버 샘플링을 해야 합니다. 검증 데이터 세트나 테스트 데이터 세트를 오버 샘플링 하면 원본 데이터 세트가 아닌 데이터 세트에서 검증이나 테스트를 수행하므로 바르지 않습니다. "
      ],
      "metadata": {
        "id": "qhNwf92olTEM"
      }
    },
    {
      "cell_type": "code",
      "source": [
        "help(SMOTE)"
      ],
      "metadata": {
        "id": "NW0714CqWuMz"
      },
      "execution_count": null,
      "outputs": []
    },
    {
      "cell_type": "code",
      "source": [
        "from imblearn.over_sampling import SMOTE\n",
        "\n",
        "smote = SMOTE(random_state=0)\n",
        "X_train_over, y_train_over = smote.fit_resample(X_train, y_train)\n",
        "print('SMOTE 적용 전 학습용 피처/레이블 데이터 세트:', X_train.shape, y_train.shape)\n",
        "print('SMOTE 적용 전 학습용 피처/레이블 데이터 세트:', X_train_over.shape, y_train_over.shape)\n",
        "print('SMOTE 적용 후 레이블 값 분포:\\n', pd.Series(y_train_over).value_counts())"
      ],
      "metadata": {
        "id": "pEm3ourKUXBO"
      },
      "execution_count": null,
      "outputs": []
    },
    {
      "cell_type": "markdown",
      "source": [
        "로지스틱 회귀 모델을 생성해 보겠습니다."
      ],
      "metadata": {
        "id": "RIHqvLv-ekZD"
      }
    },
    {
      "cell_type": "code",
      "source": [
        "lr_clf = LogisticRegression()\n",
        "get_model_train_eval(lr_clf, X_train_over, X_test, y_train_over, y_test)"
      ],
      "metadata": {
        "id": "mn9LH9raaYMJ"
      },
      "execution_count": null,
      "outputs": []
    },
    {
      "cell_type": "markdown",
      "source": [
        "재현율은 높아졌지만 정밀도는 엄청나게 낮아졌습니다. SMOTE를 적용하면 재현율은 높아지고 정밀도는 낮아지는 것이 일반적인 현상입니다. 재현율은 높지만 매우 낮은 정밀도이므로 업무에는 적용하기 부적합합니다. 이는 로지스틱 회귀 모델이 오버 샘플링으로 인해 실제 원본 데이터 유형보다 많은 Class 1을 학습하면서 실제 테스트 데이터 세트에서 예측을 지나치게 Class 1로 적용하여 정밀도가 매우 낮은 수준까지 떨어진 것입니다.\n",
        "\n",
        "분류 결정 임곗값에 따른 정밀도와 재현율 곡선을 그려서 문제점을 확인해보겠습니다. "
      ],
      "metadata": {
        "id": "Y8emOl2iatQk"
      }
    },
    {
      "cell_type": "code",
      "source": [
        "import matplotlib.pyplot as plt\n",
        "import matplotlib.ticker as ticker\n",
        "%matplotlib inline\n",
        "\n",
        "def precision_recall_curve_plot(y_test, pred_proba_c1):\n",
        "    precisions, recalls, thresholds = precision_recall_curve(y_test, pred_proba_c1)\n",
        "\n",
        "    plt.figure(figsize=(8, 6))\n",
        "    threshold_boundary = thresholds.shape[0]\n",
        "    plt.plot(thresholds, precisions[0:threshold_boundary], linestyle='--', label='precision')\n",
        "    plt.plot(thresholds, recalls[0:threshold_boundary], label='recall')\n",
        "\n",
        "    start, end = plt.xlim()\n",
        "    plt.xticks(np.round(np.arange(start, end, 0.1), 2))\n",
        "\n",
        "    plt.xlabel('Threshold value'); plt.ylabel('Precision and Recall value')\n",
        "    plt.legend(); plt.grid()\n",
        "    plt.show()"
      ],
      "metadata": {
        "id": "o3NjNFVwcbvm"
      },
      "execution_count": null,
      "outputs": []
    },
    {
      "cell_type": "code",
      "source": [
        "precision_recall_curve_plot(y_test, lr_clf.predict_proba(X_test)[:, 1])"
      ],
      "metadata": {
        "id": "k6qZ-Pewb0-G"
      },
      "execution_count": null,
      "outputs": []
    },
    {
      "cell_type": "markdown",
      "source": [
        "로지스틱 회귀 모델로는 분류 결정 임곗값을 조정하더라도 임계값의 민감도가 심하기 때문에 적절한 재현율/정밀도 성능을 얻을 수 없습니다.\n",
        "\n",
        "LightGBM 모델을 생성해 보겠습니다. "
      ],
      "metadata": {
        "id": "Cix8HEM6eGMZ"
      }
    },
    {
      "cell_type": "code",
      "source": [
        "lgbm_clf = LGBMClassifier(n_estimators=1000, num_leaves=64, n_jobs=-1, boost_from_average=False)\n",
        "get_model_train_eval(lgbm_clf, X_train_over, X_test, y_train_over, y_test)"
      ],
      "metadata": {
        "id": "dXm-MCNpbRK6"
      },
      "execution_count": null,
      "outputs": []
    },
    {
      "cell_type": "markdown",
      "source": [
        "재현율이 상승되고 정밀도는 약간 낮아졌습니다.\n",
        "\n",
        "분류 결정 임곗값에 따른 정밀도와 재현율 곡선을 그려보겠습니다."
      ],
      "metadata": {
        "id": "Hy8rkytqev-G"
      }
    },
    {
      "cell_type": "code",
      "source": [
        "precision_recall_curve_plot(y_test, lgbm_clf.predict_proba(X_test)[:, 1])"
      ],
      "metadata": {
        "id": "60TRWXAAcfHd"
      },
      "execution_count": null,
      "outputs": []
    },
    {
      "cell_type": "markdown",
      "source": [
        "전반적으로 LightGBM이 로지스틱 회귀보다 성능이 좋습니다. 위 내용을 복기할 때 데이터 전처리 시 변화하는 LightGBM 모델의 평가지표들을 위주로 살펴보면서 어떤 전처리 기법을 채용할지 가늠해 볼 수 있을 것입니다."
      ],
      "metadata": {
        "id": "PTbBLhuwlrGy"
      }
    },
    {
      "cell_type": "markdown",
      "source": [
        "# **11. 스태킹 앙상블**"
      ],
      "metadata": {
        "id": "LeEiZ2DgdwHL"
      }
    },
    {
      "cell_type": "markdown",
      "source": [
        "스태킹은 여러 알고리즘을 결합하여 예측 결과를 도출한다는 점에서 배깅과 부스팅과 공통점을 가집니다. 큰 차이점이라면 개별 알고리즘으로 예측한 데이터를 기반으로 다시 예측을 수행하는 것입니다. 개별 알고리즘의 예측 결과 데이터 세트를 최종적인 **메타 데이터 세트**로 만들어 별도의 최종 알고리즘으로 최종 학습을 수행하고 테스트 데이터를 기반으로 다시 최종 예측을 수행하는 방식입니다. 이렇게 개별 모델의 예측된 데이터 세트를 다시 기반으로 학습하고 예측하는 방식을 **메타 모델**이라고 부릅니다. \n",
        "\n",
        "스태킹 모델은 두 종류의 모델이 필요합니다. 첫 번째는 (많은)개별적인 기반 모델, 두 번째는 이 개별 기반 모델의 예측 데이터를 학습 데이터로 만들어서 학습하는 최종 메타 모델입니다. 스태킹 모델의 핵심은 여러 개별 모델의 예측 데이터를 각각 스태킹 형태로 결합하여 최종 메타 모델의 학습용 피처 데이터 세트와 피처 데이터 세트를 만드는 것입니다.\n",
        "\n",
        "기실 실전에서는 스태킹을 거의 사용하지 않습니다. 캐글과 같은 대회에서 성능을 조금이나마 높이기 위한 용도로 사용할 뿐입니다. 스태킹을 적용한다고 성능이 반드시 향상되지도 않습니다. 이번 파트에서는 자세한 설명들은 생략하고 넘어가겠습니다."
      ],
      "metadata": {
        "id": "yIrVnpWzmzog"
      }
    },
    {
      "cell_type": "markdown",
      "source": [
        "## **11.1. 기본 스태킹 모델**"
      ],
      "metadata": {
        "id": "-1c0frvUdwD6"
      }
    },
    {
      "cell_type": "markdown",
      "source": [
        "기본 스태킹 모델을 위스콘신 암 데이터 세트에 적용하겠습니다. 개별 모델을 최적 하이퍼 파라미터로 튜닝하는 작업은 생략하겠습니다. 다만 실전에서 스태킹을 수행할 경우엔 반드시 개별 모델을 최적 하이퍼 파라미터로 학습시켜서 최적의 스태킹 모델을 생성해야 합니다."
      ],
      "metadata": {
        "id": "cR2LVRl-92mb"
      }
    },
    {
      "cell_type": "code",
      "source": [
        "import numpy as np\n",
        "\n",
        "from sklearn.neighbors import KNeighborsClassifier\n",
        "from sklearn.ensemble import RandomForestClassifier\n",
        "from sklearn.ensemble import AdaBoostClassifier\n",
        "from sklearn.tree import DecisionTreeClassifier\n",
        "from sklearn.linear_model import LogisticRegression\n",
        "\n",
        "from sklearn.datasets import load_breast_cancer\n",
        "from sklearn.model_selection import train_test_split\n",
        "from sklearn.metrics import accuracy_score\n",
        "\n",
        "cancer_data = load_breast_cancer()\n",
        "\n",
        "X_data = cancer_data.data\n",
        "y_label = cancer_data.target\n",
        "\n",
        "X_train, X_test, y_train, y_test = train_test_split(X_data, y_label,\n",
        "                                                    test_size=0.2, random_state=0)\n",
        "\n",
        "# 개별 모델입니다.\n",
        "knn_clf = KNeighborsClassifier(n_neighbors=4)\n",
        "rf_clf = RandomForestClassifier(n_estimators=100, random_state=0)\n",
        "dt_clf = DecisionTreeClassifier()\n",
        "ada_clf = AdaBoostClassifier(n_estimators=100)\n",
        "\n",
        "# 최종 모델입니다.\n",
        "lr_final = LogisticRegression(C=10)\n",
        "\n",
        "# 개별 모델을 학습시킵니다. \n",
        "knn_clf.fit(X_train, y_train)\n",
        "rf_clf.fit(X_train, y_train)\n",
        "dt_clf.fit(X_train, y_train)\n",
        "ada_clf.fit(X_train, y_train)\n",
        "\n",
        "# 개별 모델의 정확도를 측정합니다. \n",
        "knn_pred = knn_clf.predict(X_test)\n",
        "rf_pred = rf_clf.predict(X_test)\n",
        "dt_pred = dt_clf.predict(X_test)\n",
        "ada_pred = ada_clf.predict(X_test)\n",
        "print('KNN 정확도: {:.4f}'.format(accuracy_score(y_test, knn_pred)))\n",
        "print('랜덤 포레스트 정확도: {:.4f}'.format(accuracy_score(y_test, rf_pred)))\n",
        "print('결정 트리 정확도: {:.4f}'.format(accuracy_score(y_test, dt_pred)))\n",
        "print('에이다부스트 정확도: {:.4f}'.format(accuracy_score(y_test, ada_pred)))"
      ],
      "metadata": {
        "id": "nqMfcYU95XUY"
      },
      "execution_count": null,
      "outputs": []
    },
    {
      "cell_type": "markdown",
      "source": [
        "개별 알고리즘으로 예측한 예측값을 칼럼 레벨로 옆으로 붙여서 피처 값으로 만들고 최종 메타 모델인 로지스틱 회귀에서 학습 데이터로 재사용하겠습니다. 반환된 예측 데이터 세트는 1차원 형태이므로 일단 모든 예측 데이터 세트를 행으로 붙이겠습니다."
      ],
      "metadata": {
        "id": "vhX5hzS69_uC"
      }
    },
    {
      "cell_type": "code",
      "source": [
        "pred = np.array([knn_pred, rf_pred, dt_pred, ada_pred])\n",
        "print(pred.shape)"
      ],
      "metadata": {
        "id": "Ez3Q40JN8pTl"
      },
      "execution_count": null,
      "outputs": []
    },
    {
      "cell_type": "markdown",
      "source": [
        "행과 열을 바꿔서 칼럼 레벨로 각 알고리즘의 예측 결과를 피처로 만들겠습니다."
      ],
      "metadata": {
        "id": "amPZnPq6_Ot-"
      }
    },
    {
      "cell_type": "code",
      "source": [
        "pred = np.transpose(pred)\n",
        "print(pred.shape)"
      ],
      "metadata": {
        "id": "N-3i2Q0M-b7A"
      },
      "execution_count": null,
      "outputs": []
    },
    {
      "cell_type": "markdown",
      "source": [
        "최종 메타 모델인 로지스틱 회귀를 학습하고 예측 정확도를 측정하겠습니다."
      ],
      "metadata": {
        "id": "VTHSOD55ABxb"
      }
    },
    {
      "cell_type": "code",
      "source": [
        "# 메타 데이터와 테스트 데이터(`y_test`)를 기반으로 최종 메타 모델을 학습시킵니다.\n",
        "lr_final.fit(pred, y_test)\n",
        "final = lr_final.predict(pred)\n",
        "print('최종 메타 모델의 예측 정확도: {:.4f}'.format(accuracy_score(y_test, final)))"
      ],
      "metadata": {
        "id": "pzdhyQ_Q_iUv"
      },
      "execution_count": null,
      "outputs": []
    },
    {
      "cell_type": "markdown",
      "source": [
        "## **11.2. CV 세트 기반의 스태킹**"
      ],
      "metadata": {
        "id": "-6WXD3JDdwA8"
      }
    },
    {
      "cell_type": "markdown",
      "source": [
        "CV 세트 기반의 스태킹 모델은 과적합을 개선하기 위해 최종 메타 모델을 위한 데이터 세트를 만들 때 교차 검증 기반으로 예측된 결과 데이터를 이용합니다. 바로 위 코드에서 최종적으로 학습할 때 테스트용 레이블 데이터 세트인 `y_test`를 기반으로 학습했기 때문에 과적합 문제가 발생할 수 있습니다.\n",
        "\n",
        "CV 세트 기반의 스태킹은 개별 모델들이 각각 교차 검증으로 메타 모델을 위한 학습용 스태킹 데이터 생성과 예측을 위한 테스트용 스태킹 데이터를 생성한 뒤 이를 기반으로 메타 모델이 학습과 예측을 수행합니다. 2단계 스텝으로 구분할 수 있습니다.\n",
        "\n",
        "- 스텝 1: 각 모델별로 원본 학습/테스트 데이터를 예측한 결과 값을 기반으로 메타 모델을 위한 학습용/테스트용 데이터를 생성합니다.\n",
        "\n",
        "- 스텝 2: 스텝 1에서 개별 모델들이 생성한 학습용 데이터를 모두 스태킹 형태로 합쳐서 메타 모델이 학습할 최종 학습용 데이터 세트를 생성합니다. 마찬가지로 각 모델들이 생성한 테스트용 데이터를 모두 스태킹 형태로 합쳐서 메타 모델이 예측할 최종 테스트 데이터 세트를 생성합니다. 메타 모델은 최종적으로 생성된 학습 데이터 세트와 원본 합습 데이터의 레이블 데이터를 기반으로 학습한 뒤, 최종적으로 생성된 테스트 데이터 세트를 예측하고, 원본 테스트 데이터의 레이블 데이터를 기반으로 평가합니다.\n",
        "\n",
        "좀 더 간단하게 cv 세트 기반의 스태킹 모델 프로세스를 설명하자면 아래 목록 순으로 제시할 수 있습니다.\n",
        "\n",
        "1. 훈련 데이터 세트를 폴드 N개로 나눕니다. 일단 폴드 3개로 나누었다고 가정하겠습니다.\n",
        "\n",
        "1. 폴드 2개를 학습을 위한 데이터 폴드로, 폴드 1개를 검증을 위한 데이터 폴드로 사용합니다.\n",
        "\n",
        "1. 위의 폴드 2개를 이용해 개별 모델을 학습합니다. 검증용 폴드 1개로는 데이터를 예측하고 결과를 저장합니다.\n",
        "\n",
        "1. 위 프로세스를 학습용 폴드와 검증용 폴드를 변경하면서 3번 반복하고, 테스트 데이터 세트에 대한 예측값의 평균으로 최종 예측 결괏값을 생성합니다.\n",
        "\n",
        "1. 생성된 최종 예측 결괏값을 메타 모델에 학습하고 예측을 수행합니다.\n",
        "\n",
        "위 과정을 그림으로 제시하면 아래와 같습니다.\n",
        "\n",
        "![CV 세트 기반의 스태킹.png](data:image/png;base64,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)"
      ],
      "metadata": {
        "id": "i1NbC08sBRkv"
      }
    },
    {
      "cell_type": "markdown",
      "source": [
        "위 내용을 코드로 구현해 보겠습니다. 스텝 1을 구현하겠습니다. 개별 기반 모델에서 최종 메타 모델이 사용할 학습 및 테스트용 데이터를 생성하기 위한 함수를 선언하겠습니다."
      ],
      "metadata": {
        "id": "pfKGsPHuVWRe"
      }
    },
    {
      "cell_type": "code",
      "source": [
        "from sklearn.model_selection import KFold\n",
        "from sklearn.metrics import mean_absolute_error\n",
        "\n",
        "def get_stacking_base_datasets(model, X_train_n, y_train_n, X_test_n, n_folds):\n",
        "    # 지정된 `n_folds` 값으로 `KFold`를 생성합니다.\n",
        "    kf = KFold(n_splits=n_folds, shuffle=True, random_state=0)\n",
        "    # 추후 메타 모델이 사용할 학습 데이터를 반환하기 위해 넘파이 배열을 초기화합니다.\n",
        "    train_fold_pred = np.zeros((X_train_n.shape[0], 1))\n",
        "    test_pred = np.zeros((X_test_n.shape[0], n_folds))\n",
        "    print(model.__class__.__name__, 'model 시작')\n",
        "\n",
        "    for folder_counter, (train_index, valid_index) in enumerate(kf.split(X_train_n)):\n",
        "        # 입력된 학습 데이터에서 기반 모델이 학습, 예측할 폴드 데이터 세트를 추출합니다.\n",
        "        print('\\t 폴드 세트: ', folder_counter, ' 시작 ')\n",
        "        X_tr = X_train_n[train_index]\n",
        "        y_tr = y_train_n[train_index]\n",
        "        X_te = X_train_n[valid_index]\n",
        "\n",
        "        # 폴드 세트 내부에서 다시 만들어진 학습 데이터로 기반 모델의 학습을 수행합니다.\n",
        "        model.fit(X_tr, y_tr)\n",
        "        # 폴드 세트 내부에서 다시 만들어진 검증 데이터로 기반 모델 예측 후에 데이터를 저장합니다.\n",
        "        train_fold_pred[valid_index, :] = model.predict(X_te).reshape(-1, 1)\n",
        "        # 입력된 원본 테스트 데이터를 폴드 세트 내 학습된 기반 모델에서 예측 후에 데이터를 저장합니다.\n",
        "        test_pred[:, folder_counter] = model.predict(X_test_n)\n",
        "\n",
        "    # 폴드 세트 내에서 원본 테스트 데이터를 예측한 데이터를 평균하여 테스트 데이터로 생성합니다.\n",
        "    test_pred_mean = np.mean(test_pred, axis=1).reshape(-1, 1)\n",
        "\n",
        "    # `train_fold_pred`는 최종 메타 모델이 사용하는 학습 데이터이고,\n",
        "    # `test_pred_mean`은 테스트 데이터입니다.\n",
        "    return train_fold_pred, test_pred_mean"
      ],
      "metadata": {
        "id": "zPDRsH2kWLr9"
      },
      "execution_count": null,
      "outputs": []
    },
    {
      "cell_type": "markdown",
      "source": [
        "각 기반 모델별로 `get_stacking_base_datasets` 함수를 호출하여 메타 모델에 사용할 학습 데이터 세트와 테스트 데이터 세트를 반환하겠습니다."
      ],
      "metadata": {
        "id": "b_7MLhrBbTql"
      }
    },
    {
      "cell_type": "code",
      "source": [
        "knn_train, knn_test = get_stacking_base_datasets(knn_clf, X_train, y_train, X_test, 7)\n",
        "rf_train, rf_test = get_stacking_base_datasets(rf_clf, X_train, y_train, X_test, 7)\n",
        "dt_train, dt_test = get_stacking_base_datasets(dt_clf, X_train, y_train, X_test, 7)\n",
        "ada_train, ada_test = get_stacking_base_datasets(ada_clf, X_train, y_train, X_test, 7)"
      ],
      "metadata": {
        "id": "vtCnMhPuaJm3"
      },
      "execution_count": null,
      "outputs": []
    },
    {
      "cell_type": "markdown",
      "source": [
        "이제 스텝 2를 구현하겠습니다. 각 모델별 학습 데이터와 테스트 데이터를 합쳐야 합니다. "
      ],
      "metadata": {
        "id": "1PLmB0KdbP4J"
      }
    },
    {
      "cell_type": "code",
      "source": [
        "Stack_final_X_train = np.concatenate((knn_train, rf_train, dt_train, ada_train), axis=1)\n",
        "Stack_final_X_test = np.concatenate((knn_test, rf_test, dt_test, ada_test), axis=1)\n",
        "print('원본 학습 피처 데이터 shape:', X_train.shape, '원본 테스트 피처 shape', X_test.shape)\n",
        "print('스태킹 학습 피처 데이터 shape:', Stack_final_X_train.shape,\n",
        "      '스태킹 테스트 피처 데이터 shape;', Stack_final_X_test.shape)"
      ],
      "metadata": {
        "id": "u9VRVSCMb4vO"
      },
      "execution_count": null,
      "outputs": []
    },
    {
      "cell_type": "markdown",
      "source": [
        "`Stack_final_X_train`은 메타 모델이 학습할 학습용 피처 데이터 세트입니다. `Stack_final_X_test`는 메타 모델이 예측할 테스트용 피처 데이터 세트입니다. 스태킹 학습 피처 데이터는 원본 학습 피처 데이터와 로우 크기는 같고, 개별 모델 예측값 4개를 합친 것이므로 칼럼 크기는 4입니다.\n",
        "\n",
        "최종 메타 모델을 학습시키겠습니다."
      ],
      "metadata": {
        "id": "aSW1Ij9gcxJo"
      }
    },
    {
      "cell_type": "code",
      "source": [
        "lr_final.fit(Stack_final_X_train, y_train)\n",
        "stack_final = lr_final.predict(Stack_final_X_test)\n",
        "\n",
        "print('최종 메타 모델의 예측 정확도: {:.4f}'.format(accuracy_score(y_test, stack_final)))"
      ],
      "metadata": {
        "id": "yC1K0vIyczi-"
      },
      "execution_count": null,
      "outputs": []
    },
    {
      "cell_type": "markdown",
      "source": [
        "# **12. 정리**"
      ],
      "metadata": {
        "id": "8BPEqyaWdv-Y"
      }
    },
    {
      "cell_type": "markdown",
      "source": [
        "생략합니다."
      ],
      "metadata": {
        "id": "Gg5n2A2Qf3oz"
      }
    }
  ]
}