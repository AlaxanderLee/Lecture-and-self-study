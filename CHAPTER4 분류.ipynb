{
  "nbformat": 4,
  "nbformat_minor": 0,
  "metadata": {
    "colab": {
      "name": "CHAPTER4 분류.ipynb",
      "provenance": [],
      "toc_visible": true,
      "collapsed_sections": [],
      "authorship_tag": "ABX9TyMMMr8mK88EG1L+wmiksivR",
      "include_colab_link": true
    },
    "kernelspec": {
      "name": "python3",
      "display_name": "Python 3"
    },
    "language_info": {
      "name": "python"
    }
  },
  "cells": [
    {
      "cell_type": "markdown",
      "metadata": {
        "id": "view-in-github",
        "colab_type": "text"
      },
      "source": [
        "<a href=\"https://colab.research.google.com/github/LeeSeungwon89/Machine-learning_Theory/blob/master/CHAPTER4%20%EB%B6%84%EB%A5%98.ipynb\" target=\"_parent\"><img src=\"https://colab.research.google.com/assets/colab-badge.svg\" alt=\"Open In Colab\"/></a>"
      ]
    },
    {
      "cell_type": "markdown",
      "source": [
        "# **1. 분류(classification)의 개요**"
      ],
      "metadata": {
        "id": "L6blTcamZ7UE"
      }
    },
    {
      "cell_type": "markdown",
      "source": [
        "앙상블을 주로 다루는 챕터입니다. 앙상블은 정형 데이터의 예측 분석 영역에서 매우 좋은 예측 성능을 발휘합니다. 대부분 동일한 알고리즘을 결합하며, 기본 알고리즘으로 사용하는 것은 결정 트리입니다."
      ],
      "metadata": {
        "id": "jl5ih4rHGMpE"
      }
    },
    {
      "cell_type": "markdown",
      "source": [
        "# **2. 결정 트리**"
      ],
      "metadata": {
        "id": "8LuLY558Z7Rp"
      }
    },
    {
      "cell_type": "markdown",
      "source": [
        "결정 노드는 정보 균일도가 높은 데이터 세트를 먼저 선택할 수 있도록 규칙 조건을 만듭니다. 정보 균일도가 데이터 세트로 쪼개질 수 있도록 조건을 찾아 서브 데이터 세트를 만들고, 다시 이 서브 데이터 세트에서 균일도가 높은 자식 데이터 세트를 쪼개는 방식을 자식 트리로 내려가면서 반복하는 방식으로 데이터 값을 예측합니다. 쉽게 예측할 수 있는 조건을 찾아서 분류하는 것이 가장 효율적이기 때문입니다.\n",
        "\n",
        "이러한 정보 균일도를 측정하는 대표적 방법은 엔트로피를 이용한 **정보 이득(Information Gain)**과 지니계수입니다.\n",
        "\n",
        "정보 이득은 **엔트로피(주어진 데이터 집합의 혼잡도)**를 기반으로 합니다. 정보 이득 지수는 1에서 엔트로피 지수를 뺀 값입니다. 서로 다른 값이 섞여 있으면 엔트로피가 높고, 같은 값이 섞여 있으면 엔트로피가 낮습니다. \n",
        "\n",
        "지니 계수는 경제학에서 불평등 지수를 나타내는 데 쓰이는 지수입니다. 머신러닝에서는 지니 계수가 낮을수록 데이터 균일도가 높은 것으로 해석하고, 지니 계수가 낮은 속성을 기준으로 분할합니다. 다시 말하면, 데이터 세트를 분할하는 데 가장 좋은 조건은 정보 이득이 높거나 지니 계수가 낮은 조건입니다. `DecisionTreeClassifier` 클래스는 기본적으로 지니 계수를 이용하여 데이터를 분할합니다. "
      ],
      "metadata": {
        "id": "EJxq6ZeiMImi"
      }
    },
    {
      "cell_type": "markdown",
      "source": [
        "## **2.1. 결정 트리 모델의 특징**"
      ],
      "metadata": {
        "id": "Mo5lQ-k_Z7PA"
      }
    },
    {
      "cell_type": "markdown",
      "source": [
        "결정 트리는 정보 균일도가 기반이므로 쉽고 직관적입니다. 대부분의 경우 피처 스케일링과 정규화 같은 전처리 작업도 불필요합니다. 다만 과적합되기 쉬우므로 트리 크기를 제한하면서 성능을 튜닝하는 편이 좋습니다."
      ],
      "metadata": {
        "id": "6Pwczlw8XXyb"
      }
    },
    {
      "cell_type": "markdown",
      "source": [
        "## **2.2. 결정 트리 파라미터**"
      ],
      "metadata": {
        "id": "aPgGOGUBZ7Mh"
      }
    },
    {
      "cell_type": "markdown",
      "source": [
        "- `min_samples_split`: 노드를 분할하기 위한 최소한의 샘플 데이터 수를 지정합니다. 과적합 제어에 사용하며, 디폴트는 `2`이고, 작게 지정할수록 분할되는 노드가 많아져서 과적합되기 쉽습니다. \n",
        "\n",
        "- `min_samples_leaf`: 리프 노드가 되기 위한 최소한의 샘플 데이터 수를 지정합니다. 과적합 제어에 사용하며, 비대칭적인 데이터의 경우 특정 클래스의 데이터가 작을 수 있으므로 숫자를 작게 지정할 필요가 있습니다. \n",
        "\n",
        "- `max_features`: 최적 분할을 위해 고려할 최대 피처 개수를 지정합니다. 디폴트는 `None`이며 모든 피처를 사용하여 분할합니다. `int`는 대상 피처의 개수, `float`는 전체 피처 중 대상 피처의 퍼센트, `sqrt`는 $\\sqrt{전체 피처 개수}$, `auto`는 `sqrt`와 동일하고, `log`는 전체 피처 중 $log2(전체 피처 개수)$입니다.\n",
        "\n",
        "- `max_depth`: 트리의 최대 깊이를 지정합니다. 디폴트는 `None`이며 클래스 결정값이 될 때까지 깊이를 키워서 분할하거나 노드가 가지는 데이터 수가 `min_samples_leaf`보다 작아질 때까지 깊이를 키웁니다.\n",
        "\n",
        "- `max_leaf_nodes`: 리프 노드의 최대 개수를 지정합니다."
      ],
      "metadata": {
        "id": "PjBUsNZ7b8XJ"
      }
    },
    {
      "cell_type": "markdown",
      "source": [
        "## **2.3. 결정 트리 모델의 시각화**"
      ],
      "metadata": {
        "id": "wUWCJxQlZ7J6"
      }
    },
    {
      "cell_type": "markdown",
      "source": [
        "붓꽃 데이터 세트를 시각화해보겠습니다. 먼저 학습을 수행합니다."
      ],
      "metadata": {
        "id": "bae7OLw4m7xK"
      }
    },
    {
      "cell_type": "code",
      "source": [
        "from sklearn.tree import DecisionTreeClassifier\n",
        "from sklearn.datasets import load_iris\n",
        "from sklearn.model_selection import train_test_split\n",
        "import warnings\n",
        "warnings.filterwarnings('ignore')\n",
        "\n",
        "dt_clf = DecisionTreeClassifier(random_state=156)\n",
        "iris_data = load_iris()\n",
        "X_train, X_test, y_train, y_test = train_test_split(\n",
        "    iris_data.data, iris_data.target, test_size=0.2, random_state=11)\n",
        "dt_clf.fit(X_train, y_train)"
      ],
      "metadata": {
        "colab": {
          "base_uri": "https://localhost:8080/"
        },
        "id": "fCelBg--fCo5",
        "outputId": "631b8b4b-b6e4-4c76-8a63-6e05b4d97190"
      },
      "execution_count": null,
      "outputs": [
        {
          "output_type": "execute_result",
          "data": {
            "text/plain": [
              "DecisionTreeClassifier(random_state=156)"
            ]
          },
          "metadata": {},
          "execution_count": 1
        }
      ]
    },
    {
      "cell_type": "markdown",
      "source": [
        "`export_graphviz()` 메서드를 호출하여 그래프로 시각화할 출력 파일을 생성하겠습니다."
      ],
      "metadata": {
        "id": "cD919lLfnFVM"
      }
    },
    {
      "cell_type": "code",
      "source": [
        "from sklearn.tree import export_graphviz\n",
        "\n",
        "export_graphviz(dt_clf, out_file='tree.dot', class_names=iris_data.target_names,\\\n",
        "                feature_names = iris_data.feature_names, impurity=True, filled=True)"
      ],
      "metadata": {
        "id": "PvSPYEw9f2PG"
      },
      "execution_count": null,
      "outputs": []
    },
    {
      "cell_type": "markdown",
      "source": [
        "`graphviz` 패키지를 사용하여 결정 트리를 시각화하겠습니다."
      ],
      "metadata": {
        "id": "LRI94RMHnhef"
      }
    },
    {
      "cell_type": "code",
      "source": [
        "import graphviz\n",
        "\n",
        "with open('tree.dot') as f:\n",
        "    dot_graph = f.read()\n",
        "\n",
        "graphviz.Source(dot_graph)"
      ],
      "metadata": {
        "colab": {
          "base_uri": "https://localhost:8080/",
          "height": 916
        },
        "id": "T9bjoJwpgWQW",
        "outputId": "24428277-a97b-4f00-8ebf-10a3c825ae2b"
      },
      "execution_count": null,
      "outputs": [
        {
          "output_type": "execute_result",
          "data": {
            "text/plain": [
              "<graphviz.files.Source at 0x7f6027dcb490>"
            ],
            "image/svg+xml": "<?xml version=\"1.0\" encoding=\"UTF-8\" standalone=\"no\"?>\n<!DOCTYPE svg PUBLIC \"-//W3C//DTD SVG 1.1//EN\"\n \"http://www.w3.org/Graphics/SVG/1.1/DTD/svg11.dtd\">\n<!-- Generated by graphviz version 2.40.1 (20161225.0304)\n -->\n<!-- Title: Tree Pages: 1 -->\n<svg width=\"821pt\" height=\"671pt\"\n viewBox=\"0.00 0.00 820.50 671.00\" xmlns=\"http://www.w3.org/2000/svg\" xmlns:xlink=\"http://www.w3.org/1999/xlink\">\n<g id=\"graph0\" class=\"graph\" transform=\"scale(1 1) rotate(0) translate(4 667)\">\n<title>Tree</title>\n<polygon fill=\"#ffffff\" stroke=\"transparent\" points=\"-4,4 -4,-667 816.5,-667 816.5,4 -4,4\"/>\n<!-- 0 -->\n<g id=\"node1\" class=\"node\">\n<title>0</title>\n<polygon fill=\"#fffdfd\" stroke=\"#000000\" points=\"300,-663 124,-663 124,-580 300,-580 300,-663\"/>\n<text text-anchor=\"middle\" x=\"212\" y=\"-647.8\" font-family=\"Helvetica,sans-Serif\" font-size=\"14.00\" fill=\"#000000\">petal length (cm) &lt;= 2.45</text>\n<text text-anchor=\"middle\" x=\"212\" y=\"-632.8\" font-family=\"Helvetica,sans-Serif\" font-size=\"14.00\" fill=\"#000000\">gini = 0.667</text>\n<text text-anchor=\"middle\" x=\"212\" y=\"-617.8\" font-family=\"Helvetica,sans-Serif\" font-size=\"14.00\" fill=\"#000000\">samples = 120</text>\n<text text-anchor=\"middle\" x=\"212\" y=\"-602.8\" font-family=\"Helvetica,sans-Serif\" font-size=\"14.00\" fill=\"#000000\">value = [41, 40, 39]</text>\n<text text-anchor=\"middle\" x=\"212\" y=\"-587.8\" font-family=\"Helvetica,sans-Serif\" font-size=\"14.00\" fill=\"#000000\">class = setosa</text>\n</g>\n<!-- 1 -->\n<g id=\"node2\" class=\"node\">\n<title>1</title>\n<polygon fill=\"#e58139\" stroke=\"#000000\" points=\"191.5,-536.5 68.5,-536.5 68.5,-468.5 191.5,-468.5 191.5,-536.5\"/>\n<text text-anchor=\"middle\" x=\"130\" y=\"-521.3\" font-family=\"Helvetica,sans-Serif\" font-size=\"14.00\" fill=\"#000000\">gini = 0.0</text>\n<text text-anchor=\"middle\" x=\"130\" y=\"-506.3\" font-family=\"Helvetica,sans-Serif\" font-size=\"14.00\" fill=\"#000000\">samples = 41</text>\n<text text-anchor=\"middle\" x=\"130\" y=\"-491.3\" font-family=\"Helvetica,sans-Serif\" font-size=\"14.00\" fill=\"#000000\">value = [41, 0, 0]</text>\n<text text-anchor=\"middle\" x=\"130\" y=\"-476.3\" font-family=\"Helvetica,sans-Serif\" font-size=\"14.00\" fill=\"#000000\">class = setosa</text>\n</g>\n<!-- 0&#45;&gt;1 -->\n<g id=\"edge1\" class=\"edge\">\n<title>0&#45;&gt;1</title>\n<path fill=\"none\" stroke=\"#000000\" d=\"M183.3204,-579.8796C175.5917,-568.6636 167.2191,-556.5131 159.4492,-545.2372\"/>\n<polygon fill=\"#000000\" stroke=\"#000000\" points=\"162.2018,-543.0634 153.6456,-536.8149 156.4377,-547.0353 162.2018,-543.0634\"/>\n<text text-anchor=\"middle\" x=\"149.1196\" y=\"-557.7018\" font-family=\"Helvetica,sans-Serif\" font-size=\"14.00\" fill=\"#000000\">True</text>\n</g>\n<!-- 2 -->\n<g id=\"node3\" class=\"node\">\n<title>2</title>\n<polygon fill=\"#fafefc\" stroke=\"#000000\" points=\"380,-544 210,-544 210,-461 380,-461 380,-544\"/>\n<text text-anchor=\"middle\" x=\"295\" y=\"-528.8\" font-family=\"Helvetica,sans-Serif\" font-size=\"14.00\" fill=\"#000000\">petal width (cm) &lt;= 1.55</text>\n<text text-anchor=\"middle\" x=\"295\" y=\"-513.8\" font-family=\"Helvetica,sans-Serif\" font-size=\"14.00\" fill=\"#000000\">gini = 0.5</text>\n<text text-anchor=\"middle\" x=\"295\" y=\"-498.8\" font-family=\"Helvetica,sans-Serif\" font-size=\"14.00\" fill=\"#000000\">samples = 79</text>\n<text text-anchor=\"middle\" x=\"295\" y=\"-483.8\" font-family=\"Helvetica,sans-Serif\" font-size=\"14.00\" fill=\"#000000\">value = [0, 40, 39]</text>\n<text text-anchor=\"middle\" x=\"295\" y=\"-468.8\" font-family=\"Helvetica,sans-Serif\" font-size=\"14.00\" fill=\"#000000\">class = versicolor</text>\n</g>\n<!-- 0&#45;&gt;2 -->\n<g id=\"edge2\" class=\"edge\">\n<title>0&#45;&gt;2</title>\n<path fill=\"none\" stroke=\"#000000\" d=\"M241.0294,-579.8796C247.1855,-571.0534 253.7451,-561.6485 260.0936,-552.5466\"/>\n<polygon fill=\"#000000\" stroke=\"#000000\" points=\"262.9967,-554.5024 265.8467,-544.2981 257.2552,-550.4978 262.9967,-554.5024\"/>\n<text text-anchor=\"middle\" x=\"270.2331\" y=\"-565.2103\" font-family=\"Helvetica,sans-Serif\" font-size=\"14.00\" fill=\"#000000\">False</text>\n</g>\n<!-- 3 -->\n<g id=\"node4\" class=\"node\">\n<title>3</title>\n<polygon fill=\"#3ee684\" stroke=\"#000000\" points=\"288,-425 112,-425 112,-342 288,-342 288,-425\"/>\n<text text-anchor=\"middle\" x=\"200\" y=\"-409.8\" font-family=\"Helvetica,sans-Serif\" font-size=\"14.00\" fill=\"#000000\">petal length (cm) &lt;= 5.25</text>\n<text text-anchor=\"middle\" x=\"200\" y=\"-394.8\" font-family=\"Helvetica,sans-Serif\" font-size=\"14.00\" fill=\"#000000\">gini = 0.051</text>\n<text text-anchor=\"middle\" x=\"200\" y=\"-379.8\" font-family=\"Helvetica,sans-Serif\" font-size=\"14.00\" fill=\"#000000\">samples = 38</text>\n<text text-anchor=\"middle\" x=\"200\" y=\"-364.8\" font-family=\"Helvetica,sans-Serif\" font-size=\"14.00\" fill=\"#000000\">value = [0, 37, 1]</text>\n<text text-anchor=\"middle\" x=\"200\" y=\"-349.8\" font-family=\"Helvetica,sans-Serif\" font-size=\"14.00\" fill=\"#000000\">class = versicolor</text>\n</g>\n<!-- 2&#45;&gt;3 -->\n<g id=\"edge3\" class=\"edge\">\n<title>2&#45;&gt;3</title>\n<path fill=\"none\" stroke=\"#000000\" d=\"M261.7736,-460.8796C254.6556,-451.9633 247.0661,-442.4565 239.7308,-433.268\"/>\n<polygon fill=\"#000000\" stroke=\"#000000\" points=\"242.3425,-430.9295 233.3682,-425.2981 236.8719,-435.2968 242.3425,-430.9295\"/>\n</g>\n<!-- 6 -->\n<g id=\"node7\" class=\"node\">\n<title>6</title>\n<polygon fill=\"#8b49e7\" stroke=\"#000000\" points=\"476,-425 306,-425 306,-342 476,-342 476,-425\"/>\n<text text-anchor=\"middle\" x=\"391\" y=\"-409.8\" font-family=\"Helvetica,sans-Serif\" font-size=\"14.00\" fill=\"#000000\">petal width (cm) &lt;= 1.75</text>\n<text text-anchor=\"middle\" x=\"391\" y=\"-394.8\" font-family=\"Helvetica,sans-Serif\" font-size=\"14.00\" fill=\"#000000\">gini = 0.136</text>\n<text text-anchor=\"middle\" x=\"391\" y=\"-379.8\" font-family=\"Helvetica,sans-Serif\" font-size=\"14.00\" fill=\"#000000\">samples = 41</text>\n<text text-anchor=\"middle\" x=\"391\" y=\"-364.8\" font-family=\"Helvetica,sans-Serif\" font-size=\"14.00\" fill=\"#000000\">value = [0, 3, 38]</text>\n<text text-anchor=\"middle\" x=\"391\" y=\"-349.8\" font-family=\"Helvetica,sans-Serif\" font-size=\"14.00\" fill=\"#000000\">class = virginica</text>\n</g>\n<!-- 2&#45;&gt;6 -->\n<g id=\"edge6\" class=\"edge\">\n<title>2&#45;&gt;6</title>\n<path fill=\"none\" stroke=\"#000000\" d=\"M328.5761,-460.8796C335.7691,-451.9633 343.4384,-442.4565 350.851,-433.268\"/>\n<polygon fill=\"#000000\" stroke=\"#000000\" points=\"353.7258,-435.2788 357.2805,-425.2981 348.2776,-430.8836 353.7258,-435.2788\"/>\n</g>\n<!-- 4 -->\n<g id=\"node5\" class=\"node\">\n<title>4</title>\n<polygon fill=\"#39e581\" stroke=\"#000000\" points=\"128,-298.5 0,-298.5 0,-230.5 128,-230.5 128,-298.5\"/>\n<text text-anchor=\"middle\" x=\"64\" y=\"-283.3\" font-family=\"Helvetica,sans-Serif\" font-size=\"14.00\" fill=\"#000000\">gini = 0.0</text>\n<text text-anchor=\"middle\" x=\"64\" y=\"-268.3\" font-family=\"Helvetica,sans-Serif\" font-size=\"14.00\" fill=\"#000000\">samples = 37</text>\n<text text-anchor=\"middle\" x=\"64\" y=\"-253.3\" font-family=\"Helvetica,sans-Serif\" font-size=\"14.00\" fill=\"#000000\">value = [0, 37, 0]</text>\n<text text-anchor=\"middle\" x=\"64\" y=\"-238.3\" font-family=\"Helvetica,sans-Serif\" font-size=\"14.00\" fill=\"#000000\">class = versicolor</text>\n</g>\n<!-- 3&#45;&gt;4 -->\n<g id=\"edge4\" class=\"edge\">\n<title>3&#45;&gt;4</title>\n<path fill=\"none\" stroke=\"#000000\" d=\"M152.4338,-341.8796C138.9872,-330.1138 124.3653,-317.3197 110.9549,-305.5855\"/>\n<polygon fill=\"#000000\" stroke=\"#000000\" points=\"113.0476,-302.766 103.2171,-298.8149 108.4381,-308.034 113.0476,-302.766\"/>\n</g>\n<!-- 5 -->\n<g id=\"node6\" class=\"node\">\n<title>5</title>\n<polygon fill=\"#8139e5\" stroke=\"#000000\" points=\"265.5,-298.5 146.5,-298.5 146.5,-230.5 265.5,-230.5 265.5,-298.5\"/>\n<text text-anchor=\"middle\" x=\"206\" y=\"-283.3\" font-family=\"Helvetica,sans-Serif\" font-size=\"14.00\" fill=\"#000000\">gini = 0.0</text>\n<text text-anchor=\"middle\" x=\"206\" y=\"-268.3\" font-family=\"Helvetica,sans-Serif\" font-size=\"14.00\" fill=\"#000000\">samples = 1</text>\n<text text-anchor=\"middle\" x=\"206\" y=\"-253.3\" font-family=\"Helvetica,sans-Serif\" font-size=\"14.00\" fill=\"#000000\">value = [0, 0, 1]</text>\n<text text-anchor=\"middle\" x=\"206\" y=\"-238.3\" font-family=\"Helvetica,sans-Serif\" font-size=\"14.00\" fill=\"#000000\">class = virginica</text>\n</g>\n<!-- 3&#45;&gt;5 -->\n<g id=\"edge5\" class=\"edge\">\n<title>3&#45;&gt;5</title>\n<path fill=\"none\" stroke=\"#000000\" d=\"M202.0985,-341.8796C202.6363,-331.2134 203.2167,-319.7021 203.7613,-308.9015\"/>\n<polygon fill=\"#000000\" stroke=\"#000000\" points=\"207.2617,-308.9785 204.2698,-298.8149 200.2706,-308.626 207.2617,-308.9785\"/>\n</g>\n<!-- 7 -->\n<g id=\"node8\" class=\"node\">\n<title>7</title>\n<polygon fill=\"#ffffff\" stroke=\"#000000\" points=\"475,-306 295,-306 295,-223 475,-223 475,-306\"/>\n<text text-anchor=\"middle\" x=\"385\" y=\"-290.8\" font-family=\"Helvetica,sans-Serif\" font-size=\"14.00\" fill=\"#000000\">sepal length (cm) &lt;= 5.45</text>\n<text text-anchor=\"middle\" x=\"385\" y=\"-275.8\" font-family=\"Helvetica,sans-Serif\" font-size=\"14.00\" fill=\"#000000\">gini = 0.5</text>\n<text text-anchor=\"middle\" x=\"385\" y=\"-260.8\" font-family=\"Helvetica,sans-Serif\" font-size=\"14.00\" fill=\"#000000\">samples = 4</text>\n<text text-anchor=\"middle\" x=\"385\" y=\"-245.8\" font-family=\"Helvetica,sans-Serif\" font-size=\"14.00\" fill=\"#000000\">value = [0, 2, 2]</text>\n<text text-anchor=\"middle\" x=\"385\" y=\"-230.8\" font-family=\"Helvetica,sans-Serif\" font-size=\"14.00\" fill=\"#000000\">class = versicolor</text>\n</g>\n<!-- 6&#45;&gt;7 -->\n<g id=\"edge7\" class=\"edge\">\n<title>6&#45;&gt;7</title>\n<path fill=\"none\" stroke=\"#000000\" d=\"M388.9015,-341.8796C388.4883,-333.6838 388.0499,-324.9891 387.6219,-316.5013\"/>\n<polygon fill=\"#000000\" stroke=\"#000000\" points=\"391.1067,-316.1091 387.1075,-306.2981 384.1156,-316.4617 391.1067,-316.1091\"/>\n</g>\n<!-- 12 -->\n<g id=\"node13\" class=\"node\">\n<title>12</title>\n<polygon fill=\"#843ee6\" stroke=\"#000000\" points=\"669,-306 493,-306 493,-223 669,-223 669,-306\"/>\n<text text-anchor=\"middle\" x=\"581\" y=\"-290.8\" font-family=\"Helvetica,sans-Serif\" font-size=\"14.00\" fill=\"#000000\">petal length (cm) &lt;= 4.85</text>\n<text text-anchor=\"middle\" x=\"581\" y=\"-275.8\" font-family=\"Helvetica,sans-Serif\" font-size=\"14.00\" fill=\"#000000\">gini = 0.053</text>\n<text text-anchor=\"middle\" x=\"581\" y=\"-260.8\" font-family=\"Helvetica,sans-Serif\" font-size=\"14.00\" fill=\"#000000\">samples = 37</text>\n<text text-anchor=\"middle\" x=\"581\" y=\"-245.8\" font-family=\"Helvetica,sans-Serif\" font-size=\"14.00\" fill=\"#000000\">value = [0, 1, 36]</text>\n<text text-anchor=\"middle\" x=\"581\" y=\"-230.8\" font-family=\"Helvetica,sans-Serif\" font-size=\"14.00\" fill=\"#000000\">class = virginica</text>\n</g>\n<!-- 6&#45;&gt;12 -->\n<g id=\"edge12\" class=\"edge\">\n<title>6&#45;&gt;12</title>\n<path fill=\"none\" stroke=\"#000000\" d=\"M457.4528,-341.8796C473.0733,-332.0962 489.829,-321.6019 505.8029,-311.5971\"/>\n<polygon fill=\"#000000\" stroke=\"#000000\" points=\"507.9676,-314.3712 514.5847,-306.0969 504.2519,-308.4387 507.9676,-314.3712\"/>\n</g>\n<!-- 8 -->\n<g id=\"node9\" class=\"node\">\n<title>8</title>\n<polygon fill=\"#8139e5\" stroke=\"#000000\" points=\"278.5,-179.5 159.5,-179.5 159.5,-111.5 278.5,-111.5 278.5,-179.5\"/>\n<text text-anchor=\"middle\" x=\"219\" y=\"-164.3\" font-family=\"Helvetica,sans-Serif\" font-size=\"14.00\" fill=\"#000000\">gini = 0.0</text>\n<text text-anchor=\"middle\" x=\"219\" y=\"-149.3\" font-family=\"Helvetica,sans-Serif\" font-size=\"14.00\" fill=\"#000000\">samples = 1</text>\n<text text-anchor=\"middle\" x=\"219\" y=\"-134.3\" font-family=\"Helvetica,sans-Serif\" font-size=\"14.00\" fill=\"#000000\">value = [0, 0, 1]</text>\n<text text-anchor=\"middle\" x=\"219\" y=\"-119.3\" font-family=\"Helvetica,sans-Serif\" font-size=\"14.00\" fill=\"#000000\">class = virginica</text>\n</g>\n<!-- 7&#45;&gt;8 -->\n<g id=\"edge8\" class=\"edge\">\n<title>7&#45;&gt;8</title>\n<path fill=\"none\" stroke=\"#000000\" d=\"M326.9413,-222.8796C310.142,-210.8368 291.8401,-197.7167 275.159,-185.7586\"/>\n<polygon fill=\"#000000\" stroke=\"#000000\" points=\"276.7668,-182.6047 266.6002,-179.623 272.6884,-188.2939 276.7668,-182.6047\"/>\n</g>\n<!-- 9 -->\n<g id=\"node10\" class=\"node\">\n<title>9</title>\n<polygon fill=\"#9cf2c0\" stroke=\"#000000\" points=\"473,-187 297,-187 297,-104 473,-104 473,-187\"/>\n<text text-anchor=\"middle\" x=\"385\" y=\"-171.8\" font-family=\"Helvetica,sans-Serif\" font-size=\"14.00\" fill=\"#000000\">petal length (cm) &lt;= 5.45</text>\n<text text-anchor=\"middle\" x=\"385\" y=\"-156.8\" font-family=\"Helvetica,sans-Serif\" font-size=\"14.00\" fill=\"#000000\">gini = 0.444</text>\n<text text-anchor=\"middle\" x=\"385\" y=\"-141.8\" font-family=\"Helvetica,sans-Serif\" font-size=\"14.00\" fill=\"#000000\">samples = 3</text>\n<text text-anchor=\"middle\" x=\"385\" y=\"-126.8\" font-family=\"Helvetica,sans-Serif\" font-size=\"14.00\" fill=\"#000000\">value = [0, 2, 1]</text>\n<text text-anchor=\"middle\" x=\"385\" y=\"-111.8\" font-family=\"Helvetica,sans-Serif\" font-size=\"14.00\" fill=\"#000000\">class = versicolor</text>\n</g>\n<!-- 7&#45;&gt;9 -->\n<g id=\"edge9\" class=\"edge\">\n<title>7&#45;&gt;9</title>\n<path fill=\"none\" stroke=\"#000000\" d=\"M385,-222.8796C385,-214.6838 385,-205.9891 385,-197.5013\"/>\n<polygon fill=\"#000000\" stroke=\"#000000\" points=\"388.5001,-197.298 385,-187.2981 381.5001,-197.2981 388.5001,-197.298\"/>\n</g>\n<!-- 10 -->\n<g id=\"node11\" class=\"node\">\n<title>10</title>\n<polygon fill=\"#39e581\" stroke=\"#000000\" points=\"320,-68 192,-68 192,0 320,0 320,-68\"/>\n<text text-anchor=\"middle\" x=\"256\" y=\"-52.8\" font-family=\"Helvetica,sans-Serif\" font-size=\"14.00\" fill=\"#000000\">gini = 0.0</text>\n<text text-anchor=\"middle\" x=\"256\" y=\"-37.8\" font-family=\"Helvetica,sans-Serif\" font-size=\"14.00\" fill=\"#000000\">samples = 2</text>\n<text text-anchor=\"middle\" x=\"256\" y=\"-22.8\" font-family=\"Helvetica,sans-Serif\" font-size=\"14.00\" fill=\"#000000\">value = [0, 2, 0]</text>\n<text text-anchor=\"middle\" x=\"256\" y=\"-7.8\" font-family=\"Helvetica,sans-Serif\" font-size=\"14.00\" fill=\"#000000\">class = versicolor</text>\n</g>\n<!-- 9&#45;&gt;10 -->\n<g id=\"edge10\" class=\"edge\">\n<title>9&#45;&gt;10</title>\n<path fill=\"none\" stroke=\"#000000\" d=\"M336.9652,-103.9815C326.013,-94.5151 314.3821,-84.462 303.4544,-75.0168\"/>\n<polygon fill=\"#000000\" stroke=\"#000000\" points=\"305.4957,-72.155 295.6414,-68.2637 300.9182,-77.4509 305.4957,-72.155\"/>\n</g>\n<!-- 11 -->\n<g id=\"node12\" class=\"node\">\n<title>11</title>\n<polygon fill=\"#8139e5\" stroke=\"#000000\" points=\"457.5,-68 338.5,-68 338.5,0 457.5,0 457.5,-68\"/>\n<text text-anchor=\"middle\" x=\"398\" y=\"-52.8\" font-family=\"Helvetica,sans-Serif\" font-size=\"14.00\" fill=\"#000000\">gini = 0.0</text>\n<text text-anchor=\"middle\" x=\"398\" y=\"-37.8\" font-family=\"Helvetica,sans-Serif\" font-size=\"14.00\" fill=\"#000000\">samples = 1</text>\n<text text-anchor=\"middle\" x=\"398\" y=\"-22.8\" font-family=\"Helvetica,sans-Serif\" font-size=\"14.00\" fill=\"#000000\">value = [0, 0, 1]</text>\n<text text-anchor=\"middle\" x=\"398\" y=\"-7.8\" font-family=\"Helvetica,sans-Serif\" font-size=\"14.00\" fill=\"#000000\">class = virginica</text>\n</g>\n<!-- 9&#45;&gt;11 -->\n<g id=\"edge11\" class=\"edge\">\n<title>9&#45;&gt;11</title>\n<path fill=\"none\" stroke=\"#000000\" d=\"M389.8407,-103.9815C390.8158,-95.618 391.8443,-86.7965 392.8302,-78.3409\"/>\n<polygon fill=\"#000000\" stroke=\"#000000\" points=\"396.3234,-78.6017 394.0051,-68.2637 389.3705,-77.791 396.3234,-78.6017\"/>\n</g>\n<!-- 13 -->\n<g id=\"node14\" class=\"node\">\n<title>13</title>\n<polygon fill=\"#c09cf2\" stroke=\"#000000\" points=\"671,-187 491,-187 491,-104 671,-104 671,-187\"/>\n<text text-anchor=\"middle\" x=\"581\" y=\"-171.8\" font-family=\"Helvetica,sans-Serif\" font-size=\"14.00\" fill=\"#000000\">sepal length (cm) &lt;= 5.95</text>\n<text text-anchor=\"middle\" x=\"581\" y=\"-156.8\" font-family=\"Helvetica,sans-Serif\" font-size=\"14.00\" fill=\"#000000\">gini = 0.444</text>\n<text text-anchor=\"middle\" x=\"581\" y=\"-141.8\" font-family=\"Helvetica,sans-Serif\" font-size=\"14.00\" fill=\"#000000\">samples = 3</text>\n<text text-anchor=\"middle\" x=\"581\" y=\"-126.8\" font-family=\"Helvetica,sans-Serif\" font-size=\"14.00\" fill=\"#000000\">value = [0, 1, 2]</text>\n<text text-anchor=\"middle\" x=\"581\" y=\"-111.8\" font-family=\"Helvetica,sans-Serif\" font-size=\"14.00\" fill=\"#000000\">class = virginica</text>\n</g>\n<!-- 12&#45;&gt;13 -->\n<g id=\"edge13\" class=\"edge\">\n<title>12&#45;&gt;13</title>\n<path fill=\"none\" stroke=\"#000000\" d=\"M581,-222.8796C581,-214.6838 581,-205.9891 581,-197.5013\"/>\n<polygon fill=\"#000000\" stroke=\"#000000\" points=\"584.5001,-197.298 581,-187.2981 577.5001,-197.2981 584.5001,-197.298\"/>\n</g>\n<!-- 16 -->\n<g id=\"node17\" class=\"node\">\n<title>16</title>\n<polygon fill=\"#8139e5\" stroke=\"#000000\" points=\"812.5,-179.5 689.5,-179.5 689.5,-111.5 812.5,-111.5 812.5,-179.5\"/>\n<text text-anchor=\"middle\" x=\"751\" y=\"-164.3\" font-family=\"Helvetica,sans-Serif\" font-size=\"14.00\" fill=\"#000000\">gini = 0.0</text>\n<text text-anchor=\"middle\" x=\"751\" y=\"-149.3\" font-family=\"Helvetica,sans-Serif\" font-size=\"14.00\" fill=\"#000000\">samples = 34</text>\n<text text-anchor=\"middle\" x=\"751\" y=\"-134.3\" font-family=\"Helvetica,sans-Serif\" font-size=\"14.00\" fill=\"#000000\">value = [0, 0, 34]</text>\n<text text-anchor=\"middle\" x=\"751\" y=\"-119.3\" font-family=\"Helvetica,sans-Serif\" font-size=\"14.00\" fill=\"#000000\">class = virginica</text>\n</g>\n<!-- 12&#45;&gt;16 -->\n<g id=\"edge16\" class=\"edge\">\n<title>12&#45;&gt;16</title>\n<path fill=\"none\" stroke=\"#000000\" d=\"M640.4578,-222.8796C657.8196,-210.7263 676.7488,-197.4759 693.9575,-185.4297\"/>\n<polygon fill=\"#000000\" stroke=\"#000000\" points=\"696.0676,-188.225 702.2528,-179.623 692.0533,-182.4904 696.0676,-188.225\"/>\n</g>\n<!-- 14 -->\n<g id=\"node15\" class=\"node\">\n<title>14</title>\n<polygon fill=\"#39e581\" stroke=\"#000000\" points=\"631,-68 503,-68 503,0 631,0 631,-68\"/>\n<text text-anchor=\"middle\" x=\"567\" y=\"-52.8\" font-family=\"Helvetica,sans-Serif\" font-size=\"14.00\" fill=\"#000000\">gini = 0.0</text>\n<text text-anchor=\"middle\" x=\"567\" y=\"-37.8\" font-family=\"Helvetica,sans-Serif\" font-size=\"14.00\" fill=\"#000000\">samples = 1</text>\n<text text-anchor=\"middle\" x=\"567\" y=\"-22.8\" font-family=\"Helvetica,sans-Serif\" font-size=\"14.00\" fill=\"#000000\">value = [0, 1, 0]</text>\n<text text-anchor=\"middle\" x=\"567\" y=\"-7.8\" font-family=\"Helvetica,sans-Serif\" font-size=\"14.00\" fill=\"#000000\">class = versicolor</text>\n</g>\n<!-- 13&#45;&gt;14 -->\n<g id=\"edge14\" class=\"edge\">\n<title>13&#45;&gt;14</title>\n<path fill=\"none\" stroke=\"#000000\" d=\"M575.7869,-103.9815C574.7368,-95.618 573.6292,-86.7965 572.5675,-78.3409\"/>\n<polygon fill=\"#000000\" stroke=\"#000000\" points=\"576.0208,-77.7497 571.3022,-68.2637 569.0753,-78.6218 576.0208,-77.7497\"/>\n</g>\n<!-- 15 -->\n<g id=\"node16\" class=\"node\">\n<title>15</title>\n<polygon fill=\"#8139e5\" stroke=\"#000000\" points=\"768.5,-68 649.5,-68 649.5,0 768.5,0 768.5,-68\"/>\n<text text-anchor=\"middle\" x=\"709\" y=\"-52.8\" font-family=\"Helvetica,sans-Serif\" font-size=\"14.00\" fill=\"#000000\">gini = 0.0</text>\n<text text-anchor=\"middle\" x=\"709\" y=\"-37.8\" font-family=\"Helvetica,sans-Serif\" font-size=\"14.00\" fill=\"#000000\">samples = 2</text>\n<text text-anchor=\"middle\" x=\"709\" y=\"-22.8\" font-family=\"Helvetica,sans-Serif\" font-size=\"14.00\" fill=\"#000000\">value = [0, 0, 2]</text>\n<text text-anchor=\"middle\" x=\"709\" y=\"-7.8\" font-family=\"Helvetica,sans-Serif\" font-size=\"14.00\" fill=\"#000000\">class = virginica</text>\n</g>\n<!-- 13&#45;&gt;15 -->\n<g id=\"edge15\" class=\"edge\">\n<title>13&#45;&gt;15</title>\n<path fill=\"none\" stroke=\"#000000\" d=\"M628.6625,-103.9815C639.5297,-94.5151 651.0705,-84.462 661.9135,-75.0168\"/>\n<polygon fill=\"#000000\" stroke=\"#000000\" points=\"664.4245,-77.4712 669.6659,-68.2637 659.8266,-72.1929 664.4245,-77.4712\"/>\n</g>\n</g>\n</svg>\n"
          },
          "metadata": {},
          "execution_count": 3
        }
      ]
    },
    {
      "cell_type": "markdown",
      "source": [
        "피처 중요도를 출력해보겠습니다."
      ],
      "metadata": {
        "id": "x0G8Xc_1netP"
      }
    },
    {
      "cell_type": "code",
      "source": [
        "import seaborn as sns\n",
        "import matplotlib.pyplot as plt\n",
        "import numpy as np\n",
        "%matplotlib inline\n",
        "\n",
        "print('Feature importances:\\n{}'.format(np.round(dt_clf.feature_importances_, 3)))\n",
        "\n",
        "for name, value in zip(iris_data.feature_names, dt_clf.feature_importances_):\n",
        "    print('{}: {:.3f}'.format(name, value))\n",
        "\n",
        "sns.barplot(x=dt_clf.feature_importances_, y=iris_data.feature_names)\n",
        "plt.show()"
      ],
      "metadata": {
        "colab": {
          "base_uri": "https://localhost:8080/",
          "height": 368
        },
        "id": "4rogs7IIlBdf",
        "outputId": "d26e6701-67ff-43fb-f40a-f9dfae7aeeb5"
      },
      "execution_count": null,
      "outputs": [
        {
          "output_type": "stream",
          "name": "stdout",
          "text": [
            "Feature importances:\n",
            "[0.025 0.    0.555 0.42 ]\n",
            "sepal length (cm): 0.025\n",
            "sepal width (cm): 0.000\n",
            "petal length (cm): 0.555\n",
            "petal width (cm): 0.420\n"
          ]
        },
        {
          "output_type": "display_data",
          "data": {
            "image/png": "[encoded data removed]",
            "text/plain": [
              "<Figure size 432x288 with 1 Axes>"
            ]
          },
          "metadata": {
            "needs_background": "light"
          }
        }
      ]
    },
    {
      "cell_type": "markdown",
      "source": [
        "## **2.4. 결정 트리 과적합(overfitting)**"
      ],
      "metadata": {
        "id": "gABNBBDCZ7Hc"
      }
    },
    {
      "cell_type": "markdown",
      "source": [
        "`make_classification()` 함수를 사용하여 피처 2개가 클래스 값을 3개만큼 가진 임의의 데이터 세트를 만들고 그래프로 시각화하겠습니다."
      ],
      "metadata": {
        "id": "tD0HyV_CD3J7"
      }
    },
    {
      "cell_type": "code",
      "source": [
        "from sklearn.datasets import make_classification\n",
        "\n",
        "plt.title('3 Class values with 2 Featrues Sample data creation')\n",
        "X_features, y_labels = make_classification(n_features=2, n_redundant=0, n_informative=2,\n",
        "                                           n_classes=3, n_clusters_per_class=1, random_state=0)\n",
        "plt.scatter(X_features[:, 0], X_features[:, 1], marker='o', c=y_labels, s=25, edgecolor='k')\n",
        "plt.show()"
      ],
      "metadata": {
        "colab": {
          "base_uri": "https://localhost:8080/",
          "height": 281
        },
        "id": "ydbJeil-nrpk",
        "outputId": "a5294aec-afed-4cfd-8b9d-43ed99df2624"
      },
      "execution_count": null,
      "outputs": [
        {
          "output_type": "display_data",
          "data": {
            "image/png": "[encoded data removed]",
            "text/plain": [
              "<Figure size 432x288 with 1 Axes>"
            ]
          },
          "metadata": {
            "needs_background": "light"
          }
        }
      ]
    },
    {
      "cell_type": "markdown",
      "source": [
        "본서의 부록에서 가져온 시각화 함수를 사용하여 결정 기준 경계를 시각화해보겠습니다. 먼저 분류기의 하이퍼 파라미터를 기본값으로 학습시키고 구현하겠습니다."
      ],
      "metadata": {
        "id": "XmIo4st6FSuv"
      }
    },
    {
      "cell_type": "code",
      "source": [
        "# Classifier의 Decision Boundary를 시각화 하는 함수입니다.\n",
        "def visualize_boundary(model, X, y):\n",
        "    fig, ax = plt.subplots()\n",
        "    \n",
        "    # 학습 데이터를 scatter plot으로 나타냅니다.\n",
        "    ax.scatter(X[:, 0], X[:, 1], c=y, s=25, cmap='rainbow', edgecolor='k',\n",
        "               clim=(y.min(), y.max()), zorder=3)\n",
        "    ax.axis('tight')\n",
        "    ax.axis('off')\n",
        "    xlim_start, xlim_end = ax.get_xlim()\n",
        "    ylim_start, ylim_end = ax.get_ylim()\n",
        "    \n",
        "    # 호출 파라미터로 들어온 학습 데이터로 모델을 학습합니다.\n",
        "    model.fit(X, y)\n",
        "    # `meshgrid` 형태인 모든 좌표값으로 예측을 수행합니다. \n",
        "    xx, yy = np.meshgrid(np.linspace(xlim_start, xlim_end, num=200), np.linspace(ylim_start, ylim_end, num=200))\n",
        "    Z = model.predict(np.c_[xx.ravel(), yy.ravel()]).reshape(xx.shape)\n",
        "    \n",
        "    # `contourf()` 메서드를 이용하여 class boundary를 시각화합니다.\n",
        "    n_classes = len(np.unique(y))\n",
        "    contours = ax.contourf(xx, yy, Z, alpha=0.3,\n",
        "                           levels=np.arange(n_classes + 1) - 0.5,\n",
        "                           cmap='rainbow', clim=(y.min(), y.max()),\n",
        "                           zorder=1)"
      ],
      "metadata": {
        "id": "sumZzDDqC36T"
      },
      "execution_count": null,
      "outputs": []
    },
    {
      "cell_type": "code",
      "source": [
        "dt_clf = DecisionTreeClassifier().fit(X_features, y_labels)\n",
        "visualize_boundary(dt_clf, X_features, y_labels)"
      ],
      "metadata": {
        "colab": {
          "base_uri": "https://localhost:8080/",
          "height": 247
        },
        "id": "Dig_BO15CO3o",
        "outputId": "97b4fc27-f7ab-458b-f3d6-d775fd58c221"
      },
      "execution_count": null,
      "outputs": [
        {
          "output_type": "display_data",
          "data": {
            "image/png": "[encoded data removed]",
            "text/plain": [
              "<Figure size 432x288 with 1 Axes>"
            ]
          },
          "metadata": {
            "needs_background": "light"
          }
        }
      ]
    },
    {
      "cell_type": "markdown",
      "source": [
        "이상치(Outlier)까지 분류하기 위해 분할이 자주 일어나서 결정 기준 경계가 많습니다. 하이퍼 파라미터를 기본값으로 학습한 모델은 리프 노드 안에 데이터가 모두 균일하거나 하나만 존재해야 하는 엄격한 기준을 가지고 있습니다. 과대적합을 의미합니다. \n",
        "\n",
        "하이퍼 파라미터를 조금 조정하여 시각화해보겠습니다."
      ],
      "metadata": {
        "id": "DgMYCdEQF2f3"
      }
    },
    {
      "cell_type": "code",
      "source": [
        "dt_clf = DecisionTreeClassifier(min_samples_leaf=6).fit(X_features, y_labels)\n",
        "visualize_boundary(dt_clf, X_features, y_labels)"
      ],
      "metadata": {
        "colab": {
          "base_uri": "https://localhost:8080/",
          "height": 247
        },
        "id": "seHT8km-DgiS",
        "outputId": "7e6ee2b5-425d-477d-a5f9-58656885c32d"
      },
      "execution_count": null,
      "outputs": [
        {
          "output_type": "display_data",
          "data": {
            "image/png": "[encoded data removed]",
            "text/plain": [
              "<Figure size 432x288 with 1 Axes>"
            ]
          },
          "metadata": {
            "needs_background": "light"
          }
        }
      ]
    },
    {
      "cell_type": "markdown",
      "source": [
        "이상치에 민감하지 않은 모델입니다. 이 모델이 과대적합된 위 모델보다 더 나은 예측 성능을 낼 것입니다. "
      ],
      "metadata": {
        "id": "9RoVdEGyGuUi"
      }
    },
    {
      "cell_type": "markdown",
      "source": [
        "## **2.5. 결정 트리 실습 - 사용자 행동 인식 데이터 세트**"
      ],
      "metadata": {
        "id": "T4Rf0i9zZ7Ez"
      }
    },
    {
      "cell_type": "markdown",
      "source": [
        "[UCI 머신러닝 리포지토리의 사용자 행동 인식 데이터 세트](https://archive.ics.uci.edu/ml/datasets/Human+Activity+Recognition+Using+Smartphones)에 대한 예측 분류를 수행하겠습니다. 이 데이터는 피실험자 30명에게 스마트폰 센서를 장착시키고 동작과 관련된 여러 피처를 수집한 것입니다.\n",
        "\n",
        "먼저 피처 종류를 확인해보겠습니다."
      ],
      "metadata": {
        "id": "kReb5vmqCxBv"
      }
    },
    {
      "cell_type": "code",
      "source": [
        "from google.colab import drive\n",
        "drive.mount('/content/gdrive/')\n",
        "import pandas as pd\n",
        "import matplotlib.pyplot as plt\n",
        "%matplotlib inline"
      ],
      "metadata": {
        "colab": {
          "base_uri": "https://localhost:8080/"
        },
        "id": "qlozzvYThyi1",
        "outputId": "631df513-c621-4865-969d-3ff9fbdc9ac3"
      },
      "execution_count": null,
      "outputs": [
        {
          "output_type": "stream",
          "name": "stdout",
          "text": [
            "Mounted at /content/gdrive/\n"
          ]
        }
      ]
    },
    {
      "cell_type": "code",
      "source": [
        "feature_name_df = pd.read_csv('/content/gdrive/MyDrive/UCI HAR Dataset/UCI HAR Dataset/features.txt',\n",
        "                              sep='\\s+', header=None, names=['column_index', 'column_name'])\n",
        "feature_name = feature_name_df.iloc[:, 1].values.tolist()\n",
        "print('전체 피처명에서 10개만 추출:', feature_name[:10])"
      ],
      "metadata": {
        "colab": {
          "base_uri": "https://localhost:8080/"
        },
        "id": "Ilx4LyuR-egb",
        "outputId": "05d0f470-4459-4642-bfe6-e22d3ba4189e"
      },
      "execution_count": null,
      "outputs": [
        {
          "output_type": "stream",
          "name": "stdout",
          "text": [
            "전체 피처명에서 10개만 추출: ['tBodyAcc-mean()-X', 'tBodyAcc-mean()-Y', 'tBodyAcc-mean()-Z', 'tBodyAcc-std()-X', 'tBodyAcc-std()-Y', 'tBodyAcc-std()-Z', 'tBodyAcc-mad()-X', 'tBodyAcc-mad()-Y', 'tBodyAcc-mad()-Z', 'tBodyAcc-max()-X']\n"
          ]
        }
      ]
    },
    {
      "cell_type": "markdown",
      "source": [
        "인체 움직임과 관련된 속성의 평균/표준편차가 X축, Y축, Z축 값으로 되어있습니다. 중복된 피처가 있는지 확인해보겠습니다."
      ],
      "metadata": {
        "id": "-n5Si3QUDyaU"
      }
    },
    {
      "cell_type": "code",
      "source": [
        "feature_dup_df = feature_name_df.groupby('column_name').count()\n",
        "print(feature_dup_df[feature_dup_df['column_index'] > 1].count())\n",
        "feature_dup_df[feature_dup_df['column_index'] > 1].head()"
      ],
      "metadata": {
        "colab": {
          "base_uri": "https://localhost:8080/",
          "height": 272
        },
        "id": "fNoTFJejEDiU",
        "outputId": "4e664d33-925b-4b40-90ca-6766e2689cc6"
      },
      "execution_count": null,
      "outputs": [
        {
          "output_type": "stream",
          "name": "stdout",
          "text": [
            "column_index    42\n",
            "dtype: int64\n"
          ]
        },
        {
          "output_type": "execute_result",
          "data": {
            "text/html": [
              "\n",
              "  <div id=\"df-5fcfbb80-0a14-40b7-b4db-cebad68e1878\">\n",
              "    <div class=\"colab-df-container\">\n",
              "      <div>\n",
              "<style scoped>\n",
              "    .dataframe tbody tr th:only-of-type {\n",
              "        vertical-align: middle;\n",
              "    }\n",
              "\n",
              "    .dataframe tbody tr th {\n",
              "        vertical-align: top;\n",
              "    }\n",
              "\n",
              "    .dataframe thead th {\n",
              "        text-align: right;\n",
              "    }\n",
              "</style>\n",
              "<table border=\"1\" class=\"dataframe\">\n",
              "  <thead>\n",
              "    <tr style=\"text-align: right;\">\n",
              "      <th></th>\n",
              "      <th>column_index</th>\n",
              "    </tr>\n",
              "    <tr>\n",
              "      <th>column_name</th>\n",
              "      <th></th>\n",
              "    </tr>\n",
              "  </thead>\n",
              "  <tbody>\n",
              "    <tr>\n",
              "      <th>fBodyAcc-bandsEnergy()-1,16</th>\n",
              "      <td>3</td>\n",
              "    </tr>\n",
              "    <tr>\n",
              "      <th>fBodyAcc-bandsEnergy()-1,24</th>\n",
              "      <td>3</td>\n",
              "    </tr>\n",
              "    <tr>\n",
              "      <th>fBodyAcc-bandsEnergy()-1,8</th>\n",
              "      <td>3</td>\n",
              "    </tr>\n",
              "    <tr>\n",
              "      <th>fBodyAcc-bandsEnergy()-17,24</th>\n",
              "      <td>3</td>\n",
              "    </tr>\n",
              "    <tr>\n",
              "      <th>fBodyAcc-bandsEnergy()-17,32</th>\n",
              "      <td>3</td>\n",
              "    </tr>\n",
              "  </tbody>\n",
              "</table>\n",
              "</div>\n",
              "      <button class=\"colab-df-convert\" onclick=\"convertToInteractive('df-5fcfbb80-0a14-40b7-b4db-cebad68e1878')\"\n",
              "              title=\"Convert this dataframe to an interactive table.\"\n",
              "              style=\"display:none;\">\n",
              "        \n",
              "  <svg xmlns=\"http://www.w3.org/2000/svg\" height=\"24px\"viewBox=\"0 0 24 24\"\n",
              "       width=\"24px\">\n",
              "    <path d=\"M0 0h24v24H0V0z\" fill=\"none\"/>\n",
              "    <path d=\"M18.56 5.44l.94 2.06.94-2.06 2.06-.94-2.06-.94-.94-2.06-.94 2.06-2.06.94zm-11 1L8.5 8.5l.94-2.06 2.06-.94-2.06-.94L8.5 2.5l-.94 2.06-2.06.94zm10 10l.94 2.06.94-2.06 2.06-.94-2.06-.94-.94-2.06-.94 2.06-2.06.94z\"/><path d=\"M17.41 7.96l-1.37-1.37c-.4-.4-.92-.59-1.43-.59-.52 0-1.04.2-1.43.59L10.3 9.45l-7.72 7.72c-.78.78-.78 2.05 0 2.83L4 21.41c.39.39.9.59 1.41.59.51 0 1.02-.2 1.41-.59l7.78-7.78 2.81-2.81c.8-.78.8-2.07 0-2.86zM5.41 20L4 18.59l7.72-7.72 1.47 1.35L5.41 20z\"/>\n",
              "  </svg>\n",
              "      </button>\n",
              "      \n",
              "  <style>\n",
              "    .colab-df-container {\n",
              "      display:flex;\n",
              "      flex-wrap:wrap;\n",
              "      gap: 12px;\n",
              "    }\n",
              "\n",
              "    .colab-df-convert {\n",
              "      background-color: #E8F0FE;\n",
              "      border: none;\n",
              "      border-radius: 50%;\n",
              "      cursor: pointer;\n",
              "      display: none;\n",
              "      fill: #1967D2;\n",
              "      height: 32px;\n",
              "      padding: 0 0 0 0;\n",
              "      width: 32px;\n",
              "    }\n",
              "\n",
              "    .colab-df-convert:hover {\n",
              "      background-color: #E2EBFA;\n",
              "      box-shadow: 0px 1px 2px rgba(60, 64, 67, 0.3), 0px 1px 3px 1px rgba(60, 64, 67, 0.15);\n",
              "      fill: #174EA6;\n",
              "    }\n",
              "\n",
              "    [theme=dark] .colab-df-convert {\n",
              "      background-color: #3B4455;\n",
              "      fill: #D2E3FC;\n",
              "    }\n",
              "\n",
              "    [theme=dark] .colab-df-convert:hover {\n",
              "      background-color: #434B5C;\n",
              "      box-shadow: 0px 1px 3px 1px rgba(0, 0, 0, 0.15);\n",
              "      filter: drop-shadow(0px 1px 2px rgba(0, 0, 0, 0.3));\n",
              "      fill: #FFFFFF;\n",
              "    }\n",
              "  </style>\n",
              "\n",
              "      <script>\n",
              "        const buttonEl =\n",
              "          document.querySelector('#df-5fcfbb80-0a14-40b7-b4db-cebad68e1878 button.colab-df-convert');\n",
              "        buttonEl.style.display =\n",
              "          google.colab.kernel.accessAllowed ? 'block' : 'none';\n",
              "\n",
              "        async function convertToInteractive(key) {\n",
              "          const element = document.querySelector('#df-5fcfbb80-0a14-40b7-b4db-cebad68e1878');\n",
              "          const dataTable =\n",
              "            await google.colab.kernel.invokeFunction('convertToInteractive',\n",
              "                                                     [key], {});\n",
              "          if (!dataTable) return;\n",
              "\n",
              "          const docLinkHtml = 'Like what you see? Visit the ' +\n",
              "            '<a target=\"_blank\" href=https://colab.research.google.com/notebooks/data_table.ipynb>data table notebook</a>'\n",
              "            + ' to learn more about interactive tables.';\n",
              "          element.innerHTML = '';\n",
              "          dataTable['output_type'] = 'display_data';\n",
              "          await google.colab.output.renderOutput(dataTable, element);\n",
              "          const docLink = document.createElement('div');\n",
              "          docLink.innerHTML = docLinkHtml;\n",
              "          element.appendChild(docLink);\n",
              "        }\n",
              "      </script>\n",
              "    </div>\n",
              "  </div>\n",
              "  "
            ],
            "text/plain": [
              "                              column_index\n",
              "column_name                               \n",
              "fBodyAcc-bandsEnergy()-1,16              3\n",
              "fBodyAcc-bandsEnergy()-1,24              3\n",
              "fBodyAcc-bandsEnergy()-1,8               3\n",
              "fBodyAcc-bandsEnergy()-17,24             3\n",
              "fBodyAcc-bandsEnergy()-17,32             3"
            ]
          },
          "metadata": {},
          "execution_count": 30
        }
      ]
    },
    {
      "cell_type": "markdown",
      "source": [
        "피처 42개가 중복되어 있습니다. 이 중복된 피처에 _1이나 _2를 붙여서 새 피처를 갖도록 만드는 함수를 선언하겠습니다."
      ],
      "metadata": {
        "id": "Wk7VbPRXIrxm"
      }
    },
    {
      "cell_type": "code",
      "source": [
        "def get_new_feature_name_df(old_feature_name_df):\n",
        "    feature_dup_df = pd.DataFrame(data=old_feature_name_df.groupby('column_name').cumcount(),\n",
        "                                  columns=['dup_cnt'])\n",
        "    feature_dup_df = feature_dup_df.reset_index()\n",
        "    new_feature_name_df = pd.merge(old_feature_name_df.reset_index(), feature_dup_df, how='outer')\n",
        "    new_feature_name_df['column_name'] = new_feature_name_df[['column_name', 'dup_cnt']].apply(\n",
        "        lambda x: x[0] + '_' + str(x[1]) if x[1] > 0 else x[0], axis=1)\n",
        "    new_feature_name_df = new_feature_name_df.drop(['index'], axis=1)\n",
        "    return new_feature_name_df"
      ],
      "metadata": {
        "id": "SZD95I9fI8GV"
      },
      "execution_count": null,
      "outputs": []
    },
    {
      "cell_type": "markdown",
      "source": [
        "데이터셋의 데이터프레임을 생성하는 함수를 선언하겠습니다."
      ],
      "metadata": {
        "id": "LlPrVftCNBqm"
      }
    },
    {
      "cell_type": "code",
      "source": [
        "def get_human_dataset():\n",
        "    feature_name_df = pd.read_csv('/content/gdrive/MyDrive/UCI HAR Dataset/UCI HAR Dataset/features.txt',\n",
        "                              sep='\\s+', header=None, names=['column_index', 'column_name'])\n",
        "    # 중복된 피처를 수정하는 `get_new_feature_name_df()` 함수를 호출하여\n",
        "    # 새 피처를 가진 데이터프레임을 생성합니다.\n",
        "    new_feature_name_df = get_new_feature_name_df(feature_name_df)\n",
        "    # 데이터프레임에 피처명을 칼럼으로 부여하기 위해 리스트 객체로 변환합니다.\n",
        "    feature_name = new_feature_name_df.iloc[:, 1].values.tolist()\n",
        "\n",
        "    X_train = pd.read_csv('/content/gdrive/MyDrive/UCI HAR Dataset/UCI HAR Dataset/train/X_train.txt',\n",
        "                          sep='\\s+', names=feature_name)\n",
        "    X_test = pd.read_csv('/content/gdrive/MyDrive/UCI HAR Dataset/UCI HAR Dataset/test/X_test.txt',\n",
        "                          sep='\\s+', names=feature_name)\n",
        "    y_train = pd.read_csv('/content/gdrive/MyDrive/UCI HAR Dataset/UCI HAR Dataset/train/y_train.txt',\n",
        "                          sep='\\s+', header=None, names=['action'])\n",
        "    y_test = pd.read_csv('/content/gdrive/MyDrive/UCI HAR Dataset/UCI HAR Dataset/test/y_test.txt',\n",
        "                          sep='\\s+', header=None, names=['action'])\n",
        "    return X_train, X_test, y_train, y_test"
      ],
      "metadata": {
        "id": "llMLPjJJKlkv"
      },
      "execution_count": null,
      "outputs": []
    },
    {
      "cell_type": "markdown",
      "source": [
        "로드한 학습용 피처 데이터 세트를 확인해보겠습니다."
      ],
      "metadata": {
        "id": "3-JnU1iaOkMs"
      }
    },
    {
      "cell_type": "code",
      "source": [
        "X_train, X_test, y_train, y_test = get_human_dataset()\n",
        "print('학습 피처 데이터셋 info()')\n",
        "print(X_train.info())"
      ],
      "metadata": {
        "colab": {
          "base_uri": "https://localhost:8080/"
        },
        "id": "GmEmFkz4MMWv",
        "outputId": "a946cd7b-7219-4a42-9cb1-15a82a215471"
      },
      "execution_count": null,
      "outputs": [
        {
          "output_type": "stream",
          "name": "stdout",
          "text": [
            "학습 피처 데이터셋 info()\n",
            "<class 'pandas.core.frame.DataFrame'>\n",
            "RangeIndex: 7352 entries, 0 to 7351\n",
            "Columns: 561 entries, tBodyAcc-mean()-X to angle(Z,gravityMean)\n",
            "dtypes: float64(561)\n",
            "memory usage: 31.5 MB\n",
            "None\n"
          ]
        }
      ]
    },
    {
      "cell_type": "markdown",
      "source": [
        "학습 데이터 세트는 레코드 7352개와 피처 561개로 구성되어 있습니다. 전체 피처가 float형이므로 카테고리 인코딩을 따로 수행하지 않아도 됩니다.\n",
        "\n",
        "학습 데이터 세트의 칼럼을 확인해보겠습니다."
      ],
      "metadata": {
        "id": "7qaX05KYOtZO"
      }
    },
    {
      "cell_type": "code",
      "source": [
        "X_train.head(3)"
      ],
      "metadata": {
        "colab": {
          "base_uri": "https://localhost:8080/",
          "height": 254
        },
        "id": "PXud2WrH188v",
        "outputId": "02f03aad-76de-4a0b-af5f-3142d262c060"
      },
      "execution_count": null,
      "outputs": [
        {
          "output_type": "execute_result",
          "data": {
            "text/html": [
              "\n",
              "  <div id=\"df-2bab9a9b-93f9-4cbc-bf89-6edd2b903f3d\">\n",
              "    <div class=\"colab-df-container\">\n",
              "      <div>\n",
              "<style scoped>\n",
              "    .dataframe tbody tr th:only-of-type {\n",
              "        vertical-align: middle;\n",
              "    }\n",
              "\n",
              "    .dataframe tbody tr th {\n",
              "        vertical-align: top;\n",
              "    }\n",
              "\n",
              "    .dataframe thead th {\n",
              "        text-align: right;\n",
              "    }\n",
              "</style>\n",
              "<table border=\"1\" class=\"dataframe\">\n",
              "  <thead>\n",
              "    <tr style=\"text-align: right;\">\n",
              "      <th></th>\n",
              "      <th>tBodyAcc-mean()-X</th>\n",
              "      <th>tBodyAcc-mean()-Y</th>\n",
              "      <th>tBodyAcc-mean()-Z</th>\n",
              "      <th>tBodyAcc-std()-X</th>\n",
              "      <th>tBodyAcc-std()-Y</th>\n",
              "      <th>tBodyAcc-std()-Z</th>\n",
              "      <th>tBodyAcc-mad()-X</th>\n",
              "      <th>tBodyAcc-mad()-Y</th>\n",
              "      <th>tBodyAcc-mad()-Z</th>\n",
              "      <th>tBodyAcc-max()-X</th>\n",
              "      <th>...</th>\n",
              "      <th>fBodyBodyGyroJerkMag-meanFreq()</th>\n",
              "      <th>fBodyBodyGyroJerkMag-skewness()</th>\n",
              "      <th>fBodyBodyGyroJerkMag-kurtosis()</th>\n",
              "      <th>angle(tBodyAccMean,gravity)</th>\n",
              "      <th>angle(tBodyAccJerkMean),gravityMean)</th>\n",
              "      <th>angle(tBodyGyroMean,gravityMean)</th>\n",
              "      <th>angle(tBodyGyroJerkMean,gravityMean)</th>\n",
              "      <th>angle(X,gravityMean)</th>\n",
              "      <th>angle(Y,gravityMean)</th>\n",
              "      <th>angle(Z,gravityMean)</th>\n",
              "    </tr>\n",
              "  </thead>\n",
              "  <tbody>\n",
              "    <tr>\n",
              "      <th>0</th>\n",
              "      <td>0.288585</td>\n",
              "      <td>-0.020294</td>\n",
              "      <td>-0.132905</td>\n",
              "      <td>-0.995279</td>\n",
              "      <td>-0.983111</td>\n",
              "      <td>-0.913526</td>\n",
              "      <td>-0.995112</td>\n",
              "      <td>-0.983185</td>\n",
              "      <td>-0.923527</td>\n",
              "      <td>-0.934724</td>\n",
              "      <td>...</td>\n",
              "      <td>-0.074323</td>\n",
              "      <td>-0.298676</td>\n",
              "      <td>-0.710304</td>\n",
              "      <td>-0.112754</td>\n",
              "      <td>0.030400</td>\n",
              "      <td>-0.464761</td>\n",
              "      <td>-0.018446</td>\n",
              "      <td>-0.841247</td>\n",
              "      <td>0.179941</td>\n",
              "      <td>-0.058627</td>\n",
              "    </tr>\n",
              "    <tr>\n",
              "      <th>1</th>\n",
              "      <td>0.278419</td>\n",
              "      <td>-0.016411</td>\n",
              "      <td>-0.123520</td>\n",
              "      <td>-0.998245</td>\n",
              "      <td>-0.975300</td>\n",
              "      <td>-0.960322</td>\n",
              "      <td>-0.998807</td>\n",
              "      <td>-0.974914</td>\n",
              "      <td>-0.957686</td>\n",
              "      <td>-0.943068</td>\n",
              "      <td>...</td>\n",
              "      <td>0.158075</td>\n",
              "      <td>-0.595051</td>\n",
              "      <td>-0.861499</td>\n",
              "      <td>0.053477</td>\n",
              "      <td>-0.007435</td>\n",
              "      <td>-0.732626</td>\n",
              "      <td>0.703511</td>\n",
              "      <td>-0.844788</td>\n",
              "      <td>0.180289</td>\n",
              "      <td>-0.054317</td>\n",
              "    </tr>\n",
              "    <tr>\n",
              "      <th>2</th>\n",
              "      <td>0.279653</td>\n",
              "      <td>-0.019467</td>\n",
              "      <td>-0.113462</td>\n",
              "      <td>-0.995380</td>\n",
              "      <td>-0.967187</td>\n",
              "      <td>-0.978944</td>\n",
              "      <td>-0.996520</td>\n",
              "      <td>-0.963668</td>\n",
              "      <td>-0.977469</td>\n",
              "      <td>-0.938692</td>\n",
              "      <td>...</td>\n",
              "      <td>0.414503</td>\n",
              "      <td>-0.390748</td>\n",
              "      <td>-0.760104</td>\n",
              "      <td>-0.118559</td>\n",
              "      <td>0.177899</td>\n",
              "      <td>0.100699</td>\n",
              "      <td>0.808529</td>\n",
              "      <td>-0.848933</td>\n",
              "      <td>0.180637</td>\n",
              "      <td>-0.049118</td>\n",
              "    </tr>\n",
              "  </tbody>\n",
              "</table>\n",
              "<p>3 rows × 561 columns</p>\n",
              "</div>\n",
              "      <button class=\"colab-df-convert\" onclick=\"convertToInteractive('df-2bab9a9b-93f9-4cbc-bf89-6edd2b903f3d')\"\n",
              "              title=\"Convert this dataframe to an interactive table.\"\n",
              "              style=\"display:none;\">\n",
              "        \n",
              "  <svg xmlns=\"http://www.w3.org/2000/svg\" height=\"24px\"viewBox=\"0 0 24 24\"\n",
              "       width=\"24px\">\n",
              "    <path d=\"M0 0h24v24H0V0z\" fill=\"none\"/>\n",
              "    <path d=\"M18.56 5.44l.94 2.06.94-2.06 2.06-.94-2.06-.94-.94-2.06-.94 2.06-2.06.94zm-11 1L8.5 8.5l.94-2.06 2.06-.94-2.06-.94L8.5 2.5l-.94 2.06-2.06.94zm10 10l.94 2.06.94-2.06 2.06-.94-2.06-.94-.94-2.06-.94 2.06-2.06.94z\"/><path d=\"M17.41 7.96l-1.37-1.37c-.4-.4-.92-.59-1.43-.59-.52 0-1.04.2-1.43.59L10.3 9.45l-7.72 7.72c-.78.78-.78 2.05 0 2.83L4 21.41c.39.39.9.59 1.41.59.51 0 1.02-.2 1.41-.59l7.78-7.78 2.81-2.81c.8-.78.8-2.07 0-2.86zM5.41 20L4 18.59l7.72-7.72 1.47 1.35L5.41 20z\"/>\n",
              "  </svg>\n",
              "      </button>\n",
              "      \n",
              "  <style>\n",
              "    .colab-df-container {\n",
              "      display:flex;\n",
              "      flex-wrap:wrap;\n",
              "      gap: 12px;\n",
              "    }\n",
              "\n",
              "    .colab-df-convert {\n",
              "      background-color: #E8F0FE;\n",
              "      border: none;\n",
              "      border-radius: 50%;\n",
              "      cursor: pointer;\n",
              "      display: none;\n",
              "      fill: #1967D2;\n",
              "      height: 32px;\n",
              "      padding: 0 0 0 0;\n",
              "      width: 32px;\n",
              "    }\n",
              "\n",
              "    .colab-df-convert:hover {\n",
              "      background-color: #E2EBFA;\n",
              "      box-shadow: 0px 1px 2px rgba(60, 64, 67, 0.3), 0px 1px 3px 1px rgba(60, 64, 67, 0.15);\n",
              "      fill: #174EA6;\n",
              "    }\n",
              "\n",
              "    [theme=dark] .colab-df-convert {\n",
              "      background-color: #3B4455;\n",
              "      fill: #D2E3FC;\n",
              "    }\n",
              "\n",
              "    [theme=dark] .colab-df-convert:hover {\n",
              "      background-color: #434B5C;\n",
              "      box-shadow: 0px 1px 3px 1px rgba(0, 0, 0, 0.15);\n",
              "      filter: drop-shadow(0px 1px 2px rgba(0, 0, 0, 0.3));\n",
              "      fill: #FFFFFF;\n",
              "    }\n",
              "  </style>\n",
              "\n",
              "      <script>\n",
              "        const buttonEl =\n",
              "          document.querySelector('#df-2bab9a9b-93f9-4cbc-bf89-6edd2b903f3d button.colab-df-convert');\n",
              "        buttonEl.style.display =\n",
              "          google.colab.kernel.accessAllowed ? 'block' : 'none';\n",
              "\n",
              "        async function convertToInteractive(key) {\n",
              "          const element = document.querySelector('#df-2bab9a9b-93f9-4cbc-bf89-6edd2b903f3d');\n",
              "          const dataTable =\n",
              "            await google.colab.kernel.invokeFunction('convertToInteractive',\n",
              "                                                     [key], {});\n",
              "          if (!dataTable) return;\n",
              "\n",
              "          const docLinkHtml = 'Like what you see? Visit the ' +\n",
              "            '<a target=\"_blank\" href=https://colab.research.google.com/notebooks/data_table.ipynb>data table notebook</a>'\n",
              "            + ' to learn more about interactive tables.';\n",
              "          element.innerHTML = '';\n",
              "          dataTable['output_type'] = 'display_data';\n",
              "          await google.colab.output.renderOutput(dataTable, element);\n",
              "          const docLink = document.createElement('div');\n",
              "          docLink.innerHTML = docLinkHtml;\n",
              "          element.appendChild(docLink);\n",
              "        }\n",
              "      </script>\n",
              "    </div>\n",
              "  </div>\n",
              "  "
            ],
            "text/plain": [
              "   tBodyAcc-mean()-X  tBodyAcc-mean()-Y  tBodyAcc-mean()-Z  tBodyAcc-std()-X  \\\n",
              "0           0.288585          -0.020294          -0.132905         -0.995279   \n",
              "1           0.278419          -0.016411          -0.123520         -0.998245   \n",
              "2           0.279653          -0.019467          -0.113462         -0.995380   \n",
              "\n",
              "   tBodyAcc-std()-Y  tBodyAcc-std()-Z  tBodyAcc-mad()-X  tBodyAcc-mad()-Y  \\\n",
              "0         -0.983111         -0.913526         -0.995112         -0.983185   \n",
              "1         -0.975300         -0.960322         -0.998807         -0.974914   \n",
              "2         -0.967187         -0.978944         -0.996520         -0.963668   \n",
              "\n",
              "   tBodyAcc-mad()-Z  tBodyAcc-max()-X  ...  fBodyBodyGyroJerkMag-meanFreq()  \\\n",
              "0         -0.923527         -0.934724  ...                        -0.074323   \n",
              "1         -0.957686         -0.943068  ...                         0.158075   \n",
              "2         -0.977469         -0.938692  ...                         0.414503   \n",
              "\n",
              "   fBodyBodyGyroJerkMag-skewness()  fBodyBodyGyroJerkMag-kurtosis()  \\\n",
              "0                        -0.298676                        -0.710304   \n",
              "1                        -0.595051                        -0.861499   \n",
              "2                        -0.390748                        -0.760104   \n",
              "\n",
              "   angle(tBodyAccMean,gravity)  angle(tBodyAccJerkMean),gravityMean)  \\\n",
              "0                    -0.112754                              0.030400   \n",
              "1                     0.053477                             -0.007435   \n",
              "2                    -0.118559                              0.177899   \n",
              "\n",
              "   angle(tBodyGyroMean,gravityMean)  angle(tBodyGyroJerkMean,gravityMean)  \\\n",
              "0                         -0.464761                             -0.018446   \n",
              "1                         -0.732626                              0.703511   \n",
              "2                          0.100699                              0.808529   \n",
              "\n",
              "   angle(X,gravityMean)  angle(Y,gravityMean)  angle(Z,gravityMean)  \n",
              "0             -0.841247              0.179941             -0.058627  \n",
              "1             -0.844788              0.180289             -0.054317  \n",
              "2             -0.848933              0.180637             -0.049118  \n",
              "\n",
              "[3 rows x 561 columns]"
            ]
          },
          "metadata": {},
          "execution_count": 15
        }
      ]
    },
    {
      "cell_type": "markdown",
      "source": [
        "칼럼 대부분은 움직임 위치와 관련된 속성입니다.\n",
        "\n",
        "레이블 값과 분포도를 확인해보겠습니다."
      ],
      "metadata": {
        "id": "6lK02rSW8xX7"
      }
    },
    {
      "cell_type": "code",
      "source": [
        "print(y_train['action'].value_counts())"
      ],
      "metadata": {
        "colab": {
          "base_uri": "https://localhost:8080/"
        },
        "id": "EakoSh2h-LKT",
        "outputId": "4339385f-36cc-4c61-b0df-0e145a7aafb2"
      },
      "execution_count": null,
      "outputs": [
        {
          "output_type": "stream",
          "name": "stdout",
          "text": [
            "6    1407\n",
            "5    1374\n",
            "4    1286\n",
            "1    1226\n",
            "2    1073\n",
            "3     986\n",
            "Name: action, dtype: int64\n"
          ]
        }
      ]
    },
    {
      "cell_type": "markdown",
      "source": [
        "먼저 디폴트 설정으로 결정 트리 모델을 생성해보겠습니다."
      ],
      "metadata": {
        "id": "nCvMETL1_Utu"
      }
    },
    {
      "cell_type": "code",
      "source": [
        "from sklearn.tree import DecisionTreeClassifier\n",
        "from sklearn.metrics import accuracy_score\n",
        "\n",
        "dt_clf = DecisionTreeClassifier(random_state=156)\n",
        "dt_clf.fit(X_train, y_train)\n",
        "pred = dt_clf.predict(X_test)\n",
        "accuracy = accuracy_score(y_test, pred)\n",
        "\n",
        "print('결정 트리 예측 정확도: {:.4f}'.format(accuracy))\n",
        "print('DecisionTreeClassifier 기본 하이퍼 파라미터:\\n', dt_clf.get_params())"
      ],
      "metadata": {
        "colab": {
          "base_uri": "https://localhost:8080/"
        },
        "id": "eE7NaIQn-a3j",
        "outputId": "5300046e-3320-4503-f66a-7f34a9c99799"
      },
      "execution_count": null,
      "outputs": [
        {
          "output_type": "stream",
          "name": "stdout",
          "text": [
            "결정 트리 예측 정확도: 0.8548\n",
            "DecisionTreeClassifier 기본 하이퍼 파라미터:\n",
            " {'ccp_alpha': 0.0, 'class_weight': None, 'criterion': 'gini', 'max_depth': None, 'max_features': None, 'max_leaf_nodes': None, 'min_impurity_decrease': 0.0, 'min_samples_leaf': 1, 'min_samples_split': 2, 'min_weight_fraction_leaf': 0.0, 'random_state': 156, 'splitter': 'best'}\n"
          ]
        }
      ]
    },
    {
      "cell_type": "markdown",
      "source": [
        "트리 깊이를 조정하여 정확도가 어떻게 변하는지 살펴보겠습니다. "
      ],
      "metadata": {
        "id": "a1cLu-AvA-rm"
      }
    },
    {
      "cell_type": "code",
      "source": [
        "from sklearn.model_selection import GridSearchCV\n",
        "\n",
        "params = {'max_depth': [6, 8, 10, 12, 16, 20, 24]}\n",
        "\n",
        "grid_cv = GridSearchCV(dt_clf, param_grid=params, scoring='accuracy', cv=5, verbose=1)\n",
        "grid_cv.fit(X_train, y_train)\n",
        "print('GridSearchCV 최고 평균 정확도 수치: {:.4f}'.format(grid_cv.best_score_))\n",
        "print('GridSearchCV 최적 하이퍼 파라미터:', grid_cv.best_params_)"
      ],
      "metadata": {
        "colab": {
          "base_uri": "https://localhost:8080/"
        },
        "id": "1OArNySK_xva",
        "outputId": "ec0f44fe-e48c-4c6b-e73d-31cdc4045660"
      },
      "execution_count": null,
      "outputs": [
        {
          "output_type": "stream",
          "name": "stdout",
          "text": [
            "Fitting 5 folds for each of 7 candidates, totalling 35 fits\n",
            "GridSearchCV 최고 평균 정확도 수치: 0.8513\n",
            "GridSearchCV 최적 하이퍼 파라미터: {'max_depth': 16}\n"
          ]
        }
      ]
    },
    {
      "cell_type": "markdown",
      "source": [
        "16일 때 최고 정확도를 도출합니다. 예측 성능이 어떻게 변했는지 확인해보겠습니다. 'mean_test_score'는 CV 세트 5개에서 검증용 데이터 세트의 정확도 평균 수치입니다. "
      ],
      "metadata": {
        "id": "elB3K2zqBPab"
      }
    },
    {
      "cell_type": "code",
      "source": [
        "cv_results_df = pd.DataFrame(grid_cv.cv_results_)\n",
        "cv_results_df[['param_max_depth', 'mean_test_score']]"
      ],
      "metadata": {
        "colab": {
          "base_uri": "https://localhost:8080/",
          "height": 268
        },
        "id": "_kxsfULnBeBN",
        "outputId": "ddac635b-76f0-4737-b4d3-433ca7f9db99"
      },
      "execution_count": null,
      "outputs": [
        {
          "output_type": "execute_result",
          "data": {
            "text/html": [
              "\n",
              "  <div id=\"df-d5a1a1cd-8d6d-4721-bbb1-a12ce41ab984\">\n",
              "    <div class=\"colab-df-container\">\n",
              "      <div>\n",
              "<style scoped>\n",
              "    .dataframe tbody tr th:only-of-type {\n",
              "        vertical-align: middle;\n",
              "    }\n",
              "\n",
              "    .dataframe tbody tr th {\n",
              "        vertical-align: top;\n",
              "    }\n",
              "\n",
              "    .dataframe thead th {\n",
              "        text-align: right;\n",
              "    }\n",
              "</style>\n",
              "<table border=\"1\" class=\"dataframe\">\n",
              "  <thead>\n",
              "    <tr style=\"text-align: right;\">\n",
              "      <th></th>\n",
              "      <th>param_max_depth</th>\n",
              "      <th>mean_test_score</th>\n",
              "    </tr>\n",
              "  </thead>\n",
              "  <tbody>\n",
              "    <tr>\n",
              "      <th>0</th>\n",
              "      <td>6</td>\n",
              "      <td>0.850791</td>\n",
              "    </tr>\n",
              "    <tr>\n",
              "      <th>1</th>\n",
              "      <td>8</td>\n",
              "      <td>0.851069</td>\n",
              "    </tr>\n",
              "    <tr>\n",
              "      <th>2</th>\n",
              "      <td>10</td>\n",
              "      <td>0.851209</td>\n",
              "    </tr>\n",
              "    <tr>\n",
              "      <th>3</th>\n",
              "      <td>12</td>\n",
              "      <td>0.844135</td>\n",
              "    </tr>\n",
              "    <tr>\n",
              "      <th>4</th>\n",
              "      <td>16</td>\n",
              "      <td>0.851344</td>\n",
              "    </tr>\n",
              "    <tr>\n",
              "      <th>5</th>\n",
              "      <td>20</td>\n",
              "      <td>0.850800</td>\n",
              "    </tr>\n",
              "    <tr>\n",
              "      <th>6</th>\n",
              "      <td>24</td>\n",
              "      <td>0.849440</td>\n",
              "    </tr>\n",
              "  </tbody>\n",
              "</table>\n",
              "</div>\n",
              "      <button class=\"colab-df-convert\" onclick=\"convertToInteractive('df-d5a1a1cd-8d6d-4721-bbb1-a12ce41ab984')\"\n",
              "              title=\"Convert this dataframe to an interactive table.\"\n",
              "              style=\"display:none;\">\n",
              "        \n",
              "  <svg xmlns=\"http://www.w3.org/2000/svg\" height=\"24px\"viewBox=\"0 0 24 24\"\n",
              "       width=\"24px\">\n",
              "    <path d=\"M0 0h24v24H0V0z\" fill=\"none\"/>\n",
              "    <path d=\"M18.56 5.44l.94 2.06.94-2.06 2.06-.94-2.06-.94-.94-2.06-.94 2.06-2.06.94zm-11 1L8.5 8.5l.94-2.06 2.06-.94-2.06-.94L8.5 2.5l-.94 2.06-2.06.94zm10 10l.94 2.06.94-2.06 2.06-.94-2.06-.94-.94-2.06-.94 2.06-2.06.94z\"/><path d=\"M17.41 7.96l-1.37-1.37c-.4-.4-.92-.59-1.43-.59-.52 0-1.04.2-1.43.59L10.3 9.45l-7.72 7.72c-.78.78-.78 2.05 0 2.83L4 21.41c.39.39.9.59 1.41.59.51 0 1.02-.2 1.41-.59l7.78-7.78 2.81-2.81c.8-.78.8-2.07 0-2.86zM5.41 20L4 18.59l7.72-7.72 1.47 1.35L5.41 20z\"/>\n",
              "  </svg>\n",
              "      </button>\n",
              "      \n",
              "  <style>\n",
              "    .colab-df-container {\n",
              "      display:flex;\n",
              "      flex-wrap:wrap;\n",
              "      gap: 12px;\n",
              "    }\n",
              "\n",
              "    .colab-df-convert {\n",
              "      background-color: #E8F0FE;\n",
              "      border: none;\n",
              "      border-radius: 50%;\n",
              "      cursor: pointer;\n",
              "      display: none;\n",
              "      fill: #1967D2;\n",
              "      height: 32px;\n",
              "      padding: 0 0 0 0;\n",
              "      width: 32px;\n",
              "    }\n",
              "\n",
              "    .colab-df-convert:hover {\n",
              "      background-color: #E2EBFA;\n",
              "      box-shadow: 0px 1px 2px rgba(60, 64, 67, 0.3), 0px 1px 3px 1px rgba(60, 64, 67, 0.15);\n",
              "      fill: #174EA6;\n",
              "    }\n",
              "\n",
              "    [theme=dark] .colab-df-convert {\n",
              "      background-color: #3B4455;\n",
              "      fill: #D2E3FC;\n",
              "    }\n",
              "\n",
              "    [theme=dark] .colab-df-convert:hover {\n",
              "      background-color: #434B5C;\n",
              "      box-shadow: 0px 1px 3px 1px rgba(0, 0, 0, 0.15);\n",
              "      filter: drop-shadow(0px 1px 2px rgba(0, 0, 0, 0.3));\n",
              "      fill: #FFFFFF;\n",
              "    }\n",
              "  </style>\n",
              "\n",
              "      <script>\n",
              "        const buttonEl =\n",
              "          document.querySelector('#df-d5a1a1cd-8d6d-4721-bbb1-a12ce41ab984 button.colab-df-convert');\n",
              "        buttonEl.style.display =\n",
              "          google.colab.kernel.accessAllowed ? 'block' : 'none';\n",
              "\n",
              "        async function convertToInteractive(key) {\n",
              "          const element = document.querySelector('#df-d5a1a1cd-8d6d-4721-bbb1-a12ce41ab984');\n",
              "          const dataTable =\n",
              "            await google.colab.kernel.invokeFunction('convertToInteractive',\n",
              "                                                     [key], {});\n",
              "          if (!dataTable) return;\n",
              "\n",
              "          const docLinkHtml = 'Like what you see? Visit the ' +\n",
              "            '<a target=\"_blank\" href=https://colab.research.google.com/notebooks/data_table.ipynb>data table notebook</a>'\n",
              "            + ' to learn more about interactive tables.';\n",
              "          element.innerHTML = '';\n",
              "          dataTable['output_type'] = 'display_data';\n",
              "          await google.colab.output.renderOutput(dataTable, element);\n",
              "          const docLink = document.createElement('div');\n",
              "          docLink.innerHTML = docLinkHtml;\n",
              "          element.appendChild(docLink);\n",
              "        }\n",
              "      </script>\n",
              "    </div>\n",
              "  </div>\n",
              "  "
            ],
            "text/plain": [
              "  param_max_depth  mean_test_score\n",
              "0               6         0.850791\n",
              "1               8         0.851069\n",
              "2              10         0.851209\n",
              "3              12         0.844135\n",
              "4              16         0.851344\n",
              "5              20         0.850800\n",
              "6              24         0.849440"
            ]
          },
          "metadata": {},
          "execution_count": 19
        }
      ]
    },
    {
      "cell_type": "markdown",
      "source": [
        "별도의 테스트 데이터 세트에서 결정 트리의 정확도를 측정해보겠습니다."
      ],
      "metadata": {
        "id": "1mdOl4NUDhyf"
      }
    },
    {
      "cell_type": "code",
      "source": [
        "max_depths = [6, 8, 10, 12, 16, 20]\n",
        "\n",
        "for depth in max_depths:\n",
        "    dt_clf = DecisionTreeClassifier(max_depth=depth, random_state=156)\n",
        "    dt_clf.fit(X_train, y_train)\n",
        "    pred = dt_clf.predict(X_test)\n",
        "    accuracy = accuracy_score(y_test, pred)\n",
        "    print('max_depth = {}, 정확도: {:.4f}'.format(depth, accuracy))"
      ],
      "metadata": {
        "colab": {
          "base_uri": "https://localhost:8080/"
        },
        "id": "Tg8z2tZ_C1QJ",
        "outputId": "ef38f459-8703-4a30-a428-2bf229d929fc"
      },
      "execution_count": null,
      "outputs": [
        {
          "output_type": "stream",
          "name": "stdout",
          "text": [
            "max_depth = 6, 정확도: 0.8558\n",
            "max_depth = 8, 정확도: 0.8707\n",
            "max_depth = 10, 정확도: 0.8673\n",
            "max_depth = 12, 정확도: 0.8646\n",
            "max_depth = 16, 정확도: 0.8575\n",
            "max_depth = 20, 정확도: 0.8548\n"
          ]
        }
      ]
    },
    {
      "cell_type": "markdown",
      "source": [
        "8일 때 정확도가 가장 높습니다. 10부터는 테스트 데이터 세트의 정확도가 감소하고 과적합 될 가능성이 커집니다.\n",
        "\n",
        "두 파라미터를 바꾸면서 성능을 튜닝해 보겠습니다."
      ],
      "metadata": {
        "id": "NC6m5V2fD33X"
      }
    },
    {
      "cell_type": "code",
      "source": [
        "params = {\n",
        "    'max_depth': [8, 12, 16, 20],\n",
        "    'min_samples_split': [16, 24]\n",
        "}\n",
        "\n",
        "grid_cv = GridSearchCV(dt_clf, param_grid=params, scoring='accuracy', cv=5, verbose=1)\n",
        "grid_cv.fit(X_train, y_train)\n",
        "print('GridSearchCV 최고 평균 정확도 수치: {:.4f}'.format(grid_cv.best_score_))\n",
        "print('GridSearchCV 최적 하이퍼 파라미터:', grid_cv.best_params_)"
      ],
      "metadata": {
        "colab": {
          "base_uri": "https://localhost:8080/"
        },
        "id": "ebzb3IjbFCMf",
        "outputId": "6f7a2eeb-2805-43c7-b1b5-ea06ce4fac79"
      },
      "execution_count": null,
      "outputs": [
        {
          "output_type": "stream",
          "name": "stdout",
          "text": [
            "Fitting 5 folds for each of 8 candidates, totalling 40 fits\n",
            "GridSearchCV 최고 평균 정확도 수치: 0.8549\n",
            "GridSearchCV 최적 하이퍼 파라미터: {'max_depth': 8, 'min_samples_split': 16}\n"
          ]
        }
      ]
    },
    {
      "cell_type": "markdown",
      "source": [
        "최적 하이퍼 파라미터 모델로 테스트 데이터 세트에 대한 예측을 수행하겠습니다."
      ],
      "metadata": {
        "id": "QbLZ_ibpI5jy"
      }
    },
    {
      "cell_type": "code",
      "source": [
        "best_df_clf = grid_cv.best_estimator_\n",
        "pred1 = best_df_clf.predict(X_test)\n",
        "accuracy = accuracy_score(y_test, pred1)\n",
        "print('결정 트리 예측 정확도: {:.4f}'.format(accuracy))"
      ],
      "metadata": {
        "colab": {
          "base_uri": "https://localhost:8080/"
        },
        "id": "HBZXuImrIUhB",
        "outputId": "c5389628-722a-4d19-e23d-028bfd8b5651"
      },
      "execution_count": null,
      "outputs": [
        {
          "output_type": "stream",
          "name": "stdout",
          "text": [
            "결정 트리 예측 정확도: 0.8717\n"
          ]
        }
      ]
    },
    {
      "cell_type": "markdown",
      "source": [
        "피처 중요도를 20개까지만 막대그래프로 시각화해보겠습니다."
      ],
      "metadata": {
        "id": "ta-FvHecKa7B"
      }
    },
    {
      "cell_type": "code",
      "source": [
        "import seaborn as sns\n",
        "\n",
        "ftr_importances_values = best_df_clf.feature_importances_\n",
        "# 정렬을 쉽게 하고 시본의 막대그래프로 쉽게 표현하기 위해 시리즈로 변환합니다.\n",
        "ftr_importances = pd.Series(ftr_importances_values, index=X_train.columns)\n",
        "ftr_top20 = ftr_importances.sort_values(ascending=False)[:20]\n",
        "\n",
        "plt.figure(figsize=(8, 6))\n",
        "plt.title('Feature importances Top 20')\n",
        "sns.barplot(x=ftr_top20, y=ftr_top20.index)\n",
        "plt.show()"
      ],
      "metadata": {
        "colab": {
          "base_uri": "https://localhost:8080/",
          "height": 390
        },
        "id": "ZDoJ6ElmJKTQ",
        "outputId": "408abb2f-05ea-42ef-9180-3fc872d88d3d"
      },
      "execution_count": null,
      "outputs": [
        {
          "output_type": "display_data",
          "data": {
            "image/png": "[encoded data removed]",
            "text/plain": [
              "<Figure size 576x432 with 1 Axes>"
            ]
          },
          "metadata": {
            "needs_background": "light"
          }
        }
      ]
    },
    {
      "cell_type": "markdown",
      "source": [
        "# **3. 앙상블 학습**"
      ],
      "metadata": {
        "id": "lctk2pssZ7CR"
      }
    },
    {
      "cell_type": "markdown",
      "source": [
        "## **3.1. 앙상블 학습 개요**"
      ],
      "metadata": {
        "id": "66bGobX0Z6_z"
      }
    },
    {
      "cell_type": "markdown",
      "source": [
        "**앙상블 학습(Ensemble Learning)**을 통한 분류는 여러 개의 분류기를 생성하고 그 예측 결과들을 결합하여 더 정확한 최종 예측을 도출하는 기법입니다. 정형 데이터 분류에 앙상블이 매우 뛰어난 성능을 보입니다. 대표적인 앙상블 알고리즘은 랜덤 포레스트와 그레이디언트 부스팅입니다. 특히 **XGBoost**와 **LightGBM**, **스태킹(Stacking)**은 대중적으로 널리 쓰입니다.\n",
        "\n",
        "앙상블 학습의 방법은 **보팅(Voting)**, **배깅(Bagging)**, **부스팅(Boosting)**, 스태킹(Stacking)입니다.\n",
        "\n",
        "보팅과 배깅은 여러 분류기가 투표를 통해 최종 예측 결과를 결정하는 방법입니다. 다른 점이라면 보팅은 다른 알고리즘을 가진 분류기를 결합하고, 배깅은 같은 알고리즘을 가진 분류기를 결합하지만 데이터 샘플링만 서로 다르게 하면서 학습을 수행하여 보팅을 수행합니다. 대표적인 배깅 방식은 랜덤 포레스트입니다. 배깅에 대하여 첨언하자면, 개별 분류기에 할당된 학습 데이터는 원본 학습 데이터를 샘플링하여 추출하는데, 이렇게 개별 분류기에게 데이터를 샘플링해서 추출하는 방식을 **부트스트래핑(Bootstrapping)** 분할 방식이라고 부릅니다. 개별 분류기가 부트스트래핑 방식으로 샘플링된 데이터 세트에 대하여 학습하고 개별적인 예측을 수행한 결과를 보팅을 통해서 최종 예측 결과를 선정하는 방식이 배깅 방식입니다. 교차 검증이 데이터 세트 간에 중첩을 허용하지 않는 것과 달리 배깅은 중첩을 허용합니다. 예컨대 데이터 10,000개를 분류기 10개가 배깅으로 나누더라도 각 1000개의 데이터 내에는 중복된 데이터가 있습니다.\n",
        "\n",
        "부스팅은 여러 분류기가 순차적으로 학습하지만 앞에서 학습한 분류기가 예측이 틀린 데이터에 대하여는 올바르게 예측하도록 다음 분류기에게 가중치(weight)를 부여하면서 학습과 예측을 진행합니다. 가중치를 지속적으로 부스팅하면서 학습합니다.\n",
        "\n",
        "스태킹은 여러 모델의 예측 결괏값을 다시 학습 데이터로 만들고 다른 모델(메타 모델)로 재학습시켜서 결과를 예측합니다. "
      ],
      "metadata": {
        "id": "cwzZBF1wLMHN"
      }
    },
    {
      "cell_type": "markdown",
      "source": [
        "## **3.2. 보팅 유형 - 하드 보팅(Hard Voting)과 소프트 보팅(Soft Voting)**"
      ],
      "metadata": {
        "id": "jE8SnQLEZ69Z"
      }
    },
    {
      "cell_type": "markdown",
      "source": [
        "**하드 보팅(Hard Voting)**을 이용한 분류는 다수결 원칙과 유사합니다. 예측한 결괏값들 중에 다수의 분류기가 결정한 예측값을 최종 보팅 결괏값으로 선정합니다.\n",
        "\n",
        "**소프트 보팅(Soft Voting)**을 이용한 분류는 분류기들의 레이블 값 결정 확률을 모두 더하고 평균하여 가장 확률이 높은 레이블 값을 최종 보팅 결괏값으로 선정합니다. 하드 보팅보다 성능이 좋아서 하드 보팅보다 더 많이 사용됩니다."
      ],
      "metadata": {
        "id": "ZWPeCP145fGf"
      }
    },
    {
      "cell_type": "markdown",
      "source": [
        "## **3.3. 보팅 분류기(voting classifier)**"
      ],
      "metadata": {
        "id": "kq1gaDodZ668"
      }
    },
    {
      "cell_type": "markdown",
      "source": [
        "`VotingClassifier` 클래스에 보팅 방식의 앙상블이 구현되어 있습니다. 이 클래스로 위스콘신 유방암 데이터 세트를 분석해 보겠습니다. 로지스틱 회귀와 KNN을 기반으로 보팅 분류기를 만들겠습니다. `VotingClassifier` 클래스는 주요 생성 인자인 `estimators`는 리스트 값으로 보팅에 사용될 여러 분류기 인스턴스를 튜플 형태로 입력 받습니다."
      ],
      "metadata": {
        "id": "YcPI2fp-67yF"
      }
    },
    {
      "cell_type": "code",
      "source": [
        "import pandas as pd\n",
        "\n",
        "from sklearn.ensemble import VotingClassifier\n",
        "from sklearn.linear_model import LogisticRegression\n",
        "from sklearn.neighbors import KNeighborsClassifier\n",
        "from sklearn.datasets import load_breast_cancer\n",
        "from sklearn.model_selection import train_test_split\n",
        "from sklearn.metrics import accuracy_score\n",
        "\n",
        "cancer = load_breast_cancer()\n",
        "data_df = pd.DataFrame(cancer.data, columns=cancer.feature_names)\n",
        "data_df.head(3)"
      ],
      "metadata": {
        "colab": {
          "base_uri": "https://localhost:8080/",
          "height": 251
        },
        "id": "HPMEJ6SJ7P19",
        "outputId": "ade96c78-f54a-42c3-a44c-f6dc0797963b"
      },
      "execution_count": null,
      "outputs": [
        {
          "output_type": "execute_result",
          "data": {
            "text/html": [
              "\n",
              "  <div id=\"df-7a3a8341-6c5a-45e8-ad87-c9ec15fc2ef2\">\n",
              "    <div class=\"colab-df-container\">\n",
              "      <div>\n",
              "<style scoped>\n",
              "    .dataframe tbody tr th:only-of-type {\n",
              "        vertical-align: middle;\n",
              "    }\n",
              "\n",
              "    .dataframe tbody tr th {\n",
              "        vertical-align: top;\n",
              "    }\n",
              "\n",
              "    .dataframe thead th {\n",
              "        text-align: right;\n",
              "    }\n",
              "</style>\n",
              "<table border=\"1\" class=\"dataframe\">\n",
              "  <thead>\n",
              "    <tr style=\"text-align: right;\">\n",
              "      <th></th>\n",
              "      <th>mean radius</th>\n",
              "      <th>mean texture</th>\n",
              "      <th>mean perimeter</th>\n",
              "      <th>mean area</th>\n",
              "      <th>mean smoothness</th>\n",
              "      <th>mean compactness</th>\n",
              "      <th>mean concavity</th>\n",
              "      <th>mean concave points</th>\n",
              "      <th>mean symmetry</th>\n",
              "      <th>mean fractal dimension</th>\n",
              "      <th>...</th>\n",
              "      <th>worst radius</th>\n",
              "      <th>worst texture</th>\n",
              "      <th>worst perimeter</th>\n",
              "      <th>worst area</th>\n",
              "      <th>worst smoothness</th>\n",
              "      <th>worst compactness</th>\n",
              "      <th>worst concavity</th>\n",
              "      <th>worst concave points</th>\n",
              "      <th>worst symmetry</th>\n",
              "      <th>worst fractal dimension</th>\n",
              "    </tr>\n",
              "  </thead>\n",
              "  <tbody>\n",
              "    <tr>\n",
              "      <th>0</th>\n",
              "      <td>17.99</td>\n",
              "      <td>10.38</td>\n",
              "      <td>122.8</td>\n",
              "      <td>1001.0</td>\n",
              "      <td>0.11840</td>\n",
              "      <td>0.27760</td>\n",
              "      <td>0.3001</td>\n",
              "      <td>0.14710</td>\n",
              "      <td>0.2419</td>\n",
              "      <td>0.07871</td>\n",
              "      <td>...</td>\n",
              "      <td>25.38</td>\n",
              "      <td>17.33</td>\n",
              "      <td>184.6</td>\n",
              "      <td>2019.0</td>\n",
              "      <td>0.1622</td>\n",
              "      <td>0.6656</td>\n",
              "      <td>0.7119</td>\n",
              "      <td>0.2654</td>\n",
              "      <td>0.4601</td>\n",
              "      <td>0.11890</td>\n",
              "    </tr>\n",
              "    <tr>\n",
              "      <th>1</th>\n",
              "      <td>20.57</td>\n",
              "      <td>17.77</td>\n",
              "      <td>132.9</td>\n",
              "      <td>1326.0</td>\n",
              "      <td>0.08474</td>\n",
              "      <td>0.07864</td>\n",
              "      <td>0.0869</td>\n",
              "      <td>0.07017</td>\n",
              "      <td>0.1812</td>\n",
              "      <td>0.05667</td>\n",
              "      <td>...</td>\n",
              "      <td>24.99</td>\n",
              "      <td>23.41</td>\n",
              "      <td>158.8</td>\n",
              "      <td>1956.0</td>\n",
              "      <td>0.1238</td>\n",
              "      <td>0.1866</td>\n",
              "      <td>0.2416</td>\n",
              "      <td>0.1860</td>\n",
              "      <td>0.2750</td>\n",
              "      <td>0.08902</td>\n",
              "    </tr>\n",
              "    <tr>\n",
              "      <th>2</th>\n",
              "      <td>19.69</td>\n",
              "      <td>21.25</td>\n",
              "      <td>130.0</td>\n",
              "      <td>1203.0</td>\n",
              "      <td>0.10960</td>\n",
              "      <td>0.15990</td>\n",
              "      <td>0.1974</td>\n",
              "      <td>0.12790</td>\n",
              "      <td>0.2069</td>\n",
              "      <td>0.05999</td>\n",
              "      <td>...</td>\n",
              "      <td>23.57</td>\n",
              "      <td>25.53</td>\n",
              "      <td>152.5</td>\n",
              "      <td>1709.0</td>\n",
              "      <td>0.1444</td>\n",
              "      <td>0.4245</td>\n",
              "      <td>0.4504</td>\n",
              "      <td>0.2430</td>\n",
              "      <td>0.3613</td>\n",
              "      <td>0.08758</td>\n",
              "    </tr>\n",
              "  </tbody>\n",
              "</table>\n",
              "<p>3 rows × 30 columns</p>\n",
              "</div>\n",
              "      <button class=\"colab-df-convert\" onclick=\"convertToInteractive('df-7a3a8341-6c5a-45e8-ad87-c9ec15fc2ef2')\"\n",
              "              title=\"Convert this dataframe to an interactive table.\"\n",
              "              style=\"display:none;\">\n",
              "        \n",
              "  <svg xmlns=\"http://www.w3.org/2000/svg\" height=\"24px\"viewBox=\"0 0 24 24\"\n",
              "       width=\"24px\">\n",
              "    <path d=\"M0 0h24v24H0V0z\" fill=\"none\"/>\n",
              "    <path d=\"M18.56 5.44l.94 2.06.94-2.06 2.06-.94-2.06-.94-.94-2.06-.94 2.06-2.06.94zm-11 1L8.5 8.5l.94-2.06 2.06-.94-2.06-.94L8.5 2.5l-.94 2.06-2.06.94zm10 10l.94 2.06.94-2.06 2.06-.94-2.06-.94-.94-2.06-.94 2.06-2.06.94z\"/><path d=\"M17.41 7.96l-1.37-1.37c-.4-.4-.92-.59-1.43-.59-.52 0-1.04.2-1.43.59L10.3 9.45l-7.72 7.72c-.78.78-.78 2.05 0 2.83L4 21.41c.39.39.9.59 1.41.59.51 0 1.02-.2 1.41-.59l7.78-7.78 2.81-2.81c.8-.78.8-2.07 0-2.86zM5.41 20L4 18.59l7.72-7.72 1.47 1.35L5.41 20z\"/>\n",
              "  </svg>\n",
              "      </button>\n",
              "      \n",
              "  <style>\n",
              "    .colab-df-container {\n",
              "      display:flex;\n",
              "      flex-wrap:wrap;\n",
              "      gap: 12px;\n",
              "    }\n",
              "\n",
              "    .colab-df-convert {\n",
              "      background-color: #E8F0FE;\n",
              "      border: none;\n",
              "      border-radius: 50%;\n",
              "      cursor: pointer;\n",
              "      display: none;\n",
              "      fill: #1967D2;\n",
              "      height: 32px;\n",
              "      padding: 0 0 0 0;\n",
              "      width: 32px;\n",
              "    }\n",
              "\n",
              "    .colab-df-convert:hover {\n",
              "      background-color: #E2EBFA;\n",
              "      box-shadow: 0px 1px 2px rgba(60, 64, 67, 0.3), 0px 1px 3px 1px rgba(60, 64, 67, 0.15);\n",
              "      fill: #174EA6;\n",
              "    }\n",
              "\n",
              "    [theme=dark] .colab-df-convert {\n",
              "      background-color: #3B4455;\n",
              "      fill: #D2E3FC;\n",
              "    }\n",
              "\n",
              "    [theme=dark] .colab-df-convert:hover {\n",
              "      background-color: #434B5C;\n",
              "      box-shadow: 0px 1px 3px 1px rgba(0, 0, 0, 0.15);\n",
              "      filter: drop-shadow(0px 1px 2px rgba(0, 0, 0, 0.3));\n",
              "      fill: #FFFFFF;\n",
              "    }\n",
              "  </style>\n",
              "\n",
              "      <script>\n",
              "        const buttonEl =\n",
              "          document.querySelector('#df-7a3a8341-6c5a-45e8-ad87-c9ec15fc2ef2 button.colab-df-convert');\n",
              "        buttonEl.style.display =\n",
              "          google.colab.kernel.accessAllowed ? 'block' : 'none';\n",
              "\n",
              "        async function convertToInteractive(key) {\n",
              "          const element = document.querySelector('#df-7a3a8341-6c5a-45e8-ad87-c9ec15fc2ef2');\n",
              "          const dataTable =\n",
              "            await google.colab.kernel.invokeFunction('convertToInteractive',\n",
              "                                                     [key], {});\n",
              "          if (!dataTable) return;\n",
              "\n",
              "          const docLinkHtml = 'Like what you see? Visit the ' +\n",
              "            '<a target=\"_blank\" href=https://colab.research.google.com/notebooks/data_table.ipynb>data table notebook</a>'\n",
              "            + ' to learn more about interactive tables.';\n",
              "          element.innerHTML = '';\n",
              "          dataTable['output_type'] = 'display_data';\n",
              "          await google.colab.output.renderOutput(dataTable, element);\n",
              "          const docLink = document.createElement('div');\n",
              "          docLink.innerHTML = docLinkHtml;\n",
              "          element.appendChild(docLink);\n",
              "        }\n",
              "      </script>\n",
              "    </div>\n",
              "  </div>\n",
              "  "
            ],
            "text/plain": [
              "   mean radius  mean texture  mean perimeter  mean area  mean smoothness  \\\n",
              "0        17.99         10.38           122.8     1001.0          0.11840   \n",
              "1        20.57         17.77           132.9     1326.0          0.08474   \n",
              "2        19.69         21.25           130.0     1203.0          0.10960   \n",
              "\n",
              "   mean compactness  mean concavity  mean concave points  mean symmetry  \\\n",
              "0           0.27760          0.3001              0.14710         0.2419   \n",
              "1           0.07864          0.0869              0.07017         0.1812   \n",
              "2           0.15990          0.1974              0.12790         0.2069   \n",
              "\n",
              "   mean fractal dimension  ...  worst radius  worst texture  worst perimeter  \\\n",
              "0                 0.07871  ...         25.38          17.33            184.6   \n",
              "1                 0.05667  ...         24.99          23.41            158.8   \n",
              "2                 0.05999  ...         23.57          25.53            152.5   \n",
              "\n",
              "   worst area  worst smoothness  worst compactness  worst concavity  \\\n",
              "0      2019.0            0.1622             0.6656           0.7119   \n",
              "1      1956.0            0.1238             0.1866           0.2416   \n",
              "2      1709.0            0.1444             0.4245           0.4504   \n",
              "\n",
              "   worst concave points  worst symmetry  worst fractal dimension  \n",
              "0                0.2654          0.4601                  0.11890  \n",
              "1                0.1860          0.2750                  0.08902  \n",
              "2                0.2430          0.3613                  0.08758  \n",
              "\n",
              "[3 rows x 30 columns]"
            ]
          },
          "metadata": {},
          "execution_count": 25
        }
      ]
    },
    {
      "cell_type": "code",
      "source": [
        "# 개별 모델을 생성합니다.\n",
        "lr_clf = LogisticRegression()\n",
        "knn_clf = KNeighborsClassifier(n_neighbors=8)\n",
        "\n",
        "# 개별 모델을 소프트 보팅 기반의 앙상블 모델로 구현한 분류기를 생성합니다.\n",
        "vo_clf = VotingClassifier(estimators=[('LR', lr_clf), ('KNN', knn_clf)], voting='soft')\n",
        "\n",
        "X_train, X_test, y_train, y_test = train_test_split(cancer.data, cancer.target,\n",
        "                                                    test_size=0.2, random_state=156)\n",
        "\n",
        "# 분류기를 학습시키고 예측하여 평가합니다.\n",
        "vo_clf.fit(X_train, y_train)\n",
        "pred = vo_clf.predict(X_test)\n",
        "print('Voting 분류기 정확도: {:.4f}'.format(accuracy_score(y_test, pred)))\n",
        "\n",
        "# 개별 모델을 학습시키고 예측하여 평가합니다. \n",
        "classifiers = [lr_clf, knn_clf]\n",
        "for classifier in classifiers:\n",
        "    classifier.fit(X_train, y_train)\n",
        "    pred = classifier.predict(X_test)\n",
        "    class_name = classifier.__class__.__name__\n",
        "    print('{} 정확도: {:.4f}'.format(class_name, accuracy_score(y_test, pred)))"
      ],
      "metadata": {
        "colab": {
          "base_uri": "https://localhost:8080/"
        },
        "id": "N_JCDWjw8JyX",
        "outputId": "e5610dc3-a7fb-436b-8f94-d08064b3a635"
      },
      "execution_count": null,
      "outputs": [
        {
          "output_type": "stream",
          "name": "stdout",
          "text": [
            "Voting 분류기 정확도: 0.9474\n",
            "LogisticRegression 정확도: 0.9386\n",
            "KNeighborsClassifier 정확도: 0.9386\n"
          ]
        }
      ]
    },
    {
      "cell_type": "markdown",
      "source": [
        "보팅 분류기의 정확도가 더 높습니다. 물론 보팅으로 여러 분류기를 결합해도 성능이 무조건 향상되는 것은 아닙니다. 데이터 특성과 분포 등 같은 다양한 요건에 따라 오히려 기반 분류기 중 가장 좋은 분류기의 성능이 보팅했을 때보다 더 좋을 수도 있습니다. 그러나 앙상블 방법은 대개 단일 알고리즘보다 더 나은 예측 성능을 가지는 경우가 많습니다.\n",
        "\n",
        "머신러닝 모델의 성능은 다양한 테스트 데이터에 의해 검증되므로 어떻게 높은 유연성을 가지고 현실에 대처할 수 있는가가 모델의 중요한 평가요소입니다. 이 관점에서 **편향-분산 트레이드오프**는 머신러닝 모델이 극복해야 할 중요한 과제입니다. 회귀 챕터에서 해당 개념을 다시 설명합니다."
      ],
      "metadata": {
        "id": "m2LSpZCW_KRT"
      }
    },
    {
      "cell_type": "markdown",
      "source": [
        "# **4. 랜덤 포레스트**"
      ],
      "metadata": {
        "id": "pA56rMJMZ64k"
      }
    },
    {
      "cell_type": "markdown",
      "source": [
        "## **4.1. 랜덤 포레스트 개요 및 실습**"
      ],
      "metadata": {
        "id": "uzxfpXTjZ62A"
      }
    },
    {
      "cell_type": "markdown",
      "source": [
        "랜덤 포레스트는 배깅의 대표적 알고리즘입니다. 비교적 빠른 수행 속도와 높은 예측 성능을 가집니다. 부트스트래핑 분할 방식으로 여러 개의 데이터 세트를 중첩되게 분리하여 각 분류기에 적용합니다.\n",
        "\n",
        "위에서 사용한 사용자 행동 인식 데이터 세트를 랜덤 포레스트로 예측해 보겠습니다."
      ],
      "metadata": {
        "id": "YFog2t4oIPP8"
      }
    },
    {
      "cell_type": "code",
      "source": [
        "from sklearn.ensemble import RandomForestClassifier\n",
        "from sklearn.metrics import accuracy_score\n",
        "import pandas as pd\n",
        "import warnings\n",
        "warnings.filterwarnings('ignore')\n",
        "\n",
        "X_train, X_test, y_train, y_test = get_human_dataset()\n",
        "rf_clf = RandomForestClassifier(random_state=0)\n",
        "rf_clf.fit(X_train, y_train)\n",
        "pred = rf_clf.predict(X_test)\n",
        "accuracy = accuracy_score(y_test, pred)\n",
        "print('랜덤 포레스트 정확도: {:.4f}'.format(accuracy))"
      ],
      "metadata": {
        "colab": {
          "base_uri": "https://localhost:8080/"
        },
        "id": "hCZ4m6OphKpb",
        "outputId": "db3c4010-fc1d-42eb-8593-4248b0f0e4f4"
      },
      "execution_count": null,
      "outputs": [
        {
          "output_type": "stream",
          "name": "stdout",
          "text": [
            "랜덤 포레스트 정확도: 0.9253\n"
          ]
        }
      ]
    },
    {
      "cell_type": "markdown",
      "source": [
        "## **4.2. 랜덤 포레스트 하이퍼 파라미터 및 튜닝**"
      ],
      "metadata": {
        "id": "CHvQJZJIZ6zd"
      }
    },
    {
      "cell_type": "markdown",
      "source": [
        "랜덤 포레스트의 하이퍼 파라미터는 결정 트리와 비슷합니다. 아래는 랜덤 포레스트의 하이퍼 파라미터 목록입니다.\n",
        "\n",
        "- `n_estimators`: 결정 트리 개수를 지정합니다. 디폴트는 `10`입니다. 높은 수를 지정할수록 성능이 좋아지지만 무조건 좋아지는 것은 아니며 학습 시간이 오래 걸립니다.\n",
        "\n",
        "- `max_features`: 결정 트리와 같습니다. 디폴트는 `auto`이며 `sqrt`입니다. 전체 피처가 16개이면 분할을 위해 4개만 참조합니다.\n",
        "\n",
        "- `max_depth`, `min_samples_leaf`처럼 과적합을 개선하기 위해 조정하는 하이퍼 파라미터는 결정 트리와 동일합니다.\n",
        "\n",
        "`GridSearchCV` 클래스를 사용하여 하이퍼 파라미터를 튜닝해 보겠습니다."
      ],
      "metadata": {
        "id": "hXZxR-8XkmYK"
      }
    },
    {
      "cell_type": "code",
      "source": [
        "from sklearn.model_selection import GridSearchCV\n",
        "\n",
        "params = {\n",
        "    'n_estimators': [100],\n",
        "    'max_depth': [6, 8, 10, 12],\n",
        "    'min_samples_leaf': [8, 12, 18],\n",
        "    'min_samples_split': [8, 16, 20]\n",
        "}\n",
        "\n",
        "rf_clf = RandomForestClassifier(random_state=0, n_jobs=-1)\n",
        "grid_cv = GridSearchCV(rf_clf, param_grid=params, cv=2, n_jobs=-1)\n",
        "grid_cv.fit(X_train, y_train)\n",
        "\n",
        "print('최적 하이퍼 파라미터:\\n', grid_cv.best_params_)\n",
        "print('최고 예측 정확도: {:.4f}'.format(grid_cv.best_score_))"
      ],
      "metadata": {
        "colab": {
          "base_uri": "https://localhost:8080/"
        },
        "id": "4xx3nbD_mukm",
        "outputId": "9bdd5eac-b0e1-4461-fa80-145d27bd1fc7"
      },
      "execution_count": null,
      "outputs": [
        {
          "output_type": "stream",
          "name": "stdout",
          "text": [
            "최적 하이퍼 파라미터:\n",
            " {'max_depth': 10, 'min_samples_leaf': 8, 'min_samples_split': 8, 'n_estimators': 100}\n",
            "최고 예측 정확도: 0.9180\n"
          ]
        }
      ]
    },
    {
      "cell_type": "markdown",
      "source": [
        "최적 하이퍼 파라미터로 `RandomForestClassifier`를 학습시키고 예측 성능을 측정해보겠습니다. `n_estimators`는 `300`으로 늘리겠습니다."
      ],
      "metadata": {
        "id": "imQLk-g-qeX1"
      }
    },
    {
      "cell_type": "code",
      "source": [
        "rf_clf1 = RandomForestClassifier(n_estimators=300, max_depth=10, min_samples_leaf=8,\n",
        "                                min_samples_split=8, random_state=0)\n",
        "rf_clf1.fit(X_train, y_train)\n",
        "pred = rf_clf1.predict(X_test)\n",
        "print('예측 정확도: {:.4f}'. format(accuracy_score(y_test, pred)))"
      ],
      "metadata": {
        "colab": {
          "base_uri": "https://localhost:8080/"
        },
        "id": "zjYvUIMRn356",
        "outputId": "c693f1b0-179b-4c41-a16d-2f121f06a50e"
      },
      "execution_count": null,
      "outputs": [
        {
          "output_type": "stream",
          "name": "stdout",
          "text": [
            "예측 정확도: 0.9165\n"
          ]
        }
      ]
    },
    {
      "cell_type": "markdown",
      "source": [
        "피처의 중요도를 시각화해보겠습니다."
      ],
      "metadata": {
        "id": "cFar7jNoq0nH"
      }
    },
    {
      "cell_type": "code",
      "source": [
        "import matplotlib.pyplot as plt\n",
        "import seaborn as sns\n",
        "%matplotlib inline\n",
        "\n",
        "ftr_importances_values = rf_clf1.feature_importances_\n",
        "ftr_importances = pd.Series(ftr_importances_values, index=X_train.columns)\n",
        "ftr_top20 = ftr_importances.sort_values(ascending=False)[:20]\n",
        "\n",
        "plt.figure(figsize=(8, 6))\n",
        "plt.title('Feature importances Top 20')\n",
        "sns.barplot(x=ftr_top20, y=ftr_top20.index)\n",
        "plt.show()"
      ],
      "metadata": {
        "colab": {
          "base_uri": "https://localhost:8080/",
          "height": 390
        },
        "id": "qlg2f-huohdL",
        "outputId": "541c4120-c3ae-4451-a17d-019658ebaf02"
      },
      "execution_count": null,
      "outputs": [
        {
          "output_type": "display_data",
          "data": {
            "image/png": "[encoded data removed]",
            "text/plain": [
              "<Figure size 576x432 with 1 Axes>"
            ]
          },
          "metadata": {
            "needs_background": "light"
          }
        }
      ]
    },
    {
      "cell_type": "markdown",
      "source": [
        "# **5. GBM(Gradient Boosting Machine)**"
      ],
      "metadata": {
        "id": "RGNrcwAKZ6xA"
      }
    },
    {
      "cell_type": "markdown",
      "source": [
        "## **5.1. GBM의 개요 및 실습**"
      ],
      "metadata": {
        "id": "GVWOuYxWbI6V"
      }
    },
    {
      "cell_type": "markdown",
      "source": [
        "부스팅 알고리즘은 여러 약한 학습기(weak learner)를 순차적으로 학습하고 예측하면서 잘못 예측한 데이터에 가중치를 부여하고 오류를 개선해 나가면서 학습하는 방식입니다. 대표적인 부스팅 방법은 **에이다부스트(Adaboost, Adaptive boosting)**와 **그레이디언트 부스트**입니다. 에이다 부스트는 오류 데이터에 가중치를 부여하면서 부스팅을 수행합니다. 아래는 에이다부스트가 학습하는 방법을 도식화한 그림입니다.\n",
        "\n",
        "![AdaBoost.png](data:image/png;base64,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)\n",
        "\n",
        "+와 -로 된 피처 데이터 세트입니다. 여러 약한 학습기가 잘못 분류된 피처에 가중치를 부여하면서(그림상 기호 크기가 커짐) 약한 학습기를 결합한 최종 결과 예측을 도출합니다. 예컨대 첫 번째 학습기에 가중치를 0.3, 두 번째 학습기에 가중치를 0.5, 세 번째 학습기에 가중치를 0.8만큼 부여하고 모두 결합하여 예측을 수행합니다.\n",
        "\n",
        "**GBM(Gradient Boosting Machine)**은 가중치 업데이트를 **경사 하강법(Gradient Descent)**으로 적용합니다. 오류 값은 실젯값 - 예측값입니다. 반복 수행을 통해 오류를 최소화할 수 있도록 가중치의 업데이트 값을 도출하는 기법입니다. GBM을 기반으로 수많은 알고리즘이 새로 만들어지고 있습니다.\n",
        "\n",
        "GBM을 사용하여 사용자 행동 데이터 세트를 예측 분류해 보겠습니다. "
      ],
      "metadata": {
        "id": "ET_aOqkxAmyx"
      }
    },
    {
      "cell_type": "code",
      "source": [
        "from sklearn.ensemble import GradientBoostingClassifier\n",
        "from sklearn.metrics import accuracy_score\n",
        "import time\n",
        "import warnings\n",
        "warnings.filterwarnings('ignore')\n",
        "\n",
        "X_train, X_test, y_train, y_test = get_human_dataset()\n",
        "\n",
        "start_time = time.time()\n",
        "\n",
        "gb_clf = GradientBoostingClassifier(random_state=0)\n",
        "gb_clf.fit(X_train, y_train)\n",
        "gb_pred = gb_clf.predict(X_test)\n",
        "gb_accuracy = accuracy_score(y_test, gb_pred)\n",
        "\n",
        "print('GBM 정확도: {:.4f}'.format(gb_accuracy))\n",
        "print('GBM 수행 시간: {:.1f}'.format(time.time() - start_time))"
      ],
      "metadata": {
        "colab": {
          "base_uri": "https://localhost:8080/"
        },
        "id": "HqfiB52IzQIK",
        "outputId": "74c5a6d5-7e96-4b36-e5cf-5cb47b334e34"
      },
      "execution_count": null,
      "outputs": [
        {
          "output_type": "stream",
          "name": "stdout",
          "text": [
            "GBM 정확도: 0.9386\n",
            "GBM 수행 시간: 816.7\n"
          ]
        }
      ]
    },
    {
      "cell_type": "markdown",
      "source": [
        "랜덤 포레스트의 예측 성능보다 좋습니다. 대개 GBM이 랜덤 포레스트보다 예측 성능이 좋습니다. 다만 수행 시간이 오래 걸리고 하이퍼 파라미터 튜닝에도 더 공을 들여야 합니다."
      ],
      "metadata": {
        "id": "8vy7Ayt20Qrt"
      }
    },
    {
      "cell_type": "markdown",
      "source": [
        "## **5.2. GBM 하이퍼 파라미터 및 튜닝**"
      ],
      "metadata": {
        "id": "AMi4mGtKbI3T"
      }
    },
    {
      "cell_type": "markdown",
      "source": [
        "GBM의 하이퍼 파라미터는 아래와 같습니다. `max_depth`, `max_features`에 대한 설명은 생략합니다.\n",
        "\n",
        "- `n_estimators`: 약한 학습기 개수를 지정합니다. 디폴트는 `100`입니다. 개수가 많을수록 예측 성능이 일정 수준까지는 좋아지지만 시간이 오래 걸립니다.\n",
        "\n",
        "- `loss`: 경사 하강법에서 사용할 비용 함수를 지정합니다.\n",
        "\n",
        "- `learning_rate`: GBM이 학습을 수행할 때마다 적용하는 학습률입니다. 약한 학습기가 순차적으로 오류 값을 보정해 나가는 데 적용하는 계수입니다. 디폴트는 `0.1`이며 0 ~ 1 사잇값을 지정할 수 있습니다. 꽤 작은 값을 적용하면 업데이트되는 값이 작아져서 최소 오류 값을 찾아내므로 예측 성능이 높아질 가능성이 높습니다. 다만 많은 약한 학습기는 순차적인 반복이 필요하기 때문에 수행 시간이 오래 걸리고 반복이 완료되어도 최소 오류 값을 찾지 못할 수도 있습니다. 반대로 큰 값을 적용하면 최소 오류 값을 찾지 못하고 그냥 지나쳐 버려서 예측 성능이 떨어질 가능성이 높지만 빠른 수행이 가능합니다. 이런 특성 때문에 `n_estimators`와 상호 보완적으로 조합하여 사용합니다. `learning_late`를 작게 하고 `n_estimators`를 크게 하면 성능이 좋아지지 않는 한계점까지는 약간씩이나 예측 성능을 제고할 수 있습니다. \n",
        "\n",
        "- `subsample`: 약한 학습기가 학습에 사용하는 데이터 샘플링의 비율입니다. 디폴트는 `1`이며 전체 학습 데이터를 기반으로 학습합니다. 과적합을 낮추려면 작은 값으로 지정합니다.\n",
        "\n",
        "그리드 서치로 하이퍼 파라미터 최적화를 수행해 보겠습니다. 오랜 시간이 소요되므로 하이퍼 파라미터를 낮은 수치만으로 제약하겠습니다."
      ],
      "metadata": {
        "id": "MtZ-Kzud0mlB"
      }
    },
    {
      "cell_type": "code",
      "source": [
        "from sklearn.model_selection import GridSearchCV\n",
        "\n",
        "params = {\n",
        "    'n_estimators': [100, 500],\n",
        "    'learning_rate': [0.05, 0.1]\n",
        "}\n",
        "grid_cv = GridSearchCV(gb_clf, param_grid=params, cv=2, verbose=1)\n",
        "grid_cv.fit(X_train, y_train)\n",
        "print('최적 하이퍼 파라미터:\\n', grid_cv.best_params_)\n",
        "print('최고 예측 정확도: {:.4f}'.format(grid_cv.best_score_))"
      ],
      "metadata": {
        "colab": {
          "base_uri": "https://localhost:8080/"
        },
        "id": "bbxWjt-hLLqe",
        "outputId": "71dec17c-f949-4be2-b076-6e649d5b0438"
      },
      "execution_count": null,
      "outputs": [
        {
          "output_type": "stream",
          "name": "stdout",
          "text": [
            "Fitting 2 folds for each of 4 candidates, totalling 8 fits\n",
            "최적 하이퍼 파라미터:\n",
            " {'learning_rate': 0.05, 'n_estimators': 500}\n",
            "최고 예측 정확도: 0.9002\n"
          ]
        }
      ]
    },
    {
      "cell_type": "markdown",
      "source": [
        "테스트 세트에 적용하여 예측 정확도를 확인하겠습니다."
      ],
      "metadata": {
        "id": "OHnqY0XH9bYD"
      }
    },
    {
      "cell_type": "code",
      "source": [
        "gb_pred = grid_cv.best_estimator_.predict(X_test)\n",
        "gb_accuracy = accuracy_score(y_test, gb_pred)\n",
        "print('GBM 정확도: {:.4f}'.format(gb_accuracy))"
      ],
      "metadata": {
        "colab": {
          "base_uri": "https://localhost:8080/"
        },
        "id": "sFO5IwbaME0E",
        "outputId": "39d4014f-141f-45f4-e10b-5ede08a23b54"
      },
      "execution_count": null,
      "outputs": [
        {
          "output_type": "stream",
          "name": "stdout",
          "text": [
            "GBM 정확도: 0.9393\n"
          ]
        }
      ]
    },
    {
      "cell_type": "markdown",
      "source": [
        "GBM은 과적합도 잘 제어하는 편입니다."
      ],
      "metadata": {
        "id": "p3gD_tf0P6EW"
      }
    },
    {
      "cell_type": "markdown",
      "source": [
        "# **6. XGBoost(eXtra Gradient Boost)**"
      ],
      "metadata": {
        "id": "IEL0NYcMbI00"
      }
    },
    {
      "cell_type": "markdown",
      "source": [
        "## **6.1. XGBoost 개요**"
      ],
      "metadata": {
        "id": "XSA5gdUrbIyi"
      }
    },
    {
      "cell_type": "markdown",
      "source": [
        "**XGBoost**는 대중적으로 널리 쓰이는 알고리즘 중 하나입니다. GBM에 기반하면서도 느린 수행 시간과 과적합 규제(Regularization) 부재 등의 문제를 해결한 알고리즘입니다. 병렬 CPU 환경에서 병렬 학습이 가능하여 GBM보다 더 빠릅니다.\n",
        "\n",
        "일반적으로 GBM은 분할 시 부정 손실이 발생하면 분할을 더이상 수행하지 않지만 자칫 지나치게 많은 분할이 발생할 수 있습니다. 마찬가지로 XGBoost도 `max_depth` 파라미터로 분할 깊이를 조정하기도 하지만 나무 가지치기(Tree pruning)로 긍정 이득이 없는 분할을 가지치기하여 분할 수를 더 줄입니다.\n",
        "\n",
        "아울러 XGBoost는 반복 수행 시마다 학습 데이터 세트와 평가 데이터 세트에 대한 교차 검증을 수행하여 최적화된 반복 수행 횟수를 가질 수 있습니다. 교차 검증을 통해 평가 데이터 세트의 평가 값이 최적화되면 반복을 중간에 멈출 수 있도록 조기 중단(early stopping) 합니다. 결측치를 자체적으로 처리할 수도 있습니다."
      ],
      "metadata": {
        "id": "26sgHfFvQDn1"
      }
    },
    {
      "cell_type": "markdown",
      "source": [
        "## **6.2. XGBoost 설치하기**"
      ],
      "metadata": {
        "id": "wqsldGkVbIwF"
      }
    },
    {
      "cell_type": "markdown",
      "source": [
        "생략합니다."
      ],
      "metadata": {
        "id": "F5mIDde4x0mU"
      }
    },
    {
      "cell_type": "markdown",
      "source": [
        "## **6.3. 파이썬 래퍼 XGBoost 하이퍼 파라미터**"
      ],
      "metadata": {
        "id": "k3abK_kwbItr"
      }
    },
    {
      "cell_type": "markdown",
      "source": [
        "본래 XGBoost는 C/C++로 개발되었고 파이썬과 사이킷런으로도 구동할 수 있도록 두 가지 래퍼 클래스(Wrapper Class)를 추가로 제공합니다. 파이썬 전용 래퍼 클래스와 사이킷런 전용 래퍼 클래스입니다. 파이썬 래퍼 클래스는 잘 쓰이지 않으므로 생략하고 넘어가겠습니다. 자세한 내용은 서적을 참고하시기 바랍니다."
      ],
      "metadata": {
        "id": "RsUha5Kzydh3"
      }
    },
    {
      "cell_type": "markdown",
      "source": [
        "## **6.4. 파이썬 래퍼 XGBoost 적용 - 위스콘신 유방암 예측**"
      ],
      "metadata": {
        "id": "VrSE_QX9cCBV"
      }
    },
    {
      "cell_type": "markdown",
      "source": [
        "생략합니다."
      ],
      "metadata": {
        "id": "s6k-rlCTz-AI"
      }
    },
    {
      "cell_type": "markdown",
      "source": [
        "## **6.5. 사이킷런 래퍼 XGBoost의 개요 및 적용**"
      ],
      "metadata": {
        "id": "JFM0-kQvcB-d"
      }
    },
    {
      "cell_type": "code",
      "source": [
        "import xgboost\n",
        "from xgboost import XGBClassifier\n",
        "\n",
        "print(xgboost.__version__)"
      ],
      "metadata": {
        "colab": {
          "base_uri": "https://localhost:8080/"
        },
        "id": "vsV3Q8fd4vgj",
        "outputId": "c70f6d47-cd98-493f-96d9-3ed850048574"
      },
      "execution_count": 1,
      "outputs": [
        {
          "output_type": "stream",
          "name": "stdout",
          "text": [
            "0.90\n"
          ]
        }
      ]
    },
    {
      "cell_type": "markdown",
      "source": [
        "위스콘신 유방암 데이터 세트를 활용하여 XGBoost를 적용해보겠습니다. "
      ],
      "metadata": {
        "id": "u__KhbsTIAyE"
      }
    },
    {
      "cell_type": "code",
      "source": [
        "import pandas as pd\n",
        "import numpy as np\n",
        "from sklearn.datasets import load_breast_cancer\n",
        "from sklearn.model_selection import train_test_split\n",
        "import warnings\n",
        "warnings.filterwarnings('ignore')\n",
        "\n",
        "dataset = load_breast_cancer()\n",
        "X_features = dataset.data\n",
        "y_label = dataset.target\n",
        "cancer_df = pd.DataFrame(data=X_features, columns=dataset.feature_names)\n",
        "cancer_df['target'] = y_label\n",
        "\n",
        "cancer_df.head()"
      ],
      "metadata": {
        "colab": {
          "base_uri": "https://localhost:8080/",
          "height": 314
        },
        "id": "ras0SHFm0rnH",
        "outputId": "a48d3fff-71ef-4c3f-8dc3-0356324ece5b"
      },
      "execution_count": null,
      "outputs": [
        {
          "output_type": "execute_result",
          "data": {
            "text/html": [
              "\n",
              "  <div id=\"df-4a68c663-f057-43db-8917-168d8cf010d5\">\n",
              "    <div class=\"colab-df-container\">\n",
              "      <div>\n",
              "<style scoped>\n",
              "    .dataframe tbody tr th:only-of-type {\n",
              "        vertical-align: middle;\n",
              "    }\n",
              "\n",
              "    .dataframe tbody tr th {\n",
              "        vertical-align: top;\n",
              "    }\n",
              "\n",
              "    .dataframe thead th {\n",
              "        text-align: right;\n",
              "    }\n",
              "</style>\n",
              "<table border=\"1\" class=\"dataframe\">\n",
              "  <thead>\n",
              "    <tr style=\"text-align: right;\">\n",
              "      <th></th>\n",
              "      <th>mean radius</th>\n",
              "      <th>mean texture</th>\n",
              "      <th>mean perimeter</th>\n",
              "      <th>mean area</th>\n",
              "      <th>mean smoothness</th>\n",
              "      <th>mean compactness</th>\n",
              "      <th>mean concavity</th>\n",
              "      <th>mean concave points</th>\n",
              "      <th>mean symmetry</th>\n",
              "      <th>mean fractal dimension</th>\n",
              "      <th>...</th>\n",
              "      <th>worst texture</th>\n",
              "      <th>worst perimeter</th>\n",
              "      <th>worst area</th>\n",
              "      <th>worst smoothness</th>\n",
              "      <th>worst compactness</th>\n",
              "      <th>worst concavity</th>\n",
              "      <th>worst concave points</th>\n",
              "      <th>worst symmetry</th>\n",
              "      <th>worst fractal dimension</th>\n",
              "      <th>target</th>\n",
              "    </tr>\n",
              "  </thead>\n",
              "  <tbody>\n",
              "    <tr>\n",
              "      <th>0</th>\n",
              "      <td>17.99</td>\n",
              "      <td>10.38</td>\n",
              "      <td>122.80</td>\n",
              "      <td>1001.0</td>\n",
              "      <td>0.11840</td>\n",
              "      <td>0.27760</td>\n",
              "      <td>0.3001</td>\n",
              "      <td>0.14710</td>\n",
              "      <td>0.2419</td>\n",
              "      <td>0.07871</td>\n",
              "      <td>...</td>\n",
              "      <td>17.33</td>\n",
              "      <td>184.60</td>\n",
              "      <td>2019.0</td>\n",
              "      <td>0.1622</td>\n",
              "      <td>0.6656</td>\n",
              "      <td>0.7119</td>\n",
              "      <td>0.2654</td>\n",
              "      <td>0.4601</td>\n",
              "      <td>0.11890</td>\n",
              "      <td>0</td>\n",
              "    </tr>\n",
              "    <tr>\n",
              "      <th>1</th>\n",
              "      <td>20.57</td>\n",
              "      <td>17.77</td>\n",
              "      <td>132.90</td>\n",
              "      <td>1326.0</td>\n",
              "      <td>0.08474</td>\n",
              "      <td>0.07864</td>\n",
              "      <td>0.0869</td>\n",
              "      <td>0.07017</td>\n",
              "      <td>0.1812</td>\n",
              "      <td>0.05667</td>\n",
              "      <td>...</td>\n",
              "      <td>23.41</td>\n",
              "      <td>158.80</td>\n",
              "      <td>1956.0</td>\n",
              "      <td>0.1238</td>\n",
              "      <td>0.1866</td>\n",
              "      <td>0.2416</td>\n",
              "      <td>0.1860</td>\n",
              "      <td>0.2750</td>\n",
              "      <td>0.08902</td>\n",
              "      <td>0</td>\n",
              "    </tr>\n",
              "    <tr>\n",
              "      <th>2</th>\n",
              "      <td>19.69</td>\n",
              "      <td>21.25</td>\n",
              "      <td>130.00</td>\n",
              "      <td>1203.0</td>\n",
              "      <td>0.10960</td>\n",
              "      <td>0.15990</td>\n",
              "      <td>0.1974</td>\n",
              "      <td>0.12790</td>\n",
              "      <td>0.2069</td>\n",
              "      <td>0.05999</td>\n",
              "      <td>...</td>\n",
              "      <td>25.53</td>\n",
              "      <td>152.50</td>\n",
              "      <td>1709.0</td>\n",
              "      <td>0.1444</td>\n",
              "      <td>0.4245</td>\n",
              "      <td>0.4504</td>\n",
              "      <td>0.2430</td>\n",
              "      <td>0.3613</td>\n",
              "      <td>0.08758</td>\n",
              "      <td>0</td>\n",
              "    </tr>\n",
              "    <tr>\n",
              "      <th>3</th>\n",
              "      <td>11.42</td>\n",
              "      <td>20.38</td>\n",
              "      <td>77.58</td>\n",
              "      <td>386.1</td>\n",
              "      <td>0.14250</td>\n",
              "      <td>0.28390</td>\n",
              "      <td>0.2414</td>\n",
              "      <td>0.10520</td>\n",
              "      <td>0.2597</td>\n",
              "      <td>0.09744</td>\n",
              "      <td>...</td>\n",
              "      <td>26.50</td>\n",
              "      <td>98.87</td>\n",
              "      <td>567.7</td>\n",
              "      <td>0.2098</td>\n",
              "      <td>0.8663</td>\n",
              "      <td>0.6869</td>\n",
              "      <td>0.2575</td>\n",
              "      <td>0.6638</td>\n",
              "      <td>0.17300</td>\n",
              "      <td>0</td>\n",
              "    </tr>\n",
              "    <tr>\n",
              "      <th>4</th>\n",
              "      <td>20.29</td>\n",
              "      <td>14.34</td>\n",
              "      <td>135.10</td>\n",
              "      <td>1297.0</td>\n",
              "      <td>0.10030</td>\n",
              "      <td>0.13280</td>\n",
              "      <td>0.1980</td>\n",
              "      <td>0.10430</td>\n",
              "      <td>0.1809</td>\n",
              "      <td>0.05883</td>\n",
              "      <td>...</td>\n",
              "      <td>16.67</td>\n",
              "      <td>152.20</td>\n",
              "      <td>1575.0</td>\n",
              "      <td>0.1374</td>\n",
              "      <td>0.2050</td>\n",
              "      <td>0.4000</td>\n",
              "      <td>0.1625</td>\n",
              "      <td>0.2364</td>\n",
              "      <td>0.07678</td>\n",
              "      <td>0</td>\n",
              "    </tr>\n",
              "  </tbody>\n",
              "</table>\n",
              "<p>5 rows × 31 columns</p>\n",
              "</div>\n",
              "      <button class=\"colab-df-convert\" onclick=\"convertToInteractive('df-4a68c663-f057-43db-8917-168d8cf010d5')\"\n",
              "              title=\"Convert this dataframe to an interactive table.\"\n",
              "              style=\"display:none;\">\n",
              "        \n",
              "  <svg xmlns=\"http://www.w3.org/2000/svg\" height=\"24px\"viewBox=\"0 0 24 24\"\n",
              "       width=\"24px\">\n",
              "    <path d=\"M0 0h24v24H0V0z\" fill=\"none\"/>\n",
              "    <path d=\"M18.56 5.44l.94 2.06.94-2.06 2.06-.94-2.06-.94-.94-2.06-.94 2.06-2.06.94zm-11 1L8.5 8.5l.94-2.06 2.06-.94-2.06-.94L8.5 2.5l-.94 2.06-2.06.94zm10 10l.94 2.06.94-2.06 2.06-.94-2.06-.94-.94-2.06-.94 2.06-2.06.94z\"/><path d=\"M17.41 7.96l-1.37-1.37c-.4-.4-.92-.59-1.43-.59-.52 0-1.04.2-1.43.59L10.3 9.45l-7.72 7.72c-.78.78-.78 2.05 0 2.83L4 21.41c.39.39.9.59 1.41.59.51 0 1.02-.2 1.41-.59l7.78-7.78 2.81-2.81c.8-.78.8-2.07 0-2.86zM5.41 20L4 18.59l7.72-7.72 1.47 1.35L5.41 20z\"/>\n",
              "  </svg>\n",
              "      </button>\n",
              "      \n",
              "  <style>\n",
              "    .colab-df-container {\n",
              "      display:flex;\n",
              "      flex-wrap:wrap;\n",
              "      gap: 12px;\n",
              "    }\n",
              "\n",
              "    .colab-df-convert {\n",
              "      background-color: #E8F0FE;\n",
              "      border: none;\n",
              "      border-radius: 50%;\n",
              "      cursor: pointer;\n",
              "      display: none;\n",
              "      fill: #1967D2;\n",
              "      height: 32px;\n",
              "      padding: 0 0 0 0;\n",
              "      width: 32px;\n",
              "    }\n",
              "\n",
              "    .colab-df-convert:hover {\n",
              "      background-color: #E2EBFA;\n",
              "      box-shadow: 0px 1px 2px rgba(60, 64, 67, 0.3), 0px 1px 3px 1px rgba(60, 64, 67, 0.15);\n",
              "      fill: #174EA6;\n",
              "    }\n",
              "\n",
              "    [theme=dark] .colab-df-convert {\n",
              "      background-color: #3B4455;\n",
              "      fill: #D2E3FC;\n",
              "    }\n",
              "\n",
              "    [theme=dark] .colab-df-convert:hover {\n",
              "      background-color: #434B5C;\n",
              "      box-shadow: 0px 1px 3px 1px rgba(0, 0, 0, 0.15);\n",
              "      filter: drop-shadow(0px 1px 2px rgba(0, 0, 0, 0.3));\n",
              "      fill: #FFFFFF;\n",
              "    }\n",
              "  </style>\n",
              "\n",
              "      <script>\n",
              "        const buttonEl =\n",
              "          document.querySelector('#df-4a68c663-f057-43db-8917-168d8cf010d5 button.colab-df-convert');\n",
              "        buttonEl.style.display =\n",
              "          google.colab.kernel.accessAllowed ? 'block' : 'none';\n",
              "\n",
              "        async function convertToInteractive(key) {\n",
              "          const element = document.querySelector('#df-4a68c663-f057-43db-8917-168d8cf010d5');\n",
              "          const dataTable =\n",
              "            await google.colab.kernel.invokeFunction('convertToInteractive',\n",
              "                                                     [key], {});\n",
              "          if (!dataTable) return;\n",
              "\n",
              "          const docLinkHtml = 'Like what you see? Visit the ' +\n",
              "            '<a target=\"_blank\" href=https://colab.research.google.com/notebooks/data_table.ipynb>data table notebook</a>'\n",
              "            + ' to learn more about interactive tables.';\n",
              "          element.innerHTML = '';\n",
              "          dataTable['output_type'] = 'display_data';\n",
              "          await google.colab.output.renderOutput(dataTable, element);\n",
              "          const docLink = document.createElement('div');\n",
              "          docLink.innerHTML = docLinkHtml;\n",
              "          element.appendChild(docLink);\n",
              "        }\n",
              "      </script>\n",
              "    </div>\n",
              "  </div>\n",
              "  "
            ],
            "text/plain": [
              "   mean radius  mean texture  mean perimeter  mean area  mean smoothness  \\\n",
              "0        17.99         10.38          122.80     1001.0          0.11840   \n",
              "1        20.57         17.77          132.90     1326.0          0.08474   \n",
              "2        19.69         21.25          130.00     1203.0          0.10960   \n",
              "3        11.42         20.38           77.58      386.1          0.14250   \n",
              "4        20.29         14.34          135.10     1297.0          0.10030   \n",
              "\n",
              "   mean compactness  mean concavity  mean concave points  mean symmetry  \\\n",
              "0           0.27760          0.3001              0.14710         0.2419   \n",
              "1           0.07864          0.0869              0.07017         0.1812   \n",
              "2           0.15990          0.1974              0.12790         0.2069   \n",
              "3           0.28390          0.2414              0.10520         0.2597   \n",
              "4           0.13280          0.1980              0.10430         0.1809   \n",
              "\n",
              "   mean fractal dimension  ...  worst texture  worst perimeter  worst area  \\\n",
              "0                 0.07871  ...          17.33           184.60      2019.0   \n",
              "1                 0.05667  ...          23.41           158.80      1956.0   \n",
              "2                 0.05999  ...          25.53           152.50      1709.0   \n",
              "3                 0.09744  ...          26.50            98.87       567.7   \n",
              "4                 0.05883  ...          16.67           152.20      1575.0   \n",
              "\n",
              "   worst smoothness  worst compactness  worst concavity  worst concave points  \\\n",
              "0            0.1622             0.6656           0.7119                0.2654   \n",
              "1            0.1238             0.1866           0.2416                0.1860   \n",
              "2            0.1444             0.4245           0.4504                0.2430   \n",
              "3            0.2098             0.8663           0.6869                0.2575   \n",
              "4            0.1374             0.2050           0.4000                0.1625   \n",
              "\n",
              "   worst symmetry  worst fractal dimension  target  \n",
              "0          0.4601                  0.11890       0  \n",
              "1          0.2750                  0.08902       0  \n",
              "2          0.3613                  0.08758       0  \n",
              "3          0.6638                  0.17300       0  \n",
              "4          0.2364                  0.07678       0  \n",
              "\n",
              "[5 rows x 31 columns]"
            ]
          },
          "metadata": {},
          "execution_count": 11
        }
      ]
    },
    {
      "cell_type": "code",
      "source": [
        "print(cancer_df.info())"
      ],
      "metadata": {
        "colab": {
          "base_uri": "https://localhost:8080/"
        },
        "id": "2QwQA0SBIX8Z",
        "outputId": "00488cce-2a1e-46fa-88cc-1f0437c0cdd8"
      },
      "execution_count": null,
      "outputs": [
        {
          "output_type": "stream",
          "name": "stdout",
          "text": [
            "<class 'pandas.core.frame.DataFrame'>\n",
            "RangeIndex: 569 entries, 0 to 568\n",
            "Data columns (total 31 columns):\n",
            " #   Column                   Non-Null Count  Dtype  \n",
            "---  ------                   --------------  -----  \n",
            " 0   mean radius              569 non-null    float64\n",
            " 1   mean texture             569 non-null    float64\n",
            " 2   mean perimeter           569 non-null    float64\n",
            " 3   mean area                569 non-null    float64\n",
            " 4   mean smoothness          569 non-null    float64\n",
            " 5   mean compactness         569 non-null    float64\n",
            " 6   mean concavity           569 non-null    float64\n",
            " 7   mean concave points      569 non-null    float64\n",
            " 8   mean symmetry            569 non-null    float64\n",
            " 9   mean fractal dimension   569 non-null    float64\n",
            " 10  radius error             569 non-null    float64\n",
            " 11  texture error            569 non-null    float64\n",
            " 12  perimeter error          569 non-null    float64\n",
            " 13  area error               569 non-null    float64\n",
            " 14  smoothness error         569 non-null    float64\n",
            " 15  compactness error        569 non-null    float64\n",
            " 16  concavity error          569 non-null    float64\n",
            " 17  concave points error     569 non-null    float64\n",
            " 18  symmetry error           569 non-null    float64\n",
            " 19  fractal dimension error  569 non-null    float64\n",
            " 20  worst radius             569 non-null    float64\n",
            " 21  worst texture            569 non-null    float64\n",
            " 22  worst perimeter          569 non-null    float64\n",
            " 23  worst area               569 non-null    float64\n",
            " 24  worst smoothness         569 non-null    float64\n",
            " 25  worst compactness        569 non-null    float64\n",
            " 26  worst concavity          569 non-null    float64\n",
            " 27  worst concave points     569 non-null    float64\n",
            " 28  worst symmetry           569 non-null    float64\n",
            " 29  worst fractal dimension  569 non-null    float64\n",
            " 30  target                   569 non-null    int64  \n",
            "dtypes: float64(30), int64(1)\n",
            "memory usage: 137.9 KB\n",
            "None\n"
          ]
        }
      ]
    },
    {
      "cell_type": "code",
      "source": [
        "print(dataset.target_names)\n",
        "print(cancer_df['target'].value_counts())"
      ],
      "metadata": {
        "colab": {
          "base_uri": "https://localhost:8080/"
        },
        "id": "_0TO05t1315O",
        "outputId": "668fc8ca-3166-4689-e65e-c15bd83c5c31"
      },
      "execution_count": null,
      "outputs": [
        {
          "output_type": "stream",
          "name": "stdout",
          "text": [
            "['malignant' 'benign']\n",
            "1    357\n",
            "0    212\n",
            "Name: target, dtype: int64\n"
          ]
        }
      ]
    },
    {
      "cell_type": "markdown",
      "source": [
        "악성은 0, 양성은 1입니다.\n",
        "\n",
        "학습 데이터 세트와 테스트 데이터 세트로 분할하겠습니다."
      ],
      "metadata": {
        "id": "wKaLRUrNIpa-"
      }
    },
    {
      "cell_type": "code",
      "source": [
        "X_train, X_test, y_train, y_test = train_test_split(X_features, y_label,\n",
        "                                                    test_size=0.2, random_state=156)\n",
        "print(X_train.shape, X_test.shape)"
      ],
      "metadata": {
        "colab": {
          "base_uri": "https://localhost:8080/"
        },
        "id": "8oDrLfQm4K3n",
        "outputId": "926d6345-127e-44f8-8c74-a9134f7e237b"
      },
      "execution_count": null,
      "outputs": [
        {
          "output_type": "stream",
          "name": "stdout",
          "text": [
            "(455, 30) (114, 30)\n"
          ]
        }
      ]
    },
    {
      "cell_type": "code",
      "source": [
        "help(XGBClassifier)"
      ],
      "metadata": {
        "colab": {
          "base_uri": "https://localhost:8080/"
        },
        "id": "kS-L1HHDVNXd",
        "outputId": "54e13f9f-ecc4-44a6-dfeb-a96db04dba7c"
      },
      "execution_count": 3,
      "outputs": [
        {
          "output_type": "stream",
          "name": "stdout",
          "text": [
            "Help on class XGBClassifier in module xgboost.sklearn:\n",
            "\n",
            "class XGBClassifier(XGBModel, sklearn.base.ClassifierMixin)\n",
            " |  XGBClassifier(max_depth=3, learning_rate=0.1, n_estimators=100, verbosity=1, silent=None, objective='binary:logistic', booster='gbtree', n_jobs=1, nthread=None, gamma=0, min_child_weight=1, max_delta_step=0, subsample=1, colsample_bytree=1, colsample_bylevel=1, colsample_bynode=1, reg_alpha=0, reg_lambda=1, scale_pos_weight=1, base_score=0.5, random_state=0, seed=None, missing=None, **kwargs)\n",
            " |  \n",
            " |  Implementation of the scikit-learn API for XGBoost classification.\n",
            " |  \n",
            " |  Parameters\n",
            " |  ----------\n",
            " |  max_depth : int\n",
            " |      Maximum tree depth for base learners.\n",
            " |  learning_rate : float\n",
            " |      Boosting learning rate (xgb's \"eta\")\n",
            " |  n_estimators : int\n",
            " |      Number of trees to fit.\n",
            " |  verbosity : int\n",
            " |      The degree of verbosity. Valid values are 0 (silent) - 3 (debug).\n",
            " |  silent : boolean\n",
            " |      Whether to print messages while running boosting. Deprecated. Use verbosity instead.\n",
            " |  objective : string or callable\n",
            " |      Specify the learning task and the corresponding learning objective or\n",
            " |      a custom objective function to be used (see note below).\n",
            " |  booster: string\n",
            " |      Specify which booster to use: gbtree, gblinear or dart.\n",
            " |  nthread : int\n",
            " |      Number of parallel threads used to run xgboost.  (Deprecated, please use ``n_jobs``)\n",
            " |  n_jobs : int\n",
            " |      Number of parallel threads used to run xgboost.  (replaces ``nthread``)\n",
            " |  gamma : float\n",
            " |      Minimum loss reduction required to make a further partition on a leaf node of the tree.\n",
            " |  min_child_weight : int\n",
            " |      Minimum sum of instance weight(hessian) needed in a child.\n",
            " |  max_delta_step : int\n",
            " |      Maximum delta step we allow each tree's weight estimation to be.\n",
            " |  subsample : float\n",
            " |      Subsample ratio of the training instance.\n",
            " |  colsample_bytree : float\n",
            " |      Subsample ratio of columns when constructing each tree.\n",
            " |  colsample_bylevel : float\n",
            " |      Subsample ratio of columns for each level.\n",
            " |  colsample_bynode : float\n",
            " |      Subsample ratio of columns for each split.\n",
            " |  reg_alpha : float (xgb's alpha)\n",
            " |      L1 regularization term on weights\n",
            " |  reg_lambda : float (xgb's lambda)\n",
            " |      L2 regularization term on weights\n",
            " |  scale_pos_weight : float\n",
            " |      Balancing of positive and negative weights.\n",
            " |  base_score:\n",
            " |      The initial prediction score of all instances, global bias.\n",
            " |  seed : int\n",
            " |      Random number seed.  (Deprecated, please use random_state)\n",
            " |  random_state : int\n",
            " |      Random number seed.  (replaces seed)\n",
            " |  missing : float, optional\n",
            " |      Value in the data which needs to be present as a missing value. If\n",
            " |      None, defaults to np.nan.\n",
            " |  importance_type: string, default \"gain\"\n",
            " |      The feature importance type for the feature_importances_ property: either \"gain\",\n",
            " |      \"weight\", \"cover\", \"total_gain\" or \"total_cover\".\n",
            " |  \\*\\*kwargs : dict, optional\n",
            " |      Keyword arguments for XGBoost Booster object.  Full documentation of parameters can\n",
            " |      be found here: https://github.com/dmlc/xgboost/blob/master/doc/parameter.rst.\n",
            " |      Attempting to set a parameter via the constructor args and \\*\\*kwargs dict simultaneously\n",
            " |      will result in a TypeError.\n",
            " |  \n",
            " |      .. note:: \\*\\*kwargs unsupported by scikit-learn\n",
            " |  \n",
            " |          \\*\\*kwargs is unsupported by scikit-learn.  We do not guarantee that parameters\n",
            " |          passed via this argument will interact properly with scikit-learn.\n",
            " |  \n",
            " |  Note\n",
            " |  ----\n",
            " |  A custom objective function can be provided for the ``objective``\n",
            " |  parameter. In this case, it should have the signature\n",
            " |  ``objective(y_true, y_pred) -> grad, hess``:\n",
            " |  \n",
            " |  y_true: array_like of shape [n_samples]\n",
            " |      The target values\n",
            " |  y_pred: array_like of shape [n_samples]\n",
            " |      The predicted values\n",
            " |  \n",
            " |  grad: array_like of shape [n_samples]\n",
            " |      The value of the gradient for each sample point.\n",
            " |  hess: array_like of shape [n_samples]\n",
            " |      The value of the second derivative for each sample point\n",
            " |  \n",
            " |  Method resolution order:\n",
            " |      XGBClassifier\n",
            " |      XGBModel\n",
            " |      sklearn.base.BaseEstimator\n",
            " |      sklearn.base.ClassifierMixin\n",
            " |      builtins.object\n",
            " |  \n",
            " |  Methods defined here:\n",
            " |  \n",
            " |  __init__(self, max_depth=3, learning_rate=0.1, n_estimators=100, verbosity=1, silent=None, objective='binary:logistic', booster='gbtree', n_jobs=1, nthread=None, gamma=0, min_child_weight=1, max_delta_step=0, subsample=1, colsample_bytree=1, colsample_bylevel=1, colsample_bynode=1, reg_alpha=0, reg_lambda=1, scale_pos_weight=1, base_score=0.5, random_state=0, seed=None, missing=None, **kwargs)\n",
            " |      Initialize self.  See help(type(self)) for accurate signature.\n",
            " |  \n",
            " |  evals_result(self)\n",
            " |      Return the evaluation results.\n",
            " |      \n",
            " |      If **eval_set** is passed to the `fit` function, you can call\n",
            " |      ``evals_result()`` to get evaluation results for all passed **eval_sets**.\n",
            " |      When **eval_metric** is also passed to the `fit` function, the\n",
            " |      **evals_result** will contain the **eval_metrics** passed to the `fit` function.\n",
            " |      \n",
            " |      Returns\n",
            " |      -------\n",
            " |      evals_result : dictionary\n",
            " |      \n",
            " |      Example\n",
            " |      -------\n",
            " |      \n",
            " |      .. code-block:: python\n",
            " |      \n",
            " |          param_dist = {'objective':'binary:logistic', 'n_estimators':2}\n",
            " |      \n",
            " |          clf = xgb.XGBClassifier(**param_dist)\n",
            " |      \n",
            " |          clf.fit(X_train, y_train,\n",
            " |                  eval_set=[(X_train, y_train), (X_test, y_test)],\n",
            " |                  eval_metric='logloss',\n",
            " |                  verbose=True)\n",
            " |      \n",
            " |          evals_result = clf.evals_result()\n",
            " |      \n",
            " |      The variable **evals_result** will contain\n",
            " |      \n",
            " |      .. code-block:: python\n",
            " |      \n",
            " |          {'validation_0': {'logloss': ['0.604835', '0.531479']},\n",
            " |          'validation_1': {'logloss': ['0.41965', '0.17686']}}\n",
            " |  \n",
            " |  fit(self, X, y, sample_weight=None, eval_set=None, eval_metric=None, early_stopping_rounds=None, verbose=True, xgb_model=None, sample_weight_eval_set=None, callbacks=None)\n",
            " |      Fit gradient boosting classifier\n",
            " |      \n",
            " |      Parameters\n",
            " |      ----------\n",
            " |      X : array_like\n",
            " |          Feature matrix\n",
            " |      y : array_like\n",
            " |          Labels\n",
            " |      sample_weight : array_like\n",
            " |          Weight for each instance\n",
            " |      eval_set : list, optional\n",
            " |          A list of (X, y) pairs to use as a validation set for\n",
            " |          early-stopping\n",
            " |      sample_weight_eval_set : list, optional\n",
            " |          A list of the form [L_1, L_2, ..., L_n], where each L_i is a list of\n",
            " |          instance weights on the i-th validation set.\n",
            " |      eval_metric : str, callable, optional\n",
            " |          If a str, should be a built-in evaluation metric to use. See\n",
            " |          doc/parameter.rst. If callable, a custom evaluation metric. The call\n",
            " |          signature is func(y_predicted, y_true) where y_true will be a\n",
            " |          DMatrix object such that you may need to call the get_label\n",
            " |          method. It must return a str, value pair where the str is a name\n",
            " |          for the evaluation and value is the value of the evaluation\n",
            " |          function. This objective is always minimized.\n",
            " |      early_stopping_rounds : int, optional\n",
            " |          Activates early stopping. Validation error needs to decrease at\n",
            " |          least every <early_stopping_rounds> round(s) to continue training.\n",
            " |          Requires at least one item in evals. If there's more than one,\n",
            " |          will use the last. If early stopping occurs, the model will have\n",
            " |          three additional fields: bst.best_score, bst.best_iteration and\n",
            " |          bst.best_ntree_limit (bst.best_ntree_limit is the ntree_limit parameter\n",
            " |          default value in predict method if not any other value is specified).\n",
            " |          (Use bst.best_ntree_limit to get the correct value if num_parallel_tree\n",
            " |          and/or num_class appears in the parameters)\n",
            " |      verbose : bool\n",
            " |          If `verbose` and an evaluation set is used, writes the evaluation\n",
            " |          metric measured on the validation set to stderr.\n",
            " |      xgb_model : str\n",
            " |          file name of stored xgb model or 'Booster' instance Xgb model to be\n",
            " |          loaded before training (allows training continuation).\n",
            " |      callbacks : list of callback functions\n",
            " |          List of callback functions that are applied at end of each iteration.\n",
            " |          It is possible to use predefined callbacks by using :ref:`callback_api`.\n",
            " |          Example:\n",
            " |      \n",
            " |          .. code-block:: python\n",
            " |      \n",
            " |              [xgb.callback.reset_learning_rate(custom_rates)]\n",
            " |  \n",
            " |  predict(self, data, output_margin=False, ntree_limit=None, validate_features=True)\n",
            " |      Predict with `data`.\n",
            " |      \n",
            " |      .. note:: This function is not thread safe.\n",
            " |      \n",
            " |        For each booster object, predict can only be called from one thread.\n",
            " |        If you want to run prediction using multiple thread, call ``xgb.copy()`` to make copies\n",
            " |        of model object and then call ``predict()``.\n",
            " |      \n",
            " |      .. note:: Using ``predict()`` with DART booster\n",
            " |      \n",
            " |        If the booster object is DART type, ``predict()`` will perform dropouts, i.e. only\n",
            " |        some of the trees will be evaluated. This will produce incorrect results if ``data`` is\n",
            " |        not the training data. To obtain correct results on test sets, set ``ntree_limit`` to\n",
            " |        a nonzero value, e.g.\n",
            " |      \n",
            " |        .. code-block:: python\n",
            " |      \n",
            " |          preds = bst.predict(dtest, ntree_limit=num_round)\n",
            " |      \n",
            " |      Parameters\n",
            " |      ----------\n",
            " |      data : DMatrix\n",
            " |          The dmatrix storing the input.\n",
            " |      output_margin : bool\n",
            " |          Whether to output the raw untransformed margin value.\n",
            " |      ntree_limit : int\n",
            " |          Limit number of trees in the prediction; defaults to best_ntree_limit if defined\n",
            " |          (i.e. it has been trained with early stopping), otherwise 0 (use all trees).\n",
            " |      validate_features : bool\n",
            " |          When this is True, validate that the Booster's and data's feature_names are identical.\n",
            " |          Otherwise, it is assumed that the feature_names are the same.\n",
            " |      Returns\n",
            " |      -------\n",
            " |      prediction : numpy array\n",
            " |  \n",
            " |  predict_proba(self, data, ntree_limit=None, validate_features=True)\n",
            " |      Predict the probability of each `data` example being of a given class.\n",
            " |      \n",
            " |      .. note:: This function is not thread safe\n",
            " |      \n",
            " |          For each booster object, predict can only be called from one thread.\n",
            " |          If you want to run prediction using multiple thread, call ``xgb.copy()`` to make copies\n",
            " |          of model object and then call predict\n",
            " |      \n",
            " |      Parameters\n",
            " |      ----------\n",
            " |      data : DMatrix\n",
            " |          The dmatrix storing the input.\n",
            " |      ntree_limit : int\n",
            " |          Limit number of trees in the prediction; defaults to best_ntree_limit if defined\n",
            " |          (i.e. it has been trained with early stopping), otherwise 0 (use all trees).\n",
            " |      validate_features : bool\n",
            " |          When this is True, validate that the Booster's and data's feature_names are identical.\n",
            " |          Otherwise, it is assumed that the feature_names are the same.\n",
            " |      \n",
            " |      Returns\n",
            " |      -------\n",
            " |      prediction : numpy array\n",
            " |          a numpy array with the probability of each data example being of a given class.\n",
            " |  \n",
            " |  ----------------------------------------------------------------------\n",
            " |  Methods inherited from XGBModel:\n",
            " |  \n",
            " |  __setstate__(self, state)\n",
            " |  \n",
            " |  apply(self, X, ntree_limit=0)\n",
            " |      Return the predicted leaf every tree for each sample.\n",
            " |      \n",
            " |      Parameters\n",
            " |      ----------\n",
            " |      X : array_like, shape=[n_samples, n_features]\n",
            " |          Input features matrix.\n",
            " |      \n",
            " |      ntree_limit : int\n",
            " |          Limit number of trees in the prediction; defaults to 0 (use all trees).\n",
            " |      \n",
            " |      Returns\n",
            " |      -------\n",
            " |      X_leaves : array_like, shape=[n_samples, n_trees]\n",
            " |          For each datapoint x in X and for each tree, return the index of the\n",
            " |          leaf x ends up in. Leaves are numbered within\n",
            " |          ``[0; 2**(self.max_depth+1))``, possibly with gaps in the numbering.\n",
            " |  \n",
            " |  get_booster(self)\n",
            " |      Get the underlying xgboost Booster of this model.\n",
            " |      \n",
            " |      This will raise an exception when fit was not called\n",
            " |      \n",
            " |      Returns\n",
            " |      -------\n",
            " |      booster : a xgboost booster of underlying model\n",
            " |  \n",
            " |  get_num_boosting_rounds(self)\n",
            " |      Gets the number of xgboost boosting rounds.\n",
            " |  \n",
            " |  get_params(self, deep=False)\n",
            " |      Get parameters.\n",
            " |  \n",
            " |  get_xgb_params(self)\n",
            " |      Get xgboost type parameters.\n",
            " |  \n",
            " |  load_model(self, fname)\n",
            " |      Load the model from a file.\n",
            " |      \n",
            " |      The model is loaded from an XGBoost internal binary format which is\n",
            " |      universal among the various XGBoost interfaces. Auxiliary attributes of\n",
            " |      the Python Booster object (such as feature names) will not be loaded.\n",
            " |      Label encodings (text labels to numeric labels) will be also lost.\n",
            " |      **If you are using only the Python interface, we recommend pickling the\n",
            " |      model object for best results.**\n",
            " |      \n",
            " |      Parameters\n",
            " |      ----------\n",
            " |      fname : string or a memory buffer\n",
            " |          Input file name or memory buffer(see also save_raw)\n",
            " |  \n",
            " |  save_model(self, fname)\n",
            " |      Save the model to a file.\n",
            " |      \n",
            " |      The model is saved in an XGBoost internal binary format which is\n",
            " |      universal among the various XGBoost interfaces. Auxiliary attributes of\n",
            " |      the Python Booster object (such as feature names) will not be loaded.\n",
            " |      Label encodings (text labels to numeric labels) will be also lost.\n",
            " |      **If you are using only the Python interface, we recommend pickling the\n",
            " |      model object for best results.**\n",
            " |      \n",
            " |      Parameters\n",
            " |      ----------\n",
            " |      fname : string\n",
            " |          Output file name\n",
            " |  \n",
            " |  set_params(self, **params)\n",
            " |      Set the parameters of this estimator.\n",
            " |      Modification of the sklearn method to allow unknown kwargs. This allows using\n",
            " |      the full range of xgboost parameters that are not defined as member variables\n",
            " |      in sklearn grid search.\n",
            " |      Returns\n",
            " |      -------\n",
            " |      self\n",
            " |  \n",
            " |  ----------------------------------------------------------------------\n",
            " |  Data descriptors inherited from XGBModel:\n",
            " |  \n",
            " |  coef_\n",
            " |      Coefficients property\n",
            " |      \n",
            " |      .. note:: Coefficients are defined only for linear learners\n",
            " |      \n",
            " |          Coefficients are only defined when the linear model is chosen as base\n",
            " |          learner (`booster=gblinear`). It is not defined for other base learner types, such\n",
            " |          as tree learners (`booster=gbtree`).\n",
            " |      \n",
            " |      Returns\n",
            " |      -------\n",
            " |      coef_ : array of shape ``[n_features]`` or ``[n_classes, n_features]``\n",
            " |  \n",
            " |  feature_importances_\n",
            " |      Feature importances property\n",
            " |      \n",
            " |      .. note:: Feature importance is defined only for tree boosters\n",
            " |      \n",
            " |          Feature importance is only defined when the decision tree model is chosen as base\n",
            " |          learner (`booster=gbtree`). It is not defined for other base learner types, such\n",
            " |          as linear learners (`booster=gblinear`).\n",
            " |      \n",
            " |      Returns\n",
            " |      -------\n",
            " |      feature_importances_ : array of shape ``[n_features]``\n",
            " |  \n",
            " |  intercept_\n",
            " |      Intercept (bias) property\n",
            " |      \n",
            " |      .. note:: Intercept is defined only for linear learners\n",
            " |      \n",
            " |          Intercept (bias) is only defined when the linear model is chosen as base\n",
            " |          learner (`booster=gblinear`). It is not defined for other base learner types, such\n",
            " |          as tree learners (`booster=gbtree`).\n",
            " |      \n",
            " |      Returns\n",
            " |      -------\n",
            " |      intercept_ : array of shape ``(1,)`` or ``[n_classes]``\n",
            " |  \n",
            " |  ----------------------------------------------------------------------\n",
            " |  Methods inherited from sklearn.base.BaseEstimator:\n",
            " |  \n",
            " |  __getstate__(self)\n",
            " |  \n",
            " |  __repr__(self, N_CHAR_MAX=700)\n",
            " |      Return repr(self).\n",
            " |  \n",
            " |  ----------------------------------------------------------------------\n",
            " |  Data descriptors inherited from sklearn.base.BaseEstimator:\n",
            " |  \n",
            " |  __dict__\n",
            " |      dictionary for instance variables (if defined)\n",
            " |  \n",
            " |  __weakref__\n",
            " |      list of weak references to the object (if defined)\n",
            " |  \n",
            " |  ----------------------------------------------------------------------\n",
            " |  Methods inherited from sklearn.base.ClassifierMixin:\n",
            " |  \n",
            " |  score(self, X, y, sample_weight=None)\n",
            " |      Return the mean accuracy on the given test data and labels.\n",
            " |      \n",
            " |      In multi-label classification, this is the subset accuracy\n",
            " |      which is a harsh metric since you require for each sample that\n",
            " |      each label set be correctly predicted.\n",
            " |      \n",
            " |      Parameters\n",
            " |      ----------\n",
            " |      X : array-like of shape (n_samples, n_features)\n",
            " |          Test samples.\n",
            " |      \n",
            " |      y : array-like of shape (n_samples,) or (n_samples, n_outputs)\n",
            " |          True labels for `X`.\n",
            " |      \n",
            " |      sample_weight : array-like of shape (n_samples,), default=None\n",
            " |          Sample weights.\n",
            " |      \n",
            " |      Returns\n",
            " |      -------\n",
            " |      score : float\n",
            " |          Mean accuracy of ``self.predict(X)`` wrt. `y`.\n",
            "\n"
          ]
        }
      ]
    },
    {
      "cell_type": "markdown",
      "source": [
        "`XGBClassifier`, `XGBRegressor` 클래스의 주요 파라미터는 아래와 같습니다.\n",
        "\n",
        "- 일반 파라미터(디폴트 값을 거의 바꾸지 않음)\n",
        "\n",
        " - `booster`: 트리 기반 모델(`gbtree`) 또는 선형 모델(`gblinear`)입니다. 디폴트는 `gbtree`입니다.\n",
        "\n",
        " - `silent`: 출력 메시지를 나타낼지 여부입니다. 디폴트는 `0`이며 출력 메시지를 나타냅니다.\n",
        "\n",
        " - `n_jobs` CPU의 실행 스레드 개수를 조정합니다. 디폴트는 `1`이며 전체 스레드를 사용합니다. \n",
        "\n",
        "- 부스터 파라미터(트리 최적화, 부스팅, 규제 등)\n",
        "\n",
        " - `learning_rate`: GBM과 같은 학습률입니다. 부스팅 스텝을 반복적으로 수행할 때 업데이트되는 학습률 값입니다. 0 ~ 1 사잇값이며 디폴트는 `0.1`입니다. 선호되는 값은 0.01 ~ 0.2입니다.\n",
        "\n",
        " - `n_estimators`: GBM과 같습니다.\n",
        "\n",
        " - `min_child_weight`: 트리에서 추가적으로 가지를 나눌지 결정하기 위해 필요한 데이터들의 weight 총합입니다. 값이 클수록 분할을 자제하며, 과적합을 조절하는 데 사용합니다. 디폴트는 `1`입니다. \n",
        "\n",
        " - `gamma`: 트리의 리프 노드를 추가적으로 나눌지 결정할 최소 손실 감소 값입니다. 해당 값보다 큰 손실이 감소된 경우 리프 노드를 분리하며, 값이 클수록 과적합이 감소합니다. 디폴트는 `0`입니다.\n",
        "\n",
        " - `max_depth`: 트리 기반 알고리즘과 같습니다. 디폴트는 `6`입니다. 값이 높으면 특정 피처 조건에 특화되어 룰 조건이 만들어지므로 과적합 가능성이 높아지며 보통 3 ~ 10 사잇값을 적용합니다. \n",
        "\n",
        " - `subsample`: GBM과 같습니다. 디폴트는 `1`입니다.\n",
        "\n",
        " - `colsample_bytree`: GBM의 `max_features`와 유사합니다. 트리 생성에 필요한 피처를 임의로 샘플링 하는 데 사용됩니다. 피처가 매우 많은 경우 과적합을 조정하는 용도입니다. 디폴트는 `1`입니다.\n",
        "\n",
        " - `reg_lambda`: L2 규제 적용 값입니다. 피처 개수가 많을 경우 적용을 검토하며 값이 클수록 과적합을 감소시킬 수 있습니다. 디폴트는 `1`로 우선 적용되는 것을 의미합니다.\n",
        "\n",
        " - `reg_alpha`: L1 규제 적용 값입니다. 피처 개수가 많을 경우 적용을 검토하며 값이 클수록 과적합을 감소시킬 수 있습니다. 디폴트는 `0`으로 우선 적용되지 않는 것을 의미합니다.\n",
        "\n",
        " - `scale_pos_weight`: 특정 값으로 치우친 비대칭한 클래스로 구성된 데이터 세트의 균형을 유지하기 위한 파라미터입니다. 디폴트는 `1`입니다.\n",
        "\n",
        "- 학습 태스크 파라미터(학습 수행 시의 객체 함수, 평가를 위한 지표 등)\n",
        "\n",
        " - `objective`: 최솟값을 가져야할 손실 함수입니다. 이진 분류와 다중 분류에 따라 달라집니다. `'binary:logistic'`은 이진 분류, `multi:softmax`는 다중 분류일 때 적용합니다. `multi:softmax`의 경우 레이블 클래스 개수인 `num_class` 파라미터를 지정해야 합니다. `'multi:softprob'`는 `multi:softmax`와 유사하지만 개별 레이블 클래스의 해당되는 예측 확률을 반환합니다.\n",
        "\n",
        " - `eval_metric`: 검증에 사용할 함수입니다. 디폴트는 회귀는 `rmse`, 분류는 `error`입니다.\n",
        "\n",
        "   - `rmse`: Root Mean Squeare Error\n",
        "\n",
        "   - `mae`: Mean Absolute Error\n",
        " \n",
        "   - `logloss`: Negative log-likelihood\n",
        "\n",
        "   - `error`: Binary classification error rate (0.5 threshold)\n",
        "\n",
        "   - `merror`: Multiclass classification error rate\n",
        "\n",
        "   - `mlogloss`: Multiclass logloss\n",
        "\n",
        "   - `auc`: Area under the curve\n",
        "\n",
        "뛰어난 알고리즘일수록 파라미터를 튜닝할 필요가 적습니다. 아울러 튜닝을 하더라도 효과가 적은 것이 대부분입니다. 튜닝하는 경우는 피처 수가 매우 많거나 피처 간 상관되는 정도가 많거나 데이터 세트에 따라 여러 가지 특성이 있을 수 있습니다.\n",
        "\n",
        "과적합을 제어하려면 아래 방법을 적용할 수 있습니다.\n",
        "\n",
        "- `learning_rate` 값을 0.01 ~ 0.1로 낮추고 `num_round` 값을 높입니다.\n",
        "\n",
        "- `max_depth` 값을 낮춥니다.\n",
        "\n",
        "- `min_child_weight` 값을 높입니다.\n",
        "\n",
        "- `gamma` 값을 높입니다.\n",
        "\n",
        "- `subsample` 값과 `colsample_bytree` 값을 조정합니다.\n",
        "\n",
        "학습과 예측을 수행하겠습니다. 아울러 이전 챕터에서 선언했던 `get_clf_eval()` 함수를 호출하여 모델의 예측 성능을 평가하겠습니다."
      ],
      "metadata": {
        "id": "A7nv2xNcNVIh"
      }
    },
    {
      "cell_type": "code",
      "source": [
        "xgb_wrapper = XGBClassifier(n_estimators=400, learning_rate=0.1, max_depth=3)\n",
        "xgb_wrapper.fit(X_train, y_train)\n",
        "w_preds = xgb_wrapper.predict(X_test)\n",
        "w_pred_proba = xgb_wrapper.predict_proba(X_test)[:, 1]"
      ],
      "metadata": {
        "id": "DYZjaHAKKDSL"
      },
      "execution_count": null,
      "outputs": []
    },
    {
      "cell_type": "code",
      "source": [
        "from sklearn.metrics import accuracy_score, precision_score, recall_score, roc_auc_score\n",
        "from sklearn.metrics import f1_score, confusion_matrix, precision_recall_curve, roc_curve\n",
        "\n",
        "def get_clf_eval(y_test, pred, pred_proba=None):\n",
        "    confusion = confusion_matrix(y_test, pred)\n",
        "    accuracy = accuracy_score(y_test, pred)\n",
        "    precision = precision_score(y_test, pred)\n",
        "    recall = recall_score(y_test, pred)\n",
        "    f1 = f1_score(y_test, pred)\n",
        "    roc_auc = roc_auc_score(y_test, pred_proba)\n",
        "    print('오차 행렬')\n",
        "    print(confusion)\n",
        "    print('정확도: {:.4f}, 정밀도: {:.4f}, 재현율: {:.4f}, F1: {:.4f},\\\n",
        "    AUC: {:.4f}'.format(accuracy, precision, recall, f1, roc_auc))"
      ],
      "metadata": {
        "id": "4f6W_BjvK9mH"
      },
      "execution_count": null,
      "outputs": []
    },
    {
      "cell_type": "code",
      "source": [
        "get_clf_eval(y_test, w_preds, w_pred_proba)"
      ],
      "metadata": {
        "colab": {
          "base_uri": "https://localhost:8080/"
        },
        "id": "HGxLHjY7KwBI",
        "outputId": "2265af07-eb91-4ed7-8c3d-de9326725993"
      },
      "execution_count": null,
      "outputs": [
        {
          "output_type": "stream",
          "name": "stdout",
          "text": [
            "오차 행렬\n",
            "[[35  2]\n",
            " [ 1 76]]\n",
            "정확도: 0.9737, 정밀도: 0.9744, 재현율: 0.9870, F1: 0.9806,    AUC: 0.9951\n"
          ]
        }
      ]
    },
    {
      "cell_type": "markdown",
      "source": [
        "조기 중단을 수행하려면 `fit()` 메서드가 가진 파라미터에 인자를 지정해야 합니다. 아래는 조기 중단 관련 파라미터 목록입니다.\n",
        "\n",
        "- `early_stopping_rounds`: 평가 지표가 향상될 수 있는 반복 횟수입니다.\n",
        "\n",
        "- `eval_metric`: 조기 중단을 위한 평가 지표입니다.\n",
        "\n",
        "- `eval_set`: 성능 평가를 수행할 데이터 세트입니다.\n",
        "\n",
        "아래 코드에서는 평가를 위한 데이터 세트로 테스트 데이터 세트를 사용합니다. 다만 이는 옳지 않은 방법입니다. 테스트 데이터 세트는 학습 시에는 완전히 알려지지 않은 데이터 세트를 사용해야 합니다. 평가에 테스트 데이터 세트를 사용하면 학습 시에 미리 참고가 되므로 과적합할 수 있습니다. 데이터 세트 크기가 작아서 데스트 데이터를 평가용으로 사용했을 뿐입니다. "
      ],
      "metadata": {
        "id": "Yjq2Ln0AN2FJ"
      }
    },
    {
      "cell_type": "code",
      "source": [
        "xgb_wrapper = XGBClassifier(n_estimators=400, learning_rate=0.1, max_depth=3)\n",
        "evals = [[X_test, y_test]]\n",
        "xgb_wrapper.fit(X_train, y_train, early_stopping_rounds=100, eval_metric='logloss',\n",
        "                eval_set=evals, verbose=True)\n",
        "ws100_preds = xgb_wrapper.predict(X_test)\n",
        "ws100_pred_proba = xgb_wrapper.predict_proba(X_test)[:, 1]"
      ],
      "metadata": {
        "colab": {
          "base_uri": "https://localhost:8080/"
        },
        "id": "LIoWyQqRLh8g",
        "outputId": "ad9fcb82-52f6-46ab-f96c-4e9679cd69b9"
      },
      "execution_count": null,
      "outputs": [
        {
          "output_type": "stream",
          "name": "stdout",
          "text": [
            "[0]\tvalidation_0-logloss:0.61352\n",
            "Will train until validation_0-logloss hasn't improved in 100 rounds.\n",
            "[1]\tvalidation_0-logloss:0.547842\n",
            "[2]\tvalidation_0-logloss:0.494247\n",
            "[3]\tvalidation_0-logloss:0.447986\n",
            "[4]\tvalidation_0-logloss:0.409109\n",
            "[5]\tvalidation_0-logloss:0.374977\n",
            "[6]\tvalidation_0-logloss:0.345714\n",
            "[7]\tvalidation_0-logloss:0.320529\n",
            "[8]\tvalidation_0-logloss:0.29721\n",
            "[9]\tvalidation_0-logloss:0.277991\n",
            "[10]\tvalidation_0-logloss:0.260302\n",
            "[11]\tvalidation_0-logloss:0.246037\n",
            "[12]\tvalidation_0-logloss:0.231556\n",
            "[13]\tvalidation_0-logloss:0.22005\n",
            "[14]\tvalidation_0-logloss:0.208572\n",
            "[15]\tvalidation_0-logloss:0.199993\n",
            "[16]\tvalidation_0-logloss:0.190118\n",
            "[17]\tvalidation_0-logloss:0.181818\n",
            "[18]\tvalidation_0-logloss:0.174729\n",
            "[19]\tvalidation_0-logloss:0.167657\n",
            "[20]\tvalidation_0-logloss:0.158202\n",
            "[21]\tvalidation_0-logloss:0.154725\n",
            "[22]\tvalidation_0-logloss:0.148947\n",
            "[23]\tvalidation_0-logloss:0.143308\n",
            "[24]\tvalidation_0-logloss:0.136344\n",
            "[25]\tvalidation_0-logloss:0.132778\n",
            "[26]\tvalidation_0-logloss:0.127912\n",
            "[27]\tvalidation_0-logloss:0.125263\n",
            "[28]\tvalidation_0-logloss:0.119978\n",
            "[29]\tvalidation_0-logloss:0.116412\n",
            "[30]\tvalidation_0-logloss:0.114502\n",
            "[31]\tvalidation_0-logloss:0.112572\n",
            "[32]\tvalidation_0-logloss:0.11154\n",
            "[33]\tvalidation_0-logloss:0.108681\n",
            "[34]\tvalidation_0-logloss:0.106681\n",
            "[35]\tvalidation_0-logloss:0.104207\n",
            "[36]\tvalidation_0-logloss:0.102962\n",
            "[37]\tvalidation_0-logloss:0.100576\n",
            "[38]\tvalidation_0-logloss:0.098683\n",
            "[39]\tvalidation_0-logloss:0.096444\n",
            "[40]\tvalidation_0-logloss:0.095869\n",
            "[41]\tvalidation_0-logloss:0.094242\n",
            "[42]\tvalidation_0-logloss:0.094715\n",
            "[43]\tvalidation_0-logloss:0.094272\n",
            "[44]\tvalidation_0-logloss:0.093894\n",
            "[45]\tvalidation_0-logloss:0.094184\n",
            "[46]\tvalidation_0-logloss:0.09402\n",
            "[47]\tvalidation_0-logloss:0.09236\n",
            "[48]\tvalidation_0-logloss:0.093012\n",
            "[49]\tvalidation_0-logloss:0.091272\n",
            "[50]\tvalidation_0-logloss:0.090051\n",
            "[51]\tvalidation_0-logloss:0.089605\n",
            "[52]\tvalidation_0-logloss:0.089577\n",
            "[53]\tvalidation_0-logloss:0.090703\n",
            "[54]\tvalidation_0-logloss:0.089579\n",
            "[55]\tvalidation_0-logloss:0.090357\n",
            "[56]\tvalidation_0-logloss:0.091587\n",
            "[57]\tvalidation_0-logloss:0.091527\n",
            "[58]\tvalidation_0-logloss:0.091986\n",
            "[59]\tvalidation_0-logloss:0.091951\n",
            "[60]\tvalidation_0-logloss:0.091939\n",
            "[61]\tvalidation_0-logloss:0.091461\n",
            "[62]\tvalidation_0-logloss:0.090311\n",
            "[63]\tvalidation_0-logloss:0.089407\n",
            "[64]\tvalidation_0-logloss:0.089719\n",
            "[65]\tvalidation_0-logloss:0.089743\n",
            "[66]\tvalidation_0-logloss:0.089622\n",
            "[67]\tvalidation_0-logloss:0.088734\n",
            "[68]\tvalidation_0-logloss:0.088621\n",
            "[69]\tvalidation_0-logloss:0.089739\n",
            "[70]\tvalidation_0-logloss:0.089981\n",
            "[71]\tvalidation_0-logloss:0.089782\n",
            "[72]\tvalidation_0-logloss:0.089584\n",
            "[73]\tvalidation_0-logloss:0.089533\n",
            "[74]\tvalidation_0-logloss:0.088748\n",
            "[75]\tvalidation_0-logloss:0.088597\n",
            "[76]\tvalidation_0-logloss:0.08812\n",
            "[77]\tvalidation_0-logloss:0.088396\n",
            "[78]\tvalidation_0-logloss:0.088736\n",
            "[79]\tvalidation_0-logloss:0.088153\n",
            "[80]\tvalidation_0-logloss:0.087577\n",
            "[81]\tvalidation_0-logloss:0.087412\n",
            "[82]\tvalidation_0-logloss:0.08849\n",
            "[83]\tvalidation_0-logloss:0.088575\n",
            "[84]\tvalidation_0-logloss:0.08807\n",
            "[85]\tvalidation_0-logloss:0.087641\n",
            "[86]\tvalidation_0-logloss:0.087416\n",
            "[87]\tvalidation_0-logloss:0.087611\n",
            "[88]\tvalidation_0-logloss:0.087065\n",
            "[89]\tvalidation_0-logloss:0.08727\n",
            "[90]\tvalidation_0-logloss:0.087161\n",
            "[91]\tvalidation_0-logloss:0.086962\n",
            "[92]\tvalidation_0-logloss:0.087166\n",
            "[93]\tvalidation_0-logloss:0.087067\n",
            "[94]\tvalidation_0-logloss:0.086592\n",
            "[95]\tvalidation_0-logloss:0.086116\n",
            "[96]\tvalidation_0-logloss:0.087139\n",
            "[97]\tvalidation_0-logloss:0.086768\n",
            "[98]\tvalidation_0-logloss:0.086694\n",
            "[99]\tvalidation_0-logloss:0.086547\n",
            "[100]\tvalidation_0-logloss:0.086498\n",
            "[101]\tvalidation_0-logloss:0.08641\n",
            "[102]\tvalidation_0-logloss:0.086288\n",
            "[103]\tvalidation_0-logloss:0.086258\n",
            "[104]\tvalidation_0-logloss:0.086835\n",
            "[105]\tvalidation_0-logloss:0.086767\n",
            "[106]\tvalidation_0-logloss:0.087321\n",
            "[107]\tvalidation_0-logloss:0.087304\n",
            "[108]\tvalidation_0-logloss:0.08728\n",
            "[109]\tvalidation_0-logloss:0.087298\n",
            "[110]\tvalidation_0-logloss:0.087289\n",
            "[111]\tvalidation_0-logloss:0.088002\n",
            "[112]\tvalidation_0-logloss:0.087936\n",
            "[113]\tvalidation_0-logloss:0.087843\n",
            "[114]\tvalidation_0-logloss:0.088066\n",
            "[115]\tvalidation_0-logloss:0.087649\n",
            "[116]\tvalidation_0-logloss:0.087298\n",
            "[117]\tvalidation_0-logloss:0.087799\n",
            "[118]\tvalidation_0-logloss:0.087751\n",
            "[119]\tvalidation_0-logloss:0.08768\n",
            "[120]\tvalidation_0-logloss:0.087626\n",
            "[121]\tvalidation_0-logloss:0.08757\n",
            "[122]\tvalidation_0-logloss:0.087547\n",
            "[123]\tvalidation_0-logloss:0.087156\n",
            "[124]\tvalidation_0-logloss:0.08767\n",
            "[125]\tvalidation_0-logloss:0.087737\n",
            "[126]\tvalidation_0-logloss:0.088275\n",
            "[127]\tvalidation_0-logloss:0.088309\n",
            "[128]\tvalidation_0-logloss:0.088266\n",
            "[129]\tvalidation_0-logloss:0.087886\n",
            "[130]\tvalidation_0-logloss:0.088861\n",
            "[131]\tvalidation_0-logloss:0.088675\n",
            "[132]\tvalidation_0-logloss:0.088743\n",
            "[133]\tvalidation_0-logloss:0.089218\n",
            "[134]\tvalidation_0-logloss:0.089179\n",
            "[135]\tvalidation_0-logloss:0.088821\n",
            "[136]\tvalidation_0-logloss:0.088512\n",
            "[137]\tvalidation_0-logloss:0.08848\n",
            "[138]\tvalidation_0-logloss:0.088386\n",
            "[139]\tvalidation_0-logloss:0.089145\n",
            "[140]\tvalidation_0-logloss:0.08911\n",
            "[141]\tvalidation_0-logloss:0.088765\n",
            "[142]\tvalidation_0-logloss:0.088678\n",
            "[143]\tvalidation_0-logloss:0.088389\n",
            "[144]\tvalidation_0-logloss:0.089271\n",
            "[145]\tvalidation_0-logloss:0.089238\n",
            "[146]\tvalidation_0-logloss:0.089139\n",
            "[147]\tvalidation_0-logloss:0.088907\n",
            "[148]\tvalidation_0-logloss:0.089416\n",
            "[149]\tvalidation_0-logloss:0.089388\n",
            "[150]\tvalidation_0-logloss:0.089108\n",
            "[151]\tvalidation_0-logloss:0.088735\n",
            "[152]\tvalidation_0-logloss:0.088717\n",
            "[153]\tvalidation_0-logloss:0.088484\n",
            "[154]\tvalidation_0-logloss:0.088471\n",
            "[155]\tvalidation_0-logloss:0.088545\n",
            "[156]\tvalidation_0-logloss:0.088521\n",
            "[157]\tvalidation_0-logloss:0.088547\n",
            "[158]\tvalidation_0-logloss:0.088275\n",
            "[159]\tvalidation_0-logloss:0.0883\n",
            "[160]\tvalidation_0-logloss:0.08828\n",
            "[161]\tvalidation_0-logloss:0.088013\n",
            "[162]\tvalidation_0-logloss:0.087758\n",
            "[163]\tvalidation_0-logloss:0.087784\n",
            "[164]\tvalidation_0-logloss:0.087777\n",
            "[165]\tvalidation_0-logloss:0.087517\n",
            "[166]\tvalidation_0-logloss:0.087542\n",
            "[167]\tvalidation_0-logloss:0.087642\n",
            "[168]\tvalidation_0-logloss:0.08739\n",
            "[169]\tvalidation_0-logloss:0.087377\n",
            "[170]\tvalidation_0-logloss:0.087298\n",
            "[171]\tvalidation_0-logloss:0.087368\n",
            "[172]\tvalidation_0-logloss:0.087395\n",
            "[173]\tvalidation_0-logloss:0.087385\n",
            "[174]\tvalidation_0-logloss:0.087132\n",
            "[175]\tvalidation_0-logloss:0.087159\n",
            "[176]\tvalidation_0-logloss:0.086955\n",
            "[177]\tvalidation_0-logloss:0.087053\n",
            "[178]\tvalidation_0-logloss:0.08697\n",
            "[179]\tvalidation_0-logloss:0.086973\n",
            "[180]\tvalidation_0-logloss:0.087038\n",
            "[181]\tvalidation_0-logloss:0.086799\n",
            "[182]\tvalidation_0-logloss:0.086826\n",
            "[183]\tvalidation_0-logloss:0.086582\n",
            "[184]\tvalidation_0-logloss:0.086588\n",
            "[185]\tvalidation_0-logloss:0.086614\n",
            "[186]\tvalidation_0-logloss:0.086372\n",
            "[187]\tvalidation_0-logloss:0.086369\n",
            "[188]\tvalidation_0-logloss:0.086297\n",
            "[189]\tvalidation_0-logloss:0.086104\n",
            "[190]\tvalidation_0-logloss:0.086023\n",
            "[191]\tvalidation_0-logloss:0.08605\n",
            "[192]\tvalidation_0-logloss:0.086149\n",
            "[193]\tvalidation_0-logloss:0.085916\n",
            "[194]\tvalidation_0-logloss:0.085915\n",
            "[195]\tvalidation_0-logloss:0.085984\n",
            "[196]\tvalidation_0-logloss:0.086012\n",
            "[197]\tvalidation_0-logloss:0.085922\n",
            "[198]\tvalidation_0-logloss:0.085853\n",
            "[199]\tvalidation_0-logloss:0.085874\n",
            "[200]\tvalidation_0-logloss:0.085888\n",
            "[201]\tvalidation_0-logloss:0.08595\n",
            "[202]\tvalidation_0-logloss:0.08573\n",
            "[203]\tvalidation_0-logloss:0.08573\n",
            "[204]\tvalidation_0-logloss:0.085753\n",
            "[205]\tvalidation_0-logloss:0.085821\n",
            "[206]\tvalidation_0-logloss:0.08584\n",
            "[207]\tvalidation_0-logloss:0.085776\n",
            "[208]\tvalidation_0-logloss:0.085686\n",
            "[209]\tvalidation_0-logloss:0.08571\n",
            "[210]\tvalidation_0-logloss:0.085806\n",
            "[211]\tvalidation_0-logloss:0.085593\n",
            "[212]\tvalidation_0-logloss:0.085801\n",
            "[213]\tvalidation_0-logloss:0.085806\n",
            "[214]\tvalidation_0-logloss:0.085744\n",
            "[215]\tvalidation_0-logloss:0.085658\n",
            "[216]\tvalidation_0-logloss:0.085843\n",
            "[217]\tvalidation_0-logloss:0.085632\n",
            "[218]\tvalidation_0-logloss:0.085726\n",
            "[219]\tvalidation_0-logloss:0.085783\n",
            "[220]\tvalidation_0-logloss:0.085791\n",
            "[221]\tvalidation_0-logloss:0.085817\n",
            "[222]\tvalidation_0-logloss:0.085757\n",
            "[223]\tvalidation_0-logloss:0.085674\n",
            "[224]\tvalidation_0-logloss:0.08586\n",
            "[225]\tvalidation_0-logloss:0.085871\n",
            "[226]\tvalidation_0-logloss:0.085927\n",
            "[227]\tvalidation_0-logloss:0.085954\n",
            "[228]\tvalidation_0-logloss:0.085874\n",
            "[229]\tvalidation_0-logloss:0.086057\n",
            "[230]\tvalidation_0-logloss:0.086002\n",
            "[231]\tvalidation_0-logloss:0.085922\n",
            "[232]\tvalidation_0-logloss:0.086102\n",
            "[233]\tvalidation_0-logloss:0.086115\n",
            "[234]\tvalidation_0-logloss:0.086169\n",
            "[235]\tvalidation_0-logloss:0.086263\n",
            "[236]\tvalidation_0-logloss:0.086292\n",
            "[237]\tvalidation_0-logloss:0.086217\n",
            "[238]\tvalidation_0-logloss:0.086395\n",
            "[239]\tvalidation_0-logloss:0.086342\n",
            "[240]\tvalidation_0-logloss:0.08618\n",
            "[241]\tvalidation_0-logloss:0.086195\n",
            "[242]\tvalidation_0-logloss:0.086248\n",
            "[243]\tvalidation_0-logloss:0.086263\n",
            "[244]\tvalidation_0-logloss:0.086293\n",
            "[245]\tvalidation_0-logloss:0.086222\n",
            "[246]\tvalidation_0-logloss:0.086398\n",
            "[247]\tvalidation_0-logloss:0.086347\n",
            "[248]\tvalidation_0-logloss:0.086276\n",
            "[249]\tvalidation_0-logloss:0.086448\n",
            "[250]\tvalidation_0-logloss:0.086294\n",
            "[251]\tvalidation_0-logloss:0.086312\n",
            "[252]\tvalidation_0-logloss:0.086364\n",
            "[253]\tvalidation_0-logloss:0.086394\n",
            "[254]\tvalidation_0-logloss:0.08649\n",
            "[255]\tvalidation_0-logloss:0.086441\n",
            "[256]\tvalidation_0-logloss:0.08629\n",
            "[257]\tvalidation_0-logloss:0.08646\n",
            "[258]\tvalidation_0-logloss:0.086391\n",
            "[259]\tvalidation_0-logloss:0.086441\n",
            "[260]\tvalidation_0-logloss:0.086461\n",
            "[261]\tvalidation_0-logloss:0.086491\n",
            "[262]\tvalidation_0-logloss:0.086445\n",
            "[263]\tvalidation_0-logloss:0.086466\n",
            "[264]\tvalidation_0-logloss:0.086319\n",
            "[265]\tvalidation_0-logloss:0.086488\n",
            "[266]\tvalidation_0-logloss:0.086538\n",
            "[267]\tvalidation_0-logloss:0.086471\n",
            "[268]\tvalidation_0-logloss:0.086501\n",
            "[269]\tvalidation_0-logloss:0.086522\n",
            "[270]\tvalidation_0-logloss:0.086689\n",
            "[271]\tvalidation_0-logloss:0.086738\n",
            "[272]\tvalidation_0-logloss:0.08683\n",
            "[273]\tvalidation_0-logloss:0.086684\n",
            "[274]\tvalidation_0-logloss:0.08664\n",
            "[275]\tvalidation_0-logloss:0.086496\n",
            "[276]\tvalidation_0-logloss:0.086355\n",
            "[277]\tvalidation_0-logloss:0.086519\n",
            "[278]\tvalidation_0-logloss:0.086567\n",
            "[279]\tvalidation_0-logloss:0.08659\n",
            "[280]\tvalidation_0-logloss:0.086679\n",
            "[281]\tvalidation_0-logloss:0.086637\n",
            "[282]\tvalidation_0-logloss:0.086499\n",
            "[283]\tvalidation_0-logloss:0.086356\n",
            "[284]\tvalidation_0-logloss:0.086405\n",
            "[285]\tvalidation_0-logloss:0.086429\n",
            "[286]\tvalidation_0-logloss:0.086456\n",
            "[287]\tvalidation_0-logloss:0.086504\n",
            "[288]\tvalidation_0-logloss:0.08637\n",
            "[289]\tvalidation_0-logloss:0.086457\n",
            "[290]\tvalidation_0-logloss:0.086453\n",
            "[291]\tvalidation_0-logloss:0.086322\n",
            "[292]\tvalidation_0-logloss:0.086284\n",
            "[293]\tvalidation_0-logloss:0.086148\n",
            "[294]\tvalidation_0-logloss:0.086196\n",
            "[295]\tvalidation_0-logloss:0.086221\n",
            "[296]\tvalidation_0-logloss:0.086308\n",
            "[297]\tvalidation_0-logloss:0.086178\n",
            "[298]\tvalidation_0-logloss:0.086263\n",
            "[299]\tvalidation_0-logloss:0.086131\n",
            "[300]\tvalidation_0-logloss:0.086179\n",
            "[301]\tvalidation_0-logloss:0.086052\n",
            "[302]\tvalidation_0-logloss:0.086016\n",
            "[303]\tvalidation_0-logloss:0.086101\n",
            "[304]\tvalidation_0-logloss:0.085977\n",
            "[305]\tvalidation_0-logloss:0.086059\n",
            "[306]\tvalidation_0-logloss:0.085971\n",
            "[307]\tvalidation_0-logloss:0.085998\n",
            "[308]\tvalidation_0-logloss:0.085999\n",
            "[309]\tvalidation_0-logloss:0.085877\n",
            "[310]\tvalidation_0-logloss:0.085923\n",
            "[311]\tvalidation_0-logloss:0.085948\n",
            "Stopping. Best iteration:\n",
            "[211]\tvalidation_0-logloss:0.085593\n",
            "\n"
          ]
        }
      ]
    },
    {
      "cell_type": "markdown",
      "source": [
        "`n_estimators`를 `400`으로 지정하여 400번 반복하게 했지만 311번만 반복하고 학습을 완료했습니다. 211번 반복 시 logloss가 0.085593이고 311번 반복 시 0.085948인데, 211번에서 311번까지 `early_stopping_rounds=100`으로 지정된 100번의 반복 학습을 수행하는 동안 성능 평가 지수가 향상되지 않았기 때문에 반복을 멈춘 것입니다.\n",
        "\n",
        "조기 중단으로 학습된 모델의 예측 성능을 확인하겠습니다."
      ],
      "metadata": {
        "id": "_GWxVrWnPMyQ"
      }
    },
    {
      "cell_type": "code",
      "source": [
        "get_clf_eval(y_test, ws100_preds, ws100_pred_proba)"
      ],
      "metadata": {
        "colab": {
          "base_uri": "https://localhost:8080/"
        },
        "id": "WGHoANCxMRhw",
        "outputId": "ba368a49-300b-489d-ca8e-93aa4111a841"
      },
      "execution_count": null,
      "outputs": [
        {
          "output_type": "stream",
          "name": "stdout",
          "text": [
            "오차 행렬\n",
            "[[34  3]\n",
            " [ 1 76]]\n",
            "정확도: 0.9649, 정밀도: 0.9620, 재현율: 0.9870, F1: 0.9744,    AUC: 0.9954\n"
          ]
        }
      ]
    },
    {
      "cell_type": "markdown",
      "source": [
        "성능이 약간 떨어졌습니다.\n",
        "\n",
        "`early_stopping_rounds` 파라미터의 값을 `10`으로 내려보겠습니다."
      ],
      "metadata": {
        "id": "Xe1kbaabQU4s"
      }
    },
    {
      "cell_type": "code",
      "source": [
        "xgb_wrapper.fit(X_train, y_train, early_stopping_rounds=10, eval_metric='logloss',\n",
        "                eval_set=evals, verbose=True)\n",
        "ws10_preds = xgb_wrapper.predict(X_test)\n",
        "ws10_pred_proba = xgb_wrapper.predict_proba(X_test)[:, 1]"
      ],
      "metadata": {
        "colab": {
          "base_uri": "https://localhost:8080/"
        },
        "id": "cPg-RzPYMZ-X",
        "outputId": "0892011e-48d7-45ee-d039-676553a20964"
      },
      "execution_count": null,
      "outputs": [
        {
          "output_type": "stream",
          "name": "stdout",
          "text": [
            "[0]\tvalidation_0-logloss:0.61352\n",
            "Will train until validation_0-logloss hasn't improved in 10 rounds.\n",
            "[1]\tvalidation_0-logloss:0.547842\n",
            "[2]\tvalidation_0-logloss:0.494247\n",
            "[3]\tvalidation_0-logloss:0.447986\n",
            "[4]\tvalidation_0-logloss:0.409109\n",
            "[5]\tvalidation_0-logloss:0.374977\n",
            "[6]\tvalidation_0-logloss:0.345714\n",
            "[7]\tvalidation_0-logloss:0.320529\n",
            "[8]\tvalidation_0-logloss:0.29721\n",
            "[9]\tvalidation_0-logloss:0.277991\n",
            "[10]\tvalidation_0-logloss:0.260302\n",
            "[11]\tvalidation_0-logloss:0.246037\n",
            "[12]\tvalidation_0-logloss:0.231556\n",
            "[13]\tvalidation_0-logloss:0.22005\n",
            "[14]\tvalidation_0-logloss:0.208572\n",
            "[15]\tvalidation_0-logloss:0.199993\n",
            "[16]\tvalidation_0-logloss:0.190118\n",
            "[17]\tvalidation_0-logloss:0.181818\n",
            "[18]\tvalidation_0-logloss:0.174729\n",
            "[19]\tvalidation_0-logloss:0.167657\n",
            "[20]\tvalidation_0-logloss:0.158202\n",
            "[21]\tvalidation_0-logloss:0.154725\n",
            "[22]\tvalidation_0-logloss:0.148947\n",
            "[23]\tvalidation_0-logloss:0.143308\n",
            "[24]\tvalidation_0-logloss:0.136344\n",
            "[25]\tvalidation_0-logloss:0.132778\n",
            "[26]\tvalidation_0-logloss:0.127912\n",
            "[27]\tvalidation_0-logloss:0.125263\n",
            "[28]\tvalidation_0-logloss:0.119978\n",
            "[29]\tvalidation_0-logloss:0.116412\n",
            "[30]\tvalidation_0-logloss:0.114502\n",
            "[31]\tvalidation_0-logloss:0.112572\n",
            "[32]\tvalidation_0-logloss:0.11154\n",
            "[33]\tvalidation_0-logloss:0.108681\n",
            "[34]\tvalidation_0-logloss:0.106681\n",
            "[35]\tvalidation_0-logloss:0.104207\n",
            "[36]\tvalidation_0-logloss:0.102962\n",
            "[37]\tvalidation_0-logloss:0.100576\n",
            "[38]\tvalidation_0-logloss:0.098683\n",
            "[39]\tvalidation_0-logloss:0.096444\n",
            "[40]\tvalidation_0-logloss:0.095869\n",
            "[41]\tvalidation_0-logloss:0.094242\n",
            "[42]\tvalidation_0-logloss:0.094715\n",
            "[43]\tvalidation_0-logloss:0.094272\n",
            "[44]\tvalidation_0-logloss:0.093894\n",
            "[45]\tvalidation_0-logloss:0.094184\n",
            "[46]\tvalidation_0-logloss:0.09402\n",
            "[47]\tvalidation_0-logloss:0.09236\n",
            "[48]\tvalidation_0-logloss:0.093012\n",
            "[49]\tvalidation_0-logloss:0.091272\n",
            "[50]\tvalidation_0-logloss:0.090051\n",
            "[51]\tvalidation_0-logloss:0.089605\n",
            "[52]\tvalidation_0-logloss:0.089577\n",
            "[53]\tvalidation_0-logloss:0.090703\n",
            "[54]\tvalidation_0-logloss:0.089579\n",
            "[55]\tvalidation_0-logloss:0.090357\n",
            "[56]\tvalidation_0-logloss:0.091587\n",
            "[57]\tvalidation_0-logloss:0.091527\n",
            "[58]\tvalidation_0-logloss:0.091986\n",
            "[59]\tvalidation_0-logloss:0.091951\n",
            "[60]\tvalidation_0-logloss:0.091939\n",
            "[61]\tvalidation_0-logloss:0.091461\n",
            "[62]\tvalidation_0-logloss:0.090311\n",
            "Stopping. Best iteration:\n",
            "[52]\tvalidation_0-logloss:0.089577\n",
            "\n"
          ]
        }
      ]
    },
    {
      "cell_type": "markdown",
      "source": [
        "조기 중단으로 학습된 모델의 예측 성능을 확인하겠습니다."
      ],
      "metadata": {
        "id": "6tkBGIl7Q6oI"
      }
    },
    {
      "cell_type": "code",
      "source": [
        "get_clf_eval(y_test, ws10_preds, ws10_pred_proba)"
      ],
      "metadata": {
        "colab": {
          "base_uri": "https://localhost:8080/"
        },
        "id": "GH9IZ4JyMoxk",
        "outputId": "ed568ad6-24e9-421a-8f40-aa97227c0979"
      },
      "execution_count": null,
      "outputs": [
        {
          "output_type": "stream",
          "name": "stdout",
          "text": [
            "오차 행렬\n",
            "[[34  3]\n",
            " [ 2 75]]\n",
            "정확도: 0.9561, 정밀도: 0.9615, 재현율: 0.9740, F1: 0.9677,    AUC: 0.9947\n"
          ]
        }
      ]
    },
    {
      "cell_type": "markdown",
      "source": [
        "성능이 더 떨어졌습니다. 이처럼 조기 중단값을 급격하게 줄이면 예측 성능이 저하될 수 있습니다. 성능이 향상될 여지가 있지만 10번 반복하는 동안 성능 평가 지표가 향상되지 않아서 반복을 멈추고 학습을 충분하게 수행하지 못하여 예측 성능이 저하되는 것입니다.\n",
        "\n",
        "`plot_importance()` 메서드를 사용하여 피처 중요도를 시각화해보겠습니다."
      ],
      "metadata": {
        "id": "HZID0Ke2Q2ax"
      }
    },
    {
      "cell_type": "code",
      "source": [
        "from xgboost import plot_importance\n",
        "import matplotlib.pyplot as plt\n",
        "%matplotlib inline\n",
        "\n",
        "fig, ax = plt.subplots(figsize=(10, 12))\n",
        "plot_importance(xgb_wrapper, ax=ax)\n",
        "plt.show()"
      ],
      "metadata": {
        "colab": {
          "base_uri": "https://localhost:8080/",
          "height": 730
        },
        "id": "UvjeWe3bMsLL",
        "outputId": "b5b6c468-5327-4cda-c750-5d446ebadef0"
      },
      "execution_count": null,
      "outputs": [
        {
          "output_type": "display_data",
          "data": {
            "image/png": "[encoded data removed]",
            "text/plain": [
              "<Figure size 720x864 with 1 Axes>"
            ]
          },
          "metadata": {
            "needs_background": "light"
          }
        }
      ]
    },
    {
      "cell_type": "markdown",
      "source": [
        "'f0'이 첫 번째 피처, 'f1'이 두 번째 피처입니다. 기본 평가 지표는 f1 스코어를 기반으로 합니다."
      ],
      "metadata": {
        "id": "5S9exANYWWoL"
      }
    },
    {
      "cell_type": "markdown",
      "source": [
        "# **7. LightGBM**"
      ],
      "metadata": {
        "id": "bPG8c5fDcB73"
      }
    },
    {
      "cell_type": "markdown",
      "source": [
        "**LightGBM**은 각광을 받고 있는 부스팅 계열 알고리즘입니다. XGBoost보다 학습 시간과 예측 시간이 빠르고 더 작은 메모리를 사용합니다. 아울러 원-핫 인코딩 등을 사용하지 않고도 카테고리형 피처를 최적으로 변환하고 노드를 분할합니다. 대용량 데이터에 대한 뛰어난 예측 성능을 발휘하고 병렬 컴퓨팅 기능과 GPU를 제공합니다. 다만 일반적으로 10,000건 이하의 적은 데이터 세트에 적용하면 과적합이 발생하기 쉽습니다.\n",
        "\n",
        "LightGBM은 일반 GBM 계열의 트리 분할 방법인 **균형 트리 분할(Level Wise)**과 달리 **리프 중심 트리 분할(Leaf Wise)** 방식을 사용합니다. 균형 트리 분할은 최대한 균형 잡힌 트리를 유지하면서 분할하므로 트리 깊이를 최소화할 수 있습니다. 균형 잡힌 트리는 오버피팅에 더 강하지만 시간이 오래 걸립니다. 반면 LightGBM이 사용하는 리프 중심 트리 분할은 트리 균형을 맞추지 않고 **최대 손실 값(max delta loss)**을 가지는 리프 노드를 지속적으로 분할하면서 비대칭하고 깊이가 깊은 트리를 만듭니다. 학습을 반복할수록 균형 트리 분할 방식보다 예측 오류 손실을 최소화할 수 있습니다."
      ],
      "metadata": {
        "id": "9Ty1cR2OoouI"
      }
    },
    {
      "cell_type": "markdown",
      "source": [
        "## **7.1. LightGBM 설치**"
      ],
      "metadata": {
        "id": "nEaRwjM5cB4z"
      }
    },
    {
      "cell_type": "markdown",
      "source": [
        "생략합니다."
      ],
      "metadata": {
        "id": "wZC41CHTok_D"
      }
    },
    {
      "cell_type": "markdown",
      "source": [
        "## **7.2. LightGBM 하이퍼 파라미터**"
      ],
      "metadata": {
        "id": "3FNuWZ-5cB2T"
      }
    },
    {
      "cell_type": "code",
      "source": [
        "from lightgbm import LGBMClassifier\n",
        "\n",
        "help(LGBMClassifier)"
      ],
      "metadata": {
        "colab": {
          "base_uri": "https://localhost:8080/"
        },
        "id": "4EIB9iRby9mr",
        "outputId": "0b304b1d-15d7-4041-c162-18d824fbbc65"
      },
      "execution_count": 6,
      "outputs": [
        {
          "output_type": "stream",
          "name": "stdout",
          "text": [
            "Help on class LGBMClassifier in module lightgbm.sklearn:\n",
            "\n",
            "class LGBMClassifier(LGBMModel, sklearn.base.ClassifierMixin)\n",
            " |  LGBMClassifier(boosting_type='gbdt', num_leaves=31, max_depth=-1, learning_rate=0.1, n_estimators=100, subsample_for_bin=200000, objective=None, class_weight=None, min_split_gain=0.0, min_child_weight=0.001, min_child_samples=20, subsample=1.0, subsample_freq=0, colsample_bytree=1.0, reg_alpha=0.0, reg_lambda=0.0, random_state=None, n_jobs=-1, silent=True, importance_type='split', **kwargs)\n",
            " |  \n",
            " |  LightGBM classifier.\n",
            " |  \n",
            " |  Method resolution order:\n",
            " |      LGBMClassifier\n",
            " |      LGBMModel\n",
            " |      sklearn.base.BaseEstimator\n",
            " |      sklearn.base.ClassifierMixin\n",
            " |      builtins.object\n",
            " |  \n",
            " |  Methods defined here:\n",
            " |  \n",
            " |  fit(self, X, y, sample_weight=None, init_score=None, eval_set=None, eval_names=None, eval_sample_weight=None, eval_class_weight=None, eval_init_score=None, eval_metric=None, early_stopping_rounds=None, verbose=True, feature_name='auto', categorical_feature='auto', callbacks=None)\n",
            " |      Build a gradient boosting model from the training set (X, y).\n",
            " |      \n",
            " |      Parameters\n",
            " |      ----------\n",
            " |      X : array-like or sparse matrix of shape = [n_samples, n_features]\n",
            " |          Input feature matrix.\n",
            " |      y : array-like of shape = [n_samples]\n",
            " |          The target values (class labels in classification, real numbers in regression).\n",
            " |      sample_weight : array-like of shape = [n_samples] or None, optional (default=None)\n",
            " |          Weights of training data.\n",
            " |      init_score : array-like of shape = [n_samples] or None, optional (default=None)\n",
            " |          Init score of training data.\n",
            " |      group : array-like or None, optional (default=None)\n",
            " |          Group data of training data.\n",
            " |      eval_set : list or None, optional (default=None)\n",
            " |          A list of (X, y) tuple pairs to use as validation sets.\n",
            " |      eval_names : list of strings or None, optional (default=None)\n",
            " |          Names of eval_set.\n",
            " |      eval_sample_weight : list of arrays or None, optional (default=None)\n",
            " |          Weights of eval data.\n",
            " |      eval_class_weight : list or None, optional (default=None)\n",
            " |          Class weights of eval data.\n",
            " |      eval_init_score : list of arrays or None, optional (default=None)\n",
            " |          Init score of eval data.\n",
            " |      eval_group : list of arrays or None, optional (default=None)\n",
            " |          Group data of eval data.\n",
            " |      eval_metric : string, list of strings, callable or None, optional (default=None)\n",
            " |          If string, it should be a built-in evaluation metric to use.\n",
            " |          If callable, it should be a custom evaluation metric, see note below for more details.\n",
            " |          In either case, the ``metric`` from the model parameters will be evaluated and used as well.\n",
            " |          Default: 'l2' for LGBMRegressor, 'logloss' for LGBMClassifier, 'ndcg' for LGBMRanker.\n",
            " |      early_stopping_rounds : int or None, optional (default=None)\n",
            " |          Activates early stopping. The model will train until the validation score stops improving.\n",
            " |          Validation score needs to improve at least every ``early_stopping_rounds`` round(s)\n",
            " |          to continue training.\n",
            " |          Requires at least one validation data and one metric.\n",
            " |          If there's more than one, will check all of them. But the training data is ignored anyway.\n",
            " |      verbose : bool or int, optional (default=True)\n",
            " |          Requires at least one evaluation data.\n",
            " |          If True, the eval metric on the eval set is printed at each boosting stage.\n",
            " |          If int, the eval metric on the eval set is printed at every ``verbose`` boosting stage.\n",
            " |          The last boosting stage or the boosting stage found by using ``early_stopping_rounds`` is also printed.\n",
            " |      \n",
            " |          Example\n",
            " |          -------\n",
            " |          With ``verbose`` = 4 and at least one item in ``eval_set``,\n",
            " |          an evaluation metric is printed every 4 (instead of 1) boosting stages.\n",
            " |      \n",
            " |      feature_name : list of strings or 'auto', optional (default='auto')\n",
            " |          Feature names.\n",
            " |          If 'auto' and data is pandas DataFrame, data columns names are used.\n",
            " |      categorical_feature : list of strings or int, or 'auto', optional (default='auto')\n",
            " |          Categorical features.\n",
            " |          If list of int, interpreted as indices.\n",
            " |          If list of strings, interpreted as feature names (need to specify ``feature_name`` as well).\n",
            " |          If 'auto' and data is pandas DataFrame, pandas categorical columns are used.\n",
            " |          All values in categorical features should be less than int32 max value (2147483647).\n",
            " |          Large values could be memory consuming. Consider using consecutive integers starting from zero.\n",
            " |          All negative values in categorical features will be treated as missing values.\n",
            " |      callbacks : list of callback functions or None, optional (default=None)\n",
            " |          List of callback functions that are applied at each iteration.\n",
            " |          See Callbacks in Python API for more information.\n",
            " |      \n",
            " |      Returns\n",
            " |      -------\n",
            " |      self : object\n",
            " |          Returns self.\n",
            " |      \n",
            " |      Note\n",
            " |      ----\n",
            " |      Custom eval function expects a callable with following signatures:\n",
            " |      ``func(y_true, y_pred)``, ``func(y_true, y_pred, weight)`` or\n",
            " |      ``func(y_true, y_pred, weight, group)``\n",
            " |      and returns (eval_name, eval_result, is_bigger_better) or\n",
            " |      list of (eval_name, eval_result, is_bigger_better):\n",
            " |      \n",
            " |          y_true : array-like of shape = [n_samples]\n",
            " |              The target values.\n",
            " |          y_pred : array-like of shape = [n_samples] or shape = [n_samples * n_classes] (for multi-class task)\n",
            " |              The predicted values.\n",
            " |          weight : array-like of shape = [n_samples]\n",
            " |              The weight of samples.\n",
            " |          group : array-like\n",
            " |              Group/query data, used for ranking task.\n",
            " |          eval_name : string\n",
            " |              The name of evaluation.\n",
            " |          eval_result : float\n",
            " |              The eval result.\n",
            " |          is_bigger_better : bool\n",
            " |              Is eval result bigger better, e.g. AUC is bigger_better.\n",
            " |      \n",
            " |      For multi-class task, the y_pred is group by class_id first, then group by row_id.\n",
            " |      If you want to get i-th row y_pred in j-th class, the access way is y_pred[j * num_data + i].\n",
            " |  \n",
            " |  predict(self, X, raw_score=False, num_iteration=None, pred_leaf=False, pred_contrib=False, **kwargs)\n",
            " |      Return the predicted value for each sample.\n",
            " |      \n",
            " |      Parameters\n",
            " |      ----------\n",
            " |      X : array-like or sparse matrix of shape = [n_samples, n_features]\n",
            " |          Input features matrix.\n",
            " |      raw_score : bool, optional (default=False)\n",
            " |          Whether to predict raw scores.\n",
            " |      num_iteration : int or None, optional (default=None)\n",
            " |          Limit number of iterations in the prediction.\n",
            " |          If None, if the best iteration exists, it is used; otherwise, all trees are used.\n",
            " |          If <= 0, all trees are used (no limits).\n",
            " |      pred_leaf : bool, optional (default=False)\n",
            " |          Whether to predict leaf index.\n",
            " |      pred_contrib : bool, optional (default=False)\n",
            " |          Whether to predict feature contributions.\n",
            " |      \n",
            " |          Note\n",
            " |          ----\n",
            " |          If you want to get more explanation for your model's predictions using SHAP values\n",
            " |          like SHAP interaction values,\n",
            " |          you can install shap package (https://github.com/slundberg/shap).\n",
            " |      \n",
            " |      **kwargs\n",
            " |          Other parameters for the prediction.\n",
            " |      \n",
            " |      Returns\n",
            " |      -------\n",
            " |      predicted_result : array-like of shape = [n_samples] or shape = [n_samples, n_classes]\n",
            " |          The predicted values.\n",
            " |      X_leaves : array-like of shape = [n_samples, n_trees] or shape [n_samples, n_trees * n_classes]\n",
            " |          If ``pred_leaf=True``, the predicted leaf every tree for each sample.\n",
            " |      X_SHAP_values : array-like of shape = [n_samples, n_features + 1] or shape [n_samples, (n_features + 1) * n_classes]\n",
            " |          If ``pred_contrib=True``, the each feature contributions for each sample.\n",
            " |  \n",
            " |  predict_proba(self, X, raw_score=False, num_iteration=None, pred_leaf=False, pred_contrib=False, **kwargs)\n",
            " |      Return the predicted probability for each class for each sample.\n",
            " |      \n",
            " |      Parameters\n",
            " |      ----------\n",
            " |      X : array-like or sparse matrix of shape = [n_samples, n_features]\n",
            " |          Input features matrix.\n",
            " |      raw_score : bool, optional (default=False)\n",
            " |          Whether to predict raw scores.\n",
            " |      num_iteration : int or None, optional (default=None)\n",
            " |          Limit number of iterations in the prediction.\n",
            " |          If None, if the best iteration exists, it is used; otherwise, all trees are used.\n",
            " |          If <= 0, all trees are used (no limits).\n",
            " |      pred_leaf : bool, optional (default=False)\n",
            " |          Whether to predict leaf index.\n",
            " |      pred_contrib : bool, optional (default=False)\n",
            " |          Whether to predict feature contributions.\n",
            " |      \n",
            " |          Note\n",
            " |          ----\n",
            " |          If you want to get more explanation for your model's predictions using SHAP values\n",
            " |          like SHAP interaction values,\n",
            " |          you can install shap package (https://github.com/slundberg/shap).\n",
            " |      \n",
            " |      **kwargs\n",
            " |          Other parameters for the prediction.\n",
            " |      \n",
            " |      Returns\n",
            " |      -------\n",
            " |      predicted_probability : array-like of shape = [n_samples, n_classes]\n",
            " |          The predicted probability for each class for each sample.\n",
            " |      X_leaves : array-like of shape = [n_samples, n_trees * n_classes]\n",
            " |          If ``pred_leaf=True``, the predicted leaf every tree for each sample.\n",
            " |      X_SHAP_values : array-like of shape = [n_samples, (n_features + 1) * n_classes]\n",
            " |          If ``pred_contrib=True``, the each feature contributions for each sample.\n",
            " |  \n",
            " |  ----------------------------------------------------------------------\n",
            " |  Data descriptors defined here:\n",
            " |  \n",
            " |  classes_\n",
            " |      Get the class label array.\n",
            " |  \n",
            " |  n_classes_\n",
            " |      Get the number of classes.\n",
            " |  \n",
            " |  ----------------------------------------------------------------------\n",
            " |  Methods inherited from LGBMModel:\n",
            " |  \n",
            " |  __init__(self, boosting_type='gbdt', num_leaves=31, max_depth=-1, learning_rate=0.1, n_estimators=100, subsample_for_bin=200000, objective=None, class_weight=None, min_split_gain=0.0, min_child_weight=0.001, min_child_samples=20, subsample=1.0, subsample_freq=0, colsample_bytree=1.0, reg_alpha=0.0, reg_lambda=0.0, random_state=None, n_jobs=-1, silent=True, importance_type='split', **kwargs)\n",
            " |      Construct a gradient boosting model.\n",
            " |      \n",
            " |      Parameters\n",
            " |      ----------\n",
            " |      boosting_type : string, optional (default='gbdt')\n",
            " |          'gbdt', traditional Gradient Boosting Decision Tree.\n",
            " |          'dart', Dropouts meet Multiple Additive Regression Trees.\n",
            " |          'goss', Gradient-based One-Side Sampling.\n",
            " |          'rf', Random Forest.\n",
            " |      num_leaves : int, optional (default=31)\n",
            " |          Maximum tree leaves for base learners.\n",
            " |      max_depth : int, optional (default=-1)\n",
            " |          Maximum tree depth for base learners, -1 means no limit.\n",
            " |      learning_rate : float, optional (default=0.1)\n",
            " |          Boosting learning rate.\n",
            " |          You can use ``callbacks`` parameter of ``fit`` method to shrink/adapt learning rate\n",
            " |          in training using ``reset_parameter`` callback.\n",
            " |          Note, that this will ignore the ``learning_rate`` argument in training.\n",
            " |      n_estimators : int, optional (default=100)\n",
            " |          Number of boosted trees to fit.\n",
            " |      subsample_for_bin : int, optional (default=200000)\n",
            " |          Number of samples for constructing bins.\n",
            " |      objective : string, callable or None, optional (default=None)\n",
            " |          Specify the learning task and the corresponding learning objective or\n",
            " |          a custom objective function to be used (see note below).\n",
            " |          Default: 'regression' for LGBMRegressor, 'binary' or 'multiclass' for LGBMClassifier, 'lambdarank' for LGBMRanker.\n",
            " |      class_weight : dict, 'balanced' or None, optional (default=None)\n",
            " |          Weights associated with classes in the form ``{class_label: weight}``.\n",
            " |          Use this parameter only for multi-class classification task;\n",
            " |          for binary classification task you may use ``is_unbalance`` or ``scale_pos_weight`` parameters.\n",
            " |          The 'balanced' mode uses the values of y to automatically adjust weights\n",
            " |          inversely proportional to class frequencies in the input data as ``n_samples / (n_classes * np.bincount(y))``.\n",
            " |          If None, all classes are supposed to have weight one.\n",
            " |          Note, that these weights will be multiplied with ``sample_weight`` (passed through the ``fit`` method)\n",
            " |          if ``sample_weight`` is specified.\n",
            " |      min_split_gain : float, optional (default=0.)\n",
            " |          Minimum loss reduction required to make a further partition on a leaf node of the tree.\n",
            " |      min_child_weight : float, optional (default=1e-3)\n",
            " |          Minimum sum of instance weight (hessian) needed in a child (leaf).\n",
            " |      min_child_samples : int, optional (default=20)\n",
            " |          Minimum number of data needed in a child (leaf).\n",
            " |      subsample : float, optional (default=1.)\n",
            " |          Subsample ratio of the training instance.\n",
            " |      subsample_freq : int, optional (default=0)\n",
            " |          Frequence of subsample, <=0 means no enable.\n",
            " |      colsample_bytree : float, optional (default=1.)\n",
            " |          Subsample ratio of columns when constructing each tree.\n",
            " |      reg_alpha : float, optional (default=0.)\n",
            " |          L1 regularization term on weights.\n",
            " |      reg_lambda : float, optional (default=0.)\n",
            " |          L2 regularization term on weights.\n",
            " |      random_state : int or None, optional (default=None)\n",
            " |          Random number seed.\n",
            " |          If None, default seeds in C++ code will be used.\n",
            " |      n_jobs : int, optional (default=-1)\n",
            " |          Number of parallel threads.\n",
            " |      silent : bool, optional (default=True)\n",
            " |          Whether to print messages while running boosting.\n",
            " |      importance_type : string, optional (default='split')\n",
            " |          The type of feature importance to be filled into ``feature_importances_``.\n",
            " |          If 'split', result contains numbers of times the feature is used in a model.\n",
            " |          If 'gain', result contains total gains of splits which use the feature.\n",
            " |      **kwargs\n",
            " |          Other parameters for the model.\n",
            " |          Check http://lightgbm.readthedocs.io/en/latest/Parameters.html for more parameters.\n",
            " |      \n",
            " |          Note\n",
            " |          ----\n",
            " |          \\*\\*kwargs is not supported in sklearn, it may cause unexpected issues.\n",
            " |      \n",
            " |      Attributes\n",
            " |      ----------\n",
            " |      n_features_ : int\n",
            " |          The number of features of fitted model.\n",
            " |      classes_ : array of shape = [n_classes]\n",
            " |          The class label array (only for classification problem).\n",
            " |      n_classes_ : int\n",
            " |          The number of classes (only for classification problem).\n",
            " |      best_score_ : dict or None\n",
            " |          The best score of fitted model.\n",
            " |      best_iteration_ : int or None\n",
            " |          The best iteration of fitted model if ``early_stopping_rounds`` has been specified.\n",
            " |      objective_ : string or callable\n",
            " |          The concrete objective used while fitting this model.\n",
            " |      booster_ : Booster\n",
            " |          The underlying Booster of this model.\n",
            " |      evals_result_ : dict or None\n",
            " |          The evaluation results if ``early_stopping_rounds`` has been specified.\n",
            " |      feature_importances_ : array of shape = [n_features]\n",
            " |          The feature importances (the higher, the more important the feature).\n",
            " |      \n",
            " |      Note\n",
            " |      ----\n",
            " |      A custom objective function can be provided for the ``objective`` parameter.\n",
            " |      In this case, it should have the signature\n",
            " |      ``objective(y_true, y_pred) -> grad, hess`` or\n",
            " |      ``objective(y_true, y_pred, group) -> grad, hess``:\n",
            " |      \n",
            " |          y_true : array-like of shape = [n_samples]\n",
            " |              The target values.\n",
            " |          y_pred : array-like of shape = [n_samples] or shape = [n_samples * n_classes] (for multi-class task)\n",
            " |              The predicted values.\n",
            " |          group : array-like\n",
            " |              Group/query data, used for ranking task.\n",
            " |          grad : array-like of shape = [n_samples] or shape = [n_samples * n_classes] (for multi-class task)\n",
            " |              The value of the gradient for each sample point.\n",
            " |          hess : array-like of shape = [n_samples] or shape = [n_samples * n_classes] (for multi-class task)\n",
            " |              The value of the second derivative for each sample point.\n",
            " |      \n",
            " |      For multi-class task, the y_pred is group by class_id first, then group by row_id.\n",
            " |      If you want to get i-th row y_pred in j-th class, the access way is y_pred[j * num_data + i]\n",
            " |      and you should group grad and hess in this way as well.\n",
            " |  \n",
            " |  get_params(self, deep=True)\n",
            " |      Get parameters for this estimator.\n",
            " |      \n",
            " |      Parameters\n",
            " |      ----------\n",
            " |      deep : bool, optional (default=True)\n",
            " |          If True, will return the parameters for this estimator and\n",
            " |          contained subobjects that are estimators.\n",
            " |      \n",
            " |      Returns\n",
            " |      -------\n",
            " |      params : dict\n",
            " |          Parameter names mapped to their values.\n",
            " |  \n",
            " |  set_params(self, **params)\n",
            " |      Set the parameters of this estimator.\n",
            " |      \n",
            " |      Parameters\n",
            " |      ----------\n",
            " |      **params\n",
            " |          Parameter names with their new values.\n",
            " |      \n",
            " |      Returns\n",
            " |      -------\n",
            " |      self : object\n",
            " |          Returns self.\n",
            " |  \n",
            " |  ----------------------------------------------------------------------\n",
            " |  Data descriptors inherited from LGBMModel:\n",
            " |  \n",
            " |  best_iteration_\n",
            " |      Get the best iteration of fitted model.\n",
            " |  \n",
            " |  best_score_\n",
            " |      Get the best score of fitted model.\n",
            " |  \n",
            " |  booster_\n",
            " |      Get the underlying lightgbm Booster of this model.\n",
            " |  \n",
            " |  evals_result_\n",
            " |      Get the evaluation results.\n",
            " |  \n",
            " |  feature_importances_\n",
            " |      Get feature importances.\n",
            " |      \n",
            " |      Note\n",
            " |      ----\n",
            " |      Feature importance in sklearn interface used to normalize to 1,\n",
            " |      it's deprecated after 2.0.4 and is the same as Booster.feature_importance() now.\n",
            " |      ``importance_type`` attribute is passed to the function\n",
            " |      to configure the type of importance values to be extracted.\n",
            " |  \n",
            " |  n_features_\n",
            " |      Get the number of features of fitted model.\n",
            " |  \n",
            " |  objective_\n",
            " |      Get the concrete objective used while fitting this model.\n",
            " |  \n",
            " |  ----------------------------------------------------------------------\n",
            " |  Methods inherited from sklearn.base.BaseEstimator:\n",
            " |  \n",
            " |  __getstate__(self)\n",
            " |  \n",
            " |  __repr__(self, N_CHAR_MAX=700)\n",
            " |      Return repr(self).\n",
            " |  \n",
            " |  __setstate__(self, state)\n",
            " |  \n",
            " |  ----------------------------------------------------------------------\n",
            " |  Data descriptors inherited from sklearn.base.BaseEstimator:\n",
            " |  \n",
            " |  __dict__\n",
            " |      dictionary for instance variables (if defined)\n",
            " |  \n",
            " |  __weakref__\n",
            " |      list of weak references to the object (if defined)\n",
            " |  \n",
            " |  ----------------------------------------------------------------------\n",
            " |  Methods inherited from sklearn.base.ClassifierMixin:\n",
            " |  \n",
            " |  score(self, X, y, sample_weight=None)\n",
            " |      Return the mean accuracy on the given test data and labels.\n",
            " |      \n",
            " |      In multi-label classification, this is the subset accuracy\n",
            " |      which is a harsh metric since you require for each sample that\n",
            " |      each label set be correctly predicted.\n",
            " |      \n",
            " |      Parameters\n",
            " |      ----------\n",
            " |      X : array-like of shape (n_samples, n_features)\n",
            " |          Test samples.\n",
            " |      \n",
            " |      y : array-like of shape (n_samples,) or (n_samples, n_outputs)\n",
            " |          True labels for `X`.\n",
            " |      \n",
            " |      sample_weight : array-like of shape (n_samples,), default=None\n",
            " |          Sample weights.\n",
            " |      \n",
            " |      Returns\n",
            " |      -------\n",
            " |      score : float\n",
            " |          Mean accuracy of ``self.predict(X)`` wrt. `y`.\n",
            "\n"
          ]
        }
      ]
    },
    {
      "cell_type": "markdown",
      "source": [
        "LightGBM의 하이퍼 파라미터는 XGBoost와 비슷합니다. 다만 LightGBM은 리프 노드가 계속 분할되면서 트리가 깊어지므로 하이퍼 파라미터를 조금 다르게 지정해야 합니다. 에컨대 `max_depth` 값이 매우 큽니다. 파라미터 목록은 아래와 같습니다.\n",
        "\n",
        "- 주요 파라미터\n",
        "\n",
        " - `n_estimators`: 반복 수행하려는 트리 개수입니다. 크게 지정하면 예측 성능이 높을 수 있지만 지나치면 과적합이 발생합니다. 디폴트는 `100`입니다.\n",
        "\n",
        " - `learning rate`: 부스팅 스텝을 반복적으로 수행할 때 업데이트되는 학습률이며 0 ~ 1 사잇값입니다. 일반적으로 `n_estimators`를 크게 하고 `learning rate`를 작게 하면 예측 성능이 향상되지만 과적합 되거나 학습 시간이 오래 걸립니다. XGBoost과 동일한 파라미터입니다. 디폴트는 `0.1`입니다.\n",
        "\n",
        " - `max_depth`: 트리 기반 알고리즘과 같습니다. 0보다 작은 값을 지정하면 깊이에 제한이 없습니다. 디폴트는 `-1`입니다.\n",
        "\n",
        " - `min_child_samples`: 최종 결정 클래스인 리프 노드가 되기 위해 최소한으로 필요한 레코드 수이며 결정 트리의 `min_samples_leaf`와 같습니다. 과적합을 제어하는 데 쓰입니다. 디폴트는 `20`입니다.\n",
        "\n",
        " - `num_leaves`: 트리 하나가 가질 수 있는 최대 리프 개수입니다. 디폴트는 `31`입니다.\n",
        "\n",
        " - `boosting`: 부스팅 트리를 생성하는 알고리즘을 기술합니다. 지정할 수 있는 값은 아래 2가지입니다.\n",
        "\n",
        "   - `gbdt`: 일반적인 그레이디언트 부스팅 결정 트리이며 디폴트입니다.\n",
        "\n",
        "   - `rf`: 랜덤 포레스트입니다.\n",
        "\n",
        " - `subsample`: 트리가 커져서 과적합되는 것을 제어하기 위해 데이터를 샘플링하는 비율입니다. XGBoost와 동일합니다.\n",
        "\n",
        " - `colsample_bytree`: 개별 트리를 학습할 때마다 무작위로 선택하는 피처의 비율입니다. 과적합 방지에 사용됩니다. GBM의 `max_features`와 유사하고 XGBoost의 `colsample_bytree`와 동일합니다. 디폴트는 `\n",
        "\n",
        " - `reg_lambda`: L2 규제 제어를 위한 값입니다. XGBoost와 동일합니다. 디폴트는 `0.0`입니다.\n",
        "\n",
        " - `reg_alpha`: L1 규제 제어를 위한 값입니다. XGBoost와 동일합니다. 디폴트는 `0.0`입니다.\n",
        "\n",
        "- 학습 태스크 파라미터\n",
        "\n",
        " - `objective`: 최솟값을 가져야 할 손실함수입니다. XGBoost와 같습니다."
      ],
      "metadata": {
        "id": "g18BW_s4r4tv"
      }
    },
    {
      "cell_type": "markdown",
      "source": [
        "## **7.3. 하이퍼 파라미터 튜닝 방안**"
      ],
      "metadata": {
        "id": "q2R78lTXcBzl"
      }
    },
    {
      "cell_type": "markdown",
      "source": [
        "\n",
        "\n",
        "---\n",
        "\n",
        "휴식 중\n",
        "\n",
        "---\n",
        "\n"
      ],
      "metadata": {
        "id": "H60Jpozn0etr"
      }
    },
    {
      "cell_type": "markdown",
      "source": [
        "## **7.4. 파이썬 래퍼 LightGBM과 사이킷런 래퍼 XGBoost, LightGBM 하이퍼 파라미터 비교**"
      ],
      "metadata": {
        "id": "QcNDmQHycBw5"
      }
    },
    {
      "cell_type": "markdown",
      "source": [
        "생략합니다."
      ],
      "metadata": {
        "id": "4w-6O0rnohRD"
      }
    },
    {
      "cell_type": "markdown",
      "source": [
        "## **7.5. LightGBM 적용 - 위스콘신 유방암 예측**"
      ],
      "metadata": {
        "id": "Ro7xeqcCbIrM"
      }
    },
    {
      "cell_type": "markdown",
      "source": [
        "# **8. 분류 실습 - 캐글 산탄데르 고객 만족 예측**"
      ],
      "metadata": {
        "id": "5w3bEDEobIoq"
      }
    },
    {
      "cell_type": "markdown",
      "source": [
        "## **8.1. 데이터 전처리**"
      ],
      "metadata": {
        "id": "RDtLJeNhc6Yo"
      }
    },
    {
      "cell_type": "markdown",
      "source": [
        "## **8.2. XGBoost 모델 학습과 하이퍼 파라미터 튜닝**"
      ],
      "metadata": {
        "id": "6bSw6czbc6WJ"
      }
    },
    {
      "cell_type": "markdown",
      "source": [
        "## **8.3. LightGBM 모델 학습과 하이퍼 파라미터 튜닝**"
      ],
      "metadata": {
        "id": "Pck-aYLkc6Tk"
      }
    },
    {
      "cell_type": "markdown",
      "source": [
        "# **9. 분류 실습 - 캐글 신용카드 사기 검출**"
      ],
      "metadata": {
        "id": "HpyB_iU5c6Re"
      }
    },
    {
      "cell_type": "markdown",
      "source": [
        "## **9.1. 언더 샘플링과 오버 샘플링의 이해**"
      ],
      "metadata": {
        "id": "vTrvsAhHc6Og"
      }
    },
    {
      "cell_type": "markdown",
      "source": [
        "## **9.2. 데이터 일차 가공 및 모델 학습/예측/평가**"
      ],
      "metadata": {
        "id": "lkRMpXaOc6Lk"
      }
    },
    {
      "cell_type": "markdown",
      "source": [
        "## **9.3. 데이터 분포도 변환 후 모델 학습/예측 평가**"
      ],
      "metadata": {
        "id": "PQPUdzSZdwPJ"
      }
    },
    {
      "cell_type": "markdown",
      "source": [
        "## **9.4. 이상치 데이터 제거 후 모델 학습/예측/평가**"
      ],
      "metadata": {
        "id": "1ItzaqZadwMD"
      }
    },
    {
      "cell_type": "markdown",
      "source": [
        "## **9.5. SMOTE 오버 샘플링 적용 후 모델 학습/예측/평가**"
      ],
      "metadata": {
        "id": "J6n7HdmIdwJa"
      }
    },
    {
      "cell_type": "markdown",
      "source": [
        "# **10. 스태킹 앙상블**"
      ],
      "metadata": {
        "id": "LeEiZ2DgdwHL"
      }
    },
    {
      "cell_type": "markdown",
      "source": [
        "## **10.1. 기본 스태킹 모델**"
      ],
      "metadata": {
        "id": "-1c0frvUdwD6"
      }
    },
    {
      "cell_type": "markdown",
      "source": [
        "## **10.2. CV 세트 기반의 스태킹**"
      ],
      "metadata": {
        "id": "-6WXD3JDdwA8"
      }
    },
    {
      "cell_type": "markdown",
      "source": [
        "# **11. 정리**"
      ],
      "metadata": {
        "id": "8BPEqyaWdv-Y"
      }
    }
  ]
}