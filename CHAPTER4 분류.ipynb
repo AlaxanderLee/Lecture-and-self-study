{
  "nbformat": 4,
  "nbformat_minor": 0,
  "metadata": {
    "colab": {
      "name": "CHAPTER4 분류.ipynb",
      "provenance": [],
      "toc_visible": true,
      "collapsed_sections": [],
      "authorship_tag": "ABX9TyO9LJts8s0Md7jpSwmM6Euu",
      "include_colab_link": true
    },
    "kernelspec": {
      "name": "python3",
      "display_name": "Python 3"
    },
    "language_info": {
      "name": "python"
    }
  },
  "cells": [
    {
      "cell_type": "markdown",
      "metadata": {
        "id": "view-in-github",
        "colab_type": "text"
      },
      "source": [
        "<a href=\"https://colab.research.google.com/github/LeeSeungwon89/Machine-learning_Theory/blob/master/CHAPTER4%20%EB%B6%84%EB%A5%98.ipynb\" target=\"_parent\"><img src=\"https://colab.research.google.com/assets/colab-badge.svg\" alt=\"Open In Colab\"/></a>"
      ]
    },
    {
      "cell_type": "markdown",
      "source": [
        "# **1. 분류(classification)의 개요**"
      ],
      "metadata": {
        "id": "L6blTcamZ7UE"
      }
    },
    {
      "cell_type": "markdown",
      "source": [
        "앙상블을 주로 다루는 챕터입니다. 앙상블은 정형 데이터의 예측 분석 영역에서 매우 좋은 예측 성능을 발휘합니다. 대부분 동일한 알고리즘을 결합하며, 기본 알고리즘으로 사용하는 것은 결정 트리입니다."
      ],
      "metadata": {
        "id": "jl5ih4rHGMpE"
      }
    },
    {
      "cell_type": "markdown",
      "source": [
        "# **2. 결정 트리**"
      ],
      "metadata": {
        "id": "8LuLY558Z7Rp"
      }
    },
    {
      "cell_type": "markdown",
      "source": [
        "결정 노드는 정보 균일도가 높은 데이터 세트를 먼저 선택할 수 있도록 규칙 조건을 만듭니다. 정보 균일도가 데이터 세트로 쪼개질 수 있도록 조건을 찾아 서브 데이터 세트를 만들고, 다시 이 서브 데이터 세트에서 균일도가 높은 자식 데이터 세트를 쪼개는 방식을 자식 트리로 내려가면서 반복하는 방식으로 데이터 값을 예측합니다. 쉽게 예측할 수 있는 조건을 찾아서 분류하는 것이 가장 효율적이기 때문입니다.\n",
        "\n",
        "이러한 정보 균일도를 측정하는 대표적 방법은 엔트로피를 이용한 **정보 이득(Information Gain)**과 지니계수입니다.\n",
        "\n",
        "정보 이득은 **엔트로피(주어진 데이터 집합의 혼잡도)**를 기반으로 합니다. 정보 이득 지수는 1에서 엔트로피 지수를 뺀 값입니다. 서로 다른 값이 섞여 있으면 엔트로피가 높고, 같은 값이 섞여 있으면 엔트로피가 낮습니다. \n",
        "\n",
        "지니 계수는 경제학에서 불평등 지수를 나타내는 데 쓰이는 지수입니다. 머신러닝에서는 지니 계수가 낮을수록 데이터 균일도가 높은 것으로 해석하고, 지니 계수가 낮은 속성을 기준으로 분할합니다. 다시 말하면, 데이터 세트를 분할하는 데 가장 좋은 조건은 정보 이득이 높거나 지니 계수가 낮은 조건입니다. `DecisionTreeClassifier` 클래스는 기본적으로 지니 계수를 이용하여 데이터를 분할합니다. "
      ],
      "metadata": {
        "id": "EJxq6ZeiMImi"
      }
    },
    {
      "cell_type": "markdown",
      "source": [
        "## **2.1. 결정 트리 모델의 특징**"
      ],
      "metadata": {
        "id": "Mo5lQ-k_Z7PA"
      }
    },
    {
      "cell_type": "markdown",
      "source": [
        "결정 트리는 정보 균일도가 기반이므로 쉽고 직관적입니다. 대부분의 경우 피처 스케일링과 정규화 같은 전처리 작업도 불필요합니다. 다만 과적합되기 쉬우므로 트리 크기를 제한하면서 성능을 튜닝하는 편이 좋습니다."
      ],
      "metadata": {
        "id": "6Pwczlw8XXyb"
      }
    },
    {
      "cell_type": "markdown",
      "source": [
        "## **2.2. 결정 트리 파라미터**"
      ],
      "metadata": {
        "id": "aPgGOGUBZ7Mh"
      }
    },
    {
      "cell_type": "markdown",
      "source": [
        "- `min_samples_split`: 노드를 분할하기 위한 최소한의 샘플 데이터 수를 지정하는 파라미터(매개변수)입니다. 과적합 제어에 사용하며, 디폴트는 `2`이고, 작게 지정할수록 분할되는 노드가 많아져서 과적합되기 쉽습니다. \n",
        "\n",
        "- `min_samples_leaf`: 리프 노드가 되기 위한 최소한의 샘플 데이터 수를 지정하는 파라미터입니다. 과적합 제어에 사용하며, 비대칭적인 데이터의 경우 특정 클래스의 데이터가 작을 수 있으므로 숫자를 작게 지정할 필요가 있습니다. \n",
        "\n",
        "- `max_features`: 최적 분할을 위해 고려할 최대 피처 개수를 지정하는 파라미터입니다. 디폴트는 `None`이며 모든 피처를 사용하여 분할합니다. `int`는 대상 피처의 개수, `float`는 전체 피처 중 대상 피처의 퍼센트, `sqrt`는 $\\sqrt{전체 피처 개수}$, `auto`는 `sqrt`와 동일하고, `log`는 전체 피처 중 $log2(전체 피처 개수)$입니다.\n",
        "\n",
        "- `max_depth`: 트리의 최대 깊이를 지정하는 매개변수입니다. 디폴트는 `None`이며 클래스 결정값이 될 때까지 깊이를 키워서 분할하거나 노드가 가지는 데이터 수가 `min_samples_leaf`보다 작아질 때까지 깊이를 키웁니다.\n",
        "\n",
        "- `max_leaf_nodes`: 리프 노드의 최대 개수를 지정하는 파라미터입니다."
      ],
      "metadata": {
        "id": "PjBUsNZ7b8XJ"
      }
    },
    {
      "cell_type": "markdown",
      "source": [
        "## **2.3. 결정 트리 모델의 시각화**"
      ],
      "metadata": {
        "id": "wUWCJxQlZ7J6"
      }
    },
    {
      "cell_type": "markdown",
      "source": [
        "붓꽃 데이터 세트를 시각화해보겠습니다. 먼저 학습을 수행합니다."
      ],
      "metadata": {
        "id": "bae7OLw4m7xK"
      }
    },
    {
      "cell_type": "code",
      "source": [
        "from sklearn.tree import DecisionTreeClassifier\n",
        "from sklearn.datasets import load_iris\n",
        "from sklearn.model_selection import train_test_split\n",
        "import warnings\n",
        "warnings.filterwarnings('ignore')\n",
        "\n",
        "dt_clf = DecisionTreeClassifier(random_state=156)\n",
        "iris_data = load_iris()\n",
        "X_train, X_test, y_train, y_test = train_test_split(\n",
        "    iris_data.data, iris_data.target, test_size=0.2, random_state=11)\n",
        "dt_clf.fit(X_train, y_train)"
      ],
      "metadata": {
        "colab": {
          "base_uri": "https://localhost:8080/"
        },
        "id": "fCelBg--fCo5",
        "outputId": "a6f1485f-efc5-45f2-c5a6-897c55fb0e19"
      },
      "execution_count": 1,
      "outputs": [
        {
          "output_type": "execute_result",
          "data": {
            "text/plain": [
              "DecisionTreeClassifier(random_state=156)"
            ]
          },
          "metadata": {},
          "execution_count": 1
        }
      ]
    },
    {
      "cell_type": "markdown",
      "source": [
        "`export_graphviz()` 메서드를 호출하여 그래프로 시각화할 출력 파일을 생성하겠습니다."
      ],
      "metadata": {
        "id": "cD919lLfnFVM"
      }
    },
    {
      "cell_type": "code",
      "source": [
        "from sklearn.tree import export_graphviz\n",
        "\n",
        "export_graphviz(dt_clf, out_file='tree.dot', class_names=iris_data.target_names,\\\n",
        "                feature_names = iris_data.feature_names, impurity=True, filled=True)"
      ],
      "metadata": {
        "id": "PvSPYEw9f2PG"
      },
      "execution_count": 2,
      "outputs": []
    },
    {
      "cell_type": "markdown",
      "source": [
        "`graphviz` 패키지를 사용하여 결정 트리를 시각화하겠습니다."
      ],
      "metadata": {
        "id": "LRI94RMHnhef"
      }
    },
    {
      "cell_type": "code",
      "source": [
        "import graphviz\n",
        "\n",
        "with open('tree.dot') as f:\n",
        "    dot_graph = f.read()\n",
        "\n",
        "graphviz.Source(dot_graph)"
      ],
      "metadata": {
        "colab": {
          "base_uri": "https://localhost:8080/",
          "height": 916
        },
        "id": "T9bjoJwpgWQW",
        "outputId": "94a64b04-9a1f-4e12-c1c1-b7fcf80be2ac"
      },
      "execution_count": 3,
      "outputs": [
        {
          "output_type": "execute_result",
          "data": {
            "text/plain": [
              "<graphviz.files.Source at 0x7f75ac6c7dd0>"
            ],
            "image/svg+xml": "<?xml version=\"1.0\" encoding=\"UTF-8\" standalone=\"no\"?>\n<!DOCTYPE svg PUBLIC \"-//W3C//DTD SVG 1.1//EN\"\n \"http://www.w3.org/Graphics/SVG/1.1/DTD/svg11.dtd\">\n<!-- Generated by graphviz version 2.40.1 (20161225.0304)\n -->\n<!-- Title: Tree Pages: 1 -->\n<svg width=\"821pt\" height=\"671pt\"\n viewBox=\"0.00 0.00 820.50 671.00\" xmlns=\"http://www.w3.org/2000/svg\" xmlns:xlink=\"http://www.w3.org/1999/xlink\">\n<g id=\"graph0\" class=\"graph\" transform=\"scale(1 1) rotate(0) translate(4 667)\">\n<title>Tree</title>\n<polygon fill=\"#ffffff\" stroke=\"transparent\" points=\"-4,4 -4,-667 816.5,-667 816.5,4 -4,4\"/>\n<!-- 0 -->\n<g id=\"node1\" class=\"node\">\n<title>0</title>\n<polygon fill=\"#fffdfd\" stroke=\"#000000\" points=\"300,-663 124,-663 124,-580 300,-580 300,-663\"/>\n<text text-anchor=\"middle\" x=\"212\" y=\"-647.8\" font-family=\"Helvetica,sans-Serif\" font-size=\"14.00\" fill=\"#000000\">petal length (cm) &lt;= 2.45</text>\n<text text-anchor=\"middle\" x=\"212\" y=\"-632.8\" font-family=\"Helvetica,sans-Serif\" font-size=\"14.00\" fill=\"#000000\">gini = 0.667</text>\n<text text-anchor=\"middle\" x=\"212\" y=\"-617.8\" font-family=\"Helvetica,sans-Serif\" font-size=\"14.00\" fill=\"#000000\">samples = 120</text>\n<text text-anchor=\"middle\" x=\"212\" y=\"-602.8\" font-family=\"Helvetica,sans-Serif\" font-size=\"14.00\" fill=\"#000000\">value = [41, 40, 39]</text>\n<text text-anchor=\"middle\" x=\"212\" y=\"-587.8\" font-family=\"Helvetica,sans-Serif\" font-size=\"14.00\" fill=\"#000000\">class = setosa</text>\n</g>\n<!-- 1 -->\n<g id=\"node2\" class=\"node\">\n<title>1</title>\n<polygon fill=\"#e58139\" stroke=\"#000000\" points=\"191.5,-536.5 68.5,-536.5 68.5,-468.5 191.5,-468.5 191.5,-536.5\"/>\n<text text-anchor=\"middle\" x=\"130\" y=\"-521.3\" font-family=\"Helvetica,sans-Serif\" font-size=\"14.00\" fill=\"#000000\">gini = 0.0</text>\n<text text-anchor=\"middle\" x=\"130\" y=\"-506.3\" font-family=\"Helvetica,sans-Serif\" font-size=\"14.00\" fill=\"#000000\">samples = 41</text>\n<text text-anchor=\"middle\" x=\"130\" y=\"-491.3\" font-family=\"Helvetica,sans-Serif\" font-size=\"14.00\" fill=\"#000000\">value = [41, 0, 0]</text>\n<text text-anchor=\"middle\" x=\"130\" y=\"-476.3\" font-family=\"Helvetica,sans-Serif\" font-size=\"14.00\" fill=\"#000000\">class = setosa</text>\n</g>\n<!-- 0&#45;&gt;1 -->\n<g id=\"edge1\" class=\"edge\">\n<title>0&#45;&gt;1</title>\n<path fill=\"none\" stroke=\"#000000\" d=\"M183.3204,-579.8796C175.5917,-568.6636 167.2191,-556.5131 159.4492,-545.2372\"/>\n<polygon fill=\"#000000\" stroke=\"#000000\" points=\"162.2018,-543.0634 153.6456,-536.8149 156.4377,-547.0353 162.2018,-543.0634\"/>\n<text text-anchor=\"middle\" x=\"149.1196\" y=\"-557.7018\" font-family=\"Helvetica,sans-Serif\" font-size=\"14.00\" fill=\"#000000\">True</text>\n</g>\n<!-- 2 -->\n<g id=\"node3\" class=\"node\">\n<title>2</title>\n<polygon fill=\"#fafefc\" stroke=\"#000000\" points=\"380,-544 210,-544 210,-461 380,-461 380,-544\"/>\n<text text-anchor=\"middle\" x=\"295\" y=\"-528.8\" font-family=\"Helvetica,sans-Serif\" font-size=\"14.00\" fill=\"#000000\">petal width (cm) &lt;= 1.55</text>\n<text text-anchor=\"middle\" x=\"295\" y=\"-513.8\" font-family=\"Helvetica,sans-Serif\" font-size=\"14.00\" fill=\"#000000\">gini = 0.5</text>\n<text text-anchor=\"middle\" x=\"295\" y=\"-498.8\" font-family=\"Helvetica,sans-Serif\" font-size=\"14.00\" fill=\"#000000\">samples = 79</text>\n<text text-anchor=\"middle\" x=\"295\" y=\"-483.8\" font-family=\"Helvetica,sans-Serif\" font-size=\"14.00\" fill=\"#000000\">value = [0, 40, 39]</text>\n<text text-anchor=\"middle\" x=\"295\" y=\"-468.8\" font-family=\"Helvetica,sans-Serif\" font-size=\"14.00\" fill=\"#000000\">class = versicolor</text>\n</g>\n<!-- 0&#45;&gt;2 -->\n<g id=\"edge2\" class=\"edge\">\n<title>0&#45;&gt;2</title>\n<path fill=\"none\" stroke=\"#000000\" d=\"M241.0294,-579.8796C247.1855,-571.0534 253.7451,-561.6485 260.0936,-552.5466\"/>\n<polygon fill=\"#000000\" stroke=\"#000000\" points=\"262.9967,-554.5024 265.8467,-544.2981 257.2552,-550.4978 262.9967,-554.5024\"/>\n<text text-anchor=\"middle\" x=\"270.2331\" y=\"-565.2103\" font-family=\"Helvetica,sans-Serif\" font-size=\"14.00\" fill=\"#000000\">False</text>\n</g>\n<!-- 3 -->\n<g id=\"node4\" class=\"node\">\n<title>3</title>\n<polygon fill=\"#3ee684\" stroke=\"#000000\" points=\"288,-425 112,-425 112,-342 288,-342 288,-425\"/>\n<text text-anchor=\"middle\" x=\"200\" y=\"-409.8\" font-family=\"Helvetica,sans-Serif\" font-size=\"14.00\" fill=\"#000000\">petal length (cm) &lt;= 5.25</text>\n<text text-anchor=\"middle\" x=\"200\" y=\"-394.8\" font-family=\"Helvetica,sans-Serif\" font-size=\"14.00\" fill=\"#000000\">gini = 0.051</text>\n<text text-anchor=\"middle\" x=\"200\" y=\"-379.8\" font-family=\"Helvetica,sans-Serif\" font-size=\"14.00\" fill=\"#000000\">samples = 38</text>\n<text text-anchor=\"middle\" x=\"200\" y=\"-364.8\" font-family=\"Helvetica,sans-Serif\" font-size=\"14.00\" fill=\"#000000\">value = [0, 37, 1]</text>\n<text text-anchor=\"middle\" x=\"200\" y=\"-349.8\" font-family=\"Helvetica,sans-Serif\" font-size=\"14.00\" fill=\"#000000\">class = versicolor</text>\n</g>\n<!-- 2&#45;&gt;3 -->\n<g id=\"edge3\" class=\"edge\">\n<title>2&#45;&gt;3</title>\n<path fill=\"none\" stroke=\"#000000\" d=\"M261.7736,-460.8796C254.6556,-451.9633 247.0661,-442.4565 239.7308,-433.268\"/>\n<polygon fill=\"#000000\" stroke=\"#000000\" points=\"242.3425,-430.9295 233.3682,-425.2981 236.8719,-435.2968 242.3425,-430.9295\"/>\n</g>\n<!-- 6 -->\n<g id=\"node7\" class=\"node\">\n<title>6</title>\n<polygon fill=\"#8b49e7\" stroke=\"#000000\" points=\"476,-425 306,-425 306,-342 476,-342 476,-425\"/>\n<text text-anchor=\"middle\" x=\"391\" y=\"-409.8\" font-family=\"Helvetica,sans-Serif\" font-size=\"14.00\" fill=\"#000000\">petal width (cm) &lt;= 1.75</text>\n<text text-anchor=\"middle\" x=\"391\" y=\"-394.8\" font-family=\"Helvetica,sans-Serif\" font-size=\"14.00\" fill=\"#000000\">gini = 0.136</text>\n<text text-anchor=\"middle\" x=\"391\" y=\"-379.8\" font-family=\"Helvetica,sans-Serif\" font-size=\"14.00\" fill=\"#000000\">samples = 41</text>\n<text text-anchor=\"middle\" x=\"391\" y=\"-364.8\" font-family=\"Helvetica,sans-Serif\" font-size=\"14.00\" fill=\"#000000\">value = [0, 3, 38]</text>\n<text text-anchor=\"middle\" x=\"391\" y=\"-349.8\" font-family=\"Helvetica,sans-Serif\" font-size=\"14.00\" fill=\"#000000\">class = virginica</text>\n</g>\n<!-- 2&#45;&gt;6 -->\n<g id=\"edge6\" class=\"edge\">\n<title>2&#45;&gt;6</title>\n<path fill=\"none\" stroke=\"#000000\" d=\"M328.5761,-460.8796C335.7691,-451.9633 343.4384,-442.4565 350.851,-433.268\"/>\n<polygon fill=\"#000000\" stroke=\"#000000\" points=\"353.7258,-435.2788 357.2805,-425.2981 348.2776,-430.8836 353.7258,-435.2788\"/>\n</g>\n<!-- 4 -->\n<g id=\"node5\" class=\"node\">\n<title>4</title>\n<polygon fill=\"#39e581\" stroke=\"#000000\" points=\"128,-298.5 0,-298.5 0,-230.5 128,-230.5 128,-298.5\"/>\n<text text-anchor=\"middle\" x=\"64\" y=\"-283.3\" font-family=\"Helvetica,sans-Serif\" font-size=\"14.00\" fill=\"#000000\">gini = 0.0</text>\n<text text-anchor=\"middle\" x=\"64\" y=\"-268.3\" font-family=\"Helvetica,sans-Serif\" font-size=\"14.00\" fill=\"#000000\">samples = 37</text>\n<text text-anchor=\"middle\" x=\"64\" y=\"-253.3\" font-family=\"Helvetica,sans-Serif\" font-size=\"14.00\" fill=\"#000000\">value = [0, 37, 0]</text>\n<text text-anchor=\"middle\" x=\"64\" y=\"-238.3\" font-family=\"Helvetica,sans-Serif\" font-size=\"14.00\" fill=\"#000000\">class = versicolor</text>\n</g>\n<!-- 3&#45;&gt;4 -->\n<g id=\"edge4\" class=\"edge\">\n<title>3&#45;&gt;4</title>\n<path fill=\"none\" stroke=\"#000000\" d=\"M152.4338,-341.8796C138.9872,-330.1138 124.3653,-317.3197 110.9549,-305.5855\"/>\n<polygon fill=\"#000000\" stroke=\"#000000\" points=\"113.0476,-302.766 103.2171,-298.8149 108.4381,-308.034 113.0476,-302.766\"/>\n</g>\n<!-- 5 -->\n<g id=\"node6\" class=\"node\">\n<title>5</title>\n<polygon fill=\"#8139e5\" stroke=\"#000000\" points=\"265.5,-298.5 146.5,-298.5 146.5,-230.5 265.5,-230.5 265.5,-298.5\"/>\n<text text-anchor=\"middle\" x=\"206\" y=\"-283.3\" font-family=\"Helvetica,sans-Serif\" font-size=\"14.00\" fill=\"#000000\">gini = 0.0</text>\n<text text-anchor=\"middle\" x=\"206\" y=\"-268.3\" font-family=\"Helvetica,sans-Serif\" font-size=\"14.00\" fill=\"#000000\">samples = 1</text>\n<text text-anchor=\"middle\" x=\"206\" y=\"-253.3\" font-family=\"Helvetica,sans-Serif\" font-size=\"14.00\" fill=\"#000000\">value = [0, 0, 1]</text>\n<text text-anchor=\"middle\" x=\"206\" y=\"-238.3\" font-family=\"Helvetica,sans-Serif\" font-size=\"14.00\" fill=\"#000000\">class = virginica</text>\n</g>\n<!-- 3&#45;&gt;5 -->\n<g id=\"edge5\" class=\"edge\">\n<title>3&#45;&gt;5</title>\n<path fill=\"none\" stroke=\"#000000\" d=\"M202.0985,-341.8796C202.6363,-331.2134 203.2167,-319.7021 203.7613,-308.9015\"/>\n<polygon fill=\"#000000\" stroke=\"#000000\" points=\"207.2617,-308.9785 204.2698,-298.8149 200.2706,-308.626 207.2617,-308.9785\"/>\n</g>\n<!-- 7 -->\n<g id=\"node8\" class=\"node\">\n<title>7</title>\n<polygon fill=\"#ffffff\" stroke=\"#000000\" points=\"475,-306 295,-306 295,-223 475,-223 475,-306\"/>\n<text text-anchor=\"middle\" x=\"385\" y=\"-290.8\" font-family=\"Helvetica,sans-Serif\" font-size=\"14.00\" fill=\"#000000\">sepal length (cm) &lt;= 5.45</text>\n<text text-anchor=\"middle\" x=\"385\" y=\"-275.8\" font-family=\"Helvetica,sans-Serif\" font-size=\"14.00\" fill=\"#000000\">gini = 0.5</text>\n<text text-anchor=\"middle\" x=\"385\" y=\"-260.8\" font-family=\"Helvetica,sans-Serif\" font-size=\"14.00\" fill=\"#000000\">samples = 4</text>\n<text text-anchor=\"middle\" x=\"385\" y=\"-245.8\" font-family=\"Helvetica,sans-Serif\" font-size=\"14.00\" fill=\"#000000\">value = [0, 2, 2]</text>\n<text text-anchor=\"middle\" x=\"385\" y=\"-230.8\" font-family=\"Helvetica,sans-Serif\" font-size=\"14.00\" fill=\"#000000\">class = versicolor</text>\n</g>\n<!-- 6&#45;&gt;7 -->\n<g id=\"edge7\" class=\"edge\">\n<title>6&#45;&gt;7</title>\n<path fill=\"none\" stroke=\"#000000\" d=\"M388.9015,-341.8796C388.4883,-333.6838 388.0499,-324.9891 387.6219,-316.5013\"/>\n<polygon fill=\"#000000\" stroke=\"#000000\" points=\"391.1067,-316.1091 387.1075,-306.2981 384.1156,-316.4617 391.1067,-316.1091\"/>\n</g>\n<!-- 12 -->\n<g id=\"node13\" class=\"node\">\n<title>12</title>\n<polygon fill=\"#843ee6\" stroke=\"#000000\" points=\"669,-306 493,-306 493,-223 669,-223 669,-306\"/>\n<text text-anchor=\"middle\" x=\"581\" y=\"-290.8\" font-family=\"Helvetica,sans-Serif\" font-size=\"14.00\" fill=\"#000000\">petal length (cm) &lt;= 4.85</text>\n<text text-anchor=\"middle\" x=\"581\" y=\"-275.8\" font-family=\"Helvetica,sans-Serif\" font-size=\"14.00\" fill=\"#000000\">gini = 0.053</text>\n<text text-anchor=\"middle\" x=\"581\" y=\"-260.8\" font-family=\"Helvetica,sans-Serif\" font-size=\"14.00\" fill=\"#000000\">samples = 37</text>\n<text text-anchor=\"middle\" x=\"581\" y=\"-245.8\" font-family=\"Helvetica,sans-Serif\" font-size=\"14.00\" fill=\"#000000\">value = [0, 1, 36]</text>\n<text text-anchor=\"middle\" x=\"581\" y=\"-230.8\" font-family=\"Helvetica,sans-Serif\" font-size=\"14.00\" fill=\"#000000\">class = virginica</text>\n</g>\n<!-- 6&#45;&gt;12 -->\n<g id=\"edge12\" class=\"edge\">\n<title>6&#45;&gt;12</title>\n<path fill=\"none\" stroke=\"#000000\" d=\"M457.4528,-341.8796C473.0733,-332.0962 489.829,-321.6019 505.8029,-311.5971\"/>\n<polygon fill=\"#000000\" stroke=\"#000000\" points=\"507.9676,-314.3712 514.5847,-306.0969 504.2519,-308.4387 507.9676,-314.3712\"/>\n</g>\n<!-- 8 -->\n<g id=\"node9\" class=\"node\">\n<title>8</title>\n<polygon fill=\"#8139e5\" stroke=\"#000000\" points=\"278.5,-179.5 159.5,-179.5 159.5,-111.5 278.5,-111.5 278.5,-179.5\"/>\n<text text-anchor=\"middle\" x=\"219\" y=\"-164.3\" font-family=\"Helvetica,sans-Serif\" font-size=\"14.00\" fill=\"#000000\">gini = 0.0</text>\n<text text-anchor=\"middle\" x=\"219\" y=\"-149.3\" font-family=\"Helvetica,sans-Serif\" font-size=\"14.00\" fill=\"#000000\">samples = 1</text>\n<text text-anchor=\"middle\" x=\"219\" y=\"-134.3\" font-family=\"Helvetica,sans-Serif\" font-size=\"14.00\" fill=\"#000000\">value = [0, 0, 1]</text>\n<text text-anchor=\"middle\" x=\"219\" y=\"-119.3\" font-family=\"Helvetica,sans-Serif\" font-size=\"14.00\" fill=\"#000000\">class = virginica</text>\n</g>\n<!-- 7&#45;&gt;8 -->\n<g id=\"edge8\" class=\"edge\">\n<title>7&#45;&gt;8</title>\n<path fill=\"none\" stroke=\"#000000\" d=\"M326.9413,-222.8796C310.142,-210.8368 291.8401,-197.7167 275.159,-185.7586\"/>\n<polygon fill=\"#000000\" stroke=\"#000000\" points=\"276.7668,-182.6047 266.6002,-179.623 272.6884,-188.2939 276.7668,-182.6047\"/>\n</g>\n<!-- 9 -->\n<g id=\"node10\" class=\"node\">\n<title>9</title>\n<polygon fill=\"#9cf2c0\" stroke=\"#000000\" points=\"473,-187 297,-187 297,-104 473,-104 473,-187\"/>\n<text text-anchor=\"middle\" x=\"385\" y=\"-171.8\" font-family=\"Helvetica,sans-Serif\" font-size=\"14.00\" fill=\"#000000\">petal length (cm) &lt;= 5.45</text>\n<text text-anchor=\"middle\" x=\"385\" y=\"-156.8\" font-family=\"Helvetica,sans-Serif\" font-size=\"14.00\" fill=\"#000000\">gini = 0.444</text>\n<text text-anchor=\"middle\" x=\"385\" y=\"-141.8\" font-family=\"Helvetica,sans-Serif\" font-size=\"14.00\" fill=\"#000000\">samples = 3</text>\n<text text-anchor=\"middle\" x=\"385\" y=\"-126.8\" font-family=\"Helvetica,sans-Serif\" font-size=\"14.00\" fill=\"#000000\">value = [0, 2, 1]</text>\n<text text-anchor=\"middle\" x=\"385\" y=\"-111.8\" font-family=\"Helvetica,sans-Serif\" font-size=\"14.00\" fill=\"#000000\">class = versicolor</text>\n</g>\n<!-- 7&#45;&gt;9 -->\n<g id=\"edge9\" class=\"edge\">\n<title>7&#45;&gt;9</title>\n<path fill=\"none\" stroke=\"#000000\" d=\"M385,-222.8796C385,-214.6838 385,-205.9891 385,-197.5013\"/>\n<polygon fill=\"#000000\" stroke=\"#000000\" points=\"388.5001,-197.298 385,-187.2981 381.5001,-197.2981 388.5001,-197.298\"/>\n</g>\n<!-- 10 -->\n<g id=\"node11\" class=\"node\">\n<title>10</title>\n<polygon fill=\"#39e581\" stroke=\"#000000\" points=\"320,-68 192,-68 192,0 320,0 320,-68\"/>\n<text text-anchor=\"middle\" x=\"256\" y=\"-52.8\" font-family=\"Helvetica,sans-Serif\" font-size=\"14.00\" fill=\"#000000\">gini = 0.0</text>\n<text text-anchor=\"middle\" x=\"256\" y=\"-37.8\" font-family=\"Helvetica,sans-Serif\" font-size=\"14.00\" fill=\"#000000\">samples = 2</text>\n<text text-anchor=\"middle\" x=\"256\" y=\"-22.8\" font-family=\"Helvetica,sans-Serif\" font-size=\"14.00\" fill=\"#000000\">value = [0, 2, 0]</text>\n<text text-anchor=\"middle\" x=\"256\" y=\"-7.8\" font-family=\"Helvetica,sans-Serif\" font-size=\"14.00\" fill=\"#000000\">class = versicolor</text>\n</g>\n<!-- 9&#45;&gt;10 -->\n<g id=\"edge10\" class=\"edge\">\n<title>9&#45;&gt;10</title>\n<path fill=\"none\" stroke=\"#000000\" d=\"M336.9652,-103.9815C326.013,-94.5151 314.3821,-84.462 303.4544,-75.0168\"/>\n<polygon fill=\"#000000\" stroke=\"#000000\" points=\"305.4957,-72.155 295.6414,-68.2637 300.9182,-77.4509 305.4957,-72.155\"/>\n</g>\n<!-- 11 -->\n<g id=\"node12\" class=\"node\">\n<title>11</title>\n<polygon fill=\"#8139e5\" stroke=\"#000000\" points=\"457.5,-68 338.5,-68 338.5,0 457.5,0 457.5,-68\"/>\n<text text-anchor=\"middle\" x=\"398\" y=\"-52.8\" font-family=\"Helvetica,sans-Serif\" font-size=\"14.00\" fill=\"#000000\">gini = 0.0</text>\n<text text-anchor=\"middle\" x=\"398\" y=\"-37.8\" font-family=\"Helvetica,sans-Serif\" font-size=\"14.00\" fill=\"#000000\">samples = 1</text>\n<text text-anchor=\"middle\" x=\"398\" y=\"-22.8\" font-family=\"Helvetica,sans-Serif\" font-size=\"14.00\" fill=\"#000000\">value = [0, 0, 1]</text>\n<text text-anchor=\"middle\" x=\"398\" y=\"-7.8\" font-family=\"Helvetica,sans-Serif\" font-size=\"14.00\" fill=\"#000000\">class = virginica</text>\n</g>\n<!-- 9&#45;&gt;11 -->\n<g id=\"edge11\" class=\"edge\">\n<title>9&#45;&gt;11</title>\n<path fill=\"none\" stroke=\"#000000\" d=\"M389.8407,-103.9815C390.8158,-95.618 391.8443,-86.7965 392.8302,-78.3409\"/>\n<polygon fill=\"#000000\" stroke=\"#000000\" points=\"396.3234,-78.6017 394.0051,-68.2637 389.3705,-77.791 396.3234,-78.6017\"/>\n</g>\n<!-- 13 -->\n<g id=\"node14\" class=\"node\">\n<title>13</title>\n<polygon fill=\"#c09cf2\" stroke=\"#000000\" points=\"671,-187 491,-187 491,-104 671,-104 671,-187\"/>\n<text text-anchor=\"middle\" x=\"581\" y=\"-171.8\" font-family=\"Helvetica,sans-Serif\" font-size=\"14.00\" fill=\"#000000\">sepal length (cm) &lt;= 5.95</text>\n<text text-anchor=\"middle\" x=\"581\" y=\"-156.8\" font-family=\"Helvetica,sans-Serif\" font-size=\"14.00\" fill=\"#000000\">gini = 0.444</text>\n<text text-anchor=\"middle\" x=\"581\" y=\"-141.8\" font-family=\"Helvetica,sans-Serif\" font-size=\"14.00\" fill=\"#000000\">samples = 3</text>\n<text text-anchor=\"middle\" x=\"581\" y=\"-126.8\" font-family=\"Helvetica,sans-Serif\" font-size=\"14.00\" fill=\"#000000\">value = [0, 1, 2]</text>\n<text text-anchor=\"middle\" x=\"581\" y=\"-111.8\" font-family=\"Helvetica,sans-Serif\" font-size=\"14.00\" fill=\"#000000\">class = virginica</text>\n</g>\n<!-- 12&#45;&gt;13 -->\n<g id=\"edge13\" class=\"edge\">\n<title>12&#45;&gt;13</title>\n<path fill=\"none\" stroke=\"#000000\" d=\"M581,-222.8796C581,-214.6838 581,-205.9891 581,-197.5013\"/>\n<polygon fill=\"#000000\" stroke=\"#000000\" points=\"584.5001,-197.298 581,-187.2981 577.5001,-197.2981 584.5001,-197.298\"/>\n</g>\n<!-- 16 -->\n<g id=\"node17\" class=\"node\">\n<title>16</title>\n<polygon fill=\"#8139e5\" stroke=\"#000000\" points=\"812.5,-179.5 689.5,-179.5 689.5,-111.5 812.5,-111.5 812.5,-179.5\"/>\n<text text-anchor=\"middle\" x=\"751\" y=\"-164.3\" font-family=\"Helvetica,sans-Serif\" font-size=\"14.00\" fill=\"#000000\">gini = 0.0</text>\n<text text-anchor=\"middle\" x=\"751\" y=\"-149.3\" font-family=\"Helvetica,sans-Serif\" font-size=\"14.00\" fill=\"#000000\">samples = 34</text>\n<text text-anchor=\"middle\" x=\"751\" y=\"-134.3\" font-family=\"Helvetica,sans-Serif\" font-size=\"14.00\" fill=\"#000000\">value = [0, 0, 34]</text>\n<text text-anchor=\"middle\" x=\"751\" y=\"-119.3\" font-family=\"Helvetica,sans-Serif\" font-size=\"14.00\" fill=\"#000000\">class = virginica</text>\n</g>\n<!-- 12&#45;&gt;16 -->\n<g id=\"edge16\" class=\"edge\">\n<title>12&#45;&gt;16</title>\n<path fill=\"none\" stroke=\"#000000\" d=\"M640.4578,-222.8796C657.8196,-210.7263 676.7488,-197.4759 693.9575,-185.4297\"/>\n<polygon fill=\"#000000\" stroke=\"#000000\" points=\"696.0676,-188.225 702.2528,-179.623 692.0533,-182.4904 696.0676,-188.225\"/>\n</g>\n<!-- 14 -->\n<g id=\"node15\" class=\"node\">\n<title>14</title>\n<polygon fill=\"#39e581\" stroke=\"#000000\" points=\"631,-68 503,-68 503,0 631,0 631,-68\"/>\n<text text-anchor=\"middle\" x=\"567\" y=\"-52.8\" font-family=\"Helvetica,sans-Serif\" font-size=\"14.00\" fill=\"#000000\">gini = 0.0</text>\n<text text-anchor=\"middle\" x=\"567\" y=\"-37.8\" font-family=\"Helvetica,sans-Serif\" font-size=\"14.00\" fill=\"#000000\">samples = 1</text>\n<text text-anchor=\"middle\" x=\"567\" y=\"-22.8\" font-family=\"Helvetica,sans-Serif\" font-size=\"14.00\" fill=\"#000000\">value = [0, 1, 0]</text>\n<text text-anchor=\"middle\" x=\"567\" y=\"-7.8\" font-family=\"Helvetica,sans-Serif\" font-size=\"14.00\" fill=\"#000000\">class = versicolor</text>\n</g>\n<!-- 13&#45;&gt;14 -->\n<g id=\"edge14\" class=\"edge\">\n<title>13&#45;&gt;14</title>\n<path fill=\"none\" stroke=\"#000000\" d=\"M575.7869,-103.9815C574.7368,-95.618 573.6292,-86.7965 572.5675,-78.3409\"/>\n<polygon fill=\"#000000\" stroke=\"#000000\" points=\"576.0208,-77.7497 571.3022,-68.2637 569.0753,-78.6218 576.0208,-77.7497\"/>\n</g>\n<!-- 15 -->\n<g id=\"node16\" class=\"node\">\n<title>15</title>\n<polygon fill=\"#8139e5\" stroke=\"#000000\" points=\"768.5,-68 649.5,-68 649.5,0 768.5,0 768.5,-68\"/>\n<text text-anchor=\"middle\" x=\"709\" y=\"-52.8\" font-family=\"Helvetica,sans-Serif\" font-size=\"14.00\" fill=\"#000000\">gini = 0.0</text>\n<text text-anchor=\"middle\" x=\"709\" y=\"-37.8\" font-family=\"Helvetica,sans-Serif\" font-size=\"14.00\" fill=\"#000000\">samples = 2</text>\n<text text-anchor=\"middle\" x=\"709\" y=\"-22.8\" font-family=\"Helvetica,sans-Serif\" font-size=\"14.00\" fill=\"#000000\">value = [0, 0, 2]</text>\n<text text-anchor=\"middle\" x=\"709\" y=\"-7.8\" font-family=\"Helvetica,sans-Serif\" font-size=\"14.00\" fill=\"#000000\">class = virginica</text>\n</g>\n<!-- 13&#45;&gt;15 -->\n<g id=\"edge15\" class=\"edge\">\n<title>13&#45;&gt;15</title>\n<path fill=\"none\" stroke=\"#000000\" d=\"M628.6625,-103.9815C639.5297,-94.5151 651.0705,-84.462 661.9135,-75.0168\"/>\n<polygon fill=\"#000000\" stroke=\"#000000\" points=\"664.4245,-77.4712 669.6659,-68.2637 659.8266,-72.1929 664.4245,-77.4712\"/>\n</g>\n</g>\n</svg>\n"
          },
          "metadata": {},
          "execution_count": 3
        }
      ]
    },
    {
      "cell_type": "markdown",
      "source": [
        "피처 중요도를 출력해보겠습니다."
      ],
      "metadata": {
        "id": "x0G8Xc_1netP"
      }
    },
    {
      "cell_type": "code",
      "source": [
        "import seaborn as sns\n",
        "import matplotlib.pyplot as plt\n",
        "import numpy as np\n",
        "%matplotlib inline\n",
        "\n",
        "print('Feature importances:\\n{}'.format(np.round(dt_clf.feature_importances_, 3)))\n",
        "\n",
        "for name, value in zip(iris_data.feature_names, dt_clf.feature_importances_):\n",
        "    print('{}: {:.3f}'.format(name, value))\n",
        "\n",
        "sns.barplot(x=dt_clf.feature_importances_, y=iris_data.feature_names)\n",
        "plt.show()"
      ],
      "metadata": {
        "colab": {
          "base_uri": "https://localhost:8080/",
          "height": 368
        },
        "id": "4rogs7IIlBdf",
        "outputId": "a2187e97-7745-4721-d35f-cffc13a5c589"
      },
      "execution_count": 4,
      "outputs": [
        {
          "output_type": "stream",
          "name": "stdout",
          "text": [
            "Feature importances:\n",
            "[0.025 0.    0.555 0.42 ]\n",
            "sepal length (cm): 0.025\n",
            "sepal width (cm): 0.000\n",
            "petal length (cm): 0.555\n",
            "petal width (cm): 0.420\n"
          ]
        },
        {
          "output_type": "display_data",
          "data": {
            "image/png": "[encoded data removed]",
            "text/plain": [
              "<Figure size 432x288 with 1 Axes>"
            ]
          },
          "metadata": {
            "needs_background": "light"
          }
        }
      ]
    },
    {
      "cell_type": "markdown",
      "source": [
        "## **2.4. 결정 트리 과적합(overfitting)**"
      ],
      "metadata": {
        "id": "gABNBBDCZ7Hc"
      }
    },
    {
      "cell_type": "markdown",
      "source": [
        "`make_classification()` 함수를 사용하여 피처 2개가 클래스 값을 3개만큼 가진 임의의 데이터 세트를 만들고 그래프로 시각화하겠습니다."
      ],
      "metadata": {
        "id": "tD0HyV_CD3J7"
      }
    },
    {
      "cell_type": "code",
      "source": [
        "from sklearn.datasets import make_classification\n",
        "\n",
        "plt.title('3 Class values with 2 Featrues Sample data creation')\n",
        "X_features, y_labels = make_classification(n_features=2, n_redundant=0, n_informative=2,\n",
        "                                           n_classes=3, n_clusters_per_class=1, random_state=0)\n",
        "plt.scatter(X_features[:, 0], X_features[:, 1], marker='o', c=y_labels, s=25, edgecolor='k')\n",
        "plt.show()"
      ],
      "metadata": {
        "colab": {
          "base_uri": "https://localhost:8080/",
          "height": 281
        },
        "id": "ydbJeil-nrpk",
        "outputId": "cc614dab-50d4-4dec-a5e5-55424d8265b8"
      },
      "execution_count": 5,
      "outputs": [
        {
          "output_type": "display_data",
          "data": {
            "image/png": "[encoded data removed]",
            "text/plain": [
              "<Figure size 432x288 with 1 Axes>"
            ]
          },
          "metadata": {
            "needs_background": "light"
          }
        }
      ]
    },
    {
      "cell_type": "markdown",
      "source": [
        "본서의 부록에서 가져온 시각화 함수를 사용하여 결정 기준 경계를 시각화해보겠습니다. 먼저 분류기의 하이퍼 파라미터를 기본값으로 학습시키고 구현하겠습니다."
      ],
      "metadata": {
        "id": "XmIo4st6FSuv"
      }
    },
    {
      "cell_type": "code",
      "source": [
        "# Classifier의 Decision Boundary를 시각화 하는 함수입니다.\n",
        "def visualize_boundary(model, X, y):\n",
        "    fig, ax = plt.subplots()\n",
        "    \n",
        "    # 학습 데이터를 scatter plot으로 나타냅니다.\n",
        "    ax.scatter(X[:, 0], X[:, 1], c=y, s=25, cmap='rainbow', edgecolor='k',\n",
        "               clim=(y.min(), y.max()), zorder=3)\n",
        "    ax.axis('tight')\n",
        "    ax.axis('off')\n",
        "    xlim_start, xlim_end = ax.get_xlim()\n",
        "    ylim_start, ylim_end = ax.get_ylim()\n",
        "    \n",
        "    # 호출 파라미터로 들어온 학습 데이터로 모델을 학습합니다.\n",
        "    model.fit(X, y)\n",
        "    # `meshgrid` 형태인 모든 좌표값으로 예측을 수행합니다. \n",
        "    xx, yy = np.meshgrid(np.linspace(xlim_start, xlim_end, num=200), np.linspace(ylim_start, ylim_end, num=200))\n",
        "    Z = model.predict(np.c_[xx.ravel(), yy.ravel()]).reshape(xx.shape)\n",
        "    \n",
        "    # `contourf()` 메서드를 이용하여 class boundary를 시각화합니다.\n",
        "    n_classes = len(np.unique(y))\n",
        "    contours = ax.contourf(xx, yy, Z, alpha=0.3,\n",
        "                           levels=np.arange(n_classes + 1) - 0.5,\n",
        "                           cmap='rainbow', clim=(y.min(), y.max()),\n",
        "                           zorder=1)"
      ],
      "metadata": {
        "id": "sumZzDDqC36T"
      },
      "execution_count": 6,
      "outputs": []
    },
    {
      "cell_type": "code",
      "source": [
        "dt_clf = DecisionTreeClassifier().fit(X_features, y_labels)\n",
        "visualize_boundary(dt_clf, X_features, y_labels)"
      ],
      "metadata": {
        "colab": {
          "base_uri": "https://localhost:8080/",
          "height": 247
        },
        "id": "Dig_BO15CO3o",
        "outputId": "7452fbd4-6ee6-4303-a693-4b0007db9f9c"
      },
      "execution_count": 7,
      "outputs": [
        {
          "output_type": "display_data",
          "data": {
            "image/png": "[encoded data removed]",
            "text/plain": [
              "<Figure size 432x288 with 1 Axes>"
            ]
          },
          "metadata": {
            "needs_background": "light"
          }
        }
      ]
    },
    {
      "cell_type": "markdown",
      "source": [
        "이상치(Outlier)까지 분류하기 위해 분할이 자주 일어나서 결정 기준 경계가 많습니다. 하이퍼 파라미터를 기본값으로 학습한 모델은 리프 노드 안에 데이터가 모두 균일하거나 하나만 존재해야 하는 엄격한 기준을 가지고 있습니다. 과대적합을 의미합니다. \n",
        "\n",
        "하이퍼 파라미터를 조금 조정하여 시각화해보겠습니다."
      ],
      "metadata": {
        "id": "DgMYCdEQF2f3"
      }
    },
    {
      "cell_type": "code",
      "source": [
        "dt_clf = DecisionTreeClassifier(min_samples_leaf=6).fit(X_features, y_labels)\n",
        "visualize_boundary(dt_clf, X_features, y_labels)"
      ],
      "metadata": {
        "colab": {
          "base_uri": "https://localhost:8080/",
          "height": 247
        },
        "id": "seHT8km-DgiS",
        "outputId": "98bd47c7-2f1a-4400-9f24-bd73d63ba520"
      },
      "execution_count": 8,
      "outputs": [
        {
          "output_type": "display_data",
          "data": {
            "image/png": "[encoded data removed]",
            "text/plain": [
              "<Figure size 432x288 with 1 Axes>"
            ]
          },
          "metadata": {
            "needs_background": "light"
          }
        }
      ]
    },
    {
      "cell_type": "markdown",
      "source": [
        "이상치에 민감하지 않은 모델입니다. 이 모델이 과대적합된 위 모델보다 더 나은 예측 성능을 낼 것입니다. "
      ],
      "metadata": {
        "id": "9RoVdEGyGuUi"
      }
    },
    {
      "cell_type": "markdown",
      "source": [
        "## **2.5. 결정 트리 실습 - 사용자 행동 인식 데이터 세트**"
      ],
      "metadata": {
        "id": "T4Rf0i9zZ7Ez"
      }
    },
    {
      "cell_type": "markdown",
      "source": [
        "[UCI 머신러닝 리포지토리의 사용자 행동 인식 데이터 세트](https://archive.ics.uci.edu/ml/datasets/Human+Activity+Recognition+Using+Smartphones)에 대한 예측 분류를 수행하겠습니다. 이 데이터는 피실험자 30명에게 스마트폰 센서를 장착시키고 동작과 관련된 여러 피처를 수집한 것입니다.\n",
        "\n",
        "먼저 피처 종류를 확인해보겠습니다."
      ],
      "metadata": {
        "id": "kReb5vmqCxBv"
      }
    },
    {
      "cell_type": "code",
      "source": [
        "from google.colab import drive\n",
        "drive.mount('/content/gdrive/')\n",
        "import pandas as pd\n",
        "import matplotlib.pyplot as plt\n",
        "%matplotlib inline"
      ],
      "metadata": {
        "colab": {
          "base_uri": "https://localhost:8080/"
        },
        "id": "qlozzvYThyi1",
        "outputId": "34f204a6-ba31-412b-8f74-bdf38b662918"
      },
      "execution_count": 9,
      "outputs": [
        {
          "output_type": "stream",
          "name": "stdout",
          "text": [
            "Mounted at /content/gdrive/\n"
          ]
        }
      ]
    },
    {
      "cell_type": "code",
      "source": [
        "feature_name_df = pd.read_csv('/content/gdrive/MyDrive/UCI HAR Dataset/UCI HAR Dataset/features.txt',\n",
        "                              sep='\\s+', header=None, names=['column_index', 'column_name'])\n",
        "feature_name = feature_name_df.iloc[:, 1].values.tolist()\n",
        "print('전체 피처명에서 10개만 추출:', feature_name[:10])"
      ],
      "metadata": {
        "colab": {
          "base_uri": "https://localhost:8080/"
        },
        "id": "Ilx4LyuR-egb",
        "outputId": "59721e29-7614-4035-d48b-1dfb6ac8d4f9"
      },
      "execution_count": 21,
      "outputs": [
        {
          "output_type": "stream",
          "name": "stdout",
          "text": [
            "전체 피처명에서 10개만 추출: ['tBodyAcc-mean()-X', 'tBodyAcc-mean()-Y', 'tBodyAcc-mean()-Z', 'tBodyAcc-std()-X', 'tBodyAcc-std()-Y', 'tBodyAcc-std()-Z', 'tBodyAcc-mad()-X', 'tBodyAcc-mad()-Y', 'tBodyAcc-mad()-Z', 'tBodyAcc-max()-X']\n"
          ]
        }
      ]
    },
    {
      "cell_type": "markdown",
      "source": [
        "인체 움직임과 관련된 속성의 평균/표준편차가 X축, Y축, Z축 값으로 되어있습니다. 중복된 피처가 있는지 확인해보겠습니다."
      ],
      "metadata": {
        "id": "-n5Si3QUDyaU"
      }
    },
    {
      "cell_type": "code",
      "source": [
        "feature_dup_df = feature_name_df.groupby('column_name').count()\n",
        "print(feature_dup_df[feature_dup_df['column_index'] > 1].count())\n",
        "feature_dup_df[feature_dup_df['column_index'] > 1].head()"
      ],
      "metadata": {
        "colab": {
          "base_uri": "https://localhost:8080/",
          "height": 272
        },
        "id": "fNoTFJejEDiU",
        "outputId": "75fc01ae-2013-417d-aa2a-c1465b18f22c"
      },
      "execution_count": 22,
      "outputs": [
        {
          "output_type": "stream",
          "name": "stdout",
          "text": [
            "column_index    42\n",
            "dtype: int64\n"
          ]
        },
        {
          "output_type": "execute_result",
          "data": {
            "text/html": [
              "\n",
              "  <div id=\"df-4cb08ffe-faea-484e-8544-6cdc49bb4a2d\">\n",
              "    <div class=\"colab-df-container\">\n",
              "      <div>\n",
              "<style scoped>\n",
              "    .dataframe tbody tr th:only-of-type {\n",
              "        vertical-align: middle;\n",
              "    }\n",
              "\n",
              "    .dataframe tbody tr th {\n",
              "        vertical-align: top;\n",
              "    }\n",
              "\n",
              "    .dataframe thead th {\n",
              "        text-align: right;\n",
              "    }\n",
              "</style>\n",
              "<table border=\"1\" class=\"dataframe\">\n",
              "  <thead>\n",
              "    <tr style=\"text-align: right;\">\n",
              "      <th></th>\n",
              "      <th>column_index</th>\n",
              "    </tr>\n",
              "    <tr>\n",
              "      <th>column_name</th>\n",
              "      <th></th>\n",
              "    </tr>\n",
              "  </thead>\n",
              "  <tbody>\n",
              "    <tr>\n",
              "      <th>fBodyAcc-bandsEnergy()-1,16</th>\n",
              "      <td>3</td>\n",
              "    </tr>\n",
              "    <tr>\n",
              "      <th>fBodyAcc-bandsEnergy()-1,24</th>\n",
              "      <td>3</td>\n",
              "    </tr>\n",
              "    <tr>\n",
              "      <th>fBodyAcc-bandsEnergy()-1,8</th>\n",
              "      <td>3</td>\n",
              "    </tr>\n",
              "    <tr>\n",
              "      <th>fBodyAcc-bandsEnergy()-17,24</th>\n",
              "      <td>3</td>\n",
              "    </tr>\n",
              "    <tr>\n",
              "      <th>fBodyAcc-bandsEnergy()-17,32</th>\n",
              "      <td>3</td>\n",
              "    </tr>\n",
              "  </tbody>\n",
              "</table>\n",
              "</div>\n",
              "      <button class=\"colab-df-convert\" onclick=\"convertToInteractive('df-4cb08ffe-faea-484e-8544-6cdc49bb4a2d')\"\n",
              "              title=\"Convert this dataframe to an interactive table.\"\n",
              "              style=\"display:none;\">\n",
              "        \n",
              "  <svg xmlns=\"http://www.w3.org/2000/svg\" height=\"24px\"viewBox=\"0 0 24 24\"\n",
              "       width=\"24px\">\n",
              "    <path d=\"M0 0h24v24H0V0z\" fill=\"none\"/>\n",
              "    <path d=\"M18.56 5.44l.94 2.06.94-2.06 2.06-.94-2.06-.94-.94-2.06-.94 2.06-2.06.94zm-11 1L8.5 8.5l.94-2.06 2.06-.94-2.06-.94L8.5 2.5l-.94 2.06-2.06.94zm10 10l.94 2.06.94-2.06 2.06-.94-2.06-.94-.94-2.06-.94 2.06-2.06.94z\"/><path d=\"M17.41 7.96l-1.37-1.37c-.4-.4-.92-.59-1.43-.59-.52 0-1.04.2-1.43.59L10.3 9.45l-7.72 7.72c-.78.78-.78 2.05 0 2.83L4 21.41c.39.39.9.59 1.41.59.51 0 1.02-.2 1.41-.59l7.78-7.78 2.81-2.81c.8-.78.8-2.07 0-2.86zM5.41 20L4 18.59l7.72-7.72 1.47 1.35L5.41 20z\"/>\n",
              "  </svg>\n",
              "      </button>\n",
              "      \n",
              "  <style>\n",
              "    .colab-df-container {\n",
              "      display:flex;\n",
              "      flex-wrap:wrap;\n",
              "      gap: 12px;\n",
              "    }\n",
              "\n",
              "    .colab-df-convert {\n",
              "      background-color: #E8F0FE;\n",
              "      border: none;\n",
              "      border-radius: 50%;\n",
              "      cursor: pointer;\n",
              "      display: none;\n",
              "      fill: #1967D2;\n",
              "      height: 32px;\n",
              "      padding: 0 0 0 0;\n",
              "      width: 32px;\n",
              "    }\n",
              "\n",
              "    .colab-df-convert:hover {\n",
              "      background-color: #E2EBFA;\n",
              "      box-shadow: 0px 1px 2px rgba(60, 64, 67, 0.3), 0px 1px 3px 1px rgba(60, 64, 67, 0.15);\n",
              "      fill: #174EA6;\n",
              "    }\n",
              "\n",
              "    [theme=dark] .colab-df-convert {\n",
              "      background-color: #3B4455;\n",
              "      fill: #D2E3FC;\n",
              "    }\n",
              "\n",
              "    [theme=dark] .colab-df-convert:hover {\n",
              "      background-color: #434B5C;\n",
              "      box-shadow: 0px 1px 3px 1px rgba(0, 0, 0, 0.15);\n",
              "      filter: drop-shadow(0px 1px 2px rgba(0, 0, 0, 0.3));\n",
              "      fill: #FFFFFF;\n",
              "    }\n",
              "  </style>\n",
              "\n",
              "      <script>\n",
              "        const buttonEl =\n",
              "          document.querySelector('#df-4cb08ffe-faea-484e-8544-6cdc49bb4a2d button.colab-df-convert');\n",
              "        buttonEl.style.display =\n",
              "          google.colab.kernel.accessAllowed ? 'block' : 'none';\n",
              "\n",
              "        async function convertToInteractive(key) {\n",
              "          const element = document.querySelector('#df-4cb08ffe-faea-484e-8544-6cdc49bb4a2d');\n",
              "          const dataTable =\n",
              "            await google.colab.kernel.invokeFunction('convertToInteractive',\n",
              "                                                     [key], {});\n",
              "          if (!dataTable) return;\n",
              "\n",
              "          const docLinkHtml = 'Like what you see? Visit the ' +\n",
              "            '<a target=\"_blank\" href=https://colab.research.google.com/notebooks/data_table.ipynb>data table notebook</a>'\n",
              "            + ' to learn more about interactive tables.';\n",
              "          element.innerHTML = '';\n",
              "          dataTable['output_type'] = 'display_data';\n",
              "          await google.colab.output.renderOutput(dataTable, element);\n",
              "          const docLink = document.createElement('div');\n",
              "          docLink.innerHTML = docLinkHtml;\n",
              "          element.appendChild(docLink);\n",
              "        }\n",
              "      </script>\n",
              "    </div>\n",
              "  </div>\n",
              "  "
            ],
            "text/plain": [
              "                              column_index\n",
              "column_name                               \n",
              "fBodyAcc-bandsEnergy()-1,16              3\n",
              "fBodyAcc-bandsEnergy()-1,24              3\n",
              "fBodyAcc-bandsEnergy()-1,8               3\n",
              "fBodyAcc-bandsEnergy()-17,24             3\n",
              "fBodyAcc-bandsEnergy()-17,32             3"
            ]
          },
          "metadata": {},
          "execution_count": 22
        }
      ]
    },
    {
      "cell_type": "markdown",
      "source": [
        "피처 42개가 중복되어 있습니다. 이 중복된 피처에 _1이나 _2를 붙여서 새 피처를 갖도록 만드는 함수를 선언하겠습니다."
      ],
      "metadata": {
        "id": "Wk7VbPRXIrxm"
      }
    },
    {
      "cell_type": "code",
      "source": [
        "def get_new_feature_name_df(old_feature_name_df):\n",
        "    feature_dup_df = pd.DataFrame(data=old_feature_name_df.groupby('column_name').cumcount(),\n",
        "                                  columns=['dup_cnt'])\n",
        "    feature_dup_df = feature_dup_df.reset_index()\n",
        "    new_feature_name_df = pd.merge(old_feature_name_df.reset_index(), feature_dup_df, how='outer')\n",
        "    new_feature_name_df['column_name'] = new_feature_name_df[['column_name', 'dup_cnt']].apply(\n",
        "        lambda x: x[0] + '_' + str(x[1]) if x[1] > 0 else x[0], axis=1)\n",
        "    new_feature_name_df = new_feature_name_df.drop(['index'], axis=1)\n",
        "    return new_feature_name_df"
      ],
      "metadata": {
        "id": "SZD95I9fI8GV"
      },
      "execution_count": 35,
      "outputs": []
    },
    {
      "cell_type": "markdown",
      "source": [
        "데이터셋의 데이터프레임을 생성하는 함수를 선언하겠습니다."
      ],
      "metadata": {
        "id": "LlPrVftCNBqm"
      }
    },
    {
      "cell_type": "code",
      "source": [
        "def get_human_dataset():\n",
        "    feature_name_df = pd.read_csv('/content/gdrive/MyDrive/UCI HAR Dataset/UCI HAR Dataset/features.txt',\n",
        "                              sep='\\s+', header=None, names=['column_index', 'column_name'])\n",
        "    # 중복된 피처를 수정하는 `get_new_feature_name_df()` 함수를 호출하여\n",
        "    # 새 피처를 가진 데이터프레임을 생성합니다.\n",
        "    new_feature_name_df = get_new_feature_name_df(feature_name_df)\n",
        "    # 데이터프레임에 피처명을 칼럼으로 부여하기 위해 리스트 객체로 변환합니다.\n",
        "    feature_name = new_feature_name_df.iloc[:, 1].values.tolist()\n",
        "\n",
        "    X_train = pd.read_csv('/content/gdrive/MyDrive/UCI HAR Dataset/UCI HAR Dataset/train/X_train.txt',\n",
        "                          sep='\\s+', names=feature_name)\n",
        "    X_test = pd.read_csv('/content/gdrive/MyDrive/UCI HAR Dataset/UCI HAR Dataset/test/X_test.txt',\n",
        "                          sep='\\s+', names=feature_name)\n",
        "    y_train = pd.read_csv('/content/gdrive/MyDrive/UCI HAR Dataset/UCI HAR Dataset/train/y_train.txt',\n",
        "                          sep='\\s+', header=None, names=['action'])\n",
        "    y_test = pd.read_csv('/content/gdrive/MyDrive/UCI HAR Dataset/UCI HAR Dataset/test/y_test.txt',\n",
        "                          sep='\\s+', header=None, names=['action'])\n",
        "    return X_train, X_test, y_train, y_test"
      ],
      "metadata": {
        "id": "llMLPjJJKlkv"
      },
      "execution_count": 36,
      "outputs": []
    },
    {
      "cell_type": "markdown",
      "source": [
        "로드한 학습용 피처 데이터 세트를 확인해보겠습니다."
      ],
      "metadata": {
        "id": "3-JnU1iaOkMs"
      }
    },
    {
      "cell_type": "code",
      "source": [
        "X_train, X_test, y_train, y_test = get_human_dataset()\n",
        "print('학습 피처 데이터셋 info()')\n",
        "print(X_train.info())"
      ],
      "metadata": {
        "colab": {
          "base_uri": "https://localhost:8080/"
        },
        "id": "GmEmFkz4MMWv",
        "outputId": "0a2ad131-5f03-43b0-a9cf-61a5d1a9aa48"
      },
      "execution_count": 38,
      "outputs": [
        {
          "output_type": "stream",
          "name": "stdout",
          "text": [
            "학습 피처 데이터셋 info()\n",
            "<class 'pandas.core.frame.DataFrame'>\n",
            "RangeIndex: 7352 entries, 0 to 7351\n",
            "Columns: 561 entries, tBodyAcc-mean()-X to angle(Z,gravityMean)\n",
            "dtypes: float64(561)\n",
            "memory usage: 31.5 MB\n",
            "None\n"
          ]
        }
      ]
    },
    {
      "cell_type": "markdown",
      "source": [
        "\n",
        "\n",
        "---\n",
        "\n",
        "휴식 중\n",
        "\n",
        "---\n",
        "\n"
      ],
      "metadata": {
        "id": "7qaX05KYOtZO"
      }
    },
    {
      "cell_type": "markdown",
      "source": [
        "# **3. 앙상블 학습**"
      ],
      "metadata": {
        "id": "lctk2pssZ7CR"
      }
    },
    {
      "cell_type": "markdown",
      "source": [
        "## **3.1. 앙상블 학습 개요**"
      ],
      "metadata": {
        "id": "66bGobX0Z6_z"
      }
    },
    {
      "cell_type": "markdown",
      "source": [
        "## **3.2. 보팅 유형 - 하드 보팅(hard voting)과 소프트 보팅(soft voting)**"
      ],
      "metadata": {
        "id": "jE8SnQLEZ69Z"
      }
    },
    {
      "cell_type": "markdown",
      "source": [
        "## **3.3. 보팅 분류기(voting classifier)**"
      ],
      "metadata": {
        "id": "kq1gaDodZ668"
      }
    },
    {
      "cell_type": "markdown",
      "source": [
        "# **4. 랜덤 포레스트**"
      ],
      "metadata": {
        "id": "pA56rMJMZ64k"
      }
    },
    {
      "cell_type": "markdown",
      "source": [
        "## **4.1. 랜덤 포레스트 개요 및 실습**"
      ],
      "metadata": {
        "id": "uzxfpXTjZ62A"
      }
    },
    {
      "cell_type": "markdown",
      "source": [
        "## **4.2. 랜덤 포레스트 하이퍼 파라미터 및 튜닝**"
      ],
      "metadata": {
        "id": "CHvQJZJIZ6zd"
      }
    },
    {
      "cell_type": "markdown",
      "source": [
        "# **5. GBM(Gradient Boosting Machine)**"
      ],
      "metadata": {
        "id": "RGNrcwAKZ6xA"
      }
    },
    {
      "cell_type": "markdown",
      "source": [
        "## **5.1. GBM의 개요 및 실습**"
      ],
      "metadata": {
        "id": "GVWOuYxWbI6V"
      }
    },
    {
      "cell_type": "markdown",
      "source": [
        "## **5.2. GBM 하이퍼 파라미터 및 튜닝**"
      ],
      "metadata": {
        "id": "AMi4mGtKbI3T"
      }
    },
    {
      "cell_type": "markdown",
      "source": [
        "# **6. XGBoost(eXtra Gradient Boost)**"
      ],
      "metadata": {
        "id": "IEL0NYcMbI00"
      }
    },
    {
      "cell_type": "markdown",
      "source": [
        "## **6.1. XGBoost 개요**"
      ],
      "metadata": {
        "id": "XSA5gdUrbIyi"
      }
    },
    {
      "cell_type": "markdown",
      "source": [
        "## **6.2. XGBoost 설치하기**"
      ],
      "metadata": {
        "id": "wqsldGkVbIwF"
      }
    },
    {
      "cell_type": "markdown",
      "source": [
        "## **6.3. 파이썬 래퍼 XGBoost 하이퍼 파라미터**"
      ],
      "metadata": {
        "id": "k3abK_kwbItr"
      }
    },
    {
      "cell_type": "markdown",
      "source": [
        "## **6.4. 파이썬 래퍼 XGBoost 적용 - 위스콘신 유방암 예측**"
      ],
      "metadata": {
        "id": "VrSE_QX9cCBV"
      }
    },
    {
      "cell_type": "markdown",
      "source": [
        "## **6.5. 사이킷런 래퍼 XGBoost의 개요 및 적용**"
      ],
      "metadata": {
        "id": "JFM0-kQvcB-d"
      }
    },
    {
      "cell_type": "markdown",
      "source": [
        "# **7. LightGBM**"
      ],
      "metadata": {
        "id": "bPG8c5fDcB73"
      }
    },
    {
      "cell_type": "markdown",
      "source": [
        "## **7.1. LightGBM 설치**"
      ],
      "metadata": {
        "id": "nEaRwjM5cB4z"
      }
    },
    {
      "cell_type": "markdown",
      "source": [
        "## **7.2. LightGBM 하이퍼 파라미터**"
      ],
      "metadata": {
        "id": "3FNuWZ-5cB2T"
      }
    },
    {
      "cell_type": "markdown",
      "source": [
        "## **7.3. 하이퍼 파라미터 튜닝 방안**"
      ],
      "metadata": {
        "id": "q2R78lTXcBzl"
      }
    },
    {
      "cell_type": "markdown",
      "source": [
        "## **7.4. 파이썬 래퍼 LightGBM과 사이킷런 래퍼 XGBoost, LightGBM 하이퍼 파라미터 비교**"
      ],
      "metadata": {
        "id": "QcNDmQHycBw5"
      }
    },
    {
      "cell_type": "markdown",
      "source": [
        "## **7.5. LightGBM 적용 - 위스콘신 유방암 예측**"
      ],
      "metadata": {
        "id": "Ro7xeqcCbIrM"
      }
    },
    {
      "cell_type": "markdown",
      "source": [
        "# **8. 분류 실습 - 캐글 산탄데르 고객 만족 예측**"
      ],
      "metadata": {
        "id": "5w3bEDEobIoq"
      }
    },
    {
      "cell_type": "markdown",
      "source": [
        "## **8.1. 데이터 전처리**"
      ],
      "metadata": {
        "id": "RDtLJeNhc6Yo"
      }
    },
    {
      "cell_type": "markdown",
      "source": [
        "## **8.2. XGBoost 모델 학습과 하이퍼 파라미터 튜닝**"
      ],
      "metadata": {
        "id": "6bSw6czbc6WJ"
      }
    },
    {
      "cell_type": "markdown",
      "source": [
        "## **8.3. LightGBM 모델 학습과 하이퍼 파라미터 튜닝**"
      ],
      "metadata": {
        "id": "Pck-aYLkc6Tk"
      }
    },
    {
      "cell_type": "markdown",
      "source": [
        "# **9. 분류 실습 - 캐글 신용카드 사기 검출**"
      ],
      "metadata": {
        "id": "HpyB_iU5c6Re"
      }
    },
    {
      "cell_type": "markdown",
      "source": [
        "## **9.1. 언더 샘플링과 오버 샘플링의 이해**"
      ],
      "metadata": {
        "id": "vTrvsAhHc6Og"
      }
    },
    {
      "cell_type": "markdown",
      "source": [
        "## **9.2. 데이터 일차 가공 및 모델 학습/예측/평가**"
      ],
      "metadata": {
        "id": "lkRMpXaOc6Lk"
      }
    },
    {
      "cell_type": "markdown",
      "source": [
        "## **9.3. 데이터 분포도 변환 후 모델 학습/예측 평가**"
      ],
      "metadata": {
        "id": "PQPUdzSZdwPJ"
      }
    },
    {
      "cell_type": "markdown",
      "source": [
        "## **9.4. 이상치 데이터 제거 후 모델 학습/예측/평가**"
      ],
      "metadata": {
        "id": "1ItzaqZadwMD"
      }
    },
    {
      "cell_type": "markdown",
      "source": [
        "## **9.5. SMOTE 오버 샘플링 적용 후 모델 학습/예측/평가**"
      ],
      "metadata": {
        "id": "J6n7HdmIdwJa"
      }
    },
    {
      "cell_type": "markdown",
      "source": [
        "# **10. 스태킹 앙상블**"
      ],
      "metadata": {
        "id": "LeEiZ2DgdwHL"
      }
    },
    {
      "cell_type": "markdown",
      "source": [
        "## **10.1. 기본 스태킹 모델**"
      ],
      "metadata": {
        "id": "-1c0frvUdwD6"
      }
    },
    {
      "cell_type": "markdown",
      "source": [
        "## **10.2. CV 세트 기반의 스태킹**"
      ],
      "metadata": {
        "id": "-6WXD3JDdwA8"
      }
    },
    {
      "cell_type": "markdown",
      "source": [
        "# **11. 정리**"
      ],
      "metadata": {
        "id": "8BPEqyaWdv-Y"
      }
    }
  ]
}