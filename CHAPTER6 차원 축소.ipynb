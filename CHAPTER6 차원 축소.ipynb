{
  "nbformat": 4,
  "nbformat_minor": 0,
  "metadata": {
    "colab": {
      "name": "CHAPTER6 차원 축소.ipynb",
      "provenance": [],
      "collapsed_sections": [],
      "toc_visible": true,
      "authorship_tag": "ABX9TyPG1EOgTyLkV5j0tW4wVn5P",
      "include_colab_link": true
    },
    "kernelspec": {
      "name": "python3",
      "display_name": "Python 3"
    },
    "language_info": {
      "name": "python"
    }
  },
  "cells": [
    {
      "cell_type": "markdown",
      "metadata": {
        "id": "view-in-github",
        "colab_type": "text"
      },
      "source": [
        "<a href=\"https://colab.research.google.com/github/LeeSeungwon89/Machine-learning_Theory/blob/master/CHAPTER6%20%EC%B0%A8%EC%9B%90%20%EC%B6%95%EC%86%8C.ipynb\" target=\"_parent\"><img src=\"https://colab.research.google.com/assets/colab-badge.svg\" alt=\"Open In Colab\"/></a>"
      ]
    },
    {
      "cell_type": "markdown",
      "source": [
        "# **1. 차원 축소(Dimension Reduction) 개요**"
      ],
      "metadata": {
        "id": "HaqkYyqfhsw3"
      }
    },
    {
      "cell_type": "markdown",
      "source": [
        "# **2. PCA(Principal Component Analysis)**"
      ],
      "metadata": {
        "id": "b2ILjfP-hsui"
      }
    },
    {
      "cell_type": "markdown",
      "source": [
        "## **2.1. PCA 개요**"
      ],
      "metadata": {
        "id": "28XAfW0ohssS"
      }
    },
    {
      "cell_type": "markdown",
      "source": [
        "# **3. LDA(Linear Discriminant Analysis)**"
      ],
      "metadata": {
        "id": "cWrw1PRYhspu"
      }
    },
    {
      "cell_type": "markdown",
      "source": [
        "## **3.1. LDA 개요**"
      ],
      "metadata": {
        "id": "UqfTV-qihsnX"
      }
    },
    {
      "cell_type": "markdown",
      "source": [
        "## **3.2. 붓꽃 데이터 세트에 LDA 적용하기**"
      ],
      "metadata": {
        "id": "x9xCCx_shsk0"
      }
    },
    {
      "cell_type": "markdown",
      "source": [
        "# **4. SVD(Singular Value Decomposition)**"
      ],
      "metadata": {
        "id": "JAkRvvA4hsit"
      }
    },
    {
      "cell_type": "markdown",
      "source": [
        "## **4.1. SVD 개요**"
      ],
      "metadata": {
        "id": "hlyx2yorhsgb"
      }
    },
    {
      "cell_type": "markdown",
      "source": [
        "## **4.2. 사이킷런 TruncatedSVD 클래스를 이용한 변환**"
      ],
      "metadata": {
        "id": "MaLX1AdWhsd8"
      }
    },
    {
      "cell_type": "markdown",
      "source": [
        "# **5. NMF(Non-Negative Matrix Factorization)**"
      ],
      "metadata": {
        "id": "QxCunsn9hsb3"
      }
    },
    {
      "cell_type": "markdown",
      "source": [
        "## **5.1. NMF 개요**"
      ],
      "metadata": {
        "id": "jJmyCSxUhsZR"
      }
    },
    {
      "cell_type": "markdown",
      "source": [
        "# **6. 정리**"
      ],
      "metadata": {
        "id": "hMu1uhEjhsXA"
      }
    }
  ]
}