{
  "nbformat": 4,
  "nbformat_minor": 0,
  "metadata": {
    "colab": {
      "name": "3-2 선형 회귀.ipynb",
      "provenance": [],
      "collapsed_sections": [],
      "toc_visible": true,
      "authorship_tag": "ABX9TyNolS7AApB9RfA/0krJBtfy",
      "include_colab_link": true
    },
    "kernelspec": {
      "name": "python3",
      "display_name": "Python 3"
    },
    "language_info": {
      "name": "python"
    }
  },
  "cells": [
    {
      "cell_type": "markdown",
      "metadata": {
        "id": "view-in-github",
        "colab_type": "text"
      },
      "source": [
        "<a href=\"https://colab.research.google.com/github/LeeSeungwon89/Lecture-and-self-study/blob/master/3-2%20%EC%84%A0%ED%98%95%20%ED%9A%8C%EA%B7%80.ipynb\" target=\"_parent\"><img src=\"https://colab.research.google.com/assets/colab-badge.svg\" alt=\"Open In Colab\"/></a>"
      ]
    },
    {
      "cell_type": "markdown",
      "metadata": {
        "id": "ok3Ni5SWSRWJ"
      },
      "source": [
        "# 선형 회귀"
      ]
    },
    {
      "cell_type": "markdown",
      "metadata": {
        "id": "vEmsh1T1SYAP"
      },
      "source": [
        "## k-최근접 이웃의 한계"
      ]
    },
    {
      "cell_type": "code",
      "metadata": {
        "id": "whAH0NHkSQqv"
      },
      "source": [
        "import numpy as np\n",
        "\n",
        "perch_length = np.array(\n",
        "    [8.4, 13.7, 15.0, 16.2, 17.4, 18.0, 18.7, 19.0, 19.6, 20.0, \n",
        "     21.0, 21.0, 21.0, 21.3, 22.0, 22.0, 22.0, 22.0, 22.0, 22.5, \n",
        "     22.5, 22.7, 23.0, 23.5, 24.0, 24.0, 24.6, 25.0, 25.6, 26.5, \n",
        "     27.3, 27.5, 27.5, 27.5, 28.0, 28.7, 30.0, 32.8, 34.5, 35.0, \n",
        "     36.5, 36.0, 37.0, 37.0, 39.0, 39.0, 39.0, 40.0, 40.0, 40.0, \n",
        "     40.0, 42.0, 43.0, 43.0, 43.5, 44.0]\n",
        "     )\n",
        "\n",
        "perch_weight = np.array(\n",
        "    [5.9, 32.0, 40.0, 51.5, 70.0, 100.0, 78.0, 80.0, 85.0, 85.0, \n",
        "     110.0, 115.0, 125.0, 130.0, 120.0, 120.0, 130.0, 135.0, 110.0, \n",
        "     130.0, 150.0, 145.0, 150.0, 170.0, 225.0, 145.0, 188.0, 180.0, \n",
        "     197.0, 218.0, 300.0, 260.0, 265.0, 250.0, 250.0, 300.0, 320.0, \n",
        "     514.0, 556.0, 840.0, 685.0, 700.0, 700.0, 690.0, 900.0, 650.0, \n",
        "     820.0, 850.0, 900.0, 1015.0, 820.0, 1100.0, 1000.0, 1100.0, \n",
        "     1000.0, 1000.0]\n",
        "     )"
      ],
      "execution_count": null,
      "outputs": []
    },
    {
      "cell_type": "code",
      "metadata": {
        "id": "BSMUObpnSnTa"
      },
      "source": [
        "from sklearn.model_selection import train_test_split\n",
        "\n",
        "train_input, test_input, train_target, test_target = train_test_split(perch_length, perch_weight, random_state=42)"
      ],
      "execution_count": null,
      "outputs": []
    },
    {
      "cell_type": "code",
      "metadata": {
        "colab": {
          "base_uri": "https://localhost:8080/"
        },
        "id": "ae3hP0NUTXxQ",
        "outputId": "a783a8eb-0947-4a46-ab90-0e3de01c825a"
      },
      "source": [
        "# 2차원 배열로 변환해야 함.\n",
        "train_input = train_input.reshape(-1, 1)\n",
        "test_input = test_input.reshape(-1, 1)\n",
        "\n",
        "print(np.shape(train_input))\n",
        "\n",
        "print(train_input, test_input)"
      ],
      "execution_count": null,
      "outputs": [
        {
          "output_type": "stream",
          "text": [
            "(42, 1)\n",
            "[[19.6]\n",
            " [22. ]\n",
            " [18.7]\n",
            " [17.4]\n",
            " [36. ]\n",
            " [25. ]\n",
            " [40. ]\n",
            " [39. ]\n",
            " [43. ]\n",
            " [22. ]\n",
            " [20. ]\n",
            " [22. ]\n",
            " [24. ]\n",
            " [27.5]\n",
            " [43. ]\n",
            " [40. ]\n",
            " [24. ]\n",
            " [21. ]\n",
            " [27.5]\n",
            " [40. ]\n",
            " [32.8]\n",
            " [26.5]\n",
            " [36.5]\n",
            " [13.7]\n",
            " [22.7]\n",
            " [15. ]\n",
            " [37. ]\n",
            " [35. ]\n",
            " [28.7]\n",
            " [23.5]\n",
            " [39. ]\n",
            " [21. ]\n",
            " [23. ]\n",
            " [22. ]\n",
            " [44. ]\n",
            " [22.5]\n",
            " [19. ]\n",
            " [37. ]\n",
            " [22. ]\n",
            " [25.6]\n",
            " [42. ]\n",
            " [34.5]] [[ 8.4]\n",
            " [18. ]\n",
            " [27.5]\n",
            " [21.3]\n",
            " [22.5]\n",
            " [40. ]\n",
            " [30. ]\n",
            " [24.6]\n",
            " [39. ]\n",
            " [21. ]\n",
            " [43.5]\n",
            " [16.2]\n",
            " [28. ]\n",
            " [27.3]]\n"
          ],
          "name": "stdout"
        }
      ]
    },
    {
      "cell_type": "code",
      "metadata": {
        "colab": {
          "base_uri": "https://localhost:8080/"
        },
        "id": "bwLP79M_TpFf",
        "outputId": "fcb6ef44-8fd3-483e-edad-5454d645b076"
      },
      "source": [
        "from sklearn.neighbors import KNeighborsRegressor\n",
        "\n",
        "knr = KNeighborsRegressor(n_neighbors = 3)\n",
        "\n",
        "knr.fit(train_input, train_target)\n",
        "\n",
        "print(knr.predict([[50]]))\n",
        "print(knr.predict([[100]])) # 길이가 50, 100이면 무게를 1033으로 예측함.\n",
        "# 그러나 실제 농어의 무게는 1033이 아님. 훨씬 많이 나감. 게다가 같지도 않음."
      ],
      "execution_count": null,
      "outputs": [
        {
          "output_type": "stream",
          "text": [
            "[1033.33333333]\n",
            "[1033.33333333]\n"
          ],
          "name": "stdout"
        }
      ]
    },
    {
      "cell_type": "code",
      "metadata": {
        "colab": {
          "base_uri": "https://localhost:8080/",
          "height": 423
        },
        "id": "csJV7lrAZzDZ",
        "outputId": "c6a63ca8-5f1f-41e1-9def-7b99aab2917f"
      },
      "source": [
        " # 그려서 확인함.\n",
        "import matplotlib.pyplot as plt\n",
        "\n",
        " # 길이가 50, 100인 농어의 이웃까지의 거리, 이웃 샘플의 인덱스를 추출함.\n",
        "distances_50, indexes_50 = knr.kneighbors([[50]])\n",
        "distances_100, indexes_100 = knr.kneighbors([[100]])\n",
        "\n",
        "print(distances_50, indexes_50)\n",
        "print(distances_100, indexes_100) # 이웃까지의 거리는 다르나 이웃 샘플의 인덱스는 같음.\n",
        "\n",
        "print(train_input[indexes_50])\n",
        "print(train_input[indexes_100]) # 34, 8, 14번째(인덱스) 데이터를 반환함.\n",
        "\n",
        "plt.scatter(train_input, train_target) # 파란색 원점으로 표시함.\n",
        "\n",
        "plt.scatter(train_input[indexes_50], train_target[indexes_50], marker = 'D') # 초록색 마름모로 표시함. 이웃 샘플의 인덱스가 같음.\n",
        "plt.scatter(train_input[indexes_100], train_target[indexes_100], marker = 'D') # 초록색 마름모로 표시함. 이웃 샘플의 인덱스가 같음.\n",
        "\n",
        "plt.scatter(50, 1033, marker = '^') # 세모로 표시함.\n",
        "plt.scatter(100, 1033, marker = '^') \n",
        "\n",
        "plt.xlabel('length')\n",
        "plt.ylabel('weight')\n",
        "\n",
        "plt.show()"
      ],
      "execution_count": null,
      "outputs": [
        {
          "output_type": "stream",
          "text": [
            "[[6. 7. 7.]] [[34  8 14]]\n",
            "[[56. 57. 57.]] [[34  8 14]]\n",
            "[[[44.]\n",
            "  [43.]\n",
            "  [43.]]]\n",
            "[[[44.]\n",
            "  [43.]\n",
            "  [43.]]]\n"
          ],
          "name": "stdout"
        },
        {
          "output_type": "display_data",
          "data": {
            "image/png": "[encoded data removed]",
            "text/plain": [
              "<Figure size 432x288 with 1 Axes>"
            ]
          },
          "metadata": {
            "tags": [],
            "needs_background": "light"
          }
        }
      ]
    },
    {
      "cell_type": "code",
      "metadata": {
        "id": "wZ-eDRDeasq-",
        "colab": {
          "base_uri": "https://localhost:8080/"
        },
        "outputId": "b9e0b96a-130b-47eb-a8ab-6a51b16e33ec"
      },
      "source": [
        "print(train_target[indexes_100])\n",
        "\n",
        "print(np.mean(train_target[indexes_100])) # 샘플 3개의 무게를 평균한 값이 예측값임."
      ],
      "execution_count": null,
      "outputs": [
        {
          "output_type": "stream",
          "text": [
            "[[1000. 1000. 1100.]]\n",
            "1033.3333333333333\n"
          ],
          "name": "stdout"
        }
      ]
    },
    {
      "cell_type": "markdown",
      "metadata": {
        "id": "rJoU4H_UCS6g"
      },
      "source": [
        "## 선형 회귀\n",
        "\n",
        "- 대표적인 회귀 알고리즘\n",
        "- $y = ax + b$\n",
        "\n",
        " 무게 = $a$ * 길이 + $b$\n",
        "\n",
        " $a$ = 기울기 (계수(coefficient) or 가중치(weight)로 부름.)\n",
        "\n",
        " $b$ = 절편\n",
        "\n",
        " $a$와 $b$는 LinearRegression 클래스가 찾음.\n",
        "\n",
        "  가중치가 기울기와 절편 모두를 의미하는 경우가 많음."
      ]
    },
    {
      "cell_type": "code",
      "metadata": {
        "colab": {
          "base_uri": "https://localhost:8080/"
        },
        "id": "tORLl8Er-wyA",
        "outputId": "a9ef4ceb-21ec-4380-eb89-5eadc6a82832"
      },
      "source": [
        "# 이 문제를 해결하기 위한 알고리즘은 선형 회귀임.\n",
        "from sklearn.linear_model import LinearRegression\n",
        "\n",
        "lr = LinearRegression()\n",
        "\n",
        "# 선형 회귀 모델로 훈련함.\n",
        "lr.fit(train_input, train_target)\n",
        "\n",
        "print(lr.predict([[50]]))"
      ],
      "execution_count": null,
      "outputs": [
        {
          "output_type": "stream",
          "text": [
            "[1241.83860323]\n"
          ],
          "name": "stdout"
        }
      ]
    },
    {
      "cell_type": "code",
      "metadata": {
        "colab": {
          "base_uri": "https://localhost:8080/"
        },
        "id": "gcyJICFNDDbx",
        "outputId": "90eea72b-768a-4040-fd81-ca3356a5d91f"
      },
      "source": [
        "# LinearRegression 클래스가 찾은 a(계수)는 lr객체의 'coef_' 속성에 저장됨. 배열의 크기는 특성의 개수와 같음.\n",
        "# LinearRegression 클래스가 찾은 b(절편)는 lr객체의 'intercept_' 속성에 저장됨.\n",
        "# 머신러닝이 찾은 이 값들을 '모델 파라미터(model parameter)' 라고 함.\n",
        "# 머신러닝 알고리즘의 훈련 과정은 최적의 모델 파라미터를 찾는 것임. 이를 '모델 기반 학습' 이라고 함.\n",
        "# K-최근접 이웃에는 모델 파라미터가 없음. 훈련 세트를 저장하는 것이 전부임. 이를 '사례 기반 학습' 이라고 함.\n",
        "print(lr.coef_, lr.intercept_) # 열(특성=피처)이 2개이므로 계수가 2개임. 절편은 1개를 만듦."
      ],
      "execution_count": null,
      "outputs": [
        {
          "output_type": "stream",
          "text": [
            "[39.01714496] -709.0186449535477\n"
          ],
          "name": "stdout"
        }
      ]
    },
    {
      "cell_type": "code",
      "metadata": {
        "colab": {
          "base_uri": "https://localhost:8080/",
          "height": 315
        },
        "id": "gXFwBXAZN5Pj",
        "outputId": "23cda374-9c23-4d16-87c7-f8bb5f6347c2"
      },
      "source": [
        "plt.scatter(train_input, train_target)\n",
        "\n",
        "# 15에서 50까지 1차 방정식 그래프를 그림.\n",
        "plt.plot([15, 50], [15 * lr.coef_ + lr.intercept_, 50 * lr.coef_ + lr.intercept_])\n",
        "\n",
        "# 50cm 농어 데이터를 그림.\n",
        "plt.scatter(50, 1241.8, marker='^')\n",
        "plt.xlabel('length')\n",
        "plt.ylabel('weight')\n",
        "plt.show() # 그래프 왼쪽 아래가 이상함.\n",
        "\n",
        "# R^2 점수를 확인함.\n",
        "print(lr.score(train_input, train_target))\n",
        "print(lr.score(test_input, test_target))\n",
        "# 전체적으로 과소적합됨.\n",
        "# 결론은 직선 형태로는 제대로 된 예측을 할 수 없음."
      ],
      "execution_count": null,
      "outputs": [
        {
          "output_type": "display_data",
          "data": {
            "image/png": "[encoded data removed]",
            "text/plain": [
              "<Figure size 432x288 with 1 Axes>"
            ]
          },
          "metadata": {
            "tags": [],
            "needs_background": "light"
          }
        },
        {
          "output_type": "stream",
          "text": [
            "0.9398463339976039\n",
            "0.8247503123313558\n"
          ],
          "name": "stdout"
        }
      ]
    },
    {
      "cell_type": "markdown",
      "metadata": {
        "id": "6frZGiu0SuMr"
      },
      "source": [
        "## 다항 회귀\n",
        "\n",
        "- $y = ax^2 + bx + c$\n",
        "\n",
        " 무게 = $a$ * 길이$^2$ + $b$ * 길이 + $c$\n",
        "\n",
        " $a, b$ = 기울기 (계수(coefficient) or 가중치(weight)로 부름.)\n",
        "\n",
        " $c$ = 절편\n",
        "\n",
        " 가중치가 기울기와 절편 모두를 의미하는 경우가 많음."
      ]
    },
    {
      "cell_type": "code",
      "metadata": {
        "colab": {
          "base_uri": "https://localhost:8080/"
        },
        "id": "2pzpXNBAPD_q",
        "outputId": "a8b0dd17-7b66-4558-db46-a6c5714aa6bb"
      },
      "source": [
        "# 2차 방정식 그래프를 그려서 곡선 형태로 잡아줘야 함.\n",
        "# 2차 방정식 그래프를 그리려면 길이를 제곱한 항을 column_stack() 함수를 사용하여 훈련 세트에 추가해야 함.\n",
        "train_poly = np. column_stack((train_input ** 2, train_input))\n",
        "test_poly = np.column_stack((test_input ** 2, test_input))\n",
        "\n",
        "print(train_poly.shape)\n",
        "print(train_poly)\n",
        "\n",
        "print(test_poly.shape)\n",
        "print(test_poly)\n",
        "# 이렇게 제곱 항을 추가했지만 타깃값은 그대로 사용하는 형태임. 목표 값은 어떤 그래프를 훈련하든 바꿀 필요가 없음."
      ],
      "execution_count": null,
      "outputs": [
        {
          "output_type": "stream",
          "text": [
            "(42, 2)\n",
            "[[ 384.16   19.6 ]\n",
            " [ 484.     22.  ]\n",
            " [ 349.69   18.7 ]\n",
            " [ 302.76   17.4 ]\n",
            " [1296.     36.  ]\n",
            " [ 625.     25.  ]\n",
            " [1600.     40.  ]\n",
            " [1521.     39.  ]\n",
            " [1849.     43.  ]\n",
            " [ 484.     22.  ]\n",
            " [ 400.     20.  ]\n",
            " [ 484.     22.  ]\n",
            " [ 576.     24.  ]\n",
            " [ 756.25   27.5 ]\n",
            " [1849.     43.  ]\n",
            " [1600.     40.  ]\n",
            " [ 576.     24.  ]\n",
            " [ 441.     21.  ]\n",
            " [ 756.25   27.5 ]\n",
            " [1600.     40.  ]\n",
            " [1075.84   32.8 ]\n",
            " [ 702.25   26.5 ]\n",
            " [1332.25   36.5 ]\n",
            " [ 187.69   13.7 ]\n",
            " [ 515.29   22.7 ]\n",
            " [ 225.     15.  ]\n",
            " [1369.     37.  ]\n",
            " [1225.     35.  ]\n",
            " [ 823.69   28.7 ]\n",
            " [ 552.25   23.5 ]\n",
            " [1521.     39.  ]\n",
            " [ 441.     21.  ]\n",
            " [ 529.     23.  ]\n",
            " [ 484.     22.  ]\n",
            " [1936.     44.  ]\n",
            " [ 506.25   22.5 ]\n",
            " [ 361.     19.  ]\n",
            " [1369.     37.  ]\n",
            " [ 484.     22.  ]\n",
            " [ 655.36   25.6 ]\n",
            " [1764.     42.  ]\n",
            " [1190.25   34.5 ]]\n",
            "(14, 2)\n",
            "[[  70.56    8.4 ]\n",
            " [ 324.     18.  ]\n",
            " [ 756.25   27.5 ]\n",
            " [ 453.69   21.3 ]\n",
            " [ 506.25   22.5 ]\n",
            " [1600.     40.  ]\n",
            " [ 900.     30.  ]\n",
            " [ 605.16   24.6 ]\n",
            " [1521.     39.  ]\n",
            " [ 441.     21.  ]\n",
            " [1892.25   43.5 ]\n",
            " [ 262.44   16.2 ]\n",
            " [ 784.     28.  ]\n",
            " [ 745.29   27.3 ]]\n"
          ],
          "name": "stdout"
        }
      ]
    },
    {
      "cell_type": "code",
      "metadata": {
        "colab": {
          "base_uri": "https://localhost:8080/"
        },
        "id": "Oe5weTF5ODgR",
        "outputId": "dbbc3e66-e871-4c5e-e9bf-589a89f3d168"
      },
      "source": [
        "# 테스트 할 때는 이 모델에 길이의 제곱과 원래 길이를 함께 넣어줘야 함.\n",
        "lr = LinearRegression()\n",
        "\n",
        "lr.fit(train_poly, train_target)\n",
        "\n",
        "print(lr.predict([[50 ** 2, 50]]))\n",
        "# 약 1574라는 값을 예측함."
      ],
      "execution_count": null,
      "outputs": [
        {
          "output_type": "stream",
          "text": [
            "[1573.98423528]\n"
          ],
          "name": "stdout"
        }
      ]
    },
    {
      "cell_type": "code",
      "metadata": {
        "colab": {
          "base_uri": "https://localhost:8080/"
        },
        "id": "Qo7lrlhNO06S",
        "outputId": "c753f3cc-0c3e-4386-af90-93cb0d2bf624"
      },
      "source": [
        "print(lr.coef_, lr.intercept_) # 열(특성=피처)이 2개이므로 계수가 2개임. 절편은 1개를 만듦."
      ],
      "execution_count": null,
      "outputs": [
        {
          "output_type": "stream",
          "text": [
            "[  1.01433211 -21.55792498] 116.05021078278276\n"
          ],
          "name": "stdout"
        }
      ]
    },
    {
      "cell_type": "code",
      "metadata": {
        "colab": {
          "base_uri": "https://localhost:8080/",
          "height": 279
        },
        "id": "hFqrxHyORbtv",
        "outputId": "39d53d0a-cffc-4d5b-89d3-c6828e2f4135"
      },
      "source": [
        "# 구간별 직선을 그리고자 15에서 49까지 정수 배열을 만듦.\n",
        "point = np.arange(15, 50)\n",
        "\n",
        "plt.scatter(train_input, train_target)\n",
        "\n",
        "# 15에서 49까지 2차 방정식 그래프를 그림.\n",
        "plt.plot(point, 1.01 * point ** 2 - 21.6 * point + 116.05)\n",
        "\n",
        "plt.scatter(50, 1574, marker = '^')\n",
        "\n",
        "plt.xlabel('length')\n",
        "plt.ylabel('weight')\n",
        "\n",
        "plt.show()"
      ],
      "execution_count": null,
      "outputs": [
        {
          "output_type": "display_data",
          "data": {
            "image/png": "[encoded data removed]",
            "text/plain": [
              "<Figure size 432x288 with 1 Axes>"
            ]
          },
          "metadata": {
            "tags": [],
            "needs_background": "light"
          }
        }
      ]
    },
    {
      "cell_type": "code",
      "metadata": {
        "colab": {
          "base_uri": "https://localhost:8080/"
        },
        "id": "sy7pTqGuSesy",
        "outputId": "defa5b3c-b2c3-498b-d0f7-46736e35cca5"
      },
      "source": [
        "print(lr.score(train_poly, train_target))\n",
        "print(lr.score(test_poly, test_target))\n",
        "# 아직 과소적합임."
      ],
      "execution_count": null,
      "outputs": [
        {
          "output_type": "stream",
          "text": [
            "0.9706807451768623\n",
            "0.9775935108325122\n"
          ],
          "name": "stdout"
        }
      ]
    }
  ]
}