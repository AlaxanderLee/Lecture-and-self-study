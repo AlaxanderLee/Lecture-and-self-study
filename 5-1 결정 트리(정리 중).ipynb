{
  "nbformat": 4,
  "nbformat_minor": 0,
  "metadata": {
    "colab": {
      "name": "5-1 결정 트리(정리 중).ipynb",
      "provenance": [],
      "toc_visible": true,
      "authorship_tag": "ABX9TyP2BdOtru3yjQ//cZi5K0KH",
      "include_colab_link": true
    },
    "kernelspec": {
      "name": "python3",
      "display_name": "Python 3"
    },
    "language_info": {
      "name": "python"
    }
  },
  "cells": [
    {
      "cell_type": "markdown",
      "metadata": {
        "id": "view-in-github",
        "colab_type": "text"
      },
      "source": [
        "<a href=\"https://colab.research.google.com/github/AlaxanderLee/Lecture-and-self-study/blob/master/5-1%20%EA%B2%B0%EC%A0%95%20%ED%8A%B8%EB%A6%AC(%EC%A0%95%EB%A6%AC%20%EC%A4%91).ipynb\" target=\"_parent\"><img src=\"https://colab.research.google.com/assets/colab-badge.svg\" alt=\"Open In Colab\"/></a>"
      ]
    },
    {
      "cell_type": "markdown",
      "metadata": {
        "id": "_62JjppIBmwH"
      },
      "source": [
        "# 결정 트리"
      ]
    }
  ]
}