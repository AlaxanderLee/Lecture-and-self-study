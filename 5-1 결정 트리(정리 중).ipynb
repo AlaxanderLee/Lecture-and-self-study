{
  "nbformat": 4,
  "nbformat_minor": 0,
  "metadata": {
    "colab": {
      "name": "5-1 결정 트리(정리 중).ipynb",
      "provenance": [],
      "collapsed_sections": [],
      "toc_visible": true,
      "authorship_tag": "ABX9TyNFaCkVXKkuN70opeNrsB1Y",
      "include_colab_link": true
    },
    "kernelspec": {
      "name": "python3",
      "display_name": "Python 3"
    },
    "language_info": {
      "name": "python"
    }
  },
  "cells": [
    {
      "cell_type": "markdown",
      "metadata": {
        "id": "view-in-github",
        "colab_type": "text"
      },
      "source": [
        "<a href=\"https://colab.research.google.com/github/LeeSeungwon89/Lecture-and-self-study/blob/master/5-1%20%EA%B2%B0%EC%A0%95%20%ED%8A%B8%EB%A6%AC(%EC%A0%95%EB%A6%AC%20%EC%A4%91).ipynb\" target=\"_parent\"><img src=\"https://colab.research.google.com/assets/colab-badge.svg\" alt=\"Open In Colab\"/></a>"
      ]
    },
    {
      "cell_type": "markdown",
      "metadata": {
        "id": "_62JjppIBmwH"
      },
      "source": [
        "# 결정 트리"
      ]
    },
    {
      "cell_type": "markdown",
      "metadata": {
        "id": "YJIpXjrHCxiv"
      },
      "source": [
        "## 로지스틱 회귀로 와인 분류하기"
      ]
    },
    {
      "cell_type": "markdown",
      "metadata": {
        "id": "9SEtRUQUsj8O"
      },
      "source": [
        "### 데이터 준비"
      ]
    },
    {
      "cell_type": "code",
      "metadata": {
        "colab": {
          "base_uri": "https://localhost:8080/"
        },
        "id": "Jk_ml1AlC3AP",
        "outputId": "d8905c62-8565-47b7-d5dd-a7e6301c175c"
      },
      "source": [
        "import pandas as pd\n",
        "\n",
        "wine = pd.read_csv('https://bit.ly/wine_csv_data')\n",
        "print(wine)\n",
        "# 총 샘플 6496개로 이루어진 판다스 데이터프레임이며,\n",
        "# 네 번째 열은 타깃값으로 0(음성 클래스)이면 레드 와인, 1(양성 클래스)이면 화이트 와인임.\n",
        "# 즉 화이트 와인을 골라내는 문제임."
      ],
      "execution_count": 11,
      "outputs": [
        {
          "output_type": "stream",
          "text": [
            "      alcohol  sugar    pH  class\n",
            "0         9.4    1.9  3.51    0.0\n",
            "1         9.8    2.6  3.20    0.0\n",
            "2         9.8    2.3  3.26    0.0\n",
            "3         9.8    1.9  3.16    0.0\n",
            "4         9.4    1.9  3.51    0.0\n",
            "...       ...    ...   ...    ...\n",
            "6492     11.2    1.6  3.27    1.0\n",
            "6493      9.6    8.0  3.15    1.0\n",
            "6494      9.4    1.2  2.99    1.0\n",
            "6495     12.8    1.1  3.34    1.0\n",
            "6496     11.8    0.8  3.26    1.0\n",
            "\n",
            "[6497 rows x 4 columns]\n"
          ],
          "name": "stdout"
        }
      ]
    },
    {
      "cell_type": "code",
      "metadata": {
        "id": "JaKTrijYDt-Y",
        "colab": {
          "base_uri": "https://localhost:8080/"
        },
        "outputId": "db284484-de34-4591-e67b-86f8d2af4aff"
      },
      "source": [
        "# info() 메서드를 사용하여 누락된 데이터가 있는지 확인함.\n",
        "wine.info()\n",
        "# 누락된 값은 없음.\n",
        "# 만약 누락된 값이 있다면 그 데이터를 버리거나 평균값으로 채우고 사용함.\n",
        "# 최선의 방법이 정해진 건 아니므로 두 방법 모두 사용해보고 최선을 택함.."
      ],
      "execution_count": 12,
      "outputs": [
        {
          "output_type": "stream",
          "text": [
            "<class 'pandas.core.frame.DataFrame'>\n",
            "RangeIndex: 6497 entries, 0 to 6496\n",
            "Data columns (total 4 columns):\n",
            " #   Column   Non-Null Count  Dtype  \n",
            "---  ------   --------------  -----  \n",
            " 0   alcohol  6497 non-null   float64\n",
            " 1   sugar    6497 non-null   float64\n",
            " 2   pH       6497 non-null   float64\n",
            " 3   class    6497 non-null   float64\n",
            "dtypes: float64(4)\n",
            "memory usage: 203.2 KB\n"
          ],
          "name": "stdout"
        }
      ]
    },
    {
      "cell_type": "code",
      "metadata": {
        "colab": {
          "base_uri": "https://localhost:8080/",
          "height": 297
        },
        "id": "FIbKL0xis1J-",
        "outputId": "f5dc59b6-4e13-43a8-b790-215c0e512278"
      },
      "source": [
        "# describe() 메서드를 사용하여 열에 대한 간략한 통계를 출력함.\n",
        "wine.describe()\n",
        "# 개수, 평균, 표준편차, 최소, 최대, 1사분위수 ~ 최대까지 알려줌.\n",
        "# 만약 데이터 개수가 짝수개라서 중앙값을 선택하기 어려운 경우는 가운데 값 2개의 평균을 사용함.\n",
        "# 각 특성의 스케일이 다르므로 StandardScaler 클래스를 사용하여 특성을 표준화 전처리 해야 함."
      ],
      "execution_count": 13,
      "outputs": [
        {
          "output_type": "execute_result",
          "data": {
            "text/html": [
              "<div>\n",
              "<style scoped>\n",
              "    .dataframe tbody tr th:only-of-type {\n",
              "        vertical-align: middle;\n",
              "    }\n",
              "\n",
              "    .dataframe tbody tr th {\n",
              "        vertical-align: top;\n",
              "    }\n",
              "\n",
              "    .dataframe thead th {\n",
              "        text-align: right;\n",
              "    }\n",
              "</style>\n",
              "<table border=\"1\" class=\"dataframe\">\n",
              "  <thead>\n",
              "    <tr style=\"text-align: right;\">\n",
              "      <th></th>\n",
              "      <th>alcohol</th>\n",
              "      <th>sugar</th>\n",
              "      <th>pH</th>\n",
              "      <th>class</th>\n",
              "    </tr>\n",
              "  </thead>\n",
              "  <tbody>\n",
              "    <tr>\n",
              "      <th>count</th>\n",
              "      <td>6497.000000</td>\n",
              "      <td>6497.000000</td>\n",
              "      <td>6497.000000</td>\n",
              "      <td>6497.000000</td>\n",
              "    </tr>\n",
              "    <tr>\n",
              "      <th>mean</th>\n",
              "      <td>10.491801</td>\n",
              "      <td>5.443235</td>\n",
              "      <td>3.218501</td>\n",
              "      <td>0.753886</td>\n",
              "    </tr>\n",
              "    <tr>\n",
              "      <th>std</th>\n",
              "      <td>1.192712</td>\n",
              "      <td>4.757804</td>\n",
              "      <td>0.160787</td>\n",
              "      <td>0.430779</td>\n",
              "    </tr>\n",
              "    <tr>\n",
              "      <th>min</th>\n",
              "      <td>8.000000</td>\n",
              "      <td>0.600000</td>\n",
              "      <td>2.720000</td>\n",
              "      <td>0.000000</td>\n",
              "    </tr>\n",
              "    <tr>\n",
              "      <th>25%</th>\n",
              "      <td>9.500000</td>\n",
              "      <td>1.800000</td>\n",
              "      <td>3.110000</td>\n",
              "      <td>1.000000</td>\n",
              "    </tr>\n",
              "    <tr>\n",
              "      <th>50%</th>\n",
              "      <td>10.300000</td>\n",
              "      <td>3.000000</td>\n",
              "      <td>3.210000</td>\n",
              "      <td>1.000000</td>\n",
              "    </tr>\n",
              "    <tr>\n",
              "      <th>75%</th>\n",
              "      <td>11.300000</td>\n",
              "      <td>8.100000</td>\n",
              "      <td>3.320000</td>\n",
              "      <td>1.000000</td>\n",
              "    </tr>\n",
              "    <tr>\n",
              "      <th>max</th>\n",
              "      <td>14.900000</td>\n",
              "      <td>65.800000</td>\n",
              "      <td>4.010000</td>\n",
              "      <td>1.000000</td>\n",
              "    </tr>\n",
              "  </tbody>\n",
              "</table>\n",
              "</div>"
            ],
            "text/plain": [
              "           alcohol        sugar           pH        class\n",
              "count  6497.000000  6497.000000  6497.000000  6497.000000\n",
              "mean     10.491801     5.443235     3.218501     0.753886\n",
              "std       1.192712     4.757804     0.160787     0.430779\n",
              "min       8.000000     0.600000     2.720000     0.000000\n",
              "25%       9.500000     1.800000     3.110000     1.000000\n",
              "50%      10.300000     3.000000     3.210000     1.000000\n",
              "75%      11.300000     8.100000     3.320000     1.000000\n",
              "max      14.900000    65.800000     4.010000     1.000000"
            ]
          },
          "metadata": {
            "tags": []
          },
          "execution_count": 13
        }
      ]
    },
    {
      "cell_type": "code",
      "metadata": {
        "colab": {
          "base_uri": "https://localhost:8080/"
        },
        "id": "xEZm0_trt5Ja",
        "outputId": "15424629-f00d-49cf-e348-82e9ed4140b2"
      },
      "source": [
        "# 판다스 데이터프레임을 넘파이 배열로 바꾸고, 훈련 세트와 테스트 세트로 나눔.\n",
        "data = wine[['alcohol', 'sugar', 'pH']].to_numpy() # 특성만 골라서 2차원 리스트로 만듦.\n",
        "print(data)\n",
        "\n",
        "target = wine['class'].to_numpy() # 타깃만 골라서 1차원 리스트로 만듦.\n",
        "print(target)\n",
        "\n",
        "from sklearn.model_selection import train_test_split\n",
        "\n",
        "train_input, test_input, train_target, test_target = train_test_split(data, target, test_size = 0.2, random_state = 42)\n",
        "# test_size 매개변수의 기본값은 0.25(25%). 샘플 개수가 충분히 많으므로 0.2로 지정함.\n",
        "\n",
        "print(train_input.shape, test_input.shape)"
      ],
      "execution_count": 19,
      "outputs": [
        {
          "output_type": "stream",
          "text": [
            "[[ 9.4   1.9   3.51]\n",
            " [ 9.8   2.6   3.2 ]\n",
            " [ 9.8   2.3   3.26]\n",
            " ...\n",
            " [ 9.4   1.2   2.99]\n",
            " [12.8   1.1   3.34]\n",
            " [11.8   0.8   3.26]]\n",
            "[0. 0. 0. ... 1. 1. 1.]\n",
            "(5197, 3) (1300, 3)\n"
          ],
          "name": "stdout"
        }
      ]
    },
    {
      "cell_type": "code",
      "metadata": {
        "colab": {
          "base_uri": "https://localhost:8080/"
        },
        "id": "qTJis_ndxu4A",
        "outputId": "936e7066-f232-4828-a6c1-8a47e850642d"
      },
      "source": [
        "# StandardScaler 클래스를 사용하여 훈련 세트를 전처리 함.\n",
        "from sklearn.preprocessing import StandardScaler\n",
        "\n",
        "ss = StandardScaler()\n",
        "\n",
        "ss.fit(train_input)\n",
        "\n",
        "train_scaled = ss.transform(train_input)\n",
        "test_scaled = ss.transform(test_input)\n",
        "\n",
        "print(train_scaled, test_scaled)"
      ],
      "execution_count": 23,
      "outputs": [
        {
          "output_type": "stream",
          "text": [
            "[[ 0.01376574  0.4646116  -0.16888369]\n",
            " [ 1.60871671 -0.70299854  0.26967864]\n",
            " [ 1.10504798 -0.70299854  1.20945505]\n",
            " ...\n",
            " [-0.82568214  0.0267578   0.14437512]\n",
            " [-0.82568214  0.52716215 -0.23153545]\n",
            " [-0.82568214 -0.57789745  1.83597265]] [[ 1.44082714  1.52797084  0.26967864]\n",
            " [-0.48990299 -0.68214836  0.3323304 ]\n",
            " [ 1.27293756  0.40206106 -0.23153545]\n",
            " ...\n",
            " [ 1.60871671 -0.76554908 -0.16888369]\n",
            " [-0.90962693  0.88161523  0.52028568]\n",
            " [-1.49724045  2.09092573 -1.98578474]]\n"
          ],
          "name": "stdout"
        }
      ]
    },
    {
      "cell_type": "code",
      "metadata": {
        "colab": {
          "base_uri": "https://localhost:8080/"
        },
        "id": "uR5ARurTzK5U",
        "outputId": "621010cd-a7cb-4fef-8c1e-ad26d10a9aa7"
      },
      "source": [
        "# 로지스틱 회귀 모델을 훈련함.\n",
        "from sklearn.linear_model import LogisticRegression\n",
        "\n",
        "lr = LogisticRegression()\n",
        "\n",
        "lr.fit(train_scaled, train_target)\n",
        "\n",
        "print(lr.score(train_scaled, train_target))\n",
        "print(lr.score(test_scaled, test_target))\n",
        "# 과소적합 상태임. "
      ],
      "execution_count": 25,
      "outputs": [
        {
          "output_type": "stream",
          "text": [
            "0.7808350971714451\n",
            "0.7776923076923077\n"
          ],
          "name": "stdout"
        }
      ]
    }
  ]
}