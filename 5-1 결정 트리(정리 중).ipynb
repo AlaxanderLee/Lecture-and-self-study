{
  "nbformat": 4,
  "nbformat_minor": 0,
  "metadata": {
    "colab": {
      "name": "5-1 결정 트리(정리 중).ipynb",
      "provenance": [],
      "collapsed_sections": [],
      "toc_visible": true,
      "authorship_tag": "ABX9TyOBaR/AIaTogc3TTaOwwb99",
      "include_colab_link": true
    },
    "kernelspec": {
      "name": "python3",
      "display_name": "Python 3"
    },
    "language_info": {
      "name": "python"
    }
  },
  "cells": [
    {
      "cell_type": "markdown",
      "metadata": {
        "id": "view-in-github",
        "colab_type": "text"
      },
      "source": [
        "<a href=\"https://colab.research.google.com/github/AlaxanderLee/Lecture-and-self-study/blob/master/5-1%20%EA%B2%B0%EC%A0%95%20%ED%8A%B8%EB%A6%AC(%EC%A0%95%EB%A6%AC%20%EC%A4%91).ipynb\" target=\"_parent\"><img src=\"https://colab.research.google.com/assets/colab-badge.svg\" alt=\"Open In Colab\"/></a>"
      ]
    },
    {
      "cell_type": "markdown",
      "metadata": {
        "id": "_62JjppIBmwH"
      },
      "source": [
        "# 결정 트리"
      ]
    },
    {
      "cell_type": "markdown",
      "metadata": {
        "id": "YJIpXjrHCxiv"
      },
      "source": [
        "## 로지스틱 회귀로 와인 분류하기"
      ]
    },
    {
      "cell_type": "code",
      "metadata": {
        "colab": {
          "base_uri": "https://localhost:8080/"
        },
        "id": "Jk_ml1AlC3AP",
        "outputId": "805b2be8-d3d8-49c5-a0d0-634f57b7e6e3"
      },
      "source": [
        "import pandas as pd\n",
        "\n",
        "wine = pd.read_csv('https://bit.ly/wine_csv_data')\n",
        "print(wine)\n",
        "# 총 샘플 6496개로 이루어진 판다스 데이터프레임이며,\n",
        "# 네 번째 열은 타깃값으로 0(음성 클래스)이면 레드 와인, 1(양성 클래스)이면 화이트 와인임.\n",
        "# 즉 화이트 와인을 골라내는 문제임."
      ],
      "execution_count": 1,
      "outputs": [
        {
          "output_type": "stream",
          "text": [
            "      alcohol  sugar    pH  class\n",
            "0         9.4    1.9  3.51    0.0\n",
            "1         9.8    2.6  3.20    0.0\n",
            "2         9.8    2.3  3.26    0.0\n",
            "3         9.8    1.9  3.16    0.0\n",
            "4         9.4    1.9  3.51    0.0\n",
            "...       ...    ...   ...    ...\n",
            "6492     11.2    1.6  3.27    1.0\n",
            "6493      9.6    8.0  3.15    1.0\n",
            "6494      9.4    1.2  2.99    1.0\n",
            "6495     12.8    1.1  3.34    1.0\n",
            "6496     11.8    0.8  3.26    1.0\n",
            "\n",
            "[6497 rows x 4 columns]\n"
          ],
          "name": "stdout"
        }
      ]
    },
    {
      "cell_type": "code",
      "metadata": {
        "id": "JaKTrijYDt-Y"
      },
      "source": [
        ""
      ],
      "execution_count": 1,
      "outputs": []
    }
  ]
}