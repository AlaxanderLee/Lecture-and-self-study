{
  "nbformat": 4,
  "nbformat_minor": 0,
  "metadata": {
    "colab": {
      "name": "6-1 군집 알고리즘(작업 중).ipynb",
      "provenance": [],
      "toc_visible": true,
      "authorship_tag": "ABX9TyOtv9+8hIlRzvhnLPppzpUD",
      "include_colab_link": true
    },
    "kernelspec": {
      "name": "python3",
      "display_name": "Python 3"
    },
    "language_info": {
      "name": "python"
    }
  },
  "cells": [
    {
      "cell_type": "markdown",
      "metadata": {
        "id": "view-in-github",
        "colab_type": "text"
      },
      "source": [
        "<a href=\"https://colab.research.google.com/github/LeeSeungwon89/Lecture-and-self-study/blob/master/6-1%20%EA%B5%B0%EC%A7%91%20%EC%95%8C%EA%B3%A0%EB%A6%AC%EC%A6%98(%EC%9E%91%EC%97%85%20%EC%A4%91).ipynb\" target=\"_parent\"><img src=\"https://colab.research.google.com/assets/colab-badge.svg\" alt=\"Open In Colab\"/></a>"
      ]
    },
    {
      "cell_type": "markdown",
      "metadata": {
        "id": "HF_0P4RcnS_k"
      },
      "source": [
        "# 군집 알고리즘"
      ]
    },
    {
      "cell_type": "markdown",
      "metadata": {
        "id": "tsG3wVBQnXui"
      },
      "source": [
        "## 비지도 학습"
      ]
    },
    {
      "cell_type": "markdown",
      "metadata": {
        "id": "K7MqIs45nbQF"
      },
      "source": [
        "## 데이터 준비"
      ]
    },
    {
      "cell_type": "code",
      "metadata": {
        "id": "OK_GNbWknNOV"
      },
      "source": [
        "정리 중.."
      ],
      "execution_count": null,
      "outputs": []
    }
  ]
}