{
  "nbformat": 4,
  "nbformat_minor": 0,
  "metadata": {
    "colab": {
      "name": "6-1 군집 알고리즘(작업 중).ipynb",
      "provenance": [],
      "collapsed_sections": [],
      "toc_visible": true,
      "authorship_tag": "ABX9TyOhrOQIDpiWy6sgP23D4WG3",
      "include_colab_link": true
    },
    "kernelspec": {
      "name": "python3",
      "display_name": "Python 3"
    },
    "language_info": {
      "name": "python"
    }
  },
  "cells": [
    {
      "cell_type": "markdown",
      "metadata": {
        "id": "view-in-github",
        "colab_type": "text"
      },
      "source": [
        "<a href=\"https://colab.research.google.com/github/LeeSeungwon89/Lecture-and-self-study/blob/master/6-1%20%EA%B5%B0%EC%A7%91%20%EC%95%8C%EA%B3%A0%EB%A6%AC%EC%A6%98(%EC%9E%91%EC%97%85%20%EC%A4%91).ipynb\" target=\"_parent\"><img src=\"https://colab.research.google.com/assets/colab-badge.svg\" alt=\"Open In Colab\"/></a>"
      ]
    },
    {
      "cell_type": "markdown",
      "metadata": {
        "id": "HF_0P4RcnS_k"
      },
      "source": [
        "# 군집 알고리즘"
      ]
    },
    {
      "cell_type": "markdown",
      "metadata": {
        "id": "tsG3wVBQnXui"
      },
      "source": [
        "## 비지도 학습\n",
        "\n",
        "- 타깃이 없을 때 사용하는 머신러닝 알고리즘."
      ]
    },
    {
      "cell_type": "markdown",
      "metadata": {
        "id": "K7MqIs45nbQF"
      },
      "source": [
        "## 데이터 준비"
      ]
    },
    {
      "cell_type": "code",
      "metadata": {
        "id": "OK_GNbWknNOV",
        "colab": {
          "base_uri": "https://localhost:8080/"
        },
        "outputId": "023d03d3-3dc0-4580-fc92-d408494a914c"
      },
      "source": [
        "!wget https://bit.ly/fruits_300_data -O fruits_300.npy\n",
        "# 코랩에서 '!' 문자로 시작하면 이후 명령을 파이썬 코드가 아니라 리눅스 셸(shell) 명령으로 이해함.\n",
        "# 'wget' 명령은 원격 주소에서 데이터를 다운로드 하여 저장함.\n",
        "# '-O' 옵션(숫자 0이 아니라 영어 대문자 O)을 사용하여 저장할 파일 이름을 지정함.\n",
        "# 이 명령을 실행한 후에 코랩 왼쪽의 파일 탭을 열면 'fruits_300.npy' 가 저장되어 있음."
      ],
      "execution_count": 1,
      "outputs": [
        {
          "output_type": "stream",
          "text": [
            "--2021-07-12 13:59:28--  https://bit.ly/fruits_300_data\n",
            "Resolving bit.ly (bit.ly)... 67.199.248.11, 67.199.248.10\n",
            "Connecting to bit.ly (bit.ly)|67.199.248.11|:443... connected.\n",
            "HTTP request sent, awaiting response... 301 Moved Permanently\n",
            "Location: https://github.com/rickiepark/hg-mldl/raw/master/fruits_300.npy [following]\n",
            "--2021-07-12 13:59:28--  https://github.com/rickiepark/hg-mldl/raw/master/fruits_300.npy\n",
            "Resolving github.com (github.com)... 192.30.255.112\n",
            "Connecting to github.com (github.com)|192.30.255.112|:443... connected.\n",
            "HTTP request sent, awaiting response... 302 Found\n",
            "Location: https://raw.githubusercontent.com/rickiepark/hg-mldl/master/fruits_300.npy [following]\n",
            "--2021-07-12 13:59:29--  https://raw.githubusercontent.com/rickiepark/hg-mldl/master/fruits_300.npy\n",
            "Resolving raw.githubusercontent.com (raw.githubusercontent.com)... 185.199.108.133, 185.199.109.133, 185.199.110.133, ...\n",
            "Connecting to raw.githubusercontent.com (raw.githubusercontent.com)|185.199.108.133|:443... connected.\n",
            "HTTP request sent, awaiting response... 200 OK\n",
            "Length: 3000128 (2.9M) [application/octet-stream]\n",
            "Saving to: ‘fruits_300.npy’\n",
            "\n",
            "fruits_300.npy      100%[===================>]   2.86M  --.-KB/s    in 0.08s   \n",
            "\n",
            "2021-07-12 13:59:29 (35.6 MB/s) - ‘fruits_300.npy’ saved [3000128/3000128]\n",
            "\n"
          ],
          "name": "stdout"
        }
      ]
    },
    {
      "cell_type": "code",
      "metadata": {
        "colab": {
          "base_uri": "https://localhost:8080/",
          "height": 244
        },
        "id": "KR3B1wchSyEc",
        "outputId": "12e50b16-fa1b-4308-cf30-26e6949b6f2f"
      },
      "source": [
        "# 먼저 3차원 배열과 인덱싱 하는 방법에 대해 설명함\n",
        "# 아래 배열은 0 ~ 23까지 숫자로 이루어진 3차원 배열임.\n",
        "# 'reshape(2, 3, 4)' 는 깊이가 2, 행이 3, 열이 4인 3차원 배열로 바꾸는 함수임.\n",
        "# '[[]]' 로 이루어진 덩어리 2개가 존재함. 이를 깊이라고 부름.\n",
        "a = np.arange(24).reshape(2, 3, 4)\n",
        "print(a)\n",
        "\n",
        "# 깊이가 1인 배열 전체를 출력함.\n",
        "# '\\n'은 줄바꿈 기능을 가진 이스케이프 문자임. 출력 결과를 보기 좋도록 추가함.\n",
        "print('\\n깊이가 1인 배열 전체\\n', a[0]) \n",
        "# [[ 0  1  2  3]\n",
        "#  [ 4  5  6  7]\n",
        "#  [ 8  9 10 11]]\n",
        "\n",
        "# 깊이가 2인 배열 전체를 출력함.\n",
        "print('\\n깊이가 2인 배열 전체\\n', a[1])\n",
        "# [[12 13 14 15]\n",
        "#  [16 17 18 19]\n",
        "#  [20 21 22 23]]\n",
        "\n",
        "# 깊이가 1, 행이 1인 배열을 출력함.\n",
        "print('\\n깊이가 1, 행이 1인 배열\\n', a[0, 0])\n",
        "# [0 1 2 3]\n",
        "\n",
        "# 깊이가 2, 행이 1인 배열을 출력함.\n",
        "print('\\n깊이가 2, 행이 1인 배열\\n', a[1, 0])\n",
        "# [12 13 14 15]\n",
        "\n",
        "# 깊이가 1, 행이 1, 열이 1인 배열을 출력함.\n",
        "print('\\n깊이가 1, 행이 1, 열이 1인 원소\\n', a[0, 0, 0])\n",
        "# 0\n",
        "\n",
        "# 깊이가 2, 행이 3, 열이 4인 배열을 출력함.\n",
        "print('\\n깊이가 2, 행이 3, 열이 4인 원소\\n', a[1, 2, 3])\n",
        "# 23\n",
        "\n",
        "# 깊이가 2, 행이 3, 열이 전체인 배열을 출력함.\n",
        "# ':' 슬라이싱 연산자를 사용하면 해당 부분의 전체를 선택함.\n",
        "# 슬라이싱 연산자를 지정하지 않아도 해당 부분의 전체를 선택함.\n",
        "print('\\n깊이가 2, 행이 3, 열이 전체인 배열\\n', a[1, 2, :])\n",
        "print('\\n깊이가 2, 행이 3, 열이 전체인 배열(슬라이싱 연산자 생략)\\n', a[1, 2])\n",
        "# [20 21 22 23]\n",
        "\n",
        "# 깊이가 2, 행이 전체, 열이 1인 배열을 출력함.\n",
        "print('\\n깊이가 2, 행이 전체, 열이 1인 배열\\n', a[1, :, 0])\n",
        "# [12 16 20]\n",
        "\n",
        "# 깊이가 전체, 행이 전체, 열이 1인 배열을 출력함.\n",
        "print('\\n깊이가 전체, 행이 전체, 열이 1인 배열\\n', a[:, :, 0])\n",
        "# [[ 0  4  8]\n",
        "#  [12 16 20]]"
      ],
      "execution_count": 2,
      "outputs": [
        {
          "output_type": "error",
          "ename": "NameError",
          "evalue": "ignored",
          "traceback": [
            "\u001b[0;31m---------------------------------------------------------------------------\u001b[0m",
            "\u001b[0;31mNameError\u001b[0m                                 Traceback (most recent call last)",
            "\u001b[0;32m<ipython-input-2-0a861f4d5c74>\u001b[0m in \u001b[0;36m<module>\u001b[0;34m()\u001b[0m\n\u001b[1;32m      3\u001b[0m \u001b[0;31m# 'reshape(2, 3, 4)' 는 깊이가 2, 행이 3, 열이 4인 3차원 배열로 바꾸는 함수임.\u001b[0m\u001b[0;34m\u001b[0m\u001b[0;34m\u001b[0m\u001b[0;34m\u001b[0m\u001b[0m\n\u001b[1;32m      4\u001b[0m \u001b[0;31m# '[[]]' 로 이루어진 덩어리 2개가 존재함. 이를 깊이라고 부름.\u001b[0m\u001b[0;34m\u001b[0m\u001b[0;34m\u001b[0m\u001b[0;34m\u001b[0m\u001b[0m\n\u001b[0;32m----> 5\u001b[0;31m \u001b[0ma\u001b[0m \u001b[0;34m=\u001b[0m \u001b[0mnp\u001b[0m\u001b[0;34m.\u001b[0m\u001b[0marange\u001b[0m\u001b[0;34m(\u001b[0m\u001b[0;36m24\u001b[0m\u001b[0;34m)\u001b[0m\u001b[0;34m.\u001b[0m\u001b[0mreshape\u001b[0m\u001b[0;34m(\u001b[0m\u001b[0;36m2\u001b[0m\u001b[0;34m,\u001b[0m \u001b[0;36m3\u001b[0m\u001b[0;34m,\u001b[0m \u001b[0;36m4\u001b[0m\u001b[0;34m)\u001b[0m\u001b[0;34m\u001b[0m\u001b[0;34m\u001b[0m\u001b[0m\n\u001b[0m\u001b[1;32m      6\u001b[0m \u001b[0mprint\u001b[0m\u001b[0;34m(\u001b[0m\u001b[0ma\u001b[0m\u001b[0;34m)\u001b[0m\u001b[0;34m\u001b[0m\u001b[0;34m\u001b[0m\u001b[0m\n\u001b[1;32m      7\u001b[0m \u001b[0;34m\u001b[0m\u001b[0m\n",
            "\u001b[0;31mNameError\u001b[0m: name 'np' is not defined"
          ]
        }
      ]
    },
    {
      "cell_type": "code",
      "metadata": {
        "id": "WbV-tLUxkbSq"
      },
      "source": [
        "# 과일 사진 데이터를 읽음.\n",
        "import numpy as np\n",
        "import matplotlib.pyplot as plt\n",
        "\n",
        "fruits = np.load('fruits_300.npy')\n",
        "print(fruits, fruits.shape)\n",
        "# '(300, 100, 100)' 로 이루어진 3차원 배열이며\n",
        "# 첫 번째 차원(300)은 샘플 개수,\n",
        "# 두 번째 차원(100)은 이미지 높이,\n",
        "# 세 번째 차원(100)은 이미지 너비,\n",
        "# 이미지 크기(배열 크기)는 '높이 x 너비' 인 '100 x 100' 이고\n",
        "# 각 배열의 원소는 픽셀에 대응함.\n",
        "# 다시 설명하면 '[]' 옆에 다시 '[]' 로 묶인 2차원 배열(샘플)이 300개 존재하며,\n",
        "# 2차원 배열(샘플) 하나는 행(높이)이 100개, 열(너비)이 100개임.\n",
        "# 즉 하나의 2차원 배열에 '[]' 로만 묶인 1차원 행(높이)이 100개이며 열(너비)은 100개임."
      ],
      "execution_count": null,
      "outputs": []
    },
    {
      "cell_type": "code",
      "metadata": {
        "id": "ZqO2uiNvldSA"
      },
      "source": [
        "# 첫 번째 샘플(이미지)의 첫 행을 출력함.\n",
        "# 3차원 배열이므로 처음 인덱스 2개를 0으로 지정하고\n",
        "# 마지막 인덱스는 지정하지 않거나 슬라이싱 연산자를 쓰면\n",
        "# 첫 번째 이미지의 첫 번째 행을 모두 선택할 수 있음.\n",
        "# 첫 번째 행에 있는 픽셀 100개에 든 값을 출력함.\n",
        "print(fruits[0, 0, :])\n",
        "# 흑백 사진을 담고 있으므로 0 ~ 255까지의 정숫값을 가짐.\n",
        "\n",
        "#\n",
        "\n",
        "# 그림으로 그림. 'imshow()' 함수로 넘파이 배열로 저장된 이미지를 그림.\n",
        "# 'cmap' 매개변수를 'gray' 로 설정하여 흑백 이미지로 그림.\n",
        "plt.imshow(fruits[0], cmap = 'gray')\n",
        "\n",
        "plt.show()\n",
        "# 사과 이미지이며, 첫 번째 행이 위에서 출력한 배열 값에 해당함.\n",
        "# 0에 가까울수록 검고, 높은 값을 밝음."
      ],
      "execution_count": null,
      "outputs": []
    }
  ]
}