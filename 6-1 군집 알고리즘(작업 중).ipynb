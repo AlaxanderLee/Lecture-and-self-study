{
  "nbformat": 4,
  "nbformat_minor": 0,
  "metadata": {
    "colab": {
      "name": "6-1 군집 알고리즘(작업 중).ipynb",
      "provenance": [],
      "collapsed_sections": [],
      "authorship_tag": "ABX9TyMtVSG+n2YNj27IcNFGn3Ui",
      "include_colab_link": true
    },
    "kernelspec": {
      "name": "python3",
      "display_name": "Python 3"
    },
    "language_info": {
      "name": "python"
    }
  },
  "cells": [
    {
      "cell_type": "markdown",
      "metadata": {
        "id": "view-in-github",
        "colab_type": "text"
      },
      "source": [
        "<a href=\"https://colab.research.google.com/github/LeeSeungwon89/Lecture-and-self-study/blob/master/6-1%20%EA%B5%B0%EC%A7%91%20%EC%95%8C%EA%B3%A0%EB%A6%AC%EC%A6%98(%EC%9E%91%EC%97%85%20%EC%A4%91).ipynb\" target=\"_parent\"><img src=\"https://colab.research.google.com/assets/colab-badge.svg\" alt=\"Open In Colab\"/></a>"
      ]
    },
    {
      "cell_type": "markdown",
      "metadata": {
        "id": "HF_0P4RcnS_k"
      },
      "source": [
        "# 군집 알고리즘"
      ]
    },
    {
      "cell_type": "markdown",
      "metadata": {
        "id": "tsG3wVBQnXui"
      },
      "source": [
        "## 비지도 학습\n",
        "\n",
        "- 타깃이 없을 때 사용하는 머신러닝 알고리즘."
      ]
    },
    {
      "cell_type": "markdown",
      "metadata": {
        "id": "K7MqIs45nbQF"
      },
      "source": [
        "## 데이터 준비"
      ]
    },
    {
      "cell_type": "code",
      "metadata": {
        "id": "OK_GNbWknNOV",
        "colab": {
          "base_uri": "https://localhost:8080/"
        },
        "outputId": "7b7c060c-7b78-4ad9-cbf6-0308a260cf82"
      },
      "source": [
        "!wget https://bit.ly/fruits_300_data -O fruits_300.npy\n",
        "# 코랩에서 '!' 문자로 시작하면 이후 명령을 파이썬 코드가 아니라 리눅스 셸(shell) 명령으로 이해함.\n",
        "# 'wget' 명령은 원격 주소에서 데이터를 다운로드 하여 저장함.\n",
        "# '-O' 옵션(숫자 0이 아니라 영어 대문자 O)에서 저장할 파일 이름을 지정함.\n",
        "# 이 명령을 실행한 후에 코랩 왼쪽의 파일 탭을 열면 'fruits_300.npy' 가 저장되어 있음."
      ],
      "execution_count": 2,
      "outputs": [
        {
          "output_type": "stream",
          "text": [
            "--2021-07-12 07:10:18--  https://bit.ly/fruits_300_data\n",
            "Resolving bit.ly (bit.ly)... 67.199.248.11, 67.199.248.10\n",
            "Connecting to bit.ly (bit.ly)|67.199.248.11|:443... connected.\n",
            "HTTP request sent, awaiting response... 301 Moved Permanently\n",
            "Location: https://github.com/rickiepark/hg-mldl/raw/master/fruits_300.npy [following]\n",
            "--2021-07-12 07:10:18--  https://github.com/rickiepark/hg-mldl/raw/master/fruits_300.npy\n",
            "Resolving github.com (github.com)... 140.82.112.4\n",
            "Connecting to github.com (github.com)|140.82.112.4|:443... connected.\n",
            "HTTP request sent, awaiting response... 302 Found\n",
            "Location: https://raw.githubusercontent.com/rickiepark/hg-mldl/master/fruits_300.npy [following]\n",
            "--2021-07-12 07:10:18--  https://raw.githubusercontent.com/rickiepark/hg-mldl/master/fruits_300.npy\n",
            "Resolving raw.githubusercontent.com (raw.githubusercontent.com)... 185.199.108.133, 185.199.109.133, 185.199.110.133, ...\n",
            "Connecting to raw.githubusercontent.com (raw.githubusercontent.com)|185.199.108.133|:443... connected.\n",
            "HTTP request sent, awaiting response... 200 OK\n",
            "Length: 3000128 (2.9M) [application/octet-stream]\n",
            "Saving to: ‘fruits_300.npy’\n",
            "\n",
            "fruits_300.npy      100%[===================>]   2.86M  13.1MB/s    in 0.2s    \n",
            "\n",
            "2021-07-12 07:10:19 (13.1 MB/s) - ‘fruits_300.npy’ saved [3000128/3000128]\n",
            "\n"
          ],
          "name": "stdout"
        }
      ]
    }
  ]
}