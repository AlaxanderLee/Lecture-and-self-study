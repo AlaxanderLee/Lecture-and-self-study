{
  "nbformat": 4,
  "nbformat_minor": 0,
  "metadata": {
    "colab": {
      "name": "CHAPTER8 마무리.ipynb",
      "provenance": [],
      "toc_visible": true,
      "authorship_tag": "ABX9TyOaiwOParLD4QNbyiA3Rx4r",
      "include_colab_link": true
    },
    "kernelspec": {
      "name": "python3",
      "display_name": "Python 3"
    },
    "language_info": {
      "name": "python"
    }
  },
  "cells": [
    {
      "cell_type": "markdown",
      "metadata": {
        "id": "view-in-github",
        "colab_type": "text"
      },
      "source": [
        "<a href=\"https://colab.research.google.com/github/LeeSeungwon89/Lecture-and-Self-study/blob/master/CHAPTER8%20%EB%A7%88%EB%AC%B4%EB%A6%AC.ipynb\" target=\"_parent\"><img src=\"https://colab.research.google.com/assets/colab-badge.svg\" alt=\"Open In Colab\"/></a>"
      ]
    },
    {
      "cell_type": "markdown",
      "metadata": {
        "id": "w5nqrziFXPvM"
      },
      "source": [
        "# 8.1 머신러닝 문제 접근 방법"
      ]
    },
    {
      "cell_type": "markdown",
      "metadata": {
        "id": "cune2CxUXPyf"
      },
      "source": [
        "## 8.1.1 의사 결정 참여"
      ]
    },
    {
      "cell_type": "markdown",
      "metadata": {
        "id": "Af-WDrczXP2A"
      },
      "source": [
        "# 8.2 프로토타입에서 제품까지"
      ]
    },
    {
      "cell_type": "markdown",
      "metadata": {
        "id": "Nd7nxo2nXP4D"
      },
      "source": [
        "# 8.3 제품 시스템 테스트"
      ]
    },
    {
      "cell_type": "markdown",
      "metadata": {
        "id": "SjmaQLNOXP5v"
      },
      "source": [
        "# 8.4 나만의 추정기 만들기"
      ]
    },
    {
      "cell_type": "markdown",
      "metadata": {
        "id": "Eiy1ywBsXP8j"
      },
      "source": [
        "# 8.5 더 배울 것들"
      ]
    },
    {
      "cell_type": "markdown",
      "metadata": {
        "id": "dGS_pQeTXQBI"
      },
      "source": [
        "## 8.5.1 이론"
      ]
    },
    {
      "cell_type": "markdown",
      "metadata": {
        "id": "jFStwLpEXQD9"
      },
      "source": [
        "## 8.5.2 다른 머신러닝 프레임워크와 패키지"
      ]
    },
    {
      "cell_type": "markdown",
      "metadata": {
        "id": "ooMX3_wJXQHW"
      },
      "source": [
        "## 8.5.3 랭킹, 추천 시스템과 그 외 다른 알고리즘"
      ]
    },
    {
      "cell_type": "markdown",
      "metadata": {
        "id": "rCyaIYQ0XQJr"
      },
      "source": [
        "## 8.5.4 확률 모델링, 추론, 확률적 프로그래밍"
      ]
    },
    {
      "cell_type": "markdown",
      "metadata": {
        "id": "4SGp9-_LXQMt"
      },
      "source": [
        "## 8.5.5 신경망"
      ]
    },
    {
      "cell_type": "markdown",
      "metadata": {
        "id": "mn9ceEYBXQOi"
      },
      "source": [
        "## 8.5.6 대규모 데이터셋으로 확장"
      ]
    },
    {
      "cell_type": "markdown",
      "metadata": {
        "id": "0DiBV7i-XQQT"
      },
      "source": [
        "## 8.5.7 실력 기르기"
      ]
    },
    {
      "cell_type": "markdown",
      "metadata": {
        "id": "HT8ApYx1XQR5"
      },
      "source": [
        "# 8.6 마치며"
      ]
    }
  ]
}