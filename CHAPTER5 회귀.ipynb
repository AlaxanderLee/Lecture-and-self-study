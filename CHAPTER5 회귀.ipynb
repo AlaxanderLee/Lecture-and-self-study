{
  "nbformat": 4,
  "nbformat_minor": 0,
  "metadata": {
    "colab": {
      "name": "CHAPTER5 회귀.ipynb",
      "provenance": [],
      "collapsed_sections": [],
      "toc_visible": true,
      "authorship_tag": "ABX9TyMAsc+Whab56SvQsuXD1DUA",
      "include_colab_link": true
    },
    "kernelspec": {
      "name": "python3",
      "display_name": "Python 3"
    },
    "language_info": {
      "name": "python"
    }
  },
  "cells": [
    {
      "cell_type": "markdown",
      "metadata": {
        "id": "view-in-github",
        "colab_type": "text"
      },
      "source": [
        "<a href=\"https://colab.research.google.com/github/LeeSeungwon89/Machine-learning_Theory/blob/master/CHAPTER5%20%ED%9A%8C%EA%B7%80.ipynb\" target=\"_parent\"><img src=\"https://colab.research.google.com/assets/colab-badge.svg\" alt=\"Open In Colab\"/></a>"
      ]
    },
    {
      "cell_type": "markdown",
      "source": [
        "# **1. 회귀 소개**"
      ],
      "metadata": {
        "id": "df78pAKeesnm"
      }
    },
    {
      "cell_type": "markdown",
      "source": [
        "- 일반 선형 회귀: 예측값과 실젯값의 **RSS(Residual Sum of Squares)**를 최소화할 수 있도록 회귀 계수를 최적화하며 규제를 적용하지 않은 모델입니다.\n",
        "\n",
        "- **릿지(Ridge)** 회귀: 선형 회귀에 **L2 규제**를 추가한 회귀 모델입니다. L2 규제는 상대적으로 큰 회귀 계수 값의 예측 영향도를 감소시키기 위해 회귀 계수값을 더 작게 만듭니다.\n",
        "\n",
        "- **라쏘(Lasso)** 회귀: 선형 회귀에 **L1 규제(=피처 선택 기능)**를 추가한 회귀 모델입니다. L1 규제는 예측 형향력이 작은 피처의 회귀 계수를 0으로 만들어 회귀 예측 시 피처가 선택되지 않도록 할 수 있습니다.\n",
        "\n",
        "- **엘라스틱넷(ElasticNet)**: L2, L1 규제를 결합한 회귀 모델입니다. 피처가 많은 데이터 세트에서 적용됩니다. L1 규제로 피처 개수를 줄이면서 L2 규제로 계수 값 크기를 조정합니다.\n",
        "\n",
        "- **로지스틱 회귀(Logistic Regression)**: 회귀 모델 아닌 분류용 선형 모델입니다. 이진 분류뿐만 아니라 희소 영역의 분류(텍스트 분류 등) 같은 영역에서 좋은 예측 성능을 발휘합니다."
      ],
      "metadata": {
        "id": "QEvUqOgIn8OL"
      }
    },
    {
      "cell_type": "markdown",
      "source": [
        "# **2. 단순 선형 회귀를 통한 회귀 이해**"
      ],
      "metadata": {
        "id": "nzrGVn7weslW"
      }
    },
    {
      "cell_type": "markdown",
      "source": [
        "실젯값과 회귀 모델의 차이에 따른 오류 값을 남은 오류 또는 **잔차**라고 부릅니다. 최적의 회귀 모델은 잔차 합이 최소가 되는 모델이며 잔차 합이 최소가 될 수 있는 최적의 회귀 계수를 가진 것을 의미합니다.\n",
        "\n",
        "잔차는 양수나 음수 모두 될 수 있습니다. 보통 잔차를 계산할 때는 절댓값을 취해서 더하는 방식(**MAE, Mean Absolute Error**), 오류 값의 제곱을 구해서 더하는 방식(**RSS, Residual Sum of Squares**)을 사용합니다. 일반적으로는 RSS 방식을 취합니다. 회귀에서 RSS는 비용(Cost)이고 회귀 계수로 구성되는 RSS를 **비용 함수(손실 함수, Loss Function)**라고 부릅니다. 머신러닝 회귀 알고리즘은 데이터를 계속 학습하면서 이 비용 함수가 반환하는 값인 잔차(오류 값)을 지속해서 감소시키고 더 감소하지 않는 최소 잔차를 구하는 것입니다.\n",
        "\n",
        "수학 수식은 생략하겠습니다."
      ],
      "metadata": {
        "id": "K5_v2fHXBGdk"
      }
    },
    {
      "cell_type": "markdown",
      "source": [
        "# **3. 비용 최소화하기 - 경사 하강법(Gradient Descent) 소개**"
      ],
      "metadata": {
        "id": "CMYcQ9flesi_"
      }
    },
    {
      "cell_type": "markdown",
      "source": [
        "**경사 하강법**은 비용 함수 RSS를 최소화하는 방법을 직관적으로 제공하는 방식입니다. 점진적이고 반복적으로 계산하면서 회귀 계수 값을 업데이트하고 궁극적으로는 오류 값이 최소가 되는 회귀 계수를 도출하는 방식입니다. 딥러닝의 기반인 신경망에서도 경사 하강법을 통해 학습합니다.\n",
        "\n",
        "경사 하강법은 반복적으로 비용 함수의 반환 값(예측값과 실젯값의 차이)이 작아지는 방향성을 가지고 W 파라미터(회귀 계수)를 계속 조정합니다. 최초 오류 값을 100으로 가정한다면 두 번째 오류 값은 90, 세 번째 오류 값은 80처럼 지속해서 오류를 감소시키는 방향으로 계속 업데이트합니다. 오류 값이 더 감소할 수 없으면 최소 비용으로 판단하고 최적 파라미터로 반환합니다.\n",
        "\n",
        "참고로 실전에서는 대부분 대용량 데이터를 다루므로 속도가 빠른 **확률적 경사 하강법(Stochastic Gradient Descent)** 또는 **미니 배치 확률적 경사 하강법(Mini-Batch Stochastic Gradient Descent)**을 사용합니다. 전체 입력 데이터로 w가 업데이트되는 값을 계산하는 것이 아니라 일부 데이터만 이용하여 w가 업데이트되는 값을 계산하므로 일반 경사 하강법보다 속도가 빠릅니다. \n",
        "\n",
        "수학적 설명과 수식, 코드 구현은 생략하겠습니다. 자세한 내용은 서적을 참고하시기 바랍니다.\n",
        "\n"
      ],
      "metadata": {
        "id": "QBS3S-uTHKfH"
      }
    },
    {
      "cell_type": "markdown",
      "source": [
        "# **4. 사이킷런 LinearRegression을 이용한 보스턴 주택 가격 예측**"
      ],
      "metadata": {
        "id": "FfM3JS5Cesgp"
      }
    },
    {
      "cell_type": "markdown",
      "source": [
        "선형 모델 중 규제가 적용되지 않은 `LinearRegression` 클래스를 사용하여 보스턴 주택 가격 예측 회귀를 구현해 보겠습니다."
      ],
      "metadata": {
        "id": "0vE7qUhcQ1eM"
      }
    },
    {
      "cell_type": "markdown",
      "source": [
        "## **4.1. LinearRegression 클래스 - Ordinary Least Squares**"
      ],
      "metadata": {
        "id": "64D8OztaeseY"
      }
    },
    {
      "cell_type": "markdown",
      "source": [
        "`LinearRegression` 클래스는 예측값과 실젯값의 RSS를 최소화하여 **OLS(Ordinary Least Squares)** 추정 방식으로 구현한 클래스입니다. OLS 기반의 회귀 계수 계산은 입력 피처의 독립성에 많은 영향을 받습니다. 피처 간 상관관계가 매우 높은 경우 분산이 매우 커져서 오류에 매우 민감해집니다. 이 현상을 **다중 공선성(multi-collinearity)** 문제라고 합니다. 일반적으로 상관관계가 높은 피처가 많은 경우 독립적인 중요한 피처만 남기고 제거하거나 규제를 적용합니다. 또한 매우 많은 피처가 다중 공선성 문제를 가지고 있다면 PCA를 통해 차원 축소를 수행할 수도 있습니다."
      ],
      "metadata": {
        "id": "TZRb0crmWkJn"
      }
    },
    {
      "cell_type": "markdown",
      "source": [
        "## **4.2. 회귀 평가 지표**"
      ],
      "metadata": {
        "id": "UmnPfvB5esb6"
      }
    },
    {
      "cell_type": "markdown",
      "source": [
        "회귀 평가 지표는 실젯값과 회귀 예측값의 차이 값을 기반으로 한 지표가 중심입니다. 실젯값과 예측값 차이를 더하면 양수와 음수가 섞여서 오류가 상쇄되므로(+2와 -2를 더하면 0) 정확한 지표가 될 수가 없기 때문에 아래 지표들을 활용합니다. 수식은 생략하겠습니다.\n",
        "\n",
        "- **MAE(Mean Absolute Error)**: 실젯값과 예측값의 차이를 절댓값으로 변환하여 평균합니다. `metrics` 모듈의 `mean_absolute_error()` 메서드이며, Scoring 함수(`cross_val_score` 메서드와 `GridSearchCV` 클래스)의 `scoring` 파라미터 인자는 `neg_mean_absolute_error`입니다. \n",
        "\n",
        "- **MSE(Mean Squared Error)**: 실젯값과 예측값의 차이를 제곱하여 평균합니다. `metrics` 모듈의 `mean_squared_error()` 메서드이며, `scoring` 파라미터 인자는 `neg_mean_squared_error`입니다. \n",
        "\n",
        "- **MSLE(Mean Squared Log Error)**: MSE에 로그를 적용합니다. `metrics` 모듈의 `mean_squared_log_error()` 메서드이며, `scoring` 파라미터 인자는 `neg_mean_squared_log_error`입니다. \n",
        "\n",
        "- **RMSE(Root Mean Squared Error)**: MSE에 루트를 씌웁니다. MSE는 오류의 제곱을 구하므로 실제 오류 평균보다 더 커지는 특성이 있기 때문입니다. 사이킷런이 제공하지 않는 평가 지표이므로 MSE에 루트를 씌워서 계산하는 함수를 정의해야 합니다.\n",
        "\n",
        "- **RMSLE(Root Mean Squared Log Error)**: RMSL에 로그를 적용합니다. \n",
        "\n",
        "- **R$^2$**: 분산 기반으로 예측 성능을 평가합니다. 실젯값의 분산 대비 예측값의 분산 비율을 지표로 합니다. 1에 가까울수록 예측 정확도가 높습니다. `metrics` 모듈의 `r2_score()` 메서드이며, `scoring` 파라미터 인자는 `r2`입니다.\n",
        "\n",
        "참고로 `scoring` 파라미터 인자의 `neg_`는 Negative(음수)를 가진다는 것을 의미합니다. MAE는 절댓값이므로 음수일 수 없습니다. `neg_mean_absolute_error`를 적용하여 음수값을 변환하는 이유는 Scoring 함수가 `score` 값이 클수록 좋은 평가 결과로 자동적으로 평가하기 때문입니다. 특히 `GridSearchCV`는 가장 좋은 평가 값을 가지는 하이퍼 파라미터로 분류기를 학습까지 자동으로 시킬 수 있습니다. 그러나 실젯값과 예측값의 오류 차이를 기반으로 하는 회귀 평가 지표는 값이 커지면 오히려 나쁜 모델이라는 의미이므로 Scoring 함수에 반영하려면 보정 작업이 필요합니다. 따라서 -1을 원래 평가 지표 값에 곱해서 음수를 만들어 작은 오류 값이 더 큰 숫자로 인식하게 합니다. 즉, `neg_mean_absolute_error`는 $-1 \\times$ `mean_absolute_error()`를 의미합니다.\n"
      ],
      "metadata": {
        "id": "0be5Bpn3Ypwg"
      }
    },
    {
      "cell_type": "markdown",
      "source": [
        "## **4.3. LinearRegression을 이용해 보스턴 주택 가격 회귀 구현**"
      ],
      "metadata": {
        "id": "0VBRrrelesZ4"
      }
    },
    {
      "cell_type": "markdown",
      "source": [
        "보스턴 주택 가격을 예측해 보겠습니다.\n"
      ],
      "metadata": {
        "id": "VOG2Yl1NefdY"
      }
    },
    {
      "cell_type": "code",
      "source": [
        "import numpy as np\n",
        "import pandas as pd\n",
        "import matplotlib.pyplot as plt\n",
        "import seaborn as sns\n",
        "from scipy import stats\n",
        "from sklearn.datasets import load_boston\n",
        "%matplotlib inline\n",
        "\n",
        "boston = load_boston()\n",
        "bostonDF = pd.DataFrame(boston.data, columns=boston.feature_names)\n",
        "bostonDF['PRICE'] = boston.target\n",
        "\n",
        "print('Boston 데이터 세트 크기:', bostonDF.shape)\n",
        "bostonDF.head()"
      ],
      "metadata": {
        "colab": {
          "base_uri": "https://localhost:8080/",
          "height": 885
        },
        "id": "2m7YUfaF53dJ",
        "outputId": "db437b7b-9ab1-4c73-8a14-4a733d93ecba"
      },
      "execution_count": null,
      "outputs": [
        {
          "output_type": "stream",
          "name": "stdout",
          "text": [
            "Boston 데이터 세트 크기: (506, 14)\n"
          ]
        },
        {
          "output_type": "stream",
          "name": "stderr",
          "text": [
            "/usr/local/lib/python3.7/dist-packages/sklearn/utils/deprecation.py:87: FutureWarning: Function load_boston is deprecated; `load_boston` is deprecated in 1.0 and will be removed in 1.2.\n",
            "\n",
            "    The Boston housing prices dataset has an ethical problem. You can refer to\n",
            "    the documentation of this function for further details.\n",
            "\n",
            "    The scikit-learn maintainers therefore strongly discourage the use of this\n",
            "    dataset unless the purpose of the code is to study and educate about\n",
            "    ethical issues in data science and machine learning.\n",
            "\n",
            "    In this special case, you can fetch the dataset from the original\n",
            "    source::\n",
            "\n",
            "        import pandas as pd\n",
            "        import numpy as np\n",
            "\n",
            "\n",
            "        data_url = \"http://lib.stat.cmu.edu/datasets/boston\"\n",
            "        raw_df = pd.read_csv(data_url, sep=\"\\s+\", skiprows=22, header=None)\n",
            "        data = np.hstack([raw_df.values[::2, :], raw_df.values[1::2, :2]])\n",
            "        target = raw_df.values[1::2, 2]\n",
            "\n",
            "    Alternative datasets include the California housing dataset (i.e.\n",
            "    :func:`~sklearn.datasets.fetch_california_housing`) and the Ames housing\n",
            "    dataset. You can load the datasets as follows::\n",
            "\n",
            "        from sklearn.datasets import fetch_california_housing\n",
            "        housing = fetch_california_housing()\n",
            "\n",
            "    for the California housing dataset and::\n",
            "\n",
            "        from sklearn.datasets import fetch_openml\n",
            "        housing = fetch_openml(name=\"house_prices\", as_frame=True)\n",
            "\n",
            "    for the Ames housing dataset.\n",
            "    \n",
            "  warnings.warn(msg, category=FutureWarning)\n"
          ]
        },
        {
          "output_type": "execute_result",
          "data": {
            "text/plain": [
              "      CRIM    ZN  INDUS  CHAS    NOX     RM   AGE     DIS  RAD    TAX  \\\n",
              "0  0.00632  18.0   2.31   0.0  0.538  6.575  65.2  4.0900  1.0  296.0   \n",
              "1  0.02731   0.0   7.07   0.0  0.469  6.421  78.9  4.9671  2.0  242.0   \n",
              "2  0.02729   0.0   7.07   0.0  0.469  7.185  61.1  4.9671  2.0  242.0   \n",
              "3  0.03237   0.0   2.18   0.0  0.458  6.998  45.8  6.0622  3.0  222.0   \n",
              "4  0.06905   0.0   2.18   0.0  0.458  7.147  54.2  6.0622  3.0  222.0   \n",
              "\n",
              "   PTRATIO       B  LSTAT  PRICE  \n",
              "0     15.3  396.90   4.98   24.0  \n",
              "1     17.8  396.90   9.14   21.6  \n",
              "2     17.8  392.83   4.03   34.7  \n",
              "3     18.7  394.63   2.94   33.4  \n",
              "4     18.7  396.90   5.33   36.2  "
            ],
            "text/html": [
              "\n",
              "  <div id=\"df-3801860f-1250-436a-b731-13660fa7d598\">\n",
              "    <div class=\"colab-df-container\">\n",
              "      <div>\n",
              "<style scoped>\n",
              "    .dataframe tbody tr th:only-of-type {\n",
              "        vertical-align: middle;\n",
              "    }\n",
              "\n",
              "    .dataframe tbody tr th {\n",
              "        vertical-align: top;\n",
              "    }\n",
              "\n",
              "    .dataframe thead th {\n",
              "        text-align: right;\n",
              "    }\n",
              "</style>\n",
              "<table border=\"1\" class=\"dataframe\">\n",
              "  <thead>\n",
              "    <tr style=\"text-align: right;\">\n",
              "      <th></th>\n",
              "      <th>CRIM</th>\n",
              "      <th>ZN</th>\n",
              "      <th>INDUS</th>\n",
              "      <th>CHAS</th>\n",
              "      <th>NOX</th>\n",
              "      <th>RM</th>\n",
              "      <th>AGE</th>\n",
              "      <th>DIS</th>\n",
              "      <th>RAD</th>\n",
              "      <th>TAX</th>\n",
              "      <th>PTRATIO</th>\n",
              "      <th>B</th>\n",
              "      <th>LSTAT</th>\n",
              "      <th>PRICE</th>\n",
              "    </tr>\n",
              "  </thead>\n",
              "  <tbody>\n",
              "    <tr>\n",
              "      <th>0</th>\n",
              "      <td>0.00632</td>\n",
              "      <td>18.0</td>\n",
              "      <td>2.31</td>\n",
              "      <td>0.0</td>\n",
              "      <td>0.538</td>\n",
              "      <td>6.575</td>\n",
              "      <td>65.2</td>\n",
              "      <td>4.0900</td>\n",
              "      <td>1.0</td>\n",
              "      <td>296.0</td>\n",
              "      <td>15.3</td>\n",
              "      <td>396.90</td>\n",
              "      <td>4.98</td>\n",
              "      <td>24.0</td>\n",
              "    </tr>\n",
              "    <tr>\n",
              "      <th>1</th>\n",
              "      <td>0.02731</td>\n",
              "      <td>0.0</td>\n",
              "      <td>7.07</td>\n",
              "      <td>0.0</td>\n",
              "      <td>0.469</td>\n",
              "      <td>6.421</td>\n",
              "      <td>78.9</td>\n",
              "      <td>4.9671</td>\n",
              "      <td>2.0</td>\n",
              "      <td>242.0</td>\n",
              "      <td>17.8</td>\n",
              "      <td>396.90</td>\n",
              "      <td>9.14</td>\n",
              "      <td>21.6</td>\n",
              "    </tr>\n",
              "    <tr>\n",
              "      <th>2</th>\n",
              "      <td>0.02729</td>\n",
              "      <td>0.0</td>\n",
              "      <td>7.07</td>\n",
              "      <td>0.0</td>\n",
              "      <td>0.469</td>\n",
              "      <td>7.185</td>\n",
              "      <td>61.1</td>\n",
              "      <td>4.9671</td>\n",
              "      <td>2.0</td>\n",
              "      <td>242.0</td>\n",
              "      <td>17.8</td>\n",
              "      <td>392.83</td>\n",
              "      <td>4.03</td>\n",
              "      <td>34.7</td>\n",
              "    </tr>\n",
              "    <tr>\n",
              "      <th>3</th>\n",
              "      <td>0.03237</td>\n",
              "      <td>0.0</td>\n",
              "      <td>2.18</td>\n",
              "      <td>0.0</td>\n",
              "      <td>0.458</td>\n",
              "      <td>6.998</td>\n",
              "      <td>45.8</td>\n",
              "      <td>6.0622</td>\n",
              "      <td>3.0</td>\n",
              "      <td>222.0</td>\n",
              "      <td>18.7</td>\n",
              "      <td>394.63</td>\n",
              "      <td>2.94</td>\n",
              "      <td>33.4</td>\n",
              "    </tr>\n",
              "    <tr>\n",
              "      <th>4</th>\n",
              "      <td>0.06905</td>\n",
              "      <td>0.0</td>\n",
              "      <td>2.18</td>\n",
              "      <td>0.0</td>\n",
              "      <td>0.458</td>\n",
              "      <td>7.147</td>\n",
              "      <td>54.2</td>\n",
              "      <td>6.0622</td>\n",
              "      <td>3.0</td>\n",
              "      <td>222.0</td>\n",
              "      <td>18.7</td>\n",
              "      <td>396.90</td>\n",
              "      <td>5.33</td>\n",
              "      <td>36.2</td>\n",
              "    </tr>\n",
              "  </tbody>\n",
              "</table>\n",
              "</div>\n",
              "      <button class=\"colab-df-convert\" onclick=\"convertToInteractive('df-3801860f-1250-436a-b731-13660fa7d598')\"\n",
              "              title=\"Convert this dataframe to an interactive table.\"\n",
              "              style=\"display:none;\">\n",
              "        \n",
              "  <svg xmlns=\"http://www.w3.org/2000/svg\" height=\"24px\"viewBox=\"0 0 24 24\"\n",
              "       width=\"24px\">\n",
              "    <path d=\"M0 0h24v24H0V0z\" fill=\"none\"/>\n",
              "    <path d=\"M18.56 5.44l.94 2.06.94-2.06 2.06-.94-2.06-.94-.94-2.06-.94 2.06-2.06.94zm-11 1L8.5 8.5l.94-2.06 2.06-.94-2.06-.94L8.5 2.5l-.94 2.06-2.06.94zm10 10l.94 2.06.94-2.06 2.06-.94-2.06-.94-.94-2.06-.94 2.06-2.06.94z\"/><path d=\"M17.41 7.96l-1.37-1.37c-.4-.4-.92-.59-1.43-.59-.52 0-1.04.2-1.43.59L10.3 9.45l-7.72 7.72c-.78.78-.78 2.05 0 2.83L4 21.41c.39.39.9.59 1.41.59.51 0 1.02-.2 1.41-.59l7.78-7.78 2.81-2.81c.8-.78.8-2.07 0-2.86zM5.41 20L4 18.59l7.72-7.72 1.47 1.35L5.41 20z\"/>\n",
              "  </svg>\n",
              "      </button>\n",
              "      \n",
              "  <style>\n",
              "    .colab-df-container {\n",
              "      display:flex;\n",
              "      flex-wrap:wrap;\n",
              "      gap: 12px;\n",
              "    }\n",
              "\n",
              "    .colab-df-convert {\n",
              "      background-color: #E8F0FE;\n",
              "      border: none;\n",
              "      border-radius: 50%;\n",
              "      cursor: pointer;\n",
              "      display: none;\n",
              "      fill: #1967D2;\n",
              "      height: 32px;\n",
              "      padding: 0 0 0 0;\n",
              "      width: 32px;\n",
              "    }\n",
              "\n",
              "    .colab-df-convert:hover {\n",
              "      background-color: #E2EBFA;\n",
              "      box-shadow: 0px 1px 2px rgba(60, 64, 67, 0.3), 0px 1px 3px 1px rgba(60, 64, 67, 0.15);\n",
              "      fill: #174EA6;\n",
              "    }\n",
              "\n",
              "    [theme=dark] .colab-df-convert {\n",
              "      background-color: #3B4455;\n",
              "      fill: #D2E3FC;\n",
              "    }\n",
              "\n",
              "    [theme=dark] .colab-df-convert:hover {\n",
              "      background-color: #434B5C;\n",
              "      box-shadow: 0px 1px 3px 1px rgba(0, 0, 0, 0.15);\n",
              "      filter: drop-shadow(0px 1px 2px rgba(0, 0, 0, 0.3));\n",
              "      fill: #FFFFFF;\n",
              "    }\n",
              "  </style>\n",
              "\n",
              "      <script>\n",
              "        const buttonEl =\n",
              "          document.querySelector('#df-3801860f-1250-436a-b731-13660fa7d598 button.colab-df-convert');\n",
              "        buttonEl.style.display =\n",
              "          google.colab.kernel.accessAllowed ? 'block' : 'none';\n",
              "\n",
              "        async function convertToInteractive(key) {\n",
              "          const element = document.querySelector('#df-3801860f-1250-436a-b731-13660fa7d598');\n",
              "          const dataTable =\n",
              "            await google.colab.kernel.invokeFunction('convertToInteractive',\n",
              "                                                     [key], {});\n",
              "          if (!dataTable) return;\n",
              "\n",
              "          const docLinkHtml = 'Like what you see? Visit the ' +\n",
              "            '<a target=\"_blank\" href=https://colab.research.google.com/notebooks/data_table.ipynb>data table notebook</a>'\n",
              "            + ' to learn more about interactive tables.';\n",
              "          element.innerHTML = '';\n",
              "          dataTable['output_type'] = 'display_data';\n",
              "          await google.colab.output.renderOutput(dataTable, element);\n",
              "          const docLink = document.createElement('div');\n",
              "          docLink.innerHTML = docLinkHtml;\n",
              "          element.appendChild(docLink);\n",
              "        }\n",
              "      </script>\n",
              "    </div>\n",
              "  </div>\n",
              "  "
            ]
          },
          "metadata": {},
          "execution_count": 74
        }
      ]
    },
    {
      "cell_type": "markdown",
      "source": [
        "피처에 대한 설명을 확인하겠습니다."
      ],
      "metadata": {
        "id": "82qignZTNhkN"
      }
    },
    {
      "cell_type": "code",
      "source": [
        "print(boston['DESCR'])"
      ],
      "metadata": {
        "colab": {
          "base_uri": "https://localhost:8080/"
        },
        "id": "A7UwbXYyIshh",
        "outputId": "8de8776e-27d1-4fad-ec21-20c83e65582b"
      },
      "execution_count": null,
      "outputs": [
        {
          "output_type": "stream",
          "name": "stdout",
          "text": [
            ".. _boston_dataset:\n",
            "\n",
            "Boston house prices dataset\n",
            "---------------------------\n",
            "\n",
            "**Data Set Characteristics:**  \n",
            "\n",
            "    :Number of Instances: 506 \n",
            "\n",
            "    :Number of Attributes: 13 numeric/categorical predictive. Median Value (attribute 14) is usually the target.\n",
            "\n",
            "    :Attribute Information (in order):\n",
            "        - CRIM     per capita crime rate by town\n",
            "        - ZN       proportion of residential land zoned for lots over 25,000 sq.ft.\n",
            "        - INDUS    proportion of non-retail business acres per town\n",
            "        - CHAS     Charles River dummy variable (= 1 if tract bounds river; 0 otherwise)\n",
            "        - NOX      nitric oxides concentration (parts per 10 million)\n",
            "        - RM       average number of rooms per dwelling\n",
            "        - AGE      proportion of owner-occupied units built prior to 1940\n",
            "        - DIS      weighted distances to five Boston employment centres\n",
            "        - RAD      index of accessibility to radial highways\n",
            "        - TAX      full-value property-tax rate per $10,000\n",
            "        - PTRATIO  pupil-teacher ratio by town\n",
            "        - B        1000(Bk - 0.63)^2 where Bk is the proportion of black people by town\n",
            "        - LSTAT    % lower status of the population\n",
            "        - MEDV     Median value of owner-occupied homes in $1000's\n",
            "\n",
            "    :Missing Attribute Values: None\n",
            "\n",
            "    :Creator: Harrison, D. and Rubinfeld, D.L.\n",
            "\n",
            "This is a copy of UCI ML housing dataset.\n",
            "https://archive.ics.uci.edu/ml/machine-learning-databases/housing/\n",
            "\n",
            "\n",
            "This dataset was taken from the StatLib library which is maintained at Carnegie Mellon University.\n",
            "\n",
            "The Boston house-price data of Harrison, D. and Rubinfeld, D.L. 'Hedonic\n",
            "prices and the demand for clean air', J. Environ. Economics & Management,\n",
            "vol.5, 81-102, 1978.   Used in Belsley, Kuh & Welsch, 'Regression diagnostics\n",
            "...', Wiley, 1980.   N.B. Various transformations are used in the table on\n",
            "pages 244-261 of the latter.\n",
            "\n",
            "The Boston house-price data has been used in many machine learning papers that address regression\n",
            "problems.   \n",
            "     \n",
            ".. topic:: References\n",
            "\n",
            "   - Belsley, Kuh & Welsch, 'Regression diagnostics: Identifying Influential Data and Sources of Collinearity', Wiley, 1980. 244-261.\n",
            "   - Quinlan,R. (1993). Combining Instance-Based and Model-Based Learning. In Proceedings on the Tenth International Conference of Machine Learning, 236-243, University of Massachusetts, Amherst. Morgan Kaufmann.\n",
            "\n"
          ]
        }
      ]
    },
    {
      "cell_type": "markdown",
      "source": [
        "결측치를 확인하겠습니다."
      ],
      "metadata": {
        "id": "VBMFLl6qNmDk"
      }
    },
    {
      "cell_type": "code",
      "source": [
        "bostonDF.info()"
      ],
      "metadata": {
        "colab": {
          "base_uri": "https://localhost:8080/"
        },
        "id": "0dfEcqcz7MIj",
        "outputId": "ef6b2dac-f4b5-4c9c-b7ad-36ef718d6694"
      },
      "execution_count": null,
      "outputs": [
        {
          "output_type": "stream",
          "name": "stdout",
          "text": [
            "<class 'pandas.core.frame.DataFrame'>\n",
            "RangeIndex: 506 entries, 0 to 505\n",
            "Data columns (total 14 columns):\n",
            " #   Column   Non-Null Count  Dtype  \n",
            "---  ------   --------------  -----  \n",
            " 0   CRIM     506 non-null    float64\n",
            " 1   ZN       506 non-null    float64\n",
            " 2   INDUS    506 non-null    float64\n",
            " 3   CHAS     506 non-null    float64\n",
            " 4   NOX      506 non-null    float64\n",
            " 5   RM       506 non-null    float64\n",
            " 6   AGE      506 non-null    float64\n",
            " 7   DIS      506 non-null    float64\n",
            " 8   RAD      506 non-null    float64\n",
            " 9   TAX      506 non-null    float64\n",
            " 10  PTRATIO  506 non-null    float64\n",
            " 11  B        506 non-null    float64\n",
            " 12  LSTAT    506 non-null    float64\n",
            " 13  PRICE    506 non-null    float64\n",
            "dtypes: float64(14)\n",
            "memory usage: 55.5 KB\n"
          ]
        }
      ]
    },
    {
      "cell_type": "markdown",
      "source": [
        "결측치는 없습니다. \n",
        "\n",
        "각 피처가 회귀 결과에 미치는 영향의 정도를 시각화하여 확인해 보겠습니다."
      ],
      "metadata": {
        "id": "wz-TaFZbFAll"
      }
    },
    {
      "cell_type": "code",
      "source": [
        "fig, axs = plt.subplots(figsize=(25, 8), ncols=7, nrows=2)\n",
        "lm_features = ['CRIM', 'ZN', 'INDUS', 'CHAS', 'NOX', 'RM', 'AGE', 'DIS', 'RAD',\n",
        "               'TAX', 'PTRATIO', 'B', 'LSTAT']\n",
        "for i, feature in enumerate(lm_features):\n",
        "    row = int(i /7)\n",
        "    col = i % 7\n",
        "    # `regplot()` 메서드를 사용하여 산점도와 선형 회귀 직선을 그립니다.\n",
        "    sns.regplot(x=feature, y='PRICE', data=bostonDF, ax=axs[row][col])"
      ],
      "metadata": {
        "colab": {
          "base_uri": "https://localhost:8080/",
          "height": 497
        },
        "id": "KzebukF_FL_M",
        "outputId": "41a13720-1e5a-402c-c271-bb4023c4d1b8"
      },
      "execution_count": null,
      "outputs": [
        {
          "output_type": "display_data",
          "data": {
            "text/plain": [
              "<Figure size 1800x576 with 14 Axes>"
            ],
            "image/png": "[encoded data removed]"
          },
          "metadata": {
            "needs_background": "light"
          }
        }
      ]
    },
    {
      "cell_type": "markdown",
      "source": [
        "'RM'과 'LSTAT'가 'PRICE'에 미치는 영향이 가장 커보입니다. 'RM'은 방 개수를 의미합니다. 양 방향의 선형성(Positive Linearity)이 가장 크며 방 개수가 많을수록 가격은 증가합니다. 반면 'LSTAT'는 하위 계층 비율을 의미하며 비율이 높을수록 가격은 하락합니다.\n",
        "\n",
        "`LinearRegression` 클래스로 회귀 모델을 생성하고 MSE, RMSE, R2 값을 측정하겠습니다."
      ],
      "metadata": {
        "id": "ZdkVRAWIHvJq"
      }
    },
    {
      "cell_type": "code",
      "source": [
        "from sklearn.model_selection import train_test_split\n",
        "from sklearn.linear_model import LinearRegression\n",
        "from sklearn.metrics import mean_squared_error, r2_score\n",
        "\n",
        "y_target = bostonDF['PRICE']\n",
        "X_data = bostonDF.drop(['PRICE'], axis=1, inplace=False)\n",
        "\n",
        "X_train, X_test, y_train, y_test = train_test_split(\n",
        "    X_data, y_target, test_size=0.3, random_state=156)\n",
        "\n",
        "lr = LinearRegression()\n",
        "lr.fit(X_train, y_train)\n",
        "y_preds = lr.predict(X_test)\n",
        "\n",
        "mse = mean_squared_error(y_test, y_preds)\n",
        "rmse = np.sqrt(mse)\n",
        "print('MSE: {:.3f}, RMSE: {:.3f}'.format(mse, rmse))\n",
        "print('Variance score: {:.3f}'.format(r2_score(y_test, y_preds)))"
      ],
      "metadata": {
        "id": "wLOGSdEeSbP8",
        "colab": {
          "base_uri": "https://localhost:8080/"
        },
        "outputId": "75ef81fb-f660-4ee9-f9f9-e5544615bf10"
      },
      "execution_count": null,
      "outputs": [
        {
          "output_type": "stream",
          "name": "stdout",
          "text": [
            "MSE: 17.297, RMSE: 4.159\n",
            "Variance score: 0.757\n"
          ]
        }
      ]
    },
    {
      "cell_type": "markdown",
      "source": [
        "절편(intercept)과 회귀 계수(coefficients)를 확인하겠습니다."
      ],
      "metadata": {
        "id": "Vznf-PWPPe6E"
      }
    },
    {
      "cell_type": "code",
      "source": [
        "print('절편 값:', lr.intercept_)\n",
        "print('회귀 계수 값:', np.round(lr.coef_, 1))"
      ],
      "metadata": {
        "colab": {
          "base_uri": "https://localhost:8080/"
        },
        "id": "Xro8Y-chOdNk",
        "outputId": "7045de2b-d070-4d6d-97c8-3e992c72f133"
      },
      "execution_count": null,
      "outputs": [
        {
          "output_type": "stream",
          "name": "stdout",
          "text": [
            "절편 값: 40.995595172164755\n",
            "회귀 계수 값: [ -0.1   0.1   0.    3.  -19.8   3.4   0.   -1.7   0.4  -0.   -0.9   0.\n",
            "  -0.6]\n"
          ]
        }
      ]
    },
    {
      "cell_type": "markdown",
      "source": [
        "피처별 회귀 계수를 내림차순으로 출력해 보겠습니다."
      ],
      "metadata": {
        "id": "e6CKODviSn_j"
      }
    },
    {
      "cell_type": "code",
      "source": [
        "coeff = pd.Series(data=np.round(lr.coef_, 1), index=X_data.columns)\n",
        "coeff.sort_values(ascending=False)"
      ],
      "metadata": {
        "colab": {
          "base_uri": "https://localhost:8080/"
        },
        "id": "ds0_gXdSOymY",
        "outputId": "add1bbd6-3b8f-4d84-811b-ae2cd74b3d52"
      },
      "execution_count": null,
      "outputs": [
        {
          "output_type": "execute_result",
          "data": {
            "text/plain": [
              "RM          3.4\n",
              "CHAS        3.0\n",
              "RAD         0.4\n",
              "ZN          0.1\n",
              "INDUS       0.0\n",
              "AGE         0.0\n",
              "TAX        -0.0\n",
              "B           0.0\n",
              "CRIM       -0.1\n",
              "LSTAT      -0.6\n",
              "PTRATIO    -0.9\n",
              "DIS        -1.7\n",
              "NOX       -19.8\n",
              "dtype: float64"
            ]
          },
          "metadata": {},
          "execution_count": 80
        }
      ]
    },
    {
      "cell_type": "markdown",
      "source": [
        "폴드 세트 5개에서 교차 검증으로 MSE와 RMSE를 측정해 보겠습니다. MSE 값이 낮을수록 좋은 회귀 모델입니다. "
      ],
      "metadata": {
        "id": "6Z0KFQyEz5EJ"
      }
    },
    {
      "cell_type": "code",
      "source": [
        "from sklearn.model_selection import cross_val_score\n",
        "\n",
        "y_target = bostonDF['PRICE']\n",
        "X_data = bostonDF.drop(['PRICE'], axis=1, inplace=False)\n",
        "lr = LinearRegression()\n",
        "\n",
        "neg_mse_scores = cross_val_score(lr, X_data, y_target, scoring='neg_mean_squared_error', cv=5)\n",
        "rmse_scores = np.sqrt(-1 * neg_mse_scores)\n",
        "avg_rmse = np.mean(rmse_scores)\n",
        "\n",
        "print('5 folds의 개별 Negative MSE scores:', np.round(neg_mse_scores, 2))\n",
        "print('5 folds의 개별 RMSE scores:', np.round(rmse_scores, 2))\n",
        "print('5 folds의 평균 RNSE: {:.3f}'.format(avg_rmse))"
      ],
      "metadata": {
        "colab": {
          "base_uri": "https://localhost:8080/"
        },
        "id": "quULN3Kan3pl",
        "outputId": "c3fbfda4-48d0-4d68-caee-26d070a06b49"
      },
      "execution_count": null,
      "outputs": [
        {
          "output_type": "stream",
          "name": "stdout",
          "text": [
            "5 folds의 개별 Negative MSE scores: [-12.46 -26.05 -33.07 -80.76 -33.31]\n",
            "5 folds의 개별 RMSE scores: [3.53 5.1  5.75 8.99 5.77]\n",
            "5 folds의 평균 RNSE: 5.829\n"
          ]
        }
      ]
    },
    {
      "cell_type": "markdown",
      "source": [
        "# **5. 다항 회귀와 과(대)적합/과소적합 이해**"
      ],
      "metadata": {
        "id": "UNeQDiQhesXi"
      }
    },
    {
      "cell_type": "markdown",
      "source": [
        "## **5.1. 다항 회귀 이해**"
      ],
      "metadata": {
        "id": "lp48crYYesVe"
      }
    },
    {
      "cell_type": "markdown",
      "source": [
        "다항식에 대한 설명은 생략하겠습니다. 예시로 `PolynomialFeatures` 클래스를 사용하여 피처를 다항식 피처로 변환하겠습니다. `degree` 파라미터에 지정한 인자에 따라 n차 다항식 피처로 변환합니다."
      ],
      "metadata": {
        "id": "Wr-mtETlB0Lq"
      }
    },
    {
      "cell_type": "code",
      "source": [
        "from sklearn.preprocessing import PolynomialFeatures\n",
        "import numpy as np\n",
        "\n",
        "X = np.arange(4).reshape(2, 2)\n",
        "print('일차 단항식 계수 피처:\\n', X)\n",
        "print()\n",
        "\n",
        "poly = PolynomialFeatures(degree=2)\n",
        "poly.fit(X)\n",
        "poly_ftr = poly.transform(X)\n",
        "print('변환된 2차 다항식 계수 피처:\\n', poly_ftr)"
      ],
      "metadata": {
        "colab": {
          "base_uri": "https://localhost:8080/"
        },
        "id": "unshkZDxIoDq",
        "outputId": "252e0a29-2039-4c82-bbfc-a71eaae017ef"
      },
      "execution_count": null,
      "outputs": [
        {
          "output_type": "stream",
          "name": "stdout",
          "text": [
            "일차 단항식 계수 피처:\n",
            " [[0 1]\n",
            " [2 3]]\n",
            "\n",
            "변환된 2차 다항식 계수 피처:\n",
            " [[1. 0. 1. 0. 0. 1.]\n",
            " [1. 2. 3. 4. 6. 9.]]\n"
          ]
        }
      ]
    },
    {
      "cell_type": "markdown",
      "source": [
        "3차 다항 계수를 이용하여 3차 다항 회귀 함수식을 `PolynomialFeatures` 클래스와 `LinearRegression` 클래스를 사용하여 유도해 보겠습니다. 이를 위해 3차 다항 회귀 함수를 임의로 선언하고 이의 회귀 계수를 예측하겠습니다. 3차 다항 회귀의 결정 함수식은 $y = 1 + 2x_1 + 3x^2_1 + 4x^3_1$로 설정하겠습니다. 이 함수는 3차 다항 계수 피처 값이 입력되면 결정 값을 반환할 것입니다."
      ],
      "metadata": {
        "id": "ShKKHKpCOzDG"
      }
    },
    {
      "cell_type": "code",
      "source": [
        "def polynomial_func(X):\n",
        "    y = 1 + 2*X[:, 0] + 3*X[:, 0]**2 + 4*X[:, 1]**3\n",
        "    return y"
      ],
      "metadata": {
        "id": "69NAlyRkNasE"
      },
      "execution_count": null,
      "outputs": []
    },
    {
      "cell_type": "code",
      "source": [
        "X = np.arange(4).reshape(2, 2)\n",
        "print('일차 단항식 계수 피처:\\n', X)\n",
        "print()\n",
        "\n",
        "y = polynomial_func(X)\n",
        "print('삼차 다항식 결정값:\\n', y)"
      ],
      "metadata": {
        "colab": {
          "base_uri": "https://localhost:8080/"
        },
        "id": "hmw76tyQOTJU",
        "outputId": "208ad80e-7c2b-4a3f-ecc0-038bcde7bdcd"
      },
      "execution_count": null,
      "outputs": [
        {
          "output_type": "stream",
          "name": "stdout",
          "text": [
            "일차 단항식 계수 피처:\n",
            " [[0 1]\n",
            " [2 3]]\n",
            "\n",
            "삼차 다항식 결정값:\n",
            " [  5 125]\n"
          ]
        }
      ]
    },
    {
      "cell_type": "markdown",
      "source": [
        "1차 단항식 계수를 3차 다항식 계수로 변환하고 이를 선형 회귀에 적용하여 다항 회귀로 구현하겠습니다."
      ],
      "metadata": {
        "id": "vWjanMyIS_M_"
      }
    },
    {
      "cell_type": "code",
      "source": [
        "poly_ftr = PolynomialFeatures(degree=3).fit_transform(X)\n",
        "print('3차 다항식 계수 feature:\\n', poly_ftr)\n",
        "model = LinearRegression()\n",
        "model.fit(poly_ftr, y)\n",
        "print('Polynomial 회귀 계수\\n', np.round(model.coef_, 2))\n",
        "print('Polynomial 회귀 shape:', model.coef_.shape)"
      ],
      "metadata": {
        "colab": {
          "base_uri": "https://localhost:8080/"
        },
        "id": "PuKWwraeTkaA",
        "outputId": "9b74d6ad-9001-48dd-d9b0-6e4b59e248de"
      },
      "execution_count": null,
      "outputs": [
        {
          "output_type": "stream",
          "name": "stdout",
          "text": [
            "3차 다항식 계수 feature:\n",
            " [[ 1.  0.  1.  0.  0.  1.  0.  0.  0.  1.]\n",
            " [ 1.  2.  3.  4.  6.  9.  8. 12. 18. 27.]]\n",
            "Polynomial 회귀 계수\n",
            " [0.   0.18 0.18 0.36 0.54 0.72 0.72 1.08 1.62 2.34]\n",
            "Polynomial 회귀 shape: (10,)\n"
          ]
        }
      ]
    },
    {
      "cell_type": "markdown",
      "source": [
        "파이프라인으로 피처 변환과 선형 회귀를 한 번에 적용하여 다항 회귀를 구현하겠습니다."
      ],
      "metadata": {
        "id": "LAov94qjilZn"
      }
    },
    {
      "cell_type": "code",
      "source": [
        "from sklearn.pipeline import Pipeline\n",
        "\n",
        "model = Pipeline([('poly', PolynomialFeatures(degree=3)),\n",
        "                  ('linear', LinearRegression())])\n",
        "X = np.arange(4).reshape(2, 2)\n",
        "y = polynomial_func(X)\n",
        "model = model.fit(X, y)\n",
        "print('Polynomial 회귀 계수\\n', np.round(model.named_steps['linear'].coef_, 2))"
      ],
      "metadata": {
        "colab": {
          "base_uri": "https://localhost:8080/"
        },
        "id": "xjAtKhTpV2O_",
        "outputId": "c92633c3-5da7-4380-9627-781892f84cf0"
      },
      "execution_count": null,
      "outputs": [
        {
          "output_type": "stream",
          "name": "stdout",
          "text": [
            "Polynomial 회귀 계수\n",
            " [0.   0.18 0.18 0.36 0.54 0.72 0.72 1.08 1.62 2.34]\n"
          ]
        }
      ]
    },
    {
      "cell_type": "markdown",
      "source": [
        "## **5.2. 다항 회귀를 이용한 과소적합 및 과적합 이해**"
      ],
      "metadata": {
        "id": "xDSqLqINesS2"
      }
    },
    {
      "cell_type": "markdown",
      "source": [
        "다항 회귀 차수를 높일수록 학습 데이터만 지나치게 학습하여 테스트 데이터에 대한 예측 정확도는 떨어집니다. 과대적합 현상이 일어나는 것입니다.\n",
        "\n",
        "사이킷런 홈페이지에서 [다항 회귀를 이용한 과소적합과 과대적합 예시](http://scikit-learn.org/stable/auto_examples/model_selection/plot_underfitting_overfitting.html#sphx-glr-auto-examples-model-selection-plot-underfitting-overfitting-py)를 가져왔습니다. 아래 코드는 링크에서 가져온 코드이며 원래 데이터 세트는 피처 X와 타깃 y가 잡음이 포함된 다항식의 코사인 그래프 관계를 갖도록 만들어 줍니다. 그리고 이에 기반하여 다항 회귀의 차수를 변화시키면서 회귀 예측 곡선과 예측 정확도를 비교합니다."
      ],
      "metadata": {
        "id": "joQg_7UqkZU-"
      }
    },
    {
      "cell_type": "code",
      "source": [
        "import numpy as np\n",
        "import matplotlib.pyplot as plt\n",
        "from sklearn.pipeline import Pipeline\n",
        "from sklearn.preprocessing import PolynomialFeatures\n",
        "from sklearn.linear_model import LinearRegression\n",
        "from sklearn.model_selection import cross_val_score\n",
        "\n",
        "# 임의의 값으로 구성된 X 값에 대해 코사인 변환 값을 반환합니다.\n",
        "def true_fun(X):\n",
        "    return np.cos(1.5 * np.pi * X)\n",
        "\n",
        "# X는 0 ~ 1까지 임의의 값 30개를 순서대로 샘플링한 데이터입니다.\n",
        "np.random.seed(0)\n",
        "n_samples = 30\n",
        "X = np.sort(np.random.rand(n_samples))\n",
        "\n",
        "# y는 코사인 기반의 `true_fun()`에서 노이즈 변동 값을 더한 값입니다.\n",
        "y = true_fun(X) + np.random.randn(n_samples) * 0.1"
      ],
      "metadata": {
        "id": "47zniMQmm0n-"
      },
      "execution_count": null,
      "outputs": []
    },
    {
      "cell_type": "markdown",
      "source": [
        "차수를 1, 4, 15로 변경하면서 예측 결과를 비교하겠습니다. 다항식 차수별로 학습을 수행하고 `cross_val_score()` 메서드로 MSE 값을 구하여 차수별 예측 성능을 평가하겠습니다. 그리고 0 ~ 1까지 균일하게 구성된 테스트용 데이터 세트를 이용하여 차수별 회귀 예측 곡선을 그리겠습니다."
      ],
      "metadata": {
        "id": "8Kj1_WOUrdAw"
      }
    },
    {
      "cell_type": "code",
      "source": [
        "plt.figure(figsize=(14, 5))\n",
        "degrees = [1, 4, 15]\n",
        "\n",
        "# 다항 회귀 차수를 변화시킵니다.\n",
        "for i in range(len(degrees)):\n",
        "    ax = plt.subplot(1, len(degrees), i + 1)\n",
        "    plt.setp(ax, xticks=(), yticks=())\n",
        "\n",
        "    # 개별 차수별로 변환합니다.\n",
        "    polynomial_features = PolynomialFeatures(degree=degrees[i], include_bias=False)\n",
        "    linear_regression = LinearRegression()\n",
        "    pipeline = Pipeline(\n",
        "        [\n",
        "            (\"polynomial_features\", polynomial_features),\n",
        "            (\"linear_regression\", linear_regression),\n",
        "        ]\n",
        "    )\n",
        "    pipeline.fit(X.reshape(-1, 1), y)\n",
        "\n",
        "    # 교차 검증으로 다항 회귀를 평가합니다.\n",
        "    scores = cross_val_score(\n",
        "        pipeline, X.reshape(-1, 1), y, scoring=\"neg_mean_squared_error\", cv=10\n",
        "    )\n",
        "    # 파이프라인을 구성하는 세부 객체에 접근하여 회귀 계수를 추출합니다.\n",
        "    coefficients = pipeline.named_steps['linear_regression'].coef_\n",
        "    print('Degree {} 회귀 계수는 {}입니다.'.format(degrees[i], np.round(coefficients, 2)))\n",
        "    print('Degree {} MSE는 {}입니다.'.format(degrees[i], -1 * np.mean(scores)))\n",
        "    print()\n",
        "\n",
        "    # 0 ~ 1까지 테스트 데이터 세트를 100개만큼 나누고\n",
        "    # 테스트 데이터 세트에 회귀 예측을 수행하고 예측 곡선과 실제 곡선을 그립니다.\n",
        "    X_test = np.linspace(0, 1, 100)\n",
        "    #  예측값 곡선을 그립니다.\n",
        "    plt.plot(X_test, pipeline.predict(X_test[:, np.newaxis]), label=\"Model\")\n",
        "    #  실젯값 곡선을 그립니다.\n",
        "    plt.plot(X_test, true_fun(X_test), label=\"True function\")\n",
        "    plt.scatter(X, y, edgecolor=\"b\", s=20, label=\"Samples\")\n",
        "    plt.xlabel(\"X\")\n",
        "    plt.ylabel(\"y\")\n",
        "    plt.xlim((0, 1))\n",
        "    plt.ylim((-2, 2))\n",
        "    plt.legend(loc=\"best\")\n",
        "    plt.title(\n",
        "        \"Degree {}\\nMSE = {:.2e}(+/- {:.2e})\".format(\n",
        "            degrees[i], -scores.mean(), scores.std()\n",
        "        )\n",
        "    )\n",
        "plt.show()"
      ],
      "metadata": {
        "colab": {
          "base_uri": "https://localhost:8080/",
          "height": 568
        },
        "id": "KCXL1d6bm9Bj",
        "outputId": "5c58d01d-8bfc-4b33-c381-b9635e078960"
      },
      "execution_count": null,
      "outputs": [
        {
          "output_type": "stream",
          "name": "stdout",
          "text": [
            "Degree 1 회귀 계수는 [-1.61]입니다.\n",
            "Degree 1 MSE는 0.4077289625098685입니다.\n",
            "\n",
            "Degree 4 회귀 계수는 [  0.47 -17.79  23.59  -7.26]입니다.\n",
            "Degree 4 MSE는 0.043208749872320706입니다.\n",
            "\n",
            "Degree 15 회귀 계수는 [-2.98291000e+03  1.03898770e+05 -1.87415056e+06  2.03715126e+07\n",
            " -1.44872551e+08  7.09311979e+08 -2.47064676e+09  6.24558367e+09\n",
            " -1.15676035e+10  1.56894317e+10 -1.54005437e+10  1.06456871e+10\n",
            " -4.91375763e+09  1.35919168e+09 -1.70380199e+08]입니다.\n",
            "Degree 15 MSE는 180526263.3177066입니다.\n",
            "\n"
          ]
        },
        {
          "output_type": "display_data",
          "data": {
            "text/plain": [
              "<Figure size 1008x360 with 3 Axes>"
            ],
            "image/png": "[encoded data removed]"
          },
          "metadata": {}
        }
      ]
    },
    {
      "cell_type": "markdown",
      "source": [
        "주황선은 데이터 세트의 코사인 곡선이고, 파란선은 다항 회귀 예측 곡선입니다. 첫 번째 모델은 예측에 실패한 모델이며 과소적합 상태입니다. 두 번째 모델은 매우 훌륭하게 예측한 모델이며 낮은 MSE 값 또한 가장 뛰어난 예측 성능을 나타냅니다. 세 번째 모델은 잡음 값까지 지나치게 반영하면서 학습 데이터만 정확하게 예측하고 테스트 데이터는 예측하지 못하는 과대적합 상태입니다."
      ],
      "metadata": {
        "id": "U77aGmtRxJSV"
      }
    },
    {
      "cell_type": "markdown",
      "source": [
        "## **5.3. 편향-분산 트레이드오프(bias-variance trade off)**"
      ],
      "metadata": {
        "id": "XUrBk9zResQy"
      }
    },
    {
      "cell_type": "markdown",
      "source": [
        "**편향-분산 트레이드오프**는 반드시 극복해야 할 문제입니다. 위의 차수 1 모델은 매우 단순화된 모델이므로 한 방향성을 가지고 **고편향(High Bias)성**을 띈다고 표현합니다. 차수 15 모델은 매우 복잡화된 모델이므로 지나치게 높은 변동성을 가지고 **고분산(High Variance)성**을 띈다고 표현합니다. 편향과 분산의 높고 낮음을 아래 그림으로 표현할 수 있습니다.\n",
        "\n",
        "![편향과 분산의 고저에 따른 표현.png](data:image/png;base64,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)\n",
        "\n",
        "일반적으로 편향과 분산은 한 쪽이 높으면 한 쪽은 낮아집니다. 편향이 높으면 분산이 낮아져서 과소적합이 되고, 편향이 낮으면 분산이 높아져서 과대적합이 됩니다. 편향과 분산이 트레이드오프를 이루면서 오류 Cost 값이 최대로 낮아지는 모델을 구축해야 합니다.\n",
        "\n",
        "![편향과 분산에 따른 전체 오류 값 곡선.png](data:image/png;base64,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)\n"
      ],
      "metadata": {
        "id": "aUcf1GqPUQTC"
      }
    },
    {
      "cell_type": "markdown",
      "source": [
        "# **6. 규제 선형 모델 - 릿지, 라쏘, 엘라스틱넷**"
      ],
      "metadata": {
        "id": "uEF8_rlpesOa"
      }
    },
    {
      "cell_type": "markdown",
      "source": [
        "## **6.1. 규제 선형 모델의 개요**"
      ],
      "metadata": {
        "id": "1aljAnKLesL_"
      }
    },
    {
      "cell_type": "markdown",
      "source": [
        "회귀 모델은 회귀 계수가 기하급수적으로 커지는 것을 제어할 수 있어야 합니다. 이전까지 선형 모델의 비용 함수는 RSS를 최소화하는(실젯값과 예측값의 차이를 최소화하는) 것만 고려하면서 학습 데이터에 지나치게 맞추게 되고 회귀 계수는 쉽게 커졌습니다. 이는 변동성을 심하게 하여 테스트 데이터 세트에 대한 예측 성능을 떨어뜨리는 원인입니다. 따라서 비용 함수는 학습 데이터의 잔차 오류 값을 최소로 하는 RSS 최소화 방법과 과적합을 방지하기 위해 회귀 계수 값이 커지지 않게 하는 방법이 균형을 이뤄야 합니다. 비용 함수의 목표에 대한 자세한 설명은 서적을 참고하시기 바랍니다. 여기서는 몇 가지만 정리하겠습니다. \n",
        "\n",
        "alpha 값을 0부터 증가시키면 회귀 계수 크기를 감소시킬 수 있습니다. 비용 함수에 이 alpha 값으로 패널티를 부여하여 회귀 계수 크기를 감소시켜 과대적합을 개선하는 방식을 **규제(Regulation)**라고 합니다. **L2** 규제를 적용한 **릿지(Ridge) 회귀**와 **L1** 규제를 적용한 **라쏘(Lasso) 회귀**가 있습니다. L2 규제와 L1 규제를 함께 적용한 **엘라스틱넷(Elastic Net) 회귀**도 있습니다. 어떤 규제 선형 회귀가 적합한지는 상황에 따라 다릅니다."
      ],
      "metadata": {
        "id": "oHQrKv4Gw-MG"
      }
    },
    {
      "cell_type": "markdown",
      "source": [
        "## **6.2. 릿지 회귀**"
      ],
      "metadata": {
        "id": "p59_KnfCesJ2"
      }
    },
    {
      "cell_type": "markdown",
      "source": [
        "보스턴 주택 가격을 `Ridge` 클래스로 다시 예측하고 예측 성능을 평가해 보겠습니다. 먼저 `alpha`를 `10`으로 지정해 보겠습니다.\n"
      ],
      "metadata": {
        "id": "GYlZ1ndLcetP"
      }
    },
    {
      "cell_type": "code",
      "source": [
        "from sklearn.linear_model import Ridge\n",
        "from sklearn.model_selection import cross_val_score\n",
        "\n",
        "ridge = Ridge(alpha=10)\n",
        "neg_mse_scores = cross_val_score(ridge, X_data, y_target,\n",
        "                                 scoring='neg_mean_squared_error', cv=5)\n",
        "rmse_scores = np.sqrt(-1 * neg_mse_scores)\n",
        "avg_rmse = np.mean(rmse_scores)\n",
        "print('5 folds의 개별 Negative MSE scores:', np.round(neg_mse_scores, 3))\n",
        "print('5 folds의 개별 RMSE scores:', np.round(rmse_scores, 3))\n",
        "print('5 folds의 평균 RMSE: {:.3f}'.format(avg_rmse))"
      ],
      "metadata": {
        "colab": {
          "base_uri": "https://localhost:8080/"
        },
        "id": "iGQrHoU3c38o",
        "outputId": "63de2046-d3dc-4040-d9de-8b399c103fbe"
      },
      "execution_count": null,
      "outputs": [
        {
          "output_type": "stream",
          "name": "stdout",
          "text": [
            "5 folds의 개별 Negative MSE scores: [-11.422 -24.294 -28.144 -74.599 -28.517]\n",
            "5 folds의 개별 RMSE scores: [3.38  4.929 5.305 8.637 5.34 ]\n",
            "5 folds의 평균 RMSE: 5.518\n"
          ]
        }
      ]
    },
    {
      "cell_type": "markdown",
      "source": [
        "위에서 규제가 없던 선형회귀 모델의 RMSE 점수인 5.829보다 낮은 점수를 얻었습니다. 규제를 적용했을 때 더 뛰어난 예측 성능을 보이는 것입니다.\n",
        "\n",
        "다음으로는 alpha 값을 바꿔가며 살펴보겠습니다."
      ],
      "metadata": {
        "id": "mTRgw2ZbkkQh"
      }
    },
    {
      "cell_type": "code",
      "source": [
        "alphas = [0, 0.1, 1, 10, 100, 1000]\n",
        "\n",
        "for alpha in alphas:\n",
        "    ridge = Ridge(alpha=alpha)\n",
        "    neg_mse_scores = cross_val_score(ridge, X_data, y_target,\n",
        "                                 scoring='neg_mean_squared_error', cv=5)\n",
        "    rmse_scores = np.sqrt(-1 * neg_mse_scores)\n",
        "    avg_rmse = np.mean(rmse_scores)\n",
        "    print('alpha={}일 때 5 folds의 평균 RMSE: {:.3f}'.format(alpha, avg_rmse))"
      ],
      "metadata": {
        "colab": {
          "base_uri": "https://localhost:8080/"
        },
        "id": "93ZA9f2MoCZ7",
        "outputId": "8681f8a4-1130-4938-c880-1c77a5665338"
      },
      "execution_count": null,
      "outputs": [
        {
          "output_type": "stream",
          "name": "stdout",
          "text": [
            "alpha=0일 때 5 folds의 평균 RMSE: 5.829\n",
            "alpha=0.1일 때 5 folds의 평균 RMSE: 5.788\n",
            "alpha=1일 때 5 folds의 평균 RMSE: 5.653\n",
            "alpha=10일 때 5 folds의 평균 RMSE: 5.518\n",
            "alpha=100일 때 5 folds의 평균 RMSE: 5.330\n",
            "alpha=1000일 때 5 folds의 평균 RMSE: 5.598\n"
          ]
        }
      ]
    },
    {
      "cell_type": "markdown",
      "source": [
        "`alpha=100`일 때 가장 예측 성능이 좋습니다.\n",
        "\n",
        "`alpha` 값의 변화에 따른 피처의 회귀 계수 값을 가로 막대 그래프로 시각화해 보겠습니다.\n"
      ],
      "metadata": {
        "id": "kK66WvpPpMAx"
      }
    },
    {
      "cell_type": "code",
      "source": [
        "fig, axs = plt.subplots(figsize=(26, 6), nrows=1, ncols=6)\n",
        "# 회귀 계수를 저장할 데이터프레임을 생성합니다.\n",
        "coeff_df = pd.DataFrame()\n",
        "\n",
        "# `pos` 객체는 axis의 위치 지정 용도입니다.\n",
        "for pos, alpha in enumerate(alphas):\n",
        "    ridge = Ridge(alpha=alpha)\n",
        "    ridge.fit(X_data, y_target)\n",
        "    # 회귀 계수를 데이터프레임에 추가하기 위해 시리즈로 변환합니다.\n",
        "    coeff = pd.Series(data=ridge.coef_, index=X_data.columns)\n",
        "    # 열명을 지정합니다.\n",
        "    colname = 'alpha: ' + str(alpha)\n",
        "    # 변환한 시리즈를 새로운 열에 추가합니다.\n",
        "    coeff_df[colname] = coeff\n",
        "    coeff = coeff.sort_values(ascending=False)\n",
        "    axs[pos].set_title(colname)\n",
        "    axs[pos].set_xlim(-3, 6)\n",
        "    sns.barplot(x=coeff.values, y=coeff.index, ax=axs[pos])\n",
        "\n",
        "plt.show()"
      ],
      "metadata": {
        "id": "W6Z8JoSPyhVs",
        "colab": {
          "base_uri": "https://localhost:8080/",
          "height": 385
        },
        "outputId": "af56a436-ecad-481a-dbf0-8edce10a9dcc"
      },
      "execution_count": null,
      "outputs": [
        {
          "output_type": "display_data",
          "data": {
            "text/plain": [
              "<Figure size 1872x432 with 6 Axes>"
            ],
            "image/png": "[encoded data removed]"
          },
          "metadata": {
            "needs_background": "light"
          }
        }
      ]
    },
    {
      "cell_type": "code",
      "source": [
        "ridge_alphas = [0, 0.1, 1, 10, 100, 1000]\n",
        "sort_column = 'alpha: ' + str(ridge_alphas[0])\n",
        "coeff_df.sort_values(by=sort_column, ascending=False)"
      ],
      "metadata": {
        "colab": {
          "base_uri": "https://localhost:8080/",
          "height": 457
        },
        "id": "hjKpNxdARkOt",
        "outputId": "df063339-7777-4071-dcac-d4f3df4a66c6"
      },
      "execution_count": null,
      "outputs": [
        {
          "output_type": "execute_result",
          "data": {
            "text/plain": [
              "          alpha: 0  alpha: 0.1   alpha: 1  alpha: 10  alpha: 100  alpha: 1000\n",
              "RM        3.809865    3.818233   3.854000   3.702272    2.334536     0.568555\n",
              "CHAS      2.686734    2.670019   2.552393   1.952021    0.638335     0.101449\n",
              "RAD       0.306049    0.303515   0.290142   0.279596    0.315358     0.310743\n",
              "ZN        0.046420    0.046572   0.047443   0.049579    0.054496     0.054378\n",
              "INDUS     0.020559    0.015999  -0.008805  -0.042962   -0.052826    -0.036336\n",
              "B         0.009312    0.009368   0.009673   0.010037    0.009393     0.007990\n",
              "AGE       0.000692   -0.000269  -0.005415  -0.010707    0.001212     0.030573\n",
              "TAX      -0.012335   -0.012421  -0.012912  -0.013993   -0.015856    -0.016602\n",
              "CRIM     -0.108011   -0.107474  -0.104595  -0.101435   -0.102202    -0.090768\n",
              "LSTAT    -0.524758   -0.525966  -0.533343  -0.559366   -0.660764    -0.763721\n",
              "PTRATIO  -0.952747   -0.940759  -0.876074  -0.797945   -0.829218    -0.659048\n",
              "DIS      -1.475567   -1.459626  -1.372654  -1.248808   -1.153390    -0.612628\n",
              "NOX     -17.766611  -16.684645 -10.777015  -2.371619   -0.262847    -0.016001"
            ],
            "text/html": [
              "\n",
              "  <div id=\"df-d08a9989-46f1-45f1-b223-433a193395b8\">\n",
              "    <div class=\"colab-df-container\">\n",
              "      <div>\n",
              "<style scoped>\n",
              "    .dataframe tbody tr th:only-of-type {\n",
              "        vertical-align: middle;\n",
              "    }\n",
              "\n",
              "    .dataframe tbody tr th {\n",
              "        vertical-align: top;\n",
              "    }\n",
              "\n",
              "    .dataframe thead th {\n",
              "        text-align: right;\n",
              "    }\n",
              "</style>\n",
              "<table border=\"1\" class=\"dataframe\">\n",
              "  <thead>\n",
              "    <tr style=\"text-align: right;\">\n",
              "      <th></th>\n",
              "      <th>alpha: 0</th>\n",
              "      <th>alpha: 0.1</th>\n",
              "      <th>alpha: 1</th>\n",
              "      <th>alpha: 10</th>\n",
              "      <th>alpha: 100</th>\n",
              "      <th>alpha: 1000</th>\n",
              "    </tr>\n",
              "  </thead>\n",
              "  <tbody>\n",
              "    <tr>\n",
              "      <th>RM</th>\n",
              "      <td>3.809865</td>\n",
              "      <td>3.818233</td>\n",
              "      <td>3.854000</td>\n",
              "      <td>3.702272</td>\n",
              "      <td>2.334536</td>\n",
              "      <td>0.568555</td>\n",
              "    </tr>\n",
              "    <tr>\n",
              "      <th>CHAS</th>\n",
              "      <td>2.686734</td>\n",
              "      <td>2.670019</td>\n",
              "      <td>2.552393</td>\n",
              "      <td>1.952021</td>\n",
              "      <td>0.638335</td>\n",
              "      <td>0.101449</td>\n",
              "    </tr>\n",
              "    <tr>\n",
              "      <th>RAD</th>\n",
              "      <td>0.306049</td>\n",
              "      <td>0.303515</td>\n",
              "      <td>0.290142</td>\n",
              "      <td>0.279596</td>\n",
              "      <td>0.315358</td>\n",
              "      <td>0.310743</td>\n",
              "    </tr>\n",
              "    <tr>\n",
              "      <th>ZN</th>\n",
              "      <td>0.046420</td>\n",
              "      <td>0.046572</td>\n",
              "      <td>0.047443</td>\n",
              "      <td>0.049579</td>\n",
              "      <td>0.054496</td>\n",
              "      <td>0.054378</td>\n",
              "    </tr>\n",
              "    <tr>\n",
              "      <th>INDUS</th>\n",
              "      <td>0.020559</td>\n",
              "      <td>0.015999</td>\n",
              "      <td>-0.008805</td>\n",
              "      <td>-0.042962</td>\n",
              "      <td>-0.052826</td>\n",
              "      <td>-0.036336</td>\n",
              "    </tr>\n",
              "    <tr>\n",
              "      <th>B</th>\n",
              "      <td>0.009312</td>\n",
              "      <td>0.009368</td>\n",
              "      <td>0.009673</td>\n",
              "      <td>0.010037</td>\n",
              "      <td>0.009393</td>\n",
              "      <td>0.007990</td>\n",
              "    </tr>\n",
              "    <tr>\n",
              "      <th>AGE</th>\n",
              "      <td>0.000692</td>\n",
              "      <td>-0.000269</td>\n",
              "      <td>-0.005415</td>\n",
              "      <td>-0.010707</td>\n",
              "      <td>0.001212</td>\n",
              "      <td>0.030573</td>\n",
              "    </tr>\n",
              "    <tr>\n",
              "      <th>TAX</th>\n",
              "      <td>-0.012335</td>\n",
              "      <td>-0.012421</td>\n",
              "      <td>-0.012912</td>\n",
              "      <td>-0.013993</td>\n",
              "      <td>-0.015856</td>\n",
              "      <td>-0.016602</td>\n",
              "    </tr>\n",
              "    <tr>\n",
              "      <th>CRIM</th>\n",
              "      <td>-0.108011</td>\n",
              "      <td>-0.107474</td>\n",
              "      <td>-0.104595</td>\n",
              "      <td>-0.101435</td>\n",
              "      <td>-0.102202</td>\n",
              "      <td>-0.090768</td>\n",
              "    </tr>\n",
              "    <tr>\n",
              "      <th>LSTAT</th>\n",
              "      <td>-0.524758</td>\n",
              "      <td>-0.525966</td>\n",
              "      <td>-0.533343</td>\n",
              "      <td>-0.559366</td>\n",
              "      <td>-0.660764</td>\n",
              "      <td>-0.763721</td>\n",
              "    </tr>\n",
              "    <tr>\n",
              "      <th>PTRATIO</th>\n",
              "      <td>-0.952747</td>\n",
              "      <td>-0.940759</td>\n",
              "      <td>-0.876074</td>\n",
              "      <td>-0.797945</td>\n",
              "      <td>-0.829218</td>\n",
              "      <td>-0.659048</td>\n",
              "    </tr>\n",
              "    <tr>\n",
              "      <th>DIS</th>\n",
              "      <td>-1.475567</td>\n",
              "      <td>-1.459626</td>\n",
              "      <td>-1.372654</td>\n",
              "      <td>-1.248808</td>\n",
              "      <td>-1.153390</td>\n",
              "      <td>-0.612628</td>\n",
              "    </tr>\n",
              "    <tr>\n",
              "      <th>NOX</th>\n",
              "      <td>-17.766611</td>\n",
              "      <td>-16.684645</td>\n",
              "      <td>-10.777015</td>\n",
              "      <td>-2.371619</td>\n",
              "      <td>-0.262847</td>\n",
              "      <td>-0.016001</td>\n",
              "    </tr>\n",
              "  </tbody>\n",
              "</table>\n",
              "</div>\n",
              "      <button class=\"colab-df-convert\" onclick=\"convertToInteractive('df-d08a9989-46f1-45f1-b223-433a193395b8')\"\n",
              "              title=\"Convert this dataframe to an interactive table.\"\n",
              "              style=\"display:none;\">\n",
              "        \n",
              "  <svg xmlns=\"http://www.w3.org/2000/svg\" height=\"24px\"viewBox=\"0 0 24 24\"\n",
              "       width=\"24px\">\n",
              "    <path d=\"M0 0h24v24H0V0z\" fill=\"none\"/>\n",
              "    <path d=\"M18.56 5.44l.94 2.06.94-2.06 2.06-.94-2.06-.94-.94-2.06-.94 2.06-2.06.94zm-11 1L8.5 8.5l.94-2.06 2.06-.94-2.06-.94L8.5 2.5l-.94 2.06-2.06.94zm10 10l.94 2.06.94-2.06 2.06-.94-2.06-.94-.94-2.06-.94 2.06-2.06.94z\"/><path d=\"M17.41 7.96l-1.37-1.37c-.4-.4-.92-.59-1.43-.59-.52 0-1.04.2-1.43.59L10.3 9.45l-7.72 7.72c-.78.78-.78 2.05 0 2.83L4 21.41c.39.39.9.59 1.41.59.51 0 1.02-.2 1.41-.59l7.78-7.78 2.81-2.81c.8-.78.8-2.07 0-2.86zM5.41 20L4 18.59l7.72-7.72 1.47 1.35L5.41 20z\"/>\n",
              "  </svg>\n",
              "      </button>\n",
              "      \n",
              "  <style>\n",
              "    .colab-df-container {\n",
              "      display:flex;\n",
              "      flex-wrap:wrap;\n",
              "      gap: 12px;\n",
              "    }\n",
              "\n",
              "    .colab-df-convert {\n",
              "      background-color: #E8F0FE;\n",
              "      border: none;\n",
              "      border-radius: 50%;\n",
              "      cursor: pointer;\n",
              "      display: none;\n",
              "      fill: #1967D2;\n",
              "      height: 32px;\n",
              "      padding: 0 0 0 0;\n",
              "      width: 32px;\n",
              "    }\n",
              "\n",
              "    .colab-df-convert:hover {\n",
              "      background-color: #E2EBFA;\n",
              "      box-shadow: 0px 1px 2px rgba(60, 64, 67, 0.3), 0px 1px 3px 1px rgba(60, 64, 67, 0.15);\n",
              "      fill: #174EA6;\n",
              "    }\n",
              "\n",
              "    [theme=dark] .colab-df-convert {\n",
              "      background-color: #3B4455;\n",
              "      fill: #D2E3FC;\n",
              "    }\n",
              "\n",
              "    [theme=dark] .colab-df-convert:hover {\n",
              "      background-color: #434B5C;\n",
              "      box-shadow: 0px 1px 3px 1px rgba(0, 0, 0, 0.15);\n",
              "      filter: drop-shadow(0px 1px 2px rgba(0, 0, 0, 0.3));\n",
              "      fill: #FFFFFF;\n",
              "    }\n",
              "  </style>\n",
              "\n",
              "      <script>\n",
              "        const buttonEl =\n",
              "          document.querySelector('#df-d08a9989-46f1-45f1-b223-433a193395b8 button.colab-df-convert');\n",
              "        buttonEl.style.display =\n",
              "          google.colab.kernel.accessAllowed ? 'block' : 'none';\n",
              "\n",
              "        async function convertToInteractive(key) {\n",
              "          const element = document.querySelector('#df-d08a9989-46f1-45f1-b223-433a193395b8');\n",
              "          const dataTable =\n",
              "            await google.colab.kernel.invokeFunction('convertToInteractive',\n",
              "                                                     [key], {});\n",
              "          if (!dataTable) return;\n",
              "\n",
              "          const docLinkHtml = 'Like what you see? Visit the ' +\n",
              "            '<a target=\"_blank\" href=https://colab.research.google.com/notebooks/data_table.ipynb>data table notebook</a>'\n",
              "            + ' to learn more about interactive tables.';\n",
              "          element.innerHTML = '';\n",
              "          dataTable['output_type'] = 'display_data';\n",
              "          await google.colab.output.renderOutput(dataTable, element);\n",
              "          const docLink = document.createElement('div');\n",
              "          docLink.innerHTML = docLinkHtml;\n",
              "          element.appendChild(docLink);\n",
              "        }\n",
              "      </script>\n",
              "    </div>\n",
              "  </div>\n",
              "  "
            ]
          },
          "metadata": {},
          "execution_count": 92
        }
      ]
    },
    {
      "cell_type": "markdown",
      "source": [
        "`alpha` 값이 증가하면 회귀 계수가 점점 작아집니다. 다만 0으로 만들지는 않습니다. 라쏘 회귀가 회귀 계수를 0으로 만드는 것과 큰 차이점입니다."
      ],
      "metadata": {
        "id": "G5GvgFa5UKmD"
      }
    },
    {
      "cell_type": "markdown",
      "source": [
        "## **6.3. 라쏘 회귀**"
      ],
      "metadata": {
        "id": "Vu0qetCKesHn"
      }
    },
    {
      "cell_type": "markdown",
      "source": [
        "L1 규제는 불필요한 회귀 계수를 급격하게 감소시켜 0으로 만들고 제거합니다. 이런 특성으로 적절한 피처만 회귀에 포함시킵니다.\n",
        "\n",
        "위 과정을 라쏘와 엘라스틱넷을 동시에 수행하기 위해 직접 함수를 선언하겠습니다."
      ],
      "metadata": {
        "id": "vW-AKwqvU2GH"
      }
    },
    {
      "cell_type": "code",
      "source": [
        "from sklearn.linear_model import Lasso, ElasticNet\n",
        "\n",
        "def get_linear_reg_eval(model_name, params=None, X_data_n=None, y_target_n=None,\n",
        "                        verbose=True, return_coeff=True):\n",
        "    coeff_df = pd.DataFrame()\n",
        "    if verbose:\n",
        "        print('###', model_name, '###')\n",
        "    for param in params:\n",
        "        if model_name == 'Ridge':\n",
        "            model = Ridge(alpha=param)\n",
        "        elif model_name == 'Lasso':\n",
        "            model = Lasso(alpha=param)\n",
        "        elif model_name == 'ElasticNet':\n",
        "            # `alpha` 값의 변화만 살필 용도이므로 `l1_ratio` 파라미터 값을 `0.7`로 고정합니다.\n",
        "            model = ElasticNet(alpha=param, l1_ratio=0.7)\n",
        "        neg_mse_scores = cross_val_score(\n",
        "            model, X_data_n, y_target_n, scoring='neg_mean_squared_error', cv=5)\n",
        "        avg_rmse_scores = np.mean(np.sqrt(-1 * neg_mse_scores))\n",
        "        print('alpha={}일 때 5 폴드 세트의 평균 RMSE: {:.3f}'.format(param, avg_rmse_scores))\n",
        "\n",
        "        model.fit(X_data_n, y_target_n)\n",
        "\n",
        "        if return_coeff:\n",
        "            coeff = pd.Series(data=model.coef_, index=X_data_n.columns)\n",
        "            colname = 'alpha: ' + str(param)\n",
        "            coeff_df[colname] = coeff\n",
        "    \n",
        "    return coeff_df"
      ],
      "metadata": {
        "id": "fCo8e-xR4U3e"
      },
      "execution_count": null,
      "outputs": []
    },
    {
      "cell_type": "markdown",
      "source": [
        "선언한 함수로 라쏘 모델의 RMSE를 출력해 보겠습니다."
      ],
      "metadata": {
        "id": "oRGqQCPzEeev"
      }
    },
    {
      "cell_type": "code",
      "source": [
        "lasso_alphas = [0.07, 0.1, 0.5, 1, 3]\n",
        "coeff_lasso_df = get_linear_reg_eval('Lasso', params=lasso_alphas, X_data_n=X_data, y_target_n=y_target)"
      ],
      "metadata": {
        "colab": {
          "base_uri": "https://localhost:8080/"
        },
        "id": "fG80xb-CC00i",
        "outputId": "1df14c41-7399-4a9c-b671-d4a1c6b037c6"
      },
      "execution_count": null,
      "outputs": [
        {
          "output_type": "stream",
          "name": "stdout",
          "text": [
            "### Lasso ###\n",
            "alpha=0.07일 때 5 폴드 세트의 평균 RMSE: 5.612\n",
            "alpha=0.1일 때 5 폴드 세트의 평균 RMSE: 5.615\n",
            "alpha=0.5일 때 5 폴드 세트의 평균 RMSE: 5.669\n",
            "alpha=1일 때 5 폴드 세트의 평균 RMSE: 5.776\n",
            "alpha=3일 때 5 폴드 세트의 평균 RMSE: 6.189\n"
          ]
        }
      ]
    },
    {
      "cell_type": "markdown",
      "source": [
        "`alpha=0.07`일 때 가장 성능이 좋습니다. 릿지보다는 약간 떨어지지만 선형 회귀 모델보다는 좋습니다.\n",
        "\n",
        "피처별 회귀 계수를 확인하겠습니다."
      ],
      "metadata": {
        "id": "OhMGUp7METg4"
      }
    },
    {
      "cell_type": "code",
      "source": [
        "sort_column = 'alpha: ' + str(lasso_alphas[0])\n",
        "coeff_lasso_df.sort_values(by=sort_column, ascending=False)"
      ],
      "metadata": {
        "colab": {
          "base_uri": "https://localhost:8080/",
          "height": 457
        },
        "id": "7PZ_ztyxGLCC",
        "outputId": "74285e33-351e-480d-f70d-de3471ba66cb"
      },
      "execution_count": null,
      "outputs": [
        {
          "output_type": "execute_result",
          "data": {
            "text/plain": [
              "         alpha: 0.07  alpha: 0.1  alpha: 0.5  alpha: 1  alpha: 3\n",
              "RM          3.789725    3.703202    2.498212  0.949811  0.000000\n",
              "CHAS        1.434343    0.955190    0.000000  0.000000  0.000000\n",
              "RAD         0.270936    0.274707    0.277451  0.264206  0.061864\n",
              "ZN          0.049059    0.049211    0.049544  0.049165  0.037231\n",
              "B           0.010248    0.010249    0.009469  0.008247  0.006510\n",
              "NOX        -0.000000   -0.000000   -0.000000 -0.000000  0.000000\n",
              "AGE        -0.011706   -0.010037    0.003604  0.020910  0.042495\n",
              "TAX        -0.014290   -0.014570   -0.015442 -0.015212 -0.008602\n",
              "INDUS      -0.042120   -0.036619   -0.005253 -0.000000 -0.000000\n",
              "CRIM       -0.098193   -0.097894   -0.083289 -0.063437 -0.000000\n",
              "LSTAT      -0.560431   -0.568769   -0.656290 -0.761115 -0.807679\n",
              "PTRATIO    -0.765107   -0.770654   -0.758752 -0.722966 -0.265072\n",
              "DIS        -1.176583   -1.160538   -0.936605 -0.668790 -0.000000"
            ],
            "text/html": [
              "\n",
              "  <div id=\"df-de257ae0-1bed-46e0-b822-9f2c6b3f3f71\">\n",
              "    <div class=\"colab-df-container\">\n",
              "      <div>\n",
              "<style scoped>\n",
              "    .dataframe tbody tr th:only-of-type {\n",
              "        vertical-align: middle;\n",
              "    }\n",
              "\n",
              "    .dataframe tbody tr th {\n",
              "        vertical-align: top;\n",
              "    }\n",
              "\n",
              "    .dataframe thead th {\n",
              "        text-align: right;\n",
              "    }\n",
              "</style>\n",
              "<table border=\"1\" class=\"dataframe\">\n",
              "  <thead>\n",
              "    <tr style=\"text-align: right;\">\n",
              "      <th></th>\n",
              "      <th>alpha: 0.07</th>\n",
              "      <th>alpha: 0.1</th>\n",
              "      <th>alpha: 0.5</th>\n",
              "      <th>alpha: 1</th>\n",
              "      <th>alpha: 3</th>\n",
              "    </tr>\n",
              "  </thead>\n",
              "  <tbody>\n",
              "    <tr>\n",
              "      <th>RM</th>\n",
              "      <td>3.789725</td>\n",
              "      <td>3.703202</td>\n",
              "      <td>2.498212</td>\n",
              "      <td>0.949811</td>\n",
              "      <td>0.000000</td>\n",
              "    </tr>\n",
              "    <tr>\n",
              "      <th>CHAS</th>\n",
              "      <td>1.434343</td>\n",
              "      <td>0.955190</td>\n",
              "      <td>0.000000</td>\n",
              "      <td>0.000000</td>\n",
              "      <td>0.000000</td>\n",
              "    </tr>\n",
              "    <tr>\n",
              "      <th>RAD</th>\n",
              "      <td>0.270936</td>\n",
              "      <td>0.274707</td>\n",
              "      <td>0.277451</td>\n",
              "      <td>0.264206</td>\n",
              "      <td>0.061864</td>\n",
              "    </tr>\n",
              "    <tr>\n",
              "      <th>ZN</th>\n",
              "      <td>0.049059</td>\n",
              "      <td>0.049211</td>\n",
              "      <td>0.049544</td>\n",
              "      <td>0.049165</td>\n",
              "      <td>0.037231</td>\n",
              "    </tr>\n",
              "    <tr>\n",
              "      <th>B</th>\n",
              "      <td>0.010248</td>\n",
              "      <td>0.010249</td>\n",
              "      <td>0.009469</td>\n",
              "      <td>0.008247</td>\n",
              "      <td>0.006510</td>\n",
              "    </tr>\n",
              "    <tr>\n",
              "      <th>NOX</th>\n",
              "      <td>-0.000000</td>\n",
              "      <td>-0.000000</td>\n",
              "      <td>-0.000000</td>\n",
              "      <td>-0.000000</td>\n",
              "      <td>0.000000</td>\n",
              "    </tr>\n",
              "    <tr>\n",
              "      <th>AGE</th>\n",
              "      <td>-0.011706</td>\n",
              "      <td>-0.010037</td>\n",
              "      <td>0.003604</td>\n",
              "      <td>0.020910</td>\n",
              "      <td>0.042495</td>\n",
              "    </tr>\n",
              "    <tr>\n",
              "      <th>TAX</th>\n",
              "      <td>-0.014290</td>\n",
              "      <td>-0.014570</td>\n",
              "      <td>-0.015442</td>\n",
              "      <td>-0.015212</td>\n",
              "      <td>-0.008602</td>\n",
              "    </tr>\n",
              "    <tr>\n",
              "      <th>INDUS</th>\n",
              "      <td>-0.042120</td>\n",
              "      <td>-0.036619</td>\n",
              "      <td>-0.005253</td>\n",
              "      <td>-0.000000</td>\n",
              "      <td>-0.000000</td>\n",
              "    </tr>\n",
              "    <tr>\n",
              "      <th>CRIM</th>\n",
              "      <td>-0.098193</td>\n",
              "      <td>-0.097894</td>\n",
              "      <td>-0.083289</td>\n",
              "      <td>-0.063437</td>\n",
              "      <td>-0.000000</td>\n",
              "    </tr>\n",
              "    <tr>\n",
              "      <th>LSTAT</th>\n",
              "      <td>-0.560431</td>\n",
              "      <td>-0.568769</td>\n",
              "      <td>-0.656290</td>\n",
              "      <td>-0.761115</td>\n",
              "      <td>-0.807679</td>\n",
              "    </tr>\n",
              "    <tr>\n",
              "      <th>PTRATIO</th>\n",
              "      <td>-0.765107</td>\n",
              "      <td>-0.770654</td>\n",
              "      <td>-0.758752</td>\n",
              "      <td>-0.722966</td>\n",
              "      <td>-0.265072</td>\n",
              "    </tr>\n",
              "    <tr>\n",
              "      <th>DIS</th>\n",
              "      <td>-1.176583</td>\n",
              "      <td>-1.160538</td>\n",
              "      <td>-0.936605</td>\n",
              "      <td>-0.668790</td>\n",
              "      <td>-0.000000</td>\n",
              "    </tr>\n",
              "  </tbody>\n",
              "</table>\n",
              "</div>\n",
              "      <button class=\"colab-df-convert\" onclick=\"convertToInteractive('df-de257ae0-1bed-46e0-b822-9f2c6b3f3f71')\"\n",
              "              title=\"Convert this dataframe to an interactive table.\"\n",
              "              style=\"display:none;\">\n",
              "        \n",
              "  <svg xmlns=\"http://www.w3.org/2000/svg\" height=\"24px\"viewBox=\"0 0 24 24\"\n",
              "       width=\"24px\">\n",
              "    <path d=\"M0 0h24v24H0V0z\" fill=\"none\"/>\n",
              "    <path d=\"M18.56 5.44l.94 2.06.94-2.06 2.06-.94-2.06-.94-.94-2.06-.94 2.06-2.06.94zm-11 1L8.5 8.5l.94-2.06 2.06-.94-2.06-.94L8.5 2.5l-.94 2.06-2.06.94zm10 10l.94 2.06.94-2.06 2.06-.94-2.06-.94-.94-2.06-.94 2.06-2.06.94z\"/><path d=\"M17.41 7.96l-1.37-1.37c-.4-.4-.92-.59-1.43-.59-.52 0-1.04.2-1.43.59L10.3 9.45l-7.72 7.72c-.78.78-.78 2.05 0 2.83L4 21.41c.39.39.9.59 1.41.59.51 0 1.02-.2 1.41-.59l7.78-7.78 2.81-2.81c.8-.78.8-2.07 0-2.86zM5.41 20L4 18.59l7.72-7.72 1.47 1.35L5.41 20z\"/>\n",
              "  </svg>\n",
              "      </button>\n",
              "      \n",
              "  <style>\n",
              "    .colab-df-container {\n",
              "      display:flex;\n",
              "      flex-wrap:wrap;\n",
              "      gap: 12px;\n",
              "    }\n",
              "\n",
              "    .colab-df-convert {\n",
              "      background-color: #E8F0FE;\n",
              "      border: none;\n",
              "      border-radius: 50%;\n",
              "      cursor: pointer;\n",
              "      display: none;\n",
              "      fill: #1967D2;\n",
              "      height: 32px;\n",
              "      padding: 0 0 0 0;\n",
              "      width: 32px;\n",
              "    }\n",
              "\n",
              "    .colab-df-convert:hover {\n",
              "      background-color: #E2EBFA;\n",
              "      box-shadow: 0px 1px 2px rgba(60, 64, 67, 0.3), 0px 1px 3px 1px rgba(60, 64, 67, 0.15);\n",
              "      fill: #174EA6;\n",
              "    }\n",
              "\n",
              "    [theme=dark] .colab-df-convert {\n",
              "      background-color: #3B4455;\n",
              "      fill: #D2E3FC;\n",
              "    }\n",
              "\n",
              "    [theme=dark] .colab-df-convert:hover {\n",
              "      background-color: #434B5C;\n",
              "      box-shadow: 0px 1px 3px 1px rgba(0, 0, 0, 0.15);\n",
              "      filter: drop-shadow(0px 1px 2px rgba(0, 0, 0, 0.3));\n",
              "      fill: #FFFFFF;\n",
              "    }\n",
              "  </style>\n",
              "\n",
              "      <script>\n",
              "        const buttonEl =\n",
              "          document.querySelector('#df-de257ae0-1bed-46e0-b822-9f2c6b3f3f71 button.colab-df-convert');\n",
              "        buttonEl.style.display =\n",
              "          google.colab.kernel.accessAllowed ? 'block' : 'none';\n",
              "\n",
              "        async function convertToInteractive(key) {\n",
              "          const element = document.querySelector('#df-de257ae0-1bed-46e0-b822-9f2c6b3f3f71');\n",
              "          const dataTable =\n",
              "            await google.colab.kernel.invokeFunction('convertToInteractive',\n",
              "                                                     [key], {});\n",
              "          if (!dataTable) return;\n",
              "\n",
              "          const docLinkHtml = 'Like what you see? Visit the ' +\n",
              "            '<a target=\"_blank\" href=https://colab.research.google.com/notebooks/data_table.ipynb>data table notebook</a>'\n",
              "            + ' to learn more about interactive tables.';\n",
              "          element.innerHTML = '';\n",
              "          dataTable['output_type'] = 'display_data';\n",
              "          await google.colab.output.renderOutput(dataTable, element);\n",
              "          const docLink = document.createElement('div');\n",
              "          docLink.innerHTML = docLinkHtml;\n",
              "          element.appendChild(docLink);\n",
              "        }\n",
              "      </script>\n",
              "    </div>\n",
              "  </div>\n",
              "  "
            ]
          },
          "metadata": {},
          "execution_count": 95
        }
      ]
    },
    {
      "cell_type": "markdown",
      "source": [
        "0이 된 회귀 계수도 있습니다. 회귀 계수가 0인 피처는 회귀 식에서 제외되면서 피처 선택 효과를 얻습니다."
      ],
      "metadata": {
        "id": "Gm0rQxx6G93d"
      }
    },
    {
      "cell_type": "markdown",
      "source": [
        "## **6.4. 엘라스틱넷 회귀**"
      ],
      "metadata": {
        "id": "n0kywtH7esFe"
      }
    },
    {
      "cell_type": "markdown",
      "source": [
        "**엘라스틱넷** 회귀는 L2 규제와 L1 규제를 결합한 회귀입니다. 라쏘 회귀가 서로 상관관계가 높은 피처들의 경우 이들 중에서 중요 피처만을 고르고 다른 피처들은 모두 회귀 계수를 0으로 만드는 성향이 강하므로 alpha 값에 따라 회귀 계수가 급격히 변동할 수 있습니다. 이를 완화하기 위해 L2 규제를 결합한 것입니다. 다만 수행시간이 단일 규제보다 오래 걸립니다.\n",
        "\n",
        "`ElasticNet` 클래스의 주요 파라미터는 `alpha`, `l1_ratio`입니다. 자세한 설명은 서적을 참고하시기 바랍니다. `l1_ratio`가 `0`이면 L2 규제이고 `1`이면 L1 규제와 동일하다는 점만 알고 넘어가겠습니다.\n",
        "\n",
        "RMSE와 회귀 계수를 출력해 보겠습니다."
      ],
      "metadata": {
        "id": "03ag83osHlEH"
      }
    },
    {
      "cell_type": "code",
      "source": [
        "elastic_alphas = [0.07, 0.1, 0.5, 1, 3]\n",
        "coeff_elastic_df = get_linear_reg_eval('ElasticNet', params=elastic_alphas,\n",
        "                                       X_data_n=X_data, y_target_n=y_target)"
      ],
      "metadata": {
        "colab": {
          "base_uri": "https://localhost:8080/"
        },
        "id": "1yeDjW0jAmfR",
        "outputId": "96c00480-f311-489d-b31a-83f43405549b"
      },
      "execution_count": null,
      "outputs": [
        {
          "output_type": "stream",
          "name": "stdout",
          "text": [
            "### ElasticNet ###\n",
            "alpha=0.07일 때 5 폴드 세트의 평균 RMSE: 5.542\n",
            "alpha=0.1일 때 5 폴드 세트의 평균 RMSE: 5.526\n",
            "alpha=0.5일 때 5 폴드 세트의 평균 RMSE: 5.467\n",
            "alpha=1일 때 5 폴드 세트의 평균 RMSE: 5.597\n",
            "alpha=3일 때 5 폴드 세트의 평균 RMSE: 6.068\n"
          ]
        }
      ]
    },
    {
      "cell_type": "markdown",
      "source": [
        "`alpha=0.5`일 때 가장 성능이 좋습니다.\n",
        "\n",
        "피처별 회귀 계수를 확인해 보겠습니다."
      ],
      "metadata": {
        "id": "IE6dGC2ECtez"
      }
    },
    {
      "cell_type": "code",
      "source": [
        "sort_column = 'alpha: ' + str(elastic_alphas[0])\n",
        "coeff_elastic_df.sort_values(by=sort_column, ascending=False)"
      ],
      "metadata": {
        "colab": {
          "base_uri": "https://localhost:8080/",
          "height": 457
        },
        "id": "40ithJhtB9D-",
        "outputId": "a75e25dd-69ca-470e-d878-f20d673fa30c"
      },
      "execution_count": null,
      "outputs": [
        {
          "output_type": "execute_result",
          "data": {
            "text/plain": [
              "         alpha: 0.07  alpha: 0.1  alpha: 0.5  alpha: 1  alpha: 3\n",
              "RM          3.574162    3.414154    1.918419  0.938789  0.000000\n",
              "CHAS        1.330724    0.979706    0.000000  0.000000  0.000000\n",
              "RAD         0.278880    0.283443    0.300761  0.289299  0.146846\n",
              "ZN          0.050107    0.050617    0.052878  0.052136  0.038268\n",
              "B           0.010122    0.010067    0.009114  0.008320  0.007020\n",
              "AGE        -0.010116   -0.008276    0.007760  0.020348  0.043446\n",
              "TAX        -0.014522   -0.014814   -0.016046 -0.016218 -0.011417\n",
              "INDUS      -0.044855   -0.042719   -0.023252 -0.000000 -0.000000\n",
              "CRIM       -0.099468   -0.099213   -0.089070 -0.073577 -0.019058\n",
              "NOX        -0.175072   -0.000000   -0.000000 -0.000000 -0.000000\n",
              "LSTAT      -0.574822   -0.587702   -0.693861 -0.760457 -0.800368\n",
              "PTRATIO    -0.779498   -0.784725   -0.790969 -0.738672 -0.423065\n",
              "DIS        -1.189438   -1.173647   -0.975902 -0.725174 -0.031208"
            ],
            "text/html": [
              "\n",
              "  <div id=\"df-95ef7dc8-f058-436c-b7c7-b1a5473179bc\">\n",
              "    <div class=\"colab-df-container\">\n",
              "      <div>\n",
              "<style scoped>\n",
              "    .dataframe tbody tr th:only-of-type {\n",
              "        vertical-align: middle;\n",
              "    }\n",
              "\n",
              "    .dataframe tbody tr th {\n",
              "        vertical-align: top;\n",
              "    }\n",
              "\n",
              "    .dataframe thead th {\n",
              "        text-align: right;\n",
              "    }\n",
              "</style>\n",
              "<table border=\"1\" class=\"dataframe\">\n",
              "  <thead>\n",
              "    <tr style=\"text-align: right;\">\n",
              "      <th></th>\n",
              "      <th>alpha: 0.07</th>\n",
              "      <th>alpha: 0.1</th>\n",
              "      <th>alpha: 0.5</th>\n",
              "      <th>alpha: 1</th>\n",
              "      <th>alpha: 3</th>\n",
              "    </tr>\n",
              "  </thead>\n",
              "  <tbody>\n",
              "    <tr>\n",
              "      <th>RM</th>\n",
              "      <td>3.574162</td>\n",
              "      <td>3.414154</td>\n",
              "      <td>1.918419</td>\n",
              "      <td>0.938789</td>\n",
              "      <td>0.000000</td>\n",
              "    </tr>\n",
              "    <tr>\n",
              "      <th>CHAS</th>\n",
              "      <td>1.330724</td>\n",
              "      <td>0.979706</td>\n",
              "      <td>0.000000</td>\n",
              "      <td>0.000000</td>\n",
              "      <td>0.000000</td>\n",
              "    </tr>\n",
              "    <tr>\n",
              "      <th>RAD</th>\n",
              "      <td>0.278880</td>\n",
              "      <td>0.283443</td>\n",
              "      <td>0.300761</td>\n",
              "      <td>0.289299</td>\n",
              "      <td>0.146846</td>\n",
              "    </tr>\n",
              "    <tr>\n",
              "      <th>ZN</th>\n",
              "      <td>0.050107</td>\n",
              "      <td>0.050617</td>\n",
              "      <td>0.052878</td>\n",
              "      <td>0.052136</td>\n",
              "      <td>0.038268</td>\n",
              "    </tr>\n",
              "    <tr>\n",
              "      <th>B</th>\n",
              "      <td>0.010122</td>\n",
              "      <td>0.010067</td>\n",
              "      <td>0.009114</td>\n",
              "      <td>0.008320</td>\n",
              "      <td>0.007020</td>\n",
              "    </tr>\n",
              "    <tr>\n",
              "      <th>AGE</th>\n",
              "      <td>-0.010116</td>\n",
              "      <td>-0.008276</td>\n",
              "      <td>0.007760</td>\n",
              "      <td>0.020348</td>\n",
              "      <td>0.043446</td>\n",
              "    </tr>\n",
              "    <tr>\n",
              "      <th>TAX</th>\n",
              "      <td>-0.014522</td>\n",
              "      <td>-0.014814</td>\n",
              "      <td>-0.016046</td>\n",
              "      <td>-0.016218</td>\n",
              "      <td>-0.011417</td>\n",
              "    </tr>\n",
              "    <tr>\n",
              "      <th>INDUS</th>\n",
              "      <td>-0.044855</td>\n",
              "      <td>-0.042719</td>\n",
              "      <td>-0.023252</td>\n",
              "      <td>-0.000000</td>\n",
              "      <td>-0.000000</td>\n",
              "    </tr>\n",
              "    <tr>\n",
              "      <th>CRIM</th>\n",
              "      <td>-0.099468</td>\n",
              "      <td>-0.099213</td>\n",
              "      <td>-0.089070</td>\n",
              "      <td>-0.073577</td>\n",
              "      <td>-0.019058</td>\n",
              "    </tr>\n",
              "    <tr>\n",
              "      <th>NOX</th>\n",
              "      <td>-0.175072</td>\n",
              "      <td>-0.000000</td>\n",
              "      <td>-0.000000</td>\n",
              "      <td>-0.000000</td>\n",
              "      <td>-0.000000</td>\n",
              "    </tr>\n",
              "    <tr>\n",
              "      <th>LSTAT</th>\n",
              "      <td>-0.574822</td>\n",
              "      <td>-0.587702</td>\n",
              "      <td>-0.693861</td>\n",
              "      <td>-0.760457</td>\n",
              "      <td>-0.800368</td>\n",
              "    </tr>\n",
              "    <tr>\n",
              "      <th>PTRATIO</th>\n",
              "      <td>-0.779498</td>\n",
              "      <td>-0.784725</td>\n",
              "      <td>-0.790969</td>\n",
              "      <td>-0.738672</td>\n",
              "      <td>-0.423065</td>\n",
              "    </tr>\n",
              "    <tr>\n",
              "      <th>DIS</th>\n",
              "      <td>-1.189438</td>\n",
              "      <td>-1.173647</td>\n",
              "      <td>-0.975902</td>\n",
              "      <td>-0.725174</td>\n",
              "      <td>-0.031208</td>\n",
              "    </tr>\n",
              "  </tbody>\n",
              "</table>\n",
              "</div>\n",
              "      <button class=\"colab-df-convert\" onclick=\"convertToInteractive('df-95ef7dc8-f058-436c-b7c7-b1a5473179bc')\"\n",
              "              title=\"Convert this dataframe to an interactive table.\"\n",
              "              style=\"display:none;\">\n",
              "        \n",
              "  <svg xmlns=\"http://www.w3.org/2000/svg\" height=\"24px\"viewBox=\"0 0 24 24\"\n",
              "       width=\"24px\">\n",
              "    <path d=\"M0 0h24v24H0V0z\" fill=\"none\"/>\n",
              "    <path d=\"M18.56 5.44l.94 2.06.94-2.06 2.06-.94-2.06-.94-.94-2.06-.94 2.06-2.06.94zm-11 1L8.5 8.5l.94-2.06 2.06-.94-2.06-.94L8.5 2.5l-.94 2.06-2.06.94zm10 10l.94 2.06.94-2.06 2.06-.94-2.06-.94-.94-2.06-.94 2.06-2.06.94z\"/><path d=\"M17.41 7.96l-1.37-1.37c-.4-.4-.92-.59-1.43-.59-.52 0-1.04.2-1.43.59L10.3 9.45l-7.72 7.72c-.78.78-.78 2.05 0 2.83L4 21.41c.39.39.9.59 1.41.59.51 0 1.02-.2 1.41-.59l7.78-7.78 2.81-2.81c.8-.78.8-2.07 0-2.86zM5.41 20L4 18.59l7.72-7.72 1.47 1.35L5.41 20z\"/>\n",
              "  </svg>\n",
              "      </button>\n",
              "      \n",
              "  <style>\n",
              "    .colab-df-container {\n",
              "      display:flex;\n",
              "      flex-wrap:wrap;\n",
              "      gap: 12px;\n",
              "    }\n",
              "\n",
              "    .colab-df-convert {\n",
              "      background-color: #E8F0FE;\n",
              "      border: none;\n",
              "      border-radius: 50%;\n",
              "      cursor: pointer;\n",
              "      display: none;\n",
              "      fill: #1967D2;\n",
              "      height: 32px;\n",
              "      padding: 0 0 0 0;\n",
              "      width: 32px;\n",
              "    }\n",
              "\n",
              "    .colab-df-convert:hover {\n",
              "      background-color: #E2EBFA;\n",
              "      box-shadow: 0px 1px 2px rgba(60, 64, 67, 0.3), 0px 1px 3px 1px rgba(60, 64, 67, 0.15);\n",
              "      fill: #174EA6;\n",
              "    }\n",
              "\n",
              "    [theme=dark] .colab-df-convert {\n",
              "      background-color: #3B4455;\n",
              "      fill: #D2E3FC;\n",
              "    }\n",
              "\n",
              "    [theme=dark] .colab-df-convert:hover {\n",
              "      background-color: #434B5C;\n",
              "      box-shadow: 0px 1px 3px 1px rgba(0, 0, 0, 0.15);\n",
              "      filter: drop-shadow(0px 1px 2px rgba(0, 0, 0, 0.3));\n",
              "      fill: #FFFFFF;\n",
              "    }\n",
              "  </style>\n",
              "\n",
              "      <script>\n",
              "        const buttonEl =\n",
              "          document.querySelector('#df-95ef7dc8-f058-436c-b7c7-b1a5473179bc button.colab-df-convert');\n",
              "        buttonEl.style.display =\n",
              "          google.colab.kernel.accessAllowed ? 'block' : 'none';\n",
              "\n",
              "        async function convertToInteractive(key) {\n",
              "          const element = document.querySelector('#df-95ef7dc8-f058-436c-b7c7-b1a5473179bc');\n",
              "          const dataTable =\n",
              "            await google.colab.kernel.invokeFunction('convertToInteractive',\n",
              "                                                     [key], {});\n",
              "          if (!dataTable) return;\n",
              "\n",
              "          const docLinkHtml = 'Like what you see? Visit the ' +\n",
              "            '<a target=\"_blank\" href=https://colab.research.google.com/notebooks/data_table.ipynb>data table notebook</a>'\n",
              "            + ' to learn more about interactive tables.';\n",
              "          element.innerHTML = '';\n",
              "          dataTable['output_type'] = 'display_data';\n",
              "          await google.colab.output.renderOutput(dataTable, element);\n",
              "          const docLink = document.createElement('div');\n",
              "          docLink.innerHTML = docLinkHtml;\n",
              "          element.appendChild(docLink);\n",
              "        }\n",
              "      </script>\n",
              "    </div>\n",
              "  </div>\n",
              "  "
            ]
          },
          "metadata": {},
          "execution_count": 97
        }
      ]
    },
    {
      "cell_type": "markdown",
      "source": [
        "라쏘보다 0이 된 값이 비교적 적습니다. "
      ],
      "metadata": {
        "id": "GEGvlkzRDAsR"
      }
    },
    {
      "cell_type": "markdown",
      "source": [
        "## **6.5. 선형 회귀 모델을 위한 데이터 변환**"
      ],
      "metadata": {
        "id": "SQrLFVcVesDP"
      }
    },
    {
      "cell_type": "markdown",
      "source": [
        "선형 회귀 모델은 피처값과 타깃값의 정규 분포 형태를 선호합니다. 만약 타깃값이 왜곡된 형태의 분포도일 경우 예측 성능은 크게 떨어집니다. 피처값 역시 결정값보다는 덜하지만 왜곡된 형태의 분포도는 예측 성능을 떨어뜨립니다. 이러한 이유로 선형 회귀 모델을 적용하기 전에 데이터 스케일링, 정규화 작업(이하 전처리)을 수행해야 합니다. 물론 전처리 작업을 수행한다 하여 무조건 예측 성능이 제고되는 것은 아닙니다.\n",
        "\n",
        "피처 데이터 세트와 타깃 데이터 세트에 전처리 작업을 수행하는 방법은 다릅니다. 먼저 피처 데이터 세트에 적용하는 전처리 작업에 대해 설명하겠습니다. 총 3가지 방법이 있습니다. \n",
        "\n",
        "첫 번째 방법으로는 `StandardScaler` 클래스로 평균이 0, 분산이 1인 표준 정규 분포를 가진 데이터 세트로 변환하거나 `MinMaxScaler` 클래스로 최솟값 0, 최댓값 1인 값으로 변환합니다. 예측 성능을 크게 제고하기 어려울 수 있습니다.\n",
        "\n",
        "두 번째 방법으로는(첫 번째 방법으로 예측 성능 제고에 실패하였을 경우) 전처리를 수행한 데이터 세트에 다시 다항 특성을 적용하여 변환합니다. 다만 피처 개수가 많으면 다항 변환으로 생성되는 피처 개수가 크게 많아져서 과대적합이 일어날 가능성이 높아집니다.\n",
        "\n",
        "세 번째 방법으로는 원래 값에 log 함수를 적용하여 정규 분포에 가까운 형태로 변환합니다. 이를 로그 변환(Log Transfomation)이라고 합니다. 기실 첫 번째와 두 번째 방법보다 더 많이 사용하는 방법입니다.\n",
        "\n",
        "다음으로는 타깃값에 적용하는 전처리 작업에 대해 설명하겠습니다. 결정값을 정규 분포나 다른 정규값으로 변환하면 원본 타깃값으로 복구하기 어려울 수도 있습니다. 따라서 왜곡된 분포도 형태에서는 로그 변환을 적용하며 가장 효과가 좋습니다.\n",
        "\n",
        "보스턴 주택 가격 피처 데이터 세트에 표준 정규 분포 변환, 최댓값 최솟값 정규화, 로그 변환을 차례로 적용하고 RMSE로 예측 성능을 측정해 보겠습니다. 이 과정을 로직으로 새 함수를 선언하겠습니다."
      ],
      "metadata": {
        "id": "JSPYU7wJEljX"
      }
    },
    {
      "cell_type": "code",
      "source": [
        "#  `method`는 전처리 방법, `p_degree`는 다항식 특성입니다.\n",
        "def get_scaled_data(method='None', p_degree=None, input_data=None):\n",
        "    if method == 'Standard':\n",
        "        scaled_data = StandardScaler().fit_transform(input_data)\n",
        "    elif method == 'MinMax':\n",
        "        scaled_data = MinMaxScaler().fit_transform(input_data)\n",
        "    elif method == 'Log':\n",
        "        # `log()` 메서드를 적용하면 언더 플로우가 발생하기 쉬우므로\n",
        "        # `1 + log()`를 적용합니다. 이를 구현한 `log1p()` 메서드를 포함시킵니다.\n",
        "        scaled_data = np.log1p(input_data)\n",
        "    else:\n",
        "        scaled_data = input_data\n",
        "\n",
        "    # 다항식 차수가 None이 아니면(2차 이상이라면) 다항 변환을 수행합니다.\n",
        "    if p_degree != None:\n",
        "        scaled_data = PolynomialFeatures(degree=p_degree, include_bias=False).\\\n",
        "        fit_transform(scaled_data)\n",
        "    return scaled_data"
      ],
      "metadata": {
        "id": "T6KdEtv37C95"
      },
      "execution_count": null,
      "outputs": []
    },
    {
      "cell_type": "markdown",
      "source": [
        "선언한 함수를 호출하여 RMSE 값을 확인하겠습니다."
      ],
      "metadata": {
        "id": "DP_yJizMB8eA"
      }
    },
    {
      "cell_type": "code",
      "source": [
        "from sklearn.preprocessing import StandardScaler, MinMaxScaler\n",
        "\n",
        "alphas = [0.1, 1, 10, 100, 1000]\n",
        "\n",
        "# 다항식 차수는 최대 2까지만 지정합니다.\n",
        "scale_methods = [\n",
        "                (None, None), ('Standard', None), ('Standard', 2),\n",
        "                ('MinMax', None), ('MinMax', 2), ('Log', None)\n",
        "]\n",
        "\n",
        "for scale_method in scale_methods:\n",
        "    X_data_scaled = get_scaled_data(method=scale_method[0], p_degree=scale_method[1],\n",
        "                                    input_data=X_data)\n",
        "    print('## 변환 유형: {}, Polynomial Degree: {}'.format(scale_method[0], scale_method[1]))\n",
        "    get_linear_reg_eval('Ridge', params=alphas, X_data_n=X_data_scaled, y_target_n=y_target,\n",
        "                        verbose=False, return_coeff=False)\n",
        "    print()"
      ],
      "metadata": {
        "colab": {
          "base_uri": "https://localhost:8080/"
        },
        "id": "AfF6VQoH9yyb",
        "outputId": "73c8431f-f15e-4958-a3ce-d54f9c5229f1"
      },
      "execution_count": null,
      "outputs": [
        {
          "output_type": "stream",
          "name": "stdout",
          "text": [
            "## 변환 유형: None, Polynomial Degree: None\n",
            "alpha=0.1일 때 5 폴드 세트의 평균 RMSE: 5.788\n",
            "alpha=1일 때 5 폴드 세트의 평균 RMSE: 5.653\n",
            "alpha=10일 때 5 폴드 세트의 평균 RMSE: 5.518\n",
            "alpha=100일 때 5 폴드 세트의 평균 RMSE: 5.330\n",
            "alpha=1000일 때 5 폴드 세트의 평균 RMSE: 5.598\n",
            "\n",
            "## 변환 유형: Standard, Polynomial Degree: None\n",
            "alpha=0.1일 때 5 폴드 세트의 평균 RMSE: 5.826\n",
            "alpha=1일 때 5 폴드 세트의 평균 RMSE: 5.803\n",
            "alpha=10일 때 5 폴드 세트의 평균 RMSE: 5.637\n",
            "alpha=100일 때 5 폴드 세트의 평균 RMSE: 5.421\n",
            "alpha=1000일 때 5 폴드 세트의 평균 RMSE: 6.714\n",
            "\n",
            "## 변환 유형: Standard, Polynomial Degree: 2\n",
            "alpha=0.1일 때 5 폴드 세트의 평균 RMSE: 8.827\n",
            "alpha=1일 때 5 폴드 세트의 평균 RMSE: 6.871\n",
            "alpha=10일 때 5 폴드 세트의 평균 RMSE: 5.485\n",
            "alpha=100일 때 5 폴드 세트의 평균 RMSE: 4.634\n",
            "alpha=1000일 때 5 폴드 세트의 평균 RMSE: 6.055\n",
            "\n",
            "## 변환 유형: MinMax, Polynomial Degree: None\n",
            "alpha=0.1일 때 5 폴드 세트의 평균 RMSE: 5.764\n",
            "alpha=1일 때 5 폴드 세트의 평균 RMSE: 5.465\n",
            "alpha=10일 때 5 폴드 세트의 평균 RMSE: 5.754\n",
            "alpha=100일 때 5 폴드 세트의 평균 RMSE: 7.635\n",
            "alpha=1000일 때 5 폴드 세트의 평균 RMSE: 9.121\n",
            "\n",
            "## 변환 유형: MinMax, Polynomial Degree: 2\n",
            "alpha=0.1일 때 5 폴드 세트의 평균 RMSE: 5.298\n",
            "alpha=1일 때 5 폴드 세트의 평균 RMSE: 4.323\n",
            "alpha=10일 때 5 폴드 세트의 평균 RMSE: 5.185\n",
            "alpha=100일 때 5 폴드 세트의 평균 RMSE: 6.538\n",
            "alpha=1000일 때 5 폴드 세트의 평균 RMSE: 8.288\n",
            "\n",
            "## 변환 유형: Log, Polynomial Degree: None\n",
            "alpha=0.1일 때 5 폴드 세트의 평균 RMSE: 4.770\n",
            "alpha=1일 때 5 폴드 세트의 평균 RMSE: 4.676\n",
            "alpha=10일 때 5 폴드 세트의 평균 RMSE: 4.836\n",
            "alpha=100일 때 5 폴드 세트의 평균 RMSE: 6.241\n",
            "alpha=1000일 때 5 폴드 세트의 평균 RMSE: 8.032\n",
            "\n"
          ]
        }
      ]
    },
    {
      "cell_type": "markdown",
      "source": [
        "다항 변환은 피처 개수가 많으면 적용하기 어렵습니다. 맨 아래의 로그 변환은 다항 변환을 수행하지 않고도 4점대로 성능 제고를 이뤘습니다. 일반적으로 데이터 분포가 왜곡된 경우 로그 변환을 수행하는 것이 좋습니다."
      ],
      "metadata": {
        "id": "RG-7MpkuDWrJ"
      }
    },
    {
      "cell_type": "markdown",
      "source": [
        "# **7. 로지스틱 회귀**"
      ],
      "metadata": {
        "id": "TLVjhMijesAu"
      }
    },
    {
      "cell_type": "markdown",
      "source": [
        "**로지스틱 회귀**는 선형 회귀 방식을 분류에 적용한 분류용 알고리즘입니다. 회귀의 선형 비선형 여부는 독립변수가 아닌 가중치 변수가 선형인지 아닌지를 따릅니다. 선형 함수의 회귀 최적선을 찾지 않고 **시그모이드(Sigmoid) 함수** 최적선을 찾아서 이 함수의 반환 값을 확률로 간주합니다. 이 확률에 따라 분류를 결정합니다. 시그모이드 함수는 x 값이 양수와 음수로 커지거나 작아져도 y 값은 항상 0 ~ 1 사잇값을 반환합니다. x 값이 커지면 1에 근사하고 작아지면 0에 근사합니다. x가 0이면 0.5입니다. 이외 자세한 설명은 본서를 참고하시기 바랍니다. \n",
        "\n",
        "위스콘신 유방암 데이터 세트에 로지스틱 회귀를 적용해 보겠습니다."
      ],
      "metadata": {
        "id": "ATi1UfpWEIKZ"
      }
    },
    {
      "cell_type": "code",
      "source": [
        "import pandas as pd\n",
        "import matplotlib.pyplot as plt\n",
        "%matplotlib inline\n",
        "from sklearn.preprocessing import StandardScaler\n",
        "from sklearn.model_selection import train_test_split\n",
        "from sklearn.datasets import load_breast_cancer\n",
        "from sklearn.linear_model import LogisticRegression\n",
        "from sklearn.metrics import accuracy_score, roc_auc_score\n",
        "\n",
        "cancer = load_breast_cancer()\n",
        "\n",
        "scaler = StandardScaler()\n",
        "data_scaled = scaler.fit_transform(cancer.data)\n",
        "\n",
        "X_train, X_test, y_train, y_test = train_test_split(data_scaled, cancer.target,\n",
        "                                                    test_size=0.3, random_state=0)\n",
        "\n",
        "lr_clf = LogisticRegression()\n",
        "lr_clf.fit(X_train, y_train)\n",
        "lr_preds = lr_clf.predict(X_test)\n",
        "\n",
        "print('accuracy: {:.3f}'.format(accuracy_score(y_test, lr_preds)))\n",
        "print('roc_auc: {:.3f}'.format(roc_auc_score(y_test, lr_preds)))"
      ],
      "metadata": {
        "colab": {
          "base_uri": "https://localhost:8080/"
        },
        "id": "7Fjl5GuwQQ_Q",
        "outputId": "4a145acc-f8f5-4222-f906-d7d019130d5d"
      },
      "execution_count": null,
      "outputs": [
        {
          "output_type": "stream",
          "name": "stdout",
          "text": [
            "accuracy: 0.977\n",
            "roc_auc: 0.972\n"
          ]
        }
      ]
    },
    {
      "cell_type": "markdown",
      "source": [
        "그리드 서치로 하이퍼 파라미터 최적화를 수행해 보겠습니다. "
      ],
      "metadata": {
        "id": "5tla2WRFSBYs"
      }
    },
    {
      "cell_type": "code",
      "source": [
        "from sklearn.model_selection import GridSearchCV\n",
        "\n",
        "# `penalty`는 규제 유형, `C`는 규제 강도입니다.\n",
        "# `C`는 alpha 값의 역수이며 값이 작을수록 규제 강도가 큽니다.\n",
        "params = {\n",
        "    'penalty': ['l2', 'l1'],\n",
        "    'C': [0.01, 0.1, 1, 5, 10]\n",
        "}\n",
        "\n",
        "grid_clf = GridSearchCV(lr_clf, param_grid=params, scoring='accuracy', cv=3)\n",
        "grid_clf.fit(data_scaled, cancer.target)\n",
        "print('최적 하이퍼 파라미터: {}, 최적 평균 정확도: {:.3f}'.format(\n",
        "    grid_clf.best_params_, grid_clf.best_score_))"
      ],
      "metadata": {
        "colab": {
          "base_uri": "https://localhost:8080/"
        },
        "id": "ZZQLZjXaSFlD",
        "outputId": "97619d99-1e8f-4d6b-f4e9-64a149949ea0"
      },
      "execution_count": null,
      "outputs": [
        {
          "output_type": "stream",
          "name": "stdout",
          "text": [
            "최적 하이퍼 파라미터: {'C': 1, 'penalty': 'l2'}, 최적 평균 정확도: 0.975\n"
          ]
        },
        {
          "output_type": "stream",
          "name": "stderr",
          "text": [
            "/usr/local/lib/python3.7/dist-packages/sklearn/model_selection/_search.py:972: UserWarning: One or more of the test scores are non-finite: [0.94555834        nan 0.97364708        nan 0.97539218        nan\n",
            " 0.97011974        nan 0.96661097        nan]\n",
            "  category=UserWarning,\n"
          ]
        }
      ]
    },
    {
      "cell_type": "markdown",
      "source": [
        "참고로 로지스틱 회귀는 가볍고 빠르며 이진 분류 예측 성능도 뛰어납니다. 이진 분류의 기본 모델로 로지스틱 회귀를 사용하는 경우가 많습니다. 희소한 데이터 세트 분류에도 뛰어나므로 텍스트 분류에서도 자주 사용합니다."
      ],
      "metadata": {
        "id": "uGqpWUbBT8OJ"
      }
    },
    {
      "cell_type": "markdown",
      "source": [
        "# **8. 회귀 트리**"
      ],
      "metadata": {
        "id": "wSpFITeyer-h"
      }
    },
    {
      "cell_type": "markdown",
      "source": [
        "회귀 트리는 분류 트리와 달리 리프 노드에서 예측 결정 값을 만드는 과정에 차이가 있습니다. 분류 트리는 특정 클래스 레이블을 결정하지만 회귀 트리는 리프 노드에 속한 데이터 값의 평균값을 구하여 예측값으로 도출합니다. 상세한 내용은 본서를 참고하시기 바랍니다. \n",
        "\n",
        "참고로 하이퍼 파라미터는 분류 트리와 거의 같습니다. \n",
        "\n",
        "보스턴 주택 가격 예측을 수행해 보겠습니다. 먼저 랜덤 포레스트를 사용합니다."
      ],
      "metadata": {
        "id": "EwOorl6BT9lP"
      }
    },
    {
      "cell_type": "code",
      "source": [
        "from sklearn.datasets import load_boston\n",
        "from sklearn.model_selection import cross_val_score\n",
        "from sklearn.ensemble import RandomForestRegressor\n",
        "import pandas as pd\n",
        "import numpy as np\n",
        "\n",
        "boston = load_boston()\n",
        "bostonDF = pd.DataFrame(boston.data, columns=boston.feature_names)\n",
        "\n",
        "bostonDF['PRICE'] = boston.target\n",
        "y_target = bostonDF['PRICE']\n",
        "X_data = bostonDF.drop(['PRICE'], axis=1, inplace=False)\n",
        "\n",
        "rf = RandomForestRegressor(random_state=0, n_estimators=1000)\n",
        "neg_mse_scores = cross_val_score(rf, X_data, y_target,\n",
        "                                 scoring='neg_mean_squared_error', cv=5)\n",
        "rmse_scores = np.sqrt(-1 * neg_mse_scores)\n",
        "avg_rmse = np.mean(rmse_scores)\n",
        "\n",
        "print('5교차 검증의 개별 Negative MSE scores:', np.round(neg_mse_scores, 2))\n",
        "print('5교차 검증의 개별 RMSE scores:', np.round(rmse_scores, 2))\n",
        "print('5교차 검증의 평균 RMSE: {:.3f}'.format(avg_rmse))"
      ],
      "metadata": {
        "colab": {
          "base_uri": "https://localhost:8080/"
        },
        "id": "-YJrBygJ6PmB",
        "outputId": "31333d7b-222d-46e2-f9c7-bce470026b93"
      },
      "execution_count": null,
      "outputs": [
        {
          "output_type": "stream",
          "name": "stderr",
          "text": [
            "/usr/local/lib/python3.7/dist-packages/sklearn/utils/deprecation.py:87: FutureWarning: Function load_boston is deprecated; `load_boston` is deprecated in 1.0 and will be removed in 1.2.\n",
            "\n",
            "    The Boston housing prices dataset has an ethical problem. You can refer to\n",
            "    the documentation of this function for further details.\n",
            "\n",
            "    The scikit-learn maintainers therefore strongly discourage the use of this\n",
            "    dataset unless the purpose of the code is to study and educate about\n",
            "    ethical issues in data science and machine learning.\n",
            "\n",
            "    In this special case, you can fetch the dataset from the original\n",
            "    source::\n",
            "\n",
            "        import pandas as pd\n",
            "        import numpy as np\n",
            "\n",
            "\n",
            "        data_url = \"http://lib.stat.cmu.edu/datasets/boston\"\n",
            "        raw_df = pd.read_csv(data_url, sep=\"\\s+\", skiprows=22, header=None)\n",
            "        data = np.hstack([raw_df.values[::2, :], raw_df.values[1::2, :2]])\n",
            "        target = raw_df.values[1::2, 2]\n",
            "\n",
            "    Alternative datasets include the California housing dataset (i.e.\n",
            "    :func:`~sklearn.datasets.fetch_california_housing`) and the Ames housing\n",
            "    dataset. You can load the datasets as follows::\n",
            "\n",
            "        from sklearn.datasets import fetch_california_housing\n",
            "        housing = fetch_california_housing()\n",
            "\n",
            "    for the California housing dataset and::\n",
            "\n",
            "        from sklearn.datasets import fetch_openml\n",
            "        housing = fetch_openml(name=\"house_prices\", as_frame=True)\n",
            "\n",
            "    for the Ames housing dataset.\n",
            "    \n",
            "  warnings.warn(msg, category=FutureWarning)\n"
          ]
        },
        {
          "output_type": "stream",
          "name": "stdout",
          "text": [
            "5교차 검증의 개별 Negative MSE scores: [ -7.88 -13.14 -20.57 -46.23 -18.88]\n",
            "5교차 검증의 개별 RMSE scores: [2.81 3.63 4.54 6.8  4.34]\n",
            "5교차 검증의 평균 RMSE: 4.423\n"
          ]
        }
      ]
    },
    {
      "cell_type": "markdown",
      "source": [
        "결정 트리, GBM, XGBoost, LightGBM의 Regressor를 구현한 클래스를 모두 적용해 보겠습니다. 한꺼번에 적용할 수 있도록 함수를 하나 정의하겠습니다."
      ],
      "metadata": {
        "id": "eRVUBE1gAqTg"
      }
    },
    {
      "cell_type": "code",
      "source": [
        "def get_model_cv_prediction(model, X_data, y_target):\n",
        "    neg_mse_scores = cross_val_score(model, X_data, y_target,\n",
        "                                     scoring='neg_mean_squared_error', cv=5)\n",
        "    rmse_scores = np.sqrt(-1 * neg_mse_scores)\n",
        "    avg_rmse = np.mean(rmse_scores)\n",
        "    print('##', model.__class__.__name__, '##')\n",
        "    print('5교차 검증의 평균 RMSE: {:.3f}'.format(avg_rmse))\n",
        "    print()"
      ],
      "metadata": {
        "id": "TBuwnT6gCJpH"
      },
      "execution_count": null,
      "outputs": []
    },
    {
      "cell_type": "markdown",
      "source": [
        "정의한 함수를 적용하겠습니다."
      ],
      "metadata": {
        "id": "8Ur5-oTjH-Et"
      }
    },
    {
      "cell_type": "code",
      "source": [
        "from sklearn.tree import DecisionTreeRegressor\n",
        "from sklearn.ensemble import GradientBoostingRegressor\n",
        "from xgboost import XGBRegressor\n",
        "from lightgbm import LGBMRegressor\n",
        "\n",
        "dt_reg = DecisionTreeRegressor(random_state=0, max_depth=4)\n",
        "rf_reg = RandomForestRegressor(random_state=0, n_estimators=1000)\n",
        "gb_reg = GradientBoostingRegressor(random_state=0, n_estimators=1000)\n",
        "xgb_reg = XGBRegressor(n_estimators=1000)\n",
        "lgb_reg = LGBMRegressor(n_estimators=1000)\n",
        "\n",
        "models = [dt_reg, rf_reg, gb_reg, xgb_reg, lgb_reg]\n",
        "for model in models:\n",
        "    get_model_cv_prediction(model, X_data, y_target)"
      ],
      "metadata": {
        "colab": {
          "base_uri": "https://localhost:8080/"
        },
        "id": "wg2JvYW_DZge",
        "outputId": "d1d7b9ae-f1e6-434b-bd5c-11a8a1acd48a"
      },
      "execution_count": null,
      "outputs": [
        {
          "output_type": "stream",
          "name": "stdout",
          "text": [
            "## DecisionTreeRegressor ##\n",
            "5교차 검증의 평균 RMSE: 5.978\n",
            "\n",
            "## RandomForestRegressor ##\n",
            "5교차 검증의 평균 RMSE: 4.423\n",
            "\n",
            "## GradientBoostingRegressor ##\n",
            "5교차 검증의 평균 RMSE: 4.269\n",
            "\n",
            "[13:47:37] WARNING: /workspace/src/objective/regression_obj.cu:152: reg:linear is now deprecated in favor of reg:squarederror.\n",
            "[13:47:37] WARNING: /workspace/src/objective/regression_obj.cu:152: reg:linear is now deprecated in favor of reg:squarederror.\n",
            "[13:47:38] WARNING: /workspace/src/objective/regression_obj.cu:152: reg:linear is now deprecated in favor of reg:squarederror.\n",
            "[13:47:38] WARNING: /workspace/src/objective/regression_obj.cu:152: reg:linear is now deprecated in favor of reg:squarederror.\n",
            "[13:47:39] WARNING: /workspace/src/objective/regression_obj.cu:152: reg:linear is now deprecated in favor of reg:squarederror.\n",
            "## XGBRegressor ##\n",
            "5교차 검증의 평균 RMSE: 4.089\n",
            "\n",
            "## LGBMRegressor ##\n",
            "5교차 검증의 평균 RMSE: 4.646\n",
            "\n"
          ]
        }
      ]
    },
    {
      "cell_type": "markdown",
      "source": [
        "회귀 트리 Regressor 클래스류는 선형 회귀와 다른 방식이므로 회귀 계수 속성인 `coef_`가 없습니다. 대신 `feature_importances_` 속성으로 피처별 중요도를 확인할 수 있습니다. 피처별 중요도를 시각화해 보겠습니다."
      ],
      "metadata": {
        "id": "uquM6YaKIDOJ"
      }
    },
    {
      "cell_type": "code",
      "source": [
        "import seaborn as sns\n",
        "%matplotlib inline\n",
        "\n",
        "rf_reg = RandomForestRegressor(n_estimators=1000)\n",
        "rf_reg.fit(X_data, y_target)\n",
        "\n",
        "feature_series = pd.Series(data=rf_reg.feature_importances_, index=X_data.columns)\n",
        "feature_series = feature_series.sort_values(ascending=False)\n",
        "sns.barplot(x=feature_series, y=feature_series.index)\n",
        "plt.show()"
      ],
      "metadata": {
        "colab": {
          "base_uri": "https://localhost:8080/",
          "height": 265
        },
        "id": "ESnR_Xc1Gz5l",
        "outputId": "4f1caff7-8d13-4c41-b939-ec35f7bc3354"
      },
      "execution_count": null,
      "outputs": [
        {
          "output_type": "display_data",
          "data": {
            "text/plain": [
              "<Figure size 432x288 with 1 Axes>"
            ],
            "image/png": "[encoded data removed]"
          },
          "metadata": {
            "needs_background": "light"
          }
        }
      ]
    },
    {
      "cell_type": "markdown",
      "source": [
        "2차원 평면상에 회귀 예측선을 쉽게 표현하기 위해 'PRICE' 피처와 가장 밀접한 양의 상관관계를 가지는 'RM' 피처만 사용하여 선형 회귀와 결정 트리 회귀로 예측 회귀선을 시각화해 보겠습니다."
      ],
      "metadata": {
        "id": "xeowyCLDJcoo"
      }
    },
    {
      "cell_type": "code",
      "source": [
        "bostonDF_sample = bostonDF[['RM', 'PRICE']]\n",
        "# 샘플 100개만 추출합니다.\n",
        "bostonDF_sample = bostonDF_sample.sample(n=100, random_state=0)\n",
        "print(bostonDF_sample.shape)\n",
        "\n",
        "plt.figure()\n",
        "plt.scatter(bostonDF_sample.RM, bostonDF_sample.PRICE, c='darkorange')\n",
        "plt.show()"
      ],
      "metadata": {
        "colab": {
          "base_uri": "https://localhost:8080/",
          "height": 283
        },
        "id": "gAeYyB4INIGo",
        "outputId": "df0da6fa-c381-4499-a556-b8fe64707495"
      },
      "execution_count": null,
      "outputs": [
        {
          "output_type": "stream",
          "name": "stdout",
          "text": [
            "(100, 2)\n"
          ]
        },
        {
          "output_type": "display_data",
          "data": {
            "text/plain": [
              "<Figure size 432x288 with 1 Axes>"
            ],
            "image/png": "[encoded data removed]"
          },
          "metadata": {
            "needs_background": "light"
          }
        }
      ]
    },
    {
      "cell_type": "code",
      "source": [
        "import numpy as np\n",
        "from sklearn.linear_model import LinearRegression\n",
        "\n",
        "lr_reg = LinearRegression()\n",
        "rf_reg2 = DecisionTreeRegressor(max_depth=2)\n",
        "rf_reg7 = DecisionTreeRegressor(max_depth=7)\n",
        "\n",
        "# 실제 예측을 적용할 테스트용 데이터 세트를 생성합니다.\n",
        "X_test = np.arange(4.5, 8.5, 0.04).reshape(-1, 1)\n",
        "\n",
        "# X축에 독립변수인 'RM' 피처, y축에 종속변수인 'PRICE' 피처를 삼습니다. \n",
        "X_feature = bostonDF_sample['RM'].values.reshape(-1, 1)\n",
        "y_target = bostonDF_sample['PRICE'].values.reshape(-1, 1)\n",
        "\n",
        "lr_reg.fit(X_feature, y_target)\n",
        "rf_reg2.fit(X_feature, y_target)\n",
        "rf_reg7.fit(X_feature, y_target)\n",
        "\n",
        "pred_lr = lr_reg.predict(X_test)\n",
        "pred_rf2 = rf_reg2.predict(X_test)\n",
        "pred_rf7 = rf_reg7.predict(X_test)\n",
        "\n",
        "fig, (ax1, ax2, ax3) = plt.subplots(figsize=(14, 4), ncols=3)\n",
        "\n",
        "ax1.set_title('LinearRegression')\n",
        "ax1.scatter(bostonDF_sample.RM, bostonDF_sample.PRICE, c='darkorange')\n",
        "ax1.plot(X_test, pred_lr, label='linear', linewidth=2)\n",
        "\n",
        "ax2.set_title('DecisionTreeRegressor(max_depth=2)')\n",
        "ax2.scatter(bostonDF_sample.RM, bostonDF_sample.PRICE, c='darkorange')\n",
        "ax2.plot(X_test, pred_rf2, label='max_depth=2', linewidth=2)\n",
        "\n",
        "ax3.set_title('DecisionTreeRegressor(max_depth=7)')\n",
        "ax3.scatter(bostonDF_sample.RM, bostonDF_sample.PRICE, c='darkorange')\n",
        "ax3.plot(X_test, pred_rf7, label='max_depth=7', linewidth=2)\n",
        "plt.show()"
      ],
      "metadata": {
        "colab": {
          "base_uri": "https://localhost:8080/",
          "height": 281
        },
        "id": "LS5cNI9JOaXH",
        "outputId": "ce6d4ac0-bfa3-4f52-9268-c7d3c2312183"
      },
      "execution_count": null,
      "outputs": [
        {
          "output_type": "display_data",
          "data": {
            "text/plain": [
              "<Figure size 1008x288 with 3 Axes>"
            ],
            "image/png": "[encoded data removed]"
          },
          "metadata": {
            "needs_background": "light"
          }
        }
      ]
    },
    {
      "cell_type": "markdown",
      "source": [
        "선형 회귀와 달리 회귀 트리는 분할되는 데이터 지점에 따라 브랜치를 생성하면서 계단식으로 회귀선을 형성합니다. 다만 깊이가 7인 경우에는 이상치까지 학습하면서 회귀선이 복잡해졌고 이는 과대적합된 모델을 나타냅니다."
      ],
      "metadata": {
        "id": "8W9II2EwUJRP"
      }
    },
    {
      "cell_type": "markdown",
      "source": [
        "# **9. 회귀 실습 - 자전거 대여 수요 예측**"
      ],
      "metadata": {
        "id": "tgRYmJ8ner8G"
      }
    },
    {
      "cell_type": "markdown",
      "source": [
        "## **9.1. 데이터 클렌징 및 가공**"
      ],
      "metadata": {
        "id": "Y4LULj6Igkpr"
      }
    },
    {
      "cell_type": "markdown",
      "source": [
        "캐글의 [자전거 대여 수요 데이터 세트](https://www.kaggle.com/c/bike-sharing-demand/data) 를 사용하여 선형 회귀와 트리 기반 회귀를 적용해 보겠습니다. 2011. 1. ~ 2012. 12. 기간 동안 각종 피처와 자전거 대여 횟수가 기록되어 있습니다. 마지막 피처인 'count'가 자전거 대여 횟수입니다. 문제에서 요구한 성능 평가 방법은 RMSLE입니다. "
      ],
      "metadata": {
        "id": "-z8Se2cKUm-y"
      }
    },
    {
      "cell_type": "code",
      "source": [
        "from google.colab import drive\n",
        "drive.mount('/content/gdrive/')\n",
        "import numpy as np\n",
        "import pandas as pd\n",
        "import seaborn as sns\n",
        "import matplotlib.pyplot as plt\n",
        "%matplotlib inline\n",
        "import warnings\n",
        "warnings.filterwarnings('ignore', category=RuntimeWarning)\n",
        "\n",
        "bike_df = pd.read_csv('/content/gdrive/MyDrive/bike-sharing-demand/train.csv')\n",
        "print(bike_df.head())\n",
        "print()\n",
        "print(bike_df.shape)\n",
        "print()\n",
        "print(bike_df.info())"
      ],
      "metadata": {
        "colab": {
          "base_uri": "https://localhost:8080/"
        },
        "id": "r3qStar2HQKL",
        "outputId": "810dbe51-a81c-4a72-d051-483c97eb5fa6"
      },
      "execution_count": null,
      "outputs": [
        {
          "output_type": "stream",
          "name": "stdout",
          "text": [
            "Mounted at /content/gdrive/\n",
            "              datetime  season  holiday  workingday  weather  temp   atemp  \\\n",
            "0  2011-01-01 00:00:00       1        0           0        1  9.84  14.395   \n",
            "1  2011-01-01 01:00:00       1        0           0        1  9.02  13.635   \n",
            "2  2011-01-01 02:00:00       1        0           0        1  9.02  13.635   \n",
            "3  2011-01-01 03:00:00       1        0           0        1  9.84  14.395   \n",
            "4  2011-01-01 04:00:00       1        0           0        1  9.84  14.395   \n",
            "\n",
            "   humidity  windspeed  casual  registered  count  \n",
            "0        81        0.0       3          13     16  \n",
            "1        80        0.0       8          32     40  \n",
            "2        80        0.0       5          27     32  \n",
            "3        75        0.0       3          10     13  \n",
            "4        75        0.0       0           1      1  \n",
            "\n",
            "(10886, 12)\n",
            "\n",
            "<class 'pandas.core.frame.DataFrame'>\n",
            "RangeIndex: 10886 entries, 0 to 10885\n",
            "Data columns (total 12 columns):\n",
            " #   Column      Non-Null Count  Dtype  \n",
            "---  ------      --------------  -----  \n",
            " 0   datetime    10886 non-null  object \n",
            " 1   season      10886 non-null  int64  \n",
            " 2   holiday     10886 non-null  int64  \n",
            " 3   workingday  10886 non-null  int64  \n",
            " 4   weather     10886 non-null  int64  \n",
            " 5   temp        10886 non-null  float64\n",
            " 6   atemp       10886 non-null  float64\n",
            " 7   humidity    10886 non-null  int64  \n",
            " 8   windspeed   10886 non-null  float64\n",
            " 9   casual      10886 non-null  int64  \n",
            " 10  registered  10886 non-null  int64  \n",
            " 11  count       10886 non-null  int64  \n",
            "dtypes: float64(3), int64(8), object(1)\n",
            "memory usage: 1020.7+ KB\n",
            "None\n"
          ]
        }
      ]
    },
    {
      "cell_type": "markdown",
      "source": [
        "'datetime' 피처 외에 모두 숫자형입니다. 'datetime' 피처를 `datetime` 타입으로 변경하고 연, 월, 일, 시간 피처를 추가하겠습니다."
      ],
      "metadata": {
        "id": "OOg-oiq8Ifq4"
      }
    },
    {
      "cell_type": "code",
      "source": [
        "bike_df['datetime'] = bike_df.datetime.apply(pd.to_datetime)\n",
        "\n",
        "bike_df['year'] = bike_df.datetime.apply(lambda x: x.year)\n",
        "bike_df['month'] = bike_df.datetime.apply(lambda x: x.month)\n",
        "bike_df['day'] = bike_df.datetime.apply(lambda x: x.day)\n",
        "bike_df['hour'] = bike_df.datetime.apply(lambda x: x.hour)\n",
        "\n",
        "print(bike_df.head())\n",
        "print()\n",
        "print(bike_df.shape)\n",
        "print()\n",
        "print(bike_df.info())"
      ],
      "metadata": {
        "colab": {
          "base_uri": "https://localhost:8080/"
        },
        "id": "fGEpiF0wI0ox",
        "outputId": "abe861db-8aa1-4802-9381-4b67a492439b"
      },
      "execution_count": null,
      "outputs": [
        {
          "output_type": "stream",
          "name": "stdout",
          "text": [
            "             datetime  season  holiday  workingday  weather  temp   atemp  \\\n",
            "0 2011-01-01 00:00:00       1        0           0        1  9.84  14.395   \n",
            "1 2011-01-01 01:00:00       1        0           0        1  9.02  13.635   \n",
            "2 2011-01-01 02:00:00       1        0           0        1  9.02  13.635   \n",
            "3 2011-01-01 03:00:00       1        0           0        1  9.84  14.395   \n",
            "4 2011-01-01 04:00:00       1        0           0        1  9.84  14.395   \n",
            "\n",
            "   humidity  windspeed  casual  registered  count  year  month  day  hour  \n",
            "0        81        0.0       3          13     16  2011      1    1     0  \n",
            "1        80        0.0       8          32     40  2011      1    1     1  \n",
            "2        80        0.0       5          27     32  2011      1    1     2  \n",
            "3        75        0.0       3          10     13  2011      1    1     3  \n",
            "4        75        0.0       0           1      1  2011      1    1     4  \n",
            "\n",
            "(10886, 16)\n",
            "\n",
            "<class 'pandas.core.frame.DataFrame'>\n",
            "RangeIndex: 10886 entries, 0 to 10885\n",
            "Data columns (total 16 columns):\n",
            " #   Column      Non-Null Count  Dtype         \n",
            "---  ------      --------------  -----         \n",
            " 0   datetime    10886 non-null  datetime64[ns]\n",
            " 1   season      10886 non-null  int64         \n",
            " 2   holiday     10886 non-null  int64         \n",
            " 3   workingday  10886 non-null  int64         \n",
            " 4   weather     10886 non-null  int64         \n",
            " 5   temp        10886 non-null  float64       \n",
            " 6   atemp       10886 non-null  float64       \n",
            " 7   humidity    10886 non-null  int64         \n",
            " 8   windspeed   10886 non-null  float64       \n",
            " 9   casual      10886 non-null  int64         \n",
            " 10  registered  10886 non-null  int64         \n",
            " 11  count       10886 non-null  int64         \n",
            " 12  year        10886 non-null  int64         \n",
            " 13  month       10886 non-null  int64         \n",
            " 14  day         10886 non-null  int64         \n",
            " 15  hour        10886 non-null  int64         \n",
            "dtypes: datetime64[ns](1), float64(3), int64(12)\n",
            "memory usage: 1.3 MB\n",
            "None\n"
          ]
        }
      ]
    },
    {
      "cell_type": "markdown",
      "source": [
        "'datetime' 피처는 삭제하겠습니다. 아울러 'casual' 피처와 'registered' 피처를 더한 총합이 'count' 피처이므로 두 피처도 함께 삭제하겠습니다."
      ],
      "metadata": {
        "id": "Z5vG8MVHKcfN"
      }
    },
    {
      "cell_type": "code",
      "source": [
        "drop_columns = ['datetime', 'casual', 'registered']\n",
        "bike_df.drop(drop_columns, axis=1, inplace=True)"
      ],
      "metadata": {
        "id": "20O4xxUdW03L"
      },
      "execution_count": null,
      "outputs": []
    },
    {
      "cell_type": "markdown",
      "source": [
        "RMSLE를 수행하는 성능 평가 함수를 선언하겠습니다. "
      ],
      "metadata": {
        "id": "GKrx0LKZXfqW"
      }
    },
    {
      "cell_type": "code",
      "source": [
        "from sklearn.metrics import mean_squared_error, mean_absolute_error\n",
        "\n",
        "def rmsle(y, pred):\n",
        "    msle = mean_squared_log_error(y, pred)\n",
        "    rmsle = np.sqrt(mse)\n",
        "    return rmsle"
      ],
      "metadata": {
        "id": "Lkk1SiI5Xqdx"
      },
      "execution_count": null,
      "outputs": []
    },
    {
      "cell_type": "markdown",
      "source": [
        "다만 RMSLE를 구현한 `rmsle()` 함수를 정의할 때 주의할 사항이 있습니다. `log()` 메서드나 `mean_squared_log_error()` 메서드를 사용하면 데이터 값 크기에 따라 오버플로나 언더플로 오류가 발생할 수 있습니다. 이러한 문제를 방지하기 위해 `log1p()` 메서드를 사용하여 1 + log() 값을 구현해야 합니다. 이렇게 변환된 값은 넘파이의 `expm1()` 메서드를 사용하여 다시 원래 스케일로 복원할 수 있습니다."
      ],
      "metadata": {
        "id": "57IAzi6jg1Uo"
      }
    },
    {
      "cell_type": "code",
      "source": [
        "def rmsle(y, pred):\n",
        "    log_y = np.log1p(y)\n",
        "    log_pred = np.log1p(pred)\n",
        "    squared_error = (log_y - log_pred) ** 2\n",
        "    rmsle = np.sqrt(np.mean(squared_error))\n",
        "    return rmsle"
      ],
      "metadata": {
        "id": "Ytv-b87ZhuLf"
      },
      "execution_count": null,
      "outputs": []
    },
    {
      "cell_type": "markdown",
      "source": [
        "추가로 MSE와 RMSE도 평가할 수 있도록 함수를 추가로 정의하고 최종 평가 함수에 로직을 통합하겠습니다."
      ],
      "metadata": {
        "id": "RoBySYm4ihes"
      }
    },
    {
      "cell_type": "code",
      "source": [
        "def rmse(y, pred):\n",
        "    return np.sqrt(mean_squared_error(y, pred))\n",
        "\n",
        "def evaluate_regr(y, pred):\n",
        "    rmsle_val = rmsle(y, pred)\n",
        "    rmse_val = rmse(y, pred)\n",
        "    mae_val = mean_absolute_error(y, pred)\n",
        "    print('RMSLE: {:.3f}, RMSE: {:.3f}, MAE: {:.3f}'.format(rmsle_val, rmse_val, mae_val))"
      ],
      "metadata": {
        "id": "gjYOvJ4UhQvF"
      },
      "execution_count": null,
      "outputs": []
    },
    {
      "cell_type": "markdown",
      "source": [
        "## **9.2. 로그 변환, 피처 인코딩과 모델 학습/예측/평가**"
      ],
      "metadata": {
        "id": "Sd7tonIXgknR"
      }
    },
    {
      "cell_type": "markdown",
      "source": [
        "먼저 선형 회귀를 적용하여 회귀 예측을 수행해 보겠습니다."
      ],
      "metadata": {
        "id": "zuad6Hf7atW1"
      }
    },
    {
      "cell_type": "code",
      "source": [
        "from sklearn.model_selection import train_test_split, GridSearchCV\n",
        "from sklearn.linear_model import LinearRegression, Ridge, Lasso\n",
        "\n",
        "y_target = bike_df['count']\n",
        "X_features = bike_df.drop(['count'], axis=1, inplace=False)\n",
        "\n",
        "X_train, X_test, y_train, y_test = train_test_split(X_features, y_target,\n",
        "                                                    test_size=0.3, random_state=0)\n",
        "\n",
        "lr_reg = LinearRegression()\n",
        "lr_reg.fit(X_train, y_train)\n",
        "pred = lr_reg.predict(X_test)\n",
        "\n",
        "evaluate_regr(y_test, pred)"
      ],
      "metadata": {
        "id": "EfeQ3UGwkAYh",
        "colab": {
          "base_uri": "https://localhost:8080/"
        },
        "outputId": "cd61f887-5d4c-41c5-9e65-4aa421f502a0"
      },
      "execution_count": null,
      "outputs": [
        {
          "output_type": "stream",
          "name": "stdout",
          "text": [
            "RMSLE: 1.165, RMSE: 140.900, MAE: 105.924\n"
          ]
        }
      ]
    },
    {
      "cell_type": "markdown",
      "source": [
        "실제 타깃값을 고려하면 예측 오류로서는 비교적 큰 값입니다. 실젯값과 예측값이 어느 정도 차이가 나는지 오류 값이 가장 큰 순으로 5개만 확인해 보겠습니다."
      ],
      "metadata": {
        "id": "Fp-CMGNQW2i6"
      }
    },
    {
      "cell_type": "code",
      "source": [
        "def get_top_error_data(y_test, pred, n_tops=5):\n",
        "    # 실제 'count' 피처로 구성된 데이터프레임을 생성합니다.\n",
        "    result_df = pd.DataFrame(y_test.values, columns=['real_count'])\n",
        "    # 예측값으로 구성된 데이터를 추가합니다.\n",
        "    result_df['predicted_count'] = np.round(pred)\n",
        "    # 실젯값과 예측값의 차를 데이터로 추가합니다.\n",
        "    result_df['diff'] = np.abs(result_df['real_count'] - result_df['predicted_count'])\n",
        "\n",
        "    print(result_df.sort_values('diff', ascending=False)[:n_tops])"
      ],
      "metadata": {
        "id": "lc-NW5eIXYRm"
      },
      "execution_count": null,
      "outputs": []
    },
    {
      "cell_type": "code",
      "source": [
        "get_top_error_data(y_test, pred, n_tops=5)"
      ],
      "metadata": {
        "colab": {
          "base_uri": "https://localhost:8080/"
        },
        "id": "BIBkgo9kYSOK",
        "outputId": "0d343700-aec4-4caa-defa-51ffb5fc8b40"
      },
      "execution_count": null,
      "outputs": [
        {
          "output_type": "stream",
          "name": "stdout",
          "text": [
            "      real_count  predicted_count   diff\n",
            "1618         890            322.0  568.0\n",
            "3151         798            241.0  557.0\n",
            "966          884            327.0  557.0\n",
            "412          745            194.0  551.0\n",
            "2817         856            310.0  546.0\n"
          ]
        }
      ]
    },
    {
      "cell_type": "markdown",
      "source": [
        "예측 오류 정도가 큽니다. 이런 상황에서는 먼저 타깃값이 왜곡된 형태로 분포하고 있는지 여부를 확인해야 합니다. 정규 분포가 아니라면 회귀 예측 성능이 저하되는 경우가 발생합니다. 히스토그램으로 확인해 보겠습니다."
      ],
      "metadata": {
        "id": "esFZ3YTzbctE"
      }
    },
    {
      "cell_type": "code",
      "source": [
        "y_target.hist()\n",
        "plt.show()"
      ],
      "metadata": {
        "colab": {
          "base_uri": "https://localhost:8080/",
          "height": 265
        },
        "id": "XpZrF5GbZu__",
        "outputId": "e477e983-17fd-43ab-d33f-8bba1ebd1e04"
      },
      "execution_count": null,
      "outputs": [
        {
          "output_type": "display_data",
          "data": {
            "text/plain": [
              "<Figure size 432x288 with 1 Axes>"
            ],
            "image/png": "[encoded data removed]"
          },
          "metadata": {
            "needs_background": "light"
          }
        }
      ]
    },
    {
      "cell_type": "markdown",
      "source": [
        "왜곡된 정도가 심합니다. 가장 일반적인 방법은 타깃값에 로그 변환을 적용하는 것입니다. 로그 변환을 적용한 타깃값을 히스토그램으로 다시 확인해 보겠습니다."
      ],
      "metadata": {
        "id": "6SFC8culb1Ov"
      }
    },
    {
      "cell_type": "code",
      "source": [
        "y_log_transform = np.log1p(y_target)\n",
        "y_log_transform.hist()\n",
        "plt.show()"
      ],
      "metadata": {
        "colab": {
          "base_uri": "https://localhost:8080/",
          "height": 265
        },
        "id": "tMw_QtCJZ0jc",
        "outputId": "fa79c732-e4a2-4d92-bb0a-1aeb2383da92"
      },
      "execution_count": null,
      "outputs": [
        {
          "output_type": "display_data",
          "data": {
            "text/plain": [
              "<Figure size 432x288 with 1 Axes>"
            ],
            "image/png": "[encoded data removed]"
          },
          "metadata": {
            "needs_background": "light"
          }
        }
      ]
    },
    {
      "cell_type": "markdown",
      "source": [
        "정규 분포는 아니지만 왜곡 정도가 많이 완화됐습니다.\n",
        "\n",
        "로그 변환을 적용한 타깃값을 토대로 다시 회귀 예측을 수행해 보겠습니다."
      ],
      "metadata": {
        "id": "x3_sd9Y-cVK2"
      }
    },
    {
      "cell_type": "code",
      "source": [
        "y_target_log = np.log1p(y_target)\n",
        "\n",
        "X_train, X_test, y_train, y_test = train_test_split(X_features, y_target_log,\n",
        "                                                    test_size=0.3, random_state=0)\n",
        "\n",
        "lr_reg = LinearRegression()\n",
        "lr_reg.fit(X_train, y_train)\n",
        "pred = lr_reg.predict(X_test)\n",
        "\n",
        "# 로그 형태로 변환된 타깃값과 예측값을 다시 원래 스케일로 변환합니다.\n",
        "y_test_exp = np.expm1(y_test)\n",
        "pred_exp = np.expm1(pred)\n",
        "\n",
        "evaluate_regr(y_test_exp, pred_exp)"
      ],
      "metadata": {
        "colab": {
          "base_uri": "https://localhost:8080/"
        },
        "id": "trcvlbH5aCFo",
        "outputId": "1d760cc0-c7d7-45be-820e-d0014fcc95fe"
      },
      "execution_count": null,
      "outputs": [
        {
          "output_type": "stream",
          "name": "stdout",
          "text": [
            "RMSLE: 1.017, RMSE: 162.594, MAE: 109.286\n"
          ]
        }
      ]
    },
    {
      "cell_type": "markdown",
      "source": [
        "RMSLE 오류는 줄고 RMSE와 MAE는 늘었습니다.\n",
        "\n",
        "각 피처의 회귀 계수를 시각화하여 원인을 파악하겠습니다.\n"
      ],
      "metadata": {
        "id": "IrM0cedRdDOD"
      }
    },
    {
      "cell_type": "code",
      "source": [
        "coef = pd.Series(lr_reg.coef_, index=X_features.columns)\n",
        "coef_sort = coef.sort_values(ascending=False)\n",
        "sns.barplot(x=coef_sort.values, y=coef_sort.index)\n",
        "plt.show()"
      ],
      "metadata": {
        "colab": {
          "base_uri": "https://localhost:8080/",
          "height": 265
        },
        "id": "HIJHW9_Ouk7m",
        "outputId": "f1d9abba-be9f-47a0-f213-4cfbcd0aacf6"
      },
      "execution_count": null,
      "outputs": [
        {
          "output_type": "display_data",
          "data": {
            "text/plain": [
              "<Figure size 432x288 with 1 Axes>"
            ],
            "image/png": "[encoded data removed]"
          },
          "metadata": {
            "needs_background": "light"
          }
        }
      ]
    },
    {
      "cell_type": "markdown",
      "source": [
        "'year'피처가 압도적으로 높습니다. 'year' 피처는 2011년과 2012년으로 구성되어 있고, 이 피처가 자전거 대여 횟수에 큰 영향을 준다는 것은 유의미하지 않다고 판단할 수 있습니다. 이 피처의 회귀 계수가 큰 이유는 2011, 2012라는 카테고리형 피처이면서 숫자형 피처이고 매우 큰 숫자이기 때문입니다. 숫자형 카테고리 값을 선형 회귀에 사용하면 회귀 계수를 연산할 때 이 값에 크게 영향을 받을 수 있습니다. 그런즉 피처에 원-핫 인코딩을 적용할 필요가 있습니다.\n",
        "\n",
        "'year' 피처를 포함하여 카테고리형인 여러 피처에 원-핫 인코딩을 적용하고 학습 데이터 세트와 테스트 데이터 세트로 분할하겠습니다."
      ],
      "metadata": {
        "id": "fuguwknzu9JP"
      }
    },
    {
      "cell_type": "code",
      "source": [
        "X_features_ohe = pd.get_dummies(X_features, columns=['year', 'month', 'day',\n",
        "                                                     'hour', 'holiday', 'workingday',\n",
        "                                                     'season', 'weather'])\n",
        "X_train, X_test, y_train, y_test = train_test_split(X_features_ohe, y_target_log,\n",
        "                                                    test_size=0.3, random_state=0)"
      ],
      "metadata": {
        "id": "bcYyywizxPg_"
      },
      "execution_count": null,
      "outputs": []
    },
    {
      "cell_type": "markdown",
      "source": [
        "선형 회귀, 릿지, 라쏘를 학습하고 예측 성능 평가 수치를 한꺼번에 출력하는 함수를 선언하겠습니다."
      ],
      "metadata": {
        "id": "TztNWtBTyy3F"
      }
    },
    {
      "cell_type": "code",
      "source": [
        "def get_model_predict(model, X_train, X_test, y_train, y_test, is_expm1=False):\n",
        "    model.fit(X_train, y_train)\n",
        "    pred = model.predict(X_test)\n",
        "    if is_expm1:\n",
        "        y_test = np.expm1(y_test)\n",
        "        pred = np.expm1(pred)\n",
        "    print('##', model.__class__.__name__, '##')\n",
        "    evaluate_regr(y_test, pred)\n",
        "    print()"
      ],
      "metadata": {
        "id": "tOYxnyYxzXuj"
      },
      "execution_count": null,
      "outputs": []
    },
    {
      "cell_type": "markdown",
      "source": [
        "함수를 적용하겠습니다."
      ],
      "metadata": {
        "id": "aiwXo96-1zYk"
      }
    },
    {
      "cell_type": "code",
      "source": [
        "lr_reg = LinearRegression()\n",
        "ridge_reg = Ridge(alpha=10)\n",
        "lasso_reg = Lasso(alpha=0.01)\n",
        "\n",
        "models = [lr_reg, ridge_reg, lasso_reg]\n",
        "\n",
        "for model in models:\n",
        "    get_model_predict(model, X_train, X_test, y_train, y_test, is_expm1=True)"
      ],
      "metadata": {
        "colab": {
          "base_uri": "https://localhost:8080/"
        },
        "id": "d-qZMfAW0xQ7",
        "outputId": "caf31b3e-1a07-4dc5-e2a4-9a30874190e7"
      },
      "execution_count": null,
      "outputs": [
        {
          "output_type": "stream",
          "name": "stdout",
          "text": [
            "## LinearRegression ##\n",
            "RMSLE: 0.590, RMSE: 97.688, MAE: 63.382\n",
            "\n",
            "## Ridge ##\n",
            "RMSLE: 0.590, RMSE: 98.529, MAE: 63.893\n",
            "\n",
            "## Lasso ##\n",
            "RMSLE: 0.635, RMSE: 113.219, MAE: 72.803\n",
            "\n"
          ]
        }
      ]
    },
    {
      "cell_type": "markdown",
      "source": [
        "예측 성능이 전반적으로 향상됐습니다.\n",
        "\n",
        "회귀 계수가 높은 피처를 다시 시각화해 보겠습니다."
      ],
      "metadata": {
        "id": "uBr-LIFu15gl"
      }
    },
    {
      "cell_type": "code",
      "source": [
        "coef = pd.Series(lr_reg.coef_, index=X_features_ohe.columns)\n",
        "# 피처를 상위 20개까지만 시각화합니다.\n",
        "coef_sort = coef.sort_values(ascending=False)[:20]\n",
        "sns.barplot(x=coef_sort.values, y=coef_sort.index)\n",
        "plt.show()"
      ],
      "metadata": {
        "colab": {
          "base_uri": "https://localhost:8080/",
          "height": 278
        },
        "id": "37ViVjEM2Euo",
        "outputId": "3ce58ee5-024e-44de-a7b8-a5c6cd06b463"
      },
      "execution_count": null,
      "outputs": [
        {
          "output_type": "display_data",
          "data": {
            "text/plain": [
              "<Figure size 432x288 with 1 Axes>"
            ],
            "image/png": "[encoded data removed]"
          },
          "metadata": {
            "needs_background": "light"
          }
        }
      ]
    },
    {
      "cell_type": "markdown",
      "source": [
        "본서와 전혀 다른 결과가 도출되었습니다. 상식적으로 자전거 이용과 밀접한 연관이 없는 피처의 회귀 계수가 높습니다. 원인을 파악하는 대로 업데이트하겠습니다.\n",
        "\n",
        "이번에는 회귀 트리를 이용하여 회귀 예측을 수행하겠습니다."
      ],
      "metadata": {
        "id": "LETON19L3qG5"
      }
    },
    {
      "cell_type": "code",
      "source": [
        "from sklearn.ensemble import RandomForestRegressor, GradientBoostingRegressor\n",
        "from xgboost import XGBRegressor\n",
        "from lightgbm import LGBMRegressor\n",
        "\n",
        "rf_reg = RandomForestRegressor(n_estimators=500)\n",
        "gbm_reg = GradientBoostingRegressor(n_estimators=500)\n",
        "xgb_reg = XGBRegressor(n_estimators=500)\n",
        "lgbm_reg = LGBMRegressor(n_estimators=500)\n",
        "\n",
        "models = [rf_reg, gbm_reg, xgb_reg, lgbm_reg]\n",
        "\n",
        "for model in models:\n",
        "    # XGBoost의 경우 데이터프레임을 입력하면 오류가 발생할 수 있기 때문에\n",
        "    # `X_train.values`, `X_test.values` ... `y_test.values` 형식으로 입력하여\n",
        "    # `ndarray` 타입으로 변환하고 인자로 전달합니다.\n",
        "    get_model_predict(model, X_train, X_test, y_train, y_test, is_expm1=True)"
      ],
      "metadata": {
        "colab": {
          "base_uri": "https://localhost:8080/"
        },
        "id": "xOxybg9f6eAi",
        "outputId": "a79a93af-a637-4fe3-8bba-0abfc6b4dba1"
      },
      "execution_count": null,
      "outputs": [
        {
          "output_type": "stream",
          "name": "stdout",
          "text": [
            "## RandomForestRegressor ##\n",
            "RMSLE: 0.354, RMSE: 50.284, MAE: 31.134\n",
            "\n",
            "## GradientBoostingRegressor ##\n",
            "RMSLE: 0.330, RMSE: 53.326, MAE: 32.737\n",
            "\n",
            "[14:29:40] WARNING: /workspace/src/objective/regression_obj.cu:152: reg:linear is now deprecated in favor of reg:squarederror.\n",
            "## XGBRegressor ##\n",
            "RMSLE: 0.345, RMSE: 58.245, MAE: 35.768\n",
            "\n",
            "## LGBMRegressor ##\n",
            "RMSLE: 0.319, RMSE: 47.215, MAE: 29.029\n",
            "\n"
          ]
        }
      ]
    },
    {
      "cell_type": "markdown",
      "source": [
        "선형 회귀 모델보다 전반적으로 예측 성능이 개선됐습니다. 다만 데이터 세트 유형에 따라 결과는 달라질 수 있으므로 항상 회귀 트리가 선형 회귀보다 더 나은 성능을 가진다고 볼 수는 없습니다."
      ],
      "metadata": {
        "id": "MM1CAG-_9s8W"
      }
    },
    {
      "cell_type": "markdown",
      "source": [
        "# **10. 회귀 실습 - 캐글 주택 가격: 고급 회귀 기법**"
      ],
      "metadata": {
        "id": "vf9rluYNgkk-"
      }
    },
    {
      "cell_type": "markdown",
      "source": [
        "\n",
        "\n",
        "---\n",
        "\n",
        "휴식 중\n",
        "\n",
        "---\n",
        "\n"
      ],
      "metadata": {
        "id": "V_b1EzFn-jVC"
      }
    },
    {
      "cell_type": "markdown",
      "source": [
        "## **10.1. 데이터 사전 처리(preprocessing)**"
      ],
      "metadata": {
        "id": "ONUIJa31gki0"
      }
    },
    {
      "cell_type": "markdown",
      "source": [
        "## **10.2. 선형 회귀 모델 학습/예측/평가**"
      ],
      "metadata": {
        "id": "--YRaGuygkgg"
      }
    },
    {
      "cell_type": "markdown",
      "source": [
        "## **10.3. 회귀 트리 모델 학습/예측/평가**"
      ],
      "metadata": {
        "id": "QKWAOO4AgkeO"
      }
    },
    {
      "cell_type": "markdown",
      "source": [
        "## **10.4. 회귀 모델의 예측 결과 혼합을 통한 최종 예측**"
      ],
      "metadata": {
        "id": "BH8v0O8Cgkbz"
      }
    },
    {
      "cell_type": "markdown",
      "source": [
        "## **10.5. 스태킹 앙상블 모델을 통한 회귀 예측**"
      ],
      "metadata": {
        "id": "mRlAUFCGgkZj"
      }
    },
    {
      "cell_type": "markdown",
      "source": [
        "# **11. 정리**"
      ],
      "metadata": {
        "id": "_p9I4jiggkCf"
      }
    }
  ]
}