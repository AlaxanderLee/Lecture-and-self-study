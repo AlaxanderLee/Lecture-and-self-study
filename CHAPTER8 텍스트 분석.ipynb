{
  "nbformat": 4,
  "nbformat_minor": 0,
  "metadata": {
    "colab": {
      "name": "CHAPTER8 텍스트 분석.ipynb",
      "provenance": [],
      "collapsed_sections": [],
      "toc_visible": true,
      "authorship_tag": "ABX9TyP6wVP15HeNIn/qY89CMjG1",
      "include_colab_link": true
    },
    "kernelspec": {
      "name": "python3",
      "display_name": "Python 3"
    },
    "language_info": {
      "name": "python"
    }
  },
  "cells": [
    {
      "cell_type": "markdown",
      "metadata": {
        "id": "view-in-github",
        "colab_type": "text"
      },
      "source": [
        "<a href=\"https://colab.research.google.com/github/LeeSeungwon89/Machine-learning_Theory/blob/master/CHAPTER8%20%ED%85%8D%EC%8A%A4%ED%8A%B8%20%EB%B6%84%EC%84%9D.ipynb\" target=\"_parent\"><img src=\"https://colab.research.google.com/assets/colab-badge.svg\" alt=\"Open In Colab\"/></a>"
      ]
    },
    {
      "cell_type": "markdown",
      "source": [
        "# **NLP이냐 텍스트 분석이냐**"
      ],
      "metadata": {
        "id": "TxMLRcI2lI8U"
      }
    },
    {
      "cell_type": "markdown",
      "source": [
        "\n",
        "\n",
        "---\n",
        "\n",
        "정리 중\n",
        "\n",
        "---\n",
        "\n"
      ],
      "metadata": {
        "id": "EdvCmmfmQe6Q"
      }
    },
    {
      "cell_type": "markdown",
      "source": [
        "# **1. 텍스트 분석 이해**"
      ],
      "metadata": {
        "id": "7SFqUTDUlI5_"
      }
    },
    {
      "cell_type": "markdown",
      "source": [
        "## **1.1. 텍스트 분석 수행 프로세스**"
      ],
      "metadata": {
        "id": "Zra4U2lflI3q"
      }
    },
    {
      "cell_type": "markdown",
      "source": [
        "## **1.2. 파이썬 기반의 NLP, 텍스트 분석 패키지**"
      ],
      "metadata": {
        "id": "Ss_Da4BXlI1Z"
      }
    },
    {
      "cell_type": "markdown",
      "source": [
        "# **2. 텍스트 사전 준비 작업(텍스트 전처리) - 텍스트 정규화**"
      ],
      "metadata": {
        "id": "9OznRAtklIzS"
      }
    },
    {
      "cell_type": "markdown",
      "source": [
        "## **2.1. 클렌징**"
      ],
      "metadata": {
        "id": "e6bTR_EVlpht"
      }
    },
    {
      "cell_type": "markdown",
      "source": [
        "## **2.2. 텍스트 토큰화**"
      ],
      "metadata": {
        "id": "60OE02wklIxG"
      }
    },
    {
      "cell_type": "markdown",
      "source": [
        "### **2.2.1. 문장 토큰화** "
      ],
      "metadata": {
        "id": "ycsjIa34lIus"
      }
    },
    {
      "cell_type": "markdown",
      "source": [
        "### **2.2.2. 단어 토큰화**"
      ],
      "metadata": {
        "id": "YBzBF5QTlIsg"
      }
    },
    {
      "cell_type": "markdown",
      "source": [
        "## **2.3. 스톱 워드 제거**"
      ],
      "metadata": {
        "id": "sKnfqCTulIqV"
      }
    },
    {
      "cell_type": "markdown",
      "source": [
        "## **2.4. Stemming과 Lemmatization**"
      ],
      "metadata": {
        "id": "FwfF0wNIlIoI"
      }
    },
    {
      "cell_type": "markdown",
      "source": [
        "# **3. Bag of Words - BOW**"
      ],
      "metadata": {
        "id": "WBs3j00flIl7"
      }
    },
    {
      "cell_type": "markdown",
      "source": [
        "## **3.1. BOW 피처 벡터화**"
      ],
      "metadata": {
        "id": "ceqQYcX0lIj4"
      }
    },
    {
      "cell_type": "markdown",
      "source": [
        "## **3.2. 사이킷런의 Count 및 TF-IDF 벡터화 구현: CountVectorizer, TfidfVectorizer**"
      ],
      "metadata": {
        "id": "brJCR7ozlIho"
      }
    },
    {
      "cell_type": "markdown",
      "source": [
        "## **3.3. BOW 벡터화를 위한 희소 행렬**"
      ],
      "metadata": {
        "id": "qe1Qyw3_lIfc"
      }
    },
    {
      "cell_type": "markdown",
      "source": [
        "## **3.4. 희소 행렬 - COO 형식**"
      ],
      "metadata": {
        "id": "MM3suxkZlIdT"
      }
    },
    {
      "cell_type": "markdown",
      "source": [
        "## **3.5. 희소 행렬 - CSR 형식**"
      ],
      "metadata": {
        "id": "DGQLXJ1QlIbG"
      }
    },
    {
      "cell_type": "markdown",
      "source": [
        "# **4. 텍스트 분류 실습 - 20 뉴스그룹 분류**"
      ],
      "metadata": {
        "id": "qktTPqy_lIY2"
      }
    },
    {
      "cell_type": "markdown",
      "source": [
        "## **4.1. 텍스트 정규화**"
      ],
      "metadata": {
        "id": "fI4ltzX4lIWl"
      }
    },
    {
      "cell_type": "markdown",
      "source": [
        "## **4.2. 피처 벡터화 변환과 머신러닝 모델 학습/예측/평가**"
      ],
      "metadata": {
        "id": "LRGL_QovlIUU"
      }
    },
    {
      "cell_type": "markdown",
      "source": [
        "## **4.3. 사이킷런 파이프라인(Pipeline) 사용 및 GridSearchCV와의 결합**"
      ],
      "metadata": {
        "id": "kD55vf6YlIRw"
      }
    },
    {
      "cell_type": "markdown",
      "source": [
        "# **5. 감성 분석**"
      ],
      "metadata": {
        "id": "YB6lg40Pm20l"
      }
    },
    {
      "cell_type": "markdown",
      "source": [
        "## **5.1. 감성 분석 소개**"
      ],
      "metadata": {
        "id": "MAnaF6fVm2zN"
      }
    },
    {
      "cell_type": "markdown",
      "source": [
        "## **5.2. 지도학습 기반 감성 분석 실습 - IMDB 영화평**"
      ],
      "metadata": {
        "id": "M7gaY_aMm2w5"
      }
    },
    {
      "cell_type": "markdown",
      "source": [
        "## **5.3. 비지도학습 기반 감성 분석 소개**"
      ],
      "metadata": {
        "id": "qN-cT4KLm2uo"
      }
    },
    {
      "cell_type": "markdown",
      "source": [
        "## **5.4. SentiWirdNet을 이용한 감성 분석**"
      ],
      "metadata": {
        "id": "F2st4Z0-m2sV"
      }
    },
    {
      "cell_type": "markdown",
      "source": [
        "### **5.4.1. WordNet Synset과 SentiWordNet SentiSynset 클래스의 이해**"
      ],
      "metadata": {
        "id": "4qT6GGiOm2pB"
      }
    },
    {
      "cell_type": "markdown",
      "source": [
        "### **5.4.2. SentiWordNet을 이용한 영화 감상평 감성 분석**"
      ],
      "metadata": {
        "id": "k6yqLAJ5m2mz"
      }
    },
    {
      "cell_type": "markdown",
      "source": [
        "## **5.5. VADER를 이용한 감성 분석**"
      ],
      "metadata": {
        "id": "f17w6YaYm2lH"
      }
    },
    {
      "cell_type": "markdown",
      "source": [
        "# **6. 토픽 모델링(Topic Modeling) - 20 뉴스그룹**"
      ],
      "metadata": {
        "id": "7xh-YI-0m2jc"
      }
    },
    {
      "cell_type": "markdown",
      "source": [
        "# **7. 문서 군집화 소개와 실습(Opinion Review 데이터 세트)**"
      ],
      "metadata": {
        "id": "_R4yoUPwm2ge"
      }
    },
    {
      "cell_type": "markdown",
      "source": [
        "## **7.1. 문서 군집화 개념**"
      ],
      "metadata": {
        "id": "nzRQflwLm2eR"
      }
    },
    {
      "cell_type": "markdown",
      "source": [
        "## **7.2. Opinion Review 데이터 세트를 이용한 문서 군집화 수행하기**"
      ],
      "metadata": {
        "id": "U84ogXlInWQq"
      }
    },
    {
      "cell_type": "markdown",
      "source": [
        "## **7.3. 군집별 핵심 단어 추출하기**"
      ],
      "metadata": {
        "id": "_ZYxqdDcnXIM"
      }
    },
    {
      "cell_type": "markdown",
      "source": [
        "# **8. 문서 유사도**"
      ],
      "metadata": {
        "id": "66m82F1enXER"
      }
    },
    {
      "cell_type": "markdown",
      "source": [
        "## **8.1. 문서 유사도 측정 방법 - 코사인 유사도**"
      ],
      "metadata": {
        "id": "vpICe-EXnXCZ"
      }
    },
    {
      "cell_type": "markdown",
      "source": [
        "## **8.2. 두 벡터 사잇각**"
      ],
      "metadata": {
        "id": "s3OSzKYFnW_J"
      }
    },
    {
      "cell_type": "markdown",
      "source": [
        "## **8.3. Opinion Review 데이터 세트를 이용한 문서 유사도 측정**"
      ],
      "metadata": {
        "id": "vKmMJXmknW8o"
      }
    },
    {
      "cell_type": "markdown",
      "source": [
        "# **9. 한글 텍스트 처리 - 네이버 영화 평점 감성 분석**"
      ],
      "metadata": {
        "id": "OdjM_H4InWnq"
      }
    },
    {
      "cell_type": "markdown",
      "source": [
        "## **9.1. 한글 NLP 처리의 어려움**"
      ],
      "metadata": {
        "id": "RbjICpkboprM"
      }
    },
    {
      "cell_type": "markdown",
      "source": [
        "## **9.2. KoNLPy 소개**"
      ],
      "metadata": {
        "id": "Z2t-D6c1opoS"
      }
    },
    {
      "cell_type": "markdown",
      "source": [
        "## **9.3. 데이터 로딩**"
      ],
      "metadata": {
        "id": "sMa2Gi4Sopkr"
      }
    },
    {
      "cell_type": "markdown",
      "source": [
        "# **10. 텍스트 분석 실습 - 캐글 Mercari Price Suggestion Challenge**"
      ],
      "metadata": {
        "id": "JgatqQtLophs"
      }
    },
    {
      "cell_type": "markdown",
      "source": [
        "## **10.1. 데이터 전처리**"
      ],
      "metadata": {
        "id": "5o6HaNuGpg3W"
      }
    },
    {
      "cell_type": "markdown",
      "source": [
        "## **10.2. 피처 인코딩과 피처 벡터화**"
      ],
      "metadata": {
        "id": "Q1-_U6j0pg1B"
      }
    },
    {
      "cell_type": "markdown",
      "source": [
        "## **10.3. 릿지 회귀 모델 구축 및 평가**"
      ],
      "metadata": {
        "id": "9VmXSu0FpgyW"
      }
    },
    {
      "cell_type": "markdown",
      "source": [
        "## **10.4. LightGBM 회귀 모델 구축과 앙상블을 이용한 최종 예측 평가**"
      ],
      "metadata": {
        "id": "w5yvI_x-pgv2"
      }
    },
    {
      "cell_type": "markdown",
      "source": [
        "# **11. 정리**"
      ],
      "metadata": {
        "id": "p347TSeNpgtR"
      }
    }
  ]
}