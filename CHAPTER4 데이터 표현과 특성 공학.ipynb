{
  "nbformat": 4,
  "nbformat_minor": 0,
  "metadata": {
    "colab": {
      "name": "CHAPTER4 데이터 표현과 특성 공학.ipynb",
      "provenance": [],
      "collapsed_sections": [],
      "toc_visible": true,
      "authorship_tag": "ABX9TyNyQchxMdCdH3rweqO+svn5",
      "include_colab_link": true
    },
    "kernelspec": {
      "name": "python3",
      "display_name": "Python 3"
    },
    "language_info": {
      "name": "python"
    }
  },
  "cells": [
    {
      "cell_type": "markdown",
      "metadata": {
        "id": "view-in-github",
        "colab_type": "text"
      },
      "source": [
        "<a href=\"https://colab.research.google.com/github/LeeSeungwon89/Machine-learning_Theory/blob/master/CHAPTER4%20%EB%8D%B0%EC%9D%B4%ED%84%B0%20%ED%91%9C%ED%98%84%EA%B3%BC%20%ED%8A%B9%EC%84%B1%20%EA%B3%B5%ED%95%99.ipynb\" target=\"_parent\"><img src=\"https://colab.research.google.com/assets/colab-badge.svg\" alt=\"Open In Colab\"/></a>"
      ]
    },
    {
      "cell_type": "markdown",
      "metadata": {
        "id": "niQW6NHF0Sos"
      },
      "source": [
        "# 들어가며\n",
        "\n",
        "2차원 실수형 배열을 가진 데이터로서 각 열이 샘플에 대해 설명하면 연속형 특성(continuous feature)이라고 가정했습니다. 하지만 많은 애플리케이션에서는 이렇게 데이터가 수집되지 않습니다. 일반적인 특성의 전형적인 형태는 숫자 값이 아닌 범주형 특성(categorical feature)(=이산형 특성(discrete feature))입니다.\n",
        "\n",
        "연속형 특성과 범주형 특성은 회귀와 분류의 차이와 비슷합니다. 다만 출력이 아닌 입력에 대한 것이란 점에서 차이가 있습니다. 앞서 살폈던 연속형 특성의 예는 픽셀 밝기, 붓꽃 측정값입니다. 범주형 특성의 예는 제품 브랜드, 색상, 판매 분류(책, 옷, 하드웨어) 등입니다. 이런 특성들은 모두 상품을 묘사하는 속성이므로 연속된 값이 아닙니다. 제품과 제품 간에는 중간값이 없고 순서도 없습니다.\n",
        "\n",
        "하지만 데이터의 특성이 어떤 형태를 취하는지보다 중요한 것은 데이터를 표현하는 방식입니다. 이 방식에 따라 머신러닝 모델 성능에 주는 영향이 큽니다. 데이터의 스케일을 조정하는 것이 매우 중요하다는 점을 강조했습니다. 예를 들면 측정치의 스케일을 조정하지 않았을 때 센티미터, 인치의 기준에 따라 큰 차이가 생깁니다. 스케일 조정뿐만 아니라 특성의 상호작용(특성 간의 곱)이나 일반적인 다항식을 추가 특성으로 넣는 것도 방법입니다.\n",
        "\n",
        "특정 애플리케이션에 가장 적합한 데이터 표현을 찾는 것을 '특성 공학(feature engineering)'이라고 합니다. 올바른 데이터 표현을 찾는다면 지도 학습 모델에서 적절한 매개변수를 선택하는 것보다 모델 성능을 더 크게 제고할 수 있습니다."
      ]
    },
    {
      "cell_type": "markdown",
      "metadata": {
        "id": "B7wjWfRDNpQd"
      },
      "source": [
        "# 4.1 범주형 변수\n",
        "\n",
        "예제에 사용할 데이터는 [1994년 인구 조사 데이터베이스에서 추출한 미국 성인의 소득 데이터셋](https://github.com/rickiepark/introduction_to_ml_with_python/blob/master/data/adult.data)입니다. 이 데이터셋을 사용해서 특정 근로자의 수입이 50,000달러를 초과하는지 이하인지를 예측하고자 합니다."
      ]
    },
    {
      "cell_type": "code",
      "metadata": {
        "colab": {
          "base_uri": "https://localhost:8080/"
        },
        "id": "Ew2xa_d9wOzN",
        "outputId": "a306e644-4243-4d52-fb7a-a4ea2467db26"
      },
      "source": [
        "pip install mglearn"
      ],
      "execution_count": 1,
      "outputs": [
        {
          "output_type": "stream",
          "text": [
            "Collecting mglearn\n",
            "  Downloading mglearn-0.1.9.tar.gz (540 kB)\n",
            "\u001b[?25l\r\u001b[K     |▋                               | 10 kB 17.3 MB/s eta 0:00:01\r\u001b[K     |█▏                              | 20 kB 20.0 MB/s eta 0:00:01\r\u001b[K     |█▉                              | 30 kB 21.6 MB/s eta 0:00:01\r\u001b[K     |██▍                             | 40 kB 22.5 MB/s eta 0:00:01\r\u001b[K     |███                             | 51 kB 19.3 MB/s eta 0:00:01\r\u001b[K     |███▋                            | 61 kB 20.0 MB/s eta 0:00:01\r\u001b[K     |████▎                           | 71 kB 20.3 MB/s eta 0:00:01\r\u001b[K     |████▉                           | 81 kB 20.9 MB/s eta 0:00:01\r\u001b[K     |█████▌                          | 92 kB 22.1 MB/s eta 0:00:01\r\u001b[K     |██████                          | 102 kB 23.3 MB/s eta 0:00:01\r\u001b[K     |██████▊                         | 112 kB 23.3 MB/s eta 0:00:01\r\u001b[K     |███████▎                        | 122 kB 23.3 MB/s eta 0:00:01\r\u001b[K     |███████▉                        | 133 kB 23.3 MB/s eta 0:00:01\r\u001b[K     |████████▌                       | 143 kB 23.3 MB/s eta 0:00:01\r\u001b[K     |█████████                       | 153 kB 23.3 MB/s eta 0:00:01\r\u001b[K     |█████████▊                      | 163 kB 23.3 MB/s eta 0:00:01\r\u001b[K     |██████████▎                     | 174 kB 23.3 MB/s eta 0:00:01\r\u001b[K     |███████████                     | 184 kB 23.3 MB/s eta 0:00:01\r\u001b[K     |███████████▌                    | 194 kB 23.3 MB/s eta 0:00:01\r\u001b[K     |████████████▏                   | 204 kB 23.3 MB/s eta 0:00:01\r\u001b[K     |████████████▊                   | 215 kB 23.3 MB/s eta 0:00:01\r\u001b[K     |█████████████▍                  | 225 kB 23.3 MB/s eta 0:00:01\r\u001b[K     |██████████████                  | 235 kB 23.3 MB/s eta 0:00:01\r\u001b[K     |██████████████▋                 | 245 kB 23.3 MB/s eta 0:00:01\r\u001b[K     |███████████████▏                | 256 kB 23.3 MB/s eta 0:00:01\r\u001b[K     |███████████████▊                | 266 kB 23.3 MB/s eta 0:00:01\r\u001b[K     |████████████████▍               | 276 kB 23.3 MB/s eta 0:00:01\r\u001b[K     |█████████████████               | 286 kB 23.3 MB/s eta 0:00:01\r\u001b[K     |█████████████████▋              | 296 kB 23.3 MB/s eta 0:00:01\r\u001b[K     |██████████████████▏             | 307 kB 23.3 MB/s eta 0:00:01\r\u001b[K     |██████████████████▉             | 317 kB 23.3 MB/s eta 0:00:01\r\u001b[K     |███████████████████▍            | 327 kB 23.3 MB/s eta 0:00:01\r\u001b[K     |████████████████████            | 337 kB 23.3 MB/s eta 0:00:01\r\u001b[K     |████████████████████▋           | 348 kB 23.3 MB/s eta 0:00:01\r\u001b[K     |█████████████████████▎          | 358 kB 23.3 MB/s eta 0:00:01\r\u001b[K     |█████████████████████▉          | 368 kB 23.3 MB/s eta 0:00:01\r\u001b[K     |██████████████████████▌         | 378 kB 23.3 MB/s eta 0:00:01\r\u001b[K     |███████████████████████         | 389 kB 23.3 MB/s eta 0:00:01\r\u001b[K     |███████████████████████▋        | 399 kB 23.3 MB/s eta 0:00:01\r\u001b[K     |████████████████████████▎       | 409 kB 23.3 MB/s eta 0:00:01\r\u001b[K     |████████████████████████▉       | 419 kB 23.3 MB/s eta 0:00:01\r\u001b[K     |█████████████████████████▌      | 430 kB 23.3 MB/s eta 0:00:01\r\u001b[K     |██████████████████████████      | 440 kB 23.3 MB/s eta 0:00:01\r\u001b[K     |██████████████████████████▊     | 450 kB 23.3 MB/s eta 0:00:01\r\u001b[K     |███████████████████████████▎    | 460 kB 23.3 MB/s eta 0:00:01\r\u001b[K     |████████████████████████████    | 471 kB 23.3 MB/s eta 0:00:01\r\u001b[K     |████████████████████████████▌   | 481 kB 23.3 MB/s eta 0:00:01\r\u001b[K     |█████████████████████████████▏  | 491 kB 23.3 MB/s eta 0:00:01\r\u001b[K     |█████████████████████████████▊  | 501 kB 23.3 MB/s eta 0:00:01\r\u001b[K     |██████████████████████████████▍ | 512 kB 23.3 MB/s eta 0:00:01\r\u001b[K     |███████████████████████████████ | 522 kB 23.3 MB/s eta 0:00:01\r\u001b[K     |███████████████████████████████▌| 532 kB 23.3 MB/s eta 0:00:01\r\u001b[K     |████████████████████████████████| 540 kB 23.3 MB/s \n",
            "\u001b[?25hRequirement already satisfied: numpy in /usr/local/lib/python3.7/dist-packages (from mglearn) (1.19.5)\n",
            "Requirement already satisfied: matplotlib in /usr/local/lib/python3.7/dist-packages (from mglearn) (3.2.2)\n",
            "Requirement already satisfied: scikit-learn in /usr/local/lib/python3.7/dist-packages (from mglearn) (0.22.2.post1)\n",
            "Requirement already satisfied: pandas in /usr/local/lib/python3.7/dist-packages (from mglearn) (1.1.5)\n",
            "Requirement already satisfied: pillow in /usr/local/lib/python3.7/dist-packages (from mglearn) (7.1.2)\n",
            "Requirement already satisfied: cycler in /usr/local/lib/python3.7/dist-packages (from mglearn) (0.10.0)\n",
            "Requirement already satisfied: imageio in /usr/local/lib/python3.7/dist-packages (from mglearn) (2.4.1)\n",
            "Requirement already satisfied: joblib in /usr/local/lib/python3.7/dist-packages (from mglearn) (1.0.1)\n",
            "Requirement already satisfied: six in /usr/local/lib/python3.7/dist-packages (from cycler->mglearn) (1.15.0)\n",
            "Requirement already satisfied: pyparsing!=2.0.4,!=2.1.2,!=2.1.6,>=2.0.1 in /usr/local/lib/python3.7/dist-packages (from matplotlib->mglearn) (2.4.7)\n",
            "Requirement already satisfied: kiwisolver>=1.0.1 in /usr/local/lib/python3.7/dist-packages (from matplotlib->mglearn) (1.3.1)\n",
            "Requirement already satisfied: python-dateutil>=2.1 in /usr/local/lib/python3.7/dist-packages (from matplotlib->mglearn) (2.8.2)\n",
            "Requirement already satisfied: pytz>=2017.2 in /usr/local/lib/python3.7/dist-packages (from pandas->mglearn) (2018.9)\n",
            "Requirement already satisfied: scipy>=0.17.0 in /usr/local/lib/python3.7/dist-packages (from scikit-learn->mglearn) (1.4.1)\n",
            "Building wheels for collected packages: mglearn\n",
            "  Building wheel for mglearn (setup.py) ... \u001b[?25l\u001b[?25hdone\n",
            "  Created wheel for mglearn: filename=mglearn-0.1.9-py2.py3-none-any.whl size=582637 sha256=12493c96dfabe7dde8217b327220afc2035520ba6a5ea1582e580b92b78e7480\n",
            "  Stored in directory: /root/.cache/pip/wheels/f1/17/e1/1720d6dcd70187b6b6c3750cb3508798f2b1d57c9d3214b08b\n",
            "Successfully built mglearn\n",
            "Installing collected packages: mglearn\n",
            "Successfully installed mglearn-0.1.9\n"
          ],
          "name": "stdout"
        }
      ]
    },
    {
      "cell_type": "code",
      "metadata": {
        "id": "PtoET30cwTff"
      },
      "source": [
        "from IPython.display import display\n",
        "import numpy as np\n",
        "import matplotlib.pyplot as plt\n",
        "import pandas as pd\n",
        "import mglearn\n",
        "%matplotlib inline"
      ],
      "execution_count": 2,
      "outputs": []
    },
    {
      "cell_type": "code",
      "metadata": {
        "colab": {
          "base_uri": "https://localhost:8080/",
          "height": 393
        },
        "id": "rAiPPLtLukkt",
        "outputId": "c7eb5d6f-8c52-4998-b639-b8fed27c19bd"
      },
      "source": [
        "# 데이터셋 10개를 부르기 위한 코드입니다.\n",
        "# 코드는 뒤에서 다시 설명합니다.\n",
        "import os\n",
        "\n",
        "data = pd.read_csv(os.path.join(mglearn.datasets.DATA_PATH, 'adult.data'),\n",
        "                   header=None, index_col=False,\n",
        "                   names=['age', 'workclass', 'fnlwgt', 'education',\n",
        "                          'education-num', 'marital-status', 'occupation',\n",
        "                          'relationship', 'race', 'gender', 'capital-gain',\n",
        "                          'capital-loss', 'hours-per-week', 'native-country',\n",
        "                          'income'])\n",
        "data = data[['age', 'workclass', 'education', 'gender', 'hours-per-week',\n",
        "             'occupation', 'income']]\n",
        "display(data.head(11))"
      ],
      "execution_count": 3,
      "outputs": [
        {
          "output_type": "display_data",
          "data": {
            "text/html": [
              "<div>\n",
              "<style scoped>\n",
              "    .dataframe tbody tr th:only-of-type {\n",
              "        vertical-align: middle;\n",
              "    }\n",
              "\n",
              "    .dataframe tbody tr th {\n",
              "        vertical-align: top;\n",
              "    }\n",
              "\n",
              "    .dataframe thead th {\n",
              "        text-align: right;\n",
              "    }\n",
              "</style>\n",
              "<table border=\"1\" class=\"dataframe\">\n",
              "  <thead>\n",
              "    <tr style=\"text-align: right;\">\n",
              "      <th></th>\n",
              "      <th>age</th>\n",
              "      <th>workclass</th>\n",
              "      <th>education</th>\n",
              "      <th>gender</th>\n",
              "      <th>hours-per-week</th>\n",
              "      <th>occupation</th>\n",
              "      <th>income</th>\n",
              "    </tr>\n",
              "  </thead>\n",
              "  <tbody>\n",
              "    <tr>\n",
              "      <th>0</th>\n",
              "      <td>39</td>\n",
              "      <td>State-gov</td>\n",
              "      <td>Bachelors</td>\n",
              "      <td>Male</td>\n",
              "      <td>40</td>\n",
              "      <td>Adm-clerical</td>\n",
              "      <td>&lt;=50K</td>\n",
              "    </tr>\n",
              "    <tr>\n",
              "      <th>1</th>\n",
              "      <td>50</td>\n",
              "      <td>Self-emp-not-inc</td>\n",
              "      <td>Bachelors</td>\n",
              "      <td>Male</td>\n",
              "      <td>13</td>\n",
              "      <td>Exec-managerial</td>\n",
              "      <td>&lt;=50K</td>\n",
              "    </tr>\n",
              "    <tr>\n",
              "      <th>2</th>\n",
              "      <td>38</td>\n",
              "      <td>Private</td>\n",
              "      <td>HS-grad</td>\n",
              "      <td>Male</td>\n",
              "      <td>40</td>\n",
              "      <td>Handlers-cleaners</td>\n",
              "      <td>&lt;=50K</td>\n",
              "    </tr>\n",
              "    <tr>\n",
              "      <th>3</th>\n",
              "      <td>53</td>\n",
              "      <td>Private</td>\n",
              "      <td>11th</td>\n",
              "      <td>Male</td>\n",
              "      <td>40</td>\n",
              "      <td>Handlers-cleaners</td>\n",
              "      <td>&lt;=50K</td>\n",
              "    </tr>\n",
              "    <tr>\n",
              "      <th>4</th>\n",
              "      <td>28</td>\n",
              "      <td>Private</td>\n",
              "      <td>Bachelors</td>\n",
              "      <td>Female</td>\n",
              "      <td>40</td>\n",
              "      <td>Prof-specialty</td>\n",
              "      <td>&lt;=50K</td>\n",
              "    </tr>\n",
              "    <tr>\n",
              "      <th>5</th>\n",
              "      <td>37</td>\n",
              "      <td>Private</td>\n",
              "      <td>Masters</td>\n",
              "      <td>Female</td>\n",
              "      <td>40</td>\n",
              "      <td>Exec-managerial</td>\n",
              "      <td>&lt;=50K</td>\n",
              "    </tr>\n",
              "    <tr>\n",
              "      <th>6</th>\n",
              "      <td>49</td>\n",
              "      <td>Private</td>\n",
              "      <td>9th</td>\n",
              "      <td>Female</td>\n",
              "      <td>16</td>\n",
              "      <td>Other-service</td>\n",
              "      <td>&lt;=50K</td>\n",
              "    </tr>\n",
              "    <tr>\n",
              "      <th>7</th>\n",
              "      <td>52</td>\n",
              "      <td>Self-emp-not-inc</td>\n",
              "      <td>HS-grad</td>\n",
              "      <td>Male</td>\n",
              "      <td>45</td>\n",
              "      <td>Exec-managerial</td>\n",
              "      <td>&gt;50K</td>\n",
              "    </tr>\n",
              "    <tr>\n",
              "      <th>8</th>\n",
              "      <td>31</td>\n",
              "      <td>Private</td>\n",
              "      <td>Masters</td>\n",
              "      <td>Female</td>\n",
              "      <td>50</td>\n",
              "      <td>Prof-specialty</td>\n",
              "      <td>&gt;50K</td>\n",
              "    </tr>\n",
              "    <tr>\n",
              "      <th>9</th>\n",
              "      <td>42</td>\n",
              "      <td>Private</td>\n",
              "      <td>Bachelors</td>\n",
              "      <td>Male</td>\n",
              "      <td>40</td>\n",
              "      <td>Exec-managerial</td>\n",
              "      <td>&gt;50K</td>\n",
              "    </tr>\n",
              "    <tr>\n",
              "      <th>10</th>\n",
              "      <td>37</td>\n",
              "      <td>Private</td>\n",
              "      <td>Some-college</td>\n",
              "      <td>Male</td>\n",
              "      <td>80</td>\n",
              "      <td>Exec-managerial</td>\n",
              "      <td>&gt;50K</td>\n",
              "    </tr>\n",
              "  </tbody>\n",
              "</table>\n",
              "</div>"
            ],
            "text/plain": [
              "    age          workclass  ...          occupation  income\n",
              "0    39          State-gov  ...        Adm-clerical   <=50K\n",
              "1    50   Self-emp-not-inc  ...     Exec-managerial   <=50K\n",
              "2    38            Private  ...   Handlers-cleaners   <=50K\n",
              "3    53            Private  ...   Handlers-cleaners   <=50K\n",
              "4    28            Private  ...      Prof-specialty   <=50K\n",
              "5    37            Private  ...     Exec-managerial   <=50K\n",
              "6    49            Private  ...       Other-service   <=50K\n",
              "7    52   Self-emp-not-inc  ...     Exec-managerial    >50K\n",
              "8    31            Private  ...      Prof-specialty    >50K\n",
              "9    42            Private  ...     Exec-managerial    >50K\n",
              "10   37            Private  ...     Exec-managerial    >50K\n",
              "\n",
              "[11 rows x 7 columns]"
            ]
          },
          "metadata": {}
        }
      ]
    },
    {
      "cell_type": "markdown",
      "metadata": {
        "id": "pdoMgez8uk2N"
      },
      "source": [
        "데이터셋에는 여러 특성이 있습니다. 근로자 나이(age), 고용형태(workclass), 교육수준(education), 성별(gender), 주당 근로시간(hours-per-week), 직업(occupation) 등입니다.\n",
        "\n",
        "이 예측 작업은 소득(income)이 <=50k, >50k라는 두 클래스를 가진 분류 문제입니다. 정확한 소득을 예측하고자 한다면 회귀 문제입니다.\n",
        "\n",
        "이 데이터셋에 있는 'age'와 'hours-per-week'는 연속형 특성입니다. 그리고 'workclass', 'education', 'sex', 'occupation'은 범주형 특성입니다. 범위가 아닌 고정된 목록 중에 하나를 값으로 가지며 정성적(qualitative)입니다.\n",
        "\n",
        "먼저 로지스틱 회귀 분류기를 학습시킵니다. 공식을 다시 서술하면 아래와 같습니다. \n",
        "\n",
        "$\\hat{y}=w[0] \\times x[0] + w[1] \\times x[1] + \\cdots +w[p] \\times x[p] + b > 0$\n",
        "\n",
        "$w[i]$와 $b$는 훈련 세트로부터 학습되는 계수이고 $x[i]$는 입력 특성입니다. $x[i]$는 숫자여야 하므로 $x[2]$는 'masters'나 'Bachelors'가 될 수 없습니다. 따라서 로지스틱 회귀를 사용하려면 데이터를 다른 방식으로 표현해야 합니다."
      ]
    },
    {
      "cell_type": "markdown",
      "metadata": {
        "id": "53YtcZtJNpOL"
      },
      "source": [
        "## 4.1.1 원-핫-인코딩(가변수)\n",
        "\n",
        "범주형 변수를 표현하는 데 가장 널리 쓰이는 방법은 '원-핫-인코딩(one-hot encoding)'입니다. '원-아웃-오브-엔 인코딩(one-out-of-N encoding)', '가변수(dummy variable)'로도 불립니다. 가변수는 범주형 변수를 0 또는 1인 값을 가진 하나 이상의 새로운 특성으로 바꾼 것입니다. 이렇게 0과 1로 표현된 변수를 선형 이진 분류 공식에(모든 모델에) 적용할 수 있습니다. \n",
        "\n",
        "0과 1로 표현된 변수는 개수와 상관없이 범주마다 특성 하나로 표현합니다. 가령 'workclass' 특성에 클래스 네 가지가 존재한다면, 이 클래스 네 가지를 인코딩 하기 위해 새로운 특성 네 가지를 만듭니다. 어떤 사람의 'workclass' 값에 해당하는 특성은 1이고 나머지 세 특성은 0이 되는 식입니다. 다시 말하면 샘플마다 새로운 특성 하나만 1을 갖고 나머지 특성은 0입니다. 원핫, 원아웃오브엔이 의미하는 바입니다.\n",
        "\n",
        "참고로 원-핫 인코딩은 통계학에서 사용하는 '더미 코딩'과 유사하지만 차이점이 존재합니다. 머신러닝에서는 특성의 범주를 각기 다른 이진 특성으로 바꾸지만, 통계학에서는 k개의 값을 가진 범주형 특성을 k-1개의 특성으로 변환하는 것이 일반적입니다. 데이터 행렬의 '랭크 부족(rank deficient)' 현상을 피할 목적입니다. 랭크 부족에 대해서 더 설명하자면, 열 랭크 부족(column rank deficient)은 범주 네 개를 특성 네 개로 인코딩 하면 맨 마지막 특성은 앞의 세 특성을 참조해서 예측할 수 있고, 한 열이 다른 열에 의존적이거나 열의 값이 모두 0인 경우를 뜻합니다. 행렬 분해 방식에 따라서 문제가 될 소지가 있으나 사이킷런에서는 이런 문제를 일으키지 않습니다."
      ]
    },
    {
      "cell_type": "markdown",
      "metadata": {
        "id": "iX5t72uS2Axr"
      },
      "source": [
        "판다스나 사이킷런을 사용해서 범주형 변수를 원-핫-인코딩으로 바꿀 수 있습니다. 먼저 판다스를 사용해서 `csv` 파일을 읽습니다."
      ]
    },
    {
      "cell_type": "code",
      "metadata": {
        "colab": {
          "base_uri": "https://localhost:8080/",
          "height": 460
        },
        "id": "Hri7JY274VUd",
        "outputId": "7c85231a-8f4f-4088-f461-6e216bb7daab"
      },
      "source": [
        "# 이 파일은 열 이름을 나타내는 헤더가 없으므로 `header=None`으로 지정합니다.\n",
        "# 열 이름을 지정하고자 `names` 매개변수에 리스트 형태의 값을 넣습니다.\n",
        "data = pd.read_csv(os.path.join(mglearn.datasets.DATA_PATH, 'adult.data'),\n",
        "                   header=None, index_col=False,\n",
        "                   names=['age', 'workclass', 'fnlwgt', 'education',\n",
        "                          'education-num', 'marital-status', 'occupation',\n",
        "                          'relationship', 'race', 'gender', 'capital-gain',\n",
        "                          'capital-loss', 'hours-per-week', 'native-country',\n",
        "                          'income'])\n",
        "# 지정한 열의 값만 불러옵니다.\n",
        "data = data[['age', 'workclass', 'education', 'gender', 'hours-per-week',\n",
        "             'occupation', 'income']]\n",
        "print(data)\n",
        "display(data.head())"
      ],
      "execution_count": 4,
      "outputs": [
        {
          "output_type": "stream",
          "text": [
            "       age          workclass  ...          occupation  income\n",
            "0       39          State-gov  ...        Adm-clerical   <=50K\n",
            "1       50   Self-emp-not-inc  ...     Exec-managerial   <=50K\n",
            "2       38            Private  ...   Handlers-cleaners   <=50K\n",
            "3       53            Private  ...   Handlers-cleaners   <=50K\n",
            "4       28            Private  ...      Prof-specialty   <=50K\n",
            "...    ...                ...  ...                 ...     ...\n",
            "32556   27            Private  ...        Tech-support   <=50K\n",
            "32557   40            Private  ...   Machine-op-inspct    >50K\n",
            "32558   58            Private  ...        Adm-clerical   <=50K\n",
            "32559   22            Private  ...        Adm-clerical   <=50K\n",
            "32560   52       Self-emp-inc  ...     Exec-managerial    >50K\n",
            "\n",
            "[32561 rows x 7 columns]\n"
          ],
          "name": "stdout"
        },
        {
          "output_type": "display_data",
          "data": {
            "text/html": [
              "<div>\n",
              "<style scoped>\n",
              "    .dataframe tbody tr th:only-of-type {\n",
              "        vertical-align: middle;\n",
              "    }\n",
              "\n",
              "    .dataframe tbody tr th {\n",
              "        vertical-align: top;\n",
              "    }\n",
              "\n",
              "    .dataframe thead th {\n",
              "        text-align: right;\n",
              "    }\n",
              "</style>\n",
              "<table border=\"1\" class=\"dataframe\">\n",
              "  <thead>\n",
              "    <tr style=\"text-align: right;\">\n",
              "      <th></th>\n",
              "      <th>age</th>\n",
              "      <th>workclass</th>\n",
              "      <th>education</th>\n",
              "      <th>gender</th>\n",
              "      <th>hours-per-week</th>\n",
              "      <th>occupation</th>\n",
              "      <th>income</th>\n",
              "    </tr>\n",
              "  </thead>\n",
              "  <tbody>\n",
              "    <tr>\n",
              "      <th>0</th>\n",
              "      <td>39</td>\n",
              "      <td>State-gov</td>\n",
              "      <td>Bachelors</td>\n",
              "      <td>Male</td>\n",
              "      <td>40</td>\n",
              "      <td>Adm-clerical</td>\n",
              "      <td>&lt;=50K</td>\n",
              "    </tr>\n",
              "    <tr>\n",
              "      <th>1</th>\n",
              "      <td>50</td>\n",
              "      <td>Self-emp-not-inc</td>\n",
              "      <td>Bachelors</td>\n",
              "      <td>Male</td>\n",
              "      <td>13</td>\n",
              "      <td>Exec-managerial</td>\n",
              "      <td>&lt;=50K</td>\n",
              "    </tr>\n",
              "    <tr>\n",
              "      <th>2</th>\n",
              "      <td>38</td>\n",
              "      <td>Private</td>\n",
              "      <td>HS-grad</td>\n",
              "      <td>Male</td>\n",
              "      <td>40</td>\n",
              "      <td>Handlers-cleaners</td>\n",
              "      <td>&lt;=50K</td>\n",
              "    </tr>\n",
              "    <tr>\n",
              "      <th>3</th>\n",
              "      <td>53</td>\n",
              "      <td>Private</td>\n",
              "      <td>11th</td>\n",
              "      <td>Male</td>\n",
              "      <td>40</td>\n",
              "      <td>Handlers-cleaners</td>\n",
              "      <td>&lt;=50K</td>\n",
              "    </tr>\n",
              "    <tr>\n",
              "      <th>4</th>\n",
              "      <td>28</td>\n",
              "      <td>Private</td>\n",
              "      <td>Bachelors</td>\n",
              "      <td>Female</td>\n",
              "      <td>40</td>\n",
              "      <td>Prof-specialty</td>\n",
              "      <td>&lt;=50K</td>\n",
              "    </tr>\n",
              "  </tbody>\n",
              "</table>\n",
              "</div>"
            ],
            "text/plain": [
              "   age          workclass  ...          occupation  income\n",
              "0   39          State-gov  ...        Adm-clerical   <=50K\n",
              "1   50   Self-emp-not-inc  ...     Exec-managerial   <=50K\n",
              "2   38            Private  ...   Handlers-cleaners   <=50K\n",
              "3   53            Private  ...   Handlers-cleaners   <=50K\n",
              "4   28            Private  ...      Prof-specialty   <=50K\n",
              "\n",
              "[5 rows x 7 columns]"
            ]
          },
          "metadata": {}
        }
      ]
    },
    {
      "cell_type": "markdown",
      "metadata": {
        "id": "fx8z4vEpNpLw"
      },
      "source": [
        "### 범주형 데이터 문자열 확인하기\n",
        "\n",
        "데이터셋을 읽은 후에는 먼저 범주형 데이터를 유심히 살피는 것이 현명합니다. 정해진 범주를 벗어난 값이 있을 수도 있고, 철자나 대소문자가 틀린 값이 있을 수도 있으므로 반드시 데이터를 전처리해야 합니다. 예컨대 남성이 'man'으로 입력되지 않고 'male'로 입력됐다면 이 값들은 필시 같은 범주로 인식하도록 조치해야 합니다. "
      ]
    },
    {
      "cell_type": "markdown",
      "metadata": {
        "id": "4XP-dvn07bs6"
      },
      "source": [
        "열의 내용을 확인하려면 판다스에서 (데이터프레임(DataFrame)의 열을 나타내는)Series에 있는 `value_counts` 메서드를 사용합니다. 유일한 값이 몇 번씩 출력되는지 확인할 수 있습니다. 실제로는 모든 열의 값을 살펴야 하지만 여기에서는 'gender' 열의 값만 확인합니다."
      ]
    },
    {
      "cell_type": "code",
      "metadata": {
        "colab": {
          "base_uri": "https://localhost:8080/"
        },
        "id": "Zgc3HytQ7cvq",
        "outputId": "4e485a9c-6d96-4dea-d8d5-2190ceef717e"
      },
      "source": [
        "print(data.gender.value_counts())"
      ],
      "execution_count": 5,
      "outputs": [
        {
          "output_type": "stream",
          "text": [
            " Male      21790\n",
            " Female    10771\n",
            "Name: gender, dtype: int64\n"
          ],
          "name": "stdout"
        }
      ]
    },
    {
      "cell_type": "markdown",
      "metadata": {
        "id": "5_iFobOm7qNL"
      },
      "source": [
        "두 가지 값만을 가지고 있습니다. 원-핫-인코딩으로 나타내기에 적합합니다."
      ]
    },
    {
      "cell_type": "markdown",
      "metadata": {
        "id": "fmr3KnoJpAD8"
      },
      "source": [
        "판다스에서는 `get_dummies` 함수를 사용해서 문자열과 같은 객체 타입 특성이나 범주형(R의 factor와 유사한 판다스의 category를 의미합니다) 특성을 가진 열을 자동으로 변환합니다. 각 특성을 펼쳐서 생성하는 것입니다."
      ]
    },
    {
      "cell_type": "code",
      "metadata": {
        "colab": {
          "base_uri": "https://localhost:8080/"
        },
        "id": "edS7cUOxpk90",
        "outputId": "f480866b-27b3-4390-fd0d-7b4a4d4d5bdc"
      },
      "source": [
        "print('원본 특성:\\n', list(data.columns), '\\n')\n",
        "data_dummies = pd.get_dummies(data)\n",
        "print('get_dummies를 사용한 후의 특성:', list(data_dummies.columns))"
      ],
      "execution_count": 6,
      "outputs": [
        {
          "output_type": "stream",
          "text": [
            "원본 특성:\n",
            " ['age', 'workclass', 'education', 'gender', 'hours-per-week', 'occupation', 'income'] \n",
            "\n",
            "get_dummies를 사용한 후의 특성: ['age', 'hours-per-week', 'workclass_ ?', 'workclass_ Federal-gov', 'workclass_ Local-gov', 'workclass_ Never-worked', 'workclass_ Private', 'workclass_ Self-emp-inc', 'workclass_ Self-emp-not-inc', 'workclass_ State-gov', 'workclass_ Without-pay', 'education_ 10th', 'education_ 11th', 'education_ 12th', 'education_ 1st-4th', 'education_ 5th-6th', 'education_ 7th-8th', 'education_ 9th', 'education_ Assoc-acdm', 'education_ Assoc-voc', 'education_ Bachelors', 'education_ Doctorate', 'education_ HS-grad', 'education_ Masters', 'education_ Preschool', 'education_ Prof-school', 'education_ Some-college', 'gender_ Female', 'gender_ Male', 'occupation_ ?', 'occupation_ Adm-clerical', 'occupation_ Armed-Forces', 'occupation_ Craft-repair', 'occupation_ Exec-managerial', 'occupation_ Farming-fishing', 'occupation_ Handlers-cleaners', 'occupation_ Machine-op-inspct', 'occupation_ Other-service', 'occupation_ Priv-house-serv', 'occupation_ Prof-specialty', 'occupation_ Protective-serv', 'occupation_ Sales', 'occupation_ Tech-support', 'occupation_ Transport-moving', 'income_ <=50K', 'income_ >50K']\n"
          ],
          "name": "stdout"
        }
      ]
    },
    {
      "cell_type": "code",
      "metadata": {
        "colab": {
          "base_uri": "https://localhost:8080/",
          "height": 260
        },
        "id": "smFpZHBuqmfi",
        "outputId": "d2dedb72-58c6-40a6-8d54-b8268943c36f"
      },
      "source": [
        "display(data_dummies.head())"
      ],
      "execution_count": 7,
      "outputs": [
        {
          "output_type": "display_data",
          "data": {
            "text/html": [
              "<div>\n",
              "<style scoped>\n",
              "    .dataframe tbody tr th:only-of-type {\n",
              "        vertical-align: middle;\n",
              "    }\n",
              "\n",
              "    .dataframe tbody tr th {\n",
              "        vertical-align: top;\n",
              "    }\n",
              "\n",
              "    .dataframe thead th {\n",
              "        text-align: right;\n",
              "    }\n",
              "</style>\n",
              "<table border=\"1\" class=\"dataframe\">\n",
              "  <thead>\n",
              "    <tr style=\"text-align: right;\">\n",
              "      <th></th>\n",
              "      <th>age</th>\n",
              "      <th>hours-per-week</th>\n",
              "      <th>workclass_ ?</th>\n",
              "      <th>workclass_ Federal-gov</th>\n",
              "      <th>workclass_ Local-gov</th>\n",
              "      <th>workclass_ Never-worked</th>\n",
              "      <th>workclass_ Private</th>\n",
              "      <th>workclass_ Self-emp-inc</th>\n",
              "      <th>workclass_ Self-emp-not-inc</th>\n",
              "      <th>workclass_ State-gov</th>\n",
              "      <th>workclass_ Without-pay</th>\n",
              "      <th>education_ 10th</th>\n",
              "      <th>education_ 11th</th>\n",
              "      <th>education_ 12th</th>\n",
              "      <th>education_ 1st-4th</th>\n",
              "      <th>education_ 5th-6th</th>\n",
              "      <th>education_ 7th-8th</th>\n",
              "      <th>education_ 9th</th>\n",
              "      <th>education_ Assoc-acdm</th>\n",
              "      <th>education_ Assoc-voc</th>\n",
              "      <th>education_ Bachelors</th>\n",
              "      <th>education_ Doctorate</th>\n",
              "      <th>education_ HS-grad</th>\n",
              "      <th>education_ Masters</th>\n",
              "      <th>education_ Preschool</th>\n",
              "      <th>education_ Prof-school</th>\n",
              "      <th>education_ Some-college</th>\n",
              "      <th>gender_ Female</th>\n",
              "      <th>gender_ Male</th>\n",
              "      <th>occupation_ ?</th>\n",
              "      <th>occupation_ Adm-clerical</th>\n",
              "      <th>occupation_ Armed-Forces</th>\n",
              "      <th>occupation_ Craft-repair</th>\n",
              "      <th>occupation_ Exec-managerial</th>\n",
              "      <th>occupation_ Farming-fishing</th>\n",
              "      <th>occupation_ Handlers-cleaners</th>\n",
              "      <th>occupation_ Machine-op-inspct</th>\n",
              "      <th>occupation_ Other-service</th>\n",
              "      <th>occupation_ Priv-house-serv</th>\n",
              "      <th>occupation_ Prof-specialty</th>\n",
              "      <th>occupation_ Protective-serv</th>\n",
              "      <th>occupation_ Sales</th>\n",
              "      <th>occupation_ Tech-support</th>\n",
              "      <th>occupation_ Transport-moving</th>\n",
              "      <th>income_ &lt;=50K</th>\n",
              "      <th>income_ &gt;50K</th>\n",
              "    </tr>\n",
              "  </thead>\n",
              "  <tbody>\n",
              "    <tr>\n",
              "      <th>0</th>\n",
              "      <td>39</td>\n",
              "      <td>40</td>\n",
              "      <td>0</td>\n",
              "      <td>0</td>\n",
              "      <td>0</td>\n",
              "      <td>0</td>\n",
              "      <td>0</td>\n",
              "      <td>0</td>\n",
              "      <td>0</td>\n",
              "      <td>1</td>\n",
              "      <td>0</td>\n",
              "      <td>0</td>\n",
              "      <td>0</td>\n",
              "      <td>0</td>\n",
              "      <td>0</td>\n",
              "      <td>0</td>\n",
              "      <td>0</td>\n",
              "      <td>0</td>\n",
              "      <td>0</td>\n",
              "      <td>0</td>\n",
              "      <td>1</td>\n",
              "      <td>0</td>\n",
              "      <td>0</td>\n",
              "      <td>0</td>\n",
              "      <td>0</td>\n",
              "      <td>0</td>\n",
              "      <td>0</td>\n",
              "      <td>0</td>\n",
              "      <td>1</td>\n",
              "      <td>0</td>\n",
              "      <td>1</td>\n",
              "      <td>0</td>\n",
              "      <td>0</td>\n",
              "      <td>0</td>\n",
              "      <td>0</td>\n",
              "      <td>0</td>\n",
              "      <td>0</td>\n",
              "      <td>0</td>\n",
              "      <td>0</td>\n",
              "      <td>0</td>\n",
              "      <td>0</td>\n",
              "      <td>0</td>\n",
              "      <td>0</td>\n",
              "      <td>0</td>\n",
              "      <td>1</td>\n",
              "      <td>0</td>\n",
              "    </tr>\n",
              "    <tr>\n",
              "      <th>1</th>\n",
              "      <td>50</td>\n",
              "      <td>13</td>\n",
              "      <td>0</td>\n",
              "      <td>0</td>\n",
              "      <td>0</td>\n",
              "      <td>0</td>\n",
              "      <td>0</td>\n",
              "      <td>0</td>\n",
              "      <td>1</td>\n",
              "      <td>0</td>\n",
              "      <td>0</td>\n",
              "      <td>0</td>\n",
              "      <td>0</td>\n",
              "      <td>0</td>\n",
              "      <td>0</td>\n",
              "      <td>0</td>\n",
              "      <td>0</td>\n",
              "      <td>0</td>\n",
              "      <td>0</td>\n",
              "      <td>0</td>\n",
              "      <td>1</td>\n",
              "      <td>0</td>\n",
              "      <td>0</td>\n",
              "      <td>0</td>\n",
              "      <td>0</td>\n",
              "      <td>0</td>\n",
              "      <td>0</td>\n",
              "      <td>0</td>\n",
              "      <td>1</td>\n",
              "      <td>0</td>\n",
              "      <td>0</td>\n",
              "      <td>0</td>\n",
              "      <td>0</td>\n",
              "      <td>1</td>\n",
              "      <td>0</td>\n",
              "      <td>0</td>\n",
              "      <td>0</td>\n",
              "      <td>0</td>\n",
              "      <td>0</td>\n",
              "      <td>0</td>\n",
              "      <td>0</td>\n",
              "      <td>0</td>\n",
              "      <td>0</td>\n",
              "      <td>0</td>\n",
              "      <td>1</td>\n",
              "      <td>0</td>\n",
              "    </tr>\n",
              "    <tr>\n",
              "      <th>2</th>\n",
              "      <td>38</td>\n",
              "      <td>40</td>\n",
              "      <td>0</td>\n",
              "      <td>0</td>\n",
              "      <td>0</td>\n",
              "      <td>0</td>\n",
              "      <td>1</td>\n",
              "      <td>0</td>\n",
              "      <td>0</td>\n",
              "      <td>0</td>\n",
              "      <td>0</td>\n",
              "      <td>0</td>\n",
              "      <td>0</td>\n",
              "      <td>0</td>\n",
              "      <td>0</td>\n",
              "      <td>0</td>\n",
              "      <td>0</td>\n",
              "      <td>0</td>\n",
              "      <td>0</td>\n",
              "      <td>0</td>\n",
              "      <td>0</td>\n",
              "      <td>0</td>\n",
              "      <td>1</td>\n",
              "      <td>0</td>\n",
              "      <td>0</td>\n",
              "      <td>0</td>\n",
              "      <td>0</td>\n",
              "      <td>0</td>\n",
              "      <td>1</td>\n",
              "      <td>0</td>\n",
              "      <td>0</td>\n",
              "      <td>0</td>\n",
              "      <td>0</td>\n",
              "      <td>0</td>\n",
              "      <td>0</td>\n",
              "      <td>1</td>\n",
              "      <td>0</td>\n",
              "      <td>0</td>\n",
              "      <td>0</td>\n",
              "      <td>0</td>\n",
              "      <td>0</td>\n",
              "      <td>0</td>\n",
              "      <td>0</td>\n",
              "      <td>0</td>\n",
              "      <td>1</td>\n",
              "      <td>0</td>\n",
              "    </tr>\n",
              "    <tr>\n",
              "      <th>3</th>\n",
              "      <td>53</td>\n",
              "      <td>40</td>\n",
              "      <td>0</td>\n",
              "      <td>0</td>\n",
              "      <td>0</td>\n",
              "      <td>0</td>\n",
              "      <td>1</td>\n",
              "      <td>0</td>\n",
              "      <td>0</td>\n",
              "      <td>0</td>\n",
              "      <td>0</td>\n",
              "      <td>0</td>\n",
              "      <td>1</td>\n",
              "      <td>0</td>\n",
              "      <td>0</td>\n",
              "      <td>0</td>\n",
              "      <td>0</td>\n",
              "      <td>0</td>\n",
              "      <td>0</td>\n",
              "      <td>0</td>\n",
              "      <td>0</td>\n",
              "      <td>0</td>\n",
              "      <td>0</td>\n",
              "      <td>0</td>\n",
              "      <td>0</td>\n",
              "      <td>0</td>\n",
              "      <td>0</td>\n",
              "      <td>0</td>\n",
              "      <td>1</td>\n",
              "      <td>0</td>\n",
              "      <td>0</td>\n",
              "      <td>0</td>\n",
              "      <td>0</td>\n",
              "      <td>0</td>\n",
              "      <td>0</td>\n",
              "      <td>1</td>\n",
              "      <td>0</td>\n",
              "      <td>0</td>\n",
              "      <td>0</td>\n",
              "      <td>0</td>\n",
              "      <td>0</td>\n",
              "      <td>0</td>\n",
              "      <td>0</td>\n",
              "      <td>0</td>\n",
              "      <td>1</td>\n",
              "      <td>0</td>\n",
              "    </tr>\n",
              "    <tr>\n",
              "      <th>4</th>\n",
              "      <td>28</td>\n",
              "      <td>40</td>\n",
              "      <td>0</td>\n",
              "      <td>0</td>\n",
              "      <td>0</td>\n",
              "      <td>0</td>\n",
              "      <td>1</td>\n",
              "      <td>0</td>\n",
              "      <td>0</td>\n",
              "      <td>0</td>\n",
              "      <td>0</td>\n",
              "      <td>0</td>\n",
              "      <td>0</td>\n",
              "      <td>0</td>\n",
              "      <td>0</td>\n",
              "      <td>0</td>\n",
              "      <td>0</td>\n",
              "      <td>0</td>\n",
              "      <td>0</td>\n",
              "      <td>0</td>\n",
              "      <td>1</td>\n",
              "      <td>0</td>\n",
              "      <td>0</td>\n",
              "      <td>0</td>\n",
              "      <td>0</td>\n",
              "      <td>0</td>\n",
              "      <td>0</td>\n",
              "      <td>1</td>\n",
              "      <td>0</td>\n",
              "      <td>0</td>\n",
              "      <td>0</td>\n",
              "      <td>0</td>\n",
              "      <td>0</td>\n",
              "      <td>0</td>\n",
              "      <td>0</td>\n",
              "      <td>0</td>\n",
              "      <td>0</td>\n",
              "      <td>0</td>\n",
              "      <td>0</td>\n",
              "      <td>1</td>\n",
              "      <td>0</td>\n",
              "      <td>0</td>\n",
              "      <td>0</td>\n",
              "      <td>0</td>\n",
              "      <td>1</td>\n",
              "      <td>0</td>\n",
              "    </tr>\n",
              "  </tbody>\n",
              "</table>\n",
              "</div>"
            ],
            "text/plain": [
              "   age  hours-per-week  ...  income_ <=50K  income_ >50K\n",
              "0   39              40  ...              1             0\n",
              "1   50              13  ...              1             0\n",
              "2   38              40  ...              1             0\n",
              "3   53              40  ...              1             0\n",
              "4   28              40  ...              1             0\n",
              "\n",
              "[5 rows x 46 columns]"
            ]
          },
          "metadata": {}
        }
      ]
    },
    {
      "cell_type": "markdown",
      "metadata": {
        "id": "iAux0qiBsF9j"
      },
      "source": [
        "연속형 특성인 'age'와 'hours-per-week'는 그대로지만 범주형 특성은 새로운 특성으로 확장되고 생성됐습니다."
      ]
    },
    {
      "cell_type": "markdown",
      "metadata": {
        "id": "FQY6b9FjuUAp"
      },
      "source": [
        "`get_dummies` 함수의 `values` 속성을 사용해서 판다스 데이터프레임을 넘파이 배열로 바꿀 수 있습니다. 이렇게 바꾼 넘파이 배열로 머신러닝 모델을 학습시킬 수 있습니다.\n",
        "\n",
        "위에서 서술했듯이 이 문제의 주제는 특정 근로자의 수입이 50,000달러를 초과하는지 아닌지를 예측하는 것입니다. 따라서 'income'을 타깃값으로 삼을 예정입니다. 먼저 모델을 학습시키기 전에 'income'으로 시작하는 두 열에 인코딩 된 타깃값을 분리해야 합니다. 출력값이나 출력값으로부터 유도된 변수를 특성 표현에 포함하는 것은 지도 학습 모델을 만들 때 저지르기 쉬운 실수입니다. 여하튼 특성을 포함한 열, 즉 'age'부터 'occupation_ Transport-moving'까지 모든 열을 추출합니다. 타깃값인 'income'을 뺀 모든 특성입니다.\n",
        "\n",
        "참고로 이 예제에서는 타깃값도 원-핫-인코딩을 통해 0과 1로 변환했지만 사실 사이킷런에서는 문자열도 타깃값으로 사용할 수 있습니다. 'income' 열을 그대로 사용해도 괜찮습니다."
      ]
    },
    {
      "cell_type": "code",
      "metadata": {
        "colab": {
          "base_uri": "https://localhost:8080/"
        },
        "id": "7ctsZPBQxdFx",
        "outputId": "505afee5-d785-4fa2-9429-90453d4bfb21"
      },
      "source": [
        "# 판다스에서 열 인덱싱은 넘파이와는 다르게 범위의 끝을 포함합니다.\n",
        "# 'age' 열부터 'occupation_ Transport-moving' 열까지 포함하는 것입니다.\n",
        "features = data_dummies.loc[:, 'age':'occupation_ Transport-moving']\n",
        "print(features)\n",
        "# 넘파이 배열을 추출합니다.\n",
        "X = features.values\n",
        "print(X)\n",
        "# 타깃값으로 삼을 'income' 열을 y로 지정합니다.\n",
        "y = data_dummies['income_ >50K'].values\n",
        "print(y)\n",
        "print('X.shape: {} y.shape: {}'.format(X.shape, y.shape))"
      ],
      "execution_count": 8,
      "outputs": [
        {
          "output_type": "stream",
          "text": [
            "       age  ...  occupation_ Transport-moving\n",
            "0       39  ...                             0\n",
            "1       50  ...                             0\n",
            "2       38  ...                             0\n",
            "3       53  ...                             0\n",
            "4       28  ...                             0\n",
            "...    ...  ...                           ...\n",
            "32556   27  ...                             0\n",
            "32557   40  ...                             0\n",
            "32558   58  ...                             0\n",
            "32559   22  ...                             0\n",
            "32560   52  ...                             0\n",
            "\n",
            "[32561 rows x 44 columns]\n",
            "[[39 40  0 ...  0  0  0]\n",
            " [50 13  0 ...  0  0  0]\n",
            " [38 40  0 ...  0  0  0]\n",
            " ...\n",
            " [58 40  0 ...  0  0  0]\n",
            " [22 20  0 ...  0  0  0]\n",
            " [52 40  0 ...  0  0  0]]\n",
            "[0 0 0 ... 0 0 1]\n",
            "X.shape: (32561, 44) y.shape: (32561,)\n"
          ],
          "name": "stdout"
        }
      ]
    },
    {
      "cell_type": "markdown",
      "metadata": {
        "id": "s1_xy6M24wAM"
      },
      "source": [
        "사이킷런에서 사용할 수 있는 형태가 됐습니다. `LogisticRegression`을 적용해서 점수를 출력합니다."
      ]
    },
    {
      "cell_type": "code",
      "metadata": {
        "colab": {
          "base_uri": "https://localhost:8080/"
        },
        "id": "6-L5EFI24-hF",
        "outputId": "d32cb421-d993-4034-8f89-6805261a202f"
      },
      "source": [
        "from sklearn.linear_model import LogisticRegression\n",
        "from sklearn.model_selection import train_test_split\n",
        "\n",
        "X_train, X_test, y_train, y_test = train_test_split(X, y, random_state=0)\n",
        "logreg = LogisticRegression(max_iter=1000)\n",
        "logreg.fit(X_train, y_train)\n",
        "print('테스트 점수: {:.2f}'.format(logreg.score(X_test, y_test)))"
      ],
      "execution_count": 9,
      "outputs": [
        {
          "output_type": "stream",
          "text": [
            "테스트 점수: 0.81\n"
          ],
          "name": "stdout"
        },
        {
          "output_type": "stream",
          "text": [
            "/usr/local/lib/python3.7/dist-packages/sklearn/linear_model/_logistic.py:940: ConvergenceWarning: lbfgs failed to converge (status=1):\n",
            "STOP: TOTAL NO. of ITERATIONS REACHED LIMIT.\n",
            "\n",
            "Increase the number of iterations (max_iter) or scale the data as shown in:\n",
            "    https://scikit-learn.org/stable/modules/preprocessing.html\n",
            "Please also refer to the documentation for alternative solver options:\n",
            "    https://scikit-learn.org/stable/modules/linear_model.html#logistic-regression\n",
            "  extra_warning_msg=_LOGISTIC_SOLVER_CONVERGENCE_MSG)\n"
          ],
          "name": "stderr"
        }
      ]
    },
    {
      "cell_type": "markdown",
      "metadata": {
        "id": "hxc6efIb51Jq"
      },
      "source": [
        "**CAUTION**\n",
        "\n",
        "본서에서 매우 중요한 내용을 CAUTION이라는 파트에서 설명하고 있습니다. 이 내용을 자세하게 서술합니다.\n",
        "\n",
        "이 데이터프레임에는 훈련 데이터와 테스트 데이터가 모두 담겨 있습니다. 훈련 세트와 테스트 세트를 `get_dummies` 함수를 사용해서 범주형 값을 같게 만들었습니다.\n",
        "\n",
        "훈련 세트와 테스트 세트가 서로 다른 데이터프레임 형태를 가지고 있다고 가정하겠습니다. 'workclass' 특성의 'Private Employee' 값이 테스트 세트에 없으면 판다스는 이 특성의 값이 세 개뿐이라고 판단하고 세 개의 가변수 특성을 만듭니다. 그러면 훈련 세트와 테스트 세트의 특성 개수가 달라집니다. 훈련 세트에서 학습된 모델을 테스트 세트에 적용할 수 없게 되는 것입니다.\n",
        "\n",
        "더 심각하게 'workclass' 특성이 훈련 세트는 'Government Employee'와 'Private Employee'를 가지고, 테스트 세트는 'Self Employed'와 'Self Employed incorperated'를 가진다고 가정하면, 판다스는 양쪽 모두 두 개의 다른 새로운 가변수 특성을 추가하게 됩니다. 그렇게 만들어진 두 데이터프레임의 특성 개수는 일단 같게 되지만, 가변수 특성 두 개는 훈련 세트와 테스트 세트에서 완전히 다른 의미를 지닙니다. 훈련 세트의 'Government Employee' 특성을 나타내는 열은 테스트 세트의 'Self Employed' 특성을 의미하는 것입니다. 이렇게 매우 다른 의미의 두 열을 단지 위치가 같다는 이유만으로 같은 것으로 여기기 때문에 이런 데이터로 모델을 만들면 결코 좋지 못한 결과를 얻습니다.\n",
        "\n",
        "이를 방지하려면 위에서 제시한 예시 데이터처럼 훈련 데이터와 테스트 데이터 모두를 포함한 데이터프레임으로 `get_dummies` 함수를 호출하거나, 각각 `get_dummies` 함수를 호출해서 훈련 세트와 테스트 세트의 열 이름을 비교해서 같은 속성인지 확인해야 합니다."
      ]
    },
    {
      "cell_type": "markdown",
      "metadata": {
        "id": "9Bu9BiMLNpJi"
      },
      "source": [
        "## 4.1.2 숫자로 표현된 범주형 특성\n",
        "\n",
        "adult 데이터셋은 범주형 변수가 문자열로 인코딩 되어 있습니다. 철자에 오류가 있을 수 있지만 범주형 변수라는 점을 분명하게 나타냅니다. 하지만 저장 공간을 절약하거나 데이터 취합 방식에 따라 이 변수가 숫자로 인코딩 된 경우가 많습니다. 예를 들면 adult 데이터셋에 있는 인구조사 데이터를 설문지를 사용해서 수집했다고 가정한다면 'workclass'에 대한 질문의 대답은 값(8개)을 나타내는 체크 박스의 순서에 따라 0에서 8이 부여됩니다. 문자열인 'Private'가 숫자로 표현되는 것입니다. 이런 형태를 연속형인지 범주형인지 쉽게 알기는 어렵습니다. 다만 'workclass'의 값을 숫자(이산적)로 나타냈다는 사실을 인지한다면 연속형 변수로 다루지 않아야 한다는 점을 명확하게 깨달을 수 있습니다."
      ]
    },
    {
      "cell_type": "markdown",
      "metadata": {
        "id": "5nKzYj61D3w-"
      },
      "source": [
        "**CAUTION**\n",
        "\n",
        "범주형 특성은 종종 숫자로 인코딩 되므로 무조건 연속형 특성으로 다뤄서는 안 됩니다. 숫자로 이루어진 특성이 연속형인지 이산형인지 원-핫-인코딩 된 것인지는 항상 명확하게 구분할 수 없습니다. 다만 인코딩 된 값 사이에 어떤 순서도 존재하지 않다면 이산형으로 추론할 수 있습니다. 예를 들어 별 다섯 개가 만점인 평점 데이터의 경우라면 문제나 데이터, 어떤 머신러닝 알고리즘을 사용하느냐에 따라 적절한 인코딩 방법을 선택합니다. 물론 보통의 경우는 별의 개수에 따라 평점이 분류되므로 범주형으로 다루지만, 별점에 대한 평균을 구할 목적이라면 연속형으로 다룹니다. 영화 관람 등급의 경우처럼 순서를 가진 범주형 속성도 있습니다. 다양한 관점으로 데이터를 살펴볼 필요가 있습니다."
      ]
    },
    {
      "cell_type": "markdown",
      "metadata": {
        "id": "nySod_ewFpJU"
      },
      "source": [
        "`get_dummies` 함수는 숫자 특성을 무조건 연속형으로 간주해서 가변수를 생성하지 않습니다. 이를 설명하기 위해 숫자 특성과 범주형 문자열 특성을 가진 데이터프레임의 객체를 만듭니다."
      ]
    },
    {
      "cell_type": "code",
      "metadata": {
        "colab": {
          "base_uri": "https://localhost:8080/",
          "height": 175
        },
        "id": "dURLPumBF4Ue",
        "outputId": "f02ea6ed-21f2-425e-df6c-133e29cf33de"
      },
      "source": [
        "demo_df = pd.DataFrame({'number_features': [0, 1, 2, 1],\n",
        "                        'categorical_features': ['socks', 'fox', 'socks', 'box']})\n",
        "display(demo_df)"
      ],
      "execution_count": 10,
      "outputs": [
        {
          "output_type": "display_data",
          "data": {
            "text/html": [
              "<div>\n",
              "<style scoped>\n",
              "    .dataframe tbody tr th:only-of-type {\n",
              "        vertical-align: middle;\n",
              "    }\n",
              "\n",
              "    .dataframe tbody tr th {\n",
              "        vertical-align: top;\n",
              "    }\n",
              "\n",
              "    .dataframe thead th {\n",
              "        text-align: right;\n",
              "    }\n",
              "</style>\n",
              "<table border=\"1\" class=\"dataframe\">\n",
              "  <thead>\n",
              "    <tr style=\"text-align: right;\">\n",
              "      <th></th>\n",
              "      <th>number_features</th>\n",
              "      <th>categorical_features</th>\n",
              "    </tr>\n",
              "  </thead>\n",
              "  <tbody>\n",
              "    <tr>\n",
              "      <th>0</th>\n",
              "      <td>0</td>\n",
              "      <td>socks</td>\n",
              "    </tr>\n",
              "    <tr>\n",
              "      <th>1</th>\n",
              "      <td>1</td>\n",
              "      <td>fox</td>\n",
              "    </tr>\n",
              "    <tr>\n",
              "      <th>2</th>\n",
              "      <td>2</td>\n",
              "      <td>socks</td>\n",
              "    </tr>\n",
              "    <tr>\n",
              "      <th>3</th>\n",
              "      <td>1</td>\n",
              "      <td>box</td>\n",
              "    </tr>\n",
              "  </tbody>\n",
              "</table>\n",
              "</div>"
            ],
            "text/plain": [
              "   number_features categorical_features\n",
              "0                0                socks\n",
              "1                1                  fox\n",
              "2                2                socks\n",
              "3                1                  box"
            ]
          },
          "metadata": {}
        }
      ]
    },
    {
      "cell_type": "markdown",
      "metadata": {
        "id": "SDwIa5ZpHT3U"
      },
      "source": [
        "'socks'는 숫자 특성이 동일하게 0이 아니라 각각 0과 2를 가졌습니다."
      ]
    },
    {
      "cell_type": "markdown",
      "metadata": {
        "id": "srdJ752SHnt_"
      },
      "source": [
        "`get_dummies` 함수를 사용해서 결과를 확인합니다."
      ]
    },
    {
      "cell_type": "code",
      "metadata": {
        "colab": {
          "base_uri": "https://localhost:8080/",
          "height": 175
        },
        "id": "sT6QL4tvH3mE",
        "outputId": "5a932aab-879e-4c13-a63b-7160563301c1"
      },
      "source": [
        "display(pd.get_dummies(demo_df))"
      ],
      "execution_count": 11,
      "outputs": [
        {
          "output_type": "display_data",
          "data": {
            "text/html": [
              "<div>\n",
              "<style scoped>\n",
              "    .dataframe tbody tr th:only-of-type {\n",
              "        vertical-align: middle;\n",
              "    }\n",
              "\n",
              "    .dataframe tbody tr th {\n",
              "        vertical-align: top;\n",
              "    }\n",
              "\n",
              "    .dataframe thead th {\n",
              "        text-align: right;\n",
              "    }\n",
              "</style>\n",
              "<table border=\"1\" class=\"dataframe\">\n",
              "  <thead>\n",
              "    <tr style=\"text-align: right;\">\n",
              "      <th></th>\n",
              "      <th>number_features</th>\n",
              "      <th>categorical_features_box</th>\n",
              "      <th>categorical_features_fox</th>\n",
              "      <th>categorical_features_socks</th>\n",
              "    </tr>\n",
              "  </thead>\n",
              "  <tbody>\n",
              "    <tr>\n",
              "      <th>0</th>\n",
              "      <td>0</td>\n",
              "      <td>0</td>\n",
              "      <td>0</td>\n",
              "      <td>1</td>\n",
              "    </tr>\n",
              "    <tr>\n",
              "      <th>1</th>\n",
              "      <td>1</td>\n",
              "      <td>0</td>\n",
              "      <td>1</td>\n",
              "      <td>0</td>\n",
              "    </tr>\n",
              "    <tr>\n",
              "      <th>2</th>\n",
              "      <td>2</td>\n",
              "      <td>0</td>\n",
              "      <td>0</td>\n",
              "      <td>1</td>\n",
              "    </tr>\n",
              "    <tr>\n",
              "      <th>3</th>\n",
              "      <td>1</td>\n",
              "      <td>1</td>\n",
              "      <td>0</td>\n",
              "      <td>0</td>\n",
              "    </tr>\n",
              "  </tbody>\n",
              "</table>\n",
              "</div>"
            ],
            "text/plain": [
              "   number_features  ...  categorical_features_socks\n",
              "0                0  ...                           1\n",
              "1                1  ...                           0\n",
              "2                2  ...                           1\n",
              "3                1  ...                           0\n",
              "\n",
              "[4 rows x 4 columns]"
            ]
          },
          "metadata": {}
        }
      ]
    },
    {
      "cell_type": "markdown",
      "metadata": {
        "id": "rkRxz_bFHwpn"
      },
      "source": [
        "문자열 특성만 인코딩 되고 숫자 특성은 바뀌지 않았습니다."
      ]
    },
    {
      "cell_type": "markdown",
      "metadata": {
        "id": "o1O3alX9IH8Y"
      },
      "source": [
        "만약 숫자로 된 특성도 가변수로 만든다면 `columns` 매개변수에 인코딩 하고자 하는 열을 명시합니다. 이렇게 하면 모든 특성을 범주형으로 간주합니다. "
      ]
    },
    {
      "cell_type": "code",
      "metadata": {
        "colab": {
          "base_uri": "https://localhost:8080/",
          "height": 175
        },
        "id": "EUkfaCFfIYxU",
        "outputId": "269a89a0-ebbd-490a-99e7-48ea3b7dd876"
      },
      "source": [
        "demo_df['number_features'] = demo_df['number_features'].astype(str)\n",
        "display(pd.get_dummies(demo_df, columns=['number_features', 'categorical_features']))"
      ],
      "execution_count": 12,
      "outputs": [
        {
          "output_type": "display_data",
          "data": {
            "text/html": [
              "<div>\n",
              "<style scoped>\n",
              "    .dataframe tbody tr th:only-of-type {\n",
              "        vertical-align: middle;\n",
              "    }\n",
              "\n",
              "    .dataframe tbody tr th {\n",
              "        vertical-align: top;\n",
              "    }\n",
              "\n",
              "    .dataframe thead th {\n",
              "        text-align: right;\n",
              "    }\n",
              "</style>\n",
              "<table border=\"1\" class=\"dataframe\">\n",
              "  <thead>\n",
              "    <tr style=\"text-align: right;\">\n",
              "      <th></th>\n",
              "      <th>number_features_0</th>\n",
              "      <th>number_features_1</th>\n",
              "      <th>number_features_2</th>\n",
              "      <th>categorical_features_box</th>\n",
              "      <th>categorical_features_fox</th>\n",
              "      <th>categorical_features_socks</th>\n",
              "    </tr>\n",
              "  </thead>\n",
              "  <tbody>\n",
              "    <tr>\n",
              "      <th>0</th>\n",
              "      <td>1</td>\n",
              "      <td>0</td>\n",
              "      <td>0</td>\n",
              "      <td>0</td>\n",
              "      <td>0</td>\n",
              "      <td>1</td>\n",
              "    </tr>\n",
              "    <tr>\n",
              "      <th>1</th>\n",
              "      <td>0</td>\n",
              "      <td>1</td>\n",
              "      <td>0</td>\n",
              "      <td>0</td>\n",
              "      <td>1</td>\n",
              "      <td>0</td>\n",
              "    </tr>\n",
              "    <tr>\n",
              "      <th>2</th>\n",
              "      <td>0</td>\n",
              "      <td>0</td>\n",
              "      <td>1</td>\n",
              "      <td>0</td>\n",
              "      <td>0</td>\n",
              "      <td>1</td>\n",
              "    </tr>\n",
              "    <tr>\n",
              "      <th>3</th>\n",
              "      <td>0</td>\n",
              "      <td>1</td>\n",
              "      <td>0</td>\n",
              "      <td>1</td>\n",
              "      <td>0</td>\n",
              "      <td>0</td>\n",
              "    </tr>\n",
              "  </tbody>\n",
              "</table>\n",
              "</div>"
            ],
            "text/plain": [
              "   number_features_0  ...  categorical_features_socks\n",
              "0                  1  ...                           1\n",
              "1                  0  ...                           0\n",
              "2                  0  ...                           1\n",
              "3                  0  ...                           0\n",
              "\n",
              "[4 rows x 6 columns]"
            ]
          },
          "metadata": {}
        }
      ]
    },
    {
      "cell_type": "markdown",
      "metadata": {
        "id": "l1DQu7h8J_Wx"
      },
      "source": [
        "물론 `demo_df['number_features'].astype(str)` 형식으로 숫자를 문자열로 바꾸면 `columns` 매개변수에 값을 지정하지 않아도 가변수 특성이 만들어집니다. 위 코드에서 제시한 두 방법 중에 하나만 택해도 충분합니다."
      ]
    },
    {
      "cell_type": "markdown",
      "metadata": {
        "id": "CPZOUpUFNpHE"
      },
      "source": [
        "# 4.2 OneHotEncoder와 ColumnTransformer: scikit-learn으로 범주형 변수 다루기\n",
        "\n",
        "원-핫-인코딩은 `OneHotEncoder` 클래스에 구현되어 있습니다. 이 클래스로 모든 열에 인코딩 할 수 있습니다."
      ]
    },
    {
      "cell_type": "code",
      "metadata": {
        "colab": {
          "base_uri": "https://localhost:8080/"
        },
        "id": "CnHU6O6hUYMu",
        "outputId": "e2a0b986-42c0-4ce5-f3c7-e4fade4d5984"
      },
      "source": [
        "from sklearn.preprocessing import OneHotEncoder\n",
        "# `Sparse` 매개변수에 `False` 값을 지정하면 넘파이 배열을 반환합니다.\n",
        "# 'True` 값은 희소행렬을 반환합니다.\n",
        "ohe = OneHotEncoder(sparse=False)\n",
        "print(ohe.fit_transform(demo_df))"
      ],
      "execution_count": 13,
      "outputs": [
        {
          "output_type": "stream",
          "text": [
            "[[1. 0. 0. 0. 0. 1.]\n",
            " [0. 1. 0. 0. 1. 0.]\n",
            " [0. 0. 1. 0. 0. 1.]\n",
            " [0. 1. 0. 1. 0. 0.]]\n"
          ],
          "name": "stdout"
        }
      ]
    },
    {
      "cell_type": "markdown",
      "metadata": {
        "id": "wu_uaLutVH_f"
      },
      "source": [
        "문자열 특성과 정수 특성이 모두 변환됐습니다."
      ]
    },
    {
      "cell_type": "markdown",
      "metadata": {
        "id": "Q7eJqDIrVO8l"
      },
      "source": [
        "`get_feature_names` 메서드를 사용하면 원본 범주형 변수 이름을 얻습니다."
      ]
    },
    {
      "cell_type": "code",
      "metadata": {
        "colab": {
          "base_uri": "https://localhost:8080/"
        },
        "id": "Rf8T8-rdVXAa",
        "outputId": "55e00588-266b-4fdb-e4c2-c563bb383e44"
      },
      "source": [
        "print(ohe.get_feature_names())"
      ],
      "execution_count": 14,
      "outputs": [
        {
          "output_type": "stream",
          "text": [
            "['x0_0' 'x0_1' 'x0_2' 'x1_box' 'x1_fox' 'x1_socks']\n"
          ],
          "name": "stdout"
        }
      ]
    },
    {
      "cell_type": "markdown",
      "metadata": {
        "id": "onhA7OdmX4kd"
      },
      "source": [
        "'x0_0', 'x0_1', 'x0_2' 열은 원본 특성인 0, 1, 2입니다. 'x1_box', 'x1_fox', 'x1_socks' 열은 두 번째 원본 특성인 'box', 'fox', 'socks'입니다."
      ]
    },
    {
      "cell_type": "markdown",
      "metadata": {
        "id": "e0Es-Oz4Ya2u"
      },
      "source": [
        "데이터 대부분은 범주형 특성과 연속형 특성이 섞여있습니다. `OneHotEncoding` 클래스는 모든 특성을 범주형으로 간주하므로, `ColumnTransformer` 클래스를 사용해서 입력 데이터의 열마다 다른 변환을 적용해야 합니다. 범주형 특성과 연속형 특성은 전처리 하는 과정이 다르므로 `ColumnTransformer` 클래스를 사용하여 수월하게 전처리 할 수 있습니다."
      ]
    },
    {
      "cell_type": "markdown",
      "metadata": {
        "id": "AGItEC90ZhI7"
      },
      "source": [
        "adult 데이터셋을 다시 사용합니다. 데이터셋의 일부분을 출력합니다."
      ]
    },
    {
      "cell_type": "code",
      "metadata": {
        "colab": {
          "base_uri": "https://localhost:8080/",
          "height": 205
        },
        "id": "3qWwjlJmZfbD",
        "outputId": "f6ed765b-876a-4ff5-b9e5-eb2bb0affeb1"
      },
      "source": [
        "display(data.head())"
      ],
      "execution_count": 15,
      "outputs": [
        {
          "output_type": "display_data",
          "data": {
            "text/html": [
              "<div>\n",
              "<style scoped>\n",
              "    .dataframe tbody tr th:only-of-type {\n",
              "        vertical-align: middle;\n",
              "    }\n",
              "\n",
              "    .dataframe tbody tr th {\n",
              "        vertical-align: top;\n",
              "    }\n",
              "\n",
              "    .dataframe thead th {\n",
              "        text-align: right;\n",
              "    }\n",
              "</style>\n",
              "<table border=\"1\" class=\"dataframe\">\n",
              "  <thead>\n",
              "    <tr style=\"text-align: right;\">\n",
              "      <th></th>\n",
              "      <th>age</th>\n",
              "      <th>workclass</th>\n",
              "      <th>education</th>\n",
              "      <th>gender</th>\n",
              "      <th>hours-per-week</th>\n",
              "      <th>occupation</th>\n",
              "      <th>income</th>\n",
              "    </tr>\n",
              "  </thead>\n",
              "  <tbody>\n",
              "    <tr>\n",
              "      <th>0</th>\n",
              "      <td>39</td>\n",
              "      <td>State-gov</td>\n",
              "      <td>Bachelors</td>\n",
              "      <td>Male</td>\n",
              "      <td>40</td>\n",
              "      <td>Adm-clerical</td>\n",
              "      <td>&lt;=50K</td>\n",
              "    </tr>\n",
              "    <tr>\n",
              "      <th>1</th>\n",
              "      <td>50</td>\n",
              "      <td>Self-emp-not-inc</td>\n",
              "      <td>Bachelors</td>\n",
              "      <td>Male</td>\n",
              "      <td>13</td>\n",
              "      <td>Exec-managerial</td>\n",
              "      <td>&lt;=50K</td>\n",
              "    </tr>\n",
              "    <tr>\n",
              "      <th>2</th>\n",
              "      <td>38</td>\n",
              "      <td>Private</td>\n",
              "      <td>HS-grad</td>\n",
              "      <td>Male</td>\n",
              "      <td>40</td>\n",
              "      <td>Handlers-cleaners</td>\n",
              "      <td>&lt;=50K</td>\n",
              "    </tr>\n",
              "    <tr>\n",
              "      <th>3</th>\n",
              "      <td>53</td>\n",
              "      <td>Private</td>\n",
              "      <td>11th</td>\n",
              "      <td>Male</td>\n",
              "      <td>40</td>\n",
              "      <td>Handlers-cleaners</td>\n",
              "      <td>&lt;=50K</td>\n",
              "    </tr>\n",
              "    <tr>\n",
              "      <th>4</th>\n",
              "      <td>28</td>\n",
              "      <td>Private</td>\n",
              "      <td>Bachelors</td>\n",
              "      <td>Female</td>\n",
              "      <td>40</td>\n",
              "      <td>Prof-specialty</td>\n",
              "      <td>&lt;=50K</td>\n",
              "    </tr>\n",
              "  </tbody>\n",
              "</table>\n",
              "</div>"
            ],
            "text/plain": [
              "   age          workclass  ...          occupation  income\n",
              "0   39          State-gov  ...        Adm-clerical   <=50K\n",
              "1   50   Self-emp-not-inc  ...     Exec-managerial   <=50K\n",
              "2   38            Private  ...   Handlers-cleaners   <=50K\n",
              "3   53            Private  ...   Handlers-cleaners   <=50K\n",
              "4   28            Private  ...      Prof-specialty   <=50K\n",
              "\n",
              "[5 rows x 7 columns]"
            ]
          },
          "metadata": {}
        }
      ]
    },
    {
      "cell_type": "markdown",
      "metadata": {
        "id": "obYFBpXHZxxp"
      },
      "source": [
        "이 데이터셋에 선형 모델을 적용해서 소득을 예측하려면 범주형 변수에 대한 원-핫-인코딩뿐만 아니라 연속형 변수인 'age'와 'hours-per-week'의 스케일도 조정해야 합니다. 이를 위해 `ColumsTransformer` 클래스를 사용합니다."
      ]
    },
    {
      "cell_type": "code",
      "metadata": {
        "id": "N-hAVv4AaVOo"
      },
      "source": [
        "from sklearn.compose import ColumnTransformer\n",
        "# 스케일을 조정하는 클래스인 `StandardScaler`를 부릅니다.\n",
        "from sklearn.preprocessing import StandardScaler\n",
        "\n",
        "# `ColumnTransformer` 클래스의 사용법입니다.\n",
        "# 이름, 변환기 객체, 변환이 적용될 열 차례로 지정합니다.\n",
        "# 열은 열 이름이나 정수 인덱스, 불리언 마스크(넘파이 배열의 경우)로 선택합니다.\n",
        "# 열이 변환되면 변환 결과는 나란히 합쳐집니다.\n",
        "# 혼동을 피하고자 코드를 길게 늘어뜨렸습니다.\n",
        "ct = ColumnTransformer(\n",
        "    [('Scaling', StandardScaler(), ['age', 'hours-per-week']),\n",
        "     ('onehot', OneHotEncoder(sparse=False), ['workclass', 'education', 'gender', 'occupation'])])"
      ],
      "execution_count": 16,
      "outputs": []
    },
    {
      "cell_type": "markdown",
      "metadata": {
        "id": "hIU7ngecdDO1"
      },
      "source": [
        "`ColumnTransformer` 클래스도 `fit`과 `transform` 메서드를 가집니다. 다음 코드에서 이 메서드들을 사용하여 선형 모델을 생성합니다. 이번에는 연속형 변수의 스케일을 조정합니다. `train_test_split` 함수에 데이터프레임도 전달할 수 있습니다. 열 이름은 `ColumnTransformer` 클래스에 필요하므로 보존합니다."
      ]
    },
    {
      "cell_type": "code",
      "metadata": {
        "colab": {
          "base_uri": "https://localhost:8080/"
        },
        "id": "chtgp3uHdwaF",
        "outputId": "fd3a08d2-01c7-40b7-9a9b-267dc1d4b7f4"
      },
      "source": [
        "from sklearn.linear_model import LogisticRegression\n",
        "from sklearn.model_selection import train_test_split\n",
        "# 'income' 열을 제외하고 모든 열을 추출합니다.\n",
        "# 'data_features'는 데이터프레임입니다.\n",
        "data_features = data.drop('income', axis=1)\n",
        "# `train_test_split` 함수로 데이터프레임과 `income` 열(타깃값)을 분할합니다.\n",
        "# 'data_features'는 데이터프레임이므로\n",
        "# 'X_train', 'X_test'도 데이터프레임입니다.\n",
        "# 'y_train', 'y_test', 'data.income' 또한\n",
        "# (데이터프레임(DataFrame)의 열을 나타내는)Series 객체입니다.\n",
        "X_train, X_test, y_train, y_test = train_test_split(\n",
        "    data_features, data.income, random_state=0)\n",
        "# `ColumnTransformer` 클래스에 훈련 데이터를 넣고 훈련시킵니다.\n",
        "ct.fit(X_train)\n",
        "X_train_trans = ct.transform(X_train)\n",
        "print(X_train_trans.shape)"
      ],
      "execution_count": 17,
      "outputs": [
        {
          "output_type": "stream",
          "text": [
            "(24420, 44)\n"
          ],
          "name": "stdout"
        }
      ]
    },
    {
      "cell_type": "markdown",
      "metadata": {
        "id": "WXBmgJf2ed89"
      },
      "source": [
        "`pd.get_dummies` 함수를 사용한 경우처럼 특성 44개가 생성됐습니다. 연속형 특성의 스케일을 조정했다는 점만 다릅니다. 이를 토대로 `LogisticRegression` 모델을 만듭니다."
      ]
    },
    {
      "cell_type": "code",
      "metadata": {
        "colab": {
          "base_uri": "https://localhost:8080/"
        },
        "id": "uXrr4q8ulouP",
        "outputId": "f94bab7f-2033-47f6-b310-1e33fbcf2994"
      },
      "source": [
        "logreg = LogisticRegression(max_iter=1000)\n",
        "logreg.fit(X_train_trans, y_train)\n",
        "\n",
        "X_test_trans = ct.transform(X_test)\n",
        "print('테스트 점수: {:.2f}'.format(logreg.score(X_test_trans, y_test)))"
      ],
      "execution_count": 18,
      "outputs": [
        {
          "output_type": "stream",
          "text": [
            "테스트 점수: 0.81\n"
          ],
          "name": "stdout"
        }
      ]
    },
    {
      "cell_type": "markdown",
      "metadata": {
        "id": "lWWvyi-3myTb"
      },
      "source": [
        "위에서 출력했던 테스트 점수인 0.81과 같은 결괏값입니다. 데이터 스케일이 영향을 미치지 못했다고 볼 수 있습니다."
      ]
    },
    {
      "cell_type": "markdown",
      "metadata": {
        "id": "grA_PCIEnLOu"
      },
      "source": [
        "`named_transformers_` 속성을 사용하여 `ColumnTransformer` 클래스의 단계를 확인합니다."
      ]
    },
    {
      "cell_type": "code",
      "metadata": {
        "colab": {
          "base_uri": "https://localhost:8080/"
        },
        "id": "5wh-USDkncWl",
        "outputId": "ef508243-4952-4c62-a0d4-f7f8595a0357"
      },
      "source": [
        "print(ct.named_transformers_.Scaling)\n",
        "print(ct.named_transformers_.onehot)"
      ],
      "execution_count": 19,
      "outputs": [
        {
          "output_type": "stream",
          "text": [
            "StandardScaler(copy=True, with_mean=True, with_std=True)\n",
            "OneHotEncoder(categories='auto', drop=None, dtype=<class 'numpy.float64'>,\n",
            "              handle_unknown='error', sparse=False)\n"
          ],
          "name": "stdout"
        }
      ]
    },
    {
      "cell_type": "markdown",
      "metadata": {
        "id": "7CKB7mp0KBZD"
      },
      "source": [
        "# 4.3 make_column_transformer로 간편하게 ColumnTransformer 만들기\n",
        "\n",
        "앞에서 설명한 방법대로 `ColumnTransformer`를 만들 때 각 단계 이름을 일일이 지정할 필요가 없는 경우가 많습니다. 이 경우에는 `make_column_transformer` 함수를 사용해서 자동으로 각 단계에 이름을 붙여주면 편리합니다."
      ]
    },
    {
      "cell_type": "markdown",
      "metadata": {
        "id": "G5iFDe1nK4IR"
      },
      "source": [
        "`make_column_transformer` 함수를 사용하는 방법을 살핍니다."
      ]
    },
    {
      "cell_type": "code",
      "metadata": {
        "id": "XsdZoZtPLEQk"
      },
      "source": [
        "from sklearn.compose import make_column_transformer\n",
        "\n",
        "ct = make_column_transformer(\n",
        "    (StandardScaler(), ['age', 'hours-per-week']),\n",
        "    (OneHotEncoder(sparse=False), ['workclass', 'education', 'gender', 'occupation']))"
      ],
      "execution_count": 27,
      "outputs": []
    },
    {
      "cell_type": "markdown",
      "metadata": {
        "id": "byV852igKBRL"
      },
      "source": [
        "# 4,4 구간 분할, 이산화 그리고 선형 모델, 트리 모델\n",
        "\n",
        "데이터를 잘 표현하는 방법은 데이타가 가진 의미뿐 아니라 어떤 모델을 사용하는지에 따라 다릅니다. 많이 사용하는 선형 모델과 트리 기반 모델들은 특성의 표현 방식으로 미치는 영향이 매우 다릅니다."
      ]
    },
    {
      "cell_type": "markdown",
      "metadata": {
        "id": "Wwqbio1NHCCZ"
      },
      "source": [
        "2장에서 사용했던 wave 데이터셋으로 선형 회귀 모델과 결정 트리 회귀를 비교합니다. 이 데이터에는 입력 특성이 하나입니다."
      ]
    },
    {
      "cell_type": "code",
      "metadata": {
        "colab": {
          "base_uri": "https://localhost:8080/",
          "height": 297
        },
        "id": "HZyoSWrvHQr4",
        "outputId": "5024d3de-06ef-46e6-d4fd-bdc4a43ae2d2"
      },
      "source": [
        "from sklearn.linear_model import LinearRegression\n",
        "from sklearn.tree import DecisionTreeRegressor\n",
        "\n",
        "X, y = mglearn.datasets.make_wave(n_samples=120)\n",
        "line = np.linspace(-3, 3, 1000, endpoint=False).reshape(-1, 1)\n",
        "\n",
        "reg = DecisionTreeRegressor(min_samples_leaf=3).fit(X, y)\n",
        "plt.plot(line, reg.predict(line), label='DicisionTree')\n",
        "\n",
        "reg = LinearRegression().fit(X, y)\n",
        "plt.plot(line, reg.predict(line), '--', label='LinearRegression')\n",
        "\n",
        "plt.plot(X[:, 0], y, 'o', c='k')\n",
        "plt.xlabel('regression output')\n",
        "plt.ylabel('input features')\n",
        "plt.legend(loc='best')"
      ],
      "execution_count": 25,
      "outputs": [
        {
          "output_type": "execute_result",
          "data": {
            "text/plain": [
              "<matplotlib.legend.Legend at 0x7f6ab1aec950>"
            ]
          },
          "metadata": {},
          "execution_count": 25
        },
        {
          "output_type": "display_data",
          "data": {
            "image/png": "[encoded data removed]",
            "text/plain": [
              "<Figure size 432x288 with 1 Axes>"
            ]
          },
          "metadata": {
            "needs_background": "light"
          }
        }
      ]
    },
    {
      "cell_type": "markdown",
      "metadata": {
        "id": "QD1BQ4gNJxJE"
      },
      "source": [
        "선형 모델은 선형 관계로만 모델링을 하므로 특성이 하나일 땐 직선 형태입니다. 결정 트리는 데이터로 훨씬 복잡한 모델을 만들 수 있습니다. 그러나 데이터의 표현 형태에 따라 굉장히 달라집니다.\n",
        "\n",
        "연속형 데이터에 아주 강력한 선형 모델을 만드는 방법 중에 하나는 한 특성을 여러 특성으로 나누는 '구간 분할(bining)(=이산화)'입니다. 만약 이 특성의 입력값 범위(-3~3)가 나뉘어 10개 구간으로 되어있다고 가정하면, 각 샘플이 속하는 해당 구간을 나타낼 수 있습니다. \n",
        "\n",
        "구간의 경계를 정의하는 여러 방법이 존재합니다. 예컨대 구간의 경계 간의 거리를 같게 하거나 데이터의 분위를 사용할 수 있습니다. 데이터가 많은 구간은 좁습니다. `KBinsDiscretizer` 클래스에 이 방법들이 구현되어 있습니다."
      ]
    },
    {
      "cell_type": "code",
      "metadata": {
        "colab": {
          "base_uri": "https://localhost:8080/"
        },
        "id": "UMKdMMlXOllD",
        "outputId": "8d66ed6b-54ef-4b0e-910a-92e39afafc4e"
      },
      "source": [
        "from sklearn.preprocessing import KBinsDiscretizer\n",
        "\n",
        "# `n_bins` 매개변수에 10을 지정하여 구간 10개를 만듭니다.\n",
        "kb = KBinsDiscretizer(n_bins=10, strategy='uniform')\n",
        "kb.fit(X)\n",
        "# `bin_edges_` 속성에는 특성별 경계값이 (리스트가 아닌)1차원 넘파이 배열로 저장되어 있습니다.\n",
        "print('bin edges: \\n', kb.bin_edges_)"
      ],
      "execution_count": 29,
      "outputs": [
        {
          "output_type": "stream",
          "text": [
            "bin edges: \n",
            " [array([-2.9668673 , -2.37804841, -1.78922951, -1.20041062, -0.61159173,\n",
            "       -0.02277284,  0.56604605,  1.15486494,  1.74368384,  2.33250273,\n",
            "        2.92132162])]\n"
          ],
          "name": "stdout"
        }
      ]
    },
    {
      "cell_type": "markdown",
      "metadata": {
        "id": "QLlX9Ji0Pp89"
      },
      "source": [
        "값이 11개가 출력됐습니다. 10개 특성의 사이값을 나타내므로 1개가 더 출력된 것입니다. 첫 번째 구간에는 특성 값이 -2.967~-2.378인 모든 샘플이 위치합니다. 이런식으로 모든 구간의 값에 해당하는 샘플들이 위치합니다. "
      ]
    },
    {
      "cell_type": "markdown",
      "metadata": {
        "id": "d77YCmkhRKUu"
      },
      "source": [
        "`transform` 메서드를 사용하면 각 샘플을 해당되는 구간으로 인코딩 합니다. `KBinsDiscretizer` 클래스는 기본적으로 구간에 원-핫-인코딩을 적용합니다. 구간마다 새로운 특성 하나가 생기므로 희소 행렬을 만듭니다. 구간 10개를 지정했으므로 변환된 데이터는 특성이 10개인 10차원입니다."
      ]
    },
    {
      "cell_type": "code",
      "metadata": {
        "colab": {
          "base_uri": "https://localhost:8080/"
        },
        "id": "w6xBZR_jRezT",
        "outputId": "75c0da16-a000-49f5-9c75-0a4b0f3404ac"
      },
      "source": [
        "X_binned = kb.transform(X)\n",
        "# 희소 행렬을 출력하려면 .shape를 지우고 셀을 실행합니다.\n",
        "print(X_binned.shape)"
      ],
      "execution_count": 33,
      "outputs": [
        {
          "output_type": "stream",
          "text": [
            "(120, 10)\n"
          ],
          "name": "stdout"
        }
      ]
    },
    {
      "cell_type": "markdown",
      "metadata": {
        "id": "uXpm6quDNo_y"
      },
      "source": [
        "# 4.5 상호작용과 다항식"
      ]
    },
    {
      "cell_type": "markdown",
      "metadata": {
        "id": "fuwQkrSLNo9b"
      },
      "source": [
        "# 4.6 일변량 비선형 변환"
      ]
    },
    {
      "cell_type": "markdown",
      "metadata": {
        "id": "mY3F4iRoNo66"
      },
      "source": [
        "# 4.7 특성 자동 선택"
      ]
    },
    {
      "cell_type": "markdown",
      "metadata": {
        "id": "xOARBC38NotZ"
      },
      "source": [
        "## 4.7.1 일변량 통계"
      ]
    },
    {
      "cell_type": "markdown",
      "metadata": {
        "id": "w90ZPEsTPKrl"
      },
      "source": [
        "## 4.7.2 모델 기반 특성 선택"
      ]
    },
    {
      "cell_type": "markdown",
      "metadata": {
        "id": "kK5DxxI9PKpr"
      },
      "source": [
        "## 4.7.3 반복적 특성 선택"
      ]
    },
    {
      "cell_type": "markdown",
      "metadata": {
        "id": "1TA9gBuJPKnp"
      },
      "source": [
        "# 4.8 전문가 지식 활용"
      ]
    },
    {
      "cell_type": "markdown",
      "metadata": {
        "id": "LiHx224FPKl3"
      },
      "source": [
        "# 4.9 요약 및 정리"
      ]
    }
  ]
}