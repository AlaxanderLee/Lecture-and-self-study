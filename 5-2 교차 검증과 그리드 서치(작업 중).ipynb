{
  "nbformat": 4,
  "nbformat_minor": 0,
  "metadata": {
    "colab": {
      "name": "5-2 교차 검증과 그리드 서치(작업 중).ipynb",
      "provenance": [],
      "collapsed_sections": [],
      "toc_visible": true,
      "authorship_tag": "ABX9TyOSRpZvPnC45zTpibOY0IJb",
      "include_colab_link": true
    },
    "kernelspec": {
      "name": "python3",
      "display_name": "Python 3"
    },
    "language_info": {
      "name": "python"
    }
  },
  "cells": [
    {
      "cell_type": "markdown",
      "metadata": {
        "id": "view-in-github",
        "colab_type": "text"
      },
      "source": [
        "<a href=\"https://colab.research.google.com/github/LeeSeungwon89/Lecture-and-self-study/blob/master/5-2%20%EA%B5%90%EC%B0%A8%20%EA%B2%80%EC%A6%9D%EA%B3%BC%20%EA%B7%B8%EB%A6%AC%EB%93%9C%20%EC%84%9C%EC%B9%98(%EC%9E%91%EC%97%85%20%EC%A4%91).ipynb\" target=\"_parent\"><img src=\"https://colab.research.google.com/assets/colab-badge.svg\" alt=\"Open In Colab\"/></a>"
      ]
    },
    {
      "cell_type": "markdown",
      "metadata": {
        "id": "3sMkg63Prk6n"
      },
      "source": [
        "# 교차 검증과 그리드 서치"
      ]
    },
    {
      "cell_type": "markdown",
      "metadata": {
        "id": "6sp6tBFUYPFt"
      },
      "source": [
        "## 데이터 준비"
      ]
    },
    {
      "cell_type": "code",
      "metadata": {
        "colab": {
          "base_uri": "https://localhost:8080/"
        },
        "id": "V78plGUlYQ54",
        "outputId": "281ed664-6c7a-4f7d-a5a3-6472bd9b5669"
      },
      "source": [
        "import pandas as pd\n",
        "\n",
        "wine = pd.read_csv('https://bit.ly/wine_csv_data')\n",
        "print(wine)\n",
        "\n",
        "data = wine[['alcohol', 'sugar', 'pH']].to_numpy()\n",
        "target = wine['class'].to_numpy()\n",
        "print(data, target)"
      ],
      "execution_count": 1,
      "outputs": [
        {
          "output_type": "stream",
          "text": [
            "      alcohol  sugar    pH  class\n",
            "0         9.4    1.9  3.51    0.0\n",
            "1         9.8    2.6  3.20    0.0\n",
            "2         9.8    2.3  3.26    0.0\n",
            "3         9.8    1.9  3.16    0.0\n",
            "4         9.4    1.9  3.51    0.0\n",
            "...       ...    ...   ...    ...\n",
            "6492     11.2    1.6  3.27    1.0\n",
            "6493      9.6    8.0  3.15    1.0\n",
            "6494      9.4    1.2  2.99    1.0\n",
            "6495     12.8    1.1  3.34    1.0\n",
            "6496     11.8    0.8  3.26    1.0\n",
            "\n",
            "[6497 rows x 4 columns]\n",
            "[[ 9.4   1.9   3.51]\n",
            " [ 9.8   2.6   3.2 ]\n",
            " [ 9.8   2.3   3.26]\n",
            " ...\n",
            " [ 9.4   1.2   2.99]\n",
            " [12.8   1.1   3.34]\n",
            " [11.8   0.8   3.26]] [0. 0. 0. ... 1. 1. 1.]\n"
          ],
          "name": "stdout"
        }
      ]
    },
    {
      "cell_type": "code",
      "metadata": {
        "colab": {
          "base_uri": "https://localhost:8080/"
        },
        "id": "q7gi5n2AYVpC",
        "outputId": "e4c2b356-af70-41e2-e73b-d4ea19f9c651"
      },
      "source": [
        "# 훈련 세트와 테스트 세트로 나눔.\n",
        "from sklearn.model_selection import train_test_split\n",
        "\n",
        "train_input, test_input, train_target, test_target = train_test_split(data, target, test_size = 0.2, random_state = 42)\n",
        "print(train_input.shape, test_input.shape)"
      ],
      "execution_count": 2,
      "outputs": [
        {
          "output_type": "stream",
          "text": [
            "(5197, 3) (1300, 3)\n"
          ],
          "name": "stdout"
        }
      ]
    },
    {
      "cell_type": "markdown",
      "metadata": {
        "id": "F_3IOcZaroDX"
      },
      "source": [
        "## 검증 세트\n",
        "\n",
        "- 현재까지는 훈련 세트로 모델을 훈련하고 테스트 세트로 모델을 평가했음. 그러나 테스트 세트만으로 계속 성능을 확인하다 보면 점점 테스트 세트에 일반화 성능을 맞추게 되는 셈임.\n",
        "\n",
        "- 테스트 세트로 일반화 성능을 올바르게 예측하려면 모델을 만들고 나서 마지막에 딱 한 번만 사용하는 것이 좋음.\n",
        "\n",
        "- 그러나 테스트 세트를 사용하지 않으면 모델이 과대적합인지 과소적합인지 판단하기 어려움. 테스트 세트를 사용하지 않고 측정하는 방법은 훈련 세트를 또 나누는 것임. 이 데이터를 '검증 세트(validation set)' 라고 부름. 실제로 많이 사용하는 방법임.\n",
        "\n",
        " 1. 훈련 세트 80%, 테스트 세트 20%로 나누고 훈련 세트에서 다시 20%를 떼서 검증 세트로 만드는 식임. 보통 테스트 세트와 검증 세트를 20 ~ 30%만큼 떼지만, 훈련 세트가 아주 많다면 몇 %만 떼어 놓아도 전체 데이터를 대표하는 데 문제가 없음.\n",
        "\n",
        " 1. 훈련 세트로 모델을 훈련한 후 검증 세트로 모델을 평가함. 이런 방식으로 테스트 하고자 하는 매개변수를 바꿔가며 가장 좋은 모델을 고름. 그리고 나서 이 매개변수를 사용하여 훈련 세트와 검증 세트를 합친 전체 훈련 데이터로 모델을 다시 훈련함.\n",
        "\n",
        " 1. 마지막에 테스트 세트로 최종 점수를 평가함. 실전에서 테스트 세트 점수와 비슷한 성능을 기대할 수 있음."
      ]
    },
    {
      "cell_type": "markdown",
      "metadata": {
        "id": "tVL1S_zhRpRX"
      },
      "source": [
        "### 검증 세트 만들기"
      ]
    },
    {
      "cell_type": "code",
      "metadata": {
        "colab": {
          "base_uri": "https://localhost:8080/"
        },
        "id": "sPqeSIIYQ8CX",
        "outputId": "f4493f2a-9b2b-4b0e-9968-b2f356c771ba"
      },
      "source": [
        "# train_input과 train_target을 다시 train_test_split() 함수에 넣어서,\n",
        "# 훈련 세트를 sub_input, sub_target으로 만들고,\n",
        "# 검증 세트를 val_input, val_target으로 만듦.\n",
        "sub_input, val_input, sub_target, val_target = train_test_split(train_input, train_target, test_size = 0.2, random_state = 42)\n",
        "print(sub_input.shape, val_input.shape)\n",
        "# 훈련 세트의 샘플 5197개를 나눠서 훈련 세트 80%와 검증 세트 20%로 만들었음."
      ],
      "execution_count": 3,
      "outputs": [
        {
          "output_type": "stream",
          "text": [
            "(4157, 3) (1040, 3)\n"
          ],
          "name": "stdout"
        }
      ]
    },
    {
      "cell_type": "markdown",
      "metadata": {
        "id": "t5yEYx0ySNvv"
      },
      "source": [
        "### 결정 트리 모델 만들기"
      ]
    },
    {
      "cell_type": "code",
      "metadata": {
        "colab": {
          "base_uri": "https://localhost:8080/"
        },
        "id": "Tyft5M_hSNEX",
        "outputId": "28e8bbac-8d5c-48ad-b5f3-d9d645abd0d0"
      },
      "source": [
        "# 훈련 세트와 검증 세트로 결정 트리 모델을 훈련함.\n",
        "from sklearn.tree import DecisionTreeClassifier\n",
        "\n",
        "dt = DecisionTreeClassifier(random_state = 42)\n",
        "\n",
        "dt.fit(sub_input, sub_target)\n",
        "\n",
        "print(dt.score(sub_input, sub_target))\n",
        "print(dt.score(val_input, val_target))\n",
        "# 과대적합 된 상태이므로 매개변수를 바꿔서 더 좋은 모델을 찾아야 함."
      ],
      "execution_count": 4,
      "outputs": [
        {
          "output_type": "stream",
          "text": [
            "0.9971133028626413\n",
            "0.864423076923077\n"
          ],
          "name": "stdout"
        }
      ]
    },
    {
      "cell_type": "markdown",
      "metadata": {
        "id": "Aq-dr1g2S6xh"
      },
      "source": [
        "## 교차 검증\n",
        "\n",
        "- 검증 세트를 만드느라 훈련 세트의 총량이 줄었음. 보통 많은 데이터를 훈련에 사용할수록 좋은 모델이 만들어지지만, 그렇다고 검증 세트를 너무 조금 떼면 검증 점수가 불안정할 것임. 이런 경우에 '교차 검증(cross validation)' 을 이용하면 안정적인 검증 점수를 얻고 훈련에 더 많은 데이터를 사용할 수 있음.\n",
        "\n",
        " 1. 검증 세트를 떼서 평가하는 과정을 여러번 반복함.\n",
        " \n",
        " 1. 마지막으로 이 점수들을 평균하여 최종 검증 점수를 얻음.\n",
        "\n",
        "- k-폴드(겹) 교차 검증(k-fold cross validation): 훈련 세트를 k만큼 부분으로 나눠서 교차 검증을 수행하는 방법. 보통 5나 10으로 나누는 5-폴드 교차 검증, 10-폴드 교차 검증을 많이 사용함. 이렇게 하면 데이터의 80 ~ 90%까지 훈련에 사용할 수 있음. 검증 세트는 줄지만 각 폴드에서 계산한 검증 점수를 평균하기 때문에 안정된 점수로 판단할 수 있음.\n",
        "\n",
        "- 3-폴드 교차 검증을 예로 들면 아래처럼 훈련 세트를 세 부분으로 나누고, 훈련 세트로는 모델을 훈련하고, 검증 세트로는 모델을 평가함.\n",
        "\n",
        " 1. 훈련 세트, 훈련 세트, 검증 세트\n",
        " \n",
        " 1. 훈련 세트, 검증 세트, 훈련 세트\n",
        " \n",
        " 1. 검증 세트, 훈련 세트, 훈련 세트"
      ]
    },
    {
      "cell_type": "code",
      "metadata": {
        "colab": {
          "base_uri": "https://localhost:8080/"
        },
        "id": "v2Y7W6zyS55v",
        "outputId": "e4fbe8b5-ac60-4e26-dde3-5c2ffb86fd3b"
      },
      "source": [
        "# 'cross_validate()' 함수를 사용하여 교차 검증을 실시함. \n",
        "# 먼저 평가할 모델 객체(결정 트리를 의미하는 dt)를 첫 번째 매개변수로 전달하고,\n",
        "# 직접 검증 세트를 떼지 않고 훈련 세트 전체를 두 세 번째 매개변수에 전달함.\n",
        "# 'cv' 매개변수에서 폴드 수를 지정함. 기본값은 5.\n",
        "from sklearn.model_selection import cross_validate\n",
        "\n",
        "scores = cross_validate(dt, train_input, train_target)\n",
        "print(scores)\n",
        "# 'fit_time', 'score_time', 'test_score' 키를 가진 딕셔너리를 반환함.\n",
        "# fit_time: 훈련하는 시간.\n",
        "# score_time: 검증하는 시간.\n",
        "# test_score: 검증 폴드의 점수. 출력된 점수 5개를 평균하여 교차 검증의 최종 점수를 얻을 수 있음."
      ],
      "execution_count": 5,
      "outputs": [
        {
          "output_type": "stream",
          "text": [
            "{'fit_time': array([0.00693226, 0.00658846, 0.00682378, 0.0067122 , 0.00648093]), 'score_time': array([0.0007329 , 0.00069785, 0.00062466, 0.00063729, 0.00064087]), 'test_score': array([0.86923077, 0.84615385, 0.87680462, 0.84889317, 0.83541867])}\n"
          ],
          "name": "stdout"
        }
      ]
    },
    {
      "cell_type": "markdown",
      "metadata": {
        "id": "N313XVCqb_y9"
      },
      "source": [
        "### 최상의 검증 점수 확인하기"
      ]
    },
    {
      "cell_type": "code",
      "metadata": {
        "colab": {
          "base_uri": "https://localhost:8080/"
        },
        "id": "Ds6Ba7yTa5l9",
        "outputId": "f9f1af5e-db0e-4a70-8523-29c9b992d04c"
      },
      "source": [
        "# 'test_score' 의 점수 5개를 평균하여 교차 검증의 최상의 점수를 확인함.\n",
        "import numpy as np\n",
        "\n",
        "print(np.mean(scores['test_score']))"
      ],
      "execution_count": 6,
      "outputs": [
        {
          "output_type": "stream",
          "text": [
            "0.855300214703487\n"
          ],
          "name": "stdout"
        }
      ]
    },
    {
      "cell_type": "markdown",
      "metadata": {
        "id": "bgx7ByWTIz9l"
      },
      "source": [
        "### 분할기로 폴드 나누기"
      ]
    },
    {
      "cell_type": "code",
      "metadata": {
        "id": "7lBQRtZGcsgL",
        "colab": {
          "base_uri": "https://localhost:8080/"
        },
        "outputId": "ee76d1d3-1142-4449-b220-07f773d66c75"
      },
      "source": [
        "# 위에서 'train_test_split()' 함수로 전체 데이터를 섞었지만\n",
        "# 본래 'cross_validate()' 함수는 훈련 세트를 섞고 폴드를 나누지 않음.\n",
        "# 따라서 교차 검증을 할 때 훈련 세트를 섞으려면 'cv' 매개변수에 '분할기(splitter)' 를 지정해야 함.\n",
        "# 분할기는 교차 검증에서 폴드를 어떻게 나눌지 결정하며,\n",
        "# 회귀 모델일 경우 'KFold분할기' 를 사용하고,\n",
        "# 분류 모델일 경우 'StratifiedKFold' 를 사용함.\n",
        "# 즉 앞서 수행한 교차 검증은 아래처럼 표현함.\n",
        "from sklearn.model_selection import StratifiedKFold\n",
        "\n",
        "scores = cross_validate(dt, train_input, train_target, cv = StratifiedKFold())\n",
        "print(np.mean(scores['test_score']))"
      ],
      "execution_count": 9,
      "outputs": [
        {
          "output_type": "stream",
          "text": [
            "0.855300214703487\n"
          ],
          "name": "stdout"
        }
      ]
    },
    {
      "cell_type": "code",
      "metadata": {
        "colab": {
          "base_uri": "https://localhost:8080/"
        },
        "id": "aWaHSF-BGFfk",
        "outputId": "75f296ef-9d15-4b4e-c14e-ed1187f4ecaa"
      },
      "source": [
        "# 훈련 세트를 섞은 후 '10-폴드 교차 검증' 을 수행함.\n",
        "splitter = StratifiedKFold(n_splits = 10, shuffle = True, random_state = 42)\n",
        "# n_splits: 훈련 세트를 몇 부분으로 나눌지 결정하는 매개변수. 몇(k) 폴드 교차 검증을 할지 결정함. 기본값은 5.\n",
        "# shuffle: 세트의 샘플을 섞을지 결정하는 매개변수. 기본값은 False.\n",
        "\n",
        "scores = cross_validate(dt, train_input, train_target, cv = splitter)\n",
        "print(np.mean(scores['test_score']))\n",
        "# 'KFold' 클래스도 동일한 방식으로 사용함.\n",
        "# 5-폴드와 10-폴드의 차이가 크지 않음."
      ],
      "execution_count": 11,
      "outputs": [
        {
          "output_type": "stream",
          "text": [
            "0.8574181117533719\n"
          ],
          "name": "stdout"
        }
      ]
    },
    {
      "cell_type": "code",
      "metadata": {
        "id": "grZ3i6l0JC3p"
      },
      "source": [
        "정리 중.."
      ],
      "execution_count": null,
      "outputs": []
    }
  ]
}