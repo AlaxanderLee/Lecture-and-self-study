{
  "nbformat": 4,
  "nbformat_minor": 0,
  "metadata": {
    "colab": {
      "name": "5-2 교차 검증과 그리드 서치(작업 중).ipynb",
      "provenance": [],
      "toc_visible": true,
      "authorship_tag": "ABX9TyON53gejtvLicLbaUU84ue7",
      "include_colab_link": true
    },
    "kernelspec": {
      "name": "python3",
      "display_name": "Python 3"
    },
    "language_info": {
      "name": "python"
    }
  },
  "cells": [
    {
      "cell_type": "markdown",
      "metadata": {
        "id": "view-in-github",
        "colab_type": "text"
      },
      "source": [
        "<a href=\"https://colab.research.google.com/github/LeeSeungwon89/Lecture-and-self-study/blob/master/5-2%20%EA%B5%90%EC%B0%A8%20%EA%B2%80%EC%A6%9D%EA%B3%BC%20%EA%B7%B8%EB%A6%AC%EB%93%9C%20%EC%84%9C%EC%B9%98(%EC%9E%91%EC%97%85%20%EC%A4%91).ipynb\" target=\"_parent\"><img src=\"https://colab.research.google.com/assets/colab-badge.svg\" alt=\"Open In Colab\"/></a>"
      ]
    },
    {
      "cell_type": "markdown",
      "metadata": {
        "id": "3sMkg63Prk6n"
      },
      "source": [
        "# 교차 검증과 그리드 서치"
      ]
    },
    {
      "cell_type": "markdown",
      "metadata": {
        "id": "F_3IOcZaroDX"
      },
      "source": [
        "## 검증 세트"
      ]
    },
    {
      "cell_type": "code",
      "metadata": {
        "id": "jJif5Mx7re4Y"
      },
      "source": [
        ""
      ],
      "execution_count": null,
      "outputs": []
    }
  ]
}