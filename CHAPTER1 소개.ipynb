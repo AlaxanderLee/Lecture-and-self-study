{
  "nbformat": 4,
  "nbformat_minor": 0,
  "metadata": {
    "colab": {
      "name": "CHAPTER1 소개.ipynb",
      "provenance": [],
      "toc_visible": true,
      "authorship_tag": "ABX9TyOTc+zUngM/DkcfqpWavTSt",
      "include_colab_link": true
    },
    "kernelspec": {
      "name": "python3",
      "display_name": "Python 3"
    },
    "language_info": {
      "name": "python"
    }
  },
  "cells": [
    {
      "cell_type": "markdown",
      "metadata": {
        "id": "view-in-github",
        "colab_type": "text"
      },
      "source": [
        "<a href=\"https://colab.research.google.com/github/LeeSeungwon89/Lecture-and-self-study/blob/master/CHAPTER1%20%EC%86%8C%EA%B0%9C(%EA%B3%84%ED%9A%8D%20%EB%8B%A8%EA%B3%84).ipynb\" target=\"_parent\"><img src=\"https://colab.research.google.com/assets/colab-badge.svg\" alt=\"Open In Colab\"/></a>"
      ]
    },
    {
      "cell_type": "markdown",
      "metadata": {
        "id": "6iYdzJcd-Mb2"
      },
      "source": [
        "# 1.1 왜 머신러닝인가?"
      ]
    },
    {
      "cell_type": "markdown",
      "metadata": {
        "id": "FD4-zuDB-MY1"
      },
      "source": [
        "## 1.1.1 머신러닝으로 풀 수 있는 문제"
      ]
    },
    {
      "cell_type": "markdown",
      "metadata": {
        "id": "x3RDzJHF-MWF"
      },
      "source": [
        "## 1.1.2 문제와 데이터 이해하기"
      ]
    },
    {
      "cell_type": "markdown",
      "metadata": {
        "id": "gmPDKWcz-MTE"
      },
      "source": [
        "# 1.2 왜 파이썬인가?"
      ]
    },
    {
      "cell_type": "markdown",
      "metadata": {
        "id": "_FZJ5KLF-MQc"
      },
      "source": [
        "# 1.3 scikit-learn"
      ]
    },
    {
      "cell_type": "markdown",
      "metadata": {
        "id": "ygzMtJhX-MNV"
      },
      "source": [
        "## 1.3.1 scikit-learn 설치"
      ]
    },
    {
      "cell_type": "markdown",
      "metadata": {
        "id": "HQOtyrk7-MKF"
      },
      "source": [
        "# 1.4 필수 라이브러리와 도구들"
      ]
    },
    {
      "cell_type": "markdown",
      "metadata": {
        "id": "dUwJTtid-MCF"
      },
      "source": [
        "## 1.4.1 주피터 노트북"
      ]
    },
    {
      "cell_type": "markdown",
      "metadata": {
        "id": "TNKjrpXb_Koa"
      },
      "source": [
        "## 1.4.2 Numpy"
      ]
    },
    {
      "cell_type": "markdown",
      "metadata": {
        "id": "ROmZOtKn_L1J"
      },
      "source": [
        "## 1.4.3 Scipy"
      ]
    },
    {
      "cell_type": "markdown",
      "metadata": {
        "id": "lqRSITiL_Lys"
      },
      "source": [
        "## 1.4.4 matplotlib"
      ]
    },
    {
      "cell_type": "markdown",
      "metadata": {
        "id": "1vkMkTRZ_LwJ"
      },
      "source": [
        "## 1.4.5 pandas"
      ]
    },
    {
      "cell_type": "markdown",
      "metadata": {
        "id": "YpaUx8YA_Lty"
      },
      "source": [
        "## 1.4.6 mglearn"
      ]
    },
    {
      "cell_type": "markdown",
      "metadata": {
        "id": "XCmlzXkb_Lra"
      },
      "source": [
        "# 1.5 파이썬2 vs.파이썬3"
      ]
    },
    {
      "cell_type": "markdown",
      "metadata": {
        "id": "Bnk74gec_LpJ"
      },
      "source": [
        "# 1.6 이 책에서 사용하는 소프트웨어 버전"
      ]
    },
    {
      "cell_type": "markdown",
      "metadata": {
        "id": "L3FTgj8J_Lmy"
      },
      "source": [
        "# 1.7 첫 번째 애플리케이션: 붓꽃의 품종 분류"
      ]
    },
    {
      "cell_type": "markdown",
      "metadata": {
        "id": "IVJdg1DZ_LkK"
      },
      "source": [
        "## 1.7.1 데이터 적재"
      ]
    },
    {
      "cell_type": "markdown",
      "metadata": {
        "id": "I_4-aoK7_Lhp"
      },
      "source": [
        "## 1.7.2 성과 측정: 훈련 데이터와 테스트 데이터"
      ]
    },
    {
      "cell_type": "markdown",
      "metadata": {
        "id": "PmctCO-X_LD4"
      },
      "source": [
        "## 1.7.3 가장 먼저 할 일: 데이터 살펴보기"
      ]
    },
    {
      "cell_type": "markdown",
      "metadata": {
        "id": "7lpiCcHFAQ51"
      },
      "source": [
        "## 1.7.4 첫 번째 머신러닝 모델: k-최근접 이웃 알고리즘"
      ]
    },
    {
      "cell_type": "markdown",
      "metadata": {
        "id": "PBAZGHCuAQ1u"
      },
      "source": [
        "## 1.7.5 예측하기"
      ]
    },
    {
      "cell_type": "markdown",
      "metadata": {
        "id": "vUGckIwEAQxU"
      },
      "source": [
        "## 1.7.6 모델 평가하기"
      ]
    },
    {
      "cell_type": "markdown",
      "metadata": {
        "id": "FffQFNvcAQt8"
      },
      "source": [
        "# 1.8 요약 및 정리"
      ]
    }
  ]
}
