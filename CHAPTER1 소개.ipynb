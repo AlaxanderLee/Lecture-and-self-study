{
  "nbformat": 4,
  "nbformat_minor": 0,
  "metadata": {
    "colab": {
      "name": "CHAPTER1 소개.ipynb",
      "provenance": [],
      "collapsed_sections": [],
      "toc_visible": true,
      "authorship_tag": "ABX9TyPC8tOQrxEa87lcnGKWjjpA",
      "include_colab_link": true
    },
    "kernelspec": {
      "name": "python3",
      "display_name": "Python 3"
    },
    "language_info": {
      "name": "python"
    }
  },
  "cells": [
    {
      "cell_type": "markdown",
      "metadata": {
        "id": "view-in-github",
        "colab_type": "text"
      },
      "source": [
        "<a href=\"https://colab.research.google.com/github/LeeSeungwon89/Lecture-and-self-study/blob/master/CHAPTER1%20%EC%86%8C%EA%B0%9C.ipynb\" target=\"_parent\"><img src=\"https://colab.research.google.com/assets/colab-badge.svg\" alt=\"Open In Colab\"/></a>"
      ]
    },
    {
      "cell_type": "markdown",
      "metadata": {
        "id": "6iYdzJcd-Mb2"
      },
      "source": [
        "# 1.1 왜 머신러닝인가?\n",
        "\n",
        " 초창기 지능형 애플리케이션들은 데이터를 처리하고 사용자의 입력을 다루는 데 하드 코딩된 'if'와 'else' 명령을 사용하는 시스템이었음. 의심되는 메일을 스팸함으로 보내는 스팸 필터를 예로 들면 스팸으로 의심되는 단어들로 블랙리스트를 만들어 처리할 수 있었는데, 이 방식은 지능형 애플리케이션을 만들기 위해 '규칙 기반 전문가 시스템(rule-based expert system)'을 사용한 것임. 결정 규칙을 수동으로 만드는 것이 적합할 때도 있는데 이는 모델링 할 처리 과정을 사람이 잘 알고 있는 경우임. 다만 규칙을 만드는 데에는 두 가지 단점이 있음.\n",
        "\n",
        " 1. 결정에 필요한 로직은 한 분야나 작업에 국한됨. 작업이 조금만 변경되어도 전체 시스템을 다시 개발해야 할 수도 있음.\n",
        "\n",
        " 1. 규칙을 설계하려면 그 분야 전문가들이 내리는 결정 방식에 대해 잘 알아야 함.\n",
        "\n",
        "\n",
        " 얼굴 인식은 규칙을 직접 만드는 데 실패한 대표적인 예임. 컴퓨터가 인식하는 픽셀 방식이 사람이 얼굴을 인식하는 방식과 매우 달랐기 때문에 2001년 이전에는 풀 수 없는 문제였음. 그러나 머신러닝을 사용하여 알고리즘에 많은 얼굴 이미지를 제공해주면 얼굴을 특정하는 요소가 어떤 것인지 충분히 찾아낼 수 있음."
      ]
    },
    {
      "cell_type": "markdown",
      "metadata": {
        "id": "FD4-zuDB-MY1"
      },
      "source": [
        "## 1.1.1 머신러닝으로 풀 수 있는 문제\n",
        "\n",
        "<지도학습>\n",
        "\n",
        " 가장 많이 사용되는 머신러닝 알고리즘들은 이미 알려진 사례를 바탕으로 일반화 된 모델을 만들어 의사 결정 프로세스를 자동화 하는 것들임. 이 방식을 '지도 학습(supervised learning)'이라고 하며 사용자는 알고리즘에 입력과 기대되는 출력을 제공하고 알고리즘은 주어진 입력을 토대로 원하는 출력을 만드는 방법을 찾음. 이렇게 학습된 알고리즘은 새로운 입력이 주어지면 적절한 출력을 만들 수 있음.\n",
        "\n",
        " 스팸 분류 문제를 다시 예로 들면, 사용자는 머신러닝 알고리즘에 많은 이메일(입력)과 각 이메일의 스팸 여부(기대되는 출력)를 제공하면 이 알고리즘은 새로 들어온 이메일이 스팸인지 아닌지 예측할 수 있음.\n",
        "\n",
        " 즉 입력 데이터로부터 기대한 출력이 나오도록 알고리즘을 가르치는 것이므로 입력과 출력으로부터 학습하는 머신러닝 알고리즘들을 지도 학습 알고리즘이라고 함. 지도 학습에 대한 몇 가지 예를 들어봄.\n",
        "\n",
        "- 편지 봉투에 손으로 쓴 우편번호 숫자를 판별하기.\n",
        "\n",
        " - 입력은 손글씨를 스캔한 이미지, 출력은 우편번호 숫자임. 머신러닝 모델 구축에 쓸 데이터셋을 만들려면 많은 편지 봉투를 모아야 하며, 우편번호를 눈으로 확인해서 원하는 출력 값을 기록해야 함.\n",
        "\n",
        "- 의료 영상 이미지에 기반한 종양의 양성 여부 판단하기.\n",
        "\n",
        " - 입력은 이미지, 출력은 종양의 양성 여부임. 데이터셋을 만들려면 의료 영상 데이터베이스와 종양이 양성인지 악성인지 판단을 내리는 전문가 의견이 필요함. 경우에 따라선 종양이 악성인지 여부를 확인하기 위해 이미지 확인 외에 추가 분석이 필요할 수 있음.\n",
        "\n",
        "- 의심되는 신용카드 거래를 감지하기.\n",
        "\n",
        " - 입력은 신용카드 거래 내역, 출력은 부정 거래인지 여부임. 데이터셋을 만들려면 모든 거래 내역과 고객이 잘못된 거래라고 신고한 내역을 취합해야 함.\n",
        "\n",
        " <비지도 학습>\n",
        "\n",
        " 입력은 주어지지만 출력은 제공되지 않는 방식이며, 성공 사례는 많지만 비지도 학습을 이해하거나 평가하는 일은 쉽지 않음.\n",
        "\n",
        "- 블로그 글의 주제를 구분하기.\n",
        "\n",
        " - 많은 양의 텍스트 데이터를 요약하고 그 안에 담긴 핵심 주제를 찾고자 할 수 있음. 사전에 어떤 주제인지, 주제가 얼마나 많은지 모르기 때문에 출력 값을 준비할 수 없음.\n",
        "\n",
        "- 고객들을 취향이 비슷한 그룹으로 묶기.\n",
        "\n",
        " - 고객 데이터를 활용하여 어떤 고객들이 취향이 비슷한지 알고 싶거나, 비슷한 취향의 고객을 그룹으로 묶을 수 있음. 어떤 그룹이 있는지 얼마나 많은 그룹이 있는지 모르므로 출력을 가지고 있지 않은 셈임.\n",
        "\n",
        "- 비정상적인 웹사이트 접근을 탐지하기.\n",
        "\n",
        " - 일상적이지 않은 접근 패턴을 찾으면 부정행위나 버그를 구별하는 데 도움이 됨. 각각 비정상 패턴은 서로 많이 다를 수 있고 이미 가지고 있는 비정상 데이터도 없을 수 있음. 이런 경우 단지 웹 트래픽만 관찰할 수 있고 정상과 비정상인지 구별하기 어려우므로 비지도 학습 문제임."
      ]
    },
    {
      "cell_type": "markdown",
      "metadata": {
        "id": "x3RDzJHF-MWF"
      },
      "source": [
        "## 1.1.2 문제와 데이터 이해하기"
      ]
    },
    {
      "cell_type": "markdown",
      "metadata": {
        "id": "gmPDKWcz-MTE"
      },
      "source": [
        "# 1.2 왜 파이썬인가?"
      ]
    },
    {
      "cell_type": "markdown",
      "metadata": {
        "id": "_FZJ5KLF-MQc"
      },
      "source": [
        "# 1.3 scikit-learn"
      ]
    },
    {
      "cell_type": "markdown",
      "metadata": {
        "id": "ygzMtJhX-MNV"
      },
      "source": [
        "## 1.3.1 scikit-learn 설치"
      ]
    },
    {
      "cell_type": "markdown",
      "metadata": {
        "id": "HQOtyrk7-MKF"
      },
      "source": [
        "# 1.4 필수 라이브러리와 도구들"
      ]
    },
    {
      "cell_type": "markdown",
      "metadata": {
        "id": "dUwJTtid-MCF"
      },
      "source": [
        "## 1.4.1 주피터 노트북"
      ]
    },
    {
      "cell_type": "markdown",
      "metadata": {
        "id": "TNKjrpXb_Koa"
      },
      "source": [
        "## 1.4.2 Numpy"
      ]
    },
    {
      "cell_type": "markdown",
      "metadata": {
        "id": "ROmZOtKn_L1J"
      },
      "source": [
        "## 1.4.3 Scipy"
      ]
    },
    {
      "cell_type": "markdown",
      "metadata": {
        "id": "lqRSITiL_Lys"
      },
      "source": [
        "## 1.4.4 matplotlib"
      ]
    },
    {
      "cell_type": "markdown",
      "metadata": {
        "id": "1vkMkTRZ_LwJ"
      },
      "source": [
        "## 1.4.5 pandas"
      ]
    },
    {
      "cell_type": "markdown",
      "metadata": {
        "id": "YpaUx8YA_Lty"
      },
      "source": [
        "## 1.4.6 mglearn"
      ]
    },
    {
      "cell_type": "markdown",
      "metadata": {
        "id": "XCmlzXkb_Lra"
      },
      "source": [
        "# 1.5 파이썬2 vs.파이썬3"
      ]
    },
    {
      "cell_type": "markdown",
      "metadata": {
        "id": "Bnk74gec_LpJ"
      },
      "source": [
        "# 1.6 이 책에서 사용하는 소프트웨어 버전"
      ]
    },
    {
      "cell_type": "markdown",
      "metadata": {
        "id": "L3FTgj8J_Lmy"
      },
      "source": [
        "# 1.7 첫 번째 애플리케이션: 붓꽃의 품종 분류"
      ]
    },
    {
      "cell_type": "markdown",
      "metadata": {
        "id": "IVJdg1DZ_LkK"
      },
      "source": [
        "## 1.7.1 데이터 적재"
      ]
    },
    {
      "cell_type": "markdown",
      "metadata": {
        "id": "I_4-aoK7_Lhp"
      },
      "source": [
        "## 1.7.2 성과 측정: 훈련 데이터와 테스트 데이터"
      ]
    },
    {
      "cell_type": "markdown",
      "metadata": {
        "id": "PmctCO-X_LD4"
      },
      "source": [
        "## 1.7.3 가장 먼저 할 일: 데이터 살펴보기"
      ]
    },
    {
      "cell_type": "markdown",
      "metadata": {
        "id": "7lpiCcHFAQ51"
      },
      "source": [
        "## 1.7.4 첫 번째 머신러닝 모델: k-최근접 이웃 알고리즘"
      ]
    },
    {
      "cell_type": "markdown",
      "metadata": {
        "id": "PBAZGHCuAQ1u"
      },
      "source": [
        "## 1.7.5 예측하기"
      ]
    },
    {
      "cell_type": "markdown",
      "metadata": {
        "id": "vUGckIwEAQxU"
      },
      "source": [
        "## 1.7.6 모델 평가하기"
      ]
    },
    {
      "cell_type": "markdown",
      "metadata": {
        "id": "FffQFNvcAQt8"
      },
      "source": [
        "# 1.8 요약 및 정리"
      ]
    }
  ]
}