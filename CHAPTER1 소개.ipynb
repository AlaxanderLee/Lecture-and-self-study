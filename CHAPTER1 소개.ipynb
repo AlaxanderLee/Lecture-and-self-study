{
  "nbformat": 4,
  "nbformat_minor": 0,
  "metadata": {
    "colab": {
      "name": "CHAPTER1 소개.ipynb",
      "provenance": [],
      "collapsed_sections": [],
      "toc_visible": true,
      "authorship_tag": "ABX9TyNvb7XaVjSwuM7zVvhmC12P",
      "include_colab_link": true
    },
    "kernelspec": {
      "name": "python3",
      "display_name": "Python 3"
    },
    "language_info": {
      "name": "python"
    }
  },
  "cells": [
    {
      "cell_type": "markdown",
      "metadata": {
        "id": "view-in-github",
        "colab_type": "text"
      },
      "source": [
        "<a href=\"https://colab.research.google.com/github/LeeSeungwon89/Lecture-and-self-study/blob/master/CHAPTER1%20%EC%86%8C%EA%B0%9C.ipynb\" target=\"_parent\"><img src=\"https://colab.research.google.com/assets/colab-badge.svg\" alt=\"Open In Colab\"/></a>"
      ]
    },
    {
      "cell_type": "markdown",
      "metadata": {
        "id": "6iYdzJcd-Mb2"
      },
      "source": [
        "# 1.1 왜 머신러닝인가?\n",
        "\n",
        " 초창기 지능형 애플리케이션들은 데이터를 처리하고 사용자의 입력을 다루는 데 하드 코딩된 'if'와 'else' 명령을 사용하는 시스템이었음. 의심되는 메일을 스팸함으로 보내는 스팸 필터를 예로 들면 스팸으로 의심되는 단어들로 블랙리스트를 만들어 처리할 수 있었는데, 이 방식은 지능형 애플리케이션을 만들기 위해 '규칙 기반 전문가 시스템(rule-based expert system)'을 사용한 것임. 결정 규칙을 수동으로 만드는 것이 적합할 때도 있는데 이는 모델링 할 처리 과정을 사람이 잘 알고 있는 경우임. 다만 규칙을 만드는 데에는 두 가지 단점이 있음.\n",
        "\n",
        " 1. 결정에 필요한 로직은 한 분야나 작업에 국한됨. 작업이 조금만 변경되어도 전체 시스템을 다시 개발해야 할 수도 있음.\n",
        "\n",
        " 1. 규칙을 설계하려면 그 분야 전문가들이 내리는 결정 방식에 대해 잘 알아야 함.\n",
        "\n",
        "\n",
        " 얼굴 인식은 규칙을 직접 만드는 데 실패한 대표적인 예임. 컴퓨터가 인식하는 픽셀 방식이 사람이 얼굴을 인식하는 방식과 매우 달랐기 때문에 2001년 이전에는 풀 수 없는 문제였음. 그러나 머신러닝을 사용하여 알고리즘에 많은 얼굴 이미지를 제공해주면 얼굴을 특정하는 요소가 어떤 것인지 충분히 찾아낼 수 있음."
      ]
    },
    {
      "cell_type": "markdown",
      "metadata": {
        "id": "FD4-zuDB-MY1"
      },
      "source": [
        "## 1.1.1 머신러닝으로 풀 수 있는 문제\n",
        "\n",
        "\n",
        "< 지도학습 >\n",
        "\n",
        " 가장 많이 사용되는 머신러닝 알고리즘들은 이미 알려진 사례를 바탕으로 일반화 된 모델을 만들어 의사 결정 프로세스를 자동화 하는 것들임. 이 방식을 '지도 학습(supervised learning)'이라고 하며 사용자는 알고리즘에 입력과 기대되는 출력을 제공하고 알고리즘은 주어진 입력을 토대로 원하는 출력을 만드는 방법을 찾음. 이렇게 학습된 알고리즘은 새로운 입력이 주어지면 적절한 출력을 만들 수 있음.\n",
        "\n",
        " 스팸 분류 문제를 다시 예로 들면, 사용자는 머신러닝 알고리즘에 많은 이메일(입력)과 각 이메일의 스팸 여부(기대되는 출력)를 제공하면 이 알고리즘은 새로 들어온 이메일이 스팸인지 아닌지 예측할 수 있음.\n",
        "\n",
        " 즉 입력 데이터로부터 기대한 출력이 나오도록 알고리즘을 가르치는 것이므로 입력과 출력으로부터 학습하는 머신러닝 알고리즘들을 지도 학습 알고리즘이라고 함. 지도 학습에 대한 몇 가지 예를 들어봄.\n",
        "\n",
        "- 편지 봉투에 손으로 쓴 우편번호 숫자를 판별하기.\n",
        "\n",
        " - 입력은 손글씨를 스캔한 이미지, 출력은 우편번호 숫자임. 머신러닝 모델 구축에 쓸 데이터셋을 만들려면 많은 편지 봉투를 모아야 하며, 우편번호를 눈으로 확인해서 원하는 출력 값을 기록해야 함.\n",
        "\n",
        "- 의료 영상 이미지에 기반한 종양의 양성 여부 판단하기.\n",
        "\n",
        " - 입력은 이미지, 출력은 종양의 양성 여부임. 데이터셋을 만들려면 의료 영상 데이터베이스와 종양이 양성인지 악성인지 판단을 내리는 전문가 의견이 필요함. 경우에 따라선 종양이 악성인지 여부를 확인하기 위해 이미지 확인 외에 추가 분석이 필요할 수 있음.\n",
        "\n",
        "- 의심되는 신용카드 거래를 감지하기.\n",
        "\n",
        " - 입력은 신용카드 거래 내역, 출력은 부정 거래인지 여부임. 데이터셋을 만들려면 모든 거래 내역과 고객이 잘못된 거래라고 신고한 내역을 취합해야 함.\n",
        "\n",
        "< 비지도 학습 >\n",
        "\n",
        " 입력은 주어지지만 출력은 제공되지 않는 방식이며, 성공 사례는 많지만 비지도 학습을 이해하거나 평가하는 일은 쉽지 않음.\n",
        "\n",
        "- 블로그 글의 주제를 구분하기.\n",
        "\n",
        " - 많은 양의 텍스트 데이터를 요약하고 그 안에 담긴 핵심 주제를 찾고자 할 수 있음. 사전에 어떤 주제인지, 주제가 얼마나 많은지 모르기 때문에 출력 값을 준비할 수 없음.\n",
        "\n",
        "- 고객들을 취향이 비슷한 그룹으로 묶기.\n",
        "\n",
        " - 고객 데이터를 활용하여 어떤 고객들이 취향이 비슷한지 알고 싶거나, 비슷한 취향의 고객을 그룹으로 묶을 수 있음. 어떤 그룹이 있는지 얼마나 많은 그룹이 있는지 모르므로 출력을 가지고 있지 않은 셈임.\n",
        "\n",
        "- 비정상적인 웹사이트 접근을 탐지하기.\n",
        "\n",
        " - 일상적이지 않은 접근 패턴을 찾으면 부정행위나 버그를 구별하는 데 도움이 됨. 각각 비정상 패턴은 서로 많이 다를 수 있고 이미 가지고 있는 비정상 데이터도 없을 수 있음. 이런 경우 단지 웹 트래픽만 관찰할 수 있고 정상과 비정상인지 구별하기 어려우므로 비지도 학습 문제임.\n",
        "\n",
        "지도 학습과 비지도 학습 모두 컴퓨터가 인식할 수 있는 형태로 입력 데이터를 준비해야 함. 엑셀 테이블처럼 생각하면 편리함. 판별해야 할 개개의 데이터(이메일, 고객, 거래)는 행이고, 데이터를 구성하는 각 속성(나이, 가격, 지역)은 열임.\n",
        "\n",
        "머신러닝에서는 하나의 개체 혹은 행을 '샘플(sample)' 또는 '데이터 포인트(data point)' 라고 부르며, 샘플의 속성 혹은 열을 '특성(feature)' 라고 부름."
      ]
    },
    {
      "cell_type": "markdown",
      "metadata": {
        "id": "x3RDzJHF-MWF"
      },
      "source": [
        "## 1.1.2 문제와 데이터 이해하기\n",
        "\n",
        " 머신러닝 프로세스에서 가장 중요한 과정은 사용할 데이터를 이해하고 그 데이터가 해결해야 할 문제와 어떤 관련이 있는지 이해하는 일임. 아무 알고리즘이나 선택해서 데이터를 입력하는 건 좋은 방법이 아님. 알고리즘마다 알맞은 데이터나 문제의 종류가 다르기 때문임. 머신러닝 솔루션을 만들 동안 아래 질문을 유념해야 함.\n",
        "\n",
        "- 어떤 질문에 대한 답을 원하는가? 가지고 있는 데이터가 원하는 답을 줄 수 있는가?\n",
        "\n",
        "- 생각한 질문을 머신러닝 문제로 가장 잘 기술하는 방법은 무엇인가?\n",
        "\n",
        "- 문제를 풀기에 충분한 데이터를 확보했는가?\n",
        "\n",
        "- 추출한 데이터의 특성은 무엇이며, 좋은 예측을 만들 수 있는가?\n",
        "\n",
        "- 머신러닝 애플리케이션의 성과를 어떻게 측정할 수 있는가?\n",
        "\n",
        "- 머신러닝 솔루션이 다른 연구나 제품과 어떻게 협력할 수 있는가?\n",
        "\n",
        "\n",
        " 넓은 시각으로 보면 머신러닝 알고리즘이나 방법론은 특정 문제를 푸는 전체 과정의 일부일 뿐임. 항상 전체 시스템에 대한 큰 그림을 그리고 있어야 함. 복잡한 머신러닝 솔루션을 구축하느라 오랜 시간을 투자한 후에야 문제를 풀기에 적절하지 않은 방법이라는 점을 깨달음. 머신러닝 모델을 구축하기 시작할 때 직간접적인 모든 가정을 세워야 함."
      ]
    },
    {
      "cell_type": "markdown",
      "metadata": {
        "id": "gmPDKWcz-MTE"
      },
      "source": [
        "# 1.2 왜 파이썬인가?\n",
        "\n",
        "'파이썬(Python)'은 데이터 과학 분야를 위한 표준 프로그래밍 언어가 된 지 오래이며, 범용 프로그래밍 언어의 장점은 물론 '매트랩(MATLAB)'과 'R' 같은 특정 분야를 위한 스크립팅 언어의 편리함을 함께 갖췄음. 데이터 적재, 시각화, 통계, 자연어 처리, 이미지 처리 등에 필요한 라이브러리를 가지고 있기도 하며, 터미널이나 '주피터 노트북(Jupyter Notebook)' 같은 도구로 대화하듯이 프로그래밍 할 수 있다는 점도 장점임. '그래픽 사용자 인터페이스(GUI)'나 웹 서비스도 만들 수 있고 기존 시스템과 통합하기도 좋음. 머신러닝과 데이터 분석은 데이터 주도 분석이라는 점에서 반복 작업이므로, 반복 작업을 빠르게 처리하고 손쉽게 조작할 수 있는 파이썬은 그야말로 필수 도구임. \n",
        "\n"
      ]
    },
    {
      "cell_type": "markdown",
      "metadata": {
        "id": "_FZJ5KLF-MQc"
      },
      "source": [
        "# 1.3 scikit-learn\n",
        "\n",
        "오픈 소스인 '사이킷런(scikit-learn)'은 모든 유저가 자유롭게 사용하거나 배포할 수 있고, 소스 코드를 보고 실제로 작동하는 메커니즘을 쉽게 확인할 수 있음. 매우 인기가 높고 독보적인 파이썬 머신러닝 라이브러리이며, 산업 현장이나 학계에서 널리 사용되고 많은 튜토리얼과 예제 코드를 온라인에서 쉽게 찾을 수 있음. 파이썬의 과학 패키지들과도 잘 연동됨. 관련 링크는 아래에 제시함.\n",
        "\n",
        "- [사이킷런 홈페이지 메인](https://scikit-learn.org/stable/documentation)\n",
        "\n",
        "- [사이킷런 사용자 가이드](https://scikit-learn.org/stable/user_guide.html)\n",
        "\n",
        "- [사이킷런 API](https://scikit-learn.org/stable/modules/classes.html)"
      ]
    },
    {
      "cell_type": "markdown",
      "metadata": {
        "id": "ygzMtJhX-MNV"
      },
      "source": [
        "## 1.3.1 scikit-learn 설치\n",
        "\n",
        "- 사이킷런은 두 개의 다른 파이썬 패키지인 '넘파이(Numpy)', '사이파이(Scipy)'를 사용함. 그래프를 그리려면 '맷플롯립(matplotlib)'을 사용하고, 대화식으로 개발하려면 '아이파이썬(IPython)'과 '주피터 노트북'을 사용함. 필요한 패키지를 모아놓은 파이썬 배포판을 선택하여 설치하면 됨. 가능하면 구글사에서 제공하는 '코랩(https://colab.research.google.com/notebooks/intro.ipynb) ' 을 사용하는 것을 권장함. 이미 모든 패키지가 설치되어 있고 무료로 사용할 수 있음.\n",
        "\n",
        " - [Anaconda 설치](https://www.continuum.io/anaconda-overview)\n",
        "\n",
        "   - '아나콘다'는 대용량 데이터 처리, 예측 분석, 과학 계산용 파이썬 배포판으로 위에 제시한 모든 패키지를 포함하며 각종 운영체제를 모두 지원함.\n",
        "\n",
        " - [Enthought Canopy 설치](https://www.enthought.com/products/canopy/)\n",
        "\n",
        "   - 'Enthought Canopy'는 과학 계산용 파이썬 배포판으로 위에 제시한 모든 패키지를 포함하지만 무료 버전에는 사이킷런이 들어 있지 않음. 학생과 학위 수여가 되는 기관 종사자는 유료 버전을 무료로 받을 수 있는 아카데믹 라이선스를 신청할 수 있음. 각종 운영체제를 모두 지원함.\n",
        "\n",
        " - [Python(x,y) 설치](https://www.python-xy.github.io/)\n",
        "\n",
        "   - 'Python(x,y)'는 과학 계산용 파이썬 배포판으로 위에 제시한 모든 패키지를 포함하며 윈도우 환경만 지원함.\n",
        "\n",
        "- 파이썬을 이미 설치했다면 다음과 같이 pip 명령을 사용하여 필요한 패키지를 설치할 수 있음.\n",
        "\n",
        " - $ pip install numpy scipy matplotlib ipython scikit-learn pandas pillow imgeio"
      ]
    },
    {
      "cell_type": "markdown",
      "metadata": {
        "id": "HQOtyrk7-MKF"
      },
      "source": [
        "# 1.4 필수 라이브러리와 도구들\n",
        "\n"
      ]
    },
    {
      "cell_type": "markdown",
      "metadata": {
        "id": "dUwJTtid-MCF"
      },
      "source": [
        "## 1.4.1 주피터 노트북\n",
        "\n",
        "주피터 노트북은 프로그램 코드를 브라우저에서 실행해주는 대화식 환경이며, 이런 방식은 탐색적 데이터 분석에 매우 적합하여 대중적으로 널리 사용됨. 다양한 프로그래밍 언어를 제공하고 코드와 주석, 이미지를 섞어서 작성할 수 있음."
      ]
    },
    {
      "cell_type": "markdown",
      "metadata": {
        "id": "TNKjrpXb_Koa"
      },
      "source": [
        "## 1.4.2 Numpy\n",
        "\n",
        "[넘파이](http://www.numpy.org/)는 파이썬으로 과학 계산을 하려면 꼭 필요한 패키지로, 다차원 배열을 위한 기능과 선형 대수 연산과 푸리에 변환 같은 고수준 수학 함수와 유사(pseudo) 난수 생성기를 포함함.\n",
        "\n",
        " - 선형 대수: 벡터, 행렬, 선형 변환을 연구하는 수학 분야임.\n",
        "\n",
        " - 푸리에 변환: 시간의 함수인 신호 등을 주파수 성분으로 분해하는 변환임.\n",
        "\n",
        " - 난수: 초깃값을 이용하여 이미 결정되어 있는 메커니즘에 의해 생성되는 난수로, 초깃값을 알면 언제든 같은 값을 다시 만들 수 있으므로 진짜 난수와 구별하여 유사 난수라고 함.\n",
        "\n",
        "- 사이킷런에서 넘파이 배열은 기본 데이터 구조이며, 넘파이 배열 형태의 데이터를 입력으로 받음. 우리가 사용할 데이터는 반드시 넘파이 배열로 변환되어야 함.\n",
        "\n",
        "- 넘파이가 가진 핵심 기능은 다차원(n-차원) 배열인 'ndarray' 클래스임. 이 배열의 모든 원소는 동일한 데이터 타입이어야 함."
      ]
    },
    {
      "cell_type": "code",
      "metadata": {
        "colab": {
          "base_uri": "https://localhost:8080/"
        },
        "id": "eCbIGj1bi5-q",
        "outputId": "83853e93-f845-4e01-be51-3e876378c385"
      },
      "source": [
        "# 넘파이 배열의 예를 제시함.\n",
        "import numpy as np\n",
        "\n",
        "x = np.array([[1, 2, 3], [4, 5, 6]])\n",
        "print('x:\\n', x)"
      ],
      "execution_count": 2,
      "outputs": [
        {
          "output_type": "stream",
          "text": [
            "x:\n",
            " [[1 2 3]\n",
            " [4 5 6]]\n"
          ],
          "name": "stdout"
        }
      ]
    },
    {
      "cell_type": "markdown",
      "metadata": {
        "id": "ROmZOtKn_L1J"
      },
      "source": [
        "## 1.4.3 Scipy\n",
        "\n",
        "[사이파이](http://www.scipy.org/scipylib)는 과학 계산용 함수를 모아놓은 파이썬 패키지로, 고성능 선형 대수, 함수 최적화, 신호 처리, 특수한 수학 함수와 통계 분포 등을 포함한 많은 기능을 제공함. 사이킷런은 알고리즘을 구현할 때 사이파이의 여러 함수를 사용하는데, 그중에서 가장 중요한 기능은 'scipy.sparse'임. 이 모듈은 사이킷런에서 데이터를 표현하는 또 하나의 방법인 희소 행렬(희박 행렬, sparse matrix) 기능을 제공함. 당장 이해하기 어려우면 추후에 다시 살피면 됨. 예시를 들 목적으로 희소 행렬을 제시함.\n",
        "\n",
        " - 희소 행렬: 행렬의 값이 대부분 0인 경우를 가리키며, 0을 많이 포함한 2차원 배열을 저장할 때 사용함. 이와 반대되는 경우는 밀집행렬(dense matrix), 조밀행렬이라고 함. 희소 행렬 개념은 [Scipy 강의 노트 2.5절](http://www.scipy-lectures.org)을 참고 바람. "
      ]
    },
    {
      "cell_type": "code",
      "metadata": {
        "colab": {
          "base_uri": "https://localhost:8080/"
        },
        "id": "IWBaWdfDkkbq",
        "outputId": "a8dc4da7-b432-4503-afec-4759de787eb2"
      },
      "source": [
        "# 희소 행렬을 예로 듦.\n",
        "from scipy import sparse\n",
        "\n",
        "# 대각선 원소는 1, 나머지는 0인 2차원 배열을 만듦.\n",
        "eye = np.eye(4)\n",
        "print('Numpy 배열:\\n', eye)\n",
        "\n",
        "# 넘파이 배열을 'CSR(Compressed Sparse Row)' 포맷의 사이파이 희소 행렬로 변환함.\n",
        "sparse_matrix = sparse.csr_matrix(eye)\n",
        "print('\\nScipy의 CSR 행렬:\\n', sparse_matrix)\n",
        "# 0이 아닌 원소만 저장됨."
      ],
      "execution_count": 3,
      "outputs": [
        {
          "output_type": "stream",
          "text": [
            "Numpy 배열:\n",
            " [[1. 0. 0. 0.]\n",
            " [0. 1. 0. 0.]\n",
            " [0. 0. 1. 0.]\n",
            " [0. 0. 0. 1.]]\n",
            "\n",
            "Scipy의 CSR 행렬:\n",
            "   (0, 0)\t1.0\n",
            "  (1, 1)\t1.0\n",
            "  (2, 2)\t1.0\n",
            "  (3, 3)\t1.0\n"
          ],
          "name": "stdout"
        }
      ]
    },
    {
      "cell_type": "markdown",
      "metadata": {
        "id": "FMwsNMX0CpAc"
      },
      "source": [
        "보통 희소 행렬을 0이 모두 채워진 2차원 배열로부터 만들지 않는 이유는 메모리가 부족할 수 있기 때문임. 따라서 희소 행렬을 직접 만들 수 있어야 하므로 'COO(Coordinate)' 포맷을 이용하여 동일한 희소 행렬을 만듦. 데이터가 놓일 행렬의 위치를 별도의 매개변수로 전달함. 이해하기 어려우면 일단 넘어가도 괜찮음. "
      ]
    },
    {
      "cell_type": "code",
      "metadata": {
        "colab": {
          "base_uri": "https://localhost:8080/"
        },
        "id": "YxWmqmqXDBF6",
        "outputId": "62fee52f-8528-429b-baab-e81c1d454247"
      },
      "source": [
        "data = np.ones(4)\n",
        "row_indices = np.arange(4)\n",
        "col_indices = np.arange(4)\n",
        "eye_coo = sparse.coo_matrix((data, (row_indices, col_indices)))\n",
        "print('COO 표현:\\n', eye_coo)"
      ],
      "execution_count": 4,
      "outputs": [
        {
          "output_type": "stream",
          "text": [
            "COO 표현:\n",
            "   (0, 0)\t1.0\n",
            "  (1, 1)\t1.0\n",
            "  (2, 2)\t1.0\n",
            "  (3, 3)\t1.0\n"
          ],
          "name": "stdout"
        }
      ]
    },
    {
      "cell_type": "markdown",
      "metadata": {
        "id": "lqRSITiL_Lys"
      },
      "source": [
        "## 1.4.4 matplotlib\n",
        "\n",
        "[맷플롯립](https://marplotlib.org/)은 파이썬의 대표적인 과학 계산용 그래프 라이브러리로, 선 그래프, 히스토그램, 산점도 등을 지원하며 고품질 그래프를 그려줌. 데이터와 분석 결과를 다양한 관점에서 시각화하면 중요한 통찰(insight)을 얻을 수 있음. 주피터 노트북에서 사용할 땐 '%matplotlib notebook'이나 '%matplotlib inline' 명령을 사용하면 브라우저에서 바로 이미지를 볼 수 있음. 대화식 환경을 제공하는 '%matplotlib notebook' 명령을 권장함.\n",
        "\n",
        "근래에는 [Seaborn](http://seaborn.pydata.org/)이라는 맷플롯립을 기반으로 둔 시각화 패키지를 자주 사용함. 다양한 색상과 테마, 통계용 차트 등의 기능을 추가한 시각화 패키지임. 기본적인 시각화 기능은 맷플롯립 패키지에 의존하며, 통계 기능은 'Statsmodels' 패키지에 의존함."
      ]
    },
    {
      "cell_type": "code",
      "metadata": {
        "colab": {
          "base_uri": "https://localhost:8080/",
          "height": 279
        },
        "id": "ektj6BepGhjv",
        "outputId": "7045facb-a638-4755-d6f9-4595721d5b85"
      },
      "source": [
        "# 그래프를 그림.\n",
        "%matplotlib inline\n",
        "import matplotlib.pyplot as plt\n",
        "\n",
        "# -10 ~ 10까지 간격 100으로 나뉜 배열을 만듦.\n",
        "x = np.linspace(-10, 10, 100)\n",
        "# 사인 함수를 사용하여 y 배열을 만듦.\n",
        "y = np.sin(x)\n",
        "# x와 y를 지정하고 마커는 'x' 모양으로 찍음.\n",
        "plt.plot(x, y, marker='x')\n",
        "# x축과 y축의 이름을 지정함.\n",
        "plt.xlabel('x')\n",
        "plt.ylabel('y')\n",
        "plt.show()"
      ],
      "execution_count": 5,
      "outputs": [
        {
          "output_type": "display_data",
          "data": {
            "image/png": "[encoded data removed]",
            "text/plain": [
              "<Figure size 432x288 with 1 Axes>"
            ]
          },
          "metadata": {
            "tags": [],
            "needs_background": "light"
          }
        }
      ]
    },
    {
      "cell_type": "markdown",
      "metadata": {
        "id": "1vkMkTRZ_LwJ"
      },
      "source": [
        "## 1.4.5 pandas\n",
        "\n",
        "[판다스](http://pandas.pydata.org/)는 데이터 처리와 분석을 위한 파이썬 라이브러리로, 'R'의 'data.frame'을 본떠서 설계한 'DataFrame'이라는 데이터 구조를 기반으로 만들어짐. 'DataFrame'은 엑셀 스프레드시트와 비슷한 테이블 형태라고 할 수 있으며, 이 테이블을 수정하고 조작하는 다양한 기능을 제공함. 특히 'SQL'처럼 테이블에 쿼리나 조인을 수행할 수 있고, 전체 배열의 원소가 동일한 타입이어야 하는 넘파이와는 달리 각 열의 타입이 달라도 됨. 정수, 날짜, 부동소숫점, 문자열이 각 열마다 다르게 들어있어도 된다는 의미임. 아울러 SQL, 엑셀 파일, CSV 파일 같은 다양한 파일과 데이터베이스에서 데이터를 읽어 들일 수 있음. 판다스와 관련된 내용을 깊게 다루는 서적이 시중에 많이 나와있음. 정보문화사에서 출판한 '파이썬 머신러닝 판다스 데이터 분석'을 추천함."
      ]
    },
    {
      "cell_type": "code",
      "metadata": {
        "colab": {
          "base_uri": "https://localhost:8080/",
          "height": 281
        },
        "id": "wolX8wCjKwD3",
        "outputId": "4ea5c2df-f034-4d4b-e9be-3e9ea23f86a7"
      },
      "source": [
        "# 딕셔너리를 사용하여 데이터프레임을 만듦.\n",
        "import pandas as pd\n",
        "\n",
        "data = {'Name' : ['John', 'Anna', 'Peter', 'Linda'],\n",
        "        'Location' : ['New York', 'Paris', 'Berlin', 'London'],\n",
        "        'Age' : [24, 13, 53, 33]\n",
        "        }\n",
        "\n",
        "data_pd = pd.DataFrame(data)\n",
        "print(data_pd)\n",
        "print()\n",
        "# 주피터 노트북에서 'IPython.display'를 사용하여 데이터프레임을 깔끔하게 출력함.\n",
        "display(data_pd)"
      ],
      "execution_count": 6,
      "outputs": [
        {
          "output_type": "stream",
          "text": [
            "    Name  Location  Age\n",
            "0   John  New York   24\n",
            "1   Anna     Paris   13\n",
            "2  Peter    Berlin   53\n",
            "3  Linda    London   33\n",
            "\n"
          ],
          "name": "stdout"
        },
        {
          "output_type": "display_data",
          "data": {
            "text/html": [
              "<div>\n",
              "<style scoped>\n",
              "    .dataframe tbody tr th:only-of-type {\n",
              "        vertical-align: middle;\n",
              "    }\n",
              "\n",
              "    .dataframe tbody tr th {\n",
              "        vertical-align: top;\n",
              "    }\n",
              "\n",
              "    .dataframe thead th {\n",
              "        text-align: right;\n",
              "    }\n",
              "</style>\n",
              "<table border=\"1\" class=\"dataframe\">\n",
              "  <thead>\n",
              "    <tr style=\"text-align: right;\">\n",
              "      <th></th>\n",
              "      <th>Name</th>\n",
              "      <th>Location</th>\n",
              "      <th>Age</th>\n",
              "    </tr>\n",
              "  </thead>\n",
              "  <tbody>\n",
              "    <tr>\n",
              "      <th>0</th>\n",
              "      <td>John</td>\n",
              "      <td>New York</td>\n",
              "      <td>24</td>\n",
              "    </tr>\n",
              "    <tr>\n",
              "      <th>1</th>\n",
              "      <td>Anna</td>\n",
              "      <td>Paris</td>\n",
              "      <td>13</td>\n",
              "    </tr>\n",
              "    <tr>\n",
              "      <th>2</th>\n",
              "      <td>Peter</td>\n",
              "      <td>Berlin</td>\n",
              "      <td>53</td>\n",
              "    </tr>\n",
              "    <tr>\n",
              "      <th>3</th>\n",
              "      <td>Linda</td>\n",
              "      <td>London</td>\n",
              "      <td>33</td>\n",
              "    </tr>\n",
              "  </tbody>\n",
              "</table>\n",
              "</div>"
            ],
            "text/plain": [
              "    Name  Location  Age\n",
              "0   John  New York   24\n",
              "1   Anna     Paris   13\n",
              "2  Peter    Berlin   53\n",
              "3  Linda    London   33"
            ]
          },
          "metadata": {
            "tags": []
          }
        }
      ]
    },
    {
      "cell_type": "code",
      "metadata": {
        "colab": {
          "base_uri": "https://localhost:8080/",
          "height": 111
        },
        "id": "5eBwD1HdNz_d",
        "outputId": "ad40f923-04c1-48ed-d60d-45bce84b8d44"
      },
      "source": [
        "# 테이블에 질의함.\n",
        "# 'Age' 열의 값이 30 이상인 모든 행을 선택함.\n",
        "# 데이터프레임 옆에 리스트를 열고 조건문을 입력하면 됨.\n",
        "display(data_pd[data_pd.Age > 30])"
      ],
      "execution_count": 7,
      "outputs": [
        {
          "output_type": "display_data",
          "data": {
            "text/html": [
              "<div>\n",
              "<style scoped>\n",
              "    .dataframe tbody tr th:only-of-type {\n",
              "        vertical-align: middle;\n",
              "    }\n",
              "\n",
              "    .dataframe tbody tr th {\n",
              "        vertical-align: top;\n",
              "    }\n",
              "\n",
              "    .dataframe thead th {\n",
              "        text-align: right;\n",
              "    }\n",
              "</style>\n",
              "<table border=\"1\" class=\"dataframe\">\n",
              "  <thead>\n",
              "    <tr style=\"text-align: right;\">\n",
              "      <th></th>\n",
              "      <th>Name</th>\n",
              "      <th>Location</th>\n",
              "      <th>Age</th>\n",
              "    </tr>\n",
              "  </thead>\n",
              "  <tbody>\n",
              "    <tr>\n",
              "      <th>2</th>\n",
              "      <td>Peter</td>\n",
              "      <td>Berlin</td>\n",
              "      <td>53</td>\n",
              "    </tr>\n",
              "    <tr>\n",
              "      <th>3</th>\n",
              "      <td>Linda</td>\n",
              "      <td>London</td>\n",
              "      <td>33</td>\n",
              "    </tr>\n",
              "  </tbody>\n",
              "</table>\n",
              "</div>"
            ],
            "text/plain": [
              "    Name Location  Age\n",
              "2  Peter   Berlin   53\n",
              "3  Linda   London   33"
            ]
          },
          "metadata": {
            "tags": []
          }
        }
      ]
    },
    {
      "cell_type": "markdown",
      "metadata": {
        "id": "YpaUx8YA_Lty"
      },
      "source": [
        "## 1.4.6 mglearn\n",
        "\n",
        " 'mglearn'은 이 책을 위해 만든 유틸리티 함수들임. 이 책에서는 간단하게 그림을 그리거나 필요한 데이터를 바로 불러들이기 위해 'mglearn'을 사용함. 여하튼 이 서적의 모든 코드는 항상 아래 다섯 가지 라이브러리를 임포트 하고, 그래프를 표시하기 위해 아래 하나의 명령을 사용한다고 가정함.\n",
        " \n",
        "from IPython.display import display\n",
        "\n",
        "import numpy as np\n",
        "\n",
        "import matplotlib.pyplot as plt\n",
        "\n",
        "import pandas as pd\n",
        "\n",
        "import mglearn\n",
        "\n",
        "%matplotlib notebook 또는 %matplotlib inline.. 만약 이 명령을 사용하지 않으면 매번 'plt.show()'를 입력해야 함.\n",
        " \n",
        "크게 중요한 부분은 아니므로 추가 설명은 생략함. 서적에 있는 내용을 참고. "
      ]
    },
    {
      "cell_type": "markdown",
      "metadata": {
        "id": "XCmlzXkb_Lra"
      },
      "source": [
        "# 1.5 파이썬2 vs.파이썬3\n",
        "\n",
        "현재 파이썬2와 파이썬3 버전이 모두 널리 쓰임. 다만 파이썬2로 작성한 코드가 파이썬3에서 실행되지 않는 경우가 많으므로 최신 버전인 파이썬3를 사용하는 편이 좋음. 새로운 코드가 파이썬2와 파이썬3에서 모두 실행되도록 작성하는 방법은 [six 패키지]('https://pypi.python.org/pypi/six)를 사용하면 됨."
      ]
    },
    {
      "cell_type": "markdown",
      "metadata": {
        "id": "Bnk74gec_LpJ"
      },
      "source": [
        "# 1.6 이 책에서 사용하는 소프트웨어 버전"
      ]
    },
    {
      "cell_type": "code",
      "metadata": {
        "colab": {
          "base_uri": "https://localhost:8080/"
        },
        "id": "Ze7wNhYHSYyF",
        "outputId": "82773752-af7f-42bd-d452-5fe7b2027a17"
      },
      "source": [
        "import sys\n",
        "import numpy as np\n",
        "import pandas as pd\n",
        "import matplotlib\n",
        "import scipy as sp\n",
        "import IPython\n",
        "import sklearn\n",
        "\n",
        "print('Python 버전: ', sys.version)\n",
        "print('Numpy 버전: ', np.__version__)\n",
        "print('pandas 버전: ', pd.__version__)\n",
        "print('matplotlib 버전: ', matplotlib.__version__)\n",
        "print('Scipy 버전: ', sp.__version__)\n",
        "print('IPython 버전: ', IPython.__version__)\n",
        "print('scikit-learn 버전: ', sklearn.__version__)"
      ],
      "execution_count": 8,
      "outputs": [
        {
          "output_type": "stream",
          "text": [
            "Python 버전:  3.7.11 (default, Jul  3 2021, 18:01:19) \n",
            "[GCC 7.5.0]\n",
            "Numpy 버전:  1.19.5\n",
            "pandas 버전:  1.1.5\n",
            "matplotlib 버전:  3.2.2\n",
            "Scipy 버전:  1.4.1\n",
            "IPython 버전:  5.5.0\n",
            "scikit-learn 버전:  0.22.2.post1\n"
          ],
          "name": "stdout"
        }
      ]
    },
    {
      "cell_type": "markdown",
      "metadata": {
        "id": "L3FTgj8J_Lmy"
      },
      "source": [
        "# 1.7 첫 번째 애플리케이션: 붓꽃의 품종 분류\n",
        "\n",
        " 간단한 머신러닝 애플리케이션을 훑어가면서 첫 번째 모델을 만들어 봄.\n",
        "\n",
        " 한 아마추어 식물학자가 들에서 발견한 붓꽃의 품종을 알고 싶다고 가정함. 이 식물 학자는 붓꽃의 꽃잎(petal)과 꽃받침(sepal)의 폭과 길이를 센티미터 단위로 측정했음. 또 다른 전문 식물학자가 setosa, cersicolor, virginica 종으로 분류한 붓꽃의 측정 데이터도 가지고 있음. 이 측정값을 이용하여 앞에서 채집한 붓꽃이 어떤 품종인지 구분하려고 하며 채집한 붓꽃은 이 세 종류뿐이라고 가정하겠음.\n",
        "\n",
        " 우리의 목표는 어떤 품종인지 구분해 놓은 측정 데이터를 활용하여 새로 채집한 붓꽃의 품종을 예측하는 머신러닝 모델을 만드는 것임. 붓꽃의 품종을 정확하게 분류한 데이터를 가지고 있으므로 지도 학습에 속하며 몇 가지 선택사항(붓꽃의 품종) 중 하나를 선택하는 문제임. 그러므로 이 문제는 '분류(classification)'에 해당함.\n",
        "\n",
        " 출력될 수 있는 값(붓꽃 종류)을 클래스(class)라고 하며 데이터셋에 있는 붗꽃 데이터는 모두 세 클래스 중 하나에 속함. 즉 클래스 세 개를 분류하는 문제임.\n",
        "\n",
        " 데이터 포인트 하나(붗꽃 하나)에 대한 기대 출력은 꽃의 품종이 됨. 이런 특정 데이터 포인트에 대한 출력, 즉 품종을 레이블(label)이라고 함."
      ]
    },
    {
      "cell_type": "markdown",
      "metadata": {
        "id": "IVJdg1DZ_LkK"
      },
      "source": [
        "## 1.7.1 데이터 적재\n",
        "\n",
        " 사이킷런의 datasets 모듈에 있는 붓꽃 데이터셋을 가져와서 'load_iris()' 함수를 사용하여 데이터를 적재함."
      ]
    },
    {
      "cell_type": "code",
      "metadata": {
        "id": "_oi0B5BEJ4Xj",
        "colab": {
          "base_uri": "https://localhost:8080/"
        },
        "outputId": "326de2bc-cb85-45a0-de88-214245d0b12a"
      },
      "source": [
        "from sklearn.datasets import load_iris\n",
        "\n",
        "iris_dataset = load_iris()\n",
        "print(iris_dataset)"
      ],
      "execution_count": 21,
      "outputs": [
        {
          "output_type": "stream",
          "text": [
            "{'data': array([[5.1, 3.5, 1.4, 0.2],\n",
            "       [4.9, 3. , 1.4, 0.2],\n",
            "       [4.7, 3.2, 1.3, 0.2],\n",
            "       [4.6, 3.1, 1.5, 0.2],\n",
            "       [5. , 3.6, 1.4, 0.2],\n",
            "       [5.4, 3.9, 1.7, 0.4],\n",
            "       [4.6, 3.4, 1.4, 0.3],\n",
            "       [5. , 3.4, 1.5, 0.2],\n",
            "       [4.4, 2.9, 1.4, 0.2],\n",
            "       [4.9, 3.1, 1.5, 0.1],\n",
            "       [5.4, 3.7, 1.5, 0.2],\n",
            "       [4.8, 3.4, 1.6, 0.2],\n",
            "       [4.8, 3. , 1.4, 0.1],\n",
            "       [4.3, 3. , 1.1, 0.1],\n",
            "       [5.8, 4. , 1.2, 0.2],\n",
            "       [5.7, 4.4, 1.5, 0.4],\n",
            "       [5.4, 3.9, 1.3, 0.4],\n",
            "       [5.1, 3.5, 1.4, 0.3],\n",
            "       [5.7, 3.8, 1.7, 0.3],\n",
            "       [5.1, 3.8, 1.5, 0.3],\n",
            "       [5.4, 3.4, 1.7, 0.2],\n",
            "       [5.1, 3.7, 1.5, 0.4],\n",
            "       [4.6, 3.6, 1. , 0.2],\n",
            "       [5.1, 3.3, 1.7, 0.5],\n",
            "       [4.8, 3.4, 1.9, 0.2],\n",
            "       [5. , 3. , 1.6, 0.2],\n",
            "       [5. , 3.4, 1.6, 0.4],\n",
            "       [5.2, 3.5, 1.5, 0.2],\n",
            "       [5.2, 3.4, 1.4, 0.2],\n",
            "       [4.7, 3.2, 1.6, 0.2],\n",
            "       [4.8, 3.1, 1.6, 0.2],\n",
            "       [5.4, 3.4, 1.5, 0.4],\n",
            "       [5.2, 4.1, 1.5, 0.1],\n",
            "       [5.5, 4.2, 1.4, 0.2],\n",
            "       [4.9, 3.1, 1.5, 0.2],\n",
            "       [5. , 3.2, 1.2, 0.2],\n",
            "       [5.5, 3.5, 1.3, 0.2],\n",
            "       [4.9, 3.6, 1.4, 0.1],\n",
            "       [4.4, 3. , 1.3, 0.2],\n",
            "       [5.1, 3.4, 1.5, 0.2],\n",
            "       [5. , 3.5, 1.3, 0.3],\n",
            "       [4.5, 2.3, 1.3, 0.3],\n",
            "       [4.4, 3.2, 1.3, 0.2],\n",
            "       [5. , 3.5, 1.6, 0.6],\n",
            "       [5.1, 3.8, 1.9, 0.4],\n",
            "       [4.8, 3. , 1.4, 0.3],\n",
            "       [5.1, 3.8, 1.6, 0.2],\n",
            "       [4.6, 3.2, 1.4, 0.2],\n",
            "       [5.3, 3.7, 1.5, 0.2],\n",
            "       [5. , 3.3, 1.4, 0.2],\n",
            "       [7. , 3.2, 4.7, 1.4],\n",
            "       [6.4, 3.2, 4.5, 1.5],\n",
            "       [6.9, 3.1, 4.9, 1.5],\n",
            "       [5.5, 2.3, 4. , 1.3],\n",
            "       [6.5, 2.8, 4.6, 1.5],\n",
            "       [5.7, 2.8, 4.5, 1.3],\n",
            "       [6.3, 3.3, 4.7, 1.6],\n",
            "       [4.9, 2.4, 3.3, 1. ],\n",
            "       [6.6, 2.9, 4.6, 1.3],\n",
            "       [5.2, 2.7, 3.9, 1.4],\n",
            "       [5. , 2. , 3.5, 1. ],\n",
            "       [5.9, 3. , 4.2, 1.5],\n",
            "       [6. , 2.2, 4. , 1. ],\n",
            "       [6.1, 2.9, 4.7, 1.4],\n",
            "       [5.6, 2.9, 3.6, 1.3],\n",
            "       [6.7, 3.1, 4.4, 1.4],\n",
            "       [5.6, 3. , 4.5, 1.5],\n",
            "       [5.8, 2.7, 4.1, 1. ],\n",
            "       [6.2, 2.2, 4.5, 1.5],\n",
            "       [5.6, 2.5, 3.9, 1.1],\n",
            "       [5.9, 3.2, 4.8, 1.8],\n",
            "       [6.1, 2.8, 4. , 1.3],\n",
            "       [6.3, 2.5, 4.9, 1.5],\n",
            "       [6.1, 2.8, 4.7, 1.2],\n",
            "       [6.4, 2.9, 4.3, 1.3],\n",
            "       [6.6, 3. , 4.4, 1.4],\n",
            "       [6.8, 2.8, 4.8, 1.4],\n",
            "       [6.7, 3. , 5. , 1.7],\n",
            "       [6. , 2.9, 4.5, 1.5],\n",
            "       [5.7, 2.6, 3.5, 1. ],\n",
            "       [5.5, 2.4, 3.8, 1.1],\n",
            "       [5.5, 2.4, 3.7, 1. ],\n",
            "       [5.8, 2.7, 3.9, 1.2],\n",
            "       [6. , 2.7, 5.1, 1.6],\n",
            "       [5.4, 3. , 4.5, 1.5],\n",
            "       [6. , 3.4, 4.5, 1.6],\n",
            "       [6.7, 3.1, 4.7, 1.5],\n",
            "       [6.3, 2.3, 4.4, 1.3],\n",
            "       [5.6, 3. , 4.1, 1.3],\n",
            "       [5.5, 2.5, 4. , 1.3],\n",
            "       [5.5, 2.6, 4.4, 1.2],\n",
            "       [6.1, 3. , 4.6, 1.4],\n",
            "       [5.8, 2.6, 4. , 1.2],\n",
            "       [5. , 2.3, 3.3, 1. ],\n",
            "       [5.6, 2.7, 4.2, 1.3],\n",
            "       [5.7, 3. , 4.2, 1.2],\n",
            "       [5.7, 2.9, 4.2, 1.3],\n",
            "       [6.2, 2.9, 4.3, 1.3],\n",
            "       [5.1, 2.5, 3. , 1.1],\n",
            "       [5.7, 2.8, 4.1, 1.3],\n",
            "       [6.3, 3.3, 6. , 2.5],\n",
            "       [5.8, 2.7, 5.1, 1.9],\n",
            "       [7.1, 3. , 5.9, 2.1],\n",
            "       [6.3, 2.9, 5.6, 1.8],\n",
            "       [6.5, 3. , 5.8, 2.2],\n",
            "       [7.6, 3. , 6.6, 2.1],\n",
            "       [4.9, 2.5, 4.5, 1.7],\n",
            "       [7.3, 2.9, 6.3, 1.8],\n",
            "       [6.7, 2.5, 5.8, 1.8],\n",
            "       [7.2, 3.6, 6.1, 2.5],\n",
            "       [6.5, 3.2, 5.1, 2. ],\n",
            "       [6.4, 2.7, 5.3, 1.9],\n",
            "       [6.8, 3. , 5.5, 2.1],\n",
            "       [5.7, 2.5, 5. , 2. ],\n",
            "       [5.8, 2.8, 5.1, 2.4],\n",
            "       [6.4, 3.2, 5.3, 2.3],\n",
            "       [6.5, 3. , 5.5, 1.8],\n",
            "       [7.7, 3.8, 6.7, 2.2],\n",
            "       [7.7, 2.6, 6.9, 2.3],\n",
            "       [6. , 2.2, 5. , 1.5],\n",
            "       [6.9, 3.2, 5.7, 2.3],\n",
            "       [5.6, 2.8, 4.9, 2. ],\n",
            "       [7.7, 2.8, 6.7, 2. ],\n",
            "       [6.3, 2.7, 4.9, 1.8],\n",
            "       [6.7, 3.3, 5.7, 2.1],\n",
            "       [7.2, 3.2, 6. , 1.8],\n",
            "       [6.2, 2.8, 4.8, 1.8],\n",
            "       [6.1, 3. , 4.9, 1.8],\n",
            "       [6.4, 2.8, 5.6, 2.1],\n",
            "       [7.2, 3. , 5.8, 1.6],\n",
            "       [7.4, 2.8, 6.1, 1.9],\n",
            "       [7.9, 3.8, 6.4, 2. ],\n",
            "       [6.4, 2.8, 5.6, 2.2],\n",
            "       [6.3, 2.8, 5.1, 1.5],\n",
            "       [6.1, 2.6, 5.6, 1.4],\n",
            "       [7.7, 3. , 6.1, 2.3],\n",
            "       [6.3, 3.4, 5.6, 2.4],\n",
            "       [6.4, 3.1, 5.5, 1.8],\n",
            "       [6. , 3. , 4.8, 1.8],\n",
            "       [6.9, 3.1, 5.4, 2.1],\n",
            "       [6.7, 3.1, 5.6, 2.4],\n",
            "       [6.9, 3.1, 5.1, 2.3],\n",
            "       [5.8, 2.7, 5.1, 1.9],\n",
            "       [6.8, 3.2, 5.9, 2.3],\n",
            "       [6.7, 3.3, 5.7, 2.5],\n",
            "       [6.7, 3. , 5.2, 2.3],\n",
            "       [6.3, 2.5, 5. , 1.9],\n",
            "       [6.5, 3. , 5.2, 2. ],\n",
            "       [6.2, 3.4, 5.4, 2.3],\n",
            "       [5.9, 3. , 5.1, 1.8]]), 'target': array([0, 0, 0, 0, 0, 0, 0, 0, 0, 0, 0, 0, 0, 0, 0, 0, 0, 0, 0, 0, 0, 0,\n",
            "       0, 0, 0, 0, 0, 0, 0, 0, 0, 0, 0, 0, 0, 0, 0, 0, 0, 0, 0, 0, 0, 0,\n",
            "       0, 0, 0, 0, 0, 0, 1, 1, 1, 1, 1, 1, 1, 1, 1, 1, 1, 1, 1, 1, 1, 1,\n",
            "       1, 1, 1, 1, 1, 1, 1, 1, 1, 1, 1, 1, 1, 1, 1, 1, 1, 1, 1, 1, 1, 1,\n",
            "       1, 1, 1, 1, 1, 1, 1, 1, 1, 1, 1, 1, 2, 2, 2, 2, 2, 2, 2, 2, 2, 2,\n",
            "       2, 2, 2, 2, 2, 2, 2, 2, 2, 2, 2, 2, 2, 2, 2, 2, 2, 2, 2, 2, 2, 2,\n",
            "       2, 2, 2, 2, 2, 2, 2, 2, 2, 2, 2, 2, 2, 2, 2, 2, 2, 2]), 'target_names': array(['setosa', 'versicolor', 'virginica'], dtype='<U10'), 'DESCR': '.. _iris_dataset:\\n\\nIris plants dataset\\n--------------------\\n\\n**Data Set Characteristics:**\\n\\n    :Number of Instances: 150 (50 in each of three classes)\\n    :Number of Attributes: 4 numeric, predictive attributes and the class\\n    :Attribute Information:\\n        - sepal length in cm\\n        - sepal width in cm\\n        - petal length in cm\\n        - petal width in cm\\n        - class:\\n                - Iris-Setosa\\n                - Iris-Versicolour\\n                - Iris-Virginica\\n                \\n    :Summary Statistics:\\n\\n    ============== ==== ==== ======= ===== ====================\\n                    Min  Max   Mean    SD   Class Correlation\\n    ============== ==== ==== ======= ===== ====================\\n    sepal length:   4.3  7.9   5.84   0.83    0.7826\\n    sepal width:    2.0  4.4   3.05   0.43   -0.4194\\n    petal length:   1.0  6.9   3.76   1.76    0.9490  (high!)\\n    petal width:    0.1  2.5   1.20   0.76    0.9565  (high!)\\n    ============== ==== ==== ======= ===== ====================\\n\\n    :Missing Attribute Values: None\\n    :Class Distribution: 33.3% for each of 3 classes.\\n    :Creator: R.A. Fisher\\n    :Donor: Michael Marshall (MARSHALL%PLU@io.arc.nasa.gov)\\n    :Date: July, 1988\\n\\nThe famous Iris database, first used by Sir R.A. Fisher. The dataset is taken\\nfrom Fisher\\'s paper. Note that it\\'s the same as in R, but not as in the UCI\\nMachine Learning Repository, which has two wrong data points.\\n\\nThis is perhaps the best known database to be found in the\\npattern recognition literature.  Fisher\\'s paper is a classic in the field and\\nis referenced frequently to this day.  (See Duda & Hart, for example.)  The\\ndata set contains 3 classes of 50 instances each, where each class refers to a\\ntype of iris plant.  One class is linearly separable from the other 2; the\\nlatter are NOT linearly separable from each other.\\n\\n.. topic:: References\\n\\n   - Fisher, R.A. \"The use of multiple measurements in taxonomic problems\"\\n     Annual Eugenics, 7, Part II, 179-188 (1936); also in \"Contributions to\\n     Mathematical Statistics\" (John Wiley, NY, 1950).\\n   - Duda, R.O., & Hart, P.E. (1973) Pattern Classification and Scene Analysis.\\n     (Q327.D83) John Wiley & Sons.  ISBN 0-471-22361-1.  See page 218.\\n   - Dasarathy, B.V. (1980) \"Nosing Around the Neighborhood: A New System\\n     Structure and Classification Rule for Recognition in Partially Exposed\\n     Environments\".  IEEE Transactions on Pattern Analysis and Machine\\n     Intelligence, Vol. PAMI-2, No. 1, 67-71.\\n   - Gates, G.W. (1972) \"The Reduced Nearest Neighbor Rule\".  IEEE Transactions\\n     on Information Theory, May 1972, 431-433.\\n   - See also: 1988 MLC Proceedings, 54-64.  Cheeseman et al\"s AUTOCLASS II\\n     conceptual clustering system finds 3 classes in the data.\\n   - Many, many more ...', 'feature_names': ['sepal length (cm)', 'sepal width (cm)', 'petal length (cm)', 'petal width (cm)'], 'filename': '/usr/local/lib/python3.7/dist-packages/sklearn/datasets/data/iris.csv'}\n"
          ],
          "name": "stdout"
        }
      ]
    },
    {
      "cell_type": "code",
      "metadata": {
        "colab": {
          "base_uri": "https://localhost:8080/"
        },
        "id": "aNA6-zPu-RBf",
        "outputId": "ff638f35-576e-4195-c23f-6f7cb19b8498"
      },
      "source": [
        "# 데이터셋의 키를 확인함.\n",
        "print('iris_dataset의 키: \\n', iris_dataset.keys())\n",
        "# 'iris_dataset' 객체는 파이썬의 딕셔너리(dictionary)와 비슷한 'Bunch'클래스의 객체임."
      ],
      "execution_count": 15,
      "outputs": [
        {
          "output_type": "stream",
          "text": [
            "iris_dataset의 키: \n",
            " dict_keys(['data', 'target', 'target_names', 'DESCR', 'feature_names', 'filename'])\n"
          ],
          "name": "stdout"
        }
      ]
    },
    {
      "cell_type": "markdown",
      "metadata": {
        "id": "I_4-aoK7_Lhp"
      },
      "source": [
        "## 1.7.2 성과 측정: 훈련 데이터와 테스트 데이터"
      ]
    },
    {
      "cell_type": "markdown",
      "metadata": {
        "id": "PmctCO-X_LD4"
      },
      "source": [
        "## 1.7.3 가장 먼저 할 일: 데이터 살펴보기"
      ]
    },
    {
      "cell_type": "markdown",
      "metadata": {
        "id": "7lpiCcHFAQ51"
      },
      "source": [
        "## 1.7.4 첫 번째 머신러닝 모델: k-최근접 이웃 알고리즘"
      ]
    },
    {
      "cell_type": "markdown",
      "metadata": {
        "id": "PBAZGHCuAQ1u"
      },
      "source": [
        "## 1.7.5 예측하기"
      ]
    },
    {
      "cell_type": "markdown",
      "metadata": {
        "id": "vUGckIwEAQxU"
      },
      "source": [
        "## 1.7.6 모델 평가하기"
      ]
    },
    {
      "cell_type": "markdown",
      "metadata": {
        "id": "FffQFNvcAQt8"
      },
      "source": [
        "# 1.8 요약 및 정리"
      ]
    }
  ]
}