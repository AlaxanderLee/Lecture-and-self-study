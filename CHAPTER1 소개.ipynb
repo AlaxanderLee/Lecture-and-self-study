{
  "nbformat": 4,
  "nbformat_minor": 0,
  "metadata": {
    "colab": {
      "name": "CHAPTER1 소개.ipynb",
      "provenance": [],
      "collapsed_sections": [],
      "toc_visible": true,
      "authorship_tag": "ABX9TyOKvDnaz9vfaZGPRbscI9+g",
      "include_colab_link": true
    },
    "kernelspec": {
      "name": "python3",
      "display_name": "Python 3"
    },
    "language_info": {
      "name": "python"
    }
  },
  "cells": [
    {
      "cell_type": "markdown",
      "metadata": {
        "id": "view-in-github",
        "colab_type": "text"
      },
      "source": [
        "<a href=\"https://colab.research.google.com/github/LeeSeungwon89/Lecture-and-self-study/blob/master/CHAPTER1%20%EC%86%8C%EA%B0%9C.ipynb\" target=\"_parent\"><img src=\"https://colab.research.google.com/assets/colab-badge.svg\" alt=\"Open In Colab\"/></a>"
      ]
    },
    {
      "cell_type": "markdown",
      "metadata": {
        "id": "6iYdzJcd-Mb2"
      },
      "source": [
        "# 1.1 왜 머신러닝인가?\n",
        "\n",
        " 초창기 지능형 애플리케이션들은 데이터를 처리하고 사용자의 입력을 다루는 데 하드 코딩된 'if'와 'else' 명령을 사용하는 시스템이었음. 의심되는 메일을 스팸함으로 보내는 스팸 필터를 예로 들면 스팸으로 의심되는 단어들로 블랙리스트를 만들어 처리할 수 있었는데, 이 방식은 지능형 애플리케이션을 만들기 위해 '규칙 기반 전문가 시스템(rule-based expert system)'을 사용한 것임. 결정 규칙을 수동으로 만드는 것이 적합할 때도 있는데 이는 모델링 할 처리 과정을 사람이 잘 알고 있는 경우임. 다만 규칙을 만드는 데에는 두 가지 단점이 있음.\n",
        "\n",
        " 1. 결정에 필요한 로직은 한 분야나 작업에 국한됨. 작업이 조금만 변경되어도 전체 시스템을 다시 개발해야 할 수도 있음.\n",
        "\n",
        " 1. 규칙을 설계하려면 그 분야 전문가들이 내리는 결정 방식에 대해 잘 알아야 함.\n",
        "\n",
        "\n",
        " 얼굴 인식은 규칙을 직접 만드는 데 실패한 대표적인 예임. 컴퓨터가 인식하는 픽셀 방식이 사람이 얼굴을 인식하는 방식과 매우 달랐기 때문에 2001년 이전에는 풀 수 없는 문제였음. 그러나 머신러닝을 사용하여 알고리즘에 많은 얼굴 이미지를 제공해주면 얼굴을 특정하는 요소가 어떤 것인지 충분히 찾아낼 수 있음."
      ]
    },
    {
      "cell_type": "markdown",
      "metadata": {
        "id": "FD4-zuDB-MY1"
      },
      "source": [
        "## 1.1.1 머신러닝으로 풀 수 있는 문제\n",
        "\n",
        "\n",
        "< 지도학습 >\n",
        "\n",
        " 가장 많이 사용되는 머신러닝 알고리즘들은 이미 알려진 사례를 바탕으로 일반화 된 모델을 만들어 의사 결정 프로세스를 자동화 하는 것들임. 이 방식을 '지도 학습(supervised learning)'이라고 하며 사용자는 알고리즘에 입력과 기대되는 출력을 제공하고 알고리즘은 주어진 입력을 토대로 원하는 출력을 만드는 방법을 찾음. 이렇게 학습된 알고리즘은 새로운 입력이 주어지면 적절한 출력을 만들 수 있음.\n",
        "\n",
        " 스팸 분류 문제를 다시 예로 들면, 사용자는 머신러닝 알고리즘에 많은 이메일(입력)과 각 이메일의 스팸 여부(기대되는 출력)를 제공하면 이 알고리즘은 새로 들어온 이메일이 스팸인지 아닌지 예측할 수 있음.\n",
        "\n",
        " 즉 입력 데이터로부터 기대한 출력이 나오도록 알고리즘을 가르치는 것이므로 입력과 출력으로부터 학습하는 머신러닝 알고리즘들을 지도 학습 알고리즘이라고 함. 지도 학습에 대한 몇 가지 예를 들어봄.\n",
        "\n",
        "- 편지 봉투에 손으로 쓴 우편번호 숫자를 판별하기.\n",
        "\n",
        " - 입력은 손글씨를 스캔한 이미지, 출력은 우편번호 숫자임. 머신러닝 모델 구축에 쓸 데이터셋을 만들려면 많은 편지 봉투를 모아야 하며, 우편번호를 눈으로 확인해서 원하는 출력 값을 기록해야 함.\n",
        "\n",
        "- 의료 영상 이미지에 기반한 종양의 양성 여부 판단하기.\n",
        "\n",
        " - 입력은 이미지, 출력은 종양의 양성 여부임. 데이터셋을 만들려면 의료 영상 데이터베이스와 종양이 양성인지 악성인지 판단을 내리는 전문가 의견이 필요함. 경우에 따라선 종양이 악성인지 여부를 확인하기 위해 이미지 확인 외에 추가 분석이 필요할 수 있음.\n",
        "\n",
        "- 의심되는 신용카드 거래를 감지하기.\n",
        "\n",
        " - 입력은 신용카드 거래 내역, 출력은 부정 거래인지 여부임. 데이터셋을 만들려면 모든 거래 내역과 고객이 잘못된 거래라고 신고한 내역을 취합해야 함.\n",
        "\n",
        "< 비지도 학습 >\n",
        "\n",
        " 입력은 주어지지만 출력은 제공되지 않는 방식이며, 성공 사례는 많지만 비지도 학습을 이해하거나 평가하는 일은 쉽지 않음.\n",
        "\n",
        "- 블로그 글의 주제를 구분하기.\n",
        "\n",
        " - 많은 양의 텍스트 데이터를 요약하고 그 안에 담긴 핵심 주제를 찾고자 할 수 있음. 사전에 어떤 주제인지, 주제가 얼마나 많은지 모르기 때문에 출력 값을 준비할 수 없음.\n",
        "\n",
        "- 고객들을 취향이 비슷한 그룹으로 묶기.\n",
        "\n",
        " - 고객 데이터를 활용하여 어떤 고객들이 취향이 비슷한지 알고 싶거나, 비슷한 취향의 고객을 그룹으로 묶을 수 있음. 어떤 그룹이 있는지 얼마나 많은 그룹이 있는지 모르므로 출력을 가지고 있지 않은 셈임.\n",
        "\n",
        "- 비정상적인 웹사이트 접근을 탐지하기.\n",
        "\n",
        " - 일상적이지 않은 접근 패턴을 찾으면 부정행위나 버그를 구별하는 데 도움이 됨. 각각 비정상 패턴은 서로 많이 다를 수 있고 이미 가지고 있는 비정상 데이터도 없을 수 있음. 이런 경우 단지 웹 트래픽만 관찰할 수 있고 정상과 비정상인지 구별하기 어려우므로 비지도 학습 문제임.\n",
        "\n",
        "지도 학습과 비지도 학습 모두 컴퓨터가 인식할 수 있는 형태로 입력 데이터를 준비해야 함. 엑셀 테이블처럼 생각하면 편리함. 판별해야 할 개개의 데이터(이메일, 고객, 거래)는 행이고, 데이터를 구성하는 각 속성(나이, 가격, 지역)은 열임.\n",
        "\n",
        "머신러닝에서는 하나의 개체 혹은 행을 '샘플(sample)' 또는 '데이터 포인트(data point)' 라고 부르며, 샘플의 속성 혹은 열을 '특성(feature)' 라고 부름."
      ]
    },
    {
      "cell_type": "markdown",
      "metadata": {
        "id": "x3RDzJHF-MWF"
      },
      "source": [
        "## 1.1.2 문제와 데이터 이해하기\n",
        "\n",
        " 머신러닝 프로세스에서 가장 중요한 과정은 사용할 데이터를 이해하고 그 데이터가 해결해야 할 문제와 어떤 관련이 있는지 이해하는 일임. 아무 알고리즘이나 선택해서 데이터를 입력하는 건 좋은 방법이 아님. 알고리즘마다 알맞은 데이터나 문제의 종류가 다르기 때문임. 머신러닝 솔루션을 만들 동안 아래 질문을 유념해야 함.\n",
        "\n",
        "- 어떤 질문에 대한 답을 원하는가? 가지고 있는 데이터가 원하는 답을 줄 수 있는가?\n",
        "\n",
        "- 생각한 질문을 머신러닝 문제로 가장 잘 기술하는 방법은 무엇인가?\n",
        "\n",
        "- 문제를 풀기에 충분한 데이터를 확보했는가?\n",
        "\n",
        "- 추출한 데이터의 특성은 무엇이며, 좋은 예측을 만들 수 있는가?\n",
        "\n",
        "- 머신러닝 애플리케이션의 성과를 어떻게 측정할 수 있는가?\n",
        "\n",
        "- 머신러닝 솔루션이 다른 연구나 제품과 어떻게 협력할 수 있는가?\n",
        "\n",
        "\n",
        " 넓은 시각으로 보면 머신러닝 알고리즘이나 방법론은 특정 문제를 푸는 전체 과정의 일부일 뿐임. 항상 전체 시스템에 대한 큰 그림을 그리고 있어야 함. 복잡한 머신러닝 솔루션을 구축하느라 오랜 시간을 투자한 후에야 문제를 풀기에 적절하지 않은 방법이라는 점을 깨달음. 머신러닝 모델을 구축하기 시작할 때 직간접적인 모든 가정을 세워야 함."
      ]
    },
    {
      "cell_type": "markdown",
      "metadata": {
        "id": "gmPDKWcz-MTE"
      },
      "source": [
        "# 1.2 왜 파이썬인가?\n",
        "\n",
        "'파이썬(Python)'은 데이터 과학 분야를 위한 표준 프로그래밍 언어가 된 지 오래이며, 범용 프로그래밍 언어의 장점은 물론 '매트랩(MATLAB)'과 'R' 같은 특정 분야를 위한 스크립팅 언어의 편리함을 함께 갖췄음. 데이터 적재, 시각화, 통계, 자연어 처리, 이미지 처리 등에 필요한 라이브러리를 가지고 있기도 하며, 터미널이나 '주피터 노트북(Jupyter Notebook)' 같은 도구로 대화하듯이 프로그래밍 할 수 있다는 점도 장점임. '그래픽 사용자 인터페이스(GUI)'나 웹 서비스도 만들 수 있고 기존 시스템과 통합하기도 좋음. 머신러닝과 데이터 분석은 데이터 주도 분석이라는 점에서 반복 작업이므로, 반복 작업을 빠르게 처리하고 손쉽게 조작할 수 있는 파이썬은 그야말로 필수 도구임. \n",
        "\n"
      ]
    },
    {
      "cell_type": "markdown",
      "metadata": {
        "id": "_FZJ5KLF-MQc"
      },
      "source": [
        "# 1.3 scikit-learn\n",
        "\n",
        "오픈 소스인 '사이킷런(scikit-learn)'은 모든 유저가 자유롭게 사용하거나 배포할 수 있고, 소스 코드를 보고 실제로 작동하는 메커니즘을 쉽게 확인할 수 있음. 매우 인기가 높고 독보적인 파이썬 머신러닝 라이브러리이며, 산업 현장이나 학계에서 널리 사용되고 많은 튜토리얼과 예제 코드를 온라인에서 쉽게 찾을 수 있음. 파이썬의 과학 패키지들과도 잘 연동됨. 관련 링크는 아래에 제시함.\n",
        "\n",
        "- [사이킷런 홈페이지 메인](https://scikit-learn.org/stable/documentation)\n",
        "\n",
        "- [사이킷런 사용자 가이드](https://scikit-learn.org/stable/user_guide.html)\n",
        "\n",
        "- [사이킷런 API](https://scikit-learn.org/stable/modules/classes.html)"
      ]
    },
    {
      "cell_type": "markdown",
      "metadata": {
        "id": "ygzMtJhX-MNV"
      },
      "source": [
        "## 1.3.1 scikit-learn 설치\n",
        "\n",
        "- 사이킷런은 두 개의 다른 파이썬 패키지인 '넘파이(Numpy)', '사이파이(Scipy)'를 사용함. 그래프를 그리려면 '맷플롯립(matplotlib)'을 사용하고, 대화식으로 개발하려면 '아이파이썬(IPython)'과 '주피터 노트북'을 사용함. 필요한 패키지를 모아놓은 파이썬 배포판을 선택하여 설치하면 됨. 가능하면 구글사에서 제공하는 '코랩(https://colab.research.google.com/notebooks/intro.ipynb) ' 을 사용하는 것을 권장함. 이미 모든 패키지가 설치되어 있고 무료로 사용할 수 있음.\n",
        "\n",
        " - [Anaconda 설치](https://www.continuum.io/anaconda-overview)\n",
        "\n",
        "   - '아나콘다'는 대용량 데이터 처리, 예측 분석, 과학 계산용 파이썬 배포판으로 위에 제시한 모든 패키지를 포함하며 각종 운영체제를 모두 지원함.\n",
        "\n",
        " - [Enthought Canopy 설치](https://www.enthought.com/products/canopy/)\n",
        "\n",
        "   - 'Enthought Canopy'는 과학 계산용 파이썬 배포판으로 위에 제시한 모든 패키지를 포함하지만 무료 버전에는 사이킷런이 들어 있지 않음. 학생과 학위 수여가 되는 기관 종사자는 유료 버전을 무료로 받을 수 있는 아카데믹 라이선스를 신청할 수 있음. 각종 운영체제를 모두 지원함.\n",
        "\n",
        " - [Python(x,y) 설치](https://www.python-xy.github.io/)\n",
        "\n",
        "   - 'Python(x,y)'는 과학 계산용 파이썬 배포판으로 위에 제시한 모든 패키지를 포함하며 윈도우 환경만 지원함.\n",
        "\n",
        "- 파이썬을 이미 설치했다면 다음과 같이 pip 명령을 사용하여 필요한 패키지를 설치할 수 있음.\n",
        "\n",
        " - $ pip install numpy scipy matplotlib ipython scikit-learn pandas pillow imgeio"
      ]
    },
    {
      "cell_type": "markdown",
      "metadata": {
        "id": "HQOtyrk7-MKF"
      },
      "source": [
        "# 1.4 필수 라이브러리와 도구들\n",
        "\n"
      ]
    },
    {
      "cell_type": "markdown",
      "metadata": {
        "id": "dUwJTtid-MCF"
      },
      "source": [
        "## 1.4.1 주피터 노트북\n",
        "\n",
        "주피터 노트북은 프로그램 코드를 브라우저에서 실행해주는 대화식 환경이며, 이런 방식은 탐색적 데이터 분석에 매우 적합하여 대중적으로 널리 사용됨. 다양한 프로그래밍 언어를 제공하고 코드와 주석, 이미지를 섞어서 작성할 수 있음."
      ]
    },
    {
      "cell_type": "markdown",
      "metadata": {
        "id": "TNKjrpXb_Koa"
      },
      "source": [
        "## 1.4.2 Numpy\n",
        "\n",
        "[넘파이](http://www.numpy.org/)는 파이썬으로 과학 계산을 하려면 꼭 필요한 패키지로, 다차원 배열을 위한 기능과 선형 대수 연산과 푸리에 변환 같은 고수준 수학 함수와 유사(pseudo) 난수 생성기를 포함함.\n",
        "\n",
        " - 선형 대수: 벡터, 행렬, 선형 변환을 연구하는 수학 분야임.\n",
        "\n",
        " - 푸리에 변환: 시간의 함수인 신호 등을 주파수 성분으로 분해하는 변환임.\n",
        "\n",
        " - 난수: 초깃값을 이용하여 이미 결정되어 있는 메커니즘에 의해 생성되는 난수로, 초깃값을 알면 언제든 같은 값을 다시 만들 수 있으므로 진짜 난수와 구별하여 유사 난수라고 함.\n",
        "\n",
        "- 사이킷런에서 넘파이 배열은 기본 데이터 구조이며, 넘파이 배열 형태의 데이터를 입력으로 받음. 우리가 사용할 데이터는 반드시 넘파이 배열로 변환되어야 함.\n",
        "\n",
        "- 넘파이가 가진 핵심 기능은 다차원(n-차원) 배열인 'ndarray' 클래스임. 이 배열의 모든 원소는 동일한 데이터 타입이어야 함."
      ]
    },
    {
      "cell_type": "code",
      "metadata": {
        "colab": {
          "base_uri": "https://localhost:8080/"
        },
        "id": "eCbIGj1bi5-q",
        "outputId": "196dcbbf-2077-4250-9dd8-f31e1367797d"
      },
      "source": [
        "# 넘파이 배열의 예를 제시함.\n",
        "import numpy as np\n",
        "\n",
        "x = np.array([[1, 2, 3], [4, 5, 6]])\n",
        "print(\"x:\\n\", x)"
      ],
      "execution_count": 1,
      "outputs": [
        {
          "output_type": "stream",
          "text": [
            "x:\n",
            " [[1 2 3]\n",
            " [4 5 6]]\n"
          ],
          "name": "stdout"
        }
      ]
    },
    {
      "cell_type": "markdown",
      "metadata": {
        "id": "ROmZOtKn_L1J"
      },
      "source": [
        "## 1.4.3 Scipy\n",
        "\n",
        "[사이파이](http://www.scipy.org/scipylib)는 과학 계산용 함수를 모아놓은 파이썬 패키지이며, 고성능 선형 대수, 함수 최적화, 신호 처리, 특수한 수학 함수와 통계 분포 등을 포함한 많은 기능을 제공함. 사이킷런은 알고리즘을 구현할 때 사이파이의 여러 함수를 사용하는데, 그중에서 가장 중요한 기능은 'scipy.sparse'임. 이 모듈은 사이킷런에서 데이터를 표현하는 또 하나의 방법인 희소 행렬(희박 행렬, sparse matrix) 기능을 제공함.\n",
        "\n",
        " - 희소 행렬: 행렬의 값이 대부분 0인 경우를 가리키는 표현이며, 0을 많이 포함한 2차원 배열을 저장할 때 사용함. 그와 반대되는 표현으로는 밀집행렬(dense matrix), 조밀행렬이 사용됨. 개념적으로 희소성은 시스템들이 약하게 연결된 것에 해당함."
      ]
    },
    {
      "cell_type": "code",
      "metadata": {
        "colab": {
          "base_uri": "https://localhost:8080/"
        },
        "id": "IWBaWdfDkkbq",
        "outputId": "ac0abb74-1341-489c-9804-95ce9f0fbdd0"
      },
      "source": [
        "# 희소 행렬을 예로 듦.\n",
        "from scipy import sparse\n",
        "\n",
        "# 대각선 원소는 1, 나머지는 0인 2차원 배열을 만듦.\n",
        "eye = np.eye(4)\n",
        "print(\"Numpy 배열:\\n\", eye)\n",
        "\n",
        "# 넘파이 배열을 CSR 포맷의 사이파이 희박 행렬로 변환함.\n",
        "sparse_matrix = sparse.csr_matrix(eye)\n",
        "print(\"\\nScipy의 CSR 행렬:\\n\", sparse_matrix)"
      ],
      "execution_count": 7,
      "outputs": [
        {
          "output_type": "stream",
          "text": [
            "Numpy 배열:\n",
            " [[1. 0. 0. 0.]\n",
            " [0. 1. 0. 0.]\n",
            " [0. 0. 1. 0.]\n",
            " [0. 0. 0. 1.]]\n",
            "\n",
            "Scipy의 CSR 행렬:\n",
            "   (0, 0)\t1.0\n",
            "  (1, 1)\t1.0\n",
            "  (2, 2)\t1.0\n",
            "  (3, 3)\t1.0\n"
          ],
          "name": "stdout"
        }
      ]
    },
    {
      "cell_type": "markdown",
      "metadata": {
        "id": "lqRSITiL_Lys"
      },
      "source": [
        "## 1.4.4 matplotlib"
      ]
    },
    {
      "cell_type": "markdown",
      "metadata": {
        "id": "1vkMkTRZ_LwJ"
      },
      "source": [
        "## 1.4.5 pandas"
      ]
    },
    {
      "cell_type": "markdown",
      "metadata": {
        "id": "YpaUx8YA_Lty"
      },
      "source": [
        "## 1.4.6 mglearn"
      ]
    },
    {
      "cell_type": "markdown",
      "metadata": {
        "id": "XCmlzXkb_Lra"
      },
      "source": [
        "# 1.5 파이썬2 vs.파이썬3"
      ]
    },
    {
      "cell_type": "markdown",
      "metadata": {
        "id": "Bnk74gec_LpJ"
      },
      "source": [
        "# 1.6 이 책에서 사용하는 소프트웨어 버전"
      ]
    },
    {
      "cell_type": "markdown",
      "metadata": {
        "id": "L3FTgj8J_Lmy"
      },
      "source": [
        "# 1.7 첫 번째 애플리케이션: 붓꽃의 품종 분류"
      ]
    },
    {
      "cell_type": "markdown",
      "metadata": {
        "id": "IVJdg1DZ_LkK"
      },
      "source": [
        "## 1.7.1 데이터 적재"
      ]
    },
    {
      "cell_type": "markdown",
      "metadata": {
        "id": "I_4-aoK7_Lhp"
      },
      "source": [
        "## 1.7.2 성과 측정: 훈련 데이터와 테스트 데이터"
      ]
    },
    {
      "cell_type": "markdown",
      "metadata": {
        "id": "PmctCO-X_LD4"
      },
      "source": [
        "## 1.7.3 가장 먼저 할 일: 데이터 살펴보기"
      ]
    },
    {
      "cell_type": "markdown",
      "metadata": {
        "id": "7lpiCcHFAQ51"
      },
      "source": [
        "## 1.7.4 첫 번째 머신러닝 모델: k-최근접 이웃 알고리즘"
      ]
    },
    {
      "cell_type": "markdown",
      "metadata": {
        "id": "PBAZGHCuAQ1u"
      },
      "source": [
        "## 1.7.5 예측하기"
      ]
    },
    {
      "cell_type": "markdown",
      "metadata": {
        "id": "vUGckIwEAQxU"
      },
      "source": [
        "## 1.7.6 모델 평가하기"
      ]
    },
    {
      "cell_type": "markdown",
      "metadata": {
        "id": "FffQFNvcAQt8"
      },
      "source": [
        "# 1.8 요약 및 정리"
      ]
    }
  ]
}