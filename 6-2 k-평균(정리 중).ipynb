{
  "nbformat": 4,
  "nbformat_minor": 0,
  "metadata": {
    "colab": {
      "name": "k-평균(정리 중).ipynb",
      "provenance": [],
      "toc_visible": true,
      "authorship_tag": "ABX9TyNEmyBWPbg/1g53hXSa3smo",
      "include_colab_link": true
    },
    "kernelspec": {
      "name": "python3",
      "display_name": "Python 3"
    },
    "language_info": {
      "name": "python"
    }
  },
  "cells": [
    {
      "cell_type": "markdown",
      "metadata": {
        "id": "view-in-github",
        "colab_type": "text"
      },
      "source": [
        "<a href=\"https://colab.research.google.com/github/LeeSeungwon89/Lecture-and-self-study/blob/master/k-%ED%8F%89%EA%B7%A0(%EC%A0%95%EB%A6%AC%20%EC%A4%91).ipynb\" target=\"_parent\"><img src=\"https://colab.research.google.com/assets/colab-badge.svg\" alt=\"Open In Colab\"/></a>"
      ]
    },
    {
      "cell_type": "markdown",
      "metadata": {
        "id": "6jC_uqiK2rr6"
      },
      "source": [
        "# k-평균"
      ]
    },
    {
      "cell_type": "markdown",
      "metadata": {
        "id": "4Z_gbzbg2wuG"
      },
      "source": [
        "## KMeans 클래스"
      ]
    },
    {
      "cell_type": "markdown",
      "metadata": {
        "id": "czrKvZcl2-E-"
      },
      "source": [
        "## 클러스터 중심"
      ]
    },
    {
      "cell_type": "markdown",
      "metadata": {
        "id": "wh37R68-2wqu"
      },
      "source": [
        "## 최적의 k 찾기"
      ]
    }
  ]
}
