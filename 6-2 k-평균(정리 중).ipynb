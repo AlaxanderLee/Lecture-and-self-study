{
  "nbformat": 4,
  "nbformat_minor": 0,
  "metadata": {
    "colab": {
      "name": "6-2 k-평균(정리 중).ipynb",
      "provenance": [],
      "collapsed_sections": [],
      "toc_visible": true,
      "authorship_tag": "ABX9TyO5kDP1kEv74PXI3owWEsjT",
      "include_colab_link": true
    },
    "kernelspec": {
      "name": "python3",
      "display_name": "Python 3"
    },
    "language_info": {
      "name": "python"
    }
  },
  "cells": [
    {
      "cell_type": "markdown",
      "metadata": {
        "id": "view-in-github",
        "colab_type": "text"
      },
      "source": [
        "<a href=\"https://colab.research.google.com/github/LeeSeungwon89/Lecture-and-self-study/blob/master/6-2%20k-%ED%8F%89%EA%B7%A0(%EC%A0%95%EB%A6%AC%20%EC%A4%91).ipynb\" target=\"_parent\"><img src=\"https://colab.research.google.com/assets/colab-badge.svg\" alt=\"Open In Colab\"/></a>"
      ]
    },
    {
      "cell_type": "markdown",
      "metadata": {
        "id": "6jC_uqiK2rr6"
      },
      "source": [
        "# k-평균\n",
        "\n",
        "- 이전 절에서는 어떤 과일 사진인지 아는 상태로 각 과일 이미지의 평균값을 구하여 가장 가까운 사진을 골랐으나, 실제 비지도 학습에서는 사진에 어떤 과일이 들어 있는지 알 수 없으므로 'k-평균(k-means)' 군집 알고리즘을 사용하여 평균값을 찾음. 이 평균값이 클러스터의 중심에 위치하므로 '클러스터 중심(Cluster Center)' 또는 '센트로이드(Centroid)' 라고 부름.\n",
        "\n",
        "- k-평균 알고리즘의 작동 방식\n",
        "\n",
        " 1. 무작위로 k개의 클러스터 중심을 정함.\n",
        "\n",
        " 1. 각 샘플에서 가장 가까운 클러스터 중심을 찾아서 해당 클러스터의 샘플로 지정함.\n",
        "\n",
        " 1. 클러스터에 속한 샘플의 평균값으로 클러스터 중심을 변경함.\n",
        "\n",
        " 1. 클러스터 중심에 변화가 없을 때까지 위 2번으로 돌아가 반복함.\n",
        "\n",
        " 이를 그림으로 나타내면 아래와 같음. 그림에 매겨진 번호는 아래 설명의 목록 번호와 대응함. 과일 위치는 고정된 상태임.\n",
        "\n",
        "<img src='https://drive.google.com/uc?export=view&id=1GVCIPrek_1XUNZWp8sQCiHPYD5qafdcg'>\n",
        "\n",
        "1. 먼저 클러스터 중심(빨간 점) 3개를 랜덤하게 지정하고, 클러스터 중심에서 가장 가까운 샘플을 하나의 클러스터로 묶음. 클러스터에는 순서나 번호가 무의미함.\n",
        "\n",
        "1. 클러스터 중심을 계산하여 이동시킴. 왼쪽 위의 클러스터는 바나나 쪽으로(오른쪽 위로) 중심이 더 이동하고, 맨 아래 클러스터는 사과 쪽으로(왼쪽 위로) 중심이 더 이동하고, 오른쪽 위의 클러스터는 파인애플 쪽으로(아래로) 중심이 더 이동함. 가장 가까운 샘플을 다시 클러스터로 묶으면 클러스터 3개에 바나나, 사과, 파인애플이 3개씩 묶임.\n",
        "\n",
        "1. 다시 클러스터 중심을 계산하여 클러스터 중심 3개를 클러스터의 가운데 부분으로 이동시킴. 이동된 클러스터 중심에서 가장 가까운 샘플을 클러스터로 묶음. 중심에서 가장 가까운 샘플은 이전 클러스터(2)와 동일하게 구성된 상태임.\n",
        "\n",
        "1. 만들어진 클러스터에 변동이 없으므로 k-평균 알고리즘을 종료함."
      ]
    },
    {
      "cell_type": "markdown",
      "metadata": {
        "id": "4Z_gbzbg2wuG"
      },
      "source": [
        "## KMeans 클래스"
      ]
    },
    {
      "cell_type": "markdown",
      "metadata": {
        "id": "czrKvZcl2-E-"
      },
      "source": [
        "## 클러스터 중심"
      ]
    },
    {
      "cell_type": "markdown",
      "metadata": {
        "id": "wh37R68-2wqu"
      },
      "source": [
        "## 최적의 k 찾기"
      ]
    }
  ]
}