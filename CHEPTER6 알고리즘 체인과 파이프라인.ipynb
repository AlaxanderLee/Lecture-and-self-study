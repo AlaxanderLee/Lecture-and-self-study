{
  "nbformat": 4,
  "nbformat_minor": 0,
  "metadata": {
    "colab": {
      "name": "CHEPTER6 알고리즘 체인과 파이프라인.ipynb",
      "provenance": [],
      "toc_visible": true,
      "authorship_tag": "ABX9TyMQg3pprJJV5DvkCdn7Z9CT",
      "include_colab_link": true
    },
    "kernelspec": {
      "name": "python3",
      "display_name": "Python 3"
    },
    "language_info": {
      "name": "python"
    }
  },
  "cells": [
    {
      "cell_type": "markdown",
      "metadata": {
        "id": "view-in-github",
        "colab_type": "text"
      },
      "source": [
        "<a href=\"https://colab.research.google.com/github/LeeSeungwon89/Lecture-and-Self-study/blob/master/CHEPTER6%20%EC%95%8C%EA%B3%A0%EB%A6%AC%EC%A6%98%20%EC%B2%B4%EC%9D%B8%EA%B3%BC%20%ED%8C%8C%EC%9D%B4%ED%94%84%EB%9D%BC%EC%9D%B8.ipynb\" target=\"_parent\"><img src=\"https://colab.research.google.com/assets/colab-badge.svg\" alt=\"Open In Colab\"/></a>"
      ]
    },
    {
      "cell_type": "markdown",
      "metadata": {
        "id": "8NNtqqF0TZOK"
      },
      "source": [
        "# 6.1 데이터 전처리와 매개변수 선택"
      ]
    },
    {
      "cell_type": "markdown",
      "metadata": {
        "id": "Ey0pHbjvTZLk"
      },
      "source": [
        "# 6.2 파이프라인 구축하기"
      ]
    },
    {
      "cell_type": "markdown",
      "metadata": {
        "id": "eVaJJ9PhTZI7"
      },
      "source": [
        "# 6.3 그리드 서치에 파이프라인 적용하기"
      ]
    },
    {
      "cell_type": "markdown",
      "metadata": {
        "id": "Z7UhOiItTZGR"
      },
      "source": [
        "# 6.4 파이프라인 인터페이스"
      ]
    },
    {
      "cell_type": "markdown",
      "metadata": {
        "id": "S03lLX5STZD5"
      },
      "source": [
        "## 6.4.1 make_pipeline을 사용한 파이프라인 생성"
      ]
    },
    {
      "cell_type": "markdown",
      "metadata": {
        "id": "rydBCRFUTZBT"
      },
      "source": [
        "## 6.4.2 단계 속성에 접근하기"
      ]
    },
    {
      "cell_type": "markdown",
      "metadata": {
        "id": "j-dYgeNQTY-z"
      },
      "source": [
        "## 6.4.3 그리드 서치 안의 파이프라인 속성에 접근하기"
      ]
    },
    {
      "cell_type": "markdown",
      "metadata": {
        "id": "YvtCGXHJTY8U"
      },
      "source": [
        "# 6.5 전처리와 모델의 매개변수를 위한 그리드 서치"
      ]
    },
    {
      "cell_type": "markdown",
      "metadata": {
        "id": "eE5rqfPRTY5y"
      },
      "source": [
        "# 6.6 모델 선택을 위한 그리드 서치"
      ]
    },
    {
      "cell_type": "markdown",
      "metadata": {
        "id": "G-5snoE4TY3D"
      },
      "source": [
        "## 6.6.1 중복 계산 피하기"
      ]
    },
    {
      "cell_type": "markdown",
      "metadata": {
        "id": "s5rPHdvwTY0n"
      },
      "source": [
        "# 6.7 요약 및 정리"
      ]
    }
  ]
}