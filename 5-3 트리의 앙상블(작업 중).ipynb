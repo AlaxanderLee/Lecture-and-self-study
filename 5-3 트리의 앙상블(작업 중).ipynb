{
  "nbformat": 4,
  "nbformat_minor": 0,
  "metadata": {
    "colab": {
      "name": "5-3 트리의 앙상블(작업 중).ipynb",
      "provenance": [],
      "collapsed_sections": [],
      "toc_visible": true,
      "authorship_tag": "ABX9TyOG8N3H1L7zznxb+CW5Xkx/",
      "include_colab_link": true
    },
    "kernelspec": {
      "name": "python3",
      "display_name": "Python 3"
    },
    "language_info": {
      "name": "python"
    }
  },
  "cells": [
    {
      "cell_type": "markdown",
      "metadata": {
        "id": "view-in-github",
        "colab_type": "text"
      },
      "source": [
        "<a href=\"https://colab.research.google.com/github/LeeSeungwon89/Lecture-and-self-study/blob/master/5-3%20%ED%8A%B8%EB%A6%AC%EC%9D%98%20%EC%95%99%EC%83%81%EB%B8%94(%EC%9E%91%EC%97%85%20%EC%A4%91).ipynb\" target=\"_parent\"><img src=\"https://colab.research.google.com/assets/colab-badge.svg\" alt=\"Open In Colab\"/></a>"
      ]
    },
    {
      "cell_type": "markdown",
      "metadata": {
        "id": "52iVN67BFPWl"
      },
      "source": [
        "# 트리의 앙상블"
      ]
    },
    {
      "cell_type": "markdown",
      "metadata": {
        "id": "KvnXEPK7EJMw"
      },
      "source": [
        "## 앙상블 학습\n",
        "\n",
        "- 앙상블 학습(Ensemble learning): 'Ensemble' 은 '전체적인 어울림이나 통일', '합주단' 등을 의미하며, 앙상블 학습은 더 좋은 예측 결과를 만들기 위해 여러 개의 모델을 훈련하는 결정 트리 기반 머신러닝 알고리즘을 의미함. 아래에서 설명하는 '정형 데이터' 를 다루는 데 가장 뛰어난 성과를 냄.\n"
      ]
    },
    {
      "cell_type": "markdown",
      "metadata": {
        "id": "5cSetDMTG7fd"
      },
      "source": [
        "## 정형 데이터와 비정형 데이터\n",
        "\n",
        "- 정형 데이터: 구조화 된 데이터를 의미하며 CSV, Database, Excel에 저장하기 쉬움.\n",
        "\n",
        "- 비정형 데이터: 비구조화 된 데이터로 텍스트 데이터, 사진, 디지털 음악 등을 의미함. 규칙성을 찾기 어려워 전통적인 머신러닝 방법으로 모델을 만들기 어려우므로 '신경망 알고리즘' 을 활용하여 모델을 만듦."
      ]
    },
    {
      "cell_type": "markdown",
      "metadata": {
        "id": "Lhy6_HGYUySn"
      },
      "source": [
        "## 데이터 준비"
      ]
    },
    {
      "cell_type": "code",
      "metadata": {
        "id": "SfHyka9QU0B4"
      },
      "source": [
        "import numpy as np\n",
        "import pandas as pd\n",
        "from sklearn.model_selection import train_test_split\n",
        "\n",
        "wine = pd.read_csv('https://bit.ly/wine_csv_data')\n",
        "\n",
        "data = wine[['alcohol', 'sugar', 'pH']].to_numpy()\n",
        "\n",
        "target = wine['class'].to_numpy()\n",
        "\n",
        "train_input, test_input, train_target, test_target = train_test_split(data, target, test_size = 0.2, random_state = 42)"
      ],
      "execution_count": 31,
      "outputs": []
    },
    {
      "cell_type": "markdown",
      "metadata": {
        "id": "z8VxCiG9G9wl"
      },
      "source": [
        "## 랜덤 포레스트\n",
        "\n",
        "- '랜덤 포레스트(Random Forest)' 는 앙상블 학습의 대표 주자로 안정적인 성능을 내며, 앙상블 학습을 적용할 때 가장 먼저 시도하길 권장하는 모델임. 결정 트리를 랜덤하게 만들어 결정 트리의 숲을 만들고, 각 결정 트리의 예측을 사용하여 최종 예측을 만듦. \n",
        "\n",
        "- 각 트리를 훈련하기 위한 데이터를 랜덤하게 만드는데, 입력한 훈련 데이터에서 랜덤하게 샘플을 추출하여 훈련 데이터를 만듦. 이때 한 샘플이 중복되어 추출될 수 있음.\n",
        "\n",
        " - e.g. 가방 1,000개에서 샘플을 100개씩 뽑는다면 먼저 1개를 뽑고, 뽑았던 1개를 다시 가방에 넣음. 이렇게 계속 100개를 가방에서 뽑으면 중복된 샘플을 뽑을 수 있는데 이 샘플을 '부트스트랩 샘플(Bootstrap sample)' 이라고 부름. 기본적으로 훈련 세트의 크기와 같게 만듦. 가방 1,000개에서 중복하여 샘플 1,000개를 뽑기 때문에 부트스트랩 샘플은 훈련 세트와 크기가 같음.\n",
        "\n",
        " - 부트스트랩(Bootstrap): 보통 부트스트랩 방식이라고 부르며, 위 예시처럼 데이터 세트에서 중복을 허용하여 데이터를 샘플링하는 방식을 의미함.\n",
        "\n",
        "- 각 노드를 분할할 때 전체 특성 중에서 일부 특성을 무작위로 고른 다음 이 중에서 최선의 분할을 찾음.\n",
        "\n",
        " - RandomForestClassifier: 분류 클래스이며, 전체 특성 개수의 제곱근만큼 특성을 사용함. 즉 특성 4개가 있다면 노드마다 2개를 랜덤하게 선택하여 사용함.\n",
        " \n",
        " - RandomForestRegressor: 회귀 클래스이며, 전체 특성을 사용함.\n",
        "\n",
        "- 기본적으로 결정 트리 100개를 이 방식으로 훈련함.\n",
        "\n",
        " - 분류일 경우에는 각 트리의 클래스별 확률을 평균하여 가장 높은 확률을 가진 클래스를 예측으로 삼음. \n",
        " \n",
        " - 회귀일 경우에는 각 트리의 예측을 평균한 값을 예측으로 삼음.\n",
        "\n",
        "- 랜덤하게 선택한 샘플과 특성을 사용하기 때문에 훈련 세트에 과대적합되는 것을 방지하고, 검증 세트와 테스트 세트에서 안정적인 성능을 얻을 수 있음. 종종 기본 매개변수 설정만으로도 좋은 결과를 냄.\n",
        "\n",
        "- 결정 트리의 앙상블이므로 'DecisionTreeClassifier' 가 제공하는 중요한 매개변수인 'criterion', 'max_depth', 'max_feature', 'min_samples_split', 'min_impurity_decrease', 'min_samples_leaf' 등을 모두 제공함.\n",
        "\n",
        "- 결정 트리의 큰 장점 중 하나인 특성 중요도를 계산함. 랜덤 포레스트의 특성 중요도는 각 결정 트리의 특성 중요도를 취합한 것임."
      ]
    },
    {
      "cell_type": "markdown",
      "metadata": {
        "id": "OomQQ2kEz4tj"
      },
      "source": [
        "### 교차 검증 수행하기"
      ]
    },
    {
      "cell_type": "code",
      "metadata": {
        "colab": {
          "base_uri": "https://localhost:8080/"
        },
        "id": "dD7qgN-8iLiS",
        "outputId": "949a38c9-fec3-43e9-eba0-4bc2bf6f5587"
      },
      "source": [
        "# 교차 검증을 수행함.\n",
        "from sklearn.model_selection import cross_validate\n",
        "from sklearn.ensemble import RandomForestClassifier\n",
        "\n",
        "rf = RandomForestClassifier(n_jobs = -1, random_state = 42)\n",
        "\n",
        "scores = cross_validate(rf, train_input, train_target, return_train_score = True, n_jobs = -1)\n",
        "print(scores)\n",
        "print(np.mean(scores['train_score']), np.mean(scores['test_score']))\n",
        "# 과대적합 상태임.\n",
        "# 알고리즘을 살펴보는 것이 목적이므로 매개변수를 더 조정하지는 않음.\n",
        "# 아울러 이 예제는 매우 간단하고 특성이 많지 않아서\n",
        "# 그리드 서치를 사용하더라도 하이퍼파라미터 튜닝 결과가 크게 나아지지 않음."
      ],
      "execution_count": 32,
      "outputs": [
        {
          "output_type": "stream",
          "text": [
            "{'fit_time': array([0.68459678, 0.68059158, 0.57527351, 0.57876396, 0.34141064]), 'score_time': array([0.10279608, 0.10284066, 0.10212255, 0.10354638, 0.10208797]), 'test_score': array([0.88461538, 0.88942308, 0.90279115, 0.88931665, 0.88642926]), 'train_score': array([0.9971133 , 0.99663219, 0.9978355 , 0.9973545 , 0.9978355 ])}\n",
            "0.9973541965122431 0.8905151032797809\n"
          ],
          "name": "stdout"
        }
      ]
    },
    {
      "cell_type": "markdown",
      "metadata": {
        "id": "m854VuQfz9HN"
      },
      "source": [
        "### 모델 훈련 후 특성 중요도 출력하기"
      ]
    },
    {
      "cell_type": "code",
      "metadata": {
        "colab": {
          "base_uri": "https://localhost:8080/"
        },
        "id": "W_V7LcfMxhoM",
        "outputId": "902abdca-69d0-4a88-ece5-d378a048bcb9"
      },
      "source": [
        "# 모델 훈련 후 특성 중요도를 출력함. 특성 중요도는 'feature_importances_' 속성에 저장됨.\n",
        "rf.fit(train_input, train_target)\n",
        "print(rf.feature_importances_)\n",
        "# 앞의 1절에서 결정 트리 모델의 특성 중요도는 [0.12345626, 0.86862934, 0.0079144] 이고, 각각 alcohol, sugar, pH를 나타냄. \n",
        "# 랜덤 포레스트 점수와 비교하면 alcohol과 pH의 중요도가 상승하고 sugar의 중요도가 감소함. \n",
        "# 이런 이유는 랜덤 포레스트가 특성의 일부를 랜덤하게 선택하여 결정 트리를 훈련하기 때문임.\n",
        "# 즉 하나의 특성에 과도하게 집중하지 않고 좀 더 많은 특성이 훈련에 기여할 기회를 부여하는 것임.\n",
        "# 이렇게 하여 과대적합을 줄이고 일반화 성능을 높이는 데 도움이 됨."
      ],
      "execution_count": 33,
      "outputs": [
        {
          "output_type": "stream",
          "text": [
            "[0.23167441 0.50039841 0.26792718]\n"
          ],
          "name": "stdout"
        }
      ]
    },
    {
      "cell_type": "markdown",
      "metadata": {
        "id": "ifOucmQO1K-5"
      },
      "source": [
        "### OOB 샘플로 모델 평가하기\n",
        "\n",
        "- 'RandomForestClassifier' 의 기능 중에 자체적으로 모델을 평가하는 점수를 얻을 수 있는 기능이 있음. 부트스트랩 샘플에 포함되지 않고 남는 샘플을 'OOB(out of bag)' 이라고 하는데, 이 남는 샘플을 사용하여 부트스트랩 샘플로 훈련한 결정 트리를 평가함. '검증 세트' 역할을 한다고 볼 수 있으며, 교차 검증을 대신하므로 훈련 세트에 더 많은 샘플을 사용할 수 있음.\n",
        "\n",
        "- 이 OOB 점수를 평균하여 출력하기 위해 'RandomForestClassifier' 클래스의 'oob_score' 매개변수를 Ture로 지정해야 함. 기본값은 False. "
      ]
    },
    {
      "cell_type": "code",
      "metadata": {
        "colab": {
          "base_uri": "https://localhost:8080/"
        },
        "id": "4Auw_yTnQtyG",
        "outputId": "29bf2536-fa18-4b2f-af53-b7107a5b9fb3"
      },
      "source": [
        "rf = RandomForestClassifier(oob_score = True, n_jobs = -1, random_state = 42)\n",
        "\n",
        "rf.fit(train_input, train_target)\n",
        "print(rf.oob_score_)\n",
        "# 교차 검증에서 얻은 점수와 비슷한 결과를 얻음."
      ],
      "execution_count": 34,
      "outputs": [
        {
          "output_type": "stream",
          "text": [
            "0.8934000384837406\n"
          ],
          "name": "stdout"
        }
      ]
    },
    {
      "cell_type": "markdown",
      "metadata": {
        "id": "GkXLggQ5HJI5"
      },
      "source": [
        "## 엑스트라 트리\n",
        "\n",
        "- '엑스트라 트리(Extra Trees)' 는 랜덤 포레스트와 매우 비슷하게 작동하는 클래스로, 기본적으로 100개의 결정 트리를 훈련하며, 랜덤 포레스트와 동일하게 결정 트리가 제공하는 매개변수 대부분을 지원함. \n",
        "\n",
        "- 일부 특성을 랜덤하게 선택하여 노드를 분할하는 데 사용함.\n",
        "\n",
        "- 결정 트리를 만들 때 전체 훈련 세트를 사용하므로, 부트스트랩 샘플을 사용하지 않음.\n",
        "\n",
        "- 노드를 분할할 때 가장 좋은 분할을 찾지 않고 무작위로 분할함. 이렇게 무작위로 분할하면 모델 성능이 낮아지겠지만, 많은 트리를 앙상블 하기 때문에 과대적합을 막고 검증 세트 점수를 높이는 효과가 있음. 아래에서 추가로 설명함.\n",
        "\n",
        "- 'DecisionTreeClassifier' 클래스의 'splitter' 매개변수를 'random' 으로 지정하면 엑스트라 트리와 동일함.\n",
        "\n",
        "- 'ExtraTreesClassifier' 클래스는 분류 모델, 'ExtraTreesRegressor' 클래스는 회귀 모델임."
      ]
    },
    {
      "cell_type": "markdown",
      "metadata": {
        "id": "PR8suVNpXSdD"
      },
      "source": [
        "### 교차 검증 수행하기"
      ]
    },
    {
      "cell_type": "code",
      "metadata": {
        "colab": {
          "base_uri": "https://localhost:8080/"
        },
        "id": "mNIbEPxtWtEc",
        "outputId": "9d7638ad-96fe-4033-a622-0167fbaa3773"
      },
      "source": [
        "# 교차 검증을 수행함.\n",
        "from sklearn.ensemble import ExtraTreesClassifier\n",
        "\n",
        "et = ExtraTreesClassifier(n_jobs = -1, random_state = 42)\n",
        "\n",
        "scores = cross_validate(et, train_input, train_target, return_train_score = True, n_jobs = -1)\n",
        "print(np.mean(scores['train_score']), np.mean(scores['test_score']))\n",
        "# 랜덤 포레스트와 비슷한 결과를 출력함. 이 예제는 특성이 많지 않아서 두 모델의 차이가 크지 않음.\n",
        "# 보통 엑스트라 트리가 무작위성이 더 크기 때문에 랜덤 포레스트보다 더 많은 결정 트리를 훈련해야 함.\n",
        "# 더 많은 결정 트리를 훈련하지만 노드를 랜덤하게 분할하므로 계산 속도가 빠름."
      ],
      "execution_count": 35,
      "outputs": [
        {
          "output_type": "stream",
          "text": [
            "0.9974503966084433 0.8887848893166506\n"
          ],
          "name": "stdout"
        }
      ]
    },
    {
      "cell_type": "markdown",
      "metadata": {
        "id": "Vr1JCMThYkK0"
      },
      "source": [
        "### 모델 훈련 후 특성 중요도 출력하기"
      ]
    },
    {
      "cell_type": "code",
      "metadata": {
        "colab": {
          "base_uri": "https://localhost:8080/"
        },
        "id": "AWo1LCzIYmnz",
        "outputId": "440747b5-439c-442f-8970-b2437c636fa1"
      },
      "source": [
        "et.fit(train_input, train_target)\n",
        "print(et.feature_importances_)\n",
        "# 앞의 1절에서 결정 트리 모델의 특성 중요도는 [0.12345626, 0.86862934, 0.0079144] 이고, 각각 alcohol, sugar, pH를 나타냄.\n",
        "# 엑스트라 트리의 점수와 비교하면 alcohol과 pH의 중요도가 상승하고 sugar의 중요도가 감소함. "
      ],
      "execution_count": 36,
      "outputs": [
        {
          "output_type": "stream",
          "text": [
            "[0.20183568 0.52242907 0.27573525]\n"
          ],
          "name": "stdout"
        }
      ]
    },
    {
      "cell_type": "markdown",
      "metadata": {
        "id": "bSMrl_AsHKss"
      },
      "source": [
        "## 그레이디언트 부스팅\n",
        "\n",
        "- '그레이디언트 부스팅(Gradient boosting)' 은 깊이가 얕은 결정 트리를 사용하여 이전 트리의 오차를 보완하는 방식으로 앙상블 하는 방법이며, 그레이디언트(Gradient)의 의미처럼 '경사 하강법' 을 사용하여 트리를 앙상블에 추가함. 이전에 설명했듯이 '경사 하강법' 은 손실 함수를 산으로 정의하고 가장 낮은 곳을 찾아 내려오는 과정임.\n",
        "\n",
        "- 모델의 가중치와 절편을 조금씩 바꾸면서 가장 낮은 곳으로 내려옴. 손실 함수의 낮은 곳으로 천천히 조금씩 이동하기 위해 깊이가 얕은 결정 트리를 계속 추가하면서 이동하는 방법을 취함.\n",
        "\n",
        "- 분류에서는 '로지스틱 손실 함수' 를 사용하고, 회귀에서는 '평균 제곱 오차 함수' 를 사용함.\n",
        "\n",
        "- GradientBoostingClassifier: 기본적으로 깊이가 3인 결정 트리를 100개 사용하는 분류 클래스. 깊이가 얕은 결정 트리를 사용하므로 과대적합에 강하고 높은 일반화 성능을 낼 수 있음.\n",
        "\n",
        "- GradientBoostingRegressor: 그레이디언트 부스팅의 회귀 클래스.\n",
        "\n",
        " - n_estimators: 트리 개수를 지정하는 매개변수. 기본값은 100.\n",
        "\n",
        " - learning_rate: 학습률을 지정하는 매개변수. 속도를 조절할 수 있으며 기본값은 0.1.\n",
        "\n",
        " - subsample: 트리 훈련에 사용하는 훈련 세트의 비율을 정하는 매개변수. 기본값은 1.0으로 전체 훈련 세트를 사용함. 1.0보다 작으면 훈련 세트 일부를 사용하며, 경사 하강법 단계마다 일부 샘플을 랜덤하게 선택하여 진행하는 '확률적 경사 하강법'이나 '미니배치 경사 하강법' 과 비슷함.\n",
        "\n",
        "- 일반적으로 그레이디언트 부스팅이 랜덤 포레스트보다 조금 더 높은 성능을 내지만, 순서대로 트리를 추가하기 때문에 훈련 속도가 느림. 즉 'GradientBoostingClassifier' 클래스에는 'n_jobs' 매개변수가 없음."
      ]
    },
    {
      "cell_type": "markdown",
      "metadata": {
        "id": "mqEVC36895d2"
      },
      "source": [
        "### 교차 검증 수행하기"
      ]
    },
    {
      "cell_type": "code",
      "metadata": {
        "id": "JDwMo4E1bPgM",
        "colab": {
          "base_uri": "https://localhost:8080/"
        },
        "outputId": "239f96d4-cd28-408e-94fd-40cabde74e69"
      },
      "source": [
        "# 'GradientBoostingClassifier' 클래스를 사용하여 교차 검증 점수를 확인함.\n",
        "from sklearn.ensemble import GradientBoostingClassifier\n",
        "\n",
        "gb = GradientBoostingClassifier(random_state = 42)\n",
        "\n",
        "scores = cross_validate(gb, train_input, train_target, return_train_score = True, n_jobs = -1)\n",
        "print(np.mean(scores['train_score']), np.mean(scores['test_score']))\n",
        "# 과대적합이 거의 되지 않음.\n",
        "# 그레이디언트 부스팅은 결정 트리 개수를 늘려도 과대적합에 매우 강함.\n",
        "# 학습률을 증가시키고 트리 개수를 늘리면 성능이 더 향상될 수 있음."
      ],
      "execution_count": 37,
      "outputs": [
        {
          "output_type": "stream",
          "text": [
            "0.8881086892152563 0.8720430147331015\n"
          ],
          "name": "stdout"
        }
      ]
    },
    {
      "cell_type": "markdown",
      "metadata": {
        "id": "dL2YcS5U98bS"
      },
      "source": [
        "### 매개변수를 조정하여 점수 출력하기"
      ]
    },
    {
      "cell_type": "code",
      "metadata": {
        "colab": {
          "base_uri": "https://localhost:8080/"
        },
        "id": "_dIIPUtX9zBX",
        "outputId": "84b98a45-07bb-4d21-938b-2c20061d2ed5"
      },
      "source": [
        "# 'n_estimators' 매개변수 값을 변경하여 결정 트리 개수를 500개로 늘리고\n",
        "# 'learning_rate' 매개변수 값을 변경하여 학습률을 0.2로 지정함.\n",
        "gb = GradientBoostingClassifier(n_estimators = 500, learning_rate = 0.2, random_state = 42)\n",
        "\n",
        "scores = cross_validate(gb, train_input, train_target, return_train_score = True, n_jobs = -1)\n",
        "print(np.mean(scores['train_score']), np.mean(scores['test_score']))"
      ],
      "execution_count": 38,
      "outputs": [
        {
          "output_type": "stream",
          "text": [
            "0.9464595437171814 0.8780082549788999\n"
          ],
          "name": "stdout"
        }
      ]
    },
    {
      "cell_type": "markdown",
      "metadata": {
        "id": "r4odBtT5_-jS"
      },
      "source": [
        "### 모델 훈련 후 특성 중요도 출력하기"
      ]
    },
    {
      "cell_type": "code",
      "metadata": {
        "colab": {
          "base_uri": "https://localhost:8080/"
        },
        "id": "BHJ7YdqfAGIZ",
        "outputId": "a73c8cfc-9574-4c63-8c1d-42f635629457"
      },
      "source": [
        "gb.fit(train_input, train_target)\n",
        "print(gb.feature_importances_)\n",
        "# 그레이디언트 부스팅은 sugar에 0.68010884만큼 집중하며,\n",
        "# 랜덤 포레스트의 sugar에 대한 집중도(0.50039841)보다 더 비중을 두고 집중함."
      ],
      "execution_count": 39,
      "outputs": [
        {
          "output_type": "stream",
          "text": [
            "[0.15872278 0.68010884 0.16116839]\n"
          ],
          "name": "stdout"
        }
      ]
    },
    {
      "cell_type": "markdown",
      "metadata": {
        "id": "6MLRAKvKHNU5"
      },
      "source": [
        "## 히스토그램 기반 그레이디언트 부스팅\n",
        "\n",
        "- 히스토그램 기반 그레이디언트 부스팅(Histogram-based Gradient Boosting)은 정형 데이터를 다루는 머신러닝 알고리즘 중에 가장 인기가 높은 알고리즘임,\n",
        "\n",
        "- 입력 특성을 256개 구간으로 나눠서 노드를 분할할 때 최적의 분할을 매우 빠르게 찾음. 256개 구간 중에 하나를 떼어 놓고 누락된 값을 위해 사용하며, 입력에 누락된 특성이 있더라도 따로 전처리할 필요가 없음.\n",
        "\n",
        "- HistGradientBoostingClassifier: 히스토그램 기반 그레이디언트 부스팅의 분류 클래스. 일반적으로 기본 매개변수로 안정적인 성능을 얻을 수 있음.\n",
        "\n",
        "- HistGradientBoostingRegressor: 히스토그램 기반 그레이디언트 부스팅의 회귀 클래스.\n",
        "\n",
        " - max_iter: 부스팅 반복 횟수를 지정하는 매개변수. 모델 성능을 높이려면 이 매개변수를 테스트 함. 트리 개수를 지정하는 'n_estimators' 매개변수 대신 사용함. "
      ]
    },
    {
      "cell_type": "markdown",
      "metadata": {
        "id": "Y3IacLQzLX50"
      },
      "source": [
        "### 교차 검증 수행하기"
      ]
    },
    {
      "cell_type": "code",
      "metadata": {
        "id": "BnJA_djXFJit",
        "colab": {
          "base_uri": "https://localhost:8080/"
        },
        "outputId": "3facb5fb-86c6-4b98-d9f0-80493f42f62d"
      },
      "source": [
        "# 히스토그램 기반 그레이디언트 부스팅은 아직 테스트 과정 중이며,\n",
        "# 사용하려면 'sklearn.experimental' 패키지에 있는 'enable_hist_gradient_boosting' 모듈을 임포트 해야 함.\n",
        "from sklearn.experimental import enable_hist_gradient_boosting\n",
        "from sklearn.ensemble import HistGradientBoostingClassifier\n",
        "\n",
        "hgb = HistGradientBoostingClassifier(random_state = 42)\n",
        "\n",
        "scores = cross_validate(hgb, train_input, train_target, return_train_score = True)\n",
        "print(np.mean(scores['train_score']), np.mean(scores['test_score']))\n",
        "# 과대적합을 제어하면서 그레이디언트 부스팅보다 좀 더 높은 성능을 냄."
      ],
      "execution_count": 40,
      "outputs": [
        {
          "output_type": "stream",
          "text": [
            "0.9321723946453317 0.8801241948619236\n"
          ],
          "name": "stdout"
        }
      ]
    },
    {
      "cell_type": "markdown",
      "metadata": {
        "id": "Rxhqg7imMulY"
      },
      "source": [
        "### 모델 훈련 후 특성 중요도 출력하기\n",
        "\n",
        "- 특성 중요도를 계산하려면 'permutation_importance()' 함수를 사용해야 함. 'permutation' 은 '순열, 치환' 을 의미함.\n",
        "\n",
        "- 특성을 하나씩 랜덤하게 섞어서 모델 성능이 변화하는지 관찰하여 어떤 특성이 중요한지 계산함.\n",
        "\n",
        " - n_repeats: 랜덤하게 섞을 횟수를 지정하는 매개변수.\n",
        "\n",
        "- 객체 3가지를 가짐.\n",
        "\n",
        " - improtances: 반복하여 얻은 특성 중요도.\n",
        "\n",
        " - importances_mean: 반복하여 얻은 특성 중요도의 평균.\n",
        "\n",
        " - importances_std: 반복하여 얻은 특성 중요도의 표준편차.\n",
        "\n",
        "- 훈련 세트뿐만 아니라 테스트 세트에서 적용할 수 있고, 사이킷런에서 제공하는 '추정기' 모델에도 적용 가능함."
      ]
    },
    {
      "cell_type": "code",
      "metadata": {
        "colab": {
          "base_uri": "https://localhost:8080/"
        },
        "id": "WyZSaZ9mMt0l",
        "outputId": "1b27bdcd-8740-4d9a-c492-8e68902bc48b"
      },
      "source": [
        "from sklearn.inspection import permutation_importance\n",
        "\n",
        "hgb.fit(train_input, train_target)\n",
        "\n",
        "result = permutation_importance(hgb, train_input, train_target,\n",
        "                                n_repeats = 10, random_state = 42, n_jobs = -1)\n",
        "\n",
        "print(result.importances)\n",
        "print(result.importances_mean)\n",
        "print(result.importances_std)\n",
        "# 이중에 평균은 랜덤 포레스트와 비슷한 비율을 나타냄."
      ],
      "execution_count": 41,
      "outputs": [
        {
          "output_type": "stream",
          "text": [
            "[[0.08793535 0.08350972 0.08908986 0.08312488 0.09274581 0.08755051\n",
            "  0.08601116 0.09601693 0.09082163 0.09082163]\n",
            " [0.22782374 0.23590533 0.23936887 0.23436598 0.23725226 0.23436598\n",
            "  0.23359631 0.23398114 0.23994612 0.22724649]\n",
            " [0.08581874 0.08601116 0.08062344 0.07504329 0.08427939 0.07792957\n",
            "  0.07234943 0.07465846 0.08139311 0.08466423]]\n",
            "[0.08876275 0.23438522 0.08027708]\n",
            "[0.00382333 0.00401363 0.00477012]\n"
          ],
          "name": "stdout"
        }
      ]
    },
    {
      "cell_type": "code",
      "metadata": {
        "colab": {
          "base_uri": "https://localhost:8080/"
        },
        "id": "eVVojPdxPysB",
        "outputId": "fbd9e3be-85b4-4fc4-c69f-9a253d7181f3"
      },
      "source": [
        "# 테스트 세트로 특성 중요도를 계산함.\n",
        "result = permutation_importance(hgb, test_input, test_target,\n",
        "                                n_repeats = 10, random_state = 42, n_jobs = -1)\n",
        "\n",
        "print(result.importances)\n",
        "print(result.importances_mean)\n",
        "print(result.importances_std)\n",
        "# 그레이디언트 부스팅과 비슷하게 좀 더 sugar에 집중함.\n",
        "# 이런 분석 과정을 통해 실전에 투입했을 때 어떤 특성에 관심을 가질지 예상할 수 있음."
      ],
      "execution_count": 43,
      "outputs": [
        {
          "output_type": "stream",
          "text": [
            "[[0.06230769 0.05769231 0.05538462 0.05538462 0.06076923 0.06076923\n",
            "  0.06846154 0.06230769 0.05461538 0.05923077]\n",
            " [0.20076923 0.2        0.21153846 0.20076923 0.20307692 0.18923077\n",
            "  0.19615385 0.19461538 0.21384615 0.21384615]\n",
            " [0.05692308 0.04692308 0.05076923 0.04769231 0.04692308 0.05\n",
            "  0.04384615 0.04692308 0.04307692 0.05692308]]\n",
            "[0.05969231 0.20238462 0.049     ]\n",
            "[0.004      0.007938   0.00453846]\n"
          ],
          "name": "stdout"
        }
      ]
    },
    {
      "cell_type": "markdown",
      "metadata": {
        "id": "jIh5kVDhSyEC"
      },
      "source": [
        "### 테스트 세트로 성능 확인하기"
      ]
    },
    {
      "cell_type": "code",
      "metadata": {
        "colab": {
          "base_uri": "https://localhost:8080/"
        },
        "id": "EPKvDthmSxZj",
        "outputId": "490e9079-0c9f-4204-8ace-2144f91c92d1"
      },
      "source": [
        "hgb.score(test_input, test_target)\n",
        "# 실전에 투입하면 이보다 더 낮은 성능을 가질 가능성이 높음.\n",
        "# 결론적으로 앙상블 모델은 단일 결정 트리 모델보다 좋은 결과를 얻음.\n",
        "# 2절 랜덤 서치에서 테스트 정확도는 86%였음."
      ],
      "execution_count": 44,
      "outputs": [
        {
          "output_type": "execute_result",
          "data": {
            "text/plain": [
              "0.8723076923076923"
            ]
          },
          "metadata": {
            "tags": []
          },
          "execution_count": 44
        }
      ]
    }
  ]
}