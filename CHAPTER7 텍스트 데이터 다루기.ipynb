{
  "nbformat": 4,
  "nbformat_minor": 0,
  "metadata": {
    "colab": {
      "name": "CHEPTER7 텍스트 데이터 다루기.ipynb",
      "provenance": [],
      "toc_visible": true,
      "authorship_tag": "ABX9TyPi0qWXB02q3nCCWYkcUrqf",
      "include_colab_link": true
    },
    "kernelspec": {
      "name": "python3",
      "display_name": "Python 3"
    },
    "language_info": {
      "name": "python"
    }
  },
  "cells": [
    {
      "cell_type": "markdown",
      "metadata": {
        "id": "view-in-github",
        "colab_type": "text"
      },
      "source": [
        "<a href=\"https://colab.research.google.com/github/LeeSeungwon89/Lecture-and-Self-study/blob/master/CHEPTER7%20%ED%85%8D%EC%8A%A4%ED%8A%B8%20%EB%8D%B0%EC%9D%B4%ED%84%B0%20%EB%8B%A4%EB%A3%A8%EA%B8%B0.ipynb\" target=\"_parent\"><img src=\"https://colab.research.google.com/assets/colab-badge.svg\" alt=\"Open In Colab\"/></a>"
      ]
    },
    {
      "cell_type": "markdown",
      "metadata": {
        "id": "SFMw8a9uVBSP"
      },
      "source": [
        "# 7.1 문자열 데이터 타입"
      ]
    },
    {
      "cell_type": "markdown",
      "metadata": {
        "id": "qViaTCdHVBP0"
      },
      "source": [
        "# 7.2 예제 애플리케이션: 영화 리뷰 감성 분석"
      ]
    },
    {
      "cell_type": "markdown",
      "metadata": {
        "id": "Qau0Slz4VBNV"
      },
      "source": [
        "# 7.3 텍스트 데이터를 BOW로 표현하기"
      ]
    },
    {
      "cell_type": "markdown",
      "metadata": {
        "id": "_s-r1xE3VBLA"
      },
      "source": [
        "## 7.3.1 샘플 데이터에 BOW 적용하기"
      ]
    },
    {
      "cell_type": "markdown",
      "metadata": {
        "id": "RJNeyC0HVBI1"
      },
      "source": [
        "## 7.3.2 영화 리뷰에 대한 BOW"
      ]
    },
    {
      "cell_type": "markdown",
      "metadata": {
        "id": "BPKGMqcGVBGO"
      },
      "source": [
        "# 7.4 불용어"
      ]
    },
    {
      "cell_type": "markdown",
      "metadata": {
        "id": "DA5fcbqZVBDs"
      },
      "source": [
        "# 7.5 tf-idf로 데이터 스케일 변경하기"
      ]
    },
    {
      "cell_type": "markdown",
      "metadata": {
        "id": "rbHWlHYNVBBS"
      },
      "source": [
        "# 7.6 모델 계수 조사"
      ]
    },
    {
      "cell_type": "markdown",
      "metadata": {
        "id": "0cqMHHXGVA--"
      },
      "source": [
        "# 7.7 여러 단어로 만든 BOW(n-그램)"
      ]
    },
    {
      "cell_type": "markdown",
      "metadata": {
        "id": "YqpW38u6VA8b"
      },
      "source": [
        "# 7.8 고급 토큰화, 어간 추출, 표제어 추출"
      ]
    },
    {
      "cell_type": "markdown",
      "metadata": {
        "id": "qTJCN-oyVA6I"
      },
      "source": [
        "## 7.8.1 KoNLPy를 사용한 영화 리뷰 분석"
      ]
    },
    {
      "cell_type": "markdown",
      "metadata": {
        "id": "rsSIeHvZVA4B"
      },
      "source": [
        "# 7.9 토픽 모델링과 문서 군집화"
      ]
    },
    {
      "cell_type": "markdown",
      "metadata": {
        "id": "lc6o9PMTVA1k"
      },
      "source": [
        "## 7.9.1 LDA"
      ]
    },
    {
      "cell_type": "markdown",
      "metadata": {
        "id": "ALSkNuLWVAzA"
      },
      "source": [
        "# 7.10 요약 및 정리"
      ]
    }
  ]
}
