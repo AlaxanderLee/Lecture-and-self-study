{
  "nbformat": 4,
  "nbformat_minor": 0,
  "metadata": {
    "colab": {
      "name": "CHAPTER7 텍스트 데이터 다루기.ipynb",
      "provenance": [],
      "collapsed_sections": [],
      "toc_visible": true,
      "authorship_tag": "ABX9TyNYcr9800MHBWQmY+F8N/ka",
      "include_colab_link": true
    },
    "kernelspec": {
      "name": "python3",
      "display_name": "Python 3"
    },
    "language_info": {
      "name": "python"
    }
  },
  "cells": [
    {
      "cell_type": "markdown",
      "metadata": {
        "id": "view-in-github",
        "colab_type": "text"
      },
      "source": [
        "<a href=\"https://colab.research.google.com/github/LeeSeungwon89/Machine-learning_Theory/blob/master/CHAPTER7%20%ED%85%8D%EC%8A%A4%ED%8A%B8%20%EB%8D%B0%EC%9D%B4%ED%84%B0%20%EB%8B%A4%EB%A3%A8%EA%B8%B0.ipynb\" target=\"_parent\"><img src=\"https://colab.research.google.com/assets/colab-badge.svg\" alt=\"Open In Colab\"/></a>"
      ]
    },
    {
      "cell_type": "markdown",
      "metadata": {
        "id": "UaMOLd5s0rqO"
      },
      "source": [
        "# 들어가며\n",
        "\n",
        "4장에서 데이터의 속성을 나타내는 두 가지 특성에 대해 다뤘습니다. 정량적인 연속형 특성, 고정된 목록에서 값이 정해지는 범주형 특성입니다. 이번 챕터에서는 많은 애플리케이션에서 사용하는 세 번째 유형의 데이터인 텍스트를 다룹니다. 예컨대 스팸 메일 분류의 경우에는 이메일 내용에 이 분류 작업에 필요한 중요한 정보가 들어 있습니다. 정치인의 의견을 분석하는 경우에는 언행이나 트윗이 중요한 정보를 가집니다. 고객 서비스의 경우에는 고객 메시지에 목적을 구분할 수 있는 정보가 있습니다. 메시지의 제목과 내용을 토대로 의도를 파악해서 해당 부서로 전달하거나 자동 응답으로 전환할 수 있습니다.\n",
        "\n",
        "텍스트 데이터는 주로 글자가 연결된 문자열로 표현됩니다. 길이가 서로 같은 경우는 거의 없습니다. 현재까지 살폈던 수치형 특성과 매우 상이하므로 전처리는 필수입니다. 내용의 길이가 다르므로 전처리 과정이 없으면 샘플마다 특성 수가 달라집니다."
      ]
    },
    {
      "cell_type": "markdown",
      "metadata": {
        "id": "SFMw8a9uVBSP"
      },
      "source": [
        "# **7.1 문자열 데이터 종류**\n",
        "\n",
        "텍스트는 보통 문자열이지만 모든 문자열 특성을 텍스트로 다루는 것은 아닙니다. 문자열 특성은 범주형 변수로 표현할 수도 있습니다. 문자열 특성을 다루는 방법에 대해 인지하려면 데이터를 직접 살피는 수밖에 없습니다. 문자열 데이터 종류는 아래 4종류입니다.\n",
        "\n",
        "- **범주형 데이터**: 고정된 목록입니다. 예컨대 사람들에게 가장 좋아하는 색을 묻는 설문의 형태로 데이터를 수집하고자 한다면, 드롭다운(drop-down) 메뉴에서 'red', 'green', 'blue', 'yellow', 'black', 'white', 'puple', 'pink' 중 하나를 선택해야 합니다. 이 경우에 데이터셋에 색상 8개 중에 하나가 들어가고 범주형 변수로 인코딩 됩니다. 값들이 얼마나 자주 나타나는지 히스토그램을 그려볼 수 있습니다. 설문이 절반 정도 진행된 상태에서 설문자가 'black'을 'blacl'이라고 오타를 발견하여 수정했다면, 이 데이터셋에는 같은 의미를 나타내는 두 텍스트가 모두 들어있으므로 하나로 합쳐야 합니다.\n",
        "\n",
        "- **범주에 의미를 연결할 수 있는 임의의** 문자열: 드롭다운 메뉴 대신 텍스트 필드(test field)를 제공했다고 가정한다면, 설문자 대부분은 대체적으로 사용되는 표현을 사용하지만 몇몇 설문자는 '회색', '쥐색', '암청색'처럼 다른 표현을 사용할 수 있습니다. 이외 저 특이하게 색을 표현할지도 모릅니다. 이렇게 텍스트 필드로 받는 응답을 인코딩하려면 가장 보편적인 값을 선택하거나, 애플리케이션에 적합하도록 모든 응답을 포용할 수 있는 범주를 적절하게 정의해야 합니다. '여러 가지 색'이라는 범주를 만들어서 할당하거나, 인코딩이 불가능한 값은 '그 외'로 할당합니다. 이런 전처리는 수많은 수작업이 필요하고 자동화가 어렵습니다. 가능한 한 범주형 변수로 받는 것이 현명합니다.\n",
        "\n",
        "- **구조화된 문자열 데이터**: 정의된 범주에 속하진 않지만 직접 입력한 값들이 주소나 장소, 사람 이름, 날짜, 전화번호, 식별번호처럼 일정하게 구조화된 문자열 데이터 형식을 취할 수 있습니다. 이런 종류의 문자열은 분석하기 난해하고, 처리 방법이 문맥과 분야에 따라 매우 다릅니다. \n",
        "\n",
        "- **텍스트 데이터**: 자유로운 형태의 절과 문장으로 구성된 형태는 텍스트 데이터입니다. 트위터, 채팅, 리뷰, 소설 작품, 인터넷 문서 등 이런 종류를 통칭합니다. 대부분 단어로 구성된 문장에 정보를 담습니다. 텍스트 분석에서는 데이터셋을 말뭉치(corpus), 텍스트 하나를 의미하는 각 샘플은 문서(document)라고 합니다. 정보 검색(IR, information retrieval)과 자연어 처리(NLP, natural language processing) 공동체에서 유래한 표현들입니다."
      ]
    },
    {
      "cell_type": "markdown",
      "metadata": {
        "id": "qViaTCdHVBP0"
      },
      "source": [
        "# **7.2 예제 애플리케이션: 영화 리뷰 감성 분석**\n",
        "\n",
        "지금부터 사용한 [데이터셋](http://ai.stanford.edu/~amaas/data/sentiment)의 출처는 스탠퍼드 대학교 연구원인 앤드루 마스가 IMDb라는 웹사이트입니다. 이 데이터셋은 리뷰 텍스트와 '양성' 혹은 '음성'을 나타내는 레이블을 포함합니다. 양성은 긍정적인 반응, 음성은 부정적인 반응입니다. 이런 형식은 데이터를 적절하게 표현한 게 아닐 수 있지만 그대로 사용하기로 합니다."
      ]
    },
    {
      "cell_type": "markdown",
      "metadata": {
        "id": "fBXuR61jpde7"
      },
      "source": [
        "macOS나 리눅스를 사용한다면 아래 명령어로 데이터를 다운로드하고 압축을 해제합니다. 물론 코랩도 가능합니다."
      ]
    },
    {
      "cell_type": "code",
      "metadata": {
        "colab": {
          "base_uri": "https://localhost:8080/"
        },
        "id": "2uduD93Bpi_3",
        "outputId": "3340d9ec-6caa-41a2-f40f-55906ee54a8a"
      },
      "source": [
        "# '!' 기호는 실행한다는 의미입니다.\n",
        "!wget -nc http://ai.stanford.edu/~amaas/data/sentiment/aclImdb_v1.tar.gz -P data\n",
        "!tar xzf data/aclImdb_v1.tar.gz --skip-old-files -C data"
      ],
      "execution_count": null,
      "outputs": [
        {
          "output_type": "stream",
          "name": "stdout",
          "text": [
            "File ‘data/aclImdb_v1.tar.gz’ already there; not retrieving.\n",
            "\n"
          ]
        }
      ]
    },
    {
      "cell_type": "markdown",
      "metadata": {
        "id": "6B7kqzPFqasv"
      },
      "source": [
        "압축을 해제하면 두 폴더에 텍스트 파일이 들어 있습니다. 하나는 훈련 데이터, 다른 하나는 테스트 데이터입니다. 이 두 폴더는 다시 pos와 neg 하위 폴더를 포함합니다."
      ]
    },
    {
      "cell_type": "code",
      "metadata": {
        "colab": {
          "base_uri": "https://localhost:8080/"
        },
        "id": "zNuAg-HeqbAw",
        "outputId": "d2b92f9e-ce1a-4cca-dbbc-0451dae82a83"
      },
      "source": [
        "# !은 셸(shell) 명령을 실행하는 IPython의 매직 명령어입니다.\n",
        "# tree 명령이 없다면 find ./data -type d 명령을 사용해서\n",
        "# 하위 폴더의 목록을 볼 수 있습니다.\n",
        "!tree -dL 2 data/aclImdb # 이 명령은 유효하지 않습니다.\n",
        "!find ./data -type d # 유효한 명령입니다."
      ],
      "execution_count": null,
      "outputs": [
        {
          "output_type": "stream",
          "name": "stdout",
          "text": [
            "/bin/bash: tree: command not found\n",
            "./data\n",
            "./data/aclImdb\n",
            "./data/aclImdb/train\n",
            "./data/aclImdb/train/unsup\n",
            "./data/aclImdb/train/neg\n",
            "./data/aclImdb/train/pos\n",
            "./data/aclImdb/test\n",
            "./data/aclImdb/test/neg\n",
            "./data/aclImdb/test/pos\n"
          ]
        }
      ]
    },
    {
      "cell_type": "markdown",
      "metadata": {
        "id": "7gyYrl1dv3pO"
      },
      "source": [
        "pos 폴더에는 긍정적인 리뷰가 각각 파일 하나로 나뉘어 있고 neg 폴더도 마찬가지입니다. unsup 폴더에는 레이블이 없는 데이터가 있습니다. 이 폴더는 사용하지 않으므로 삭제합니다."
      ]
    },
    {
      "cell_type": "code",
      "metadata": {
        "id": "C-ZvKQfivWhp"
      },
      "source": [
        "!rm -r data/aclImdb/train/unsup"
      ],
      "execution_count": null,
      "outputs": []
    },
    {
      "cell_type": "markdown",
      "metadata": {
        "id": "9T6SwLi9wIqo"
      },
      "source": [
        "하위 폴더가 레이블로 구분된 폴더 구조라면 `load_files` 함수를 사용하여 파일을 읽습니다. 이 함수를 사용하여 폴더를 읽을 때 레이블은 폴더의 알파벳순에 따라 0부터 부여됩니다. 여기서는 neg 폴더의 데이터는 레이블이 0이 되고, pos 폴더의 데이터는 레이블이 1이 됩니다. 먼저 훈련 데이터를 이 함수로 읽습니다. 참고로 지금까지는 데이터셋을 `train_test_split` 함수를 통해 훈련 세트와 테스트 세트로 나눠서 사용했으나 지금 사용할 데이터셋은 이미 두 세트로 나눠져 있습니다."
      ]
    },
    {
      "cell_type": "code",
      "metadata": {
        "colab": {
          "base_uri": "https://localhost:8080/"
        },
        "id": "OvnXgLwjw0YL",
        "outputId": "83187745-6eb8-4fe0-8cae-3f4eceb230ac"
      },
      "source": [
        "from sklearn.datasets import load_files\n",
        "\n",
        "reviews_train = load_files('data/aclImdb/train/')\n",
        "# 텍스트와 레이블을 포함하고 있는 Bunch 오브젝트를 반환합니다.\n",
        "text_train, y_train = reviews_train.data, reviews_train.target\n",
        "print('text_train의 타입:', type(text_train))\n",
        "print('text_train의 길이:', len(text_train))\n",
        "print('text_train[6]:\\n', text_train[6])"
      ],
      "execution_count": null,
      "outputs": [
        {
          "output_type": "stream",
          "name": "stdout",
          "text": [
            "text_train의 타입: <class 'list'>\n",
            "text_train의 길이: 25000\n",
            "text_train[6]:\n",
            " b\"This movie has a special way of telling the story, at first i found it rather odd as it jumped through time and I had no idea whats happening.<br /><br />Anyway the story line was although simple, but still very real and touching. You met someone the first time, you fell in love completely, but broke up at last and promoted a deadly agony. Who hasn't go through this? but we will never forget this kind of pain in our life. <br /><br />I would say i am rather touched as two actor has shown great performance in showing the love between the characters. I just wish that the story could be a happy ending.\"\n"
          ]
        }
      ]
    },
    {
      "cell_type": "markdown",
      "metadata": {
        "id": "lA5Oi-ixZAsQ"
      },
      "source": [
        "결과를 보면 길이는 25,000(리뷰 개수)이며 각 항목은 리뷰 한 개에 대한 문자열입니다. 리뷰는 HTML 줄바꿈 태그(`<br />`)를 포함합니다. 줄바꿈 태그가 머신러닝 모델에 큰 영향을 미치진 않지만 미리 태그를 삭제해서 데이터를 정리하면 좋습니다."
      ]
    },
    {
      "cell_type": "code",
      "metadata": {
        "id": "ano8xWMaaFO7"
      },
      "source": [
        "text_train = [doc.replace(b'<br />', b' ') for doc in text_train]"
      ],
      "execution_count": null,
      "outputs": []
    },
    {
      "cell_type": "markdown",
      "metadata": {
        "id": "4BWfN4f8ahNR"
      },
      "source": [
        "'text_train'의 항목 타입은 파이썬 버전에 따라 상이합니다. 파이썬 3에서는 문자열 데이터의 바이너리 인코딩인 bytes 타입입니다. 파이썬 2에서는 문자열입니다. 자세히 다루지 않고 넘어갑니다."
      ]
    },
    {
      "cell_type": "markdown",
      "metadata": {
        "id": "LO7STDl3a8HO"
      },
      "source": [
        "이 데이터셋은 양성 클래스와 음성 클래스를 같은 비율로 수집했으므로 양성과 음성 레이블의 수가 동일합니다."
      ]
    },
    {
      "cell_type": "code",
      "metadata": {
        "colab": {
          "base_uri": "https://localhost:8080/"
        },
        "id": "MAOk_T7Ncg_J",
        "outputId": "63c7da3c-f2e3-49a2-9055-862b1f5ba07c"
      },
      "source": [
        "import numpy as np\n",
        "\n",
        "print('클래스별 샘플 수 (훈련 데이터):', np.bincount(y_train))"
      ],
      "execution_count": null,
      "outputs": [
        {
          "output_type": "stream",
          "name": "stdout",
          "text": [
            "클래스별 샘플 수 (훈련 데이터): [12500 12500]\n"
          ]
        }
      ]
    },
    {
      "cell_type": "markdown",
      "metadata": {
        "id": "OBqhfUJ8cwB_"
      },
      "source": [
        "같은 방식으로 테스트 데이터셋을 읽습니다."
      ]
    },
    {
      "cell_type": "code",
      "metadata": {
        "colab": {
          "base_uri": "https://localhost:8080/"
        },
        "id": "iulKjHnbc0Jb",
        "outputId": "5b1da146-3ae9-4bcc-bb56-1618e51a8592"
      },
      "source": [
        "reviews_test = load_files('data/aclImdb/test/')\n",
        "text_test, y_test = reviews_test.data, reviews_test.target\n",
        "print('테스트 데이터의 문서 수:', len(text_test))\n",
        "print('클래스별 샘플 수 (테스트 데이터):', np.bincount(y_test))\n",
        "text_test = [doc.replace(b'<br />', b' ') for doc in text_test]"
      ],
      "execution_count": null,
      "outputs": [
        {
          "output_type": "stream",
          "name": "stdout",
          "text": [
            "테스트 데이터의 문서 수: 25000\n",
            "클래스별 샘플 수 (테스트 데이터): [12500 12500]\n"
          ]
        }
      ]
    },
    {
      "cell_type": "markdown",
      "metadata": {
        "id": "BMRznID6dfjK"
      },
      "source": [
        "우리는 리뷰가 하나 주어졌을 때 이 리뷰의 텍스트 내용을 보고 양성과 음성을 구분해야 합니다. 전형적인 이진 분류 문제인 것입니다. 그러나 텍스트 데이터는 머신러닝 모델이 다룰 수 있는 형태가 아닙니다. 텍스트의 문자열 표현을 머신러닝 알고리즘에 적용할 수 있게 수치 표현으로 바꿔야 합니다."
      ]
    },
    {
      "cell_type": "markdown",
      "metadata": {
        "id": "Qau0Slz4VBNV"
      },
      "source": [
        "# **7.3 텍스트 데이터를 BOW로 표현하기**\n",
        "\n",
        "머신러닝에서 텍스트를 표현하는 방법 중 **BOW(bag of words)**는 가장 간단하면서 효과적이고 널리 쓰이는 방법입니다. 이 방법을 통해 장, 문단, 문장, 서식과 같은 입력 텍스트의 구조 대부분을 잃고, 각 단어가 이 말뭉치에 있는 텍스트에 얼마나 많이 나타나는지만 헤아립니다. 구조와 상관없이 단어의 출현 횟수만 세므로 텍스트를 담는 가방(bag)으로 여길 수 있습니다. \n",
        "\n",
        "전체 말뭉치에 대해 BOW 표현을 계산하려면 다음 세 단계를 거칩니다.\n",
        "\n",
        "1. 토큰화(tokenization): 각 문서를 문서에 포함된 단어(토큰)로 나눕니다. 예를 들면 공백이나 구두점 등을 기준으로 분리합니다.\n",
        "\n",
        "1. 어휘 사전 구축: 모든 문서에 나타난 모든 단어의 어휘를 모으고 번호를 매깁니다. 알파벳 순서로 구성됩니다.\n",
        "\n",
        "1. 인코딩: 어휘 사전의 단어가 문서마다 몇 번이나 나타나는지 헤아립니다.\n",
        "\n",
        "1단계와 2단계에 관련한 세부 사항은 이 챕터의 뒷부분에서 상세하게 설명합니다. "
      ]
    },
    {
      "cell_type": "markdown",
      "metadata": {
        "id": "A_AMi11MgrHk"
      },
      "source": [
        "BOW 표현을 만드는 방법을 설명하겠습니다.\n",
        "\n",
        "'This is how you get ants.' 라는 문자열을 처리하는 과정입니다.\n",
        "\n",
        "1. 토큰화: ['this', 'is', 'how', 'you', 'get', 'ants']\n",
        "\n",
        "1. 어휘 사전 구축: ['aardvark', 'amsterdam', 'ants', ... 'you', 'your', 'zyxst']\n",
        "\n",
        "1. 희소 행렬 인코딩: aardvark, ..., ants, ..., get, ..., you, ..., zyxst [0, ..., 0, 1, 0, ...., 0, 1, 0, ..., 0, 1, 0, ..., 0]\n",
        "\n",
        "출력은 각 문서에서 나타난 단어의 횟수가 담긴 벡터 하나입니다. 이를 위해 사전에 있는 각 단어가 문서마다 얼마나 자주 나타나는지 세야 합니다. 이 수치 표현은 전체 데이터셋에서 고유한 각 단어를 특성으로 가집니다. 원본 문자열에 있는 단어순은 BOW 특성 표현에서는 완전하게 무시됩니다."
      ]
    },
    {
      "cell_type": "markdown",
      "metadata": {
        "id": "_s-r1xE3VBLA"
      },
      "source": [
        "## **7.3.1 샘플 데이터에 BOW 적용하기**\n",
        "\n",
        "BOW 표현은 `CountVecterizer` 클래스에 변환기 인터페이스로 구현되어 있습니다. 두 샘플만 포함한 데이터셋에 적용해서 작동하는 방식을 확인합니다."
      ]
    },
    {
      "cell_type": "code",
      "metadata": {
        "id": "3WYUfdTkPTIR"
      },
      "source": [
        "bards_words = ['The fool doth think he is wise,',\n",
        "               'but the wise man knows himself to be a fool']"
      ],
      "execution_count": null,
      "outputs": []
    },
    {
      "cell_type": "markdown",
      "metadata": {
        "id": "al58LIyBPfwZ"
      },
      "source": [
        "`CountVectorizer` 클래스를 임포트 해서 객체를 만들고, 샘플 데이터에 `fit` 메서드를 적용합니다."
      ]
    },
    {
      "cell_type": "code",
      "metadata": {
        "colab": {
          "base_uri": "https://localhost:8080/"
        },
        "id": "KFpia0RrPuXn",
        "outputId": "08bc8ce8-f62d-4d0c-f9bf-2cafe72252ef"
      },
      "source": [
        "from sklearn.feature_extraction.text import CountVectorizer\n",
        "\n",
        "vect = CountVectorizer()\n",
        "vect.fit(bards_words)"
      ],
      "execution_count": null,
      "outputs": [
        {
          "output_type": "execute_result",
          "data": {
            "text/plain": [
              "CountVectorizer(analyzer='word', binary=False, decode_error='strict',\n",
              "                dtype=<class 'numpy.int64'>, encoding='utf-8', input='content',\n",
              "                lowercase=True, max_df=1.0, max_features=None, min_df=1,\n",
              "                ngram_range=(1, 1), preprocessor=None, stop_words=None,\n",
              "                strip_accents=None, token_pattern='(?u)\\\\b\\\\w\\\\w+\\\\b',\n",
              "                tokenizer=None, vocabulary=None)"
            ]
          },
          "metadata": {},
          "execution_count": 88
        }
      ]
    },
    {
      "cell_type": "markdown",
      "metadata": {
        "id": "ATE-M6-eP_xj"
      },
      "source": [
        "`CountVectorizer` 클래스의 `fit` 메서드는 훈련 데이터를 토큰으로 나누고 어휘 사전을 구축하여 `vocabulary_` 속성에 저장합니다."
      ]
    },
    {
      "cell_type": "code",
      "metadata": {
        "colab": {
          "base_uri": "https://localhost:8080/"
        },
        "id": "Q9TWNYhqQQre",
        "outputId": "57bbd6dd-b497-4fec-a04a-fed15b75c0d1"
      },
      "source": [
        "print('어휘 사전의 크기:', len(vect.vocabulary_))\n",
        "print('어휘 사전의 내용:\\n', vect.vocabulary_)"
      ],
      "execution_count": null,
      "outputs": [
        {
          "output_type": "stream",
          "name": "stdout",
          "text": [
            "어휘 사전의 크기: 13\n",
            "어휘 사전의 내용:\n",
            " {'the': 9, 'fool': 3, 'doth': 2, 'think': 10, 'he': 4, 'is': 6, 'wise': 12, 'but': 1, 'man': 8, 'knows': 7, 'himself': 5, 'to': 11, 'be': 0}\n"
          ]
        }
      ]
    },
    {
      "cell_type": "markdown",
      "metadata": {
        "id": "VO2EA7nWQg6o"
      },
      "source": [
        "훈련 데이터에 대해 BOW 표현을 만들기 위해 `transform` 메서드를 호출합니다."
      ]
    },
    {
      "cell_type": "code",
      "metadata": {
        "colab": {
          "base_uri": "https://localhost:8080/"
        },
        "id": "bpVI5__xQlzm",
        "outputId": "674d828d-0c08-49eb-b400-4874efc20b15"
      },
      "source": [
        "bag_of_words = vect.transform(bards_words)\n",
        "print('BOW:', repr(bag_of_words))"
      ],
      "execution_count": null,
      "outputs": [
        {
          "output_type": "stream",
          "name": "stdout",
          "text": [
            "BOW: <2x13 sparse matrix of type '<class 'numpy.int64'>'\n",
            "\twith 16 stored elements in Compressed Sparse Row format>\n"
          ]
        }
      ]
    },
    {
      "cell_type": "markdown",
      "metadata": {
        "id": "gL8ntiv4QzPH"
      },
      "source": [
        "BOW 표현은 0이 아닌 값만 저장하는 사이파이 희소 행렬로 저장됩니다. 행렬의 크기는 $2 \\times 13$이며, 각 행은 샘플 하나를 나타내고, 각 특성은 어휘 사전에 있는 단어입니다. 문서 대부분은 어휘 사전에 있는 단어 중에 일부만 포함합니다(특성 배열 대부분의 원소가 0이라서 희소 행렬을 사용합니다). 전체 영어 단어 수에 비하여 영화 리뷰에 얼마나 많은 단어가 나타날지(어휘 사전이 어떻게 구성될지) 생각해보면 이해하기 쉽습니다."
      ]
    },
    {
      "cell_type": "markdown",
      "metadata": {
        "id": "s_9MuOQ7T6LF"
      },
      "source": [
        "값이 0인 원소를 모두 저장하면 메모리를 낭비하는 것입니다. 희소 행렬의 실제 내용을 살피려면 `toarray` 메서드를 사용해서 0인 원소도 모두 저장되는 밀집된 넘파이 배열로 바꿔야 합니다. 다만 이 데이터셋은 단어 13개만 가졌으므로 배열 변형이 가능하지만 실제로 거대한 데이터셋에 적용한다면 MemorryError가 발생할 가능성이 있습니다."
      ]
    },
    {
      "cell_type": "code",
      "metadata": {
        "colab": {
          "base_uri": "https://localhost:8080/"
        },
        "id": "0dFefyfPR9_d",
        "outputId": "8e40dc59-0c33-403d-a2d8-c541d75c4306"
      },
      "source": [
        "print('BOW의 밀집 표현:\\n', bag_of_words.toarray())"
      ],
      "execution_count": null,
      "outputs": [
        {
          "output_type": "stream",
          "name": "stdout",
          "text": [
            "BOW의 밀집 표현:\n",
            " [[0 0 1 1 1 0 1 0 0 1 1 0 1]\n",
            " [1 1 0 1 0 1 0 1 1 1 0 1 1]]\n"
          ]
        }
      ]
    },
    {
      "cell_type": "markdown",
      "metadata": {
        "id": "qtDnSGUUSVyz"
      },
      "source": [
        "각 단어의 출현 횟수는 0 또는 1입니다. 'bards_words'에 있는 두 문자열 모두 같은 단어를 두 개 이상 가지지 않습니다.\n",
        "\n",
        "이 특성 벡터를 읽는 법을 설명합니다. 첫 번째 문자열('The fool doth think he is wise,')은 첫 번째 행으로 나타납니다. 어휘 사전의 첫 번째 단어인 'be'와 두 번째 단어인 'but'은 0번만큼 나옵니다. 세 번째 단어인 'doth'는 1번만큼 나옵니다. 두 행을 보면 네 번째 단어인 'fool'과 열 번째 단어인 'the', 열 세번째 단어인 'wise'는 두 문자열에 모두 포함됩니다."
      ]
    },
    {
      "cell_type": "markdown",
      "metadata": {
        "id": "RJNeyC0HVBI1"
      },
      "source": [
        "## **7.3.2 영화 리뷰에 대한 BOW**\n",
        "\n",
        "이제 실제 데이터셋을 이용하여 BOW를 설명합니다. 앞에서 IMDb 리뷰의 훈련 데이터와 테스트 데이터를 읽어서 작업할 문자열 리스트인 'text_train'과 'text_test'로 바꿨습니다."
      ]
    },
    {
      "cell_type": "code",
      "metadata": {
        "colab": {
          "base_uri": "https://localhost:8080/"
        },
        "id": "HrEqkhccXpbZ",
        "outputId": "e43aadd5-dd39-4525-bf9f-9efd824a4ca8"
      },
      "source": [
        "vect = CountVectorizer().fit(text_train)\n",
        "X_train = vect.transform(text_train)\n",
        "print('X_train:\\n', repr(X_train))"
      ],
      "execution_count": null,
      "outputs": [
        {
          "output_type": "stream",
          "name": "stdout",
          "text": [
            "X_train:\n",
            " <25000x74849 sparse matrix of type '<class 'numpy.int64'>'\n",
            "\twith 3431196 stored elements in Compressed Sparse Row format>\n"
          ]
        }
      ]
    },
    {
      "cell_type": "markdown",
      "metadata": {
        "id": "cmeAbjHPYHgg"
      },
      "source": [
        "훈련 데이터의 BOW 표현인 'X_train'의 크기는 $25,000 \\times 74,849$입니다. 어휘 사전은 단어를 74,849개만큼 가졌습니다. 데이터는 사이파이 희소 행렬 형태로 저장되어 있습니다."
      ]
    },
    {
      "cell_type": "markdown",
      "metadata": {
        "id": "znukb1pUZPbf"
      },
      "source": [
        "어휘 사전을 더 살펴봅니다. `CountVectorizer` 클래스의 객체가 가진 `get_feature_name` 메서드는 각 특성에 해당하는 단어를 리스트로 반환합니다."
      ]
    },
    {
      "cell_type": "code",
      "metadata": {
        "colab": {
          "base_uri": "https://localhost:8080/"
        },
        "id": "pQJCuR_RZeLE",
        "outputId": "3322ec12-2a5d-448f-be74-9946dc15cfe7"
      },
      "source": [
        "feature_names = vect.get_feature_names()\n",
        "print('특성(단어) 개수:', len(feature_names))\n",
        "print()\n",
        "print('처음 20개 특성:\\n', feature_names[:20])\n",
        "print()\n",
        "print('20010~20030까지 특성:\\n', feature_names[20010:20030])\n",
        "print()\n",
        "print('매 2000번째 특성:\\n', feature_names[::2000])"
      ],
      "execution_count": null,
      "outputs": [
        {
          "output_type": "stream",
          "name": "stdout",
          "text": [
            "특성(단어) 개수: 74849\n",
            "\n",
            "처음 20개 특성:\n",
            " ['00', '000', '0000000000001', '00001', '00015', '000s', '001', '003830', '006', '007', '0079', '0080', '0083', '0093638', '00am', '00pm', '00s', '01', '01pm', '02']\n",
            "\n",
            "20010~20030까지 특성:\n",
            " ['dratted', 'draub', 'draught', 'draughts', 'draughtswoman', 'draw', 'drawback', 'drawbacks', 'drawer', 'drawers', 'drawing', 'drawings', 'drawl', 'drawled', 'drawling', 'drawn', 'draws', 'draza', 'dre', 'drea']\n",
            "\n",
            "매 2000번째 특성:\n",
            " ['00', 'aesir', 'aquarian', 'barking', 'blustering', 'bête', 'chicanery', 'condensing', 'cunning', 'detox', 'draper', 'enshrined', 'favorit', 'freezer', 'goldman', 'hasan', 'huitieme', 'intelligible', 'kantrowitz', 'lawful', 'maars', 'megalunged', 'mostey', 'norrland', 'padilla', 'pincher', 'promisingly', 'receptionist', 'rivals', 'schnaas', 'shunning', 'sparse', 'subset', 'temptations', 'treatises', 'unproven', 'walkman', 'xylophonist']\n"
          ]
        }
      ]
    },
    {
      "cell_type": "markdown",
      "metadata": {
        "id": "csLODysZaeBm"
      },
      "source": [
        "어휘 사전의 처음 20개 중에 15개는 숫자입니다. 이 숫자들은 모두 리뷰 어딘가에 나타났으므로 단어로 추출됐습니다. 영화 리뷰라는 걸 고려하면 (제임스 본드 역할을 의미하는 '007'을 제외하면) 숫자는 별다른 의미를 가지지 않습니다. 의미 없는 단어 중에서 의미 있는 단어를 선별하는 일은 결코 쉬운 일이 아닙니다.\n",
        "\n",
        "'dra'로 시작하는 영어 단어 목록을 살펴보면, 'draught', 'drawback', 'drawer' 모두 단수와 복수형이 서로 다른 단어로 어휘 사전에 포함되어 있습니다. 이런 류의 단어들은 의미가 매우 비슷하므로 다른 특성으로 간주해서 개별적으로 기록하는 것은 옳지 않습니다."
      ]
    },
    {
      "cell_type": "markdown",
      "metadata": {
        "id": "lbhVvxdCbsMl"
      },
      "source": [
        "예시한 '007'을 살펴봅니다. 어휘 사전에서 10번째에 위치한 단어입니다. 이 위치에 대한 값이 1인 행을 찾아서 훈련 데이터를 확인합니다."
      ]
    },
    {
      "cell_type": "code",
      "metadata": {
        "colab": {
          "base_uri": "https://localhost:8080/"
        },
        "id": "ciQunoe5b5bH",
        "outputId": "3ab3e4d3-bacf-435e-ed5b-6737ec853392"
      },
      "source": [
        "[text_train[i] for i in np.argwhere(X_train[:, 9] == 1)[:, 0]]"
      ],
      "execution_count": null,
      "outputs": [
        {
          "output_type": "execute_result",
          "data": {
            "text/plain": [
              "[b'\"Dutch Schultz\", AKA Arthur Fleggenheimer, was a real person and his rather nasty life is fairly well documented. This movie which purports to depict his life should have used a fictional character, because the overdramatized events are too strong a departure from the facts and the chronology. Not only that, it ignores some interesting details which other versions have included such as the public relations fiasco in upstate N.Y. and his religious conversion. It is true that he was executed by Luciano, Lansky, et. al. but that\\'s as far as it goes. The exploding plate scene which represents Luciano carrying out the execution of Bo Weinberg in his own home, assisted by his own mother is rediculous. Also, there is the scene in which Dutch approaches his own mother to pay protection to Legs Diamond. It just doesn\\'t work. The character of Mrs. Fleggenheimer doesn\\'t work either. This movie does not need a doting Jewish mother for comic relief. The lame representation of Legs Diamond was humorous enough. I\\'m sure the man is turning in his grave. And, by the way, Dutch did in fact personally kill people, but, he was not Rambo or 007. The scene in which he wipes out the brewery is absurd. I don\\'t know. Maybe it was supposed to be a comedy and I just didn\\'t get it.',\n",
              " b'First off, this is an excellent series, though we have sort of a James Bond effect. What I mean is that while the new Casino Royale takes place in 2006, it is chronologically the first adventure of 007, Dr. No (1962) being the second, while in Golden Eye, the first film with Pierce Brosnan, Judi Dench is referred to as the new replacement for the male \"M\" so how could she have been in place in the beginning before Bond became a double-0, aside from the fact that she is obviously 14 years older? This is more or less a \"poetic\" license to thrill. We need to turn our heads aside a bit if we wish to be entertained. No, the new Star Trek movie does not have any of the primitive electronics of the original series from nearly half a century ago. In the 1960\\'s communicators were fantasy. (now we call them cell phones) and there were sliding levers instead of buttons. OMG, do you think 400 years from now, they would have perfected Rogaine for Jean-Luc Picard? So, please, let\\'s give the producers some leeway.  But to try and make things a bit consistent, let us just ponder about the Cylons creation just 60 years prior to the end of Battlestar Galactica. If that is the case, where did all the Cylons that populated the original earth come from? We know that the technology exists for spontaneous jumps through space. Well, what happened if one of the Cyclon ships at war with the Caprica fleet was fired upon or there was a sunspot or whatever and one ship, loaded with human-looking Cylons, wound up not only jumping through space, but through time, back a thousand or ten thousand years with a crippled ship near Earth One. They colonized it, found out they could repopulate it and eventually destroyed themselves, but not before they themselves sent out a \"ragtag\" fleet to search for the legendary Caprica, only to find a habitable but unpopulated planet, which they colonized to become the humans, who eventually invented the Cylons. Time paradox? Of course. Which came first, the chicken or the road? Who cares? It\\'s fraking entertaining!',\n",
              " b'This game is the bomb and this is the 007 game of the year and should be on greatest hits. When I got Agent Under Fire, I thought that was a good game but then Nightfire came around and that was better, but now there is a new type of James Bond game. This time it a 3rd person shooter and there is more than 12 missions, the graphics of the game are out of this house. It even has all of the great actors and actresses in this game like Pierce Bronsan as once again James Bond, William Dafoe as the villain Nikolai Diavolo, and Judi Dench as M (forgive me all if I spell it wrong). This game would be own as the greatest James Bond game around.  I give this a 10/10',\n",
              " b'Don\\'t get me wrong. \"GoldenEye\" was revolutionary and is definitely the best FPS game to be based on the 007 franchise. But the series had fallen into a FPS rut. Enter \"Everything or Nothing\", which puts Bond in third-person. When I wrote my earlier review for \"From Russia With Love\", I had finished FRWL and just started EON and judged EON a bit harshly. Even though FRWL definitely has the edge in nostalgia and capturing the essence of the movie franchise, EON definitely is superior in terms of in-depth controls and gameplay variety. Missions range from standard running-and-gunning to driving an SUV, driving an Aston Martin, driving a limousine that is wired to explode, commandeering two different types of tanks a la \"GoldenEye\", riding a motorcycle, flying a helicopter, repelling down a shaft guarded by laser tripwires, and free falling after a plummeting damsel. Sure, vehicle controls are a little clumsy, but the issue here is the variety.  As movie adaptations, \"GoldenEye\" and FRWL were all that I could have hoped for. But EON\\'s original storyline adds to the feeling of controlling a James Bond adventure. This is helped by the impressive cast list of Willem DeFoe, Shannon Elizabeth, Heidi Klum, and Misaki Ito. Judi Dench and John Cleese reprise their movie roles of M and Q, respectively, and Pierce Brosnan, while no Sean Connery, adds credibility to the game\\'s proceedings. All characters resemble the stars, with the disappointing exception of Heidi Klum, who\\'s in-game model doesn\\'t do the real-life model justice. Mya\\'s theme song is on par with at least some of the big screen Bond title tunes.  The game also plays tribute to some of the older Bond movies. Willem DeFoe\\'s character is a former colleague of Christopher Walken\\'s baddie from \"A View to a Kill\". Richard Kiel appears as Jaws, the hulking henchman from \"The Spy Who Loved Me\" and \"Moonraker\" in three fight scenes, the first and best of which proceeds in the same fashion a fight in the movies would have.  Single-player gameplay mainly consists of standard on-foot missions as Bond. Like Bond, you will be able to choose whether to use stealth or go out with guns blazing. The game provides plenty of opportunities to utilize stealth, with plenty of wall and object cover. Unfortunately, unlike FRWL, only one button in EON controls both crouching and wall clinging, so Bond may end up crouching low when he\\'s supposed to be peeking around a corner, and vice-versa. The game also allows players to go into \"Bond reflex\" mode. While you browse your inventory, everything around you will go into super slo-mo, allowing you to analyze objects around you that can be interacted with. While this takes some getting used to, eventually this mode will allow you to perform many spectacular \"Bond moments\", such as shooting down a chandelier to take out four goons underneath, and greatly add to the Bond movie feeling.  There are 3 available difficulty levels: Operative, Agent, and Double Oh. On Operative, you can breeze through in a few hours. On Agent, a few weeks. On Double Oh, a few months. The difficulty level can be changed for each individual mission. Garnering high scores on missions will unlock gold and platinum awards and effect features such as vehicle upgrades and the skimpy outfits the Bond girls wear. Some missions can be extremely frustrating due to a scarcity of checkpoints, but when all is said and done, no mission is any longer than a single action scene in a Bond movie.  Multi-player, unfortunately, is not as thrilling. \"GoldenEye\" still has the best multi-player mode of any Bond game. EON\\'s main multi-player is a co-op campaign mode that puts players in charge of lesser MI6 agents on a less important mission than Bond\\'s. A more standard third-person death match can be unlocked from this mode. But the single-player mode is the most complete Bond experience to date. The ending, as with most Bond games, is anticlimactic. While the final mission is one of the most aggravating of the game, the final confrontation with the villain is disappointing. Also, levels that require Bond to be speedy become largely a matter of trial and error. Still, for any serious Bond fan, not playing this game is tantamount to missing one of the Bond films.',\n",
              " b'What a moving film. I have a dear friend who is in her sixties and for the past 15 years has told me that people don\\'t see her anymore, and she longs for companionship. Being in my late 40s I am beginning to see what she has been complaining about. You are no longer youthful, beautiful or touchable. When May says \"...this lump of a body...\" wow. How our bodies change and how we are told it is no longer beautiful. I love when she begins to change what she wears...the colorful scarf...no longer the frumpy wife.  It is a sad and wonderful picture at the same time. Sad in that May betrays her daughter\\'s trust...beautiful in that she finds herself through the difficulty of the affair, and chooses to move on and finally have her own life. I love the character\\'s daring to even initiate the love affair.  Mostly I love the movie because finally it is a picture that shows the intricate nature of relationships, be they familial or not. We see Paula\\'s vulnerability, yet she will have what she wants at all costs...(when she tells her mum that she will have a baby for Darren whether he wants one or not after her mother asks if Darren even wants a child). The movie hits the mark on the how relationships can change, and yet reveals what has been there all along, dormant. May has stifled her own creativity to raise a family. A family that she didn\\'t really want, but was \"something you just did when she was young\". I love the scene when Darren calls her an old tart, and she smiles and says \"I was never called that before\". It was truly a gem of a movie.  And Daniel Craig. Well, i just love him. I was pleasantly surprised. Not only is he pleasant on the eyes, he is a real talent. What a neat role. He is much more than any 007 that is for sure and I look forward to seeing him in more roles of this nature. The scene where he is pleasuring May and the look he gives her is sort of a look of wonder that he has such control over this woman, and also one of pleasure of being able to give this to her. He is actually enjoying giving her pleasure. A wonderful scene. The contrast is the love scene with Bruce. Bruce is totally absorbed with his own pleasure...two completely different men.  Alas...I wonder where is my Darren?',\n",
              " b'Shannon Lee,the daughter of Bruce Lee,delivers high kicking martial arts action in spades in this exhilarating Hong Kong movie and proves that like her late brother Brandon she is a real chip off the old block. There is high tech stuntwork to die for in this fast paced flick and the makers of the Bond movies should give it a look if they want to spice up the action quotient of the next 007 adventure as there is much innovative stuff here with some fresh and original second unit work to bolster up the already high action content of \"AND NOW,YOU\\'RE DEAD\". When you watch a movie as fast paced and entertaining as this you begin to wonder how cinema itself was able to survive before the martial arts genre was created.I genuinely believe that movies in general and action movies in particular were just marking time until the first kung fu movies made their debut. Bruce Lee was the father of modern action cinema and his legitimate surviving offspring Shannon does not let the family name down here.Although there are several pleasing performances in this movie (Michel Wong for one)it is Shannon Lee whom you will remember for a genuinely spectacular performance as Mandy the hitgirl supreme.Hell;you may well come away whistling her fights!',\n",
              " b\"When I first got my N64 when I was five or six,I fell in love with it,and my first game was Super Mario 64.And I LOVED IT!The graphics were great for it's time,a good plot,great courses and above all,the best music I heard in a Nintendo game.  I don't remember the plot completely,but I think Princess Peach was kidnapped by Bowser,and Mario has to rescue her.The object of the game is to get 120 stars from the curses in the castle.Each had about five or six challnges to get the stars.There are secert parts of the castle,where you can get more stars.But of course,you have beat Bowser.*I think there are three levels to beat Bowser on* Lets start with the characters.Mario is the main character,and gets helpful advice from Toad,so he is basically one of your only alliances.I heard that Luigi and Yoshi are in the game towards the end.The main villain is Bowser,and there are a bunch of other characters like Boo and Goomba.The characters are really great.  Next,how about the graphics?People say Gameplay is more important then the graphics,and I agree completely.But with he great plot,there are great graphics.Especially for it's time.I have a whole bunch of other Nintendo games like 007 and their graphics don't compare to Super Mario.Bright colors,great effects and awesome sound effects.I found the graphics in the water courses very very good.Next to the Bowser world ones,it has the best graphics in the game.  Now,the music.This is my favorite part of the game.Growing up,when I played this at a young age,I'd gladly leave the game on all night so the music would put me to sleep.Especially the music from Jolly Roger Bay,which was peaceful and wonderful.There are others that are great too,especially in,once again,the worlds with Bowser,are the ones that stick with me the most and are my favorites.  This game was my favorite past time as a developing gamer,and I love it.This game gets 10/10 or *****(5)/*****(5) GO PLAY THE GAME!\",\n",
              " b\"I thought the film could be a bit more complex,in a psychological sense perhaps, but the action and voice acting were top notch. The animation was heavy CG in many scenes, but very good ones at that. This is one of the Batman Returns/Forever type films, which include romances and the conflicts of Wayne and motives for dating. 007 fans would love this, and so would the females, great theme song! Wayne was portrayed very well in this film, and the Penquin was back to his true form, no mutant genes in him this time! I liked the fact Robin wasn't used too much, Tim Drake was just a good computer nerd, somewhat of an Indigo child or mind of the future.  The supporting cast was made up of some soap opera stars, decent talents and the characters were drawn to look like the voice actors too. Kelly Ripa was hilarious in this film.  I rate this below Phantasm, Return of the Joker, and Batman vs. Dracula, but liked the smarter script better than I enjoyed Subzero. 7/10\",\n",
              " b'What\\'s to like about this movie???  It is in colour!   It has some impressive underwater photography!   It has a rhythmic musical score in the background that works well at times!   So 3 out of 10!   Sometimes the music is speeded up! Especially when the shark or the baddies are about to move in!   Sometimes it is slowed! As if to convey to the audience it\\'s about to be time for sympathy!   As another one bites the dust! As if in a \"spagetti Western\" this has much similarity to!   It\\'s not that the Italians can\\'t produce quality productions! There was a series of TV movies with a heading like \"Octopus\" numbered about 1 to 7, screened on SBS TV in Australia in the 1990s about mafia-type conflicts! And they were excellent! But alas, you won\\'t find it here!!!  I assumed it was made about 1960s! Sadly it was 20 years out of date, as evidenced by a funeral scene near the end!   Then there was the razor-sharp bite of the speedy shark that makes for a red dust repeatedly emerging in the bluish waters!   Amidst it all, either in bar-room brawl or in observing the latest sea-side bloody demolition by the relentlessly hungry shark, the mate of the hero looks on through his glasses of little concern, as if he too was bored in his relentless role amidst a lack of much evidence of plot or anyone\\'s character development!   At least the hero indicates a fleeting concern belatedly, for his ex-wife!   But of course, even if the music fails to awaken our realisation, we have the sinister sound in the baddies\\' voices, as if to nudge us that another dark deed is about to emerge!   And near the end, someone thought of a twist! Just when we thought it was all totally predictable! But stay tuned, folks, for you may find another twist! If you are watching closely! To, more or less, warm your heart!   Follow the advice of the hero, and have a few beers along the way! It\\'ll make your viewing of \"Night of the Sharks\" more enjoyable!   Then you\\'ll be ready for something like a \"007\" movie to ease your way back into reality when this is over!!!',\n",
              " b\"Dark comedy? Gallows humor? How does one make a comedy out of murder? It can be risky business as the viewer is required to let go of their moral values and laugh at the antics of a man who kills people. So, the story has be rock solid with a good dash of suspended reality in order to make it work. So, Pierce Brosnan, the Irishman's answer to 007 is now cast as a chain-smoking, sex-addicted alcoholic who kills people for a living and is having a life crisis. He meets a struggling businessman, Greg Kinnear, and after a rocky beginning, he learns that he needs a friend. But, Greg's happily married to Hope Davis and Brosnan sees in him the basic things he doesn't have, love, home and a life. Add character actor, Philip Baker Hall as the hit-man's manager and we're off to the races. Brosnan is wonderfully crass and crude as the anti-hero and Kinnear delightful as his counterpart, the very human businessman. Hope Davis adds a sparkle as Kinnear's very conventional wife who is fascinated with this derelict who drifts into their lives. The ending is delightful and with some surprise to it. You should leave the theater feeling, at least, partly good-- if you're able to suspend being aghast at killing people.\",\n",
              " b'While flipping through the channels on a late Saturday night, my friends and I stumbled across this film. First of all, Irish actor Pierce Brosnan as a Native American? Seriously?! His accent was breaking through so much, although his character was apparently Scottish. Next, I was stunned to find that this film was made after he had already played James Bond/Agent 007 at least twice. This movie plays up the stereotypes, with the inspiring professor figure. The girl who played Pony should be paid to keep her mouth shut. And, this film won an award? I cannot believe it. Brosnan is an attractive man, but we seriously wanted to gauge our eyes out after watching this for just 10 seconds. We switched from \"Kicking and Screaming\" to this, and we wanted to switch back. We watched the 1995 children\\'s classic \"The Indian in the Cupboard\" earlier in the night, which also discussed the Iroquois. The following line represents our desire to run away: \"Take me outside, earth grasper.\" From \"Grey Owl\": \"If you don\\'t like it, you don\\'t have to watch.\"']"
            ]
          },
          "metadata": {},
          "execution_count": 94
        }
      ]
    },
    {
      "cell_type": "markdown",
      "metadata": {
        "id": "b3gcaolxg04q"
      },
      "source": [
        "특성 추출 방법을 개선하기 전에 분류기를 만들어서 성능 수치를 확인합니다. 'y_train'에 있는 훈련 레이블과 'X_train'에 있는 훈련 데이터의 BOW 표현으로 분류기를 학습합니다. 이런 희소 행렬의 고차원 데이터셋에서는 `LogisticRegression` 같은 선형 모델의 성능이 매우 뛰어납니다."
      ]
    },
    {
      "cell_type": "markdown",
      "metadata": {
        "id": "2PQzVWe4lnCJ"
      },
      "source": [
        "교차 검증을 사용해서 `LogisticRegression` 모델의 성능을 평가합니다."
      ]
    },
    {
      "cell_type": "code",
      "metadata": {
        "colab": {
          "base_uri": "https://localhost:8080/"
        },
        "id": "MTudwoHghMO0",
        "outputId": "06a6d475-03cb-4218-9a91-71a8c7dfaca5"
      },
      "source": [
        "# 다소 오래 걸리는 작업입니다.\n",
        "from sklearn.model_selection import cross_val_score\n",
        "from sklearn.linear_model import LogisticRegression\n",
        "\n",
        "scores = cross_val_score(LogisticRegression(max_iter=1000), X_train, y_train, cv=5)\n",
        "print('교차 검증 평균 점수: {:.2f}'.format(np.mean(scores)))"
      ],
      "execution_count": null,
      "outputs": [
        {
          "output_type": "stream",
          "name": "stdout",
          "text": [
            "교차 검증 평균 점수: 0.88\n"
          ]
        }
      ]
    },
    {
      "cell_type": "markdown",
      "metadata": {
        "id": "Cs6f3UrjiWpR"
      },
      "source": [
        "교차 검증 평균 점수 88%는 균형 잡힌 데이터셋에서 꽤 좋은 이진 분류 성능입니다.\n",
        "\n",
        "서적에서 서술하기를 위 코드는 전처리와 교차 검증을 설명한 6장의 규칙을 어기고 있습니다. `CountVectorizer` 클래스의 기본 설정에서는 실제로 어떤 통계도 수집하지 않기 때문에 결과에 어떠한 영향도 주지 않습니다. 처음부터 `Pipeline`을 사용하면 더 좋지만 쉽게 설명하기 위해 뒤로 미뤘습니다. `CountVectorizer` 클래스의 `min_df`, `max_df` 같은 매개변수의 기본값을 조정하면 교차 검증 결과에 영향을 줍니다. `Pipeline`을 사용하는 편이 더 낫습니다."
      ]
    },
    {
      "cell_type": "markdown",
      "metadata": {
        "id": "Kdbbt9pPimgu"
      },
      "source": [
        "`LogisticRegression` 클래스에는 규제 매개변수 `C`가 있습니다. 그리드 서치를 사용해서 조정을 시도합니다."
      ]
    },
    {
      "cell_type": "code",
      "metadata": {
        "colab": {
          "base_uri": "https://localhost:8080/"
        },
        "id": "QO33VdIGixWu",
        "outputId": "f798c8ff-631f-411b-d32f-39075be9b8ef"
      },
      "source": [
        "# 매우 오래 걸리는 작업입니다.\n",
        "from sklearn.model_selection import GridSearchCV\n",
        "param_grid = {'C': [0.001, 0.01, 0.1, 1, 10]}\n",
        "grid = GridSearchCV(LogisticRegression(max_iter=5000), param_grid, cv=5)\n",
        "grid.fit(X_train, y_train)\n",
        "print('최상의 교차 검증 점수: {:.2f}'.format(grid.best_score_))\n",
        "print('최적 매개변수: ', grid.best_params_)"
      ],
      "execution_count": null,
      "outputs": [
        {
          "output_type": "stream",
          "name": "stdout",
          "text": [
            "최상의 교차 검증 점수: 0.89\n",
            "최적 매개변수:  {'C': 0.1}\n"
          ]
        }
      ]
    },
    {
      "cell_type": "markdown",
      "metadata": {
        "id": "ijvrqCwjmfkM"
      },
      "source": [
        "이 매개변수를 사용해서 테스트 세트의 일반화 성능을 측정합니다."
      ]
    },
    {
      "cell_type": "code",
      "metadata": {
        "colab": {
          "base_uri": "https://localhost:8080/"
        },
        "id": "2ndqb3jDmj6e",
        "outputId": "7f7be77b-8bc7-4cee-b449-ced27b84b8bb"
      },
      "source": [
        "X_test = vect.transform(text_test)\n",
        "print('테스트 점수: {:.2f}'.format(grid.score(X_test, y_test)))"
      ],
      "execution_count": null,
      "outputs": [
        {
          "output_type": "stream",
          "name": "stdout",
          "text": [
            "테스트 점수: 0.88\n"
          ]
        }
      ]
    },
    {
      "cell_type": "markdown",
      "metadata": {
        "id": "HlB-rVzrqEzN"
      },
      "source": [
        "이제 단어 추출 방법을 개선합니다. `CountVectorizer` 클래스는 정규표현식을 사용해서 토큰을 추출합니다. 기본적으로 사용하는 정규 표현식은 '\\b\\w\\w+\\b'입니다(정확하게는 '(?u)\\b\\w\\w+\\b'입니다. 파이썬3에서 '(?u)'는 불필요한 패턴이지만 하위 호환성을 위해 남겼습니다). 이 식으로 경계(\\b)가 구분되고, 적어도 둘 이상의 문자나 숫자(\\w)가 연속된 단어를 찾는 것입니다. 한 글자로 된 단어는 찾지 않고, 'doesn't' 같은 축약형이나 'bit.ly' 같은 단어는 분리되고, 'h8ter'는 한 단어로 매칭됩니다. `CountVectorizer` 클래스는 모든 단어를 소문자로 바꾸므로 'soon', 'Soon', 'SOon'은 모두 같은 특성(토큰)이 됩니다.\n",
        "\n",
        "이런 간단한 메커니즘은 실제로는 잘 작동하지만 숫자처럼 의미 없는 특성을 생성합니다. 이런 특성을 최대한 생성하지 않도록 하는 방법은 적어도 문서 두 개(또는 다섯 개 등)에 나타난 토큰만을 사용하는 것입니다. 문서 하나에서만 나타난 토큰은 테스트 세트에 나타날 가능성이 적으므로 큰 도움이 되지 않습니다."
      ]
    },
    {
      "cell_type": "markdown",
      "metadata": {
        "id": "gMb6ELzlsHbl"
      },
      "source": [
        "`min_df` 매개변수에 토큰이 나타날 최소 문서 개수를 지정할 수 있습니다."
      ]
    },
    {
      "cell_type": "code",
      "metadata": {
        "colab": {
          "base_uri": "https://localhost:8080/"
        },
        "id": "ShPJmxzbsMvI",
        "outputId": "89fa7f27-c9fc-47fa-cea3-35a85fd43d9c"
      },
      "source": [
        "vect = CountVectorizer(min_df=5).fit(text_train)\n",
        "X_train = vect.transform(text_train)\n",
        "print('min_df를 지정하여 제한한 X_train:', repr(X_train))"
      ],
      "execution_count": null,
      "outputs": [
        {
          "output_type": "stream",
          "name": "stdout",
          "text": [
            "min_df를 지정하여 제한한 X_train: <25000x27271 sparse matrix of type '<class 'numpy.int64'>'\n",
            "\twith 3354014 stored elements in Compressed Sparse Row format>\n"
          ]
        }
      ]
    },
    {
      "cell_type": "markdown",
      "metadata": {
        "id": "DgE9Anohsigh"
      },
      "source": [
        "적어도 토큰이 다섯 번 이상 나타나야 하므로 특성 수가 1/3 정도인 27,271개로 감소했습니다."
      ]
    },
    {
      "cell_type": "markdown",
      "metadata": {
        "id": "8NSBOWsqssmI"
      },
      "source": [
        "토큰 내용을 다시 살핍니다."
      ]
    },
    {
      "cell_type": "code",
      "metadata": {
        "colab": {
          "base_uri": "https://localhost:8080/"
        },
        "id": "Lf-h3cORsuXS",
        "outputId": "1385edba-18b1-4dfa-d195-59a0a760ca0e"
      },
      "source": [
        "feature_names = vect.get_feature_names()\n",
        "print('처음 특성 50개:\\n', feature_names[:50])\n",
        "print()\n",
        "print('20,010~20,030까지 특성:\\n', feature_names[20010:20030])\n",
        "print()\n",
        "print('매 700번째 특성:\\n', feature_names[::700])"
      ],
      "execution_count": null,
      "outputs": [
        {
          "output_type": "stream",
          "name": "stdout",
          "text": [
            "처음 특성 50개:\n",
            " ['00', '000', '007', '00s', '01', '02', '03', '04', '05', '06', '07', '08', '09', '10', '100', '1000', '100th', '101', '102', '103', '104', '105', '107', '108', '10s', '10th', '11', '110', '112', '116', '117', '11th', '12', '120', '12th', '13', '135', '13th', '14', '140', '14th', '15', '150', '15th', '16', '160', '1600', '16mm', '16s', '16th']\n",
            "\n",
            "20,010~20,030까지 특성:\n",
            " ['repentance', 'repercussions', 'repertoire', 'repetition', 'repetitions', 'repetitious', 'repetitive', 'rephrase', 'replace', 'replaced', 'replacement', 'replaces', 'replacing', 'replay', 'replayable', 'replayed', 'replaying', 'replays', 'replete', 'replica']\n",
            "\n",
            "매 700번째 특성:\n",
            " ['00', 'affections', 'appropriately', 'barbra', 'blurbs', 'butchered', 'cheese', 'commitment', 'courts', 'deconstructed', 'disgraceful', 'dvds', 'eschews', 'fell', 'freezer', 'goriest', 'hauser', 'hungary', 'insinuate', 'juggle', 'leering', 'maelstrom', 'messiah', 'music', 'occasional', 'parking', 'pleasantville', 'pronunciation', 'recipient', 'reviews', 'sas', 'shea', 'sneers', 'steiger', 'swastika', 'thrusting', 'tvs', 'vampyre', 'westerns']\n"
          ]
        }
      ]
    },
    {
      "cell_type": "markdown",
      "metadata": {
        "id": "vxWK0ss8tW-r"
      },
      "source": [
        "숫자 길이가 줄고 희귀한 단어와 철자가 틀린 단어들이 제거됐습니다."
      ]
    },
    {
      "cell_type": "markdown",
      "metadata": {
        "id": "y0oKW-O8tguP"
      },
      "source": [
        "그리드 서치를 통해 모델 성능을 확인합니다."
      ]
    },
    {
      "cell_type": "code",
      "metadata": {
        "colab": {
          "base_uri": "https://localhost:8080/"
        },
        "id": "63TR-HxVtlbR",
        "outputId": "9b04c902-5bf8-4555-a293-3eb52c7d6081"
      },
      "source": [
        "# 매우 오래 걸리는 작업입니다.\n",
        "# 이하 그리드서치 관련한 모든 셀은 계산 시간이 오래 소요됩니다.\n",
        "grid = GridSearchCV(LogisticRegression(max_iter=5000), param_grid, cv=5)\n",
        "grid.fit(X_train, y_train)\n",
        "print('최적의 교차 검증 점수: {:.2f}'.format(grid.best_score_))"
      ],
      "execution_count": null,
      "outputs": [
        {
          "output_type": "stream",
          "name": "stdout",
          "text": [
            "최적의 교차 검증 점수: 0.89\n"
          ]
        }
      ]
    },
    {
      "cell_type": "markdown",
      "metadata": {
        "id": "ytD_clvpt8q0"
      },
      "source": [
        "교차 검증 점수는 변하지 않았습니다. 다만 불필요한 특성의 개수가 줄면서 처리 속도가 빨라지고 모델을 이해하기 쉬워졌습니다."
      ]
    },
    {
      "cell_type": "markdown",
      "metadata": {
        "id": "q_wl5LdGxyy6"
      },
      "source": [
        "참고로 훈련 데이터에 없던 단어(이하 '해당 단어')가 포함된 문서에 `CountVectorizer` 클래스의 `transform` 메서드를 적용하면 어휘 사전에 해당 단어가 없으므로 해당 단어를 무시합니다. 훈련 데이터에 없는 단어에 대해 학습하는 것은 불가능한 일입니다. 보통 분류 작업에서 문제가 되지는 않지만 스팸 감지와 같은 애플리케이션에서는 어휘 사전에 없는 단어가 문서에 얼마나 많이 나타나는지 기록한 특성은 유용하기도 합니다. 사이킷런에는 없는 기능이지만 직접 작성하기에 어렵지는 않습니다. 적절한 방식을 사용해서 어휘를 제한하지 않으면 훈련하는 동안 어휘 사전에 없는 단어는 생기지 않습니다."
      ]
    },
    {
      "cell_type": "markdown",
      "metadata": {
        "id": "BPKGMqcGVBGO"
      },
      "source": [
        "# **7.4 불용어**\n",
        "\n",
        "의미 없는 단어를 제거하는 두 가지 다른 방법이 있습니다. 빈번하게 사용하지만 유용하지 않은 단어를 제외하는 것입니다. 언어별 불용어(stopword) 목록을 사용하는 방법, 자주 나타나는 단어를 제외하는 방법입니다.\n",
        "\n",
        "참고로 영어의 불용어는 예시를 위한 것입니다. 다른 언어의 불용어를 사용하려면 `CountVectorizer` 클래스의 `stop_words` 매개변수에 사용하려면 불용어 목록을 입력합니다. "
      ]
    },
    {
      "cell_type": "markdown",
      "metadata": {
        "id": "5-t5nDZhLuwk"
      },
      "source": [
        "`feature_extraction.text` 모듈에 영어의 불용어를 가지고 있습니다. 불용어 목록의 순서에 따라 출력 결과가 본서와 다를 수 있습니다."
      ]
    },
    {
      "cell_type": "code",
      "metadata": {
        "colab": {
          "base_uri": "https://localhost:8080/"
        },
        "id": "1s0NPR6gL6NX",
        "outputId": "34a54c41-717f-440b-842d-06b3c9946457"
      },
      "source": [
        "from sklearn.feature_extraction.text import ENGLISH_STOP_WORDS\n",
        "\n",
        "print('불용어 개수:', len(ENGLISH_STOP_WORDS))\n",
        "print('매 10번째 불용어:\\n', list(ENGLISH_STOP_WORDS)[::10])"
      ],
      "execution_count": null,
      "outputs": [
        {
          "output_type": "stream",
          "name": "stdout",
          "text": [
            "불용어 개수: 318\n",
            "매 10번째 불용어:\n",
            " ['from', 'enough', 'still', 'but', 'into', 'next', 'own', 'keep', 'where', 'fire', 'you', 'what', 'itself', 'without', 'nevertheless', 'might', 'same', 'or', 'yet', 'twenty', 'any', 'bottom', 'before', 'seems', 'whereupon', 'amongst', 'whereas', 'had', 'themselves', 'couldnt', 'will', 'nor']\n"
          ]
        }
      ]
    },
    {
      "cell_type": "markdown",
      "metadata": {
        "id": "83zhaXYnPCUj"
      },
      "source": [
        "불용어를 어휘 사전에서 제외하면 특성 개수가 줄어들겠지만 성능 향상을 도모할 수도 있습니다."
      ]
    },
    {
      "cell_type": "code",
      "metadata": {
        "colab": {
          "base_uri": "https://localhost:8080/"
        },
        "id": "mGb_vvK5PLZa",
        "outputId": "6b65ff77-c6f7-4b12-f9e3-a02155f03e5e"
      },
      "source": [
        "# `stop_words='english'`로 지정하면 내장된 불용어를 사용합니다.\n",
        "# 내장된 불용어에 추가하거나 별개의 목록을 사용할 수 있습니다.\n",
        "vect = CountVectorizer(min_df=5, stop_words='english').fit(text_train)\n",
        "X_train = vect.transform(text_train)\n",
        "print('불용어가 제거된 X_train:\\n', repr(X_train))"
      ],
      "execution_count": null,
      "outputs": [
        {
          "output_type": "stream",
          "name": "stdout",
          "text": [
            "불용어가 제거된 X_train:\n",
            " <25000x26966 sparse matrix of type '<class 'numpy.int64'>'\n",
            "\twith 2149958 stored elements in Compressed Sparse Row format>\n"
          ]
        }
      ]
    },
    {
      "cell_type": "markdown",
      "metadata": {
        "id": "6TGKoJU1RJaZ"
      },
      "source": [
        "그리드 서치를 적용합니다."
      ]
    },
    {
      "cell_type": "code",
      "metadata": {
        "colab": {
          "base_uri": "https://localhost:8080/"
        },
        "id": "7EmvqM7WRMhb",
        "outputId": "3f6d308f-6a60-4430-f268-ed71f2afe6fb"
      },
      "source": [
        "grid = GridSearchCV(LogisticRegression(max_iter=5000), param_grid, cv=5)\n",
        "grid.fit(X_train, y_train)\n",
        "print('최상의 교차 검증 점수: {:.2f}'.format(grid.best_score_))"
      ],
      "execution_count": null,
      "outputs": [
        {
          "output_type": "stream",
          "name": "stdout",
          "text": [
            "최상의 교차 검증 점수: 0.88\n"
          ]
        }
      ]
    },
    {
      "cell_type": "markdown",
      "metadata": {
        "id": "MQiAJppOSsWY"
      },
      "source": [
        "성능이 약간 감소한 정도입니다. 특성 305개를 제외했지만 성능이 향상된 것 같지는 않습니다. 불용어 목록을 사용하는 것은 도움이 되지 않습니다. 고정된 불용어 목록은 모델이 데이터셋만 보고 불용어를 골라내기 어려운 작은 데이터셋에서나 유효합니다.\n",
        "\n",
        "다른 방식으로는 `CountVectorizer` 클래스의 `max_df` 매개변수를 지정해서 자주 나타나는 단어를 제거하고 특성 개수와 성능에 영향을 주는 것입니다."
      ]
    },
    {
      "cell_type": "markdown",
      "metadata": {
        "id": "DA5fcbqZVBDs"
      },
      "source": [
        "# **7.5 tf-idf로 데이터 스케일 변경하기**\n",
        "\n",
        "중요하지 않아 보이는 특성을 제외하는 대신 얼마나 의미가 있는 특성인지를 계산해서 스케일을 조정하는 방식이 있습ㅂ니다. 가장 널리 알려진 방식은 **tf-idf(term frequency-inverse document frequency, 단어빈도-역문서빈도)**으로, 말뭉치의 다른 문서보다 특정 문서에 자주 나타나는 단어에 높은 가중치를 주는 방법입니다. 한 단어가 특정 문서에 자주 나타나고 다른 여러 문서에서는 그렇지 않다면, 그 문서의 내용을 아주 잘 설명하는 단어라고 여길 수 있습니다.\n",
        "\n",
        "tf-idf를 구현한 클래스 2개를 설명합니다. tf-idf 스케일 변환 방식은 아래 클래스들 외에 또다른 변종이 많습니다. [위키백과](https://en.wikipedia.org/wiki/Tf-idf)를 참고하시기 바랍니다. \n",
        "\n",
        "- `TfidfTransformer`: `CountVectorizer`가 만든 희소 행렬을 입력받아 변환합니다.\n",
        "\n",
        "- `TfidfVectorizer`: 텍스트 데이터를 입력받아서 BOW 특성 추출과 tf-idf 변환을 수행합니다. `CountVectorizer` 클래스의 서브 클래스로, `CountVectorizer` 클래스를 이용해서 BOW를 만들고 `TfidfTransformer` 클래스를 사용해서 tf-idf 변환을 합니다.\n",
        "\n",
        "문서 d에 있는 단어 w에 대한 tf-idf 점수는 `TfidfTransformer` 클래스와 `TfidfVectorizer` 클래스에 아래 공식으로 정의되어 있습니다. 굳이 암기할 필요는 없는 공식입니다.\n",
        "\n",
        "$tfidf(w, d) = tf(log(\\frac{N+1}{N_w+1})+1)$\n",
        "\n",
        "$N$은 훈련 세트에 있는 문서의 개수입니다.   \n",
        "$N_w$는 단어 $w$가 나타난 훈련 세트 문서의 개수입니다.   \n",
        "$tf$(단어 빈도수)는 단어 $w$가 대상 문서 $d$(변환 또는 인코딩 하려는 문서)에 나타난 횟수입니다.\n",
        "\n",
        "위의 두 파이썬 클래스 모두 tf-idf 계산을 선행한 뒤에 L2 정규화(L2 normalization)를 적용합니다. 다시 말하면 유클리디안 노름(euclidean norm)이 1이 되도록 각 문서 벡터의 스케일을 바꿉니다. 이렇게 스케일이 바뀐 벡터는 문서 길이(단어 수)에 영향을 받지 않습니다. 참고로 벡터의 원소를 유클리디안 노름(L2 노름)으로 나누면 L2 노름이 1인 단위 벡터가 됩니다. `TfidfVectorizer` 클래스와 `TfidfTransformer` 클래스의 `norm` 매개변수의 기본값은 `l2`이며 L2 정규화를 의미합니다."
      ]
    },
    {
      "cell_type": "markdown",
      "metadata": {
        "id": "f7qnTUJamTeJ"
      },
      "source": [
        "tf-idf는 실제로 훈련 데이터의 통계적 속성을 사용하므로 파이프라인을 사용해서 그리드 서치를 적용할 수 있습니다."
      ]
    },
    {
      "cell_type": "code",
      "metadata": {
        "colab": {
          "base_uri": "https://localhost:8080/"
        },
        "id": "SIWg7PPEmatI",
        "outputId": "52c2412f-e65d-4648-da0d-133780a6e7ac"
      },
      "source": [
        "from sklearn.feature_extraction.text import TfidfVectorizer\n",
        "from sklearn.pipeline import make_pipeline\n",
        "\n",
        "pipe = make_pipeline(TfidfVectorizer(min_df=5), LogisticRegression(max_iter=5000))\n",
        "param_grid = {'logisticregression__C': [0.001, 0.01, 0.1, 1, 10]}\n",
        "\n",
        "grid = GridSearchCV(pipe, param_grid, cv=5)\n",
        "grid.fit(text_train, y_train)\n",
        "print('최상의 교차 검증 검수: {:.2f}'.format(grid.best_score_))"
      ],
      "execution_count": null,
      "outputs": [
        {
          "output_type": "stream",
          "name": "stdout",
          "text": [
            "최상의 교차 검증 검수: 0.89\n"
          ]
        }
      ]
    },
    {
      "cell_type": "markdown",
      "metadata": {
        "id": "XFFNXhhdntfR"
      },
      "source": [
        "tf-idf가 성능 향상에 별다른 영향을 주지 못했습니다."
      ]
    },
    {
      "cell_type": "markdown",
      "metadata": {
        "id": "xPNq2LNnn4yx"
      },
      "source": [
        "tf-idf는 어떤 단어가 가장 중요한지도 알려줍니다. tf-idf는 문서를 구별하는 단어를 찾는 방법이지만 완전한 비지도 학습입니다. 따라서 '긍정적인 리뷰'와 '부정적인 리뷰' 레이블과 꼭 관계가 있지 않습니다."
      ]
    },
    {
      "cell_type": "markdown",
      "metadata": {
        "id": "sLxjMlFcoW97"
      },
      "source": [
        "파이프라인에서 `TfidfVectorizer` 단계를 선택합니다."
      ]
    },
    {
      "cell_type": "code",
      "metadata": {
        "colab": {
          "base_uri": "https://localhost:8080/"
        },
        "id": "g06vVj96obVO",
        "outputId": "2b9a349f-aeb7-4213-b075-38a7f5b9bef0"
      },
      "source": [
        "vectorizer = grid.best_estimator_.named_steps['tfidfvectorizer']\n",
        "# 훈련 데이터셋을 변환합니다.\n",
        "X_train = vectorizer.transform(text_train)\n",
        "# 특성별로 가장 큰 값을 찾습니다.\n",
        "max_value = X_train.max(axis=0).toarray().ravel()\n",
        "sorted_by_tfidf = max_value.argsort()\n",
        "# 특성 이름을 구합니다.\n",
        "feature_names = np.array(vectorizer.get_feature_names())\n",
        "\n",
        "print('가장 낮은 tfidf를 가진 특성:\\n', feature_names[sorted_by_tfidf[:20]])\n",
        "print('가장 높은 tfidf를 가진 특성:\\n', feature_names[sorted_by_tfidf[-20:]])"
      ],
      "execution_count": null,
      "outputs": [
        {
          "output_type": "stream",
          "name": "stdout",
          "text": [
            "가장 낮은 tfidf를 가진 특성:\n",
            " ['suplexes' 'gauche' 'hypocrites' 'oncoming' 'songwriting' 'galadriel'\n",
            " 'emerald' 'mclaughlin' 'sylvain' 'oversee' 'cataclysmic' 'pressuring'\n",
            " 'uphold' 'thieving' 'inconsiderate' 'ware' 'denim' 'reverting' 'booed'\n",
            " 'spacious']\n",
            "가장 높은 tfidf를 가진 특성:\n",
            " ['gadget' 'sucks' 'zatoichi' 'demons' 'lennon' 'bye' 'dev' 'weller'\n",
            " 'sasquatch' 'botched' 'xica' 'darkman' 'woo' 'casper' 'doodlebops'\n",
            " 'smallville' 'wei' 'scanners' 'steve' 'pokemon']\n"
          ]
        }
      ]
    },
    {
      "cell_type": "markdown",
      "metadata": {
        "id": "eidpvprup2et"
      },
      "source": [
        "tf-idf가 낮은 특성은 전체 문서에 걸쳐 매우 많이 나타나거나 조금씩 사용되거나 매우 긴 문서에서만 사용됩니다. 전체 문서에 걸쳐서 많이 나타나면 idf 값이 1에 가까워지고, 조금씩 사용되거나 매우 긴 문서에서만 사용되면 L2 정규화 때문에 tf-idf 값은 작아집니다.\n",
        "\n",
        "tf-idf가 높은 특성은 쇼나 영화를 나타내는 경우가 많습니다. 이런 단어들은 특정한 쇼나 드라마에 대한 리뷰에서만 나타나지만, 특정 리뷰에서 매우 자주 나타나는 경향이 있습니다. 'pokemon', 'smallville', 'doodlebops'를 예로 들 수 있으며, 'scanners'는 영화 제목입니다. 이 단어들이 감성 분석에 도움이 되진 않겠지만 리뷰에 관련된 구체적인 정보를 많이 갖고 있습니다."
      ]
    },
    {
      "cell_type": "markdown",
      "metadata": {
        "id": "U6Uhyvgaq82L"
      },
      "source": [
        "idf 값이 낮은 단어(자주 나타나서 덜 중요하다고 여겨지는 단어)를 확인합니다. 훈련 세트의 idf 값은 `idf_` 속성에 저장됩니다."
      ]
    },
    {
      "cell_type": "code",
      "metadata": {
        "colab": {
          "base_uri": "https://localhost:8080/"
        },
        "id": "00RDAhoPrIXK",
        "outputId": "68f545a1-4854-4114-e305-b4dc6d593429"
      },
      "source": [
        "sorted_by_idf = np.argsort(vectorizer.idf_)\n",
        "print('가장 낮은 idf를 가진 특성:\\n', feature_names[sorted_by_idf[:100]])"
      ],
      "execution_count": null,
      "outputs": [
        {
          "output_type": "stream",
          "name": "stdout",
          "text": [
            "가장 낮은 idf를 가진 특성:\n",
            " ['the' 'and' 'of' 'to' 'this' 'is' 'it' 'in' 'that' 'but' 'for' 'with'\n",
            " 'was' 'as' 'on' 'movie' 'not' 'have' 'one' 'be' 'film' 'are' 'you' 'all'\n",
            " 'at' 'an' 'by' 'so' 'from' 'like' 'who' 'they' 'there' 'if' 'his' 'out'\n",
            " 'just' 'about' 'he' 'or' 'has' 'what' 'some' 'good' 'can' 'more' 'when'\n",
            " 'time' 'up' 'very' 'even' 'only' 'no' 'would' 'my' 'see' 'really' 'story'\n",
            " 'which' 'well' 'had' 'me' 'than' 'much' 'their' 'get' 'were' 'other'\n",
            " 'been' 'do' 'most' 'don' 'her' 'also' 'into' 'first' 'made' 'how' 'great'\n",
            " 'because' 'will' 'people' 'make' 'way' 'could' 'we' 'bad' 'after' 'any'\n",
            " 'too' 'then' 'them' 'she' 'watch' 'think' 'acting' 'movies' 'seen' 'its'\n",
            " 'him']\n"
          ]
        }
      ]
    },
    {
      "cell_type": "markdown",
      "metadata": {
        "id": "VyVEA83zrXAq"
      },
      "source": [
        "대부분 'the', 'no' 같은 불용어입니다. 그러나 일부는 'movie', 'film', 'time', 'story'처럼 영화 리뷰에서만 볼 수 있는 단어입니다. 'good', 'great', 'bad'도 자주 나타나는 단어라서 감성 분석에는 매우 중요하지만, tf-idf로 봤을 땐 덜 중요합니다."
      ]
    },
    {
      "cell_type": "markdown",
      "metadata": {
        "id": "rbHWlHYNVBBS"
      },
      "source": [
        "# **7.6 모델 계수 조사**\n",
        "\n",
        "로지스틱 회귀 모델이 실제로 무엇을 학습했는지 확인하겠습니다. 자주 나타나지 않은 단어를 제외해도 특성이 많기 때문에 모든 계수를 확인하기는 쉽지 않습니다. 가장 큰 값의 계수와 해당 단어를 확인하겠습니다. tf-idf 특성으로 훈련시킨 마지막 모델을 사용합니다."
      ]
    },
    {
      "cell_type": "code",
      "metadata": {
        "colab": {
          "base_uri": "https://localhost:8080/"
        },
        "id": "XmpzPRnctYlY",
        "outputId": "12fdaa73-3b60-4259-b223-233b07ac6bca"
      },
      "source": [
        "pip install mglearn"
      ],
      "execution_count": null,
      "outputs": [
        {
          "output_type": "stream",
          "name": "stdout",
          "text": [
            "Requirement already satisfied: mglearn in /usr/local/lib/python3.7/dist-packages (0.1.9)\n",
            "Requirement already satisfied: numpy in /usr/local/lib/python3.7/dist-packages (from mglearn) (1.19.5)\n",
            "Requirement already satisfied: scikit-learn in /usr/local/lib/python3.7/dist-packages (from mglearn) (0.22.2.post1)\n",
            "Requirement already satisfied: imageio in /usr/local/lib/python3.7/dist-packages (from mglearn) (2.4.1)\n",
            "Requirement already satisfied: joblib in /usr/local/lib/python3.7/dist-packages (from mglearn) (1.0.1)\n",
            "Requirement already satisfied: matplotlib in /usr/local/lib/python3.7/dist-packages (from mglearn) (3.2.2)\n",
            "Requirement already satisfied: cycler in /usr/local/lib/python3.7/dist-packages (from mglearn) (0.10.0)\n",
            "Requirement already satisfied: pandas in /usr/local/lib/python3.7/dist-packages (from mglearn) (1.1.5)\n",
            "Requirement already satisfied: pillow in /usr/local/lib/python3.7/dist-packages (from mglearn) (7.1.2)\n",
            "Requirement already satisfied: six in /usr/local/lib/python3.7/dist-packages (from cycler->mglearn) (1.15.0)\n",
            "Requirement already satisfied: pyparsing!=2.0.4,!=2.1.2,!=2.1.6,>=2.0.1 in /usr/local/lib/python3.7/dist-packages (from matplotlib->mglearn) (2.4.7)\n",
            "Requirement already satisfied: python-dateutil>=2.1 in /usr/local/lib/python3.7/dist-packages (from matplotlib->mglearn) (2.8.2)\n",
            "Requirement already satisfied: kiwisolver>=1.0.1 in /usr/local/lib/python3.7/dist-packages (from matplotlib->mglearn) (1.3.2)\n",
            "Requirement already satisfied: pytz>=2017.2 in /usr/local/lib/python3.7/dist-packages (from pandas->mglearn) (2018.9)\n",
            "Requirement already satisfied: scipy>=0.17.0 in /usr/local/lib/python3.7/dist-packages (from scikit-learn->mglearn) (1.4.1)\n"
          ]
        }
      ]
    },
    {
      "cell_type": "code",
      "metadata": {
        "colab": {
          "base_uri": "https://localhost:8080/",
          "height": 333
        },
        "id": "IEZqFBN6s4WC",
        "outputId": "17408626-3ebc-4997-f1cd-3ca59680fc44"
      },
      "source": [
        "import mglearn\n",
        "\n",
        "mglearn.tools.visualize_coefficients(\n",
        "    grid.best_estimator_.named_steps['logisticregression'].coef_[0],\n",
        "    feature_names, n_top_features=40)"
      ],
      "execution_count": null,
      "outputs": [
        {
          "output_type": "display_data",
          "data": {
            "image/png": "[encoded data removed]",
            "text/plain": [
              "<Figure size 1080x360 with 1 Axes>"
            ]
          },
          "metadata": {
            "needs_background": "light"
          }
        }
      ]
    },
    {
      "cell_type": "markdown",
      "metadata": {
        "id": "z24Oj-jvtpSj"
      },
      "source": [
        "tf-idf 특성으로 훈련시킨 로지스틱 회귀의 최댓값과 최솟값 계수를 나타내는 그래프입니다. 막대의 크기는 계수 크기입니다. 로지스틱 회귀의 가장 큰 계수 40개, 가장 작은 계수 40개를 나타낸 것입니다. 왼쪽의 음수 계수는 모델에서 부정적인 리뷰의 단어입니다. 오른쪽 양수 계수는 긍정적인 리뷰의 단어입니다. 참고로 'bit', 'job', 'today' 같은 단어는 'good job'이나 'best today' 처럼 긍정적인 구절의 일부로 추측됩니다."
      ]
    },
    {
      "cell_type": "markdown",
      "metadata": {
        "id": "0cqMHHXGVA--"
      },
      "source": [
        "# **7.7 여러 단어로 만든 BOW(n-그램)**\n",
        "\n",
        "BOW 표현 방식은 단어의 순서가 완전하게 무시된다는 큰 단점을 가집니다. 의미가 완전히 반대인 두 문자열이 동일하게 변환되는 것입니다. 예컨대 \"it's bad, not good at all.\"과 \"it's good, not bad at all.\"에서 'not'은 문맥의 중요성을 잘 나타내는 단어입니다. 순서가 무시되면서 문맥의 의미를 잃게 됩니다.\n",
        "\n",
        "물론 BOW 표현 방식을 사용할 떄 문맥을 고려하는 방법이 존재합니다. 토큰 하나의 횟수만 고려하지 않고 옆에 있는 두세 개의 토큰을 함께 고려하는 방법입니다. 토큰 하나는 **유니그램(unigram)**, 토큰 두 개를 **바이그램(bigram)**, 세 개를 **트라이그램(trigram)**이라고 합니다. 연속된 토큰은 **n-그램(n-gram)**이라고 부릅니다.\n",
        "\n",
        "`CountVectorizer` 클래스와 `TfidfVectorizer` 클래스는 `ngram_range` 매개변수에 특성으로 고려할 토큰의 범위를 지정할 수 있습니다. 입력값은 튜플이며, 연속된 토큰의 최소 길이와 최대 길이입니다."
      ]
    },
    {
      "cell_type": "markdown",
      "metadata": {
        "id": "0sLXP5OH6Ebv"
      },
      "source": [
        "앞에서 사용한 샘플 데이터를 출력합니다."
      ]
    },
    {
      "cell_type": "code",
      "metadata": {
        "colab": {
          "base_uri": "https://localhost:8080/"
        },
        "id": "1gU-7RjQ6IZ7",
        "outputId": "5be45c28-1d05-42ea-e8ed-7c3aee34cf94"
      },
      "source": [
        "print('bards_words:\\n', bards_words)"
      ],
      "execution_count": null,
      "outputs": [
        {
          "output_type": "stream",
          "name": "stdout",
          "text": [
            "bards_words:\n",
            " ['The fool doth think he is wise,', 'but the wise man knows himself to be a fool']\n"
          ]
        }
      ]
    },
    {
      "cell_type": "markdown",
      "metadata": {
        "id": "NsxA5uhM7WgP"
      },
      "source": [
        "기본값은 최소 길이가 1이고 최대 길이가 1인 토큰마다 특성 하나를 생성합니다. 정확하게 토큰 하나입니다."
      ]
    },
    {
      "cell_type": "code",
      "metadata": {
        "colab": {
          "base_uri": "https://localhost:8080/"
        },
        "id": "dzsUJme27mLd",
        "outputId": "9dc3560d-35eb-4967-f5ae-765ddca205aa"
      },
      "source": [
        "# 최대 길이가 3이면 (1, 3)으로 지정합니다.\n",
        "cv = CountVectorizer(ngram_range=(1, 1)).fit(bards_words)\n",
        "print('어휘 사전 크기:', len(cv.vocabulary_))\n",
        "print('어휘 사전:\\n', cv.get_feature_names())"
      ],
      "execution_count": null,
      "outputs": [
        {
          "output_type": "stream",
          "name": "stdout",
          "text": [
            "어휘 사전 크기: 13\n",
            "어휘 사전:\n",
            " ['be', 'but', 'doth', 'fool', 'he', 'himself', 'is', 'knows', 'man', 'the', 'think', 'to', 'wise']\n"
          ]
        }
      ]
    },
    {
      "cell_type": "markdown",
      "metadata": {
        "id": "RSRwqYY-Dvie"
      },
      "source": [
        "토큰 두 개가 연속된 바이그램을 만들려면 `ngram_range=(2, 2)`로 지정합니다."
      ]
    },
    {
      "cell_type": "code",
      "metadata": {
        "colab": {
          "base_uri": "https://localhost:8080/"
        },
        "id": "JkaVvj5JDvOp",
        "outputId": "26e9a927-3599-42de-fa32-9c2a98aab39e"
      },
      "source": [
        "cv = CountVectorizer(ngram_range=(2, 2)).fit(bards_words)\n",
        "print('어휘 사전 크기:', len(cv.vocabulary_))\n",
        "print('어휘 사전:\\n', cv.get_feature_names())"
      ],
      "execution_count": null,
      "outputs": [
        {
          "output_type": "stream",
          "name": "stdout",
          "text": [
            "어휘 사전 크기: 14\n",
            "어휘 사전:\n",
            " ['be fool', 'but the', 'doth think', 'fool doth', 'he is', 'himself to', 'is wise', 'knows himself', 'man knows', 'the fool', 'the wise', 'think he', 'to be', 'wise man']\n"
          ]
        }
      ]
    },
    {
      "cell_type": "markdown",
      "metadata": {
        "id": "AL1T2Ju1Eiyw"
      },
      "source": [
        "연속된 토큰의 수가 커지면 특성이 더 구체적이고 많이 만들어집니다. 'bards_words'에 있는 두 문장 사이에는 공통된 바이그램이 없습니다."
      ]
    },
    {
      "cell_type": "code",
      "metadata": {
        "colab": {
          "base_uri": "https://localhost:8080/"
        },
        "id": "rKSrdQRUEzXp",
        "outputId": "9f312314-62e7-49b6-fbfe-240a1d9082a6"
      },
      "source": [
        "print('변환된 데이터 (밀집 배열):\\n', cv.transform(bards_words).toarray())"
      ],
      "execution_count": null,
      "outputs": [
        {
          "output_type": "stream",
          "name": "stdout",
          "text": [
            "변환된 데이터 (밀집 배열):\n",
            " [[0 0 1 1 1 0 1 0 0 1 0 1 0 0]\n",
            " [1 1 0 0 0 1 0 1 1 0 1 0 1 1]]\n"
          ]
        }
      ]
    },
    {
      "cell_type": "markdown",
      "metadata": {
        "id": "icvRx-FrFBbj"
      },
      "source": [
        "단어 하나가 큰 의미를 단어 하나가 큰 의미를 가진 경우가 많으므로 대부분의 애플리케이션에서 토큰의 최소 길이는 1입니다. 많은 경우에 바이그램을 추가하면 도움이 됩니다. 5-그램까지는 특성 개수가 매우 많아지게 되고, 구체적인 특성도 많아지므로 과대적합이 될 가능성을 배제할 수 없습니다. 이론상 바이그램의 수는 유니그램 수의 제곱입니다. 트라이그램의 수는 유니그램의 세제곱이 되므로 특성 수는 상당히 커집니다. 언어(영어)의 구조를 보면 실제로 데이터에 나타나는 높은 n-그램의 횟수가 많기는 하지만 이보다는 훨씬 적습니다.\n",
        "\n",
        "참고로 단어 d개로 구성된 문장에서 최대 n-그램의 수는 중복 순열의 수이므로 d^2이 됩니다. 두 개의 단어 @과 %로 구성된 문장을 가정한다면 '@%%%@@@%@%' 바이그램의 수는 4이고 트라이그램의 수는 8입니다."
      ]
    },
    {
      "cell_type": "markdown",
      "metadata": {
        "id": "g95NCrljG_DS"
      },
      "source": [
        "'bards_words'에 유니그램, 바이그램, 트라이그램을 적용한 예를 살핍니다."
      ]
    },
    {
      "cell_type": "code",
      "metadata": {
        "colab": {
          "base_uri": "https://localhost:8080/"
        },
        "id": "LDnDtVFWHGAt",
        "outputId": "090eb080-86a0-4a8c-8af0-81fb18281dad"
      },
      "source": [
        "cv = CountVectorizer(ngram_range=(1, 3)).fit(bards_words)\n",
        "print('어휘 사전 크기:', len(cv.vocabulary_))\n",
        "print('어휘 사전:\\n', cv.get_feature_names())"
      ],
      "execution_count": null,
      "outputs": [
        {
          "output_type": "stream",
          "name": "stdout",
          "text": [
            "어휘 사전 크기: 39\n",
            "어휘 사전:\n",
            " ['be', 'be fool', 'but', 'but the', 'but the wise', 'doth', 'doth think', 'doth think he', 'fool', 'fool doth', 'fool doth think', 'he', 'he is', 'he is wise', 'himself', 'himself to', 'himself to be', 'is', 'is wise', 'knows', 'knows himself', 'knows himself to', 'man', 'man knows', 'man knows himself', 'the', 'the fool', 'the fool doth', 'the wise', 'the wise man', 'think', 'think he', 'think he is', 'to', 'to be', 'to be fool', 'wise', 'wise man', 'wise man knows']\n"
          ]
        }
      ]
    },
    {
      "cell_type": "markdown",
      "metadata": {
        "id": "EApV7FM1Ho0_"
      },
      "source": [
        "IMDb 영화 리뷰 데이터에 `TfidfVectorizer` 클래스를 적용하고 그리드 서치로 최적의 n-그램 범위를 찾습니다."
      ]
    },
    {
      "cell_type": "code",
      "metadata": {
        "colab": {
          "base_uri": "https://localhost:8080/"
        },
        "id": "TOnVX7QDHxwD",
        "outputId": "1d5a612a-6031-4c88-f6fe-762f6fc21962"
      },
      "source": [
        "# 다수의 매개변수 조합과 트라이그램 때문에 실행 시간이 오래 걸립니다.\n",
        "pipe = make_pipeline(TfidfVectorizer(min_df=5), LogisticRegression(max_iter=5000))\n",
        "param_grid = {'logisticregression__C': [0.001, 0.01, 0.1, 1, 10, 100],\n",
        "              'tfidfvectorizer__ngram_range':[(1, 1), (1, 2), (1, 3)]}\n",
        "grid =GridSearchCV(pipe, param_grid, cv=5)\n",
        "grid.fit(text_train, y_train)\n",
        "print ('최상의 교차 검증 점수: {:.2f}'.format(grid.best_score_))\n",
        "print('최적 매개변수:\\n', grid.best_params_)"
      ],
      "execution_count": null,
      "outputs": [
        {
          "output_type": "stream",
          "name": "stdout",
          "text": [
            "최상의 교차 검증 점수: 0.91\n",
            "최적 매개변수:\n",
            " {'logisticregression__C': 100, 'tfidfvectorizer__ngram_range': (1, 3)}\n"
          ]
        }
      ]
    },
    {
      "cell_type": "markdown",
      "metadata": {
        "id": "RfEHJKMzJxAS"
      },
      "source": [
        "바이그램과 트라이그램을 추가해서 1% 이상 성능을 제고했습니다."
      ]
    },
    {
      "cell_type": "markdown",
      "metadata": {
        "id": "5C7zzfKwJ8yi"
      },
      "source": [
        "매개변수에 대한 교차 검증 정확도를 히트맵으로 나타냅니다."
      ]
    },
    {
      "cell_type": "code",
      "metadata": {
        "colab": {
          "base_uri": "https://localhost:8080/",
          "height": 252
        },
        "id": "MqaVZnQbJ91s",
        "outputId": "9f2474b6-ceeb-4b35-d6aa-1e46b1fd4c4d"
      },
      "source": [
        "# 그리드 서치에서 테스트 점수를 추출합니다.\n",
        "scores = grid.cv_results_['mean_test_score'].reshape(-1, 3).T\n",
        "# 히트맵을 그립니다.\n",
        "import matplotlib.pyplot as plt\n",
        "\n",
        "heatmap = mglearn.tools.heatmap(\n",
        "    scores, xlabel='C', ylabel='ngram_range', cmap='viridis', fmt='%.3f',\n",
        "    xticklabels=param_grid['logisticregression__C'],\n",
        "    yticklabels=param_grid['tfidfvectorizer__ngram_range'])\n",
        "plt.colorbar(heatmap)\n",
        "plt.show()"
      ],
      "execution_count": null,
      "outputs": [
        {
          "output_type": "display_data",
          "data": {
            "image/png": "[encoded data removed]",
            "text/plain": [
              "<Figure size 432x288 with 2 Axes>"
            ]
          },
          "metadata": {
            "needs_background": "light"
          }
        }
      ]
    },
    {
      "cell_type": "markdown",
      "metadata": {
        "id": "8GRRhdFXKmpP"
      },
      "source": [
        "히트맵을 보면 바이그램이 성능을 크게 높여주고, 트라이그램은 정확도 측면에서 성능이 약간 향상된 정도입니다."
      ]
    },
    {
      "cell_type": "markdown",
      "metadata": {
        "id": "3kcpUEe5K4u_"
      },
      "source": [
        "모델이 어떻게 향상됐는지 더 잘 이해할 수 있도록 유니그램, 바이그램, 트라이그램을 포함해 최적 모델의 중요 계수를 그래프로 나타냅니다."
      ]
    },
    {
      "cell_type": "code",
      "metadata": {
        "colab": {
          "base_uri": "https://localhost:8080/",
          "height": 334
        },
        "id": "zamDGlD7K5hJ",
        "outputId": "b4c575c5-10dc-4a2a-ac23-1757f180cf07"
      },
      "source": [
        "vect = grid.best_estimator_.named_steps['tfidfvectorizer']\n",
        "feature_names = np.array(vect.get_feature_names())\n",
        "coef = grid.best_estimator_.named_steps['logisticregression'].coef_\n",
        "mglearn.tools.visualize_coefficients(coef[0], feature_names, n_top_features=40)"
      ],
      "execution_count": null,
      "outputs": [
        {
          "output_type": "display_data",
          "data": {
            "image/png": "[encoded data removed]",
            "text/plain": [
              "<Figure size 1080x360 with 1 Axes>"
            ]
          },
          "metadata": {
            "needs_background": "light"
          }
        }
      ]
    },
    {
      "cell_type": "markdown",
      "metadata": {
        "id": "UXHMp8FYLaW6"
      },
      "source": [
        "tf-idf와 유니그램, 바이그램, 트라이그램을 사용한 모델에서 가장 중요한 특성을 나타냈습니다. 유니그램 모델에서는 없던 단어인 'worth'가 들어간 특성이 있습니다. 'not worth'는 부정적인 리뷰를 의미하지만 'definately worth'와 'well worth'는 긍정적인 리뷰를 의미합니다. 문맥이 'worth' 단어의 의미에 영향을 주는 예입니다."
      ]
    },
    {
      "cell_type": "markdown",
      "metadata": {
        "id": "D8qkEKolL6wV"
      },
      "source": [
        "특성들이 도움이 된 이유를 알아보고자 트라이그램만 그래프로 나타냅니다. 영향력이 큰 바이그램과 트라이그램 대부분은 독립적일 때는 큰 의미가 없는 단어로 구성됩니다. 예컨대 'none of the', 'the only good', 'on and on', 'this is one', 'of the most' 등입니다. 그러나 아래 그래프에서 확인할 수 있듯이 이런 특성으로 인한 영향은 유니그램의 중요도와 비교하면 상당히 제한적입니다."
      ]
    },
    {
      "cell_type": "code",
      "metadata": {
        "colab": {
          "base_uri": "https://localhost:8080/",
          "height": 365
        },
        "id": "mNQ4521jMXNe",
        "outputId": "dd0a5670-2afa-4dad-bfb4-b92dcc8ca91c"
      },
      "source": [
        "# 트라이그램의 특성을 찾습니다.\n",
        "mask = np.array([len(feature.split(' ')) for feature in feature_names]) == 3\n",
        "# 트라이그램의 특성만 그래프로 나타냅니다.\n",
        "mglearn.tools.visualize_coefficients(coef.ravel()[mask],\n",
        "                                     feature_names[mask], n_top_features=40)"
      ],
      "execution_count": null,
      "outputs": [
        {
          "output_type": "display_data",
          "data": {
            "image/png": "[encoded data removed]",
            "text/plain": [
              "<Figure size 1080x360 with 1 Axes>"
            ]
          },
          "metadata": {
            "needs_background": "light"
          }
        }
      ]
    },
    {
      "cell_type": "markdown",
      "metadata": {
        "id": "YqpW38u6VA8b"
      },
      "source": [
        "# **7.8 고급 토큰화, 어간 추출, 표제어 추출**\n",
        "\n",
        "`CountVectorizer` 클래스와 `TfidfVectorizer` 클래스의 특성 추출은 비교적 단순합니다. 이보다 훨씬 더 정교한 방법을 소개합니다. 전문적인 텍스트 처리 애플리케이션의 뛰어난 점은 BOW 모델의 첫 번째 단계인 토큰화입니다. 이 단계는 특성 추출을 위해 단어가 무엇으로 구성되었는지 정의합니다.\n",
        "\n",
        "위에서 어휘 사전에 단수 단어와 복수 단어가 함께 포함되었던 예시가 있었습니다. 예컨대 'drawback'과 'drawbacks', 'drawer'과 'drawers' 등입니다. BOW 모델에서 이 단어들은 의미가 매우 가까우므로, 이를 구분하면 과대적합 될 수 있고, 모델이 훈련 데이터를 제대로 활용하지 못합니다.\n",
        "\n",
        "유사하게 'replace', 'replaced', 'replacement', 'replaces', 'replacing' 같은 단어는 다른 동사 형태이거나 'to replace' 동사와 관련된 명사입니다. 명사에 단수, 복수가 있는 것처럼 여러 동사형과 관련 단어들을 다른 토큰으로 다루면 모델을 일반화하는 데 도움이 되지 않습니다.\n",
        "\n",
        "이 문제를 해결하려면 각 단어를 그 단어의 어간으로 표현해서 같은 어간을 가진 모든 단어를 구분하거나 합쳐야 합니다. 일일이 어미를 찾아 제외하는 규칙 기반 방식을 **어간 추출(stemming)**이라고 합니다. 대신 알려진 단어의 형태 사전(명시적이고 사람이 구축한 시스템)을 사용하고 문장에서 단어 역할을 고려하는 처리 방식을 **표제어 추출(lemmatization)(=형태소 분석)**이라고 하며 단어의 표준 형태는 표제어라고 합니다. 두 처리 방식은 단어의 일반 형태를 추출하는 **정규화(normalization, 단어 정규화(word normalization)**의 일종입니다. 정규화의 또 다른 사례는 맞춤법 교정이지만 본서에서는 다루지 않습니다.\n",
        "\n",
        "참고로 어간은 활용엉가 활용할 때 변하지 않는 부분을 의미합니다. '보다', '보니', '보고'에서 '보-'에 해당합니다."
      ]
    },
    {
      "cell_type": "markdown",
      "metadata": {
        "id": "z0OmnRWzQ6Xm"
      },
      "source": [
        "정규화를 더 잘 이해하기 위해 널리 사용하는 포터(Porter) 어간 추출기를 `nltk` 패키지에서 임포트 하여 `spacy` 패키지에 구현된 표제어 추출 방식을 비교합니다. [nltk](http:www.nltk.org)와 [spacy](https://spacy.io/docs/)에 대한 자세한 사용법은 링크를 참고하시기 바랍니다."
      ]
    },
    {
      "cell_type": "code",
      "metadata": {
        "colab": {
          "base_uri": "https://localhost:8080/"
        },
        "id": "p9Yk5TyCVz1S",
        "outputId": "29da30e0-677a-4709-a96c-752f87aa58be"
      },
      "source": [
        "import spacy\n",
        "print('spacy 버전', spacy.__version__)\n",
        "import nltk\n",
        "print('nltk 버전', nltk.__version__)"
      ],
      "execution_count": null,
      "outputs": [
        {
          "output_type": "stream",
          "name": "stdout",
          "text": [
            "spacy 버전 2.2.4\n",
            "nltk 버전 3.2.5\n"
          ]
        }
      ]
    },
    {
      "cell_type": "code",
      "metadata": {
        "id": "Rx94EAWibAOo"
      },
      "source": [
        "# `spacy`의 영어 모델을 로드합니다.\n",
        "en_nlp = spacy.load('en_core_web_sm')\n",
        "# `nltk`의 `PorterStemmer`를 사용하여 객체를 만듭니다.\n",
        "stemmer = nltk.stem.PorterStemmer()\n",
        "\n",
        "# `spacy`의 표제어 추출과 `nltk`의 어간 추출을 비교하는 함수를 생성합니다.\n",
        "def compare_normalization(doc):\n",
        "    # `spacy`로 문서를 토큰화합니다.\n",
        "    doc_spacy = en_nlp(doc)\n",
        "    # `spacy`로 찾은 표제어를 출력합니다.\n",
        "    print('표제어:\\n', [token.lemma_ for token in doc_spacy])\n",
        "    # `Porterstemmer`로 찾은 토큰을 출력합니다.\n",
        "    print('어간:\\n', [stemmer.stem(token.norm_.lower()) for token in doc_spacy])"
      ],
      "execution_count": null,
      "outputs": []
    },
    {
      "cell_type": "markdown",
      "metadata": {
        "id": "klC6xi9eUEOX"
      },
      "source": [
        "참고로 `PoterStemmer` 외에 널리 사용되는 `nltk`의 어간 추출기는 `SnowballStemmer`입니다. 영어 외에 독일어, 프랑스어, 이탈리아어 등 14가지 언어를 지원합니다. `spacy`는 영어와 독일어 모델을 지원하는 NLP 파이썬 패키지로 최근에 인기가 많습니다. `spacy`를 사용하려면 패키지를 설치하고 나서 `python -m spacy download en` 명령으로 영어 모델을 다운 받아야 합니다. 윈도우 환경이면 관리자 권한으로 콘다(conda) 프롬프트를 실행해야 합니다. 한글의 어간과 표제어 추출을 할 수 있는 오픈 소스는 다음 파트에서 다룰 내용인 [KoNLPy](http://konlpy.org/ko/)입니다."
      ]
    },
    {
      "cell_type": "markdown",
      "metadata": {
        "id": "JSQl1I78XcxL"
      },
      "source": [
        "한 문장에 대해 표제어 추출과 Porter 어간 추출기의 차이를 비교합니다."
      ]
    },
    {
      "cell_type": "code",
      "metadata": {
        "colab": {
          "base_uri": "https://localhost:8080/"
        },
        "id": "DoclIyEMXhF2",
        "outputId": "66ad8bf4-69d4-419f-c397-2bc2130d4f43"
      },
      "source": [
        "compare_normalization(u\"Our meeting today was worse than yesterday, \"\n",
        "\"I'm scared of meeting the clients tomorrow.\")"
      ],
      "execution_count": null,
      "outputs": [
        {
          "output_type": "stream",
          "name": "stdout",
          "text": [
            "표제어:\n",
            " ['-PRON-', 'meeting', 'today', 'be', 'bad', 'than', 'yesterday', ',', '-PRON-', 'be', 'scared', 'of', 'meet', 'the', 'client', 'tomorrow', '.']\n",
            "어간:\n",
            " ['our', 'meet', 'today', 'wa', 'wors', 'than', 'yesterday', ',', 'i', 'am', 'scare', 'of', 'meet', 'the', 'client', 'tomorrow', '.']\n"
          ]
        }
      ]
    },
    {
      "cell_type": "markdown",
      "metadata": {
        "id": "GQCtPJWXdpqx"
      },
      "source": [
        "어간 추출이 항상 단어에서 어간만 남겨놓고 제거하므로 'was'는 'wa'가 되지만, 표제어 추출은 올바른 동사형인 'be'를 추출했습니다. 비슷하게 표제어 추출은 'worse'를 'bad'로 정규화하는 반면에, 어간 추출은 'wors'로 바꿨습니다. 어간 추출이 모든 'meeting'을 'meet'으로 바꾼 것 또한 차이점입니다. 표제어 추출은 처음 'meeting'은 명사로 인식해서 그대로 두고 두 번째 나타났을 땐 동사로 인식해서 'meet'으로 바꿨습니다. 이를 비추어 볼 때 표제어 추출은 토근 정규화를 할 때 어간 추출보다 훨씬 복잡하게 처리하고, 어간 추출보다 좋은 결과를 냅니다."
      ]
    },
    {
      "cell_type": "markdown",
      "metadata": {
        "id": "MCnp2bOFezYm"
      },
      "source": [
        "`CountVectorizer` 클래스에서 `tokenizer` 매개변수를 사용해서 문서를 토큰화할 수 있습니다. 아래 코드로 `spacy` 표제어 추출을 사용해서 문자열을 표제어 리스트로 변환하는 익명함수를 생성합니다."
      ]
    },
    {
      "cell_type": "code",
      "metadata": {
        "id": "aiHyaZo3fBT2"
      },
      "source": [
        "# `spacy`에서 표제어 추출 기능과 `CountVectorizer`의 토큰 분할기를 사용합니다.\n",
        "#`spacy`의 언어 모델을 로드합니다.\n",
        "en_nlp = spacy.load('en_core_web_sm', disable=['parser', 'ner'])\n",
        "\n",
        "# `spacy` 문서 처리 파이프라인을 사용해서 자작 토큰 분할기를 만듭니다.\n",
        "def custom_tokenizer(document):\n",
        "    doc_spacy = en_nlp(document)\n",
        "    return [token.lemma_ for token in doc_spacy]\n",
        "\n",
        "# 자작 토큰 분할기를 사용해서 `CountVectorizer` 클래스의 객체를 만듭니다.\n",
        "lemma_vect = CountVectorizer(tokenizer=custom_tokenizer, min_df=5)"
      ],
      "execution_count": null,
      "outputs": []
    },
    {
      "cell_type": "markdown",
      "metadata": {
        "id": "sB_bKIj6f7kT"
      },
      "source": [
        "데이터를 변환하고 어휘 사전 크기를 확인합니다."
      ]
    },
    {
      "cell_type": "code",
      "metadata": {
        "colab": {
          "base_uri": "https://localhost:8080/"
        },
        "id": "1LTPCLkuf-5i",
        "outputId": "7a8ae01e-d4db-45a2-de3b-39c07686e0f8"
      },
      "source": [
        "# 표제어 추출이 가능한 `CountVectorizer` 클래스의 객체로 'text_train'을 변환합니다.\n",
        "X_train_lemma = lemma_vect.fit_transform(text_train)\n",
        "print('X_train_lemma.shape:', X_train_lemma.shape)\n",
        "\n",
        "# 비교를 위해 표준 `CountVectorizer` 클래스를 사용합니다.\n",
        "vect = CountVectorizer(min_df=5).fit(text_train)\n",
        "X_train = vect.transform(text_train)\n",
        "print('X_train.shape', X_train.shape)"
      ],
      "execution_count": null,
      "outputs": [
        {
          "output_type": "stream",
          "name": "stdout",
          "text": [
            "X_train_lemma.shape: (25000, 22040)\n",
            "X_train.shape (25000, 27271)\n"
          ]
        }
      ]
    },
    {
      "cell_type": "markdown",
      "metadata": {
        "id": "kL-EOritgqui"
      },
      "source": [
        "표제어 추출은 특성 개수를 표준 `CountVectorizer` 클래스에서 얻은 27,271개에서 20,660개로 줄입니다. 표제어 추출은 일부 특성들을 합치므로 일종의 규제와 같습니다. 따라서 데이터셋이 작은 경우에도 표제어 추출은 성능을 제고할 수 있습니다."
      ]
    },
    {
      "cell_type": "markdown",
      "metadata": {
        "id": "Ha1VEH2thVKs"
      },
      "source": [
        "표제어가 어떤 효과를 갖는지 알기 위해 `StratifiedShuffleSplit` 클래스를 사용하여 훈련 세트의 1%만 훈련 폴드로, 나머지는 테스트 폴드로 지정하여 교차 검증을 수행합니다."
      ]
    },
    {
      "cell_type": "code",
      "metadata": {
        "colab": {
          "base_uri": "https://localhost:8080/"
        },
        "id": "0XZmrHh-hV35",
        "outputId": "0011377a-c1a4-4ff9-c746-861afb65d8b4"
      },
      "source": [
        "from sklearn.model_selection import StratifiedShuffleSplit\n",
        "\n",
        "param_grid = {'C': [0.001, 0.01, 0.1, 1, 10]}\n",
        "cv = StratifiedShuffleSplit(n_splits=5, test_size=0.99,\n",
        "                            train_size=0.01, random_state=0)\n",
        "grid = GridSearchCV(LogisticRegression(max_iter=5000), param_grid, cv=cv)\n",
        "\n",
        "# 기본 `CountVectorizer`를 사용하여 그리드 서치를 수행합니다.\n",
        "grid.fit(X_train, y_train)\n",
        "print('최상의 교차 검증 점수 (기본 CountVectorizer): {:.3f}'.format(grid.best_score_))\n",
        "\n",
        "# 표제어를 사용하여 그리드 서치를 수행합니다.\n",
        "grid.fit(X_train_lemma, y_train)\n",
        "print('최상의 교차 검증 점수 (표제어): {:.3f}'.format(grid.best_score_))"
      ],
      "execution_count": null,
      "outputs": [
        {
          "output_type": "stream",
          "name": "stdout",
          "text": [
            "최상의 교차 검증 점수 (기본 CountVectorizer): 0.719\n",
            "최상의 교차 검증 점수 (표제어): 0.720\n"
          ]
        }
      ]
    },
    {
      "cell_type": "markdown",
      "metadata": {
        "id": "RbtpZM0Qib4P"
      },
      "source": [
        "표제어 추출의 성능이 약간 높습니다. 다른 특성 추출 기법들과 마찬가지로 데이터셋에 따라서 결과에 차이가 있습니다. 표제어 추출과 어간 추출은 모델을 더 낫거나 간단하게 하므로 어떤 작업에서 마지막 성능까지 출력해야 하는 경우에 시도할 만합니다."
      ]
    },
    {
      "cell_type": "markdown",
      "metadata": {
        "id": "qTJCN-oyVA6I"
      },
      "source": [
        "## **7.8.1 KoNLPy를 사용한 영화 리뷰 분석**\n",
        "\n",
        "한글의 경우 `KoNLPy`와 `CountVectorizer`를 함께 사용하여 감성 분석을 할 수 있습니다. `KoNLPy`는 'Korean NLP in Python'의 약자입니다.\n",
        "\n",
        "사용할 데이터셋은 한글로 된 영화 리뷰를 모은 [Naver sentiment movie corpous v1.0](https://github.com/e9t/nsmc/)입니다. 네이버 영화 사이트 리뷰 20만 개를 묶은 데이터입니다.\n",
        "\n",
        "`KoNLPy`는 여러 언어로 만들어진 형태소 분석기를 파이썬에서 손쉽게 사용할 수 있게 합니다. 이 도구를 사용하려면 `JPype1-py3`를 설치해야 합니다. [자세한 설치 방법](https://konply.org/ko/latest/install)을 참고하시기 바랍니다.\n",
        "\n",
        "`KoNLPy`는 형태소 분석기 5개를 각각 하나의 태그 클래스로 지원합니다. 0.4.5 이상 버전을 기준으로 트위터에서 만든 한국어 처리기인 [`open-korean-text`](https://github.com/open-korean-text/open-korean-text)을 사용하겠습니다."
      ]
    },
    {
      "cell_type": "markdown",
      "metadata": {
        "id": "i0MReNkW8-nj"
      },
      "source": [
        "먼저 네이버 영화 리뷰 데이터셋 깃허브에서 'ratings_train.txt'와 'ratings_text.txt'를 내려받습니다. 역자 깃허브의 data 폴더에도 두 파일이 있습니다. 이 데이터의 첫 줄은 제목이고, 다음 줄부터는 한 줄에 리뷰 데이터가 하나씩 있습니다. 데이터를 읽기 위해 판다스를 사용하겠습니다. 데이터 항목은 세 개이며 탭으로 구분되어 있으므로 `read_csv` 메서드를 사용할 때 **구분자**를 탭으로 지정합니다. 데이터에 빈 문자열이 있어도 'nan'으로 지정되지 않도록 하기 위해 `keep_default_na=False`로 지정해서 빈 문자열이 그대로 저장될 수 있도록 합니다."
      ]
    },
    {
      "cell_type": "code",
      "metadata": {
        "colab": {
          "base_uri": "https://localhost:8080/"
        },
        "id": "psdzVZkFKaXY",
        "outputId": "ca6b1b23-ee94-4840-e31c-5fe692edab43"
      },
      "source": [
        "from google.colab import drive\n",
        "drive.mount('/content/gdrive/')"
      ],
      "execution_count": null,
      "outputs": [
        {
          "output_type": "stream",
          "name": "stdout",
          "text": [
            "Drive already mounted at /content/gdrive/; to attempt to forcibly remount, call drive.mount(\"/content/gdrive/\", force_remount=True).\n"
          ]
        }
      ]
    },
    {
      "cell_type": "code",
      "metadata": {
        "colab": {
          "base_uri": "https://localhost:8080/",
          "height": 205
        },
        "id": "oND6ZPObAOng",
        "outputId": "62939970-7f3c-4cd8-8cf3-53677972e77b"
      },
      "source": [
        "import pandas as pd\n",
        "\n",
        "df_train = pd.read_csv('/content/gdrive/MyDrive/nsmc-master/ratings_train.txt', delimiter='\\t',\n",
        "                       keep_default_na=False)\n",
        "df_train.head(n=5)"
      ],
      "execution_count": null,
      "outputs": [
        {
          "output_type": "execute_result",
          "data": {
            "text/html": [
              "<div>\n",
              "<style scoped>\n",
              "    .dataframe tbody tr th:only-of-type {\n",
              "        vertical-align: middle;\n",
              "    }\n",
              "\n",
              "    .dataframe tbody tr th {\n",
              "        vertical-align: top;\n",
              "    }\n",
              "\n",
              "    .dataframe thead th {\n",
              "        text-align: right;\n",
              "    }\n",
              "</style>\n",
              "<table border=\"1\" class=\"dataframe\">\n",
              "  <thead>\n",
              "    <tr style=\"text-align: right;\">\n",
              "      <th></th>\n",
              "      <th>id</th>\n",
              "      <th>document</th>\n",
              "      <th>label</th>\n",
              "    </tr>\n",
              "  </thead>\n",
              "  <tbody>\n",
              "    <tr>\n",
              "      <th>0</th>\n",
              "      <td>9976970</td>\n",
              "      <td>아 더빙.. 진짜 짜증나네요 목소리</td>\n",
              "      <td>0</td>\n",
              "    </tr>\n",
              "    <tr>\n",
              "      <th>1</th>\n",
              "      <td>3819312</td>\n",
              "      <td>흠...포스터보고 초딩영화줄....오버연기조차 가볍지 않구나</td>\n",
              "      <td>1</td>\n",
              "    </tr>\n",
              "    <tr>\n",
              "      <th>2</th>\n",
              "      <td>10265843</td>\n",
              "      <td>너무재밓었다그래서보는것을추천한다</td>\n",
              "      <td>0</td>\n",
              "    </tr>\n",
              "    <tr>\n",
              "      <th>3</th>\n",
              "      <td>9045019</td>\n",
              "      <td>교도소 이야기구먼 ..솔직히 재미는 없다..평점 조정</td>\n",
              "      <td>0</td>\n",
              "    </tr>\n",
              "    <tr>\n",
              "      <th>4</th>\n",
              "      <td>6483659</td>\n",
              "      <td>사이몬페그의 익살스런 연기가 돋보였던 영화!스파이더맨에서 늙어보이기만 했던 커스틴 ...</td>\n",
              "      <td>1</td>\n",
              "    </tr>\n",
              "  </tbody>\n",
              "</table>\n",
              "</div>"
            ],
            "text/plain": [
              "         id                                           document  label\n",
              "0   9976970                                아 더빙.. 진짜 짜증나네요 목소리      0\n",
              "1   3819312                  흠...포스터보고 초딩영화줄....오버연기조차 가볍지 않구나      1\n",
              "2  10265843                                  너무재밓었다그래서보는것을추천한다      0\n",
              "3   9045019                      교도소 이야기구먼 ..솔직히 재미는 없다..평점 조정      0\n",
              "4   6483659  사이몬페그의 익살스런 연기가 돋보였던 영화!스파이더맨에서 늙어보이기만 했던 커스틴 ...      1"
            ]
          },
          "metadata": {},
          "execution_count": 146
        }
      ]
    },
    {
      "cell_type": "markdown",
      "metadata": {
        "id": "N0_RQSYun3GK"
      },
      "source": [
        "사용할 데이터는 'document' 열과 'label' 열입니다. 레이블이 0이면 부정적인 리뷰, 1이면 긍정적인 리뷰입니다. "
      ]
    },
    {
      "cell_type": "markdown",
      "metadata": {
        "id": "FedzguCNoB1e"
      },
      "source": [
        "데이터프레임을 넘파이 배열로 바꿉니다. "
      ]
    },
    {
      "cell_type": "code",
      "metadata": {
        "id": "9XRUzy0gTWKv"
      },
      "source": [
        "text_train, y_train = df_train['document'].values, df_train['label'].values"
      ],
      "execution_count": null,
      "outputs": []
    },
    {
      "cell_type": "markdown",
      "metadata": {
        "id": "q70sWtAlpjA0"
      },
      "source": [
        "테스트 데이터도 데이터프레임으로 읽은 후에 넘파이 배열로 변환합니다."
      ]
    },
    {
      "cell_type": "code",
      "metadata": {
        "id": "00B_KTGFp9TA"
      },
      "source": [
        "df_test = pd.read_csv('/content/gdrive/MyDrive/nsmc-master/ratings_test.txt', delimiter='\\t',\n",
        "                      keep_default_na=False)\n",
        "text_test = df_test['document'].values\n",
        "y_test = df_test['label'].values"
      ],
      "execution_count": null,
      "outputs": []
    },
    {
      "cell_type": "markdown",
      "metadata": {
        "id": "WRQu7ZL_qek8"
      },
      "source": [
        "훈련 데이터와 테스트 데이터의 크기와 클래스 비율을 확인합니다."
      ]
    },
    {
      "cell_type": "code",
      "metadata": {
        "colab": {
          "base_uri": "https://localhost:8080/"
        },
        "id": "J7E_4CBCqpZw",
        "outputId": "39846cad-790c-4d21-c903-f74e76f11bc3"
      },
      "source": [
        "import numpy as np\n",
        "\n",
        "print(len(text_train))\n",
        "print(np.bincount(y_train))\n",
        "print()\n",
        "print(len(text_test))\n",
        "print(np.bincount(y_test))"
      ],
      "execution_count": null,
      "outputs": [
        {
          "output_type": "stream",
          "name": "stdout",
          "text": [
            "150000\n",
            "[75173 74827]\n",
            "\n",
            "50000\n",
            "[24827 25173]\n"
          ]
        }
      ]
    },
    {
      "cell_type": "markdown",
      "metadata": {
        "id": "ovQpa428rDGO"
      },
      "source": [
        "위에서 사용한 IMDb 데이터셋과 비슷하게 양성과 음성 데이터의 수가 비슷합니다."
      ]
    },
    {
      "cell_type": "markdown",
      "metadata": {
        "id": "CRLN4nu9tend"
      },
      "source": [
        "분류하기 전에 `KoNLPy` 클래스의 `Okt` 클래스의 객체를 만듭니다. `Okt`는 Open Korean text'의 약자입니다."
      ]
    },
    {
      "cell_type": "code",
      "metadata": {
        "colab": {
          "base_uri": "https://localhost:8080/"
        },
        "id": "p1EmIuqrt7oY",
        "outputId": "124f2b14-2c2e-4985-f4ff-1a89f0960e48"
      },
      "source": [
        "!pip install KoNLPy"
      ],
      "execution_count": null,
      "outputs": [
        {
          "output_type": "stream",
          "name": "stdout",
          "text": [
            "Requirement already satisfied: KoNLPy in /usr/local/lib/python3.7/dist-packages (0.5.2)\n",
            "Requirement already satisfied: beautifulsoup4==4.6.0 in /usr/local/lib/python3.7/dist-packages (from KoNLPy) (4.6.0)\n",
            "Requirement already satisfied: numpy>=1.6 in /usr/local/lib/python3.7/dist-packages (from KoNLPy) (1.19.5)\n",
            "Requirement already satisfied: tweepy>=3.7.0 in /usr/local/lib/python3.7/dist-packages (from KoNLPy) (3.10.0)\n",
            "Requirement already satisfied: lxml>=4.1.0 in /usr/local/lib/python3.7/dist-packages (from KoNLPy) (4.2.6)\n",
            "Requirement already satisfied: JPype1>=0.7.0 in /usr/local/lib/python3.7/dist-packages (from KoNLPy) (1.3.0)\n",
            "Requirement already satisfied: colorama in /usr/local/lib/python3.7/dist-packages (from KoNLPy) (0.4.4)\n",
            "Requirement already satisfied: typing-extensions in /usr/local/lib/python3.7/dist-packages (from JPype1>=0.7.0->KoNLPy) (3.7.4.3)\n",
            "Requirement already satisfied: requests-oauthlib>=0.7.0 in /usr/local/lib/python3.7/dist-packages (from tweepy>=3.7.0->KoNLPy) (1.3.0)\n",
            "Requirement already satisfied: requests[socks]>=2.11.1 in /usr/local/lib/python3.7/dist-packages (from tweepy>=3.7.0->KoNLPy) (2.23.0)\n",
            "Requirement already satisfied: six>=1.10.0 in /usr/local/lib/python3.7/dist-packages (from tweepy>=3.7.0->KoNLPy) (1.15.0)\n",
            "Requirement already satisfied: oauthlib>=3.0.0 in /usr/local/lib/python3.7/dist-packages (from requests-oauthlib>=0.7.0->tweepy>=3.7.0->KoNLPy) (3.1.1)\n",
            "Requirement already satisfied: certifi>=2017.4.17 in /usr/local/lib/python3.7/dist-packages (from requests[socks]>=2.11.1->tweepy>=3.7.0->KoNLPy) (2021.5.30)\n",
            "Requirement already satisfied: chardet<4,>=3.0.2 in /usr/local/lib/python3.7/dist-packages (from requests[socks]>=2.11.1->tweepy>=3.7.0->KoNLPy) (3.0.4)\n",
            "Requirement already satisfied: idna<3,>=2.5 in /usr/local/lib/python3.7/dist-packages (from requests[socks]>=2.11.1->tweepy>=3.7.0->KoNLPy) (2.10)\n",
            "Requirement already satisfied: urllib3!=1.25.0,!=1.25.1,<1.26,>=1.21.1 in /usr/local/lib/python3.7/dist-packages (from requests[socks]>=2.11.1->tweepy>=3.7.0->KoNLPy) (1.24.3)\n",
            "Requirement already satisfied: PySocks!=1.5.7,>=1.5.6 in /usr/local/lib/python3.7/dist-packages (from requests[socks]>=2.11.1->tweepy>=3.7.0->KoNLPy) (1.7.1)\n"
          ]
        }
      ]
    },
    {
      "cell_type": "code",
      "metadata": {
        "id": "T80ChOHptc-V"
      },
      "source": [
        "from konlpy.tag import Okt\n",
        "\n",
        "okt_tag = Okt()"
      ],
      "execution_count": null,
      "outputs": []
    },
    {
      "cell_type": "markdown",
      "metadata": {
        "id": "iwUii25JuaGm"
      },
      "source": [
        "`TfidfVectorizer` 클래스의 `tokenizer` 매개변수에 주입할 함수를 생성합니다. 이 함수는 텍스트 하나를 입력받으면 `Okt`의 형태소 분석 메서드인 `morphs`에서 받은 문자열의 리스트를 그대로 반환합니다."
      ]
    },
    {
      "cell_type": "code",
      "metadata": {
        "id": "abPwoRZTuvCU"
      },
      "source": [
        "def okt_tokenizer(text):\n",
        "    return okt_tag.morphs(text)"
      ],
      "execution_count": null,
      "outputs": []
    },
    {
      "cell_type": "markdown",
      "metadata": {
        "id": "8cZ9ir1CzZj2"
      },
      "source": [
        "`TfidfVectorizer` 클래스의 매개변수인 `min_df`와 `ngram_range`, 그리고 `LogisticRegression` 클래스의 규제 매개변수인 `C`에 대해 그리드 서치를 적용합니다. `make_pipeline` 함수를 사용해서 파이프라인 객체를 생성할 때 `TfidfVectorizer` 클래스의 `tokenizer` 매개변수에 위에서 생성한 함수인 `okt_tokenizer`를 지정하고, 훈련 데이터는 작동 여부를 확인할 목적으로 1,000개만 지정합니다."
      ]
    },
    {
      "cell_type": "code",
      "metadata": {
        "colab": {
          "base_uri": "https://localhost:8080/"
        },
        "id": "RrdWua3PvDZL",
        "outputId": "563f2d32-1782-466d-9d78-9ca7cf5e9873"
      },
      "source": [
        "from sklearn.feature_extraction.text import TfidfVectorizer\n",
        "from sklearn.linear_model import LogisticRegression\n",
        "from sklearn.pipeline import make_pipeline\n",
        "from sklearn.model_selection import GridSearchCV\n",
        "\n",
        "okt_param_grid = {'tfidfvectorizer__min_df': [3, 5, 7],\n",
        "                  'tfidfvectorizer__ngram_range': [(1, 1), (1, 2), (1, 3)],\n",
        "                  'logisticregression__C': [0.1, 1, 10]}\n",
        "okt_pipe = make_pipeline(TfidfVectorizer(tokenizer=okt_tokenizer),\n",
        "                         LogisticRegression(solver='liblinear'))\n",
        "okt_grid = GridSearchCV(okt_pipe, okt_param_grid, cv=3)\n",
        "\n",
        "# 그리드 서치를 수행합니다.\n",
        "okt_grid.fit(text_train[0:1000], y_train[0:1000])\n",
        "print('최상의 교차 검증 점수: {:.3f}'.format(okt_grid.best_score_))\n",
        "print('최적의 교차 검증 매개변수:', okt_grid.best_params_)"
      ],
      "execution_count": null,
      "outputs": [
        {
          "output_type": "stream",
          "name": "stdout",
          "text": [
            "최상의 교차 검증 점수: 0.704\n",
            "최적의 교차 검증 매개변수: {'logisticregression__C': 1, 'tfidfvectorizer__min_df': 3, 'tfidfvectorizer__ngram_range': (1, 1)}\n"
          ]
        }
      ]
    },
    {
      "cell_type": "markdown",
      "metadata": {
        "id": "ANsn79_m0KLK"
      },
      "source": [
        "데이터를 1,000개만 사용했지만 교차 검증 점수가 70%입니다."
      ]
    },
    {
      "cell_type": "markdown",
      "metadata": {
        "id": "oKKk6F5c0UN7"
      },
      "source": [
        "테스트 세트에 대한 점수를 확인합니다. 테스트 세트를 적용할 때는 파이프라인의 'tfidfvectorizer' 단계에서 `trainsform` 메서드를 호출한 후에 변환된 데이터를 이용해서 'logisticregression' 단계의 `score` 함수를 호출합니다."
      ]
    },
    {
      "cell_type": "code",
      "metadata": {
        "colab": {
          "base_uri": "https://localhost:8080/"
        },
        "id": "h5C-AIVc0nLq",
        "outputId": "00e4a605-2acf-4d25-b7f3-4e731d28bbe6"
      },
      "source": [
        "X_test_okt = okt_grid.best_estimator_.named_steps['tfidfvectorizer'].transform(text_test)\n",
        "score = okt_grid.best_estimator_.named_steps['logisticregression'].score(X_test_okt, y_test)\n",
        "print('테스트 세트 점수: {:.3f}'.format(score))"
      ],
      "execution_count": null,
      "outputs": [
        {
          "output_type": "stream",
          "name": "stdout",
          "text": [
            "테스트 세트 점수: 0.705\n"
          ]
        }
      ]
    },
    {
      "cell_type": "markdown",
      "metadata": {
        "id": "ojfFM0PHe7nN"
      },
      "source": [
        "본서에서 출력된 점수와 다르게 출력됐습니다."
      ]
    },
    {
      "cell_type": "markdown",
      "metadata": {
        "id": "YjJ2Hd7yhJUW"
      },
      "source": [
        "전체 훈련 데이터를 사용해서 그리드 서치를 진행하는 경우에는 테스트할 매개변수 조합이 너무 많으므로 오랜 시간이 소요됩니다. `GridSearchCV` 클래스의 `n_jobs` 매개변수를 조정해서 병렬로 처리할 수 있지만, 역자께서 사용하신 macOS에서는 `KoNLPy`의 자바 기반의 태그 클래스가 호환되지 않으므로, C++ 기반의 `Mecab` 태그 클래스를 사용할 예정입니다. `Mecab`을 사용하려면 `konlpy`를 설치한 후에 추가적인 설치 작업이 필요합니다. 자세한 설치 과정은 [`KoNLPy` 설치 페이지](http://konlpy.org/ko/latest/install/)를 참고하시기 바랍니다.\n",
        "\n",
        "아울러 `Mecab`은 윈도우를 지원하지 않습니다. 이후 과정은 본인이 사용하는 운영체제인 윈도우로 실현할 수 없습니다. 본서 내용을 참고하시기 바랍니다."
      ]
    },
    {
      "cell_type": "markdown",
      "metadata": {
        "id": "rsSIeHvZVA4B"
      },
      "source": [
        "# **7.9 토픽 모델링과 문서 군집화**\n",
        "\n",
        "텍스트 데이터에 자주 적용하는 특별한 기법인 **토픽 모델링(topic modeling)**에 대해 설명합니다. 토픽 모델링은 **잠재 디리클레 할당(Latent Dirichlet Allocation, LDA)**로도 불립니다(LDA(Linear Discriminant Analysis)와 전혀 다른 개념입니다). 이 용어는 비지도 학습을 통해 문서를 하나 또는 그 이상의 토픽으로 할당하는 작업을 통칭합니다. 여러 주제를 각 주제에 맞게 토픽으로 묶을 수 있는 뉴스 데이터를 예로 들 수 있습니다. 한 문서가 토픽 하나에 할당되면 이는 문서를 군집시키는 문제가 됩니다. 문서가 토픽 둘 이상을 가질 수 있다면 분해 방법과 관련됩니다. 학습된 각 성분은 토픽 하나에 해당하고, 문서를 표현한 성분의 계수는 문서가 특정 토픽에 얼마큼 연관되었는지를 의미합니다."
      ]
    },
    {
      "cell_type": "markdown",
      "metadata": {
        "id": "lc6o9PMTVA1k"
      },
      "source": [
        "## **7.9.1 LDA**\n",
        "\n",
        "LDA 모델은 함께 자주 나타나는 단어의 그룹(토픽)을 찾는 도구입니다. 아울러 LDA는 각 문서에 토픽의 일부가 혼합되어 있다고 간주합니다. 머신러닝에서 토픽은 우리가 일상 대화에서 말하는 주제가 아닙니다. 의미가 있든 없든 `PCA`와 `NMF`로 추출한 성분에 가깝습니다. LDA의 토픽에 의미가 있다고 가정하더라도 우리가 일상 대화에서 말하는 주제와는 전혀 다릅니다.\n",
        "\n",
        "예컨대 두 명의 기자가 쓴 스포츠, 정치, 금융 기사가 있다고 가정하겠습니다. 정치 기사에서는 '주지사', '선거', '정당' 등 주제와 관련된 단어가 등장한다고 예상할 수 있고, 스포츠 기사에서는 '팀', '점수', '시즌' 등이 등장한다고 예상할 수 있습니다. 이런 그룹의 단어는 함께 나타나는 경우가 많습니다(물론 특별한 경우에서는 두 주제에 속한 단어가 함께 나타날 수 있습니다).\n",
        "\n",
        "그러나 이렇게 동시에 나타날 것 같은 단어의 그룹만 있는 것은 아닙니다. 두 기자는 다른 문장이나 다른 종류의 단어를 좋아할 수도 있습니다(한 기자는 '구별'이란 단어를 즐겨 쓰고, 다른 한 기자는 '분리'라는 단어를 즐겨 쓸 수 있습니다). 이 경우에 토픽은 두 기자가 각각 즐겨 쓰는 단어가 될 수도 있습니다. 다만 이 토픽은 일반적인 주제와는 관련이 없습니다."
      ]
    },
    {
      "cell_type": "markdown",
      "metadata": {
        "id": "jIyh6PhKxiLn"
      },
      "source": [
        "LDA의 작동 방식을 살피기 위해 영화 리뷰 데이터셋에 적용합니다. 텍스트 문서에 대한 비지도 학습 모델에서 분석 결과가 왜곡되지 않으려면 자주 나타나는 단어를 제거하는 편이 좋습니다. 적어도 문서의 15%에 나타나는 단어를 삭제하고 가장 많이 등장하는 단어 10,000개에 대해 BOW 모델을 만듭니다."
      ]
    },
    {
      "cell_type": "code",
      "metadata": {
        "id": "6LolUE1fyACU"
      },
      "source": [
        "vect = CountVectorizer(max_features=10000, max_df=.15)\n",
        "X = vect.fit_transform(text_train)"
      ],
      "execution_count": null,
      "outputs": []
    },
    {
      "cell_type": "markdown",
      "metadata": {
        "id": "8vmIUbZA5Nrt"
      },
      "source": [
        "`NMF` 성분과 비슷하게 토픽은 어떤 순서를 갖지 않습니다. 아울러 토픽 수를 바꾸면 모든 토픽이 바뀝니다(`NMF`와 LDA는 유사한 문제를 풀 수 있어서 토픽 추출에 `NMF`를 사용할 수 있습니다).\n",
        "\n",
        "한 눈에 보기 쉽도록 토픽 10개로 토픽 모델을 학습합니다. 기본 학습 방법인 'online' 대신 약간 느리지만 더 좋은 성능을 내는 'batch' 방법을 사용하고, 모델 성능을 제고할 목적으로 `max_iter` 매개변수의 값을 증가시킵니다. `LatentDirichletAllocation` 클래스는 온라인 변분 베이즈 알고리즘(online varational Bayes algorithm)을 사용하며, `max_iter` 매개변수의 기본값은 10입니다."
      ]
    },
    {
      "cell_type": "code",
      "metadata": {
        "id": "pImeeMMp6RFR"
      },
      "source": [
        "from sklearn.decomposition import LatentDirichletAllocation\n",
        "\n",
        "lda = LatentDirichletAllocation(n_components=10, learning_method='batch',\n",
        "                                max_iter=25, random_state=0)\n",
        "# 변환 시간이 오래 소요되므로 모델 생성과 변환을 한꺼번에 수행합니다.\n",
        "document_topics = lda.fit_transform(X)"
      ],
      "execution_count": null,
      "outputs": []
    },
    {
      "cell_type": "markdown",
      "metadata": {
        "id": "yC5sSeM362Sj"
      },
      "source": [
        "분해 방법처럼 `LatentDirichletAllocation` 클래스에는 토픽마다 각 단어의 중요도를 저장한 속성인 `components_`가 있으며 크기는 (n_topics, n_words)입니다."
      ]
    },
    {
      "cell_type": "code",
      "metadata": {
        "colab": {
          "base_uri": "https://localhost:8080/"
        },
        "id": "3vPc2KQ07Kv-",
        "outputId": "2673f71e-c005-44e2-ea1c-457b148aa83e"
      },
      "source": [
        "print('lda.components_.shape:', lda.components_.shape)"
      ],
      "execution_count": null,
      "outputs": [
        {
          "output_type": "stream",
          "name": "stdout",
          "text": [
            "lda.components_.shape: (10, 10000)\n"
          ]
        }
      ]
    },
    {
      "cell_type": "markdown",
      "metadata": {
        "id": "sXAIdEgz7V_E"
      },
      "source": [
        "각 토픽이 의미하는 바가 무엇인지 이해할 수 있도록 토픽에서 가장 중요한 단어를 확인합니다. `print_topics` 함수는 특성을 정돈해서 출력합니다."
      ]
    },
    {
      "cell_type": "code",
      "metadata": {
        "colab": {
          "base_uri": "https://localhost:8080/"
        },
        "id": "YMy1OCzi7lW0",
        "outputId": "0b40ce6d-0b7a-45fa-df9e-227a364e2ef7"
      },
      "source": [
        "# 토픽마다(components_의 행) 특성을 오름차순으로 정렬합니다.\n",
        "# 내림차순으로 정렬되도록 [:, ::-1] 형식을 취합니다.\n",
        "sorting = np.argsort(lda.components_, axis=1)[:, ::-1]\n",
        "# `CountVectorizer`의 객체에서 특성 이름을 구합니다.\n",
        "feature_names = np.array(vect.get_feature_names())\n",
        "\n",
        "# 토픽 10개를 출력합니다.\n",
        "mglearn.tools.print_topics(topics=range(10), feature_names=feature_names,\n",
        "                           sorting=sorting, topics_per_chunk=5, n_words=10)"
      ],
      "execution_count": null,
      "outputs": [
        {
          "output_type": "stream",
          "name": "stdout",
          "text": [
            "topic 0       topic 1       topic 2       topic 3       topic 4       \n",
            "--------      --------      --------      --------      --------      \n",
            "between       war           funny         show          didn          \n",
            "young         world         worst         series        saw           \n",
            "family        us            comedy        episode       am            \n",
            "real          our           thing         tv            thought       \n",
            "performance   american      guy           episodes      years         \n",
            "beautiful     documentary   re            shows         book          \n",
            "work          history       stupid        season        watched       \n",
            "each          new           actually      new           now           \n",
            "both          own           nothing       television    dvd           \n",
            "director      point         want          years         got           \n",
            "\n",
            "\n",
            "topic 5       topic 6       topic 7       topic 8       topic 9       \n",
            "--------      --------      --------      --------      --------      \n",
            "horror        kids          cast          performance   house         \n",
            "action        action        role          role          woman         \n",
            "effects       animation     john          john          gets          \n",
            "budget        game          version       actor         killer        \n",
            "nothing       fun           novel         oscar         girl          \n",
            "original      disney        both          cast          wife          \n",
            "director      children      director      plays         horror        \n",
            "minutes       10            played        jack          young         \n",
            "pretty        kid           performance   joe           goes          \n",
            "doesn         old           mr            performances  around        \n",
            "\n",
            "\n"
          ]
        }
      ]
    },
    {
      "cell_type": "markdown",
      "metadata": {
        "id": "9swhL_2u8kXH"
      },
      "source": [
        "토픽 1은 역사와 전쟁 영화, 토픽 2는 코미디물, 토픽 3는 TV 시리즈, 토픽 4는 그저 일반적인 단어들, 토픽 5는 호러물, 토픽 6은 어린이 영화, 토픽 7은 소설을 영상화한 것, 토픽 8은 영화제와 관련된 것입니다."
      ]
    },
    {
      "cell_type": "markdown",
      "metadata": {
        "id": "ook9xoLC9m1z"
      },
      "source": [
        "토픽 100개로 새로운 모델을 학습합니다. 많은 토픽을 사용하면 분석은 더 어려워지지만 데이터에서 특이한 부분을 잘 잡아낼 수 있습니다."
      ]
    },
    {
      "cell_type": "code",
      "metadata": {
        "id": "DH3hue9Y92X7"
      },
      "source": [
        "lda100 = LatentDirichletAllocation(n_components=100, learning_method='batch',\n",
        "                                   max_iter=25, random_state=0)\n",
        "document_topics100 = lda100.fit_transform(X)"
      ],
      "execution_count": null,
      "outputs": []
    },
    {
      "cell_type": "markdown",
      "metadata": {
        "id": "Yl8CuzPY-QVj"
      },
      "source": [
        "대표되는 토픽 몇 가지만 확인합니다."
      ]
    },
    {
      "cell_type": "code",
      "metadata": {
        "colab": {
          "base_uri": "https://localhost:8080/"
        },
        "id": "7qlVjD3t-U5e",
        "outputId": "ef7d3767-7113-4955-df7d-8d151a5cbfd8"
      },
      "source": [
        "topics = np.array([7, 16, 24, 25, 28, 36, 37, 41, 45, 51, 53, 54, 63, 89, 97])\n",
        "sorting = np.argsort(lda100.components_, axis=1)[:, ::-1]\n",
        "feature_names = np.array(vect.get_feature_names())\n",
        "mglearn.tools.print_topics(topics=topics, feature_names=feature_names,\n",
        "                           sorting=sorting, topics_per_chunk=5, n_words=20)"
      ],
      "execution_count": null,
      "outputs": [
        {
          "output_type": "stream",
          "name": "stdout",
          "text": [
            "topic 7       topic 16      topic 24      topic 25      topic 28      \n",
            "--------      --------      --------      --------      --------      \n",
            "thriller      worst         german        car           beautiful     \n",
            "suspense      awful         hitler        gets          young         \n",
            "horror        boring        nazi          guy           old           \n",
            "atmosphere    horrible      midnight      around        romantic      \n",
            "mystery       stupid        joe           down          between       \n",
            "house         thing         germany       kill          romance       \n",
            "director      terrible      years         goes          wonderful     \n",
            "quite         script        history       killed        heart         \n",
            "bit           nothing       new           going         feel          \n",
            "de            worse         modesty       house         year          \n",
            "performances  waste         cowboy        away          each          \n",
            "dark          pretty        jewish        head          french        \n",
            "twist         minutes       past          take          sweet         \n",
            "hitchcock     didn          kirk          another       boy           \n",
            "tension       actors        young         getting       loved         \n",
            "interesting   actually      spanish       doesn         girl          \n",
            "mysterious    re            enterprise    now           relationship  \n",
            "murder        supposed      von           night         saw           \n",
            "ending        mean          nazis         right         both          \n",
            "creepy        want          spock         woman         simple        \n",
            "\n",
            "\n",
            "topic 36      topic 37      topic 41      topic 45      topic 51      \n",
            "--------      --------      --------      --------      --------      \n",
            "performance   excellent     war           music         earth         \n",
            "role          highly        american      song          space         \n",
            "actor         amazing       world         songs         planet        \n",
            "cast          wonderful     soldiers      rock          superman      \n",
            "play          truly         military      band          alien         \n",
            "actors        superb        army          soundtrack    world         \n",
            "performances  actors        tarzan        singing       evil          \n",
            "played        brilliant     soldier       voice         humans        \n",
            "supporting    recommend     america       singer        aliens        \n",
            "director      quite         country       sing          human         \n",
            "oscar         performance   americans     musical       creatures     \n",
            "roles         performances  during        roll          miike         \n",
            "actress       perfect       men           fan           monsters      \n",
            "excellent     drama         us            metal         apes          \n",
            "screen        without       government    concert       clark         \n",
            "plays         beautiful     jungle        playing       burton        \n",
            "award         human         vietnam       hear          tim           \n",
            "work          moving        ii            fans          outer         \n",
            "playing       world         political     prince        men           \n",
            "gives         recommended   against       especially    moon          \n",
            "\n",
            "\n",
            "topic 53      topic 54      topic 63      topic 89      topic 97      \n",
            "--------      --------      --------      --------      --------      \n",
            "scott         money         funny         dead          didn          \n",
            "gary          budget        comedy        zombie        thought       \n",
            "streisand     actors        laugh         gore          wasn          \n",
            "star          low           jokes         zombies       ending        \n",
            "hart          worst         humor         blood         minutes       \n",
            "lundgren      waste         hilarious     horror        got           \n",
            "dolph         10            laughs        flesh         felt          \n",
            "career        give          fun           minutes       part          \n",
            "sabrina       want          re            body          going         \n",
            "role          nothing       funniest      living        seemed        \n",
            "temple        terrible      laughing      eating        bit           \n",
            "phantom       crap          joke          flick         found         \n",
            "judy          must          few           budget        though        \n",
            "melissa       reviews       moments       head          nothing       \n",
            "zorro         imdb          guy           gory          lot           \n",
            "gets          director      unfunny       evil          saw           \n",
            "barbra        thing         times         shot          long          \n",
            "cast          believe       laughed       low           interesting   \n",
            "short         am            comedies      fulci         few           \n",
            "serial        actually      isn           re            half          \n",
            "\n",
            "\n"
          ]
        }
      ]
    },
    {
      "cell_type": "markdown",
      "metadata": {
        "id": "Bth-ClBA_G3g"
      },
      "source": [
        "구체적으로 추출했지만 해석하기 어렵습니다. 토픽을 이용해서 수월하게 추론하려면 토픽에 할당된 문서를 보고 가장 높은 순위에 있는 단어의 의미를 확인해야 합니다. 예컨대 토픽 45는 음악에 관한 것 같습니다. 이 토픽에 할당된 리뷰를 확인합니다."
      ]
    },
    {
      "cell_type": "code",
      "metadata": {
        "colab": {
          "base_uri": "https://localhost:8080/"
        },
        "id": "wicxy3pn_ybi",
        "outputId": "275eaea9-ca06-4377-fc99-f96d23e1bb0f"
      },
      "source": [
        "# 음악적인 토픽 45를 가중치로 정렬합니다.\n",
        "music = np.argsort(document_topics100[:, 45])[::-1]\n",
        "# 이 토픽에 대해 가장 비중이 큰 문서 다섯 개를 출력합니다.\n",
        "for i in music[:10]:\n",
        "    # 처음 두 문장을 출력합니다.\n",
        "    print(b\".\".join(text_train[i].split(b\".\")[:2]) + b\".\\n\")"
      ],
      "execution_count": null,
      "outputs": [
        {
          "output_type": "stream",
          "name": "stdout",
          "text": [
            "b'I love this movie and never get tired of watching. The music in it is great.\\n'\n",
            "b\"I enjoyed Still Crazy more than any film I have seen in years. A successful band from the 70's decide to give it another try.\\n\"\n",
            "b'Hollywood Hotel was the last movie musical that Busby Berkeley directed for Warner Bros. His directing style had changed or evolved to the point that this film does not contain his signature overhead shots or huge production numbers with thousands of extras.\\n'\n",
            "b\"What happens to washed up rock-n-roll stars in the late 1990's? They launch a comeback / reunion tour. At least, that's what the members of Strange Fruit, a (fictional) 70's stadium rock group do.\\n\"\n",
            "b'As a big-time Prince fan of the last three to four years, I really can\\'t believe I\\'ve only just got round to watching \"Purple Rain\". The brand new 2-disc anniversary Special Edition led me to buy it.\\n'\n",
            "b\"This film is worth seeing alone for Jared Harris' outstanding portrayal of John Lennon. It doesn't matter that Harris doesn't exactly resemble Lennon; his mannerisms, expressions, posture, accent and attitude are pure Lennon.\\n\"\n",
            "b\"The funky, yet strictly second-tier British glam-rock band Strange Fruit breaks up at the end of the wild'n'wacky excess-ridden 70's. The individual band members go their separate ways and uncomfortably settle into lackluster middle age in the dull and uneventful 90's: morose keyboardist Stephen Rea winds up penniless and down on his luck, vain, neurotic, pretentious lead singer Bill Nighy tries (and fails) to pursue a floundering solo career, paranoid drummer Timothy Spall resides in obscurity on a remote farm so he can avoid paying a hefty back taxes debt, and surly bass player Jimmy Nail installs roofs for a living.\\n\"\n",
            "b\"I just finished reading a book on Anita Loos' work and the photo in TCM Magazine of MacDonald in her angel costume looked great (impressive wings), so I thought I'd watch this movie. I'd never heard of the film before, so I had no preconceived notions about it whatsoever.\\n\"\n",
            "b'I love this movie!!! Purple Rain came out the year I was born and it has had my heart since I can remember. Prince is so tight in this movie.\\n'\n",
            "b\"This movie is sort of a Carrie meets Heavy Metal. It's about a highschool guy who gets picked on alot and he totally gets revenge with the help of a Heavy Metal ghost.\\n\"\n"
          ]
        }
      ]
    },
    {
      "cell_type": "markdown",
      "metadata": {
        "id": "u_DEDfVJAbjW"
      },
      "source": [
        "뮤지컬에서부터 일대기를 다룬 영화, 그리고 마지막 리뷰처럼 장르를 확인하기 어려운 영화까지 이 토픽은 여러 가지 음악 중심의 리뷰를 다루고 있습니다."
      ]
    },
    {
      "cell_type": "markdown",
      "metadata": {
        "id": "bNhl24s5BNL2"
      },
      "source": [
        "토픽을 조사하는 다른 방법은 각 토픽의 가중치가 얼마인지 모든 리뷰에 걸쳐서 `document_topics` 값을 합하여 살피는 것입니다. 각 토픽의 이름은 토픽을 대표하는 두 단어를 선택하여 짓습니다. 학습된 토픽의 가중치를 그래프로 출력합니다."
      ]
    },
    {
      "cell_type": "code",
      "metadata": {
        "id": "E8wrtmftBzBS",
        "colab": {
          "base_uri": "https://localhost:8080/",
          "height": 729
        },
        "outputId": "250d2cfb-6052-44ae-f217-dd809a5556ae"
      },
      "source": [
        "fig, ax = plt.subplots(1, 2, figsize=(10, 10))\n",
        "topic_names = ['{:>2} '.format(i) + ' '.join(words) for i, words\n",
        "               in enumerate(feature_names[sorting[:, :2]])]\n",
        "# 열이 두 개인 막대 그래프를 그립니다.\n",
        "for col in [0, 1]:\n",
        "    start = col * 50\n",
        "    end = (col + 1) * 50\n",
        "    ax[col].barh(np.arange(50), np.sum(document_topics100, axis=0)[start:end])\n",
        "    ax[col].set_yticks(np.arange(50))\n",
        "    ax[col].set_yticklabels(topic_names[start:end], ha='left', va='top')\n",
        "    ax[col].invert_yaxis()\n",
        "    ax[col].set_xlim(0, 2000)\n",
        "    yax = ax[col].get_yaxis()\n",
        "    yax.set_tick_params(pad=130)\n",
        "plt.tight_layout()\n",
        "plt.show()"
      ],
      "execution_count": null,
      "outputs": [
        {
          "output_type": "display_data",
          "data": {
            "image/png": "[encoded data removed]",
            "text/plain": [
              "<Figure size 720x720 with 2 Axes>"
            ]
          },
          "metadata": {
            "needs_background": "light"
          }
        }
      ]
    },
    {
      "cell_type": "markdown",
      "metadata": {
        "id": "l4QAkf-EDfNQ"
      },
      "source": [
        "중요도가 높은 토픽 중에 97번은 불용어에 가깝고 부정적 경향을 띄는 단어입니다. 토픽 16번은 완전 부정적이고, 그 다음은 장르에 관련된 토픽이 이어지며, 36번과 37번은 긍정적인 경향을 띄는 단어입니다.\n",
        "\n",
        "LDA가 장르와 점수라는 두 종류의 큰 토픽과 어디에도 속하지 않는 토픽 몇 개를 더 찾아냈습니다. 리뷰 대부분은 특정 영화에 대한 의견이거나 평가 점수를 합리화하고 강조하기 위한 댓글입니다.\n",
        "\n",
        "LDA와 같은 토픽 모델은 레이블이 없거나, 여기서처럼 레이블이 있더라도 큰 규모의 텍스트 말뭉치를 해석하는 데 좋은 방법입니다. LDA는 확률적 알고리즘이기 때문에 `random_state` 매개변수를 바꾸면 결과가 많이 달라집니다. 토픽을 구별하는 게 도움이 되더라도 비지도 학습에서 내린 결론은 보수적으로 평가해야 하므로 각 토픽에 해당하는 문서를 직접 보고 직관을 검증하는 게 좋습니다. `LDA.transform` 메서드에서 만든 토픽이 지도 학습을 위한 압축된 표현으로 사용될 수도 있습니다. 훈련 샘플이 적을 때 특히 유용합니다. 훈련 데이터가 적고 특성 수가 많을 때 과대적합 되기 쉬우므로, 특성 수를 줄이는 데 LDA를 사용할 수 있습니다."
      ]
    },
    {
      "cell_type": "markdown",
      "metadata": {
        "id": "ALSkNuLWVAzA"
      },
      "source": [
        "# **7.10 요약 및 정리**\n",
        "\n",
        "더 깊은 내용은 [Natural Language Processing with Python(오라일리, 2009)](http://www.nltk.org/book/)에서 확인할 수 있습니다. 자연어 처리의 개요와 `ntlk` 파이썬 패키지를 소개합니다.\n",
        "\n",
        "대표적인 참고 도서는 [Introduction to Information Retrieval(캐임브리지 대학교, 2008)](http://nlp.stanford.edu/IR-book/)입니다. 정보 추출, 자연어 처리, 머신러닝에 대한 기초적인 알고리즘을 설명합니다. \n",
        "\n",
        "더 고수준의 텍스트 처리를 하려면 `spacy`(최근에 나왔으며 효율적이고 잘 설계된 패키지), `nltk`(잘 구축되어 있고 기능이 풍부하지만 조금 오래된 라이브러리), `gensim`(토픽 모델링이 강점인 자연어 처리 패키지)를 추천합니다. \n",
        "\n",
        "최근에는 신경망과 관련된 몇 가지 연구가 텍스트 처리 분야에서 두각을 보입니다. 하나는 `word2vec` 라이브러리에 구현된 **단어 벡터(word vector)** 또는 **분산 단어 표현(distributed word representations)**이라는 연속적인 벡터 표현입니다. [Distributed Representations of Words and Phrases and Their Compositionality](https://goo.gl/V3mTpj)라는 논문에서 이 주제를 소개합니다. `spacy`와 `gensim`이 이 논문에 실린 기법과 후속 기술들을 제공합니다.\n",
        "\n",
        "자연어 처리에서 빠르게 성장하는 또 다른 분야는 텍스트 처리에 **순환 신경망(recurrent neural networks, RNN)**을 적용하는 것입니다. RNN은 신경망의 한 종류입니다. 클래스 레이블을 할당하는 분류 모델과 달리 텍스트를 출력할 수 있습니다. 텍스트 출력을 만들 수 있으므로 자동 번역이나 자동 요약에 RNN은 적합합니다. [Sequence to Sequence Learning with Neural Networks](https://goo.gl/1YNWlg)라는 논문에 해당되는 내용이 기술되어 있습니다. 텐서플로 프레임워크를 사용한 예제는 [텐서플로 웹사이트](https://www.tensorflow.org/tutorials/seq2seq)에서 확인할 수 있습니다. 아울러 본서를 번역하신 박해선님의 혼자 공부하는 머신러닝 + 딥러닝(한빛미디어, 2020)에서도 해당 내용을 확인할 수 있습니다."
      ]
    }
  ]
}