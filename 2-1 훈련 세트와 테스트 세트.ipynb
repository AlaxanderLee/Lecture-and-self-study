{
  "nbformat": 4,
  "nbformat_minor": 0,
  "metadata": {
    "colab": {
      "name": "2-1 훈련 세트와 테스트 세트.ipynb",
      "provenance": [],
      "collapsed_sections": [],
      "toc_visible": true,
      "authorship_tag": "ABX9TyN+6JkyGZ3D54AtiZqU4NN6",
      "include_colab_link": true
    },
    "kernelspec": {
      "name": "python3",
      "display_name": "Python 3"
    },
    "language_info": {
      "name": "python"
    }
  },
  "cells": [
    {
      "cell_type": "markdown",
      "metadata": {
        "id": "view-in-github",
        "colab_type": "text"
      },
      "source": [
        "<a href=\"https://colab.research.google.com/github/AlaxanderLee/lecture_and_self-study/blob/master/2-1%20%ED%9B%88%EB%A0%A8%20%EC%84%B8%ED%8A%B8%EC%99%80%20%ED%85%8C%EC%8A%A4%ED%8A%B8%20%EC%84%B8%ED%8A%B8.ipynb\" target=\"_parent\"><img src=\"https://colab.research.google.com/assets/colab-badge.svg\" alt=\"Open In Colab\"/></a>"
      ]
    },
    {
      "cell_type": "markdown",
      "metadata": {
        "id": "33b5vczmHP_u"
      },
      "source": [
        "# 2-1 훈련 세트와 테스트 세트"
      ]
    },
    {
      "cell_type": "markdown",
      "metadata": {
        "id": "t5TMupYDrSHX"
      },
      "source": [
        "## 훈련 세트와 테스트 세트 준비"
      ]
    },
    {
      "cell_type": "code",
      "metadata": {
        "id": "mQJ4NuoKHCb3"
      },
      "source": [
        "fish_length = [25.4, 26.3, 26.5, 29.0, 29.0, 29.7, 29.7, 30.0, 30.0, 30.7, 31.0, 31.0, \n",
        "                31.5, 32.0, 32.0, 32.0, 33.0, 33.0, 33.5, 33.5, 34.0, 34.0, 34.5, 35.0, \n",
        "                35.0, 35.0, 35.0, 36.0, 36.0, 37.0, 38.5, 38.5, 39.5, 41.0, 41.0, 9.8, \n",
        "                10.5, 10.6, 11.0, 11.2, 11.3, 11.8, 11.8, 12.0, 12.2, 12.4, 13.0, 14.3, 15.0]\n",
        "\n",
        "fish_weight = [242.0, 290.0, 340.0, 363.0, 430.0, 450.0, 500.0, 390.0, 450.0, 500.0, 475.0, 500.0, \n",
        "                500.0, 340.0, 600.0, 600.0, 700.0, 700.0, 610.0, 650.0, 575.0, 685.0, 620.0, 680.0, \n",
        "                700.0, 725.0, 720.0, 714.0, 850.0, 1000.0, 920.0, 955.0, 925.0, 975.0, 950.0, 6.7, \n",
        "                7.5, 7.0, 9.7, 9.8, 8.7, 10.0, 9.9, 9.8, 12.2, 13.4, 12.2, 19.7, 19.9]"
      ],
      "execution_count": 2,
      "outputs": []
    },
    {
      "cell_type": "code",
      "metadata": {
        "colab": {
          "base_uri": "https://localhost:8080/"
        },
        "id": "GyBTboDdrd_u",
        "outputId": "17116a1c-6c65-4793-d89d-daaad154104f"
      },
      "source": [
        "fish_data = [[l, w] for l, w in zip(fish_length, fish_weight)]\n",
        "\n",
        "fish_target = [1] * 35 + [0] * 14\n",
        "\n",
        "print(fish_data)\n",
        "print(fish_target)"
      ],
      "execution_count": 3,
      "outputs": [
        {
          "output_type": "stream",
          "text": [
            "[[25.4, 242.0], [26.3, 290.0], [26.5, 340.0], [29.0, 363.0], [29.0, 430.0], [29.7, 450.0], [29.7, 500.0], [30.0, 390.0], [30.0, 450.0], [30.7, 500.0], [31.0, 475.0], [31.0, 500.0], [31.5, 500.0], [32.0, 340.0], [32.0, 600.0], [32.0, 600.0], [33.0, 700.0], [33.0, 700.0], [33.5, 610.0], [33.5, 650.0], [34.0, 575.0], [34.0, 685.0], [34.5, 620.0], [35.0, 680.0], [35.0, 700.0], [35.0, 725.0], [35.0, 720.0], [36.0, 714.0], [36.0, 850.0], [37.0, 1000.0], [38.5, 920.0], [38.5, 955.0], [39.5, 925.0], [41.0, 975.0], [41.0, 950.0], [9.8, 6.7], [10.5, 7.5], [10.6, 7.0], [11.0, 9.7], [11.2, 9.8], [11.3, 8.7], [11.8, 10.0], [11.8, 9.9], [12.0, 9.8], [12.2, 12.2], [12.4, 13.4], [13.0, 12.2], [14.3, 19.7], [15.0, 19.9]]\n",
            "[1, 1, 1, 1, 1, 1, 1, 1, 1, 1, 1, 1, 1, 1, 1, 1, 1, 1, 1, 1, 1, 1, 1, 1, 1, 1, 1, 1, 1, 1, 1, 1, 1, 1, 1, 0, 0, 0, 0, 0, 0, 0, 0, 0, 0, 0, 0, 0, 0]\n"
          ],
          "name": "stdout"
        }
      ]
    },
    {
      "cell_type": "code",
      "metadata": {
        "id": "uV1UEUZZshpV"
      },
      "source": [
        "from sklearn.neighbors import KNeighborsClassifier\n",
        "\n",
        "kn = KNeighborsClassifier()"
      ],
      "execution_count": 4,
      "outputs": []
    },
    {
      "cell_type": "code",
      "metadata": {
        "id": "4Lm_28g4to4M"
      },
      "source": [
        "# 0번째부터 34번째까지 데이터로 훈련 세트를 생성함. (35개 도미 데이터)\n",
        "train_input = fish_data[:35]\n",
        "train_target = fish_target[:35]\n",
        "\n",
        "# 35부터 마지막까지 데이터로 테스트 세트를 생성함. (14개 빙어 데이터)\n",
        "test_input = fish_data[35:]\n",
        "test_target = fish_target[35:]"
      ],
      "execution_count": 5,
      "outputs": []
    },
    {
      "cell_type": "markdown",
      "metadata": {
        "id": "R36Wd206w7_6"
      },
      "source": [
        "### 훈련 및 평가와 샘플링 편향"
      ]
    },
    {
      "cell_type": "code",
      "metadata": {
        "colab": {
          "base_uri": "https://localhost:8080/",
          "height": 53
        },
        "id": "IUJke8GXu_kQ",
        "outputId": "f8b65ffe-dd5d-44b0-e10d-20a1b017be50"
      },
      "source": [
        "# 훈련 세트로 모델을 훈련함.\n",
        "kn = kn.fit(train_input, train_target)\n",
        "\n",
        "# 테스트 세트로 평가함.\n",
        "print(kn.score(test_input, test_target))\n",
        "\"\"\"\n",
        "섞지 않고 도미로만 훈련하고 빙어로만 평가하니까 당연히 0이 나옴.\n",
        "훈련 세트와 테스트 세트에 샘플이 골고루 섞여 있지 않으면 '샘플링 편향'\n",
        "\"\"\""
      ],
      "execution_count": 19,
      "outputs": [
        {
          "output_type": "stream",
          "text": [
            "1.0\n"
          ],
          "name": "stdout"
        },
        {
          "output_type": "execute_result",
          "data": {
            "application/vnd.google.colaboratory.intrinsic+json": {
              "type": "string"
            },
            "text/plain": [
              "\"\\n섞지 않고 도미로만 훈련하고 빙어로만 평가하니까 당연히 0이 나옴.\\n훈련 세트와 테스트 세트에 샘플이 골고루 섞여 있지 않으면 '샘플링 편향'\\n\""
            ]
          },
          "metadata": {
            "tags": []
          },
          "execution_count": 19
        }
      ]
    },
    {
      "cell_type": "markdown",
      "metadata": {
        "id": "X0QMTfGIw3eW"
      },
      "source": [
        "### 넘파이(Numpy)"
      ]
    },
    {
      "cell_type": "code",
      "metadata": {
        "colab": {
          "base_uri": "https://localhost:8080/"
        },
        "id": "9kEke_wBvtMw",
        "outputId": "db96bb00-f044-49d7-cd2e-dfc856ab3550"
      },
      "source": [
        "import numpy as np\n",
        "\n",
        "input_arr = np.array(fish_data) # 2차원\n",
        "target_arr = np.array(fish_target) # 1차원\n",
        "\n",
        "print(input_arr) \n",
        "print(target_arr) \n",
        "print(input_arr.shape)\n",
        "print(target_arr.shape)"
      ],
      "execution_count": 7,
      "outputs": [
        {
          "output_type": "stream",
          "text": [
            "[[  25.4  242. ]\n",
            " [  26.3  290. ]\n",
            " [  26.5  340. ]\n",
            " [  29.   363. ]\n",
            " [  29.   430. ]\n",
            " [  29.7  450. ]\n",
            " [  29.7  500. ]\n",
            " [  30.   390. ]\n",
            " [  30.   450. ]\n",
            " [  30.7  500. ]\n",
            " [  31.   475. ]\n",
            " [  31.   500. ]\n",
            " [  31.5  500. ]\n",
            " [  32.   340. ]\n",
            " [  32.   600. ]\n",
            " [  32.   600. ]\n",
            " [  33.   700. ]\n",
            " [  33.   700. ]\n",
            " [  33.5  610. ]\n",
            " [  33.5  650. ]\n",
            " [  34.   575. ]\n",
            " [  34.   685. ]\n",
            " [  34.5  620. ]\n",
            " [  35.   680. ]\n",
            " [  35.   700. ]\n",
            " [  35.   725. ]\n",
            " [  35.   720. ]\n",
            " [  36.   714. ]\n",
            " [  36.   850. ]\n",
            " [  37.  1000. ]\n",
            " [  38.5  920. ]\n",
            " [  38.5  955. ]\n",
            " [  39.5  925. ]\n",
            " [  41.   975. ]\n",
            " [  41.   950. ]\n",
            " [   9.8    6.7]\n",
            " [  10.5    7.5]\n",
            " [  10.6    7. ]\n",
            " [  11.     9.7]\n",
            " [  11.2    9.8]\n",
            " [  11.3    8.7]\n",
            " [  11.8   10. ]\n",
            " [  11.8    9.9]\n",
            " [  12.     9.8]\n",
            " [  12.2   12.2]\n",
            " [  12.4   13.4]\n",
            " [  13.    12.2]\n",
            " [  14.3   19.7]\n",
            " [  15.    19.9]]\n",
            "[1 1 1 1 1 1 1 1 1 1 1 1 1 1 1 1 1 1 1 1 1 1 1 1 1 1 1 1 1 1 1 1 1 1 1 0 0\n",
            " 0 0 0 0 0 0 0 0 0 0 0 0]\n",
            "(49, 2)\n",
            "(49,)\n"
          ],
          "name": "stdout"
        }
      ]
    },
    {
      "cell_type": "markdown",
      "metadata": {
        "id": "alfKHk0Jyh4t"
      },
      "source": [
        "### 무작위로 샘플 선택 후 훈련 세트와 테스트 세트 생성"
      ]
    },
    {
      "cell_type": "code",
      "metadata": {
        "colab": {
          "base_uri": "https://localhost:8080/"
        },
        "id": "vk6LDjluyBfQ",
        "outputId": "7c6bc581-e128-4ee5-92e7-9644e85d482e"
      },
      "source": [
        "\"\"\"\n",
        "샘플을 무작위로 섞어서 훈련 세트 및 테스트 세트를 만들어야 함.\n",
        "인덱스를 섞고 input_arr와 target_arr에 적용하여 샘플을 선택하면 무작위로 훈련 세트를 나누는 것임.\n",
        "\"\"\"\n",
        "np.random.seed(42) # seed를 설정하면 섞인 숫자가 항상 같게 출력됨. 지정하는 숫자에 따라 배열이 정해짐.\n",
        "\n",
        "index = np.arange(49)\n",
        "\n",
        "np.random.shuffle(index) # index를 섞어서 아예 index를 바꿔버리는 함수임. \n",
        "\n",
        "print(index)"
      ],
      "execution_count": 8,
      "outputs": [
        {
          "output_type": "stream",
          "text": [
            "[13 45 47 44 17 27 26 25 31 19 12  4 34  8  3  6 40 41 46 15  9 16 24 33\n",
            " 30  0 43 32  5 29 11 36  1 21  2 37 35 23 39 10 22 18 48 20  7 42 14 28\n",
            " 38]\n"
          ],
          "name": "stdout"
        }
      ]
    },
    {
      "cell_type": "code",
      "metadata": {
        "colab": {
          "base_uri": "https://localhost:8080/"
        },
        "id": "o5Zcn50i2JvE",
        "outputId": "ece42652-30c6-43aa-e4d8-71951149cee0"
      },
      "source": [
        "# 배열 인덱싱. (콕콕 집어서 출력함.)\n",
        "print(input_arr[[1, 3]])\n",
        "print(input_arr[[13, 45, 44]])"
      ],
      "execution_count": 9,
      "outputs": [
        {
          "output_type": "stream",
          "text": [
            "[[ 26.3 290. ]\n",
            " [ 29.  363. ]]\n",
            "[[ 32.  340. ]\n",
            " [ 12.4  13.4]\n",
            " [ 12.2  12.2]]\n"
          ],
          "name": "stdout"
        }
      ]
    },
    {
      "cell_type": "code",
      "metadata": {
        "colab": {
          "base_uri": "https://localhost:8080/"
        },
        "id": "U1cSRbhz1B-v",
        "outputId": "1b632d69-7fe3-42c2-8560-e5715c5773eb"
      },
      "source": [
        "# 섞은 index를 input_arr에 적용하여 배열 인덱싱 함. 훈련 세트를 생성함.\n",
        "train_input = input_arr[index[:35]]\n",
        "\n",
        "train_target = target_arr[index[:35]]\n",
        "\n",
        "print(train_input)\n",
        "print(train_target)"
      ],
      "execution_count": 10,
      "outputs": [
        {
          "output_type": "stream",
          "text": [
            "[[  32.   340. ]\n",
            " [  12.4   13.4]\n",
            " [  14.3   19.7]\n",
            " [  12.2   12.2]\n",
            " [  33.   700. ]\n",
            " [  36.   714. ]\n",
            " [  35.   720. ]\n",
            " [  35.   725. ]\n",
            " [  38.5  955. ]\n",
            " [  33.5  650. ]\n",
            " [  31.5  500. ]\n",
            " [  29.   430. ]\n",
            " [  41.   950. ]\n",
            " [  30.   450. ]\n",
            " [  29.   363. ]\n",
            " [  29.7  500. ]\n",
            " [  11.3    8.7]\n",
            " [  11.8   10. ]\n",
            " [  13.    12.2]\n",
            " [  32.   600. ]\n",
            " [  30.7  500. ]\n",
            " [  33.   700. ]\n",
            " [  35.   700. ]\n",
            " [  41.   975. ]\n",
            " [  38.5  920. ]\n",
            " [  25.4  242. ]\n",
            " [  12.     9.8]\n",
            " [  39.5  925. ]\n",
            " [  29.7  450. ]\n",
            " [  37.  1000. ]\n",
            " [  31.   500. ]\n",
            " [  10.5    7.5]\n",
            " [  26.3  290. ]\n",
            " [  34.   685. ]\n",
            " [  26.5  340. ]]\n",
            "[1 0 0 0 1 1 1 1 1 1 1 1 1 1 1 1 0 0 0 1 1 1 1 1 1 1 0 1 1 1 1 0 1 1 1]\n"
          ],
          "name": "stdout"
        }
      ]
    },
    {
      "cell_type": "code",
      "metadata": {
        "colab": {
          "base_uri": "https://localhost:8080/"
        },
        "id": "hrqSA4ya3Idh",
        "outputId": "7a6ca8fa-71fe-40e1-f4a4-761b936440b7"
      },
      "source": [
        "# 섞은 index를 input_arr에 적용하여 배열 인덱싱 함. 테스트 세트를 생성함.\n",
        "test_input = input_arr[index[35:]]\n",
        "\n",
        "test_target = target_arr[index[35:]]\n",
        "\n",
        "print(test_input)\n",
        "print(test_target)"
      ],
      "execution_count": 11,
      "outputs": [
        {
          "output_type": "stream",
          "text": [
            "[[ 10.6   7. ]\n",
            " [  9.8   6.7]\n",
            " [ 35.  680. ]\n",
            " [ 11.2   9.8]\n",
            " [ 31.  475. ]\n",
            " [ 34.5 620. ]\n",
            " [ 33.5 610. ]\n",
            " [ 15.   19.9]\n",
            " [ 34.  575. ]\n",
            " [ 30.  390. ]\n",
            " [ 11.8   9.9]\n",
            " [ 32.  600. ]\n",
            " [ 36.  850. ]\n",
            " [ 11.    9.7]]\n",
            "[0 0 1 0 1 1 1 0 1 1 0 1 1 0]\n"
          ],
          "name": "stdout"
        }
      ]
    },
    {
      "cell_type": "code",
      "metadata": {
        "colab": {
          "base_uri": "https://localhost:8080/",
          "height": 279
        },
        "id": "0yzQTMve4G8S",
        "outputId": "37975013-386c-49d2-97bc-bec060051976"
      },
      "source": [
        "import matplotlib.pyplot as plt\n",
        "\n",
        "plt.scatter(train_input[:, 0], train_input[:, 1]) # train_input[:, 0]: train_input의 전체 데이터에서 1번째 특성을 x축에, 2번째 특성을 y축에 설정함. \n",
        "plt.scatter(test_input[:, 0], test_input[:, 1])\n",
        "\n",
        "plt.xlabel('length')\n",
        "plt.xlabel('weight')\n",
        "\n",
        "plt.show()"
      ],
      "execution_count": 12,
      "outputs": [
        {
          "output_type": "display_data",
          "data": {
            "image/png": "[encoded data removed]",
            "text/plain": [
              "<Figure size 432x288 with 1 Axes>"
            ]
          },
          "metadata": {
            "tags": [],
            "needs_background": "light"
          }
        }
      ]
    },
    {
      "cell_type": "markdown",
      "metadata": {
        "id": "gtX9SSUg6WUD"
      },
      "source": [
        "## 모델 훈련 및 평가"
      ]
    },
    {
      "cell_type": "code",
      "metadata": {
        "colab": {
          "base_uri": "https://localhost:8080/"
        },
        "id": "sKN1RyO06Nac",
        "outputId": "62e8b704-817e-4833-ffe1-9fdd0aeb0283"
      },
      "source": [
        "kn = kn.fit(train_input, train_target)\n",
        "\n",
        "kn.score(test_input, test_target)"
      ],
      "execution_count": 13,
      "outputs": [
        {
          "output_type": "execute_result",
          "data": {
            "text/plain": [
              "1.0"
            ]
          },
          "metadata": {
            "tags": []
          },
          "execution_count": 13
        }
      ]
    },
    {
      "cell_type": "code",
      "metadata": {
        "colab": {
          "base_uri": "https://localhost:8080/"
        },
        "id": "zUxLfrk262nu",
        "outputId": "1d7a1c3c-c617-4624-9a6b-2d8573f5bcd6"
      },
      "source": [
        "kn.predict(test_input)"
      ],
      "execution_count": 14,
      "outputs": [
        {
          "output_type": "execute_result",
          "data": {
            "text/plain": [
              "array([0, 0, 1, 0, 1, 1, 1, 0, 1, 1, 0, 1, 1, 0])"
            ]
          },
          "metadata": {
            "tags": []
          },
          "execution_count": 14
        }
      ]
    },
    {
      "cell_type": "code",
      "metadata": {
        "colab": {
          "base_uri": "https://localhost:8080/"
        },
        "id": "DiGimaxn7GUj",
        "outputId": "b3f56dc1-1fe7-46da-97d2-fec74f7136eb"
      },
      "source": [
        "print(test_target) # kn.predict로 예측한 값과 같음."
      ],
      "execution_count": 15,
      "outputs": [
        {
          "output_type": "stream",
          "text": [
            "[0 0 1 0 1 1 1 0 1 1 0 1 1 0]\n"
          ],
          "name": "stdout"
        }
      ]
    },
    {
      "cell_type": "markdown",
      "metadata": {
        "id": "fJIHcNNb7VQI"
      },
      "source": [
        "## 마무리"
      ]
    },
    {
      "cell_type": "markdown",
      "metadata": {
        "id": "N_V3YOZC8A3f"
      },
      "source": [
        "### 키워드로 끝내는 핵심 포인트\n",
        "\n",
        "- 테스트 세트: 전체 데이터에서 대체로 **20~30%**를 테스트 세트로 사용함. 전체 데이터가 아주 크면 **1%**만 사용해도 충분함."
      ]
    },
    {
      "cell_type": "markdown",
      "metadata": {
        "id": "v-xg2vEo83l1"
      },
      "source": [
        "### 핵심 패키지와 함수"
      ]
    },
    {
      "cell_type": "code",
      "metadata": {
        "colab": {
          "base_uri": "https://localhost:8080/"
        },
        "id": "k8Snoq_h89M5",
        "outputId": "a25729a7-426b-496d-9923-db6c0c33b98a"
      },
      "source": [
        "# shuffle 함수의 경우 다차원 배열이면 행만 섞음. 열은 안 섞음.\n",
        "arr = np.array([[1, 2], [3, 4], [5, 6]])\n",
        "\n",
        "np.random.shuffle(arr)\n",
        "\n",
        "print(arr)"
      ],
      "execution_count": 16,
      "outputs": [
        {
          "output_type": "stream",
          "text": [
            "[[5 6]\n",
            " [1 2]\n",
            " [3 4]]\n"
          ],
          "name": "stdout"
        }
      ]
    }
  ]
}