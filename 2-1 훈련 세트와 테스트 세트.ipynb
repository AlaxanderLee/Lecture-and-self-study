{
  "nbformat": 4,
  "nbformat_minor": 0,
  "metadata": {
    "colab": {
      "name": "2-1 훈련 세트와 테스트 세트.ipynb",
      "provenance": [],
      "collapsed_sections": [],
      "toc_visible": true,
      "authorship_tag": "ABX9TyPiPOv6V1NIUfTxbRA14rH7",
      "include_colab_link": true
    },
    "kernelspec": {
      "name": "python3",
      "display_name": "Python 3"
    },
    "language_info": {
      "name": "python"
    }
  },
  "cells": [
    {
      "cell_type": "markdown",
      "metadata": {
        "id": "view-in-github",
        "colab_type": "text"
      },
      "source": [
        "<a href=\"https://colab.research.google.com/github/LeeSeungwon89/Machine-learning_Theory/blob/master/2-1%20%ED%9B%88%EB%A0%A8%20%EC%84%B8%ED%8A%B8%EC%99%80%20%ED%85%8C%EC%8A%A4%ED%8A%B8%20%EC%84%B8%ED%8A%B8.ipynb\" target=\"_parent\"><img src=\"https://colab.research.google.com/assets/colab-badge.svg\" alt=\"Open In Colab\"/></a>"
      ]
    },
    {
      "cell_type": "markdown",
      "source": [
        "# **지도 학습과 비지도 학습**"
      ],
      "metadata": {
        "id": "XYumgOngCMYV"
      }
    },
    {
      "cell_type": "markdown",
      "source": [
        "* **지도 학습(supervised learning)**: 훈련 데이터(입력(input)값과 타깃(target)값을 합친 것)가 필요한 알고리즘입니다. \n",
        "\n",
        "* **비지도 학습(unsupervised learning)**: 입력 데이터만 사용합니다. 타깃 데이터가 없으므로 정답을 맞힐 순 없지만 데이터를 잘 파악하거나 변형하기 좋습니다."
      ],
      "metadata": {
        "id": "Zp0O8hP3CTlo"
      }
    },
    {
      "cell_type": "markdown",
      "metadata": {
        "id": "t5TMupYDrSHX"
      },
      "source": [
        "# **훈련 세트와 테스트 세트 준비**"
      ]
    },
    {
      "cell_type": "markdown",
      "source": [
        "도미와 빙어 데이터를 합친 전체 데이터를 준비하겠습니다."
      ],
      "metadata": {
        "id": "wxb3ucnYEWGv"
      }
    },
    {
      "cell_type": "code",
      "metadata": {
        "id": "mQJ4NuoKHCb3"
      },
      "source": [
        "fish_length = [25.4, 26.3, 26.5, 29.0, 29.0, 29.7, 29.7, 30.0, 30.0, 30.7, 31.0, 31.0, \n",
        "                31.5, 32.0, 32.0, 32.0, 33.0, 33.0, 33.5, 33.5, 34.0, 34.0, 34.5, 35.0, \n",
        "                35.0, 35.0, 35.0, 36.0, 36.0, 37.0, 38.5, 38.5, 39.5, 41.0, 41.0, 9.8, \n",
        "                10.5, 10.6, 11.0, 11.2, 11.3, 11.8, 11.8, 12.0, 12.2, 12.4, 13.0, 14.3, 15.0]\n",
        "fish_weight = [242.0, 290.0, 340.0, 363.0, 430.0, 450.0, 500.0, 390.0, 450.0, 500.0, 475.0, 500.0, \n",
        "                500.0, 340.0, 600.0, 600.0, 700.0, 700.0, 610.0, 650.0, 575.0, 685.0, 620.0, 680.0, \n",
        "                700.0, 725.0, 720.0, 714.0, 850.0, 1000.0, 920.0, 955.0, 925.0, 975.0, 950.0, 6.7, \n",
        "                7.5, 7.0, 9.7, 9.8, 8.7, 10.0, 9.9, 9.8, 12.2, 13.4, 12.2, 19.7, 19.9]"
      ],
      "execution_count": null,
      "outputs": []
    },
    {
      "cell_type": "markdown",
      "source": [
        "전체 데이터를 리스트 하나로 생성하고, 타깃 데이터를 생성하겠습니다."
      ],
      "metadata": {
        "id": "PUSMYjqeEdwJ"
      }
    },
    {
      "cell_type": "code",
      "metadata": {
        "colab": {
          "base_uri": "https://localhost:8080/"
        },
        "id": "GyBTboDdrd_u",
        "outputId": "661402f3-eeaa-4a1c-cccf-0440dc9d82f7"
      },
      "source": [
        "fish_data = [[l, w] for l, w in zip(fish_length, fish_weight)]\n",
        "fish_target = [1] * 35 + [0] * 14\n",
        "print(fish_data)\n",
        "print(fish_target)"
      ],
      "execution_count": null,
      "outputs": [
        {
          "output_type": "stream",
          "name": "stdout",
          "text": [
            "[[25.4, 242.0], [26.3, 290.0], [26.5, 340.0], [29.0, 363.0], [29.0, 430.0], [29.7, 450.0], [29.7, 500.0], [30.0, 390.0], [30.0, 450.0], [30.7, 500.0], [31.0, 475.0], [31.0, 500.0], [31.5, 500.0], [32.0, 340.0], [32.0, 600.0], [32.0, 600.0], [33.0, 700.0], [33.0, 700.0], [33.5, 610.0], [33.5, 650.0], [34.0, 575.0], [34.0, 685.0], [34.5, 620.0], [35.0, 680.0], [35.0, 700.0], [35.0, 725.0], [35.0, 720.0], [36.0, 714.0], [36.0, 850.0], [37.0, 1000.0], [38.5, 920.0], [38.5, 955.0], [39.5, 925.0], [41.0, 975.0], [41.0, 950.0], [9.8, 6.7], [10.5, 7.5], [10.6, 7.0], [11.0, 9.7], [11.2, 9.8], [11.3, 8.7], [11.8, 10.0], [11.8, 9.9], [12.0, 9.8], [12.2, 12.2], [12.4, 13.4], [13.0, 12.2], [14.3, 19.7], [15.0, 19.9]]\n",
            "[1, 1, 1, 1, 1, 1, 1, 1, 1, 1, 1, 1, 1, 1, 1, 1, 1, 1, 1, 1, 1, 1, 1, 1, 1, 1, 1, 1, 1, 1, 1, 1, 1, 1, 1, 0, 0, 0, 0, 0, 0, 0, 0, 0, 0, 0, 0, 0, 0]\n"
          ]
        }
      ]
    },
    {
      "cell_type": "markdown",
      "source": [
        "도미 샘플 35개를 훈련 세트로 생성하겠습니다."
      ],
      "metadata": {
        "id": "R2rz80zsFQ3G"
      }
    },
    {
      "cell_type": "code",
      "metadata": {
        "id": "4Lm_28g4to4M"
      },
      "source": [
        "train_input = fish_data[:35]\n",
        "train_target = fish_target[:35]"
      ],
      "execution_count": null,
      "outputs": []
    },
    {
      "cell_type": "markdown",
      "source": [
        "빙어 샘플 14개를 테스트 세트로 생성하겠습니다. "
      ],
      "metadata": {
        "id": "l9pCyImTFgnm"
      }
    },
    {
      "cell_type": "code",
      "source": [
        "test_input = fish_data[35:]\n",
        "test_target = fish_target[35:]"
      ],
      "metadata": {
        "id": "hJAgMCyaFeSm"
      },
      "execution_count": null,
      "outputs": []
    },
    {
      "cell_type": "markdown",
      "metadata": {
        "id": "R36Wd206w7_6"
      },
      "source": [
        "## **훈련 및 평가와 샘플링 편향**"
      ]
    },
    {
      "cell_type": "markdown",
      "source": [
        "`KNeighborsClassifier`의 인스턴스를 선언하겠습니다."
      ],
      "metadata": {
        "id": "whH0cmqtEqyY"
      }
    },
    {
      "cell_type": "code",
      "metadata": {
        "id": "uV1UEUZZshpV"
      },
      "source": [
        "from sklearn.neighbors import KNeighborsClassifier\n",
        "\n",
        "kn = KNeighborsClassifier()"
      ],
      "execution_count": null,
      "outputs": []
    },
    {
      "cell_type": "markdown",
      "source": [
        "훈련 세트로 모델을 훈련하고, 테스트 세트로 정확도를 평가하겠습니다."
      ],
      "metadata": {
        "id": "zqaCJNr9JUh0"
      }
    },
    {
      "cell_type": "code",
      "metadata": {
        "colab": {
          "base_uri": "https://localhost:8080/"
        },
        "id": "IUJke8GXu_kQ",
        "outputId": "69159fd6-abbd-465f-807c-8f235938e714"
      },
      "source": [
        "kn = kn.fit(train_input, train_target)\n",
        "print(kn.score(test_input, test_target))"
      ],
      "execution_count": null,
      "outputs": [
        {
          "output_type": "stream",
          "text": [
            "0.0\n"
          ],
          "name": "stdout"
        }
      ]
    },
    {
      "cell_type": "markdown",
      "source": [
        "정확도가 0인 이유는 데이터를 섞지 않은 채 도미로만 훈련하고 빙어로만 평가했기 때문입니다. 이처럼 훈련 세트와 테스트 세트에 샘플이 골고루 섞여 있지 않으면 샘플링이 한 쪽으로 쏠리는 **샘플링 편향(sampling bias)**이 발생합니다."
      ],
      "metadata": {
        "id": "L81NhMwfJbfR"
      }
    },
    {
      "cell_type": "markdown",
      "metadata": {
        "id": "X0QMTfGIw3eW"
      },
      "source": [
        "## **넘파이(Numpy)**"
      ]
    },
    {
      "cell_type": "markdown",
      "source": [
        "2차원 리스트인 `fish_data`와 `fish_target`을 넘파이 배열로 변환하고, 배열 크기를 확인하겠습니다."
      ],
      "metadata": {
        "id": "iYom_0GkK4CA"
      }
    },
    {
      "cell_type": "code",
      "metadata": {
        "colab": {
          "base_uri": "https://localhost:8080/"
        },
        "id": "9kEke_wBvtMw",
        "outputId": "153d06fb-5d1c-4df5-bafa-5a8b62329e2d"
      },
      "source": [
        "import numpy as np\n",
        "\n",
        "input_arr = np.array(fish_data)\n",
        "target_arr = np.array(fish_target)\n",
        "print(f'input_arr:\\n{input_arr}')\n",
        "print(f'input_arr.shape: {input_arr.shape}')\n",
        "print()\n",
        "print(f'target_arr:\\n {target_arr}') \n",
        "print(f'target_arr.shape: {target_arr.shape}')"
      ],
      "execution_count": null,
      "outputs": [
        {
          "output_type": "stream",
          "name": "stdout",
          "text": [
            "input_arr:\n",
            "[[  25.4  242. ]\n",
            " [  26.3  290. ]\n",
            " [  26.5  340. ]\n",
            " [  29.   363. ]\n",
            " [  29.   430. ]\n",
            " [  29.7  450. ]\n",
            " [  29.7  500. ]\n",
            " [  30.   390. ]\n",
            " [  30.   450. ]\n",
            " [  30.7  500. ]\n",
            " [  31.   475. ]\n",
            " [  31.   500. ]\n",
            " [  31.5  500. ]\n",
            " [  32.   340. ]\n",
            " [  32.   600. ]\n",
            " [  32.   600. ]\n",
            " [  33.   700. ]\n",
            " [  33.   700. ]\n",
            " [  33.5  610. ]\n",
            " [  33.5  650. ]\n",
            " [  34.   575. ]\n",
            " [  34.   685. ]\n",
            " [  34.5  620. ]\n",
            " [  35.   680. ]\n",
            " [  35.   700. ]\n",
            " [  35.   725. ]\n",
            " [  35.   720. ]\n",
            " [  36.   714. ]\n",
            " [  36.   850. ]\n",
            " [  37.  1000. ]\n",
            " [  38.5  920. ]\n",
            " [  38.5  955. ]\n",
            " [  39.5  925. ]\n",
            " [  41.   975. ]\n",
            " [  41.   950. ]\n",
            " [   9.8    6.7]\n",
            " [  10.5    7.5]\n",
            " [  10.6    7. ]\n",
            " [  11.     9.7]\n",
            " [  11.2    9.8]\n",
            " [  11.3    8.7]\n",
            " [  11.8   10. ]\n",
            " [  11.8    9.9]\n",
            " [  12.     9.8]\n",
            " [  12.2   12.2]\n",
            " [  12.4   13.4]\n",
            " [  13.    12.2]\n",
            " [  14.3   19.7]\n",
            " [  15.    19.9]]\n",
            "input_arr.shape: (49, 2)\n",
            "\n",
            "target_arr:\n",
            " [1 1 1 1 1 1 1 1 1 1 1 1 1 1 1 1 1 1 1 1 1 1 1 1 1 1 1 1 1 1 1 1 1 1 1 0 0\n",
            " 0 0 0 0 0 0 0 0 0 0 0 0]\n",
            "target_arr.shape: (49,)\n"
          ]
        }
      ]
    },
    {
      "cell_type": "markdown",
      "metadata": {
        "id": "alfKHk0Jyh4t"
      },
      "source": [
        "## **무작위로 샘플 선택 후 훈련 세트와 테스트 세트 생성**"
      ]
    },
    {
      "cell_type": "markdown",
      "source": [
        "이제 샘플을 무작위로 섞어서 훈련 세트와 테스트 세트를 만들어야 합니다. 인덱스를 섞고 `input_arr`와 `target_arr`에 적용하여 샘플을 선택하면 무작위로 훈련 세트를 나누게 됩니다."
      ],
      "metadata": {
        "id": "P_3ClIkhLwRF"
      }
    },
    {
      "cell_type": "code",
      "metadata": {
        "colab": {
          "base_uri": "https://localhost:8080/"
        },
        "id": "vk6LDjluyBfQ",
        "outputId": "cc4e4755-6aaf-46f2-8dc6-e60189476073"
      },
      "source": [
        "# `seed()` 메서드에 매개변수를 지정하면 항상 같은 결과가 출력됩니다.\n",
        "# 매개변수에 지정하는 숫자에 따라 특정 결과만 출력되는 것입니다.\n",
        "np.random.seed(42)\n",
        "index = np.arange(49)\n",
        "# `index`를 섞어서 `index`의 원소 순서를 바꿉니다.\n",
        "# `seed()` 메서드에 `42`를 지정했으므로 항상 같은 결과가 출력됩니다.\n",
        "np.random.shuffle(index) \n",
        "\n",
        "print(index)"
      ],
      "execution_count": null,
      "outputs": [
        {
          "output_type": "stream",
          "name": "stdout",
          "text": [
            "[13 45 47 44 17 27 26 25 31 19 12  4 34  8  3  6 40 41 46 15  9 16 24 33\n",
            " 30  0 43 32  5 29 11 36  1 21  2 37 35 23 39 10 22 18 48 20  7 42 14 28\n",
            " 38]\n"
          ]
        }
      ]
    },
    {
      "cell_type": "markdown",
      "source": [
        "섞은 `index`를 `input_arr`에 적용하여 배열 인덱싱 하고 훈련 세트를 생성하겠습니다."
      ],
      "metadata": {
        "id": "RuSS-rnyN_1O"
      }
    },
    {
      "cell_type": "code",
      "metadata": {
        "colab": {
          "base_uri": "https://localhost:8080/"
        },
        "id": "U1cSRbhz1B-v",
        "outputId": "2f577ff3-b1e2-4f77-95d1-3a6e07558206"
      },
      "source": [
        "train_input = input_arr[index[:35]]\n",
        "train_target = target_arr[index[:35]]\n",
        "print(f'train_input:\\n{train_input}')\n",
        "print()\n",
        "print(f'train_target:\\n{train_target}')"
      ],
      "execution_count": null,
      "outputs": [
        {
          "output_type": "stream",
          "name": "stdout",
          "text": [
            "train_input:\n",
            "[[  32.   340. ]\n",
            " [  12.4   13.4]\n",
            " [  14.3   19.7]\n",
            " [  12.2   12.2]\n",
            " [  33.   700. ]\n",
            " [  36.   714. ]\n",
            " [  35.   720. ]\n",
            " [  35.   725. ]\n",
            " [  38.5  955. ]\n",
            " [  33.5  650. ]\n",
            " [  31.5  500. ]\n",
            " [  29.   430. ]\n",
            " [  41.   950. ]\n",
            " [  30.   450. ]\n",
            " [  29.   363. ]\n",
            " [  29.7  500. ]\n",
            " [  11.3    8.7]\n",
            " [  11.8   10. ]\n",
            " [  13.    12.2]\n",
            " [  32.   600. ]\n",
            " [  30.7  500. ]\n",
            " [  33.   700. ]\n",
            " [  35.   700. ]\n",
            " [  41.   975. ]\n",
            " [  38.5  920. ]\n",
            " [  25.4  242. ]\n",
            " [  12.     9.8]\n",
            " [  39.5  925. ]\n",
            " [  29.7  450. ]\n",
            " [  37.  1000. ]\n",
            " [  31.   500. ]\n",
            " [  10.5    7.5]\n",
            " [  26.3  290. ]\n",
            " [  34.   685. ]\n",
            " [  26.5  340. ]]\n",
            "\n",
            "train_target:\n",
            "[1 0 0 0 1 1 1 1 1 1 1 1 1 1 1 1 0 0 0 1 1 1 1 1 1 1 0 1 1 1 1 0 1 1 1]\n"
          ]
        }
      ]
    },
    {
      "cell_type": "markdown",
      "source": [
        "섞은 `index`를 `input_arr`에 적용하여 배열 인덱싱 하고 테스트 세트를 생성하겠습니다."
      ],
      "metadata": {
        "id": "sHOOyei7OfAV"
      }
    },
    {
      "cell_type": "code",
      "metadata": {
        "colab": {
          "base_uri": "https://localhost:8080/"
        },
        "id": "hrqSA4ya3Idh",
        "outputId": "44631f36-1a57-41db-bae1-01e551393b2f"
      },
      "source": [
        "test_input = input_arr[index[35:]]\n",
        "test_target = target_arr[index[35:]]\n",
        "print(f'test_input:\\n{test_input}')\n",
        "print()\n",
        "print(f'test_target:\\n{test_target}')"
      ],
      "execution_count": null,
      "outputs": [
        {
          "output_type": "stream",
          "name": "stdout",
          "text": [
            "test_input:\n",
            "[[ 10.6   7. ]\n",
            " [  9.8   6.7]\n",
            " [ 35.  680. ]\n",
            " [ 11.2   9.8]\n",
            " [ 31.  475. ]\n",
            " [ 34.5 620. ]\n",
            " [ 33.5 610. ]\n",
            " [ 15.   19.9]\n",
            " [ 34.  575. ]\n",
            " [ 30.  390. ]\n",
            " [ 11.8   9.9]\n",
            " [ 32.  600. ]\n",
            " [ 36.  850. ]\n",
            " [ 11.    9.7]]\n",
            "\n",
            "test_target:\n",
            "[0 0 1 0 1 1 1 0 1 1 0 1 1 0]\n"
          ]
        }
      ]
    },
    {
      "cell_type": "markdown",
      "source": [
        "훈련 세트와 테스트 세트를 산점도로 그리겠습니다."
      ],
      "metadata": {
        "id": "O1oQd9DtP82g"
      }
    },
    {
      "cell_type": "code",
      "metadata": {
        "colab": {
          "base_uri": "https://localhost:8080/",
          "height": 279
        },
        "id": "0yzQTMve4G8S",
        "outputId": "5bdc049f-8c70-4e2b-82d6-e6bf737432c8"
      },
      "source": [
        "import matplotlib.pyplot as plt\n",
        "\n",
        "# 첫 번째 특성을 x축에, 두 번째 특성을 y축에 설정합니다. \n",
        "plt.scatter(train_input[:, 0], train_input[:, 1])\n",
        "plt.scatter(test_input[:, 0], test_input[:, 1])\n",
        "plt.xlabel('length')\n",
        "plt.xlabel('weight')\n",
        "\n",
        "plt.show()"
      ],
      "execution_count": null,
      "outputs": [
        {
          "output_type": "display_data",
          "data": {
            "image/png": "[encoded data removed]",
            "text/plain": [
              "<Figure size 432x288 with 1 Axes>"
            ]
          },
          "metadata": {
            "tags": [],
            "needs_background": "light"
          }
        }
      ]
    },
    {
      "cell_type": "markdown",
      "source": [
        "파란색은 훈련 세트, 주황색은 테스트 세트입니다."
      ],
      "metadata": {
        "id": "QvREdpe4QB3c"
      }
    },
    {
      "cell_type": "markdown",
      "metadata": {
        "id": "gtX9SSUg6WUD"
      },
      "source": [
        "# **모델 훈련 및 평가**"
      ]
    },
    {
      "cell_type": "markdown",
      "source": [
        "모델을 훈련하고 평가하겠습니다."
      ],
      "metadata": {
        "id": "F0gEyHgaQHzD"
      }
    },
    {
      "cell_type": "code",
      "metadata": {
        "colab": {
          "base_uri": "https://localhost:8080/"
        },
        "id": "sKN1RyO06Nac",
        "outputId": "e5fa2fe4-2f6d-4288-c914-ea8300c5fba9"
      },
      "source": [
        "kn = kn.fit(train_input, train_target)\n",
        "kn.score(test_input, test_target)"
      ],
      "execution_count": null,
      "outputs": [
        {
          "output_type": "execute_result",
          "data": {
            "text/plain": [
              "1.0"
            ]
          },
          "metadata": {
            "tags": []
          },
          "execution_count": 12
        }
      ]
    },
    {
      "cell_type": "markdown",
      "source": [
        "정확도는 100%입니다. 실제 타깃을 확인하겠습니다."
      ],
      "metadata": {
        "id": "wd-QM1axQZsp"
      }
    },
    {
      "cell_type": "code",
      "metadata": {
        "colab": {
          "base_uri": "https://localhost:8080/"
        },
        "id": "zUxLfrk262nu",
        "outputId": "5e0c6006-4b86-4fe0-d8d6-7497b9e71bb0"
      },
      "source": [
        "kn.predict(test_input)"
      ],
      "execution_count": null,
      "outputs": [
        {
          "output_type": "execute_result",
          "data": {
            "text/plain": [
              "array([0, 0, 1, 0, 1, 1, 1, 0, 1, 1, 0, 1, 1, 0])"
            ]
          },
          "metadata": {
            "tags": []
          },
          "execution_count": 13
        }
      ]
    },
    {
      "cell_type": "markdown",
      "source": [
        "`test_target`의 데이터를 확인하겠습니다."
      ],
      "metadata": {
        "id": "z1lbW5BrQjnY"
      }
    },
    {
      "cell_type": "code",
      "metadata": {
        "colab": {
          "base_uri": "https://localhost:8080/"
        },
        "id": "DiGimaxn7GUj",
        "outputId": "74bd30c3-3c46-4d2d-cddd-21a6242e5d41"
      },
      "source": [
        "test_target"
      ],
      "execution_count": null,
      "outputs": [
        {
          "output_type": "execute_result",
          "data": {
            "text/plain": [
              "array([0, 0, 1, 0, 1, 1, 1, 0, 1, 1, 0, 1, 1, 0])"
            ]
          },
          "metadata": {},
          "execution_count": 19
        }
      ]
    },
    {
      "cell_type": "markdown",
      "source": [
        "`kn.predict`로 예측한 값과 같습니다."
      ],
      "metadata": {
        "id": "JYkMqBfWQlUX"
      }
    },
    {
      "cell_type": "markdown",
      "metadata": {
        "id": "fJIHcNNb7VQI"
      },
      "source": [
        "# **마무리**"
      ]
    },
    {
      "cell_type": "markdown",
      "metadata": {
        "id": "N_V3YOZC8A3f"
      },
      "source": [
        "## **키워드로 끝내는 핵심 포인트**"
      ]
    },
    {
      "cell_type": "markdown",
      "source": [
        "- 테스트 세트: 대체로 전체 데이터에서 *20~30%*를 테스트 세트로 사용합니다. 전체 데이터가 아주 크면 *1%*만 사용해도 충분합니다."
      ],
      "metadata": {
        "id": "J3oSgLE1CCta"
      }
    },
    {
      "cell_type": "markdown",
      "metadata": {
        "id": "v-xg2vEo83l1"
      },
      "source": [
        "## **핵심 패키지와 함수**"
      ]
    },
    {
      "cell_type": "markdown",
      "source": [
        "`shuffle` 메서드는 다차원 배열이면 행만 섞습니다. 열은 안 섞지 않습니다."
      ],
      "metadata": {
        "id": "KqU9AvJ_RTfn"
      }
    },
    {
      "cell_type": "code",
      "metadata": {
        "colab": {
          "base_uri": "https://localhost:8080/"
        },
        "id": "k8Snoq_h89M5",
        "outputId": "90e953d5-521f-4b44-bb2c-183c596dc5bf"
      },
      "source": [
        "arr = np.array([[1, 2], [3, 4], [5, 6]])\n",
        "np.random.shuffle(arr)\n",
        "print(arr)"
      ],
      "execution_count": null,
      "outputs": [
        {
          "output_type": "stream",
          "text": [
            "[[5 6]\n",
            " [1 2]\n",
            " [3 4]]\n"
          ],
          "name": "stdout"
        }
      ]
    }
  ]
}