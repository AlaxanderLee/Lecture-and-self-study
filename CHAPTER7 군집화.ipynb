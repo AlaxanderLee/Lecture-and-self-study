{
  "nbformat": 4,
  "nbformat_minor": 0,
  "metadata": {
    "colab": {
      "name": "CHAPTER7 군집화.ipynb",
      "provenance": [],
      "toc_visible": true,
      "collapsed_sections": [],
      "authorship_tag": "ABX9TyO0B6UFimt5KR5tuCpIZ/7e",
      "include_colab_link": true
    },
    "kernelspec": {
      "name": "python3",
      "display_name": "Python 3"
    },
    "language_info": {
      "name": "python"
    }
  },
  "cells": [
    {
      "cell_type": "markdown",
      "metadata": {
        "id": "view-in-github",
        "colab_type": "text"
      },
      "source": [
        "<a href=\"https://colab.research.google.com/github/LeeSeungwon89/Machine-learning_Theory/blob/master/CHAPTER7%20%EA%B5%B0%EC%A7%91%ED%99%94.ipynb\" target=\"_parent\"><img src=\"https://colab.research.google.com/assets/colab-badge.svg\" alt=\"Open In Colab\"/></a>"
      ]
    },
    {
      "cell_type": "markdown",
      "source": [
        "이틀 소요 예정"
      ],
      "metadata": {
        "id": "snNpxKi5cWXL"
      }
    },
    {
      "cell_type": "markdown",
      "source": [
        "# **1. K-평균 알고리즘 이해**"
      ],
      "metadata": {
        "id": "qhJa3zhQjFS6"
      }
    },
    {
      "cell_type": "markdown",
      "source": [
        "## **1.1. 사이킷런 KMeans 클래스 소개**"
      ],
      "metadata": {
        "id": "i-MLrE2tjFQG"
      }
    },
    {
      "cell_type": "markdown",
      "source": [
        "## **1.2. K-평균을 이용한 붓꽃 데이터 세트 군집화**"
      ],
      "metadata": {
        "id": "885KqN1OjFN5"
      }
    },
    {
      "cell_type": "markdown",
      "source": [
        "## **1.3. 군집화 알고리즘 테스트를 위한 데이터 생성**"
      ],
      "metadata": {
        "id": "85t-Ur3AjFLm"
      }
    },
    {
      "cell_type": "markdown",
      "source": [
        "# **2. 군집 평가(Cluster Evaluation)**"
      ],
      "metadata": {
        "id": "K5pyBdAejFJd"
      }
    },
    {
      "cell_type": "markdown",
      "source": [
        "## **2.1. 실루엣 분석의 개요**"
      ],
      "metadata": {
        "id": "HY-cyWlojFHQ"
      }
    },
    {
      "cell_type": "markdown",
      "source": [
        "## **2.2. 붓꽃 데이터 세트를 이용한 군집 평가**"
      ],
      "metadata": {
        "id": "6EO1VOkDjFFH"
      }
    },
    {
      "cell_type": "markdown",
      "source": [
        "## **2.3. 군집별 평균 실루엣 계수의 시각화를 통한 군집 개수 최적화 방법**"
      ],
      "metadata": {
        "id": "7PLNdY66jFCy"
      }
    },
    {
      "cell_type": "markdown",
      "source": [
        "# **3. 평균 이동**"
      ],
      "metadata": {
        "id": "HxL_ZkSAjFAs"
      }
    },
    {
      "cell_type": "markdown",
      "source": [
        "## **3.1. 평균 이동(Mean shift)의 개요**"
      ],
      "metadata": {
        "id": "AM_svJQsjE-Y"
      }
    },
    {
      "cell_type": "markdown",
      "source": [
        "# **4. GMM(Gaussian Mixture Model)**"
      ],
      "metadata": {
        "id": "_FGjQ0AvjE8g"
      }
    },
    {
      "cell_type": "markdown",
      "source": [
        "## **4.1. GMM 소개**"
      ],
      "metadata": {
        "id": "98xdIpiwj8Dj"
      }
    },
    {
      "cell_type": "markdown",
      "source": [
        "## **4.2. GMM을 이용한 붓꽃 데이터 세트 군집화**"
      ],
      "metadata": {
        "id": "ZHCKIKW5jE6B"
      }
    },
    {
      "cell_type": "markdown",
      "source": [
        "## **4.3. GMM과 K-평균의 비교**"
      ],
      "metadata": {
        "id": "8qgf7LEXjE4E"
      }
    },
    {
      "cell_type": "markdown",
      "source": [
        "# **5. DBSCAN**"
      ],
      "metadata": {
        "id": "NXc1MEWajE1s"
      }
    },
    {
      "cell_type": "markdown",
      "source": [
        "## **5.1. DBSCAN 개요**"
      ],
      "metadata": {
        "id": "gFsBlCY0jEzo"
      }
    },
    {
      "cell_type": "markdown",
      "source": [
        "## **5.2. DBSCAN 적용하기 - 붓꽃 데이터 세트**"
      ],
      "metadata": {
        "id": "XURO-tb_jExc"
      }
    },
    {
      "cell_type": "markdown",
      "source": [
        "## **5.3. DBSCAN 적용하기 - make_circles() 데이터 세트**"
      ],
      "metadata": {
        "id": "OK4nbt39jEvX"
      }
    },
    {
      "cell_type": "markdown",
      "source": [
        "# **6. 군집화 실습 - 고객 세그먼테이션**"
      ],
      "metadata": {
        "id": "uPIorvHbjEtO"
      }
    },
    {
      "cell_type": "markdown",
      "source": [
        "## **6.1. 데이터 세트 로딩과 데이터 클렌징**"
      ],
      "metadata": {
        "id": "eJJsPtZOjErE"
      }
    },
    {
      "cell_type": "markdown",
      "source": [
        "## **6.2. RFM 기반 데이터 가공**"
      ],
      "metadata": {
        "id": "uMmHC1xzjEoz"
      }
    },
    {
      "cell_type": "markdown",
      "source": [
        "## **6.3. RFM 기반 고객 세그먼테이션**"
      ],
      "metadata": {
        "id": "dLXKrz_2jEmr"
      }
    },
    {
      "cell_type": "markdown",
      "source": [
        "# **7. 정리**"
      ],
      "metadata": {
        "id": "6TynciBXjEkg"
      }
    }
  ]
}