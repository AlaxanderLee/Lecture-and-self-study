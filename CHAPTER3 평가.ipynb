{
  "nbformat": 4,
  "nbformat_minor": 0,
  "metadata": {
    "colab": {
      "name": "CHAPTER3 평가.ipynb",
      "provenance": [],
      "toc_visible": true,
      "authorship_tag": "ABX9TyM5hu8JN96yw/diHVYxaq24",
      "include_colab_link": true
    },
    "kernelspec": {
      "name": "python3",
      "display_name": "Python 3"
    },
    "language_info": {
      "name": "python"
    }
  },
  "cells": [
    {
      "cell_type": "markdown",
      "metadata": {
        "id": "view-in-github",
        "colab_type": "text"
      },
      "source": [
        "<a href=\"https://colab.research.google.com/github/LeeSeungwon89/Machine-learning_Theory/blob/master/CHAPTER3%20%ED%8F%89%EA%B0%80.ipynb\" target=\"_parent\"><img src=\"https://colab.research.google.com/assets/colab-badge.svg\" alt=\"Open In Colab\"/></a>"
      ]
    },
    {
      "cell_type": "markdown",
      "source": [
        "# **들어가며**"
      ],
      "metadata": {
        "id": "fpZeqHxHYdTO"
      }
    },
    {
      "cell_type": "markdown",
      "source": [
        "# **1. 정확도(Accuracy)**"
      ],
      "metadata": {
        "id": "gPxbVrwQYdQu"
      }
    },
    {
      "cell_type": "markdown",
      "source": [
        "# **2. 오차 행렬**"
      ],
      "metadata": {
        "id": "6NLMfL89YdOK"
      }
    },
    {
      "cell_type": "markdown",
      "source": [
        "# **3. 정밀도와 재현율**"
      ],
      "metadata": {
        "id": "YxD3R51fYdLj"
      }
    },
    {
      "cell_type": "markdown",
      "source": [
        "## **3.1. 정밀도/재현율 트레이드오프**"
      ],
      "metadata": {
        "id": "JenR9t3VYdI-"
      }
    },
    {
      "cell_type": "markdown",
      "source": [
        "## **3.2. 정밀도와 재현율의 맹점**"
      ],
      "metadata": {
        "id": "Or6OA-dwYdGb"
      }
    },
    {
      "cell_type": "markdown",
      "source": [
        "### **3.2.1. 정밀도가 100%가 되는 방법**"
      ],
      "metadata": {
        "id": "ZLEsf4HuYdD2"
      }
    },
    {
      "cell_type": "markdown",
      "source": [
        "### **3.2.2. 재현율이 100%가 되는 방법**"
      ],
      "metadata": {
        "id": "v_RDgc1wYdBZ"
      }
    },
    {
      "cell_type": "markdown",
      "source": [
        "# **4. F1 스코어**"
      ],
      "metadata": {
        "id": "YqAaCD9kYc-y"
      }
    },
    {
      "cell_type": "markdown",
      "source": [
        "# **5. ROC 곡선과 AUC**"
      ],
      "metadata": {
        "id": "1MJCOAZnZAVx"
      }
    },
    {
      "cell_type": "markdown",
      "source": [
        "# **6. 파마 인디언 당뇨병 예측**"
      ],
      "metadata": {
        "id": "LZdQFoGzZATJ"
      }
    },
    {
      "cell_type": "markdown",
      "source": [
        "# **7. 정리**"
      ],
      "metadata": {
        "id": "zS098Ck9ZAQk"
      }
    }
  ]
}