{
  "nbformat": 4,
  "nbformat_minor": 0,
  "metadata": {
    "colab": {
      "name": "3-3 특성 공학과 규제.ipynb",
      "provenance": [],
      "collapsed_sections": [],
      "toc_visible": true,
      "authorship_tag": "ABX9TyMlGgElNZ3kmjoGIxKuGG4c",
      "include_colab_link": true
    },
    "kernelspec": {
      "name": "python3",
      "display_name": "Python 3"
    },
    "language_info": {
      "name": "python"
    }
  },
  "cells": [
    {
      "cell_type": "markdown",
      "metadata": {
        "id": "view-in-github",
        "colab_type": "text"
      },
      "source": [
        "<a href=\"https://colab.research.google.com/github/LeeSeungwon89/Machine-learning_Theory/blob/master/3-3%20%ED%8A%B9%EC%84%B1%20%EA%B3%B5%ED%95%99%EA%B3%BC%20%EA%B7%9C%EC%A0%9C.ipynb\" target=\"_parent\"><img src=\"https://colab.research.google.com/assets/colab-badge.svg\" alt=\"Open In Colab\"/></a>"
      ]
    },
    {
      "cell_type": "markdown",
      "metadata": {
        "id": "IrePwOCDWiA_"
      },
      "source": [
        "# **특성 공학과 규제**"
      ]
    },
    {
      "cell_type": "markdown",
      "metadata": {
        "id": "vUfsynBaOtCZ"
      },
      "source": [
        "## **다중 회귀**"
      ]
    },
    {
      "cell_type": "markdown",
      "source": [
        "**다중 회귀(multiple regression)**는 여러 특성을 사용한 선형 회귀입니다. 특성이 많을수록 좋은 결과값을 내며, 특성이 많은 고차원에서는 선형 회귀가 매우 복잡한 모델을 표현합니다. 에컨대 특성이 2개이면 3차원 공간을 형성하고, 선형 회귀는 평면을 학습합니다. 방정식은 아래 형태를 가집니다.\n",
        "\n",
        "$$타깃 = a \\times 특성1 + b \\times 특성2 + 절편$$"
      ],
      "metadata": {
        "id": "y_f-XhhcNPT8"
      }
    },
    {
      "cell_type": "markdown",
      "metadata": {
        "id": "74rMpc-HgBY-"
      },
      "source": [
        "## **특성 공학**"
      ]
    },
    {
      "cell_type": "markdown",
      "source": [
        "**특성 공학(feature engineering)**은 존재하는 특성을 사용하여 새로운 특성을 생성하는 작업입니다. 각 특성을 서로 곱해서 또 다른 특성을 생성하는 것입니다. 예컨대 농어 길이와 농어 높이를 곱하여 새로운 특성을 생성할 수 있습니다."
      ],
      "metadata": {
        "id": "dABCwOTPOCL2"
      }
    },
    {
      "cell_type": "markdown",
      "metadata": {
        "id": "_n73VYOJhtcf"
      },
      "source": [
        "## **데이터 준비**"
      ]
    },
    {
      "cell_type": "markdown",
      "source": [
        "농어 데이터의 특성이 길이와 높이, 두께까지 3개로 늘어났습니다. 판다스의 `read_csv()` 메서드를 사용하여 데이터를 부르겠습니다."
      ],
      "metadata": {
        "id": "fKCqXfP3QZtx"
      }
    },
    {
      "cell_type": "code",
      "metadata": {
        "colab": {
          "base_uri": "https://localhost:8080/"
        },
        "id": "Jatf4KMyhtJv",
        "outputId": "18f4a1f3-a51c-460e-f7cf-7ef583722749"
      },
      "source": [
        "import pandas as pd\n",
        "\n",
        "df = pd.read_csv('https://bit.ly/perch_csv_data')\n",
        "print(df[:5])"
      ],
      "execution_count": 6,
      "outputs": [
        {
          "output_type": "stream",
          "name": "stdout",
          "text": [
            "   length   height   width\n",
            "0     8.4     2.11    1.41\n",
            "1    13.7     3.53    2.00\n",
            "2    15.0     3.82    2.43\n",
            "3    16.2     4.59    2.63\n",
            "4    17.4     4.59    2.94\n"
          ]
        }
      ]
    },
    {
      "cell_type": "markdown",
      "source": [
        "넘파이 배열로 바꾸겠습니다."
      ],
      "metadata": {
        "id": "fG01VJBORyhe"
      }
    },
    {
      "cell_type": "code",
      "source": [
        "perch_full = df.to_numpy()\n",
        "print(perch_full[:5])"
      ],
      "metadata": {
        "colab": {
          "base_uri": "https://localhost:8080/"
        },
        "id": "gHiqozmsRs36",
        "outputId": "ff4030cd-116a-4055-d720-1dfce65c7a65"
      },
      "execution_count": 9,
      "outputs": [
        {
          "output_type": "stream",
          "name": "stdout",
          "text": [
            "[[ 8.4   2.11  1.41]\n",
            " [13.7   3.53  2.  ]\n",
            " [15.    3.82  2.43]\n",
            " [16.2   4.59  2.63]\n",
            " [17.4   4.59  2.94]]\n"
          ]
        }
      ]
    },
    {
      "cell_type": "markdown",
      "source": [
        "농어의 타깃 데이터는 이전 챕터에서 사용했던 동일한 무게 데이터입니다."
      ],
      "metadata": {
        "id": "eFU8WX42R6rA"
      }
    },
    {
      "cell_type": "code",
      "metadata": {
        "id": "EYiSgCPkvtUC"
      },
      "source": [
        "import numpy as np\n",
        "\n",
        "perch_weight = np.array(\n",
        "    [5.9, 32.0, 40.0, 51.5, 70.0, 100.0, 78.0, 80.0, 85.0, 85.0, \n",
        "     110.0, 115.0, 125.0, 130.0, 120.0, 120.0, 130.0, 135.0, 110.0, \n",
        "     130.0, 150.0, 145.0, 150.0, 170.0, 225.0, 145.0, 188.0, 180.0, \n",
        "     197.0, 218.0, 300.0, 260.0, 265.0, 250.0, 250.0, 300.0, 320.0, \n",
        "     514.0, 556.0, 840.0, 685.0, 700.0, 700.0, 690.0, 900.0, 650.0, \n",
        "     820.0, 850.0, 900.0, 1015.0, 820.0, 1100.0, 1000.0, 1100.0, \n",
        "     1000.0, 1000.0]\n",
        "     )"
      ],
      "execution_count": 12,
      "outputs": []
    },
    {
      "cell_type": "markdown",
      "source": [
        "훈련 세트와 테스트 세트로 나누겠습니다."
      ],
      "metadata": {
        "id": "1wwYCDOsSE34"
      }
    },
    {
      "cell_type": "code",
      "metadata": {
        "colab": {
          "base_uri": "https://localhost:8080/"
        },
        "id": "oSNLy40YwbXn",
        "outputId": "49e58b33-b7ac-4e26-c6a5-0abf3eefa4cc"
      },
      "source": [
        "from sklearn.model_selection import train_test_split\n",
        "\n",
        "train_input, test_input, train_target, test_target = train_test_split(\n",
        "    perch_full, perch_weight, random_state=42)\n",
        "\n",
        "print(f'train_input[:5]:\\n{train_input[:5]}')\n",
        "print()\n",
        "print(f'train_target[:5]:\\n{train_target[:5]}')\n",
        "print()\n",
        "print(f'test_input[:5]:\\n{test_input[:5]}')\n",
        "print()\n",
        "print(f'test_target[:5]:\\n{test_target[:5]}')"
      ],
      "execution_count": 15,
      "outputs": [
        {
          "output_type": "stream",
          "name": "stdout",
          "text": [
            "train_input[:5]:\n",
            "[[19.6   5.14  3.04]\n",
            " [22.    5.88  3.52]\n",
            " [18.7   5.2   3.12]\n",
            " [17.4   4.59  2.94]\n",
            " [36.   10.61  6.74]]\n",
            "\n",
            "train_target[:5]:\n",
            "[ 85. 135.  78.  70. 700.]\n",
            "\n",
            "test_input[:5]:\n",
            "[[ 8.4   2.11  1.41]\n",
            " [18.    5.22  3.32]\n",
            " [27.5   7.28  4.57]\n",
            " [21.3   6.38  3.53]\n",
            " [22.5   5.86  3.62]]\n",
            "\n",
            "test_target[:5]:\n",
            "[  5.9 100.  250.  130.  130. ]\n"
          ]
        }
      ]
    },
    {
      "cell_type": "markdown",
      "metadata": {
        "id": "t9r1KVuQQrrZ"
      },
      "source": [
        "## **사이킷런의 변환기**"
      ]
    },
    {
      "cell_type": "markdown",
      "source": [
        "**사이킷런(scikit-learn)**은 특성을 만들거나 전처리하기 위한 다양한 클래스인 **변환기(transformer)**를 포함합니다. 사이킷런의 모델 클래스는 `fit()`, `score()`, `predict()` 메서드를 공통적으로 포함하고, 변환기 클래스는 `fit()`, `transform()`메서드를 포함합니다. 변환기 클래스와 메서드는 직접 사용하면서 설명하겠습니다."
      ],
      "metadata": {
        "id": "iUMxRjRES7lh"
      }
    },
    {
      "cell_type": "markdown",
      "metadata": {
        "id": "NadU1MnYRUGY"
      },
      "source": [
        "### **PolynomialFeatures 클래스**"
      ]
    },
    {
      "cell_type": "markdown",
      "source": [
        "`PolynomialFeatures` 클래스는 `sklearn.preprocessing` 패키지에 포함되어 있습니다. 각 특성을 제곱한 항을 추가하고, 각 특성끼리 곱한 항을 추가하는 클래스입니다. 관련 매개변수 목록은 아래와 같습니다.\n",
        "\n",
        "- `degree`: 최고 차수를 정하는 매개변수입니다. 기본값은 `2`입니다.\n",
        "\n",
        "- `interaction_only`: `True`이면 거듭제곱 항은 제외하고 특성 간 곱셈 항만 추가되도록 지정하는 매개변수합니다. 기본값은 `False`입니다.\n",
        "\n",
        "- `include_bias`: `False`이면 절편을 위한 특성을 추가하지 않도록 지정하는 매개변수입니다. 기본값은 `True`입니다.\n",
        "\n",
        "`PolynomialFeatures` 클래스에 특성 2와 3으로 이뤄진 샘플을 적용하겠습니다. 먼저 `PolynomialFeatures()` 클래스 생성자로 `poly` 인스턴스를 선언하겠습니다. `fit()` 메서드로 새롭게 만들 특성 조합을 찾고, `transform()` 메서드로 데이터를 변환하겠습니다."
      ],
      "metadata": {
        "id": "OlofZ6V1T6jE"
      }
    },
    {
      "cell_type": "code",
      "metadata": {
        "colab": {
          "base_uri": "https://localhost:8080/"
        },
        "id": "Wzkk45ZZQpBc",
        "outputId": "c84ba540-a608-4a45-b119-e87b433d5b8b"
      },
      "source": [
        "from sklearn.preprocessing import PolynomialFeatures\n",
        "\n",
        "poly = PolynomialFeatures()\n",
        "\n",
        "poly.fit([[2, 3]])\n",
        "print(poly.transform([[2, 3]]))"
      ],
      "execution_count": 16,
      "outputs": [
        {
          "output_type": "stream",
          "name": "stdout",
          "text": [
            "[[1. 2. 3. 4. 6. 9.]]\n"
          ]
        }
      ]
    },
    {
      "cell_type": "markdown",
      "source": [
        "특성으로 1, 2, 3과 2의 제곱인 4, 3의 제곱인 9, 2와 3을 곱한 6이 출력되었습니다. 1이 추가된 이유는 선형 방정식의 절편이 항상 값이 1인 특성과 곱해지는 계수이기 때문입니다. 다시 말하면 $무게 = a \\times 길이 + b \\times 높이 + c \\times 두께 + d \\times 1$이므로, 특성은 (길이, 높이, 두께, 1)이 됩니다.\n",
        "\n",
        "`include_bias=False` 매개변수로 지정하여 절편을 제거하겠습니다."
      ],
      "metadata": {
        "id": "ApZXfwJ8V3OU"
      }
    },
    {
      "cell_type": "code",
      "source": [
        "poly = PolynomialFeatures(include_bias=False)\n",
        "poly.fit([[2, 3]])\n",
        "\n",
        "print(poly.transform([[2, 3]]))"
      ],
      "metadata": {
        "colab": {
          "base_uri": "https://localhost:8080/"
        },
        "id": "afM_P1GxV70x",
        "outputId": "7574f4eb-974f-4b75-f32e-b2cb50f69097"
      },
      "execution_count": 18,
      "outputs": [
        {
          "output_type": "stream",
          "name": "stdout",
          "text": [
            "[[2. 3. 4. 6. 9.]]\n"
          ]
        }
      ]
    },
    {
      "cell_type": "markdown",
      "source": [
        "`fit()` 메서드와 `transform()` 메서드를 합친 `fit_transform()` 메서드도 사용할 수 있습니다."
      ],
      "metadata": {
        "id": "4wH3G_pprMuF"
      }
    },
    {
      "cell_type": "code",
      "source": [
        "print(poly.fit_transform([[2, 3]]))"
      ],
      "metadata": {
        "colab": {
          "base_uri": "https://localhost:8080/"
        },
        "id": "gxt1S-KvrLWG",
        "outputId": "4452b545-c244-41a7-eb47-f1d479774427"
      },
      "execution_count": 19,
      "outputs": [
        {
          "output_type": "stream",
          "name": "stdout",
          "text": [
            "[[2. 3. 4. 6. 9.]]\n"
          ]
        }
      ]
    },
    {
      "cell_type": "markdown",
      "source": [
        "이제 같은 방식으로 `train_input`에 적용하겠습니다."
      ],
      "metadata": {
        "id": "GdU52Uy5rnxm"
      }
    },
    {
      "cell_type": "code",
      "metadata": {
        "colab": {
          "base_uri": "https://localhost:8080/"
        },
        "id": "3xLZ5BCtRncF",
        "outputId": "ba292bb7-4f1e-40b3-d101-a90e73da7ac3"
      },
      "source": [
        "poly = PolynomialFeatures(include_bias=False)\n",
        "poly.fit(train_input)\n",
        "# `train_poly`에 변환한 값을 저장합니다.\n",
        "train_poly = poly.transform(train_input)\n",
        "\n",
        "print(f'train_poly[:5]:\\n{train_poly[:5]}')\n",
        "print(train_poly.shape)"
      ],
      "execution_count": 22,
      "outputs": [
        {
          "output_type": "stream",
          "name": "stdout",
          "text": [
            "train_poly[:5]:\n",
            "[[  19.6       5.14      3.04    384.16    100.744    59.584    26.4196\n",
            "    15.6256    9.2416]\n",
            " [  22.        5.88      3.52    484.      129.36     77.44     34.5744\n",
            "    20.6976   12.3904]\n",
            " [  18.7       5.2       3.12    349.69     97.24     58.344    27.04\n",
            "    16.224     9.7344]\n",
            " [  17.4       4.59      2.94    302.76     79.866    51.156    21.0681\n",
            "    13.4946    8.6436]\n",
            " [  36.       10.61      6.74   1296.      381.96    242.64    112.5721\n",
            "    71.5114   45.4276]]\n",
            "(42, 9)\n"
          ]
        }
      ]
    },
    {
      "cell_type": "markdown",
      "source": [
        "`get_feature_names_out()` 메서드를 호출하여 특성 9개가 어떤 특성 조합으로 만들어졌는지 확인하겠습니다."
      ],
      "metadata": {
        "id": "vr46iEyGsIYn"
      }
    },
    {
      "cell_type": "code",
      "metadata": {
        "colab": {
          "base_uri": "https://localhost:8080/"
        },
        "id": "5VYhTVujXfEN",
        "outputId": "56b85810-9e79-48e7-f628-79f701008b53"
      },
      "source": [
        "print(poly.get_feature_names_out())"
      ],
      "execution_count": 25,
      "outputs": [
        {
          "output_type": "stream",
          "name": "stdout",
          "text": [
            "['x0' 'x1' 'x2' 'x0^2' 'x0 x1' 'x0 x2' 'x1^2' 'x1 x2' 'x2^2']\n"
          ]
        }
      ]
    },
    {
      "cell_type": "markdown",
      "source": [
        "`test_input`도 변환하겠습니다. 이미 `train_input`으로 훈련했기 때문에 `test_input`은 별도로 훈련할 필요가 없습니다. "
      ],
      "metadata": {
        "id": "_8xWcqkztBiS"
      }
    },
    {
      "cell_type": "code",
      "metadata": {
        "colab": {
          "base_uri": "https://localhost:8080/"
        },
        "id": "u1COYqQIX6cw",
        "outputId": "3fb3078b-3a38-4a51-b057-c8e51b8664a0"
      },
      "source": [
        "test_poly = poly.transform(test_input)\n",
        "print(test_poly[:5])"
      ],
      "execution_count": 26,
      "outputs": [
        {
          "output_type": "stream",
          "name": "stdout",
          "text": [
            "[[  8.4      2.11     1.41    70.56    17.724   11.844    4.4521   2.9751\n",
            "    1.9881]\n",
            " [ 18.       5.22     3.32   324.      93.96    59.76    27.2484  17.3304\n",
            "   11.0224]\n",
            " [ 27.5      7.28     4.57   756.25   200.2    125.675   52.9984  33.2696\n",
            "   20.8849]\n",
            " [ 21.3      6.38     3.53   453.69   135.894   75.189   40.7044  22.5214\n",
            "   12.4609]\n",
            " [ 22.5      5.86     3.62   506.25   131.85    81.45    34.3396  21.2132\n",
            "   13.1044]]\n"
          ]
        }
      ]
    },
    {
      "cell_type": "markdown",
      "metadata": {
        "id": "LTfuzQc7Y21b"
      },
      "source": [
        "## **다중 회귀 모델 훈련하기**"
      ]
    },
    {
      "cell_type": "markdown",
      "source": [
        "위에서 생성한 훈련 세트와 테스트 세트로 모델을 훈련하겠습니다."
      ],
      "metadata": {
        "id": "jE4DSYyFthH9"
      }
    },
    {
      "cell_type": "code",
      "metadata": {
        "colab": {
          "base_uri": "https://localhost:8080/"
        },
        "id": "u8mVjxRhY1bq",
        "outputId": "f60743f9-8151-4b11-d495-d9523bfbe464"
      },
      "source": [
        "from sklearn.linear_model import LinearRegression\n",
        "\n",
        "lr = LinearRegression()\n",
        "lr.fit(train_poly, train_target)\n",
        "\n",
        "print(lr.score(train_poly, train_target))\n",
        "print(lr.score(test_poly, test_target))"
      ],
      "execution_count": 27,
      "outputs": [
        {
          "output_type": "stream",
          "name": "stdout",
          "text": [
            "0.9903183436982124\n",
            "0.9714559911594132\n"
          ]
        }
      ]
    },
    {
      "cell_type": "markdown",
      "source": [
        "과소적합은 해결되었지만 두 점수간 균형점을 더 찾아보겠습니다. `PolynomialFeatures` 클래스의 `degree` 매개변수로 고차항의 최대 차수를 지정하여 특성을 더 추가하겠습니다."
      ],
      "metadata": {
        "id": "pA5m3-ZTttya"
      }
    },
    {
      "cell_type": "code",
      "metadata": {
        "colab": {
          "base_uri": "https://localhost:8080/"
        },
        "id": "8wgbl6KcaFcN",
        "outputId": "78f255ef-00eb-45b3-c864-1d9c586099ee"
      },
      "source": [
        "poly = PolynomialFeatures(degree=5, include_bias=False)\n",
        "poly.fit(train_input)\n",
        "\n",
        "train_poly = poly.transform(train_input)\n",
        "test_poly = poly.transform(test_input)\n",
        "print(f'train_poly[0]:\\n{train_poly[0]}')\n",
        "print(train_poly.shape)\n",
        "print()\n",
        "print(f'test_poly[0]:\\n{test_poly[0]}')\n",
        "print(test_poly.shape)"
      ],
      "execution_count": 33,
      "outputs": [
        {
          "output_type": "stream",
          "name": "stdout",
          "text": [
            "train_poly[0]:\n",
            "[1.96000000e+01 5.14000000e+00 3.04000000e+00 3.84160000e+02\n",
            " 1.00744000e+02 5.95840000e+01 2.64196000e+01 1.56256000e+01\n",
            " 9.24160000e+00 7.52953600e+03 1.97458240e+03 1.16784640e+03\n",
            " 5.17824160e+02 3.06261760e+02 1.81135360e+02 1.35796744e+02\n",
            " 8.03155840e+01 4.75018240e+01 2.80944640e+01 1.47578906e+05\n",
            " 3.87018150e+04 2.28897894e+04 1.01493535e+04 6.00273050e+03\n",
            " 3.55025306e+03 2.66161618e+03 1.57418545e+03 9.31035750e+02\n",
            " 5.50651494e+02 6.97995264e+02 4.12822102e+02 2.44159375e+02\n",
            " 1.44405545e+02 8.54071706e+01 2.89254655e+06 7.58555575e+05\n",
            " 4.48639873e+05 1.98927329e+05 1.17653518e+05 6.95849599e+04\n",
            " 5.21676772e+04 3.08540347e+04 1.82483007e+04 1.07927693e+04\n",
            " 1.36807072e+04 8.09131319e+03 4.78552376e+03 2.83034868e+03\n",
            " 1.67398054e+03 3.58769566e+03 2.12190560e+03 1.25497919e+03\n",
            " 7.42244501e+02 4.38992857e+02 2.59637799e+02]\n",
            "(42, 55)\n",
            "\n",
            "test_poly[0]:\n",
            "[8.40000000e+00 2.11000000e+00 1.41000000e+00 7.05600000e+01\n",
            " 1.77240000e+01 1.18440000e+01 4.45210000e+00 2.97510000e+00\n",
            " 1.98810000e+00 5.92704000e+02 1.48881600e+02 9.94896000e+01\n",
            " 3.73976400e+01 2.49908400e+01 1.67000400e+01 9.39393100e+00\n",
            " 6.27746100e+00 4.19489100e+00 2.80322100e+00 4.97871360e+03\n",
            " 1.25060544e+03 8.35712640e+02 3.14140176e+02 2.09923056e+02\n",
            " 1.40280336e+02 7.89090204e+01 5.27306724e+01 3.52370844e+01\n",
            " 2.35470564e+01 1.98211944e+01 1.32454427e+01 8.85122001e+00\n",
            " 5.91479631e+00 3.95254161e+00 4.18211942e+04 1.05050857e+04\n",
            " 7.01998618e+03 2.63877748e+03 1.76335367e+03 1.17835482e+03\n",
            " 6.62835771e+02 4.42937648e+02 2.95991509e+02 1.97795274e+02\n",
            " 1.66498033e+02 1.11261719e+02 7.43502481e+01 4.96842890e+01\n",
            " 3.32013495e+01 4.18227202e+01 2.79478841e+01 1.86760742e+01\n",
            " 1.24802202e+01 8.33986280e+00 5.57308367e+00]\n",
            "(14, 55)\n"
          ]
        }
      ]
    },
    {
      "cell_type": "markdown",
      "source": [
        "특성 55개가 만들어졌습니다."
      ],
      "metadata": {
        "id": "cCSjwSDzuXB7"
      }
    },
    {
      "cell_type": "code",
      "metadata": {
        "colab": {
          "base_uri": "https://localhost:8080/"
        },
        "id": "YosqKNKVbQl-",
        "outputId": "3dc09f5c-648d-46fa-a2e9-963662dc0d79"
      },
      "source": [
        "lr.fit(train_poly, train_target)\n",
        "\n",
        "print(lr.score(train_poly, train_target))\n",
        "print(lr.score(test_poly, test_target))"
      ],
      "execution_count": 34,
      "outputs": [
        {
          "output_type": "stream",
          "name": "stdout",
          "text": [
            "0.9999999999991096\n",
            "-144.40579242335605\n"
          ]
        }
      ]
    },
    {
      "cell_type": "markdown",
      "source": [
        "훈련 세트에 대한 점수는 거의 완벽한 수준입니다. 그러나 테스트 세트에 대한 점수는 음수입니다. 특성의 개수를 늘리면 선형 모델이 매우 강력해지지만 훈련 세트에 지나치게 과대적합됩니다. 특성을 줄일 필요가 있습니다."
      ],
      "metadata": {
        "id": "BIJnWiSyzOnM"
      }
    },
    {
      "cell_type": "markdown",
      "metadata": {
        "id": "fARLMZH7cNxk"
      },
      "source": [
        "### **규제**"
      ]
    },
    {
      "cell_type": "markdown",
      "source": [
        "**규제(regularization)**는 모델이 훈련 세트를 과하게 학습하지 못하도록(과대적합되지 않도록) 조치하는 작업입니다. 선형 회귀 모델의 경우 계수 크기를 작게 만듭니다.\n",
        "\n",
        "다만 선형 회귀 모델에 규제를 적용할 때 계수가 많이 다르면 공정하게 제어되지 않습니다. 특성 스케일이 정규화되지 않으면 곱해지는 계수 값도 차이가 나기 때문입니다. 따라서 변환기인 `StandardScaler` 클래스를 사용하여 특성 스케일을 정규화해야 합니다. `StandardScaler` 클래스는 평균과 표준편차를 구하여 표준점수로 변환해주는 클래스입니다."
      ],
      "metadata": {
        "id": "IjkpPkCp0KT9"
      }
    },
    {
      "cell_type": "code",
      "metadata": {
        "id": "uXm6QsXRdN9e",
        "colab": {
          "base_uri": "https://localhost:8080/"
        },
        "outputId": "7a060aca-c956-408f-99a3-467179fa80ad"
      },
      "source": [
        "from sklearn.preprocessing import StandardScaler\n",
        "\n",
        "ss = StandardScaler()\n",
        "ss.fit(train_poly) \n",
        "\n",
        "train_scaled = ss.transform(train_poly)\n",
        "test_scaled = ss.transform(test_poly)\n",
        "\n",
        "print(f'train_scaled[0]:\\n{train_scaled[0]}')\n",
        "print(train_scaled.shape)\n",
        "print()\n",
        "print(f'test_scaled[0]:\\n{test_scaled[0]}')\n",
        "print(test_scaled.shape)"
      ],
      "execution_count": 44,
      "outputs": [
        {
          "output_type": "stream",
          "name": "stdout",
          "text": [
            "train_scaled[0]:\n",
            "[-1.01339619 -1.01007487 -1.01952321 -0.9549757  -0.9496784  -0.95745849\n",
            " -0.93942079 -0.94342509 -0.94100107 -0.88757122 -0.88399964 -0.89100599\n",
            " -0.87785292 -0.88311456 -0.88430909 -0.8691891  -0.87259422 -0.87147928\n",
            " -0.86603533 -0.82233944 -0.82171953 -0.8280588  -0.81928269 -0.82512549\n",
            " -0.8278857  -0.81486775 -0.82006923 -0.82177279 -0.82010716 -0.80835934\n",
            " -0.81274154 -0.81321125 -0.8098514  -0.80275974 -0.7637909  -0.76597773\n",
            " -0.77150714 -0.76668667 -0.77246614 -0.77577893 -0.76571689 -0.77162398\n",
            " -0.77472752 -0.77517751 -0.76290623 -0.76877311 -0.77148634 -0.77113383\n",
            " -0.767785   -0.75814062 -0.76376113 -0.76586966 -0.76449499 -0.75967179\n",
            " -0.75143746]\n",
            "(42, 55)\n",
            "\n",
            "test_scaled[0]:\n",
            "[-2.29657672 -2.0645632  -1.95288184 -1.55255604 -1.46585499 -1.45227925\n",
            " -1.38306012 -1.36853915 -1.3414385  -1.16487216 -1.12766176 -1.12993021\n",
            " -1.09096504 -1.0919529  -1.08681842 -1.05473034 -1.05422049 -1.04733556\n",
            " -1.03445922 -0.95097661 -0.93581382 -0.94095847 -0.92003743 -0.92481854\n",
            " -0.9257405  -0.90344054 -0.9076728  -0.90768173 -0.90365223 -0.88585964\n",
            " -0.88933355 -0.8882214  -0.88265495 -0.87279092 -0.82345261 -0.81922614\n",
            " -0.82441462 -0.81401521 -0.81951597 -0.82223805 -0.80760074 -0.81327179\n",
            " -0.81584326 -0.81548696 -0.79980303 -0.80545985 -0.80768359 -0.80657966\n",
            " -0.80223729 -0.79049072 -0.7959136  -0.79756241 -0.7954801  -0.78971903\n",
            " -0.78033726]\n",
            "(14, 55)\n"
          ]
        }
      ]
    },
    {
      "cell_type": "markdown",
      "source": [
        "`StandardScaler` 클래스 객체의 `mean_` 속성에는 평균, `scale_` 속성에는 표준편차가 저장됩니다."
      ],
      "metadata": {
        "id": "eDTjg2Qp1Qfi"
      }
    },
    {
      "cell_type": "code",
      "source": [
        "print(f'ss.mean_[:3]: {ss.mean_[:3]}')\n",
        "print(f'ss.scale_[:3]: {ss.scale_[:3]}')"
      ],
      "metadata": {
        "colab": {
          "base_uri": "https://localhost:8080/"
        },
        "id": "69-YAWZM1SVT",
        "outputId": "4377961f-7344-4e83-f2bd-4d4f3f721dd1"
      },
      "execution_count": 40,
      "outputs": [
        {
          "output_type": "stream",
          "name": "stdout",
          "text": [
            "ss.mean_[:3]: [28.4452381   8.04238095  4.82047619]\n",
            "ss.scale_[:3]: [8.72831196 2.87343151 1.74638123]\n"
          ]
        }
      ]
    },
    {
      "cell_type": "markdown",
      "metadata": {
        "id": "DXyrILc6b-4n"
      },
      "source": [
        "#### **릿지 회귀**"
      ]
    },
    {
      "cell_type": "markdown",
      "source": [
        "**릿지(ridge)**는 계수를 제곱한 값을 기준으로 규제를 적용한 선형 회귀 모델입니다. 선형 모델의 계수 크기를 줄여서 과대적합을 줄입니다. 일반적으로 아래에서 서술할 **라쏘(lasso)**보다 더 선호되는 모델입니다. `sklearn.linear_model` 패키지에 `Ridge` 클래스가 포함되어 있습니다. 아래는 `Ridge` 클래스가 가진 매개변수 목록입니다.\n",
        "\n",
        "- `alpha`: 규제 강도를 조절하는 매개변수입니다. 기본값은 `1`입니다.\n",
        "\n",
        "  - `alpha` 값이 크면 규제 강도가 세지며, 계수 값을 더 줄이고 과소적합됩니다.\n",
        "\n",
        "  - `alpha` 값이 작으면 규제 강도가 약해지며, 계수 값을 덜 줄이고 과대적합됩니다.\n",
        "\n",
        "- `solver`: 최적의 모델을 찾기 위한 방법을 지정하는 매개변수입니다. 기본값은 `auto`입니다. 특성과 샘플이 많을 경우엔 `saga`를 지정하여 **확률적 평균 경사 하강법** 알고리즘을 사용합니다. 성능이 빠르고 좋습니다. **4-2 확률적 경사 하강법** 챕터에서 다시 설명하겠습니다.\n",
        "\n",
        "- `random_state`: `saga`일 경우에 넘파이 난수 시드값을 지정하는 매개변수입니다.\n",
        "\n",
        "참고로 **하이퍼파라미터(hyperparameter)**는 사람이 직접 지정해야 하는 파라미터입니다. 예컨대 `alpha` 매개변수의 값은 사람이 직접 지정하므로 하이퍼파라미터입니다.\n",
        "\n"
      ],
      "metadata": {
        "id": "ccjKlOuw2vPL"
      }
    },
    {
      "cell_type": "markdown",
      "source": [
        "이제 릿지 모델을 훈련하겠습니다. 사이킷런을 사용하는 방법과 동일합니다."
      ],
      "metadata": {
        "id": "gEcN83Q25aR1"
      }
    },
    {
      "cell_type": "code",
      "metadata": {
        "colab": {
          "base_uri": "https://localhost:8080/"
        },
        "id": "zgBfRtlOaNgr",
        "outputId": "452a3452-d08c-4b62-a7d7-8302c766bc54"
      },
      "source": [
        "from sklearn.linear_model import Ridge\n",
        "\n",
        "ridge = Ridge()\n",
        "ridge.fit(train_scaled, train_target)\n",
        "\n",
        "print(f'훈련 세트 점수:   {ridge.score(train_scaled, train_target)}')\n",
        "print(f'테스트 세트 점수: {ridge.score(test_scaled, test_target)}')"
      ],
      "execution_count": 58,
      "outputs": [
        {
          "output_type": "stream",
          "name": "stdout",
          "text": [
            "훈련 세트 점수:   0.9896101671037343\n",
            "테스트 세트 점수: 0.9790693977615397\n"
          ]
        }
      ]
    },
    {
      "cell_type": "markdown",
      "source": [
        "과대적합이 해결됐습니다. 하지만 더 적절한 점수를 찾는 과정을 거칠 필요가 있습니다. `alpha` 값을 변경하며 $R^2$ 그래프를 그리고, 훈련 세트 그래프와 테스트 세트 그래프가 가장 가까운 지점을 적절한 `alpha` 값으로 취하겠습니다. 먼저 `alpha` 값을 변경하며 $R^2$를 구하겠습니다."
      ],
      "metadata": {
        "id": "8vSnuBZA5q1g"
      }
    },
    {
      "cell_type": "code",
      "metadata": {
        "colab": {
          "base_uri": "https://localhost:8080/"
        },
        "id": "tH6qHm7GdY_U",
        "outputId": "6c5c5b61-0fc2-4792-b5e2-815722df8f16"
      },
      "source": [
        "train_score = []\n",
        "test_score = []\n",
        "\n",
        "# 하이퍼파라미터를 지정합니다.\n",
        "alpha_list = [0.001, 0.01, 0.1, 1, 10, 100]\n",
        "\n",
        "for alpha_value in alpha_list:\n",
        "    ridge = Ridge(alpha = alpha_value)\n",
        "    ridge.fit(train_scaled, train_target)\n",
        "    train_score.append(ridge.score(train_scaled, train_target))\n",
        "    test_score.append(ridge.score(test_scaled, test_target))\n",
        "\n",
        "print(f'훈련 세트 점수:    {train_score}')\n",
        "print(f'테스트 세트 점수:  {test_score}')"
      ],
      "execution_count": 60,
      "outputs": [
        {
          "output_type": "stream",
          "name": "stdout",
          "text": [
            "훈련 세트 점수:    [0.9930455252088191, 0.9917809981250537, 0.9903815817570366, 0.9896101671037343, 0.988728468997471, 0.9841843235774494]\n",
            "테스트 세트 점수:  [0.9569388961556662, 0.9800187936873132, 0.9827976465386927, 0.9790693977615397, 0.9725329582461569, 0.9627042641050291]\n"
          ]
        }
      ]
    },
    {
      "cell_type": "markdown",
      "source": [
        "위에서 찾은 $R^2$를 그래프로 그리겠습니다."
      ],
      "metadata": {
        "id": "rqkP2phy663N"
      }
    },
    {
      "cell_type": "code",
      "metadata": {
        "id": "sCQq2vK4m8IQ",
        "colab": {
          "base_uri": "https://localhost:8080/",
          "height": 279
        },
        "outputId": "ebb23d0e-7643-451b-9973-2a41cfdee607"
      },
      "source": [
        "import matplotlib.pyplot as plt\n",
        "\n",
        "plt.plot(alpha_list, train_score)\n",
        "plt.plot(alpha_list, test_score)\n",
        "plt.xlabel('alpha')\n",
        "plt.ylabel('R^2')\n",
        "\n",
        "plt.show()"
      ],
      "execution_count": 51,
      "outputs": [
        {
          "output_type": "display_data",
          "data": {
            "image/png": "[encoded data removed]",
            "text/plain": [
              "<Figure size 432x288 with 1 Axes>"
            ]
          },
          "metadata": {
            "needs_background": "light"
          }
        }
      ]
    },
    {
      "cell_type": "markdown",
      "source": [
        "`alpha` 값을 0.001부터 10배씩 늘렸으므로 확인해야 할 그래프 왼쪽이 너무 촘촘합니다. `alpha` 값을 동일한 간격으로 나타내기 위해 넘파이의 `log10()` 메서드를 사용하겠습니다. 예컨대 0.001은 -3을 나타내고, 0.01은 -2를 나타내는 식이 됩니다."
      ],
      "metadata": {
        "id": "ndBKwtcy7imp"
      }
    },
    {
      "cell_type": "code",
      "metadata": {
        "colab": {
          "base_uri": "https://localhost:8080/",
          "height": 279
        },
        "id": "Uja7F7V8gVuc",
        "outputId": "90842912-5e81-45d7-f343-609c9790a9e5"
      },
      "source": [
        "plt.plot(np.log10(alpha_list), train_score) \n",
        "plt.plot(np.log10(alpha_list), test_score)\n",
        "plt.xlabel('alpha')\n",
        "plt.ylabel('R^2')\n",
        "\n",
        "plt.show()"
      ],
      "execution_count": 52,
      "outputs": [
        {
          "output_type": "display_data",
          "data": {
            "image/png": "[encoded data removed]",
            "text/plain": [
              "<Figure size 432x288 with 1 Axes>"
            ]
          },
          "metadata": {
            "needs_background": "light"
          }
        }
      ]
    },
    {
      "cell_type": "markdown",
      "source": [
        "-3의 경우는 과대적합을 나타내고, 2의 경우는 과소적합(훈련 세트와 테스트 세트 점수가 전부 낮아짐)을 나타냅니다. 적절한 `alpha` 값은 두 그래프가 가장 가깝고 테스트 세트의 점수가 가장 높은 -1인 $10^-1 = 0.1$입니다.\n",
        "\n",
        "이제 최적의 하이퍼파라미터인 -1로 모델을 훈련하겠습니다."
      ],
      "metadata": {
        "id": "_P-w1PLT8Ksl"
      }
    },
    {
      "cell_type": "code",
      "metadata": {
        "colab": {
          "base_uri": "https://localhost:8080/"
        },
        "id": "uZ6TbMM9i5uZ",
        "outputId": "31e5121a-8677-46ba-e4a5-f257dc2a433f"
      },
      "source": [
        "ridge = Ridge(alpha = 0.1)\n",
        "ridge.fit(train_scaled, train_target)\n",
        "\n",
        "print(f'훈련 세트 점수:   {ridge.score(train_scaled, train_target)}')\n",
        "print(f'테스트 세트 점수: {ridge.score(test_scaled, test_target)}')"
      ],
      "execution_count": 57,
      "outputs": [
        {
          "output_type": "stream",
          "name": "stdout",
          "text": [
            "훈련 세트 점수:   0.9903815817570366\n",
            "테스트 세트 점수: 0.9827976465386927\n"
          ]
        }
      ]
    },
    {
      "cell_type": "markdown",
      "source": [
        "계수는 `_coef` 속성에 저장되어 있습니다."
      ],
      "metadata": {
        "id": "NcaJ4Xu0_9Oz"
      }
    },
    {
      "cell_type": "code",
      "source": [
        "ridge.coef_"
      ],
      "metadata": {
        "colab": {
          "base_uri": "https://localhost:8080/"
        },
        "id": "FEoJzgvK_y_S",
        "outputId": "056d71db-e81c-4fc7-d26f-08e6d5307ed5"
      },
      "execution_count": 55,
      "outputs": [
        {
          "output_type": "execute_result",
          "data": {
            "text/plain": [
              "array([ 27.61933479,  -1.64022156, -19.73256036,  30.0306195 ,\n",
              "        16.99800255,  17.83247301,   4.46928273,   3.87258547,\n",
              "        22.8351822 ,  19.50417483,  17.75985317,  14.53122144,\n",
              "        13.34875736,   7.57294011,  19.2573194 ,   5.12766348,\n",
              "        -2.05671393,  10.62376405,  41.72322888,   5.90722851,\n",
              "        14.93389276,  -0.4506018 ,  19.86035413,   1.27084276,\n",
              "        -1.00708878,  19.69043816,  -1.15817017,  -3.57357468,\n",
              "        11.96629206,  13.68484378,  -8.41738209,  -9.97919956,\n",
              "         8.42421045,  45.51544903,  -6.23828569,  13.36080282,\n",
              "       -17.64759601,  28.23566212,  -6.56619234, -25.89115813,\n",
              "        37.3785331 ,  -0.39779345, -20.82275921, -23.80607786,\n",
              "        39.96650626,   0.10569722, -20.49768851, -21.74712923,\n",
              "        -4.12579289,  35.39224119,  -5.59195   , -25.3889504 ,\n",
              "       -23.93962265,  -1.89229971,  39.44235556])"
            ]
          },
          "metadata": {},
          "execution_count": 55
        }
      ]
    },
    {
      "cell_type": "markdown",
      "metadata": {
        "id": "1U-nRSezjdM5"
      },
      "source": [
        "#### **라쏘 회귀**"
      ]
    },
    {
      "cell_type": "markdown",
      "source": [
        "**라쏘(lasso)**는 계수의 절댓값을 기준으로 규제를 적용한 선형 회귀 모델입니다. 선형 회귀 모델의 계수 크기를 줄이고, 릿지와는 달리 0으로 만들 수도 있습니다. 계수를 0으로 만들어서 유용한 특성을 골라내는 용도로 사용하기도 합니다.\n",
        "\n",
        "참고로 좌표축을 따라 최적화를 수행하는 **좌표 하강법(coordinate descent)**을 사용합니다.\n",
        "\n",
        "`sklearn.linear_model` 패키지에 `Lasso` 클래스가 포함되어 있습니다. `Lasso` 클래스와 `Ridge` 클래스가 가진 매개변수는 아래 매개변수 하나를 제외하면 모두 동일합니다.\n",
        "\n",
        "- `max_iter`: 알고리즘 수행 반복 횟수를 지정하는 매개변수입니다. 기본값은 `1000`입니다.\n",
        "\n",
        "이제 라쏘 모델을 훈련하겠습니다. 사이킷런을 사용하는 방법과 동일하며, 릿지 모델과 같은 방식입니다."
      ],
      "metadata": {
        "id": "kkpskxjz2yrG"
      }
    },
    {
      "cell_type": "code",
      "metadata": {
        "colab": {
          "base_uri": "https://localhost:8080/"
        },
        "id": "-GIHCa6SjcWG",
        "outputId": "1769ead1-5b2b-4be0-a624-076a68367986"
      },
      "source": [
        "from sklearn.linear_model import Lasso\n",
        "\n",
        "lasso = Lasso()\n",
        "lasso.fit(train_scaled, train_target)\n",
        "\n",
        "print(f'훈련 세트 점수:   {lasso.score(train_scaled, train_target)}')\n",
        "print(f'테스트 세트 점수: {lasso.score(test_scaled, test_target)}')"
      ],
      "execution_count": 61,
      "outputs": [
        {
          "output_type": "stream",
          "name": "stdout",
          "text": [
            "훈련 세트 점수:   0.989789897208096\n",
            "테스트 세트 점수: 0.9800593698421883\n"
          ]
        }
      ]
    },
    {
      "cell_type": "markdown",
      "source": [
        "과대적합을 해결했습니다. 더 나은 점수를 찾아보겠습니다."
      ],
      "metadata": {
        "id": "HA6URWXABjVU"
      }
    },
    {
      "cell_type": "code",
      "metadata": {
        "colab": {
          "base_uri": "https://localhost:8080/"
        },
        "id": "xG4-gXECzrjj",
        "outputId": "2b860a16-8657-48bb-b93a-09e384e9a544"
      },
      "source": [
        "train_score = []\n",
        "test_score = []\n",
        "\n",
        "alpha_list = [0.001, 0.01, 0.1, 1, 10, 100]\n",
        "\n",
        "for alpha_value in alpha_list :\n",
        "    lasso = Lasso(alpha = alpha_value, max_iter = 10000)\n",
        "    lasso.fit(train_scaled, train_target)\n",
        "\n",
        "    train_score.append(lasso.score(train_scaled, train_target))\n",
        "    test_score.append(lasso.score(test_scaled, test_target))\n",
        "\n",
        "print(train_score)\n",
        "print(test_score)"
      ],
      "execution_count": 62,
      "outputs": [
        {
          "output_type": "stream",
          "name": "stdout",
          "text": [
            "[0.9924957354689654, 0.9922988130765112, 0.9902080238600284, 0.9898116789062786, 0.9887624603020236, 0.9078618674946646]\n",
            "[0.9731817502723494, 0.9761545611184548, 0.9824382983968606, 0.9801844137326112, 0.9830309645308443, 0.9090772073024512]\n"
          ]
        },
        {
          "output_type": "stream",
          "name": "stderr",
          "text": [
            "/usr/local/lib/python3.7/dist-packages/sklearn/linear_model/_coordinate_descent.py:648: ConvergenceWarning: Objective did not converge. You might want to increase the number of iterations, check the scale of the features or consider increasing regularisation. Duality gap: 1.878e+04, tolerance: 5.183e+02\n",
            "  coef_, l1_reg, l2_reg, X, y, max_iter, tol, rng, random, positive\n",
            "/usr/local/lib/python3.7/dist-packages/sklearn/linear_model/_coordinate_descent.py:648: ConvergenceWarning: Objective did not converge. You might want to increase the number of iterations, check the scale of the features or consider increasing regularisation. Duality gap: 1.297e+04, tolerance: 5.183e+02\n",
            "  coef_, l1_reg, l2_reg, X, y, max_iter, tol, rng, random, positive\n"
          ]
        }
      ]
    },
    {
      "cell_type": "markdown",
      "source": [
        "`ConvergenceWarning`이라는 경고가 발생했습니다. 라쏘 모델은 최적의 계수를 찾기 위해 반복적인 계산을 수행하는데, 지정한 반복 횟수가 부족할 때 이 경고가 발생합니다. 반복 횟수를 늘리고자 `max_iter` 매개변수의 값을 10000으로 지정했지만 여전히 반복 횟수가 부족합니다. 필요하다면 더 값을 더 늘릴 수 있습니다.\n",
        "\n",
        "도출한 점수를 토대로 그래프를 그리겠습니다. 여기에서도 릿지처럼 x축을 로그 스케일로 변환하여 그리겠습니다."
      ],
      "metadata": {
        "id": "RZZBOsj1BtG8"
      }
    },
    {
      "cell_type": "code",
      "metadata": {
        "colab": {
          "base_uri": "https://localhost:8080/",
          "height": 279
        },
        "id": "yBz8GPT51m5t",
        "outputId": "edfb00f6-53b7-4139-d07d-76ced391346c"
      },
      "source": [
        "plt.plot(np.log10(alpha_list), train_score)\n",
        "plt.plot(np.log10(alpha_list), test_score)\n",
        "plt.xlabel('alpha')\n",
        "plt.ylabel('R^2')\n",
        "\n",
        "plt.show()"
      ],
      "execution_count": null,
      "outputs": [
        {
          "output_type": "display_data",
          "data": {
            "image/png": "[encoded data removed]",
            "text/plain": [
              "<Figure size 432x288 with 1 Axes>"
            ]
          },
          "metadata": {
            "tags": [],
            "needs_background": "light"
          }
        }
      ]
    },
    {
      "cell_type": "markdown",
      "source": [
        "-3의 경우는 과대적합, 2의 경우는 과소적합입니다. 최적의 `alpha` 값은 1, 즉 $10^1 = 10$입니다."
      ],
      "metadata": {
        "id": "lBDlSQTsCoAo"
      }
    },
    {
      "cell_type": "code",
      "metadata": {
        "colab": {
          "base_uri": "https://localhost:8080/"
        },
        "id": "7yAHhY-Z2WmI",
        "outputId": "dc551f1c-c8b4-4758-a94a-9751d28826d0"
      },
      "source": [
        "lasso = Lasso(alpha=10)\n",
        "lasso.fit(train_scaled, train_target)\n",
        "\n",
        "print(f'훈련 세트 점수:   {lasso.score(train_scaled, train_target)}')\n",
        "print(f'테스트 세트 점수: {lasso.score(test_scaled, test_target)}')"
      ],
      "execution_count": 63,
      "outputs": [
        {
          "output_type": "stream",
          "name": "stdout",
          "text": [
            "훈련 세트 점수:   0.9888067471131867\n",
            "테스트 세트 점수: 0.9824470598706695\n"
          ]
        }
      ]
    },
    {
      "cell_type": "markdown",
      "source": [
        "라쏘 모델의 계수는 `coef_` 속성에 저장되어 있습니다. 참고로 라쏘 모델은 계수를 0으로 만들어서 유용한 특성을 골라내는 용도로 사용할 수 있습니다."
      ],
      "metadata": {
        "id": "4321i1IBDjbH"
      }
    },
    {
      "cell_type": "code",
      "metadata": {
        "colab": {
          "base_uri": "https://localhost:8080/"
        },
        "id": "dy7bTgPC3mIc",
        "outputId": "9d6632ae-f716-48a5-e8f5-c050f1674494"
      },
      "source": [
        "print(lasso.coef_ == 0)\n",
        "print(np.sum(lasso.coef_ == 0))"
      ],
      "execution_count": 64,
      "outputs": [
        {
          "output_type": "stream",
          "name": "stdout",
          "text": [
            "[ True  True  True False False False  True  True False  True False False\n",
            " False False False  True  True False False  True  True  True  True  True\n",
            "  True False  True  True  True False  True  True  True  True  True  True\n",
            "  True  True  True  True  True  True  True  True False  True  True  True\n",
            "  True False  True  True  True  True  True]\n",
            "40\n"
          ]
        }
      ]
    },
    {
      "cell_type": "markdown",
      "source": [
        "`True`는 0을 의미합니다. 계수 0의 합계는 40개입니다. 라쏘 모델이 사용한 특성은 55개 중에 15개뿐입니다. 특성 40개를 계수 0으로 만들어 버렸기 때문입니다. 유용한 특성은 15개라는 의미로도 볼 수 있습니다."
      ],
      "metadata": {
        "id": "uTOeRe9HD7qH"
      }
    }
  ]
}